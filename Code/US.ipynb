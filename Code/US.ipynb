{
 "cells": [
  {
   "cell_type": "markdown",
   "metadata": {},
   "source": [
    "# Random Walks en Multiplex de Aerolíneas\n",
    "\n",
    "## Directorio"
   ]
  },
  {
   "cell_type": "code",
   "execution_count": 1,
   "metadata": {},
   "outputs": [],
   "source": [
    "#Establecer directorio\n",
    "cd(\"$(homedir())/Documents/UNAM/Tesis_Lic\")"
   ]
  },
  {
   "cell_type": "markdown",
   "metadata": {},
   "source": [
    "## Paquetes\n",
    "\n",
    "Se importan todos los paquetes que se necesitarán para las funciones y visualizaciones del proyecto."
   ]
  },
  {
   "cell_type": "code",
   "execution_count": 2,
   "metadata": {},
   "outputs": [],
   "source": [
    "using StatsBase\n",
    "\n",
    "#using NamedArrays\n",
    "#using CSV\n",
    "#using DataFrames"
   ]
  },
  {
   "cell_type": "code",
   "execution_count": 3,
   "metadata": {},
   "outputs": [],
   "source": [
    "using DelimitedFiles"
   ]
  },
  {
   "cell_type": "code",
   "execution_count": 4,
   "metadata": {},
   "outputs": [],
   "source": [
    "using RandomNumbers.Xorshifts"
   ]
  },
  {
   "cell_type": "code",
   "execution_count": null,
   "metadata": {},
   "outputs": [],
   "source": [
    "#using LightGraphs"
   ]
  },
  {
   "cell_type": "code",
   "execution_count": null,
   "metadata": {},
   "outputs": [],
   "source": [
    "#using Plots"
   ]
  },
  {
   "cell_type": "code",
   "execution_count": null,
   "metadata": {},
   "outputs": [],
   "source": [
    "#using GraphPlot"
   ]
  },
  {
   "cell_type": "code",
   "execution_count": null,
   "metadata": {
    "scrolled": true
   },
   "outputs": [],
   "source": [
    "#Leo archivo de diccionario final\n",
    "#archivo_dicc = readdlm(\"/Users/yuriko/Documents/UNAM/Tesis_Lic/data/diccionarios/dictionary_final.csv\", ',') "
   ]
  },
  {
   "cell_type": "markdown",
   "metadata": {},
   "source": [
    "## Funciones\n",
    "\n",
    "### Importar datos"
   ]
  },
  {
   "cell_type": "code",
   "execution_count": 5,
   "metadata": {},
   "outputs": [
    {
     "data": {
      "text/plain": [
       "526-element Array{String,1}:\n",
       " \"Airlines\"     \n",
       " \"global\"       \n",
       " \"Star_Alliance\"\n",
       " \"Sky_Team\"     \n",
       " \"oneworld\"     \n",
       " \"AA\"           \n",
       " \"TK\"           \n",
       " \"DL\"           \n",
       " \"MU\"           \n",
       " \"CZ\"           \n",
       " \"UA\"           \n",
       " \"FR\"           \n",
       " \"BA\"           \n",
       " ⋮              \n",
       " \"H7\"           \n",
       " \"GY\"           \n",
       " \"EW\"           \n",
       " \"D6\"           \n",
       " \"7E\"           \n",
       " \"6Y\"           \n",
       " \"6I\"           \n",
       " \"5M\"           \n",
       " \"5G\"           \n",
       " \"4K\"           \n",
       " \"4D\"           \n",
       " \"4B\"           "
      ]
     },
     "execution_count": 5,
     "metadata": {},
     "output_type": "execute_result"
    }
   ],
   "source": [
    "info_aerolineas = readdlm(\"/Users/yuriko/Documents/UNAM/Tesis_Lic/data/aerolineas_matrices/nueva_lista_aerolineas.csv\", ',', String)\n",
    "lista_aerolineas = info_aerolineas[:, 2]"
   ]
  },
  {
   "cell_type": "code",
   "execution_count": 6,
   "metadata": {
    "scrolled": true
   },
   "outputs": [
    {
     "data": {
      "text/plain": [
       "\"EW\""
      ]
     },
     "execution_count": 6,
     "metadata": {},
     "output_type": "execute_result"
    }
   ],
   "source": [
    "i = 517\n",
    "airline_code = lista_aerolineas[i]"
   ]
  },
  {
   "cell_type": "code",
   "execution_count": 7,
   "metadata": {},
   "outputs": [
    {
     "data": {
      "text/plain": [
       "\"EW_matriz_du.csv\""
      ]
     },
     "execution_count": 7,
     "metadata": {},
     "output_type": "execute_result"
    }
   ],
   "source": [
    "aerolinea_matriz = string(airline_code, \"_matriz_du.csv\")"
   ]
  },
  {
   "cell_type": "code",
   "execution_count": 8,
   "metadata": {},
   "outputs": [
    {
     "data": {
      "text/plain": [
       "3073×527 Array{Any,2}:\n",
       "     \"\"  \"global_airports\"      \"global_num\"  …  \"4K_num\"  \"4D_num\"  \"4B_num\"\n",
       "    1    \"AER\"                 1                 \"NA\"      \"NA\"      \"NA\"    \n",
       "    2    \"ASF\"                 2                 \"NA\"      \"NA\"      \"NA\"    \n",
       "    3    \"CEK\"                 3                 \"NA\"      \"NA\"      \"NA\"    \n",
       "    4    \"DME\"                 4                 \"NA\"      \"NA\"      \"NA\"    \n",
       "    5    \"EGO\"                 5              …  \"NA\"      \"NA\"      \"NA\"    \n",
       "    6    \"GYD\"                 6                 \"NA\"      \"NA\"      \"NA\"    \n",
       "    7    \"KGD\"                 7                 \"NA\"      \"NA\"      \"NA\"    \n",
       "    8    \"KZN\"                 8                 \"NA\"      \"NA\"      \"NA\"    \n",
       "    9    \"LED\"                 9                 \"NA\"      \"NA\"      \"NA\"    \n",
       "   10    \"MRV\"                10              …  \"NA\"      \"NA\"      \"NA\"    \n",
       "   11    \"NBC\"                11                 \"NA\"      \"NA\"      \"NA\"    \n",
       "   12    \"NJC\"                12                 \"NA\"      \"NA\"      \"NA\"    \n",
       "    ⋮                                         ⋱            ⋮                 \n",
       " 3061    \"KZI\"              3061                 \"NA\"      \"NA\"      \"NA\"    \n",
       " 3062    \"KOT\"              3062                 \"NA\"      \"NA\"      \"NA\"    \n",
       " 3063    \"PSJ\"              3063                 \"NA\"      \"NA\"      \"NA\"    \n",
       " 3064    \"LPS\"              3064                 \"NA\"      \"NA\"      \"NA\"    \n",
       " 3065    \"ORX\"              3065              …  \"NA\"      \"NA\"      \"NA\"    \n",
       " 3066    \"BVS\"              3066                 \"NA\"      \"NA\"      \"NA\"    \n",
       " 3067    \"MTE\"              3067                 \"NA\"      \"NA\"      \"NA\"    \n",
       " 3068    \"DLZ\"              3068                 \"NA\"      \"NA\"      \"NA\"    \n",
       " 3069    \"UII\"              3069                 \"NA\"      \"NA\"      \"NA\"    \n",
       " 3070    \"ZBF\"              3070              …  \"NA\"      \"NA\"      \"NA\"    \n",
       " 3071    \"CMP\"              3071                 \"NA\"      \"NA\"      \"NA\"    \n",
       " 3072    \"BSS\"              3072                 \"NA\"      \"NA\"      \"NA\"    "
      ]
     },
     "execution_count": 8,
     "metadata": {},
     "output_type": "execute_result"
    }
   ],
   "source": [
    "archivo_dicc = readdlm(\"/Users/yuriko/Documents/UNAM/Tesis_Lic/data/diccionarios/dictionary_final.csv\", ',')"
   ]
  },
  {
   "cell_type": "code",
   "execution_count": 9,
   "metadata": {},
   "outputs": [
    {
     "data": {
      "text/plain": [
       "import_matrix"
      ]
     },
     "execution_count": 9,
     "metadata": {},
     "output_type": "execute_result"
    }
   ],
   "source": [
    "\"\"\"\n",
    "    import_matrix(arch::AbstractString)\n",
    "\n",
    "Función que importa el archivo de la matriz de adyacencia de R.\n",
    "\"\"\"\n",
    "function import_matrix(arch::AbstractString)\n",
    "    archivo_R = readdlm(arch, ',') \n",
    "    archivo_R = archivo_R[2:end, :]\n",
    "    matriz = archivo_R[:, 2:end]\n",
    "    nombre = convert(Array{Int64,2}, matriz)\n",
    "    return nombre\n",
    "end"
   ]
  },
  {
   "cell_type": "code",
   "execution_count": 10,
   "metadata": {},
   "outputs": [
    {
     "name": "stdout",
     "output_type": "stream",
     "text": [
      "  0.263374 seconds (389.99 k allocations: 18.982 MiB)\n"
     ]
    },
    {
     "data": {
      "text/plain": [
       "2×2 Array{Int64,2}:\n",
       " 0  1\n",
       " 0  0"
      ]
     },
     "execution_count": 10,
     "metadata": {},
     "output_type": "execute_result"
    }
   ],
   "source": [
    "multiplex = @time import_matrix(\"/Users/yuriko/Documents/UNAM/Tesis_Lic/data/aerolineas_matrices/$aerolinea_matriz\")"
   ]
  },
  {
   "cell_type": "markdown",
   "metadata": {},
   "source": [
    "### Nombres de datos"
   ]
  },
  {
   "cell_type": "code",
   "execution_count": 11,
   "metadata": {},
   "outputs": [
    {
     "data": {
      "text/plain": [
       "airport_names"
      ]
     },
     "execution_count": 11,
     "metadata": {},
     "output_type": "execute_result"
    }
   ],
   "source": [
    "\"\"\"\n",
    "    airport_names(arch::AbstractString)\n",
    "\n",
    "Función que obtiene un arreglo con los nombres de aeropuertos de la matriz\n",
    "\"\"\"\n",
    "function airport_names(arch::AbstractString)\n",
    "    archivo_R = readdlm(arch, ',', String)\n",
    "    columna = archivo_R[1, :]\n",
    "    nombres = columna[2:end]\n",
    "    return nombres\n",
    "end"
   ]
  },
  {
   "cell_type": "code",
   "execution_count": 12,
   "metadata": {},
   "outputs": [
    {
     "name": "stdout",
     "output_type": "stream",
     "text": [
      "  0.129349 seconds (413.05 k allocations: 20.391 MiB)\n"
     ]
    },
    {
     "data": {
      "text/plain": [
       "2-element Array{String,1}:\n",
       " \"HAM\"\n",
       " \"AMS\""
      ]
     },
     "execution_count": 12,
     "metadata": {},
     "output_type": "execute_result"
    }
   ],
   "source": [
    "data_names_multiplex = @time airport_names(\"/Users/yuriko/Documents/UNAM/Tesis_Lic/data/aerolineas_matrices/$aerolinea_matriz\")"
   ]
  },
  {
   "cell_type": "code",
   "execution_count": null,
   "metadata": {},
   "outputs": [],
   "source": [
    "#data_names_multiplex[65]"
   ]
  },
  {
   "cell_type": "markdown",
   "metadata": {},
   "source": [
    "### Grado"
   ]
  },
  {
   "cell_type": "markdown",
   "metadata": {},
   "source": [
    "### Vecinos"
   ]
  },
  {
   "cell_type": "code",
   "execution_count": 13,
   "metadata": {},
   "outputs": [
    {
     "data": {
      "text/plain": [
       "neighbours"
      ]
     },
     "execution_count": 13,
     "metadata": {},
     "output_type": "execute_result"
    }
   ],
   "source": [
    "\"\"\"\n",
    "    neighbours(M::Array{Int64,2})\n",
    "\n",
    "Función que obtiene un conjunto de arreglos con los vecinos de cada nodo.\n",
    "\"\"\"\n",
    "function neighbours(M::Array{Int64,2})\n",
    "    \n",
    "    nodos = size(M, 1) #aeropuertos\n",
    "    vecindades = []\n",
    "    \n",
    "    for i in 1:nodos\n",
    "        vecinos = findall(x -> x != 0, M[i, :])\n",
    "        push!(vecindades, vecinos)\n",
    "    end\n",
    "    vecindades\n",
    "end"
   ]
  },
  {
   "cell_type": "code",
   "execution_count": 14,
   "metadata": {},
   "outputs": [
    {
     "name": "stdout",
     "output_type": "stream",
     "text": [
      "  0.083112 seconds (204.37 k allocations: 9.820 MiB)\n"
     ]
    }
   ],
   "source": [
    "neighbors_multiplex = @time neighbours(multiplex);"
   ]
  },
  {
   "cell_type": "markdown",
   "metadata": {},
   "source": [
    "### Random walks"
   ]
  },
  {
   "cell_type": "code",
   "execution_count": 15,
   "metadata": {},
   "outputs": [
    {
     "data": {
      "text/plain": [
       "r_walks"
      ]
     },
     "execution_count": 15,
     "metadata": {},
     "output_type": "execute_result"
    }
   ],
   "source": [
    "\"\"\"\n",
    "\n",
    "    r_walks(M::Array{Int64,2}, f::Int64, steps::Int64, iter::Int64)\n",
    "\n",
    "La función r_walks tiene como parámetros:\n",
    "M, matriz de adyacencia de tipo Array{Int64,2}\n",
    "f, nodo inicial de tipo Int64\n",
    "steps, número de pasos de tipo Int64\n",
    "iter, número de iteraciones de tipo Int64.\n",
    "La función crea un caminante aleatorio sobre la matriz, el cual tiene igual probabilidad de avanzar \n",
    "hacia cualquiera de sus vecinos.\n",
    "Regresa un arreglo que contiene todas las trayectorias que tomó el caminante aleatorio.\n",
    "\"\"\"\n",
    "function r_walks(M::Array{Int64,2}, f::Int64, steps::Int64, iter::Int64)\n",
    "    \n",
    "    paths = zeros(Int64, (iter, steps + 1))\n",
    "    s = f\n",
    "    seed = 1\n",
    "    vecindades = neighbours(M)\n",
    "\n",
    "    for i in 1:iter\n",
    "        paths[i, 1] = f\n",
    "        \n",
    "        for p in 1:steps \n",
    "            vecindad = vecindades[s]\n",
    "            \n",
    "            if vecindad == []\n",
    "                break\n",
    "            else\n",
    "                a = sample(Xoroshiro128Plus(seed), vecindad) \n",
    "                paths[i, p + 1] = a\n",
    "                s = a\n",
    "                seed += 1\n",
    "            end\n",
    "            \n",
    "        end\n",
    "        s = f\n",
    "        \n",
    "    end\n",
    "    \n",
    "    return paths \n",
    "end"
   ]
  },
  {
   "cell_type": "code",
   "execution_count": 16,
   "metadata": {},
   "outputs": [
    {
     "data": {
      "text/plain": [
       "random_walk"
      ]
     },
     "execution_count": 16,
     "metadata": {},
     "output_type": "execute_result"
    }
   ],
   "source": [
    "\"\"\"\n",
    "\n",
    "    random_walk(M::Array{Int64,2}, steps::Int64, iter::Int64)\n",
    "\n",
    "La función random_walk tiene como parámetros:\n",
    "M, matriz de adyacencia de tipo Array{Int64,2}\n",
    "steps, número de pasos de tipo Int64\n",
    "iter, número de iteraciones de tipo Int64.\n",
    "La función crea un caminante aleatorio sobre la matriz con igual probabilidad de avanzar \n",
    "hacia cualquiera de sus vecinos. Esta función recorre todos los nodos de la red como\n",
    "nodos iniciales y sobre ellos itera para obtener el número de caminos que se le pidió.\n",
    "Regresa un arreglo que contiene arreglos asociados a todas las trayectorias que tomó el \n",
    "caminante aleatorio para cada nodo inicial de la red.\n",
    "\"\"\"\n",
    "function random_walk(M::Array{Int64,2}, steps::Int64, iter::Int64) \n",
    "    \n",
    "    random_walks = []\n",
    "    nodos = size(M, 1)\n",
    "    \n",
    "    for f in 1:nodos #aeropuertos\n",
    "        paths = r_walks(M, f, steps, iter)\n",
    "        push!(random_walks, paths)\n",
    "    end\n",
    "    \n",
    "    random_walks\n",
    "end"
   ]
  },
  {
   "cell_type": "code",
   "execution_count": 17,
   "metadata": {},
   "outputs": [
    {
     "name": "stdout",
     "output_type": "stream",
     "text": [
      "  0.472936 seconds (444.51 k allocations: 22.707 MiB)\n"
     ]
    },
    {
     "data": {
      "text/plain": [
       "2-element Array{Any,1}:\n",
       " [1 2 … 0 0; 1 2 … 0 0]\n",
       " [2 0 … 0 0; 2 0 … 0 0]"
      ]
     },
     "execution_count": 17,
     "metadata": {},
     "output_type": "execute_result"
    }
   ],
   "source": [
    "random_walk_multiplex = @time random_walk(multiplex, 50, 2)"
   ]
  },
  {
   "cell_type": "code",
   "execution_count": 28,
   "metadata": {},
   "outputs": [
    {
     "data": {
      "text/plain": [
       "2×51 Array{Int64,2}:\n",
       " 2  0  0  0  0  0  0  0  0  0  0  0  0  …  0  0  0  0  0  0  0  0  0  0  0  0\n",
       " 2  0  0  0  0  0  0  0  0  0  0  0  0     0  0  0  0  0  0  0  0  0  0  0  0"
      ]
     },
     "execution_count": 28,
     "metadata": {},
     "output_type": "execute_result"
    }
   ],
   "source": [
    "random_walk_multiplex[2]"
   ]
  },
  {
   "cell_type": "markdown",
   "metadata": {},
   "source": [
    "### Nodos/aeropuertos visitados"
   ]
  },
  {
   "cell_type": "code",
   "execution_count": 19,
   "metadata": {},
   "outputs": [
    {
     "data": {
      "text/plain": [
       "visited_vertices"
      ]
     },
     "execution_count": 19,
     "metadata": {},
     "output_type": "execute_result"
    }
   ],
   "source": [
    "\"\"\"\n",
    "    visited_vertices(W::Array{Any,1})\n",
    "\n",
    "La función caminos tiene como parámetro W que es un arreglo de arreglos.\n",
    "Regresa los nodos diferentes a los que llega el caminante.\n",
    "\"\"\"\n",
    "function visited_vertices(W::Array{Any,1})\n",
    "    \n",
    "    cobert = Array[]\n",
    "    v = length(W) #tamaño de la matriz, número de nodos\n",
    "    s = size(W[1], 1) #lo puedo sacar, para todos es el mismo. Es el número de iteraciones\n",
    "    t = size(W[1], 2) #número de pasos, no necesario\n",
    "    #visit = zeros(Int64, s) #Arreglo de ceros de tamaño número de iteraciones\n",
    "    visit = Array[]\n",
    "    \n",
    "    for i in 1:v        \n",
    "        for j in 1:s\n",
    "            u = unique(W[i][j, :])\n",
    "            push!(visit, u)\n",
    "        end\n",
    "        \n",
    "        push!(cobert, visit)\n",
    "        visit = []\n",
    "    end\n",
    "    \n",
    "    return cobert\n",
    "end"
   ]
  },
  {
   "cell_type": "code",
   "execution_count": 29,
   "metadata": {
    "scrolled": true
   },
   "outputs": [
    {
     "data": {
      "text/plain": [
       "2-element Array{Array,1}:\n",
       " Array[[1, 2, 0], [1, 2, 0]]\n",
       " Any[[2, 0], [2, 0]]        "
      ]
     },
     "execution_count": 29,
     "metadata": {},
     "output_type": "execute_result"
    }
   ],
   "source": [
    "visitados = visited_vertices(random_walk_multiplex)"
   ]
  },
  {
   "cell_type": "code",
   "execution_count": 35,
   "metadata": {},
   "outputs": [
    {
     "data": {
      "text/plain": [
       "(Array{Int64,1}[[1, 2, 3], [1, 2, 3]], Array{Int64,1}[[2, 0], [2, 1]])"
      ]
     },
     "execution_count": 35,
     "metadata": {},
     "output_type": "execute_result"
    }
   ],
   "source": [
    "visitados =[[1,2,3],[1,2,3]],[[2,0], [2,1]]"
   ]
  },
  {
   "cell_type": "code",
   "execution_count": 30,
   "metadata": {},
   "outputs": [
    {
     "data": {
      "text/plain": [
       "coverage"
      ]
     },
     "execution_count": 30,
     "metadata": {},
     "output_type": "execute_result"
    }
   ],
   "source": [
    "\"\"\"\n",
    "    coverage(W::Array{Any,1})\n",
    "\n",
    "La función cobertura tiene como parámetro W que es un arreglo de arreglos.\n",
    "Regresa el número de nodos diferentes a los que llega el caminante.\n",
    "\"\"\"\n",
    "function coverage(W::Array{Any,1})\n",
    "\n",
    "    cobert = []\n",
    "\n",
    "    v = length(W) #tamaño de la matriz, número de nodos\n",
    "    x = visited_vertices(W)\n",
    "    s = size(x[1], 1) #lo puedo sacar, para todos es el mismo. Es el número de iteraciones\n",
    "    longz = zeros(Int64, s) #Arreglo de ceros de tamaño número de iteraciones\n",
    "\n",
    "    for i in 1:v #va por los nodos\n",
    "        for j in 1:s #por las iteraciones\n",
    "            a = x[i][j]\n",
    "            deleteat!(a, findall(k->k==0, a))\n",
    "            l = length(a) #\n",
    "            longz[j] = l\n",
    "            \n",
    "        end\n",
    "\n",
    "        push!(cobert, longz)\n",
    "        longz = zeros(Int64, s)\n",
    "    end\n",
    "\n",
    "    return cobert\n",
    "end\n"
   ]
  },
  {
   "cell_type": "code",
   "execution_count": 31,
   "metadata": {},
   "outputs": [
    {
     "data": {
      "text/plain": [
       "2-element Array{Any,1}:\n",
       " [2, 2]\n",
       " [1, 1]"
      ]
     },
     "execution_count": 31,
     "metadata": {},
     "output_type": "execute_result"
    }
   ],
   "source": [
    "coverage(random_walk_multiplex)"
   ]
  },
  {
   "cell_type": "code",
   "execution_count": 23,
   "metadata": {},
   "outputs": [
    {
     "data": {
      "text/plain": [
       "vertex_coverage"
      ]
     },
     "execution_count": 23,
     "metadata": {},
     "output_type": "execute_result"
    }
   ],
   "source": [
    "\"\"\"\n",
    "    vertex_coverage(W::Array{Any,1})\n",
    "\n",
    "Da el promedio de cobertura la caminata por nodo inicial.\n",
    "\"\"\"\n",
    "function vertex_coverage(W::Array{Any,1}) #Esta es la importante\n",
    "\n",
    "    longitud = Array{Float64}(undef, 0)\n",
    "    x = coverage(W)\n",
    "\n",
    "    for i in 1:length(x)\n",
    "        l = mean(x[i])\n",
    "        push!(longitud, l)\n",
    "    end\n",
    "\n",
    "    longitud\n",
    "end\n"
   ]
  },
  {
   "cell_type": "code",
   "execution_count": 26,
   "metadata": {},
   "outputs": [
    {
     "data": {
      "text/plain": [
       "2-element Array{Float64,1}:\n",
       " 3.0\n",
       " 2.0"
      ]
     },
     "execution_count": 26,
     "metadata": {},
     "output_type": "execute_result"
    }
   ],
   "source": [
    "vertex_coverage(random_walk_multiplex)"
   ]
  },
  {
   "cell_type": "code",
   "execution_count": 24,
   "metadata": {},
   "outputs": [
    {
     "data": {
      "text/plain": [
       "layer_coverage"
      ]
     },
     "execution_count": 24,
     "metadata": {},
     "output_type": "execute_result"
    }
   ],
   "source": [
    "\"\"\"\n",
    "    layer_coverage(W::Array{Any, 1})\n",
    "\n",
    "Da el promedio de la longitud de las caminatas para todos los nodos, como un número.\n",
    "\"\"\"\n",
    "function layer_coverage(W::Array{Any, 1})\n",
    "    x = vertex_coverage(W)\n",
    "    promedio = mean(x)\n",
    "    return promedio\n",
    "end\n"
   ]
  },
  {
   "cell_type": "code",
   "execution_count": 27,
   "metadata": {},
   "outputs": [
    {
     "data": {
      "text/plain": [
       "2.5"
      ]
     },
     "execution_count": 27,
     "metadata": {},
     "output_type": "execute_result"
    }
   ],
   "source": [
    "layer_coverage(random_walk_multiplex)"
   ]
  },
  {
   "cell_type": "markdown",
   "metadata": {},
   "source": [
    "### Random walks con nodos globales"
   ]
  },
  {
   "cell_type": "code",
   "execution_count": null,
   "metadata": {},
   "outputs": [],
   "source": [
    "\"\"\"\n",
    "    walk_global(W::Array{Any,1}, airline_code::String, v::Int64)\n",
    "\n",
    "Función que cambia las caminatas del número de nodo asociado a la aerolínea a número de nodo GLOBAL de aeropuertos.\n",
    "Parámetros:\n",
    "W = caminatas aleatorias (arreglo de matrices)\n",
    "airline_code = código de la aerolínea\n",
    "v = nodo inicial\n",
    "\"\"\"\n",
    "function walk_global(W::Array{Any,1}, airline_code::String, v::Int64)\n",
    "    \n",
    "    #Ahora se usa la función para obtener los nodos diferentes\n",
    "    nodos_diferentes = visited_vertices(W)\n",
    "    \n",
    "    #vv2b[1][1,:] #Nodos únicos visitados en la iteración 1 con nodo inicial 1 #Leo los visited vertices del archivo\n",
    "    m = size(W[1], 1) #renglones/iteraciones\n",
    "    #@show m\n",
    "    n = size(W[1], 2) #columnas/pasos+1/nodos\n",
    "    #@show n\n",
    "    l = length(W) #número de nodos iniciales\n",
    "    #@show l\n",
    "    \n",
    "    #Se lee el diccionario\n",
    "     #archivo_dicc\n",
    "    #@show archivo_dicc\n",
    "    aerol_col = string(airline_code, \"_num\") #Nombre de la columna\n",
    "    #@show aerol_col\n",
    "    coord_aerol = findall(x -> x == aerol_col, archivo_dicc) #Busco las coordenadas de la columna\n",
    "    #@show coord_aerol\n",
    "    col_aerol = coord_aerol[1][2] #Segunda coordenada de la posición (columna)\n",
    "    columna_aerol = archivo_dicc[:, col_aerol] #Obtengo la columna con el nombre del aeropuerto al que corresponde\n",
    "    #@show columna_aerol\n",
    "    walk_empty = zeros(Int64, m, n)#Arreglo vacío para nuevos números\n",
    "        #@show walk_empty\n",
    "    \n",
    "    for k = v #1:l #nodo inicial v\n",
    "        #@show k\n",
    "        arreglo_visitas = nodos_diferentes[k]\n",
    "        #@show arreglo_visitas\n",
    "        caminatas_nodo = W[k] #caminata y sus iteraciones con el mismo nodo inicial\n",
    "        #@show caminatas_nodo\n",
    "        \n",
    "        \n",
    "        for i in 1:m #voy por las iteraciones\n",
    "            #@show i\n",
    "            nodos_dif = arreglo_visitas[i, :] #array/caminata única de los nodos que buscará\n",
    "            #@show nodos_dif\n",
    "            \n",
    "            for j in 1:length(nodos_dif[]) #vamos por los nodos diferentes por los que pasé\n",
    "                #@show j\n",
    "                \n",
    "                nodo_original = nodos_dif[][j] #index original de la aerolínea\n",
    "                #@show nodo_original\n",
    "                \n",
    "                #Busco la posición original del aeropuerto que se asignará\n",
    "               # if \n",
    "                posicion_original = findall(x -> x == nodo_original, archivo_dicc[:, col_aerol]) \n",
    "                #Este arreglo tendrá la coordenada de la posición del nodo inicial, sin embargo, si llegué a un endpoint, \n",
    "                #buscará la coordenada de la posición del nodo 0 y te regresará un un arreglo vacío.\n",
    "                #@show posicion_original\n",
    "                coords_ys = findall(x -> x == nodo_original, caminatas_nodo[i, :]) #Encuentra uno de los nodos dif en la iteración\n",
    "                        #@show coords_ys\n",
    "                \n",
    "                #Se busca el nombre del aeropuerto\n",
    "                \n",
    "                for q in 1:length(coords_ys) #Se itera sobre las posiciones en las caminatas\n",
    "                        #@show length(coords_ys)\n",
    "                        #@show q\n",
    "                        \n",
    "                        pos_actual = coords_ys[q]\n",
    "                \n",
    "                        if isempty(posicion_original) == false\n",
    "                    \n",
    "                            numero_asignado = archivo_dicc[posicion_original, 3]\n",
    "                            #@show numero_asignado\n",
    "                            #Busco el primer nodo diferente en la iteración i\n",
    "                            \n",
    "                            \n",
    "                            walk_empty[i, pos_actual] = numero_asignado[] #asigno valor de diccionario al arreglo vacío i, pos_actual\n",
    "                            #@show walk_empty\n",
    "                    \n",
    "                \n",
    "                \n",
    "                        else break\n",
    "                    end\n",
    "                \n",
    "                end\n",
    "                \n",
    "            end\n",
    "            #@show walk_empty\n",
    "\n",
    "        end\n",
    "        #@show walk_empty\n",
    "        \n",
    "        \n",
    "    end\n",
    "    \n",
    "    return walk_empty\n",
    "   \n",
    "end"
   ]
  },
  {
   "cell_type": "code",
   "execution_count": null,
   "metadata": {},
   "outputs": [],
   "source": [
    "for v = 1\n",
    "    walk_global_multiplex = @time walk_global(random_walk_multiplex, airline_code, v)\n",
    "    return walk_global_multiplex\n",
    "end"
   ]
  },
  {
   "cell_type": "code",
   "execution_count": null,
   "metadata": {},
   "outputs": [],
   "source": [
    "function walks_global(W::Array{Any,1}, airline_code::String)\n",
    "    \n",
    "    t = length(W)\n",
    "    #@show t\n",
    "    \n",
    "    arreglo = Array[]\n",
    "    \n",
    "    for v in 267:t\n",
    "        #@show v\n",
    "        #archivo_caminata_global = string(airline_code, \"_\", v,\"_walk_global.csv\")\n",
    "        #@show archivo_caminata_global\n",
    "        \n",
    "        walk_global_multiplex = walk_global(W, airline_code, v)\n",
    "        #return walk_global_multiplex\n",
    "        push!(arreglo, walk_global_multiplex)\n",
    "        #writedlm(\"/Users/Yuriko/Desktop/carpetita/$archivo_caminata_global\", walk_global_multiplex, ',')\n",
    "    end\n",
    "    return arreglo\n",
    "end"
   ]
  },
  {
   "cell_type": "code",
   "execution_count": null,
   "metadata": {
    "scrolled": false
   },
   "outputs": [],
   "source": [
    "#walks_global(random_walk_multiplex, airline_code)"
   ]
  },
  {
   "cell_type": "code",
   "execution_count": null,
   "metadata": {},
   "outputs": [],
   "source": []
  },
  {
   "cell_type": "code",
   "execution_count": null,
   "metadata": {
    "scrolled": false
   },
   "outputs": [],
   "source": [
    "#for v = 1:length(random_walk_multiplex)\n",
    "#    @show v\n",
    "#    archivo_caminata_global = string(airline_code, \"_\", v,\"_walk_global.csv\")\n",
    "#    @show archivo_caminata_global\n",
    "#\twalk_global_multiplex = @time walk_global(random_walk_multiplex, airline_code, v)\n",
    "#    return walk_global_multiplex\n",
    "#    writedlm(\"/Users/Yuriko/Desktop/carpetita/$archivo_caminata_global\", walk_global_multiplex, ',')\n",
    "#end"
   ]
  },
  {
   "cell_type": "code",
   "execution_count": null,
   "metadata": {},
   "outputs": [],
   "source": []
  },
  {
   "cell_type": "markdown",
   "metadata": {},
   "source": [
    "### Random walks con nombres"
   ]
  },
  {
   "cell_type": "code",
   "execution_count": null,
   "metadata": {},
   "outputs": [],
   "source": [
    "\"\"\"\n",
    "    walk_names(W::Array{Any,1}, airline_code::String, v::Int64)\n",
    "\n",
    "Función que cambia las caminatas del número de nodo asociado a la aerolínea a nombres de aeropuertos.\n",
    "Parámetros:\n",
    "W = caminatas aleatorias (arreglo de matrices)\n",
    "airline_code = código de la aerolínea\n",
    "v = nodo inicial\n",
    "\"\"\"\n",
    "function walk_names(W::Array{Any,1}, airline_code::String, v::Int64, dicc) \n",
    "    \n",
    "    #Ahora se usa la función para obtener los nodos diferentes\n",
    "    nodos_diferentes = visited_vertices(W)\n",
    "    m = size(W[1], 1) #renglones\n",
    "    n = size(W[1], 2) #columnas\n",
    "    l = length(W) #número de nodos iniciales\n",
    "    #ep = [\"Endpoint\"]\n",
    "    \n",
    "    #Se lee el diccionario\n",
    "    #archivo_dicc = readdlm(\"/Users/yuriko/Documents/UNAM/Tesis_Lic/data/diccionarios/dictionary_final.csv\", ',') \n",
    "    archivo_dicc = dicc\n",
    "    \n",
    "    aerol_col = string(airline_code, \"_num\") #Nombre de la columna\n",
    "    coord_aerol = findall(x -> x == aerol_col, archivo_dicc) #Busco las coordenadas de la columna\n",
    "    col_aerol = coord_aerol[1][2] #Segunda coordenada de la posición (columna)\n",
    "    columna_aerol = archivo_dicc[:, col_aerol] #Obtengo la columna con el nombre del aeropuerto al que corresponde\n",
    "    walk_nothing = Array{Any}(undef, m, n)#Array{Union{Nothing, String}}(nothing, m, n) #archivo vacío de una matriz para un nodo inicial\n",
    "    #@show walk_nothing\n",
    "    \n",
    "    for k = v #nodo inicial v\n",
    "        arreglo_visitas = nodos_diferentes[k]\n",
    "        caminatas_nodo = W[k]\n",
    "        \n",
    "        for i in 1:m #voy por las iteraciones\n",
    "            nodos_dif = arreglo_visitas[i, :] #array/caminata única de los nodos que buscará\n",
    "            \n",
    "            for j in 1:length(nodos_dif[]) #para cada uno de los nodos diferentes visitados\n",
    "                nodo_original = nodos_dif[][j] #tomo el nodo original visitado\n",
    "                \n",
    "                #Busco la posición original del aeropuerto visitado en la columna de la aerolínea\n",
    "                posicion_original = findall(x -> x == nodo_original, archivo_dicc[:, col_aerol])\n",
    "                \n",
    "                #Ahora busco dónde se colocará el nombre en las posiciones correctas del arreglo vacío\n",
    "                #Busco el primer nodo diferente en la iteración i\n",
    "                #Encuentra todas las coordenadas de los nodos dif en la iteración original\n",
    "                coords_ys = findall(x -> x == nodo_original, caminatas_nodo[i, :]) \n",
    "            \n",
    "                \n",
    "                for q in 1:length(coords_ys) #Se itera sobre las posiciones en las caminatas\n",
    "                    \n",
    "                    pos_actual = coords_ys[q]\n",
    "                \n",
    "                    if isempty(posicion_original) == false\n",
    "                        \n",
    "                        #Se busca el nombre del aeropuerto\n",
    "                        nombre_asignado = archivo_dicc[posicion_original, 2] #y=2 porque esa es la columna de los nombres\n",
    "                    \n",
    "                        walk_nothing[i, pos_actual] = nombre_asignado[] #asigno valor de diccionario al arreglo vacío i, pos_actual\n",
    "\n",
    "                        else walk_nothing[i, pos_actual] = \" \" #break\n",
    "                    end\n",
    "                end\n",
    "                \n",
    "            end\n",
    "\n",
    "        end\n",
    "        \n",
    "    end\n",
    "    return walk_nothing\n",
    "end"
   ]
  },
  {
   "cell_type": "code",
   "execution_count": null,
   "metadata": {},
   "outputs": [],
   "source": [
    "for v = 1:2#:length(random_walk_multiplex)\n",
    "\twalk_names_multiplex = @time walk_names(random_walk_multiplex, airline_code, v, archivo_dicc)\n",
    "    walk_names_multiplex\n",
    "    archivo_caminata_nombres = string(airline_code, \"_\", v,\"_walk_names.csv\")\n",
    "    writedlm(\"/Users/yuriko/Desktop/$archivo_caminata_nombres\", walk_names_multiplex, ',')\n",
    "end"
   ]
  }
 ],
 "metadata": {
  "@webio": {
   "lastCommId": null,
   "lastKernelId": null
  },
  "kernelspec": {
   "display_name": "Julia 1.1.0",
   "language": "julia",
   "name": "julia-1.1"
  },
  "language_info": {
   "file_extension": ".jl",
   "mimetype": "application/julia",
   "name": "julia",
   "version": "1.1.0"
  }
 },
 "nbformat": 4,
 "nbformat_minor": 2
}
