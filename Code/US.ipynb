{
 "cells": [
  {
   "cell_type": "markdown",
   "metadata": {},
   "source": [
    "# Random Walks en Multiplex de Aerolíneas\n",
    "\n",
    "## Directorio"
   ]
  },
  {
   "cell_type": "code",
   "execution_count": 1,
   "metadata": {},
   "outputs": [],
   "source": [
    "#Establecer directorio\n",
    "cd(\"$(homedir())/Documents/UNAM/Tesis_Lic\")"
   ]
  },
  {
   "cell_type": "markdown",
   "metadata": {},
   "source": [
    "## Paquetes\n",
    "\n",
    "Se importan todos los paquetes que se necesitarán para las funciones y visualizaciones del proyecto."
   ]
  },
  {
   "cell_type": "code",
   "execution_count": 2,
   "metadata": {},
   "outputs": [],
   "source": [
    "using StatsBase\n",
    "\n",
    "#using NamedArrays\n",
    "#using CSV\n",
    "#using DataFrames"
   ]
  },
  {
   "cell_type": "code",
   "execution_count": 3,
   "metadata": {},
   "outputs": [],
   "source": [
    "using DelimitedFiles"
   ]
  },
  {
   "cell_type": "code",
   "execution_count": 4,
   "metadata": {},
   "outputs": [],
   "source": [
    "using RandomNumbers.Xorshifts"
   ]
  },
  {
   "cell_type": "code",
   "execution_count": 5,
   "metadata": {},
   "outputs": [],
   "source": [
    "using LightGraphs"
   ]
  },
  {
   "cell_type": "code",
   "execution_count": 6,
   "metadata": {},
   "outputs": [],
   "source": [
    "using Plots"
   ]
  },
  {
   "cell_type": "code",
   "execution_count": 7,
   "metadata": {},
   "outputs": [],
   "source": [
    "using GraphPlot"
   ]
  },
  {
   "cell_type": "code",
   "execution_count": null,
   "metadata": {},
   "outputs": [],
   "source": [
    "#using Compose"
   ]
  },
  {
   "cell_type": "code",
   "execution_count": null,
   "metadata": {},
   "outputs": [],
   "source": [
    "#g = graphfamous(\"karate\")\n",
    "#gplot(g)"
   ]
  },
  {
   "cell_type": "code",
   "execution_count": null,
   "metadata": {},
   "outputs": [],
   "source": [
    "#draw(PDF(\"karate.png\", 16, 16), gplot(g))"
   ]
  },
  {
   "cell_type": "code",
   "execution_count": null,
   "metadata": {},
   "outputs": [],
   "source": [
    "######### Prueba ejemplo \n",
    "\n",
    "#Primero obtenemos la caminata aleatoria para un sólo nodo. \n",
    "#Leemos el archivo con la caminata 2B_1_random_walk.csv\n",
    "\n",
    "archivo_rwalk = readdlm(\"/Users/yuriko/Downloads/codejulia/data/2B/caminatas/2B_1_random_walk.csv\", ',', Int64) \n",
    "#Al leer el archivo convierte los números a flotantes"
   ]
  },
  {
   "cell_type": "code",
   "execution_count": 9,
   "metadata": {
    "scrolled": true
   },
   "outputs": [
    {
     "data": {
      "text/plain": [
       "3190×570 Array{Any,2}:\n",
       "     \"\"  \"global_airports\"  …  \"ZK_num\"  \"ZL_num\"   \"ZM_num\"\n",
       "    1    \"AER\"                 \"NA\"      \"NA\"       \"NA\"    \n",
       "    2    \"ASF\"                 \"NA\"      \"NA\"       \"NA\"    \n",
       "    3    \"CEK\"                 \"NA\"      \"NA\"       \"NA\"    \n",
       "    4    \"DME\"                 \"NA\"      \"NA\"      1        \n",
       "    5    \"EGO\"              …  \"NA\"      \"NA\"       \"NA\"    \n",
       "    6    \"GYD\"                 \"NA\"      \"NA\"       \"NA\"    \n",
       "    7    \"KGD\"                 \"NA\"      \"NA\"       \"NA\"    \n",
       "    8    \"KZN\"                 \"NA\"      \"NA\"       \"NA\"    \n",
       "    9    \"LED\"                 \"NA\"      \"NA\"       \"NA\"    \n",
       "   10    \"MRV\"              …  \"NA\"      \"NA\"       \"NA\"    \n",
       "   11    \"NBC\"                 \"NA\"      \"NA\"       \"NA\"    \n",
       "   12    \"NJC\"                 \"NA\"      \"NA\"       \"NA\"    \n",
       "    ⋮                       ⋱                               \n",
       " 3178    \"LPS\"                 \"NA\"      \"NA\"       \"NA\"    \n",
       " 3179    \"ORX\"                 \"NA\"      \"NA\"       \"NA\"    \n",
       " 3180    \"BVS\"              …  \"NA\"      \"NA\"       \"NA\"    \n",
       " 3181    \"MTE\"                 \"NA\"      \"NA\"       \"NA\"    \n",
       " 3182    \"DLZ\"                 \"NA\"      \"NA\"       \"NA\"    \n",
       " 3183    \"UII\"                 \"NA\"      \"NA\"       \"NA\"    \n",
       " 3184    \"ZBF\"                 \"NA\"      \"NA\"       \"NA\"    \n",
       " 3185    \"CMP\"              …  \"NA\"      \"NA\"       \"NA\"    \n",
       " 3186    \"BSS\"                 \"NA\"      \"NA\"       \"NA\"    \n",
       " 3187    \"AEX\"                 \"NA\"      \"NA\"       \"NA\"    \n",
       " 3188    \"GCK\"                 \"NA\"      \"NA\"       \"NA\"    \n",
       " 3189    \"MGM\"                 \"NA\"      \"NA\"       \"NA\"    "
      ]
     },
     "execution_count": 9,
     "metadata": {},
     "output_type": "execute_result"
    }
   ],
   "source": [
    "#Leo archivo de diccionario final\n",
    "archivo_dicc = readdlm(\"/Users/yuriko/Documents/UNAM/Tesis_Lic/data/diccionarios/dictionary_final.csv\", ',') "
   ]
  },
  {
   "cell_type": "code",
   "execution_count": 84,
   "metadata": {},
   "outputs": [
    {
     "data": {
      "text/plain": [
       "253"
      ]
     },
     "execution_count": 84,
     "metadata": {},
     "output_type": "execute_result"
    }
   ],
   "source": [
    "archivo_dicc[:,494][1212]"
   ]
  },
  {
   "cell_type": "code",
   "execution_count": 85,
   "metadata": {},
   "outputs": [
    {
     "data": {
      "text/plain": [
       "\"TUS\""
      ]
     },
     "execution_count": 85,
     "metadata": {},
     "output_type": "execute_result"
    }
   ],
   "source": [
    "archivo_dicc[:,2][1212]"
   ]
  },
  {
   "cell_type": "code",
   "execution_count": 87,
   "metadata": {},
   "outputs": [
    {
     "data": {
      "text/plain": [
       "1211"
      ]
     },
     "execution_count": 87,
     "metadata": {},
     "output_type": "execute_result"
    }
   ],
   "source": [
    "archivo_dicc[:,3][1212]"
   ]
  },
  {
   "cell_type": "markdown",
   "metadata": {},
   "source": [
    "## Funciones\n",
    "\n",
    "### Importar datos"
   ]
  },
  {
   "cell_type": "code",
   "execution_count": 25,
   "metadata": {},
   "outputs": [
    {
     "data": {
      "text/plain": [
       "568-element Array{String,1}:\n",
       " \"Airlines\"\n",
       " \"US\"      \n",
       " \"AA\"      \n",
       " \"TK\"      \n",
       " \"DL\"      \n",
       " \"MU\"      \n",
       " \"CZ\"      \n",
       " \"UA\"      \n",
       " \"FR\"      \n",
       " \"BA\"      \n",
       " \"AF\"      \n",
       " \"LH\"      \n",
       " \"CA\"      \n",
       " ⋮         \n",
       " \"GY\"      \n",
       " \"EW\"      \n",
       " \"D6\"      \n",
       " \"9D\"      \n",
       " \"7E\"      \n",
       " \"6Y\"      \n",
       " \"6I\"      \n",
       " \"5M\"      \n",
       " \"5G\"      \n",
       " \"4K\"      \n",
       " \"4D\"      \n",
       " \"4B\"      "
      ]
     },
     "execution_count": 25,
     "metadata": {},
     "output_type": "execute_result"
    }
   ],
   "source": [
    "info_aerolineas = readdlm(\"/Users/yuriko/Documents/UNAM/Tesis_Lic/data/aerolineas_matrices/nueva_lista_aerolineas.csv\", ',', String)\n",
    "lista_aerolineas = info_aerolineas[:, 2]"
   ]
  },
  {
   "cell_type": "code",
   "execution_count": 26,
   "metadata": {
    "scrolled": true
   },
   "outputs": [
    {
     "data": {
      "text/plain": [
       "\"US\""
      ]
     },
     "execution_count": 26,
     "metadata": {},
     "output_type": "execute_result"
    }
   ],
   "source": [
    "i = 2\n",
    "airline_code = lista_aerolineas[i]"
   ]
  },
  {
   "cell_type": "code",
   "execution_count": 27,
   "metadata": {},
   "outputs": [
    {
     "data": {
      "text/plain": [
       "\"US_matriz_du.csv\""
      ]
     },
     "execution_count": 27,
     "metadata": {},
     "output_type": "execute_result"
    }
   ],
   "source": [
    "aerolinea_matriz = string(airline_code, \"_matriz_du.csv\")"
   ]
  },
  {
   "cell_type": "code",
   "execution_count": 8,
   "metadata": {},
   "outputs": [
    {
     "data": {
      "text/plain": [
       "import_matrix"
      ]
     },
     "execution_count": 8,
     "metadata": {},
     "output_type": "execute_result"
    }
   ],
   "source": [
    "\"\"\"\n",
    "    import_matrix(arch::AbstractString)\n",
    "\n",
    "Función que importa el archivo de la matriz de adyacencia de R.\n",
    "\"\"\"\n",
    "function import_matrix(arch::AbstractString)\n",
    "    archivo_R = readdlm(arch, ',') \n",
    "    archivo_R = archivo_R[2:end, :]\n",
    "    matriz = archivo_R[:, 2:end]\n",
    "    nombre = convert(Array{Int64,2}, matriz)\n",
    "    return nombre\n",
    "end"
   ]
  },
  {
   "cell_type": "code",
   "execution_count": 28,
   "metadata": {},
   "outputs": [
    {
     "name": "stdout",
     "output_type": "stream",
     "text": [
      "  0.377313 seconds (634.16 k allocations: 29.164 MiB, 29.40% gc time)\n"
     ]
    },
    {
     "data": {
      "text/plain": [
       "280×280 Array{Int64,2}:\n",
       " 0  0  0  0  0  0  0  0  0  0  0  0  0  …  0  0  0  0  0  0  0  0  0  0  0  0\n",
       " 0  0  0  0  0  0  0  0  0  0  0  0  0     0  0  0  0  0  0  0  0  0  0  0  0\n",
       " 0  0  0  0  0  0  0  0  0  0  0  0  0     0  0  0  0  0  0  0  0  0  0  0  0\n",
       " 0  0  0  0  0  0  0  0  0  0  0  0  0     0  0  0  0  0  0  0  0  0  0  0  0\n",
       " 0  0  0  0  0  0  0  0  0  0  0  0  0     0  0  0  0  0  0  0  0  0  0  0  0\n",
       " 0  0  0  0  0  0  0  0  0  0  0  0  0  …  0  0  0  0  0  0  0  0  0  0  0  0\n",
       " 0  0  0  0  0  0  0  0  0  0  0  0  0     0  0  0  0  0  0  0  0  0  0  0  0\n",
       " 0  0  0  0  0  0  0  0  0  0  0  0  0     0  0  0  0  0  0  0  0  0  0  0  0\n",
       " 0  0  0  0  0  0  0  0  0  0  0  0  0     0  0  0  0  0  0  0  0  0  0  0  0\n",
       " 0  0  0  0  0  0  0  0  0  0  0  0  0     0  0  0  0  0  0  0  0  0  0  0  0\n",
       " 0  0  0  0  0  0  0  0  0  0  0  0  0  …  0  0  0  0  0  0  0  0  0  0  0  0\n",
       " 0  0  0  0  0  0  0  0  0  0  0  0  0     0  0  0  0  0  0  0  0  0  0  0  0\n",
       " 0  0  0  0  0  0  0  0  0  0  0  0  0     0  0  0  0  0  0  0  0  0  0  0  0\n",
       " ⋮              ⋮              ⋮        ⋱        ⋮              ⋮            \n",
       " 0  0  0  0  0  0  0  0  0  0  0  0  0     0  0  0  0  0  0  0  0  0  0  0  0\n",
       " 0  0  0  0  0  0  0  0  0  0  0  0  0     0  0  0  0  0  0  0  0  0  0  0  0\n",
       " 0  0  0  0  0  0  0  0  0  0  0  0  0  …  0  0  0  0  0  0  0  0  0  0  0  0\n",
       " 0  0  0  0  0  0  0  0  0  0  0  0  0     0  0  0  0  0  0  0  0  0  0  0  0\n",
       " 0  0  0  0  0  0  0  0  0  0  0  0  0     0  0  0  0  0  0  0  0  0  0  0  0\n",
       " 0  0  0  0  0  0  0  0  0  0  0  0  0     0  0  0  0  0  0  0  0  0  0  0  0\n",
       " 0  0  0  0  0  0  0  0  0  0  0  0  0     0  0  0  0  0  0  0  0  0  0  0  0\n",
       " 0  0  0  0  0  0  0  0  0  0  0  0  0  …  0  0  0  0  0  0  0  0  0  0  0  0\n",
       " 0  0  0  0  0  0  0  0  0  0  0  0  0     0  0  0  0  0  0  0  0  0  0  0  0\n",
       " 0  0  0  0  0  0  0  0  0  0  0  0  0     0  0  0  0  0  0  0  0  0  0  0  0\n",
       " 0  0  0  0  0  0  0  0  0  0  0  0  0     0  0  0  0  0  0  0  0  0  0  0  0\n",
       " 0  0  0  0  0  0  0  0  0  0  0  0  0     0  0  0  0  0  0  0  0  0  0  0  0"
      ]
     },
     "execution_count": 28,
     "metadata": {},
     "output_type": "execute_result"
    }
   ],
   "source": [
    "multiplex = @time import_matrix(\"/Users/yuriko/Documents/UNAM/Tesis_Lic/data/aerolineas_matrices/$aerolinea_matriz\")"
   ]
  },
  {
   "cell_type": "markdown",
   "metadata": {},
   "source": [
    "### Nombres de datos"
   ]
  },
  {
   "cell_type": "code",
   "execution_count": 10,
   "metadata": {},
   "outputs": [
    {
     "data": {
      "text/plain": [
       "airport_names"
      ]
     },
     "execution_count": 10,
     "metadata": {},
     "output_type": "execute_result"
    }
   ],
   "source": [
    "\"\"\"\n",
    "    airport_names(arch::AbstractString)\n",
    "\n",
    "Función que obtiene un arreglo con los nombres de aeropuertos de la matriz\n",
    "\"\"\"\n",
    "function airport_names(arch::AbstractString)\n",
    "    archivo_R = readdlm(arch, ',', String)\n",
    "    columna = archivo_R[1, :]\n",
    "    nombres = columna[2:end]\n",
    "    return nombres\n",
    "end"
   ]
  },
  {
   "cell_type": "code",
   "execution_count": 29,
   "metadata": {},
   "outputs": [
    {
     "name": "stdout",
     "output_type": "stream",
     "text": [
      "  0.157440 seconds (655.30 k allocations: 29.235 MiB, 4.94% gc time)\n"
     ]
    },
    {
     "data": {
      "text/plain": [
       "280-element Array{String,1}:\n",
       " \"ABI\"\n",
       " \"ABQ\"\n",
       " \"ACT\"\n",
       " \"ALB\"\n",
       " \"ALO\"\n",
       " \"AMA\"\n",
       " \"AMM\"\n",
       " \"AMS\"\n",
       " \"ANC\"\n",
       " \"ANU\"\n",
       " \"ART\"\n",
       " \"ASU\"\n",
       " \"ATH\"\n",
       " ⋮    \n",
       " \"AGS\"\n",
       " \"CRW\"\n",
       " \"LYH\"\n",
       " \"PWM\"\n",
       " \"AEX\"\n",
       " \"AGU\"\n",
       " \"GCK\"\n",
       " \"GJT\"\n",
       " \"MGM\"\n",
       " \"SLP\"\n",
       " \"SPI\"\n",
       " \"YKF\""
      ]
     },
     "execution_count": 29,
     "metadata": {},
     "output_type": "execute_result"
    }
   ],
   "source": [
    "data_names_multiplex = @time airport_names(\"/Users/yuriko/Documents/UNAM/Tesis_Lic/data/aerolineas_matrices/$aerolinea_matriz\")"
   ]
  },
  {
   "cell_type": "code",
   "execution_count": 62,
   "metadata": {},
   "outputs": [
    {
     "data": {
      "text/plain": [
       "\"DFW\""
      ]
     },
     "execution_count": 62,
     "metadata": {},
     "output_type": "execute_result"
    }
   ],
   "source": [
    "data_names_multiplex[65]"
   ]
  },
  {
   "cell_type": "markdown",
   "metadata": {},
   "source": [
    "### Grado"
   ]
  },
  {
   "cell_type": "code",
   "execution_count": 11,
   "metadata": {},
   "outputs": [
    {
     "data": {
      "text/plain": [
       "n_in_degree"
      ]
     },
     "execution_count": 11,
     "metadata": {},
     "output_type": "execute_result"
    }
   ],
   "source": [
    "\"\"\"\n",
    "\n",
    "    n_in_degree(M::Array{Int64,2}, n::Int64)\n",
    "\n",
    "Función que obtiene el grado de entrada de un cierto nodo n de la red representada por la matriz de adyacencia M.\n",
    "\n",
    "Parámetros:\n",
    "M matriz de adyacencia que acepta un arreglo de tipo Array{Int64,2}\n",
    "n nodo a evaluar de tipo Int64\n",
    "\n",
    "Resultado:\n",
    "Grado de entrada del nodo n representado por un valor numérico de tipo Int64\n",
    "\n",
    "Implementación\n",
    "\n",
    "#### Ejemplos\n",
    "\"\"\"\n",
    "function n_in_degree(M::Array{Int64,2}, n::Int64)\n",
    "    grado_entrada = sum(M[n, :])\n",
    "end"
   ]
  },
  {
   "cell_type": "code",
   "execution_count": 12,
   "metadata": {},
   "outputs": [
    {
     "data": {
      "text/plain": [
       "in_degree"
      ]
     },
     "execution_count": 12,
     "metadata": {},
     "output_type": "execute_result"
    }
   ],
   "source": [
    "\"\"\"\n",
    "    in_degree(M::Array{Int64,2})\n",
    "\n",
    "Función que obtiene el grado de entrada de una red representada por la matriz de adyacencia M.\n",
    "\n",
    "Parámetros:\n",
    "* M matriz de adyacencia que acepta un arreglo de tipo Array{Int64,2}\n",
    "\n",
    "Resultado:\n",
    "Devuelve un arreglo de tipo Array{Int64,2} que contiene los grados de entrada de todos los nodos n de la red.\n",
    "\n",
    "## Implementación\n",
    "\n",
    "### Ejemplos\n",
    "\"\"\"\n",
    "function in_degree(M::Array{Int64,2})\n",
    "    grados_entrada = sum(M, dims = 2)\n",
    "end"
   ]
  },
  {
   "cell_type": "code",
   "execution_count": 30,
   "metadata": {},
   "outputs": [
    {
     "name": "stdout",
     "output_type": "stream",
     "text": [
      "  0.197227 seconds (393.93 k allocations: 19.784 MiB, 3.53% gc time)\n"
     ]
    },
    {
     "data": {
      "text/plain": [
       "280×1 Array{Int64,2}:\n",
       " 1\n",
       " 2\n",
       " 1\n",
       " 2\n",
       " 1\n",
       " 1\n",
       " 3\n",
       " 1\n",
       " 1\n",
       " 3\n",
       " 1\n",
       " 1\n",
       " 1\n",
       " ⋮\n",
       " 0\n",
       " 0\n",
       " 0\n",
       " 0\n",
       " 0\n",
       " 0\n",
       " 0\n",
       " 0\n",
       " 0\n",
       " 0\n",
       " 0\n",
       " 0"
      ]
     },
     "execution_count": 30,
     "metadata": {},
     "output_type": "execute_result"
    }
   ],
   "source": [
    "in_degree_multiplex = @time in_degree(multiplex)"
   ]
  },
  {
   "cell_type": "code",
   "execution_count": 13,
   "metadata": {},
   "outputs": [
    {
     "data": {
      "text/plain": [
       "n_out_degree (generic function with 1 method)"
      ]
     },
     "execution_count": 13,
     "metadata": {},
     "output_type": "execute_result"
    }
   ],
   "source": [
    "\"\"\"\n",
    "    n_out_degree(M::Array{Int64,2}, n::Int64)\n",
    "\n",
    "Función que obtiene el grado de salida de un cierto nodo n de la red representada por la matriz de adyacencia M.\n",
    "\n",
    "Parámetros:\n",
    "* M matriz de adyacencia que acepta un arreglo de tipo Array{Int64,2}\n",
    "* n nodo a evaluar de tipo Int64\n",
    "\n",
    "Resultado:\n",
    "Grado de salida del nodo n representado por un valor numérico de tipo Int64\n",
    "\n",
    "## Implementación\n",
    "\n",
    "### Ejemplos\n",
    "\"\"\"\n",
    "\n",
    "function n_out_degree(M::Array{Int64,2}, n::Int64)\n",
    "    grado_salida = sum(M[:, n])\n",
    "end"
   ]
  },
  {
   "cell_type": "code",
   "execution_count": 14,
   "metadata": {},
   "outputs": [
    {
     "data": {
      "text/plain": [
       "out_degree"
      ]
     },
     "execution_count": 14,
     "metadata": {},
     "output_type": "execute_result"
    }
   ],
   "source": [
    "\"\"\"\n",
    "    out_degree(M::Array{Int64,2})\n",
    "\n",
    "Función que obtiene el grado de salida de una red representada por la matriz de adyacencia M.\n",
    "\n",
    "Parámetros:\n",
    "* M matriz de adyacencia que acepta un arreglo de tipo Array{Int64,2}\n",
    "\n",
    "Resultado:\n",
    "Devuelve un arreglo de tipo Array{Int64,2} que contiene los grados de salida de todos los nodos n de la red.\n",
    "\n",
    "## Implementación\n",
    "\n",
    "### Ejemplos\n",
    "\"\"\"\n",
    "function out_degree(M::Array{Int64,2})\n",
    "    grados_salida = sum(M, dims = 1)\n",
    "end"
   ]
  },
  {
   "cell_type": "code",
   "execution_count": 31,
   "metadata": {},
   "outputs": [
    {
     "name": "stdout",
     "output_type": "stream",
     "text": [
      "  0.014455 seconds (35.74 k allocations: 1.717 MiB)\n"
     ]
    },
    {
     "data": {
      "text/plain": [
       "1×280 Array{Int64,2}:\n",
       " 1  1  1  2  1  1  3  2  1  3  1  1  1  …  1  1  1  2  1  1  1  1  1  1  1  1"
      ]
     },
     "execution_count": 31,
     "metadata": {},
     "output_type": "execute_result"
    }
   ],
   "source": [
    "out_degree_multiplex = @time out_degree(multiplex)"
   ]
  },
  {
   "cell_type": "markdown",
   "metadata": {},
   "source": [
    "### Distribución de grado"
   ]
  },
  {
   "cell_type": "code",
   "execution_count": 15,
   "metadata": {},
   "outputs": [
    {
     "data": {
      "text/plain": [
       "distrib_in_degree"
      ]
     },
     "execution_count": 15,
     "metadata": {},
     "output_type": "execute_result"
    }
   ],
   "source": [
    "\"\"\"\n",
    "Función de distribución de grado de entrada\n",
    "\"\"\"\n",
    "function distrib_in_degree(M::Array{Int64,2})\n",
    "    x = in_degree(M)\n",
    "    degree_count = counts(x)\n",
    "    return degree_count\n",
    "end"
   ]
  },
  {
   "cell_type": "code",
   "execution_count": 32,
   "metadata": {},
   "outputs": [
    {
     "name": "stdout",
     "output_type": "stream",
     "text": [
      "  0.051393 seconds (90.12 k allocations: 4.335 MiB, 13.31% gc time)\n"
     ]
    },
    {
     "data": {
      "text/plain": [
       "156-element Array{Int64,1}:\n",
       "  12\n",
       " 118\n",
       "  39\n",
       "  31\n",
       "  17\n",
       "  17\n",
       "  10\n",
       "  10\n",
       "   9\n",
       "   2\n",
       "   3\n",
       "   1\n",
       "   1\n",
       "   ⋮\n",
       "   0\n",
       "   0\n",
       "   0\n",
       "   0\n",
       "   0\n",
       "   0\n",
       "   0\n",
       "   0\n",
       "   0\n",
       "   0\n",
       "   0\n",
       "   1"
      ]
     },
     "execution_count": 32,
     "metadata": {},
     "output_type": "execute_result"
    }
   ],
   "source": [
    "distrib_in_degree_multiplex = @time distrib_in_degree(multiplex)"
   ]
  },
  {
   "cell_type": "code",
   "execution_count": 16,
   "metadata": {},
   "outputs": [
    {
     "data": {
      "text/plain": [
       "distrib_out_degree"
      ]
     },
     "execution_count": 16,
     "metadata": {},
     "output_type": "execute_result"
    }
   ],
   "source": [
    "\"\"\"\n",
    "Función de distribución de grado de salida\n",
    "\"\"\"\n",
    "function distrib_out_degree(M::Array{Int64,2})\n",
    "    x = out_degree(M)\n",
    "    degree_count = counts(x)\n",
    "    return degree_count\n",
    "end"
   ]
  },
  {
   "cell_type": "code",
   "execution_count": 33,
   "metadata": {},
   "outputs": [
    {
     "name": "stdout",
     "output_type": "stream",
     "text": [
      "  0.006276 seconds (3.37 k allocations: 154.799 KiB)\n"
     ]
    },
    {
     "data": {
      "text/plain": [
       "146-element Array{Int64,1}:\n",
       "   5\n",
       " 122\n",
       "  41\n",
       "  30\n",
       "  20\n",
       "  16\n",
       "  14\n",
       "   7\n",
       "   8\n",
       "   1\n",
       "   4\n",
       "   1\n",
       "   1\n",
       "   ⋮\n",
       "   0\n",
       "   0\n",
       "   0\n",
       "   0\n",
       "   0\n",
       "   0\n",
       "   0\n",
       "   0\n",
       "   0\n",
       "   0\n",
       "   0\n",
       "   1"
      ]
     },
     "execution_count": 33,
     "metadata": {},
     "output_type": "execute_result"
    }
   ],
   "source": [
    "distrib_out_degree_multiplex = @time distrib_out_degree(multiplex)"
   ]
  },
  {
   "cell_type": "code",
   "execution_count": 17,
   "metadata": {},
   "outputs": [
    {
     "data": {
      "text/plain": [
       "plot_distrib"
      ]
     },
     "execution_count": 17,
     "metadata": {},
     "output_type": "execute_result"
    }
   ],
   "source": [
    "\"\"\"\n",
    "    plot_distrib(M::Array{Int64,2}, tipo::String, titulo::String, color::String)\n",
    "\n",
    "Función con parámetros:\n",
    "M = matriz\n",
    "tipo = \"in\" o \"out\"\n",
    "titulo = acepta el título del gráfico\n",
    "color = color de las barras\n",
    "\n",
    "que regresa un histograma de la distribución de grado, entrada o salida.\n",
    "\"\"\"\n",
    "function plot_distrib(M::Array{Int64,2}, tipo::String, titulo::String, color::String)\n",
    "    \n",
    "    pyplot()\n",
    "    \n",
    "    if tipo == \"in\"\n",
    "        distribucion = distrib_in_degree(M::Array)\n",
    "    elseif tipo == \"out\"\n",
    "        distribucion = distrib_out_degree(M::Array)\n",
    "    end\n",
    "    distribucion\n",
    "    \n",
    "    graph = bar(distribucion, fillcolor = color, markersize = 3, linealpha = 0.5, \n",
    "    title = titulo, \n",
    "    xlabel = \"Grado\", \n",
    "    ylabel = \"Frecuencia\",\n",
    "    xlims = (-10,300), #obtener límites\n",
    "    ylims = (-10,1000)) #obtener límites\n",
    "end"
   ]
  },
  {
   "cell_type": "markdown",
   "metadata": {},
   "source": [
    "### Vecinos"
   ]
  },
  {
   "cell_type": "code",
   "execution_count": 18,
   "metadata": {},
   "outputs": [
    {
     "data": {
      "text/plain": [
       "neighbours"
      ]
     },
     "execution_count": 18,
     "metadata": {},
     "output_type": "execute_result"
    }
   ],
   "source": [
    "\"\"\"\n",
    "    neighbours(M::Array{Int64,2})\n",
    "\n",
    "Función que obtiene un conjunto de arreglos con los vecinos de cada nodo.\n",
    "\"\"\"\n",
    "function neighbours(M::Array{Int64,2})\n",
    "    \n",
    "    nodos = size(M, 1) #aeropuertos\n",
    "    vecindades = []\n",
    "    \n",
    "    for i in 1:nodos\n",
    "        vecinos = findall(x -> x != 0, M[i, :])\n",
    "        push!(vecindades, vecinos)\n",
    "    end\n",
    "    vecindades\n",
    "end"
   ]
  },
  {
   "cell_type": "code",
   "execution_count": 34,
   "metadata": {},
   "outputs": [
    {
     "name": "stdout",
     "output_type": "stream",
     "text": [
      "  0.106300 seconds (207.80 k allocations: 10.605 MiB, 5.79% gc time)\n"
     ]
    },
    {
     "data": {
      "text/plain": [
       "280-element Array{Any,1}:\n",
       " [65]           \n",
       " [65, 180]      \n",
       " [65]           \n",
       " [47, 63]       \n",
       " [180]          \n",
       " [65]           \n",
       " [117, 180, 263]\n",
       " [189]          \n",
       " [190]          \n",
       " [47, 117, 156] \n",
       " [180]          \n",
       " [156]          \n",
       " [189]          \n",
       " ⋮              \n",
       " Int64[]        \n",
       " Int64[]        \n",
       " Int64[]        \n",
       " Int64[]        \n",
       " Int64[]        \n",
       " Int64[]        \n",
       " Int64[]        \n",
       " Int64[]        \n",
       " Int64[]        \n",
       " Int64[]        \n",
       " Int64[]        \n",
       " Int64[]        "
      ]
     },
     "execution_count": 34,
     "metadata": {},
     "output_type": "execute_result"
    }
   ],
   "source": [
    "neighbors_multiplex = @time neighbours(multiplex)"
   ]
  },
  {
   "cell_type": "markdown",
   "metadata": {},
   "source": [
    "### Random walks"
   ]
  },
  {
   "cell_type": "code",
   "execution_count": 19,
   "metadata": {},
   "outputs": [
    {
     "data": {
      "text/plain": [
       "r_walks"
      ]
     },
     "execution_count": 19,
     "metadata": {},
     "output_type": "execute_result"
    }
   ],
   "source": [
    "\"\"\"\n",
    "\n",
    "    r_walks(M::Array{Int64,2}, f::Int64, steps::Int64, iter::Int64)\n",
    "\n",
    "La función r_walks tiene como parámetros:\n",
    "M, matriz de adyacencia de tipo Array{Int64,2}\n",
    "f, nodo inicial de tipo Int64\n",
    "steps, número de pasos de tipo Int64\n",
    "iter, número de iteraciones de tipo Int64.\n",
    "La función crea un caminante aleatorio sobre la matriz, el cual tiene igual probabilidad de avanzar \n",
    "hacia cualquiera de sus vecinos.\n",
    "Regresa un arreglo que contiene todas las trayectorias que tomó el caminante aleatorio.\n",
    "\"\"\"\n",
    "function r_walks(M::Array{Int64,2}, f::Int64, steps::Int64, iter::Int64)\n",
    "    \n",
    "    paths = zeros(Int64, (iter, steps + 1))\n",
    "    s = f\n",
    "    seed = 1\n",
    "    vecindades = neighbours(M)\n",
    "\n",
    "    for i in 1:iter\n",
    "        paths[i, 1] = f\n",
    "        \n",
    "        for p in 1:steps \n",
    "            vecindad = vecindades[s]\n",
    "            \n",
    "            if vecindad == []\n",
    "                break\n",
    "            else\n",
    "                a = sample(Xoroshiro128Plus(seed), vecindad) \n",
    "                paths[i, p + 1] = a\n",
    "                s = a\n",
    "                seed += 1\n",
    "            end\n",
    "            \n",
    "        end\n",
    "        s = f\n",
    "        \n",
    "    end\n",
    "    \n",
    "    return paths \n",
    "end"
   ]
  },
  {
   "cell_type": "code",
   "execution_count": 20,
   "metadata": {},
   "outputs": [
    {
     "data": {
      "text/plain": [
       "random_walk"
      ]
     },
     "execution_count": 20,
     "metadata": {},
     "output_type": "execute_result"
    }
   ],
   "source": [
    "\"\"\"\n",
    "\n",
    "    random_walk(M::Array{Int64,2}, steps::Int64, iter::Int64)\n",
    "\n",
    "La función random_walk tiene como parámetros:\n",
    "M, matriz de adyacencia de tipo Array{Int64,2}\n",
    "steps, número de pasos de tipo Int64\n",
    "iter, número de iteraciones de tipo Int64.\n",
    "La función crea un caminante aleatorio sobre la matriz con igual probabilidad de avanzar \n",
    "hacia cualquiera de sus vecinos. Esta función recorre todos los nodos de la red como\n",
    "nodos iniciales y sobre ellos itera para obtener el número de caminos que se le pidió.\n",
    "Regresa un arreglo que contiene arreglos asociados a todas las trayectorias que tomó el \n",
    "caminante aleatorio para cada nodo inicial de la red.\n",
    "\"\"\"\n",
    "function random_walk(M::Array{Int64,2}, steps::Int64, iter::Int64) \n",
    "    \n",
    "    random_walks = []\n",
    "    nodos = size(M, 1)\n",
    "    \n",
    "    for f in 1:nodos #aeropuertos\n",
    "        paths = r_walks(M, f, steps, iter)\n",
    "        push!(random_walks, paths)\n",
    "    end\n",
    "    \n",
    "    random_walks\n",
    "end"
   ]
  },
  {
   "cell_type": "code",
   "execution_count": 90,
   "metadata": {},
   "outputs": [
    {
     "name": "stdout",
     "output_type": "stream",
     "text": [
      "  0.141005 seconds (579.68 k allocations: 205.648 MiB, 25.82% gc time)\n"
     ]
    },
    {
     "data": {
      "text/plain": [
       "280-element Array{Any,1}:\n",
       " [1 65 … 219 65; 1 65 … 64 124]     \n",
       " [2 180 … 124 48; 2 65 … 64 124]    \n",
       " [3 65 … 219 65; 3 65 … 64 124]     \n",
       " [4 63 … 193 65; 4 47 … 184 65]     \n",
       " [5 180 … 124 48; 5 180 … 184 65]   \n",
       " [6 65 … 219 65; 6 65 … 64 124]     \n",
       " [7 263 … 189 57; 7 117 … 184 65]   \n",
       " [8 189 … 190 216; 8 189 … 184 65]  \n",
       " [9 190 … 47 108; 9 190 … 144 65]   \n",
       " [10 156 … 193 65; 10 47 … 184 65]  \n",
       " [11 180 … 124 48; 11 180 … 184 65] \n",
       " [12 156 … 193 65; 12 156 … 27 81]  \n",
       " [13 189 … 190 216; 13 189 … 184 65]\n",
       " ⋮                                  \n",
       " [269 0 … 0 0; 269 0 … 0 0]         \n",
       " [270 0 … 0 0; 270 0 … 0 0]         \n",
       " [271 0 … 0 0; 271 0 … 0 0]         \n",
       " [272 0 … 0 0; 272 0 … 0 0]         \n",
       " [273 0 … 0 0; 273 0 … 0 0]         \n",
       " [274 0 … 0 0; 274 0 … 0 0]         \n",
       " [275 0 … 0 0; 275 0 … 0 0]         \n",
       " [276 0 … 0 0; 276 0 … 0 0]         \n",
       " [277 0 … 0 0; 277 0 … 0 0]         \n",
       " [278 0 … 0 0; 278 0 … 0 0]         \n",
       " [279 0 … 0 0; 279 0 … 0 0]         \n",
       " [280 0 … 0 0; 280 0 … 0 0]         "
      ]
     },
     "execution_count": 90,
     "metadata": {},
     "output_type": "execute_result"
    }
   ],
   "source": [
    "random_walk_multiplex = @time random_walk(multiplex, 5, 2)"
   ]
  },
  {
   "cell_type": "code",
   "execution_count": null,
   "metadata": {},
   "outputs": [],
   "source": []
  },
  {
   "cell_type": "markdown",
   "metadata": {},
   "source": [
    "### Nodos/aeropuertos visitados"
   ]
  },
  {
   "cell_type": "code",
   "execution_count": 120,
   "metadata": {},
   "outputs": [
    {
     "data": {
      "text/plain": [
       "visited_vertices"
      ]
     },
     "execution_count": 120,
     "metadata": {},
     "output_type": "execute_result"
    }
   ],
   "source": [
    "\"\"\"\n",
    "    visited_vertices(W::Array{Any,1})\n",
    "\n",
    "La función caminos tiene como parámetro W que es un arreglo de arreglos.\n",
    "Regresa los nodos diferentes a los que llega el caminante.\n",
    "\"\"\"\n",
    "function visited_vertices(W::Array{Any,1})\n",
    "    \n",
    "    cobert = Array[]\n",
    "    v = length(W) #tamaño de la matriz, número de nodos\n",
    "    s = size(W[1], 1) #lo puedo sacar, para todos es el mismo. Es el número de iteraciones\n",
    "    t = size(W[1], 2) #número de pasos, no necesario\n",
    "    #visit = zeros(Int64, s) #Arreglo de ceros de tamaño número de iteraciones\n",
    "    visit = Array[]\n",
    "    \n",
    "    for i in 1:v        \n",
    "        for j in 1:s\n",
    "            u = unique(W[i][j, :])\n",
    "            push!(visit, u)\n",
    "        end\n",
    "        \n",
    "        push!(cobert, visit)\n",
    "        visit = []\n",
    "    end\n",
    "    \n",
    "    return cobert\n",
    "end"
   ]
  },
  {
   "cell_type": "code",
   "execution_count": 102,
   "metadata": {},
   "outputs": [
    {
     "data": {
      "text/plain": [
       "2-element Array{Array,1}:\n",
       " [1, 65, 253, 219]         \n",
       " [1, 65, 176, 190, 64, 124]"
      ]
     },
     "execution_count": 102,
     "metadata": {},
     "output_type": "execute_result"
    }
   ],
   "source": [
    "visited_vertices(random_walk_multiplex)[1]"
   ]
  },
  {
   "cell_type": "markdown",
   "metadata": {},
   "source": [
    "### Random walks con nodos globales"
   ]
  },
  {
   "cell_type": "code",
   "execution_count": 224,
   "metadata": {},
   "outputs": [
    {
     "data": {
      "text/plain": [
       "walk_global"
      ]
     },
     "execution_count": 224,
     "metadata": {},
     "output_type": "execute_result"
    }
   ],
   "source": [
    "\"\"\"\n",
    "    walk_global(W::Array{Any,1}, airline_code::String, v::Int64)\n",
    "\n",
    "Función que cambia las caminatas del número de nodo asociado a la aerolínea a número de nodo GLOBAL de aeropuertos.\n",
    "Parámetros:\n",
    "W = caminatas aleatorias (arreglo de matrices)\n",
    "airline_code = código de la aerolínea\n",
    "v = nodo inicial\n",
    "\"\"\"\n",
    "function walk_global(W::Array{Any,1}, airline_code::String, v::Int64)\n",
    "    \n",
    "    #Ahora se usa la función para obtener los nodos diferentes\n",
    "    nodos_diferentes = visited_vertices(W)\n",
    "    \n",
    "    #vv2b[1][1,:] #Nodos únicos visitados en la iteración 1 con nodo inicial 1 #Leo los visited vertices del archivo\n",
    "    m = size(W[1], 1) #renglones/iteraciones\n",
    "    #@show m\n",
    "    n = size(W[1], 2) #columnas/pasos+1/nodos\n",
    "    #@show n\n",
    "    l = length(W) #número de nodos iniciales\n",
    "    #@show l\n",
    "    \n",
    "    #Se lee el diccionario\n",
    "    archivo_dicc = readdlm(\"/Users/yuriko/Documents/UNAM/Tesis_Lic/data/diccionarios/dictionary_final.csv\", ',') \n",
    "    #@show archivo_dicc\n",
    "    aerol_col = string(airline_code, \"_num\") #Nombre de la columna\n",
    "    coord_aerol = findall(x -> x == aerol_col, archivo_dicc) #Busco las coordenadas de la columna\n",
    "    col_aerol = coord_aerol[1][2] #Segunda coordenada de la posición (columna)\n",
    "    columna_aerol = archivo_dicc[:, col_aerol] #Obtengo la columna con el nombre del aeropuerto al que corresponde\n",
    "    #@show columna_aerol\n",
    "    walk_empty = zeros(Int64, m, n)#Arreglo vacío para nuevos números\n",
    "        #@show walk_empty\n",
    "    \n",
    "    for k = v #1:l #nodo inicial v\n",
    "        #@show k\n",
    "        arreglo_visitas = nodos_diferentes[k]\n",
    "        #@show arreglo_visitas\n",
    "        caminatas_nodo = W[k] #caminata y sus iteraciones con el mismo nodo inicial\n",
    "        #@show caminatas_nodo\n",
    "        \n",
    "        \n",
    "        for i in 1:m #voy por las iteraciones\n",
    "            #@show i\n",
    "            nodos_dif = arreglo_visitas[i, :] #array/caminata única de los nodos que buscará\n",
    "            #@show nodos_dif\n",
    "            \n",
    "            for j in 1:length(nodos_dif[]) #vamos por los nodos diferentes por los que pasé\n",
    "                #@show j\n",
    "                \n",
    "                nodo_original = nodos_dif[][j] #index original de la aerolínea\n",
    "                #@show nodo_original\n",
    "                \n",
    "                #Busco la posición original del aeropuerto que se asignará\n",
    "               # if \n",
    "                posicion_original = findall(x -> x == nodo_original, archivo_dicc[:, col_aerol]) \n",
    "                #Este arreglo tendrá la coordenada de la posición del nodo inicial, sin embargo, si llegué a un endpoint, \n",
    "                #buscará la coordenada de la posición del nodo 0 y te regresará un un arreglo vacío.\n",
    "                #@show posicion_original\n",
    "                #Se busca el nombre del aeropuerto\n",
    "                \n",
    "                if isempty(posicion_original) == false\n",
    "                    \n",
    "                    numero_asignado = archivo_dicc[posicion_original, 3]\n",
    "                    #@show numero_asignado\n",
    "                    #Busco el primer nodo diferente en la iteración i\n",
    "                    \n",
    "                    coords_ys = findall(x -> x == nodo_original, caminatas_nodo[i, :]) #Encuentra uno de los nodos dif en la iteración\n",
    "                    #@show coords_ys\n",
    "                    \n",
    "                    for q in 1:length(coords_ys) #Se itera sobre las posiciones en las caminatas\n",
    "                        #@show length(coords_ys)\n",
    "                        #@show q\n",
    "                        \n",
    "                        pos_actual = coords_ys[q]\n",
    "                        #nodo_original = findall(x -> x == pos_actual, columna_aerol) #buscar el nodo en la aerolínea\n",
    "                        #aerop_nombre = nodo_original[1]+1\n",
    "                        #aeropuerto_asignado = archivo_dicc[nodos_dif[i],2]#nodo_original, 2] #buscando qué nombre se colocará\n",
    "                        \n",
    "                        walk_empty[i, pos_actual] = numero_asignado[] #asigno valor de diccionario al arreglo vacío i, pos_actual\n",
    "                        #@show walk_empty\n",
    "                    end\n",
    "                \n",
    "                elseif break\n",
    "                end\n",
    "                \n",
    "            end\n",
    "            #@show walk_empty\n",
    "\n",
    "        end\n",
    "        #@show walk_empty\n",
    "        \n",
    "        \n",
    "    end\n",
    "    \n",
    "    return walk_empty\n",
    "   \n",
    "end"
   ]
  },
  {
   "cell_type": "code",
   "execution_count": 205,
   "metadata": {},
   "outputs": [
    {
     "data": {
      "text/plain": [
       "2×6 Array{Int64,2}:\n",
       " 269  0  0  0  0  0\n",
       " 269  0  0  0  0  0"
      ]
     },
     "execution_count": 205,
     "metadata": {},
     "output_type": "execute_result"
    }
   ],
   "source": [
    "caso = random_walk_multiplex[269]"
   ]
  },
  {
   "cell_type": "code",
   "execution_count": 208,
   "metadata": {},
   "outputs": [
    {
     "data": {
      "text/plain": [
       "3190-element Array{Any,1}:\n",
       "    \"US_num\"\n",
       "    \"NA\"    \n",
       "    \"NA\"    \n",
       "    \"NA\"    \n",
       "    \"NA\"    \n",
       "    \"NA\"    \n",
       "    \"NA\"    \n",
       "    \"NA\"    \n",
       "    \"NA\"    \n",
       "    \"NA\"    \n",
       "    \"NA\"    \n",
       "    \"NA\"    \n",
       "    \"NA\"    \n",
       "   ⋮        \n",
       "    \"NA\"    \n",
       "    \"NA\"    \n",
       "    \"NA\"    \n",
       "    \"NA\"    \n",
       "    \"NA\"    \n",
       "    \"NA\"    \n",
       "    \"NA\"    \n",
       "    \"NA\"    \n",
       "    \"NA\"    \n",
       " 273        \n",
       " 275        \n",
       " 277        "
      ]
     },
     "execution_count": 208,
     "metadata": {},
     "output_type": "execute_result"
    }
   ],
   "source": [
    "archivo_dicc[:, 494]"
   ]
  },
  {
   "cell_type": "code",
   "execution_count": 217,
   "metadata": {},
   "outputs": [
    {
     "data": {
      "text/plain": [
       "0-element Array{Int64,1}"
      ]
     },
     "execution_count": 217,
     "metadata": {},
     "output_type": "execute_result"
    }
   ],
   "source": [
    "hu = findall(x -> x == 0, archivo_dicc[:, 494])"
   ]
  },
  {
   "cell_type": "code",
   "execution_count": 226,
   "metadata": {},
   "outputs": [
    {
     "name": "stdout",
     "output_type": "stream",
     "text": [
      "  1.732556 seconds (12.59 M allocations: 460.010 MiB, 63.36% gc time)\n"
     ]
    },
    {
     "data": {
      "text/plain": [
       "2×6 Array{Int64,2}:\n",
       " 1100  0  0  0  0  0\n",
       " 1100  0  0  0  0  0"
      ]
     },
     "execution_count": 226,
     "metadata": {},
     "output_type": "execute_result"
    }
   ],
   "source": [
    "for v = 269\n",
    "    walk_global_multiplex = @time walk_global(random_walk_multiplex, airline_code, v)\n",
    "    return walk_global_multiplex\n",
    "end"
   ]
  },
  {
   "cell_type": "code",
   "execution_count": 221,
   "metadata": {},
   "outputs": [
    {
     "data": {
      "text/plain": [
       "walks_global (generic function with 1 method)"
      ]
     },
     "execution_count": 221,
     "metadata": {},
     "output_type": "execute_result"
    }
   ],
   "source": [
    "function walks_global(W::Array{Any,1}, airline_code::String)\n",
    "    \n",
    "    t = length(W)\n",
    "    #@show t\n",
    "    \n",
    "    arreglo = Array[]\n",
    "    \n",
    "    for v in 267:t\n",
    "        @show v\n",
    "        #archivo_caminata_global = string(airline_code, \"_\", v,\"_walk_global.csv\")\n",
    "        #@show archivo_caminata_global\n",
    "        \n",
    "        walk_global_multiplex = walk_global(W, airline_code, v)\n",
    "        #return walk_global_multiplex\n",
    "        push!(arreglo, walk_global_multiplex)\n",
    "        #writedlm(\"/Users/Yuriko/Desktop/carpetita/$archivo_caminata_global\", walk_global_multiplex, ',')\n",
    "    end\n",
    "    return arreglo\n",
    "end"
   ]
  },
  {
   "cell_type": "code",
   "execution_count": 222,
   "metadata": {
    "scrolled": false
   },
   "outputs": [
    {
     "name": "stdout",
     "output_type": "stream",
     "text": [
      "v = 267\n",
      "j = 1\n",
      "nodo_original = 267\n",
      "posicion_original = [417]\n",
      "numero_asignado = Any[416]\n",
      "j = 2\n",
      "nodo_original = 190\n",
      "posicion_original = [1186]\n",
      "numero_asignado = Any[1185]\n",
      "j = 3\n",
      "nodo_original = 192\n",
      "posicion_original = [1187]\n",
      "numero_asignado = Any[1186]\n",
      "j = 4\n",
      "nodo_original = 124\n",
      "posicion_original = [339]\n",
      "numero_asignado = Any[338]\n",
      "j = 5\n",
      "nodo_original = 47\n",
      "posicion_original = [716]\n",
      "numero_asignado = Any[715]\n",
      "j = 6\n",
      "nodo_original = 108\n",
      "posicion_original = [1151]\n",
      "numero_asignado = Any[1150]\n",
      "j = 1\n",
      "nodo_original = 267\n",
      "posicion_original = [417]\n",
      "numero_asignado = Any[416]\n",
      "j = 2\n",
      "nodo_original = 190\n",
      "posicion_original = [1186]\n",
      "numero_asignado = Any[1185]\n",
      "j = 3\n",
      "nodo_original = 145\n",
      "posicion_original = [1168]\n",
      "numero_asignado = Any[1167]\n",
      "j = 4\n",
      "nodo_original = 65\n",
      "posicion_original = [1131]\n",
      "numero_asignado = Any[1130]\n",
      "j = 5\n",
      "nodo_original = 144\n",
      "posicion_original = [1167]\n",
      "numero_asignado = Any[1166]\n",
      "v = 268\n",
      "j = 1\n",
      "nodo_original = 268\n",
      "posicion_original = [59]\n",
      "numero_asignado = Any[58]\n",
      "j = 2\n",
      "nodo_original = 225\n",
      "posicion_original = [179]\n",
      "numero_asignado = Any[178]\n",
      "j = 3\n",
      "nodo_original = 109\n",
      "posicion_original = [279]\n",
      "numero_asignado = Any[278]\n",
      "j = 4\n",
      "nodo_original = 65\n",
      "posicion_original = [1131]\n",
      "numero_asignado = Any[1130]\n",
      "j = 5\n",
      "nodo_original = 219\n",
      "posicion_original = [1198]\n",
      "numero_asignado = Any[1197]\n",
      "j = 1\n",
      "nodo_original = 268\n",
      "posicion_original = [59]\n",
      "numero_asignado = Any[58]\n",
      "j = 2\n",
      "nodo_original = 117\n",
      "posicion_original = [394]\n",
      "numero_asignado = Any[393]\n",
      "j = 3\n",
      "nodo_original = 40\n",
      "posicion_original = [442]\n",
      "numero_asignado = Any[441]\n",
      "j = 4\n",
      "nodo_original = 189\n",
      "posicion_original = [1185]\n",
      "numero_asignado = Any[1184]\n",
      "j = 5\n",
      "nodo_original = 184\n",
      "posicion_original = [213]\n",
      "numero_asignado = Any[212]\n",
      "j = 6\n",
      "nodo_original = 65\n",
      "posicion_original = [1131]\n",
      "numero_asignado = Any[1130]\n",
      "v = 269\n",
      "j = 1\n",
      "nodo_original = 269\n",
      "posicion_original = [1101]\n",
      "numero_asignado = Any[1100]\n",
      "j = 2\n",
      "nodo_original = 0\n",
      "posicion_original = Int64[]\n",
      "numero_asignado = Any[]\n"
     ]
    },
    {
     "ename": "BoundsError",
     "evalue": "BoundsError: attempt to access 0-element Array{Any,1} at index []",
     "output_type": "error",
     "traceback": [
      "BoundsError: attempt to access 0-element Array{Any,1} at index []",
      "",
      "Stacktrace:",
      " [1] throw_boundserror(::Array{Any,1}, ::Tuple{}) at ./abstractarray.jl:484",
      " [2] checkbounds at ./abstractarray.jl:449 [inlined]",
      " [3] _getindex at ./abstractarray.jl:949 [inlined]",
      " [4] getindex(::Array{Any,1}) at ./abstractarray.jl:927",
      " [5] walk_global(::Array{Any,1}, ::String, ::Int64) at ./In[215]:77",
      " [6] walks_global(::Array{Any,1}, ::String) at ./In[221]:13",
      " [7] top-level scope at In[222]:1"
     ]
    }
   ],
   "source": [
    "walks_global(random_walk_multiplex, airline_code)"
   ]
  },
  {
   "cell_type": "code",
   "execution_count": null,
   "metadata": {},
   "outputs": [],
   "source": []
  },
  {
   "cell_type": "code",
   "execution_count": 165,
   "metadata": {
    "scrolled": false
   },
   "outputs": [
    {
     "name": "stdout",
     "output_type": "stream",
     "text": [
      "v = 1\n",
      "archivo_caminata_global = \"US_1_walk_global.csv\"\n",
      "  1.702261 seconds (12.64 M allocations: 461.234 MiB, 64.03% gc time)\n"
     ]
    },
    {
     "data": {
      "text/plain": [
       "2×6 Array{Int64,2}:\n",
       " 2875  1130  1211  1130  1197  1130\n",
       " 2875  1130  1176  1185  1129   338"
      ]
     },
     "execution_count": 165,
     "metadata": {},
     "output_type": "execute_result"
    }
   ],
   "source": [
    "for v = 1:length(random_walk_multiplex)\n",
    "    @show v\n",
    "    archivo_caminata_global = string(airline_code, \"_\", v,\"_walk_global.csv\")\n",
    "    @show archivo_caminata_global\n",
    "\twalk_global_multiplex = @time walk_global(random_walk_multiplex, airline_code, v)\n",
    "    return walk_global_multiplex\n",
    "    writedlm(\"/Users/Yuriko/Desktop/carpetita/$archivo_caminata_global\", walk_global_multiplex, ',')\n",
    "end"
   ]
  },
  {
   "cell_type": "code",
   "execution_count": null,
   "metadata": {},
   "outputs": [],
   "source": []
  },
  {
   "cell_type": "markdown",
   "metadata": {},
   "source": [
    "### Random walks con nombres"
   ]
  },
  {
   "cell_type": "code",
   "execution_count": 227,
   "metadata": {},
   "outputs": [
    {
     "data": {
      "text/plain": [
       "walk_names"
      ]
     },
     "execution_count": 227,
     "metadata": {},
     "output_type": "execute_result"
    }
   ],
   "source": [
    "\"\"\"\n",
    "    walk_names(W::Array{Any,1}, airline_code::String, v::Int64)\n",
    "\n",
    "Función que cambia las caminatas del número de nodo asociado a la aerolínea a nombres de aeropuertos.\n",
    "Parámetros:\n",
    "W = caminatas aleatorias (arreglo de matrices)\n",
    "airline_code = código de la aerolínea\n",
    "v = nodo inicial\n",
    "\"\"\"\n",
    "function walk_names(W::Array{Any,1}, airline_code::String, v::Int64) \n",
    "    \n",
    "    #Primero se lee el archivo con las caminatas\n",
    "    #path = string(\"/Users/yuriko/Downloads/codejulia/data/\",airline_code,\"/\",airline_code,\"_\",v,\"_random_walk.csv\")\n",
    "    #W = readdlm(\"/Users/yuriko/Downloads/codejulia/data/2B/caminatas/2B_1_random_walk.csv\", ',', Int64) \n",
    "    \n",
    "    #Ahora se usa la función para obtener los nodos diferentes\n",
    "    nodos_diferentes = visited_vertices(W)\n",
    "    #vv2b[1][1,:] #Nodos únicos visitados en la iteración 1 con nodo inicial 1 #Leo los visited vertices del archivo\n",
    "    m = size(W[1], 1) #renglones\n",
    "    n = size(W[1], 2) #columnas\n",
    "    l = length(W) #número de nodos iniciales\n",
    "    \n",
    "    #Se lee el diccionario\n",
    "    archivo_dicc = readdlm(\"/Users/yuriko/Documents/UNAM/Tesis_Lic/data/diccionarios/dictionary_final.csv\", ',') \n",
    "    \n",
    "    aerol_col = string(airline_code, \"_num\") #Nombre de la columna\n",
    "    coord_aerol = findall(x -> x == aerol_col, archivo_dicc) #Busco las coordenadas de la columna\n",
    "    col_aerol = coord_aerol[1][2] #Segunda coordenada de la posición (columna)\n",
    "    columna_aerol = archivo_dicc[:, col_aerol] #Obtengo la columna con el nombre del aeropuerto al que corresponde\n",
    "    walk_nothing = Array{Union{Nothing, String}}(nothing, m, n) #archivo vacío de una matriz para un nodo inicial\n",
    "    \n",
    "    for k = v #1:l #nodo inicial v\n",
    "        arreglo_visitas = nodos_diferentes[k]\n",
    "        caminatas_nodo = W[k]\n",
    "        \n",
    "        for i in 1:m #voy por las iteraciones\n",
    "            nodos_dif = arreglo_visitas[i, :] #array/caminata única de los nodos que buscará\n",
    "            \n",
    "            for j in 1:length(nodos_dif[])\n",
    "                nodo_original = nodos_dif[][j]\n",
    "                #Busco la posición original del aeropuerto que se asignará\n",
    "                posicion_original = findall(x -> x == nodo_original, archivo_dicc[:, col_aerol])\n",
    "                #Se busca el nombre del aeropuerto\n",
    "                \n",
    "                if isempty(posicion_original) == false\n",
    "                        \n",
    "                    nombre_asignado = archivo_dicc[posicion_original, 2]\n",
    "                    #Busco el primer nodo diferente en la iteración i\n",
    "                    coords_ys = findall(x -> x == nodo_original, caminatas_nodo[i, :]) #Encuentra uno de los nodos dif en la iteración\n",
    "                    \n",
    "                    for q in 1:length(coords_ys) #Se itera sobre las posiciones en las caminatas\n",
    "                        pos_actual = coords_ys[q]\n",
    "                        #nodo_original = findall(x -> x == pos_actual, columna_aerol) #buscar el nodo en la aerolínea\n",
    "                        #aerop_nombre = nodo_original[1]+1\n",
    "                        #aeropuerto_asignado = archivo_dicc[nodos_dif[i],2]#nodo_original, 2] #buscando qué nombre se colocará\n",
    "                        walk_nothing[i, pos_actual] = nombre_asignado[] #asigno valor de diccionario al arreglo vacío i, pos_actual\n",
    "                    end\n",
    "                    \n",
    "                elseif break\n",
    "                end\n",
    "            end\n",
    "\n",
    "        end\n",
    "        \n",
    "    end\n",
    "    return walk_nothing\n",
    "end"
   ]
  },
  {
   "cell_type": "code",
   "execution_count": 230,
   "metadata": {},
   "outputs": [
    {
     "name": "stdout",
     "output_type": "stream",
     "text": [
      "  1.721403 seconds (12.59 M allocations: 460.010 MiB, 63.05% gc time)\n"
     ]
    },
    {
     "data": {
      "text/plain": [
       "2×6 Array{Union{Nothing, String},2}:\n",
       " \"AGS\"  nothing  nothing  nothing  nothing  nothing\n",
       " \"AGS\"  nothing  nothing  nothing  nothing  nothing"
      ]
     },
     "execution_count": 230,
     "metadata": {},
     "output_type": "execute_result"
    }
   ],
   "source": [
    "for k = 269#:length(random_walk_multiplex)\n",
    "\t\twalk_names_multiplex = @time walk_names(random_walk_multiplex, airline_code, k)\n",
    "    return walk_names_multiplex\n",
    "end"
   ]
  },
  {
   "cell_type": "markdown",
   "metadata": {},
   "source": [
    "### Longitud de caminatas"
   ]
  },
  {
   "cell_type": "code",
   "execution_count": null,
   "metadata": {},
   "outputs": [],
   "source": [
    "\"\"\"\n",
    "    walk_length(W::Array{Any,1})\n",
    "\n",
    "La función walk_length tiene como parámetros:\n",
    "RW, arreglo de arreglos de tipo Array{Any,1} que corresponde al arreglo de caminatas aleatorias.\n",
    "La función regresa un arreglo de arreglos que contiene las longitudes de todas las trayectorias que tomó el \n",
    "caminante aleatorio para cada nodo inicial de la red.\n",
    "\"\"\"\n",
    "function walk_length(W::Array{Any,1})\n",
    "    \n",
    "    longitudes = Array[]\n",
    "    \n",
    "    v = length(W) #tamaño de la matriz, número de nodos\n",
    "    s = size(W[1], 1) #Es el número de iteraciones\n",
    "    longitud = zeros(Int64, s)\n",
    "    \n",
    "    for i in 1:v\n",
    "        \n",
    "        for j in 1:s\n",
    "               \n",
    "            longitud[j] = findlast(x -> x != 0, W[i][j, :])\n",
    "            \n",
    "        end\n",
    "         push!(longitudes, longitud)\n",
    "        \n",
    "        longitud = zeros(Int64, s)\n",
    "    end\n",
    "    return longitudes\n",
    "        \n",
    "end"
   ]
  },
  {
   "cell_type": "code",
   "execution_count": null,
   "metadata": {},
   "outputs": [],
   "source": [
    "walk_length(caminata_M)[1]"
   ]
  },
  {
   "cell_type": "code",
   "execution_count": null,
   "metadata": {},
   "outputs": [],
   "source": [
    "\"\"\"\n",
    "    walk_av_length(W::Array{Any,1})\n",
    "\n",
    "La función walk_av_length tiene como parámetro W, que es un arreglo de arreglos (que se puede obtener de la \n",
    "función walk_length). \n",
    "Regresa un arreglo con entradas correspondientes al promedio de las longitudes de \n",
    "las caminatas aleatorias para cada nodo de inicio antes de caer en un nodo con grado de salida 0.\n",
    "\"\"\"\n",
    "function walk_av_length(W::Array{Any,1}) #Llamar a función\n",
    "    \n",
    "    proms = Array{Float64}(undef, 0)\n",
    "    wlength = walk_length(W)\n",
    "    \n",
    "    for i in 1:length(wlength)\n",
    "        av = mean(wlength[i])\n",
    "        push!(proms, av)\n",
    "    end\n",
    "    proms\n",
    "end"
   ]
  },
  {
   "cell_type": "code",
   "execution_count": null,
   "metadata": {},
   "outputs": [],
   "source": [
    "walk_av_length(caminata_M)"
   ]
  },
  {
   "cell_type": "code",
   "execution_count": null,
   "metadata": {},
   "outputs": [],
   "source": [
    "\"\"\"\n",
    "    plot_av_length_vertex(W::Array{Float64, 1}, airline_code::String)\n",
    "\n",
    "Función que grafica (scatter plot) del promedio por nodo inicial de caminatas\n",
    "\"\"\"\n",
    "function plot_av_length_vertex(W::Array{Any,1}, airline_code::String)\n",
    "    \n",
    "    pyplot()\n",
    "    \n",
    "    info = walk_av_length(W)\n",
    "    #@show info\n",
    "    \n",
    "    #dc = nombres_multiplex\n",
    "    @show data_names_multiplex\n",
    "    scatter(info, \n",
    "        color = \"#0f87bf\",\n",
    "        alpha = 0.8, \n",
    "        title = airline_code, \n",
    "        xticks = (1:1:length(W), data_names_multiplex),\n",
    "        xlabel = \"Aeropuerto inicial\", \n",
    "        ylabel = \"Longitud\",\n",
    "        legendtitle = airline_code,\n",
    "        label = \"Promedio\")\n",
    "end"
   ]
  },
  {
   "cell_type": "code",
   "execution_count": null,
   "metadata": {},
   "outputs": [],
   "source": [
    "plot_av_length_vertex(caminata_M, \"2B\")"
   ]
  },
  {
   "cell_type": "code",
   "execution_count": null,
   "metadata": {},
   "outputs": [],
   "source": [
    "\"\"\"\n",
    "    walk_layer_length(W::Array{Any,1})\n",
    "\n",
    "Función que saca el promedio de longitud de caminata en la capa\n",
    "\"\"\"\n",
    "function walk_layer_length(W::Array{Any,1})\n",
    "    \n",
    "    x = walk_av_length(W)\n",
    "    av = mean(x)\n",
    "    \n",
    "    return av\n",
    "end"
   ]
  },
  {
   "cell_type": "code",
   "execution_count": null,
   "metadata": {},
   "outputs": [],
   "source": [
    "walk_layer_length(caminata_M)"
   ]
  },
  {
   "cell_type": "markdown",
   "metadata": {},
   "source": [
    "### Frecuencia de visitas"
   ]
  },
  {
   "cell_type": "code",
   "execution_count": null,
   "metadata": {},
   "outputs": [],
   "source": [
    "\"\"\"\n",
    "    freq_vertices_visits(W::Array{Any,1})\n",
    "\n",
    "Función que hace un diccionario con frecuencias de visitas\n",
    "\"\"\"\n",
    "function freq_vertices_visits(W::Array{Any,1})\n",
    "    \n",
    "    dicc = [] #arreglo vacío\n",
    "    \n",
    "    nodos = length(W) #tamaño de caminatas\n",
    "    iter = size(W[1], 1) #núm de iteraciones\n",
    "    diccionario = 0\n",
    "    \n",
    "    #for i = n\n",
    "    for i in 1:nodos #corro por todos los nodos\n",
    "        for j in 1:iter #corro por las iteraciones\n",
    "            diccionario = countmap(W[i][j, :]) #hago diccionario de freqs de cada caminata\n",
    "            push!(dicc, diccionario) #guardo el diccionario en un arreglo vacío\n",
    "        end\n",
    "        \n",
    "        diccionario = 0\n",
    "    end\n",
    "    return dicc\n",
    "end"
   ]
  },
  {
   "cell_type": "code",
   "execution_count": null,
   "metadata": {},
   "outputs": [],
   "source": [
    "\"\"\"\n",
    "    distrib_vertices_visits(W::Array{Any,1})\n",
    "\n",
    "Función que crea un arreglo de arreglos con la distribución de frecuencia de visitas\n",
    "\"\"\"\n",
    "function distrib_vertices_visits(W::Array{Any,1})\n",
    "    \n",
    "    x = freq_vertices_visits(W) #diccionario de frecuencias\n",
    "    l = length(W)\n",
    "    f = 0\n",
    "    frec_total = Array[] #zeros(Array, length(x)) #arreglo de ceros de tamaño núm dicc\n",
    "    frec_nodo = zeros(Int64, l+1) #arreglo de nodos de tamaño núm nodos para get frec\n",
    "\n",
    "    for i in 1:length(x) #corro por los nodos\n",
    "\n",
    "        for j in 1:l+1 #corro por los nodos\n",
    "\n",
    "            frec_nodo[j] = get(x[i], f, 0) #entrada j de freq nodo la cambio por la entrada j del dicc i\n",
    "            f += 1\n",
    "        end\n",
    "        push!(frec_total, frec_nodo)\n",
    "        \n",
    "        f = 0\n",
    "        frec_nodo = zeros(Int64, l+1)\n",
    "        \n",
    "    end\n",
    "    \n",
    "    return frec_total\n",
    "end"
   ]
  },
  {
   "cell_type": "code",
   "execution_count": null,
   "metadata": {},
   "outputs": [],
   "source": [
    "############# FUNCIÓN INÚTIL #############\n",
    "\"\"\"\n",
    "    plot_visit_freq(W::Array{Any,1})\n",
    "\n",
    "Función que hace un heatmap de nodos en los que cae, cada renglón corresponde a una caminata\n",
    "\"\"\"\n",
    "function plot_visit_freq(W::Array{Any,1}) \n",
    "    \n",
    "    pyplot()\n",
    "    x = distrib_vertices_visits(W)\n",
    "    h = transpose(hcat(x...))\n",
    "\n",
    "    xs = [string(\"n\", i) for i = 0:1:length(W)]\n",
    "    ys = [string(\"rw\", i) for i = 1:length(x)]\n",
    "    z = h\n",
    "    heatmap(xs, ys, z, aspect_ratio = 1)\n",
    "end"
   ]
  },
  {
   "cell_type": "code",
   "execution_count": null,
   "metadata": {},
   "outputs": [],
   "source": [
    "\"\"\"\n",
    "    freq_vertex_visits(W::Array{Any,1}, n::Int64)\n",
    "\n",
    "Función que hace un diccionario con frecuencias para un nodo inicial\n",
    "\"\"\"\n",
    "function freq_vertex_visits(W::Array{Any,1}, n::Int64) #puede ser más eficiente llamando la función anterior sin nodo\n",
    "    \n",
    "    dicc = [] #arreglo vacío\n",
    "    \n",
    "    nodos = length(W) #tamaño de caminatas\n",
    "    iter = size(W[1], 1) #núm de iteraciones\n",
    "    diccionario = 0\n",
    "    \n",
    "    for j in 1:iter #corro por las iteraciones\n",
    "          \n",
    "        diccionario = countmap(W[n][j, :]) #hago diccionario de freqs de cada caminata\n",
    "          \n",
    "        push!(dicc, diccionario) #guardo el diccionario en un arreglo vacío\n",
    "          \n",
    "    end\n",
    "    \n",
    "    return dicc\n",
    "end"
   ]
  },
  {
   "cell_type": "code",
   "execution_count": null,
   "metadata": {},
   "outputs": [],
   "source": [
    "\"\"\"\n",
    "    distrib_vertex_visits(W::Array{Any,1}, n::Int64)\n",
    "\n",
    "Función que crea un arreglo de arreglos con la distribución de frecuencias de visitas de un nodo inicial\n",
    "\"\"\"\n",
    "function distrib_vertex_visits(W::Array{Any,1}, n::Int64)\n",
    "    \n",
    "    x = freq_vertex_visits(W, n) #diccionario de frecuencias\n",
    "    nodos = length(W)\n",
    "    f = 0\n",
    "    frec_total = [] #zeros(Array, length(x)) #arreglo de ceros de tamaño núm dicc\n",
    "    frec_nodo = zeros(Int64, nodos+1) #arreglo de nodos de tamaño núm nodos para get frec\n",
    "\n",
    "    for i in 1:length(x) #corro por los nodos\n",
    "\n",
    "        for j in 1:nodos+1 #corro por los nodos\n",
    "\n",
    "            frec_nodo[j] = get(x[i], f, 0) #entrada j de freq nodo la cambio por la entrada j del dicc i\n",
    "            \n",
    "            f += 1\n",
    "        end\n",
    "        push!(frec_total, frec_nodo)\n",
    "        \n",
    "        f = 0\n",
    "        frec_nodo = zeros(Int64, nodos+1)\n",
    "        \n",
    "    end\n",
    "    \n",
    "    return frec_total\n",
    "end"
   ]
  },
  {
   "cell_type": "code",
   "execution_count": null,
   "metadata": {},
   "outputs": [],
   "source": [
    "\"\"\"\n",
    "    plot_visit_freq_vertex(W::Array{Any,1}, n::Int64)\n",
    "\n",
    "Función que hace un heatmap de los nodos en los que cae, cada renglón corresponde a una caminata \n",
    "con cierto nodo inicial n.\n",
    "\"\"\"\n",
    "function plot_visit_freq_vertex(W::Array{Any,1}, n::Int64) #Con esta función se pierde la información de los nodos que caen en 0\n",
    "    \n",
    "    pyplot()\n",
    "    \n",
    "    x = distrib_vertex_visits(W, n)\n",
    "    mat_completa = transpose(hcat(x...))    #Se covierte en matriz el arreglo\n",
    "    mat = mat_completa[:, (2:end)]\n",
    "    pasos = size(W[1], 2)-1\n",
    "    \n",
    "    xs = [nombres_multiplex]\n",
    "    ys = [string(\"it\", i) for i = 1:length(x)]\n",
    "    z = mat\n",
    "    heatmap(xs, ys, z, \n",
    "        title = \"Frecuencia de visitas para v_{0} = $n\",\n",
    "        aspect_ratio = 1, \n",
    "        clims = (0, pasos), \n",
    "        xticks = :all,  \n",
    "        xtickfont = font(8, \"Courier\"))\n",
    "end"
   ]
  },
  {
   "cell_type": "code",
   "execution_count": null,
   "metadata": {},
   "outputs": [],
   "source": [
    "\"\"\"\n",
    "    distrib_av_visits(W::Array{Any, 1})\n",
    "\n",
    "Función que hace una distribución de visitas por nodo inicial y muestra todos los nodos iniciales\n",
    "\"\"\"\n",
    "function distrib_av_visits(W::Array{Any, 1}) \n",
    "    \n",
    "    nodos = length(W) #número de nodos\n",
    "    iteracion = size(W[1],1)\n",
    "    dicc = zeros(Float64, nodos, nodos+1) #matriz de ceros (nodos x nodos+1)\n",
    "    \n",
    "    for i in 1:nodos #(1 a 17)\n",
    "        prom_conteos = counts(W[i], 0:nodos)/iteracion #hago diccionario con prom de freqs de cada nodo inicial\n",
    "        #@show prom_conteos\n",
    "        dicc[i, :] = prom_conteos \n",
    "    end\n",
    "\n",
    "    dicc\n",
    "end"
   ]
  },
  {
   "cell_type": "code",
   "execution_count": null,
   "metadata": {},
   "outputs": [],
   "source": [
    "\"\"\"\n",
    "    plot_freq_av_visits(W::Array{Any, 1})\n",
    "\n",
    "Función que crea un diccionario con frecuencias por nodo inicial y muestra todos\n",
    "\"\"\"\n",
    "function plot_freq_av_visits(W::Array{Any, 1}, airline_code::String)\n",
    "    \n",
    "    pyplot()\n",
    "    \n",
    "    mat_completa = distrib_av_visits(W)\n",
    "    mat = mat_completa[:, (2:end)] #desde la segunda columna para no tomar en cuenta los end-points\n",
    "    \n",
    "    xs = [nombres_multiplex]\n",
    "    ys = [nombres_multiplex] #[string(\"v_0 \", i) for i = 1:length(W)]\n",
    "    z = mat\n",
    "    \n",
    "    heatmap(xs, ys, z, \n",
    "        title = string(\"Frecuencia de visitas para \", airline_code),\n",
    "        aspect_ratio = 1, \n",
    "        clims = (0, maximum(mat)), #MÁXIMO DEL MULTIPLEX GLOBAL/AEROLÍNEA MÁS GRANDE ¿?\n",
    "        xticks = :all,\n",
    "        yticks = :all,\n",
    "        xtickfont = font(7, \"Courier\"),\n",
    "        ytickfont = font(7, \"Courier\"),\n",
    "        xlabel = \"Visitas promedio\",\n",
    "        ylabel = \"Aeropuerto inicial\",\n",
    "        xrotation = 50)\n",
    "end"
   ]
  },
  {
   "cell_type": "code",
   "execution_count": null,
   "metadata": {},
   "outputs": [],
   "source": [
    "plot_freq_av_visits(caminata_M, \"2B\")"
   ]
  },
  {
   "cell_type": "markdown",
   "metadata": {},
   "source": [
    "### Cobertura"
   ]
  },
  {
   "cell_type": "code",
   "execution_count": null,
   "metadata": {},
   "outputs": [],
   "source": [
    "\"\"\"\n",
    "    coverage(W::Array{Any,1})\n",
    "\n",
    "La función cobertura tiene como parámetro W que es un arreglo de arreglos.\n",
    "Regresa el número de nodos diferentes a los que llega el caminante.\n",
    "\"\"\"\n",
    "function coverage(W::Array{Any,1}) \n",
    "    \n",
    "    cobert = []\n",
    "    \n",
    "    v = length(W) #tamaño de la matriz, número de nodos\n",
    "    x = visited_vertices(W)\n",
    "    s = size(x[1], 1) #lo puedo sacar, para todos es el mismo. Es el número de iteraciones\n",
    "    longz = zeros(Int64, s) #Arreglo de ceros de tamaño número de iteraciones\n",
    "    \n",
    "    for i in 1:v        \n",
    "        for j in 1:s\n",
    "            l = length(x[i][j])\n",
    "            longz[j] = l\n",
    "        end\n",
    "        \n",
    "        push!(cobert, longz)\n",
    "        longz = zeros(Int64, s)\n",
    "    end\n",
    "    \n",
    "    return cobert\n",
    "end"
   ]
  },
  {
   "cell_type": "code",
   "execution_count": null,
   "metadata": {},
   "outputs": [],
   "source": [
    "\"\"\"\n",
    "    vertex_coverage(W::Array{Any,1})\n",
    "\n",
    "Da el promedio de cobertura la caminata por nodo inicial. \n",
    "\"\"\"\n",
    "function vertex_coverage(W::Array{Any,1}) #Esta es la importante\n",
    "    \n",
    "    longitud = Array{Float64}(undef, 0)\n",
    "    x = coverage(W)\n",
    "    \n",
    "    for i in 1:length(x)\n",
    "        l = mean(x[i])\n",
    "        push!(longitud, l)\n",
    "    end\n",
    "    \n",
    "    longitud\n",
    "end"
   ]
  },
  {
   "cell_type": "code",
   "execution_count": null,
   "metadata": {},
   "outputs": [],
   "source": [
    "vertex_coverage(caminata_M)"
   ]
  },
  {
   "cell_type": "code",
   "execution_count": null,
   "metadata": {},
   "outputs": [],
   "source": [
    "\"\"\"\n",
    "    plot_vertex_coverage(W::Array{Any, 1}, airline_code::String)\n",
    "\n",
    "Función que grafica (scatter plot) del promedio por nodo inicial de caminatas\n",
    "\"\"\"\n",
    "function plot_vertex_coverage(W::Array{Any, 1}, airline_code::String)\n",
    "    \n",
    "    info = vertex_coverage(W)\n",
    "    \n",
    "    scatter(info, \n",
    "        color = \"#0f87bf\",\n",
    "        alpha = 0.4, \n",
    "        title = string(\"Cobertura por nodo inicial \", airline_code), \n",
    "        xlabel = \"Aeropuerto inicial\", \n",
    "        ylabel = \"Longitud\", \n",
    "        xticks = (1:1:length(W), nombres_multiplex),\n",
    "        legendtitle = airline_code,\n",
    "        label = \"Promedio\",\n",
    "        xrotation = 50)\n",
    "    \n",
    "end"
   ]
  },
  {
   "cell_type": "code",
   "execution_count": null,
   "metadata": {},
   "outputs": [],
   "source": [
    "plot_vertex_coverage(caminata_M, \"2B\")"
   ]
  },
  {
   "cell_type": "code",
   "execution_count": null,
   "metadata": {},
   "outputs": [],
   "source": [
    "\"\"\"\n",
    "    layer_coverage(W::Array{Any, 1})\n",
    "\n",
    "Da el promedio de la longitud de las caminatas para todos los nodos, como un número.\n",
    "\"\"\"\n",
    "function layer_coverage(W::Array{Any, 1})\n",
    "    x = vertex_coverage(W)\n",
    "    promedio = mean(x)\n",
    "    return promedio\n",
    "end"
   ]
  },
  {
   "cell_type": "markdown",
   "metadata": {},
   "source": [
    "### Máximos y mínimos de longitud"
   ]
  },
  {
   "cell_type": "code",
   "execution_count": null,
   "metadata": {},
   "outputs": [],
   "source": [
    "\"\"\"\n",
    "    max_length(W::Array{Any, 1})\n",
    "\n",
    "Da la longitud máxima de cada iteración de cada nodo inicial.\n",
    "\"\"\"\n",
    "function max_length(W::Array{Any, 1})\n",
    "    max = Array{Int64}(undef, 0)\n",
    "    x = coverage(W)\n",
    "    for i in 1:length(x)\n",
    "        m = maximum(x[i])\n",
    "        push!(max, m)\n",
    "    end\n",
    "    max\n",
    "end"
   ]
  },
  {
   "cell_type": "code",
   "execution_count": null,
   "metadata": {},
   "outputs": [],
   "source": [
    "\"\"\"\n",
    "    Max_length(W::Array{Any, 1})\n",
    "\n",
    "Da la longitud máxima total.\n",
    "\"\"\"\n",
    "function Max_length(W::Array{Any, 1})\n",
    "    x = max_length(W)\n",
    "    m = maximum(x)\n",
    "    return m\n",
    "end"
   ]
  },
  {
   "cell_type": "code",
   "execution_count": null,
   "metadata": {},
   "outputs": [],
   "source": [
    "\"\"\"\n",
    "    av_max_length(W::Array{Any, 1})\n",
    "\n",
    "Regresa el promedio de la longitud máxima de cada nodo inicial.\n",
    "\"\"\"\n",
    "function av_max_length(W::Array{Any, 1})\n",
    "    x = max_length(W)\n",
    "    prom = mean(x)\n",
    "    return prom\n",
    "end"
   ]
  },
  {
   "cell_type": "code",
   "execution_count": null,
   "metadata": {},
   "outputs": [],
   "source": [
    "\"\"\"\n",
    "    min_length(W::Array{Any, 1})\n",
    "\n",
    "Da la longitud mínima de cada iteración de cada nodo inicial.\n",
    "\"\"\"\n",
    "function min_length(W::Array{Any, 1})\n",
    "    min = Array{Int64}(undef, 0)\n",
    "    x = coverage(W)\n",
    "    for i in 1:length(x)\n",
    "        m = minimum(x[i])\n",
    "        push!(min, m)\n",
    "    end\n",
    "    min\n",
    "end"
   ]
  },
  {
   "cell_type": "code",
   "execution_count": null,
   "metadata": {},
   "outputs": [],
   "source": [
    "\"\"\"\n",
    "    Min_length(W::Array{Any, 1})\n",
    "\n",
    "Da la longitud mínima total.\n",
    "\"\"\"\n",
    "function Min_length(W::Array{Any, 1})\n",
    "    x = min_length(W)\n",
    "    m = minimum(x)\n",
    "    return m\n",
    "end"
   ]
  },
  {
   "cell_type": "code",
   "execution_count": null,
   "metadata": {},
   "outputs": [],
   "source": [
    "\"\"\"\n",
    "    av_min_length(W::Array{Any, 1})\n",
    "\n",
    "Regresa el promedio de la longitud mínima de cada nodo inicial.\n",
    "\"\"\"\n",
    "function av_min_length(W::Array{Any, 1})\n",
    "    x = min_length(W)\n",
    "    prom = mean(x)\n",
    "    return prom\n",
    "end"
   ]
  },
  {
   "cell_type": "markdown",
   "metadata": {},
   "source": [
    "### End-points"
   ]
  },
  {
   "cell_type": "code",
   "execution_count": null,
   "metadata": {},
   "outputs": [],
   "source": [
    "\"\"\"\n",
    "    endpoints(W::Array{Any, 1})\n",
    "\n",
    "Regresa un arreglo de arreglos que contiene los nodos en los que cae cada caminata y ya no puede salir.\n",
    "\"\"\"\n",
    "function endpoints(W::Array{Any, 1})\n",
    "    \n",
    "    x = visited_vertices(W)\n",
    "    \n",
    "    atractores = Array[] #Arreglo vacío que contenga a los atractores\n",
    "    v = length(W) #tamaño de la matriz, número de nodos\n",
    "    s = size(W[1], 1) #lo puedo sacar, para todos es el mismo. Es el número de iteraciones\n",
    "    t = size(W[1], 2) #número de pasos +1\n",
    "    atract = zeros(Int64, s) #Arreglo de ceros de tamaño número de iteraciones\n",
    "    \n",
    "    for i in 1:v        \n",
    "        for j in 1:s\n",
    "            if x[i][j, :][end][end] == 0\n",
    "                at = x[i][j, :][end][end - 1]\n",
    "                atract[j] = at\n",
    "            else\n",
    "                atract[j] = 0\n",
    "            end\n",
    "        end\n",
    "        push!(atractores, atract)\n",
    "        atract = zeros(Int64, s)\n",
    "    end\n",
    "    \n",
    "    return atractores\n",
    "end"
   ]
  },
  {
   "cell_type": "code",
   "execution_count": null,
   "metadata": {},
   "outputs": [],
   "source": [
    "hholi =endpoints(caminata_M)"
   ]
  },
  {
   "cell_type": "code",
   "execution_count": null,
   "metadata": {},
   "outputs": [],
   "source": [
    "\"\"\"\n",
    "   which_endpoints(M::Array{Int64,2})\n",
    "\n",
    "Función que da el índice de los end-points.\n",
    "\"\"\"\n",
    "function which_endpoints(M::Array{Int64,2})\n",
    "    deg = out_degree(M)\n",
    "    ci = findall(iszero, deg)\n",
    "    arr = Array{Int64}(undef, 0)\n",
    "    for i in 1:length(ci)\n",
    "        index = ci[1][2]\n",
    "        push!(arr, index)\n",
    "    end\n",
    "    return arr\n",
    "end"
   ]
  },
  {
   "cell_type": "code",
   "execution_count": null,
   "metadata": {},
   "outputs": [],
   "source": [
    "\"\"\"\n",
    "    freq_all_endpoints(W::Array{Any, 1})\n",
    "\n",
    "Función con diccionarios de frecuencias de end-points\n",
    "\"\"\"\n",
    "function freq_all_endpoints(W::Array{Any, 1})\n",
    "    \n",
    "    info = endpoints(W)\n",
    "    resu = []\n",
    "    c = 0\n",
    "    \n",
    "    for i in 1:length(info)\n",
    "    \n",
    "        c = countmap(info[i])\n",
    "        push!(resu, c)\n",
    "        c = 0\n",
    "    end\n",
    "    return resu\n",
    "end"
   ]
  },
  {
   "cell_type": "code",
   "execution_count": null,
   "metadata": {},
   "outputs": [],
   "source": [
    "freq_all_endpoints(caminata_M)"
   ]
  },
  {
   "cell_type": "code",
   "execution_count": null,
   "metadata": {},
   "outputs": [],
   "source": [
    "function distrib_all_endpoints(M::Array{Int64,2}, W::Array{Any, 1})\n",
    "    \n",
    "    info = freq_all_endpoints(W)\n",
    "    endpts = which_endpoints(M)\n",
    "    ######################################\n",
    "    \n",
    "    l = length(W) #num nodos iniciales\n",
    "    e = length(endpts) \n",
    "    #@show l\n",
    "    f = 0  #contador\n",
    "    frec_total = Array[] #zeros(Array, length(x)) #arreglo de ceros de tamaño núm dicc\n",
    "    frec_nodo = zeros(Int64, l+1) #arreglo de nodos de tamaño núm nodos para get frec\n",
    "\n",
    "    for i in 1:length(info) #corro por los nodos\n",
    "\n",
    "        for j in 1:l+1 #corro por los nodos\n",
    "\n",
    "            frec_nodo[j] = get(info[i], f, 0) #entrada j de freq nodo la cambio por la entrada j del dicc i\n",
    "            f += 1\n",
    "        end\n",
    "        push!(frec_total, frec_nodo)\n",
    "        \n",
    "        f = 0\n",
    "        frec_nodo = zeros(Int64, l+1)\n",
    "        \n",
    "    end\n",
    "    \n",
    "    return frec_total\n",
    "    \n",
    "end"
   ]
  },
  {
   "cell_type": "code",
   "execution_count": null,
   "metadata": {},
   "outputs": [],
   "source": [
    "distrib_all_endpoints(caminata_M)"
   ]
  },
  {
   "cell_type": "code",
   "execution_count": null,
   "metadata": {},
   "outputs": [],
   "source": [
    "out_degree_multiplex[15] = 0\n",
    "out_degree_multiplex"
   ]
  },
  {
   "cell_type": "code",
   "execution_count": null,
   "metadata": {
    "scrolled": true
   },
   "outputs": [],
   "source": [
    "which_endpoints(out_degree_multiplex)"
   ]
  },
  {
   "cell_type": "code",
   "execution_count": null,
   "metadata": {},
   "outputs": [],
   "source": []
  },
  {
   "cell_type": "code",
   "execution_count": null,
   "metadata": {},
   "outputs": [],
   "source": [
    "#función que cambie los endpoints a nombres de aeropuertos"
   ]
  },
  {
   "cell_type": "code",
   "execution_count": null,
   "metadata": {
    "scrolled": true
   },
   "outputs": [],
   "source": [
    "\"\"\" NOOOO\n",
    "    plot_endpoints(W::Array{Any, 1}, airline_code::String)\n",
    "\n",
    "Función que grafica la información de los endpoints por nodo inicial\n",
    "\"\"\"\n",
    "function plot_endpoints(W::Array{Any, 1}, airline_code::String) #No necesario y mal\n",
    "    \n",
    "    pyplot()\n",
    "    \n",
    "    info = endpoints(W)\n",
    "    \n",
    "    mat_completa = distrib_av_visits(W)\n",
    "    mat = mat_completa[:, (2:end)] #desde la segunda columna para no tomar en cuenta los end-points\n",
    "    \n",
    "    xs = [nombres_multiplex]\n",
    "    ys = [nombres_multiplex] #[string(\"v_0 \", i) for i = 1:length(W)]\n",
    "    z = mat\n",
    "    \n",
    "    heatmap(xs, ys, z, \n",
    "        title = string(\"Frecuencia de visitas para \", airline_code),\n",
    "        aspect_ratio = 1, \n",
    "        clims = (0, maximum(mat)), #MÁXIMO DEL MULTIPLEX GLOBAL/AEROLÍNEA MÁS GRANDE ¿?\n",
    "        xticks = :all,\n",
    "        yticks = :all,\n",
    "        xtickfont = font(7, \"Courier\"),\n",
    "        ytickfont = font(7, \"Courier\"),\n",
    "        xlabel = \"Visitas promedio\",\n",
    "        ylabel = \"Aeropuerto inicial\",\n",
    "        xrotation = 50)\n",
    "end"
   ]
  },
  {
   "cell_type": "code",
   "execution_count": null,
   "metadata": {},
   "outputs": [],
   "source": [
    "plot_endpoints(caminata_M, \"2B\")"
   ]
  },
  {
   "cell_type": "code",
   "execution_count": null,
   "metadata": {},
   "outputs": [],
   "source": [
    "\"\"\"\n",
    "    av_vertex_endpoints(W::Array{Any, 1})\n",
    "\n",
    "Función que calcula el promedio de endpoints por nodo\n",
    "\"\"\"\n",
    "function av_vertex_endpoints(W::Array{Any, 1}) \n",
    "    \n",
    "    x = endpoints(W)\n",
    "    atractores_prom = Array{Float64}(undef, 0) #Arreglo vacío que contenga a los atractores\n",
    "    v = length(W) #tamaño de la matriz, número de nodos\n",
    "\n",
    "    for i in 1:v        \n",
    "        av = mean(x[i])\n",
    "        push!(atractores_prom, av)\n",
    "    end\n",
    "    \n",
    "    atractores_prom\n",
    "end"
   ]
  },
  {
   "cell_type": "code",
   "execution_count": null,
   "metadata": {},
   "outputs": [],
   "source": [
    "av_vertex_endpoints(caminata_M)"
   ]
  },
  {
   "cell_type": "markdown",
   "metadata": {},
   "source": [
    "### Distribución de frecuencia de end-points"
   ]
  },
  {
   "cell_type": "code",
   "execution_count": null,
   "metadata": {},
   "outputs": [],
   "source": [
    "\"\"\"\n",
    "    freq_endpoints(W::Array{Any, 1})\n",
    "\n",
    "Función que da un diccionario con frecuencias\n",
    "\"\"\"\n",
    "function freq_endpoints(W::Array{Any, 1})\n",
    "    freqs = []\n",
    "    x = endpoints(W)\n",
    "    v = length(W)\n",
    "    \n",
    "    for i in 1:v\n",
    "        frec = countmap(x[i])\n",
    "        push!(freqs, frec)\n",
    "    end\n",
    "    freqs\n",
    "end"
   ]
  },
  {
   "cell_type": "code",
   "execution_count": null,
   "metadata": {},
   "outputs": [],
   "source": [
    "freq_endpoints(caminata_M)"
   ]
  },
  {
   "cell_type": "code",
   "execution_count": null,
   "metadata": {},
   "outputs": [],
   "source": [
    "\"\"\"\n",
    "    distrib_endpoints(W::Array{Any, 1})\n",
    "\n",
    "Función que saca la distribución de los endpoints para toda la capa\n",
    "\"\"\"\n",
    "function distrib_endpoints(W::Array{Any, 1})\n",
    "    \n",
    "    x = freq_endpoints(W)\n",
    "    frec_total = zeros(Int64, length(W))\n",
    "    frec_nodo = zeros(Int64, length(W))\n",
    "\n",
    "    for i in 1:length(W)\n",
    "        for j in 1:length(W)\n",
    "            frec_nodo[j] = get(x[i], j, 0)\n",
    "        end\n",
    "        frec_total += frec_nodo\n",
    "    end\n",
    "    \n",
    "    return frec_total\n",
    "end"
   ]
  },
  {
   "cell_type": "code",
   "execution_count": null,
   "metadata": {},
   "outputs": [],
   "source": [
    "distrib_endpoints(caminata_M)"
   ]
  },
  {
   "cell_type": "markdown",
   "metadata": {},
   "source": [
    "### Gráficas de end-points"
   ]
  },
  {
   "cell_type": "code",
   "execution_count": null,
   "metadata": {},
   "outputs": [],
   "source": [
    "\"\"\"\n",
    "    plot_vertex_endpoints(W::Array{Any, 1}, airline_code::String)\n",
    "\n",
    "Función que grafica la información de los endpoints por nodo inicial\n",
    "\"\"\"\n",
    "function plot_vertex_endpoints(W::Array{Any, 1}, airline_code::String) #MAL\n",
    "    \n",
    "    info = distrib_endpoints(W) #endpoints por nodo inicial\n",
    "    \n",
    "    heatmap(xs, ys, z, \n",
    "        title = string(\"Frecuencia de visitas para \", airline_code),\n",
    "        aspect_ratio = 1, \n",
    "        clims = (0, maximum(mat)), #MÁXIMO DEL MULTIPLEX GLOBAL/AEROLÍNEA MÁS GRANDE ¿?\n",
    "        xticks = :all,\n",
    "        yticks = :all,\n",
    "        xtickfont = font(7, \"Courier\"),\n",
    "        ytickfont = font(7, \"Courier\"),\n",
    "        xlabel = \"Visitas promedio\",\n",
    "        ylabel = \"Aeropuerto inicial\",\n",
    "        xrotation = 50)\n",
    "    \n",
    "    scatter(info, \n",
    "        color = \"#0f87bf\",\n",
    "        alpha = 0.4, \n",
    "        title = string(\"End-points por nodo inicial \", airline_code), \n",
    "        xlabel = \"Aeropuerto inicial\", \n",
    "        ylabel = \"End-points\", \n",
    "        xticks = (1:1:length(W), nombres_multiplex),\n",
    "        legendtitle = airline_code,\n",
    "        label = \"Promedio\",\n",
    "        xrotation = 50)\n",
    "end"
   ]
  },
  {
   "cell_type": "code",
   "execution_count": null,
   "metadata": {},
   "outputs": [],
   "source": [
    "distrib_endpts_M = @time distrib_endpoints(caminata_M)"
   ]
  },
  {
   "cell_type": "code",
   "execution_count": null,
   "metadata": {},
   "outputs": [],
   "source": []
  },
  {
   "cell_type": "code",
   "execution_count": null,
   "metadata": {},
   "outputs": [],
   "source": [
    "\"\"\"\n",
    "    plot_layer_endpoints(W::Array{Any, 1})\n",
    "\n",
    "Función que grafica la información de los endpoints en toda una capa(aerolínea)\n",
    "\"\"\"\n",
    "function plot_layer_endpoints(W::Array{Any, 1})\n",
    "    \n",
    "end"
   ]
  },
  {
   "cell_type": "markdown",
   "metadata": {},
   "source": [
    "### Distribución Betweenness"
   ]
  },
  {
   "cell_type": "code",
   "execution_count": null,
   "metadata": {},
   "outputs": [],
   "source": [
    "\"\"\"\n",
    "    plot_betweenness(W::Array{Any, 1}, airline_code::String)\n",
    "\n",
    "Función que grafica (scatter plot) de la distribución de betweenness de los nodos.\n",
    "\"\"\"\n",
    "function plot_betweenness()\n",
    "    \n",
    "    \n",
    "end\n",
    "\n",
    "\n",
    "function plot_vertex_coverage(W::Array{Any, 1}, airline_code::String)\n",
    "    \n",
    "    info = vertex_coverage(W)\n",
    "    \n",
    "    scatter(info, \n",
    "        color = \"#0f87bf\",\n",
    "        alpha = 0.4, \n",
    "        title = string(\"Cobertura por nodo inicial \", airline_code), \n",
    "        xlabel = \"Aeropuerto inicial\", \n",
    "        ylabel = \"Longitud\", \n",
    "        xticks = (1:1:length(W), nombres_multiplex),\n",
    "        legendtitle = airline_code,\n",
    "        label = \"Promedio\",\n",
    "        xrotation = 50)\n",
    "    \n",
    "end"
   ]
  },
  {
   "cell_type": "markdown",
   "metadata": {},
   "source": [
    "### Grafo"
   ]
  },
  {
   "cell_type": "code",
   "execution_count": null,
   "metadata": {},
   "outputs": [],
   "source": [
    "\"\"\"\n",
    "    my_graph(M::Array{Int64,2}, airline_code::String)\n",
    "\n",
    "Función que hace el grafo de la red aérea dirigida.\n",
    "\"\"\"\n",
    "function my_graph(M::Array{Int64,2}, airline_code::String)\n",
    "    \n",
    "    grafo = DiGraph(M)\n",
    "    \n",
    "end"
   ]
  },
  {
   "cell_type": "code",
   "execution_count": null,
   "metadata": {},
   "outputs": [],
   "source": [
    "jh= my_graph(multiplex, \"2B\")"
   ]
  },
  {
   "cell_type": "markdown",
   "metadata": {},
   "source": [
    "### Plot Grafo"
   ]
  },
  {
   "cell_type": "code",
   "execution_count": null,
   "metadata": {},
   "outputs": [],
   "source": [
    "\"\"\"\n",
    "    plot_net(M::Array{Int64,2}, airline_code::String)\n",
    "\n",
    "Función que hace el grafo de la red aérea dirigida.\n",
    "\"\"\"\n",
    "function plot_net(M::Array{Int64,2}, airline_code::String)\n",
    "    \n",
    "    grafo = DiGraph(M)\n",
    "    red = gplot(grafo)\n",
    "    \n",
    "    return red\n",
    "    \n",
    "end"
   ]
  },
  {
   "cell_type": "code",
   "execution_count": null,
   "metadata": {},
   "outputs": [],
   "source": [
    "ih= plot_net(multiplex, \"2B\")"
   ]
  },
  {
   "cell_type": "code",
   "execution_count": null,
   "metadata": {},
   "outputs": [],
   "source": [
    "\"\"\"\n",
    "    my_betweenness_centrality(M::Array{Int64,2}, airline_code::String)\n",
    "\n",
    "Función que hace el grafo de la red aérea dirigida.\n",
    "\"\"\"\n",
    "function my_betweenness_centrality(M::Array{Int64,2}, airline_code::String)\n",
    "    \n",
    "    grafo = DiGraph(M)\n",
    "    res = betweenness_centrality(grafo)\n",
    "    \n",
    "    return res\n",
    "    \n",
    "end"
   ]
  },
  {
   "cell_type": "code",
   "execution_count": null,
   "metadata": {},
   "outputs": [],
   "source": [
    "ggg= betweenness_centrality(jh)"
   ]
  },
  {
   "cell_type": "code",
   "execution_count": null,
   "metadata": {},
   "outputs": [],
   "source": [
    "sort(ggg)"
   ]
  },
  {
   "cell_type": "code",
   "execution_count": null,
   "metadata": {},
   "outputs": [],
   "source": [
    "\"\"\"\n",
    "    plot_betweenness(M::Array{Int64,2}, airline_code::String)\n",
    "\n",
    "Función que hace el grafo de la red aérea dirigida.\n",
    "\"\"\"\n",
    "function plot_betweenness(M::Array{Int64,2}, airline_code::String)\n",
    "    \n",
    "    aerolinea_matriz = string(airline_code, \"_matriz_du.csv\")\n",
    "    nombres_multiplex = airport_names(\"/Users/yuriko/Documents/UNAM/Tesis_Lic/data/aerolineas_matrices/$aerolinea_matriz\")\n",
    "    \n",
    "    grafo = DiGraph(M)\n",
    "    between = betweenness_centrality(grafo)\n",
    "    orden = sort(between)\n",
    "    \n",
    "    xs = [nombres_multiplex]\n",
    "    \n",
    "    return red\n",
    "    \n",
    "end"
   ]
  },
  {
   "cell_type": "code",
   "execution_count": null,
   "metadata": {},
   "outputs": [],
   "source": [
    "betweenness_centrality(g)"
   ]
  },
  {
   "cell_type": "markdown",
   "metadata": {},
   "source": [
    "## Datos\n",
    "\n",
    "\n",
    "### Aerolínea 2B"
   ]
  },
  {
   "cell_type": "code",
   "execution_count": null,
   "metadata": {},
   "outputs": [],
   "source": [
    "lista_aerolineas = readdlm(\"/Users/yuriko/Documents/UNAM/Tesis_Lic/data/aerolineas_matrices/lista_aerolineas.csv\", ',', String)\n",
    "airline_code = lista_aerolineas[2]"
   ]
  },
  {
   "cell_type": "code",
   "execution_count": null,
   "metadata": {},
   "outputs": [],
   "source": [
    "typeof(airline_code)"
   ]
  },
  {
   "cell_type": "code",
   "execution_count": null,
   "metadata": {},
   "outputs": [],
   "source": [
    "aerolinea_matriz = string(airline_code, \"_matriz_du.csv\")\n",
    "multiplex = import_matrix(\"data/aerolineas_matrices/$aerolinea_matriz\")"
   ]
  },
  {
   "cell_type": "code",
   "execution_count": null,
   "metadata": {
    "scrolled": true
   },
   "outputs": [],
   "source": [
    "data_names_multiplex = airport_names(\"data/aerolineas_matrices/$aerolinea_matriz\")"
   ]
  },
  {
   "cell_type": "markdown",
   "metadata": {},
   "source": [
    "## Distribuciones de grado\n",
    "\n",
    "### Multiplex Global\n",
    "\n",
    "#### Grado de entrada"
   ]
  },
  {
   "cell_type": "code",
   "execution_count": null,
   "metadata": {},
   "outputs": [],
   "source": [
    "in_degree_multiplex = in_degree(multiplex)"
   ]
  },
  {
   "cell_type": "code",
   "execution_count": null,
   "metadata": {},
   "outputs": [],
   "source": [
    "distrib_in_multiplex = distrib_in_degree(multiplex)"
   ]
  },
  {
   "cell_type": "code",
   "execution_count": null,
   "metadata": {},
   "outputs": [],
   "source": [
    "in_M = plot_distrib(multiplex, \"in\", \"Multiplex Distribución Entrada\", \"black\")"
   ]
  },
  {
   "cell_type": "markdown",
   "metadata": {},
   "source": [
    "#### Grado de salida"
   ]
  },
  {
   "cell_type": "code",
   "execution_count": null,
   "metadata": {},
   "outputs": [],
   "source": [
    "out_degree_multiplex = out_degree(multiplex)"
   ]
  },
  {
   "cell_type": "code",
   "execution_count": null,
   "metadata": {},
   "outputs": [],
   "source": [
    "distrib_out_multiplex = distrib_out_degree(multiplex)"
   ]
  },
  {
   "cell_type": "code",
   "execution_count": null,
   "metadata": {},
   "outputs": [],
   "source": [
    "out_M = plot_distrib(multiplex, \"out\", \"Multiplex Distribución Salida\", \"black\")"
   ]
  },
  {
   "cell_type": "markdown",
   "metadata": {},
   "source": [
    "## Vecinos\n",
    "\n",
    "### Multiplex global"
   ]
  },
  {
   "cell_type": "code",
   "execution_count": null,
   "metadata": {},
   "outputs": [],
   "source": [
    "vecinos_M = @time neighbours(multiplex)"
   ]
  },
  {
   "cell_type": "markdown",
   "metadata": {},
   "source": [
    "## Caminatas aleatorias\n",
    "\n",
    "### Multiplex"
   ]
  },
  {
   "cell_type": "code",
   "execution_count": null,
   "metadata": {},
   "outputs": [],
   "source": [
    "caminata_M = @time random_walk(multiplex, 25, 5) #nuevo"
   ]
  },
  {
   "cell_type": "markdown",
   "metadata": {},
   "source": [
    "## Longitud de todas las iteraciones de caminatas "
   ]
  },
  {
   "cell_type": "code",
   "execution_count": null,
   "metadata": {},
   "outputs": [],
   "source": [
    "li_M = @time walk_length(caminata_M)"
   ]
  },
  {
   "cell_type": "markdown",
   "metadata": {},
   "source": [
    "## Longitud promedio de las iteraciones de caminatas de cada nodo inicial"
   ]
  },
  {
   "cell_type": "code",
   "execution_count": null,
   "metadata": {
    "scrolled": false
   },
   "outputs": [],
   "source": [
    "lpn_M = @time walk_av_length(caminata_M)"
   ]
  },
  {
   "cell_type": "code",
   "execution_count": null,
   "metadata": {},
   "outputs": [],
   "source": [
    "plot_av_length_vertex(caminata_M, \"2B\")"
   ]
  },
  {
   "cell_type": "markdown",
   "metadata": {},
   "source": [
    "## Longitud promedio de caminatas por capa"
   ]
  },
  {
   "cell_type": "code",
   "execution_count": null,
   "metadata": {},
   "outputs": [],
   "source": [
    "wl_M = @time walk_layer_length(caminata_M)"
   ]
  },
  {
   "cell_type": "markdown",
   "metadata": {},
   "source": [
    "## Nodos visitados específicamente"
   ]
  },
  {
   "cell_type": "code",
   "execution_count": null,
   "metadata": {},
   "outputs": [],
   "source": [
    "#No lo corro ahora para que no se tarde tanto\n",
    "nv_M = @time visited_vertices(caminata_M)"
   ]
  },
  {
   "cell_type": "code",
   "execution_count": null,
   "metadata": {},
   "outputs": [],
   "source": [
    "@time walk_names(caminata_M, \"2B\", 2)"
   ]
  },
  {
   "cell_type": "code",
   "execution_count": null,
   "metadata": {},
   "outputs": [],
   "source": [
    "for i in 1:length(caminata_M)\n",
    "    cam = @time walk_names(caminata_M, \"2B\", i)\n",
    "    return cam\n",
    "end"
   ]
  },
  {
   "cell_type": "markdown",
   "metadata": {},
   "source": [
    "## Frecuencia de visitas"
   ]
  },
  {
   "cell_type": "code",
   "execution_count": null,
   "metadata": {},
   "outputs": [],
   "source": [
    "freq_visit_M = @time freq_vertices_visits(caminata_M)"
   ]
  },
  {
   "cell_type": "code",
   "execution_count": null,
   "metadata": {},
   "outputs": [],
   "source": [
    "distrib_visit_M = @time distrib_vertices_visits(caminata_M)"
   ]
  },
  {
   "cell_type": "code",
   "execution_count": null,
   "metadata": {},
   "outputs": [],
   "source": [
    "plot_visit_freq(caminata_M);"
   ]
  },
  {
   "cell_type": "code",
   "execution_count": null,
   "metadata": {},
   "outputs": [],
   "source": [
    "freq_vertex_visits(caminata_M, 1)"
   ]
  },
  {
   "cell_type": "code",
   "execution_count": null,
   "metadata": {},
   "outputs": [],
   "source": [
    "distrib_vertex_visits(caminata_M, 1)"
   ]
  },
  {
   "cell_type": "code",
   "execution_count": null,
   "metadata": {},
   "outputs": [],
   "source": [
    "plot_visit_freq_vertex(caminata_M, 1)"
   ]
  },
  {
   "cell_type": "code",
   "execution_count": null,
   "metadata": {},
   "outputs": [],
   "source": [
    "distrib_prom_M = @time distrib_av_visits(caminata_M)"
   ]
  },
  {
   "cell_type": "code",
   "execution_count": null,
   "metadata": {},
   "outputs": [],
   "source": [
    "plot_freq_av_visits(caminata_M, \"2B\")"
   ]
  },
  {
   "cell_type": "markdown",
   "metadata": {},
   "source": [
    "## Cobertura (nodos distintos)"
   ]
  },
  {
   "cell_type": "code",
   "execution_count": null,
   "metadata": {},
   "outputs": [],
   "source": [
    "cobi_M = @time coverage(caminata_M)"
   ]
  },
  {
   "cell_type": "markdown",
   "metadata": {},
   "source": [
    "## Cobertura promedio de las caminatas de cada aeropuerto inicial"
   ]
  },
  {
   "cell_type": "code",
   "execution_count": null,
   "metadata": {},
   "outputs": [],
   "source": [
    "cobs_M = @time vertex_coverage(caminata_M)"
   ]
  },
  {
   "cell_type": "code",
   "execution_count": null,
   "metadata": {},
   "outputs": [],
   "source": [
    "plot_vertex_coverage(caminata_M, \"2B\")"
   ]
  },
  {
   "cell_type": "markdown",
   "metadata": {},
   "source": [
    "## Cobertura promedio"
   ]
  },
  {
   "cell_type": "code",
   "execution_count": null,
   "metadata": {},
   "outputs": [],
   "source": [
    "cobp_M = @time layer_coverage(caminata_M)"
   ]
  },
  {
   "cell_type": "markdown",
   "metadata": {},
   "source": [
    "## Longitudes máximas de caminatas"
   ]
  },
  {
   "cell_type": "code",
   "execution_count": null,
   "metadata": {},
   "outputs": [],
   "source": [
    "lmax_M = @time max_length(caminata_M)"
   ]
  },
  {
   "cell_type": "code",
   "execution_count": null,
   "metadata": {},
   "outputs": [],
   "source": [
    "lMax_M = @time Max_length(caminata_M)"
   ]
  },
  {
   "cell_type": "code",
   "execution_count": null,
   "metadata": {},
   "outputs": [],
   "source": [
    "lavmax_M = @time av_max_length(caminata_M)"
   ]
  },
  {
   "cell_type": "markdown",
   "metadata": {},
   "source": [
    "## Longitudes mínimas de caminatas"
   ]
  },
  {
   "cell_type": "code",
   "execution_count": null,
   "metadata": {},
   "outputs": [],
   "source": [
    "lmin_M = @time min_length(caminata_M)"
   ]
  },
  {
   "cell_type": "code",
   "execution_count": null,
   "metadata": {},
   "outputs": [],
   "source": [
    "lMin_M = @time Min_length(caminata_M)"
   ]
  },
  {
   "cell_type": "code",
   "execution_count": null,
   "metadata": {},
   "outputs": [],
   "source": [
    "lavmin_M = @time av_min_length(caminata_M)"
   ]
  },
  {
   "cell_type": "markdown",
   "metadata": {},
   "source": [
    "## Endpoints"
   ]
  },
  {
   "cell_type": "code",
   "execution_count": null,
   "metadata": {},
   "outputs": [],
   "source": [
    "endpts_M = @time endpoints(caminata_M)"
   ]
  },
  {
   "cell_type": "code",
   "execution_count": null,
   "metadata": {},
   "outputs": [],
   "source": [
    "av_endpts_M = @time av_vertex_endpoints(caminata_M)"
   ]
  },
  {
   "cell_type": "code",
   "execution_count": null,
   "metadata": {},
   "outputs": [],
   "source": [
    "distrib_endpts_M = @time distrib_endpoints(caminata_M)"
   ]
  },
  {
   "cell_type": "code",
   "execution_count": null,
   "metadata": {},
   "outputs": [],
   "source": [
    "which_endpoints_M = @time which_endpoints(multiplex)"
   ]
  },
  {
   "cell_type": "code",
   "execution_count": null,
   "metadata": {},
   "outputs": [],
   "source": [
    "freq_all_endpoints_M = @time freq_all_endpoints(caminata_M)"
   ]
  },
  {
   "cell_type": "code",
   "execution_count": null,
   "metadata": {},
   "outputs": [],
   "source": [
    "#Falta función plot con nombres"
   ]
  }
 ],
 "metadata": {
  "@webio": {
   "lastCommId": null,
   "lastKernelId": null
  },
  "kernelspec": {
   "display_name": "Julia 1.1.0",
   "language": "julia",
   "name": "julia-1.1"
  },
  "language_info": {
   "file_extension": ".jl",
   "mimetype": "application/julia",
   "name": "julia",
   "version": "1.1.0"
  }
 },
 "nbformat": 4,
 "nbformat_minor": 2
}
