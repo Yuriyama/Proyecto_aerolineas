{
 "cells": [
  {
   "cell_type": "markdown",
   "metadata": {},
   "source": [
    "# Random Walks en Alianzas de Aerolíneas"
   ]
  },
  {
   "cell_type": "markdown",
   "metadata": {},
   "source": [
    "## Directorio"
   ]
  },
  {
   "cell_type": "code",
   "execution_count": 67,
   "metadata": {},
   "outputs": [],
   "source": [
    "#Establecer directorio\n",
    "cd(\"$(homedir())/Documents/UNAM/Tesis_Lic\")"
   ]
  },
  {
   "cell_type": "markdown",
   "metadata": {},
   "source": [
    "## Paquetes\n",
    "\n",
    "Se importan todos los paquetes que se necesitarán para las funciones y visualizaciones del proyecto."
   ]
  },
  {
   "cell_type": "code",
   "execution_count": 68,
   "metadata": {},
   "outputs": [],
   "source": [
    "#Para usar sample\n",
    "using StatsBase"
   ]
  },
  {
   "cell_type": "code",
   "execution_count": 69,
   "metadata": {},
   "outputs": [],
   "source": [
    "#Para cargar matrices de adyacencia\n",
    "using DelimitedFiles"
   ]
  },
  {
   "cell_type": "code",
   "execution_count": 70,
   "metadata": {},
   "outputs": [],
   "source": [
    "#Para graficar\n",
    "using Plots"
   ]
  },
  {
   "cell_type": "code",
   "execution_count": 71,
   "metadata": {},
   "outputs": [],
   "source": [
    "#Para poner una semilla en sample\n",
    "using RandomNumbers.Xorshifts"
   ]
  },
  {
   "cell_type": "code",
   "execution_count": null,
   "metadata": {},
   "outputs": [],
   "source": [
    "#No cargar\n",
    "using Plotly"
   ]
  },
  {
   "cell_type": "code",
   "execution_count": null,
   "metadata": {},
   "outputs": [],
   "source": [
    "using FreqTables"
   ]
  },
  {
   "cell_type": "code",
   "execution_count": null,
   "metadata": {},
   "outputs": [],
   "source": [
    "using StatsPlots"
   ]
  },
  {
   "cell_type": "code",
   "execution_count": null,
   "metadata": {},
   "outputs": [],
   "source": [
    "using RandomNumbers"
   ]
  },
  {
   "cell_type": "code",
   "execution_count": null,
   "metadata": {},
   "outputs": [],
   "source": [
    "using Gadfly"
   ]
  },
  {
   "cell_type": "markdown",
   "metadata": {},
   "source": [
    "## Funciones"
   ]
  },
  {
   "cell_type": "markdown",
   "metadata": {},
   "source": [
    "### Importar datos"
   ]
  },
  {
   "cell_type": "code",
   "execution_count": 75,
   "metadata": {},
   "outputs": [
    {
     "data": {
      "text/plain": [
       "importar_matriz"
      ]
     },
     "execution_count": 75,
     "metadata": {},
     "output_type": "execute_result"
    }
   ],
   "source": [
    "\"\"\"\n",
    "    importar_matriz(file::string)\n",
    "\n",
    "Función que importa el archivo de la matriz de adyacencia de R.\n",
    "\"\"\"\n",
    "function importar_matriz(arch::AbstractString)\n",
    "    archivo_R = readdlm(arch, ',') #readdlm(\"data/multi_17_du.csv\", ',')\n",
    "    archivo_R = archivo_R[2:end, :]\n",
    "    matriz = archivo_R[:, 2:end]\n",
    "    nombre = convert(Array{Int64,2}, matriz)\n",
    "    return nombre\n",
    "end"
   ]
  },
  {
   "cell_type": "markdown",
   "metadata": {},
   "source": [
    "### Nombres de datos"
   ]
  },
  {
   "cell_type": "code",
   "execution_count": 83,
   "metadata": {},
   "outputs": [
    {
     "data": {
      "text/plain": [
       "data_names"
      ]
     },
     "execution_count": 83,
     "metadata": {},
     "output_type": "execute_result"
    }
   ],
   "source": [
    "\"\"\"\n",
    "    data_names(M)\n",
    "\n",
    "Función que obtiene un arreglo con los nombres de aeropuertos de la matriz\n",
    "\"\"\"\n",
    "function data_names(arch::AbstractString)\n",
    "    archivo_R = readdlm(arch, ',')\n",
    "    columna = archivo_R[1, :]\n",
    "    nombres = columna[2:end]\n",
    "    return nombres\n",
    "end"
   ]
  },
  {
   "cell_type": "markdown",
   "metadata": {},
   "source": [
    "### Grado"
   ]
  },
  {
   "cell_type": "code",
   "execution_count": 6,
   "metadata": {},
   "outputs": [
    {
     "data": {
      "text/plain": [
       "n_in_degree"
      ]
     },
     "execution_count": 6,
     "metadata": {},
     "output_type": "execute_result"
    }
   ],
   "source": [
    "\"\"\"\n",
    "\n",
    "    n_in_degree(M::Array{Int64,2}, n::Int64)\n",
    "\n",
    "Función que obtiene el grado de entrada de un cierto nodo n de la red representada por la matriz de adyacencia M.\n",
    "\n",
    "Parámetros:\n",
    "M matriz de adyacencia que acepta un arreglo de tipo Array{Int64,2}\n",
    "n nodo a evaluar de tipo Int64\n",
    "\n",
    "Resultado:\n",
    "Grado de entrada del nodo n representado por un valor numérico de tipo Int64\n",
    "\n",
    "Implementación\n",
    "\n",
    "#### Ejemplos\n",
    "\"\"\"\n",
    "function n_in_degree(M::Array{Int64,2}, n::Int64)\n",
    "    grado_entrada = sum(M[n, :])\n",
    "end"
   ]
  },
  {
   "cell_type": "code",
   "execution_count": 7,
   "metadata": {},
   "outputs": [
    {
     "data": {
      "text/plain": [
       "in_degree"
      ]
     },
     "execution_count": 7,
     "metadata": {},
     "output_type": "execute_result"
    }
   ],
   "source": [
    "\"\"\"\n",
    "in_degree(M)\n",
    "\n",
    "Función que obtiene el grado de entrada de una red representada por la matriz de adyacencia M.\n",
    "\n",
    "Parámetros:\n",
    "* M matriz de adyacencia que acepta un arreglo de tipo Array{Int64,2}\n",
    "\n",
    "Resultado:\n",
    "Devuelve un arreglo de tipo Array{Int64,2} que contiene los grados de entrada de todos los nodos n de la red.\n",
    "\n",
    "## Implementación\n",
    "\n",
    "### Ejemplos\n",
    "\"\"\"\n",
    "function in_degree(M::Array)\n",
    "    grados_entrada = sum(M, dims = 2)\n",
    "end"
   ]
  },
  {
   "cell_type": "code",
   "execution_count": 8,
   "metadata": {},
   "outputs": [
    {
     "data": {
      "text/plain": [
       "n_out_degree"
      ]
     },
     "execution_count": 8,
     "metadata": {},
     "output_type": "execute_result"
    }
   ],
   "source": [
    "\"\"\"\n",
    "n_out_degree(M, n)\n",
    "\n",
    "Función que obtiene el grado de salida de un cierto nodo n de la red representada por la matriz de adyacencia M.\n",
    "\n",
    "Parámetros:\n",
    "* M matriz de adyacencia que acepta un arreglo de tipo Array{Int64,2}\n",
    "* n nodo a evaluar de tipo Int64\n",
    "\n",
    "Resultado:\n",
    "Grado de salida del nodo n representado por un valor numérico de tipo Int64\n",
    "\n",
    "## Implementación\n",
    "\n",
    "### Ejemplos\n",
    "\"\"\"\n",
    "function n_out_degree(M::Array{Int64,2}, n::Int64)\n",
    "    grado_salida = sum(M[:, n])\n",
    "end"
   ]
  },
  {
   "cell_type": "code",
   "execution_count": 9,
   "metadata": {},
   "outputs": [
    {
     "data": {
      "text/plain": [
       "out_degree"
      ]
     },
     "execution_count": 9,
     "metadata": {},
     "output_type": "execute_result"
    }
   ],
   "source": [
    "\"\"\"\n",
    "    out_degree(M)\n",
    "\n",
    "Función que obtiene el grado de salida de una red representada por la matriz de adyacencia M.\n",
    "\n",
    "Parámetros:\n",
    "* M matriz de adyacencia que acepta un arreglo de tipo Array{Int64,2}\n",
    "\n",
    "Resultado:\n",
    "Devuelve un arreglo de tipo Array{Int64,2} que contiene los grados de salida de todos los nodos n de la red.\n",
    "\n",
    "## Implementación\n",
    "\n",
    "### Ejemplos\n",
    "\"\"\"\n",
    "function out_degree(M::Array)\n",
    "    grados_salida = sum(M, dims = 1)\n",
    "end"
   ]
  },
  {
   "cell_type": "code",
   "execution_count": null,
   "metadata": {},
   "outputs": [],
   "source": [
    "\"\"\"\n",
    "degree(M)\n",
    "\n",
    "Función que obtiene el grado de una red representada por la matriz de adyacencia M.\n",
    "\n",
    "Parámetros:\n",
    "* M matriz de adyacencia que acepta un arreglo de tipo Array{Int64,2}\n",
    "\n",
    "Resultado:\n",
    "Devuelve el grado de la red, el cual es representado por un valor numérico de tipo Float64\n",
    "\n",
    "## Implementación\n",
    "\n",
    "### Ejemplos\n",
    "\"\"\"\n",
    "\n",
    "function degree(M::Array)\n",
    "    \n",
    "    grado_entrada = degree_in(M)\n",
    "    \n",
    "    grado_red = sum(grado_entrada) / length(grado_entrada) #Grado de la red, promedio de los grados\n",
    "end"
   ]
  },
  {
   "cell_type": "markdown",
   "metadata": {},
   "source": [
    "### Distribución de grado"
   ]
  },
  {
   "cell_type": "code",
   "execution_count": 10,
   "metadata": {},
   "outputs": [
    {
     "data": {
      "text/plain": [
       "distrib_in_degree (generic function with 1 method)"
      ]
     },
     "execution_count": 10,
     "metadata": {},
     "output_type": "execute_result"
    }
   ],
   "source": [
    "\"\"\"\n",
    "Función de distribución de grado de entrada\n",
    "\"\"\"\n",
    "\n",
    "\n",
    "function distrib_in_degree(M::Array)\n",
    "    x = in_degree(M)\n",
    "    degree_count = counts(x)\n",
    "    return degree_count\n",
    "end"
   ]
  },
  {
   "cell_type": "code",
   "execution_count": 11,
   "metadata": {},
   "outputs": [
    {
     "data": {
      "text/plain": [
       "distrib_out_degree (generic function with 1 method)"
      ]
     },
     "execution_count": 11,
     "metadata": {},
     "output_type": "execute_result"
    }
   ],
   "source": [
    "\"\"\"\n",
    "Función de distribución de grado de salida\n",
    "\"\"\"\n",
    "\n",
    "function distrib_out_degree(M::Array)\n",
    "    x = out_degree(M)\n",
    "    degree_count = counts(x)\n",
    "    return degree_count\n",
    "end"
   ]
  },
  {
   "cell_type": "code",
   "execution_count": null,
   "metadata": {},
   "outputs": [],
   "source": [
    "\"\"\"\n",
    "Función de distribución\n",
    "\"\"\"\n",
    "\n",
    "function distrib_degree(M::Array)\n",
    "    x = degree(M)\n",
    "    distribucion = Int64[]\n",
    "    \n",
    "    for i in 1:length(x)\n",
    "        degree_count = count(x == i, x)\n",
    "        push!(distribucion, degree_count)\n",
    "    end\n",
    "    distribucion\n",
    "end"
   ]
  },
  {
   "cell_type": "code",
   "execution_count": null,
   "metadata": {},
   "outputs": [],
   "source": [
    "#Hacer una función analize_distribution que nos dé el diccionario de frecuencias \n",
    "function analize_distribution(M::array, t)\n",
    "    if x = \n",
    "    countmap()\n",
    "end"
   ]
  },
  {
   "cell_type": "code",
   "execution_count": 153,
   "metadata": {},
   "outputs": [
    {
     "data": {
      "text/plain": [
       "plot_distrib (generic function with 2 methods)"
      ]
     },
     "execution_count": 153,
     "metadata": {},
     "output_type": "execute_result"
    }
   ],
   "source": [
    "function plot_distrib(M::Array, tipo::String, titulo::String, color::String)\n",
    "    \n",
    "    pyplot()\n",
    "    \n",
    "    if tipo == \"in\"\n",
    "        distribucion = distrib_in_degree(M::Array)\n",
    "    elseif tipo == \"out\"\n",
    "        distribucion = distrib_out_degree(M::Array)\n",
    "    end\n",
    "    distribucion\n",
    "    #@show distribucion\n",
    "    graph = bar(distribucion, fillcolor = color, markersize = 3, linealpha = 0.5, \n",
    "    title = titulo, \n",
    "    xlabel = \"Grado\", \n",
    "    ylabel = \"Frecuencia\",\n",
    "    xlims = (-10,300), #obtener límites\n",
    "    ylims = (-10,1000)) #obtener límites\n",
    "end"
   ]
  },
  {
   "cell_type": "markdown",
   "metadata": {},
   "source": [
    "### Random walks"
   ]
  },
  {
   "cell_type": "code",
   "execution_count": 13,
   "metadata": {},
   "outputs": [
    {
     "data": {
      "text/plain": [
       "r_walks (generic function with 1 method)"
      ]
     },
     "execution_count": 13,
     "metadata": {},
     "output_type": "execute_result"
    }
   ],
   "source": [
    "\"\"\"\n",
    "\n",
    "    r_walks(M::Array{Int64,2}, f::Int64, steps::Int64, iter::Int64)\n",
    "\n",
    "La función r_walks tiene como parámetros:\n",
    "M, matriz de adyacencia de tipo Array{Int64,2}\n",
    "f, nodo inicial de tipo Int64\n",
    "steps, número de pasos de tipo Int64\n",
    "iter, número de iteraciones de tipo Int64.\n",
    "La función crea un caminante aleatorio sobre la matriz, el cual tiene igual probabilidad de avanzar \n",
    "hacia cualquiera de sus vecinos.\n",
    "Regresa un arreglo que contiene todas las trayectorias que tomó el caminante aleatorio.\n",
    "\"\"\"\n",
    "function r_walks(M::Array{Int64,2}, f::Int64, steps::Int64, iter::Int64)\n",
    "    \n",
    "    nodos = size(M, 1) #aeropuertos  \n",
    "    paths = zeros(Int64, (iter, steps + 1))\n",
    "    s = f\n",
    "    seed = 1\n",
    "\n",
    "    for i in 1:iter\n",
    "        paths[i, 1] = f\n",
    "        \n",
    "        for p in 1:steps \n",
    "            row = M[s, :] #Renglón correspondiente al nodo s\n",
    "            vecinos = findall(x -> x != 0, row)\n",
    "            \n",
    "            if vecinos == []\n",
    "                break\n",
    "            else\n",
    "                a = sample(Xoroshiro128Plus(seed), vecinos) \n",
    "                paths[i, p + 1] = a\n",
    "                s = a\n",
    "                seed += 1\n",
    "            end\n",
    "            \n",
    "        end\n",
    "        s = f\n",
    "        \n",
    "    end\n",
    "    \n",
    "    return paths \n",
    "end"
   ]
  },
  {
   "cell_type": "code",
   "execution_count": 14,
   "metadata": {},
   "outputs": [
    {
     "data": {
      "text/plain": [
       "random_walk (generic function with 1 method)"
      ]
     },
     "execution_count": 14,
     "metadata": {},
     "output_type": "execute_result"
    }
   ],
   "source": [
    "\"\"\"\n",
    "\n",
    "    random_walk(M::Array{Int64,2}, steps::Int64, iter::Int64)\n",
    "\n",
    "La función random_walk tiene como parámetros:\n",
    "M, matriz de adyacencia de tipo Array{Int64,2}\n",
    "steps, número de pasos de tipo Int64\n",
    "iter, número de iteraciones de tipo Int64.\n",
    "La función crea un caminante aleatorio sobre la matriz con igual probabilidad de avanzar \n",
    "hacia cualquiera de sus vecinos. Esta función recorre todos los nodos de la red como\n",
    "nodos iniciales y sobre ellos itera para obtener el número de caminos que se le pidió.\n",
    "Regresa un arreglo que contiene arreglos asociados a todas las trayectorias que tomó el \n",
    "caminante aleatorio para cada nodo inicial de la red.\n",
    "\"\"\"\n",
    "function random_walk(M::Array{Int64,2}, steps::Int64, iter::Int64) \n",
    "    \n",
    "    random_walks = []\n",
    "    nodos = size(M, 1)\n",
    "    \n",
    "    for f in 1:nodos #aeropuertos\n",
    "        paths = r_walks(M, f, steps, iter)\n",
    "        push!(random_walks, paths)\n",
    "    end\n",
    "    \n",
    "    random_walks\n",
    "end"
   ]
  },
  {
   "cell_type": "markdown",
   "metadata": {},
   "source": [
    "### Longitud de caminatas"
   ]
  },
  {
   "cell_type": "code",
   "execution_count": 15,
   "metadata": {},
   "outputs": [
    {
     "data": {
      "text/plain": [
       "walk_length (generic function with 1 method)"
      ]
     },
     "execution_count": 15,
     "metadata": {},
     "output_type": "execute_result"
    }
   ],
   "source": [
    "\"\"\"\n",
    "La función walk_length tiene como parámetros:\n",
    "RW, arreglo de arreglos de tipo Array{Any,1} que corresponde al arreglo de caminatas aleatorias.\n",
    "La función regresa un arreglo de arreglos que contiene las longitudes de todas las trayectorias que tomó el \n",
    "caminante aleatorio para cada nodo inicial de la red.\n",
    "\"\"\"\n",
    "function walk_length(W)\n",
    "    \n",
    "    longitudes = Array[]\n",
    "    c = 0\n",
    "    v = length(W) #tamaño de la matriz, número de nodos\n",
    "    s = size(W[1], 1) #lo puedo sacar, para todos es el mismo. Es el número de iteraciones\n",
    "    t = size(W[1], 2) #número de pasos\n",
    "    longz = zeros(Int64, s) #Arreglo de ceros de tamaño número de iteraciones\n",
    "    \n",
    "    for i in 1:v\n",
    "        #@show i\n",
    "        for j in 1:s\n",
    "            #@show j\n",
    "            for k in 1:t\n",
    "                #@show k\n",
    "                \n",
    "                if W[i][j, :][k] != 0 #W[i][j, :] #renglón a analizar\n",
    "                    c += 1 \n",
    "                else\n",
    "                    break\n",
    "                end\n",
    "                \n",
    "            end\n",
    "            \n",
    "            longz[j] = c - 1\n",
    "            c = 0\n",
    "            \n",
    "        end\n",
    "        \n",
    "        push!(longitudes, longz)\n",
    "        #@show longitudes\n",
    "        longz = zeros(Int64, s) #Arreglo de ceros de tamaño número de iteraciones\n",
    "    \n",
    "    end\n",
    "    return longitudes\n",
    "end"
   ]
  },
  {
   "cell_type": "code",
   "execution_count": 16,
   "metadata": {},
   "outputs": [
    {
     "data": {
      "text/plain": [
       "walk_av_length (generic function with 1 method)"
      ]
     },
     "execution_count": 16,
     "metadata": {},
     "output_type": "execute_result"
    }
   ],
   "source": [
    "\"\"\"\n",
    "La función walk_av_length tiene como parámetro W, que es un arreglo de arreglos (que se puede obtener de la \n",
    "función walk_length). \n",
    "Regresa un arreglo con entradas correspondientes al promedio de las longitudes de \n",
    "las caminatas aleatorias para cada nodo de inicio antes de caer en un nodo con grado de salida 0.\n",
    "\"\"\"\n",
    "function walk_av_length(W)\n",
    "    \n",
    "    proms = []\n",
    "    wlength = walk_length(W)\n",
    "    \n",
    "    for i in 1:length(wlength)\n",
    "        av = mean(wlength[i])\n",
    "        push!(proms, av)\n",
    "    end\n",
    "    \n",
    "    proms\n",
    "end"
   ]
  },
  {
   "cell_type": "code",
   "execution_count": 17,
   "metadata": {},
   "outputs": [
    {
     "data": {
      "text/plain": [
       "walk_layer_length (generic function with 1 method)"
      ]
     },
     "execution_count": 17,
     "metadata": {},
     "output_type": "execute_result"
    }
   ],
   "source": [
    "\"\"\"\n",
    "Función que saca el promedio de longitud de caminata en la capa\n",
    "\"\"\"\n",
    "function walk_layer_length(W)\n",
    "    \n",
    "    x = walk_av_length(W)\n",
    "    av = mean(x)\n",
    "    \n",
    "    return av\n",
    "end"
   ]
  },
  {
   "cell_type": "markdown",
   "metadata": {},
   "source": [
    "### Nodos/aeropuertos visitados"
   ]
  },
  {
   "cell_type": "code",
   "execution_count": 18,
   "metadata": {},
   "outputs": [
    {
     "data": {
      "text/plain": [
       "nodos_visitados (generic function with 1 method)"
      ]
     },
     "execution_count": 18,
     "metadata": {},
     "output_type": "execute_result"
    }
   ],
   "source": [
    "\"\"\"\n",
    "La función caminos tiene como parámetro W que es un arreglo de arreglos.\n",
    "Regresa los nodos diferentes a los que llega el caminante.\n",
    "\"\"\"\n",
    "function nodos_visitados(W)\n",
    "    \n",
    "    cobert = []\n",
    "    v = length(W) #tamaño de la matriz, número de nodos\n",
    "    s = size(W[1], 1) #lo puedo sacar, para todos es el mismo. Es el número de iteraciones\n",
    "    t = size(W[1], 2) #número de pasos, no necesario\n",
    "    #visit = zeros(Int64, s) #Arreglo de ceros de tamaño número de iteraciones\n",
    "    visit = []\n",
    "    \n",
    "    for i in 1:v        \n",
    "        for j in 1:s\n",
    "            u = unique(W[i][j, :])\n",
    "            push!(visit, u)\n",
    "        end\n",
    "        \n",
    "        push!(cobert, visit)\n",
    "        visit = []\n",
    "    end\n",
    "    \n",
    "    return cobert\n",
    "end"
   ]
  },
  {
   "cell_type": "code",
   "execution_count": null,
   "metadata": {},
   "outputs": [],
   "source": [
    "#Hacer una función que te muestre el nombre de los aeropuertos diferentes que visita\n",
    "function aeropuertos_visitados\n",
    "    aeropuertos = []\n",
    "end"
   ]
  },
  {
   "cell_type": "markdown",
   "metadata": {},
   "source": [
    "### Frecuencia de visitas"
   ]
  },
  {
   "cell_type": "code",
   "execution_count": 176,
   "metadata": {},
   "outputs": [
    {
     "data": {
      "text/plain": [
       "freq_visitas_nodos (generic function with 1 method)"
      ]
     },
     "execution_count": 176,
     "metadata": {},
     "output_type": "execute_result"
    }
   ],
   "source": [
    "#Función que me haga un diccionario con frecuencias\n",
    "function freq_visitas_nodos(W::Array)\n",
    "    \n",
    "    dicc = [] #arreglo vacío\n",
    "    \n",
    "    nodos = length(W) #tamaño de caminatas\n",
    "    iter = size(W[1], 1) #núm de iteraciones\n",
    "    diccionario = 0\n",
    "    \n",
    "    #for i = n\n",
    "    for i in 1:nodos #corro por todos los nodos\n",
    "        for j in 1:iter #corro por las iteraciones\n",
    "            diccionario = countmap(W[i][j, :]) #hago diccionario de freqs de cada caminata\n",
    "            push!(dicc, diccionario) #guardo el diccionario en un arreglo vacío\n",
    "        end\n",
    "        \n",
    "        diccionario = 0\n",
    "    end\n",
    "    return dicc\n",
    "end"
   ]
  },
  {
   "cell_type": "code",
   "execution_count": null,
   "metadata": {},
   "outputs": [],
   "source": [
    "#función que crea arreglo de arreglos con la distribución de frecuencia de visitas\n",
    "function distrib_visitas_nodos(W)\n",
    "    \n",
    "    x = freq_visitas_nodos(W) #diccionario de frecuencias\n",
    "    l = length(W)\n",
    "    f = 0\n",
    "    frec_total = [] #zeros(Array, length(x)) #arreglo de ceros de tamaño núm dicc\n",
    "    frec_nodo = zeros(Int64, l+1) #arreglo de nodos de tamaño núm nodos para get frec\n",
    "\n",
    "    for i in 1:length(x) #corro por los nodos\n",
    "\n",
    "        for j in 1:l+1 #corro por los nodos\n",
    "\n",
    "            frec_nodo[j] = get(x[i], f, 0) #entrada j de freq nodo la cambio por la entrada j del dicc i\n",
    "            \n",
    "            \n",
    "            f += 1\n",
    "        end\n",
    "        push!(frec_total, frec_nodo)\n",
    "        \n",
    "        f = 0\n",
    "        frec_nodo = zeros(Int64, l+1)\n",
    "        \n",
    "    end\n",
    "    \n",
    "    return frec_total\n",
    "end"
   ]
  },
  {
   "cell_type": "code",
   "execution_count": null,
   "metadata": {},
   "outputs": [],
   "source": [
    "#función que hace un heatmap de nodos en los que cae, cada renglón corresponde a una caminata\n",
    "function plot_visit_freq(W)\n",
    "    \n",
    "    pyplot()\n",
    "    x = distrib_visitas_nodos(W)\n",
    "    h = transpose(hcat(x...))\n",
    "\n",
    "    xs = [string(\"n\", i) for i = 0:1:length(W)]\n",
    "    ys = [string(\"rw\", i) for i = 1:length(x)]\n",
    "    z = h\n",
    "    heatmap(xs, ys, z, aspect_ratio=1)\n",
    "end"
   ]
  },
  {
   "cell_type": "code",
   "execution_count": null,
   "metadata": {},
   "outputs": [],
   "source": [
    "#Función que me haga un diccionario con frecuencias para un nodo inicial\n",
    "function freq_visitas_nodo(W::Array, n)\n",
    "    \n",
    "    dicc = [] #arreglo vacío\n",
    "    \n",
    "    nodos = length(W) #tamaño de caminatas\n",
    "    iter = size(W[1], 1) #núm de iteraciones\n",
    "    diccionario = 0\n",
    "    \n",
    "    for j in 1:iter #corro por las iteraciones\n",
    "          \n",
    "        diccionario = countmap(W[n][j, :]) #hago diccionario de freqs de cada caminata\n",
    "          \n",
    "        push!(dicc, diccionario) #guardo el diccionario en un arreglo vacío\n",
    "          \n",
    "    end\n",
    "    \n",
    "    return dicc\n",
    "end"
   ]
  },
  {
   "cell_type": "code",
   "execution_count": null,
   "metadata": {},
   "outputs": [],
   "source": [
    "#función que crea arreglo de arreglos con la distribución de frecuencia de visitas de un nodo inicial\n",
    "function distrib_visitas_nodo(W, n)\n",
    "    \n",
    "    x = freq_visitas_nodo(W, n) #diccionario de frecuencias\n",
    "    l = length(W)\n",
    "    f = 0\n",
    "    frec_total = [] #zeros(Array, length(x)) #arreglo de ceros de tamaño núm dicc\n",
    "    frec_nodo = zeros(Int64, l+1) #arreglo de nodos de tamaño núm nodos para get frec\n",
    "\n",
    "    for i in 1:length(x) #corro por los nodos\n",
    "\n",
    "        for j in 1:l+1 #corro por los nodos\n",
    "\n",
    "            frec_nodo[j] = get(x[i], f, 0) #entrada j de freq nodo la cambio por la entrada j del dicc i\n",
    "            \n",
    "            \n",
    "            f += 1\n",
    "        end\n",
    "        push!(frec_total, frec_nodo)\n",
    "        \n",
    "        f = 0\n",
    "        frec_nodo = zeros(Int64, l+1)\n",
    "        \n",
    "    end\n",
    "    \n",
    "    return frec_total\n",
    "end"
   ]
  },
  {
   "cell_type": "code",
   "execution_count": null,
   "metadata": {},
   "outputs": [],
   "source": [
    "#función que hace un heatmap de nodos en los que cae, cada renglón corresponde a una caminata con cierto nodo inicial\n",
    "function plot_visit_freq_nodo(W, n)\n",
    "    \n",
    "    pyplot()\n",
    "    x = distrib_visitas_nodo(W, n)\n",
    "    h = transpose(hcat(x...))\n",
    "    pasos = size(w[1],2)-1\n",
    "\n",
    "    xs = [string(\"n\", i) for i = 0:1:length(W)]\n",
    "    ys = [string(\"rw\", i) for i = 1:length(x)]\n",
    "    z = h\n",
    "    heatmap(xs, ys, z, aspect_ratio = 1, clims = (0, pasos))\n",
    "end"
   ]
  },
  {
   "cell_type": "code",
   "execution_count": null,
   "metadata": {},
   "outputs": [],
   "source": [
    "#Función que me haga distribución por nodo inicial y me muestra todos\n",
    "function distrib_nodos_prom(W::Array)\n",
    "    \n",
    "    nodos = length(W) #número de nodos\n",
    "    dicc = zeros(Float64, nodos, nodos+1) #arreglo ceros\n",
    "    nombres = 0:1:nodos\n",
    "    \n",
    "    for i in 1:nodos #corro por todos los nodos\n",
    "        conteos = counts(W[i]) #hago diccionario de freqs de cada caminata\n",
    "        dicc[i,:] = conteos \n",
    "    end\n",
    "\n",
    "    dicc\n",
    "end"
   ]
  },
  {
   "cell_type": "code",
   "execution_count": null,
   "metadata": {},
   "outputs": [],
   "source": [
    "#Función que me haga un diccionario con frecuencias por nodo inicial y me muestra todos\n",
    "function plot_freq_nodos_prom(W::Array)\n",
    "    \n",
    "    pyplot()\n",
    "    x = distrib_nodos_prom(W)\n",
    "    \n",
    "    xs = [string(\"n\", i) for i = 0:1:length(W)]\n",
    "    ys = [string(\"rw\", i) for i = 1:length(W)]\n",
    "    z = x\n",
    "    heatmap(xs, ys, z, aspect_ratio = 1, clims = (0, maximum(x)))\n",
    "end"
   ]
  },
  {
   "cell_type": "code",
   "execution_count": null,
   "metadata": {},
   "outputs": [],
   "source": []
  },
  {
   "cell_type": "code",
   "execution_count": null,
   "metadata": {},
   "outputs": [],
   "source": [
    "\"\"\"\n",
    "Regresa los nodos que visitó y su frecuencia para cada iteración\n",
    "??????????????????\n",
    "\"\"\"\n",
    "function frecuencia_visitas_it(W::Array)\n",
    "    \n",
    "    v = length(W)\n",
    "    s = size(W[1], 1)\n",
    "    t = size(W[1], 2)\n",
    "    x = nodos_visitados(W)\n",
    "    frecuencias = []\n",
    "    frec = []\n",
    "\n",
    "    for j in 1:v\n",
    "        for k in 1:s\n",
    "            u = counts(grado_entrada_SA[k], 1:length(grado_entrada_SA))    \n",
    "            push!(frec, u)\n",
    "        end\n",
    "    push!(frecuencias, frec)\n",
    "    end\n",
    "    frecuencias\n",
    "end"
   ]
  },
  {
   "cell_type": "code",
   "execution_count": null,
   "metadata": {},
   "outputs": [],
   "source": []
  },
  {
   "cell_type": "markdown",
   "metadata": {},
   "source": [
    "### Cobertura"
   ]
  },
  {
   "cell_type": "code",
   "execution_count": 19,
   "metadata": {},
   "outputs": [
    {
     "data": {
      "text/plain": [
       "cobertura (generic function with 1 method)"
      ]
     },
     "execution_count": 19,
     "metadata": {},
     "output_type": "execute_result"
    }
   ],
   "source": [
    "\"\"\"\n",
    "La función cobertura tiene como parámetro W que es un arreglo de arreglos.\n",
    "Regresa el número de nodos diferentes a los que llega el caminante.\n",
    "\"\"\"\n",
    "function cobertura(W) \n",
    "    \n",
    "    cobert = []\n",
    "    \n",
    "    v = length(W) #tamaño de la matriz, número de nodos\n",
    "    x = nodos_visitados(W)\n",
    "    s = size(x[1], 1) #lo puedo sacar, para todos es el mismo. Es el número de iteraciones\n",
    "    longz = zeros(Int64, s) #Arreglo de ceros de tamaño número de iteraciones\n",
    "    \n",
    "    for i in 1:v        \n",
    "        for j in 1:s\n",
    "            l = length(x[i][j])\n",
    "            longz[j] = l\n",
    "        end\n",
    "        push!(cobert, longz)\n",
    "        longz = zeros(Int64, s)\n",
    "    end\n",
    "    return cobert\n",
    "end\n"
   ]
  },
  {
   "cell_type": "code",
   "execution_count": 20,
   "metadata": {},
   "outputs": [
    {
     "data": {
      "text/plain": [
       "n_cobertura_av (generic function with 1 method)"
      ]
     },
     "execution_count": 20,
     "metadata": {},
     "output_type": "execute_result"
    }
   ],
   "source": [
    "\"\"\"\n",
    "n_cobertura_av con parámetro W (caminatas) da el promedio de la caminata por nodo inicial. \n",
    "\"\"\"\n",
    "function n_cobertura_av(W) #Esta es la importante\n",
    "    \n",
    "    longitud = []\n",
    "    x = cobertura(W)\n",
    "    \n",
    "    for i in 1:length(x)\n",
    "        l = mean(x[i])\n",
    "        push!(longitud, l)\n",
    "    end\n",
    "    longitud\n",
    "end\n"
   ]
  },
  {
   "cell_type": "code",
   "execution_count": 21,
   "metadata": {},
   "outputs": [
    {
     "data": {
      "text/plain": [
       "cobertura_av (generic function with 1 method)"
      ]
     },
     "execution_count": 21,
     "metadata": {},
     "output_type": "execute_result"
    }
   ],
   "source": [
    "\"\"\"\n",
    "cobertura_av da el promedio de la longitud de las caminatas para todos los nodos, como un número.\n",
    "\"\"\"\n",
    "function cobertura_av(W)\n",
    "    x = n_cobertura_av(W)\n",
    "    promedio = mean(x)\n",
    "    return promedio\n",
    "end\n"
   ]
  },
  {
   "cell_type": "markdown",
   "metadata": {},
   "source": [
    "### Máximos y mínimos de longitud"
   ]
  },
  {
   "cell_type": "code",
   "execution_count": 22,
   "metadata": {},
   "outputs": [
    {
     "data": {
      "text/plain": [
       "max_length (generic function with 1 method)"
      ]
     },
     "execution_count": 22,
     "metadata": {},
     "output_type": "execute_result"
    }
   ],
   "source": [
    "\"\"\"\n",
    "Da la longitud máxima de cada iteración de cada nodo inicial.\n",
    "\"\"\"\n",
    "function max_length(W)\n",
    "    max = []\n",
    "    x = cobertura(W)\n",
    "    for i in 1:length(x)\n",
    "        m = maximum(x[i])\n",
    "        push!(max, m)\n",
    "    end\n",
    "    max\n",
    "end\n"
   ]
  },
  {
   "cell_type": "code",
   "execution_count": 23,
   "metadata": {},
   "outputs": [
    {
     "data": {
      "text/plain": [
       "Max_length (generic function with 1 method)"
      ]
     },
     "execution_count": 23,
     "metadata": {},
     "output_type": "execute_result"
    }
   ],
   "source": [
    "\"\"\"\n",
    "Da la longitud máxima total.\n",
    "\"\"\"\n",
    "function Max_length(W)\n",
    "    x = max_length(W)\n",
    "    m = maximum(x)\n",
    "    return m\n",
    "end\n"
   ]
  },
  {
   "cell_type": "code",
   "execution_count": 24,
   "metadata": {},
   "outputs": [
    {
     "data": {
      "text/plain": [
       "av_max_length (generic function with 1 method)"
      ]
     },
     "execution_count": 24,
     "metadata": {},
     "output_type": "execute_result"
    }
   ],
   "source": [
    "\"\"\"\n",
    "Regresa el promedio de la longitud máxima de cada nodo inicial.\n",
    "\"\"\"\n",
    "function av_max_length(W)\n",
    "    x = max_length(W)\n",
    "    prom = mean(x)\n",
    "    return prom\n",
    "end\n"
   ]
  },
  {
   "cell_type": "code",
   "execution_count": 25,
   "metadata": {},
   "outputs": [
    {
     "data": {
      "text/plain": [
       "min_length (generic function with 1 method)"
      ]
     },
     "execution_count": 25,
     "metadata": {},
     "output_type": "execute_result"
    }
   ],
   "source": [
    "\"\"\"\n",
    "Da la longitud mínima de cada iteración de cada nodo inicial.\n",
    "\"\"\"\n",
    "function min_length(W)\n",
    "    min = []\n",
    "    x = cobertura(W)\n",
    "    for i in 1:length(x)\n",
    "        m = minimum(x[i])\n",
    "        push!(min, m)\n",
    "    end\n",
    "    min\n",
    "end\n"
   ]
  },
  {
   "cell_type": "code",
   "execution_count": 26,
   "metadata": {},
   "outputs": [
    {
     "data": {
      "text/plain": [
       "Min_length (generic function with 1 method)"
      ]
     },
     "execution_count": 26,
     "metadata": {},
     "output_type": "execute_result"
    }
   ],
   "source": [
    "\"\"\"\n",
    "Da la longitud mínima total.\n",
    "\"\"\"\n",
    "function Min_length(W)\n",
    "    x = min_length(W)\n",
    "    m = minimum(x)\n",
    "    return m\n",
    "end\n"
   ]
  },
  {
   "cell_type": "code",
   "execution_count": 27,
   "metadata": {},
   "outputs": [
    {
     "data": {
      "text/plain": [
       "av_min_length (generic function with 1 method)"
      ]
     },
     "execution_count": 27,
     "metadata": {},
     "output_type": "execute_result"
    }
   ],
   "source": [
    "\"\"\"\n",
    "Regresa el promedio de la longitud mínima de cada nodo inicial.\n",
    "\"\"\"\n",
    "function av_min_length(W)\n",
    "    x = min_length(W)\n",
    "    prom = mean(x)\n",
    "    return prom\n",
    "end\n"
   ]
  },
  {
   "cell_type": "markdown",
   "metadata": {},
   "source": [
    "### Endpoints"
   ]
  },
  {
   "cell_type": "code",
   "execution_count": 28,
   "metadata": {},
   "outputs": [
    {
     "data": {
      "text/plain": [
       "atractor (generic function with 1 method)"
      ]
     },
     "execution_count": 28,
     "metadata": {},
     "output_type": "execute_result"
    }
   ],
   "source": [
    "\"\"\"\n",
    "Atractor regresa un arreglo de arreglos que contiene los nodos en los que cae cada caminata y ya no puede salir.\n",
    "\"\"\"\n",
    "function endpoints(W) \n",
    "    x = nodos_visitados(W)\n",
    "    atractores = [] #Arreglo vacío que contenga a los atractores\n",
    "    v = length(W) #tamaño de la matriz, número de nodos\n",
    "    s = size(W[1], 1) #lo puedo sacar, para todos es el mismo. Es el número de iteraciones\n",
    "    t = size(W[1], 2) #número de pasos +1\n",
    "    atract = zeros(Int64, s) #Arreglo de ceros de tamaño número de iteraciones\n",
    "    \n",
    "    for i in 1:v        \n",
    "        for j in 1:s\n",
    "            if x[i][j, :][end][end] == 0\n",
    "                at = x[i][j, :][end][end - 1]\n",
    "                atract[j] = at\n",
    "            else\n",
    "                atract[j] = 0\n",
    "            end\n",
    "        end\n",
    "        push!(atractores, atract)\n",
    "        atract = zeros(Int64, s)\n",
    "    end\n",
    "    return atractores\n",
    "end"
   ]
  },
  {
   "cell_type": "code",
   "execution_count": 29,
   "metadata": {},
   "outputs": [
    {
     "data": {
      "text/plain": [
       "av_n_atractor (generic function with 1 method)"
      ]
     },
     "execution_count": 29,
     "metadata": {},
     "output_type": "execute_result"
    }
   ],
   "source": [
    "\"\"\"\n",
    "Función que calcula el promedio de atractores por nodo\n",
    "\"\"\"\n",
    "function av_n_endpoints(W) \n",
    "    \n",
    "    x = atractor(W)\n",
    "    atractores_prom = [] #Arreglo vacío que contenga a los atractores\n",
    "    v = length(W) #tamaño de la matriz, número de nodos\n",
    "\n",
    "    for i in 1:v        \n",
    "        av = mean(x[i])\n",
    "        push!(atractores_prom, av)\n",
    "    end\n",
    "    atractores_prom\n",
    "end"
   ]
  },
  {
   "cell_type": "markdown",
   "metadata": {},
   "source": [
    "### Distribución de frecuencia de endpoints"
   ]
  },
  {
   "cell_type": "code",
   "execution_count": 30,
   "metadata": {},
   "outputs": [
    {
     "data": {
      "text/plain": [
       "freq_atractor (generic function with 1 method)"
      ]
     },
     "execution_count": 30,
     "metadata": {},
     "output_type": "execute_result"
    }
   ],
   "source": [
    "\"\"\"\n",
    "Función que da un diccionario con frecuencias\n",
    "\"\"\"\n",
    "\n",
    "function freq_endpoints(W)\n",
    "    freqs = []\n",
    "    x = atractor(W)\n",
    "    v = length(W)\n",
    "    \n",
    "    for i in 1:v\n",
    "        frec = countmap(x[i])\n",
    "        push!(freqs, frec)\n",
    "    end\n",
    "    freqs\n",
    "end"
   ]
  },
  {
   "cell_type": "code",
   "execution_count": 31,
   "metadata": {},
   "outputs": [
    {
     "data": {
      "text/plain": [
       "distrib_atractor"
      ]
     },
     "execution_count": 31,
     "metadata": {},
     "output_type": "execute_result"
    }
   ],
   "source": [
    "\"\"\"\n",
    "Función que saca la distribución de los atractores para toda la capa\n",
    "\"\"\"\n",
    "function distrib_endpoints(W)\n",
    "    x = freq_atractor(W)\n",
    "    frec_total = zeros(Int64, length(W))\n",
    "    frec_nodo = zeros(Int64, length(W))\n",
    "\n",
    "    for i in 1:length(W)\n",
    "        for j in 1:length(W)\n",
    "            frec_nodo[j] = get(x[i], j, 0)\n",
    "        end\n",
    "        frec_total += frec_nodo\n",
    "    end\n",
    "    \n",
    "    return frec_total\n",
    "end"
   ]
  },
  {
   "cell_type": "code",
   "execution_count": null,
   "metadata": {},
   "outputs": [],
   "source": [
    "#plot de endpoints"
   ]
  },
  {
   "cell_type": "markdown",
   "metadata": {},
   "source": [
    "## Datos\n",
    "\n",
    "### Multiplex Global"
   ]
  },
  {
   "cell_type": "code",
   "execution_count": 90,
   "metadata": {},
   "outputs": [
    {
     "data": {
      "text/plain": [
       "3189×3189 Array{Int64,2}:\n",
       " 0  0  0  1  0  0  0  1  1  0  0  0  0  …  0  0  0  0  0  0  0  0  0  0  0  0\n",
       " 0  0  0  1  0  0  0  1  1  1  0  0  0     0  0  0  0  0  0  0  0  0  0  0  0\n",
       " 0  0  0  1  0  0  0  1  1  0  0  0  0     0  0  0  0  0  0  0  0  0  0  0  0\n",
       " 1  1  1  0  1  1  1  1  1  1  1  1  1     0  0  0  0  0  0  0  0  0  0  0  0\n",
       " 0  0  0  1  0  0  1  1  1  0  0  0  0     0  0  0  0  0  0  0  0  0  0  0  0\n",
       " 0  0  0  1  0  0  0  0  1  1  1  0  0  …  0  0  0  0  0  0  0  0  0  0  0  0\n",
       " 0  0  0  1  1  0  0  0  1  0  0  0  0     0  0  0  0  0  0  0  0  0  0  0  0\n",
       " 1  1  1  1  1  0  0  0  1  0  0  0  0     0  0  0  0  0  0  0  0  0  0  0  0\n",
       " 1  1  1  1  1  1  1  1  0  1  1  0  0     0  0  0  0  0  0  0  0  0  0  0  0\n",
       " 0  1  0  1  0  1  0  0  1  0  0  0  0     0  0  0  0  0  0  0  0  0  0  0  0\n",
       " 0  0  0  1  0  1  0  0  1  0  0  0  0  …  0  0  0  0  0  0  0  0  0  0  0  0\n",
       " 0  0  0  1  0  0  0  0  0  0  0  0  0     0  0  0  0  0  0  0  0  0  0  0  0\n",
       " 0  0  0  1  0  0  0  0  0  0  0  0  0     0  0  0  0  0  0  0  0  0  0  0  0\n",
       " ⋮              ⋮              ⋮        ⋱           ⋮              ⋮         \n",
       " 0  0  0  0  0  0  0  0  0  0  0  0  0     0  0  0  0  0  0  0  0  0  0  0  0\n",
       " 0  0  0  0  0  0  0  0  0  0  0  0  0     0  0  0  0  0  0  0  0  0  0  0  0\n",
       " 0  0  0  0  0  0  0  0  0  0  0  0  0     0  0  0  0  0  0  0  0  0  0  0  0\n",
       " 0  0  0  0  0  0  0  0  0  0  0  0  0  …  0  0  0  0  0  0  0  0  0  0  0  0\n",
       " 0  0  0  0  0  0  0  0  0  0  0  0  0     0  0  0  0  0  0  0  0  0  0  0  0\n",
       " 0  0  0  0  0  0  0  0  0  0  0  0  0     0  0  0  0  0  0  0  0  0  0  0  0\n",
       " 0  0  0  0  0  0  0  0  0  0  0  0  0     0  0  0  0  0  0  0  0  0  0  0  0\n",
       " 0  0  0  0  0  0  0  0  0  0  0  0  0     0  0  0  0  0  0  0  0  0  0  0  0\n",
       " 0  0  0  0  0  0  0  0  0  0  0  0  0  …  0  0  0  0  0  0  0  0  0  0  0  0\n",
       " 0  0  0  0  0  0  0  0  0  0  0  0  0     0  0  0  0  0  0  0  0  0  0  0  0\n",
       " 0  0  0  0  0  0  0  0  0  0  0  0  0     0  0  0  0  0  0  0  0  0  0  0  0\n",
       " 0  0  0  0  0  0  0  0  0  0  0  0  0     0  0  0  0  0  0  0  0  0  0  0  0"
      ]
     },
     "execution_count": 90,
     "metadata": {},
     "output_type": "execute_result"
    }
   ],
   "source": [
    "multiplex = importar_matriz(\"data/multi_17_du.csv\")"
   ]
  },
  {
   "cell_type": "code",
   "execution_count": 86,
   "metadata": {},
   "outputs": [
    {
     "data": {
      "text/plain": [
       "3189-element Array{Any,1}:\n",
       " \"AER\"\n",
       " \"ASF\"\n",
       " \"CEK\"\n",
       " \"DME\"\n",
       " \"EGO\"\n",
       " \"GYD\"\n",
       " \"KGD\"\n",
       " \"KZN\"\n",
       " \"LED\"\n",
       " \"MRV\"\n",
       " \"NBC\"\n",
       " \"NJC\"\n",
       " \"NUX\"\n",
       " ⋮    \n",
       " \"LPS\"\n",
       " \"ORX\"\n",
       " \"BVS\"\n",
       " \"MTE\"\n",
       " \"DLZ\"\n",
       " \"UII\"\n",
       " \"ZBF\"\n",
       " \"CMP\"\n",
       " \"BSS\"\n",
       " \"AEX\"\n",
       " \"GCK\"\n",
       " \"MGM\""
      ]
     },
     "execution_count": 86,
     "metadata": {},
     "output_type": "execute_result"
    }
   ],
   "source": [
    "nombres_multiplex = data_names(\"data/multi_17_du.csv\")"
   ]
  },
  {
   "cell_type": "markdown",
   "metadata": {},
   "source": [
    "### Star Alliance"
   ]
  },
  {
   "cell_type": "code",
   "execution_count": 91,
   "metadata": {},
   "outputs": [
    {
     "data": {
      "text/plain": [
       "934×934 Array{Int64,2}:\n",
       " 0  0  1  0  0  0  0  0  0  0  0  0  0  …  0  0  0  0  0  0  0  0  0  0  0  0\n",
       " 0  0  1  0  0  1  0  0  1  0  0  1  0     0  0  0  0  0  0  0  0  0  0  0  0\n",
       " 1  1  0  1  1  1  1  0  1  1  1  1  1     0  0  0  0  0  0  0  0  0  0  0  0\n",
       " 0  0  1  0  0  0  0  0  0  0  1  0  0     0  0  0  0  0  0  0  0  0  0  0  0\n",
       " 0  0  1  0  0  0  0  0  0  0  0  0  0     0  0  0  0  0  0  0  0  0  0  0  0\n",
       " 0  1  1  0  0  0  0  0  1  0  1  0  0  …  0  0  0  0  0  0  0  0  0  0  0  0\n",
       " 0  0  1  0  0  0  0  0  0  0  0  0  0     0  0  0  0  0  0  0  0  0  0  0  0\n",
       " 0  0  0  0  0  0  0  0  0  0  0  0  0     0  0  0  0  0  0  0  0  0  0  0  0\n",
       " 0  1  1  0  0  1  0  0  0  1  1  1  0     0  0  0  0  0  0  0  0  0  0  0  0\n",
       " 0  0  1  0  0  0  0  0  1  0  1  0  0     0  0  0  0  0  0  0  0  0  0  0  0\n",
       " 0  0  1  1  0  1  0  0  1  1  0  1  0  …  0  0  0  0  0  0  0  0  0  0  0  0\n",
       " 0  1  1  0  0  0  0  0  1  0  1  0  0     0  0  0  0  0  0  0  0  0  0  0  0\n",
       " 0  0  1  0  0  0  0  0  0  0  0  0  0     0  0  0  0  0  0  0  0  0  0  0  0\n",
       " ⋮              ⋮              ⋮        ⋱           ⋮              ⋮         \n",
       " 0  0  0  0  0  0  0  0  0  0  0  0  0     0  0  0  0  0  0  0  0  0  0  0  0\n",
       " 0  0  0  0  0  0  0  0  0  0  0  0  0     0  0  0  0  0  0  0  0  0  0  0  0\n",
       " 0  0  0  0  0  0  0  0  0  0  0  0  0     0  0  0  0  0  0  0  0  0  0  0  0\n",
       " 0  0  0  0  0  0  0  0  0  0  0  0  0  …  0  0  0  0  0  0  0  0  0  0  0  0\n",
       " 0  0  0  0  0  0  0  0  0  0  0  0  0     0  0  0  0  0  0  0  0  0  0  0  0\n",
       " 0  0  0  0  0  0  0  0  0  0  0  0  0     0  0  0  0  0  0  0  0  0  0  0  0\n",
       " 0  0  0  0  0  0  0  0  0  0  0  0  0     0  0  0  0  0  0  0  0  0  0  0  0\n",
       " 0  0  0  0  0  0  0  0  0  0  0  0  0     0  0  0  0  0  0  0  0  0  0  0  0\n",
       " 0  0  0  0  0  0  0  0  0  0  0  0  0  …  0  0  0  0  0  0  0  0  0  0  0  0\n",
       " 0  0  0  0  0  0  0  0  0  0  0  0  0     0  0  0  0  0  0  0  0  0  0  0  0\n",
       " 0  0  0  0  0  0  0  0  0  0  0  0  0     0  0  0  0  0  0  0  0  0  0  0  0\n",
       " 0  0  0  0  0  0  0  0  0  0  0  0  0     0  0  0  0  0  0  0  0  0  0  0  0"
      ]
     },
     "execution_count": 91,
     "metadata": {},
     "output_type": "execute_result"
    }
   ],
   "source": [
    "multiplex_SA = importar_matriz(\"data/multi_SA_du.csv\")"
   ]
  },
  {
   "cell_type": "code",
   "execution_count": 92,
   "metadata": {},
   "outputs": [
    {
     "data": {
      "text/plain": [
       "934-element Array{Any,1}:\n",
       " \"AOK\"\n",
       " \"ARN\"\n",
       " \"ATH\"\n",
       " \"AUH\"\n",
       " \"AXD\"\n",
       " \"BCN\"\n",
       " \"BEG\"\n",
       " \"BOD\"\n",
       " \"BRU\"\n",
       " \"BUD\"\n",
       " \"CAI\"\n",
       " \"CDG\"\n",
       " \"CFU\"\n",
       " ⋮    \n",
       " \"STL\"\n",
       " \"STT\"\n",
       " \"SYR\"\n",
       " \"TKK\"\n",
       " \"YAP\"\n",
       " \"HSN\"\n",
       " \"JUZ\"\n",
       " \"YIC\"\n",
       " \"GLF\"\n",
       " \"TMU\"\n",
       " \"GET\"\n",
       " \"PWM\""
      ]
     },
     "execution_count": 92,
     "metadata": {},
     "output_type": "execute_result"
    }
   ],
   "source": [
    "nombres_SA = data_names(\"data/multi_SA_du.csv\")"
   ]
  },
  {
   "cell_type": "markdown",
   "metadata": {},
   "source": [
    "### OneWorld"
   ]
  },
  {
   "cell_type": "code",
   "execution_count": 93,
   "metadata": {},
   "outputs": [
    {
     "data": {
      "text/plain": [
       "698×698 Array{Int64,2}:\n",
       " 0  1  1  0  0  0  0  0  0  0  1  0  0  …  0  0  0  0  0  0  0  0  0  0  0  0\n",
       " 1  0  1  0  0  0  0  0  0  1  1  0  1     0  0  0  0  0  0  0  0  0  0  0  0\n",
       " 1  1  0  0  0  0  0  0  0  1  0  0  0     0  0  0  0  0  0  0  0  0  0  0  0\n",
       " 0  0  0  0  0  0  0  0  0  0  0  0  0     0  0  0  0  0  0  0  0  0  0  0  0\n",
       " 0  0  0  0  0  0  0  0  0  0  0  0  0     0  0  0  0  0  0  0  0  0  0  0  0\n",
       " 0  0  0  0  0  0  0  0  0  0  0  0  0  …  0  0  0  0  0  0  0  0  0  0  0  0\n",
       " 0  0  0  0  0  0  0  0  0  0  0  0  0     0  0  0  0  0  0  0  0  0  0  0  0\n",
       " 0  0  0  0  0  0  0  0  0  0  0  0  0     0  0  0  0  0  0  0  0  0  0  0  0\n",
       " 0  0  0  0  0  0  0  0  0  0  0  0  0     0  0  0  0  0  0  0  0  0  0  0  0\n",
       " 0  1  1  0  0  0  0  0  0  0  0  0  0     0  0  0  0  0  0  0  0  0  0  0  0\n",
       " 1  1  0  0  0  0  0  0  0  0  0  0  0  …  0  0  0  0  0  0  0  0  0  0  0  0\n",
       " 0  0  0  0  0  0  0  0  0  0  0  0  0     0  0  0  0  0  0  0  0  0  0  0  0\n",
       " 0  1  0  0  0  0  0  0  0  0  0  0  0     0  0  0  0  0  0  0  0  0  0  0  0\n",
       " ⋮              ⋮              ⋮        ⋱              ⋮              ⋮      \n",
       " 0  0  0  0  0  0  0  0  0  0  0  0  0     0  0  0  0  0  0  0  0  0  0  0  0\n",
       " 0  0  0  0  0  0  0  0  0  0  0  0  0     0  0  0  0  0  0  0  0  0  0  0  0\n",
       " 0  0  0  0  0  0  0  0  0  0  0  0  0     0  0  0  0  0  0  0  0  0  0  0  0\n",
       " 0  0  0  0  0  0  0  0  0  0  0  0  0     0  0  0  0  0  0  0  0  0  0  0  0\n",
       " 0  0  0  0  0  0  0  0  0  0  0  0  0  …  0  0  0  0  0  0  0  0  0  0  0  0\n",
       " 0  0  0  0  0  0  0  0  0  0  0  0  0     0  0  0  0  0  0  0  0  0  0  0  0\n",
       " 0  0  0  0  0  0  0  0  0  0  0  0  0     0  0  0  0  0  0  0  0  0  0  0  0\n",
       " 0  0  0  0  0  0  0  0  0  0  0  0  0     0  0  0  0  0  0  0  0  0  0  0  0\n",
       " 0  0  0  0  0  0  0  0  0  0  0  0  0     0  0  0  0  0  0  0  0  0  0  0  0\n",
       " 0  0  0  0  0  0  0  0  0  0  0  0  0  …  0  0  0  0  0  0  0  0  0  0  0  0\n",
       " 0  0  0  0  0  0  0  0  0  0  0  0  0     0  0  0  0  0  0  0  0  0  0  0  0\n",
       " 0  0  0  0  0  0  0  0  0  0  0  0  0     0  0  0  0  0  0  0  0  0  0  0  0"
      ]
     },
     "execution_count": 93,
     "metadata": {},
     "output_type": "execute_result"
    }
   ],
   "source": [
    "multiplex_OW = importar_matriz(\"data/multi_OW_du.csv\")"
   ]
  },
  {
   "cell_type": "code",
   "execution_count": 94,
   "metadata": {},
   "outputs": [
    {
     "data": {
      "text/plain": [
       "698-element Array{Any,1}:\n",
       " \"EZE\"\n",
       " \"MIA\"\n",
       " \"PUJ\"\n",
       " \"ABE\"\n",
       " \"ABQ\"\n",
       " \"AGS\"\n",
       " \"ALB\"\n",
       " \"AMS\"\n",
       " \"ANC\"\n",
       " \"ANU\"\n",
       " \"ASU\"\n",
       " \"ATH\"\n",
       " \"ATL\"\n",
       " ⋮    \n",
       " \"CRW\"\n",
       " \"LEX\"\n",
       " \"MOB\"\n",
       " \"PWM\"\n",
       " \"TYS\"\n",
       " \"VPS\"\n",
       " \"KEM\"\n",
       " \"AAL\"\n",
       " \"SLA\"\n",
       " \"TUC\"\n",
       " \"IQT\"\n",
       " \"NJC\""
      ]
     },
     "execution_count": 94,
     "metadata": {},
     "output_type": "execute_result"
    }
   ],
   "source": [
    "nombres_OW = data_names(\"data/multi_OW_du.csv\")"
   ]
  },
  {
   "cell_type": "markdown",
   "metadata": {},
   "source": [
    "### Sky Team"
   ]
  },
  {
   "cell_type": "code",
   "execution_count": 97,
   "metadata": {},
   "outputs": [
    {
     "data": {
      "text/plain": [
       "900×900 Array{Int64,2}:\n",
       " 0  0  0  0  0  0  0  0  0  0  0  0  0  …  0  0  0  0  0  0  0  0  0  0  0  0\n",
       " 0  0  0  0  0  0  0  0  0  0  1  0  0     0  0  0  0  0  0  0  0  0  0  0  0\n",
       " 0  0  0  0  0  0  0  1  1  0  0  1  0     0  0  0  0  0  0  0  0  0  0  0  0\n",
       " 0  0  0  0  0  0  0  0  0  0  0  0  0     0  0  0  0  0  0  0  0  0  0  0  0\n",
       " 0  0  0  0  0  0  0  0  0  0  0  0  0     0  0  0  0  0  0  0  0  0  0  0  0\n",
       " 0  0  0  0  0  0  0  0  0  0  0  0  0  …  0  0  0  0  0  0  0  0  0  0  0  0\n",
       " 0  0  0  0  0  0  0  0  0  0  0  0  0     0  0  0  0  0  0  0  0  0  0  0  0\n",
       " 0  0  1  0  0  0  0  0  0  0  0  0  0     0  0  0  0  0  0  0  0  0  0  0  0\n",
       " 0  0  1  0  0  0  0  0  0  0  0  0  0     0  0  0  0  0  0  0  0  0  0  0  0\n",
       " 0  0  0  0  0  0  0  0  0  0  0  0  0     0  0  0  0  0  0  0  0  0  0  0  0\n",
       " 0  1  0  0  0  0  0  0  0  0  0  0  0  …  0  0  0  0  0  0  0  0  0  0  0  0\n",
       " 0  0  1  0  0  0  0  0  0  0  0  0  0     0  0  0  0  0  0  0  0  0  0  0  0\n",
       " 0  0  0  0  0  0  0  0  0  0  0  0  0     0  0  0  0  0  0  0  0  0  0  0  0\n",
       " ⋮              ⋮              ⋮        ⋱        ⋮              ⋮            \n",
       " 0  0  0  0  0  0  0  0  0  0  0  0  0     0  0  0  0  0  0  0  0  0  0  0  0\n",
       " 0  0  0  0  0  0  0  0  0  0  0  0  0     0  0  0  0  0  0  0  0  0  0  0  0\n",
       " 0  0  0  0  0  0  0  0  0  0  0  0  0  …  0  0  0  0  0  0  0  0  0  0  0  0\n",
       " 0  0  0  0  0  0  0  0  0  0  0  0  0     0  0  0  0  0  0  0  0  0  0  0  0\n",
       " 0  0  0  0  0  0  0  0  0  0  0  0  0     0  0  0  0  0  0  0  0  0  0  0  0\n",
       " 0  0  0  0  0  0  0  0  0  0  0  0  0     0  0  0  0  0  0  0  1  0  0  0  0\n",
       " 0  0  0  0  0  0  0  0  0  0  0  0  0     0  0  0  0  0  0  0  0  0  0  0  0\n",
       " 0  0  0  0  0  0  0  0  0  0  0  0  0  …  0  0  0  0  0  1  0  0  0  0  0  0\n",
       " 0  0  0  0  0  0  0  0  0  0  0  0  0     0  0  0  0  0  0  0  0  0  0  0  0\n",
       " 0  0  0  0  0  0  0  0  0  0  0  0  0     0  0  0  0  0  0  0  0  0  0  0  0\n",
       " 0  0  0  0  0  0  0  0  0  0  0  0  0     0  0  0  0  0  0  0  0  0  0  0  0\n",
       " 0  0  0  0  0  0  0  0  0  0  0  0  0     0  0  0  0  0  0  0  0  0  0  0  0"
      ]
     },
     "execution_count": 97,
     "metadata": {},
     "output_type": "execute_result"
    }
   ],
   "source": [
    "multiplex_ST = importar_matriz(\"data/multi_ST_du.csv\")"
   ]
  },
  {
   "cell_type": "code",
   "execution_count": 96,
   "metadata": {},
   "outputs": [
    {
     "data": {
      "text/plain": [
       "900-element Array{Any,1}:\n",
       " \"AGF\"\n",
       " \"AJA\"\n",
       " \"AMS\"\n",
       " \"AUR\"\n",
       " \"BES\"\n",
       " \"BIA\"\n",
       " \"BIQ\"\n",
       " \"BLQ\"\n",
       " \"BOD\"\n",
       " \"BRU\"\n",
       " \"BVE\"\n",
       " \"CFE\"\n",
       " \"CFR\"\n",
       " ⋮    \n",
       " \"VCL\"\n",
       " \"VDH\"\n",
       " \"VII\"\n",
       " \"VKG\"\n",
       " \"ANR\"\n",
       " \"CWL\"\n",
       " \"DOL\"\n",
       " \"JER\"\n",
       " \"AOI\"\n",
       " \"PSA\"\n",
       " \"PWM\"\n",
       " \"ESB\""
      ]
     },
     "execution_count": 96,
     "metadata": {},
     "output_type": "execute_result"
    }
   ],
   "source": [
    "nombres_ST = data_names(\"data/multi_ST_du.csv\")"
   ]
  },
  {
   "cell_type": "markdown",
   "metadata": {},
   "source": [
    "## Distribuciones de grado\n",
    "\n",
    "### Multiplex Global\n",
    "\n",
    "#### Grado de entrada"
   ]
  },
  {
   "cell_type": "code",
   "execution_count": 100,
   "metadata": {},
   "outputs": [],
   "source": [
    "in_degree_multiplex = in_degree(multiplex);"
   ]
  },
  {
   "cell_type": "code",
   "execution_count": null,
   "metadata": {},
   "outputs": [],
   "source": [
    "bar(hu, color=\"#0f87bf\",alpha=0.4, title=\"Distribución Grado entrada\", xlabel=\"Grado\", ylabel=\"Frecuencia\")"
   ]
  },
  {
   "cell_type": "code",
   "execution_count": null,
   "metadata": {},
   "outputs": [],
   "source": [
    "histogram(hu, nb=10)"
   ]
  },
  {
   "cell_type": "code",
   "execution_count": 104,
   "metadata": {},
   "outputs": [],
   "source": [
    "distrib_in_multiplex = distrib_in_degree(multiplex);"
   ]
  },
  {
   "cell_type": "code",
   "execution_count": 164,
   "metadata": {
    "scrolled": false
   },
   "outputs": [
    {
     "data": {
      "image/png": "[encoded data removed]"
     },
     "execution_count": 164,
     "metadata": {},
     "output_type": "execute_result"
    }
   ],
   "source": [
    "in_M = plot_distrib(multiplex, \"in\", \"Multiplex Distribución Entrada\", \"black\")"
   ]
  },
  {
   "cell_type": "markdown",
   "metadata": {},
   "source": [
    "#### Grado de salida"
   ]
  },
  {
   "cell_type": "code",
   "execution_count": 101,
   "metadata": {},
   "outputs": [],
   "source": [
    "out_degree_multiplex = out_degree(multiplex);"
   ]
  },
  {
   "cell_type": "code",
   "execution_count": 129,
   "metadata": {},
   "outputs": [],
   "source": [
    "distrib_out_multiplex = distrib_out_degree(multiplex);"
   ]
  },
  {
   "cell_type": "code",
   "execution_count": 165,
   "metadata": {},
   "outputs": [
    {
     "data": {
      "image/png": "[encoded data removed]"
     },
     "execution_count": 165,
     "metadata": {},
     "output_type": "execute_result"
    }
   ],
   "source": [
    "out_M = plot_distrib(multiplex, \"out\", \"Multiplex Distribución Salida\", \"black\")"
   ]
  },
  {
   "cell_type": "markdown",
   "metadata": {},
   "source": [
    "### Star Alliance\n",
    "\n",
    "#### Grado de entrada"
   ]
  },
  {
   "cell_type": "code",
   "execution_count": 131,
   "metadata": {},
   "outputs": [],
   "source": [
    "in_degree_SA = in_degree(multiplex_SA);"
   ]
  },
  {
   "cell_type": "code",
   "execution_count": 132,
   "metadata": {},
   "outputs": [],
   "source": [
    "distrib_in_SA = distrib_in_degree(multiplex_SA);"
   ]
  },
  {
   "cell_type": "code",
   "execution_count": 166,
   "metadata": {},
   "outputs": [
    {
     "data": {
      "image/png": "[encoded data removed]"
     },
     "execution_count": 166,
     "metadata": {},
     "output_type": "execute_result"
    }
   ],
   "source": [
    "in_SA = plot_distrib(multiplex_SA, \"in\", \"Star Alliance Distribución Entrada\", \"grey\")"
   ]
  },
  {
   "cell_type": "markdown",
   "metadata": {},
   "source": [
    "#### Grado de salida"
   ]
  },
  {
   "cell_type": "code",
   "execution_count": 137,
   "metadata": {},
   "outputs": [],
   "source": [
    "out_degree_SA = out_degree(multiplex_SA);"
   ]
  },
  {
   "cell_type": "code",
   "execution_count": 138,
   "metadata": {},
   "outputs": [],
   "source": [
    "distrib_out_SA = distrib_out_degree(multiplex_SA);"
   ]
  },
  {
   "cell_type": "code",
   "execution_count": 167,
   "metadata": {},
   "outputs": [
    {
     "data": {
      "image/png": "[encoded data removed]"
     },
     "execution_count": 167,
     "metadata": {},
     "output_type": "execute_result"
    }
   ],
   "source": [
    "out_SA = plot_distrib(multiplex_SA, \"out\", \"Star Alliance Distribución Salida\", \"grey\")"
   ]
  },
  {
   "cell_type": "markdown",
   "metadata": {},
   "source": [
    "### OneWorld\n",
    "\n",
    "#### Grado de entrada"
   ]
  },
  {
   "cell_type": "code",
   "execution_count": 140,
   "metadata": {},
   "outputs": [],
   "source": [
    "in_degree_OW = in_degree(multiplex_OW);"
   ]
  },
  {
   "cell_type": "code",
   "execution_count": 141,
   "metadata": {},
   "outputs": [],
   "source": [
    "distrib_in_OW = distrib_in_degree(multiplex_OW);"
   ]
  },
  {
   "cell_type": "code",
   "execution_count": 168,
   "metadata": {},
   "outputs": [
    {
     "data": {
      "image/png": "[encoded data removed]"
     },
     "execution_count": 168,
     "metadata": {},
     "output_type": "execute_result"
    }
   ],
   "source": [
    "in_OW = plot_distrib(multiplex_OW, \"in\", \"OneWorld Distribución Entrada\", \"purple\")"
   ]
  },
  {
   "cell_type": "markdown",
   "metadata": {},
   "source": [
    "#### Grado de Salida"
   ]
  },
  {
   "cell_type": "code",
   "execution_count": 147,
   "metadata": {},
   "outputs": [],
   "source": [
    "out_degree_OW = out_degree(multiplex_OW);"
   ]
  },
  {
   "cell_type": "code",
   "execution_count": 148,
   "metadata": {},
   "outputs": [],
   "source": [
    "distrib_out_OW = distrib_out_degree(multiplex_OW);"
   ]
  },
  {
   "cell_type": "code",
   "execution_count": 169,
   "metadata": {},
   "outputs": [
    {
     "data": {
      "image/png": "[encoded data removed]"
     },
     "execution_count": 169,
     "metadata": {},
     "output_type": "execute_result"
    }
   ],
   "source": [
    "out_OW = plot_distrib(multiplex_OW, \"out\", \"OneWorld Distribución Salida\", \"purple\")"
   ]
  },
  {
   "cell_type": "markdown",
   "metadata": {},
   "source": [
    "### Sky Team\n",
    "\n",
    "#### Grado de entrada"
   ]
  },
  {
   "cell_type": "code",
   "execution_count": 156,
   "metadata": {},
   "outputs": [],
   "source": [
    "in_degree_ST = in_degree(multiplex_ST);"
   ]
  },
  {
   "cell_type": "code",
   "execution_count": 157,
   "metadata": {},
   "outputs": [],
   "source": [
    "distrib_in_ST = distrib_in_degree(multiplex_ST);"
   ]
  },
  {
   "cell_type": "code",
   "execution_count": 170,
   "metadata": {},
   "outputs": [
    {
     "data": {
      "image/png": "[encoded data removed]"
     },
     "execution_count": 170,
     "metadata": {},
     "output_type": "execute_result"
    }
   ],
   "source": [
    "in_ST = plot_distrib(multiplex_ST, \"in\", \"Sky Team Distribución Entrada\", \"blue\")"
   ]
  },
  {
   "cell_type": "markdown",
   "metadata": {},
   "source": [
    "#### Grado de salida"
   ]
  },
  {
   "cell_type": "code",
   "execution_count": 159,
   "metadata": {},
   "outputs": [],
   "source": [
    "out_degree_ST = out_degree(multiplex_ST);"
   ]
  },
  {
   "cell_type": "code",
   "execution_count": 160,
   "metadata": {},
   "outputs": [],
   "source": [
    "distrib_out_ST = distrib_out_degree(multiplex_ST);"
   ]
  },
  {
   "cell_type": "code",
   "execution_count": 171,
   "metadata": {},
   "outputs": [
    {
     "data": {
      "image/png": "[encoded data removed]"
     },
     "execution_count": 171,
     "metadata": {},
     "output_type": "execute_result"
    }
   ],
   "source": [
    "out_ST = plot_distrib(multiplex_ST, \"out\", \"Sky Team Distribución Salida\", \"blue\")"
   ]
  },
  {
   "cell_type": "code",
   "execution_count": 172,
   "metadata": {},
   "outputs": [
    {
     "data": {
      "image/png": "[encoded data removed]"
     },
     "execution_count": 172,
     "metadata": {},
     "output_type": "execute_result"
    }
   ],
   "source": [
    "plot(in_M, in_SA, in_OW, in_ST, layout = (2, 2), legend = false)"
   ]
  },
  {
   "cell_type": "code",
   "execution_count": 174,
   "metadata": {},
   "outputs": [
    {
     "data": {
      "image/png": "[encoded data removed]"
     },
     "execution_count": 174,
     "metadata": {},
     "output_type": "execute_result"
    }
   ],
   "source": [
    "plot(out_M, out_SA, out_OW, out_ST, layout = (2, 2), legend = false)"
   ]
  },
  {
   "cell_type": "code",
   "execution_count": 175,
   "metadata": {},
   "outputs": [
    {
     "ename": "UndefVarError",
     "evalue": "UndefVarError: groupedbar not defined",
     "output_type": "error",
     "traceback": [
      "UndefVarError: groupedbar not defined",
      "",
      "Stacktrace:",
      " [1] top-level scope at In[175]:1"
     ]
    }
   ],
   "source": [
    "d_in = groupedbar(in_M, in_SA, in_OW, in_ST, color = \"#0f87bf\", alpha = 0.8,\n",
    "    title=\"Distribución Grado de Entrada\", \n",
    "    xlabel=\"Grado\", \n",
    "    ylabel=\"Frecuencia\")\n",
    "#bar!(d_in_SA,color=\"#0f87bf\",alpha=0.4)\n",
    "#bar!(d_in_OW,color=\"#0f00bf\",alpha=0.4)\n",
    "#bar!(d_in_ST,color=\"#0f50bf\",alpha=0.4)"
   ]
  },
  {
   "cell_type": "markdown",
   "metadata": {},
   "source": [
    "## Caminatas aleatorias\n",
    "\n",
    "### Multiplex"
   ]
  },
  {
   "cell_type": "code",
   "execution_count": 59,
   "metadata": {},
   "outputs": [
    {
     "name": "stdout",
     "output_type": "stream",
     "text": [
      "276.316376 seconds (20.41 M allocations: 39.228 GiB, 4.34% gc time)\n"
     ]
    },
    {
     "data": {
      "text/plain": [
       "3189-element Array{Any,1}:\n",
       " [1 15 … 193 489; 1 998 … 1645 1651; … ; 1 15 … 597 595; 1 4 … 486 1031]        \n",
       " [2 594 … 2901 123; 2 1829 … 1364 2451; … ; 2 8 … 651 641; 2 1829 … 123 1150]   \n",
       " [3 244 … 1559 1550; 3 1752 … 3155 3157; … ; 3 14 … 2590 727; 3 594 … 1717 1511]\n",
       " [4 1226 … 722 1003; 4 457 … 53 439; … ; 4 358 … 2737 4; 4 1728 … 898 899]      \n",
       " [5 2408 … 193 489; 5 8 … 947 333; … ; 5 725 … 265 326; 5 671 … 486 1031]       \n",
       " [6 2282 … 193 489; 6 494 … 947 333; … ; 6 1015 … 2737 4; 6 304 … 2527 601]     \n",
       " [7 5 … 193 489; 7 684 … 3155 3157; … ; 7 193 … 997 453; 7 5 … 393 183]         \n",
       " [8 9 … 193 489; 8 1752 … 3155 3157; … ; 8 728 … 265 326; 8 90 … 1355 482]      \n",
       " [9 2 … 317 308; 9 751 … 251 154; … ; 9 183 … 1656 1627; 9 764 … 1355 482]      \n",
       " [10 4 … 722 1003; 10 358 … 359 566; … ; 10 724 … 997 453; 10 90 … 393 183]     \n",
       " [11 724 … 659 660; 11 727 … 171 1430; … ; 11 15 … 597 595; 11 4 … 486 1031]    \n",
       " [12 2797 … 1531 60; 12 15 … 53 439; … ; 12 594 … 2590 727; 12 349 … 1234 996]  \n",
       " [13 14 … 317 308; 13 352 … 333 943; … ; 13 14 … 2590 727; 13 14 … 486 1031]    \n",
       " ⋮                                                                              \n",
       " [3178 0 … 0 0; 3178 0 … 0 0; … ; 3178 0 … 0 0; 3178 0 … 0 0]                   \n",
       " [3179 0 … 0 0; 3179 0 … 0 0; … ; 3179 0 … 0 0; 3179 0 … 0 0]                   \n",
       " [3180 0 … 0 0; 3180 0 … 0 0; … ; 3180 0 … 0 0; 3180 0 … 0 0]                   \n",
       " [3181 0 … 0 0; 3181 0 … 0 0; … ; 3181 0 … 0 0; 3181 0 … 0 0]                   \n",
       " [3182 0 … 0 0; 3182 0 … 0 0; … ; 3182 0 … 0 0; 3182 0 … 0 0]                   \n",
       " [3183 0 … 0 0; 3183 0 … 0 0; … ; 3183 0 … 0 0; 3183 0 … 0 0]                   \n",
       " [3184 0 … 0 0; 3184 0 … 0 0; … ; 3184 0 … 0 0; 3184 0 … 0 0]                   \n",
       " [3185 0 … 0 0; 3185 0 … 0 0; … ; 3185 0 … 0 0; 3185 0 … 0 0]                   \n",
       " [3186 0 … 0 0; 3186 0 … 0 0; … ; 3186 0 … 0 0; 3186 0 … 0 0]                   \n",
       " [3187 0 … 0 0; 3187 0 … 0 0; … ; 3187 0 … 0 0; 3187 0 … 0 0]                   \n",
       " [3188 0 … 0 0; 3188 0 … 0 0; … ; 3188 0 … 0 0; 3188 0 … 0 0]                   \n",
       " [3189 0 … 0 0; 3189 0 … 0 0; … ; 3189 0 … 0 0; 3189 0 … 0 0]                   "
      ]
     },
     "execution_count": 59,
     "metadata": {},
     "output_type": "execute_result"
    }
   ],
   "source": [
    "caminata_M = @time random_walk(multiplex, 50, 10)"
   ]
  },
  {
   "cell_type": "code",
   "execution_count": 60,
   "metadata": {},
   "outputs": [
    {
     "name": "stdout",
     "output_type": "stream",
     "text": [
      "300.855601 seconds (20.41 M allocations: 39.228 GiB, 4.10% gc time)\n"
     ]
    },
    {
     "data": {
      "text/plain": [
       "3189-element Array{Any,1}:\n",
       " [1 15 … 193 489; 1 998 … 1645 1651; … ; 1 15 … 597 595; 1 4 … 486 1031]        \n",
       " [2 594 … 2901 123; 2 1829 … 1364 2451; … ; 2 8 … 651 641; 2 1829 … 123 1150]   \n",
       " [3 244 … 1559 1550; 3 1752 … 3155 3157; … ; 3 14 … 2590 727; 3 594 … 1717 1511]\n",
       " [4 1226 … 722 1003; 4 457 … 53 439; … ; 4 358 … 2737 4; 4 1728 … 898 899]      \n",
       " [5 2408 … 193 489; 5 8 … 947 333; … ; 5 725 … 265 326; 5 671 … 486 1031]       \n",
       " [6 2282 … 193 489; 6 494 … 947 333; … ; 6 1015 … 2737 4; 6 304 … 2527 601]     \n",
       " [7 5 … 193 489; 7 684 … 3155 3157; … ; 7 193 … 997 453; 7 5 … 393 183]         \n",
       " [8 9 … 193 489; 8 1752 … 3155 3157; … ; 8 728 … 265 326; 8 90 … 1355 482]      \n",
       " [9 2 … 317 308; 9 751 … 251 154; … ; 9 183 … 1656 1627; 9 764 … 1355 482]      \n",
       " [10 4 … 722 1003; 10 358 … 359 566; … ; 10 724 … 997 453; 10 90 … 393 183]     \n",
       " [11 724 … 659 660; 11 727 … 171 1430; … ; 11 15 … 597 595; 11 4 … 486 1031]    \n",
       " [12 2797 … 1531 60; 12 15 … 53 439; … ; 12 594 … 2590 727; 12 349 … 1234 996]  \n",
       " [13 14 … 317 308; 13 352 … 333 943; … ; 13 14 … 2590 727; 13 14 … 486 1031]    \n",
       " ⋮                                                                              \n",
       " [3178 0 … 0 0; 3178 0 … 0 0; … ; 3178 0 … 0 0; 3178 0 … 0 0]                   \n",
       " [3179 0 … 0 0; 3179 0 … 0 0; … ; 3179 0 … 0 0; 3179 0 … 0 0]                   \n",
       " [3180 0 … 0 0; 3180 0 … 0 0; … ; 3180 0 … 0 0; 3180 0 … 0 0]                   \n",
       " [3181 0 … 0 0; 3181 0 … 0 0; … ; 3181 0 … 0 0; 3181 0 … 0 0]                   \n",
       " [3182 0 … 0 0; 3182 0 … 0 0; … ; 3182 0 … 0 0; 3182 0 … 0 0]                   \n",
       " [3183 0 … 0 0; 3183 0 … 0 0; … ; 3183 0 … 0 0; 3183 0 … 0 0]                   \n",
       " [3184 0 … 0 0; 3184 0 … 0 0; … ; 3184 0 … 0 0; 3184 0 … 0 0]                   \n",
       " [3185 0 … 0 0; 3185 0 … 0 0; … ; 3185 0 … 0 0; 3185 0 … 0 0]                   \n",
       " [3186 0 … 0 0; 3186 0 … 0 0; … ; 3186 0 … 0 0; 3186 0 … 0 0]                   \n",
       " [3187 0 … 0 0; 3187 0 … 0 0; … ; 3187 0 … 0 0; 3187 0 … 0 0]                   \n",
       " [3188 0 … 0 0; 3188 0 … 0 0; … ; 3188 0 … 0 0; 3188 0 … 0 0]                   \n",
       " [3189 0 … 0 0; 3189 0 … 0 0; … ; 3189 0 … 0 0; 3189 0 … 0 0]                   "
      ]
     },
     "execution_count": 60,
     "metadata": {},
     "output_type": "execute_result"
    }
   ],
   "source": [
    "caminata2_M = @time random_walk(multiplex, 50, 10)"
   ]
  },
  {
   "cell_type": "code",
   "execution_count": null,
   "metadata": {},
   "outputs": [],
   "source": [
    "#Matriz que contiene 10 iteraciones de 100 pasos con nodo inicial 3\n",
    "caminata_M[3]"
   ]
  },
  {
   "cell_type": "markdown",
   "metadata": {},
   "source": [
    "### Star Alliance"
   ]
  },
  {
   "cell_type": "code",
   "execution_count": null,
   "metadata": {},
   "outputs": [],
   "source": [
    "caminata_SA = @time random_walk(multiplexSA, 100, 10)"
   ]
  },
  {
   "cell_type": "markdown",
   "metadata": {},
   "source": [
    "### OneWorld"
   ]
  },
  {
   "cell_type": "code",
   "execution_count": null,
   "metadata": {},
   "outputs": [],
   "source": [
    "caminata_OW = @time random_walk(multiplexOW, 100, 10)"
   ]
  },
  {
   "cell_type": "markdown",
   "metadata": {},
   "source": [
    "### Sky Team"
   ]
  },
  {
   "cell_type": "code",
   "execution_count": null,
   "metadata": {},
   "outputs": [],
   "source": [
    "caminata_ST = @time random_walk(multiplexST, 100, 10)"
   ]
  },
  {
   "cell_type": "markdown",
   "metadata": {},
   "source": [
    "## Longitud de todas las iteraciones de caminatas "
   ]
  },
  {
   "cell_type": "code",
   "execution_count": null,
   "metadata": {},
   "outputs": [],
   "source": [
    "li_M = @time walk_length(caminata_M)"
   ]
  },
  {
   "cell_type": "code",
   "execution_count": null,
   "metadata": {},
   "outputs": [],
   "source": [
    "#Longitud de caminata de las 10 iteraciones correspondientes al nodo inicial 3\n",
    "li_M[3]"
   ]
  },
  {
   "cell_type": "code",
   "execution_count": null,
   "metadata": {},
   "outputs": [],
   "source": [
    "li_SA = @time walk_length(caminata_SA)"
   ]
  },
  {
   "cell_type": "code",
   "execution_count": null,
   "metadata": {},
   "outputs": [],
   "source": [
    "li_OW = @time walk_length(caminata_OW)"
   ]
  },
  {
   "cell_type": "code",
   "execution_count": null,
   "metadata": {},
   "outputs": [],
   "source": [
    "liST = @time walk_length(caminata_ST)"
   ]
  },
  {
   "cell_type": "markdown",
   "metadata": {},
   "source": []
  },
  {
   "cell_type": "markdown",
   "metadata": {},
   "source": [
    "## Longitud promedio de las iteraciones de caminatas de cada nodo inicial"
   ]
  },
  {
   "cell_type": "code",
   "execution_count": null,
   "metadata": {},
   "outputs": [],
   "source": [
    "lpn_M = @time walk_av_length(caminata_M)"
   ]
  },
  {
   "cell_type": "code",
   "execution_count": null,
   "metadata": {},
   "outputs": [],
   "source": [
    "pyplot()\n",
    "d_lpn_M = scatter(lpn_M, color=\"#0f87bf\",alpha=0.8, \n",
    "    title=\"Multiplex\", \n",
    "    xlabel=\"Nodo inicial\", \n",
    "    ylabel=\"Promedio long.\")"
   ]
  },
  {
   "cell_type": "code",
   "execution_count": null,
   "metadata": {
    "scrolled": false
   },
   "outputs": [],
   "source": [
    "lpn_SA = @time walk_av_length(caminata_SA)"
   ]
  },
  {
   "cell_type": "code",
   "execution_count": null,
   "metadata": {},
   "outputs": [],
   "source": [
    "pyplot()\n",
    "d_lpn_SA = scatter(lpn_SA, color=\"#0f87bf\",alpha=0.8, \n",
    "    title=\"Star Alliance\", \n",
    "    xlabel=\"Nodo inicial\", \n",
    "    ylabel=\"Promedio long.\")"
   ]
  },
  {
   "cell_type": "code",
   "execution_count": null,
   "metadata": {},
   "outputs": [],
   "source": [
    "lpn_OW = @time walk_av_length(caminata_OW)"
   ]
  },
  {
   "cell_type": "code",
   "execution_count": null,
   "metadata": {},
   "outputs": [],
   "source": [
    "pyplot()\n",
    "d_lpn_OW = scatter(lpn_OW, color=\"#0f87bf\",alpha=0.8, \n",
    "    title=\"OneWorld\", \n",
    "    xlabel=\"Nodo inicial\", \n",
    "    ylabel=\"Promedio long.\")"
   ]
  },
  {
   "cell_type": "code",
   "execution_count": null,
   "metadata": {},
   "outputs": [],
   "source": [
    "lpn_ST = @time walk_av_length(caminata_ST)"
   ]
  },
  {
   "cell_type": "code",
   "execution_count": null,
   "metadata": {},
   "outputs": [],
   "source": [
    "pyplot()\n",
    "d_lpn_ST = scatter(lpn_ST, color=\"#0f87bf\",alpha=0.8, \n",
    "    title=\"Sky Team\", \n",
    "    xlabel=\"Nodo inicial\", \n",
    "    ylabel=\"Promedio long.\")"
   ]
  },
  {
   "cell_type": "code",
   "execution_count": null,
   "metadata": {},
   "outputs": [],
   "source": [
    "plot(d_lpn_M,d_lpn_SA,d_lpn_OW,d_lpn_ST,layout=(2,2),legend=false)"
   ]
  },
  {
   "cell_type": "markdown",
   "metadata": {},
   "source": [
    "## Longitud promedio de caminatas por capa"
   ]
  },
  {
   "cell_type": "code",
   "execution_count": null,
   "metadata": {},
   "outputs": [],
   "source": [
    "wl_M = @time walk_layer_length(caminata_M)"
   ]
  },
  {
   "cell_type": "code",
   "execution_count": null,
   "metadata": {},
   "outputs": [],
   "source": [
    "wl_SA = @time walk_layer_length(caminata_SA)"
   ]
  },
  {
   "cell_type": "code",
   "execution_count": null,
   "metadata": {},
   "outputs": [],
   "source": [
    "wl_OW = @time walk_layer_length(caminata_OW)"
   ]
  },
  {
   "cell_type": "code",
   "execution_count": null,
   "metadata": {},
   "outputs": [],
   "source": [
    "wl_ST = @time walk_layer_length(caminata_ST)"
   ]
  },
  {
   "cell_type": "code",
   "execution_count": null,
   "metadata": {},
   "outputs": [],
   "source": [
    "pyplot()\n",
    "xx = [\"Multiplex\", \"Star Alliance\", \"OneWorld\", \"Sky Team\"]\n",
    "yy = [wl_M, wl_SA, wl_OW, wl_ST]\n",
    "d_wl = bar(xx, yy, color=\"#0f87bf\",alpha=0.4, \n",
    "    title=\"Longitud caminatas por capa\", \n",
    "    xlabel=\"Alianza\", \n",
    "    ylabel=\"Long. prom.\")\n",
    "#bar!(xx[2], yy[2])\n",
    "#bar!(xx[3], yy[3])\n",
    "#bar!(xx[4], yy[4])"
   ]
  },
  {
   "cell_type": "code",
   "execution_count": null,
   "metadata": {},
   "outputs": [],
   "source": []
  },
  {
   "cell_type": "code",
   "execution_count": null,
   "metadata": {},
   "outputs": [],
   "source": [
    "#NO\n",
    "pyplot()\n",
    "histogram(lpn_SA, \n",
    "    nbins = 50, \n",
    "    title=\"Longitud promedio de caminata por nodo\", \n",
    "    xlabel=\"Promedio por nodo\", \n",
    "    ylabel=\"Frecuencia\",\n",
    "    xlims = (0, 110))\n",
    "histogram!(lpn_OW, nbins=50, falpha=0.4)\n",
    "histogram!(lpn_ST, nbins=50, falpha=0.3)"
   ]
  },
  {
   "cell_type": "code",
   "execution_count": null,
   "metadata": {},
   "outputs": [],
   "source": []
  },
  {
   "cell_type": "markdown",
   "metadata": {},
   "source": [
    "## Nodos visitados específicamente"
   ]
  },
  {
   "cell_type": "code",
   "execution_count": null,
   "metadata": {
    "scrolled": true
   },
   "outputs": [],
   "source": [
    "nv_M = @time nodos_visitados(caminata_M)"
   ]
  },
  {
   "cell_type": "code",
   "execution_count": null,
   "metadata": {},
   "outputs": [],
   "source": [
    "#Nodos visitados (diferentes) en cada una de las 10 iteraciones con nodo inicial 3\n",
    "nv_M[3]"
   ]
  },
  {
   "cell_type": "code",
   "execution_count": null,
   "metadata": {},
   "outputs": [],
   "source": [
    "nv_SA = @time nodos_visitados(caminata_SA)"
   ]
  },
  {
   "cell_type": "code",
   "execution_count": null,
   "metadata": {},
   "outputs": [],
   "source": [
    "nv_OW = @time nodos_visitados(caminata_OW)"
   ]
  },
  {
   "cell_type": "code",
   "execution_count": null,
   "metadata": {},
   "outputs": [],
   "source": [
    "nv_ST = @time nodos_visitados(caminata_ST)"
   ]
  },
  {
   "cell_type": "markdown",
   "metadata": {},
   "source": [
    "## Cobertura (nodos distintos)"
   ]
  },
  {
   "cell_type": "code",
   "execution_count": null,
   "metadata": {},
   "outputs": [],
   "source": [
    "cobi_M = @time cobertura(caminata_M)"
   ]
  },
  {
   "cell_type": "code",
   "execution_count": null,
   "metadata": {},
   "outputs": [],
   "source": [
    "#Número de nodos distintos que visita en cada iteración que se hizo con nodo inicial 3\n",
    "cobi_M[3]"
   ]
  },
  {
   "cell_type": "code",
   "execution_count": null,
   "metadata": {
    "scrolled": false
   },
   "outputs": [],
   "source": [
    "cobi_SA = @time cobertura(caminata_SA)"
   ]
  },
  {
   "cell_type": "code",
   "execution_count": null,
   "metadata": {},
   "outputs": [],
   "source": [
    "cobi_OW = @time cobertura(caminata_OW)"
   ]
  },
  {
   "cell_type": "code",
   "execution_count": null,
   "metadata": {},
   "outputs": [],
   "source": [
    "cobi_ST = @time cobertura(caminata_ST)"
   ]
  },
  {
   "cell_type": "markdown",
   "metadata": {},
   "source": [
    "## Cobertura promedio de las caminatas de cada aeropuerto inicial"
   ]
  },
  {
   "cell_type": "code",
   "execution_count": null,
   "metadata": {},
   "outputs": [],
   "source": [
    "cobs_M = @time n_cobertura_av(caminata_M)"
   ]
  },
  {
   "cell_type": "code",
   "execution_count": null,
   "metadata": {},
   "outputs": [],
   "source": [
    "d_cobs_M = scatter(cobs_M, color=\"#0f87bf\",alpha=0.4, \n",
    "    title=\"Long. caminatas por nodo(M)\", \n",
    "    xlabel=\"Aeropuertos iniciales\", \n",
    "    ylabel=\"Long. prom.\")"
   ]
  },
  {
   "cell_type": "code",
   "execution_count": null,
   "metadata": {},
   "outputs": [],
   "source": [
    "cobs_SA = @time n_cobertura_av(caminata_SA)"
   ]
  },
  {
   "cell_type": "code",
   "execution_count": null,
   "metadata": {},
   "outputs": [],
   "source": [
    "d_cobs_SA = scatter(cobs_SA, color=\"#0f87bf\",alpha=0.4, \n",
    "    title=\"Long. caminatas por nodo(SA)\", \n",
    "    xlabel=\"Aeropuertos iniciales\", \n",
    "    ylabel=\"Long. prom.\")"
   ]
  },
  {
   "cell_type": "code",
   "execution_count": null,
   "metadata": {},
   "outputs": [],
   "source": [
    "cobs_OW = @time n_cobertura_av(caminata_OW)"
   ]
  },
  {
   "cell_type": "code",
   "execution_count": null,
   "metadata": {},
   "outputs": [],
   "source": [
    "d_cobs_OW = scatter(cobs_OW, color=\"#0f87bf\",alpha=0.4, \n",
    "    title=\"Long. caminatas por nodo(OW)\", \n",
    "    xlabel=\"Aeropuertos iniciales\", \n",
    "    ylabel=\"Long. prom.\")"
   ]
  },
  {
   "cell_type": "code",
   "execution_count": null,
   "metadata": {},
   "outputs": [],
   "source": [
    "cobs_ST = @time n_cobertura_av(caminata_ST)"
   ]
  },
  {
   "cell_type": "code",
   "execution_count": null,
   "metadata": {},
   "outputs": [],
   "source": [
    "d_cobs_ST = scatter(cobs_ST, color=\"#0f87bf\",alpha=0.4, \n",
    "    title=\"Long. caminatas por nodo(ST)\", \n",
    "    xlabel=\"Aeropuertos iniciales\", \n",
    "    ylabel=\"Long. prom.\")"
   ]
  },
  {
   "cell_type": "code",
   "execution_count": null,
   "metadata": {},
   "outputs": [],
   "source": [
    "plot(d_cobs_M,d_cobs_SA,d_cobs_OW,d_cobs_ST,layout=(2,2),legend=false)"
   ]
  },
  {
   "cell_type": "code",
   "execution_count": null,
   "metadata": {},
   "outputs": [],
   "source": [
    "#NO"
   ]
  },
  {
   "cell_type": "code",
   "execution_count": null,
   "metadata": {},
   "outputs": [],
   "source": [
    "cobs_SA = @time n_cobertura_av(caminata_SA)"
   ]
  },
  {
   "cell_type": "code",
   "execution_count": null,
   "metadata": {},
   "outputs": [],
   "source": [
    "difSA = histogram(dif_SA, title=\"Cobertura promedio\", xlabel=\"Promedio de cobertura\", ylabel=\"Frecuencia\")"
   ]
  },
  {
   "cell_type": "code",
   "execution_count": null,
   "metadata": {},
   "outputs": [],
   "source": [
    "plot(dif_SA)"
   ]
  },
  {
   "cell_type": "code",
   "execution_count": null,
   "metadata": {},
   "outputs": [],
   "source": [
    "dif_SA"
   ]
  },
  {
   "cell_type": "code",
   "execution_count": null,
   "metadata": {},
   "outputs": [],
   "source": [
    "b = bar(dif_SA,xlim=(0,90),color=\"#0f87bf\",alpha=0.4)"
   ]
  },
  {
   "cell_type": "code",
   "execution_count": null,
   "metadata": {},
   "outputs": [],
   "source": [
    "dif_OW = @time n_cobertura_av(caminata_OW)"
   ]
  },
  {
   "cell_type": "code",
   "execution_count": null,
   "metadata": {},
   "outputs": [],
   "source": [
    "difOW = histogram(dif_OW, nbins=100,title=\"Cobertura promedio\", xlabel=\"Promedio de cobertura\", ylabel=\"Frecuencia\")"
   ]
  },
  {
   "cell_type": "code",
   "execution_count": null,
   "metadata": {},
   "outputs": [],
   "source": [
    "dif_ST = @time n_cobertura_av(caminata_ST)"
   ]
  },
  {
   "cell_type": "code",
   "execution_count": null,
   "metadata": {},
   "outputs": [],
   "source": []
  },
  {
   "cell_type": "code",
   "execution_count": null,
   "metadata": {},
   "outputs": [],
   "source": [
    "difST = histogram(dif_ST,nbins=100, title=\"Cobertura promedio\", xlabel=\"Promedio de cobertura\", ylabel=\"Frecuencia\")"
   ]
  },
  {
   "cell_type": "code",
   "execution_count": null,
   "metadata": {},
   "outputs": [],
   "source": [
    "plot(difSA, difOW, difST, layout=(1,3),legend=false)"
   ]
  },
  {
   "cell_type": "code",
   "execution_count": null,
   "metadata": {},
   "outputs": [],
   "source": [
    "difs = histogram(dif_SA, title=\"Cobertura promedio\", xlabel=\"Promedio\", ylabel=\"Frecuencia\")\n",
    "histogram!(dif_OW, falpha=0.4)\n",
    "histogram!(dif_ST, falpha=0.4)"
   ]
  },
  {
   "cell_type": "code",
   "execution_count": null,
   "metadata": {},
   "outputs": [],
   "source": []
  },
  {
   "cell_type": "code",
   "execution_count": null,
   "metadata": {},
   "outputs": [],
   "source": [
    "groupedbar(rand(10,3), bar_position = :dodge, bar_width=0.7)"
   ]
  },
  {
   "cell_type": "code",
   "execution_count": null,
   "metadata": {},
   "outputs": [],
   "source": [
    "#Plot que en el eje x tenga cada nodo inicial (aeropuerto) y en el eje y el promedio"
   ]
  },
  {
   "cell_type": "code",
   "execution_count": null,
   "metadata": {},
   "outputs": [],
   "source": [
    "h = bar(1:80, frqs, color=\"#0f87bf\",align=\"center\",alpha=0.4)"
   ]
  },
  {
   "cell_type": "markdown",
   "metadata": {},
   "source": [
    "## Cobertura promedio por alianza"
   ]
  },
  {
   "cell_type": "code",
   "execution_count": null,
   "metadata": {},
   "outputs": [],
   "source": [
    "cobp_M = @time cobertura_av(caminata_M)"
   ]
  },
  {
   "cell_type": "code",
   "execution_count": null,
   "metadata": {},
   "outputs": [],
   "source": [
    "cobp_SA = @time cobertura_av(caminata_SA)"
   ]
  },
  {
   "cell_type": "code",
   "execution_count": null,
   "metadata": {},
   "outputs": [],
   "source": [
    "cobp_OW = @time cobertura_av(caminata_OW)"
   ]
  },
  {
   "cell_type": "code",
   "execution_count": null,
   "metadata": {},
   "outputs": [],
   "source": [
    "cobp_ST = @time cobertura_av(caminata_ST)"
   ]
  },
  {
   "cell_type": "code",
   "execution_count": null,
   "metadata": {},
   "outputs": [],
   "source": [
    "x = [\"Multiplex\", \"Star Alliance\", \"OneWorld\", \"Sky Team\"]\n",
    "y = [cobp_M, cobp_SA, cobp_OW, cobp_ST]\n",
    "b = bar(x, y,\n",
    "    color=\"#0f87bf\",\n",
    "    title=\"Cobertura promedio\",\n",
    "    xlabel=\"Alianzas\",\n",
    "    ylabel = \"Promedio de cobertura por Alianza\", \n",
    "    alpha=0.4)"
   ]
  },
  {
   "cell_type": "markdown",
   "metadata": {},
   "source": [
    "## \"Atractores\""
   ]
  },
  {
   "cell_type": "code",
   "execution_count": null,
   "metadata": {},
   "outputs": [],
   "source": [
    "at_M = @time atractor(caminata_M)"
   ]
  },
  {
   "cell_type": "code",
   "execution_count": null,
   "metadata": {},
   "outputs": [],
   "source": [
    "at_SA = @time atractor(caminata_SA)"
   ]
  },
  {
   "cell_type": "code",
   "execution_count": null,
   "metadata": {},
   "outputs": [],
   "source": [
    "at_OW = @time atractor(caminata_OW)"
   ]
  },
  {
   "cell_type": "code",
   "execution_count": null,
   "metadata": {},
   "outputs": [],
   "source": [
    "at_ST = @time atractor(caminata_ST)"
   ]
  },
  {
   "cell_type": "code",
   "execution_count": null,
   "metadata": {},
   "outputs": [],
   "source": []
  },
  {
   "cell_type": "markdown",
   "metadata": {},
   "source": [
    "## Frecuencia de atractores"
   ]
  },
  {
   "cell_type": "code",
   "execution_count": null,
   "metadata": {},
   "outputs": [],
   "source": [
    "f_at_M = @time freq_atractor(caminata_M)"
   ]
  },
  {
   "cell_type": "code",
   "execution_count": null,
   "metadata": {},
   "outputs": [],
   "source": [
    "#Frecuencia de atractores en las iteraciones de caminatas con nodo inicial 3\n",
    "f_at_M[3]"
   ]
  },
  {
   "cell_type": "code",
   "execution_count": null,
   "metadata": {},
   "outputs": [],
   "source": [
    "f_at_SA = @time freq_atractor(caminata_SA)"
   ]
  },
  {
   "cell_type": "code",
   "execution_count": null,
   "metadata": {},
   "outputs": [],
   "source": [
    "f_at_OW = @time freq_atractor(caminata_OW)"
   ]
  },
  {
   "cell_type": "code",
   "execution_count": null,
   "metadata": {},
   "outputs": [],
   "source": [
    "f_at_ST = @time freq_atractor(caminata_ST)"
   ]
  },
  {
   "cell_type": "markdown",
   "metadata": {},
   "source": [
    "## Distribución atractores"
   ]
  },
  {
   "cell_type": "code",
   "execution_count": null,
   "metadata": {},
   "outputs": [],
   "source": [
    "d_at_M = @time distrib_atractor(caminata_M)"
   ]
  },
  {
   "cell_type": "code",
   "execution_count": null,
   "metadata": {},
   "outputs": [],
   "source": [
    "pyplot()\n",
    "d_d_at_M = bar(d_at_M, color=\"#0f87bf\",alpha=0.8, \n",
    "    title=\"Multiplex\", \n",
    "    xlabel=\"Aeropuerto Atractor\", \n",
    "    ylabel=\"Frecuencia\")"
   ]
  },
  {
   "cell_type": "code",
   "execution_count": null,
   "metadata": {},
   "outputs": [],
   "source": [
    "d_at_SA = @time distrib_atractor(caminata_SA)"
   ]
  },
  {
   "cell_type": "code",
   "execution_count": null,
   "metadata": {},
   "outputs": [],
   "source": [
    "pyplot()\n",
    "d_d_at_SA = bar(d_at_SA, color=\"#0f87bf\",alpha=0.8, \n",
    "    title=\"Star Alliance\", \n",
    "    xlabel=\"Aeropuerto Atractor\", \n",
    "    ylabel=\"Frecuencia\")"
   ]
  },
  {
   "cell_type": "code",
   "execution_count": null,
   "metadata": {},
   "outputs": [],
   "source": [
    "d_at_OW = @time distrib_atractor(caminata_OW)"
   ]
  },
  {
   "cell_type": "code",
   "execution_count": null,
   "metadata": {},
   "outputs": [],
   "source": [
    "pyplot()\n",
    "d_d_at_OW = bar(d_at_OW, color=\"#0f87bf\",alpha=0.8, \n",
    "    title=\"OneWorld\", \n",
    "    xlabel=\"Aeropuerto Atractor\", \n",
    "    ylabel=\"Frecuencia\")"
   ]
  },
  {
   "cell_type": "code",
   "execution_count": null,
   "metadata": {},
   "outputs": [],
   "source": [
    "d_at_ST = @time distrib_atractor(caminata_ST)"
   ]
  },
  {
   "cell_type": "code",
   "execution_count": null,
   "metadata": {},
   "outputs": [],
   "source": [
    "pyplot()\n",
    "d_d_at_ST = bar(d_at_ST, color=\"#0f87bf\",alpha=0.8, \n",
    "    title=\"Sky Team\", \n",
    "    xlabel=\"Aeropuerto Atractor\", \n",
    "    ylabel=\"Frecuencia\")"
   ]
  },
  {
   "cell_type": "code",
   "execution_count": null,
   "metadata": {},
   "outputs": [],
   "source": []
  },
  {
   "cell_type": "markdown",
   "metadata": {},
   "source": [
    "### Pruebas para figurita de LANET"
   ]
  },
  {
   "cell_type": "code",
   "execution_count": null,
   "metadata": {},
   "outputs": [],
   "source": [
    "rm10 = @time random_walk(multiplex, 10, 50)"
   ]
  },
  {
   "cell_type": "code",
   "execution_count": null,
   "metadata": {},
   "outputs": [],
   "source": [
    "cm10 = cobertura_av(rm10)"
   ]
  },
  {
   "cell_type": "code",
   "execution_count": null,
   "metadata": {},
   "outputs": [],
   "source": [
    "rm20 = @time random_walk(multiplex, 20, 50)"
   ]
  },
  {
   "cell_type": "code",
   "execution_count": null,
   "metadata": {},
   "outputs": [],
   "source": [
    "cm20 = cobertura_av(rm20)"
   ]
  },
  {
   "cell_type": "code",
   "execution_count": null,
   "metadata": {},
   "outputs": [],
   "source": [
    "rm30 = @time random_walk(multiplex, 30, 50)"
   ]
  },
  {
   "cell_type": "code",
   "execution_count": null,
   "metadata": {},
   "outputs": [],
   "source": [
    "cobertura_av(rm30)"
   ]
  },
  {
   "cell_type": "code",
   "execution_count": null,
   "metadata": {},
   "outputs": [],
   "source": [
    "rm40 = @time random_walk(multiplex, 40, 50)"
   ]
  },
  {
   "cell_type": "code",
   "execution_count": null,
   "metadata": {},
   "outputs": [],
   "source": [
    "cobertura_av(rm40)"
   ]
  },
  {
   "cell_type": "code",
   "execution_count": null,
   "metadata": {},
   "outputs": [],
   "source": [
    "rm50 = @time random_walk(multiplex, 50, 50)"
   ]
  },
  {
   "cell_type": "code",
   "execution_count": null,
   "metadata": {},
   "outputs": [],
   "source": [
    "cobertura_av(rm50)"
   ]
  },
  {
   "cell_type": "code",
   "execution_count": null,
   "metadata": {},
   "outputs": [],
   "source": [
    "#Plot de Star Alliance. Cómo se modifica la cobertura si se cambian los pasos.\n",
    "equis = [10, 20]\n",
    "ye = [cm10, cm20]\n",
    "scatter(equis, ye, \n",
    "    xlims = (0, 300), ylims = (0, 300),\n",
    "    aspect_ratio =:equal,\n",
    "    xlabel = \"Pasos\", ylabel = \"Cobertura promedio\",\n",
    "    title = \"Cobertura Total\")"
   ]
  },
  {
   "cell_type": "code",
   "execution_count": null,
   "metadata": {},
   "outputs": [],
   "source": [
    "a=1"
   ]
  },
  {
   "cell_type": "code",
   "execution_count": null,
   "metadata": {},
   "outputs": [],
   "source": []
  },
  {
   "cell_type": "code",
   "execution_count": null,
   "metadata": {},
   "outputs": [],
   "source": []
  },
  {
   "cell_type": "code",
   "execution_count": null,
   "metadata": {},
   "outputs": [],
   "source": []
  },
  {
   "cell_type": "code",
   "execution_count": null,
   "metadata": {},
   "outputs": [],
   "source": []
  },
  {
   "cell_type": "code",
   "execution_count": null,
   "metadata": {},
   "outputs": [],
   "source": []
  },
  {
   "cell_type": "code",
   "execution_count": null,
   "metadata": {},
   "outputs": [],
   "source": []
  },
  {
   "cell_type": "code",
   "execution_count": null,
   "metadata": {},
   "outputs": [],
   "source": []
  },
  {
   "cell_type": "code",
   "execution_count": null,
   "metadata": {},
   "outputs": [],
   "source": []
  },
  {
   "cell_type": "code",
   "execution_count": null,
   "metadata": {},
   "outputs": [],
   "source": []
  },
  {
   "cell_type": "code",
   "execution_count": null,
   "metadata": {},
   "outputs": [],
   "source": []
  },
  {
   "cell_type": "code",
   "execution_count": null,
   "metadata": {},
   "outputs": [],
   "source": []
  },
  {
   "cell_type": "code",
   "execution_count": null,
   "metadata": {},
   "outputs": [],
   "source": []
  },
  {
   "cell_type": "code",
   "execution_count": null,
   "metadata": {},
   "outputs": [],
   "source": []
  },
  {
   "cell_type": "code",
   "execution_count": null,
   "metadata": {},
   "outputs": [],
   "source": []
  },
  {
   "cell_type": "code",
   "execution_count": null,
   "metadata": {},
   "outputs": [],
   "source": []
  },
  {
   "cell_type": "code",
   "execution_count": null,
   "metadata": {},
   "outputs": [],
   "source": []
  },
  {
   "cell_type": "code",
   "execution_count": null,
   "metadata": {},
   "outputs": [],
   "source": []
  },
  {
   "cell_type": "code",
   "execution_count": null,
   "metadata": {},
   "outputs": [],
   "source": [
    "r10 = @time random_walk(multiplexSA, 10, 20)"
   ]
  },
  {
   "cell_type": "code",
   "execution_count": null,
   "metadata": {},
   "outputs": [],
   "source": [
    "c10 = cobertura_av(r10)"
   ]
  },
  {
   "cell_type": "code",
   "execution_count": null,
   "metadata": {},
   "outputs": [],
   "source": [
    "r15 = @time random_walk(multiplexSA, 15, 20)"
   ]
  },
  {
   "cell_type": "code",
   "execution_count": null,
   "metadata": {},
   "outputs": [],
   "source": [
    "c15 = cobertura_av(r15)"
   ]
  },
  {
   "cell_type": "code",
   "execution_count": null,
   "metadata": {},
   "outputs": [],
   "source": [
    "r20 = @time random_walk(multiplexSA, 20, 20)"
   ]
  },
  {
   "cell_type": "code",
   "execution_count": null,
   "metadata": {},
   "outputs": [],
   "source": [
    "c20 = cobertura_av(r20)"
   ]
  },
  {
   "cell_type": "code",
   "execution_count": null,
   "metadata": {},
   "outputs": [],
   "source": [
    "r30 = @time random_walk(multiplexSA, 30, 20)"
   ]
  },
  {
   "cell_type": "code",
   "execution_count": null,
   "metadata": {},
   "outputs": [],
   "source": [
    "c30 = cobertura_av(r30)"
   ]
  },
  {
   "cell_type": "code",
   "execution_count": null,
   "metadata": {},
   "outputs": [],
   "source": [
    "r40 = @time random_walk(multiplexSA, 40, 20)"
   ]
  },
  {
   "cell_type": "code",
   "execution_count": null,
   "metadata": {},
   "outputs": [],
   "source": [
    "c40 = cobertura_av(r40)"
   ]
  },
  {
   "cell_type": "code",
   "execution_count": null,
   "metadata": {},
   "outputs": [],
   "source": [
    "r50 = @time random_walk(multiplexSA, 50, 20)"
   ]
  },
  {
   "cell_type": "code",
   "execution_count": null,
   "metadata": {},
   "outputs": [],
   "source": [
    "c50 = cobertura_av(r50)"
   ]
  },
  {
   "cell_type": "code",
   "execution_count": null,
   "metadata": {},
   "outputs": [],
   "source": [
    "r60 = @time random_walk(multiplexSA, 60, 20)"
   ]
  },
  {
   "cell_type": "code",
   "execution_count": null,
   "metadata": {},
   "outputs": [],
   "source": [
    "c60 = cobertura_av(r60)"
   ]
  },
  {
   "cell_type": "code",
   "execution_count": null,
   "metadata": {},
   "outputs": [],
   "source": [
    "r70 = @time random_walk(multiplexSA, 70, 20)"
   ]
  },
  {
   "cell_type": "code",
   "execution_count": null,
   "metadata": {},
   "outputs": [],
   "source": [
    "c70 = cobertura_av(r70)"
   ]
  },
  {
   "cell_type": "code",
   "execution_count": null,
   "metadata": {},
   "outputs": [],
   "source": [
    "r80 = @time random_walk(multiplexSA, 80, 20)"
   ]
  },
  {
   "cell_type": "code",
   "execution_count": null,
   "metadata": {},
   "outputs": [],
   "source": [
    "c80 = cobertura_av(r80)"
   ]
  },
  {
   "cell_type": "code",
   "execution_count": null,
   "metadata": {},
   "outputs": [],
   "source": [
    "r90 = @time random_walk(multiplexSA, 90, 20)"
   ]
  },
  {
   "cell_type": "code",
   "execution_count": null,
   "metadata": {},
   "outputs": [],
   "source": [
    "c90 = cobertura_av(r90)"
   ]
  },
  {
   "cell_type": "code",
   "execution_count": null,
   "metadata": {},
   "outputs": [],
   "source": [
    "r100 = @time random_walk(multiplexSA, 100, 20)"
   ]
  },
  {
   "cell_type": "code",
   "execution_count": null,
   "metadata": {},
   "outputs": [],
   "source": [
    "c100 = cobertura_av(r100)"
   ]
  },
  {
   "cell_type": "code",
   "execution_count": null,
   "metadata": {},
   "outputs": [],
   "source": [
    "r110 = @time random_walk(multiplexSA, 110, 20)"
   ]
  },
  {
   "cell_type": "code",
   "execution_count": null,
   "metadata": {},
   "outputs": [],
   "source": [
    "c110 = cobertura_av(r110)"
   ]
  },
  {
   "cell_type": "code",
   "execution_count": null,
   "metadata": {},
   "outputs": [],
   "source": [
    "r150 = @time random_walk(multiplexSA, 150, 20)"
   ]
  },
  {
   "cell_type": "code",
   "execution_count": null,
   "metadata": {},
   "outputs": [],
   "source": [
    "c150 = cobertura_av(r150)"
   ]
  },
  {
   "cell_type": "code",
   "execution_count": null,
   "metadata": {},
   "outputs": [],
   "source": [
    "r200 = @time random_walk(multiplexSA, 200, 20)"
   ]
  },
  {
   "cell_type": "code",
   "execution_count": null,
   "metadata": {},
   "outputs": [],
   "source": [
    "c200 = cobertura_av(r200)"
   ]
  },
  {
   "cell_type": "code",
   "execution_count": null,
   "metadata": {},
   "outputs": [],
   "source": [
    "r300 = @time random_walk(multiplexSA, 300, 20)"
   ]
  },
  {
   "cell_type": "code",
   "execution_count": null,
   "metadata": {},
   "outputs": [],
   "source": [
    "c300 = cobertura_av(r300)"
   ]
  },
  {
   "cell_type": "code",
   "execution_count": null,
   "metadata": {},
   "outputs": [],
   "source": [
    "r400 = @time random_walk(multiplexSA, 400, 20)"
   ]
  },
  {
   "cell_type": "code",
   "execution_count": null,
   "metadata": {},
   "outputs": [],
   "source": [
    "c400 = cobertura_av(r400)"
   ]
  },
  {
   "cell_type": "code",
   "execution_count": null,
   "metadata": {},
   "outputs": [],
   "source": [
    "#Plot de Star Alliance. Cómo se modifica la cobertura si se cambian los pasos.\n",
    "equis = [10, 20, 30, 40, 50, 60, 70, 80, 90, 100, 110, 150, 200, 300, 400]\n",
    "ye = [c10, c20, c30, c40, c50, c60, c70, c80, c90, c100, c110, c150, c200, c300, c400]\n",
    "scatter(equis, ye, \n",
    "    xlims = (0, 400), ylims = (0, 400),\n",
    "    aspect_ratio =:equal,\n",
    "    xlabel = \"Pasos\", ylabel = \"Cobertura promedio\",\n",
    "    title = \"Cobertura Star Alliance\")"
   ]
  },
  {
   "cell_type": "code",
   "execution_count": null,
   "metadata": {},
   "outputs": [],
   "source": []
  },
  {
   "cell_type": "code",
   "execution_count": null,
   "metadata": {},
   "outputs": [],
   "source": []
  },
  {
   "cell_type": "code",
   "execution_count": null,
   "metadata": {},
   "outputs": [],
   "source": []
  },
  {
   "cell_type": "markdown",
   "metadata": {},
   "source": [
    "### Prueba histograma"
   ]
  },
  {
   "cell_type": "code",
   "execution_count": null,
   "metadata": {},
   "outputs": [],
   "source": [
    "#Matriz\n",
    "d = [0 1 0\n",
    "     1 0 1\n",
    "     0 0 0]"
   ]
  },
  {
   "cell_type": "code",
   "execution_count": null,
   "metadata": {},
   "outputs": [],
   "source": [
    "#Caminata\n",
    "rwd = random_walk(d, 3, 1)"
   ]
  },
  {
   "cell_type": "code",
   "execution_count": null,
   "metadata": {},
   "outputs": [],
   "source": [
    "#Obtengo una de las iteraciones\n",
    "uno=rwd[3]"
   ]
  },
  {
   "cell_type": "code",
   "execution_count": null,
   "metadata": {},
   "outputs": [],
   "source": [
    "#Lista de nombres\n",
    "nom_d = [\"Nada\", \"Yuriko\", \"Tombo\", \"Sak\"]"
   ]
  },
  {
   "cell_type": "code",
   "execution_count": null,
   "metadata": {
    "scrolled": true
   },
   "outputs": [],
   "source": [
    "#Nombres en el orden de la caminata\n",
    "while i != 0\n",
    "    \n",
    "    nomuno=nom_d[uno]"
   ]
  },
  {
   "cell_type": "code",
   "execution_count": null,
   "metadata": {
    "scrolled": true
   },
   "outputs": [],
   "source": [
    "#Frecuencias de los números de las caminatas\n",
    "his=counts(uno)"
   ]
  },
  {
   "cell_type": "code",
   "execution_count": null,
   "metadata": {
    "scrolled": false
   },
   "outputs": [],
   "source": [
    "#Gráfica de barras de x = nombres ordenados vs. y = frecuencias\n",
    "bar(nom_d,his)"
   ]
  },
  {
   "cell_type": "code",
   "execution_count": null,
   "metadata": {},
   "outputs": [],
   "source": [
    "dnan = [2 1 1\n",
    "        1 2 1\n",
    "        1 5 7]"
   ]
  },
  {
   "cell_type": "code",
   "execution_count": null,
   "metadata": {
    "scrolled": true
   },
   "outputs": [],
   "source": [
    "out_degree(dnan)"
   ]
  },
  {
   "cell_type": "code",
   "execution_count": null,
   "metadata": {},
   "outputs": [],
   "source": [
    "as =counts(out_degree(dnan))"
   ]
  },
  {
   "cell_type": "code",
   "execution_count": null,
   "metadata": {},
   "outputs": [],
   "source": [
    "count_zeros(as)"
   ]
  },
  {
   "cell_type": "code",
   "execution_count": null,
   "metadata": {},
   "outputs": [],
   "source": [
    "?count"
   ]
  },
  {
   "cell_type": "code",
   "execution_count": null,
   "metadata": {},
   "outputs": [],
   "source": [
    "countmap([4,4,13])"
   ]
  },
  {
   "cell_type": "code",
   "execution_count": null,
   "metadata": {},
   "outputs": [],
   "source": [
    "rwdna = random_walk(dnan, 3, 1)"
   ]
  },
  {
   "cell_type": "code",
   "execution_count": null,
   "metadata": {},
   "outputs": [],
   "source": [
    "#Con un histograma, tenemos colores distintos y leyenda para diferenciarlos\n",
    "histogram(uno)\n",
    "    #legend=)\n",
    "#xticks=,\n",
    "#yticks=)\n",
    "\n"
   ]
  },
  {
   "cell_type": "code",
   "execution_count": null,
   "metadata": {},
   "outputs": [],
   "source": [
    "?histogram"
   ]
  },
  {
   "cell_type": "code",
   "execution_count": null,
   "metadata": {},
   "outputs": [],
   "source": [
    "?bar"
   ]
  },
  {
   "cell_type": "code",
   "execution_count": null,
   "metadata": {},
   "outputs": [],
   "source": [
    "c = random_walk(multiplexST, 100, 2)\n",
    "\n",
    "\n",
    "#\n",
    "j = sort(c[1][1,:])\n",
    "x = nombres_ST[j]\n",
    "h = countmap(x)\n",
    "#histogram(h)\n",
    "#hh=sort(h)\n",
    "\n",
    "oh=hcat(hh)\n",
    "\n",
    "bar(oh)\n",
    "\n",
    "f=freqtable(j)\n",
    "\n",
    "l = freqtable(x)\n",
    "\n",
    "n =names(l)\n",
    "\n",
    "typeof(l)\n",
    "\n",
    "#bar(l)\n",
    "bar(f,\n",
    "    color=\"#0f87bf\",\n",
    "    title=\"Título\",\n",
    "    xlabel=\"Aeropuertos\",\n",
    "    ylabel = \"Frecuencia de visitas\", \n",
    "    #xticks = names(l),\n",
    "    alpha=0.4)\n",
    "\n",
    "prueba=\n",
    "\n",
    "k = countmap(x)\n",
    "\n",
    "\n",
    "get(k, 145, \"NA\")\n",
    "\n",
    "freqtable(k)\n",
    "\n",
    "histogram()"
   ]
  },
  {
   "cell_type": "markdown",
   "metadata": {},
   "source": [
    "## "
   ]
  },
  {
   "cell_type": "code",
   "execution_count": null,
   "metadata": {},
   "outputs": [],
   "source": [
    "get(f_at_OW[1], 2, \"NA\")\n",
    "f_at_OW[1]\n",
    "f_at_OW[3]"
   ]
  },
  {
   "cell_type": "code",
   "execution_count": null,
   "metadata": {},
   "outputs": [],
   "source": []
  },
  {
   "cell_type": "code",
   "execution_count": null,
   "metadata": {},
   "outputs": [],
   "source": []
  },
  {
   "cell_type": "code",
   "execution_count": null,
   "metadata": {},
   "outputs": [],
   "source": []
  },
  {
   "cell_type": "code",
   "execution_count": null,
   "metadata": {},
   "outputs": [],
   "source": [
    "pyplot()\n",
    "x = range(0,stop=2*pi,length=500); y = exp.(-3*x - (0.2*x))\n",
    "aa = scatter(x, y, color=\"red\",alpha=0.8, \n",
    "    title=\"Avianca\", \n",
    "    xlabel=\"Cobertura\", \n",
    "    ylabel=\"Frecuencia\")"
   ]
  },
  {
   "cell_type": "code",
   "execution_count": null,
   "metadata": {},
   "outputs": [],
   "source": [
    "pyplot()\n",
    "x = range(0,stop=2*pi,length=500); y = exp.(-.7*x - (0.6*x))\n",
    "bb = scatter(x, y, color=\"gray\",alpha=0.8, \n",
    "    title=\"Star Alliance\", \n",
    "    xlabel=\"Cobertura\", \n",
    "    ylabel=\"Frecuencia\")"
   ]
  },
  {
   "cell_type": "code",
   "execution_count": null,
   "metadata": {},
   "outputs": [],
   "source": [
    "pyplot()\n",
    "x = range(0,stop=2*pi,length=500); y = exp.(-0.50*x )\n",
    "cc = scatter(x, y, color=\"#0f87bf\",alpha=0.8, \n",
    "    title=\"Global\", \n",
    "    xlabel=\"Cobertura\", \n",
    "    ylabel=\"Frecuencia\")"
   ]
  },
  {
   "cell_type": "code",
   "execution_count": null,
   "metadata": {},
   "outputs": [],
   "source": [
    "plot(aa,bb,cc,layout=(1,3),legend=false)"
   ]
  },
  {
   "cell_type": "code",
   "execution_count": null,
   "metadata": {},
   "outputs": [],
   "source": [
    "count(i->(4<=i<=6), [2,3,4,5,6]) #dime cuántas veces se cumple la condición i in [4,6] en el arreglo"
   ]
  }
 ],
 "metadata": {
  "@webio": {
   "lastCommId": null,
   "lastKernelId": null
  },
  "kernelspec": {
   "display_name": "Julia 1.1.0",
   "language": "julia",
   "name": "julia-1.1"
  },
  "language_info": {
   "file_extension": ".jl",
   "mimetype": "application/julia",
   "name": "julia",
   "version": "1.1.0"
  }
 },
 "nbformat": 4,
 "nbformat_minor": 2
}
