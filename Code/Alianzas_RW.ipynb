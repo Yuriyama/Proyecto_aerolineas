{
 "cells": [
  {
   "cell_type": "markdown",
   "metadata": {},
   "source": [
    "# Random Walks en Alianzas de Aerolíneas"
   ]
  },
  {
   "cell_type": "markdown",
   "metadata": {},
   "source": [
    "## Paquetes"
   ]
  },
  {
   "cell_type": "code",
   "execution_count": 1,
   "metadata": {},
   "outputs": [],
   "source": [
    "using StatsBase"
   ]
  },
  {
   "cell_type": "code",
   "execution_count": 2,
   "metadata": {},
   "outputs": [],
   "source": [
    "using DelimitedFiles"
   ]
  },
  {
   "cell_type": "code",
   "execution_count": 3,
   "metadata": {},
   "outputs": [],
   "source": [
    "using Plots"
   ]
  },
  {
   "cell_type": "code",
   "execution_count": 204,
   "metadata": {},
   "outputs": [
    {
     "name": "stderr",
     "output_type": "stream",
     "text": [
      "┌ Info: Precompiling Plotly [58dd65bb-95f3-509e-9936-c39a10fdeae7]\n",
      "└ @ Base loading.jl:1186\n",
      "WARNING: could not import Base.quit into AtomShell\n"
     ]
    },
    {
     "data": {
      "text/html": [
       "<script>\n",
       "// Immediately-invoked-function-expression to avoid global variables.\n",
       "(function() {\n",
       "    var warning_div = document.getElementById(\"webio-warning-14561402695442815899\");\n",
       "    var hide = function () {\n",
       "        var script = document.getElementById(\"webio-setup-4543783454519436597\");\n",
       "        var parent = script && script.parentElement;\n",
       "        var grandparent = parent && parent.parentElement;\n",
       "        if (grandparent) {\n",
       "            grandparent.style.display = \"none\";\n",
       "        }\n",
       "        warning_div.style.display = \"none\";\n",
       "    };\n",
       "    if (typeof Jupyter !== \"undefined\") {\n",
       "        console.log(\"WebIO detected Jupyter notebook environment.\");\n",
       "        // Jupyter notebook.\n",
       "        var extensions = (\n",
       "            Jupyter\n",
       "            && Jupyter.notebook.config.data\n",
       "            && Jupyter.notebook.config.data.load_extensions\n",
       "        );\n",
       "        if (extensions && extensions[\"webio/main\"]) {\n",
       "            // Extension already loaded.\n",
       "            console.log(\"Jupyter WebIO nbextension detected; not loading ad-hoc.\");\n",
       "            hide();\n",
       "            return;\n",
       "        }\n",
       "        console.warn(\"Loading WebIO Jupyter extension on an ad-hoc basis. Consider enabling the WebIO nbextension for a stabler experience (this should happen automatically when building WebIO).\");\n",
       "        require([\"/assetserver/d8f38831b0d0bb291a6a5e63a8ad83a7ec920338-dist/main.js\"], function (webIOModule) {\n",
       "            webIOModule.load_ipython_extension();\n",
       "        });\n",
       "        warning_div.innerHTML = \"<strong>Loading WebIO Jupyter extension on an ad-hoc basis. Consider enabling the WebIO nbextension for a stabler experience (this should happen automatically when building WebIO).</strong>\";\n",
       "    } else if (window.location.pathname.includes(\"/lab\")) {\n",
       "        // Guessing JupyterLa\n",
       "        console.log(\"Jupyter Lab detected; make sure the @webio/jupyter-lab-provider labextension is installed.\");\n",
       "        hide();\n",
       "        return;\n",
       "    }\n",
       "})();\n",
       "\n",
       "</script>\n",
       "<div\n",
       "    id=\"webio-warning-14561402695442815899\"\n",
       "    class=\"output_text output_stderr\"\n",
       "    style=\"padding: 1em; font-weight: bold;\"\n",
       ">\n",
       "    Unable to load WebIO. Please make sure WebIO works for your Jupyter client.\n",
       "    <!-- TODO: link to installation docs. -->\n",
       "</div>\n"
      ],
      "text/plain": [
       "HTML{String}(\"<script>\\n// Immediately-invoked-function-expression to avoid global variables.\\n(function() {\\n    var warning_div = document.getElementById(\\\"webio-warning-14561402695442815899\\\");\\n    var hide = function () {\\n        var script = document.getElementById(\\\"webio-setup-4543783454519436597\\\");\\n        var parent = script && script.parentElement;\\n        var grandparent = parent && parent.parentElement;\\n        if (grandparent) {\\n            grandparent.style.display = \\\"none\\\";\\n        }\\n        warning_div.style.display = \\\"none\\\";\\n    };\\n    if (typeof Jupyter !== \\\"undefined\\\") {\\n        console.log(\\\"WebIO detected Jupyter notebook environment.\\\");\\n        // Jupyter notebook.\\n        var extensions = (\\n            Jupyter\\n            && Jupyter.notebook.config.data\\n            && Jupyter.notebook.config.data.load_extensions\\n        );\\n        if (extensions && extensions[\\\"webio/main\\\"]) {\\n            // Extension already loaded.\\n            console.log(\\\"Jupyter WebIO nbextension detected; not loading ad-hoc.\\\");\\n            hide();\\n            return;\\n        }\\n        console.warn(\\\"Loading WebIO Jupyter extension on an ad-hoc basis. Consider enabling the WebIO nbextension for a stabler experience (this should happen automatically when building WebIO).\\\");\\n        require([\\\"/assetserver/d8f38831b0d0bb291a6a5e63a8ad83a7ec920338-dist/main.js\\\"], function (webIOModule) {\\n            webIOModule.load_ipython_extension();\\n        });\\n        warning_div.innerHTML = \\\"<strong>Loading WebIO Jupyter extension on an ad-hoc basis. Consider enabling the WebIO nbextension for a stabler experience (this should happen automatically when building WebIO).</strong>\\\";\\n    } else if (window.location.pathname.includes(\\\"/lab\\\")) {\\n        // Guessing JupyterLa\\n        console.log(\\\"Jupyter Lab detected; make sure the @webio/jupyter-lab-provider labextension is installed.\\\");\\n        hide();\\n        return;\\n    }\\n})();\\n\\n</script>\\n<div\\n    id=\\\"webio-warning-14561402695442815899\\\"\\n    class=\\\"output_text output_stderr\\\"\\n    style=\\\"padding: 1em; font-weight: bold;\\\"\\n>\\n    Unable to load WebIO. Please make sure WebIO works for your Jupyter client.\\n    <!-- TODO: link to installation docs. -->\\n</div>\\n\")"
      ]
     },
     "metadata": {},
     "output_type": "display_data"
    }
   ],
   "source": [
    "using Plotly"
   ]
  },
  {
   "cell_type": "code",
   "execution_count": 206,
   "metadata": {},
   "outputs": [
    {
     "name": "stderr",
     "output_type": "stream",
     "text": [
      "┌ Info: Precompiling FreqTables [da1fdf0e-e0ff-5433-a45f-9bb5ff651cb1]\n",
      "└ @ Base loading.jl:1186\n"
     ]
    }
   ],
   "source": [
    "using FreqTables"
   ]
  },
  {
   "cell_type": "code",
   "execution_count": 230,
   "metadata": {},
   "outputs": [
    {
     "name": "stderr",
     "output_type": "stream",
     "text": [
      "┌ Info: Precompiling StatsPlots [f3b207a7-027a-5e70-b257-86293d7955fd]\n",
      "└ @ Base loading.jl:1186\n"
     ]
    }
   ],
   "source": [
    "using StatsPlots"
   ]
  },
  {
   "cell_type": "code",
   "execution_count": 250,
   "metadata": {
    "scrolled": true
   },
   "outputs": [
    {
     "name": "stderr",
     "output_type": "stream",
     "text": [
      "┌ Info: Precompiling Documenter [e30172f5-a6a5-5a46-863b-614d45cd2de4]\n",
      "└ @ Base loading.jl:1186\n"
     ]
    }
   ],
   "source": [
    "using Documenter"
   ]
  },
  {
   "cell_type": "code",
   "execution_count": 287,
   "metadata": {},
   "outputs": [
    {
     "name": "stdout",
     "output_type": "stream",
     "text": [
      "\u001b[32m\u001b[1m Resolving\u001b[22m\u001b[39m package versions...\n",
      "\u001b[32m\u001b[1m Installed\u001b[22m\u001b[39m Media ────────── v0.5.0\n",
      "\u001b[32m\u001b[1m Installed\u001b[22m\u001b[39m Hexagons ─────── v0.2.0\n",
      "\u001b[32m\u001b[1m Installed\u001b[22m\u001b[39m Loess ────────── v0.5.0\n",
      "\u001b[32m\u001b[1m Installed\u001b[22m\u001b[39m Juno ─────────── v0.7.0\n",
      "\u001b[32m\u001b[1m Installed\u001b[22m\u001b[39m IndirectArrays ─ v0.5.0\n",
      "\u001b[32m\u001b[1m Installed\u001b[22m\u001b[39m CoupledFields ── v0.1.0\n",
      "\u001b[32m\u001b[1m Installed\u001b[22m\u001b[39m Gadfly ───────── v1.0.1\n",
      "\u001b[32m\u001b[1m  Updating\u001b[22m\u001b[39m `/Users/Yuriko/.julia/environments/v1.1/Project.toml`\n",
      " \u001b[90m [c91e804a]\u001b[39m\u001b[92m + Gadfly v1.0.1\u001b[39m\n",
      "\u001b[32m\u001b[1m  Updating\u001b[22m\u001b[39m `/Users/Yuriko/.julia/environments/v1.1/Manifest.toml`\n",
      " \u001b[90m [7ad07ef1]\u001b[39m\u001b[92m + CoupledFields v0.1.0\u001b[39m\n",
      " \u001b[90m [c91e804a]\u001b[39m\u001b[92m + Gadfly v1.0.1\u001b[39m\n",
      " \u001b[90m [a1b4810d]\u001b[39m\u001b[92m + Hexagons v0.2.0\u001b[39m\n",
      " \u001b[90m [9b13fd28]\u001b[39m\u001b[92m + IndirectArrays v0.5.0\u001b[39m\n",
      " \u001b[90m [e5e0dc1b]\u001b[39m\u001b[92m + Juno v0.7.0\u001b[39m\n",
      " \u001b[90m [4345ca2d]\u001b[39m\u001b[92m + Loess v0.5.0\u001b[39m\n",
      " \u001b[90m [e89f7d12]\u001b[39m\u001b[92m + Media v0.5.0\u001b[39m\n"
     ]
    }
   ],
   "source": [
    "Pkg.add(\"Gadfly\")"
   ]
  },
  {
   "cell_type": "code",
   "execution_count": 4,
   "metadata": {},
   "outputs": [],
   "source": [
    "cd(\"$(homedir())/Documents/UNAM/Tesis_Lic\")"
   ]
  },
  {
   "cell_type": "markdown",
   "metadata": {},
   "source": [
    "## Funciones"
   ]
  },
  {
   "cell_type": "code",
   "execution_count": 251,
   "metadata": {},
   "outputs": [
    {
     "data": {
      "text/plain": [
       "n_in_degree (generic function with 1 method)"
      ]
     },
     "execution_count": 251,
     "metadata": {},
     "output_type": "execute_result"
    }
   ],
   "source": [
    "\"\"\"\n",
    "    n_in_degree(M::Array{Int64,2}, n::Int64)\n",
    "\n",
    "Función que obtiene el grado de entrada de un cierto nodo n de la red representada por la matriz de adyacencia M.\n",
    "\n",
    "Parámetros:\n",
    "* M matriz de adyacencia que acepta un arreglo de tipo Array{Int64,2}\n",
    "* n nodo a evaluar de tipo Int64\n",
    "\n",
    "Resultado:\n",
    "Grado de entrada del nodo n representado por un valor numérico de tipo Int64\n",
    "\n",
    "## Implementación\n",
    "\n",
    "### Ejemplos\n",
    "\"\"\"\n",
    "\n",
    "function n_in_degree(M::Array{Int64,2}, n::Int64)\n",
    "    grado_entrada = sum(M[n, :])\n",
    "end"
   ]
  },
  {
   "cell_type": "code",
   "execution_count": 252,
   "metadata": {},
   "outputs": [
    {
     "name": "stdout",
     "output_type": "stream",
     "text": [
      "search: \u001b[0m\u001b[1mn\u001b[22m\u001b[0m\u001b[1m_\u001b[22m\u001b[0m\u001b[1mi\u001b[22m\u001b[0m\u001b[1mn\u001b[22m\u001b[0m\u001b[1m_\u001b[22m\u001b[0m\u001b[1md\u001b[22m\u001b[0m\u001b[1me\u001b[22m\u001b[0m\u001b[1mg\u001b[22m\u001b[0m\u001b[1mr\u001b[22m\u001b[0m\u001b[1me\u001b[22m\u001b[0m\u001b[1me\u001b[22m\n",
      "\n"
     ]
    },
    {
     "data": {
      "text/latex": [
       "No documentation found.\n",
       "\n",
       "\\texttt{n\\_in\\_degree} is a \\texttt{Function}.\n",
       "\n",
       "\\begin{verbatim}\n",
       "# 1 method for generic function \"n_in_degree\":\n",
       "[1] n_in_degree(M::Array{Int64,2}, n::Int64) in Main at In[251]:19\n",
       "\\end{verbatim}\n"
      ],
      "text/markdown": [
       "No documentation found.\n",
       "\n",
       "`n_in_degree` is a `Function`.\n",
       "\n",
       "```\n",
       "# 1 method for generic function \"n_in_degree\":\n",
       "[1] n_in_degree(M::Array{Int64,2}, n::Int64) in Main at In[251]:19\n",
       "```\n"
      ],
      "text/plain": [
       "  No documentation found.\n",
       "\n",
       "  \u001b[36mn_in_degree\u001b[39m is a \u001b[36mFunction\u001b[39m.\n",
       "\n",
       "\u001b[36m  # 1 method for generic function \"n_in_degree\":\u001b[39m\n",
       "\u001b[36m  [1] n_in_degree(M::Array{Int64,2}, n::Int64) in Main at In[251]:19\u001b[39m"
      ]
     },
     "execution_count": 252,
     "metadata": {},
     "output_type": "execute_result"
    }
   ],
   "source": [
    "?n_in_degree"
   ]
  },
  {
   "cell_type": "code",
   "execution_count": 6,
   "metadata": {},
   "outputs": [
    {
     "data": {
      "text/plain": [
       "in_degree (generic function with 1 method)"
      ]
     },
     "execution_count": 6,
     "metadata": {},
     "output_type": "execute_result"
    }
   ],
   "source": [
    "\"\"\"\n",
    "in_degree(M)\n",
    "\n",
    "Función que obtiene el grado de entrada de una red representada por la matriz de adyacencia M.\n",
    "\n",
    "Parámetros:\n",
    "* M matriz de adyacencia que acepta un arreglo de tipo Array{Int64,2}\n",
    "\n",
    "Resultado:\n",
    "Devuelve un arreglo de tipo Array{Int64,2} que contiene los grados de entrada de todos los nodos n de la red.\n",
    "\n",
    "## Implementación\n",
    "\n",
    "### Ejemplos\n",
    "\"\"\"\n",
    "\n",
    "function in_degree(M::Array)\n",
    "    grados_entrada = sum(M, dims = 2)\n",
    "end"
   ]
  },
  {
   "cell_type": "code",
   "execution_count": 7,
   "metadata": {},
   "outputs": [
    {
     "data": {
      "text/plain": [
       "n_out_degree (generic function with 1 method)"
      ]
     },
     "execution_count": 7,
     "metadata": {},
     "output_type": "execute_result"
    }
   ],
   "source": [
    "\"\"\"\n",
    "n_out_degree(M, n)\n",
    "\n",
    "Función que obtiene el grado de salida de un cierto nodo n de la red representada por la matriz de adyacencia M.\n",
    "\n",
    "Parámetros:\n",
    "* M matriz de adyacencia que acepta un arreglo de tipo Array{Int64,2}\n",
    "* n nodo a evaluar de tipo Int64\n",
    "\n",
    "Resultado:\n",
    "Grado de salida del nodo n representado por un valor numérico de tipo Int64\n",
    "\n",
    "## Implementación\n",
    "\n",
    "### Ejemplos\n",
    "\"\"\"\n",
    "\n",
    "function n_out_degree(M::Array{Int64,2}, n::Int64)\n",
    "    grado_salida = sum(M[:, n])\n",
    "end"
   ]
  },
  {
   "cell_type": "code",
   "execution_count": 8,
   "metadata": {},
   "outputs": [
    {
     "data": {
      "text/plain": [
       "out_degree (generic function with 1 method)"
      ]
     },
     "execution_count": 8,
     "metadata": {},
     "output_type": "execute_result"
    }
   ],
   "source": [
    "\"\"\"\n",
    "out_degree(M)\n",
    "\n",
    "Función que obtiene el grado de salida de una red representada por la matriz de adyacencia M.\n",
    "\n",
    "Parámetros:\n",
    "* M matriz de adyacencia que acepta un arreglo de tipo Array{Int64,2}\n",
    "\n",
    "Resultado:\n",
    "Devuelve un arreglo de tipo Array{Int64,2} que contiene los grados de salida de todos los nodos n de la red.\n",
    "\n",
    "## Implementación\n",
    "\n",
    "### Ejemplos\n",
    "\"\"\"\n",
    "\n",
    "function out_degree(M::Array)\n",
    "    grados_salida = sum(M, dims = 1)\n",
    "end"
   ]
  },
  {
   "cell_type": "code",
   "execution_count": 9,
   "metadata": {},
   "outputs": [
    {
     "data": {
      "text/plain": [
       "r_walks (generic function with 1 method)"
      ]
     },
     "execution_count": 9,
     "metadata": {},
     "output_type": "execute_result"
    }
   ],
   "source": [
    "\"\"\"\n",
    "La función r_walks tiene como parámetros:\n",
    "M, matriz de adyacencia de tipo Array{Int64,2}\n",
    "f, nodo inicial de tipo Int64\n",
    "steps, número de pasos de tipo Int64\n",
    "iter, número de iteraciones de tipo Int64.\n",
    "La función crea un caminante aleatorio sobre la matriz, el cual tiene igual probabilidad de avanzar \n",
    "hacia cualquiera de sus vecinos.\n",
    "Regresa un arreglo que contiene todas las trayectorias que tomó el caminante aleatorio.\n",
    "\"\"\"\n",
    "\n",
    "function r_walks(M::Array{Int64,2}, f::Int64, steps::Int64, iter::Int64)\n",
    "    nodos = size(M, 1) #aeropuertos  \n",
    "    paths = zeros(Int64, (iter, steps + 1))\n",
    "    s = f\n",
    "\n",
    "    for i in 1:iter\n",
    "        paths[i, 1] = f\n",
    "        for p in 1:steps \n",
    "            row = M[s, :] #Renglón correspondiente al nodo s\n",
    "            vecinos = findall(x -> x != 0, row)\n",
    "            if vecinos == []\n",
    "                break\n",
    "            else\n",
    "                a = sample(vecinos)\n",
    "                paths[i, p + 1] = a\n",
    "            s = a\n",
    "            end\n",
    "        end\n",
    "        s = f\n",
    "    end\n",
    "    return paths \n",
    "end"
   ]
  },
  {
   "cell_type": "code",
   "execution_count": 10,
   "metadata": {},
   "outputs": [
    {
     "data": {
      "text/plain": [
       "random_walk (generic function with 1 method)"
      ]
     },
     "execution_count": 10,
     "metadata": {},
     "output_type": "execute_result"
    }
   ],
   "source": [
    "\"\"\"\n",
    "La función random_walk tiene como parámetros:\n",
    "M, matriz de adyacencia de tipo Array{Int64,2}\n",
    "steps, número de pasos de tipo Int64\n",
    "iter, número de iteraciones de tipo Int64.\n",
    "La función crea un caminante aleatorio sobre la matriz con igual probabilidad de avanzar \n",
    "hacia cualquiera de sus vecinos. Esta función recorre todos los nodos de la red como\n",
    "nodos iniciales y sobre ellos itera para obtener el número de caminos que se le pidió.\n",
    "Regresa un arreglo que contiene arreglos asociados a todas las trayectorias que tomó el \n",
    "caminante aleatorio para cada nodo inicial de la red.\n",
    "\"\"\"\n",
    "\n",
    "function random_walk(M::Array{Int64,2}, steps::Int64, iter::Int64) #Debo agregarle el nodo inicial al inicio del path\n",
    "    random_walks = []\n",
    "    nodos = size(M, 1)\n",
    "    for f in 1:nodos #aeropuertos\n",
    "        paths = r_walks(M, f, steps, iter)\n",
    "        push!(random_walks, paths)\n",
    "    end\n",
    "    random_walks\n",
    "end"
   ]
  },
  {
   "cell_type": "code",
   "execution_count": 11,
   "metadata": {},
   "outputs": [
    {
     "data": {
      "text/plain": [
       "walk_length (generic function with 1 method)"
      ]
     },
     "execution_count": 11,
     "metadata": {},
     "output_type": "execute_result"
    }
   ],
   "source": [
    "\"\"\"\n",
    "La función walk_length tiene como parámetros:\n",
    "RW, arreglo de arreglos de tipo Array{Any,1} que corresponde al arreglo de caminatas aleatorias.\n",
    "La función regresa un arreglo de arreglos que contiene las longitudes de todas las trayectorias que tomó el \n",
    "caminante aleatorio para cada nodo inicial de la red.\n",
    "\"\"\"\n",
    "\n",
    "function walk_length(W)\n",
    "    \n",
    "    longitudes = Array[]\n",
    "    c = 0\n",
    "    v = length(W) #tamaño de la matriz, número de nodos\n",
    "    s = size(W[1], 1) #lo puedo sacar, para todos es el mismo. Es el número de iteraciones\n",
    "    t = size(W[1], 2) #número de pasos\n",
    "    longz = zeros(Int64, s) #Arreglo de ceros de tamaño número de iteraciones\n",
    "    \n",
    "    for i in 1:v\n",
    "        #@show i\n",
    "        for j in 1:s\n",
    "            #@show j\n",
    "            for k in 1:t\n",
    "                #@show k\n",
    "                \n",
    "                if W[i][j, :][k] != 0 #W[i][j, :] #renglón a analizar\n",
    "                    c += 1 \n",
    "                else\n",
    "                    break\n",
    "                end\n",
    "                \n",
    "            end\n",
    "            longz[j] = c - 1\n",
    "            #@show longz[j]\n",
    "            c = 0\n",
    "            \n",
    "        end\n",
    "        push!(longitudes, longz)\n",
    "        #@show longitudes\n",
    "        longz = zeros(Int64, s) #Arreglo de ceros de tamaño número de iteraciones\n",
    "    end\n",
    "    return longitudes\n",
    "end"
   ]
  },
  {
   "cell_type": "code",
   "execution_count": 12,
   "metadata": {},
   "outputs": [
    {
     "data": {
      "text/plain": [
       "walk_av_length (generic function with 1 method)"
      ]
     },
     "execution_count": 12,
     "metadata": {},
     "output_type": "execute_result"
    }
   ],
   "source": [
    "\"\"\"\n",
    "La función walk_av_length tiene como parámetro W, que es un arreglo de arreglos (que se puede obtener de la \n",
    "función walk_length). \n",
    "Regresa un arreglo con entradas correspondientes al promedio de las longitudes de \n",
    "las caminatas aleatorias para cada nodo de inicio antes de caer en un nodo con grado de salida 0.\n",
    "\"\"\"\n",
    "\n",
    "function walk_av_length(W) #Llamar a función\n",
    "    \n",
    "    proms = []\n",
    "    wlength = walk_length(W)\n",
    "    \n",
    "    for i in 1:length(wlength)\n",
    "        av = mean(wlength[i])\n",
    "        push!(proms, av)\n",
    "    end\n",
    "    proms\n",
    "end"
   ]
  },
  {
   "cell_type": "code",
   "execution_count": 15,
   "metadata": {},
   "outputs": [
    {
     "data": {
      "text/plain": [
       "nodos_visitados (generic function with 1 method)"
      ]
     },
     "execution_count": 15,
     "metadata": {},
     "output_type": "execute_result"
    }
   ],
   "source": [
    "\"\"\"\n",
    "La función caminos tiene como parámetro W que es un arreglo de arreglos.\n",
    "Regresa los nodos diferentes a los que llega el caminante.\n",
    "\"\"\"\n",
    "\n",
    "function nodos_visitados(W)\n",
    "    \n",
    "    cobert = []\n",
    "    v = length(W) #tamaño de la matriz, número de nodos\n",
    "    s = size(W[1], 1) #lo puedo sacar, para todos es el mismo. Es el número de iteraciones\n",
    "    t = size(W[1], 2) #número de pasos\n",
    "    #visit = zeros(Int64, s) #Arreglo de ceros de tamaño número de iteraciones\n",
    "    visit = []\n",
    "    \n",
    "    for i in 1:v        \n",
    "        for j in 1:s\n",
    "            u = unique(W[i][j, :])\n",
    "            push!(visit, u)\n",
    "        end\n",
    "        push!(cobert, visit)\n",
    "        visit = []\n",
    "    end\n",
    "    return cobert\n",
    "end"
   ]
  },
  {
   "cell_type": "code",
   "execution_count": null,
   "metadata": {},
   "outputs": [],
   "source": [
    "function frecuencia_visitas_it(V::Array)\n",
    "    \n",
    "end"
   ]
  },
  {
   "cell_type": "code",
   "execution_count": 16,
   "metadata": {},
   "outputs": [
    {
     "data": {
      "text/plain": [
       "cobertura (generic function with 1 method)"
      ]
     },
     "execution_count": 16,
     "metadata": {},
     "output_type": "execute_result"
    }
   ],
   "source": [
    "\"\"\"\n",
    "La función cobertura tiene como parámetro W que es un arreglo de arreglos.\n",
    "Regresa el número de nodos diferentes a los que llega el caminante.\n",
    "\"\"\"\n",
    "\n",
    "function cobertura(W) \n",
    "    \n",
    "    cobert = []\n",
    "    \n",
    "    v = length(W) #tamaño de la matriz, número de nodos\n",
    "    x = nodos_visitados(W)\n",
    "    s = size(x[1], 1) #lo puedo sacar, para todos es el mismo. Es el número de iteraciones\n",
    "    longz = zeros(Int64, s) #Arreglo de ceros de tamaño número de iteraciones\n",
    "    \n",
    "    for i in 1:v        \n",
    "        for j in 1:s\n",
    "            l = length(x[i][j])\n",
    "            longz[j] = l\n",
    "        end\n",
    "        push!(cobert, longz)\n",
    "        longz = zeros(Int64, s)\n",
    "    end\n",
    "    return cobert\n",
    "end"
   ]
  },
  {
   "cell_type": "code",
   "execution_count": 73,
   "metadata": {},
   "outputs": [
    {
     "data": {
      "text/plain": [
       "n_cobertura_av (generic function with 1 method)"
      ]
     },
     "execution_count": 73,
     "metadata": {},
     "output_type": "execute_result"
    }
   ],
   "source": [
    "\"\"\"\n",
    "n_length_av con parámetro W (caminatas) da el promedio de la caminata por nodo inicial. \n",
    "\"\"\"\n",
    "\n",
    "function n_cobertura_av(W) #Esta es la importante\n",
    "    \n",
    "    longitud = []\n",
    "    x = cobertura(W)\n",
    "    \n",
    "    for i in 1:length(x)\n",
    "        l = mean(x[i])\n",
    "        push!(longitud, l)\n",
    "    end\n",
    "    longitud\n",
    "end"
   ]
  },
  {
   "cell_type": "code",
   "execution_count": 105,
   "metadata": {},
   "outputs": [
    {
     "data": {
      "text/plain": [
       "cobertura_av (generic function with 1 method)"
      ]
     },
     "execution_count": 105,
     "metadata": {},
     "output_type": "execute_result"
    }
   ],
   "source": [
    "\"\"\"\n",
    "length_av da el promedio de la longitud de las caminatas para todos los nodos.\n",
    "\"\"\"\n",
    "\n",
    "function cobertura_av(W)\n",
    "    x = n_cobertura_av(W)\n",
    "    promedio = mean(x)\n",
    "    return promedio\n",
    "\n",
    "end"
   ]
  },
  {
   "cell_type": "code",
   "execution_count": 19,
   "metadata": {},
   "outputs": [
    {
     "data": {
      "text/plain": [
       "max_length (generic function with 1 method)"
      ]
     },
     "execution_count": 19,
     "metadata": {},
     "output_type": "execute_result"
    }
   ],
   "source": [
    "\"\"\"\n",
    "Da la longitud máxima de cada iteración de cada nodo inicial.\n",
    "\"\"\"\n",
    "\n",
    "function max_length(W)\n",
    "    max = []\n",
    "    x = cobertura(W)\n",
    "    for i in 1:length(x)\n",
    "        m = maximum(x[i])\n",
    "        push!(max, m)\n",
    "    end\n",
    "    max\n",
    "end"
   ]
  },
  {
   "cell_type": "code",
   "execution_count": 20,
   "metadata": {},
   "outputs": [
    {
     "data": {
      "text/plain": [
       "Max_length (generic function with 1 method)"
      ]
     },
     "execution_count": 20,
     "metadata": {},
     "output_type": "execute_result"
    }
   ],
   "source": [
    "\"\"\"\n",
    "Da la longitud máxima total.\n",
    "\"\"\"\n",
    "\n",
    "function Max_length(W)\n",
    "    x = max_length(W)\n",
    "    m = maximum(x)\n",
    "    return m\n",
    "end"
   ]
  },
  {
   "cell_type": "code",
   "execution_count": 21,
   "metadata": {},
   "outputs": [
    {
     "data": {
      "text/plain": [
       "av_max_length (generic function with 1 method)"
      ]
     },
     "execution_count": 21,
     "metadata": {},
     "output_type": "execute_result"
    }
   ],
   "source": [
    "\"\"\"\n",
    "Regresa el promedio de la longitud máxima de cada nodo inicial.\n",
    "\"\"\"\n",
    "\n",
    "function av_max_length(W)\n",
    "    x = max_length(W)\n",
    "    prom = mean(x)\n",
    "    return prom\n",
    "end"
   ]
  },
  {
   "cell_type": "code",
   "execution_count": 22,
   "metadata": {},
   "outputs": [
    {
     "data": {
      "text/plain": [
       "min_length (generic function with 1 method)"
      ]
     },
     "execution_count": 22,
     "metadata": {},
     "output_type": "execute_result"
    }
   ],
   "source": [
    "\"\"\"\n",
    "Da la longitud mínima de cada iteración de cada nodo inicial.\n",
    "\"\"\"\n",
    "\n",
    "function min_length(W)\n",
    "    min = []\n",
    "    x = cobertura(W)\n",
    "    for i in 1:length(x)\n",
    "        m = minimum(x[i])\n",
    "        push!(min, m)\n",
    "    end\n",
    "    min\n",
    "end"
   ]
  },
  {
   "cell_type": "code",
   "execution_count": 23,
   "metadata": {},
   "outputs": [
    {
     "data": {
      "text/plain": [
       "Min_length (generic function with 1 method)"
      ]
     },
     "execution_count": 23,
     "metadata": {},
     "output_type": "execute_result"
    }
   ],
   "source": [
    "\"\"\"\n",
    "Da la longitud mínima total.\n",
    "\"\"\"\n",
    "\n",
    "function Min_length(W)\n",
    "    x = min_length(W)\n",
    "    m = minimum(x)\n",
    "    return m\n",
    "end"
   ]
  },
  {
   "cell_type": "code",
   "execution_count": 24,
   "metadata": {},
   "outputs": [
    {
     "data": {
      "text/plain": [
       "av_min_length (generic function with 1 method)"
      ]
     },
     "execution_count": 24,
     "metadata": {},
     "output_type": "execute_result"
    }
   ],
   "source": [
    "\"\"\"\n",
    "Regresa el promedio de la longitud mínima de cada nodo inicial.\n",
    "\"\"\"\n",
    "\n",
    "function av_min_length(W)\n",
    "    x = min_length(W)\n",
    "    prom = mean(x)\n",
    "    return prom\n",
    "end"
   ]
  },
  {
   "cell_type": "code",
   "execution_count": 26,
   "metadata": {},
   "outputs": [
    {
     "data": {
      "text/plain": [
       "atractor (generic function with 1 method)"
      ]
     },
     "execution_count": 26,
     "metadata": {},
     "output_type": "execute_result"
    }
   ],
   "source": [
    "\"\"\"\n",
    "Atractor regresa un arreglo de arreglos que contiene los nodos en los que cae cada caminata y ya no puede salir.\n",
    "\"\"\"\n",
    "\n",
    "function atractor(W) #Debo llamar a walks\n",
    "   atractores = []\n",
    "    v = length(W) #tamaño de la matriz, número de nodos\n",
    "    s = size(W[1], 1) #lo puedo sacar, para todos es el mismo. Es el número de iteraciones\n",
    "    t = size(W[1], 2) #número de pasos\n",
    "    atract = zeros(Int64, s) #Arreglo de ceros de tamaño número de iteraciones\n",
    "    \n",
    "    for i in 1:v        \n",
    "        for j in 1:s\n",
    "            a = W[i][j, :][t - 1]\n",
    "            atract[j] = a\n",
    "        end\n",
    "        push!(atractores, atract)\n",
    "        atract = zeros(Int64, s)\n",
    "    end\n",
    "    return atractores\n",
    "end"
   ]
  },
  {
   "cell_type": "markdown",
   "metadata": {},
   "source": [
    "## Datos"
   ]
  },
  {
   "cell_type": "code",
   "execution_count": 34,
   "metadata": {},
   "outputs": [
    {
     "data": {
      "text/plain": [
       "935×935 Array{Any,2}:\n",
       " \"\"      \"AOK\"   \"ARN\"   \"ATH\"   \"AUH\"  …   \"GLF\"   \"TMU\"   \"GET\"   \"PWM\"\n",
       " \"AOK\"  0       0       1       0          0       0       0       0     \n",
       " \"ARN\"  0       0       1       0          0       0       0       0     \n",
       " \"ATH\"  1       1       0       1          0       0       0       0     \n",
       " \"AUH\"  0       0       1       0          0       0       0       0     \n",
       " \"AXD\"  0       0       1       0       …  0       0       0       0     \n",
       " \"BCN\"  0       1       1       0          0       0       0       0     \n",
       " \"BEG\"  0       0       1       0          0       0       0       0     \n",
       " \"BOD\"  0       0       0       0          0       0       0       0     \n",
       " \"BRU\"  0       1       1       0          0       0       0       0     \n",
       " \"BUD\"  0       0       1       0       …  0       0       0       0     \n",
       " \"CAI\"  0       0       1       1          0       0       0       0     \n",
       " \"CDG\"  0       1       1       0          0       0       0       0     \n",
       " ⋮                                      ⋱                                \n",
       " \"STL\"  0       0       0       0          0       0       0       0     \n",
       " \"STT\"  0       0       0       0          0       0       0       0     \n",
       " \"SYR\"  0       0       0       0       …  0       0       0       0     \n",
       " \"TKK\"  0       0       0       0          0       0       0       0     \n",
       " \"YAP\"  0       0       0       0          0       0       0       0     \n",
       " \"HSN\"  0       0       0       0          0       0       0       0     \n",
       " \"JUZ\"  0       0       0       0          0       0       0       0     \n",
       " \"YIC\"  0       0       0       0       …  0       0       0       0     \n",
       " \"GLF\"  0       0       0       0          0       0       0       0     \n",
       " \"TMU\"  0       0       0       0          0       0       0       0     \n",
       " \"GET\"  0       0       0       0          0       0       0       0     \n",
       " \"PWM\"  0       0       0       0          0       0       0       0     "
      ]
     },
     "execution_count": 34,
     "metadata": {},
     "output_type": "execute_result"
    }
   ],
   "source": [
    "mSA = readdlm(\"data/multi_SA_du.csv\", ',');"
   ]
  },
  {
   "cell_type": "code",
   "execution_count": 38,
   "metadata": {},
   "outputs": [
    {
     "data": {
      "text/plain": [
       "934-element Array{Any,1}:\n",
       " \"AOK\"\n",
       " \"ARN\"\n",
       " \"ATH\"\n",
       " \"AUH\"\n",
       " \"AXD\"\n",
       " \"BCN\"\n",
       " \"BEG\"\n",
       " \"BOD\"\n",
       " \"BRU\"\n",
       " \"BUD\"\n",
       " \"CAI\"\n",
       " \"CDG\"\n",
       " \"CFU\"\n",
       " ⋮    \n",
       " \"STL\"\n",
       " \"STT\"\n",
       " \"SYR\"\n",
       " \"TKK\"\n",
       " \"YAP\"\n",
       " \"HSN\"\n",
       " \"JUZ\"\n",
       " \"YIC\"\n",
       " \"GLF\"\n",
       " \"TMU\"\n",
       " \"GET\"\n",
       " \"PWM\""
      ]
     },
     "execution_count": 38,
     "metadata": {},
     "output_type": "execute_result"
    }
   ],
   "source": [
    "nom_SA = mSA[1, :];\n",
    "nombres_SA = nom_SA[2:end]"
   ]
  },
  {
   "cell_type": "code",
   "execution_count": 28,
   "metadata": {},
   "outputs": [],
   "source": [
    "multiSA = mSA[2:end, :];\n",
    "multiSA = multiSA[:, 2:end];"
   ]
  },
  {
   "cell_type": "code",
   "execution_count": 29,
   "metadata": {},
   "outputs": [
    {
     "data": {
      "text/plain": [
       "934×934 Array{Int64,2}:\n",
       " 0  0  1  0  0  0  0  0  0  0  0  0  0  …  0  0  0  0  0  0  0  0  0  0  0  0\n",
       " 0  0  1  0  0  1  0  0  1  0  0  1  0     0  0  0  0  0  0  0  0  0  0  0  0\n",
       " 1  1  0  1  1  1  1  0  1  1  1  1  1     0  0  0  0  0  0  0  0  0  0  0  0\n",
       " 0  0  1  0  0  0  0  0  0  0  1  0  0     0  0  0  0  0  0  0  0  0  0  0  0\n",
       " 0  0  1  0  0  0  0  0  0  0  0  0  0     0  0  0  0  0  0  0  0  0  0  0  0\n",
       " 0  1  1  0  0  0  0  0  1  0  1  0  0  …  0  0  0  0  0  0  0  0  0  0  0  0\n",
       " 0  0  1  0  0  0  0  0  0  0  0  0  0     0  0  0  0  0  0  0  0  0  0  0  0\n",
       " 0  0  0  0  0  0  0  0  0  0  0  0  0     0  0  0  0  0  0  0  0  0  0  0  0\n",
       " 0  1  1  0  0  1  0  0  0  1  1  1  0     0  0  0  0  0  0  0  0  0  0  0  0\n",
       " 0  0  1  0  0  0  0  0  1  0  1  0  0     0  0  0  0  0  0  0  0  0  0  0  0\n",
       " 0  0  1  1  0  1  0  0  1  1  0  1  0  …  0  0  0  0  0  0  0  0  0  0  0  0\n",
       " 0  1  1  0  0  0  0  0  1  0  1  0  0     0  0  0  0  0  0  0  0  0  0  0  0\n",
       " 0  0  1  0  0  0  0  0  0  0  0  0  0     0  0  0  0  0  0  0  0  0  0  0  0\n",
       " ⋮              ⋮              ⋮        ⋱           ⋮              ⋮         \n",
       " 0  0  0  0  0  0  0  0  0  0  0  0  0     0  0  0  0  0  0  0  0  0  0  0  0\n",
       " 0  0  0  0  0  0  0  0  0  0  0  0  0     0  0  0  0  0  0  0  0  0  0  0  0\n",
       " 0  0  0  0  0  0  0  0  0  0  0  0  0     0  0  0  0  0  0  0  0  0  0  0  0\n",
       " 0  0  0  0  0  0  0  0  0  0  0  0  0  …  0  0  0  0  0  0  0  0  0  0  0  0\n",
       " 0  0  0  0  0  0  0  0  0  0  0  0  0     0  0  0  0  0  0  0  0  0  0  0  0\n",
       " 0  0  0  0  0  0  0  0  0  0  0  0  0     0  0  0  0  0  0  0  0  0  0  0  0\n",
       " 0  0  0  0  0  0  0  0  0  0  0  0  0     0  0  0  0  0  0  0  0  0  0  0  0\n",
       " 0  0  0  0  0  0  0  0  0  0  0  0  0     0  0  0  0  0  0  0  0  0  0  0  0\n",
       " 0  0  0  0  0  0  0  0  0  0  0  0  0  …  0  0  0  0  0  0  0  0  0  0  0  0\n",
       " 0  0  0  0  0  0  0  0  0  0  0  0  0     0  0  0  0  0  0  0  0  0  0  0  0\n",
       " 0  0  0  0  0  0  0  0  0  0  0  0  0     0  0  0  0  0  0  0  0  0  0  0  0\n",
       " 0  0  0  0  0  0  0  0  0  0  0  0  0     0  0  0  0  0  0  0  0  0  0  0  0"
      ]
     },
     "execution_count": 29,
     "metadata": {},
     "output_type": "execute_result"
    }
   ],
   "source": [
    "multiplexSA = convert(Array{Int64,2}, multiSA)"
   ]
  },
  {
   "cell_type": "code",
   "execution_count": 30,
   "metadata": {},
   "outputs": [],
   "source": [
    "mOW = readdlm(\"data/multi_OW_du.csv\", ',');"
   ]
  },
  {
   "cell_type": "code",
   "execution_count": 39,
   "metadata": {},
   "outputs": [
    {
     "data": {
      "text/plain": [
       "698-element Array{Any,1}:\n",
       " \"EZE\"\n",
       " \"MIA\"\n",
       " \"PUJ\"\n",
       " \"ABE\"\n",
       " \"ABQ\"\n",
       " \"AGS\"\n",
       " \"ALB\"\n",
       " \"AMS\"\n",
       " \"ANC\"\n",
       " \"ANU\"\n",
       " \"ASU\"\n",
       " \"ATH\"\n",
       " \"ATL\"\n",
       " ⋮    \n",
       " \"CRW\"\n",
       " \"LEX\"\n",
       " \"MOB\"\n",
       " \"PWM\"\n",
       " \"TYS\"\n",
       " \"VPS\"\n",
       " \"KEM\"\n",
       " \"AAL\"\n",
       " \"SLA\"\n",
       " \"TUC\"\n",
       " \"IQT\"\n",
       " \"NJC\""
      ]
     },
     "execution_count": 39,
     "metadata": {},
     "output_type": "execute_result"
    }
   ],
   "source": [
    "nom_OW = mOW[1, :];\n",
    "nombres_OW = nom_OW[2:end]"
   ]
  },
  {
   "cell_type": "code",
   "execution_count": 31,
   "metadata": {},
   "outputs": [],
   "source": [
    "multiOW = mOW[2:end, :];\n",
    "multiOW = multiOW[:, 2:end];"
   ]
  },
  {
   "cell_type": "code",
   "execution_count": 32,
   "metadata": {},
   "outputs": [
    {
     "data": {
      "text/plain": [
       "698×698 Array{Int64,2}:\n",
       " 0  1  1  0  0  0  0  0  0  0  1  0  0  …  0  0  0  0  0  0  0  0  0  0  0  0\n",
       " 1  0  1  0  0  0  0  0  0  1  1  0  1     0  0  0  0  0  0  0  0  0  0  0  0\n",
       " 1  1  0  0  0  0  0  0  0  1  0  0  0     0  0  0  0  0  0  0  0  0  0  0  0\n",
       " 0  0  0  0  0  0  0  0  0  0  0  0  0     0  0  0  0  0  0  0  0  0  0  0  0\n",
       " 0  0  0  0  0  0  0  0  0  0  0  0  0     0  0  0  0  0  0  0  0  0  0  0  0\n",
       " 0  0  0  0  0  0  0  0  0  0  0  0  0  …  0  0  0  0  0  0  0  0  0  0  0  0\n",
       " 0  0  0  0  0  0  0  0  0  0  0  0  0     0  0  0  0  0  0  0  0  0  0  0  0\n",
       " 0  0  0  0  0  0  0  0  0  0  0  0  0     0  0  0  0  0  0  0  0  0  0  0  0\n",
       " 0  0  0  0  0  0  0  0  0  0  0  0  0     0  0  0  0  0  0  0  0  0  0  0  0\n",
       " 0  1  1  0  0  0  0  0  0  0  0  0  0     0  0  0  0  0  0  0  0  0  0  0  0\n",
       " 1  1  0  0  0  0  0  0  0  0  0  0  0  …  0  0  0  0  0  0  0  0  0  0  0  0\n",
       " 0  0  0  0  0  0  0  0  0  0  0  0  0     0  0  0  0  0  0  0  0  0  0  0  0\n",
       " 0  1  0  0  0  0  0  0  0  0  0  0  0     0  0  0  0  0  0  0  0  0  0  0  0\n",
       " ⋮              ⋮              ⋮        ⋱              ⋮              ⋮      \n",
       " 0  0  0  0  0  0  0  0  0  0  0  0  0     0  0  0  0  0  0  0  0  0  0  0  0\n",
       " 0  0  0  0  0  0  0  0  0  0  0  0  0     0  0  0  0  0  0  0  0  0  0  0  0\n",
       " 0  0  0  0  0  0  0  0  0  0  0  0  0     0  0  0  0  0  0  0  0  0  0  0  0\n",
       " 0  0  0  0  0  0  0  0  0  0  0  0  0     0  0  0  0  0  0  0  0  0  0  0  0\n",
       " 0  0  0  0  0  0  0  0  0  0  0  0  0  …  0  0  0  0  0  0  0  0  0  0  0  0\n",
       " 0  0  0  0  0  0  0  0  0  0  0  0  0     0  0  0  0  0  0  0  0  0  0  0  0\n",
       " 0  0  0  0  0  0  0  0  0  0  0  0  0     0  0  0  0  0  0  0  0  0  0  0  0\n",
       " 0  0  0  0  0  0  0  0  0  0  0  0  0     0  0  0  0  0  0  0  0  0  0  0  0\n",
       " 0  0  0  0  0  0  0  0  0  0  0  0  0     0  0  0  0  0  0  0  0  0  0  0  0\n",
       " 0  0  0  0  0  0  0  0  0  0  0  0  0  …  0  0  0  0  0  0  0  0  0  0  0  0\n",
       " 0  0  0  0  0  0  0  0  0  0  0  0  0     0  0  0  0  0  0  0  0  0  0  0  0\n",
       " 0  0  0  0  0  0  0  0  0  0  0  0  0     0  0  0  0  0  0  0  0  0  0  0  0"
      ]
     },
     "execution_count": 32,
     "metadata": {},
     "output_type": "execute_result"
    }
   ],
   "source": [
    "multiplexOW = convert(Array{Int64,2}, multiOW)"
   ]
  },
  {
   "cell_type": "code",
   "execution_count": 40,
   "metadata": {},
   "outputs": [],
   "source": [
    "mST = readdlm(\"data/multi_ST_du.csv\", ',');"
   ]
  },
  {
   "cell_type": "code",
   "execution_count": 41,
   "metadata": {},
   "outputs": [
    {
     "data": {
      "text/plain": [
       "900-element Array{Any,1}:\n",
       " \"AGF\"\n",
       " \"AJA\"\n",
       " \"AMS\"\n",
       " \"AUR\"\n",
       " \"BES\"\n",
       " \"BIA\"\n",
       " \"BIQ\"\n",
       " \"BLQ\"\n",
       " \"BOD\"\n",
       " \"BRU\"\n",
       " \"BVE\"\n",
       " \"CFE\"\n",
       " \"CFR\"\n",
       " ⋮    \n",
       " \"VCL\"\n",
       " \"VDH\"\n",
       " \"VII\"\n",
       " \"VKG\"\n",
       " \"ANR\"\n",
       " \"CWL\"\n",
       " \"DOL\"\n",
       " \"JER\"\n",
       " \"AOI\"\n",
       " \"PSA\"\n",
       " \"PWM\"\n",
       " \"ESB\""
      ]
     },
     "execution_count": 41,
     "metadata": {},
     "output_type": "execute_result"
    }
   ],
   "source": [
    "nom_ST = mST[1, :];\n",
    "nombres_ST = nom_ST[2:end]"
   ]
  },
  {
   "cell_type": "code",
   "execution_count": 157,
   "metadata": {},
   "outputs": [
    {
     "name": "stdout",
     "output_type": "stream",
     "text": [
      "search: \u001b[0m\u001b[1mc\u001b[22m\u001b[0m\u001b[1mo\u001b[22m\u001b[0m\u001b[1mu\u001b[22m\u001b[0m\u001b[1mn\u001b[22m\u001b[0m\u001b[1mt\u001b[22m\u001b[0m\u001b[1ms\u001b[22m add\u001b[0m\u001b[1mc\u001b[22m\u001b[0m\u001b[1mo\u001b[22m\u001b[0m\u001b[1mu\u001b[22m\u001b[0m\u001b[1mn\u001b[22m\u001b[0m\u001b[1mt\u001b[22m\u001b[0m\u001b[1ms\u001b[22m! \u001b[0m\u001b[1mc\u001b[22m\u001b[0m\u001b[1mo\u001b[22mde\u001b[0m\u001b[1mu\u001b[22m\u001b[0m\u001b[1mn\u001b[22mi\u001b[0m\u001b[1mt\u001b[22m\u001b[0m\u001b[1ms\u001b[22m \u001b[0m\u001b[1mc\u001b[22m\u001b[0m\u001b[1mo\u001b[22m\u001b[0m\u001b[1mu\u001b[22m\u001b[0m\u001b[1mn\u001b[22m\u001b[0m\u001b[1mt\u001b[22mline\u001b[0m\u001b[1ms\u001b[22m \u001b[0m\u001b[1mc\u001b[22m\u001b[0m\u001b[1mo\u001b[22m\u001b[0m\u001b[1mu\u001b[22m\u001b[0m\u001b[1mn\u001b[22m\u001b[0m\u001b[1mt\u001b[22m_one\u001b[0m\u001b[1ms\u001b[22m n\u001b[0m\u001b[1mc\u001b[22m\u001b[0m\u001b[1mo\u001b[22mde\u001b[0m\u001b[1mu\u001b[22m\u001b[0m\u001b[1mn\u001b[22mi\u001b[0m\u001b[1mt\u001b[22m\u001b[0m\u001b[1ms\u001b[22m \u001b[0m\u001b[1mc\u001b[22m\u001b[0m\u001b[1mo\u001b[22m\u001b[0m\u001b[1mu\u001b[22m\u001b[0m\u001b[1mn\u001b[22m\u001b[0m\u001b[1mt\u001b[22m_zero\u001b[0m\u001b[1ms\u001b[22m\n",
      "\n"
     ]
    },
    {
     "data": {
      "text/latex": [
       "\\begin{verbatim}\n",
       "counts(x, [wv::AbstractWeights])\n",
       "counts(x, levels::UnitRange{<:Integer}, [wv::AbstractWeights])\n",
       "counts(x, k::Integer, [wv::AbstractWeights])\n",
       "\\end{verbatim}\n",
       "Count the number of times each value in \\texttt{x} occurs. If \\texttt{levels} is provided, only values falling in that range will be considered (the others will be ignored without raising an error or a warning). If an integer \\texttt{k} is provided, only values in the range \\texttt{1:k} will be considered.\n",
       "\n",
       "If a weighting vector \\texttt{wv} is specified, the sum of the weights is used rather than the raw counts.\n",
       "\n",
       "The output is a vector of length \\texttt{length(levels)}.\n",
       "\n"
      ],
      "text/markdown": [
       "```\n",
       "counts(x, [wv::AbstractWeights])\n",
       "counts(x, levels::UnitRange{<:Integer}, [wv::AbstractWeights])\n",
       "counts(x, k::Integer, [wv::AbstractWeights])\n",
       "```\n",
       "\n",
       "Count the number of times each value in `x` occurs. If `levels` is provided, only values falling in that range will be considered (the others will be ignored without raising an error or a warning). If an integer `k` is provided, only values in the range `1:k` will be considered.\n",
       "\n",
       "If a weighting vector `wv` is specified, the sum of the weights is used rather than the raw counts.\n",
       "\n",
       "The output is a vector of length `length(levels)`.\n"
      ],
      "text/plain": [
       "\u001b[36m  counts(x, [wv::AbstractWeights])\u001b[39m\n",
       "\u001b[36m  counts(x, levels::UnitRange{<:Integer}, [wv::AbstractWeights])\u001b[39m\n",
       "\u001b[36m  counts(x, k::Integer, [wv::AbstractWeights])\u001b[39m\n",
       "\n",
       "  Count the number of times each value in \u001b[36mx\u001b[39m occurs. If \u001b[36mlevels\u001b[39m is provided,\n",
       "  only values falling in that range will be considered (the others will be\n",
       "  ignored without raising an error or a warning). If an integer \u001b[36mk\u001b[39m is provided,\n",
       "  only values in the range \u001b[36m1:k\u001b[39m will be considered.\n",
       "\n",
       "  If a weighting vector \u001b[36mwv\u001b[39m is specified, the sum of the weights is used rather\n",
       "  than the raw counts.\n",
       "\n",
       "  The output is a vector of length \u001b[36mlength(levels)\u001b[39m."
      ]
     },
     "execution_count": 157,
     "metadata": {},
     "output_type": "execute_result"
    }
   ],
   "source": [
    "?counts"
   ]
  },
  {
   "cell_type": "code",
   "execution_count": 277,
   "metadata": {},
   "outputs": [
    {
     "data": {
      "text/plain": [
       "900-element Array{Any,1}:\n",
       " [1 35 … 95 101; 1 15 … 657 511]       \n",
       " [2 136 … 3 618; 2 31 … 549 831]       \n",
       " [3 121 … 188 811; 3 137 … 73 382]     \n",
       " [4 35 … 52 346; 4 35 … 73 239]        \n",
       " [5 133 … 201 65; 5 133 … 219 103]     \n",
       " [6 136 … 171 557; 6 31 … 579 283]     \n",
       " [7 35 … 171 662; 7 33 … 58 46]        \n",
       " [8 18 … 326 65; 8 95 … 388 73]        \n",
       " [9 34 … 18 897; 9 28 … 421 394]       \n",
       " [10 38 … 321 156; 10 18 … 599 643]    \n",
       " [11 133 … 261 254; 11 2 … 95 171]     \n",
       " [12 95 … 123 476; 12 28 … 123 375]    \n",
       " [13 33 … 787 188; 13 33 … 0 0]        \n",
       " ⋮                                     \n",
       " [889 48 … 30 95; 889 48 … 184 161]    \n",
       " [890 61 … 61 60; 890 48 … 47 511]     \n",
       " [891 718 … 497 49; 891 588 … 813 134] \n",
       " [892 61 … 90 95; 892 61 … 289 194]    \n",
       " [893 133 … 814 188; 893 133 … 739 188]\n",
       " [894 35 … 0 0; 894 896 … 549 853]     \n",
       " [895 133 … 330 585; 895 133 … 61 188] \n",
       " [896 894 … 283 567; 896 894 … 61 50]  \n",
       " [897 0 … 0 0; 897 0 … 0 0]            \n",
       " [898 0 … 0 0; 898 0 … 0 0]            \n",
       " [899 0 … 0 0; 899 0 … 0 0]            \n",
       " [900 0 … 0 0; 900 0 … 0 0]            "
      ]
     },
     "execution_count": 277,
     "metadata": {},
     "output_type": "execute_result"
    }
   ],
   "source": [
    "c = random_walk(multiplexST, 100, 2)"
   ]
  },
  {
   "cell_type": "code",
   "execution_count": 286,
   "metadata": {},
   "outputs": [
    {
     "data": {
      "text/plain": [
       "Dict{Any,Int64} with 67 entries:\n",
       "  \"MXZ\" => 1\n",
       "  \"NBO\" => 2\n",
       "  \"CDG\" => 4\n",
       "  \"AGF\" => 1\n",
       "  \"DEN\" => 1\n",
       "  \"CAN\" => 1\n",
       "  \"MAD\" => 1\n",
       "  \"FLL\" => 1\n",
       "  \"VCE\" => 1\n",
       "  \"TPE\" => 1\n",
       "  \"SGN\" => 2\n",
       "  \"TLS\" => 1\n",
       "  \"HAN\" => 1\n",
       "  \"TNR\" => 1\n",
       "  \"GPT\" => 1\n",
       "  \"LGA\" => 1\n",
       "  \"HNL\" => 1\n",
       "  \"RMQ\" => 3\n",
       "  \"DTW\" => 3\n",
       "  \"MOB\" => 1\n",
       "  \"VDH\" => 1\n",
       "  \"FUK\" => 1\n",
       "  \"JFK\" => 3\n",
       "  \"BWI\" => 1\n",
       "  \"DUB\" => 1\n",
       "  ⋮     => ⋮"
      ]
     },
     "execution_count": 286,
     "metadata": {},
     "output_type": "execute_result"
    }
   ],
   "source": [
    "\n",
    "#\n",
    "j = sort(c[1][1,:])\n",
    "x = nombres_ST[j]\n",
    "h = countmap(x)\n",
    "#histogram(h)\n",
    "#hh=sort(h)"
   ]
  },
  {
   "cell_type": "code",
   "execution_count": 271,
   "metadata": {},
   "outputs": [
    {
     "data": {
      "text/plain": [
       "1×1 Array{OrderedCollections.OrderedDict{Any,Int64},2}:\n",
       " OrderedCollections.OrderedDict(\"AGF\"=>1,\"AGP\"=>1,\"AMS\"=>1,\"ATL\"=>4,\"AUH\"=>2,\"BAH\"=>1,\"BDJ\"=>1,\"BES\"=>1,\"BHY\"=>1,\"BIA\"=>2…)"
      ]
     },
     "execution_count": 271,
     "metadata": {},
     "output_type": "execute_result"
    }
   ],
   "source": [
    "oh=hcat(hh)"
   ]
  },
  {
   "cell_type": "code",
   "execution_count": 273,
   "metadata": {},
   "outputs": [
    {
     "ename": "MethodError",
     "evalue": "MethodError: no method matching AbstractFloat(::Type{OrderedCollections.OrderedDict{Any,Int64}})\nClosest candidates are:\n  AbstractFloat(!Matched::Bool) at float.jl:252\n  AbstractFloat(!Matched::Int8) at float.jl:253\n  AbstractFloat(!Matched::Int16) at float.jl:254\n  ...",
     "output_type": "error",
     "traceback": [
      "MethodError: no method matching AbstractFloat(::Type{OrderedCollections.OrderedDict{Any,Int64}})\nClosest candidates are:\n  AbstractFloat(!Matched::Bool) at float.jl:252\n  AbstractFloat(!Matched::Int8) at float.jl:253\n  AbstractFloat(!Matched::Int16) at float.jl:254\n  ...",
      "",
      "Stacktrace:",
      " [1] float(::Type) at ./float.jl:271",
      " [2] _preprocess_barlike(::Dict{Symbol,Any}, ::UnitRange{Int64}, ::Array{OrderedCollections.OrderedDict{Any,Int64},1}) at /Users/yuriko/.julia/packages/Plots/47Tik/src/recipes.jl:459",
      " [3] macro expansion at /Users/yuriko/.julia/packages/Plots/47Tik/src/recipes.jl:327 [inlined]",
      " [4] apply_recipe(::Dict{Symbol,Any}, ::Type{Val{:bar}}, ::UnitRange{Int64}, ::Array{OrderedCollections.OrderedDict{Any,Int64},1}, ::Nothing) at /Users/yuriko/.julia/packages/RecipesBase/Uz5AO/src/RecipesBase.jl:275",
      " [5] _process_seriesrecipe(::Plots.Plot{Plots.PyPlotBackend}, ::Dict{Symbol,Any}) at /Users/yuriko/.julia/packages/Plots/47Tik/src/pipeline.jl:408",
      " [6] _plot!(::Plots.Plot{Plots.PyPlotBackend}, ::Dict{Symbol,Any}, ::Tuple{Array{OrderedCollections.OrderedDict{Any,Int64},2}}) at /Users/yuriko/.julia/packages/Plots/47Tik/src/plot.jl:234",
      " [7] #plot#136(::Base.Iterators.Pairs{Symbol,Symbol,Tuple{Symbol},NamedTuple{(:seriestype,),Tuple{Symbol}}}, ::Function, ::Array{OrderedCollections.OrderedDict{Any,Int64},2}) at /Users/yuriko/.julia/packages/Plots/47Tik/src/plot.jl:57",
      " [8] #plot at ./none:0 [inlined]",
      " [9] #bar#364 at /Users/yuriko/.julia/packages/RecipesBase/Uz5AO/src/RecipesBase.jl:368 [inlined]",
      " [10] bar(::Array{OrderedCollections.OrderedDict{Any,Int64},2}) at /Users/yuriko/.julia/packages/RecipesBase/Uz5AO/src/RecipesBase.jl:368",
      " [11] top-level scope at In[273]:1"
     ]
    }
   ],
   "source": [
    "bar(oh)"
   ]
  },
  {
   "cell_type": "code",
   "execution_count": 261,
   "metadata": {},
   "outputs": [
    {
     "data": {
      "text/plain": [
       "73-element Named Array{Int64,1}\n",
       "Dim1  │ \n",
       "──────┼──\n",
       "1     │ 1\n",
       "3     │ 1\n",
       "35    │ 1\n",
       "47    │ 1\n",
       "50    │ 2\n",
       "52    │ 2\n",
       "60    │ 1\n",
       "62    │ 1\n",
       "63    │ 1\n",
       "65    │ 1\n",
       "73    │ 1\n",
       "95    │ 2\n",
       "⋮       ⋮\n",
       "564   │ 1\n",
       "565   │ 1\n",
       "585   │ 1\n",
       "586   │ 1\n",
       "596   │ 1\n",
       "606   │ 1\n",
       "659   │ 1\n",
       "704   │ 2\n",
       "721   │ 2\n",
       "759   │ 1\n",
       "782   │ 1\n",
       "850   │ 1"
      ]
     },
     "execution_count": 261,
     "metadata": {},
     "output_type": "execute_result"
    }
   ],
   "source": [
    "f=freqtable(j)"
   ]
  },
  {
   "cell_type": "code",
   "execution_count": 212,
   "metadata": {},
   "outputs": [
    {
     "data": {
      "text/plain": [
       "73-element Named Array{Int64,1}\n",
       "Dim1  │ \n",
       "──────┼──\n",
       "\"ACA\" │ 1\n",
       "\"AER\" │ 1\n",
       "\"AGF\" │ 1\n",
       "\"AMS\" │ 1\n",
       "\"ATL\" │ 1\n",
       "\"CDG\" │ 2\n",
       "\"CGK\" │ 3\n",
       "\"CJU\" │ 1\n",
       "\"CKG\" │ 2\n",
       "\"CMB\" │ 1\n",
       "\"CME\" │ 1\n",
       "\"CMH\" │ 1\n",
       "⋮       ⋮\n",
       "\"SVO\" │ 1\n",
       "\"SYD\" │ 1\n",
       "\"SYX\" │ 1\n",
       "\"SZX\" │ 1\n",
       "\"TAO\" │ 2\n",
       "\"TPE\" │ 1\n",
       "\"TSA\" │ 1\n",
       "\"TSN\" │ 2\n",
       "\"ULN\" │ 1\n",
       "\"WUX\" │ 2\n",
       "\"XMN\" │ 1\n",
       "\"YIH\" │ 1"
      ]
     },
     "execution_count": 212,
     "metadata": {},
     "output_type": "execute_result"
    }
   ],
   "source": [
    "l = freqtable(x)"
   ]
  },
  {
   "cell_type": "code",
   "execution_count": 220,
   "metadata": {},
   "outputs": [
    {
     "data": {
      "text/plain": [
       "1-element Array{Array{Any,1},1}:\n",
       " [\"ACA\", \"AER\", \"AGF\", \"AMS\", \"ATL\", \"CDG\", \"CGK\", \"CJU\", \"CKG\", \"CMB\"  …  \"SYX\", \"SZX\", \"TAO\", \"TPE\", \"TSA\", \"TSN\", \"ULN\", \"WUX\", \"XMN\", \"YIH\"]"
      ]
     },
     "execution_count": 220,
     "metadata": {},
     "output_type": "execute_result"
    }
   ],
   "source": [
    "n =names(l)"
   ]
  },
  {
   "cell_type": "code",
   "execution_count": 224,
   "metadata": {},
   "outputs": [
    {
     "data": {
      "text/plain": [
       "NamedArrays.NamedArray{Int64,1,Array{Int64,1},Tuple{OrderedCollections.OrderedDict{Any,Int64}}}"
      ]
     },
     "execution_count": 224,
     "metadata": {},
     "output_type": "execute_result"
    }
   ],
   "source": [
    "typeof(l)"
   ]
  },
  {
   "cell_type": "code",
   "execution_count": 262,
   "metadata": {},
   "outputs": [
    {
     "data": {
      "image/png": "[encoded data removed]"
     },
     "execution_count": 262,
     "metadata": {},
     "output_type": "execute_result"
    }
   ],
   "source": [
    "#bar(l)\n",
    "bar(f,\n",
    "    color=\"#0f87bf\",\n",
    "    title=\"Título\",\n",
    "    xlabel=\"Aeropuertos\",\n",
    "    ylabel = \"Frecuencia de visitas\", \n",
    "    #xticks = names(l),\n",
    "    alpha=0.4)"
   ]
  },
  {
   "cell_type": "code",
   "execution_count": null,
   "metadata": {},
   "outputs": [],
   "source": [
    "prueba="
   ]
  },
  {
   "cell_type": "code",
   "execution_count": 196,
   "metadata": {},
   "outputs": [
    {
     "data": {
      "text/plain": [
       "Dict{Any,Int64} with 73 entries:\n",
       "  \"LYA\" => 2\n",
       "  \"PVG\" => 3\n",
       "  \"PKY\" => 1\n",
       "  \"HND\" => 1\n",
       "  \"SYD\" => 1\n",
       "  \"CDG\" => 2\n",
       "  \"PBI\" => 1\n",
       "  \"SVO\" => 1\n",
       "  \"JJN\" => 1\n",
       "  \"TSN\" => 2\n",
       "  \"AGF\" => 1\n",
       "  \"IST\" => 1\n",
       "  \"IAD\" => 1\n",
       "  \"TPE\" => 1\n",
       "  \"PAZ\" => 1\n",
       "  \"PXM\" => 1\n",
       "  \"ICN\" => 2\n",
       "  \"LGA\" => 2\n",
       "  \"CMH\" => 1\n",
       "  \"PEK\" => 2\n",
       "  \"HKT\" => 1\n",
       "  \"DTW\" => 2\n",
       "  \"RMQ\" => 1\n",
       "  \"KMG\" => 1\n",
       "  \"MDG\" => 1\n",
       "  ⋮     => ⋮"
      ]
     },
     "execution_count": 196,
     "metadata": {},
     "output_type": "execute_result"
    }
   ],
   "source": [
    "k = countmap(x)\n"
   ]
  },
  {
   "cell_type": "code",
   "execution_count": 267,
   "metadata": {},
   "outputs": [
    {
     "data": {
      "text/plain": [
       "\"NA\""
      ]
     },
     "execution_count": 267,
     "metadata": {},
     "output_type": "execute_result"
    }
   ],
   "source": [
    "get(k, 145, \"NA\")"
   ]
  },
  {
   "cell_type": "code",
   "execution_count": 203,
   "metadata": {},
   "outputs": [
    {
     "ename": "UndefVarError",
     "evalue": "UndefVarError: freqtable not defined",
     "output_type": "error",
     "traceback": [
      "UndefVarError: freqtable not defined",
      "",
      "Stacktrace:",
      " [1] top-level scope at In[203]:1"
     ]
    }
   ],
   "source": [
    "freqtable(k)"
   ]
  },
  {
   "cell_type": "code",
   "execution_count": 195,
   "metadata": {},
   "outputs": [
    {
     "data": {
      "text/plain": [
       "850-element Array{Int64,1}:\n",
       " 1\n",
       " 0\n",
       " 1\n",
       " 0\n",
       " 0\n",
       " 0\n",
       " 0\n",
       " 0\n",
       " 0\n",
       " 0\n",
       " 0\n",
       " 0\n",
       " 0\n",
       " ⋮\n",
       " 0\n",
       " 0\n",
       " 0\n",
       " 0\n",
       " 0\n",
       " 0\n",
       " 0\n",
       " 0\n",
       " 0\n",
       " 0\n",
       " 0\n",
       " 1"
      ]
     },
     "execution_count": 195,
     "metadata": {},
     "output_type": "execute_result"
    }
   ],
   "source": [
    "histogram()"
   ]
  },
  {
   "cell_type": "code",
   "execution_count": 42,
   "metadata": {},
   "outputs": [],
   "source": [
    "multiST = mST[2:end, :];\n",
    "multiST = multiST[:, 2:end];"
   ]
  },
  {
   "cell_type": "code",
   "execution_count": 43,
   "metadata": {},
   "outputs": [
    {
     "data": {
      "text/plain": [
       "900×900 Array{Int64,2}:\n",
       " 0  0  0  0  0  0  0  0  0  0  0  0  0  …  0  0  0  0  0  0  0  0  0  0  0  0\n",
       " 0  0  0  0  0  0  0  0  0  0  1  0  0     0  0  0  0  0  0  0  0  0  0  0  0\n",
       " 0  0  0  0  0  0  0  1  1  0  0  1  0     0  0  0  0  0  0  0  0  0  0  0  0\n",
       " 0  0  0  0  0  0  0  0  0  0  0  0  0     0  0  0  0  0  0  0  0  0  0  0  0\n",
       " 0  0  0  0  0  0  0  0  0  0  0  0  0     0  0  0  0  0  0  0  0  0  0  0  0\n",
       " 0  0  0  0  0  0  0  0  0  0  0  0  0  …  0  0  0  0  0  0  0  0  0  0  0  0\n",
       " 0  0  0  0  0  0  0  0  0  0  0  0  0     0  0  0  0  0  0  0  0  0  0  0  0\n",
       " 0  0  1  0  0  0  0  0  0  0  0  0  0     0  0  0  0  0  0  0  0  0  0  0  0\n",
       " 0  0  1  0  0  0  0  0  0  0  0  0  0     0  0  0  0  0  0  0  0  0  0  0  0\n",
       " 0  0  0  0  0  0  0  0  0  0  0  0  0     0  0  0  0  0  0  0  0  0  0  0  0\n",
       " 0  1  0  0  0  0  0  0  0  0  0  0  0  …  0  0  0  0  0  0  0  0  0  0  0  0\n",
       " 0  0  1  0  0  0  0  0  0  0  0  0  0     0  0  0  0  0  0  0  0  0  0  0  0\n",
       " 0  0  0  0  0  0  0  0  0  0  0  0  0     0  0  0  0  0  0  0  0  0  0  0  0\n",
       " ⋮              ⋮              ⋮        ⋱        ⋮              ⋮            \n",
       " 0  0  0  0  0  0  0  0  0  0  0  0  0     0  0  0  0  0  0  0  0  0  0  0  0\n",
       " 0  0  0  0  0  0  0  0  0  0  0  0  0     0  0  0  0  0  0  0  0  0  0  0  0\n",
       " 0  0  0  0  0  0  0  0  0  0  0  0  0  …  0  0  0  0  0  0  0  0  0  0  0  0\n",
       " 0  0  0  0  0  0  0  0  0  0  0  0  0     0  0  0  0  0  0  0  0  0  0  0  0\n",
       " 0  0  0  0  0  0  0  0  0  0  0  0  0     0  0  0  0  0  0  0  0  0  0  0  0\n",
       " 0  0  0  0  0  0  0  0  0  0  0  0  0     0  0  0  0  0  0  0  1  0  0  0  0\n",
       " 0  0  0  0  0  0  0  0  0  0  0  0  0     0  0  0  0  0  0  0  0  0  0  0  0\n",
       " 0  0  0  0  0  0  0  0  0  0  0  0  0  …  0  0  0  0  0  1  0  0  0  0  0  0\n",
       " 0  0  0  0  0  0  0  0  0  0  0  0  0     0  0  0  0  0  0  0  0  0  0  0  0\n",
       " 0  0  0  0  0  0  0  0  0  0  0  0  0     0  0  0  0  0  0  0  0  0  0  0  0\n",
       " 0  0  0  0  0  0  0  0  0  0  0  0  0     0  0  0  0  0  0  0  0  0  0  0  0\n",
       " 0  0  0  0  0  0  0  0  0  0  0  0  0     0  0  0  0  0  0  0  0  0  0  0  0"
      ]
     },
     "execution_count": 43,
     "metadata": {},
     "output_type": "execute_result"
    }
   ],
   "source": [
    "multiplexST = convert(Array{Int64,2}, multiST)"
   ]
  },
  {
   "cell_type": "markdown",
   "metadata": {},
   "source": [
    "## Caminatas aleatorias\n",
    "\n",
    "### Star Alliance"
   ]
  },
  {
   "cell_type": "code",
   "execution_count": 44,
   "metadata": {},
   "outputs": [
    {
     "name": "stdout",
     "output_type": "stream",
     "text": [
      "  5.888562 seconds (5.34 M allocations: 3.831 GiB, 6.38% gc time)\n"
     ]
    },
    {
     "data": {
      "text/plain": [
       "934-element Array{Any,1}:\n",
       " [1 3 … 384 423; 1 61 … 116 87; … ; 1 61 … 331 318; 1 3 … 26 16]               \n",
       " [2 558 … 351 119; 2 542 … 19 322; … ; 2 731 … 318 174; 2 3 … 158 105]         \n",
       " [3 60 … 115 102; 3 20 … 920 117; … ; 3 50 … 383 98; 3 36 … 174 296]           \n",
       " [4 3 … 344 317; 4 162 … 73 83; … ; 4 3 … 126 396; 4 223 … 868 263]            \n",
       " [5 3 … 877 117; 5 3 … 388 387; … ; 5 3 … 115 298; 5 3 … 570 9]                \n",
       " [6 20 … 495 520; 6 553 … 71 838; … ; 6 80 … 9 538; 6 20 … 296 318]            \n",
       " [7 54 … 111 19; 7 20 … 331 367; … ; 7 3 … 553 60; 7 73 … 292 363]             \n",
       " [8 23 … 0 0; 8 23 … 528 2; … ; 8 23 … 542 83; 8 23 … 621 614]                 \n",
       " [9 559 … 674 553; 9 553 … 729 495; … ; 9 2 … 318 292; 9 781 … 235 102]        \n",
       " [10 19 … 184 170; 10 3 … 7 3; … ; 10 9 … 260 113; 10 83 … 385 302]            \n",
       " [11 290 … 300 318; 11 83 … 6 80; … ; 11 187 … 26 512; 11 169 … 414 331]       \n",
       " [12 9 … 153 157; 12 62 … 232 19; … ; 12 600 … 677 578; 12 262 … 253 80]       \n",
       " [13 3 … 408 301; 13 3 … 459 443; … ; 13 15 … 3 49; 13 15 … 11 590]            \n",
       " ⋮                                                                             \n",
       " [923 132 … 19 70; 923 132 … 262 111; … ; 923 132 … 73 262; 923 132 … 211 54]  \n",
       " [924 117 … 526 19; 924 262 … 83 126; … ; 924 89 … 106 119; 924 89 … 229 176]  \n",
       " [925 880 … 639 99; 925 880 … 126 215; … ; 925 880 … 50 495; 925 880 … 184 209]\n",
       " [926 300 … 6 73; 926 910 … 126 132; … ; 926 910 … 333 398; 926 910 … 296 374] \n",
       " [927 300 … 292 235; 927 300 … 0 0; … ; 927 692 … 126 298; 927 692 … 167 176]  \n",
       " [928 361 … 184 194; 928 361 … 54 112; … ; 928 361 … 259 663; 928 361 … 54 538]\n",
       " [929 396 … 301 119; 929 396 … 71 16; … ; 929 396 … 225 181; 929 396 … 87 885] \n",
       " [930 396 … 19 215; 930 119 … 26 601; … ; 930 396 … 21 83; 930 119 … 235 297]  \n",
       " [931 0 … 0 0; 931 0 … 0 0; … ; 931 0 … 0 0; 931 0 … 0 0]                      \n",
       " [932 0 … 0 0; 932 0 … 0 0; … ; 932 0 … 0 0; 932 0 … 0 0]                      \n",
       " [933 0 … 0 0; 933 0 … 0 0; … ; 933 0 … 0 0; 933 0 … 0 0]                      \n",
       " [934 0 … 0 0; 934 0 … 0 0; … ; 934 0 … 0 0; 934 0 … 0 0]                      "
      ]
     },
     "execution_count": 44,
     "metadata": {},
     "output_type": "execute_result"
    }
   ],
   "source": [
    "caminata_SA = @time random_walk(multiplexSA, 100, 5)"
   ]
  },
  {
   "cell_type": "markdown",
   "metadata": {},
   "source": [
    "### OneWorld"
   ]
  },
  {
   "cell_type": "code",
   "execution_count": 45,
   "metadata": {},
   "outputs": [
    {
     "name": "stdout",
     "output_type": "stream",
     "text": [
      "  2.594020 seconds (3.07 M allocations: 1.899 GiB, 8.20% gc time)\n"
     ]
    },
    {
     "data": {
      "text/plain": [
       "698-element Array{Any,1}:\n",
       " [1 11 … 61 130; 1 207 … 292 168; … ; 1 89 … 197 177; 1 3 … 451 440]    \n",
       " [2 239 … 161 120; 2 180 … 261 624; … ; 2 45 … 135 413; 2 121 … 261 636]\n",
       " [3 207 … 0 0; 3 1 … 60 2; … ; 3 10 … 207 527; 3 2 … 61 172]            \n",
       " [4 177 … 0 0; 4 177 … 0 0; … ; 4 177 … 0 0; 4 177 … 604 62]            \n",
       " [5 61 … 292 579; 5 61 … 465 85; … ; 5 61 … 0 0; 5 61 … 477 97]         \n",
       " [6 46 … 271 52; 6 46 … 97 81; … ; 6 46 … 277 653; 6 46 … 0 0]          \n",
       " [7 46 … 0 0; 7 177 … 538 120; … ; 7 177 … 590 292; 7 177 … 46 76]      \n",
       " [8 127 … 98 229; 8 292 … 0 0; … ; 8 292 … 139 2; 8 271 … 0 0]          \n",
       " [9 178 … 0 0; 9 178 … 556 273; … ; 9 178 … 2 124; 9 178 … 440 462]     \n",
       " [10 3 … 0 0; 10 364 … 0 0; … ; 10 3 … 0 0; 10 218 … 66 115]            \n",
       " [11 2 … 0 0; 11 2 … 127 40; … ; 11 2 … 52 207; 11 1 … 31 446]          \n",
       " [12 292 … 121 271; 12 177 … 119 178; … ; 12 292 … 0 0; 12 177 … 1 207] \n",
       " [13 61 … 0 0; 13 105 … 178 163; … ; 13 61 … 115 2; 13 61 … 229 273]    \n",
       " ⋮                                                                      \n",
       " [687 0 … 0 0; 687 0 … 0 0; … ; 687 0 … 0 0; 687 0 … 0 0]               \n",
       " [688 0 … 0 0; 688 0 … 0 0; … ; 688 0 … 0 0; 688 0 … 0 0]               \n",
       " [689 0 … 0 0; 689 0 … 0 0; … ; 689 0 … 0 0; 689 0 … 0 0]               \n",
       " [690 0 … 0 0; 690 0 … 0 0; … ; 690 0 … 0 0; 690 0 … 0 0]               \n",
       " [691 0 … 0 0; 691 0 … 0 0; … ; 691 0 … 0 0; 691 0 … 0 0]               \n",
       " [692 0 … 0 0; 692 0 … 0 0; … ; 692 0 … 0 0; 692 0 … 0 0]               \n",
       " [693 0 … 0 0; 693 0 … 0 0; … ; 693 0 … 0 0; 693 0 … 0 0]               \n",
       " [694 0 … 0 0; 694 0 … 0 0; … ; 694 0 … 0 0; 694 0 … 0 0]               \n",
       " [695 0 … 0 0; 695 0 … 0 0; … ; 695 0 … 0 0; 695 0 … 0 0]               \n",
       " [696 0 … 0 0; 696 0 … 0 0; … ; 696 0 … 0 0; 696 0 … 0 0]               \n",
       " [697 0 … 0 0; 697 0 … 0 0; … ; 697 0 … 0 0; 697 0 … 0 0]               \n",
       " [698 0 … 0 0; 698 0 … 0 0; … ; 698 0 … 0 0; 698 0 … 0 0]               "
      ]
     },
     "execution_count": 45,
     "metadata": {},
     "output_type": "execute_result"
    }
   ],
   "source": [
    "caminata_OW = @time random_walk(multiplexOW, 100, 5)"
   ]
  },
  {
   "cell_type": "markdown",
   "metadata": {},
   "source": [
    "### Sky Team"
   ]
  },
  {
   "cell_type": "code",
   "execution_count": 46,
   "metadata": {},
   "outputs": [
    {
     "name": "stdout",
     "output_type": "stream",
     "text": [
      "  5.164911 seconds (4.52 M allocations: 3.390 GiB, 7.23% gc time)\n"
     ]
    },
    {
     "data": {
      "text/plain": [
       "900-element Array{Any,1}:\n",
       " [1 35 … 786 134; 1 35 … 612 549; … ; 1 15 … 222 421; 1 15 … 500 346]          \n",
       " [2 136 … 830 176; 2 37 … 449 95; … ; 2 11 … 842 617; 2 15 … 527 518]          \n",
       " [3 274 … 736 38; 3 187 … 101 123; … ; 3 164 … 585 330; 3 196 … 3 126]         \n",
       " [4 35 … 605 171; 4 35 … 127 52; … ; 4 35 … 512 518; 4 35 … 502 46]            \n",
       " [5 35 … 42 30; 5 35 … 0 0; … ; 5 28 … 608 333; 5 31 … 437 239]                \n",
       " [6 33 … 188 742; 6 25 … 61 50; … ; 6 136 … 437 432; 6 25 … 66 95]             \n",
       " [7 33 … 52 580; 7 28 … 123 171; … ; 7 35 … 585 594; 7 35 … 287 677]           \n",
       " [8 286 … 219 123; 8 286 … 655 315; … ; 8 28 … 491 171; 8 188 … 205 38]        \n",
       " [9 31 … 821 549; 9 18 … 171 313; … ; 9 3 … 180 437; 9 35 … 225 219]           \n",
       " [10 188 … 196 31; 10 73 … 18 302; … ; 10 188 … 592 320; 10 73 … 866 743]      \n",
       " [11 133 … 123 447; 11 2 … 466 103; … ; 11 2 … 623 626; 11 133 … 333 127]      \n",
       " [12 3 … 593 52; 12 35 … 396 73; … ; 12 3 … 103 447; 12 28 … 127 61]           \n",
       " [13 33 … 290 188; 13 33 … 513 49; … ; 13 35 … 557 317; 13 35 … 338 518]       \n",
       " ⋮                                                                             \n",
       " [889 48 … 100 95; 889 48 … 552 554; … ; 889 48 … 421 431; 889 48 … 25 43]     \n",
       " [890 61 … 18 199; 890 48 … 155 96; … ; 890 61 … 386 123; 890 61 … 333 321]    \n",
       " [891 588 … 283 337; 891 718 … 0 0; … ; 891 588 … 85 219; 891 718 … 0 0]       \n",
       " [892 61 … 143 138; 892 61 … 374 421; … ; 892 61 … 659 49; 892 61 … 437 415]   \n",
       " [893 133 … 313 47; 893 133 … 95 104; … ; 893 133 … 329 549; 893 133 … 295 549]\n",
       " [894 896 … 48 888; 894 896 … 171 530; … ; 894 106 … 747 134; 894 620 … 0 0]   \n",
       " [895 133 … 95 157; 895 133 … 0 0; … ; 895 133 … 137 85; 895 133 … 735 38]     \n",
       " [896 894 … 79 62; 896 894 … 320 164; … ; 896 894 … 95 122; 896 894 … 0 0]     \n",
       " [897 0 … 0 0; 897 0 … 0 0; … ; 897 0 … 0 0; 897 0 … 0 0]                      \n",
       " [898 0 … 0 0; 898 0 … 0 0; … ; 898 0 … 0 0; 898 0 … 0 0]                      \n",
       " [899 0 … 0 0; 899 0 … 0 0; … ; 899 0 … 0 0; 899 0 … 0 0]                      \n",
       " [900 0 … 0 0; 900 0 … 0 0; … ; 900 0 … 0 0; 900 0 … 0 0]                      "
      ]
     },
     "execution_count": 46,
     "metadata": {},
     "output_type": "execute_result"
    }
   ],
   "source": [
    "caminata_ST = @time random_walk(multiplexST, 100, 5)"
   ]
  },
  {
   "cell_type": "markdown",
   "metadata": {},
   "source": [
    "## Longitud de todas las caminatas "
   ]
  },
  {
   "cell_type": "code",
   "execution_count": 47,
   "metadata": {},
   "outputs": [
    {
     "name": "stdout",
     "output_type": "stream",
     "text": [
      "  0.662262 seconds (1.54 M allocations: 419.889 MiB, 11.82% gc time)\n"
     ]
    },
    {
     "data": {
      "text/plain": [
       "934-element Array{Array,1}:\n",
       " [100, 100, 100, 100, 100]\n",
       " [100, 100, 100, 100, 100]\n",
       " [100, 100, 100, 100, 100]\n",
       " [100, 100, 100, 100, 100]\n",
       " [100, 100, 100, 100, 100]\n",
       " [100, 100, 100, 100, 100]\n",
       " [100, 100, 100, 100, 100]\n",
       " [13, 100, 100, 100, 100] \n",
       " [100, 100, 100, 100, 100]\n",
       " [100, 100, 100, 100, 100]\n",
       " [100, 100, 100, 100, 100]\n",
       " [100, 100, 100, 100, 100]\n",
       " [100, 100, 100, 100, 100]\n",
       " ⋮                        \n",
       " [100, 100, 100, 100, 100]\n",
       " [100, 100, 100, 100, 100]\n",
       " [100, 100, 100, 100, 100]\n",
       " [100, 100, 100, 100, 100]\n",
       " [100, 41, 100, 100, 100] \n",
       " [100, 100, 100, 100, 100]\n",
       " [100, 100, 100, 100, 100]\n",
       " [100, 100, 100, 100, 100]\n",
       " [0, 0, 0, 0, 0]          \n",
       " [0, 0, 0, 0, 0]          \n",
       " [0, 0, 0, 0, 0]          \n",
       " [0, 0, 0, 0, 0]          "
      ]
     },
     "execution_count": 47,
     "metadata": {},
     "output_type": "execute_result"
    }
   ],
   "source": [
    "@time walk_length(caminata_SA)"
   ]
  },
  {
   "cell_type": "code",
   "execution_count": 48,
   "metadata": {},
   "outputs": [
    {
     "name": "stdout",
     "output_type": "stream",
     "text": [
      "  0.407760 seconds (924.09 k allocations: 267.667 MiB, 14.27% gc time)\n"
     ]
    },
    {
     "data": {
      "text/plain": [
       "698-element Array{Array,1}:\n",
       " [100, 100, 100, 100, 100]\n",
       " [100, 100, 100, 100, 100]\n",
       " [91, 100, 100, 100, 100] \n",
       " [8, 88, 100, 6, 100]     \n",
       " [100, 100, 100, 66, 100] \n",
       " [100, 100, 100, 100, 44] \n",
       " [2, 100, 100, 100, 100]  \n",
       " [100, 91, 53, 100, 26]   \n",
       " [91, 100, 100, 100, 100] \n",
       " [38, 73, 2, 7, 100]      \n",
       " [41, 100, 100, 100, 100] \n",
       " [100, 100, 100, 38, 100] \n",
       " [66, 100, 62, 100, 100]  \n",
       " ⋮                        \n",
       " [0, 0, 0, 0, 0]          \n",
       " [0, 0, 0, 0, 0]          \n",
       " [0, 0, 0, 0, 0]          \n",
       " [0, 0, 0, 0, 0]          \n",
       " [0, 0, 0, 0, 0]          \n",
       " [0, 0, 0, 0, 0]          \n",
       " [0, 0, 0, 0, 0]          \n",
       " [0, 0, 0, 0, 0]          \n",
       " [0, 0, 0, 0, 0]          \n",
       " [0, 0, 0, 0, 0]          \n",
       " [0, 0, 0, 0, 0]          \n",
       " [0, 0, 0, 0, 0]          "
      ]
     },
     "execution_count": 48,
     "metadata": {},
     "output_type": "execute_result"
    }
   ],
   "source": [
    "@time walk_length(caminata_OW)"
   ]
  },
  {
   "cell_type": "code",
   "execution_count": 49,
   "metadata": {},
   "outputs": [
    {
     "name": "stdout",
     "output_type": "stream",
     "text": [
      "  0.578502 seconds (1.38 M allocations: 386.130 MiB, 11.64% gc time)\n"
     ]
    },
    {
     "data": {
      "text/plain": [
       "900-element Array{Array,1}:\n",
       " [100, 100, 100, 100, 100]\n",
       " [100, 100, 100, 100, 100]\n",
       " [100, 100, 100, 100, 100]\n",
       " [100, 100, 100, 100, 100]\n",
       " [100, 42, 47, 100, 100]  \n",
       " [100, 100, 100, 100, 100]\n",
       " [100, 100, 100, 100, 100]\n",
       " [100, 100, 100, 100, 100]\n",
       " [100, 100, 100, 100, 100]\n",
       " [100, 100, 100, 100, 100]\n",
       " [100, 100, 100, 100, 100]\n",
       " [100, 100, 100, 100, 100]\n",
       " [100, 100, 100, 100, 100]\n",
       " ⋮                        \n",
       " [100, 100, 100, 100, 100]\n",
       " [100, 100, 100, 100, 100]\n",
       " [100, 37, 100, 100, 62]  \n",
       " [100, 100, 100, 100, 100]\n",
       " [100, 100, 100, 100, 100]\n",
       " [100, 100, 100, 100, 17] \n",
       " [100, 97, 100, 100, 100] \n",
       " [100, 100, 100, 100, 78] \n",
       " [0, 0, 0, 0, 0]          \n",
       " [0, 0, 0, 0, 0]          \n",
       " [0, 0, 0, 0, 0]          \n",
       " [0, 0, 0, 0, 0]          "
      ]
     },
     "execution_count": 49,
     "metadata": {},
     "output_type": "execute_result"
    }
   ],
   "source": [
    "@time walk_length(caminata_ST)"
   ]
  },
  {
   "cell_type": "markdown",
   "metadata": {},
   "source": [
    "## Longitud promedio de las caminatas de cada nodo"
   ]
  },
  {
   "cell_type": "code",
   "execution_count": 53,
   "metadata": {},
   "outputs": [
    {
     "name": "stdout",
     "output_type": "stream",
     "text": [
      "  0.613291 seconds (1.47 M allocations: 416.356 MiB, 12.33% gc time)\n"
     ]
    },
    {
     "data": {
      "text/plain": [
       "934-element Array{Any,1}:\n",
       " 100.0\n",
       " 100.0\n",
       " 100.0\n",
       " 100.0\n",
       " 100.0\n",
       " 100.0\n",
       " 100.0\n",
       "  82.6\n",
       " 100.0\n",
       " 100.0\n",
       " 100.0\n",
       " 100.0\n",
       " 100.0\n",
       "   ⋮  \n",
       " 100.0\n",
       " 100.0\n",
       " 100.0\n",
       " 100.0\n",
       "  88.2\n",
       " 100.0\n",
       " 100.0\n",
       " 100.0\n",
       "   0.0\n",
       "   0.0\n",
       "   0.0\n",
       "   0.0"
      ]
     },
     "execution_count": 53,
     "metadata": {},
     "output_type": "execute_result"
    }
   ],
   "source": [
    "lpn_SA = @time walk_av_length(caminata_SA)"
   ]
  },
  {
   "cell_type": "code",
   "execution_count": 54,
   "metadata": {},
   "outputs": [
    {
     "name": "stdout",
     "output_type": "stream",
     "text": [
      "  0.389282 seconds (924.80 k allocations: 267.694 MiB, 12.42% gc time)\n"
     ]
    },
    {
     "data": {
      "text/plain": [
       "698-element Array{Any,1}:\n",
       " 100.0\n",
       " 100.0\n",
       "  98.2\n",
       "  60.4\n",
       "  93.2\n",
       "  88.8\n",
       "  80.4\n",
       "  74.0\n",
       "  98.2\n",
       "  44.0\n",
       "  88.2\n",
       "  87.6\n",
       "  85.6\n",
       "   ⋮  \n",
       "   0.0\n",
       "   0.0\n",
       "   0.0\n",
       "   0.0\n",
       "   0.0\n",
       "   0.0\n",
       "   0.0\n",
       "   0.0\n",
       "   0.0\n",
       "   0.0\n",
       "   0.0\n",
       "   0.0"
      ]
     },
     "execution_count": 54,
     "metadata": {},
     "output_type": "execute_result"
    }
   ],
   "source": [
    "lpn_OW = @time walk_av_length(caminata_OW)"
   ]
  },
  {
   "cell_type": "code",
   "execution_count": 55,
   "metadata": {},
   "outputs": [
    {
     "name": "stdout",
     "output_type": "stream",
     "text": [
      "  0.567929 seconds (1.38 M allocations: 386.160 MiB, 12.70% gc time)\n"
     ]
    },
    {
     "data": {
      "text/plain": [
       "900-element Array{Any,1}:\n",
       " 100.0\n",
       " 100.0\n",
       " 100.0\n",
       " 100.0\n",
       "  77.8\n",
       " 100.0\n",
       " 100.0\n",
       " 100.0\n",
       " 100.0\n",
       " 100.0\n",
       " 100.0\n",
       " 100.0\n",
       " 100.0\n",
       "   ⋮  \n",
       " 100.0\n",
       " 100.0\n",
       "  79.8\n",
       " 100.0\n",
       " 100.0\n",
       "  83.4\n",
       "  99.4\n",
       "  95.6\n",
       "   0.0\n",
       "   0.0\n",
       "   0.0\n",
       "   0.0"
      ]
     },
     "execution_count": 55,
     "metadata": {},
     "output_type": "execute_result"
    }
   ],
   "source": [
    "lpn_ST = @time walk_av_length(caminata_ST)"
   ]
  },
  {
   "cell_type": "code",
   "execution_count": 71,
   "metadata": {},
   "outputs": [
    {
     "data": {
      "image/png": "[encoded data removed]"
     },
     "execution_count": 71,
     "metadata": {},
     "output_type": "execute_result"
    }
   ],
   "source": [
    "pyplot()\n",
    "histogram(lpn_SA, \n",
    "    nbins = 50, \n",
    "    title=\"Longitud promedio de caminata por nodo\", \n",
    "    xlabel=\"Promedio por nodo\", \n",
    "    ylabel=\"Frecuencia\",\n",
    "    xlims = (0, 110))\n",
    "histogram!(lpn_OW, nbins=50, falpha=0.4)\n",
    "histogram!(lpn_ST, nbins=50, falpha=0.3)"
   ]
  },
  {
   "cell_type": "markdown",
   "metadata": {},
   "source": [
    "## Cobertura"
   ]
  },
  {
   "cell_type": "code",
   "execution_count": 75,
   "metadata": {
    "scrolled": false
   },
   "outputs": [
    {
     "name": "stdout",
     "output_type": "stream",
     "text": [
      "  0.170931 seconds (162.38 k allocations: 34.030 MiB, 10.76% gc time)\n"
     ]
    },
    {
     "data": {
      "text/plain": [
       "934-element Array{Any,1}:\n",
       " [71, 68, 66, 67, 75]\n",
       " [69, 69, 66, 56, 68]\n",
       " [72, 71, 65, 66, 71]\n",
       " [76, 62, 69, 75, 74]\n",
       " [63, 65, 69, 73, 67]\n",
       " [72, 72, 68, 77, 74]\n",
       " [66, 70, 64, 58, 64]\n",
       " [13, 74, 76, 62, 75]\n",
       " [61, 66, 66, 68, 71]\n",
       " [68, 63, 65, 67, 71]\n",
       " [69, 70, 67, 71, 66]\n",
       " [68, 69, 78, 69, 65]\n",
       " [72, 62, 73, 65, 64]\n",
       " ⋮                   \n",
       " [69, 61, 70, 70, 75]\n",
       " [72, 72, 72, 63, 69]\n",
       " [70, 63, 68, 69, 62]\n",
       " [66, 71, 65, 71, 66]\n",
       " [60, 36, 69, 68, 69]\n",
       " [64, 74, 65, 64, 70]\n",
       " [65, 68, 66, 72, 75]\n",
       " [68, 68, 69, 71, 66]\n",
       " [2, 2, 2, 2, 2]     \n",
       " [2, 2, 2, 2, 2]     \n",
       " [2, 2, 2, 2, 2]     \n",
       " [2, 2, 2, 2, 2]     "
      ]
     },
     "execution_count": 75,
     "metadata": {},
     "output_type": "execute_result"
    }
   ],
   "source": [
    "cobs_SA = @time cobertura(caminata_SA)"
   ]
  },
  {
   "cell_type": "code",
   "execution_count": 76,
   "metadata": {},
   "outputs": [
    {
     "name": "stdout",
     "output_type": "stream",
     "text": [
      "  0.032576 seconds (70.99 k allocations: 19.054 MiB, 29.14% gc time)\n"
     ]
    },
    {
     "data": {
      "text/plain": [
       "698-element Array{Any,1}:\n",
       " [65, 65, 60, 64, 65]\n",
       " [60, 58, 64, 65, 62]\n",
       " [55, 61, 65, 60, 63]\n",
       " [9, 54, 60, 7, 64]  \n",
       " [65, 58, 61, 39, 60]\n",
       " [59, 62, 64, 54, 32]\n",
       " [4, 63, 67, 63, 67] \n",
       " [68, 54, 42, 61, 22]\n",
       " [60, 66, 60, 60, 61]\n",
       " [29, 53, 4, 8, 53]  \n",
       " [29, 60, 62, 53, 63]\n",
       " [62, 63, 66, 27, 59]\n",
       " [47, 61, 44, 64, 50]\n",
       " ⋮                   \n",
       " [2, 2, 2, 2, 2]     \n",
       " [2, 2, 2, 2, 2]     \n",
       " [2, 2, 2, 2, 2]     \n",
       " [2, 2, 2, 2, 2]     \n",
       " [2, 2, 2, 2, 2]     \n",
       " [2, 2, 2, 2, 2]     \n",
       " [2, 2, 2, 2, 2]     \n",
       " [2, 2, 2, 2, 2]     \n",
       " [2, 2, 2, 2, 2]     \n",
       " [2, 2, 2, 2, 2]     \n",
       " [2, 2, 2, 2, 2]     \n",
       " [2, 2, 2, 2, 2]     "
      ]
     },
     "execution_count": 76,
     "metadata": {},
     "output_type": "execute_result"
    }
   ],
   "source": [
    "cobs_OW = @time cobertura(caminata_OW)"
   ]
  },
  {
   "cell_type": "code",
   "execution_count": 77,
   "metadata": {},
   "outputs": [
    {
     "name": "stdout",
     "output_type": "stream",
     "text": [
      "  0.046783 seconds (96.87 k allocations: 28.751 MiB, 14.55% gc time)\n"
     ]
    },
    {
     "data": {
      "text/plain": [
       "900-element Array{Any,1}:\n",
       " [60, 68, 72, 69, 67]\n",
       " [65, 62, 65, 72, 67]\n",
       " [69, 68, 75, 50, 66]\n",
       " [78, 67, 70, 67, 65]\n",
       " [62, 32, 33, 70, 63]\n",
       " [74, 59, 70, 68, 69]\n",
       " [64, 67, 77, 70, 67]\n",
       " [62, 75, 68, 69, 72]\n",
       " [70, 69, 71, 64, 70]\n",
       " [68, 62, 65, 67, 66]\n",
       " [64, 70, 73, 61, 65]\n",
       " [68, 66, 64, 66, 67]\n",
       " [68, 70, 65, 66, 59]\n",
       " ⋮                   \n",
       " [74, 67, 68, 73, 69]\n",
       " [70, 70, 72, 65, 70]\n",
       " [73, 31, 60, 62, 49]\n",
       " [65, 67, 66, 70, 72]\n",
       " [73, 75, 61, 62, 64]\n",
       " [61, 64, 57, 71, 15]\n",
       " [65, 70, 66, 69, 61]\n",
       " [59, 75, 67, 67, 52]\n",
       " [2, 2, 2, 2, 2]     \n",
       " [2, 2, 2, 2, 2]     \n",
       " [2, 2, 2, 2, 2]     \n",
       " [2, 2, 2, 2, 2]     "
      ]
     },
     "execution_count": 77,
     "metadata": {},
     "output_type": "execute_result"
    }
   ],
   "source": [
    "cobs_ST = @time cobertura(caminata_ST)"
   ]
  },
  {
   "cell_type": "markdown",
   "metadata": {},
   "source": [
    "## Cobertura promedio de las caminatas de cada aeropuerto inicial"
   ]
  },
  {
   "cell_type": "code",
   "execution_count": 78,
   "metadata": {},
   "outputs": [
    {
     "name": "stdout",
     "output_type": "stream",
     "text": [
      "  0.060978 seconds (119.89 k allocations: 32.036 MiB, 19.38% gc time)\n"
     ]
    },
    {
     "data": {
      "text/plain": [
       "934-element Array{Any,1}:\n",
       " 69.4\n",
       " 65.6\n",
       " 69.0\n",
       " 71.2\n",
       " 67.4\n",
       " 72.6\n",
       " 64.4\n",
       " 60.0\n",
       " 66.4\n",
       " 66.8\n",
       " 68.6\n",
       " 69.8\n",
       " 67.2\n",
       "  ⋮  \n",
       " 69.0\n",
       " 69.6\n",
       " 66.4\n",
       " 67.8\n",
       " 60.4\n",
       " 67.4\n",
       " 69.2\n",
       " 68.4\n",
       "  2.0\n",
       "  2.0\n",
       "  2.0\n",
       "  2.0"
      ]
     },
     "execution_count": 78,
     "metadata": {},
     "output_type": "execute_result"
    }
   ],
   "source": [
    "dif_SA = @time n_cobertura_av(caminata_SA)"
   ]
  },
  {
   "cell_type": "code",
   "execution_count": 82,
   "metadata": {},
   "outputs": [
    {
     "data": {
      "image/png": "[encoded data removed]"
     },
     "execution_count": 82,
     "metadata": {},
     "output_type": "execute_result"
    }
   ],
   "source": [
    "difSA = histogram(dif_SA, title=\"Cobertura promedio\", xlabel=\"Promedio de cobertura\", ylabel=\"Frecuencia\")"
   ]
  },
  {
   "cell_type": "code",
   "execution_count": 94,
   "metadata": {},
   "outputs": [
    {
     "data": {
      "image/png": "[encoded data removed]"
     },
     "execution_count": 94,
     "metadata": {},
     "output_type": "execute_result"
    }
   ],
   "source": [
    "plot(dif_SA)"
   ]
  },
  {
   "cell_type": "code",
   "execution_count": 90,
   "metadata": {},
   "outputs": [
    {
     "data": {
      "text/plain": [
       "934-element Array{Any,1}:\n",
       " 69.4\n",
       " 65.6\n",
       " 69.0\n",
       " 71.2\n",
       " 67.4\n",
       " 72.6\n",
       " 64.4\n",
       " 60.0\n",
       " 66.4\n",
       " 66.8\n",
       " 68.6\n",
       " 69.8\n",
       " 67.2\n",
       "  ⋮  \n",
       " 69.0\n",
       " 69.6\n",
       " 66.4\n",
       " 67.8\n",
       " 60.4\n",
       " 67.4\n",
       " 69.2\n",
       " 68.4\n",
       "  2.0\n",
       "  2.0\n",
       "  2.0\n",
       "  2.0"
      ]
     },
     "execution_count": 90,
     "metadata": {},
     "output_type": "execute_result"
    }
   ],
   "source": [
    "dif_SA"
   ]
  },
  {
   "cell_type": "code",
   "execution_count": 123,
   "metadata": {},
   "outputs": [
    {
     "data": {
      "image/png": "[encoded data removed]"
     },
     "execution_count": 123,
     "metadata": {},
     "output_type": "execute_result"
    }
   ],
   "source": [
    "b = bar(dif_SA,xlim=(0,90),color=\"#0f87bf\",alpha=0.4)"
   ]
  },
  {
   "cell_type": "code",
   "execution_count": 79,
   "metadata": {},
   "outputs": [
    {
     "name": "stdout",
     "output_type": "stream",
     "text": [
      "  0.028695 seconds (71.70 k allocations: 19.081 MiB, 20.89% gc time)\n"
     ]
    },
    {
     "data": {
      "text/plain": [
       "698-element Array{Any,1}:\n",
       " 63.8\n",
       " 61.8\n",
       " 60.8\n",
       " 38.8\n",
       " 56.6\n",
       " 54.2\n",
       " 52.8\n",
       " 49.4\n",
       " 61.4\n",
       " 29.4\n",
       " 53.4\n",
       " 55.4\n",
       " 53.2\n",
       "  ⋮  \n",
       "  2.0\n",
       "  2.0\n",
       "  2.0\n",
       "  2.0\n",
       "  2.0\n",
       "  2.0\n",
       "  2.0\n",
       "  2.0\n",
       "  2.0\n",
       "  2.0\n",
       "  2.0\n",
       "  2.0"
      ]
     },
     "execution_count": 79,
     "metadata": {},
     "output_type": "execute_result"
    }
   ],
   "source": [
    "dif_OW = @time n_cobertura_av(caminata_OW)"
   ]
  },
  {
   "cell_type": "code",
   "execution_count": 125,
   "metadata": {},
   "outputs": [
    {
     "data": {
      "image/png": "[encoded data removed]"
     },
     "execution_count": 125,
     "metadata": {},
     "output_type": "execute_result"
    }
   ],
   "source": [
    "difOW = histogram(dif_OW, nbins=100,title=\"Cobertura promedio\", xlabel=\"Promedio de cobertura\", ylabel=\"Frecuencia\")"
   ]
  },
  {
   "cell_type": "code",
   "execution_count": 80,
   "metadata": {},
   "outputs": [
    {
     "name": "stdout",
     "output_type": "stream",
     "text": [
      "  0.036175 seconds (97.78 k allocations: 28.781 MiB, 13.50% gc time)\n"
     ]
    },
    {
     "data": {
      "text/plain": [
       "900-element Array{Any,1}:\n",
       " 67.2\n",
       " 66.2\n",
       " 65.6\n",
       " 69.4\n",
       " 52.0\n",
       " 68.0\n",
       " 69.0\n",
       " 69.2\n",
       " 68.8\n",
       " 65.6\n",
       " 66.6\n",
       " 66.2\n",
       " 65.6\n",
       "  ⋮  \n",
       " 70.2\n",
       " 69.4\n",
       " 55.0\n",
       " 68.0\n",
       " 67.0\n",
       " 53.6\n",
       " 66.2\n",
       " 64.0\n",
       "  2.0\n",
       "  2.0\n",
       "  2.0\n",
       "  2.0"
      ]
     },
     "execution_count": 80,
     "metadata": {},
     "output_type": "execute_result"
    }
   ],
   "source": [
    "dif_ST = @time n_cobertura_av(caminata_ST)"
   ]
  },
  {
   "cell_type": "code",
   "execution_count": null,
   "metadata": {},
   "outputs": [],
   "source": []
  },
  {
   "cell_type": "code",
   "execution_count": 126,
   "metadata": {},
   "outputs": [
    {
     "data": {
      "image/png": "[encoded data removed]"
     },
     "execution_count": 126,
     "metadata": {},
     "output_type": "execute_result"
    }
   ],
   "source": [
    "difST = histogram(dif_ST,nbins=100, title=\"Cobertura promedio\", xlabel=\"Promedio de cobertura\", ylabel=\"Frecuencia\")"
   ]
  },
  {
   "cell_type": "code",
   "execution_count": 127,
   "metadata": {},
   "outputs": [
    {
     "data": {
      "image/png": "[encoded data removed]"
     },
     "execution_count": 127,
     "metadata": {},
     "output_type": "execute_result"
    }
   ],
   "source": [
    "plot(difSA, difOW, difST, layout=(1,3),legend=false)"
   ]
  },
  {
   "cell_type": "code",
   "execution_count": 107,
   "metadata": {},
   "outputs": [
    {
     "data": {
      "image/png": "[encoded data removed]"
     },
     "execution_count": 107,
     "metadata": {},
     "output_type": "execute_result"
    }
   ],
   "source": [
    "difs = histogram(dif_SA, title=\"Cobertura promedio\", xlabel=\"Promedio\", ylabel=\"Frecuencia\")\n",
    "histogram!(dif_OW, falpha=0.4)\n",
    "histogram!(dif_ST, falpha=0.4)"
   ]
  },
  {
   "cell_type": "code",
   "execution_count": null,
   "metadata": {},
   "outputs": [],
   "source": []
  },
  {
   "cell_type": "code",
   "execution_count": 235,
   "metadata": {},
   "outputs": [
    {
     "data": {
      "image/png": "[encoded data removed]"
     },
     "execution_count": 235,
     "metadata": {},
     "output_type": "execute_result"
    }
   ],
   "source": [
    "groupedbar(rand(10,3), bar_position = :dodge, bar_width=0.7)"
   ]
  },
  {
   "cell_type": "code",
   "execution_count": null,
   "metadata": {},
   "outputs": [],
   "source": [
    "#Plot que en el eje x tenga cada nodo inicial (aeropuerto) y en el eje y el promedio"
   ]
  },
  {
   "cell_type": "code",
   "execution_count": null,
   "metadata": {},
   "outputs": [],
   "source": [
    "h = bar(1:80, frqs, color=\"#0f87bf\",align=\"center\",alpha=0.4)"
   ]
  },
  {
   "cell_type": "markdown",
   "metadata": {},
   "source": [
    "## Cobertura promedio por alianza"
   ]
  },
  {
   "cell_type": "code",
   "execution_count": 108,
   "metadata": {},
   "outputs": [
    {
     "name": "stdout",
     "output_type": "stream",
     "text": [
      "  0.112794 seconds (187.10 k allocations: 35.580 MiB, 9.02% gc time)\n"
     ]
    },
    {
     "data": {
      "text/plain": [
       "67.16466809421834"
      ]
     },
     "execution_count": 108,
     "metadata": {},
     "output_type": "execute_result"
    }
   ],
   "source": [
    "cobp_SA = @time cobertura_av(caminata_SA)"
   ]
  },
  {
   "cell_type": "code",
   "execution_count": 109,
   "metadata": {},
   "outputs": [
    {
     "name": "stdout",
     "output_type": "stream",
     "text": [
      "  0.033208 seconds (73.09 k allocations: 19.102 MiB, 29.51% gc time)\n"
     ]
    },
    {
     "data": {
      "text/plain": [
       "52.84813753581668"
      ]
     },
     "execution_count": 109,
     "metadata": {},
     "output_type": "execute_result"
    }
   ],
   "source": [
    "cobp_OW = @time cobertura_av(caminata_OW)"
   ]
  },
  {
   "cell_type": "code",
   "execution_count": 110,
   "metadata": {},
   "outputs": [
    {
     "name": "stdout",
     "output_type": "stream",
     "text": [
      "  0.044557 seconds (99.58 k allocations: 28.808 MiB, 14.84% gc time)\n"
     ]
    },
    {
     "data": {
      "text/plain": [
       "63.51622222222216"
      ]
     },
     "execution_count": 110,
     "metadata": {},
     "output_type": "execute_result"
    }
   ],
   "source": [
    "cobp_ST = @time cobertura_av(caminata_ST)"
   ]
  },
  {
   "cell_type": "code",
   "execution_count": 122,
   "metadata": {},
   "outputs": [
    {
     "data": {
      "image/png": "[encoded data removed]"
     },
     "execution_count": 122,
     "metadata": {},
     "output_type": "execute_result"
    }
   ],
   "source": [
    "y = [cobp_SA, cobp_OW, cobp_ST]\n",
    "b = bar(y,\n",
    "    color=\"#0f87bf\",\n",
    "    title=\"Cobertura\",\n",
    "    xlabel=\"Alianzas\",\n",
    "    ylabel = \"Promedio de cobertura por Alianza\", \n",
    "    alpha=0.4)"
   ]
  },
  {
   "cell_type": "code",
   "execution_count": 118,
   "metadata": {},
   "outputs": [
    {
     "ename": "ErrorException",
     "evalue": "No user recipe defined for Float64",
     "output_type": "error",
     "traceback": [
      "No user recipe defined for Float64",
      "",
      "Stacktrace:",
      " [1] error(::String) at ./error.jl:33",
      " [2] convertToAnyVector(::Float64, ::Dict{Symbol,Any}) at /Users/yuriko/.julia/packages/Plots/47Tik/src/series.jl:14",
      " [3] macro expansion at /Users/yuriko/.julia/packages/Plots/47Tik/src/series.jl:139 [inlined]",
      " [4] apply_recipe(::Dict{Symbol,Any}, ::Type{Plots.SliceIt}, ::Nothing, ::Float64, ::Nothing) at /Users/yuriko/.julia/packages/RecipesBase/Uz5AO/src/RecipesBase.jl:275",
      " [5] _process_userrecipes(::Plots.Plot{Plots.PyPlotBackend}, ::Dict{Symbol,Any}, ::Tuple{Float64}) at /Users/yuriko/.julia/packages/Plots/47Tik/src/pipeline.jl:83",
      " [6] _plot!(::Plots.Plot{Plots.PyPlotBackend}, ::Dict{Symbol,Any}, ::Tuple{Float64}) at /Users/yuriko/.julia/packages/Plots/47Tik/src/plot.jl:178",
      " [7] #plot#136(::Base.Iterators.Pairs{Symbol,Any,Tuple{Symbol,Symbol,Symbol},NamedTuple{(:color, :alpha, :seriestype),Tuple{String,Float64,Symbol}}}, ::Function, ::Float64) at /Users/yuriko/.julia/packages/Plots/47Tik/src/plot.jl:57",
      " [8] #plot at ./none:0 [inlined]",
      " [9] #bar#364 at /Users/yuriko/.julia/packages/RecipesBase/Uz5AO/src/RecipesBase.jl:368 [inlined]",
      " [10] (::getfield(Plots, Symbol(\"#kw##bar\")))(::NamedTuple{(:color, :alpha),Tuple{String,Float64}}, ::typeof(bar), ::Float64) at ./none:0",
      " [11] top-level scope at In[118]:1"
     ]
    }
   ],
   "source": [
    "b = bar(cobp_SA,color=\"#0f87bf\",alpha=0.4)\n",
    "bar!(cobp_OW,color=\"#0f00bf\",alpha=0.4)\n",
    "bar!(cobp_ST,color=\"#0f50bf\",alpha=0.4)"
   ]
  },
  {
   "cell_type": "code",
   "execution_count": null,
   "metadata": {},
   "outputs": [],
   "source": []
  },
  {
   "cell_type": "code",
   "execution_count": null,
   "metadata": {},
   "outputs": [],
   "source": [
    "cobs_prom = plot(cobp_SA, title=\"Cobertura promedio\", xlabel=\"Promedio\", ylabel=\"Frecuencia\")\n",
    "plot!(cobp_OW, falpha=0.5)\n",
    "plot!(cobp_ST, falpha=0.3)"
   ]
  },
  {
   "cell_type": "code",
   "execution_count": 288,
   "metadata": {},
   "outputs": [
    {
     "data": {
      "text/plain": [
       "3×3 Array{Int64,2}:\n",
       " 0  1  0\n",
       " 1  0  1\n",
       " 0  0  0"
      ]
     },
     "execution_count": 288,
     "metadata": {},
     "output_type": "execute_result"
    }
   ],
   "source": [
    "d = [0 1 0\n",
    "     1 0 1\n",
    "     0 0 0]"
   ]
  },
  {
   "cell_type": "code",
   "execution_count": 292,
   "metadata": {},
   "outputs": [
    {
     "data": {
      "text/plain": [
       "3-element Array{Any,1}:\n",
       " [1 2 1 2]\n",
       " [2 1 2 3]\n",
       " [3 0 0 0]"
      ]
     },
     "execution_count": 292,
     "metadata": {},
     "output_type": "execute_result"
    }
   ],
   "source": [
    "rwd = random_walk(d, 3, 1)"
   ]
  },
  {
   "cell_type": "code",
   "execution_count": 295,
   "metadata": {},
   "outputs": [
    {
     "data": {
      "text/plain": [
       "1×4 Array{Int64,2}:\n",
       " 1  2  1  2"
      ]
     },
     "execution_count": 295,
     "metadata": {},
     "output_type": "execute_result"
    }
   ],
   "source": [
    "uno=rwd[1]"
   ]
  },
  {
   "cell_type": "code",
   "execution_count": 294,
   "metadata": {},
   "outputs": [
    {
     "data": {
      "text/plain": [
       "3-element Array{String,1}:\n",
       " \"Yuriko\"\n",
       " \"Tombo\" \n",
       " \"Sak\"   "
      ]
     },
     "execution_count": 294,
     "metadata": {},
     "output_type": "execute_result"
    }
   ],
   "source": [
    "nom_d = [\"Yuriko\", \"Tombo\", \"Sak\"]"
   ]
  },
  {
   "cell_type": "code",
   "execution_count": 310,
   "metadata": {
    "scrolled": true
   },
   "outputs": [
    {
     "data": {
      "text/plain": [
       "1×4 Array{String,2}:\n",
       " \"Yuriko\"  \"Tombo\"  \"Yuriko\"  \"Tombo\""
      ]
     },
     "execution_count": 310,
     "metadata": {},
     "output_type": "execute_result"
    }
   ],
   "source": [
    "nomuno=nom_d[uno]"
   ]
  },
  {
   "cell_type": "code",
   "execution_count": 298,
   "metadata": {
    "scrolled": true
   },
   "outputs": [
    {
     "data": {
      "text/plain": [
       "2-element Array{Int64,1}:\n",
       " 2\n",
       " 2"
      ]
     },
     "execution_count": 298,
     "metadata": {},
     "output_type": "execute_result"
    }
   ],
   "source": [
    "his=counts(uno)"
   ]
  },
  {
   "cell_type": "code",
   "execution_count": 313,
   "metadata": {},
   "outputs": [
    {
     "data": {
      "image/png": "[encoded data removed]"
     },
     "execution_count": 313,
     "metadata": {},
     "output_type": "execute_result"
    }
   ],
   "source": [
    "bar(nom_d,his)"
   ]
  },
  {
   "cell_type": "code",
   "execution_count": 308,
   "metadata": {},
   "outputs": [
    {
     "data": {
      "image/png": "[encoded data removed]"
     },
     "execution_count": 308,
     "metadata": {},
     "output_type": "execute_result"
    }
   ],
   "source": [
    "histogram(uno)\n",
    "    #legend=)\n",
    "#xticks=,\n",
    "#yticks=)\n",
    "\n"
   ]
  },
  {
   "cell_type": "code",
   "execution_count": 309,
   "metadata": {},
   "outputs": [
    {
     "name": "stdout",
     "output_type": "stream",
     "text": [
      "search: \u001b[0m\u001b[1mh\u001b[22m\u001b[0m\u001b[1mi\u001b[22m\u001b[0m\u001b[1ms\u001b[22m\u001b[0m\u001b[1mt\u001b[22m\u001b[0m\u001b[1mo\u001b[22m\u001b[0m\u001b[1mg\u001b[22m\u001b[0m\u001b[1mr\u001b[22m\u001b[0m\u001b[1ma\u001b[22m\u001b[0m\u001b[1mm\u001b[22m \u001b[0m\u001b[1mH\u001b[22m\u001b[0m\u001b[1mi\u001b[22m\u001b[0m\u001b[1ms\u001b[22m\u001b[0m\u001b[1mt\u001b[22m\u001b[0m\u001b[1mo\u001b[22m\u001b[0m\u001b[1mg\u001b[22m\u001b[0m\u001b[1mr\u001b[22m\u001b[0m\u001b[1ma\u001b[22m\u001b[0m\u001b[1mm\u001b[22m \u001b[0m\u001b[1mh\u001b[22m\u001b[0m\u001b[1mi\u001b[22m\u001b[0m\u001b[1ms\u001b[22m\u001b[0m\u001b[1mt\u001b[22m\u001b[0m\u001b[1mo\u001b[22m\u001b[0m\u001b[1mg\u001b[22m\u001b[0m\u001b[1mr\u001b[22m\u001b[0m\u001b[1ma\u001b[22m\u001b[0m\u001b[1mm\u001b[22m! \u001b[0m\u001b[1mh\u001b[22m\u001b[0m\u001b[1mi\u001b[22m\u001b[0m\u001b[1ms\u001b[22m\u001b[0m\u001b[1mt\u001b[22m\u001b[0m\u001b[1mo\u001b[22m\u001b[0m\u001b[1mg\u001b[22m\u001b[0m\u001b[1mr\u001b[22m\u001b[0m\u001b[1ma\u001b[22m\u001b[0m\u001b[1mm\u001b[22m2d \u001b[0m\u001b[1mh\u001b[22m\u001b[0m\u001b[1mi\u001b[22m\u001b[0m\u001b[1ms\u001b[22m\u001b[0m\u001b[1mt\u001b[22m\u001b[0m\u001b[1mo\u001b[22m\u001b[0m\u001b[1mg\u001b[22m\u001b[0m\u001b[1mr\u001b[22m\u001b[0m\u001b[1ma\u001b[22m\u001b[0m\u001b[1mm\u001b[22m2d!\n",
      "\n"
     ]
    },
    {
     "data": {
      "text/latex": [
       "\\begin{verbatim}\n",
       "histogram(x)\n",
       "histogram!(x)\n",
       "\\end{verbatim}\n",
       "Plot a histogram.\n",
       "\n",
       "\\section{Arguments}\n",
       "\\begin{itemize}\n",
       "\\item \\texttt{x}: AbstractVector of values to be binned\n",
       "\n",
       "\n",
       "\\item \\texttt{bins}: Integer, NTuple\\{2,Integer\\}, AbstractVector or          Symbol. Default is :auto (the Freedman-Diaconis rule). For          histogram-types, defines the approximate number of bins to aim for,          or the auto-binning algorithm to use (:sturges,          :sqrt, :rice, :scott or :fd). For fine-grained control          pass a Vector of break values, e.g. \\texttt{range(minimum(x),          stop = maximum(x), length = 25)}\n",
       "\n",
       "\n",
       "\\item \\texttt{weights}: Vector of weights for the values in \\texttt{x}, for weighted bin counts\n",
       "\n",
       "\n",
       "\\item \\texttt{normalize}: Bool or Symbol. Histogram normalization mode.               Possible values are: false/:none (no normalization,               default), true/:pdf (normalize to a discrete               Probability Density Function, where the total area of the               bins is 1), :probability (bin heights sum to 1)               and :density (the area of each bin, rather than               the height, is equal to the counts - useful for               uneven bin sizes).\n",
       "\n",
       "\n",
       "\\item \\texttt{bar\\_position}: Symbol.  Choose from \\texttt{:overlay} (default),                  \\texttt{:stack}.  (warning: May not be implemented fully)\n",
       "\n",
       "\n",
       "\\item \\texttt{bar\\_width}: nothing or Number. Width of bars in data               coordinates. When nothing, chooses based on x (or y when               \\texttt{orientation = :h}).\n",
       "\n",
       "\n",
       "\\item \\texttt{bar\\_edges}: Bool.  Align bars to edges (true), or centers               (the default)?\n",
       "\n",
       "\n",
       "\\item \\texttt{orientation}: Symbol.  Horizontal or vertical orientation                 for bar types.  Values \\texttt{:h}, \\texttt{:hor},                 \\texttt{:horizontal} correspond to horizontal (sideways,                 anchored to y-axis), and \\texttt{:v}, \\texttt{:vert}, and                 \\texttt{:vertical} correspond to vertical (the default).\n",
       "\n",
       "\\end{itemize}\n",
       "\\section{Example}\n",
       "\\begin{verbatim}\n",
       "julia> histogram([1,2,1,1,4,3,8],bins=0:8)\n",
       "\\end{verbatim}\n"
      ],
      "text/markdown": [
       "```\n",
       "histogram(x)\n",
       "histogram!(x)\n",
       "```\n",
       "\n",
       "Plot a histogram.\n",
       "\n",
       "# Arguments\n",
       "\n",
       "  * `x`: AbstractVector of values to be binned\n",
       "  * `bins`: Integer, NTuple{2,Integer}, AbstractVector or          Symbol. Default is :auto (the Freedman-Diaconis rule). For          histogram-types, defines the approximate number of bins to aim for,          or the auto-binning algorithm to use (:sturges,          :sqrt, :rice, :scott or :fd). For fine-grained control          pass a Vector of break values, e.g. `range(minimum(x),          stop = maximum(x), length = 25)`\n",
       "  * `weights`: Vector of weights for the values in `x`, for weighted bin counts\n",
       "  * `normalize`: Bool or Symbol. Histogram normalization mode.               Possible values are: false/:none (no normalization,               default), true/:pdf (normalize to a discrete               Probability Density Function, where the total area of the               bins is 1), :probability (bin heights sum to 1)               and :density (the area of each bin, rather than               the height, is equal to the counts - useful for               uneven bin sizes).\n",
       "  * `bar_position`: Symbol.  Choose from `:overlay` (default),                  `:stack`.  (warning: May not be implemented fully)\n",
       "  * `bar_width`: nothing or Number. Width of bars in data               coordinates. When nothing, chooses based on x (or y when               `orientation = :h`).\n",
       "  * `bar_edges`: Bool.  Align bars to edges (true), or centers               (the default)?\n",
       "  * `orientation`: Symbol.  Horizontal or vertical orientation                 for bar types.  Values `:h`, `:hor`,                 `:horizontal` correspond to horizontal (sideways,                 anchored to y-axis), and `:v`, `:vert`, and                 `:vertical` correspond to vertical (the default).\n",
       "\n",
       "# Example\n",
       "\n",
       "```julia-repl\n",
       "julia> histogram([1,2,1,1,4,3,8],bins=0:8)\n",
       "```\n"
      ],
      "text/plain": [
       "\u001b[36m  histogram(x)\u001b[39m\n",
       "\u001b[36m  histogram!(x)\u001b[39m\n",
       "\n",
       "  Plot a histogram.\n",
       "\n",
       "\u001b[1m  Arguments\u001b[22m\n",
       "\u001b[1m  ≡≡≡≡≡≡≡≡≡≡≡\u001b[22m\n",
       "\n",
       "    •    \u001b[36mx\u001b[39m: AbstractVector of values to be binned\n",
       "\n",
       "    •    \u001b[36mbins\u001b[39m: Integer, NTuple{2,Integer}, AbstractVector or Symbol.\n",
       "        Default is :auto (the Freedman-Diaconis rule). For\n",
       "        histogram-types, defines the approximate number of bins to aim\n",
       "        for, or the auto-binning algorithm to use (:sturges, :sqrt, :rice,\n",
       "        :scott or :fd). For fine-grained control pass a Vector of break\n",
       "        values, e.g. \u001b[36mrange(minimum(x),          stop = maximum(x), length\n",
       "        = 25)\u001b[39m\n",
       "\n",
       "    •    \u001b[36mweights\u001b[39m: Vector of weights for the values in \u001b[36mx\u001b[39m, for weighted bin\n",
       "        counts\n",
       "\n",
       "    •    \u001b[36mnormalize\u001b[39m: Bool or Symbol. Histogram normalization mode. Possible\n",
       "        values are: false/:none (no normalization, default), true/:pdf\n",
       "        (normalize to a discrete Probability Density Function, where the\n",
       "        total area of the bins is 1), :probability (bin heights sum to 1)\n",
       "        and :density (the area of each bin, rather than the height, is\n",
       "        equal to the counts - useful for uneven bin sizes).\n",
       "\n",
       "    •    \u001b[36mbar_position\u001b[39m: Symbol. Choose from \u001b[36m:overlay\u001b[39m (default), \u001b[36m:stack\u001b[39m.\n",
       "        (warning: May not be implemented fully)\n",
       "\n",
       "    •    \u001b[36mbar_width\u001b[39m: nothing or Number. Width of bars in data coordinates.\n",
       "        When nothing, chooses based on x (or y when \u001b[36morientation = :h\u001b[39m).\n",
       "\n",
       "    •    \u001b[36mbar_edges\u001b[39m: Bool. Align bars to edges (true), or centers (the\n",
       "        default)?\n",
       "\n",
       "    •    \u001b[36morientation\u001b[39m: Symbol. Horizontal or vertical orientation for bar\n",
       "        types. Values \u001b[36m:h\u001b[39m, \u001b[36m:hor\u001b[39m, \u001b[36m:horizontal\u001b[39m correspond to horizontal\n",
       "        (sideways, anchored to y-axis), and \u001b[36m:v\u001b[39m, \u001b[36m:vert\u001b[39m, and \u001b[36m:vertical\u001b[39m\n",
       "        correspond to vertical (the default).\n",
       "\n",
       "\u001b[1m  Example\u001b[22m\n",
       "\u001b[1m  ≡≡≡≡≡≡≡≡≡\u001b[22m\n",
       "\n",
       "\u001b[36m  julia> histogram([1,2,1,1,4,3,8],bins=0:8)\u001b[39m"
      ]
     },
     "execution_count": 309,
     "metadata": {},
     "output_type": "execute_result"
    }
   ],
   "source": [
    "?histogram"
   ]
  },
  {
   "cell_type": "code",
   "execution_count": 312,
   "metadata": {},
   "outputs": [
    {
     "name": "stdout",
     "output_type": "stream",
     "text": [
      "search: \u001b[0m\u001b[1mb\u001b[22m\u001b[0m\u001b[1ma\u001b[22m\u001b[0m\u001b[1mr\u001b[22m \u001b[0m\u001b[1mb\u001b[22m\u001b[0m\u001b[1ma\u001b[22m\u001b[0m\u001b[1mr\u001b[22mh \u001b[0m\u001b[1mb\u001b[22m\u001b[0m\u001b[1ma\u001b[22m\u001b[0m\u001b[1mr\u001b[22m! \u001b[0m\u001b[1mb\u001b[22m\u001b[0m\u001b[1ma\u001b[22m\u001b[0m\u001b[1mr\u001b[22mh! \u001b[0m\u001b[1mb\u001b[22m\u001b[0m\u001b[1ma\u001b[22m\u001b[0m\u001b[1mr\u001b[22mhist \u001b[0m\u001b[1mb\u001b[22m\u001b[0m\u001b[1ma\u001b[22m\u001b[0m\u001b[1mr\u001b[22mhist! \u001b[0m\u001b[1mb\u001b[22m\u001b[0m\u001b[1ma\u001b[22m\u001b[0m\u001b[1mr\u001b[22memodule Su\u001b[0m\u001b[1mb\u001b[22m\u001b[0m\u001b[1mA\u001b[22m\u001b[0m\u001b[1mr\u001b[22mray Glo\u001b[0m\u001b[1mb\u001b[22m\u001b[0m\u001b[1ma\u001b[22ml\u001b[0m\u001b[1mR\u001b[22mef\n",
      "\n"
     ]
    },
    {
     "data": {
      "text/latex": [
       "\\begin{verbatim}\n",
       "bar(x,y)\n",
       "bar!(x,y)\n",
       "\\end{verbatim}\n",
       "Make a bar plot of y vs x. \n",
       "\n",
       "\\section{Arguments}\n",
       "\\begin{itemize}\n",
       "\\item \\texttt{bar\\_position}: Symbol.  Choose from \\texttt{:overlay} (default),                  \\texttt{:stack}.  (warning: May not be implemented fully)\n",
       "\n",
       "\n",
       "\\item \\texttt{bar\\_width}: nothing or Number. Width of bars in data               coordinates. When nothing, chooses based on x (or y when               \\texttt{orientation = :h}).\n",
       "\n",
       "\n",
       "\\item \\texttt{bar\\_edges}: Bool.  Align bars to edges (true), or centers               (the default)?\n",
       "\n",
       "\n",
       "\\item \\texttt{orientation}: Symbol.  Horizontal or vertical orientation                 for bar types.  Values \\texttt{:h}, \\texttt{:hor},                 \\texttt{:horizontal} correspond to horizontal (sideways,                 anchored to y-axis), and \\texttt{:v}, \\texttt{:vert}, and                 \\texttt{:vertical} correspond to vertical (the default).\n",
       "\n",
       "\\end{itemize}\n",
       "\\section{Examples}\n",
       "\\begin{verbatim}\n",
       "julia> bar([1,2,3],[4,5,6],fillcolor=[:red,:green,:blue],fillalpha=[0.2,0.4,0.6])\n",
       "julia> bar([(1,4),(2,5),(3,6)])\n",
       "\\end{verbatim}\n"
      ],
      "text/markdown": [
       "```\n",
       "bar(x,y)\n",
       "bar!(x,y)\n",
       "```\n",
       "\n",
       "Make a bar plot of y vs x. \n",
       "\n",
       "# Arguments\n",
       "\n",
       "  * `bar_position`: Symbol.  Choose from `:overlay` (default),                  `:stack`.  (warning: May not be implemented fully)\n",
       "  * `bar_width`: nothing or Number. Width of bars in data               coordinates. When nothing, chooses based on x (or y when               `orientation = :h`).\n",
       "  * `bar_edges`: Bool.  Align bars to edges (true), or centers               (the default)?\n",
       "  * `orientation`: Symbol.  Horizontal or vertical orientation                 for bar types.  Values `:h`, `:hor`,                 `:horizontal` correspond to horizontal (sideways,                 anchored to y-axis), and `:v`, `:vert`, and                 `:vertical` correspond to vertical (the default).\n",
       "\n",
       "# Examples\n",
       "\n",
       "```julia-repl\n",
       "julia> bar([1,2,3],[4,5,6],fillcolor=[:red,:green,:blue],fillalpha=[0.2,0.4,0.6])\n",
       "julia> bar([(1,4),(2,5),(3,6)])\n",
       "```\n"
      ],
      "text/plain": [
       "\u001b[36m  bar(x,y)\u001b[39m\n",
       "\u001b[36m  bar!(x,y)\u001b[39m\n",
       "\n",
       "  Make a bar plot of y vs x. \n",
       "\n",
       "\u001b[1m  Arguments\u001b[22m\n",
       "\u001b[1m  ≡≡≡≡≡≡≡≡≡≡≡\u001b[22m\n",
       "\n",
       "    •    \u001b[36mbar_position\u001b[39m: Symbol. Choose from \u001b[36m:overlay\u001b[39m (default), \u001b[36m:stack\u001b[39m.\n",
       "        (warning: May not be implemented fully)\n",
       "\n",
       "    •    \u001b[36mbar_width\u001b[39m: nothing or Number. Width of bars in data coordinates.\n",
       "        When nothing, chooses based on x (or y when \u001b[36morientation = :h\u001b[39m).\n",
       "\n",
       "    •    \u001b[36mbar_edges\u001b[39m: Bool. Align bars to edges (true), or centers (the\n",
       "        default)?\n",
       "\n",
       "    •    \u001b[36morientation\u001b[39m: Symbol. Horizontal or vertical orientation for bar\n",
       "        types. Values \u001b[36m:h\u001b[39m, \u001b[36m:hor\u001b[39m, \u001b[36m:horizontal\u001b[39m correspond to horizontal\n",
       "        (sideways, anchored to y-axis), and \u001b[36m:v\u001b[39m, \u001b[36m:vert\u001b[39m, and \u001b[36m:vertical\u001b[39m\n",
       "        correspond to vertical (the default).\n",
       "\n",
       "\u001b[1m  Examples\u001b[22m\n",
       "\u001b[1m  ≡≡≡≡≡≡≡≡≡≡\u001b[22m\n",
       "\n",
       "\u001b[36m  julia> bar([1,2,3],[4,5,6],fillcolor=[:red,:green,:blue],fillalpha=[0.2,0.4,0.6])\u001b[39m\n",
       "\u001b[36m  julia> bar([(1,4),(2,5),(3,6)])\u001b[39m"
      ]
     },
     "execution_count": 312,
     "metadata": {},
     "output_type": "execute_result"
    }
   ],
   "source": [
    "?bar"
   ]
  },
  {
   "cell_type": "markdown",
   "metadata": {},
   "source": [
    "## "
   ]
  }
 ],
 "metadata": {
  "kernelspec": {
   "display_name": "Julia 1.1.0",
   "language": "julia",
   "name": "julia-1.1"
  },
  "language_info": {
   "file_extension": ".jl",
   "mimetype": "application/julia",
   "name": "julia",
   "version": "1.1.0"
  }
 },
 "nbformat": 4,
 "nbformat_minor": 2
}
