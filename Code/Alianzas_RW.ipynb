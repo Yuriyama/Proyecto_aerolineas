{
 "cells": [
  {
   "cell_type": "markdown",
   "metadata": {},
   "source": [
    "# Random Walks en Alianzas de Aerolíneas"
   ]
  },
  {
   "cell_type": "code",
   "execution_count": 19,
   "metadata": {},
   "outputs": [],
   "source": [
    "using StatsBase"
   ]
  },
  {
   "cell_type": "code",
   "execution_count": 21,
   "metadata": {},
   "outputs": [],
   "source": [
    "using DelimitedFiles"
   ]
  },
  {
   "cell_type": "code",
   "execution_count": 43,
   "metadata": {},
   "outputs": [],
   "source": [
    "using Plots"
   ]
  },
  {
   "cell_type": "code",
   "execution_count": 23,
   "metadata": {},
   "outputs": [],
   "source": [
    "cd(\"$(homedir())/Documents/UNAM/Tesis_Lic\")"
   ]
  },
  {
   "cell_type": "code",
   "execution_count": 1,
   "metadata": {},
   "outputs": [
    {
     "data": {
      "text/plain": [
       "n_in_degree (generic function with 1 method)"
      ]
     },
     "execution_count": 1,
     "metadata": {},
     "output_type": "execute_result"
    }
   ],
   "source": [
    "\"\"\"\n",
    "n_in_degree(M, n)\n",
    "\n",
    "Función que obtiene el grado de entrada de un cierto nodo n de la red representada por la matriz de adyacencia M.\n",
    "\n",
    "Parámetros:\n",
    "* M matriz de adyacencia que acepta un arreglo de tipo Array{Int64,2}\n",
    "* n nodo a evaluar de tipo Int64\n",
    "\n",
    "Resultado:\n",
    "Grado de entrada del nodo n representado por un valor numérico de tipo Int64\n",
    "\n",
    "## Implementación\n",
    "\n",
    "### Ejemplos\n",
    "\"\"\"\n",
    "\n",
    "function n_in_degree(M::Array{Int64,2}, n::Int64)\n",
    "    grado_entrada = sum(M[n, :])\n",
    "end"
   ]
  },
  {
   "cell_type": "code",
   "execution_count": 2,
   "metadata": {},
   "outputs": [
    {
     "data": {
      "text/plain": [
       "in_degree (generic function with 1 method)"
      ]
     },
     "execution_count": 2,
     "metadata": {},
     "output_type": "execute_result"
    }
   ],
   "source": [
    "\"\"\"\n",
    "in_degree(M)\n",
    "\n",
    "Función que obtiene el grado de entrada de una red representada por la matriz de adyacencia M.\n",
    "\n",
    "Parámetros:\n",
    "* M matriz de adyacencia que acepta un arreglo de tipo Array{Int64,2}\n",
    "\n",
    "Resultado:\n",
    "Devuelve un arreglo de tipo Array{Int64,2} que contiene los grados de entrada de todos los nodos n de la red.\n",
    "\n",
    "## Implementación\n",
    "\n",
    "### Ejemplos\n",
    "\"\"\"\n",
    "\n",
    "function in_degree(M::Array)\n",
    "    grados_entrada = sum(M, dims = 2)\n",
    "end"
   ]
  },
  {
   "cell_type": "code",
   "execution_count": 3,
   "metadata": {},
   "outputs": [
    {
     "data": {
      "text/plain": [
       "n_out_degree (generic function with 1 method)"
      ]
     },
     "execution_count": 3,
     "metadata": {},
     "output_type": "execute_result"
    }
   ],
   "source": [
    "\"\"\"\n",
    "n_out_degree(M, n)\n",
    "\n",
    "Función que obtiene el grado de salida de un cierto nodo n de la red representada por la matriz de adyacencia M.\n",
    "\n",
    "Parámetros:\n",
    "* M matriz de adyacencia que acepta un arreglo de tipo Array{Int64,2}\n",
    "* n nodo a evaluar de tipo Int64\n",
    "\n",
    "Resultado:\n",
    "Grado de salida del nodo n representado por un valor numérico de tipo Int64\n",
    "\n",
    "## Implementación\n",
    "\n",
    "### Ejemplos\n",
    "\"\"\"\n",
    "\n",
    "function n_out_degree(M::Array{Int64,2}, n::Int64)\n",
    "    grado_salida = sum(M[:, n])\n",
    "end"
   ]
  },
  {
   "cell_type": "code",
   "execution_count": 4,
   "metadata": {},
   "outputs": [
    {
     "data": {
      "text/plain": [
       "out_degree (generic function with 1 method)"
      ]
     },
     "execution_count": 4,
     "metadata": {},
     "output_type": "execute_result"
    }
   ],
   "source": [
    "\"\"\"\n",
    "out_degree(M)\n",
    "\n",
    "Función que obtiene el grado de salida de una red representada por la matriz de adyacencia M.\n",
    "\n",
    "Parámetros:\n",
    "* M matriz de adyacencia que acepta un arreglo de tipo Array{Int64,2}\n",
    "\n",
    "Resultado:\n",
    "Devuelve un arreglo de tipo Array{Int64,2} que contiene los grados de salida de todos los nodos n de la red.\n",
    "\n",
    "## Implementación\n",
    "\n",
    "### Ejemplos\n",
    "\"\"\"\n",
    "\n",
    "function out_degree(M::Array)\n",
    "    grados_salida = sum(M, dims = 1)\n",
    "end"
   ]
  },
  {
   "cell_type": "code",
   "execution_count": 5,
   "metadata": {},
   "outputs": [
    {
     "data": {
      "text/plain": [
       "r_walks (generic function with 1 method)"
      ]
     },
     "execution_count": 5,
     "metadata": {},
     "output_type": "execute_result"
    }
   ],
   "source": [
    "\"\"\"\n",
    "La función r_walks tiene como parámetros:\n",
    "M, matriz de adyacencia de tipo Array{Int64,2}\n",
    "f, nodo inicial de tipo Int64\n",
    "steps, número de pasos de tipo Int64\n",
    "iter, número de iteraciones de tipo Int64.\n",
    "La función crea un caminante aleatorio sobre la matriz, el cual tiene igual probabilidad de avanzar \n",
    "hacia cualquiera de sus vecinos.\n",
    "Regresa un arreglo que contiene todas las trayectorias que tomó el caminante aleatorio.\n",
    "\"\"\"\n",
    "\n",
    "function r_walks(M::Array{Int64,2}, f::Int64, steps::Int64, iter::Int64)\n",
    "    nodos = size(M, 1) #aeropuertos  \n",
    "    paths = zeros(Int64, (iter, steps + 1))\n",
    "    s = f\n",
    "\n",
    "    for i in 1:iter\n",
    "        paths[i, 1] = f\n",
    "        for p in 1:steps \n",
    "            row = M[s, :] #Renglón correspondiente al nodo s\n",
    "            vecinos = findall(x -> x != 0, row)\n",
    "            if vecinos == []\n",
    "                break\n",
    "            else\n",
    "                a = sample(vecinos)\n",
    "                paths[i, p + 1] = a\n",
    "            s = a\n",
    "            end\n",
    "        end\n",
    "        s = f\n",
    "    end\n",
    "    return paths \n",
    "end"
   ]
  },
  {
   "cell_type": "code",
   "execution_count": 6,
   "metadata": {},
   "outputs": [
    {
     "data": {
      "text/plain": [
       "random_walk (generic function with 1 method)"
      ]
     },
     "execution_count": 6,
     "metadata": {},
     "output_type": "execute_result"
    }
   ],
   "source": [
    "\"\"\"\n",
    "La función random_walk tiene como parámetros:\n",
    "M, matriz de adyacencia de tipo Array{Int64,2}\n",
    "steps, número de pasos de tipo Int64\n",
    "iter, número de iteraciones de tipo Int64.\n",
    "La función crea un caminante aleatorio sobre la matriz con igual probabilidad de avanzar \n",
    "hacia cualquiera de sus vecinos. Esta función recorre todos los nodos de la red como\n",
    "nodos iniciales y sobre ellos itera para obtener el número de caminos que se le pidió.\n",
    "Regresa un arreglo que contiene arreglos asociados a todas las trayectorias que tomó el \n",
    "caminante aleatorio para cada nodo inicial de la red.\n",
    "\"\"\"\n",
    "\n",
    "function random_walk(M::Array{Int64,2}, steps::Int64, iter::Int64) #Debo agregarle el nodo inicial al inicio del path\n",
    "    random_walks = []\n",
    "    nodos = size(M, 1)\n",
    "    for f in 1:nodos #aeropuertos\n",
    "        paths = r_walks(M, f, steps, iter)\n",
    "        push!(random_walks, paths)\n",
    "    end\n",
    "    random_walks\n",
    "end"
   ]
  },
  {
   "cell_type": "code",
   "execution_count": 7,
   "metadata": {},
   "outputs": [
    {
     "data": {
      "text/plain": [
       "walk_length (generic function with 1 method)"
      ]
     },
     "execution_count": 7,
     "metadata": {},
     "output_type": "execute_result"
    }
   ],
   "source": [
    "function walk_length(W)\n",
    "    \n",
    "    longitudes = Array[]\n",
    "    c = 0\n",
    "    v = length(W) #tamaño de la matriz, número de nodos\n",
    "    s = size(W[1], 1) #lo puedo sacar, para todos es el mismo. Es el número de iteraciones\n",
    "    t = size(W[1], 2) #número de pasos\n",
    "    longz = zeros(Int64, s) #Arreglo de ceros de tamaño número de iteraciones\n",
    "    \n",
    "    for i in 1:v\n",
    "        #@show i\n",
    "        for j in 1:s\n",
    "            #@show j\n",
    "            for k in 1:t\n",
    "                #@show k\n",
    "                \n",
    "                if W[i][j, :][k] != 0 #W[i][j, :] #renglón a analizar\n",
    "                    c += 1 \n",
    "                else\n",
    "                    break\n",
    "                    \n",
    "                    #@show c\n",
    "                    \n",
    "                    #@show long #ant[i][j] = W[i][j, :][k - 1]\n",
    "                    \n",
    "                end\n",
    "                \n",
    "            end\n",
    "            longz[j] = c - 1\n",
    "            #@show longz[j]\n",
    "            c = 0\n",
    "            \n",
    "        end\n",
    "        push!(longitudes, longz)\n",
    "        #@show longitudes\n",
    "        longz = zeros(Int64, s) #Arreglo de ceros de tamaño número de iteraciones\n",
    "    end\n",
    "    return longitudes\n",
    "end"
   ]
  },
  {
   "cell_type": "code",
   "execution_count": 8,
   "metadata": {},
   "outputs": [
    {
     "data": {
      "text/plain": [
       "walk_av_length (generic function with 1 method)"
      ]
     },
     "execution_count": 8,
     "metadata": {},
     "output_type": "execute_result"
    }
   ],
   "source": [
    "\"\"\"\n",
    "La función walk_av_length tiene como parámetro W, que es un arreglo de arreglos (que se puede obtener de la \n",
    "función walk_length). \n",
    "Regresa un arreglo con entradas correspondientes al promedio de las longitudes de \n",
    "las caminatas aleatorias para cada nodo de inicio antes de caer en un nodo con grado de salida 0.\n",
    "\"\"\"\n",
    "\n",
    "function walk_av_length(W) #Llamar a función\n",
    "    \n",
    "    proms = []\n",
    "    wlength = walk_length(W)\n",
    "    \n",
    "    for i in 1:length(wlength)\n",
    "        av = mean(wlength[i])\n",
    "        push!(proms, av)\n",
    "    end\n",
    "    proms\n",
    "end"
   ]
  },
  {
   "cell_type": "code",
   "execution_count": 9,
   "metadata": {},
   "outputs": [
    {
     "data": {
      "text/plain": [
       "n_cobertura (generic function with 1 method)"
      ]
     },
     "execution_count": 9,
     "metadata": {},
     "output_type": "execute_result"
    }
   ],
   "source": [
    "\"\"\"\n",
    "La función n_cobertura tiene como parámetro W que es un arreglo de arreglos.\n",
    "Regresa los nodos diferentes a los que llega el caminante.\n",
    "\"\"\"\n",
    "\n",
    "function n_cobertura(W)\n",
    "    \n",
    "    cobert = []\n",
    "    v = length(W) #tamaño de la matriz, número de nodos\n",
    "    s = size(W[1], 1) #lo puedo sacar, para todos es el mismo. Es el número de iteraciones\n",
    "    t = size(W[1], 2) #número de pasos\n",
    "    #visit = zeros(Int64, s) #Arreglo de ceros de tamaño número de iteraciones\n",
    "    visit = []\n",
    "    \n",
    "    for i in 1:v        \n",
    "        for j in 1:s\n",
    "            u = unique(W[i][j, :])\n",
    "            push!(visit, u)\n",
    "        end\n",
    "        push!(cobert, visit)\n",
    "        visit = []\n",
    "    end\n",
    "    return cobert\n",
    "end"
   ]
  },
  {
   "cell_type": "code",
   "execution_count": 10,
   "metadata": {},
   "outputs": [
    {
     "data": {
      "text/plain": [
       "cobertura (generic function with 1 method)"
      ]
     },
     "execution_count": 10,
     "metadata": {},
     "output_type": "execute_result"
    }
   ],
   "source": [
    "\"\"\"\n",
    "La función cobertura tiene como parámetro W que es un arreglo de arreglos.\n",
    "Regresa el número de nodos diferentes a los que llega el caminante.\n",
    "\"\"\"\n",
    "\n",
    "#Tal vez falta llamar dentro de la función a la función n_cobertura\n",
    "\n",
    "function cobertura(W) \n",
    "    \n",
    "    cobert = []\n",
    "    \n",
    "    v = length(W) #tamaño de la matriz, número de nodos\n",
    "    x = n_cobertura(W)\n",
    "    s = size(x[1], 1) #lo puedo sacar, para todos es el mismo. Es el número de iteraciones\n",
    "    longz = zeros(Int64, s) #Arreglo de ceros de tamaño número de iteraciones\n",
    "    \n",
    "    for i in 1:v        \n",
    "        for j in 1:s\n",
    "            l = length(x[i][j])\n",
    "            longz[j] = l\n",
    "        end\n",
    "        push!(cobert, longz)\n",
    "        longz = zeros(Int64, s)\n",
    "    end\n",
    "    return cobert\n",
    "end"
   ]
  },
  {
   "cell_type": "code",
   "execution_count": 11,
   "metadata": {},
   "outputs": [
    {
     "data": {
      "text/plain": [
       "n_length_av (generic function with 1 method)"
      ]
     },
     "execution_count": 11,
     "metadata": {},
     "output_type": "execute_result"
    }
   ],
   "source": [
    "\"\"\"\n",
    "\n",
    "\"\"\"\n",
    "\n",
    "#Tal vez falta llamar dentro de la función a la función n_cobertura y cobertura\n",
    "\n",
    "function n_length_av(W) #Esta es la importante\n",
    "    \n",
    "    longitud = []\n",
    "    x = cobertura(W)\n",
    "    \n",
    "    for i in 1:length(x)\n",
    "        l = mean(x[i])\n",
    "        push!(longitud, l)\n",
    "    end\n",
    "    longitud\n",
    "end"
   ]
  },
  {
   "cell_type": "code",
   "execution_count": 12,
   "metadata": {},
   "outputs": [
    {
     "data": {
      "text/plain": [
       "length_av (generic function with 1 method)"
      ]
     },
     "execution_count": 12,
     "metadata": {},
     "output_type": "execute_result"
    }
   ],
   "source": [
    "\"\"\"\n",
    "\n",
    "\"\"\"\n",
    "\n",
    "#Tal vez falta llamar dentro de la función a la función n_cobertura y cobertura y n_length_av\n",
    "\n",
    "function length_av(W)\n",
    "    x = n_length_av(W)\n",
    "    promedio = mean(x)\n",
    "    return promedio\n",
    "\n",
    "end"
   ]
  },
  {
   "cell_type": "code",
   "execution_count": 13,
   "metadata": {},
   "outputs": [
    {
     "data": {
      "text/plain": [
       "max_length (generic function with 1 method)"
      ]
     },
     "execution_count": 13,
     "metadata": {},
     "output_type": "execute_result"
    }
   ],
   "source": [
    "\"\"\"\n",
    "\n",
    "\"\"\"\n",
    "\n",
    "\n",
    "function max_length(W)\n",
    "    max = []\n",
    "    x = cobertura(W)\n",
    "    for i in 1:length(x)\n",
    "        m = maximum(x[i])\n",
    "        push!(max, m)\n",
    "    end\n",
    "    max\n",
    "end"
   ]
  },
  {
   "cell_type": "code",
   "execution_count": 14,
   "metadata": {},
   "outputs": [
    {
     "data": {
      "text/plain": [
       "Max_length (generic function with 1 method)"
      ]
     },
     "execution_count": 14,
     "metadata": {},
     "output_type": "execute_result"
    }
   ],
   "source": [
    "\"\"\"\n",
    "\n",
    "\"\"\"\n",
    "\n",
    "#Tal vez falta llamar dentro de la función a la función n_cobertura y cobertura\n",
    "\n",
    "function Max_length(W)\n",
    "    x = max_length(W)\n",
    "    m = maximum(x)\n",
    "    return m\n",
    "end"
   ]
  },
  {
   "cell_type": "code",
   "execution_count": 15,
   "metadata": {},
   "outputs": [
    {
     "data": {
      "text/plain": [
       "av_max_length (generic function with 1 method)"
      ]
     },
     "execution_count": 15,
     "metadata": {},
     "output_type": "execute_result"
    }
   ],
   "source": [
    "\"\"\"\n",
    "\n",
    "\"\"\"\n",
    "\n",
    "#Tal vez falta llamar dentro de la función a la función n_cobertura y cobertura\n",
    "\n",
    "function av_max_length(W)\n",
    "    x = max_length(W)\n",
    "    prom = mean(x)\n",
    "    return prom\n",
    "end"
   ]
  },
  {
   "cell_type": "code",
   "execution_count": 16,
   "metadata": {},
   "outputs": [
    {
     "data": {
      "text/plain": [
       "min_length (generic function with 1 method)"
      ]
     },
     "execution_count": 16,
     "metadata": {},
     "output_type": "execute_result"
    }
   ],
   "source": [
    "\"\"\"\n",
    "\n",
    "\"\"\"\n",
    "\n",
    "#Tal vez falta llamar dentro de la función a la función n_cobertura y cobertura\n",
    "\n",
    "function min_length(W)\n",
    "    min = []\n",
    "    x = cobertura(W)\n",
    "    for i in 1:length(x)\n",
    "        m = minimum(x[i])\n",
    "        push!(min, m)\n",
    "    end\n",
    "    min\n",
    "end"
   ]
  },
  {
   "cell_type": "code",
   "execution_count": 17,
   "metadata": {},
   "outputs": [
    {
     "data": {
      "text/plain": [
       "Min_length (generic function with 1 method)"
      ]
     },
     "execution_count": 17,
     "metadata": {},
     "output_type": "execute_result"
    }
   ],
   "source": [
    "\"\"\"\n",
    "\n",
    "\"\"\"\n",
    "\n",
    "#Tal vez falta llamar dentro de la función a la función n_cobertura y cobertura\n",
    "\n",
    "function Min_length(W)\n",
    "    x = min_length(W)\n",
    "    m = minimum(x)\n",
    "    return m\n",
    "end"
   ]
  },
  {
   "cell_type": "code",
   "execution_count": 18,
   "metadata": {},
   "outputs": [
    {
     "data": {
      "text/plain": [
       "av_min_length (generic function with 1 method)"
      ]
     },
     "execution_count": 18,
     "metadata": {},
     "output_type": "execute_result"
    }
   ],
   "source": [
    "\"\"\"\n",
    "\n",
    "\"\"\"\n",
    "\n",
    "#Tal vez falta llamar dentro de la función a la función n_cobertura y cobertura\n",
    "\n",
    "function av_min_length(W)\n",
    "    x = min_length(W)\n",
    "    prom = mean(x)\n",
    "    return prom\n",
    "end"
   ]
  },
  {
   "cell_type": "code",
   "execution_count": null,
   "metadata": {},
   "outputs": [],
   "source": [
    "function atractor(W) #Debo llamar a walks\n",
    "   atractores = []\n",
    "    v = length(W) #tamaño de la matriz, número de nodos\n",
    "    s = size(W[1], 1) #lo puedo sacar, para todos es el mismo. Es el número de iteraciones\n",
    "    t = size(W[1], 2) #número de pasos\n",
    "    #visit = zeros(Int64, s) #Arreglo de ceros de tamaño número de iteraciones\n",
    "    visit = []\n",
    "    \n",
    "    for i in 1:v        \n",
    "        for j in 1:s\n",
    "            if \n",
    "            a = W[i][j, :])\n",
    "            push!(visit, u)\n",
    "        end\n",
    "        push!(cobert, visit)\n",
    "        visit = []\n",
    "    end\n",
    "    return cobert\n",
    "end"
   ]
  },
  {
   "cell_type": "markdown",
   "metadata": {},
   "source": [
    "## Datos"
   ]
  },
  {
   "cell_type": "code",
   "execution_count": 24,
   "metadata": {},
   "outputs": [],
   "source": [
    "mSA = readdlm(\"data/multi_SA_du.csv\", ',');"
   ]
  },
  {
   "cell_type": "code",
   "execution_count": 25,
   "metadata": {},
   "outputs": [],
   "source": [
    "multiSA = mSA[2:end, :];\n",
    "multiSA = multiSA[:, 2:end];"
   ]
  },
  {
   "cell_type": "code",
   "execution_count": 26,
   "metadata": {},
   "outputs": [
    {
     "data": {
      "text/plain": [
       "934×934 Array{Int64,2}:\n",
       " 0  0  1  0  0  0  0  0  0  0  0  0  0  …  0  0  0  0  0  0  0  0  0  0  0  0\n",
       " 0  0  1  0  0  1  0  0  1  0  0  1  0     0  0  0  0  0  0  0  0  0  0  0  0\n",
       " 1  1  0  1  1  1  1  0  1  1  1  1  1     0  0  0  0  0  0  0  0  0  0  0  0\n",
       " 0  0  1  0  0  0  0  0  0  0  1  0  0     0  0  0  0  0  0  0  0  0  0  0  0\n",
       " 0  0  1  0  0  0  0  0  0  0  0  0  0     0  0  0  0  0  0  0  0  0  0  0  0\n",
       " 0  1  1  0  0  0  0  0  1  0  1  0  0  …  0  0  0  0  0  0  0  0  0  0  0  0\n",
       " 0  0  1  0  0  0  0  0  0  0  0  0  0     0  0  0  0  0  0  0  0  0  0  0  0\n",
       " 0  0  0  0  0  0  0  0  0  0  0  0  0     0  0  0  0  0  0  0  0  0  0  0  0\n",
       " 0  1  1  0  0  1  0  0  0  1  1  1  0     0  0  0  0  0  0  0  0  0  0  0  0\n",
       " 0  0  1  0  0  0  0  0  1  0  1  0  0     0  0  0  0  0  0  0  0  0  0  0  0\n",
       " 0  0  1  1  0  1  0  0  1  1  0  1  0  …  0  0  0  0  0  0  0  0  0  0  0  0\n",
       " 0  1  1  0  0  0  0  0  1  0  1  0  0     0  0  0  0  0  0  0  0  0  0  0  0\n",
       " 0  0  1  0  0  0  0  0  0  0  0  0  0     0  0  0  0  0  0  0  0  0  0  0  0\n",
       " ⋮              ⋮              ⋮        ⋱           ⋮              ⋮         \n",
       " 0  0  0  0  0  0  0  0  0  0  0  0  0     0  0  0  0  0  0  0  0  0  0  0  0\n",
       " 0  0  0  0  0  0  0  0  0  0  0  0  0     0  0  0  0  0  0  0  0  0  0  0  0\n",
       " 0  0  0  0  0  0  0  0  0  0  0  0  0     0  0  0  0  0  0  0  0  0  0  0  0\n",
       " 0  0  0  0  0  0  0  0  0  0  0  0  0  …  0  0  0  0  0  0  0  0  0  0  0  0\n",
       " 0  0  0  0  0  0  0  0  0  0  0  0  0     0  0  0  0  0  0  0  0  0  0  0  0\n",
       " 0  0  0  0  0  0  0  0  0  0  0  0  0     0  0  0  0  0  0  0  0  0  0  0  0\n",
       " 0  0  0  0  0  0  0  0  0  0  0  0  0     0  0  0  0  0  0  0  0  0  0  0  0\n",
       " 0  0  0  0  0  0  0  0  0  0  0  0  0     0  0  0  0  0  0  0  0  0  0  0  0\n",
       " 0  0  0  0  0  0  0  0  0  0  0  0  0  …  0  0  0  0  0  0  0  0  0  0  0  0\n",
       " 0  0  0  0  0  0  0  0  0  0  0  0  0     0  0  0  0  0  0  0  0  0  0  0  0\n",
       " 0  0  0  0  0  0  0  0  0  0  0  0  0     0  0  0  0  0  0  0  0  0  0  0  0\n",
       " 0  0  0  0  0  0  0  0  0  0  0  0  0     0  0  0  0  0  0  0  0  0  0  0  0"
      ]
     },
     "execution_count": 26,
     "metadata": {},
     "output_type": "execute_result"
    }
   ],
   "source": [
    "multiplexSA = convert(Array{Int64,2}, multiSA)"
   ]
  },
  {
   "cell_type": "code",
   "execution_count": 27,
   "metadata": {},
   "outputs": [],
   "source": [
    "mOW = readdlm(\"data/multi_OW_du.csv\", ',');"
   ]
  },
  {
   "cell_type": "code",
   "execution_count": 28,
   "metadata": {},
   "outputs": [],
   "source": [
    "multiOW = mOW[2:end, :];\n",
    "multiOW = multiOW[:, 2:end];"
   ]
  },
  {
   "cell_type": "code",
   "execution_count": 29,
   "metadata": {},
   "outputs": [
    {
     "data": {
      "text/plain": [
       "698×698 Array{Int64,2}:\n",
       " 0  1  1  0  0  0  0  0  0  0  1  0  0  …  0  0  0  0  0  0  0  0  0  0  0  0\n",
       " 1  0  1  0  0  0  0  0  0  1  1  0  1     0  0  0  0  0  0  0  0  0  0  0  0\n",
       " 1  1  0  0  0  0  0  0  0  1  0  0  0     0  0  0  0  0  0  0  0  0  0  0  0\n",
       " 0  0  0  0  0  0  0  0  0  0  0  0  0     0  0  0  0  0  0  0  0  0  0  0  0\n",
       " 0  0  0  0  0  0  0  0  0  0  0  0  0     0  0  0  0  0  0  0  0  0  0  0  0\n",
       " 0  0  0  0  0  0  0  0  0  0  0  0  0  …  0  0  0  0  0  0  0  0  0  0  0  0\n",
       " 0  0  0  0  0  0  0  0  0  0  0  0  0     0  0  0  0  0  0  0  0  0  0  0  0\n",
       " 0  0  0  0  0  0  0  0  0  0  0  0  0     0  0  0  0  0  0  0  0  0  0  0  0\n",
       " 0  0  0  0  0  0  0  0  0  0  0  0  0     0  0  0  0  0  0  0  0  0  0  0  0\n",
       " 0  1  1  0  0  0  0  0  0  0  0  0  0     0  0  0  0  0  0  0  0  0  0  0  0\n",
       " 1  1  0  0  0  0  0  0  0  0  0  0  0  …  0  0  0  0  0  0  0  0  0  0  0  0\n",
       " 0  0  0  0  0  0  0  0  0  0  0  0  0     0  0  0  0  0  0  0  0  0  0  0  0\n",
       " 0  1  0  0  0  0  0  0  0  0  0  0  0     0  0  0  0  0  0  0  0  0  0  0  0\n",
       " ⋮              ⋮              ⋮        ⋱              ⋮              ⋮      \n",
       " 0  0  0  0  0  0  0  0  0  0  0  0  0     0  0  0  0  0  0  0  0  0  0  0  0\n",
       " 0  0  0  0  0  0  0  0  0  0  0  0  0     0  0  0  0  0  0  0  0  0  0  0  0\n",
       " 0  0  0  0  0  0  0  0  0  0  0  0  0     0  0  0  0  0  0  0  0  0  0  0  0\n",
       " 0  0  0  0  0  0  0  0  0  0  0  0  0     0  0  0  0  0  0  0  0  0  0  0  0\n",
       " 0  0  0  0  0  0  0  0  0  0  0  0  0  …  0  0  0  0  0  0  0  0  0  0  0  0\n",
       " 0  0  0  0  0  0  0  0  0  0  0  0  0     0  0  0  0  0  0  0  0  0  0  0  0\n",
       " 0  0  0  0  0  0  0  0  0  0  0  0  0     0  0  0  0  0  0  0  0  0  0  0  0\n",
       " 0  0  0  0  0  0  0  0  0  0  0  0  0     0  0  0  0  0  0  0  0  0  0  0  0\n",
       " 0  0  0  0  0  0  0  0  0  0  0  0  0     0  0  0  0  0  0  0  0  0  0  0  0\n",
       " 0  0  0  0  0  0  0  0  0  0  0  0  0  …  0  0  0  0  0  0  0  0  0  0  0  0\n",
       " 0  0  0  0  0  0  0  0  0  0  0  0  0     0  0  0  0  0  0  0  0  0  0  0  0\n",
       " 0  0  0  0  0  0  0  0  0  0  0  0  0     0  0  0  0  0  0  0  0  0  0  0  0"
      ]
     },
     "execution_count": 29,
     "metadata": {},
     "output_type": "execute_result"
    }
   ],
   "source": [
    "multiplexOW = convert(Array{Int64,2}, multiOW)"
   ]
  },
  {
   "cell_type": "code",
   "execution_count": 30,
   "metadata": {},
   "outputs": [],
   "source": [
    "mST = readdlm(\"data/multi_ST_du.csv\", ',');"
   ]
  },
  {
   "cell_type": "code",
   "execution_count": 31,
   "metadata": {},
   "outputs": [],
   "source": [
    "multiST = mST[2:end, :];\n",
    "multiST = multiST[:, 2:end];"
   ]
  },
  {
   "cell_type": "code",
   "execution_count": 32,
   "metadata": {},
   "outputs": [
    {
     "data": {
      "text/plain": [
       "900×900 Array{Int64,2}:\n",
       " 0  0  0  0  0  0  0  0  0  0  0  0  0  …  0  0  0  0  0  0  0  0  0  0  0  0\n",
       " 0  0  0  0  0  0  0  0  0  0  1  0  0     0  0  0  0  0  0  0  0  0  0  0  0\n",
       " 0  0  0  0  0  0  0  1  1  0  0  1  0     0  0  0  0  0  0  0  0  0  0  0  0\n",
       " 0  0  0  0  0  0  0  0  0  0  0  0  0     0  0  0  0  0  0  0  0  0  0  0  0\n",
       " 0  0  0  0  0  0  0  0  0  0  0  0  0     0  0  0  0  0  0  0  0  0  0  0  0\n",
       " 0  0  0  0  0  0  0  0  0  0  0  0  0  …  0  0  0  0  0  0  0  0  0  0  0  0\n",
       " 0  0  0  0  0  0  0  0  0  0  0  0  0     0  0  0  0  0  0  0  0  0  0  0  0\n",
       " 0  0  1  0  0  0  0  0  0  0  0  0  0     0  0  0  0  0  0  0  0  0  0  0  0\n",
       " 0  0  1  0  0  0  0  0  0  0  0  0  0     0  0  0  0  0  0  0  0  0  0  0  0\n",
       " 0  0  0  0  0  0  0  0  0  0  0  0  0     0  0  0  0  0  0  0  0  0  0  0  0\n",
       " 0  1  0  0  0  0  0  0  0  0  0  0  0  …  0  0  0  0  0  0  0  0  0  0  0  0\n",
       " 0  0  1  0  0  0  0  0  0  0  0  0  0     0  0  0  0  0  0  0  0  0  0  0  0\n",
       " 0  0  0  0  0  0  0  0  0  0  0  0  0     0  0  0  0  0  0  0  0  0  0  0  0\n",
       " ⋮              ⋮              ⋮        ⋱        ⋮              ⋮            \n",
       " 0  0  0  0  0  0  0  0  0  0  0  0  0     0  0  0  0  0  0  0  0  0  0  0  0\n",
       " 0  0  0  0  0  0  0  0  0  0  0  0  0     0  0  0  0  0  0  0  0  0  0  0  0\n",
       " 0  0  0  0  0  0  0  0  0  0  0  0  0  …  0  0  0  0  0  0  0  0  0  0  0  0\n",
       " 0  0  0  0  0  0  0  0  0  0  0  0  0     0  0  0  0  0  0  0  0  0  0  0  0\n",
       " 0  0  0  0  0  0  0  0  0  0  0  0  0     0  0  0  0  0  0  0  0  0  0  0  0\n",
       " 0  0  0  0  0  0  0  0  0  0  0  0  0     0  0  0  0  0  0  0  1  0  0  0  0\n",
       " 0  0  0  0  0  0  0  0  0  0  0  0  0     0  0  0  0  0  0  0  0  0  0  0  0\n",
       " 0  0  0  0  0  0  0  0  0  0  0  0  0  …  0  0  0  0  0  1  0  0  0  0  0  0\n",
       " 0  0  0  0  0  0  0  0  0  0  0  0  0     0  0  0  0  0  0  0  0  0  0  0  0\n",
       " 0  0  0  0  0  0  0  0  0  0  0  0  0     0  0  0  0  0  0  0  0  0  0  0  0\n",
       " 0  0  0  0  0  0  0  0  0  0  0  0  0     0  0  0  0  0  0  0  0  0  0  0  0\n",
       " 0  0  0  0  0  0  0  0  0  0  0  0  0     0  0  0  0  0  0  0  0  0  0  0  0"
      ]
     },
     "execution_count": 32,
     "metadata": {},
     "output_type": "execute_result"
    }
   ],
   "source": [
    "multiplexST = convert(Array{Int64,2}, multiST)"
   ]
  },
  {
   "cell_type": "markdown",
   "metadata": {},
   "source": [
    "## Caminatas aleatorias\n",
    "\n",
    "### Star Alliance"
   ]
  },
  {
   "cell_type": "code",
   "execution_count": 33,
   "metadata": {},
   "outputs": [
    {
     "name": "stdout",
     "output_type": "stream",
     "text": [
      "  5.748412 seconds (5.32 M allocations: 3.812 GiB, 8.04% gc time)\n"
     ]
    },
    {
     "data": {
      "text/plain": [
       "934-element Array{Any,1}:\n",
       " [1 40 … 152 106; 1 40 … 108 245; … ; 1 40 … 298 235; 1 3 … 233 194]           \n",
       " [2 348 … 365 26; 2 83 … 19 541; … ; 2 20 … 175 191; 2 62 … 83 735]            \n",
       " [3 43 … 162 130; 3 64 … 298 215; … ; 3 71 … 101 162; 3 5 … 279 89]            \n",
       " [4 19 … 0 0; 4 223 … 347 320; … ; 4 223 … 45 553; 4 290 … 656 136]            \n",
       " [5 3 … 199 237; 5 3 … 119 263; … ; 5 3 … 73 176; 5 3 … 126 215]               \n",
       " [6 235 … 418 119; 6 54 … 136 457; … ; 6 83 … 542 26; 6 80 … 125 262]          \n",
       " [7 72 … 11 15; 7 3 … 117 920; … ; 7 26 … 16 71; 7 54 … 153 115]               \n",
       " [8 23 … 562 83; 8 23 … 87 880; … ; 8 23 … 108 250; 8 23 … 95 162]             \n",
       " [9 45 … 318 392; 9 117 … 365 223; … ; 9 2 … 174 351; 9 760 … 136 132]         \n",
       " [10 11 … 908 263; 10 16 … 483 443; … ; 10 553 … 247 251; 10 54 … 235 298]     \n",
       " [11 451 … 179 177; 11 20 … 72 65; … ; 11 572 … 276 259; 11 6 … 88 263]        \n",
       " [12 578 … 211 19; 12 600 … 117 893; … ; 12 62 … 322 482; 12 54 … 89 870]      \n",
       " [13 15 … 113 436; 13 3 … 131 89; … ; 13 15 … 154 162; 13 15 … 9 538]          \n",
       " ⋮                                                                             \n",
       " [923 132 … 26 595; 923 132 … 235 26; … ; 923 132 … 23 69; 923 132 … 0 0]      \n",
       " [924 89 … 661 662; 924 89 … 199 237; … ; 924 117 … 89 9; 924 117 … 545 510]   \n",
       " [925 880 … 19 90; 925 880 … 357 292; … ; 925 880 … 153 45; 925 880 … 3 38]    \n",
       " [926 910 … 60 553; 926 300 … 260 436; … ; 926 910 … 880 128; 926 300 … 511 83]\n",
       " [927 692 … 708 476; 927 300 … 26 476; … ; 927 692 … 176 26; 927 692 … 392 384]\n",
       " [928 361 … 19 678; 928 361 … 114 89; … ; 928 361 … 416 408; 928 361 … 476 26] \n",
       " [929 396 … 539 54; 929 396 … 54 548; … ; 929 396 … 119 299; 929 396 … 838 19] \n",
       " [930 119 … 69 23; 930 119 … 430 429; … ; 930 119 … 72 73; 930 119 … 175 181]  \n",
       " [931 0 … 0 0; 931 0 … 0 0; … ; 931 0 … 0 0; 931 0 … 0 0]                      \n",
       " [932 0 … 0 0; 932 0 … 0 0; … ; 932 0 … 0 0; 932 0 … 0 0]                      \n",
       " [933 0 … 0 0; 933 0 … 0 0; … ; 933 0 … 0 0; 933 0 … 0 0]                      \n",
       " [934 0 … 0 0; 934 0 … 0 0; … ; 934 0 … 0 0; 934 0 … 0 0]                      "
      ]
     },
     "execution_count": 33,
     "metadata": {},
     "output_type": "execute_result"
    }
   ],
   "source": [
    "caminata_SA = @time random_walk(multiplexSA, 100, 5)"
   ]
  },
  {
   "cell_type": "markdown",
   "metadata": {},
   "source": [
    "### OneWorld"
   ]
  },
  {
   "cell_type": "code",
   "execution_count": 35,
   "metadata": {},
   "outputs": [
    {
     "name": "stdout",
     "output_type": "stream",
     "text": [
      "  2.528318 seconds (3.03 M allocations: 1.876 GiB, 9.29% gc time)\n"
     ]
    },
    {
     "data": {
      "text/plain": [
       "698-element Array{Any,1}:\n",
       " [1 3 … 0 0; 1 2 … 178 47; … ; 1 135 … 0 0; 1 129 … 178 84]            \n",
       " [2 117 … 180 159; 2 231 … 178 145; … ; 2 225 … 261 62; 2 14 … 554 373]\n",
       " [3 207 … 217 46; 3 46 … 0 0; … ; 3 46 … 0 0; 3 1 … 437 438]           \n",
       " [4 177 … 96 380; 4 177 … 51 118; … ; 4 177 … 625 653; 4 177 … 139 46] \n",
       " [5 61 … 72 46; 5 61 … 120 540; … ; 5 61 … 62 177; 5 61 … 188 161]     \n",
       " [6 46 … 224 178; 6 46 … 173 393; … ; 6 46 … 30 127; 6 46 … 0 0]       \n",
       " [7 46 … 0 0; 7 46 … 531 305; … ; 7 177 … 0 0; 7 177 … 120 388]        \n",
       " [8 177 … 251 115; 8 177 … 0 0; … ; 8 265 … 567 273; 8 120 … 178 247]  \n",
       " [9 178 … 75 46; 9 178 … 590 292; … ; 9 178 … 2 187; 9 178 … 451 89]   \n",
       " [10 3 … 247 61; 10 46 … 120 323; … ; 10 46 … 127 301; 10 3 … 177 65]  \n",
       " [11 1 … 122 255; 11 2 … 61 152; … ; 11 1 … 0 0; 11 1 … 347 62]        \n",
       " [12 292 … 0 0; 12 127 … 301 305; … ; 12 292 … 0 0; 12 261 … 271 240]  \n",
       " [13 61 … 0 0; 13 61 … 89 434; … ; 13 61 … 229 564; 13 127 … 61 181]   \n",
       " ⋮                                                                     \n",
       " [687 0 … 0 0; 687 0 … 0 0; … ; 687 0 … 0 0; 687 0 … 0 0]              \n",
       " [688 0 … 0 0; 688 0 … 0 0; … ; 688 0 … 0 0; 688 0 … 0 0]              \n",
       " [689 0 … 0 0; 689 0 … 0 0; … ; 689 0 … 0 0; 689 0 … 0 0]              \n",
       " [690 0 … 0 0; 690 0 … 0 0; … ; 690 0 … 0 0; 690 0 … 0 0]              \n",
       " [691 0 … 0 0; 691 0 … 0 0; … ; 691 0 … 0 0; 691 0 … 0 0]              \n",
       " [692 0 … 0 0; 692 0 … 0 0; … ; 692 0 … 0 0; 692 0 … 0 0]              \n",
       " [693 0 … 0 0; 693 0 … 0 0; … ; 693 0 … 0 0; 693 0 … 0 0]              \n",
       " [694 0 … 0 0; 694 0 … 0 0; … ; 694 0 … 0 0; 694 0 … 0 0]              \n",
       " [695 0 … 0 0; 695 0 … 0 0; … ; 695 0 … 0 0; 695 0 … 0 0]              \n",
       " [696 0 … 0 0; 696 0 … 0 0; … ; 696 0 … 0 0; 696 0 … 0 0]              \n",
       " [697 0 … 0 0; 697 0 … 0 0; … ; 697 0 … 0 0; 697 0 … 0 0]              \n",
       " [698 0 … 0 0; 698 0 … 0 0; … ; 698 0 … 0 0; 698 0 … 0 0]              "
      ]
     },
     "execution_count": 35,
     "metadata": {},
     "output_type": "execute_result"
    }
   ],
   "source": [
    "caminata_OW = @time random_walk(multiplexOW, 100, 5)"
   ]
  },
  {
   "cell_type": "markdown",
   "metadata": {},
   "source": [
    "### Sky Team"
   ]
  },
  {
   "cell_type": "code",
   "execution_count": 36,
   "metadata": {},
   "outputs": [
    {
     "name": "stdout",
     "output_type": "stream",
     "text": [
      "  4.863587 seconds (4.54 M allocations: 3.404 GiB, 9.52% gc time)\n"
     ]
    },
    {
     "data": {
      "text/plain": [
       "900-element Array{Any,1}:\n",
       " [1 15 … 61 60; 1 15 … 176 835; … ; 1 15 … 171 287; 1 15 … 682 201]             \n",
       " [2 35 … 115 249; 2 31 … 18 194; … ; 2 37 … 33 13; 2 37 … 188 608]              \n",
       " [3 277 … 123 238; 3 297 … 139 35; … ; 3 614 … 703 92; 3 117 … 492 49]          \n",
       " [4 35 … 658 164; 4 35 … 104 161; … ; 4 35 … 197 95; 4 35 … 113 3]              \n",
       " [5 31 … 522 497; 5 95 … 201 659; … ; 5 31 … 184 95; 5 133 … 794 188]           \n",
       " [6 25 … 61 883; 6 136 … 156 3; … ; 6 35 … 95 79; 6 136 … 512 605]              \n",
       " [7 33 … 385 73; 7 22 … 554 337; … ; 7 25 … 195 31; 7 31 … 380 407]             \n",
       " [8 286 … 0 0; 8 95 … 249 271; … ; 8 95 … 276 139; 8 289 … 171 65]              \n",
       " [9 18 … 611 3; 9 3 … 380 95; … ; 9 42 … 62 55; 9 18 … 0 0]                     \n",
       " [10 143 … 627 842; 10 123 … 437 454; … ; 10 161 … 65 164; 10 34 … 412 73]      \n",
       " [11 2 … 92 95; 11 2 … 526 65; … ; 11 133 … 316 877; 11 35 … 48 519]            \n",
       " [12 33 … 143 197; 12 3 … 522 730; … ; 12 33 … 0 0; 12 3 … 133 18]              \n",
       " [13 35 … 95 43; 13 33 … 73 899; … ; 13 33 … 50 528; 13 28 … 315 518]           \n",
       " ⋮                                                                              \n",
       " [889 48 … 549 853; 889 48 … 837 549; … ; 889 48 … 55 49; 889 48 … 52 779]      \n",
       " [890 61 … 337 537; 890 48 … 188 758; … ; 890 61 … 581 52; 890 48 … 164 585]    \n",
       " [891 48 … 319 52; 891 48 … 35 34; … ; 891 61 … 164 277; 891 718 … 30 42]       \n",
       " [892 61 … 437 387; 892 61 … 182 156; … ; 892 61 … 659 340; 892 61 … 62 79]     \n",
       " [893 133 … 748 189; 893 133 … 30 95; … ; 893 133 … 387 73; 893 133 … 160 95]   \n",
       " [894 620 … 309 151; 894 35 … 92 657; … ; 894 106 … 28 34; 894 896 … 851 549]   \n",
       " [895 133 … 18 115; 895 133 … 437 181; … ; 895 133 … 549 329; 895 133 … 105 617]\n",
       " [896 894 … 278 18; 896 894 … 188 52; … ; 896 894 … 474 73; 896 894 … 415 212]  \n",
       " [897 0 … 0 0; 897 0 … 0 0; … ; 897 0 … 0 0; 897 0 … 0 0]                       \n",
       " [898 0 … 0 0; 898 0 … 0 0; … ; 898 0 … 0 0; 898 0 … 0 0]                       \n",
       " [899 0 … 0 0; 899 0 … 0 0; … ; 899 0 … 0 0; 899 0 … 0 0]                       \n",
       " [900 0 … 0 0; 900 0 … 0 0; … ; 900 0 … 0 0; 900 0 … 0 0]                       "
      ]
     },
     "execution_count": 36,
     "metadata": {},
     "output_type": "execute_result"
    }
   ],
   "source": [
    "caminata_ST = @time random_walk(multiplexST, 100, 5)"
   ]
  },
  {
   "cell_type": "markdown",
   "metadata": {},
   "source": [
    "## Longitud de las caminatas "
   ]
  },
  {
   "cell_type": "code",
   "execution_count": 92,
   "metadata": {},
   "outputs": [
    {
     "name": "stdout",
     "output_type": "stream",
     "text": [
      "  0.583873 seconds (1.49 M allocations: 415.414 MiB, 9.11% gc time)\n"
     ]
    },
    {
     "data": {
      "text/plain": [
       "934-element Array{Array,1}:\n",
       " [100, 100, 100, 100, 100]\n",
       " [100, 100, 100, 100, 100]\n",
       " [100, 100, 100, 100, 100]\n",
       " [58, 100, 100, 100, 100] \n",
       " [100, 100, 100, 100, 100]\n",
       " [100, 100, 100, 100, 100]\n",
       " [100, 100, 33, 100, 100] \n",
       " [100, 100, 100, 100, 100]\n",
       " [100, 100, 100, 100, 100]\n",
       " [100, 100, 100, 100, 100]\n",
       " [100, 100, 100, 100, 100]\n",
       " [100, 100, 100, 100, 100]\n",
       " [100, 100, 100, 100, 100]\n",
       " ⋮                        \n",
       " [100, 100, 100, 100, 14] \n",
       " [100, 100, 100, 100, 100]\n",
       " [100, 100, 100, 100, 100]\n",
       " [100, 100, 100, 100, 100]\n",
       " [100, 100, 100, 100, 100]\n",
       " [100, 100, 100, 100, 100]\n",
       " [100, 100, 100, 100, 100]\n",
       " [100, 100, 100, 100, 100]\n",
       " [0, 0, 0, 0, 0]          \n",
       " [0, 0, 0, 0, 0]          \n",
       " [0, 0, 0, 0, 0]          \n",
       " [0, 0, 0, 0, 0]          "
      ]
     },
     "execution_count": 92,
     "metadata": {},
     "output_type": "execute_result"
    }
   ],
   "source": [
    "@time walk_length(caminata_SA)"
   ]
  },
  {
   "cell_type": "code",
   "execution_count": 93,
   "metadata": {},
   "outputs": [
    {
     "name": "stdout",
     "output_type": "stream",
     "text": [
      "  0.345002 seconds (914.13 k allocations: 264.501 MiB, 10.28% gc time)\n"
     ]
    },
    {
     "data": {
      "text/plain": [
       "698-element Array{Array,1}:\n",
       " [64, 100, 20, 29, 100]   \n",
       " [100, 100, 29, 100, 100] \n",
       " [100, 2, 100, 12, 100]   \n",
       " [100, 100, 100, 100, 100]\n",
       " [100, 100, 100, 100, 100]\n",
       " [100, 100, 100, 100, 29] \n",
       " [6, 100, 100, 5, 100]    \n",
       " [100, 27, 100, 100, 100] \n",
       " [100, 100, 100, 100, 100]\n",
       " [100, 100, 100, 100, 100]\n",
       " [100, 100, 100, 95, 100] \n",
       " [31, 100, 100, 23, 100]  \n",
       " [11, 100, 100, 100, 100] \n",
       " ⋮                        \n",
       " [0, 0, 0, 0, 0]          \n",
       " [0, 0, 0, 0, 0]          \n",
       " [0, 0, 0, 0, 0]          \n",
       " [0, 0, 0, 0, 0]          \n",
       " [0, 0, 0, 0, 0]          \n",
       " [0, 0, 0, 0, 0]          \n",
       " [0, 0, 0, 0, 0]          \n",
       " [0, 0, 0, 0, 0]          \n",
       " [0, 0, 0, 0, 0]          \n",
       " [0, 0, 0, 0, 0]          \n",
       " [0, 0, 0, 0, 0]          \n",
       " [0, 0, 0, 0, 0]          "
      ]
     },
     "execution_count": 93,
     "metadata": {},
     "output_type": "execute_result"
    }
   ],
   "source": [
    "@time walk_length(caminata_OW)"
   ]
  },
  {
   "cell_type": "code",
   "execution_count": 94,
   "metadata": {},
   "outputs": [
    {
     "name": "stdout",
     "output_type": "stream",
     "text": [
      "  0.485053 seconds (1.39 M allocations: 387.701 MiB, 8.87% gc time)\n"
     ]
    },
    {
     "data": {
      "text/plain": [
       "900-element Array{Array,1}:\n",
       " [100, 100, 100, 100, 100]\n",
       " [100, 100, 100, 100, 100]\n",
       " [100, 100, 100, 100, 100]\n",
       " [100, 100, 100, 100, 100]\n",
       " [100, 100, 100, 100, 100]\n",
       " [100, 100, 100, 100, 100]\n",
       " [100, 100, 100, 100, 100]\n",
       " [72, 100, 100, 100, 100] \n",
       " [100, 100, 100, 100, 70] \n",
       " [100, 100, 100, 100, 100]\n",
       " [100, 100, 100, 100, 100]\n",
       " [100, 100, 100, 91, 100] \n",
       " [100, 100, 100, 100, 100]\n",
       " ⋮                        \n",
       " [100, 100, 100, 100, 100]\n",
       " [100, 100, 100, 100, 100]\n",
       " [100, 100, 100, 100, 100]\n",
       " [100, 100, 100, 100, 100]\n",
       " [100, 100, 100, 100, 100]\n",
       " [100, 100, 100, 100, 100]\n",
       " [100, 100, 100, 100, 100]\n",
       " [100, 100, 100, 100, 100]\n",
       " [0, 0, 0, 0, 0]          \n",
       " [0, 0, 0, 0, 0]          \n",
       " [0, 0, 0, 0, 0]          \n",
       " [0, 0, 0, 0, 0]          "
      ]
     },
     "execution_count": 94,
     "metadata": {},
     "output_type": "execute_result"
    }
   ],
   "source": [
    "@time walk_length(caminata_ST)"
   ]
  },
  {
   "cell_type": "markdown",
   "metadata": {},
   "source": [
    "## Longitud promedio de las caminatas"
   ]
  },
  {
   "cell_type": "code",
   "execution_count": 95,
   "metadata": {},
   "outputs": [
    {
     "name": "stdout",
     "output_type": "stream",
     "text": [
      "  0.631237 seconds (1.66 M allocations: 424.480 MiB, 8.31% gc time)\n"
     ]
    },
    {
     "data": {
      "text/plain": [
       "934-element Array{Any,1}:\n",
       " 100.0\n",
       " 100.0\n",
       " 100.0\n",
       "  91.6\n",
       " 100.0\n",
       " 100.0\n",
       "  86.6\n",
       " 100.0\n",
       " 100.0\n",
       " 100.0\n",
       " 100.0\n",
       " 100.0\n",
       " 100.0\n",
       "   ⋮  \n",
       "  82.8\n",
       " 100.0\n",
       " 100.0\n",
       " 100.0\n",
       " 100.0\n",
       " 100.0\n",
       " 100.0\n",
       " 100.0\n",
       "   0.0\n",
       "   0.0\n",
       "   0.0\n",
       "   0.0"
      ]
     },
     "execution_count": 95,
     "metadata": {},
     "output_type": "execute_result"
    }
   ],
   "source": [
    "@time walk_av_length(caminata_SA)"
   ]
  },
  {
   "cell_type": "code",
   "execution_count": 96,
   "metadata": {},
   "outputs": [
    {
     "name": "stdout",
     "output_type": "stream",
     "text": [
      "  0.326123 seconds (914.84 k allocations: 264.528 MiB, 9.00% gc time)\n"
     ]
    },
    {
     "data": {
      "text/plain": [
       "698-element Array{Any,1}:\n",
       "  62.6\n",
       "  85.8\n",
       "  62.8\n",
       " 100.0\n",
       " 100.0\n",
       "  85.8\n",
       "  62.2\n",
       "  85.4\n",
       " 100.0\n",
       " 100.0\n",
       "  99.0\n",
       "  70.8\n",
       "  82.2\n",
       "   ⋮  \n",
       "   0.0\n",
       "   0.0\n",
       "   0.0\n",
       "   0.0\n",
       "   0.0\n",
       "   0.0\n",
       "   0.0\n",
       "   0.0\n",
       "   0.0\n",
       "   0.0\n",
       "   0.0\n",
       "   0.0"
      ]
     },
     "execution_count": 96,
     "metadata": {},
     "output_type": "execute_result"
    }
   ],
   "source": [
    "@time walk_av_length(caminata_OW)"
   ]
  },
  {
   "cell_type": "code",
   "execution_count": 97,
   "metadata": {},
   "outputs": [
    {
     "name": "stdout",
     "output_type": "stream",
     "text": [
      "  0.479293 seconds (1.39 M allocations: 387.731 MiB, 9.09% gc time)\n"
     ]
    },
    {
     "data": {
      "text/plain": [
       "900-element Array{Any,1}:\n",
       " 100.0\n",
       " 100.0\n",
       " 100.0\n",
       " 100.0\n",
       " 100.0\n",
       " 100.0\n",
       " 100.0\n",
       "  94.4\n",
       "  94.0\n",
       " 100.0\n",
       " 100.0\n",
       "  98.2\n",
       " 100.0\n",
       "   ⋮  \n",
       " 100.0\n",
       " 100.0\n",
       " 100.0\n",
       " 100.0\n",
       " 100.0\n",
       " 100.0\n",
       " 100.0\n",
       " 100.0\n",
       "   0.0\n",
       "   0.0\n",
       "   0.0\n",
       "   0.0"
      ]
     },
     "execution_count": 97,
     "metadata": {},
     "output_type": "execute_result"
    }
   ],
   "source": [
    "@time walk_av_length(caminata_ST)"
   ]
  },
  {
   "cell_type": "markdown",
   "metadata": {},
   "source": [
    "## Cobertura"
   ]
  },
  {
   "cell_type": "code",
   "execution_count": 99,
   "metadata": {
    "scrolled": false
   },
   "outputs": [
    {
     "name": "stdout",
     "output_type": "stream",
     "text": [
      "  0.065137 seconds (102.01 k allocations: 31.075 MiB, 16.77% gc time)\n"
     ]
    },
    {
     "data": {
      "text/plain": [
       "934-element Array{Any,1}:\n",
       " [70, 62, 71, 73, 74]\n",
       " [62, 67, 68, 71, 62]\n",
       " [63, 73, 69, 73, 58]\n",
       " [46, 66, 69, 69, 71]\n",
       " [67, 67, 64, 65, 76]\n",
       " [63, 61, 70, 61, 71]\n",
       " [69, 71, 30, 74, 70]\n",
       " [69, 67, 70, 70, 69]\n",
       " [71, 66, 71, 69, 67]\n",
       " [68, 64, 70, 71, 70]\n",
       " [76, 66, 71, 66, 72]\n",
       " [65, 72, 68, 73, 72]\n",
       " [70, 70, 62, 65, 74]\n",
       " ⋮                   \n",
       " [72, 69, 71, 76, 16]\n",
       " [72, 64, 75, 71, 63]\n",
       " [77, 63, 71, 62, 69]\n",
       " [66, 71, 74, 72, 68]\n",
       " [70, 68, 64, 66, 68]\n",
       " [77, 65, 63, 77, 74]\n",
       " [70, 66, 75, 67, 65]\n",
       " [69, 63, 62, 68, 68]\n",
       " [2, 2, 2, 2, 2]     \n",
       " [2, 2, 2, 2, 2]     \n",
       " [2, 2, 2, 2, 2]     \n",
       " [2, 2, 2, 2, 2]     "
      ]
     },
     "execution_count": 99,
     "metadata": {},
     "output_type": "execute_result"
    }
   ],
   "source": [
    "cobs_SA = @time cobertura(caminata_SA)"
   ]
  },
  {
   "cell_type": "code",
   "execution_count": 111,
   "metadata": {},
   "outputs": [
    {
     "name": "stdout",
     "output_type": "stream",
     "text": [
      "  0.022477 seconds (70.70 k allocations: 18.894 MiB)\n"
     ]
    },
    {
     "data": {
      "text/plain": [
       "698-element Array{Any,1}:\n",
       " [46, 64, 17, 23, 66]\n",
       " [60, 54, 21, 54, 61]\n",
       " [61, 4, 66, 9, 63]  \n",
       " [61, 67, 61, 56, 60]\n",
       " [59, 54, 57, 57, 64]\n",
       " [56, 61, 64, 55, 22]\n",
       " [7, 58, 62, 7, 59]  \n",
       " [62, 22, 72, 63, 60]\n",
       " [61, 60, 58, 61, 69]\n",
       " [60, 61, 61, 60, 63]\n",
       " [66, 57, 57, 61, 65]\n",
       " [25, 63, 64, 20, 65]\n",
       " [11, 64, 62, 60, 55]\n",
       " ⋮                   \n",
       " [2, 2, 2, 2, 2]     \n",
       " [2, 2, 2, 2, 2]     \n",
       " [2, 2, 2, 2, 2]     \n",
       " [2, 2, 2, 2, 2]     \n",
       " [2, 2, 2, 2, 2]     \n",
       " [2, 2, 2, 2, 2]     \n",
       " [2, 2, 2, 2, 2]     \n",
       " [2, 2, 2, 2, 2]     \n",
       " [2, 2, 2, 2, 2]     \n",
       " [2, 2, 2, 2, 2]     \n",
       " [2, 2, 2, 2, 2]     \n",
       " [2, 2, 2, 2, 2]     "
      ]
     },
     "execution_count": 111,
     "metadata": {},
     "output_type": "execute_result"
    }
   ],
   "source": [
    "cobs_OW = @time cobertura(caminata_OW)"
   ]
  },
  {
   "cell_type": "code",
   "execution_count": 112,
   "metadata": {},
   "outputs": [
    {
     "name": "stdout",
     "output_type": "stream",
     "text": [
      "  0.045501 seconds (96.99 k allocations: 28.836 MiB, 24.08% gc time)\n"
     ]
    },
    {
     "data": {
      "text/plain": [
       "900-element Array{Any,1}:\n",
       " [67, 71, 57, 71, 64]\n",
       " [65, 70, 64, 70, 70]\n",
       " [64, 62, 68, 71, 67]\n",
       " [72, 63, 73, 69, 73]\n",
       " [78, 70, 68, 67, 67]\n",
       " [70, 72, 70, 68, 66]\n",
       " [63, 65, 66, 65, 68]\n",
       " [53, 61, 65, 72, 71]\n",
       " [64, 68, 74, 68, 44]\n",
       " [62, 65, 64, 64, 73]\n",
       " [63, 67, 68, 66, 66]\n",
       " [65, 68, 65, 63, 76]\n",
       " [73, 70, 69, 65, 66]\n",
       " ⋮                   \n",
       " [59, 65, 66, 68, 66]\n",
       " [70, 74, 67, 68, 68]\n",
       " [65, 66, 69, 68, 69]\n",
       " [67, 62, 64, 69, 64]\n",
       " [65, 69, 63, 67, 69]\n",
       " [65, 64, 68, 70, 56]\n",
       " [68, 62, 58, 65, 69]\n",
       " [66, 71, 68, 58, 66]\n",
       " [2, 2, 2, 2, 2]     \n",
       " [2, 2, 2, 2, 2]     \n",
       " [2, 2, 2, 2, 2]     \n",
       " [2, 2, 2, 2, 2]     "
      ]
     },
     "execution_count": 112,
     "metadata": {},
     "output_type": "execute_result"
    }
   ],
   "source": [
    "cobs_ST = @time cobertura(caminata_ST)"
   ]
  },
  {
   "cell_type": "markdown",
   "metadata": {},
   "source": [
    "## Cobertura promedio de las caminatas de cada aeropuerto inicial"
   ]
  },
  {
   "cell_type": "code",
   "execution_count": 100,
   "metadata": {},
   "outputs": [
    {
     "name": "stdout",
     "output_type": "stream",
     "text": [
      "  0.046416 seconds (102.95 k allocations: 31.105 MiB, 9.83% gc time)\n"
     ]
    },
    {
     "data": {
      "text/plain": [
       "934-element Array{Any,1}:\n",
       " 70.0\n",
       " 66.0\n",
       " 67.2\n",
       " 64.2\n",
       " 67.8\n",
       " 65.2\n",
       " 62.8\n",
       " 69.0\n",
       " 68.8\n",
       " 68.6\n",
       " 70.2\n",
       " 70.0\n",
       " 68.2\n",
       "  ⋮  \n",
       " 60.8\n",
       " 69.0\n",
       " 68.4\n",
       " 70.2\n",
       " 67.2\n",
       " 71.2\n",
       " 68.6\n",
       " 66.0\n",
       "  2.0\n",
       "  2.0\n",
       "  2.0\n",
       "  2.0"
      ]
     },
     "execution_count": 100,
     "metadata": {},
     "output_type": "execute_result"
    }
   ],
   "source": [
    "dif_SA = @time n_length_av(caminata_SA)"
   ]
  },
  {
   "cell_type": "code",
   "execution_count": 101,
   "metadata": {},
   "outputs": [
    {
     "name": "stdout",
     "output_type": "stream",
     "text": [
      "  0.026089 seconds (71.41 k allocations: 18.921 MiB, 16.53% gc time)\n"
     ]
    },
    {
     "data": {
      "text/plain": [
       "698-element Array{Any,1}:\n",
       " 43.2\n",
       " 50.0\n",
       " 40.6\n",
       " 61.0\n",
       " 58.2\n",
       " 51.6\n",
       " 38.6\n",
       " 55.8\n",
       " 61.8\n",
       " 61.0\n",
       " 61.2\n",
       " 47.4\n",
       " 50.4\n",
       "  ⋮  \n",
       "  2.0\n",
       "  2.0\n",
       "  2.0\n",
       "  2.0\n",
       "  2.0\n",
       "  2.0\n",
       "  2.0\n",
       "  2.0\n",
       "  2.0\n",
       "  2.0\n",
       "  2.0\n",
       "  2.0"
      ]
     },
     "execution_count": 101,
     "metadata": {},
     "output_type": "execute_result"
    }
   ],
   "source": [
    "dif_OW = @time n_length_av(caminata_OW)"
   ]
  },
  {
   "cell_type": "code",
   "execution_count": 102,
   "metadata": {},
   "outputs": [
    {
     "name": "stdout",
     "output_type": "stream",
     "text": [
      "  0.039414 seconds (97.89 k allocations: 28.866 MiB, 10.82% gc time)\n"
     ]
    },
    {
     "data": {
      "text/plain": [
       "900-element Array{Any,1}:\n",
       " 66.0\n",
       " 67.8\n",
       " 66.4\n",
       " 70.0\n",
       " 70.0\n",
       " 69.2\n",
       " 65.4\n",
       " 64.4\n",
       " 63.6\n",
       " 65.6\n",
       " 66.0\n",
       " 67.4\n",
       " 68.6\n",
       "  ⋮  \n",
       " 64.8\n",
       " 69.4\n",
       " 67.4\n",
       " 65.2\n",
       " 66.6\n",
       " 64.6\n",
       " 64.4\n",
       " 65.8\n",
       "  2.0\n",
       "  2.0\n",
       "  2.0\n",
       "  2.0"
      ]
     },
     "execution_count": 102,
     "metadata": {},
     "output_type": "execute_result"
    }
   ],
   "source": [
    "dif_ST = @time n_length_av(caminata_ST)"
   ]
  },
  {
   "cell_type": "code",
   "execution_count": 108,
   "metadata": {},
   "outputs": [
    {
     "data": {
      "image/png": "[encoded data removed]"
     },
     "execution_count": 108,
     "metadata": {},
     "output_type": "execute_result"
    }
   ],
   "source": [
    "difSA = histogram(dif_SA, title=\"Cobertura promedio\", xlabel=\"Promedio de cobertura\", ylabel=\"Frecuencia\")"
   ]
  },
  {
   "cell_type": "code",
   "execution_count": 107,
   "metadata": {},
   "outputs": [
    {
     "data": {
      "image/png": "[encoded data removed]"
     },
     "execution_count": 107,
     "metadata": {},
     "output_type": "execute_result"
    }
   ],
   "source": [
    "difOW = histogram(dif_OW, title=\"Cobertura promedio\", xlabel=\"Promedio de cobertura\", ylabel=\"Frecuencia\")"
   ]
  },
  {
   "cell_type": "code",
   "execution_count": 106,
   "metadata": {},
   "outputs": [
    {
     "data": {
      "image/png": "[encoded data removed]"
     },
     "execution_count": 106,
     "metadata": {},
     "output_type": "execute_result"
    }
   ],
   "source": [
    "difST = histogram(dif_ST, title=\"Cobertura promedio\", xlabel=\"Promedio de cobertura\", ylabel=\"Frecuencia\")"
   ]
  },
  {
   "cell_type": "code",
   "execution_count": 109,
   "metadata": {},
   "outputs": [
    {
     "data": {
      "image/png": "[encoded data removed]"
     },
     "execution_count": 109,
     "metadata": {},
     "output_type": "execute_result"
    }
   ],
   "source": [
    "plot(difSA, difOW, difST, layout=(1,3),legend=false)"
   ]
  },
  {
   "cell_type": "code",
   "execution_count": 110,
   "metadata": {},
   "outputs": [
    {
     "data": {
      "image/png": "[encoded data removed]"
     },
     "execution_count": 110,
     "metadata": {},
     "output_type": "execute_result"
    }
   ],
   "source": [
    "difs = histogram(dif_SA, title=\"Cobertura promedio\", xlabel=\"Promedio\", ylabel=\"Frecuencia\")\n",
    "histogram!(dif_OW, falpha=0.4)\n",
    "histogram!(dif_ST, falpha=0.4)"
   ]
  },
  {
   "cell_type": "code",
   "execution_count": null,
   "metadata": {},
   "outputs": [],
   "source": [
    "#Plot que en el eje x tenga cada nodo inicial (aeropuerto) y en el eje y el promedio"
   ]
  },
  {
   "cell_type": "code",
   "execution_count": null,
   "metadata": {},
   "outputs": [],
   "source": [
    "h = bar(1:80, frqs, color=\"#0f87bf\",align=\"center\",alpha=0.4)"
   ]
  },
  {
   "cell_type": "markdown",
   "metadata": {},
   "source": [
    "## Cobertura promedio por alianza"
   ]
  },
  {
   "cell_type": "code",
   "execution_count": 40,
   "metadata": {},
   "outputs": [
    {
     "name": "stdout",
     "output_type": "stream",
     "text": [
      "  0.095833 seconds (188.76 k allocations: 35.617 MiB, 4.43% gc time)\n"
     ]
    },
    {
     "data": {
      "text/plain": [
       "66.93725910064244"
      ]
     },
     "execution_count": 40,
     "metadata": {},
     "output_type": "execute_result"
    }
   ],
   "source": [
    "cobp_SA = @time length_av(caminata_SA)"
   ]
  },
  {
   "cell_type": "code",
   "execution_count": 41,
   "metadata": {},
   "outputs": [
    {
     "name": "stdout",
     "output_type": "stream",
     "text": [
      "  0.028621 seconds (72.81 k allocations: 18.942 MiB, 20.29% gc time)\n"
     ]
    },
    {
     "data": {
      "text/plain": [
       "52.30888252148997"
      ]
     },
     "execution_count": 41,
     "metadata": {},
     "output_type": "execute_result"
    }
   ],
   "source": [
    "cobp_OW = @time length_av(caminata_OW)"
   ]
  },
  {
   "cell_type": "code",
   "execution_count": 42,
   "metadata": {},
   "outputs": [
    {
     "name": "stdout",
     "output_type": "stream",
     "text": [
      "  0.041603 seconds (99.69 k allocations: 28.893 MiB, 18.67% gc time)\n"
     ]
    },
    {
     "data": {
      "text/plain": [
       "63.88933333333333"
      ]
     },
     "execution_count": 42,
     "metadata": {},
     "output_type": "execute_result"
    }
   ],
   "source": [
    "cobp_ST = @time length_av(caminata_ST)"
   ]
  },
  {
   "cell_type": "code",
   "execution_count": 77,
   "metadata": {},
   "outputs": [
    {
     "ename": "ErrorException",
     "evalue": "No user recipe defined for Float64",
     "output_type": "error",
     "traceback": [
      "No user recipe defined for Float64",
      "",
      "Stacktrace:",
      " [1] error(::String) at ./error.jl:33",
      " [2] convertToAnyVector(::Float64, ::Dict{Symbol,Any}) at /Users/yuriko/.julia/packages/Plots/47Tik/src/series.jl:14",
      " [3] macro expansion at /Users/yuriko/.julia/packages/Plots/47Tik/src/series.jl:139 [inlined]",
      " [4] apply_recipe(::Dict{Symbol,Any}, ::Type{Plots.SliceIt}, ::Nothing, ::Float64, ::Nothing) at /Users/yuriko/.julia/packages/RecipesBase/Uz5AO/src/RecipesBase.jl:275",
      " [5] _process_userrecipes(::Plots.Plot{Plots.PyPlotBackend}, ::Dict{Symbol,Any}, ::Tuple{Float64}) at /Users/yuriko/.julia/packages/Plots/47Tik/src/pipeline.jl:83",
      " [6] _plot!(::Plots.Plot{Plots.PyPlotBackend}, ::Dict{Symbol,Any}, ::Tuple{Float64}) at /Users/yuriko/.julia/packages/Plots/47Tik/src/plot.jl:178",
      " [7] #plot#136(::Base.Iterators.Pairs{Symbol,String,Tuple{Symbol,Symbol,Symbol},NamedTuple{(:title, :xlabel, :ylabel),Tuple{String,String,String}}}, ::Function, ::Float64) at /Users/yuriko/.julia/packages/Plots/47Tik/src/plot.jl:57",
      " [8] (::getfield(RecipesBase, Symbol(\"#kw##plot\")))(::NamedTuple{(:title, :xlabel, :ylabel),Tuple{String,String,String}}, ::typeof(plot), ::Float64) at ./none:0",
      " [9] top-level scope at In[77]:1"
     ]
    }
   ],
   "source": [
    "cobs_prom = plot(cobp_SA, title=\"Cobertura promedio\", xlabel=\"Promedio\", ylabel=\"Frecuencia\")\n",
    "plot!(cobp_OW, falpha=0.5)\n",
    "plot!(cobp_ST, falpha=0.3)"
   ]
  },
  {
   "cell_type": "markdown",
   "metadata": {},
   "source": [
    "## "
   ]
  }
 ],
 "metadata": {
  "kernelspec": {
   "display_name": "Julia 1.1.0",
   "language": "julia",
   "name": "julia-1.1"
  },
  "language_info": {
   "file_extension": ".jl",
   "mimetype": "application/julia",
   "name": "julia",
   "version": "1.1.0"
  }
 },
 "nbformat": 4,
 "nbformat_minor": 2
}
