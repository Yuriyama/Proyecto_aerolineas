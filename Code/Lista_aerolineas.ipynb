{
 "cells": [
  {
   "cell_type": "code",
   "execution_count": 1,
   "metadata": {},
   "outputs": [],
   "source": [
    "#Establecer directorio\n",
    "cd(\"$(homedir())/Documents/UNAM/Tesis_Lic\")"
   ]
  },
  {
   "cell_type": "code",
   "execution_count": 2,
   "metadata": {},
   "outputs": [],
   "source": [
    "using StatsBase"
   ]
  },
  {
   "cell_type": "code",
   "execution_count": 3,
   "metadata": {},
   "outputs": [],
   "source": [
    "using DelimitedFiles"
   ]
  },
  {
   "cell_type": "code",
   "execution_count": 4,
   "metadata": {},
   "outputs": [
    {
     "data": {
      "text/plain": [
       "import_matrix"
      ]
     },
     "execution_count": 4,
     "metadata": {},
     "output_type": "execute_result"
    }
   ],
   "source": [
    "\"\"\"\n",
    "    import_matrix(arch::AbstractString)\n",
    "\n",
    "Función que importa el archivo de la matriz de adyacencia de R.\n",
    "\"\"\"\n",
    "function import_matrix(arch::AbstractString)\n",
    "    archivo_R = readdlm(arch, ',') \n",
    "    archivo_R = archivo_R[2:end, :]\n",
    "    matriz = archivo_R[:, 2:end]\n",
    "    nombre = convert(Array{Int64,2}, matriz)\n",
    "    return nombre\n",
    "end"
   ]
  },
  {
   "cell_type": "code",
   "execution_count": 5,
   "metadata": {},
   "outputs": [
    {
     "data": {
      "text/plain": [
       "airport_names"
      ]
     },
     "execution_count": 5,
     "metadata": {},
     "output_type": "execute_result"
    }
   ],
   "source": [
    "\"\"\"\n",
    "    airport_names(arch::AbstractString)\n",
    "\n",
    "Función que obtiene un arreglo con los nombres de aeropuertos de la matriz\n",
    "\"\"\"\n",
    "function airport_names(arch::AbstractString)\n",
    "    archivo_R = readdlm(arch, ',', String)\n",
    "    columna = archivo_R[1, :]\n",
    "    nombres = columna[2:end]\n",
    "    return nombres\n",
    "end"
   ]
  },
  {
   "cell_type": "code",
   "execution_count": 6,
   "metadata": {},
   "outputs": [
    {
     "data": {
      "text/plain": [
       "n_in_degree"
      ]
     },
     "execution_count": 6,
     "metadata": {},
     "output_type": "execute_result"
    }
   ],
   "source": [
    "\"\"\"\n",
    "\n",
    "    n_in_degree(M::Array{Int64,2}, n::Int64)\n",
    "\n",
    "Función que obtiene el grado de entrada de un cierto nodo n de la red representada por la matriz de adyacencia M.\n",
    "\n",
    "Parámetros:\n",
    "M matriz de adyacencia que acepta un arreglo de tipo Array{Int64,2}\n",
    "n nodo a evaluar de tipo Int64\n",
    "\n",
    "Resultado:\n",
    "Grado de entrada del nodo n representado por un valor numérico de tipo Int64\n",
    "\n",
    "Implementación\n",
    "\n",
    "#### Ejemplos\n",
    "\"\"\"\n",
    "function n_in_degree(M::Array{Int64,2}, n::Int64)\n",
    "    grado_entrada = sum(M[n, :])\n",
    "end"
   ]
  },
  {
   "cell_type": "code",
   "execution_count": 7,
   "metadata": {},
   "outputs": [
    {
     "data": {
      "text/plain": [
       "in_degree"
      ]
     },
     "execution_count": 7,
     "metadata": {},
     "output_type": "execute_result"
    }
   ],
   "source": [
    "\"\"\"\n",
    "    in_degree(M::Array{Int64,2})\n",
    "\n",
    "Función que obtiene el grado de entrada de una red representada por la matriz de adyacencia M.\n",
    "\n",
    "Parámetros:\n",
    "* M matriz de adyacencia que acepta un arreglo de tipo Array{Int64,2}\n",
    "\n",
    "Resultado:\n",
    "Devuelve un arreglo de tipo Array{Int64,2} que contiene los grados de entrada de todos los nodos n de la red.\n",
    "\n",
    "## Implementación\n",
    "\n",
    "### Ejemplos\n",
    "\"\"\"\n",
    "function in_degree(M::Array{Int64,2})\n",
    "    grados_entrada = sum(M, dims = 2)\n",
    "end"
   ]
  },
  {
   "cell_type": "code",
   "execution_count": 8,
   "metadata": {},
   "outputs": [
    {
     "data": {
      "text/plain": [
       "n_out_degree (generic function with 1 method)"
      ]
     },
     "execution_count": 8,
     "metadata": {},
     "output_type": "execute_result"
    }
   ],
   "source": [
    "\"\"\"\n",
    "    n_out_degree(M::Array{Int64,2}, n::Int64)\n",
    "\n",
    "Función que obtiene el grado de salida de un cierto nodo n de la red representada por la matriz de adyacencia M.\n",
    "\n",
    "Parámetros:\n",
    "* M matriz de adyacencia que acepta un arreglo de tipo Array{Int64,2}\n",
    "* n nodo a evaluar de tipo Int64\n",
    "\n",
    "Resultado:\n",
    "Grado de salida del nodo n representado por un valor numérico de tipo Int64\n",
    "\n",
    "## Implementación\n",
    "\n",
    "### Ejemplos\n",
    "\"\"\"\n",
    "\n",
    "function n_out_degree(M::Array{Int64,2}, n::Int64)\n",
    "    grado_salida = sum(M[:, n])\n",
    "end"
   ]
  },
  {
   "cell_type": "code",
   "execution_count": 9,
   "metadata": {},
   "outputs": [
    {
     "data": {
      "text/plain": [
       "out_degree"
      ]
     },
     "execution_count": 9,
     "metadata": {},
     "output_type": "execute_result"
    }
   ],
   "source": [
    "\"\"\"\n",
    "    out_degree(M::Array{Int64,2})\n",
    "\n",
    "Función que obtiene el grado de salida de una red representada por la matriz de adyacencia M.\n",
    "\n",
    "Parámetros:\n",
    "* M matriz de adyacencia que acepta un arreglo de tipo Array{Int64,2}\n",
    "\n",
    "Resultado:\n",
    "Devuelve un arreglo de tipo Array{Int64,2} que contiene los grados de salida de todos los nodos n de la red.\n",
    "\n",
    "## Implementación\n",
    "\n",
    "### Ejemplos\n",
    "\"\"\"\n",
    "function out_degree(M::Array{Int64,2})\n",
    "    grados_salida = sum(M, dims = 1)\n",
    "end"
   ]
  },
  {
   "cell_type": "code",
   "execution_count": 10,
   "metadata": {},
   "outputs": [
    {
     "data": {
      "text/plain": [
       "568×2 Array{String,2}:\n",
       " \"\"    \"Airline\"\n",
       " \"2B\"  \"2B\"     \n",
       " \"2G\"  \"2G\"     \n",
       " \"2I\"  \"2I\"     \n",
       " \"2J\"  \"2J\"     \n",
       " \"2K\"  \"2K\"     \n",
       " \"2L\"  \"2L\"     \n",
       " \"2N\"  \"2N\"     \n",
       " \"2O\"  \"2O\"     \n",
       " \"2P\"  \"2P\"     \n",
       " \"2Z\"  \"2Z\"     \n",
       " \"3E\"  \"3E\"     \n",
       " \"3F\"  \"3F\"     \n",
       " ⋮              \n",
       " \"Z3\"  \"Z3\"     \n",
       " \"Z4\"  \"Z4\"     \n",
       " \"Z8\"  \"Z8\"     \n",
       " \"Z9\"  \"Z9\"     \n",
       " \"ZB\"  \"ZB\"     \n",
       " \"ZD\"  \"ZD\"     \n",
       " \"ZE\"  \"ZE\"     \n",
       " \"ZH\"  \"ZH\"     \n",
       " \"ZI\"  \"ZI\"     \n",
       " \"ZK\"  \"ZK\"     \n",
       " \"ZL\"  \"ZL\"     \n",
       " \"ZM\"  \"ZM\"     "
      ]
     },
     "execution_count": 10,
     "metadata": {},
     "output_type": "execute_result"
    }
   ],
   "source": [
    "lista_aerolineas = readdlm(\"/Users/yuriko/Documents/UNAM/Tesis_Lic/data/aerolineas_matrices/lista_aerolineas.csv\", ',', String)"
   ]
  },
  {
   "cell_type": "code",
   "execution_count": 11,
   "metadata": {},
   "outputs": [
    {
     "data": {
      "text/plain": [
       "568-element Array{String,1}:\n",
       " \"Airline\"\n",
       " \"2B\"     \n",
       " \"2G\"     \n",
       " \"2I\"     \n",
       " \"2J\"     \n",
       " \"2K\"     \n",
       " \"2L\"     \n",
       " \"2N\"     \n",
       " \"2O\"     \n",
       " \"2P\"     \n",
       " \"2Z\"     \n",
       " \"3E\"     \n",
       " \"3F\"     \n",
       " ⋮        \n",
       " \"Z3\"     \n",
       " \"Z4\"     \n",
       " \"Z8\"     \n",
       " \"Z9\"     \n",
       " \"ZB\"     \n",
       " \"ZD\"     \n",
       " \"ZE\"     \n",
       " \"ZH\"     \n",
       " \"ZI\"     \n",
       " \"ZK\"     \n",
       " \"ZL\"     \n",
       " \"ZM\"     "
      ]
     },
     "execution_count": 11,
     "metadata": {},
     "output_type": "execute_result"
    }
   ],
   "source": [
    "listita = lista_aerolineas[:,2]"
   ]
  },
  {
   "cell_type": "code",
   "execution_count": 12,
   "metadata": {},
   "outputs": [
    {
     "name": "stdout",
     "output_type": "stream",
     "text": [
      "salidas = [4779803200]\n"
     ]
    },
    {
     "data": {
      "text/plain": [
       "568-element Array{Int64,1}:\n",
       " 4779803200\n",
       "         17\n",
       "         11\n",
       "          8\n",
       "          9\n",
       "          6\n",
       "          9\n",
       "         19\n",
       "         11\n",
       "         17\n",
       "         19\n",
       "          5\n",
       "          5\n",
       "          ⋮\n",
       "          7\n",
       "          6\n",
       "         15\n",
       "          4\n",
       "         37\n",
       "          5\n",
       "         13\n",
       "         68\n",
       "         22\n",
       "         29\n",
       "         35\n",
       "          3"
      ]
     },
     "execution_count": 12,
     "metadata": {},
     "output_type": "execute_result"
    }
   ],
   "source": [
    "salidas = Array{Int64}(undef,1)\n",
    "@show salidas\n",
    "for k in 2:length(lista_aerolineas[:,2])\n",
    "    #@show k\n",
    "    \n",
    "    airline_code = lista_aerolineas[:,2][k]\n",
    "    #@show airline_code\n",
    "    \n",
    "    aerolinea_matriz = string(airline_code, \"_matriz_du.csv\")\n",
    "    #@show aerolinea_matriz\n",
    "    \n",
    "    vert = airport_names(\"data/aerolineas_matrices/$aerolinea_matriz\")\n",
    "    #@show vert\n",
    "    \n",
    "    push!(salidas, length(vert))\n",
    "end\n",
    "\n",
    "return salidas\n",
    "    "
   ]
  },
  {
   "cell_type": "code",
   "execution_count": 13,
   "metadata": {},
   "outputs": [
    {
     "data": {
      "text/plain": [
       "568-element Array{Int64,1}:\n",
       " 4779803200\n",
       "         17\n",
       "         11\n",
       "          8\n",
       "          9\n",
       "          6\n",
       "          9\n",
       "         19\n",
       "         11\n",
       "         17\n",
       "         19\n",
       "          5\n",
       "          5\n",
       "          ⋮\n",
       "          7\n",
       "          6\n",
       "         15\n",
       "          4\n",
       "         37\n",
       "          5\n",
       "         13\n",
       "         68\n",
       "         22\n",
       "         29\n",
       "         35\n",
       "          3"
      ]
     },
     "execution_count": 13,
     "metadata": {},
     "output_type": "execute_result"
    }
   ],
   "source": [
    "nodit = ans"
   ]
  },
  {
   "cell_type": "code",
   "execution_count": 14,
   "metadata": {},
   "outputs": [
    {
     "data": {
      "text/plain": [
       "568×2 Array{Any,2}:\n",
       " 4779803200  \"Airline\"\n",
       "         17  \"2B\"     \n",
       "         11  \"2G\"     \n",
       "          8  \"2I\"     \n",
       "          9  \"2J\"     \n",
       "          6  \"2K\"     \n",
       "          9  \"2L\"     \n",
       "         19  \"2N\"     \n",
       "         11  \"2O\"     \n",
       "         17  \"2P\"     \n",
       "         19  \"2Z\"     \n",
       "          5  \"3E\"     \n",
       "          5  \"3F\"     \n",
       "          ⋮           \n",
       "          7  \"Z3\"     \n",
       "          6  \"Z4\"     \n",
       "         15  \"Z8\"     \n",
       "          4  \"Z9\"     \n",
       "         37  \"ZB\"     \n",
       "          5  \"ZD\"     \n",
       "         13  \"ZE\"     \n",
       "         68  \"ZH\"     \n",
       "         22  \"ZI\"     \n",
       "         29  \"ZK\"     \n",
       "         35  \"ZL\"     \n",
       "          3  \"ZM\"     "
      ]
     },
     "execution_count": 14,
     "metadata": {},
     "output_type": "execute_result"
    }
   ],
   "source": [
    "datitos = hcat(nodit, listita)"
   ]
  },
  {
   "cell_type": "code",
   "execution_count": 15,
   "metadata": {},
   "outputs": [
    {
     "data": {
      "text/plain": [
       "567×2 Array{Any,2}:\n",
       " 17  \"2B\"\n",
       " 11  \"2G\"\n",
       "  8  \"2I\"\n",
       "  9  \"2J\"\n",
       "  6  \"2K\"\n",
       "  9  \"2L\"\n",
       " 19  \"2N\"\n",
       " 11  \"2O\"\n",
       " 17  \"2P\"\n",
       " 19  \"2Z\"\n",
       "  5  \"3E\"\n",
       "  5  \"3F\"\n",
       " 11  \"3G\"\n",
       "  ⋮      \n",
       "  7  \"Z3\"\n",
       "  6  \"Z4\"\n",
       " 15  \"Z8\"\n",
       "  4  \"Z9\"\n",
       " 37  \"ZB\"\n",
       "  5  \"ZD\"\n",
       " 13  \"ZE\"\n",
       " 68  \"ZH\"\n",
       " 22  \"ZI\"\n",
       " 29  \"ZK\"\n",
       " 35  \"ZL\"\n",
       "  3  \"ZM\""
      ]
     },
     "execution_count": 15,
     "metadata": {},
     "output_type": "execute_result"
    }
   ],
   "source": [
    "datitos = datitos[2:end,:]"
   ]
  },
  {
   "cell_type": "code",
   "execution_count": 17,
   "metadata": {
    "scrolled": false
   },
   "outputs": [
    {
     "data": {
      "text/plain": [
       "567×2 Array{Any,2}:\n",
       " 280  \"US\"\n",
       " 259  \"AA\"\n",
       " 242  \"TK\"\n",
       " 230  \"DL\"\n",
       " 192  \"MU\"\n",
       " 188  \"CZ\"\n",
       " 184  \"UA\"\n",
       " 176  \"FR\"\n",
       " 175  \"BA\"\n",
       " 172  \"AF\"\n",
       " 170  \"LH\"\n",
       " 168  \"CA\"\n",
       " 148  \"SU\"\n",
       "   ⋮      \n",
       "   2  \"GY\"\n",
       "   2  \"EW\"\n",
       "   2  \"D6\"\n",
       "   2  \"9D\"\n",
       "   2  \"7E\"\n",
       "   2  \"6Y\"\n",
       "   2  \"6I\"\n",
       "   2  \"5M\"\n",
       "   2  \"5G\"\n",
       "   2  \"4K\"\n",
       "   2  \"4D\"\n",
       "   2  \"4B\""
      ]
     },
     "execution_count": 17,
     "metadata": {},
     "output_type": "execute_result"
    }
   ],
   "source": [
    "nueva = sortslices(datitos, dims=1, rev=true)"
   ]
  },
  {
   "cell_type": "code",
   "execution_count": 31,
   "metadata": {},
   "outputs": [
    {
     "data": {
      "text/plain": [
       "1×2 Array{String,2}:\n",
       " #undef  #undef"
      ]
     },
     "execution_count": 31,
     "metadata": {},
     "output_type": "execute_result"
    }
   ],
   "source": [
    "#tit = Array{String,2}#\"Nodes\", \"Airline\"]\n",
    "tit = Array{String,2}(undef, 1, 2)#(\"Nodes\", \"Airline\")"
   ]
  },
  {
   "cell_type": "code",
   "execution_count": 33,
   "metadata": {},
   "outputs": [
    {
     "data": {
      "text/plain": [
       "\"Nodes\""
      ]
     },
     "execution_count": 33,
     "metadata": {},
     "output_type": "execute_result"
    }
   ],
   "source": [
    "tit[1,1] = \"Nodes\""
   ]
  },
  {
   "cell_type": "code",
   "execution_count": 34,
   "metadata": {},
   "outputs": [
    {
     "data": {
      "text/plain": [
       "\"Airlines\""
      ]
     },
     "execution_count": 34,
     "metadata": {},
     "output_type": "execute_result"
    }
   ],
   "source": [
    "tit[1,2] = \"Airlines\""
   ]
  },
  {
   "cell_type": "code",
   "execution_count": 35,
   "metadata": {},
   "outputs": [
    {
     "data": {
      "text/plain": [
       "1×2 Array{String,2}:\n",
       " \"Nodes\"  \"Airlines\""
      ]
     },
     "execution_count": 35,
     "metadata": {},
     "output_type": "execute_result"
    }
   ],
   "source": [
    "tit"
   ]
  },
  {
   "cell_type": "code",
   "execution_count": 38,
   "metadata": {},
   "outputs": [
    {
     "data": {
      "text/plain": [
       "568×2 Array{Any,2}:\n",
       "    \"Nodes\"  \"Airlines\"\n",
       " 280         \"US\"      \n",
       " 259         \"AA\"      \n",
       " 242         \"TK\"      \n",
       " 230         \"DL\"      \n",
       " 192         \"MU\"      \n",
       " 188         \"CZ\"      \n",
       " 184         \"UA\"      \n",
       " 176         \"FR\"      \n",
       " 175         \"BA\"      \n",
       " 172         \"AF\"      \n",
       " 170         \"LH\"      \n",
       " 168         \"CA\"      \n",
       "   ⋮                   \n",
       "   2         \"GY\"      \n",
       "   2         \"EW\"      \n",
       "   2         \"D6\"      \n",
       "   2         \"9D\"      \n",
       "   2         \"7E\"      \n",
       "   2         \"6Y\"      \n",
       "   2         \"6I\"      \n",
       "   2         \"5M\"      \n",
       "   2         \"5G\"      \n",
       "   2         \"4K\"      \n",
       "   2         \"4D\"      \n",
       "   2         \"4B\"      "
      ]
     },
     "execution_count": 38,
     "metadata": {},
     "output_type": "execute_result"
    }
   ],
   "source": [
    "listilla = vcat(tit, nueva)"
   ]
  },
  {
   "cell_type": "code",
   "execution_count": 39,
   "metadata": {},
   "outputs": [],
   "source": [
    "writedlm(\"/Users/yuriko/Documents/UNAM/Tesis_Lic/data/aerolineas_matrices/nueva_lista_aerolineas.csv\", listilla, ',')"
   ]
  },
  {
   "cell_type": "code",
   "execution_count": null,
   "metadata": {},
   "outputs": [],
   "source": []
  }
 ],
 "metadata": {
  "@webio": {
   "lastCommId": null,
   "lastKernelId": null
  },
  "kernelspec": {
   "display_name": "Julia 1.1.0",
   "language": "julia",
   "name": "julia-1.1"
  },
  "language_info": {
   "file_extension": ".jl",
   "mimetype": "application/julia",
   "name": "julia",
   "version": "1.1.0"
  }
 },
 "nbformat": 4,
 "nbformat_minor": 2
}
