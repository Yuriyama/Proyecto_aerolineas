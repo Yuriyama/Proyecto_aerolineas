{
 "cells": [
  {
   "cell_type": "markdown",
   "metadata": {},
   "source": [
    "# Redes Multicapa de Aerolíneas\n",
    "\n",
    "Procesamiento de datos de rutas aéreas por distintas aerolíneas en R."
   ]
  },
  {
   "cell_type": "code",
   "execution_count": 1,
   "metadata": {},
   "outputs": [
    {
     "name": "stderr",
     "output_type": "stream",
     "text": [
      "── Attaching packages ─────────────────────────────────────── tidyverse 1.2.1 ──\n",
      "✔ ggplot2 3.1.0       ✔ purrr   0.3.2  \n",
      "✔ tibble  2.1.1       ✔ dplyr   0.8.0.1\n",
      "✔ tidyr   0.8.3       ✔ stringr 1.4.0  \n",
      "✔ readr   1.3.1       ✔ forcats 0.4.0  \n",
      "── Conflicts ────────────────────────────────────────── tidyverse_conflicts() ──\n",
      "✖ dplyr::filter() masks stats::filter()\n",
      "✖ dplyr::lag()    masks stats::lag()\n",
      "\n",
      "Attaching package: ‘data.table’\n",
      "\n",
      "The following objects are masked from ‘package:dplyr’:\n",
      "\n",
      "    between, first, last\n",
      "\n",
      "The following object is masked from ‘package:purrr’:\n",
      "\n",
      "    transpose\n",
      "\n",
      "\n",
      "Attaching package: ‘igraph’\n",
      "\n",
      "The following objects are masked from ‘package:dplyr’:\n",
      "\n",
      "    as_data_frame, groups, union\n",
      "\n",
      "The following objects are masked from ‘package:purrr’:\n",
      "\n",
      "    compose, simplify\n",
      "\n",
      "The following object is masked from ‘package:tidyr’:\n",
      "\n",
      "    crossing\n",
      "\n",
      "The following object is masked from ‘package:tibble’:\n",
      "\n",
      "    as_data_frame\n",
      "\n",
      "The following objects are masked from ‘package:stats’:\n",
      "\n",
      "    decompose, spectrum\n",
      "\n",
      "The following object is masked from ‘package:base’:\n",
      "\n",
      "    union\n",
      "\n"
     ]
    }
   ],
   "source": [
    "# Librerías necesarias\n",
    "library(tidyverse)\n",
    "library(data.table)\n",
    "library(igraph)"
   ]
  },
  {
   "cell_type": "code",
   "execution_count": 2,
   "metadata": {},
   "outputs": [
    {
     "ename": "ERROR",
     "evalue": "Error in data.table::fread(input = \"\"): Input is empty or only contains BOM or terminal control characters\n",
     "output_type": "error",
     "traceback": [
      "Error in data.table::fread(input = \"\"): Input is empty or only contains BOM or terminal control characters\nTraceback:\n",
      "1. data.table::fread(input = \"\")"
     ]
    }
   ],
   "source": [
    "# Se carga la tabla de rutas aéreas\n",
    "tabla_rutas <- data.table::fread(\n",
    "  input = \"\"\n",
    ")"
   ]
  },
  {
   "cell_type": "code",
   "execution_count": null,
   "metadata": {},
   "outputs": [],
   "source": [
    "# Se carga la tabla de aerolíneas\n",
    "tabla_aerolineas <- data.table::fread(\n",
    "  input = \"\"\n",
    "  )"
   ]
  },
  {
   "cell_type": "code",
   "execution_count": null,
   "metadata": {},
   "outputs": [],
   "source": [
    "# Se carga la tabla de aeropuertos\n",
    "tabla_aeropuertos <- data.table::fread(\n",
    "  input = \"\"\n",
    "  )"
   ]
  },
  {
   "cell_type": "code",
   "execution_count": null,
   "metadata": {},
   "outputs": [],
   "source": [
    "# Se muestra la información que contienen (6 primeros renglones)\n",
    "tabla_rutas %>% head\n",
    "tabla_aerolineas %>% head\n",
    "tabla_aeropuertos %>% head"
   ]
  },
  {
   "cell_type": "code",
   "execution_count": null,
   "metadata": {},
   "outputs": [],
   "source": [
    "# Renombramos las columnas de la tabla de aerolíneas\n",
    "names(tabla_aerolineas) <- c(\"Airline ID\", \n",
    "                             \"Name\", \n",
    "                             \"Alias\", \n",
    "                             \"IATA\", \n",
    "                             \"ICAO\", \n",
    "                             \"Callsign\", \n",
    "                             \"Country\", \n",
    "                             \"Active\"\n",
    "                              )"
   ]
  },
  {
   "cell_type": "code",
   "execution_count": null,
   "metadata": {},
   "outputs": [],
   "source": [
    "# Checamos la tabla_aerolíneas con los nuevos nombres\n",
    "tabla_aerolineas %>% head  "
   ]
  },
  {
   "cell_type": "code",
   "execution_count": null,
   "metadata": {},
   "outputs": [],
   "source": [
    "# Quitamos el primer renglón de la tabla_aerolíneas\n",
    "tabla_aerolineas <- tabla_aerolineas [-c(1), ]"
   ]
  },
  {
   "cell_type": "code",
   "execution_count": null,
   "metadata": {},
   "outputs": [],
   "source": [
    "#Checamos la tabla_aerolíneas\n",
    "tabla_aerolineas %>% head "
   ]
  },
  {
   "cell_type": "code",
   "execution_count": null,
   "metadata": {},
   "outputs": [],
   "source": [
    "#Quitamos columnas de ID que no necesitamos de tabla_rutas\n",
    "tabla_rutas <- tabla_rutas %>%\n",
    "  dplyr::select(Airline,\n",
    "                Source_airport,\n",
    "                Destination_Airport,\n",
    "                Codeshare,\n",
    "                Stops_Number,\n",
    "                Equipment)"
   ]
  },
  {
   "cell_type": "code",
   "execution_count": null,
   "metadata": {},
   "outputs": [],
   "source": [
    "#Checamos la tabla_rutas\n",
    "tabla_rutas %>% head"
   ]
  },
  {
   "cell_type": "code",
   "execution_count": null,
   "metadata": {},
   "outputs": [],
   "source": [
    "#Ahora hacemos un ciclo que recorra toda la tabla_aerolíneas, el cual \n",
    "#remueva los renglones correspondientes a las aerolíneas que NO están activas.\n",
    "\n",
    "tabla_aerolineas <- tabla_aerolineas %>% \n",
    "  dplyr::filter(Active == \"Y\")"
   ]
  },
  {
   "cell_type": "code",
   "execution_count": null,
   "metadata": {},
   "outputs": [],
   "source": [
    "#Checamos la tabla_aerolineas\n",
    "tabla_aerolineas %>% head"
   ]
  },
  {
   "cell_type": "code",
   "execution_count": null,
   "metadata": {},
   "outputs": [],
   "source": [
    "#Falta remover los renglones de la tabla_aeropuertos que contienen algún aeropuerto inactivo"
   ]
  },
  {
   "cell_type": "code",
   "execution_count": null,
   "metadata": {},
   "outputs": [],
   "source": [
    "#Checamos la tabla_aeropuertos\n",
    "tabla_aeropuertos %>% head"
   ]
  },
  {
   "cell_type": "code",
   "execution_count": null,
   "metadata": {},
   "outputs": [],
   "source": [
    "#Encontramos la intersección entre tabla_aerolineas y tabla_rutas\n",
    "#para usar sólo las rutas de las aerolíneas activas.\n",
    "tabla_rutas <- semi_join(tabla_rutas, tabla_aerolineas, by = c(\"Airline\" = \"IATA\"))"
   ]
  },
  {
   "cell_type": "code",
   "execution_count": null,
   "metadata": {},
   "outputs": [],
   "source": [
    "#Encontramos la intersección entre tabla_aeropuertos y tabla_rutas\n",
    "#para usar sólo las rutas de las aeropuertos activos."
   ]
  },
  {
   "cell_type": "code",
   "execution_count": null,
   "metadata": {},
   "outputs": [],
   "source": [
    "#Checamos la tabla_rutas modificada\n",
    "tabla_rutas %>% head"
   ]
  },
  {
   "cell_type": "code",
   "execution_count": null,
   "metadata": {},
   "outputs": [],
   "source": [
    "#Cargamos la tabla de rutas2 (actualizada en dic de 2018)\n",
    "tabla_rutas2 <- data.table::fread(\n",
    "  input = \"\"\n",
    ")"
   ]
  },
  {
   "cell_type": "code",
   "execution_count": null,
   "metadata": {},
   "outputs": [],
   "source": [
    "#Checamos la tabla_rutas2\n",
    "tabla_rutas2 %>% head"
   ]
  },
  {
   "cell_type": "code",
   "execution_count": null,
   "metadata": {},
   "outputs": [],
   "source": [
    "#Quitamos el primer y segundo renglón de la tabla_aerolíneas\n",
    "tabla_rutas2 <- tabla_rutas2 [-c(2), ]"
   ]
  },
  {
   "cell_type": "code",
   "execution_count": null,
   "metadata": {},
   "outputs": [],
   "source": [
    "#Checamos tabla_rutas2\n",
    "tabla_rutas2 %>% head"
   ]
  },
  {
   "cell_type": "code",
   "execution_count": null,
   "metadata": {},
   "outputs": [],
   "source": [
    "# Renombramos las columnas de la tabla_rutas2\n",
    "names(tabla_rutas2) <- c(\"Airline\", \n",
    "                         \"Source\", \n",
    "                         \"Destination\", \n",
    "                         \"Codeshare\", \n",
    "                         \"Stops\", \n",
    "                         \"Equipment\"\n",
    ")"
   ]
  },
  {
   "cell_type": "code",
   "execution_count": null,
   "metadata": {},
   "outputs": [],
   "source": [
    "#Checamos tabla_rutas2\n",
    "tabla_rutas2 %>% head"
   ]
  },
  {
   "cell_type": "code",
   "execution_count": null,
   "metadata": {},
   "outputs": [],
   "source": [
    "#Encontramos la intersección entre tabla_aerolineas y tabla_rutas2\n",
    "#para usar sólo las rutas de las aerolíneas activas.\n",
    "tabla_rutas2 <- semi_join(tabla_rutas2, tabla_aerolineas, by = c(\"Airline\" = \"IATA\"))"
   ]
  },
  {
   "cell_type": "markdown",
   "metadata": {},
   "source": [
    "Puesto que tabla_rutas2 contiene menos datos, usaremos esos..."
   ]
  },
  {
   "cell_type": "code",
   "execution_count": null,
   "metadata": {},
   "outputs": [],
   "source": [
    "#Queremos converir la columna de Codeshare a booleano\n",
    "tabla_rutas2 <- tabla_rutas2 %>%\n",
    "  dplyr::mutate(Codeshare = ifelse(test = Codeshare == \"*\",\n",
    "                                   yes = TRUE,\n",
    "                                   no = FALSE\n",
    "  )\n",
    "  )"
   ]
  },
  {
   "cell_type": "code",
   "execution_count": null,
   "metadata": {},
   "outputs": [],
   "source": [
    "#Checamos\n",
    "tabla_rutas2 %>% head"
   ]
  },
  {
   "cell_type": "code",
   "execution_count": null,
   "metadata": {},
   "outputs": [],
   "source": [
    "#Ahora voy a quitar las rutas que contienen escalas, \n",
    "#i.e. los que son distintos de 0 en \"Stops_Number\"\n",
    "tabla_rutas2 <- tabla_rutas2 %>% \n",
    "  dplyr::filter(Stops == 0)"
   ]
  },
  {
   "cell_type": "code",
   "execution_count": null,
   "metadata": {},
   "outputs": [],
   "source": [
    "#Checamos\n",
    "tabla_rutas2"
   ]
  },
  {
   "cell_type": "code",
   "execution_count": null,
   "metadata": {},
   "outputs": [],
   "source": [
    "#Ahora voy a quitar las rutas que contienen Codeshare, \n",
    "#i.e. los que son TRUE en \"Codeshare\"\n",
    "tabla_rutas2 <- tabla_rutas2 %>%\n",
    "  dplyr::filter(Codeshare == FALSE)"
   ]
  },
  {
   "cell_type": "code",
   "execution_count": null,
   "metadata": {},
   "outputs": [],
   "source": [
    "#Checamos\n",
    "tabla_rutas2"
   ]
  },
  {
   "cell_type": "code",
   "execution_count": null,
   "metadata": {},
   "outputs": [],
   "source": [
    "#Cambio orden de columnas\n",
    "tabla_rutas2[ , -1]\n",
    "tabla_rutas2[ , 1]\n",
    "\n",
    "da.fr <- cbind(tabla_rutas2[,-1], \n",
    "               Airline = tabla_rutas2$Airline\n",
    ")"
   ]
  },
  {
   "cell_type": "code",
   "execution_count": null,
   "metadata": {},
   "outputs": [],
   "source": [
    "#Checo cómo se ve\n",
    "da.fr %>% head"
   ]
  },
  {
   "cell_type": "code",
   "execution_count": null,
   "metadata": {},
   "outputs": [],
   "source": [
    "#Hago red\n",
    "g <- igraph::graph_from_data_frame(d = da.fr, \n",
    "                                   directed = TRUE)"
   ]
  },
  {
   "cell_type": "markdown",
   "metadata": {},
   "source": [
    "Se grafican las rutas aéreas de todas las aerolíneas como una red monocapa."
   ]
  },
  {
   "cell_type": "code",
   "execution_count": null,
   "metadata": {},
   "outputs": [],
   "source": [
    "#Graficamos todo en una capa\n",
    "plot(g, edge.arrow.size=.4, edge.curved=.1,\n",
    "     vertex.color=\"orange\", \n",
    "     vertex.frame.color=\"#555555\",\n",
    "     vertex.label.color=\"black\",\n",
    "     vertex.label.cex=.7)"
   ]
  },
  {
   "cell_type": "markdown",
   "metadata": {},
   "source": [
    "Medidas de centralidad de esta red monocapa de rutas."
   ]
  },
  {
   "cell_type": "code",
   "execution_count": null,
   "metadata": {},
   "outputs": [],
   "source": [
    "#Grado\n",
    "degree(g) %>% head"
   ]
  },
  {
   "cell_type": "code",
   "execution_count": null,
   "metadata": {},
   "outputs": [],
   "source": [
    "#Distribución de grado\n"
   ]
  },
  {
   "cell_type": "code",
   "execution_count": null,
   "metadata": {},
   "outputs": [],
   "source": [
    "#Estructura de degree(g)\n",
    "str(degree(g))"
   ]
  },
  {
   "cell_type": "code",
   "execution_count": null,
   "metadata": {},
   "outputs": [],
   "source": [
    "#Average Shortest Path Length\n",
    "average.path.length(g)"
   ]
  },
  {
   "cell_type": "code",
   "execution_count": null,
   "metadata": {},
   "outputs": [],
   "source": [
    "#Betweenness\n",
    "betweenness(g) %>% head"
   ]
  },
  {
   "cell_type": "code",
   "execution_count": null,
   "metadata": {},
   "outputs": [],
   "source": [
    "#Diámetro\n",
    "diameter(g)"
   ]
  },
  {
   "cell_type": "code",
   "execution_count": null,
   "metadata": {},
   "outputs": [],
   "source": [
    "#Radio\n",
    "radius(g)"
   ]
  },
  {
   "cell_type": "code",
   "execution_count": null,
   "metadata": {},
   "outputs": [],
   "source": [
    "#Excentricidad\n",
    "eccentricity(g) %>% head"
   ]
  },
  {
   "cell_type": "code",
   "execution_count": null,
   "metadata": {},
   "outputs": [],
   "source": [
    "#Transitivity/Clustering Coefficient\n",
    "transitivity(g)"
   ]
  },
  {
   "cell_type": "markdown",
   "metadata": {},
   "source": [
    "Para crear la red multicapa"
   ]
  },
  {
   "cell_type": "code",
   "execution_count": null,
   "metadata": {},
   "outputs": [],
   "source": [
    "#Vemos cuántas aerolíneas distintas tenemos\n",
    "length(unique(da.fr$Airline))"
   ]
  },
  {
   "cell_type": "code",
   "execution_count": null,
   "metadata": {},
   "outputs": [],
   "source": [
    "#Tomo todas las aerolíneas posibles con unique\n",
    "#Como las aerolíneas son de tipo Factor, lo convierto a caracteres \n",
    "mis_aerolineas <- as.character(unique(da.fr$Airline)) "
   ]
  },
  {
   "cell_type": "code",
   "execution_count": null,
   "metadata": {},
   "outputs": [],
   "source": [
    "#La lista \"hereda\" los nombres\n",
    "names(mis_aerolineas) <- mis_aerolineas"
   ]
  },
  {
   "cell_type": "code",
   "execution_count": null,
   "metadata": {},
   "outputs": [],
   "source": [
    "#Se aplica el filtrado para aerolíneas, que corresponderán a distintas capas \n",
    "#y le agrega la gráfica a cada capa\n",
    "graph_capas <- lapply(mis_aerolineas, FUN = function(i){\n",
    "  xf <- dplyr::filter(.data = da.fr, Airline == i)\n",
    "  g <- igraph::graph_from_data_frame(d = xf, \n",
    "                                     directed = TRUE)\n",
    "}) "
   ]
  },
  {
   "cell_type": "code",
   "execution_count": null,
   "metadata": {},
   "outputs": [],
   "source": [
    "#Eg. Se grafica la red de la capa correspondiente a la aerolínea 2B\n",
    "plot(graph_capas$`2B`)"
   ]
  },
  {
   "cell_type": "code",
   "execution_count": null,
   "metadata": {},
   "outputs": [],
   "source": [
    "#Eg. Se grafica la red de la capa correspondiente a la aerolínea AM\n",
    "plot(graph_capas$AM)"
   ]
  },
  {
   "cell_type": "code",
   "execution_count": null,
   "metadata": {},
   "outputs": [],
   "source": [
    "#Agrego al ciclo las centralidades de cada capa\n",
    "capas <- lapply(mis_aerolineas, FUN = function(i){\n",
    "  xf <- dplyr::filter(.data = da.fr, Airline == i)\n",
    "  g <- igraph::graph_from_data_frame(d = xf, \n",
    "                                     directed = TRUE)\n",
    "  Resultados <- list(APL = average.path.length(g), \n",
    "                     Diametro = diameter(g),\n",
    "                     Radio = radius(g),\n",
    "                     Clustering_Coefficient = transitivity(g),\n",
    "                     Red = g)\n",
    "  \n",
    "  return(Resultados)\n",
    "}) "
   ]
  },
  {
   "cell_type": "code",
   "execution_count": null,
   "metadata": {},
   "outputs": [],
   "source": [
    "#Eg. Llamamos la información de APL de la capa correspondiente a la aerolínea 2B\n",
    "capas$`2B`$APL"
   ]
  },
  {
   "cell_type": "code",
   "execution_count": null,
   "metadata": {},
   "outputs": [],
   "source": [
    "#Eg. Llamamos la información de APL de la capa correspondiente a la aerolínea AM\n",
    "capas$AM$APL"
   ]
  },
  {
   "cell_type": "code",
   "execution_count": null,
   "metadata": {},
   "outputs": [],
   "source": [
    "#Eg. Llamamos la información de APL de la capa correspondiente a la aerolínea AM\n",
    "capas$AM$Diametro"
   ]
  },
  {
   "cell_type": "code",
   "execution_count": null,
   "metadata": {},
   "outputs": [],
   "source": [
    "#Eg. Llamamos la información de APL de la capa correspondiente a la aerolínea AM\n",
    "capas$AM$Radio"
   ]
  },
  {
   "cell_type": "code",
   "execution_count": null,
   "metadata": {},
   "outputs": [],
   "source": [
    "#Eg. Llamamos la información de APL de la capa correspondiente a la aerolínea AM\n",
    "capas$AM$Clustering_Coefficient"
   ]
  },
  {
   "cell_type": "code",
   "execution_count": null,
   "metadata": {},
   "outputs": [],
   "source": [
    "#Eg. Para graficar la capa correspondiente a la aerolínea 2I.\n",
    "#Graficamos la entrada Red de la aerolínea 2I\n",
    "plot(capas$`2I`$Red)"
   ]
  },
  {
   "cell_type": "code",
   "execution_count": null,
   "metadata": {},
   "outputs": [],
   "source": [
    "#Juntamos toda la información de las capas\n",
    "capas_totales <- capas[1:567\n",
    "                 ]"
   ]
  },
  {
   "cell_type": "code",
   "execution_count": null,
   "metadata": {},
   "outputs": [],
   "source": [
    "#Checamos los nombres de todas las aerolíneas\n",
    "names(capas_totales)"
   ]
  },
  {
   "cell_type": "code",
   "execution_count": null,
   "metadata": {},
   "outputs": [],
   "source": [
    "#Generalizamos.\n",
    "#Hacemos un ciclo que llame a la función capas y las grafique\n",
    "for(i in seq_along(capas)){\n",
    "  plot(capas[[i]][[\"Red\"]],\n",
    "       main = names(capas[i]))\n",
    "}"
   ]
  },
  {
   "cell_type": "code",
   "execution_count": null,
   "metadata": {},
   "outputs": [],
   "source": [
    "#Eg. Llamamos la entrada 1 del conjunto de capas totales y después llamamos la Red\n",
    "capas[[1]][[\"Red\"]]"
   ]
  },
  {
   "cell_type": "code",
   "execution_count": null,
   "metadata": {},
   "outputs": [],
   "source": [
    "#Para graficarlo\n",
    "plot(capas_totales[[1]][[\"Red\"]])"
   ]
  },
  {
   "cell_type": "code",
   "execution_count": null,
   "metadata": {},
   "outputs": [],
   "source": [
    "#Para averiguar cuántos nodos tenemos en la tabla_rutas2"
   ]
  },
  {
   "cell_type": "code",
   "execution_count": null,
   "metadata": {},
   "outputs": [],
   "source": []
  },
  {
   "cell_type": "code",
   "execution_count": null,
   "metadata": {},
   "outputs": [],
   "source": []
  },
  {
   "cell_type": "code",
   "execution_count": null,
   "metadata": {},
   "outputs": [],
   "source": []
  },
  {
   "cell_type": "code",
   "execution_count": null,
   "metadata": {},
   "outputs": [],
   "source": []
  },
  {
   "cell_type": "code",
   "execution_count": null,
   "metadata": {},
   "outputs": [],
   "source": []
  },
  {
   "cell_type": "code",
   "execution_count": null,
   "metadata": {},
   "outputs": [],
   "source": []
  }
 ],
 "metadata": {
  "kernelspec": {
   "display_name": "R",
   "language": "R",
   "name": "ir"
  },
  "language_info": {
   "codemirror_mode": "r",
   "file_extension": ".r",
   "mimetype": "text/x-r-source",
   "name": "R",
   "pygments_lexer": "r",
   "version": "3.5.2"
  }
 },
 "nbformat": 4,
 "nbformat_minor": 2
}
