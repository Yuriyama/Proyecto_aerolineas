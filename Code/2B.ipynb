{
 "cells": [
  {
   "cell_type": "markdown",
   "metadata": {},
   "source": [
    "# Random Walks en Multiplex de Aerolíneas\n",
    "\n",
    "## Directorio"
   ]
  },
  {
   "cell_type": "code",
   "execution_count": 1,
   "metadata": {},
   "outputs": [],
   "source": [
    "#Establecer directorio\n",
    "cd(\"$(homedir())/Documents/UNAM/Tesis_Lic\")"
   ]
  },
  {
   "cell_type": "markdown",
   "metadata": {},
   "source": [
    "## Paquetes\n",
    "\n",
    "Se importan todos los paquetes que se necesitarán para las funciones y visualizaciones del proyecto."
   ]
  },
  {
   "cell_type": "code",
   "execution_count": 2,
   "metadata": {},
   "outputs": [],
   "source": [
    "using StatsBase\n",
    "\n",
    "#using NamedArrays\n",
    "#using CSV\n",
    "#using DataFrames"
   ]
  },
  {
   "cell_type": "code",
   "execution_count": 3,
   "metadata": {},
   "outputs": [],
   "source": [
    "using DelimitedFiles"
   ]
  },
  {
   "cell_type": "code",
   "execution_count": 4,
   "metadata": {},
   "outputs": [],
   "source": [
    "using RandomNumbers.Xorshifts"
   ]
  },
  {
   "cell_type": "code",
   "execution_count": 5,
   "metadata": {},
   "outputs": [],
   "source": [
    "using LightGraphs"
   ]
  },
  {
   "cell_type": "code",
   "execution_count": 6,
   "metadata": {},
   "outputs": [],
   "source": [
    "using Plots"
   ]
  },
  {
   "cell_type": "code",
   "execution_count": 7,
   "metadata": {},
   "outputs": [],
   "source": [
    "using GraphPlot"
   ]
  },
  {
   "cell_type": "code",
   "execution_count": 157,
   "metadata": {},
   "outputs": [
    {
     "name": "stderr",
     "output_type": "stream",
     "text": [
      "WARNING: using Compose.font in module Main conflicts with an existing identifier.\n"
     ]
    }
   ],
   "source": [
    "using Compose"
   ]
  },
  {
   "cell_type": "code",
   "execution_count": 158,
   "metadata": {},
   "outputs": [
    {
     "data": {
      "image/svg+xml": [
       "<?xml version=\"1.0\" encoding=\"UTF-8\"?>\n",
       "<svg xmlns=\"http://www.w3.org/2000/svg\"\n",
       "     xmlns:xlink=\"http://www.w3.org/1999/xlink\"\n",
       "     version=\"1.2\"\n",
       "     width=\"141.42mm\" height=\"100mm\" viewBox=\"0 0 141.42 100\"\n",
       "     stroke=\"none\"\n",
       "     fill=\"#000000\"\n",
       "     stroke-width=\"0.3\"\n",
       "     font-size=\"3.88\"\n",
       ">\n",
       "<defs>\n",
       "  <marker id=\"arrow\" markerWidth=\"15\" markerHeight=\"7\" refX=\"5\" refY=\"3.5\" orient=\"auto\" markerUnits=\"strokeWidth\">\n",
       "    <path d=\"M0,0 L15,3.5 L0,7 z\" stroke=\"context-stroke\" fill=\"context-stroke\"/>\n",
       "  </marker>\n",
       "</defs>\n",
       "<g stroke-width=\"0.51\" fill=\"#000000\" fill-opacity=\"0.000\" stroke=\"#D3D3D3\" id=\"img-dc25c371-1\">\n",
       "  <g transform=\"translate(73.37,66.74)\">\n",
       "    <path fill=\"none\" d=\"M-5.88,0.62 L 5.88 -0.62\" class=\"primitive\"/>\n",
       "  </g>\n",
       "  <g transform=\"translate(76.63,59.97)\">\n",
       "    <path fill=\"none\" d=\"M-9.79,6.45 L 9.79 -6.45\" class=\"primitive\"/>\n",
       "  </g>\n",
       "  <g transform=\"translate(72.88,69.51)\">\n",
       "    <path fill=\"none\" d=\"M-5.49,-1.31 L 5.49 1.31\" class=\"primitive\"/>\n",
       "  </g>\n",
       "  <g transform=\"translate(52.73,71.93)\">\n",
       "    <path fill=\"none\" d=\"M10,-3.5 L -10 3.5\" class=\"primitive\"/>\n",
       "  </g>\n",
       "  <g transform=\"translate(46.94,72.54)\">\n",
       "    <path fill=\"none\" d=\"M15.7,-4.27 L -15.7 4.27\" class=\"primitive\"/>\n",
       "  </g>\n",
       "  <g transform=\"translate(49.39,75.72)\">\n",
       "    <path fill=\"none\" d=\"M13.56,-7.03 L -13.56 7.03\" class=\"primitive\"/>\n",
       "  </g>\n",
       "  <g transform=\"translate(77.36,69.53)\">\n",
       "    <path fill=\"none\" d=\"M-9.9,-1.52 L 9.9 1.52\" class=\"primitive\"/>\n",
       "  </g>\n",
       "  <g transform=\"translate(77.01,57.11)\">\n",
       "    <path fill=\"none\" d=\"M-10.43,9.14 L 10.43 -9.14\" class=\"primitive\"/>\n",
       "  </g>\n",
       "  <g transform=\"translate(49.75,68.09)\">\n",
       "    <path fill=\"none\" d=\"M12.71,-0.39 L -12.71 0.39\" class=\"primitive\"/>\n",
       "  </g>\n",
       "  <g transform=\"translate(59.61,79.65)\">\n",
       "    <path fill=\"none\" d=\"M4.62,-10.32 L -4.62 10.32\" class=\"primitive\"/>\n",
       "  </g>\n",
       "  <g transform=\"translate(72.42,77.43)\">\n",
       "    <path fill=\"none\" d=\"M-6.23,-8.23 L 6.23 8.23\" class=\"primitive\"/>\n",
       "  </g>\n",
       "  <g transform=\"translate(72.54,61.83)\">\n",
       "    <path fill=\"none\" d=\"M-5.84,4.49 L 5.84 -4.49\" class=\"primitive\"/>\n",
       "  </g>\n",
       "  <g transform=\"translate(63.92,73.19)\">\n",
       "    <path fill=\"none\" d=\"M0.73,-3.79 L -0.73 3.79\" class=\"primitive\"/>\n",
       "  </g>\n",
       "  <g transform=\"translate(78.69,62.96)\">\n",
       "    <path fill=\"none\" d=\"M-11.42,3.9 L 11.42 -3.9\" class=\"primitive\"/>\n",
       "  </g>\n",
       "  <g transform=\"translate(68.83,75.22)\">\n",
       "    <path fill=\"none\" d=\"M-2.99,-5.9 L 2.99 5.9\" class=\"primitive\"/>\n",
       "  </g>\n",
       "  <g transform=\"translate(69.97,51.97)\">\n",
       "    <path fill=\"none\" d=\"M-4.42,13.92 L 4.42 -13.92\" class=\"primitive\"/>\n",
       "  </g>\n",
       "  <g transform=\"translate(85.02,59.08)\">\n",
       "    <path fill=\"none\" d=\"M-2.44,5.09 L 2.44 -5.09\" class=\"primitive\"/>\n",
       "  </g>\n",
       "  <g transform=\"translate(81.26,68.63)\">\n",
       "    <path fill=\"none\" d=\"M0.18,-0.99 L -0.18 0.99\" class=\"primitive\"/>\n",
       "  </g>\n",
       "  <g transform=\"translate(85.74,68.64)\">\n",
       "    <path fill=\"none\" d=\"M-2.19,-1.53 L 2.19 1.53\" class=\"primitive\"/>\n",
       "  </g>\n",
       "  <g transform=\"translate(80.93,60.95)\">\n",
       "    <path fill=\"none\" d=\"M0.53,3.14 L -0.53 -3.14\" class=\"primitive\"/>\n",
       "  </g>\n",
       "  <g transform=\"translate(72.3,72.3)\">\n",
       "    <path fill=\"none\" d=\"M7.64,-5.2 L -7.64 5.2\" class=\"primitive\"/>\n",
       "  </g>\n",
       "  <g transform=\"translate(87.07,62.07)\">\n",
       "    <path fill=\"none\" d=\"M-3.54,2.52 L 3.54 -2.52\" class=\"primitive\"/>\n",
       "  </g>\n",
       "  <g transform=\"translate(77.22,74.33)\">\n",
       "    <path fill=\"none\" d=\"M3.65,-6.8 L -3.65 6.8\" class=\"primitive\"/>\n",
       "  </g>\n",
       "  <g transform=\"translate(92.06,57.25)\">\n",
       "    <path fill=\"none\" d=\"M-8.67,7.25 L 8.67 -7.25\" class=\"primitive\"/>\n",
       "  </g>\n",
       "  <g transform=\"translate(84.52,61.85)\">\n",
       "    <path fill=\"none\" d=\"M3.08,-7.82 L -3.08 7.82\" class=\"primitive\"/>\n",
       "  </g>\n",
       "  <g transform=\"translate(89,61.87)\">\n",
       "    <path fill=\"none\" d=\"M-0.59,-7.78 L 0.59 7.78\" class=\"primitive\"/>\n",
       "  </g>\n",
       "  <g transform=\"translate(88.65,49.44)\">\n",
       "    <path fill=\"none\" d=\"M-0.14,1.08 L 0.14 -1.08\" class=\"primitive\"/>\n",
       "  </g>\n",
       "  <g transform=\"translate(102.12,51.06)\">\n",
       "    <path fill=\"none\" d=\"M-11.34,1.02 L 11.34 -1.02\" class=\"primitive\"/>\n",
       "  </g>\n",
       "  <g transform=\"translate(84.18,54.17)\">\n",
       "    <path fill=\"none\" d=\"M1.97,-0.9 L -1.97 0.9\" class=\"primitive\"/>\n",
       "  </g>\n",
       "  <g transform=\"translate(84.09,40.39)\">\n",
       "    <path fill=\"none\" d=\"M3.58,10.18 L -3.58 -10.18\" class=\"primitive\"/>\n",
       "  </g>\n",
       "  <g transform=\"translate(87.47,44.54)\">\n",
       "    <path fill=\"none\" d=\"M0.62,5.98 L -0.62 -5.98\" class=\"primitive\"/>\n",
       "  </g>\n",
       "  <g transform=\"translate(97.81,41.84)\">\n",
       "    <path fill=\"none\" d=\"M-8.17,8.96 L 8.17 -8.96\" class=\"primitive\"/>\n",
       "  </g>\n",
       "  <g transform=\"translate(85.25,71.41)\">\n",
       "    <path fill=\"none\" d=\"M-1.96,-0.01 L 1.96 0.01\" class=\"primitive\"/>\n",
       "  </g>\n",
       "  <g transform=\"translate(80.3,79.31)\">\n",
       "    <path fill=\"none\" d=\"M0.36,-6.13 L -0.36 6.13\" class=\"primitive\"/>\n",
       "  </g>\n",
       "  <g transform=\"translate(80.43,63.71)\">\n",
       "    <path fill=\"none\" d=\"M0.26,5.9 L -0.26 -5.9\" class=\"primitive\"/>\n",
       "  </g>\n",
       "  <g transform=\"translate(37.13,80.02)\">\n",
       "    <path fill=\"none\" d=\"M2,-2.28 L -2 2.28\" class=\"primitive\"/>\n",
       "  </g>\n",
       "  <g transform=\"translate(37.49,72.39)\">\n",
       "    <path fill=\"none\" d=\"M1.76,2.26 L -1.76 -2.26\" class=\"primitive\"/>\n",
       "  </g>\n",
       "  <g transform=\"translate(31.34,80.63)\">\n",
       "    <path fill=\"none\" d=\"M-1.25,-1.61 L 1.25 1.61\" class=\"primitive\"/>\n",
       "  </g>\n",
       "  <g transform=\"translate(31.7,73)\">\n",
       "    <path fill=\"none\" d=\"M-1.78,2.81 L 1.78 -2.81\" class=\"primitive\"/>\n",
       "  </g>\n",
       "  <g transform=\"translate(20.33,83.37)\">\n",
       "    <path fill=\"none\" d=\"M6.74,-4.67 L -6.74 4.67\" class=\"primitive\"/>\n",
       "  </g>\n",
       "  <g transform=\"translate(22.79,86.55)\">\n",
       "    <path fill=\"none\" d=\"M8.62,-2.14 L -8.62 2.14\" class=\"primitive\"/>\n",
       "  </g>\n",
       "  <g transform=\"translate(95.7,47.61)\">\n",
       "    <path fill=\"none\" d=\"M-4.2,-0.65 L 4.2 0.65\" class=\"primitive\"/>\n",
       "  </g>\n",
       "  <g transform=\"translate(98.19,38.98)\">\n",
       "    <path fill=\"none\" d=\"M-7.52,6.24 L 7.52 -6.24\" class=\"primitive\"/>\n",
       "  </g>\n",
       "  <g transform=\"translate(96.11,40.13)\">\n",
       "    <path fill=\"none\" d=\"M-5.53,5.04 L 5.53 -5.04\" class=\"primitive\"/>\n",
       "  </g>\n",
       "  <g transform=\"translate(109.58,41.75)\">\n",
       "    <path fill=\"none\" d=\"M5.16,6.51 L -5.16 -6.51\" class=\"primitive\"/>\n",
       "  </g>\n",
       "  <g transform=\"translate(91.64,44.86)\">\n",
       "    <path fill=\"none\" d=\"M-10.06,9.73 L 10.06 -9.73\" class=\"primitive\"/>\n",
       "  </g>\n",
       "  <g transform=\"translate(111.39,24.68)\">\n",
       "    <path fill=\"none\" d=\"M3.05,-5.06 L -3.05 5.06\" class=\"primitive\"/>\n",
       "  </g>\n",
       "  <g transform=\"translate(109.31,25.83)\">\n",
       "    <path fill=\"none\" d=\"M4.9,-6.29 L -4.9 6.29\" class=\"primitive\"/>\n",
       "  </g>\n",
       "  <g transform=\"translate(118.49,31.37)\">\n",
       "    <path fill=\"none\" d=\"M8.62,-0.01 L -8.62 0.01\" class=\"primitive\"/>\n",
       "  </g>\n",
       "  <g transform=\"translate(116.41,32.52)\">\n",
       "    <path fill=\"none\" d=\"M10.72,-0.95 L -10.72 0.95\" class=\"primitive\"/>\n",
       "  </g>\n",
       "  <g transform=\"translate(115.63,25.61)\">\n",
       "    <path fill=\"none\" d=\"M6.48,-4.52 L -6.48 4.52\" class=\"primitive\"/>\n",
       "  </g>\n",
       "  <g transform=\"translate(113.55,26.76)\">\n",
       "    <path fill=\"none\" d=\"M8.52,-5.69 L -8.52 5.69\" class=\"primitive\"/>\n",
       "  </g>\n",
       "  <g transform=\"translate(97.79,45.98)\">\n",
       "    <path fill=\"none\" d=\"M-4.65,10.6 L 4.65 -10.6\" class=\"primitive\"/>\n",
       "  </g>\n",
       "  <g transform=\"translate(117.7,28.34)\">\n",
       "    <path fill=\"none\" d=\"M8.03,-2.35 L -8.03 2.35\" class=\"primitive\"/>\n",
       "  </g>\n",
       "  <g transform=\"translate(115.63,29.49)\">\n",
       "    <path fill=\"none\" d=\"M10.15,-3.42 L -10.15 3.42\" class=\"primitive\"/>\n",
       "  </g>\n",
       "  <g transform=\"translate(117.68,34.61)\">\n",
       "    <path fill=\"none\" d=\"M8.03,2.51 L -8.03 -2.51\" class=\"primitive\"/>\n",
       "  </g>\n",
       "  <g transform=\"translate(115.61,35.76)\">\n",
       "    <path fill=\"none\" d=\"M9.96,1.67 L -9.96 -1.67\" class=\"primitive\"/>\n",
       "  </g>\n",
       "  <g transform=\"translate(79.22,17.09)\">\n",
       "    <path fill=\"none\" d=\"M8.54,1.39 L -8.54 -1.39\" class=\"primitive\"/>\n",
       "  </g>\n",
       "  <g transform=\"translate(85.06,23.68)\">\n",
       "    <path fill=\"none\" d=\"M3.63,-3.37 L -3.63 3.37\" class=\"primitive\"/>\n",
       "  </g>\n",
       "  <g transform=\"translate(96.75,17.34)\">\n",
       "    <path fill=\"none\" d=\"M-4.13,0.97 L 4.13 -0.97\" class=\"primitive\"/>\n",
       "  </g>\n",
       "  <g transform=\"translate(98.79,25.13)\">\n",
       "    <path fill=\"none\" d=\"M-6.8,-4.97 L 6.8 4.97\" class=\"primitive\"/>\n",
       "  </g>\n",
       "  <g transform=\"translate(96.71,26.28)\">\n",
       "    <path fill=\"none\" d=\"M-5.15,-5.88 L 5.15 5.88\" class=\"primitive\"/>\n",
       "  </g>\n",
       "  <g transform=\"translate(63.85,18.45)\">\n",
       "    <path fill=\"none\" d=\"M-2.6,1.87 L 2.6 -1.87\" class=\"primitive\"/>\n",
       "  </g>\n",
       "  <g transform=\"translate(69.69,25.03)\">\n",
       "    <path fill=\"none\" d=\"M-7.93,-2.67 L 7.93 2.67\" class=\"primitive\"/>\n",
       "  </g>\n",
       "  <g transform=\"translate(67.21,28.95)\">\n",
       "    <path fill=\"none\" d=\"M-6.23,-5.93 L 6.23 5.93\" class=\"primitive\"/>\n",
       "  </g>\n",
       "  <g transform=\"translate(71.58,25.81)\">\n",
       "    <path fill=\"none\" d=\"M-2.81,-8.76 L 2.81 8.76\" class=\"primitive\"/>\n",
       "  </g>\n",
       "  <g transform=\"translate(106.71,12.07)\">\n",
       "    <path fill=\"none\" d=\"M2.06,-2.24 L -2.06 2.24\" class=\"primitive\"/>\n",
       "  </g>\n",
       "  <g transform=\"translate(106.67,21.01)\">\n",
       "    <path fill=\"none\" d=\"M2.99,-10.92 L -2.99 10.92\" class=\"primitive\"/>\n",
       "  </g>\n",
       "  <g transform=\"translate(91.55,31.08)\">\n",
       "    <path fill=\"none\" d=\"M-9.24,-2.07 L 9.24 2.07\" class=\"primitive\"/>\n",
       "  </g>\n",
       "  <g transform=\"translate(80.81,36.55)\">\n",
       "    <path fill=\"none\" d=\"M3.34,0.13 L -3.34 -0.13\" class=\"primitive\"/>\n",
       "  </g>\n",
       "  <g transform=\"translate(94.93,35.23)\">\n",
       "    <path fill=\"none\" d=\"M-5.82,1.09 L 5.82 -1.09\" class=\"primitive\"/>\n",
       "  </g>\n",
       "  <g transform=\"translate(105.31,23.59)\">\n",
       "    <path fill=\"none\" d=\"M-1.58,-6.03 L 1.58 6.03\" class=\"primitive\"/>\n",
       "  </g>\n",
       "  <g transform=\"translate(103.23,24.74)\">\n",
       "    <path fill=\"none\" d=\"M0.03,-7.16 L -0.03 7.16\" class=\"primitive\"/>\n",
       "  </g>\n",
       "  <g transform=\"translate(104.86,40.01)\">\n",
       "    <path fill=\"none\" d=\"M-1.98,6.88 L 1.98 -6.88\" class=\"primitive\"/>\n",
       "  </g>\n",
       "  <g transform=\"translate(102.78,41.16)\">\n",
       "    <path fill=\"none\" d=\"M-0.31,5.69 L 0.31 -5.69\" class=\"primitive\"/>\n",
       "  </g>\n",
       "  <g transform=\"translate(91.14,33.85)\">\n",
       "    <path fill=\"none\" d=\"M-13.73,2.09 L 13.73 -2.09\" class=\"primitive\"/>\n",
       "  </g>\n",
       "  <g transform=\"translate(89.07,35)\">\n",
       "    <path fill=\"none\" d=\"M-11.62,1.08 L 11.62 -1.08\" class=\"primitive\"/>\n",
       "  </g>\n",
       "  <g transform=\"translate(105.27,32.53)\">\n",
       "    <path fill=\"none\" d=\"M0.09,-0.05 L -0.09 0.05\" class=\"primitive\"/>\n",
       "  </g>\n",
       "</g>\n",
       "<g stroke-width=\"0.51\" stroke=\"#D3D3D3\" id=\"img-dc25c371-2\">\n",
       "</g>\n",
       "<g font-size=\"4\" stroke=\"#000000\" stroke-opacity=\"0.000\" fill=\"#000000\" id=\"img-dc25c371-3\">\n",
       "</g>\n",
       "<g stroke-width=\"0\" stroke=\"#000000\" stroke-opacity=\"0.000\" fill=\"#40E0D0\" id=\"img-dc25c371-4\">\n",
       "  <g transform=\"translate(64.99,67.63)\">\n",
       "    <circle cx=\"0\" cy=\"0\" r=\"2.43\" class=\"primitive\"/>\n",
       "  </g>\n",
       "  <g transform=\"translate(81.76,65.86)\">\n",
       "    <circle cx=\"0\" cy=\"0\" r=\"2.43\" class=\"primitive\"/>\n",
       "  </g>\n",
       "  <g transform=\"translate(88.27,52.3)\">\n",
       "    <circle cx=\"0\" cy=\"0\" r=\"2.43\" class=\"primitive\"/>\n",
       "  </g>\n",
       "  <g transform=\"translate(80.76,71.39)\">\n",
       "    <circle cx=\"0\" cy=\"0\" r=\"2.43\" class=\"primitive\"/>\n",
       "  </g>\n",
       "  <g transform=\"translate(40.46,76.22)\">\n",
       "    <circle cx=\"0\" cy=\"0\" r=\"2.43\" class=\"primitive\"/>\n",
       "  </g>\n",
       "  <g transform=\"translate(28.88,77.45)\">\n",
       "    <circle cx=\"0\" cy=\"0\" r=\"2.43\" class=\"primitive\"/>\n",
       "  </g>\n",
       "  <g transform=\"translate(33.8,83.81)\">\n",
       "    <circle cx=\"0\" cy=\"0\" r=\"2.43\" class=\"primitive\"/>\n",
       "  </g>\n",
       "  <g transform=\"translate(89.73,71.43)\">\n",
       "    <circle cx=\"0\" cy=\"0\" r=\"2.43\" class=\"primitive\"/>\n",
       "  </g>\n",
       "  <g transform=\"translate(89.03,46.58)\">\n",
       "    <circle cx=\"0\" cy=\"0\" r=\"2.43\" class=\"primitive\"/>\n",
       "  </g>\n",
       "  <g transform=\"translate(115.97,49.82)\">\n",
       "    <circle cx=\"0\" cy=\"0\" r=\"2.43\" class=\"primitive\"/>\n",
       "  </g>\n",
       "  <g transform=\"translate(34.52,68.56)\">\n",
       "    <circle cx=\"0\" cy=\"0\" r=\"2.43\" class=\"primitive\"/>\n",
       "  </g>\n",
       "  <g transform=\"translate(54.22,91.67)\">\n",
       "    <circle cx=\"0\" cy=\"0\" r=\"2.43\" class=\"primitive\"/>\n",
       "  </g>\n",
       "  <g transform=\"translate(79.84,87.23)\">\n",
       "    <circle cx=\"0\" cy=\"0\" r=\"2.43\" class=\"primitive\"/>\n",
       "  </g>\n",
       "  <g transform=\"translate(80.09,56.03)\">\n",
       "    <circle cx=\"0\" cy=\"0\" r=\"2.43\" class=\"primitive\"/>\n",
       "  </g>\n",
       "  <g transform=\"translate(115.44,17.98)\">\n",
       "    <circle cx=\"0\" cy=\"0\" r=\"2.43\" class=\"primitive\"/>\n",
       "  </g>\n",
       "  <g transform=\"translate(129.64,31.35)\">\n",
       "    <circle cx=\"0\" cy=\"0\" r=\"2.43\" class=\"primitive\"/>\n",
       "  </g>\n",
       "  <g transform=\"translate(11.79,89.29)\">\n",
       "    <circle cx=\"0\" cy=\"0\" r=\"2.43\" class=\"primitive\"/>\n",
       "  </g>\n",
       "  <g transform=\"translate(62.84,78.75)\">\n",
       "    <circle cx=\"0\" cy=\"0\" r=\"2.43\" class=\"primitive\"/>\n",
       "  </g>\n",
       "  <g transform=\"translate(123.91,19.84)\">\n",
       "    <circle cx=\"0\" cy=\"0\" r=\"2.43\" class=\"primitive\"/>\n",
       "  </g>\n",
       "  <g transform=\"translate(92.39,58.29)\">\n",
       "    <circle cx=\"0\" cy=\"0\" r=\"2.43\" class=\"primitive\"/>\n",
       "  </g>\n",
       "  <g transform=\"translate(128.06,25.31)\">\n",
       "    <circle cx=\"0\" cy=\"0\" r=\"2.43\" class=\"primitive\"/>\n",
       "  </g>\n",
       "  <g transform=\"translate(72.68,82.8)\">\n",
       "    <circle cx=\"0\" cy=\"0\" r=\"2.43\" class=\"primitive\"/>\n",
       "  </g>\n",
       "  <g transform=\"translate(128.02,37.84)\">\n",
       "    <circle cx=\"0\" cy=\"0\" r=\"2.43\" class=\"primitive\"/>\n",
       "  </g>\n",
       "  <g transform=\"translate(90.23,18.88)\">\n",
       "    <circle cx=\"0\" cy=\"0\" r=\"2.43\" class=\"primitive\"/>\n",
       "  </g>\n",
       "  <g transform=\"translate(59.48,21.59)\">\n",
       "    <circle cx=\"0\" cy=\"0\" r=\"2.43\" class=\"primitive\"/>\n",
       "  </g>\n",
       "  <g transform=\"translate(68.22,15.3)\">\n",
       "    <circle cx=\"0\" cy=\"0\" r=\"2.43\" class=\"primitive\"/>\n",
       "  </g>\n",
       "  <g transform=\"translate(110.14,8.33)\">\n",
       "    <circle cx=\"0\" cy=\"0\" r=\"2.43\" class=\"primitive\"/>\n",
       "  </g>\n",
       "  <g transform=\"translate(79.9,28.47)\">\n",
       "    <circle cx=\"0\" cy=\"0\" r=\"2.43\" class=\"primitive\"/>\n",
       "  </g>\n",
       "  <g transform=\"translate(86.67,36.78)\">\n",
       "    <circle cx=\"0\" cy=\"0\" r=\"2.43\" class=\"primitive\"/>\n",
       "  </g>\n",
       "  <g transform=\"translate(103.27,15.8)\">\n",
       "    <circle cx=\"0\" cy=\"0\" r=\"2.43\" class=\"primitive\"/>\n",
       "  </g>\n",
       "  <g transform=\"translate(102.37,48.64)\">\n",
       "    <circle cx=\"0\" cy=\"0\" r=\"2.43\" class=\"primitive\"/>\n",
       "  </g>\n",
       "  <g transform=\"translate(74.95,36.31)\">\n",
       "    <circle cx=\"0\" cy=\"0\" r=\"2.43\" class=\"primitive\"/>\n",
       "  </g>\n",
       "  <g transform=\"translate(107.34,31.38)\">\n",
       "    <circle cx=\"0\" cy=\"0\" r=\"2.43\" class=\"primitive\"/>\n",
       "  </g>\n",
       "  <g transform=\"translate(103.19,33.68)\">\n",
       "    <circle cx=\"0\" cy=\"0\" r=\"2.43\" class=\"primitive\"/>\n",
       "  </g>\n",
       "</g>\n",
       "<g font-size=\"4\" stroke=\"#000000\" stroke-opacity=\"0.000\" fill=\"#000000\" id=\"img-dc25c371-5\">\n",
       "</g>\n",
       "</svg>\n"
      ],
      "text/html": [
       "<?xml version=\"1.0\" encoding=\"UTF-8\"?>\n",
       "<svg xmlns=\"http://www.w3.org/2000/svg\"\n",
       "     xmlns:xlink=\"http://www.w3.org/1999/xlink\"\n",
       "     version=\"1.2\"\n",
       "     width=\"141.42mm\" height=\"100mm\" viewBox=\"0 0 141.42 100\"\n",
       "     stroke=\"none\"\n",
       "     fill=\"#000000\"\n",
       "     stroke-width=\"0.3\"\n",
       "     font-size=\"3.88\"\n",
       "\n",
       "     id=\"img-bcbde29a\">\n",
       "<defs>\n",
       "  <marker id=\"arrow\" markerWidth=\"15\" markerHeight=\"7\" refX=\"5\" refY=\"3.5\" orient=\"auto\" markerUnits=\"strokeWidth\">\n",
       "    <path d=\"M0,0 L15,3.5 L0,7 z\" stroke=\"context-stroke\" fill=\"context-stroke\"/>\n",
       "  </marker>\n",
       "</defs>\n",
       "<g stroke-width=\"0.51\" fill=\"#000000\" fill-opacity=\"0.000\" stroke=\"#D3D3D3\" id=\"img-bcbde29a-1\">\n",
       "  <g transform=\"translate(73.37,66.74)\">\n",
       "    <path fill=\"none\" d=\"M-5.88,0.62 L 5.88 -0.62\" class=\"primitive\"/>\n",
       "  </g>\n",
       "  <g transform=\"translate(76.63,59.97)\">\n",
       "    <path fill=\"none\" d=\"M-9.79,6.45 L 9.79 -6.45\" class=\"primitive\"/>\n",
       "  </g>\n",
       "  <g transform=\"translate(72.88,69.51)\">\n",
       "    <path fill=\"none\" d=\"M-5.49,-1.31 L 5.49 1.31\" class=\"primitive\"/>\n",
       "  </g>\n",
       "  <g transform=\"translate(52.73,71.93)\">\n",
       "    <path fill=\"none\" d=\"M10,-3.5 L -10 3.5\" class=\"primitive\"/>\n",
       "  </g>\n",
       "  <g transform=\"translate(46.94,72.54)\">\n",
       "    <path fill=\"none\" d=\"M15.7,-4.27 L -15.7 4.27\" class=\"primitive\"/>\n",
       "  </g>\n",
       "  <g transform=\"translate(49.39,75.72)\">\n",
       "    <path fill=\"none\" d=\"M13.56,-7.03 L -13.56 7.03\" class=\"primitive\"/>\n",
       "  </g>\n",
       "  <g transform=\"translate(77.36,69.53)\">\n",
       "    <path fill=\"none\" d=\"M-9.9,-1.52 L 9.9 1.52\" class=\"primitive\"/>\n",
       "  </g>\n",
       "  <g transform=\"translate(77.01,57.11)\">\n",
       "    <path fill=\"none\" d=\"M-10.43,9.14 L 10.43 -9.14\" class=\"primitive\"/>\n",
       "  </g>\n",
       "  <g transform=\"translate(49.75,68.09)\">\n",
       "    <path fill=\"none\" d=\"M12.71,-0.39 L -12.71 0.39\" class=\"primitive\"/>\n",
       "  </g>\n",
       "  <g transform=\"translate(59.61,79.65)\">\n",
       "    <path fill=\"none\" d=\"M4.62,-10.32 L -4.62 10.32\" class=\"primitive\"/>\n",
       "  </g>\n",
       "  <g transform=\"translate(72.42,77.43)\">\n",
       "    <path fill=\"none\" d=\"M-6.23,-8.23 L 6.23 8.23\" class=\"primitive\"/>\n",
       "  </g>\n",
       "  <g transform=\"translate(72.54,61.83)\">\n",
       "    <path fill=\"none\" d=\"M-5.84,4.49 L 5.84 -4.49\" class=\"primitive\"/>\n",
       "  </g>\n",
       "  <g transform=\"translate(63.92,73.19)\">\n",
       "    <path fill=\"none\" d=\"M0.73,-3.79 L -0.73 3.79\" class=\"primitive\"/>\n",
       "  </g>\n",
       "  <g transform=\"translate(78.69,62.96)\">\n",
       "    <path fill=\"none\" d=\"M-11.42,3.9 L 11.42 -3.9\" class=\"primitive\"/>\n",
       "  </g>\n",
       "  <g transform=\"translate(68.83,75.22)\">\n",
       "    <path fill=\"none\" d=\"M-2.99,-5.9 L 2.99 5.9\" class=\"primitive\"/>\n",
       "  </g>\n",
       "  <g transform=\"translate(69.97,51.97)\">\n",
       "    <path fill=\"none\" d=\"M-4.42,13.92 L 4.42 -13.92\" class=\"primitive\"/>\n",
       "  </g>\n",
       "  <g transform=\"translate(85.02,59.08)\">\n",
       "    <path fill=\"none\" d=\"M-2.44,5.09 L 2.44 -5.09\" class=\"primitive\"/>\n",
       "  </g>\n",
       "  <g transform=\"translate(81.26,68.63)\">\n",
       "    <path fill=\"none\" d=\"M0.18,-0.99 L -0.18 0.99\" class=\"primitive\"/>\n",
       "  </g>\n",
       "  <g transform=\"translate(85.74,68.64)\">\n",
       "    <path fill=\"none\" d=\"M-2.19,-1.53 L 2.19 1.53\" class=\"primitive\"/>\n",
       "  </g>\n",
       "  <g transform=\"translate(80.93,60.95)\">\n",
       "    <path fill=\"none\" d=\"M0.53,3.14 L -0.53 -3.14\" class=\"primitive\"/>\n",
       "  </g>\n",
       "  <g transform=\"translate(72.3,72.3)\">\n",
       "    <path fill=\"none\" d=\"M7.64,-5.2 L -7.64 5.2\" class=\"primitive\"/>\n",
       "  </g>\n",
       "  <g transform=\"translate(87.07,62.07)\">\n",
       "    <path fill=\"none\" d=\"M-3.54,2.52 L 3.54 -2.52\" class=\"primitive\"/>\n",
       "  </g>\n",
       "  <g transform=\"translate(77.22,74.33)\">\n",
       "    <path fill=\"none\" d=\"M3.65,-6.8 L -3.65 6.8\" class=\"primitive\"/>\n",
       "  </g>\n",
       "  <g transform=\"translate(92.06,57.25)\">\n",
       "    <path fill=\"none\" d=\"M-8.67,7.25 L 8.67 -7.25\" class=\"primitive\"/>\n",
       "  </g>\n",
       "  <g transform=\"translate(84.52,61.85)\">\n",
       "    <path fill=\"none\" d=\"M3.08,-7.82 L -3.08 7.82\" class=\"primitive\"/>\n",
       "  </g>\n",
       "  <g transform=\"translate(89,61.87)\">\n",
       "    <path fill=\"none\" d=\"M-0.59,-7.78 L 0.59 7.78\" class=\"primitive\"/>\n",
       "  </g>\n",
       "  <g transform=\"translate(88.65,49.44)\">\n",
       "    <path fill=\"none\" d=\"M-0.14,1.08 L 0.14 -1.08\" class=\"primitive\"/>\n",
       "  </g>\n",
       "  <g transform=\"translate(102.12,51.06)\">\n",
       "    <path fill=\"none\" d=\"M-11.34,1.02 L 11.34 -1.02\" class=\"primitive\"/>\n",
       "  </g>\n",
       "  <g transform=\"translate(84.18,54.17)\">\n",
       "    <path fill=\"none\" d=\"M1.97,-0.9 L -1.97 0.9\" class=\"primitive\"/>\n",
       "  </g>\n",
       "  <g transform=\"translate(84.09,40.39)\">\n",
       "    <path fill=\"none\" d=\"M3.58,10.18 L -3.58 -10.18\" class=\"primitive\"/>\n",
       "  </g>\n",
       "  <g transform=\"translate(87.47,44.54)\">\n",
       "    <path fill=\"none\" d=\"M0.62,5.98 L -0.62 -5.98\" class=\"primitive\"/>\n",
       "  </g>\n",
       "  <g transform=\"translate(97.81,41.84)\">\n",
       "    <path fill=\"none\" d=\"M-8.17,8.96 L 8.17 -8.96\" class=\"primitive\"/>\n",
       "  </g>\n",
       "  <g transform=\"translate(85.25,71.41)\">\n",
       "    <path fill=\"none\" d=\"M-1.96,-0.01 L 1.96 0.01\" class=\"primitive\"/>\n",
       "  </g>\n",
       "  <g transform=\"translate(80.3,79.31)\">\n",
       "    <path fill=\"none\" d=\"M0.36,-6.13 L -0.36 6.13\" class=\"primitive\"/>\n",
       "  </g>\n",
       "  <g transform=\"translate(80.43,63.71)\">\n",
       "    <path fill=\"none\" d=\"M0.26,5.9 L -0.26 -5.9\" class=\"primitive\"/>\n",
       "  </g>\n",
       "  <g transform=\"translate(37.13,80.02)\">\n",
       "    <path fill=\"none\" d=\"M2,-2.28 L -2 2.28\" class=\"primitive\"/>\n",
       "  </g>\n",
       "  <g transform=\"translate(37.49,72.39)\">\n",
       "    <path fill=\"none\" d=\"M1.76,2.26 L -1.76 -2.26\" class=\"primitive\"/>\n",
       "  </g>\n",
       "  <g transform=\"translate(31.34,80.63)\">\n",
       "    <path fill=\"none\" d=\"M-1.25,-1.61 L 1.25 1.61\" class=\"primitive\"/>\n",
       "  </g>\n",
       "  <g transform=\"translate(31.7,73)\">\n",
       "    <path fill=\"none\" d=\"M-1.78,2.81 L 1.78 -2.81\" class=\"primitive\"/>\n",
       "  </g>\n",
       "  <g transform=\"translate(20.33,83.37)\">\n",
       "    <path fill=\"none\" d=\"M6.74,-4.67 L -6.74 4.67\" class=\"primitive\"/>\n",
       "  </g>\n",
       "  <g transform=\"translate(22.79,86.55)\">\n",
       "    <path fill=\"none\" d=\"M8.62,-2.14 L -8.62 2.14\" class=\"primitive\"/>\n",
       "  </g>\n",
       "  <g transform=\"translate(95.7,47.61)\">\n",
       "    <path fill=\"none\" d=\"M-4.2,-0.65 L 4.2 0.65\" class=\"primitive\"/>\n",
       "  </g>\n",
       "  <g transform=\"translate(98.19,38.98)\">\n",
       "    <path fill=\"none\" d=\"M-7.52,6.24 L 7.52 -6.24\" class=\"primitive\"/>\n",
       "  </g>\n",
       "  <g transform=\"translate(96.11,40.13)\">\n",
       "    <path fill=\"none\" d=\"M-5.53,5.04 L 5.53 -5.04\" class=\"primitive\"/>\n",
       "  </g>\n",
       "  <g transform=\"translate(109.58,41.75)\">\n",
       "    <path fill=\"none\" d=\"M5.16,6.51 L -5.16 -6.51\" class=\"primitive\"/>\n",
       "  </g>\n",
       "  <g transform=\"translate(91.64,44.86)\">\n",
       "    <path fill=\"none\" d=\"M-10.06,9.73 L 10.06 -9.73\" class=\"primitive\"/>\n",
       "  </g>\n",
       "  <g transform=\"translate(111.39,24.68)\">\n",
       "    <path fill=\"none\" d=\"M3.05,-5.06 L -3.05 5.06\" class=\"primitive\"/>\n",
       "  </g>\n",
       "  <g transform=\"translate(109.31,25.83)\">\n",
       "    <path fill=\"none\" d=\"M4.9,-6.29 L -4.9 6.29\" class=\"primitive\"/>\n",
       "  </g>\n",
       "  <g transform=\"translate(118.49,31.37)\">\n",
       "    <path fill=\"none\" d=\"M8.62,-0.01 L -8.62 0.01\" class=\"primitive\"/>\n",
       "  </g>\n",
       "  <g transform=\"translate(116.41,32.52)\">\n",
       "    <path fill=\"none\" d=\"M10.72,-0.95 L -10.72 0.95\" class=\"primitive\"/>\n",
       "  </g>\n",
       "  <g transform=\"translate(115.63,25.61)\">\n",
       "    <path fill=\"none\" d=\"M6.48,-4.52 L -6.48 4.52\" class=\"primitive\"/>\n",
       "  </g>\n",
       "  <g transform=\"translate(113.55,26.76)\">\n",
       "    <path fill=\"none\" d=\"M8.52,-5.69 L -8.52 5.69\" class=\"primitive\"/>\n",
       "  </g>\n",
       "  <g transform=\"translate(97.79,45.98)\">\n",
       "    <path fill=\"none\" d=\"M-4.65,10.6 L 4.65 -10.6\" class=\"primitive\"/>\n",
       "  </g>\n",
       "  <g transform=\"translate(117.7,28.34)\">\n",
       "    <path fill=\"none\" d=\"M8.03,-2.35 L -8.03 2.35\" class=\"primitive\"/>\n",
       "  </g>\n",
       "  <g transform=\"translate(115.63,29.49)\">\n",
       "    <path fill=\"none\" d=\"M10.15,-3.42 L -10.15 3.42\" class=\"primitive\"/>\n",
       "  </g>\n",
       "  <g transform=\"translate(117.68,34.61)\">\n",
       "    <path fill=\"none\" d=\"M8.03,2.51 L -8.03 -2.51\" class=\"primitive\"/>\n",
       "  </g>\n",
       "  <g transform=\"translate(115.61,35.76)\">\n",
       "    <path fill=\"none\" d=\"M9.96,1.67 L -9.96 -1.67\" class=\"primitive\"/>\n",
       "  </g>\n",
       "  <g transform=\"translate(79.22,17.09)\">\n",
       "    <path fill=\"none\" d=\"M8.54,1.39 L -8.54 -1.39\" class=\"primitive\"/>\n",
       "  </g>\n",
       "  <g transform=\"translate(85.06,23.68)\">\n",
       "    <path fill=\"none\" d=\"M3.63,-3.37 L -3.63 3.37\" class=\"primitive\"/>\n",
       "  </g>\n",
       "  <g transform=\"translate(96.75,17.34)\">\n",
       "    <path fill=\"none\" d=\"M-4.13,0.97 L 4.13 -0.97\" class=\"primitive\"/>\n",
       "  </g>\n",
       "  <g transform=\"translate(98.79,25.13)\">\n",
       "    <path fill=\"none\" d=\"M-6.8,-4.97 L 6.8 4.97\" class=\"primitive\"/>\n",
       "  </g>\n",
       "  <g transform=\"translate(96.71,26.28)\">\n",
       "    <path fill=\"none\" d=\"M-5.15,-5.88 L 5.15 5.88\" class=\"primitive\"/>\n",
       "  </g>\n",
       "  <g transform=\"translate(63.85,18.45)\">\n",
       "    <path fill=\"none\" d=\"M-2.6,1.87 L 2.6 -1.87\" class=\"primitive\"/>\n",
       "  </g>\n",
       "  <g transform=\"translate(69.69,25.03)\">\n",
       "    <path fill=\"none\" d=\"M-7.93,-2.67 L 7.93 2.67\" class=\"primitive\"/>\n",
       "  </g>\n",
       "  <g transform=\"translate(67.21,28.95)\">\n",
       "    <path fill=\"none\" d=\"M-6.23,-5.93 L 6.23 5.93\" class=\"primitive\"/>\n",
       "  </g>\n",
       "  <g transform=\"translate(71.58,25.81)\">\n",
       "    <path fill=\"none\" d=\"M-2.81,-8.76 L 2.81 8.76\" class=\"primitive\"/>\n",
       "  </g>\n",
       "  <g transform=\"translate(106.71,12.07)\">\n",
       "    <path fill=\"none\" d=\"M2.06,-2.24 L -2.06 2.24\" class=\"primitive\"/>\n",
       "  </g>\n",
       "  <g transform=\"translate(106.67,21.01)\">\n",
       "    <path fill=\"none\" d=\"M2.99,-10.92 L -2.99 10.92\" class=\"primitive\"/>\n",
       "  </g>\n",
       "  <g transform=\"translate(91.55,31.08)\">\n",
       "    <path fill=\"none\" d=\"M-9.24,-2.07 L 9.24 2.07\" class=\"primitive\"/>\n",
       "  </g>\n",
       "  <g transform=\"translate(80.81,36.55)\">\n",
       "    <path fill=\"none\" d=\"M3.34,0.13 L -3.34 -0.13\" class=\"primitive\"/>\n",
       "  </g>\n",
       "  <g transform=\"translate(94.93,35.23)\">\n",
       "    <path fill=\"none\" d=\"M-5.82,1.09 L 5.82 -1.09\" class=\"primitive\"/>\n",
       "  </g>\n",
       "  <g transform=\"translate(105.31,23.59)\">\n",
       "    <path fill=\"none\" d=\"M-1.58,-6.03 L 1.58 6.03\" class=\"primitive\"/>\n",
       "  </g>\n",
       "  <g transform=\"translate(103.23,24.74)\">\n",
       "    <path fill=\"none\" d=\"M0.03,-7.16 L -0.03 7.16\" class=\"primitive\"/>\n",
       "  </g>\n",
       "  <g transform=\"translate(104.86,40.01)\">\n",
       "    <path fill=\"none\" d=\"M-1.98,6.88 L 1.98 -6.88\" class=\"primitive\"/>\n",
       "  </g>\n",
       "  <g transform=\"translate(102.78,41.16)\">\n",
       "    <path fill=\"none\" d=\"M-0.31,5.69 L 0.31 -5.69\" class=\"primitive\"/>\n",
       "  </g>\n",
       "  <g transform=\"translate(91.14,33.85)\">\n",
       "    <path fill=\"none\" d=\"M-13.73,2.09 L 13.73 -2.09\" class=\"primitive\"/>\n",
       "  </g>\n",
       "  <g transform=\"translate(89.07,35)\">\n",
       "    <path fill=\"none\" d=\"M-11.62,1.08 L 11.62 -1.08\" class=\"primitive\"/>\n",
       "  </g>\n",
       "  <g transform=\"translate(105.27,32.53)\">\n",
       "    <path fill=\"none\" d=\"M0.09,-0.05 L -0.09 0.05\" class=\"primitive\"/>\n",
       "  </g>\n",
       "</g>\n",
       "<g stroke-width=\"0.51\" stroke=\"#D3D3D3\" id=\"img-bcbde29a-2\">\n",
       "</g>\n",
       "<g font-size=\"4\" stroke=\"#000000\" stroke-opacity=\"0.000\" fill=\"#000000\" id=\"img-bcbde29a-3\">\n",
       "</g>\n",
       "<g stroke-width=\"0\" stroke=\"#000000\" stroke-opacity=\"0.000\" fill=\"#40E0D0\" id=\"img-bcbde29a-4\">\n",
       "  <g transform=\"translate(64.99,67.63)\">\n",
       "    <circle cx=\"0\" cy=\"0\" r=\"2.43\" class=\"primitive\"/>\n",
       "  </g>\n",
       "  <g transform=\"translate(81.76,65.86)\">\n",
       "    <circle cx=\"0\" cy=\"0\" r=\"2.43\" class=\"primitive\"/>\n",
       "  </g>\n",
       "  <g transform=\"translate(88.27,52.3)\">\n",
       "    <circle cx=\"0\" cy=\"0\" r=\"2.43\" class=\"primitive\"/>\n",
       "  </g>\n",
       "  <g transform=\"translate(80.76,71.39)\">\n",
       "    <circle cx=\"0\" cy=\"0\" r=\"2.43\" class=\"primitive\"/>\n",
       "  </g>\n",
       "  <g transform=\"translate(40.46,76.22)\">\n",
       "    <circle cx=\"0\" cy=\"0\" r=\"2.43\" class=\"primitive\"/>\n",
       "  </g>\n",
       "  <g transform=\"translate(28.88,77.45)\">\n",
       "    <circle cx=\"0\" cy=\"0\" r=\"2.43\" class=\"primitive\"/>\n",
       "  </g>\n",
       "  <g transform=\"translate(33.8,83.81)\">\n",
       "    <circle cx=\"0\" cy=\"0\" r=\"2.43\" class=\"primitive\"/>\n",
       "  </g>\n",
       "  <g transform=\"translate(89.73,71.43)\">\n",
       "    <circle cx=\"0\" cy=\"0\" r=\"2.43\" class=\"primitive\"/>\n",
       "  </g>\n",
       "  <g transform=\"translate(89.03,46.58)\">\n",
       "    <circle cx=\"0\" cy=\"0\" r=\"2.43\" class=\"primitive\"/>\n",
       "  </g>\n",
       "  <g transform=\"translate(115.97,49.82)\">\n",
       "    <circle cx=\"0\" cy=\"0\" r=\"2.43\" class=\"primitive\"/>\n",
       "  </g>\n",
       "  <g transform=\"translate(34.52,68.56)\">\n",
       "    <circle cx=\"0\" cy=\"0\" r=\"2.43\" class=\"primitive\"/>\n",
       "  </g>\n",
       "  <g transform=\"translate(54.22,91.67)\">\n",
       "    <circle cx=\"0\" cy=\"0\" r=\"2.43\" class=\"primitive\"/>\n",
       "  </g>\n",
       "  <g transform=\"translate(79.84,87.23)\">\n",
       "    <circle cx=\"0\" cy=\"0\" r=\"2.43\" class=\"primitive\"/>\n",
       "  </g>\n",
       "  <g transform=\"translate(80.09,56.03)\">\n",
       "    <circle cx=\"0\" cy=\"0\" r=\"2.43\" class=\"primitive\"/>\n",
       "  </g>\n",
       "  <g transform=\"translate(115.44,17.98)\">\n",
       "    <circle cx=\"0\" cy=\"0\" r=\"2.43\" class=\"primitive\"/>\n",
       "  </g>\n",
       "  <g transform=\"translate(129.64,31.35)\">\n",
       "    <circle cx=\"0\" cy=\"0\" r=\"2.43\" class=\"primitive\"/>\n",
       "  </g>\n",
       "  <g transform=\"translate(11.79,89.29)\">\n",
       "    <circle cx=\"0\" cy=\"0\" r=\"2.43\" class=\"primitive\"/>\n",
       "  </g>\n",
       "  <g transform=\"translate(62.84,78.75)\">\n",
       "    <circle cx=\"0\" cy=\"0\" r=\"2.43\" class=\"primitive\"/>\n",
       "  </g>\n",
       "  <g transform=\"translate(123.91,19.84)\">\n",
       "    <circle cx=\"0\" cy=\"0\" r=\"2.43\" class=\"primitive\"/>\n",
       "  </g>\n",
       "  <g transform=\"translate(92.39,58.29)\">\n",
       "    <circle cx=\"0\" cy=\"0\" r=\"2.43\" class=\"primitive\"/>\n",
       "  </g>\n",
       "  <g transform=\"translate(128.06,25.31)\">\n",
       "    <circle cx=\"0\" cy=\"0\" r=\"2.43\" class=\"primitive\"/>\n",
       "  </g>\n",
       "  <g transform=\"translate(72.68,82.8)\">\n",
       "    <circle cx=\"0\" cy=\"0\" r=\"2.43\" class=\"primitive\"/>\n",
       "  </g>\n",
       "  <g transform=\"translate(128.02,37.84)\">\n",
       "    <circle cx=\"0\" cy=\"0\" r=\"2.43\" class=\"primitive\"/>\n",
       "  </g>\n",
       "  <g transform=\"translate(90.23,18.88)\">\n",
       "    <circle cx=\"0\" cy=\"0\" r=\"2.43\" class=\"primitive\"/>\n",
       "  </g>\n",
       "  <g transform=\"translate(59.48,21.59)\">\n",
       "    <circle cx=\"0\" cy=\"0\" r=\"2.43\" class=\"primitive\"/>\n",
       "  </g>\n",
       "  <g transform=\"translate(68.22,15.3)\">\n",
       "    <circle cx=\"0\" cy=\"0\" r=\"2.43\" class=\"primitive\"/>\n",
       "  </g>\n",
       "  <g transform=\"translate(110.14,8.33)\">\n",
       "    <circle cx=\"0\" cy=\"0\" r=\"2.43\" class=\"primitive\"/>\n",
       "  </g>\n",
       "  <g transform=\"translate(79.9,28.47)\">\n",
       "    <circle cx=\"0\" cy=\"0\" r=\"2.43\" class=\"primitive\"/>\n",
       "  </g>\n",
       "  <g transform=\"translate(86.67,36.78)\">\n",
       "    <circle cx=\"0\" cy=\"0\" r=\"2.43\" class=\"primitive\"/>\n",
       "  </g>\n",
       "  <g transform=\"translate(103.27,15.8)\">\n",
       "    <circle cx=\"0\" cy=\"0\" r=\"2.43\" class=\"primitive\"/>\n",
       "  </g>\n",
       "  <g transform=\"translate(102.37,48.64)\">\n",
       "    <circle cx=\"0\" cy=\"0\" r=\"2.43\" class=\"primitive\"/>\n",
       "  </g>\n",
       "  <g transform=\"translate(74.95,36.31)\">\n",
       "    <circle cx=\"0\" cy=\"0\" r=\"2.43\" class=\"primitive\"/>\n",
       "  </g>\n",
       "  <g transform=\"translate(107.34,31.38)\">\n",
       "    <circle cx=\"0\" cy=\"0\" r=\"2.43\" class=\"primitive\"/>\n",
       "  </g>\n",
       "  <g transform=\"translate(103.19,33.68)\">\n",
       "    <circle cx=\"0\" cy=\"0\" r=\"2.43\" class=\"primitive\"/>\n",
       "  </g>\n",
       "</g>\n",
       "<g font-size=\"4\" stroke=\"#000000\" stroke-opacity=\"0.000\" fill=\"#000000\" id=\"img-bcbde29a-5\">\n",
       "</g>\n",
       "<script> <![CDATA[\n",
       "(function(N){var k=/[\\.\\/]/,L=/\\s*,\\s*/,C=function(a,d){return a-d},a,v,y={n:{}},M=function(){for(var a=0,d=this.length;a<d;a++)if(\"undefined\"!=typeof this[a])return this[a]},A=function(){for(var a=this.length;--a;)if(\"undefined\"!=typeof this[a])return this[a]},w=function(k,d){k=String(k);var f=v,n=Array.prototype.slice.call(arguments,2),u=w.listeners(k),p=0,b,q=[],e={},l=[],r=a;l.firstDefined=M;l.lastDefined=A;a=k;for(var s=v=0,x=u.length;s<x;s++)\"zIndex\"in u[s]&&(q.push(u[s].zIndex),0>u[s].zIndex&&\n",
       "(e[u[s].zIndex]=u[s]));for(q.sort(C);0>q[p];)if(b=e[q[p++] ],l.push(b.apply(d,n)),v)return v=f,l;for(s=0;s<x;s++)if(b=u[s],\"zIndex\"in b)if(b.zIndex==q[p]){l.push(b.apply(d,n));if(v)break;do if(p++,(b=e[q[p] ])&&l.push(b.apply(d,n)),v)break;while(b)}else e[b.zIndex]=b;else if(l.push(b.apply(d,n)),v)break;v=f;a=r;return l};w._events=y;w.listeners=function(a){a=a.split(k);var d=y,f,n,u,p,b,q,e,l=[d],r=[];u=0;for(p=a.length;u<p;u++){e=[];b=0;for(q=l.length;b<q;b++)for(d=l[b].n,f=[d[a[u] ],d[\"*\"] ],n=2;n--;)if(d=\n",
       "f[n])e.push(d),r=r.concat(d.f||[]);l=e}return r};w.on=function(a,d){a=String(a);if(\"function\"!=typeof d)return function(){};for(var f=a.split(L),n=0,u=f.length;n<u;n++)(function(a){a=a.split(k);for(var b=y,f,e=0,l=a.length;e<l;e++)b=b.n,b=b.hasOwnProperty(a[e])&&b[a[e] ]||(b[a[e] ]={n:{}});b.f=b.f||[];e=0;for(l=b.f.length;e<l;e++)if(b.f[e]==d){f=!0;break}!f&&b.f.push(d)})(f[n]);return function(a){+a==+a&&(d.zIndex=+a)}};w.f=function(a){var d=[].slice.call(arguments,1);return function(){w.apply(null,\n",
       "[a,null].concat(d).concat([].slice.call(arguments,0)))}};w.stop=function(){v=1};w.nt=function(k){return k?(new RegExp(\"(?:\\\\.|\\\\/|^)\"+k+\"(?:\\\\.|\\\\/|$)\")).test(a):a};w.nts=function(){return a.split(k)};w.off=w.unbind=function(a,d){if(a){var f=a.split(L);if(1<f.length)for(var n=0,u=f.length;n<u;n++)w.off(f[n],d);else{for(var f=a.split(k),p,b,q,e,l=[y],n=0,u=f.length;n<u;n++)for(e=0;e<l.length;e+=q.length-2){q=[e,1];p=l[e].n;if(\"*\"!=f[n])p[f[n] ]&&q.push(p[f[n] ]);else for(b in p)p.hasOwnProperty(b)&&\n",
       "q.push(p[b]);l.splice.apply(l,q)}n=0;for(u=l.length;n<u;n++)for(p=l[n];p.n;){if(d){if(p.f){e=0;for(f=p.f.length;e<f;e++)if(p.f[e]==d){p.f.splice(e,1);break}!p.f.length&&delete p.f}for(b in p.n)if(p.n.hasOwnProperty(b)&&p.n[b].f){q=p.n[b].f;e=0;for(f=q.length;e<f;e++)if(q[e]==d){q.splice(e,1);break}!q.length&&delete p.n[b].f}}else for(b in delete p.f,p.n)p.n.hasOwnProperty(b)&&p.n[b].f&&delete p.n[b].f;p=p.n}}}else w._events=y={n:{}}};w.once=function(a,d){var f=function(){w.unbind(a,f);return d.apply(this,\n",
       "arguments)};return w.on(a,f)};w.version=\"0.4.2\";w.toString=function(){return\"You are running Eve 0.4.2\"};\"undefined\"!=typeof module&&module.exports?module.exports=w:\"function\"===typeof define&&define.amd?define(\"eve\",[],function(){return w}):N.eve=w})(this);\n",
       "(function(N,k){\"function\"===typeof define&&define.amd?define(\"Snap.svg\",[\"eve\"],function(L){return k(N,L)}):k(N,N.eve)})(this,function(N,k){var L=function(a){var k={},y=N.requestAnimationFrame||N.webkitRequestAnimationFrame||N.mozRequestAnimationFrame||N.oRequestAnimationFrame||N.msRequestAnimationFrame||function(a){setTimeout(a,16)},M=Array.isArray||function(a){return a instanceof Array||\"[object Array]\"==Object.prototype.toString.call(a)},A=0,w=\"M\"+(+new Date).toString(36),z=function(a){if(null==\n",
       "a)return this.s;var b=this.s-a;this.b+=this.dur*b;this.B+=this.dur*b;this.s=a},d=function(a){if(null==a)return this.spd;this.spd=a},f=function(a){if(null==a)return this.dur;this.s=this.s*a/this.dur;this.dur=a},n=function(){delete k[this.id];this.update();a(\"mina.stop.\"+this.id,this)},u=function(){this.pdif||(delete k[this.id],this.update(),this.pdif=this.get()-this.b)},p=function(){this.pdif&&(this.b=this.get()-this.pdif,delete this.pdif,k[this.id]=this)},b=function(){var a;if(M(this.start)){a=[];\n",
       "for(var b=0,e=this.start.length;b<e;b++)a[b]=+this.start[b]+(this.end[b]-this.start[b])*this.easing(this.s)}else a=+this.start+(this.end-this.start)*this.easing(this.s);this.set(a)},q=function(){var l=0,b;for(b in k)if(k.hasOwnProperty(b)){var e=k[b],f=e.get();l++;e.s=(f-e.b)/(e.dur/e.spd);1<=e.s&&(delete k[b],e.s=1,l--,function(b){setTimeout(function(){a(\"mina.finish.\"+b.id,b)})}(e));e.update()}l&&y(q)},e=function(a,r,s,x,G,h,J){a={id:w+(A++).toString(36),start:a,end:r,b:s,s:0,dur:x-s,spd:1,get:G,\n",
       "set:h,easing:J||e.linear,status:z,speed:d,duration:f,stop:n,pause:u,resume:p,update:b};k[a.id]=a;r=0;for(var K in k)if(k.hasOwnProperty(K)&&(r++,2==r))break;1==r&&y(q);return a};e.time=Date.now||function(){return+new Date};e.getById=function(a){return k[a]||null};e.linear=function(a){return a};e.easeout=function(a){return Math.pow(a,1.7)};e.easein=function(a){return Math.pow(a,0.48)};e.easeinout=function(a){if(1==a)return 1;if(0==a)return 0;var b=0.48-a/1.04,e=Math.sqrt(0.1734+b*b);a=e-b;a=Math.pow(Math.abs(a),\n",
       "1/3)*(0>a?-1:1);b=-e-b;b=Math.pow(Math.abs(b),1/3)*(0>b?-1:1);a=a+b+0.5;return 3*(1-a)*a*a+a*a*a};e.backin=function(a){return 1==a?1:a*a*(2.70158*a-1.70158)};e.backout=function(a){if(0==a)return 0;a-=1;return a*a*(2.70158*a+1.70158)+1};e.elastic=function(a){return a==!!a?a:Math.pow(2,-10*a)*Math.sin(2*(a-0.075)*Math.PI/0.3)+1};e.bounce=function(a){a<1/2.75?a*=7.5625*a:a<2/2.75?(a-=1.5/2.75,a=7.5625*a*a+0.75):a<2.5/2.75?(a-=2.25/2.75,a=7.5625*a*a+0.9375):(a-=2.625/2.75,a=7.5625*a*a+0.984375);return a};\n",
       "return N.mina=e}(\"undefined\"==typeof k?function(){}:k),C=function(){function a(c,t){if(c){if(c.tagName)return x(c);if(y(c,\"array\")&&a.set)return a.set.apply(a,c);if(c instanceof e)return c;if(null==t)return c=G.doc.querySelector(c),x(c)}return new s(null==c?\"100%\":c,null==t?\"100%\":t)}function v(c,a){if(a){\"#text\"==c&&(c=G.doc.createTextNode(a.text||\"\"));\"string\"==typeof c&&(c=v(c));if(\"string\"==typeof a)return\"xlink:\"==a.substring(0,6)?c.getAttributeNS(m,a.substring(6)):\"xml:\"==a.substring(0,4)?c.getAttributeNS(la,\n",
       "a.substring(4)):c.getAttribute(a);for(var da in a)if(a[h](da)){var b=J(a[da]);b?\"xlink:\"==da.substring(0,6)?c.setAttributeNS(m,da.substring(6),b):\"xml:\"==da.substring(0,4)?c.setAttributeNS(la,da.substring(4),b):c.setAttribute(da,b):c.removeAttribute(da)}}else c=G.doc.createElementNS(la,c);return c}function y(c,a){a=J.prototype.toLowerCase.call(a);return\"finite\"==a?isFinite(c):\"array\"==a&&(c instanceof Array||Array.isArray&&Array.isArray(c))?!0:\"null\"==a&&null===c||a==typeof c&&null!==c||\"object\"==\n",
       "a&&c===Object(c)||$.call(c).slice(8,-1).toLowerCase()==a}function M(c){if(\"function\"==typeof c||Object(c)!==c)return c;var a=new c.constructor,b;for(b in c)c[h](b)&&(a[b]=M(c[b]));return a}function A(c,a,b){function m(){var e=Array.prototype.slice.call(arguments,0),f=e.join(\"\\u2400\"),d=m.cache=m.cache||{},l=m.count=m.count||[];if(d[h](f)){a:for(var e=l,l=f,B=0,H=e.length;B<H;B++)if(e[B]===l){e.push(e.splice(B,1)[0]);break a}return b?b(d[f]):d[f]}1E3<=l.length&&delete d[l.shift()];l.push(f);d[f]=c.apply(a,\n",
       "e);return b?b(d[f]):d[f]}return m}function w(c,a,b,m,e,f){return null==e?(c-=b,a-=m,c||a?(180*I.atan2(-a,-c)/C+540)%360:0):w(c,a,e,f)-w(b,m,e,f)}function z(c){return c%360*C/180}function d(c){var a=[];c=c.replace(/(?:^|\\s)(\\w+)\\(([^)]+)\\)/g,function(c,b,m){m=m.split(/\\s*,\\s*|\\s+/);\"rotate\"==b&&1==m.length&&m.push(0,0);\"scale\"==b&&(2<m.length?m=m.slice(0,2):2==m.length&&m.push(0,0),1==m.length&&m.push(m[0],0,0));\"skewX\"==b?a.push([\"m\",1,0,I.tan(z(m[0])),1,0,0]):\"skewY\"==b?a.push([\"m\",1,I.tan(z(m[0])),\n",
       "0,1,0,0]):a.push([b.charAt(0)].concat(m));return c});return a}function f(c,t){var b=O(c),m=new a.Matrix;if(b)for(var e=0,f=b.length;e<f;e++){var h=b[e],d=h.length,B=J(h[0]).toLowerCase(),H=h[0]!=B,l=H?m.invert():0,E;\"t\"==B&&2==d?m.translate(h[1],0):\"t\"==B&&3==d?H?(d=l.x(0,0),B=l.y(0,0),H=l.x(h[1],h[2]),l=l.y(h[1],h[2]),m.translate(H-d,l-B)):m.translate(h[1],h[2]):\"r\"==B?2==d?(E=E||t,m.rotate(h[1],E.x+E.width/2,E.y+E.height/2)):4==d&&(H?(H=l.x(h[2],h[3]),l=l.y(h[2],h[3]),m.rotate(h[1],H,l)):m.rotate(h[1],\n",
       "h[2],h[3])):\"s\"==B?2==d||3==d?(E=E||t,m.scale(h[1],h[d-1],E.x+E.width/2,E.y+E.height/2)):4==d?H?(H=l.x(h[2],h[3]),l=l.y(h[2],h[3]),m.scale(h[1],h[1],H,l)):m.scale(h[1],h[1],h[2],h[3]):5==d&&(H?(H=l.x(h[3],h[4]),l=l.y(h[3],h[4]),m.scale(h[1],h[2],H,l)):m.scale(h[1],h[2],h[3],h[4])):\"m\"==B&&7==d&&m.add(h[1],h[2],h[3],h[4],h[5],h[6])}return m}function n(c,t){if(null==t){var m=!0;t=\"linearGradient\"==c.type||\"radialGradient\"==c.type?c.node.getAttribute(\"gradientTransform\"):\"pattern\"==c.type?c.node.getAttribute(\"patternTransform\"):\n",
       "c.node.getAttribute(\"transform\");if(!t)return new a.Matrix;t=d(t)}else t=a._.rgTransform.test(t)?J(t).replace(/\\.{3}|\\u2026/g,c._.transform||aa):d(t),y(t,\"array\")&&(t=a.path?a.path.toString.call(t):J(t)),c._.transform=t;var b=f(t,c.getBBox(1));if(m)return b;c.matrix=b}function u(c){c=c.node.ownerSVGElement&&x(c.node.ownerSVGElement)||c.node.parentNode&&x(c.node.parentNode)||a.select(\"svg\")||a(0,0);var t=c.select(\"defs\"),t=null==t?!1:t.node;t||(t=r(\"defs\",c.node).node);return t}function p(c){return c.node.ownerSVGElement&&\n",
       "x(c.node.ownerSVGElement)||a.select(\"svg\")}function b(c,a,m){function b(c){if(null==c)return aa;if(c==+c)return c;v(B,{width:c});try{return B.getBBox().width}catch(a){return 0}}function h(c){if(null==c)return aa;if(c==+c)return c;v(B,{height:c});try{return B.getBBox().height}catch(a){return 0}}function e(b,B){null==a?d[b]=B(c.attr(b)||0):b==a&&(d=B(null==m?c.attr(b)||0:m))}var f=p(c).node,d={},B=f.querySelector(\".svg---mgr\");B||(B=v(\"rect\"),v(B,{x:-9E9,y:-9E9,width:10,height:10,\"class\":\"svg---mgr\",\n",
       "fill:\"none\"}),f.appendChild(B));switch(c.type){case \"rect\":e(\"rx\",b),e(\"ry\",h);case \"image\":e(\"width\",b),e(\"height\",h);case \"text\":e(\"x\",b);e(\"y\",h);break;case \"circle\":e(\"cx\",b);e(\"cy\",h);e(\"r\",b);break;case \"ellipse\":e(\"cx\",b);e(\"cy\",h);e(\"rx\",b);e(\"ry\",h);break;case \"line\":e(\"x1\",b);e(\"x2\",b);e(\"y1\",h);e(\"y2\",h);break;case \"marker\":e(\"refX\",b);e(\"markerWidth\",b);e(\"refY\",h);e(\"markerHeight\",h);break;case \"radialGradient\":e(\"fx\",b);e(\"fy\",h);break;case \"tspan\":e(\"dx\",b);e(\"dy\",h);break;default:e(a,\n",
       "b)}f.removeChild(B);return d}function q(c){y(c,\"array\")||(c=Array.prototype.slice.call(arguments,0));for(var a=0,b=0,m=this.node;this[a];)delete this[a++];for(a=0;a<c.length;a++)\"set\"==c[a].type?c[a].forEach(function(c){m.appendChild(c.node)}):m.appendChild(c[a].node);for(var h=m.childNodes,a=0;a<h.length;a++)this[b++]=x(h[a]);return this}function e(c){if(c.snap in E)return E[c.snap];var a=this.id=V(),b;try{b=c.ownerSVGElement}catch(m){}this.node=c;b&&(this.paper=new s(b));this.type=c.tagName;this.anims=\n",
       "{};this._={transform:[]};c.snap=a;E[a]=this;\"g\"==this.type&&(this.add=q);if(this.type in{g:1,mask:1,pattern:1})for(var e in s.prototype)s.prototype[h](e)&&(this[e]=s.prototype[e])}function l(c){this.node=c}function r(c,a){var b=v(c);a.appendChild(b);return x(b)}function s(c,a){var b,m,f,d=s.prototype;if(c&&\"svg\"==c.tagName){if(c.snap in E)return E[c.snap];var l=c.ownerDocument;b=new e(c);m=c.getElementsByTagName(\"desc\")[0];f=c.getElementsByTagName(\"defs\")[0];m||(m=v(\"desc\"),m.appendChild(l.createTextNode(\"Created with Snap\")),\n",
       "b.node.appendChild(m));f||(f=v(\"defs\"),b.node.appendChild(f));b.defs=f;for(var ca in d)d[h](ca)&&(b[ca]=d[ca]);b.paper=b.root=b}else b=r(\"svg\",G.doc.body),v(b.node,{height:a,version:1.1,width:c,xmlns:la});return b}function x(c){return!c||c instanceof e||c instanceof l?c:c.tagName&&\"svg\"==c.tagName.toLowerCase()?new s(c):c.tagName&&\"object\"==c.tagName.toLowerCase()&&\"image/svg+xml\"==c.type?new s(c.contentDocument.getElementsByTagName(\"svg\")[0]):new e(c)}a.version=\"0.3.0\";a.toString=function(){return\"Snap v\"+\n",
       "this.version};a._={};var G={win:N,doc:N.document};a._.glob=G;var h=\"hasOwnProperty\",J=String,K=parseFloat,U=parseInt,I=Math,P=I.max,Q=I.min,Y=I.abs,C=I.PI,aa=\"\",$=Object.prototype.toString,F=/^\\s*((#[a-f\\d]{6})|(#[a-f\\d]{3})|rgba?\\(\\s*([\\d\\.]+%?\\s*,\\s*[\\d\\.]+%?\\s*,\\s*[\\d\\.]+%?(?:\\s*,\\s*[\\d\\.]+%?)?)\\s*\\)|hsba?\\(\\s*([\\d\\.]+(?:deg|\\xb0|%)?\\s*,\\s*[\\d\\.]+%?\\s*,\\s*[\\d\\.]+(?:%?\\s*,\\s*[\\d\\.]+)?%?)\\s*\\)|hsla?\\(\\s*([\\d\\.]+(?:deg|\\xb0|%)?\\s*,\\s*[\\d\\.]+%?\\s*,\\s*[\\d\\.]+(?:%?\\s*,\\s*[\\d\\.]+)?%?)\\s*\\))\\s*$/i;a._.separator=\n",
       "RegExp(\"[,\\t\\n\\x0B\\f\\r \\u00a0\\u1680\\u180e\\u2000\\u2001\\u2002\\u2003\\u2004\\u2005\\u2006\\u2007\\u2008\\u2009\\u200a\\u202f\\u205f\\u3000\\u2028\\u2029]+\");var S=RegExp(\"[\\t\\n\\x0B\\f\\r \\u00a0\\u1680\\u180e\\u2000\\u2001\\u2002\\u2003\\u2004\\u2005\\u2006\\u2007\\u2008\\u2009\\u200a\\u202f\\u205f\\u3000\\u2028\\u2029]*,[\\t\\n\\x0B\\f\\r \\u00a0\\u1680\\u180e\\u2000\\u2001\\u2002\\u2003\\u2004\\u2005\\u2006\\u2007\\u2008\\u2009\\u200a\\u202f\\u205f\\u3000\\u2028\\u2029]*\"),X={hs:1,rg:1},W=RegExp(\"([a-z])[\\t\\n\\x0B\\f\\r \\u00a0\\u1680\\u180e\\u2000\\u2001\\u2002\\u2003\\u2004\\u2005\\u2006\\u2007\\u2008\\u2009\\u200a\\u202f\\u205f\\u3000\\u2028\\u2029,]*((-?\\\\d*\\\\.?\\\\d*(?:e[\\\\-+]?\\\\d+)?[\\t\\n\\x0B\\f\\r \\u00a0\\u1680\\u180e\\u2000\\u2001\\u2002\\u2003\\u2004\\u2005\\u2006\\u2007\\u2008\\u2009\\u200a\\u202f\\u205f\\u3000\\u2028\\u2029]*,?[\\t\\n\\x0B\\f\\r \\u00a0\\u1680\\u180e\\u2000\\u2001\\u2002\\u2003\\u2004\\u2005\\u2006\\u2007\\u2008\\u2009\\u200a\\u202f\\u205f\\u3000\\u2028\\u2029]*)+)\",\n",
       "\"ig\"),ma=RegExp(\"([rstm])[\\t\\n\\x0B\\f\\r \\u00a0\\u1680\\u180e\\u2000\\u2001\\u2002\\u2003\\u2004\\u2005\\u2006\\u2007\\u2008\\u2009\\u200a\\u202f\\u205f\\u3000\\u2028\\u2029,]*((-?\\\\d*\\\\.?\\\\d*(?:e[\\\\-+]?\\\\d+)?[\\t\\n\\x0B\\f\\r \\u00a0\\u1680\\u180e\\u2000\\u2001\\u2002\\u2003\\u2004\\u2005\\u2006\\u2007\\u2008\\u2009\\u200a\\u202f\\u205f\\u3000\\u2028\\u2029]*,?[\\t\\n\\x0B\\f\\r \\u00a0\\u1680\\u180e\\u2000\\u2001\\u2002\\u2003\\u2004\\u2005\\u2006\\u2007\\u2008\\u2009\\u200a\\u202f\\u205f\\u3000\\u2028\\u2029]*)+)\",\"ig\"),Z=RegExp(\"(-?\\\\d*\\\\.?\\\\d*(?:e[\\\\-+]?\\\\d+)?)[\\t\\n\\x0B\\f\\r \\u00a0\\u1680\\u180e\\u2000\\u2001\\u2002\\u2003\\u2004\\u2005\\u2006\\u2007\\u2008\\u2009\\u200a\\u202f\\u205f\\u3000\\u2028\\u2029]*,?[\\t\\n\\x0B\\f\\r \\u00a0\\u1680\\u180e\\u2000\\u2001\\u2002\\u2003\\u2004\\u2005\\u2006\\u2007\\u2008\\u2009\\u200a\\u202f\\u205f\\u3000\\u2028\\u2029]*\",\n",
       "\"ig\"),na=0,ba=\"S\"+(+new Date).toString(36),V=function(){return ba+(na++).toString(36)},m=\"http://www.w3.org/1999/xlink\",la=\"http://www.w3.org/2000/svg\",E={},ca=a.url=function(c){return\"url('#\"+c+\"')\"};a._.$=v;a._.id=V;a.format=function(){var c=/\\{([^\\}]+)\\}/g,a=/(?:(?:^|\\.)(.+?)(?=\\[|\\.|$|\\()|\\[('|\")(.+?)\\2\\])(\\(\\))?/g,b=function(c,b,m){var h=m;b.replace(a,function(c,a,b,m,t){a=a||m;h&&(a in h&&(h=h[a]),\"function\"==typeof h&&t&&(h=h()))});return h=(null==h||h==m?c:h)+\"\"};return function(a,m){return J(a).replace(c,\n",
       "function(c,a){return b(c,a,m)})}}();a._.clone=M;a._.cacher=A;a.rad=z;a.deg=function(c){return 180*c/C%360};a.angle=w;a.is=y;a.snapTo=function(c,a,b){b=y(b,\"finite\")?b:10;if(y(c,\"array\"))for(var m=c.length;m--;){if(Y(c[m]-a)<=b)return c[m]}else{c=+c;m=a%c;if(m<b)return a-m;if(m>c-b)return a-m+c}return a};a.getRGB=A(function(c){if(!c||(c=J(c)).indexOf(\"-\")+1)return{r:-1,g:-1,b:-1,hex:\"none\",error:1,toString:ka};if(\"none\"==c)return{r:-1,g:-1,b:-1,hex:\"none\",toString:ka};!X[h](c.toLowerCase().substring(0,\n",
       "2))&&\"#\"!=c.charAt()&&(c=T(c));if(!c)return{r:-1,g:-1,b:-1,hex:\"none\",error:1,toString:ka};var b,m,e,f,d;if(c=c.match(F)){c[2]&&(e=U(c[2].substring(5),16),m=U(c[2].substring(3,5),16),b=U(c[2].substring(1,3),16));c[3]&&(e=U((d=c[3].charAt(3))+d,16),m=U((d=c[3].charAt(2))+d,16),b=U((d=c[3].charAt(1))+d,16));c[4]&&(d=c[4].split(S),b=K(d[0]),\"%\"==d[0].slice(-1)&&(b*=2.55),m=K(d[1]),\"%\"==d[1].slice(-1)&&(m*=2.55),e=K(d[2]),\"%\"==d[2].slice(-1)&&(e*=2.55),\"rgba\"==c[1].toLowerCase().slice(0,4)&&(f=K(d[3])),\n",
       "d[3]&&\"%\"==d[3].slice(-1)&&(f/=100));if(c[5])return d=c[5].split(S),b=K(d[0]),\"%\"==d[0].slice(-1)&&(b/=100),m=K(d[1]),\"%\"==d[1].slice(-1)&&(m/=100),e=K(d[2]),\"%\"==d[2].slice(-1)&&(e/=100),\"deg\"!=d[0].slice(-3)&&\"\\u00b0\"!=d[0].slice(-1)||(b/=360),\"hsba\"==c[1].toLowerCase().slice(0,4)&&(f=K(d[3])),d[3]&&\"%\"==d[3].slice(-1)&&(f/=100),a.hsb2rgb(b,m,e,f);if(c[6])return d=c[6].split(S),b=K(d[0]),\"%\"==d[0].slice(-1)&&(b/=100),m=K(d[1]),\"%\"==d[1].slice(-1)&&(m/=100),e=K(d[2]),\"%\"==d[2].slice(-1)&&(e/=100),\n",
       "\"deg\"!=d[0].slice(-3)&&\"\\u00b0\"!=d[0].slice(-1)||(b/=360),\"hsla\"==c[1].toLowerCase().slice(0,4)&&(f=K(d[3])),d[3]&&\"%\"==d[3].slice(-1)&&(f/=100),a.hsl2rgb(b,m,e,f);b=Q(I.round(b),255);m=Q(I.round(m),255);e=Q(I.round(e),255);f=Q(P(f,0),1);c={r:b,g:m,b:e,toString:ka};c.hex=\"#\"+(16777216|e|m<<8|b<<16).toString(16).slice(1);c.opacity=y(f,\"finite\")?f:1;return c}return{r:-1,g:-1,b:-1,hex:\"none\",error:1,toString:ka}},a);a.hsb=A(function(c,b,m){return a.hsb2rgb(c,b,m).hex});a.hsl=A(function(c,b,m){return a.hsl2rgb(c,\n",
       "b,m).hex});a.rgb=A(function(c,a,b,m){if(y(m,\"finite\")){var e=I.round;return\"rgba(\"+[e(c),e(a),e(b),+m.toFixed(2)]+\")\"}return\"#\"+(16777216|b|a<<8|c<<16).toString(16).slice(1)});var T=function(c){var a=G.doc.getElementsByTagName(\"head\")[0]||G.doc.getElementsByTagName(\"svg\")[0];T=A(function(c){if(\"red\"==c.toLowerCase())return\"rgb(255, 0, 0)\";a.style.color=\"rgb(255, 0, 0)\";a.style.color=c;c=G.doc.defaultView.getComputedStyle(a,aa).getPropertyValue(\"color\");return\"rgb(255, 0, 0)\"==c?null:c});return T(c)},\n",
       "qa=function(){return\"hsb(\"+[this.h,this.s,this.b]+\")\"},ra=function(){return\"hsl(\"+[this.h,this.s,this.l]+\")\"},ka=function(){return 1==this.opacity||null==this.opacity?this.hex:\"rgba(\"+[this.r,this.g,this.b,this.opacity]+\")\"},D=function(c,b,m){null==b&&y(c,\"object\")&&\"r\"in c&&\"g\"in c&&\"b\"in c&&(m=c.b,b=c.g,c=c.r);null==b&&y(c,string)&&(m=a.getRGB(c),c=m.r,b=m.g,m=m.b);if(1<c||1<b||1<m)c/=255,b/=255,m/=255;return[c,b,m]},oa=function(c,b,m,e){c=I.round(255*c);b=I.round(255*b);m=I.round(255*m);c={r:c,\n",
       "g:b,b:m,opacity:y(e,\"finite\")?e:1,hex:a.rgb(c,b,m),toString:ka};y(e,\"finite\")&&(c.opacity=e);return c};a.color=function(c){var b;y(c,\"object\")&&\"h\"in c&&\"s\"in c&&\"b\"in c?(b=a.hsb2rgb(c),c.r=b.r,c.g=b.g,c.b=b.b,c.opacity=1,c.hex=b.hex):y(c,\"object\")&&\"h\"in c&&\"s\"in c&&\"l\"in c?(b=a.hsl2rgb(c),c.r=b.r,c.g=b.g,c.b=b.b,c.opacity=1,c.hex=b.hex):(y(c,\"string\")&&(c=a.getRGB(c)),y(c,\"object\")&&\"r\"in c&&\"g\"in c&&\"b\"in c&&!(\"error\"in c)?(b=a.rgb2hsl(c),c.h=b.h,c.s=b.s,c.l=b.l,b=a.rgb2hsb(c),c.v=b.b):(c={hex:\"none\"},\n",
       "c.r=c.g=c.b=c.h=c.s=c.v=c.l=-1,c.error=1));c.toString=ka;return c};a.hsb2rgb=function(c,a,b,m){y(c,\"object\")&&\"h\"in c&&\"s\"in c&&\"b\"in c&&(b=c.b,a=c.s,c=c.h,m=c.o);var e,h,d;c=360*c%360/60;d=b*a;a=d*(1-Y(c%2-1));b=e=h=b-d;c=~~c;b+=[d,a,0,0,a,d][c];e+=[a,d,d,a,0,0][c];h+=[0,0,a,d,d,a][c];return oa(b,e,h,m)};a.hsl2rgb=function(c,a,b,m){y(c,\"object\")&&\"h\"in c&&\"s\"in c&&\"l\"in c&&(b=c.l,a=c.s,c=c.h);if(1<c||1<a||1<b)c/=360,a/=100,b/=100;var e,h,d;c=360*c%360/60;d=2*a*(0.5>b?b:1-b);a=d*(1-Y(c%2-1));b=e=\n",
       "h=b-d/2;c=~~c;b+=[d,a,0,0,a,d][c];e+=[a,d,d,a,0,0][c];h+=[0,0,a,d,d,a][c];return oa(b,e,h,m)};a.rgb2hsb=function(c,a,b){b=D(c,a,b);c=b[0];a=b[1];b=b[2];var m,e;m=P(c,a,b);e=m-Q(c,a,b);c=((0==e?0:m==c?(a-b)/e:m==a?(b-c)/e+2:(c-a)/e+4)+360)%6*60/360;return{h:c,s:0==e?0:e/m,b:m,toString:qa}};a.rgb2hsl=function(c,a,b){b=D(c,a,b);c=b[0];a=b[1];b=b[2];var m,e,h;m=P(c,a,b);e=Q(c,a,b);h=m-e;c=((0==h?0:m==c?(a-b)/h:m==a?(b-c)/h+2:(c-a)/h+4)+360)%6*60/360;m=(m+e)/2;return{h:c,s:0==h?0:0.5>m?h/(2*m):h/(2-2*\n",
       "m),l:m,toString:ra}};a.parsePathString=function(c){if(!c)return null;var b=a.path(c);if(b.arr)return a.path.clone(b.arr);var m={a:7,c:6,o:2,h:1,l:2,m:2,r:4,q:4,s:4,t:2,v:1,u:3,z:0},e=[];y(c,\"array\")&&y(c[0],\"array\")&&(e=a.path.clone(c));e.length||J(c).replace(W,function(c,a,b){var h=[];c=a.toLowerCase();b.replace(Z,function(c,a){a&&h.push(+a)});\"m\"==c&&2<h.length&&(e.push([a].concat(h.splice(0,2))),c=\"l\",a=\"m\"==a?\"l\":\"L\");\"o\"==c&&1==h.length&&e.push([a,h[0] ]);if(\"r\"==c)e.push([a].concat(h));else for(;h.length>=\n",
       "m[c]&&(e.push([a].concat(h.splice(0,m[c]))),m[c]););});e.toString=a.path.toString;b.arr=a.path.clone(e);return e};var O=a.parseTransformString=function(c){if(!c)return null;var b=[];y(c,\"array\")&&y(c[0],\"array\")&&(b=a.path.clone(c));b.length||J(c).replace(ma,function(c,a,m){var e=[];a.toLowerCase();m.replace(Z,function(c,a){a&&e.push(+a)});b.push([a].concat(e))});b.toString=a.path.toString;return b};a._.svgTransform2string=d;a._.rgTransform=RegExp(\"^[a-z][\\t\\n\\x0B\\f\\r \\u00a0\\u1680\\u180e\\u2000\\u2001\\u2002\\u2003\\u2004\\u2005\\u2006\\u2007\\u2008\\u2009\\u200a\\u202f\\u205f\\u3000\\u2028\\u2029]*-?\\\\.?\\\\d\",\n",
       "\"i\");a._.transform2matrix=f;a._unit2px=b;a._.getSomeDefs=u;a._.getSomeSVG=p;a.select=function(c){return x(G.doc.querySelector(c))};a.selectAll=function(c){c=G.doc.querySelectorAll(c);for(var b=(a.set||Array)(),m=0;m<c.length;m++)b.push(x(c[m]));return b};setInterval(function(){for(var c in E)if(E[h](c)){var a=E[c],b=a.node;(\"svg\"!=a.type&&!b.ownerSVGElement||\"svg\"==a.type&&(!b.parentNode||\"ownerSVGElement\"in b.parentNode&&!b.ownerSVGElement))&&delete E[c]}},1E4);(function(c){function m(c){function a(c,\n",
       "b){var m=v(c.node,b);(m=(m=m&&m.match(d))&&m[2])&&\"#\"==m.charAt()&&(m=m.substring(1))&&(f[m]=(f[m]||[]).concat(function(a){var m={};m[b]=ca(a);v(c.node,m)}))}function b(c){var a=v(c.node,\"xlink:href\");a&&\"#\"==a.charAt()&&(a=a.substring(1))&&(f[a]=(f[a]||[]).concat(function(a){c.attr(\"xlink:href\",\"#\"+a)}))}var e=c.selectAll(\"*\"),h,d=/^\\s*url\\((\"|'|)(.*)\\1\\)\\s*$/;c=[];for(var f={},l=0,E=e.length;l<E;l++){h=e[l];a(h,\"fill\");a(h,\"stroke\");a(h,\"filter\");a(h,\"mask\");a(h,\"clip-path\");b(h);var t=v(h.node,\n",
       "\"id\");t&&(v(h.node,{id:h.id}),c.push({old:t,id:h.id}))}l=0;for(E=c.length;l<E;l++)if(e=f[c[l].old])for(h=0,t=e.length;h<t;h++)e[h](c[l].id)}function e(c,a,b){return function(m){m=m.slice(c,a);1==m.length&&(m=m[0]);return b?b(m):m}}function d(c){return function(){var a=c?\"<\"+this.type:\"\",b=this.node.attributes,m=this.node.childNodes;if(c)for(var e=0,h=b.length;e<h;e++)a+=\" \"+b[e].name+'=\"'+b[e].value.replace(/\"/g,'\\\\\"')+'\"';if(m.length){c&&(a+=\">\");e=0;for(h=m.length;e<h;e++)3==m[e].nodeType?a+=m[e].nodeValue:\n",
       "1==m[e].nodeType&&(a+=x(m[e]).toString());c&&(a+=\"</\"+this.type+\">\")}else c&&(a+=\"/>\");return a}}c.attr=function(c,a){if(!c)return this;if(y(c,\"string\"))if(1<arguments.length){var b={};b[c]=a;c=b}else return k(\"snap.util.getattr.\"+c,this).firstDefined();for(var m in c)c[h](m)&&k(\"snap.util.attr.\"+m,this,c[m]);return this};c.getBBox=function(c){if(!a.Matrix||!a.path)return this.node.getBBox();var b=this,m=new a.Matrix;if(b.removed)return a._.box();for(;\"use\"==b.type;)if(c||(m=m.add(b.transform().localMatrix.translate(b.attr(\"x\")||\n",
       "0,b.attr(\"y\")||0))),b.original)b=b.original;else var e=b.attr(\"xlink:href\"),b=b.original=b.node.ownerDocument.getElementById(e.substring(e.indexOf(\"#\")+1));var e=b._,h=a.path.get[b.type]||a.path.get.deflt;try{if(c)return e.bboxwt=h?a.path.getBBox(b.realPath=h(b)):a._.box(b.node.getBBox()),a._.box(e.bboxwt);b.realPath=h(b);b.matrix=b.transform().localMatrix;e.bbox=a.path.getBBox(a.path.map(b.realPath,m.add(b.matrix)));return a._.box(e.bbox)}catch(d){return a._.box()}};var f=function(){return this.string};\n",
       "c.transform=function(c){var b=this._;if(null==c){var m=this;c=new a.Matrix(this.node.getCTM());for(var e=n(this),h=[e],d=new a.Matrix,l=e.toTransformString(),b=J(e)==J(this.matrix)?J(b.transform):l;\"svg\"!=m.type&&(m=m.parent());)h.push(n(m));for(m=h.length;m--;)d.add(h[m]);return{string:b,globalMatrix:c,totalMatrix:d,localMatrix:e,diffMatrix:c.clone().add(e.invert()),global:c.toTransformString(),total:d.toTransformString(),local:l,toString:f}}c instanceof a.Matrix?this.matrix=c:n(this,c);this.node&&\n",
       "(\"linearGradient\"==this.type||\"radialGradient\"==this.type?v(this.node,{gradientTransform:this.matrix}):\"pattern\"==this.type?v(this.node,{patternTransform:this.matrix}):v(this.node,{transform:this.matrix}));return this};c.parent=function(){return x(this.node.parentNode)};c.append=c.add=function(c){if(c){if(\"set\"==c.type){var a=this;c.forEach(function(c){a.add(c)});return this}c=x(c);this.node.appendChild(c.node);c.paper=this.paper}return this};c.appendTo=function(c){c&&(c=x(c),c.append(this));return this};\n",
       "c.prepend=function(c){if(c){if(\"set\"==c.type){var a=this,b;c.forEach(function(c){b?b.after(c):a.prepend(c);b=c});return this}c=x(c);var m=c.parent();this.node.insertBefore(c.node,this.node.firstChild);this.add&&this.add();c.paper=this.paper;this.parent()&&this.parent().add();m&&m.add()}return this};c.prependTo=function(c){c=x(c);c.prepend(this);return this};c.before=function(c){if(\"set\"==c.type){var a=this;c.forEach(function(c){var b=c.parent();a.node.parentNode.insertBefore(c.node,a.node);b&&b.add()});\n",
       "this.parent().add();return this}c=x(c);var b=c.parent();this.node.parentNode.insertBefore(c.node,this.node);this.parent()&&this.parent().add();b&&b.add();c.paper=this.paper;return this};c.after=function(c){c=x(c);var a=c.parent();this.node.nextSibling?this.node.parentNode.insertBefore(c.node,this.node.nextSibling):this.node.parentNode.appendChild(c.node);this.parent()&&this.parent().add();a&&a.add();c.paper=this.paper;return this};c.insertBefore=function(c){c=x(c);var a=this.parent();c.node.parentNode.insertBefore(this.node,\n",
       "c.node);this.paper=c.paper;a&&a.add();c.parent()&&c.parent().add();return this};c.insertAfter=function(c){c=x(c);var a=this.parent();c.node.parentNode.insertBefore(this.node,c.node.nextSibling);this.paper=c.paper;a&&a.add();c.parent()&&c.parent().add();return this};c.remove=function(){var c=this.parent();this.node.parentNode&&this.node.parentNode.removeChild(this.node);delete this.paper;this.removed=!0;c&&c.add();return this};c.select=function(c){return x(this.node.querySelector(c))};c.selectAll=\n",
       "function(c){c=this.node.querySelectorAll(c);for(var b=(a.set||Array)(),m=0;m<c.length;m++)b.push(x(c[m]));return b};c.asPX=function(c,a){null==a&&(a=this.attr(c));return+b(this,c,a)};c.use=function(){var c,a=this.node.id;a||(a=this.id,v(this.node,{id:a}));c=\"linearGradient\"==this.type||\"radialGradient\"==this.type||\"pattern\"==this.type?r(this.type,this.node.parentNode):r(\"use\",this.node.parentNode);v(c.node,{\"xlink:href\":\"#\"+a});c.original=this;return c};var l=/\\S+/g;c.addClass=function(c){var a=(c||\n",
       "\"\").match(l)||[];c=this.node;var b=c.className.baseVal,m=b.match(l)||[],e,h,d;if(a.length){for(e=0;d=a[e++];)h=m.indexOf(d),~h||m.push(d);a=m.join(\" \");b!=a&&(c.className.baseVal=a)}return this};c.removeClass=function(c){var a=(c||\"\").match(l)||[];c=this.node;var b=c.className.baseVal,m=b.match(l)||[],e,h;if(m.length){for(e=0;h=a[e++];)h=m.indexOf(h),~h&&m.splice(h,1);a=m.join(\" \");b!=a&&(c.className.baseVal=a)}return this};c.hasClass=function(c){return!!~(this.node.className.baseVal.match(l)||[]).indexOf(c)};\n",
       "c.toggleClass=function(c,a){if(null!=a)return a?this.addClass(c):this.removeClass(c);var b=(c||\"\").match(l)||[],m=this.node,e=m.className.baseVal,h=e.match(l)||[],d,f,E;for(d=0;E=b[d++];)f=h.indexOf(E),~f?h.splice(f,1):h.push(E);b=h.join(\" \");e!=b&&(m.className.baseVal=b);return this};c.clone=function(){var c=x(this.node.cloneNode(!0));v(c.node,\"id\")&&v(c.node,{id:c.id});m(c);c.insertAfter(this);return c};c.toDefs=function(){u(this).appendChild(this.node);return this};c.pattern=c.toPattern=function(c,\n",
       "a,b,m){var e=r(\"pattern\",u(this));null==c&&(c=this.getBBox());y(c,\"object\")&&\"x\"in c&&(a=c.y,b=c.width,m=c.height,c=c.x);v(e.node,{x:c,y:a,width:b,height:m,patternUnits:\"userSpaceOnUse\",id:e.id,viewBox:[c,a,b,m].join(\" \")});e.node.appendChild(this.node);return e};c.marker=function(c,a,b,m,e,h){var d=r(\"marker\",u(this));null==c&&(c=this.getBBox());y(c,\"object\")&&\"x\"in c&&(a=c.y,b=c.width,m=c.height,e=c.refX||c.cx,h=c.refY||c.cy,c=c.x);v(d.node,{viewBox:[c,a,b,m].join(\" \"),markerWidth:b,markerHeight:m,\n",
       "orient:\"auto\",refX:e||0,refY:h||0,id:d.id});d.node.appendChild(this.node);return d};var E=function(c,a,b,m){\"function\"!=typeof b||b.length||(m=b,b=L.linear);this.attr=c;this.dur=a;b&&(this.easing=b);m&&(this.callback=m)};a._.Animation=E;a.animation=function(c,a,b,m){return new E(c,a,b,m)};c.inAnim=function(){var c=[],a;for(a in this.anims)this.anims[h](a)&&function(a){c.push({anim:new E(a._attrs,a.dur,a.easing,a._callback),mina:a,curStatus:a.status(),status:function(c){return a.status(c)},stop:function(){a.stop()}})}(this.anims[a]);\n",
       "return c};a.animate=function(c,a,b,m,e,h){\"function\"!=typeof e||e.length||(h=e,e=L.linear);var d=L.time();c=L(c,a,d,d+m,L.time,b,e);h&&k.once(\"mina.finish.\"+c.id,h);return c};c.stop=function(){for(var c=this.inAnim(),a=0,b=c.length;a<b;a++)c[a].stop();return this};c.animate=function(c,a,b,m){\"function\"!=typeof b||b.length||(m=b,b=L.linear);c instanceof E&&(m=c.callback,b=c.easing,a=b.dur,c=c.attr);var d=[],f=[],l={},t,ca,n,T=this,q;for(q in c)if(c[h](q)){T.equal?(n=T.equal(q,J(c[q])),t=n.from,ca=\n",
       "n.to,n=n.f):(t=+T.attr(q),ca=+c[q]);var la=y(t,\"array\")?t.length:1;l[q]=e(d.length,d.length+la,n);d=d.concat(t);f=f.concat(ca)}t=L.time();var p=L(d,f,t,t+a,L.time,function(c){var a={},b;for(b in l)l[h](b)&&(a[b]=l[b](c));T.attr(a)},b);T.anims[p.id]=p;p._attrs=c;p._callback=m;k(\"snap.animcreated.\"+T.id,p);k.once(\"mina.finish.\"+p.id,function(){delete T.anims[p.id];m&&m.call(T)});k.once(\"mina.stop.\"+p.id,function(){delete T.anims[p.id]});return T};var T={};c.data=function(c,b){var m=T[this.id]=T[this.id]||\n",
       "{};if(0==arguments.length)return k(\"snap.data.get.\"+this.id,this,m,null),m;if(1==arguments.length){if(a.is(c,\"object\")){for(var e in c)c[h](e)&&this.data(e,c[e]);return this}k(\"snap.data.get.\"+this.id,this,m[c],c);return m[c]}m[c]=b;k(\"snap.data.set.\"+this.id,this,b,c);return this};c.removeData=function(c){null==c?T[this.id]={}:T[this.id]&&delete T[this.id][c];return this};c.outerSVG=c.toString=d(1);c.innerSVG=d()})(e.prototype);a.parse=function(c){var a=G.doc.createDocumentFragment(),b=!0,m=G.doc.createElement(\"div\");\n",
       "c=J(c);c.match(/^\\s*<\\s*svg(?:\\s|>)/)||(c=\"<svg>\"+c+\"</svg>\",b=!1);m.innerHTML=c;if(c=m.getElementsByTagName(\"svg\")[0])if(b)a=c;else for(;c.firstChild;)a.appendChild(c.firstChild);m.innerHTML=aa;return new l(a)};l.prototype.select=e.prototype.select;l.prototype.selectAll=e.prototype.selectAll;a.fragment=function(){for(var c=Array.prototype.slice.call(arguments,0),b=G.doc.createDocumentFragment(),m=0,e=c.length;m<e;m++){var h=c[m];h.node&&h.node.nodeType&&b.appendChild(h.node);h.nodeType&&b.appendChild(h);\n",
       "\"string\"==typeof h&&b.appendChild(a.parse(h).node)}return new l(b)};a._.make=r;a._.wrap=x;s.prototype.el=function(c,a){var b=r(c,this.node);a&&b.attr(a);return b};k.on(\"snap.util.getattr\",function(){var c=k.nt(),c=c.substring(c.lastIndexOf(\".\")+1),a=c.replace(/[A-Z]/g,function(c){return\"-\"+c.toLowerCase()});return pa[h](a)?this.node.ownerDocument.defaultView.getComputedStyle(this.node,null).getPropertyValue(a):v(this.node,c)});var pa={\"alignment-baseline\":0,\"baseline-shift\":0,clip:0,\"clip-path\":0,\n",
       "\"clip-rule\":0,color:0,\"color-interpolation\":0,\"color-interpolation-filters\":0,\"color-profile\":0,\"color-rendering\":0,cursor:0,direction:0,display:0,\"dominant-baseline\":0,\"enable-background\":0,fill:0,\"fill-opacity\":0,\"fill-rule\":0,filter:0,\"flood-color\":0,\"flood-opacity\":0,font:0,\"font-family\":0,\"font-size\":0,\"font-size-adjust\":0,\"font-stretch\":0,\"font-style\":0,\"font-variant\":0,\"font-weight\":0,\"glyph-orientation-horizontal\":0,\"glyph-orientation-vertical\":0,\"image-rendering\":0,kerning:0,\"letter-spacing\":0,\n",
       "\"lighting-color\":0,marker:0,\"marker-end\":0,\"marker-mid\":0,\"marker-start\":0,mask:0,opacity:0,overflow:0,\"pointer-events\":0,\"shape-rendering\":0,\"stop-color\":0,\"stop-opacity\":0,stroke:0,\"stroke-dasharray\":0,\"stroke-dashoffset\":0,\"stroke-linecap\":0,\"stroke-linejoin\":0,\"stroke-miterlimit\":0,\"stroke-opacity\":0,\"stroke-width\":0,\"text-anchor\":0,\"text-decoration\":0,\"text-rendering\":0,\"unicode-bidi\":0,visibility:0,\"word-spacing\":0,\"writing-mode\":0};k.on(\"snap.util.attr\",function(c){var a=k.nt(),b={},a=a.substring(a.lastIndexOf(\".\")+\n",
       "1);b[a]=c;var m=a.replace(/-(\\w)/gi,function(c,a){return a.toUpperCase()}),a=a.replace(/[A-Z]/g,function(c){return\"-\"+c.toLowerCase()});pa[h](a)?this.node.style[m]=null==c?aa:c:v(this.node,b)});a.ajax=function(c,a,b,m){var e=new XMLHttpRequest,h=V();if(e){if(y(a,\"function\"))m=b,b=a,a=null;else if(y(a,\"object\")){var d=[],f;for(f in a)a.hasOwnProperty(f)&&d.push(encodeURIComponent(f)+\"=\"+encodeURIComponent(a[f]));a=d.join(\"&\")}e.open(a?\"POST\":\"GET\",c,!0);a&&(e.setRequestHeader(\"X-Requested-With\",\"XMLHttpRequest\"),\n",
       "e.setRequestHeader(\"Content-type\",\"application/x-www-form-urlencoded\"));b&&(k.once(\"snap.ajax.\"+h+\".0\",b),k.once(\"snap.ajax.\"+h+\".200\",b),k.once(\"snap.ajax.\"+h+\".304\",b));e.onreadystatechange=function(){4==e.readyState&&k(\"snap.ajax.\"+h+\".\"+e.status,m,e)};if(4==e.readyState)return e;e.send(a);return e}};a.load=function(c,b,m){a.ajax(c,function(c){c=a.parse(c.responseText);m?b.call(m,c):b(c)})};a.getElementByPoint=function(c,a){var b,m,e=G.doc.elementFromPoint(c,a);if(G.win.opera&&\"svg\"==e.tagName){b=\n",
       "e;m=b.getBoundingClientRect();b=b.ownerDocument;var h=b.body,d=b.documentElement;b=m.top+(g.win.pageYOffset||d.scrollTop||h.scrollTop)-(d.clientTop||h.clientTop||0);m=m.left+(g.win.pageXOffset||d.scrollLeft||h.scrollLeft)-(d.clientLeft||h.clientLeft||0);h=e.createSVGRect();h.x=c-m;h.y=a-b;h.width=h.height=1;b=e.getIntersectionList(h,null);b.length&&(e=b[b.length-1])}return e?x(e):null};a.plugin=function(c){c(a,e,s,G,l)};return G.win.Snap=a}();C.plugin(function(a,k,y,M,A){function w(a,d,f,b,q,e){null==\n",
       "d&&\"[object SVGMatrix]\"==z.call(a)?(this.a=a.a,this.b=a.b,this.c=a.c,this.d=a.d,this.e=a.e,this.f=a.f):null!=a?(this.a=+a,this.b=+d,this.c=+f,this.d=+b,this.e=+q,this.f=+e):(this.a=1,this.c=this.b=0,this.d=1,this.f=this.e=0)}var z=Object.prototype.toString,d=String,f=Math;(function(n){function k(a){return a[0]*a[0]+a[1]*a[1]}function p(a){var d=f.sqrt(k(a));a[0]&&(a[0]/=d);a[1]&&(a[1]/=d)}n.add=function(a,d,e,f,n,p){var k=[[],[],[] ],u=[[this.a,this.c,this.e],[this.b,this.d,this.f],[0,0,1] ];d=[[a,\n",
       "e,n],[d,f,p],[0,0,1] ];a&&a instanceof w&&(d=[[a.a,a.c,a.e],[a.b,a.d,a.f],[0,0,1] ]);for(a=0;3>a;a++)for(e=0;3>e;e++){for(f=n=0;3>f;f++)n+=u[a][f]*d[f][e];k[a][e]=n}this.a=k[0][0];this.b=k[1][0];this.c=k[0][1];this.d=k[1][1];this.e=k[0][2];this.f=k[1][2];return this};n.invert=function(){var a=this.a*this.d-this.b*this.c;return new w(this.d/a,-this.b/a,-this.c/a,this.a/a,(this.c*this.f-this.d*this.e)/a,(this.b*this.e-this.a*this.f)/a)};n.clone=function(){return new w(this.a,this.b,this.c,this.d,this.e,\n",
       "this.f)};n.translate=function(a,d){return this.add(1,0,0,1,a,d)};n.scale=function(a,d,e,f){null==d&&(d=a);(e||f)&&this.add(1,0,0,1,e,f);this.add(a,0,0,d,0,0);(e||f)&&this.add(1,0,0,1,-e,-f);return this};n.rotate=function(b,d,e){b=a.rad(b);d=d||0;e=e||0;var l=+f.cos(b).toFixed(9);b=+f.sin(b).toFixed(9);this.add(l,b,-b,l,d,e);return this.add(1,0,0,1,-d,-e)};n.x=function(a,d){return a*this.a+d*this.c+this.e};n.y=function(a,d){return a*this.b+d*this.d+this.f};n.get=function(a){return+this[d.fromCharCode(97+\n",
       "a)].toFixed(4)};n.toString=function(){return\"matrix(\"+[this.get(0),this.get(1),this.get(2),this.get(3),this.get(4),this.get(5)].join()+\")\"};n.offset=function(){return[this.e.toFixed(4),this.f.toFixed(4)]};n.determinant=function(){return this.a*this.d-this.b*this.c};n.split=function(){var b={};b.dx=this.e;b.dy=this.f;var d=[[this.a,this.c],[this.b,this.d] ];b.scalex=f.sqrt(k(d[0]));p(d[0]);b.shear=d[0][0]*d[1][0]+d[0][1]*d[1][1];d[1]=[d[1][0]-d[0][0]*b.shear,d[1][1]-d[0][1]*b.shear];b.scaley=f.sqrt(k(d[1]));\n",
       "p(d[1]);b.shear/=b.scaley;0>this.determinant()&&(b.scalex=-b.scalex);var e=-d[0][1],d=d[1][1];0>d?(b.rotate=a.deg(f.acos(d)),0>e&&(b.rotate=360-b.rotate)):b.rotate=a.deg(f.asin(e));b.isSimple=!+b.shear.toFixed(9)&&(b.scalex.toFixed(9)==b.scaley.toFixed(9)||!b.rotate);b.isSuperSimple=!+b.shear.toFixed(9)&&b.scalex.toFixed(9)==b.scaley.toFixed(9)&&!b.rotate;b.noRotation=!+b.shear.toFixed(9)&&!b.rotate;return b};n.toTransformString=function(a){a=a||this.split();if(+a.shear.toFixed(9))return\"m\"+[this.get(0),\n",
       "this.get(1),this.get(2),this.get(3),this.get(4),this.get(5)];a.scalex=+a.scalex.toFixed(4);a.scaley=+a.scaley.toFixed(4);a.rotate=+a.rotate.toFixed(4);return(a.dx||a.dy?\"t\"+[+a.dx.toFixed(4),+a.dy.toFixed(4)]:\"\")+(1!=a.scalex||1!=a.scaley?\"s\"+[a.scalex,a.scaley,0,0]:\"\")+(a.rotate?\"r\"+[+a.rotate.toFixed(4),0,0]:\"\")}})(w.prototype);a.Matrix=w;a.matrix=function(a,d,f,b,k,e){return new w(a,d,f,b,k,e)}});C.plugin(function(a,v,y,M,A){function w(h){return function(d){k.stop();d instanceof A&&1==d.node.childNodes.length&&\n",
       "(\"radialGradient\"==d.node.firstChild.tagName||\"linearGradient\"==d.node.firstChild.tagName||\"pattern\"==d.node.firstChild.tagName)&&(d=d.node.firstChild,b(this).appendChild(d),d=u(d));if(d instanceof v)if(\"radialGradient\"==d.type||\"linearGradient\"==d.type||\"pattern\"==d.type){d.node.id||e(d.node,{id:d.id});var f=l(d.node.id)}else f=d.attr(h);else f=a.color(d),f.error?(f=a(b(this).ownerSVGElement).gradient(d))?(f.node.id||e(f.node,{id:f.id}),f=l(f.node.id)):f=d:f=r(f);d={};d[h]=f;e(this.node,d);this.node.style[h]=\n",
       "x}}function z(a){k.stop();a==+a&&(a+=\"px\");this.node.style.fontSize=a}function d(a){var b=[];a=a.childNodes;for(var e=0,f=a.length;e<f;e++){var l=a[e];3==l.nodeType&&b.push(l.nodeValue);\"tspan\"==l.tagName&&(1==l.childNodes.length&&3==l.firstChild.nodeType?b.push(l.firstChild.nodeValue):b.push(d(l)))}return b}function f(){k.stop();return this.node.style.fontSize}var n=a._.make,u=a._.wrap,p=a.is,b=a._.getSomeDefs,q=/^url\\(#?([^)]+)\\)$/,e=a._.$,l=a.url,r=String,s=a._.separator,x=\"\";k.on(\"snap.util.attr.mask\",\n",
       "function(a){if(a instanceof v||a instanceof A){k.stop();a instanceof A&&1==a.node.childNodes.length&&(a=a.node.firstChild,b(this).appendChild(a),a=u(a));if(\"mask\"==a.type)var d=a;else d=n(\"mask\",b(this)),d.node.appendChild(a.node);!d.node.id&&e(d.node,{id:d.id});e(this.node,{mask:l(d.id)})}});(function(a){k.on(\"snap.util.attr.clip\",a);k.on(\"snap.util.attr.clip-path\",a);k.on(\"snap.util.attr.clipPath\",a)})(function(a){if(a instanceof v||a instanceof A){k.stop();if(\"clipPath\"==a.type)var d=a;else d=\n",
       "n(\"clipPath\",b(this)),d.node.appendChild(a.node),!d.node.id&&e(d.node,{id:d.id});e(this.node,{\"clip-path\":l(d.id)})}});k.on(\"snap.util.attr.fill\",w(\"fill\"));k.on(\"snap.util.attr.stroke\",w(\"stroke\"));var G=/^([lr])(?:\\(([^)]*)\\))?(.*)$/i;k.on(\"snap.util.grad.parse\",function(a){a=r(a);var b=a.match(G);if(!b)return null;a=b[1];var e=b[2],b=b[3],e=e.split(/\\s*,\\s*/).map(function(a){return+a==a?+a:a});1==e.length&&0==e[0]&&(e=[]);b=b.split(\"-\");b=b.map(function(a){a=a.split(\":\");var b={color:a[0]};a[1]&&\n",
       "(b.offset=parseFloat(a[1]));return b});return{type:a,params:e,stops:b}});k.on(\"snap.util.attr.d\",function(b){k.stop();p(b,\"array\")&&p(b[0],\"array\")&&(b=a.path.toString.call(b));b=r(b);b.match(/[ruo]/i)&&(b=a.path.toAbsolute(b));e(this.node,{d:b})})(-1);k.on(\"snap.util.attr.#text\",function(a){k.stop();a=r(a);for(a=M.doc.createTextNode(a);this.node.firstChild;)this.node.removeChild(this.node.firstChild);this.node.appendChild(a)})(-1);k.on(\"snap.util.attr.path\",function(a){k.stop();this.attr({d:a})})(-1);\n",
       "k.on(\"snap.util.attr.class\",function(a){k.stop();this.node.className.baseVal=a})(-1);k.on(\"snap.util.attr.viewBox\",function(a){a=p(a,\"object\")&&\"x\"in a?[a.x,a.y,a.width,a.height].join(\" \"):p(a,\"array\")?a.join(\" \"):a;e(this.node,{viewBox:a});k.stop()})(-1);k.on(\"snap.util.attr.transform\",function(a){this.transform(a);k.stop()})(-1);k.on(\"snap.util.attr.r\",function(a){\"rect\"==this.type&&(k.stop(),e(this.node,{rx:a,ry:a}))})(-1);k.on(\"snap.util.attr.textpath\",function(a){k.stop();if(\"text\"==this.type){var d,\n",
       "f;if(!a&&this.textPath){for(a=this.textPath;a.node.firstChild;)this.node.appendChild(a.node.firstChild);a.remove();delete this.textPath}else if(p(a,\"string\")?(d=b(this),a=u(d.parentNode).path(a),d.appendChild(a.node),d=a.id,a.attr({id:d})):(a=u(a),a instanceof v&&(d=a.attr(\"id\"),d||(d=a.id,a.attr({id:d})))),d)if(a=this.textPath,f=this.node,a)a.attr({\"xlink:href\":\"#\"+d});else{for(a=e(\"textPath\",{\"xlink:href\":\"#\"+d});f.firstChild;)a.appendChild(f.firstChild);f.appendChild(a);this.textPath=u(a)}}})(-1);\n",
       "k.on(\"snap.util.attr.text\",function(a){if(\"text\"==this.type){for(var b=this.node,d=function(a){var b=e(\"tspan\");if(p(a,\"array\"))for(var f=0;f<a.length;f++)b.appendChild(d(a[f]));else b.appendChild(M.doc.createTextNode(a));b.normalize&&b.normalize();return b};b.firstChild;)b.removeChild(b.firstChild);for(a=d(a);a.firstChild;)b.appendChild(a.firstChild)}k.stop()})(-1);k.on(\"snap.util.attr.fontSize\",z)(-1);k.on(\"snap.util.attr.font-size\",z)(-1);k.on(\"snap.util.getattr.transform\",function(){k.stop();\n",
       "return this.transform()})(-1);k.on(\"snap.util.getattr.textpath\",function(){k.stop();return this.textPath})(-1);(function(){function b(d){return function(){k.stop();var b=M.doc.defaultView.getComputedStyle(this.node,null).getPropertyValue(\"marker-\"+d);return\"none\"==b?b:a(M.doc.getElementById(b.match(q)[1]))}}function d(a){return function(b){k.stop();var d=\"marker\"+a.charAt(0).toUpperCase()+a.substring(1);if(\"\"==b||!b)this.node.style[d]=\"none\";else if(\"marker\"==b.type){var f=b.node.id;f||e(b.node,{id:b.id});\n",
       "this.node.style[d]=l(f)}}}k.on(\"snap.util.getattr.marker-end\",b(\"end\"))(-1);k.on(\"snap.util.getattr.markerEnd\",b(\"end\"))(-1);k.on(\"snap.util.getattr.marker-start\",b(\"start\"))(-1);k.on(\"snap.util.getattr.markerStart\",b(\"start\"))(-1);k.on(\"snap.util.getattr.marker-mid\",b(\"mid\"))(-1);k.on(\"snap.util.getattr.markerMid\",b(\"mid\"))(-1);k.on(\"snap.util.attr.marker-end\",d(\"end\"))(-1);k.on(\"snap.util.attr.markerEnd\",d(\"end\"))(-1);k.on(\"snap.util.attr.marker-start\",d(\"start\"))(-1);k.on(\"snap.util.attr.markerStart\",\n",
       "d(\"start\"))(-1);k.on(\"snap.util.attr.marker-mid\",d(\"mid\"))(-1);k.on(\"snap.util.attr.markerMid\",d(\"mid\"))(-1)})();k.on(\"snap.util.getattr.r\",function(){if(\"rect\"==this.type&&e(this.node,\"rx\")==e(this.node,\"ry\"))return k.stop(),e(this.node,\"rx\")})(-1);k.on(\"snap.util.getattr.text\",function(){if(\"text\"==this.type||\"tspan\"==this.type){k.stop();var a=d(this.node);return 1==a.length?a[0]:a}})(-1);k.on(\"snap.util.getattr.#text\",function(){return this.node.textContent})(-1);k.on(\"snap.util.getattr.viewBox\",\n",
       "function(){k.stop();var b=e(this.node,\"viewBox\");if(b)return b=b.split(s),a._.box(+b[0],+b[1],+b[2],+b[3])})(-1);k.on(\"snap.util.getattr.points\",function(){var a=e(this.node,\"points\");k.stop();if(a)return a.split(s)})(-1);k.on(\"snap.util.getattr.path\",function(){var a=e(this.node,\"d\");k.stop();return a})(-1);k.on(\"snap.util.getattr.class\",function(){return this.node.className.baseVal})(-1);k.on(\"snap.util.getattr.fontSize\",f)(-1);k.on(\"snap.util.getattr.font-size\",f)(-1)});C.plugin(function(a,v,y,\n",
       "M,A){function w(a){return a}function z(a){return function(b){return+b.toFixed(3)+a}}var d={\"+\":function(a,b){return a+b},\"-\":function(a,b){return a-b},\"/\":function(a,b){return a/b},\"*\":function(a,b){return a*b}},f=String,n=/[a-z]+$/i,u=/^\\s*([+\\-\\/*])\\s*=\\s*([\\d.eE+\\-]+)\\s*([^\\d\\s]+)?\\s*$/;k.on(\"snap.util.attr\",function(a){if(a=f(a).match(u)){var b=k.nt(),b=b.substring(b.lastIndexOf(\".\")+1),q=this.attr(b),e={};k.stop();var l=a[3]||\"\",r=q.match(n),s=d[a[1] ];r&&r==l?a=s(parseFloat(q),+a[2]):(q=this.asPX(b),\n",
       "a=s(this.asPX(b),this.asPX(b,a[2]+l)));isNaN(q)||isNaN(a)||(e[b]=a,this.attr(e))}})(-10);k.on(\"snap.util.equal\",function(a,b){var q=f(this.attr(a)||\"\"),e=f(b).match(u);if(e){k.stop();var l=e[3]||\"\",r=q.match(n),s=d[e[1] ];if(r&&r==l)return{from:parseFloat(q),to:s(parseFloat(q),+e[2]),f:z(r)};q=this.asPX(a);return{from:q,to:s(q,this.asPX(a,e[2]+l)),f:w}}})(-10)});C.plugin(function(a,v,y,M,A){var w=y.prototype,z=a.is;w.rect=function(a,d,k,p,b,q){var e;null==q&&(q=b);z(a,\"object\")&&\"[object Object]\"==\n",
       "a?e=a:null!=a&&(e={x:a,y:d,width:k,height:p},null!=b&&(e.rx=b,e.ry=q));return this.el(\"rect\",e)};w.circle=function(a,d,k){var p;z(a,\"object\")&&\"[object Object]\"==a?p=a:null!=a&&(p={cx:a,cy:d,r:k});return this.el(\"circle\",p)};var d=function(){function a(){this.parentNode.removeChild(this)}return function(d,k){var p=M.doc.createElement(\"img\"),b=M.doc.body;p.style.cssText=\"position:absolute;left:-9999em;top:-9999em\";p.onload=function(){k.call(p);p.onload=p.onerror=null;b.removeChild(p)};p.onerror=a;\n",
       "b.appendChild(p);p.src=d}}();w.image=function(f,n,k,p,b){var q=this.el(\"image\");if(z(f,\"object\")&&\"src\"in f)q.attr(f);else if(null!=f){var e={\"xlink:href\":f,preserveAspectRatio:\"none\"};null!=n&&null!=k&&(e.x=n,e.y=k);null!=p&&null!=b?(e.width=p,e.height=b):d(f,function(){a._.$(q.node,{width:this.offsetWidth,height:this.offsetHeight})});a._.$(q.node,e)}return q};w.ellipse=function(a,d,k,p){var b;z(a,\"object\")&&\"[object Object]\"==a?b=a:null!=a&&(b={cx:a,cy:d,rx:k,ry:p});return this.el(\"ellipse\",b)};\n",
       "w.path=function(a){var d;z(a,\"object\")&&!z(a,\"array\")?d=a:a&&(d={d:a});return this.el(\"path\",d)};w.group=w.g=function(a){var d=this.el(\"g\");1==arguments.length&&a&&!a.type?d.attr(a):arguments.length&&d.add(Array.prototype.slice.call(arguments,0));return d};w.svg=function(a,d,k,p,b,q,e,l){var r={};z(a,\"object\")&&null==d?r=a:(null!=a&&(r.x=a),null!=d&&(r.y=d),null!=k&&(r.width=k),null!=p&&(r.height=p),null!=b&&null!=q&&null!=e&&null!=l&&(r.viewBox=[b,q,e,l]));return this.el(\"svg\",r)};w.mask=function(a){var d=\n",
       "this.el(\"mask\");1==arguments.length&&a&&!a.type?d.attr(a):arguments.length&&d.add(Array.prototype.slice.call(arguments,0));return d};w.ptrn=function(a,d,k,p,b,q,e,l){if(z(a,\"object\"))var r=a;else arguments.length?(r={},null!=a&&(r.x=a),null!=d&&(r.y=d),null!=k&&(r.width=k),null!=p&&(r.height=p),null!=b&&null!=q&&null!=e&&null!=l&&(r.viewBox=[b,q,e,l])):r={patternUnits:\"userSpaceOnUse\"};return this.el(\"pattern\",r)};w.use=function(a){return null!=a?(make(\"use\",this.node),a instanceof v&&(a.attr(\"id\")||\n",
       "a.attr({id:ID()}),a=a.attr(\"id\")),this.el(\"use\",{\"xlink:href\":a})):v.prototype.use.call(this)};w.text=function(a,d,k){var p={};z(a,\"object\")?p=a:null!=a&&(p={x:a,y:d,text:k||\"\"});return this.el(\"text\",p)};w.line=function(a,d,k,p){var b={};z(a,\"object\")?b=a:null!=a&&(b={x1:a,x2:k,y1:d,y2:p});return this.el(\"line\",b)};w.polyline=function(a){1<arguments.length&&(a=Array.prototype.slice.call(arguments,0));var d={};z(a,\"object\")&&!z(a,\"array\")?d=a:null!=a&&(d={points:a});return this.el(\"polyline\",d)};\n",
       "w.polygon=function(a){1<arguments.length&&(a=Array.prototype.slice.call(arguments,0));var d={};z(a,\"object\")&&!z(a,\"array\")?d=a:null!=a&&(d={points:a});return this.el(\"polygon\",d)};(function(){function d(){return this.selectAll(\"stop\")}function n(b,d){var f=e(\"stop\"),k={offset:+d+\"%\"};b=a.color(b);k[\"stop-color\"]=b.hex;1>b.opacity&&(k[\"stop-opacity\"]=b.opacity);e(f,k);this.node.appendChild(f);return this}function u(){if(\"linearGradient\"==this.type){var b=e(this.node,\"x1\")||0,d=e(this.node,\"x2\")||\n",
       "1,f=e(this.node,\"y1\")||0,k=e(this.node,\"y2\")||0;return a._.box(b,f,math.abs(d-b),math.abs(k-f))}b=this.node.r||0;return a._.box((this.node.cx||0.5)-b,(this.node.cy||0.5)-b,2*b,2*b)}function p(a,d){function f(a,b){for(var d=(b-u)/(a-w),e=w;e<a;e++)h[e].offset=+(+u+d*(e-w)).toFixed(2);w=a;u=b}var n=k(\"snap.util.grad.parse\",null,d).firstDefined(),p;if(!n)return null;n.params.unshift(a);p=\"l\"==n.type.toLowerCase()?b.apply(0,n.params):q.apply(0,n.params);n.type!=n.type.toLowerCase()&&e(p.node,{gradientUnits:\"userSpaceOnUse\"});\n",
       "var h=n.stops,n=h.length,u=0,w=0;n--;for(var v=0;v<n;v++)\"offset\"in h[v]&&f(v,h[v].offset);h[n].offset=h[n].offset||100;f(n,h[n].offset);for(v=0;v<=n;v++){var y=h[v];p.addStop(y.color,y.offset)}return p}function b(b,k,p,q,w){b=a._.make(\"linearGradient\",b);b.stops=d;b.addStop=n;b.getBBox=u;null!=k&&e(b.node,{x1:k,y1:p,x2:q,y2:w});return b}function q(b,k,p,q,w,h){b=a._.make(\"radialGradient\",b);b.stops=d;b.addStop=n;b.getBBox=u;null!=k&&e(b.node,{cx:k,cy:p,r:q});null!=w&&null!=h&&e(b.node,{fx:w,fy:h});\n",
       "return b}var e=a._.$;w.gradient=function(a){return p(this.defs,a)};w.gradientLinear=function(a,d,e,f){return b(this.defs,a,d,e,f)};w.gradientRadial=function(a,b,d,e,f){return q(this.defs,a,b,d,e,f)};w.toString=function(){var b=this.node.ownerDocument,d=b.createDocumentFragment(),b=b.createElement(\"div\"),e=this.node.cloneNode(!0);d.appendChild(b);b.appendChild(e);a._.$(e,{xmlns:\"http://www.w3.org/2000/svg\"});b=b.innerHTML;d.removeChild(d.firstChild);return b};w.clear=function(){for(var a=this.node.firstChild,\n",
       "b;a;)b=a.nextSibling,\"defs\"!=a.tagName?a.parentNode.removeChild(a):w.clear.call({node:a}),a=b}})()});C.plugin(function(a,k,y,M){function A(a){var b=A.ps=A.ps||{};b[a]?b[a].sleep=100:b[a]={sleep:100};setTimeout(function(){for(var d in b)b[L](d)&&d!=a&&(b[d].sleep--,!b[d].sleep&&delete b[d])});return b[a]}function w(a,b,d,e){null==a&&(a=b=d=e=0);null==b&&(b=a.y,d=a.width,e=a.height,a=a.x);return{x:a,y:b,width:d,w:d,height:e,h:e,x2:a+d,y2:b+e,cx:a+d/2,cy:b+e/2,r1:F.min(d,e)/2,r2:F.max(d,e)/2,r0:F.sqrt(d*\n",
       "d+e*e)/2,path:s(a,b,d,e),vb:[a,b,d,e].join(\" \")}}function z(){return this.join(\",\").replace(N,\"$1\")}function d(a){a=C(a);a.toString=z;return a}function f(a,b,d,h,f,k,l,n,p){if(null==p)return e(a,b,d,h,f,k,l,n);if(0>p||e(a,b,d,h,f,k,l,n)<p)p=void 0;else{var q=0.5,O=1-q,s;for(s=e(a,b,d,h,f,k,l,n,O);0.01<Z(s-p);)q/=2,O+=(s<p?1:-1)*q,s=e(a,b,d,h,f,k,l,n,O);p=O}return u(a,b,d,h,f,k,l,n,p)}function n(b,d){function e(a){return+(+a).toFixed(3)}return a._.cacher(function(a,h,l){a instanceof k&&(a=a.attr(\"d\"));\n",
       "a=I(a);for(var n,p,D,q,O=\"\",s={},c=0,t=0,r=a.length;t<r;t++){D=a[t];if(\"M\"==D[0])n=+D[1],p=+D[2];else{q=f(n,p,D[1],D[2],D[3],D[4],D[5],D[6]);if(c+q>h){if(d&&!s.start){n=f(n,p,D[1],D[2],D[3],D[4],D[5],D[6],h-c);O+=[\"C\"+e(n.start.x),e(n.start.y),e(n.m.x),e(n.m.y),e(n.x),e(n.y)];if(l)return O;s.start=O;O=[\"M\"+e(n.x),e(n.y)+\"C\"+e(n.n.x),e(n.n.y),e(n.end.x),e(n.end.y),e(D[5]),e(D[6])].join();c+=q;n=+D[5];p=+D[6];continue}if(!b&&!d)return n=f(n,p,D[1],D[2],D[3],D[4],D[5],D[6],h-c)}c+=q;n=+D[5];p=+D[6]}O+=\n",
       "D.shift()+D}s.end=O;return n=b?c:d?s:u(n,p,D[0],D[1],D[2],D[3],D[4],D[5],1)},null,a._.clone)}function u(a,b,d,e,h,f,k,l,n){var p=1-n,q=ma(p,3),s=ma(p,2),c=n*n,t=c*n,r=q*a+3*s*n*d+3*p*n*n*h+t*k,q=q*b+3*s*n*e+3*p*n*n*f+t*l,s=a+2*n*(d-a)+c*(h-2*d+a),t=b+2*n*(e-b)+c*(f-2*e+b),x=d+2*n*(h-d)+c*(k-2*h+d),c=e+2*n*(f-e)+c*(l-2*f+e);a=p*a+n*d;b=p*b+n*e;h=p*h+n*k;f=p*f+n*l;l=90-180*F.atan2(s-x,t-c)/S;return{x:r,y:q,m:{x:s,y:t},n:{x:x,y:c},start:{x:a,y:b},end:{x:h,y:f},alpha:l}}function p(b,d,e,h,f,n,k,l){a.is(b,\n",
       "\"array\")||(b=[b,d,e,h,f,n,k,l]);b=U.apply(null,b);return w(b.min.x,b.min.y,b.max.x-b.min.x,b.max.y-b.min.y)}function b(a,b,d){return b>=a.x&&b<=a.x+a.width&&d>=a.y&&d<=a.y+a.height}function q(a,d){a=w(a);d=w(d);return b(d,a.x,a.y)||b(d,a.x2,a.y)||b(d,a.x,a.y2)||b(d,a.x2,a.y2)||b(a,d.x,d.y)||b(a,d.x2,d.y)||b(a,d.x,d.y2)||b(a,d.x2,d.y2)||(a.x<d.x2&&a.x>d.x||d.x<a.x2&&d.x>a.x)&&(a.y<d.y2&&a.y>d.y||d.y<a.y2&&d.y>a.y)}function e(a,b,d,e,h,f,n,k,l){null==l&&(l=1);l=(1<l?1:0>l?0:l)/2;for(var p=[-0.1252,\n",
       "0.1252,-0.3678,0.3678,-0.5873,0.5873,-0.7699,0.7699,-0.9041,0.9041,-0.9816,0.9816],q=[0.2491,0.2491,0.2335,0.2335,0.2032,0.2032,0.1601,0.1601,0.1069,0.1069,0.0472,0.0472],s=0,c=0;12>c;c++)var t=l*p[c]+l,r=t*(t*(-3*a+9*d-9*h+3*n)+6*a-12*d+6*h)-3*a+3*d,t=t*(t*(-3*b+9*e-9*f+3*k)+6*b-12*e+6*f)-3*b+3*e,s=s+q[c]*F.sqrt(r*r+t*t);return l*s}function l(a,b,d){a=I(a);b=I(b);for(var h,f,l,n,k,s,r,O,x,c,t=d?0:[],w=0,v=a.length;w<v;w++)if(x=a[w],\"M\"==x[0])h=k=x[1],f=s=x[2];else{\"C\"==x[0]?(x=[h,f].concat(x.slice(1)),\n",
       "h=x[6],f=x[7]):(x=[h,f,h,f,k,s,k,s],h=k,f=s);for(var G=0,y=b.length;G<y;G++)if(c=b[G],\"M\"==c[0])l=r=c[1],n=O=c[2];else{\"C\"==c[0]?(c=[l,n].concat(c.slice(1)),l=c[6],n=c[7]):(c=[l,n,l,n,r,O,r,O],l=r,n=O);var z;var K=x,B=c;z=d;var H=p(K),J=p(B);if(q(H,J)){for(var H=e.apply(0,K),J=e.apply(0,B),H=~~(H/8),J=~~(J/8),U=[],A=[],F={},M=z?0:[],P=0;P<H+1;P++){var C=u.apply(0,K.concat(P/H));U.push({x:C.x,y:C.y,t:P/H})}for(P=0;P<J+1;P++)C=u.apply(0,B.concat(P/J)),A.push({x:C.x,y:C.y,t:P/J});for(P=0;P<H;P++)for(K=\n",
       "0;K<J;K++){var Q=U[P],L=U[P+1],B=A[K],C=A[K+1],N=0.001>Z(L.x-Q.x)?\"y\":\"x\",S=0.001>Z(C.x-B.x)?\"y\":\"x\",R;R=Q.x;var Y=Q.y,V=L.x,ea=L.y,fa=B.x,ga=B.y,ha=C.x,ia=C.y;if(W(R,V)<X(fa,ha)||X(R,V)>W(fa,ha)||W(Y,ea)<X(ga,ia)||X(Y,ea)>W(ga,ia))R=void 0;else{var $=(R*ea-Y*V)*(fa-ha)-(R-V)*(fa*ia-ga*ha),aa=(R*ea-Y*V)*(ga-ia)-(Y-ea)*(fa*ia-ga*ha),ja=(R-V)*(ga-ia)-(Y-ea)*(fa-ha);if(ja){var $=$/ja,aa=aa/ja,ja=+$.toFixed(2),ba=+aa.toFixed(2);R=ja<+X(R,V).toFixed(2)||ja>+W(R,V).toFixed(2)||ja<+X(fa,ha).toFixed(2)||\n",
       "ja>+W(fa,ha).toFixed(2)||ba<+X(Y,ea).toFixed(2)||ba>+W(Y,ea).toFixed(2)||ba<+X(ga,ia).toFixed(2)||ba>+W(ga,ia).toFixed(2)?void 0:{x:$,y:aa}}else R=void 0}R&&F[R.x.toFixed(4)]!=R.y.toFixed(4)&&(F[R.x.toFixed(4)]=R.y.toFixed(4),Q=Q.t+Z((R[N]-Q[N])/(L[N]-Q[N]))*(L.t-Q.t),B=B.t+Z((R[S]-B[S])/(C[S]-B[S]))*(C.t-B.t),0<=Q&&1>=Q&&0<=B&&1>=B&&(z?M++:M.push({x:R.x,y:R.y,t1:Q,t2:B})))}z=M}else z=z?0:[];if(d)t+=z;else{H=0;for(J=z.length;H<J;H++)z[H].segment1=w,z[H].segment2=G,z[H].bez1=x,z[H].bez2=c;t=t.concat(z)}}}return t}\n",
       "function r(a){var b=A(a);if(b.bbox)return C(b.bbox);if(!a)return w();a=I(a);for(var d=0,e=0,h=[],f=[],l,n=0,k=a.length;n<k;n++)l=a[n],\"M\"==l[0]?(d=l[1],e=l[2],h.push(d),f.push(e)):(d=U(d,e,l[1],l[2],l[3],l[4],l[5],l[6]),h=h.concat(d.min.x,d.max.x),f=f.concat(d.min.y,d.max.y),d=l[5],e=l[6]);a=X.apply(0,h);l=X.apply(0,f);h=W.apply(0,h);f=W.apply(0,f);f=w(a,l,h-a,f-l);b.bbox=C(f);return f}function s(a,b,d,e,h){if(h)return[[\"M\",+a+ +h,b],[\"l\",d-2*h,0],[\"a\",h,h,0,0,1,h,h],[\"l\",0,e-2*h],[\"a\",h,h,0,0,1,\n",
       "-h,h],[\"l\",2*h-d,0],[\"a\",h,h,0,0,1,-h,-h],[\"l\",0,2*h-e],[\"a\",h,h,0,0,1,h,-h],[\"z\"] ];a=[[\"M\",a,b],[\"l\",d,0],[\"l\",0,e],[\"l\",-d,0],[\"z\"] ];a.toString=z;return a}function x(a,b,d,e,h){null==h&&null==e&&(e=d);a=+a;b=+b;d=+d;e=+e;if(null!=h){var f=Math.PI/180,l=a+d*Math.cos(-e*f);a+=d*Math.cos(-h*f);var n=b+d*Math.sin(-e*f);b+=d*Math.sin(-h*f);d=[[\"M\",l,n],[\"A\",d,d,0,+(180<h-e),0,a,b] ]}else d=[[\"M\",a,b],[\"m\",0,-e],[\"a\",d,e,0,1,1,0,2*e],[\"a\",d,e,0,1,1,0,-2*e],[\"z\"] ];d.toString=z;return d}function G(b){var e=\n",
       "A(b);if(e.abs)return d(e.abs);Q(b,\"array\")&&Q(b&&b[0],\"array\")||(b=a.parsePathString(b));if(!b||!b.length)return[[\"M\",0,0] ];var h=[],f=0,l=0,n=0,k=0,p=0;\"M\"==b[0][0]&&(f=+b[0][1],l=+b[0][2],n=f,k=l,p++,h[0]=[\"M\",f,l]);for(var q=3==b.length&&\"M\"==b[0][0]&&\"R\"==b[1][0].toUpperCase()&&\"Z\"==b[2][0].toUpperCase(),s,r,w=p,c=b.length;w<c;w++){h.push(s=[]);r=b[w];p=r[0];if(p!=p.toUpperCase())switch(s[0]=p.toUpperCase(),s[0]){case \"A\":s[1]=r[1];s[2]=r[2];s[3]=r[3];s[4]=r[4];s[5]=r[5];s[6]=+r[6]+f;s[7]=+r[7]+\n",
       "l;break;case \"V\":s[1]=+r[1]+l;break;case \"H\":s[1]=+r[1]+f;break;case \"R\":for(var t=[f,l].concat(r.slice(1)),u=2,v=t.length;u<v;u++)t[u]=+t[u]+f,t[++u]=+t[u]+l;h.pop();h=h.concat(P(t,q));break;case \"O\":h.pop();t=x(f,l,r[1],r[2]);t.push(t[0]);h=h.concat(t);break;case \"U\":h.pop();h=h.concat(x(f,l,r[1],r[2],r[3]));s=[\"U\"].concat(h[h.length-1].slice(-2));break;case \"M\":n=+r[1]+f,k=+r[2]+l;default:for(u=1,v=r.length;u<v;u++)s[u]=+r[u]+(u%2?f:l)}else if(\"R\"==p)t=[f,l].concat(r.slice(1)),h.pop(),h=h.concat(P(t,\n",
       "q)),s=[\"R\"].concat(r.slice(-2));else if(\"O\"==p)h.pop(),t=x(f,l,r[1],r[2]),t.push(t[0]),h=h.concat(t);else if(\"U\"==p)h.pop(),h=h.concat(x(f,l,r[1],r[2],r[3])),s=[\"U\"].concat(h[h.length-1].slice(-2));else for(t=0,u=r.length;t<u;t++)s[t]=r[t];p=p.toUpperCase();if(\"O\"!=p)switch(s[0]){case \"Z\":f=+n;l=+k;break;case \"H\":f=s[1];break;case \"V\":l=s[1];break;case \"M\":n=s[s.length-2],k=s[s.length-1];default:f=s[s.length-2],l=s[s.length-1]}}h.toString=z;e.abs=d(h);return h}function h(a,b,d,e){return[a,b,d,e,d,\n",
       "e]}function J(a,b,d,e,h,f){var l=1/3,n=2/3;return[l*a+n*d,l*b+n*e,l*h+n*d,l*f+n*e,h,f]}function K(b,d,e,h,f,l,n,k,p,s){var r=120*S/180,q=S/180*(+f||0),c=[],t,x=a._.cacher(function(a,b,c){var d=a*F.cos(c)-b*F.sin(c);a=a*F.sin(c)+b*F.cos(c);return{x:d,y:a}});if(s)v=s[0],t=s[1],l=s[2],u=s[3];else{t=x(b,d,-q);b=t.x;d=t.y;t=x(k,p,-q);k=t.x;p=t.y;F.cos(S/180*f);F.sin(S/180*f);t=(b-k)/2;v=(d-p)/2;u=t*t/(e*e)+v*v/(h*h);1<u&&(u=F.sqrt(u),e*=u,h*=u);var u=e*e,w=h*h,u=(l==n?-1:1)*F.sqrt(Z((u*w-u*v*v-w*t*t)/\n",
       "(u*v*v+w*t*t)));l=u*e*v/h+(b+k)/2;var u=u*-h*t/e+(d+p)/2,v=F.asin(((d-u)/h).toFixed(9));t=F.asin(((p-u)/h).toFixed(9));v=b<l?S-v:v;t=k<l?S-t:t;0>v&&(v=2*S+v);0>t&&(t=2*S+t);n&&v>t&&(v-=2*S);!n&&t>v&&(t-=2*S)}if(Z(t-v)>r){var c=t,w=k,G=p;t=v+r*(n&&t>v?1:-1);k=l+e*F.cos(t);p=u+h*F.sin(t);c=K(k,p,e,h,f,0,n,w,G,[t,c,l,u])}l=t-v;f=F.cos(v);r=F.sin(v);n=F.cos(t);t=F.sin(t);l=F.tan(l/4);e=4/3*e*l;l*=4/3*h;h=[b,d];b=[b+e*r,d-l*f];d=[k+e*t,p-l*n];k=[k,p];b[0]=2*h[0]-b[0];b[1]=2*h[1]-b[1];if(s)return[b,d,k].concat(c);\n",
       "c=[b,d,k].concat(c).join().split(\",\");s=[];k=0;for(p=c.length;k<p;k++)s[k]=k%2?x(c[k-1],c[k],q).y:x(c[k],c[k+1],q).x;return s}function U(a,b,d,e,h,f,l,k){for(var n=[],p=[[],[] ],s,r,c,t,q=0;2>q;++q)0==q?(r=6*a-12*d+6*h,s=-3*a+9*d-9*h+3*l,c=3*d-3*a):(r=6*b-12*e+6*f,s=-3*b+9*e-9*f+3*k,c=3*e-3*b),1E-12>Z(s)?1E-12>Z(r)||(s=-c/r,0<s&&1>s&&n.push(s)):(t=r*r-4*c*s,c=F.sqrt(t),0>t||(t=(-r+c)/(2*s),0<t&&1>t&&n.push(t),s=(-r-c)/(2*s),0<s&&1>s&&n.push(s)));for(r=q=n.length;q--;)s=n[q],c=1-s,p[0][q]=c*c*c*a+3*\n",
       "c*c*s*d+3*c*s*s*h+s*s*s*l,p[1][q]=c*c*c*b+3*c*c*s*e+3*c*s*s*f+s*s*s*k;p[0][r]=a;p[1][r]=b;p[0][r+1]=l;p[1][r+1]=k;p[0].length=p[1].length=r+2;return{min:{x:X.apply(0,p[0]),y:X.apply(0,p[1])},max:{x:W.apply(0,p[0]),y:W.apply(0,p[1])}}}function I(a,b){var e=!b&&A(a);if(!b&&e.curve)return d(e.curve);var f=G(a),l=b&&G(b),n={x:0,y:0,bx:0,by:0,X:0,Y:0,qx:null,qy:null},k={x:0,y:0,bx:0,by:0,X:0,Y:0,qx:null,qy:null},p=function(a,b,c){if(!a)return[\"C\",b.x,b.y,b.x,b.y,b.x,b.y];a[0]in{T:1,Q:1}||(b.qx=b.qy=null);\n",
       "switch(a[0]){case \"M\":b.X=a[1];b.Y=a[2];break;case \"A\":a=[\"C\"].concat(K.apply(0,[b.x,b.y].concat(a.slice(1))));break;case \"S\":\"C\"==c||\"S\"==c?(c=2*b.x-b.bx,b=2*b.y-b.by):(c=b.x,b=b.y);a=[\"C\",c,b].concat(a.slice(1));break;case \"T\":\"Q\"==c||\"T\"==c?(b.qx=2*b.x-b.qx,b.qy=2*b.y-b.qy):(b.qx=b.x,b.qy=b.y);a=[\"C\"].concat(J(b.x,b.y,b.qx,b.qy,a[1],a[2]));break;case \"Q\":b.qx=a[1];b.qy=a[2];a=[\"C\"].concat(J(b.x,b.y,a[1],a[2],a[3],a[4]));break;case \"L\":a=[\"C\"].concat(h(b.x,b.y,a[1],a[2]));break;case \"H\":a=[\"C\"].concat(h(b.x,\n",
       "b.y,a[1],b.y));break;case \"V\":a=[\"C\"].concat(h(b.x,b.y,b.x,a[1]));break;case \"Z\":a=[\"C\"].concat(h(b.x,b.y,b.X,b.Y))}return a},s=function(a,b){if(7<a[b].length){a[b].shift();for(var c=a[b];c.length;)q[b]=\"A\",l&&(u[b]=\"A\"),a.splice(b++,0,[\"C\"].concat(c.splice(0,6)));a.splice(b,1);v=W(f.length,l&&l.length||0)}},r=function(a,b,c,d,e){a&&b&&\"M\"==a[e][0]&&\"M\"!=b[e][0]&&(b.splice(e,0,[\"M\",d.x,d.y]),c.bx=0,c.by=0,c.x=a[e][1],c.y=a[e][2],v=W(f.length,l&&l.length||0))},q=[],u=[],c=\"\",t=\"\",x=0,v=W(f.length,\n",
       "l&&l.length||0);for(;x<v;x++){f[x]&&(c=f[x][0]);\"C\"!=c&&(q[x]=c,x&&(t=q[x-1]));f[x]=p(f[x],n,t);\"A\"!=q[x]&&\"C\"==c&&(q[x]=\"C\");s(f,x);l&&(l[x]&&(c=l[x][0]),\"C\"!=c&&(u[x]=c,x&&(t=u[x-1])),l[x]=p(l[x],k,t),\"A\"!=u[x]&&\"C\"==c&&(u[x]=\"C\"),s(l,x));r(f,l,n,k,x);r(l,f,k,n,x);var w=f[x],z=l&&l[x],y=w.length,U=l&&z.length;n.x=w[y-2];n.y=w[y-1];n.bx=$(w[y-4])||n.x;n.by=$(w[y-3])||n.y;k.bx=l&&($(z[U-4])||k.x);k.by=l&&($(z[U-3])||k.y);k.x=l&&z[U-2];k.y=l&&z[U-1]}l||(e.curve=d(f));return l?[f,l]:f}function P(a,\n",
       "b){for(var d=[],e=0,h=a.length;h-2*!b>e;e+=2){var f=[{x:+a[e-2],y:+a[e-1]},{x:+a[e],y:+a[e+1]},{x:+a[e+2],y:+a[e+3]},{x:+a[e+4],y:+a[e+5]}];b?e?h-4==e?f[3]={x:+a[0],y:+a[1]}:h-2==e&&(f[2]={x:+a[0],y:+a[1]},f[3]={x:+a[2],y:+a[3]}):f[0]={x:+a[h-2],y:+a[h-1]}:h-4==e?f[3]=f[2]:e||(f[0]={x:+a[e],y:+a[e+1]});d.push([\"C\",(-f[0].x+6*f[1].x+f[2].x)/6,(-f[0].y+6*f[1].y+f[2].y)/6,(f[1].x+6*f[2].x-f[3].x)/6,(f[1].y+6*f[2].y-f[3].y)/6,f[2].x,f[2].y])}return d}y=k.prototype;var Q=a.is,C=a._.clone,L=\"hasOwnProperty\",\n",
       "N=/,?([a-z]),?/gi,$=parseFloat,F=Math,S=F.PI,X=F.min,W=F.max,ma=F.pow,Z=F.abs;M=n(1);var na=n(),ba=n(0,1),V=a._unit2px;a.path=A;a.path.getTotalLength=M;a.path.getPointAtLength=na;a.path.getSubpath=function(a,b,d){if(1E-6>this.getTotalLength(a)-d)return ba(a,b).end;a=ba(a,d,1);return b?ba(a,b).end:a};y.getTotalLength=function(){if(this.node.getTotalLength)return this.node.getTotalLength()};y.getPointAtLength=function(a){return na(this.attr(\"d\"),a)};y.getSubpath=function(b,d){return a.path.getSubpath(this.attr(\"d\"),\n",
       "b,d)};a._.box=w;a.path.findDotsAtSegment=u;a.path.bezierBBox=p;a.path.isPointInsideBBox=b;a.path.isBBoxIntersect=q;a.path.intersection=function(a,b){return l(a,b)};a.path.intersectionNumber=function(a,b){return l(a,b,1)};a.path.isPointInside=function(a,d,e){var h=r(a);return b(h,d,e)&&1==l(a,[[\"M\",d,e],[\"H\",h.x2+10] ],1)%2};a.path.getBBox=r;a.path.get={path:function(a){return a.attr(\"path\")},circle:function(a){a=V(a);return x(a.cx,a.cy,a.r)},ellipse:function(a){a=V(a);return x(a.cx||0,a.cy||0,a.rx,\n",
       "a.ry)},rect:function(a){a=V(a);return s(a.x||0,a.y||0,a.width,a.height,a.rx,a.ry)},image:function(a){a=V(a);return s(a.x||0,a.y||0,a.width,a.height)},line:function(a){return\"M\"+[a.attr(\"x1\")||0,a.attr(\"y1\")||0,a.attr(\"x2\"),a.attr(\"y2\")]},polyline:function(a){return\"M\"+a.attr(\"points\")},polygon:function(a){return\"M\"+a.attr(\"points\")+\"z\"},deflt:function(a){a=a.node.getBBox();return s(a.x,a.y,a.width,a.height)}};a.path.toRelative=function(b){var e=A(b),h=String.prototype.toLowerCase;if(e.rel)return d(e.rel);\n",
       "a.is(b,\"array\")&&a.is(b&&b[0],\"array\")||(b=a.parsePathString(b));var f=[],l=0,n=0,k=0,p=0,s=0;\"M\"==b[0][0]&&(l=b[0][1],n=b[0][2],k=l,p=n,s++,f.push([\"M\",l,n]));for(var r=b.length;s<r;s++){var q=f[s]=[],x=b[s];if(x[0]!=h.call(x[0]))switch(q[0]=h.call(x[0]),q[0]){case \"a\":q[1]=x[1];q[2]=x[2];q[3]=x[3];q[4]=x[4];q[5]=x[5];q[6]=+(x[6]-l).toFixed(3);q[7]=+(x[7]-n).toFixed(3);break;case \"v\":q[1]=+(x[1]-n).toFixed(3);break;case \"m\":k=x[1],p=x[2];default:for(var c=1,t=x.length;c<t;c++)q[c]=+(x[c]-(c%2?l:\n",
       "n)).toFixed(3)}else for(f[s]=[],\"m\"==x[0]&&(k=x[1]+l,p=x[2]+n),q=0,c=x.length;q<c;q++)f[s][q]=x[q];x=f[s].length;switch(f[s][0]){case \"z\":l=k;n=p;break;case \"h\":l+=+f[s][x-1];break;case \"v\":n+=+f[s][x-1];break;default:l+=+f[s][x-2],n+=+f[s][x-1]}}f.toString=z;e.rel=d(f);return f};a.path.toAbsolute=G;a.path.toCubic=I;a.path.map=function(a,b){if(!b)return a;var d,e,h,f,l,n,k;a=I(a);h=0;for(l=a.length;h<l;h++)for(k=a[h],f=1,n=k.length;f<n;f+=2)d=b.x(k[f],k[f+1]),e=b.y(k[f],k[f+1]),k[f]=d,k[f+1]=e;return a};\n",
       "a.path.toString=z;a.path.clone=d});C.plugin(function(a,v,y,C){var A=Math.max,w=Math.min,z=function(a){this.items=[];this.bindings={};this.length=0;this.type=\"set\";if(a)for(var f=0,n=a.length;f<n;f++)a[f]&&(this[this.items.length]=this.items[this.items.length]=a[f],this.length++)};v=z.prototype;v.push=function(){for(var a,f,n=0,k=arguments.length;n<k;n++)if(a=arguments[n])f=this.items.length,this[f]=this.items[f]=a,this.length++;return this};v.pop=function(){this.length&&delete this[this.length--];\n",
       "return this.items.pop()};v.forEach=function(a,f){for(var n=0,k=this.items.length;n<k&&!1!==a.call(f,this.items[n],n);n++);return this};v.animate=function(d,f,n,u){\"function\"!=typeof n||n.length||(u=n,n=L.linear);d instanceof a._.Animation&&(u=d.callback,n=d.easing,f=n.dur,d=d.attr);var p=arguments;if(a.is(d,\"array\")&&a.is(p[p.length-1],\"array\"))var b=!0;var q,e=function(){q?this.b=q:q=this.b},l=0,r=u&&function(){l++==this.length&&u.call(this)};return this.forEach(function(a,l){k.once(\"snap.animcreated.\"+\n",
       "a.id,e);b?p[l]&&a.animate.apply(a,p[l]):a.animate(d,f,n,r)})};v.remove=function(){for(;this.length;)this.pop().remove();return this};v.bind=function(a,f,k){var u={};if(\"function\"==typeof f)this.bindings[a]=f;else{var p=k||a;this.bindings[a]=function(a){u[p]=a;f.attr(u)}}return this};v.attr=function(a){var f={},k;for(k in a)if(this.bindings[k])this.bindings[k](a[k]);else f[k]=a[k];a=0;for(k=this.items.length;a<k;a++)this.items[a].attr(f);return this};v.clear=function(){for(;this.length;)this.pop()};\n",
       "v.splice=function(a,f,k){a=0>a?A(this.length+a,0):a;f=A(0,w(this.length-a,f));var u=[],p=[],b=[],q;for(q=2;q<arguments.length;q++)b.push(arguments[q]);for(q=0;q<f;q++)p.push(this[a+q]);for(;q<this.length-a;q++)u.push(this[a+q]);var e=b.length;for(q=0;q<e+u.length;q++)this.items[a+q]=this[a+q]=q<e?b[q]:u[q-e];for(q=this.items.length=this.length-=f-e;this[q];)delete this[q++];return new z(p)};v.exclude=function(a){for(var f=0,k=this.length;f<k;f++)if(this[f]==a)return this.splice(f,1),!0;return!1};\n",
       "v.insertAfter=function(a){for(var f=this.items.length;f--;)this.items[f].insertAfter(a);return this};v.getBBox=function(){for(var a=[],f=[],k=[],u=[],p=this.items.length;p--;)if(!this.items[p].removed){var b=this.items[p].getBBox();a.push(b.x);f.push(b.y);k.push(b.x+b.width);u.push(b.y+b.height)}a=w.apply(0,a);f=w.apply(0,f);k=A.apply(0,k);u=A.apply(0,u);return{x:a,y:f,x2:k,y2:u,width:k-a,height:u-f,cx:a+(k-a)/2,cy:f+(u-f)/2}};v.clone=function(a){a=new z;for(var f=0,k=this.items.length;f<k;f++)a.push(this.items[f].clone());\n",
       "return a};v.toString=function(){return\"Snap\\u2018s set\"};v.type=\"set\";a.set=function(){var a=new z;arguments.length&&a.push.apply(a,Array.prototype.slice.call(arguments,0));return a}});C.plugin(function(a,v,y,C){function A(a){var b=a[0];switch(b.toLowerCase()){case \"t\":return[b,0,0];case \"m\":return[b,1,0,0,1,0,0];case \"r\":return 4==a.length?[b,0,a[2],a[3] ]:[b,0];case \"s\":return 5==a.length?[b,1,1,a[3],a[4] ]:3==a.length?[b,1,1]:[b,1]}}function w(b,d,f){d=q(d).replace(/\\.{3}|\\u2026/g,b);b=a.parseTransformString(b)||\n",
       "[];d=a.parseTransformString(d)||[];for(var k=Math.max(b.length,d.length),p=[],v=[],h=0,w,z,y,I;h<k;h++){y=b[h]||A(d[h]);I=d[h]||A(y);if(y[0]!=I[0]||\"r\"==y[0].toLowerCase()&&(y[2]!=I[2]||y[3]!=I[3])||\"s\"==y[0].toLowerCase()&&(y[3]!=I[3]||y[4]!=I[4])){b=a._.transform2matrix(b,f());d=a._.transform2matrix(d,f());p=[[\"m\",b.a,b.b,b.c,b.d,b.e,b.f] ];v=[[\"m\",d.a,d.b,d.c,d.d,d.e,d.f] ];break}p[h]=[];v[h]=[];w=0;for(z=Math.max(y.length,I.length);w<z;w++)w in y&&(p[h][w]=y[w]),w in I&&(v[h][w]=I[w])}return{from:u(p),\n",
       "to:u(v),f:n(p)}}function z(a){return a}function d(a){return function(b){return+b.toFixed(3)+a}}function f(b){return a.rgb(b[0],b[1],b[2])}function n(a){var b=0,d,f,k,n,h,p,q=[];d=0;for(f=a.length;d<f;d++){h=\"[\";p=['\"'+a[d][0]+'\"'];k=1;for(n=a[d].length;k<n;k++)p[k]=\"val[\"+b++ +\"]\";h+=p+\"]\";q[d]=h}return Function(\"val\",\"return Snap.path.toString.call([\"+q+\"])\")}function u(a){for(var b=[],d=0,f=a.length;d<f;d++)for(var k=1,n=a[d].length;k<n;k++)b.push(a[d][k]);return b}var p={},b=/[a-z]+$/i,q=String;\n",
       "p.stroke=p.fill=\"colour\";v.prototype.equal=function(a,b){return k(\"snap.util.equal\",this,a,b).firstDefined()};k.on(\"snap.util.equal\",function(e,k){var r,s;r=q(this.attr(e)||\"\");var x=this;if(r==+r&&k==+k)return{from:+r,to:+k,f:z};if(\"colour\"==p[e])return r=a.color(r),s=a.color(k),{from:[r.r,r.g,r.b,r.opacity],to:[s.r,s.g,s.b,s.opacity],f:f};if(\"transform\"==e||\"gradientTransform\"==e||\"patternTransform\"==e)return k instanceof a.Matrix&&(k=k.toTransformString()),a._.rgTransform.test(k)||(k=a._.svgTransform2string(k)),\n",
       "w(r,k,function(){return x.getBBox(1)});if(\"d\"==e||\"path\"==e)return r=a.path.toCubic(r,k),{from:u(r[0]),to:u(r[1]),f:n(r[0])};if(\"points\"==e)return r=q(r).split(a._.separator),s=q(k).split(a._.separator),{from:r,to:s,f:function(a){return a}};aUnit=r.match(b);s=q(k).match(b);return aUnit&&aUnit==s?{from:parseFloat(r),to:parseFloat(k),f:d(aUnit)}:{from:this.asPX(e),to:this.asPX(e,k),f:z}})});C.plugin(function(a,v,y,C){var A=v.prototype,w=\"createTouch\"in C.doc;v=\"click dblclick mousedown mousemove mouseout mouseover mouseup touchstart touchmove touchend touchcancel\".split(\" \");\n",
       "var z={mousedown:\"touchstart\",mousemove:\"touchmove\",mouseup:\"touchend\"},d=function(a,b){var d=\"y\"==a?\"scrollTop\":\"scrollLeft\",e=b&&b.node?b.node.ownerDocument:C.doc;return e[d in e.documentElement?\"documentElement\":\"body\"][d]},f=function(){this.returnValue=!1},n=function(){return this.originalEvent.preventDefault()},u=function(){this.cancelBubble=!0},p=function(){return this.originalEvent.stopPropagation()},b=function(){if(C.doc.addEventListener)return function(a,b,e,f){var k=w&&z[b]?z[b]:b,l=function(k){var l=\n",
       "d(\"y\",f),q=d(\"x\",f);if(w&&z.hasOwnProperty(b))for(var r=0,u=k.targetTouches&&k.targetTouches.length;r<u;r++)if(k.targetTouches[r].target==a||a.contains(k.targetTouches[r].target)){u=k;k=k.targetTouches[r];k.originalEvent=u;k.preventDefault=n;k.stopPropagation=p;break}return e.call(f,k,k.clientX+q,k.clientY+l)};b!==k&&a.addEventListener(b,l,!1);a.addEventListener(k,l,!1);return function(){b!==k&&a.removeEventListener(b,l,!1);a.removeEventListener(k,l,!1);return!0}};if(C.doc.attachEvent)return function(a,\n",
       "b,e,h){var k=function(a){a=a||h.node.ownerDocument.window.event;var b=d(\"y\",h),k=d(\"x\",h),k=a.clientX+k,b=a.clientY+b;a.preventDefault=a.preventDefault||f;a.stopPropagation=a.stopPropagation||u;return e.call(h,a,k,b)};a.attachEvent(\"on\"+b,k);return function(){a.detachEvent(\"on\"+b,k);return!0}}}(),q=[],e=function(a){for(var b=a.clientX,e=a.clientY,f=d(\"y\"),l=d(\"x\"),n,p=q.length;p--;){n=q[p];if(w)for(var r=a.touches&&a.touches.length,u;r--;){if(u=a.touches[r],u.identifier==n.el._drag.id||n.el.node.contains(u.target)){b=\n",
       "u.clientX;e=u.clientY;(a.originalEvent?a.originalEvent:a).preventDefault();break}}else a.preventDefault();b+=l;e+=f;k(\"snap.drag.move.\"+n.el.id,n.move_scope||n.el,b-n.el._drag.x,e-n.el._drag.y,b,e,a)}},l=function(b){a.unmousemove(e).unmouseup(l);for(var d=q.length,f;d--;)f=q[d],f.el._drag={},k(\"snap.drag.end.\"+f.el.id,f.end_scope||f.start_scope||f.move_scope||f.el,b);q=[]};for(y=v.length;y--;)(function(d){a[d]=A[d]=function(e,f){a.is(e,\"function\")&&(this.events=this.events||[],this.events.push({name:d,\n",
       "f:e,unbind:b(this.node||document,d,e,f||this)}));return this};a[\"un\"+d]=A[\"un\"+d]=function(a){for(var b=this.events||[],e=b.length;e--;)if(b[e].name==d&&(b[e].f==a||!a)){b[e].unbind();b.splice(e,1);!b.length&&delete this.events;break}return this}})(v[y]);A.hover=function(a,b,d,e){return this.mouseover(a,d).mouseout(b,e||d)};A.unhover=function(a,b){return this.unmouseover(a).unmouseout(b)};var r=[];A.drag=function(b,d,f,h,n,p){function u(r,v,w){(r.originalEvent||r).preventDefault();this._drag.x=v;\n",
       "this._drag.y=w;this._drag.id=r.identifier;!q.length&&a.mousemove(e).mouseup(l);q.push({el:this,move_scope:h,start_scope:n,end_scope:p});d&&k.on(\"snap.drag.start.\"+this.id,d);b&&k.on(\"snap.drag.move.\"+this.id,b);f&&k.on(\"snap.drag.end.\"+this.id,f);k(\"snap.drag.start.\"+this.id,n||h||this,v,w,r)}if(!arguments.length){var v;return this.drag(function(a,b){this.attr({transform:v+(v?\"T\":\"t\")+[a,b]})},function(){v=this.transform().local})}this._drag={};r.push({el:this,start:u});this.mousedown(u);return this};\n",
       "A.undrag=function(){for(var b=r.length;b--;)r[b].el==this&&(this.unmousedown(r[b].start),r.splice(b,1),k.unbind(\"snap.drag.*.\"+this.id));!r.length&&a.unmousemove(e).unmouseup(l);return this}});C.plugin(function(a,v,y,C){y=y.prototype;var A=/^\\s*url\\((.+)\\)/,w=String,z=a._.$;a.filter={};y.filter=function(d){var f=this;\"svg\"!=f.type&&(f=f.paper);d=a.parse(w(d));var k=a._.id(),u=z(\"filter\");z(u,{id:k,filterUnits:\"userSpaceOnUse\"});u.appendChild(d.node);f.defs.appendChild(u);return new v(u)};k.on(\"snap.util.getattr.filter\",\n",
       "function(){k.stop();var d=z(this.node,\"filter\");if(d)return(d=w(d).match(A))&&a.select(d[1])});k.on(\"snap.util.attr.filter\",function(d){if(d instanceof v&&\"filter\"==d.type){k.stop();var f=d.node.id;f||(z(d.node,{id:d.id}),f=d.id);z(this.node,{filter:a.url(f)})}d&&\"none\"!=d||(k.stop(),this.node.removeAttribute(\"filter\"))});a.filter.blur=function(d,f){null==d&&(d=2);return a.format('<feGaussianBlur stdDeviation=\"{def}\"/>',{def:null==f?d:[d,f]})};a.filter.blur.toString=function(){return this()};a.filter.shadow=\n",
       "function(d,f,k,u,p){\"string\"==typeof k&&(p=u=k,k=4);\"string\"!=typeof u&&(p=u,u=\"#000\");null==k&&(k=4);null==p&&(p=1);null==d&&(d=0,f=2);null==f&&(f=d);u=a.color(u||\"#000\");return a.format('<feGaussianBlur in=\"SourceAlpha\" stdDeviation=\"{blur}\"/><feOffset dx=\"{dx}\" dy=\"{dy}\" result=\"offsetblur\"/><feFlood flood-color=\"{color}\"/><feComposite in2=\"offsetblur\" operator=\"in\"/><feComponentTransfer><feFuncA type=\"linear\" slope=\"{opacity}\"/></feComponentTransfer><feMerge><feMergeNode/><feMergeNode in=\"SourceGraphic\"/></feMerge>',\n",
       "{color:u,dx:d,dy:f,blur:k,opacity:p})};a.filter.shadow.toString=function(){return this()};a.filter.grayscale=function(d){null==d&&(d=1);return a.format('<feColorMatrix type=\"matrix\" values=\"{a} {b} {c} 0 0 {d} {e} {f} 0 0 {g} {b} {h} 0 0 0 0 0 1 0\"/>',{a:0.2126+0.7874*(1-d),b:0.7152-0.7152*(1-d),c:0.0722-0.0722*(1-d),d:0.2126-0.2126*(1-d),e:0.7152+0.2848*(1-d),f:0.0722-0.0722*(1-d),g:0.2126-0.2126*(1-d),h:0.0722+0.9278*(1-d)})};a.filter.grayscale.toString=function(){return this()};a.filter.sepia=\n",
       "function(d){null==d&&(d=1);return a.format('<feColorMatrix type=\"matrix\" values=\"{a} {b} {c} 0 0 {d} {e} {f} 0 0 {g} {h} {i} 0 0 0 0 0 1 0\"/>',{a:0.393+0.607*(1-d),b:0.769-0.769*(1-d),c:0.189-0.189*(1-d),d:0.349-0.349*(1-d),e:0.686+0.314*(1-d),f:0.168-0.168*(1-d),g:0.272-0.272*(1-d),h:0.534-0.534*(1-d),i:0.131+0.869*(1-d)})};a.filter.sepia.toString=function(){return this()};a.filter.saturate=function(d){null==d&&(d=1);return a.format('<feColorMatrix type=\"saturate\" values=\"{amount}\"/>',{amount:1-\n",
       "d})};a.filter.saturate.toString=function(){return this()};a.filter.hueRotate=function(d){return a.format('<feColorMatrix type=\"hueRotate\" values=\"{angle}\"/>',{angle:d||0})};a.filter.hueRotate.toString=function(){return this()};a.filter.invert=function(d){null==d&&(d=1);return a.format('<feComponentTransfer><feFuncR type=\"table\" tableValues=\"{amount} {amount2}\"/><feFuncG type=\"table\" tableValues=\"{amount} {amount2}\"/><feFuncB type=\"table\" tableValues=\"{amount} {amount2}\"/></feComponentTransfer>',{amount:d,\n",
       "amount2:1-d})};a.filter.invert.toString=function(){return this()};a.filter.brightness=function(d){null==d&&(d=1);return a.format('<feComponentTransfer><feFuncR type=\"linear\" slope=\"{amount}\"/><feFuncG type=\"linear\" slope=\"{amount}\"/><feFuncB type=\"linear\" slope=\"{amount}\"/></feComponentTransfer>',{amount:d})};a.filter.brightness.toString=function(){return this()};a.filter.contrast=function(d){null==d&&(d=1);return a.format('<feComponentTransfer><feFuncR type=\"linear\" slope=\"{amount}\" intercept=\"{amount2}\"/><feFuncG type=\"linear\" slope=\"{amount}\" intercept=\"{amount2}\"/><feFuncB type=\"linear\" slope=\"{amount}\" intercept=\"{amount2}\"/></feComponentTransfer>',\n",
       "{amount:d,amount2:0.5-d/2})};a.filter.contrast.toString=function(){return this()}});return C});\n",
       "\n",
       "]]> </script>\n",
       "</svg>\n"
      ],
      "text/plain": [
       "Context(BBox{l,t,r,b,w,h = 0.0w,0.0h, 1.0w,1.0h, 1.0w,1.0h}, UnitBox{Float64,Float64,Float64,Float64}(-1.2, -1.2, 2.4, 2.4, 0.0mm, 0.0mm, 0.0mm, 0.0mm), nothing, nothing, nothing, List([Context(BBox{l,t,r,b,w,h = 0.0w,0.0h, 1.0w,1.0h, 1.0w,1.0h}, nothing, nothing, nothing, nothing, List([]), List([Compose.Form{Compose.LinePrimitive}(Compose.LinePrimitive[LinePrimitive{Tuple{Measure,Measure}}(Tuple{Measure,Measure}[(-0.0546544cx, 0.416784cy), (0.145069cx, 0.38696cy)]), LinePrimitive{Tuple{Measure,Measure}}(Tuple{Measure,Measure}[(-0.0656773cx, 0.393903cy), (0.266664cx, 0.084522cy)]), LinePrimitive{Tuple{Measure,Measure}}(Tuple{Measure,Measure}[(-0.0564354cx, 0.436826cy), (0.129971cx, 0.499736cy)]), LinePrimitive{Tuple{Measure,Measure}}(Tuple{Measure,Measure}[(-0.135479cx, 0.442146cy), (-0.474948cx, 0.610287cy)]), LinePrimitive{Tuple{Measure,Measure}}(Tuple{Measure,Measure}[(-0.137077cx, 0.438503cy), (-0.669812cx, 0.643335cy)]), LinePrimitive{Tuple{Measure,Measure}}(Tuple{Measure,Measure}[(-0.13163cx, 0.448474cy), (-0.59189cx, 0.786076cy)]), LinePrimitive{Tuple{Measure,Measure}}(Tuple{Measure,Measure}[(-0.0551597cx, 0.432209cy), (0.280889cx, 0.505142cy)]), LinePrimitive{Tuple{Measure,Measure}}(Tuple{Measure,Measure}[(-0.0701196cx, 0.389762cy), (0.284028cx, -0.0487189cy)]), LinePrimitive{Tuple{Measure,Measure}}(Tuple{Measure,Measure}[(-0.139894cx, 0.424964cy), (-0.571421cx, 0.443585cy)]), LinePrimitive{Tuple{Measure,Measure}}(Tuple{Measure,Measure}[(-0.110009cx, 0.463988cy), (-0.266895cx, 0.959128cy)])  …  LinePrimitive{Tuple{Measure,Measure}}(Tuple{Measure,Measure}[(0.196849cx, -0.503792cy), (0.510354cx, -0.404554cy)]), LinePrimitive{Tuple{Measure,Measure}}(Tuple{Measure,Measure}[(0.228085cx, -0.319698cy), (0.114673cx, -0.326083cy)]), LinePrimitive{Tuple{Measure,Measure}}(Tuple{Measure,Measure}[(0.312335cx, -0.328276cy), (0.509787cx, -0.380627cy)]), LinePrimitive{Tuple{Measure,Measure}}(Tuple{Measure,Measure}[(0.5604cx, -0.778667cy), (0.613904cx, -0.488987cy)]), LinePrimitive{Tuple{Measure,Measure}}(Tuple{Measure,Measure}[(0.552475cx, -0.777954cy), (0.551368cx, -0.43449cy)]), LinePrimitive{Tuple{Measure,Measure}}(Tuple{Measure,Measure}[(0.545792cx, -0.0746362cy), (0.613124cx, -0.404815cy)]), LinePrimitive{Tuple{Measure,Measure}}(Tuple{Measure,Measure}[(0.538896cx, -0.0754682cy), (0.549558cx, -0.348773cy)]), LinePrimitive{Tuple{Measure,Measure}}(Tuple{Measure,Measure}[(0.113781cx, -0.337513cy), (0.579776cx, -0.437804cy)]), LinePrimitive{Tuple{Measure,Measure}}(Tuple{Measure,Measure}[(0.114374cx, -0.33409cy), (0.508722cx, -0.386018cy)]), LinePrimitive{Tuple{Measure,Measure}}(Tuple{Measure,Measure}[(0.587942cx, -0.420381cy), (0.584978cx, -0.418059cy)])], Symbol(\"\"))]), List([Compose.Property{Compose.LineWidthPrimitive}(Compose.LineWidthPrimitive[LineWidthPrimitive(0.514496mm)]), Compose.Property{Compose.FillPrimitive}(Compose.FillPrimitive[FillPrimitive(RGBA{Float64}(0.0,0.0,0.0,0.0))]), Compose.Property{Compose.StrokePrimitive}(Compose.StrokePrimitive[StrokePrimitive(RGBA{Float64}(0.827451,0.827451,0.827451,1.0))])]), 0, false, false, false, false, nothing, nothing, 0.0, Symbol(\"\")), Context(BBox{l,t,r,b,w,h = 0.0w,0.0h, 1.0w,1.0h, 1.0w,1.0h}, nothing, nothing, nothing, nothing, List([]), List([]), List([Compose.Property{Compose.LineWidthPrimitive}(Compose.LineWidthPrimitive[LineWidthPrimitive(0.514496mm)]), Compose.Property{Compose.StrokePrimitive}(Compose.StrokePrimitive[StrokePrimitive(RGBA{Float64}(0.827451,0.827451,0.827451,1.0))])]), 0, false, false, false, false, nothing, nothing, 0.0, Symbol(\"\")), Context(BBox{l,t,r,b,w,h = 0.0w,0.0h, 1.0w,1.0h, 1.0w,1.0h}, nothing, nothing, nothing, nothing, List([]), List([]), List([Compose.Property{Compose.FontSizePrimitive}(Compose.FontSizePrimitive[FontSizePrimitive(4.0mm)]), Compose.Property{Compose.StrokePrimitive}(Compose.StrokePrimitive[StrokePrimitive(RGBA{Float64}(0.0,0.0,0.0,0.0))]), Compose.Property{Compose.FillPrimitive}(Compose.FillPrimitive[FillPrimitive(RGBA{Float64}(0.0,0.0,0.0,1.0))])]), 0, false, false, false, false, nothing, nothing, 0.0, Symbol(\"\")), Context(BBox{l,t,r,b,w,h = 0.0w,0.0h, 1.0w,1.0h, 1.0w,1.0h}, nothing, nothing, nothing, nothing, List([]), List([Compose.Form{Compose.CirclePrimitive{Tuple{Measure,Measure},Measure}}(Compose.CirclePrimitive{Tuple{Measure,Measure},Measure}[CirclePrimitive{Tuple{Measure,Measure},Measure}((-0.0970589cx, 0.423116cy), 0.0171499w), CirclePrimitive{Tuple{Measure,Measure},Measure}((0.187474cx, 0.380628cy), 0.0171499w), CirclePrimitive{Tuple{Measure,Measure},Measure}((0.298046cx, 0.0553085cy), 0.0171499w), CirclePrimitive{Tuple{Measure,Measure},Measure}((0.170595cx, 0.513446cy), 0.0171499w), CirclePrimitive{Tuple{Measure,Measure},Measure}((-0.513368cx, 0.629317cy), 0.0171499w), CirclePrimitive{Tuple{Measure,Measure},Measure}((-0.70983cx, 0.658721cy), 0.0171499w), CirclePrimitive{Tuple{Measure,Measure},Measure}((-0.626461cx, 0.811435cy), 0.0171499w), CirclePrimitive{Tuple{Measure,Measure},Measure}((0.322788cx, 0.514235cy), 0.0171499w), CirclePrimitive{Tuple{Measure,Measure},Measure}((0.310967cx, -0.0820733cy), 0.0171499w), CirclePrimitive{Tuple{Measure,Measure},Measure}((0.768083cx, -0.00420405cy), 0.0171499w)  …  CirclePrimitive{Tuple{Measure,Measure},Measure}((-0.190666cx, -0.681802cy), 0.0171499w), CirclePrimitive{Tuple{Measure,Measure},Measure}((-0.0423364cx, -0.832787cy), 0.0171499w), CirclePrimitive{Tuple{Measure,Measure},Measure}((0.669129cx, -1.0cy), 0.0171499w), CirclePrimitive{Tuple{Measure,Measure},Measure}((0.155973cx, -0.516731cy), 0.0171499w), CirclePrimitive{Tuple{Measure,Measure},Measure}((0.270892cx, -0.317288cy), 0.0171499w), CirclePrimitive{Tuple{Measure,Measure},Measure}((0.552613cx, -0.820828cy), 0.0171499w), CirclePrimitive{Tuple{Measure,Measure},Measure}((0.537225cx, -0.0326261cy), 0.0171499w), CirclePrimitive{Tuple{Measure,Measure},Measure}((0.0718664cx, -0.328492cy), 0.0171499w), CirclePrimitive{Tuple{Measure,Measure},Measure}((0.621691cx, -0.446825cy), 0.0171499w), CirclePrimitive{Tuple{Measure,Measure},Measure}((0.551229cx, -0.391615cy), 0.0171499w)], Symbol(\"\"))]), List([Compose.Property{Compose.LineWidthPrimitive}(Compose.LineWidthPrimitive[LineWidthPrimitive(0.0mm)]), Compose.Property{Compose.StrokePrimitive}(Compose.StrokePrimitive[StrokePrimitive(RGBA{Float64}(0.0,0.0,0.0,0.0))]), Compose.Property{Compose.FillPrimitive}(Compose.FillPrimitive[FillPrimitive(RGBA{Float64}(0.25098,0.878431,0.815686,1.0))])]), 0, false, false, false, false, nothing, nothing, 0.0, Symbol(\"\")), Context(BBox{l,t,r,b,w,h = 0.0w,0.0h, 1.0w,1.0h, 1.0w,1.0h}, nothing, nothing, nothing, nothing, List([]), List([]), List([Compose.Property{Compose.FontSizePrimitive}(Compose.FontSizePrimitive[FontSizePrimitive(4.0mm)]), Compose.Property{Compose.StrokePrimitive}(Compose.StrokePrimitive[StrokePrimitive(RGBA{Float64}(0.0,0.0,0.0,0.0))]), Compose.Property{Compose.FillPrimitive}(Compose.FillPrimitive[FillPrimitive(RGBA{Float64}(0.0,0.0,0.0,1.0))])]), 0, false, false, false, false, nothing, nothing, 0.0, Symbol(\"\"))]), List([]), List([]), 0, false, false, false, false, nothing, nothing, 0.0, Symbol(\"\"))"
      ]
     },
     "execution_count": 158,
     "metadata": {},
     "output_type": "execute_result"
    }
   ],
   "source": [
    "g = graphfamous(\"karate\")\n",
    "gplot(g)"
   ]
  },
  {
   "cell_type": "code",
   "execution_count": 159,
   "metadata": {},
   "outputs": [
    {
     "ename": "ErrorException",
     "evalue": "The Cairo and Fontconfig packages are necessary for saving as PNG.\nAdd them with the package manager if necessary, then run:\n  import Cairo, Fontconfig\nbefore invoking PNG.\n",
     "output_type": "error",
     "traceback": [
      "The Cairo and Fontconfig packages are necessary for saving as PNG.\nAdd them with the package manager if necessary, then run:\n  import Cairo, Fontconfig\nbefore invoking PNG.\n",
      "",
      "Stacktrace:",
      " [1] error(::String) at ./error.jl:33",
      " [2] #PNG#80(::Base.Iterators.Pairs{Union{},Union{},Tuple{},NamedTuple{(),Tuple{}}}, ::Function, ::String, ::Vararg{Any,N} where N) at /Users/yuriko/.julia/packages/Compose/aVZwV/src/Compose.jl:138",
      " [3] PNG(::String, ::Vararg{Any,N} where N) at /Users/yuriko/.julia/packages/Compose/aVZwV/src/Compose.jl:138",
      " [4] top-level scope at In[159]:1"
     ]
    }
   ],
   "source": [
    "draw(PNG(\"karate.png\", 16cm, 16cm), gplot(g))"
   ]
  },
  {
   "cell_type": "code",
   "execution_count": null,
   "metadata": {},
   "outputs": [],
   "source": []
  },
  {
   "cell_type": "code",
   "execution_count": null,
   "metadata": {},
   "outputs": [],
   "source": []
  },
  {
   "cell_type": "code",
   "execution_count": 6,
   "metadata": {
    "scrolled": false
   },
   "outputs": [
    {
     "ename": "UndefVarError",
     "evalue": "UndefVarError: airport_names not defined",
     "output_type": "error",
     "traceback": [
      "UndefVarError: airport_names not defined",
      "",
      "Stacktrace:",
      " [1] top-level scope at In[6]:1"
     ]
    }
   ],
   "source": [
    "dicc_global = airport_names(\"data/multi_17_du.csv\") #Nombres de aeropuertos globales"
   ]
  },
  {
   "cell_type": "code",
   "execution_count": 7,
   "metadata": {},
   "outputs": [
    {
     "ename": "UndefVarError",
     "evalue": "UndefVarError: dicc_global not defined",
     "output_type": "error",
     "traceback": [
      "UndefVarError: dicc_global not defined",
      "",
      "Stacktrace:",
      " [1] top-level scope at In[7]:1"
     ]
    }
   ],
   "source": [
    "num_global = collect(1:length(dicc_global));"
   ]
  },
  {
   "cell_type": "code",
   "execution_count": 8,
   "metadata": {
    "scrolled": false
   },
   "outputs": [
    {
     "ename": "UndefVarError",
     "evalue": "UndefVarError: dicc_global not defined",
     "output_type": "error",
     "traceback": [
      "UndefVarError: dicc_global not defined",
      "",
      "Stacktrace:",
      " [1] top-level scope at In[8]:1"
     ]
    }
   ],
   "source": [
    "glob = hcat(dicc_global, num_global);"
   ]
  },
  {
   "cell_type": "code",
   "execution_count": 9,
   "metadata": {},
   "outputs": [
    {
     "ename": "UndefVarError",
     "evalue": "UndefVarError: glob not defined",
     "output_type": "error",
     "traceback": [
      "UndefVarError: glob not defined",
      "",
      "Stacktrace:",
      " [1] top-level scope at In[9]:1"
     ]
    }
   ],
   "source": [
    "glob;"
   ]
  },
  {
   "cell_type": "code",
   "execution_count": 10,
   "metadata": {},
   "outputs": [
    {
     "ename": "UndefVarError",
     "evalue": "UndefVarError: airport_names not defined",
     "output_type": "error",
     "traceback": [
      "UndefVarError: airport_names not defined",
      "",
      "Stacktrace:",
      " [1] top-level scope at In[10]:1"
     ]
    }
   ],
   "source": [
    "a_2b = airport_names(\"data/aerolineas_matrices/2B_matriz_du.csv\");\n",
    "na_2b = hcat(a_2b, collect(1:length(a_2b)));"
   ]
  },
  {
   "cell_type": "code",
   "execution_count": 11,
   "metadata": {},
   "outputs": [],
   "source": [
    "#glob[1,:]\n",
    "#for i in 1:length(na_2b)\n",
    "    #hh = hcat(glob[1,:], na_2b[1,:])\n",
    "    #push!(glob, hh)\n",
    "#end\n",
    "#return hh"
   ]
  },
  {
   "cell_type": "code",
   "execution_count": 12,
   "metadata": {},
   "outputs": [],
   "source": [
    "#for i in 1:length(a_2b)\n",
    "#    glob"
   ]
  },
  {
   "cell_type": "code",
   "execution_count": 13,
   "metadata": {},
   "outputs": [],
   "source": [
    "#glob[1,:]"
   ]
  },
  {
   "cell_type": "code",
   "execution_count": 14,
   "metadata": {},
   "outputs": [
    {
     "ename": "UndefVarError",
     "evalue": "UndefVarError: dicc_global not defined",
     "output_type": "error",
     "traceback": [
      "UndefVarError: dicc_global not defined",
      "",
      "Stacktrace:",
      " [1] top-level scope at In[14]:1"
     ]
    }
   ],
   "source": [
    "typeof(dicc_global[1]) #Cada entrada de la lista de aeropuertos"
   ]
  },
  {
   "cell_type": "code",
   "execution_count": 15,
   "metadata": {},
   "outputs": [
    {
     "ename": "UndefVarError",
     "evalue": "UndefVarError: caminata_M not defined",
     "output_type": "error",
     "traceback": [
      "UndefVarError: caminata_M not defined",
      "",
      "Stacktrace:",
      " [1] top-level scope at In[15]:1"
     ]
    }
   ],
   "source": [
    "size(caminata_M[1])"
   ]
  },
  {
   "cell_type": "code",
   "execution_count": 16,
   "metadata": {},
   "outputs": [
    {
     "ename": "UndefVarError",
     "evalue": "UndefVarError: m_cero not defined",
     "output_type": "error",
     "traceback": [
      "UndefVarError: m_cero not defined",
      "",
      "Stacktrace:",
      " [1] top-level scope at In[16]:1"
     ]
    }
   ],
   "source": [
    "m_cero[1,3]"
   ]
  },
  {
   "cell_type": "code",
   "execution_count": 17,
   "metadata": {},
   "outputs": [],
   "source": [
    "###### airport_names(\"data/aerolineas_matrices/$aerolinea_matriz\")"
   ]
  },
  {
   "cell_type": "code",
   "execution_count": 18,
   "metadata": {},
   "outputs": [
    {
     "ename": "UndefVarError",
     "evalue": "UndefVarError: m_cero2 not defined",
     "output_type": "error",
     "traceback": [
      "UndefVarError: m_cero2 not defined",
      "",
      "Stacktrace:",
      " [1] top-level scope at In[18]:1"
     ]
    }
   ],
   "source": [
    "m_cero2"
   ]
  },
  {
   "cell_type": "code",
   "execution_count": 19,
   "metadata": {},
   "outputs": [
    {
     "ename": "UndefVarError",
     "evalue": "UndefVarError: import_matrix not defined",
     "output_type": "error",
     "traceback": [
      "UndefVarError: import_matrix not defined",
      "",
      "Stacktrace:",
      " [1] top-level scope at In[19]:1"
     ]
    }
   ],
   "source": [
    "mat2b = import_matrix(\"data/aerolineas_matrices/2B_matriz_du.csv\");"
   ]
  },
  {
   "cell_type": "code",
   "execution_count": 20,
   "metadata": {
    "scrolled": true
   },
   "outputs": [
    {
     "ename": "UndefVarError",
     "evalue": "UndefVarError: random_walk not defined",
     "output_type": "error",
     "traceback": [
      "UndefVarError: random_walk not defined",
      "",
      "Stacktrace:",
      " [1] top-level scope at In[20]:1"
     ]
    }
   ],
   "source": [
    "rw2b = random_walk(mat2b, 5, 2);\n",
    "rw2b[1]"
   ]
  },
  {
   "cell_type": "code",
   "execution_count": 21,
   "metadata": {
    "scrolled": true
   },
   "outputs": [
    {
     "ename": "UndefVarError",
     "evalue": "UndefVarError: walk_names not defined",
     "output_type": "error",
     "traceback": [
      "UndefVarError: walk_names not defined",
      "",
      "Stacktrace:",
      " [1] top-level scope at In[21]:1"
     ]
    }
   ],
   "source": [
    "walk_names(rw2b, \"2B\", 1)"
   ]
  },
  {
   "cell_type": "code",
   "execution_count": 22,
   "metadata": {},
   "outputs": [
    {
     "ename": "UndefVarError",
     "evalue": "UndefVarError: walk_names not defined",
     "output_type": "error",
     "traceback": [
      "UndefVarError: walk_names not defined",
      "",
      "Stacktrace:",
      " [1] top-level scope at In[22]:1"
     ]
    }
   ],
   "source": [
    "walk_names(rw2b, \"2B\", 3)"
   ]
  },
  {
   "cell_type": "code",
   "execution_count": 23,
   "metadata": {},
   "outputs": [
    {
     "ename": "UndefVarError",
     "evalue": "UndefVarError: walk_global not defined",
     "output_type": "error",
     "traceback": [
      "UndefVarError: walk_global not defined",
      "",
      "Stacktrace:",
      " [1] top-level scope at In[23]:1"
     ]
    }
   ],
   "source": [
    "walk_global(rw2b, \"2B\", 1)"
   ]
  },
  {
   "cell_type": "code",
   "execution_count": 24,
   "metadata": {},
   "outputs": [
    {
     "ename": "UndefVarError",
     "evalue": "UndefVarError: walk_global not defined",
     "output_type": "error",
     "traceback": [
      "UndefVarError: walk_global not defined",
      "",
      "Stacktrace:",
      " [1] top-level scope at In[24]:1"
     ]
    }
   ],
   "source": [
    "walk_global(rw2b, \"2B\", 2)"
   ]
  },
  {
   "cell_type": "code",
   "execution_count": 25,
   "metadata": {},
   "outputs": [
    {
     "ename": "UndefVarError",
     "evalue": "UndefVarError: visited_vertices not defined",
     "output_type": "error",
     "traceback": [
      "UndefVarError: visited_vertices not defined",
      "",
      "Stacktrace:",
      " [1] top-level scope at In[25]:1"
     ]
    }
   ],
   "source": [
    "vv2b = visited_vertices(rw2b)\n",
    "vv2b[1][1,:] #Nodos únicos visitados en la iteración 1 con nodo inicial 1"
   ]
  },
  {
   "cell_type": "code",
   "execution_count": 26,
   "metadata": {},
   "outputs": [
    {
     "ename": "UndefVarError",
     "evalue": "UndefVarError: rw2b not defined",
     "output_type": "error",
     "traceback": [
      "UndefVarError: rw2b not defined",
      "",
      "Stacktrace:",
      " [1] top-level scope at In[26]:1"
     ]
    }
   ],
   "source": [
    "posiciones = findall(x -> x == 17, rw2b[1][1,:]) #Busco en la caminata 1 con nodo inicial 1 el nodo 17\n",
    "#Me da como resultado 4 y 6 que corresponde a las posiciones"
   ]
  },
  {
   "cell_type": "code",
   "execution_count": 27,
   "metadata": {},
   "outputs": [
    {
     "ename": "UndefVarError",
     "evalue": "UndefVarError: archivo_dicc not defined",
     "output_type": "error",
     "traceback": [
      "UndefVarError: archivo_dicc not defined",
      "",
      "Stacktrace:",
      " [1] top-level scope at In[27]:1"
     ]
    }
   ],
   "source": [
    "hhh = findall(x -> x == \"2B_num\", archivo_dicc)"
   ]
  },
  {
   "cell_type": "code",
   "execution_count": 28,
   "metadata": {},
   "outputs": [
    {
     "ename": "UndefVarError",
     "evalue": "UndefVarError: hhh not defined",
     "output_type": "error",
     "traceback": [
      "UndefVarError: hhh not defined",
      "",
      "Stacktrace:",
      " [1] top-level scope at In[28]:1"
     ]
    }
   ],
   "source": [
    "hhh[1][2]"
   ]
  },
  {
   "cell_type": "code",
   "execution_count": 29,
   "metadata": {},
   "outputs": [
    {
     "ename": "UndefVarError",
     "evalue": "UndefVarError: posiciones not defined",
     "output_type": "error",
     "traceback": [
      "UndefVarError: posiciones not defined",
      "",
      "Stacktrace:",
      " [1] top-level scope at In[29]:1"
     ]
    }
   ],
   "source": [
    "typeof(posiciones)"
   ]
  },
  {
   "cell_type": "code",
   "execution_count": 30,
   "metadata": {},
   "outputs": [
    {
     "data": {
      "text/plain": [
       "2×6 Array{Int64,2}:\n",
       " 1  8  4  17  12  17\n",
       " 1  8  1   8   5   8"
      ]
     },
     "execution_count": 30,
     "metadata": {},
     "output_type": "execute_result"
    }
   ],
   "source": [
    "######### Prueba ejemplo \n",
    "\n",
    "#Primero obtenemos la caminata aleatoria para un sólo nodo. \n",
    "#Leemos el archivo con la caminata 2B_1_random_walk.csv\n",
    "\n",
    "archivo_rwalk = readdlm(\"/Users/yuriko/Downloads/codejulia/data/2B/caminatas/2B_1_random_walk.csv\", ',', Int64) \n",
    "#Al leer el archivo convierte los números a flotantes"
   ]
  },
  {
   "cell_type": "code",
   "execution_count": 31,
   "metadata": {},
   "outputs": [
    {
     "ename": "UndefVarError",
     "evalue": "UndefVarError: vv2b not defined",
     "output_type": "error",
     "traceback": [
      "UndefVarError: vv2b not defined",
      "",
      "Stacktrace:",
      " [1] top-level scope at In[31]:1"
     ]
    }
   ],
   "source": [
    "vv2b[1]"
   ]
  },
  {
   "cell_type": "code",
   "execution_count": 32,
   "metadata": {
    "scrolled": true
   },
   "outputs": [
    {
     "data": {
      "text/plain": [
       "3190×570 Array{Any,2}:\n",
       "     \"\"  \"global_airports\"  …  \"ZK_num\"  \"ZL_num\"   \"ZM_num\"\n",
       "    1    \"AER\"                 \"NA\"      \"NA\"       \"NA\"    \n",
       "    2    \"ASF\"                 \"NA\"      \"NA\"       \"NA\"    \n",
       "    3    \"CEK\"                 \"NA\"      \"NA\"       \"NA\"    \n",
       "    4    \"DME\"                 \"NA\"      \"NA\"      1        \n",
       "    5    \"EGO\"              …  \"NA\"      \"NA\"       \"NA\"    \n",
       "    6    \"GYD\"                 \"NA\"      \"NA\"       \"NA\"    \n",
       "    7    \"KGD\"                 \"NA\"      \"NA\"       \"NA\"    \n",
       "    8    \"KZN\"                 \"NA\"      \"NA\"       \"NA\"    \n",
       "    9    \"LED\"                 \"NA\"      \"NA\"       \"NA\"    \n",
       "   10    \"MRV\"              …  \"NA\"      \"NA\"       \"NA\"    \n",
       "   11    \"NBC\"                 \"NA\"      \"NA\"       \"NA\"    \n",
       "   12    \"NJC\"                 \"NA\"      \"NA\"       \"NA\"    \n",
       "    ⋮                       ⋱                               \n",
       " 3178    \"LPS\"                 \"NA\"      \"NA\"       \"NA\"    \n",
       " 3179    \"ORX\"                 \"NA\"      \"NA\"       \"NA\"    \n",
       " 3180    \"BVS\"              …  \"NA\"      \"NA\"       \"NA\"    \n",
       " 3181    \"MTE\"                 \"NA\"      \"NA\"       \"NA\"    \n",
       " 3182    \"DLZ\"                 \"NA\"      \"NA\"       \"NA\"    \n",
       " 3183    \"UII\"                 \"NA\"      \"NA\"       \"NA\"    \n",
       " 3184    \"ZBF\"                 \"NA\"      \"NA\"       \"NA\"    \n",
       " 3185    \"CMP\"              …  \"NA\"      \"NA\"       \"NA\"    \n",
       " 3186    \"BSS\"                 \"NA\"      \"NA\"       \"NA\"    \n",
       " 3187    \"AEX\"                 \"NA\"      \"NA\"       \"NA\"    \n",
       " 3188    \"GCK\"                 \"NA\"      \"NA\"       \"NA\"    \n",
       " 3189    \"MGM\"                 \"NA\"      \"NA\"       \"NA\"    "
      ]
     },
     "execution_count": 32,
     "metadata": {},
     "output_type": "execute_result"
    }
   ],
   "source": [
    "#Leo archivo de diccionario final\n",
    "archivo_dicc = readdlm(\"/Users/yuriko/Documents/UNAM/Tesis_Lic/data/diccionarios/dictionary_final.csv\", ',') "
   ]
  },
  {
   "cell_type": "code",
   "execution_count": 33,
   "metadata": {},
   "outputs": [
    {
     "data": {
      "text/plain": [
       "3190-element Array{Any,1}:\n",
       "   \"2B_num\"\n",
       "  1        \n",
       "  2        \n",
       "  3        \n",
       "  4        \n",
       "  5        \n",
       "  6        \n",
       "  7        \n",
       "  8        \n",
       "  9        \n",
       " 10        \n",
       " 11        \n",
       " 12        \n",
       "  ⋮        \n",
       "   \"NA\"    \n",
       "   \"NA\"    \n",
       "   \"NA\"    \n",
       "   \"NA\"    \n",
       "   \"NA\"    \n",
       "   \"NA\"    \n",
       "   \"NA\"    \n",
       "   \"NA\"    \n",
       "   \"NA\"    \n",
       "   \"NA\"    \n",
       "   \"NA\"    \n",
       "   \"NA\"    "
      ]
     },
     "execution_count": 33,
     "metadata": {},
     "output_type": "execute_result"
    }
   ],
   "source": [
    "archivo_dicc[:,4] #columna 3"
   ]
  },
  {
   "cell_type": "code",
   "execution_count": null,
   "metadata": {},
   "outputs": [],
   "source": []
  },
  {
   "cell_type": "code",
   "execution_count": 34,
   "metadata": {},
   "outputs": [
    {
     "data": {
      "text/plain": [
       "2×6 Array{Union{Nothing, String},2}:\n",
       " nothing  nothing  nothing  nothing  nothing  nothing\n",
       " nothing  nothing  nothing  nothing  nothing  nothing"
      ]
     },
     "execution_count": 34,
     "metadata": {},
     "output_type": "execute_result"
    }
   ],
   "source": [
    "nt = Array{Union{Nothing, String}}(nothing, 2, 6)"
   ]
  },
  {
   "cell_type": "code",
   "execution_count": 35,
   "metadata": {},
   "outputs": [
    {
     "data": {
      "text/plain": [
       "2×6 Array{Union{Nothing, String},2}:\n",
       " \"hola\"   nothing  nothing  nothing  nothing  nothing\n",
       " nothing  nothing  nothing  nothing  nothing  nothing"
      ]
     },
     "execution_count": 35,
     "metadata": {},
     "output_type": "execute_result"
    }
   ],
   "source": [
    "nt[1,1] = \"hola\"\n",
    "nt"
   ]
  },
  {
   "cell_type": "code",
   "execution_count": 36,
   "metadata": {},
   "outputs": [
    {
     "data": {
      "text/plain": [
       "\"global_airports\""
      ]
     },
     "execution_count": 36,
     "metadata": {},
     "output_type": "execute_result"
    }
   ],
   "source": [
    "typeof(archivo_dicc[3191])\n",
    "#archivo_dicc[3191]\n",
    "archivo_dicc[1,2]"
   ]
  },
  {
   "cell_type": "code",
   "execution_count": 37,
   "metadata": {},
   "outputs": [
    {
     "data": {
      "text/plain": [
       "Array{Any,2}"
      ]
     },
     "execution_count": 37,
     "metadata": {},
     "output_type": "execute_result"
    }
   ],
   "source": [
    "typeof(archivo_dicc)"
   ]
  },
  {
   "cell_type": "code",
   "execution_count": 38,
   "metadata": {},
   "outputs": [
    {
     "data": {
      "text/plain": [
       "\"2B_num\""
      ]
     },
     "execution_count": 38,
     "metadata": {},
     "output_type": "execute_result"
    }
   ],
   "source": [
    "ijf = \"2B_num\"\n",
    "#x -> archivo_dicc[:, x == ijf]"
   ]
  },
  {
   "cell_type": "code",
   "execution_count": 39,
   "metadata": {},
   "outputs": [
    {
     "data": {
      "text/plain": [
       "1-element Array{CartesianIndex{2},1}:\n",
       " CartesianIndex(1, 4)"
      ]
     },
     "execution_count": 39,
     "metadata": {},
     "output_type": "execute_result"
    }
   ],
   "source": [
    "kjg=findall(x -> x==ijf, archivo_dicc)"
   ]
  },
  {
   "cell_type": "code",
   "execution_count": 40,
   "metadata": {},
   "outputs": [
    {
     "data": {
      "text/plain": [
       "4"
      ]
     },
     "execution_count": 40,
     "metadata": {},
     "output_type": "execute_result"
    }
   ],
   "source": [
    "kjg[1][2]"
   ]
  },
  {
   "cell_type": "code",
   "execution_count": 41,
   "metadata": {},
   "outputs": [
    {
     "data": {
      "text/plain": [
       "\"2B_num\""
      ]
     },
     "execution_count": 41,
     "metadata": {},
     "output_type": "execute_result"
    }
   ],
   "source": [
    "archivo_dicc[1,4]"
   ]
  },
  {
   "cell_type": "code",
   "execution_count": 42,
   "metadata": {},
   "outputs": [
    {
     "ename": "UndefVarError",
     "evalue": "UndefVarError: m_cero2 not defined",
     "output_type": "error",
     "traceback": [
      "UndefVarError: m_cero2 not defined",
      "",
      "Stacktrace:",
      " [1] top-level scope at In[42]:1"
     ]
    }
   ],
   "source": [
    "m_cero2[5,25]"
   ]
  },
  {
   "cell_type": "code",
   "execution_count": 43,
   "metadata": {},
   "outputs": [],
   "source": [
    "#for i in 1:length(caminata_M[1])\n",
    "    "
   ]
  },
  {
   "cell_type": "markdown",
   "metadata": {},
   "source": [
    "## Funciones\n",
    "\n",
    "### Importar datos"
   ]
  },
  {
   "cell_type": "code",
   "execution_count": 8,
   "metadata": {},
   "outputs": [
    {
     "data": {
      "text/plain": [
       "import_matrix"
      ]
     },
     "execution_count": 8,
     "metadata": {},
     "output_type": "execute_result"
    }
   ],
   "source": [
    "\"\"\"\n",
    "    import_matrix(arch::AbstractString)\n",
    "\n",
    "Función que importa el archivo de la matriz de adyacencia de R.\n",
    "\"\"\"\n",
    "function import_matrix(arch::AbstractString)\n",
    "    archivo_R = readdlm(arch, ',') \n",
    "    archivo_R = archivo_R[2:end, :]\n",
    "    matriz = archivo_R[:, 2:end]\n",
    "    nombre = convert(Array{Int64,2}, matriz)\n",
    "    return nombre\n",
    "end"
   ]
  },
  {
   "cell_type": "markdown",
   "metadata": {},
   "source": [
    "### Nombres de datos"
   ]
  },
  {
   "cell_type": "code",
   "execution_count": 9,
   "metadata": {},
   "outputs": [
    {
     "data": {
      "text/plain": [
       "airport_names"
      ]
     },
     "execution_count": 9,
     "metadata": {},
     "output_type": "execute_result"
    }
   ],
   "source": [
    "\"\"\"\n",
    "    airport_names(arch::AbstractString)\n",
    "\n",
    "Función que obtiene un arreglo con los nombres de aeropuertos de la matriz\n",
    "\"\"\"\n",
    "function airport_names(arch::AbstractString)\n",
    "    archivo_R = readdlm(arch, ',', String)\n",
    "    columna = archivo_R[1, :]\n",
    "    nombres = columna[2:end]\n",
    "    return nombres\n",
    "end"
   ]
  },
  {
   "cell_type": "markdown",
   "metadata": {},
   "source": [
    "### Grado"
   ]
  },
  {
   "cell_type": "code",
   "execution_count": 10,
   "metadata": {},
   "outputs": [
    {
     "data": {
      "text/plain": [
       "n_in_degree"
      ]
     },
     "execution_count": 10,
     "metadata": {},
     "output_type": "execute_result"
    }
   ],
   "source": [
    "\"\"\"\n",
    "\n",
    "    n_in_degree(M::Array{Int64,2}, n::Int64)\n",
    "\n",
    "Función que obtiene el grado de entrada de un cierto nodo n de la red representada por la matriz de adyacencia M.\n",
    "\n",
    "Parámetros:\n",
    "M matriz de adyacencia que acepta un arreglo de tipo Array{Int64,2}\n",
    "n nodo a evaluar de tipo Int64\n",
    "\n",
    "Resultado:\n",
    "Grado de entrada del nodo n representado por un valor numérico de tipo Int64\n",
    "\n",
    "Implementación\n",
    "\n",
    "#### Ejemplos\n",
    "\"\"\"\n",
    "function n_in_degree(M::Array{Int64,2}, n::Int64)\n",
    "    grado_entrada = sum(M[n, :])\n",
    "end"
   ]
  },
  {
   "cell_type": "code",
   "execution_count": 11,
   "metadata": {},
   "outputs": [
    {
     "data": {
      "text/plain": [
       "in_degree"
      ]
     },
     "execution_count": 11,
     "metadata": {},
     "output_type": "execute_result"
    }
   ],
   "source": [
    "\"\"\"\n",
    "    in_degree(M::Array{Int64,2})\n",
    "\n",
    "Función que obtiene el grado de entrada de una red representada por la matriz de adyacencia M.\n",
    "\n",
    "Parámetros:\n",
    "* M matriz de adyacencia que acepta un arreglo de tipo Array{Int64,2}\n",
    "\n",
    "Resultado:\n",
    "Devuelve un arreglo de tipo Array{Int64,2} que contiene los grados de entrada de todos los nodos n de la red.\n",
    "\n",
    "## Implementación\n",
    "\n",
    "### Ejemplos\n",
    "\"\"\"\n",
    "function in_degree(M::Array{Int64,2})\n",
    "    grados_entrada = sum(M, dims = 2)\n",
    "end"
   ]
  },
  {
   "cell_type": "code",
   "execution_count": 12,
   "metadata": {},
   "outputs": [
    {
     "data": {
      "text/plain": [
       "n_out_degree (generic function with 1 method)"
      ]
     },
     "execution_count": 12,
     "metadata": {},
     "output_type": "execute_result"
    }
   ],
   "source": [
    "\"\"\"\n",
    "    n_out_degree(M::Array{Int64,2}, n::Int64)\n",
    "\n",
    "Función que obtiene el grado de salida de un cierto nodo n de la red representada por la matriz de adyacencia M.\n",
    "\n",
    "Parámetros:\n",
    "* M matriz de adyacencia que acepta un arreglo de tipo Array{Int64,2}\n",
    "* n nodo a evaluar de tipo Int64\n",
    "\n",
    "Resultado:\n",
    "Grado de salida del nodo n representado por un valor numérico de tipo Int64\n",
    "\n",
    "## Implementación\n",
    "\n",
    "### Ejemplos\n",
    "\"\"\"\n",
    "\n",
    "function n_out_degree(M::Array{Int64,2}, n::Int64)\n",
    "    grado_salida = sum(M[:, n])\n",
    "end"
   ]
  },
  {
   "cell_type": "code",
   "execution_count": 13,
   "metadata": {},
   "outputs": [
    {
     "data": {
      "text/plain": [
       "out_degree"
      ]
     },
     "execution_count": 13,
     "metadata": {},
     "output_type": "execute_result"
    }
   ],
   "source": [
    "\"\"\"\n",
    "    out_degree(M::Array{Int64,2})\n",
    "\n",
    "Función que obtiene el grado de salida de una red representada por la matriz de adyacencia M.\n",
    "\n",
    "Parámetros:\n",
    "* M matriz de adyacencia que acepta un arreglo de tipo Array{Int64,2}\n",
    "\n",
    "Resultado:\n",
    "Devuelve un arreglo de tipo Array{Int64,2} que contiene los grados de salida de todos los nodos n de la red.\n",
    "\n",
    "## Implementación\n",
    "\n",
    "### Ejemplos\n",
    "\"\"\"\n",
    "function out_degree(M::Array{Int64,2})\n",
    "    grados_salida = sum(M, dims = 1)\n",
    "end"
   ]
  },
  {
   "cell_type": "markdown",
   "metadata": {},
   "source": [
    "### Distribución de grado"
   ]
  },
  {
   "cell_type": "code",
   "execution_count": 14,
   "metadata": {},
   "outputs": [
    {
     "data": {
      "text/plain": [
       "distrib_in_degree"
      ]
     },
     "execution_count": 14,
     "metadata": {},
     "output_type": "execute_result"
    }
   ],
   "source": [
    "\"\"\"\n",
    "Función de distribución de grado de entrada\n",
    "\"\"\"\n",
    "function distrib_in_degree(M::Array{Int64,2})\n",
    "    x = in_degree(M)\n",
    "    degree_count = counts(x)\n",
    "    return degree_count\n",
    "end"
   ]
  },
  {
   "cell_type": "code",
   "execution_count": 15,
   "metadata": {},
   "outputs": [
    {
     "data": {
      "text/plain": [
       "distrib_out_degree"
      ]
     },
     "execution_count": 15,
     "metadata": {},
     "output_type": "execute_result"
    }
   ],
   "source": [
    "\"\"\"\n",
    "Función de distribución de grado de salida\n",
    "\"\"\"\n",
    "function distrib_out_degree(M::Array{Int64,2})\n",
    "    x = out_degree(M)\n",
    "    degree_count = counts(x)\n",
    "    return degree_count\n",
    "end"
   ]
  },
  {
   "cell_type": "code",
   "execution_count": 16,
   "metadata": {},
   "outputs": [
    {
     "data": {
      "text/plain": [
       "plot_distrib"
      ]
     },
     "execution_count": 16,
     "metadata": {},
     "output_type": "execute_result"
    }
   ],
   "source": [
    "\"\"\"\n",
    "    plot_distrib(M::Array{Int64,2}, tipo::String, titulo::String, color::String)\n",
    "\n",
    "Función con parámetros:\n",
    "M = matriz\n",
    "tipo = \"in\" o \"out\"\n",
    "titulo = acepta el título del gráfico\n",
    "color = color de las barras\n",
    "\n",
    "que regresa un histograma de la distribución de grado, entrada o salida.\n",
    "\"\"\"\n",
    "function plot_distrib(M::Array{Int64,2}, tipo::String, titulo::String, color::String)\n",
    "    \n",
    "    pyplot()\n",
    "    \n",
    "    if tipo == \"in\"\n",
    "        distribucion = distrib_in_degree(M::Array)\n",
    "    elseif tipo == \"out\"\n",
    "        distribucion = distrib_out_degree(M::Array)\n",
    "    end\n",
    "    distribucion\n",
    "    \n",
    "    graph = bar(distribucion, fillcolor = color, markersize = 3, linealpha = 0.5, \n",
    "    title = titulo, \n",
    "    xlabel = \"Grado\", \n",
    "    ylabel = \"Frecuencia\",\n",
    "    xlims = (-10,300), #obtener límites\n",
    "    ylims = (-10,1000)) #obtener límites\n",
    "end"
   ]
  },
  {
   "cell_type": "markdown",
   "metadata": {},
   "source": [
    "### Vecinos"
   ]
  },
  {
   "cell_type": "code",
   "execution_count": 17,
   "metadata": {},
   "outputs": [
    {
     "data": {
      "text/plain": [
       "neighbours"
      ]
     },
     "execution_count": 17,
     "metadata": {},
     "output_type": "execute_result"
    }
   ],
   "source": [
    "\"\"\"\n",
    "    neighbours(M::Array{Int64,2})\n",
    "\n",
    "Función que obtiene un conjunto de arreglos con los vecinos de cada nodo.\n",
    "\"\"\"\n",
    "function neighbours(M::Array{Int64,2})\n",
    "    \n",
    "    nodos = size(M, 1) #aeropuertos\n",
    "    vecindades = []\n",
    "    \n",
    "    for i in 1:nodos\n",
    "        vecinos = findall(x -> x != 0, M[i, :])\n",
    "        push!(vecindades, vecinos)\n",
    "    end\n",
    "    vecindades\n",
    "end"
   ]
  },
  {
   "cell_type": "markdown",
   "metadata": {},
   "source": [
    "### Random walks"
   ]
  },
  {
   "cell_type": "code",
   "execution_count": 18,
   "metadata": {},
   "outputs": [
    {
     "data": {
      "text/plain": [
       "r_walks"
      ]
     },
     "execution_count": 18,
     "metadata": {},
     "output_type": "execute_result"
    }
   ],
   "source": [
    "\"\"\"\n",
    "\n",
    "    r_walks(M::Array{Int64,2}, f::Int64, steps::Int64, iter::Int64)\n",
    "\n",
    "La función r_walks tiene como parámetros:\n",
    "M, matriz de adyacencia de tipo Array{Int64,2}\n",
    "f, nodo inicial de tipo Int64\n",
    "steps, número de pasos de tipo Int64\n",
    "iter, número de iteraciones de tipo Int64.\n",
    "La función crea un caminante aleatorio sobre la matriz, el cual tiene igual probabilidad de avanzar \n",
    "hacia cualquiera de sus vecinos.\n",
    "Regresa un arreglo que contiene todas las trayectorias que tomó el caminante aleatorio.\n",
    "\"\"\"\n",
    "function r_walks(M::Array{Int64,2}, f::Int64, steps::Int64, iter::Int64)\n",
    "    \n",
    "    paths = zeros(Int64, (iter, steps + 1))\n",
    "    s = f\n",
    "    seed = 1\n",
    "    vecindades = neighbours(M)\n",
    "\n",
    "    for i in 1:iter\n",
    "        paths[i, 1] = f\n",
    "        \n",
    "        for p in 1:steps \n",
    "            vecindad = vecindades[s]\n",
    "            \n",
    "            if vecindad == []\n",
    "                break\n",
    "            else\n",
    "                a = sample(Xoroshiro128Plus(seed), vecindad) \n",
    "                paths[i, p + 1] = a\n",
    "                s = a\n",
    "                seed += 1\n",
    "            end\n",
    "            \n",
    "        end\n",
    "        s = f\n",
    "        \n",
    "    end\n",
    "    \n",
    "    return paths \n",
    "end"
   ]
  },
  {
   "cell_type": "code",
   "execution_count": 20,
   "metadata": {},
   "outputs": [
    {
     "data": {
      "text/plain": [
       "random_walk"
      ]
     },
     "execution_count": 20,
     "metadata": {},
     "output_type": "execute_result"
    }
   ],
   "source": [
    "\"\"\"\n",
    "\n",
    "    random_walk(M::Array{Int64,2}, steps::Int64, iter::Int64)\n",
    "\n",
    "La función random_walk tiene como parámetros:\n",
    "M, matriz de adyacencia de tipo Array{Int64,2}\n",
    "steps, número de pasos de tipo Int64\n",
    "iter, número de iteraciones de tipo Int64.\n",
    "La función crea un caminante aleatorio sobre la matriz con igual probabilidad de avanzar \n",
    "hacia cualquiera de sus vecinos. Esta función recorre todos los nodos de la red como\n",
    "nodos iniciales y sobre ellos itera para obtener el número de caminos que se le pidió.\n",
    "Regresa un arreglo que contiene arreglos asociados a todas las trayectorias que tomó el \n",
    "caminante aleatorio para cada nodo inicial de la red.\n",
    "\"\"\"\n",
    "function random_walk(M::Array{Int64,2}, steps::Int64, iter::Int64) \n",
    "    \n",
    "    random_walks = []\n",
    "    nodos = size(M, 1)\n",
    "    \n",
    "    for f in 1:nodos #aeropuertos\n",
    "        paths = r_walks(M, f, steps, iter)\n",
    "        push!(random_walks, paths)\n",
    "    end\n",
    "    \n",
    "    random_walks\n",
    "end"
   ]
  },
  {
   "cell_type": "markdown",
   "metadata": {},
   "source": [
    "### Nodos/aeropuertos visitados"
   ]
  },
  {
   "cell_type": "code",
   "execution_count": 21,
   "metadata": {},
   "outputs": [
    {
     "data": {
      "text/plain": [
       "visited_vertices"
      ]
     },
     "execution_count": 21,
     "metadata": {},
     "output_type": "execute_result"
    }
   ],
   "source": [
    "\"\"\"\n",
    "    visited_vertices(W::Array{Any,1})\n",
    "\n",
    "La función caminos tiene como parámetro W que es un arreglo de arreglos.\n",
    "Regresa los nodos diferentes a los que llega el caminante.\n",
    "\"\"\"\n",
    "function visited_vertices(W::Array{Any,1})\n",
    "    \n",
    "    cobert = []\n",
    "    v = length(W) #tamaño de la matriz, número de nodos\n",
    "    s = size(W[1], 1) #lo puedo sacar, para todos es el mismo. Es el número de iteraciones\n",
    "    t = size(W[1], 2) #número de pasos, no necesario\n",
    "    #visit = zeros(Int64, s) #Arreglo de ceros de tamaño número de iteraciones\n",
    "    visit = []\n",
    "    \n",
    "    for i in 1:v        \n",
    "        for j in 1:s\n",
    "            u = unique(W[i][j, :])\n",
    "            push!(visit, u)\n",
    "        end\n",
    "        \n",
    "        push!(cobert, visit)\n",
    "        visit = []\n",
    "    end\n",
    "    \n",
    "    return cobert\n",
    "end"
   ]
  },
  {
   "cell_type": "code",
   "execution_count": 112,
   "metadata": {},
   "outputs": [
    {
     "data": {
      "text/plain": [
       "5-element Array{Any,1}:\n",
       " [1, 8, 4, 17, 12, 15, 11, 9, 2, 5, 7]    \n",
       " [1, 8, 4, 17, 11, 9, 15, 3, 14]          \n",
       " [1, 8, 2, 10, 5, 7, 15, 12, 17, 9, 11, 4]\n",
       " [1, 8, 2, 10, 15, 14, 13, 3, 9, 17, 4]   \n",
       " [1, 8, 9, 17, 12, 15, 4, 2, 16, 3, 14]   "
      ]
     },
     "execution_count": 112,
     "metadata": {},
     "output_type": "execute_result"
    }
   ],
   "source": [
    "visited_vertices(caminata_M)[1]"
   ]
  },
  {
   "cell_type": "markdown",
   "metadata": {},
   "source": [
    "### Random walks con nodos globales"
   ]
  },
  {
   "cell_type": "code",
   "execution_count": 22,
   "metadata": {},
   "outputs": [
    {
     "data": {
      "text/plain": [
       "walk_global"
      ]
     },
     "execution_count": 22,
     "metadata": {},
     "output_type": "execute_result"
    }
   ],
   "source": [
    "\"\"\"\n",
    "    walk_global(W::Array{Any,1}, airline_code::String, v::Int64)\n",
    "\n",
    "Función que cambia las caminatas del número de nodo asociado a la aerolínea a número de nodo GLOBAL de aeropuertos.\n",
    "Parámetros:\n",
    "W = caminatas aleatorias (arreglo de matrices)\n",
    "airline_code = código de la aerolínea\n",
    "v = nodo inicial\n",
    "\"\"\"\n",
    "function walk_global(W::Array{Any,1}, airline_code::String, v::Int64)\n",
    "    \n",
    "    #Primero se lee el archivo con las caminatas\n",
    "    #path = string(\"/Users/yuriko/Downloads/codejulia/data/\",airline_code,\"/\",airline_code,\"_\",v,\"_random_walk.csv\")\n",
    "    #W = readdlm(\"/Users/yuriko/Downloads/codejulia/data/2B/caminatas/2B_1_random_walk.csv\", ',', Int64) \n",
    "    \n",
    "    #Ahora se usa la función para obtener los nodos diferentes\n",
    "    nodos_diferentes = visited_vertices(W)\n",
    "    #vv2b[1][1,:] #Nodos únicos visitados en la iteración 1 con nodo inicial 1 #Leo los visited vertices del archivo\n",
    "    m = size(W[1], 1) #renglones\n",
    "    n = size(W[1], 2) #columnas\n",
    "    l = length(W) #número de nodos iniciales\n",
    "    \n",
    "    #Se lee el diccionario\n",
    "    archivo_dicc = readdlm(\"/Users/yuriko/Documents/UNAM/Tesis_Lic/data/diccionarios/dictionary_final.csv\", ',') \n",
    "    \n",
    "    aerol_col = string(airline_code, \"_num\") #Nombre de la columna\n",
    "    coord_aerol = findall(x -> x == aerol_col, archivo_dicc) #Busco las coordenadas de la columna\n",
    "    col_aerol = coord_aerol[1][2] #Segunda coordenada de la posición (columna)\n",
    "    columna_aerol = archivo_dicc[:, col_aerol] #Obtengo la columna con el nombre del aeropuerto al que corresponde\n",
    "    \n",
    "    for k = v #1:l #nodo inicial v\n",
    "        arreglo_visitas = nodos_diferentes[k]\n",
    "        caminatas_nodo = W[k]\n",
    "        walk_empty = zeros(Int64, m, n)#Arreglo vacío para nuevos números\n",
    "        \n",
    "        for i in 1:m #voy por las iteraciones\n",
    "            nodos_dif = arreglo_visitas[i, :] #array/caminata única de los nodos que buscará\n",
    "            \n",
    "            for j in 1:length(nodos_dif[])\n",
    "                nodo_original = nodos_dif[][j]\n",
    "                #Busco la posición original del aeropuerto que se asignará\n",
    "                posicion_original = findall(x -> x == nodo_original, archivo_dicc[:, col_aerol])\n",
    "                #Se busca el nombre del aeropuerto\n",
    "                numero_asignado = archivo_dicc[posicion_original, 3]\n",
    "                #Busco el primer nodo diferente en la iteración i\n",
    "                coords_ys = findall(x -> x == nodo_original, caminatas_nodo[i, :]) #Encuentra uno de los nodos dif en la iteración\n",
    "                \n",
    "                for q in 1:length(coords_ys) #Se itera sobre las posiciones en las caminatas\n",
    "                    pos_actual = coords_ys[q]\n",
    "                    #nodo_original = findall(x -> x == pos_actual, columna_aerol) #buscar el nodo en la aerolínea\n",
    "                    #aerop_nombre = nodo_original[1]+1\n",
    "                    #aeropuerto_asignado = archivo_dicc[nodos_dif[i],2]#nodo_original, 2] #buscando qué nombre se colocará\n",
    "                    walk_empty[i, pos_actual] = numero_asignado[] #asigno valor de diccionario al arreglo vacío i, pos_actual\n",
    "                end\n",
    "            end\n",
    "\n",
    "        end\n",
    "\n",
    "        return walk_empty\n",
    "        \n",
    "    end\n",
    "    \n",
    "end"
   ]
  },
  {
   "cell_type": "code",
   "execution_count": 113,
   "metadata": {},
   "outputs": [
    {
     "data": {
      "text/plain": [
       "5×26 Array{Int64,2}:\n",
       " 1  8  4  17  12  17   4  17  12  15  11  …   2  8   5   7   5   7   5   8  1\n",
       " 1  8  4  17   4  11   9   8   1   8   4     14  3  14   3  14   3   8   4  8\n",
       " 1  8  2  10   2  10   2   8   5   7   5      8  5   8  15  12  17   9  11  4\n",
       " 1  8  2  10   2   8  15  14  15  14  15     14  3  14   3   8   9  17   4  8\n",
       " 1  8  9  17  12  15   8  15   8   4  17      4  8   3  14   3  14   3  14  3"
      ]
     },
     "execution_count": 113,
     "metadata": {},
     "output_type": "execute_result"
    }
   ],
   "source": [
    "walk_global(caminata_M, \"2B\", 1)"
   ]
  },
  {
   "cell_type": "code",
   "execution_count": 114,
   "metadata": {},
   "outputs": [
    {
     "data": {
      "text/plain": [
       "5×26 Array{Int64,2}:\n",
       " 1  8  4  17  12  17   4  17  12  15  11  …   2  8   5   7   5   7   5   8  1\n",
       " 1  8  4  17   4  11   9   8   1   8   4     14  3  14   3  14   3   8   4  8\n",
       " 1  8  2  10   2  10   2   8   5   7   5      8  5   8  15  12  17   9  11  4\n",
       " 1  8  2  10   2   8  15  14  15  14  15     14  3  14   3   8   9  17   4  8\n",
       " 1  8  9  17  12  15   8  15   8   4  17      4  8   3  14   3  14   3  14  3"
      ]
     },
     "execution_count": 114,
     "metadata": {},
     "output_type": "execute_result"
    }
   ],
   "source": [
    "caminata_M[1]"
   ]
  },
  {
   "cell_type": "markdown",
   "metadata": {},
   "source": [
    "### Random walks con nombres"
   ]
  },
  {
   "cell_type": "code",
   "execution_count": 23,
   "metadata": {},
   "outputs": [
    {
     "data": {
      "text/plain": [
       "walk_names"
      ]
     },
     "execution_count": 23,
     "metadata": {},
     "output_type": "execute_result"
    }
   ],
   "source": [
    "\"\"\"\n",
    "    walk_names(W::Array{Any,1}, airline_code::String, v::Int64)\n",
    "\n",
    "Función que cambia las caminatas del número de nodo asociado a la aerolínea a nombres de aeropuertos.\n",
    "Parámetros:\n",
    "W = caminatas aleatorias (arreglo de matrices)\n",
    "airline_code = código de la aerolínea\n",
    "v = nodo inicial\n",
    "\"\"\"\n",
    "function walk_names(W::Array{Any,1}, airline_code::String, v::Int64) \n",
    "    \n",
    "    #Primero se lee el archivo con las caminatas\n",
    "    #path = string(\"/Users/yuriko/Downloads/codejulia/data/\",airline_code,\"/\",airline_code,\"_\",v,\"_random_walk.csv\")\n",
    "    #W = readdlm(\"/Users/yuriko/Downloads/codejulia/data/2B/caminatas/2B_1_random_walk.csv\", ',', Int64) \n",
    "    \n",
    "    #Ahora se usa la función para obtener los nodos diferentes\n",
    "    nodos_diferentes = visited_vertices(W)\n",
    "    #vv2b[1][1,:] #Nodos únicos visitados en la iteración 1 con nodo inicial 1 #Leo los visited vertices del archivo\n",
    "    m = size(W[1], 1) #renglones\n",
    "    n = size(W[1], 2) #columnas\n",
    "    l = length(W) #número de nodos iniciales\n",
    "    \n",
    "    #Se lee el diccionario\n",
    "    archivo_dicc = readdlm(\"/Users/yuriko/Documents/UNAM/Tesis_Lic/data/diccionarios/dictionary_final.csv\", ',') \n",
    "    \n",
    "    aerol_col = string(airline_code, \"_num\") #Nombre de la columna\n",
    "    coord_aerol = findall(x -> x == aerol_col, archivo_dicc) #Busco las coordenadas de la columna\n",
    "    col_aerol = coord_aerol[1][2] #Segunda coordenada de la posición (columna)\n",
    "    columna_aerol = archivo_dicc[:, col_aerol] #Obtengo la columna con el nombre del aeropuerto al que corresponde\n",
    "    \n",
    "    for k = v #1:l #nodo inicial v\n",
    "        arreglo_visitas = nodos_diferentes[k]\n",
    "        caminatas_nodo = W[k]\n",
    "        walk_nothing = Array{Union{Nothing, String}}(nothing, m, n) #archivo vacío de una matriz para un nodo inicial\n",
    "        \n",
    "        for i in 1:m #voy por las iteraciones\n",
    "            nodos_dif = arreglo_visitas[i, :] #array/caminata única de los nodos que buscará\n",
    "            \n",
    "            for j in 1:length(nodos_dif[])\n",
    "                nodo_original = nodos_dif[][j]\n",
    "                #Busco la posición original del aeropuerto que se asignará\n",
    "                posicion_original = findall(x -> x == nodo_original, archivo_dicc[:, col_aerol])\n",
    "                #Se busca el nombre del aeropuerto\n",
    "                nombre_asignado = archivo_dicc[posicion_original, 2]\n",
    "                #Busco el primer nodo diferente en la iteración i\n",
    "                coords_ys = findall(x -> x == nodo_original, caminatas_nodo[i, :]) #Encuentra uno de los nodos dif en la iteración\n",
    "                \n",
    "                for q in 1:length(coords_ys) #Se itera sobre las posiciones en las caminatas\n",
    "                    pos_actual = coords_ys[q]\n",
    "                    #nodo_original = findall(x -> x == pos_actual, columna_aerol) #buscar el nodo en la aerolínea\n",
    "                    #aerop_nombre = nodo_original[1]+1\n",
    "                    #aeropuerto_asignado = archivo_dicc[nodos_dif[i],2]#nodo_original, 2] #buscando qué nombre se colocará\n",
    "                    walk_nothing[i, pos_actual] = nombre_asignado[] #asigno valor de diccionario al arreglo vacío i, pos_actual\n",
    "                end\n",
    "            end\n",
    "\n",
    "        end\n",
    "\n",
    "        return walk_nothing\n",
    "        \n",
    "    end\n",
    "    \n",
    "end"
   ]
  },
  {
   "cell_type": "markdown",
   "metadata": {},
   "source": [
    "### Longitud de caminatas"
   ]
  },
  {
   "cell_type": "code",
   "execution_count": 24,
   "metadata": {},
   "outputs": [
    {
     "data": {
      "text/plain": [
       "walk_length"
      ]
     },
     "execution_count": 24,
     "metadata": {},
     "output_type": "execute_result"
    }
   ],
   "source": [
    "\"\"\"\n",
    "    walk_length(W::Array{Any,1})\n",
    "\n",
    "La función walk_length tiene como parámetros:\n",
    "RW, arreglo de arreglos de tipo Array{Any,1} que corresponde al arreglo de caminatas aleatorias.\n",
    "La función regresa un arreglo de arreglos que contiene las longitudes de todas las trayectorias que tomó el \n",
    "caminante aleatorio para cada nodo inicial de la red.\n",
    "\"\"\"\n",
    "function walk_length(W::Array{Any,1})\n",
    "    \n",
    "    longitudes = Array[]\n",
    "    \n",
    "    v = length(W) #tamaño de la matriz, número de nodos\n",
    "    s = size(W[1], 1) #Es el número de iteraciones\n",
    "    longitud = zeros(Int64, s)\n",
    "    \n",
    "    for i in 1:v\n",
    "        \n",
    "        for j in 1:s\n",
    "               \n",
    "            longitud[j] = findlast(x -> x != 0, W[i][j, :])\n",
    "            \n",
    "        end\n",
    "         push!(longitudes, longitud)\n",
    "        \n",
    "        longitud = zeros(Int64, s)\n",
    "    end\n",
    "    return longitudes\n",
    "        \n",
    "end"
   ]
  },
  {
   "cell_type": "code",
   "execution_count": 119,
   "metadata": {},
   "outputs": [
    {
     "data": {
      "text/plain": [
       "5-element Array{Int64,1}:\n",
       " 26\n",
       " 26\n",
       " 26\n",
       " 26\n",
       " 26"
      ]
     },
     "execution_count": 119,
     "metadata": {},
     "output_type": "execute_result"
    }
   ],
   "source": [
    "walk_length(caminata_M)[1]"
   ]
  },
  {
   "cell_type": "code",
   "execution_count": 25,
   "metadata": {},
   "outputs": [
    {
     "data": {
      "text/plain": [
       "walk_av_length"
      ]
     },
     "execution_count": 25,
     "metadata": {},
     "output_type": "execute_result"
    }
   ],
   "source": [
    "\"\"\"\n",
    "    walk_av_length(W::Array{Any,1})\n",
    "\n",
    "La función walk_av_length tiene como parámetro W, que es un arreglo de arreglos (que se puede obtener de la \n",
    "función walk_length). \n",
    "Regresa un arreglo con entradas correspondientes al promedio de las longitudes de \n",
    "las caminatas aleatorias para cada nodo de inicio antes de caer en un nodo con grado de salida 0.\n",
    "\"\"\"\n",
    "function walk_av_length(W::Array{Any,1}) #Llamar a función\n",
    "    \n",
    "    proms = Array{Float64}(undef, 0)\n",
    "    wlength = walk_length(W)\n",
    "    \n",
    "    for i in 1:length(wlength)\n",
    "        av = mean(wlength[i])\n",
    "        push!(proms, av)\n",
    "    end\n",
    "    proms\n",
    "end"
   ]
  },
  {
   "cell_type": "code",
   "execution_count": 116,
   "metadata": {},
   "outputs": [
    {
     "data": {
      "text/plain": [
       "17-element Array{Float64,1}:\n",
       " 26.0\n",
       " 26.0\n",
       " 26.0\n",
       " 26.0\n",
       " 26.0\n",
       " 26.0\n",
       " 26.0\n",
       " 26.0\n",
       " 26.0\n",
       " 26.0\n",
       " 26.0\n",
       " 26.0\n",
       " 26.0\n",
       " 26.0\n",
       " 26.0\n",
       " 26.0\n",
       " 26.0"
      ]
     },
     "execution_count": 116,
     "metadata": {},
     "output_type": "execute_result"
    }
   ],
   "source": [
    "walk_av_length(caminata_M)"
   ]
  },
  {
   "cell_type": "code",
   "execution_count": 132,
   "metadata": {},
   "outputs": [
    {
     "data": {
      "text/plain": [
       "plot_av_length_vertex"
      ]
     },
     "execution_count": 132,
     "metadata": {},
     "output_type": "execute_result"
    }
   ],
   "source": [
    "\"\"\"\n",
    "    plot_av_length_vertex(W::Array{Float64, 1}, airline_code::String)\n",
    "\n",
    "Función que grafica (scatter plot) del promedio por nodo inicial de caminatas\n",
    "\"\"\"\n",
    "function plot_av_length_vertex(W::Array{Any,1}, airline_code::String)\n",
    "    \n",
    "    pyplot()\n",
    "    \n",
    "    info = walk_av_length(W)\n",
    "    #@show info\n",
    "    \n",
    "    #dc = nombres_multiplex\n",
    "    @show data_names_multiplex\n",
    "    scatter(info, \n",
    "        color = \"#0f87bf\",\n",
    "        alpha = 0.8, \n",
    "        title = airline_code, \n",
    "        xticks = (1:1:length(W), data_names_multiplex),\n",
    "        xlabel = \"Aeropuerto inicial\", \n",
    "        ylabel = \"Longitud\",\n",
    "        legendtitle = airline_code,\n",
    "        label = \"Promedio\")\n",
    "end"
   ]
  },
  {
   "cell_type": "code",
   "execution_count": 133,
   "metadata": {},
   "outputs": [
    {
     "name": "stdout",
     "output_type": "stream",
     "text": [
      "data_names_multiplex = [\"AER\", \"ASF\", \"CEK\", \"DME\", \"EGO\", \"GYD\", \"KGD\", \"KZN\", \"LED\", \"MRV\", \"NBC\", \"NJC\", \"NUX\", \"OVB\", \"SVX\", \"TGK\", \"UUA\"]\n"
     ]
    },
    {
     "data": {
      "image/png": "[encoded data removed]"
     },
     "execution_count": 133,
     "metadata": {},
     "output_type": "execute_result"
    }
   ],
   "source": [
    "plot_av_length_vertex(caminata_M, \"2B\")"
   ]
  },
  {
   "cell_type": "code",
   "execution_count": 27,
   "metadata": {},
   "outputs": [
    {
     "data": {
      "text/plain": [
       "walk_layer_length"
      ]
     },
     "execution_count": 27,
     "metadata": {},
     "output_type": "execute_result"
    }
   ],
   "source": [
    "\"\"\"\n",
    "    walk_layer_length(W::Array{Any,1})\n",
    "\n",
    "Función que saca el promedio de longitud de caminata en la capa\n",
    "\"\"\"\n",
    "function walk_layer_length(W::Array{Any,1})\n",
    "    \n",
    "    x = walk_av_length(W)\n",
    "    av = mean(x)\n",
    "    \n",
    "    return av\n",
    "end"
   ]
  },
  {
   "cell_type": "code",
   "execution_count": 121,
   "metadata": {},
   "outputs": [
    {
     "data": {
      "text/plain": [
       "26.0"
      ]
     },
     "execution_count": 121,
     "metadata": {},
     "output_type": "execute_result"
    }
   ],
   "source": [
    "walk_layer_length(caminata_M)"
   ]
  },
  {
   "cell_type": "markdown",
   "metadata": {},
   "source": [
    "### Frecuencia de visitas"
   ]
  },
  {
   "cell_type": "code",
   "execution_count": 28,
   "metadata": {},
   "outputs": [
    {
     "data": {
      "text/plain": [
       "freq_vertices_visits"
      ]
     },
     "execution_count": 28,
     "metadata": {},
     "output_type": "execute_result"
    }
   ],
   "source": [
    "\"\"\"\n",
    "    freq_vertices_visits(W::Array{Any,1})\n",
    "\n",
    "Función que hace un diccionario con frecuencias de visitas\n",
    "\"\"\"\n",
    "function freq_vertices_visits(W::Array{Any,1})\n",
    "    \n",
    "    dicc = [] #arreglo vacío\n",
    "    \n",
    "    nodos = length(W) #tamaño de caminatas\n",
    "    iter = size(W[1], 1) #núm de iteraciones\n",
    "    diccionario = 0\n",
    "    \n",
    "    #for i = n\n",
    "    for i in 1:nodos #corro por todos los nodos\n",
    "        for j in 1:iter #corro por las iteraciones\n",
    "            diccionario = countmap(W[i][j, :]) #hago diccionario de freqs de cada caminata\n",
    "            push!(dicc, diccionario) #guardo el diccionario en un arreglo vacío\n",
    "        end\n",
    "        \n",
    "        diccionario = 0\n",
    "    end\n",
    "    return dicc\n",
    "end"
   ]
  },
  {
   "cell_type": "code",
   "execution_count": 29,
   "metadata": {},
   "outputs": [
    {
     "data": {
      "text/plain": [
       "distrib_vertices_visits"
      ]
     },
     "execution_count": 29,
     "metadata": {},
     "output_type": "execute_result"
    }
   ],
   "source": [
    "\"\"\"\n",
    "    distrib_vertices_visits(W::Array{Any,1})\n",
    "\n",
    "Función que crea un arreglo de arreglos con la distribución de frecuencia de visitas\n",
    "\"\"\"\n",
    "function distrib_vertices_visits(W::Array{Any,1})\n",
    "    \n",
    "    x = freq_vertices_visits(W) #diccionario de frecuencias\n",
    "    l = length(W)\n",
    "    f = 0\n",
    "    frec_total = Array[] #zeros(Array, length(x)) #arreglo de ceros de tamaño núm dicc\n",
    "    frec_nodo = zeros(Int64, l+1) #arreglo de nodos de tamaño núm nodos para get frec\n",
    "\n",
    "    for i in 1:length(x) #corro por los nodos\n",
    "\n",
    "        for j in 1:l+1 #corro por los nodos\n",
    "\n",
    "            frec_nodo[j] = get(x[i], f, 0) #entrada j de freq nodo la cambio por la entrada j del dicc i\n",
    "            f += 1\n",
    "        end\n",
    "        push!(frec_total, frec_nodo)\n",
    "        \n",
    "        f = 0\n",
    "        frec_nodo = zeros(Int64, l+1)\n",
    "        \n",
    "    end\n",
    "    \n",
    "    return frec_total\n",
    "end"
   ]
  },
  {
   "cell_type": "code",
   "execution_count": 189,
   "metadata": {},
   "outputs": [
    {
     "data": {
      "text/plain": [
       "plot_visit_freq"
      ]
     },
     "execution_count": 189,
     "metadata": {},
     "output_type": "execute_result"
    }
   ],
   "source": [
    "############# FUNCIÓN INÚTIL #############\n",
    "\"\"\"\n",
    "    plot_visit_freq(W::Array{Any,1})\n",
    "\n",
    "Función que hace un heatmap de nodos en los que cae, cada renglón corresponde a una caminata\n",
    "\"\"\"\n",
    "function plot_visit_freq(W::Array{Any,1}) \n",
    "    \n",
    "    pyplot()\n",
    "    x = distrib_vertices_visits(W)\n",
    "    h = transpose(hcat(x...))\n",
    "\n",
    "    xs = [string(\"n\", i) for i = 0:1:length(W)]\n",
    "    ys = [string(\"rw\", i) for i = 1:length(x)]\n",
    "    z = h\n",
    "    heatmap(xs, ys, z, aspect_ratio = 1)\n",
    "end"
   ]
  },
  {
   "cell_type": "code",
   "execution_count": 30,
   "metadata": {},
   "outputs": [
    {
     "data": {
      "text/plain": [
       "freq_vertex_visits"
      ]
     },
     "execution_count": 30,
     "metadata": {},
     "output_type": "execute_result"
    }
   ],
   "source": [
    "\"\"\"\n",
    "    freq_vertex_visits(W::Array{Any,1}, n::Int64)\n",
    "\n",
    "Función que hace un diccionario con frecuencias para un nodo inicial\n",
    "\"\"\"\n",
    "function freq_vertex_visits(W::Array{Any,1}, n::Int64) #puede ser más eficiente llamando la función anterior sin nodo\n",
    "    \n",
    "    dicc = [] #arreglo vacío\n",
    "    \n",
    "    nodos = length(W) #tamaño de caminatas\n",
    "    iter = size(W[1], 1) #núm de iteraciones\n",
    "    diccionario = 0\n",
    "    \n",
    "    for j in 1:iter #corro por las iteraciones\n",
    "          \n",
    "        diccionario = countmap(W[n][j, :]) #hago diccionario de freqs de cada caminata\n",
    "          \n",
    "        push!(dicc, diccionario) #guardo el diccionario en un arreglo vacío\n",
    "          \n",
    "    end\n",
    "    \n",
    "    return dicc\n",
    "end"
   ]
  },
  {
   "cell_type": "code",
   "execution_count": 31,
   "metadata": {},
   "outputs": [
    {
     "data": {
      "text/plain": [
       "distrib_vertex_visits"
      ]
     },
     "execution_count": 31,
     "metadata": {},
     "output_type": "execute_result"
    }
   ],
   "source": [
    "\"\"\"\n",
    "    distrib_vertex_visits(W::Array{Any,1}, n::Int64)\n",
    "\n",
    "Función que crea un arreglo de arreglos con la distribución de frecuencias de visitas de un nodo inicial\n",
    "\"\"\"\n",
    "function distrib_vertex_visits(W::Array{Any,1}, n::Int64)\n",
    "    \n",
    "    x = freq_vertex_visits(W, n) #diccionario de frecuencias\n",
    "    nodos = length(W)\n",
    "    f = 0\n",
    "    frec_total = [] #zeros(Array, length(x)) #arreglo de ceros de tamaño núm dicc\n",
    "    frec_nodo = zeros(Int64, nodos+1) #arreglo de nodos de tamaño núm nodos para get frec\n",
    "\n",
    "    for i in 1:length(x) #corro por los nodos\n",
    "\n",
    "        for j in 1:nodos+1 #corro por los nodos\n",
    "\n",
    "            frec_nodo[j] = get(x[i], f, 0) #entrada j de freq nodo la cambio por la entrada j del dicc i\n",
    "            \n",
    "            f += 1\n",
    "        end\n",
    "        push!(frec_total, frec_nodo)\n",
    "        \n",
    "        f = 0\n",
    "        frec_nodo = zeros(Int64, nodos+1)\n",
    "        \n",
    "    end\n",
    "    \n",
    "    return frec_total\n",
    "end"
   ]
  },
  {
   "cell_type": "code",
   "execution_count": 32,
   "metadata": {},
   "outputs": [
    {
     "data": {
      "text/plain": [
       "plot_visit_freq_vertex"
      ]
     },
     "execution_count": 32,
     "metadata": {},
     "output_type": "execute_result"
    }
   ],
   "source": [
    "\"\"\"\n",
    "    plot_visit_freq_vertex(W::Array{Any,1}, n::Int64)\n",
    "\n",
    "Función que hace un heatmap de los nodos en los que cae, cada renglón corresponde a una caminata \n",
    "con cierto nodo inicial n.\n",
    "\"\"\"\n",
    "function plot_visit_freq_vertex(W::Array{Any,1}, n::Int64) #Con esta función se pierde la información de los nodos que caen en 0\n",
    "    \n",
    "    pyplot()\n",
    "    \n",
    "    x = distrib_vertex_visits(W, n)\n",
    "    mat_completa = transpose(hcat(x...))    #Se covierte en matriz el arreglo\n",
    "    mat = mat_completa[:, (2:end)]\n",
    "    pasos = size(W[1], 2)-1\n",
    "    \n",
    "    xs = [nombres_multiplex]\n",
    "    ys = [string(\"it\", i) for i = 1:length(x)]\n",
    "    z = mat\n",
    "    heatmap(xs, ys, z, \n",
    "        title = \"Frecuencia de visitas para v_{0} = $n\",\n",
    "        aspect_ratio = 1, \n",
    "        clims = (0, pasos), \n",
    "        xticks = :all,  \n",
    "        xtickfont = font(8, \"Courier\"))\n",
    "end"
   ]
  },
  {
   "cell_type": "code",
   "execution_count": 33,
   "metadata": {},
   "outputs": [
    {
     "data": {
      "text/plain": [
       "distrib_av_visits"
      ]
     },
     "execution_count": 33,
     "metadata": {},
     "output_type": "execute_result"
    }
   ],
   "source": [
    "\"\"\"\n",
    "    distrib_av_visits(W::Array{Any, 1})\n",
    "\n",
    "Función que hace una distribución de visitas por nodo inicial y muestra todos los nodos iniciales\n",
    "\"\"\"\n",
    "function distrib_av_visits(W::Array{Any, 1}) \n",
    "    \n",
    "    nodos = length(W) #número de nodos\n",
    "    iteracion = size(W[1],1)\n",
    "    dicc = zeros(Float64, nodos, nodos+1) #matriz de ceros (nodos x nodos+1)\n",
    "    \n",
    "    for i in 1:nodos #(1 a 17)\n",
    "        prom_conteos = counts(W[i], 0:nodos)/iteracion #hago diccionario con prom de freqs de cada nodo inicial\n",
    "        #@show prom_conteos\n",
    "        dicc[i, :] = prom_conteos \n",
    "    end\n",
    "\n",
    "    dicc\n",
    "end"
   ]
  },
  {
   "cell_type": "code",
   "execution_count": 34,
   "metadata": {},
   "outputs": [
    {
     "data": {
      "text/plain": [
       "plot_freq_av_visits"
      ]
     },
     "execution_count": 34,
     "metadata": {},
     "output_type": "execute_result"
    }
   ],
   "source": [
    "\"\"\"\n",
    "    plot_freq_av_visits(W::Array{Any, 1})\n",
    "\n",
    "Función que crea un diccionario con frecuencias por nodo inicial y muestra todos\n",
    "\"\"\"\n",
    "function plot_freq_av_visits(W::Array{Any, 1}, airline_code::String)\n",
    "    \n",
    "    pyplot()\n",
    "    \n",
    "    mat_completa = distrib_av_visits(W)\n",
    "    mat = mat_completa[:, (2:end)] #desde la segunda columna para no tomar en cuenta los end-points\n",
    "    \n",
    "    xs = [nombres_multiplex]\n",
    "    ys = [nombres_multiplex] #[string(\"v_0 \", i) for i = 1:length(W)]\n",
    "    z = mat\n",
    "    \n",
    "    heatmap(xs, ys, z, \n",
    "        title = string(\"Frecuencia de visitas para \", airline_code),\n",
    "        aspect_ratio = 1, \n",
    "        clims = (0, maximum(mat)), #MÁXIMO DEL MULTIPLEX GLOBAL/AEROLÍNEA MÁS GRANDE ¿?\n",
    "        xticks = :all,\n",
    "        yticks = :all,\n",
    "        xtickfont = font(7, \"Courier\"),\n",
    "        ytickfont = font(7, \"Courier\"),\n",
    "        xlabel = \"Visitas promedio\",\n",
    "        ylabel = \"Aeropuerto inicial\",\n",
    "        xrotation = 50)\n",
    "end"
   ]
  },
  {
   "cell_type": "code",
   "execution_count": 172,
   "metadata": {},
   "outputs": [
    {
     "data": {
      "image/png": "[encoded data removed]"
     },
     "execution_count": 172,
     "metadata": {},
     "output_type": "execute_result"
    }
   ],
   "source": [
    "plot_freq_av_visits(caminata_M, \"2B\")"
   ]
  },
  {
   "cell_type": "markdown",
   "metadata": {},
   "source": [
    "### Cobertura"
   ]
  },
  {
   "cell_type": "code",
   "execution_count": 35,
   "metadata": {},
   "outputs": [
    {
     "data": {
      "text/plain": [
       "coverage"
      ]
     },
     "execution_count": 35,
     "metadata": {},
     "output_type": "execute_result"
    }
   ],
   "source": [
    "\"\"\"\n",
    "    coverage(W::Array{Any,1})\n",
    "\n",
    "La función cobertura tiene como parámetro W que es un arreglo de arreglos.\n",
    "Regresa el número de nodos diferentes a los que llega el caminante.\n",
    "\"\"\"\n",
    "function coverage(W::Array{Any,1}) \n",
    "    \n",
    "    cobert = []\n",
    "    \n",
    "    v = length(W) #tamaño de la matriz, número de nodos\n",
    "    x = visited_vertices(W)\n",
    "    s = size(x[1], 1) #lo puedo sacar, para todos es el mismo. Es el número de iteraciones\n",
    "    longz = zeros(Int64, s) #Arreglo de ceros de tamaño número de iteraciones\n",
    "    \n",
    "    for i in 1:v        \n",
    "        for j in 1:s\n",
    "            l = length(x[i][j])\n",
    "            longz[j] = l\n",
    "        end\n",
    "        \n",
    "        push!(cobert, longz)\n",
    "        longz = zeros(Int64, s)\n",
    "    end\n",
    "    \n",
    "    return cobert\n",
    "end"
   ]
  },
  {
   "cell_type": "code",
   "execution_count": 36,
   "metadata": {},
   "outputs": [
    {
     "data": {
      "text/plain": [
       "vertex_coverage"
      ]
     },
     "execution_count": 36,
     "metadata": {},
     "output_type": "execute_result"
    }
   ],
   "source": [
    "\"\"\"\n",
    "    vertex_coverage(W::Array{Any,1})\n",
    "\n",
    "Da el promedio de cobertura la caminata por nodo inicial. \n",
    "\"\"\"\n",
    "function vertex_coverage(W::Array{Any,1}) #Esta es la importante\n",
    "    \n",
    "    longitud = Array{Float64}(undef, 0)\n",
    "    x = coverage(W)\n",
    "    \n",
    "    for i in 1:length(x)\n",
    "        l = mean(x[i])\n",
    "        push!(longitud, l)\n",
    "    end\n",
    "    \n",
    "    longitud\n",
    "end"
   ]
  },
  {
   "cell_type": "code",
   "execution_count": 122,
   "metadata": {},
   "outputs": [
    {
     "data": {
      "text/plain": [
       "17-element Array{Float64,1}:\n",
       " 10.8\n",
       " 10.0\n",
       "  9.0\n",
       "  9.6\n",
       " 11.0\n",
       " 10.4\n",
       "  8.8\n",
       "  9.8\n",
       "  9.4\n",
       " 10.2\n",
       " 10.4\n",
       " 10.0\n",
       " 10.8\n",
       " 10.2\n",
       " 10.0\n",
       "  9.0\n",
       " 10.2"
      ]
     },
     "execution_count": 122,
     "metadata": {},
     "output_type": "execute_result"
    }
   ],
   "source": [
    "vertex_coverage(caminata_M)"
   ]
  },
  {
   "cell_type": "code",
   "execution_count": 37,
   "metadata": {},
   "outputs": [
    {
     "data": {
      "text/plain": [
       "plot_vertex_coverage"
      ]
     },
     "execution_count": 37,
     "metadata": {},
     "output_type": "execute_result"
    }
   ],
   "source": [
    "\"\"\"\n",
    "    plot_vertex_coverage(W::Array{Any, 1}, airline_code::String)\n",
    "\n",
    "Función que grafica (scatter plot) del promedio por nodo inicial de caminatas\n",
    "\"\"\"\n",
    "function plot_vertex_coverage(W::Array{Any, 1}, airline_code::String)\n",
    "    \n",
    "    info = vertex_coverage(W)\n",
    "    \n",
    "    scatter(info, \n",
    "        color = \"#0f87bf\",\n",
    "        alpha = 0.4, \n",
    "        title = string(\"Cobertura por nodo inicial \", airline_code), \n",
    "        xlabel = \"Aeropuerto inicial\", \n",
    "        ylabel = \"Longitud\", \n",
    "        xticks = (1:1:length(W), nombres_multiplex),\n",
    "        legendtitle = airline_code,\n",
    "        label = \"Promedio\",\n",
    "        xrotation = 50)\n",
    "    \n",
    "end"
   ]
  },
  {
   "cell_type": "code",
   "execution_count": 135,
   "metadata": {},
   "outputs": [
    {
     "data": {
      "image/png": "[encoded data removed]"
     },
     "execution_count": 135,
     "metadata": {},
     "output_type": "execute_result"
    }
   ],
   "source": [
    "plot_vertex_coverage(caminata_M, \"2B\")"
   ]
  },
  {
   "cell_type": "code",
   "execution_count": 38,
   "metadata": {},
   "outputs": [
    {
     "data": {
      "text/plain": [
       "layer_coverage"
      ]
     },
     "execution_count": 38,
     "metadata": {},
     "output_type": "execute_result"
    }
   ],
   "source": [
    "\"\"\"\n",
    "    layer_coverage(W::Array{Any, 1})\n",
    "\n",
    "Da el promedio de la longitud de las caminatas para todos los nodos, como un número.\n",
    "\"\"\"\n",
    "function layer_coverage(W::Array{Any, 1})\n",
    "    x = vertex_coverage(W)\n",
    "    promedio = mean(x)\n",
    "    return promedio\n",
    "end"
   ]
  },
  {
   "cell_type": "markdown",
   "metadata": {},
   "source": [
    "### Máximos y mínimos de longitud"
   ]
  },
  {
   "cell_type": "code",
   "execution_count": 39,
   "metadata": {},
   "outputs": [
    {
     "data": {
      "text/plain": [
       "max_length"
      ]
     },
     "execution_count": 39,
     "metadata": {},
     "output_type": "execute_result"
    }
   ],
   "source": [
    "\"\"\"\n",
    "    max_length(W::Array{Any, 1})\n",
    "\n",
    "Da la longitud máxima de cada iteración de cada nodo inicial.\n",
    "\"\"\"\n",
    "function max_length(W::Array{Any, 1})\n",
    "    max = Array{Int64}(undef, 0)\n",
    "    x = coverage(W)\n",
    "    for i in 1:length(x)\n",
    "        m = maximum(x[i])\n",
    "        push!(max, m)\n",
    "    end\n",
    "    max\n",
    "end"
   ]
  },
  {
   "cell_type": "code",
   "execution_count": 40,
   "metadata": {},
   "outputs": [
    {
     "data": {
      "text/plain": [
       "Max_length"
      ]
     },
     "execution_count": 40,
     "metadata": {},
     "output_type": "execute_result"
    }
   ],
   "source": [
    "\"\"\"\n",
    "    Max_length(W::Array{Any, 1})\n",
    "\n",
    "Da la longitud máxima total.\n",
    "\"\"\"\n",
    "function Max_length(W::Array{Any, 1})\n",
    "    x = max_length(W)\n",
    "    m = maximum(x)\n",
    "    return m\n",
    "end"
   ]
  },
  {
   "cell_type": "code",
   "execution_count": 41,
   "metadata": {},
   "outputs": [
    {
     "data": {
      "text/plain": [
       "av_max_length"
      ]
     },
     "execution_count": 41,
     "metadata": {},
     "output_type": "execute_result"
    }
   ],
   "source": [
    "\"\"\"\n",
    "    av_max_length(W::Array{Any, 1})\n",
    "\n",
    "Regresa el promedio de la longitud máxima de cada nodo inicial.\n",
    "\"\"\"\n",
    "function av_max_length(W::Array{Any, 1})\n",
    "    x = max_length(W)\n",
    "    prom = mean(x)\n",
    "    return prom\n",
    "end"
   ]
  },
  {
   "cell_type": "code",
   "execution_count": 42,
   "metadata": {},
   "outputs": [
    {
     "data": {
      "text/plain": [
       "min_length"
      ]
     },
     "execution_count": 42,
     "metadata": {},
     "output_type": "execute_result"
    }
   ],
   "source": [
    "\"\"\"\n",
    "    min_length(W::Array{Any, 1})\n",
    "\n",
    "Da la longitud mínima de cada iteración de cada nodo inicial.\n",
    "\"\"\"\n",
    "function min_length(W::Array{Any, 1})\n",
    "    min = Array{Int64}(undef, 0)\n",
    "    x = coverage(W)\n",
    "    for i in 1:length(x)\n",
    "        m = minimum(x[i])\n",
    "        push!(min, m)\n",
    "    end\n",
    "    min\n",
    "end"
   ]
  },
  {
   "cell_type": "code",
   "execution_count": 43,
   "metadata": {},
   "outputs": [
    {
     "data": {
      "text/plain": [
       "Min_length"
      ]
     },
     "execution_count": 43,
     "metadata": {},
     "output_type": "execute_result"
    }
   ],
   "source": [
    "\"\"\"\n",
    "    Min_length(W::Array{Any, 1})\n",
    "\n",
    "Da la longitud mínima total.\n",
    "\"\"\"\n",
    "function Min_length(W::Array{Any, 1})\n",
    "    x = min_length(W)\n",
    "    m = minimum(x)\n",
    "    return m\n",
    "end"
   ]
  },
  {
   "cell_type": "code",
   "execution_count": 44,
   "metadata": {},
   "outputs": [
    {
     "data": {
      "text/plain": [
       "av_min_length"
      ]
     },
     "execution_count": 44,
     "metadata": {},
     "output_type": "execute_result"
    }
   ],
   "source": [
    "\"\"\"\n",
    "    av_min_length(W::Array{Any, 1})\n",
    "\n",
    "Regresa el promedio de la longitud mínima de cada nodo inicial.\n",
    "\"\"\"\n",
    "function av_min_length(W::Array{Any, 1})\n",
    "    x = min_length(W)\n",
    "    prom = mean(x)\n",
    "    return prom\n",
    "end"
   ]
  },
  {
   "cell_type": "markdown",
   "metadata": {},
   "source": [
    "### End-points"
   ]
  },
  {
   "cell_type": "code",
   "execution_count": 45,
   "metadata": {},
   "outputs": [
    {
     "data": {
      "text/plain": [
       "endpoints"
      ]
     },
     "execution_count": 45,
     "metadata": {},
     "output_type": "execute_result"
    }
   ],
   "source": [
    "\"\"\"\n",
    "    endpoints(W::Array{Any, 1})\n",
    "\n",
    "Regresa un arreglo de arreglos que contiene los nodos en los que cae cada caminata y ya no puede salir.\n",
    "\"\"\"\n",
    "function endpoints(W::Array{Any, 1})\n",
    "    \n",
    "    x = visited_vertices(W)\n",
    "    \n",
    "    atractores = Array[] #Arreglo vacío que contenga a los atractores\n",
    "    v = length(W) #tamaño de la matriz, número de nodos\n",
    "    s = size(W[1], 1) #lo puedo sacar, para todos es el mismo. Es el número de iteraciones\n",
    "    t = size(W[1], 2) #número de pasos +1\n",
    "    atract = zeros(Int64, s) #Arreglo de ceros de tamaño número de iteraciones\n",
    "    \n",
    "    for i in 1:v        \n",
    "        for j in 1:s\n",
    "            if x[i][j, :][end][end] == 0\n",
    "                at = x[i][j, :][end][end - 1]\n",
    "                atract[j] = at\n",
    "            else\n",
    "                atract[j] = 0\n",
    "            end\n",
    "        end\n",
    "        push!(atractores, atract)\n",
    "        atract = zeros(Int64, s)\n",
    "    end\n",
    "    \n",
    "    return atractores\n",
    "end"
   ]
  },
  {
   "cell_type": "code",
   "execution_count": 135,
   "metadata": {},
   "outputs": [
    {
     "data": {
      "text/plain": [
       "17-element Array{Array,1}:\n",
       " [0, 0, 0, 0, 0]\n",
       " [0, 0, 0, 0, 0]\n",
       " [0, 0, 0, 0, 0]\n",
       " [0, 0, 0, 0, 0]\n",
       " [0, 0, 0, 0, 0]\n",
       " [0, 0, 0, 0, 0]\n",
       " [0, 0, 0, 0, 0]\n",
       " [0, 0, 0, 0, 0]\n",
       " [0, 0, 0, 0, 0]\n",
       " [0, 0, 0, 0, 0]\n",
       " [0, 0, 0, 0, 0]\n",
       " [0, 0, 0, 0, 0]\n",
       " [0, 0, 0, 0, 0]\n",
       " [0, 0, 0, 0, 0]\n",
       " [0, 0, 0, 0, 0]\n",
       " [0, 0, 0, 0, 0]\n",
       " [0, 0, 0, 0, 0]"
      ]
     },
     "execution_count": 135,
     "metadata": {},
     "output_type": "execute_result"
    }
   ],
   "source": [
    "hholi =endpoints(caminata_M)"
   ]
  },
  {
   "cell_type": "code",
   "execution_count": 46,
   "metadata": {},
   "outputs": [
    {
     "data": {
      "text/plain": [
       "which_endpoints"
      ]
     },
     "execution_count": 46,
     "metadata": {},
     "output_type": "execute_result"
    }
   ],
   "source": [
    "\"\"\"\n",
    "   which_endpoints(M::Array{Int64,2})\n",
    "\n",
    "Función que da el índice de los end-points.\n",
    "\"\"\"\n",
    "function which_endpoints(M::Array{Int64,2})\n",
    "    deg = out_degree(M)\n",
    "    ci = findall(iszero, deg)\n",
    "    arr = Array{Int64}(undef, 0)\n",
    "    for i in 1:length(ci)\n",
    "        index = ci[1][2]\n",
    "        push!(arr, index)\n",
    "    end\n",
    "    return arr\n",
    "end"
   ]
  },
  {
   "cell_type": "code",
   "execution_count": 90,
   "metadata": {},
   "outputs": [
    {
     "data": {
      "text/plain": [
       "freq_all_endpoints"
      ]
     },
     "execution_count": 90,
     "metadata": {},
     "output_type": "execute_result"
    }
   ],
   "source": [
    "\"\"\"\n",
    "    freq_all_endpoints(W::Array{Any, 1})\n",
    "\n",
    "Función con diccionarios de frecuencias de end-points\n",
    "\"\"\"\n",
    "function freq_all_endpoints(W::Array{Any, 1})\n",
    "    \n",
    "    info = endpoints(W)\n",
    "    resu = []\n",
    "    c = 0\n",
    "    \n",
    "    for i in 1:length(info)\n",
    "    \n",
    "        c = countmap(info[i])\n",
    "        push!(resu, c)\n",
    "        c = 0\n",
    "    end\n",
    "    return resu\n",
    "end"
   ]
  },
  {
   "cell_type": "code",
   "execution_count": 96,
   "metadata": {},
   "outputs": [
    {
     "data": {
      "text/plain": [
       "17-element Array{Any,1}:\n",
       " Dict(0=>5)\n",
       " Dict(0=>5)\n",
       " Dict(0=>5)\n",
       " Dict(0=>5)\n",
       " Dict(0=>5)\n",
       " Dict(0=>5)\n",
       " Dict(0=>5)\n",
       " Dict(0=>5)\n",
       " Dict(0=>5)\n",
       " Dict(0=>5)\n",
       " Dict(0=>5)\n",
       " Dict(0=>5)\n",
       " Dict(0=>5)\n",
       " Dict(0=>5)\n",
       " Dict(0=>5)\n",
       " Dict(0=>5)\n",
       " Dict(0=>5)"
      ]
     },
     "execution_count": 96,
     "metadata": {},
     "output_type": "execute_result"
    }
   ],
   "source": [
    "freq_all_endpoints(caminata_M)"
   ]
  },
  {
   "cell_type": "code",
   "execution_count": 109,
   "metadata": {},
   "outputs": [
    {
     "data": {
      "text/plain": [
       "distrib_all_endpoints (generic function with 1 method)"
      ]
     },
     "execution_count": 109,
     "metadata": {},
     "output_type": "execute_result"
    }
   ],
   "source": [
    "function distrib_all_endpoints(M::Array{Int64,2}, W::Array{Any, 1})\n",
    "    \n",
    "    info = freq_all_endpoints(W)\n",
    "    endpts = which_endpoints(M)\n",
    "    ######################################\n",
    "    \n",
    "    l = length(W) #num nodos iniciales\n",
    "    e = length(endpts) \n",
    "    #@show l\n",
    "    f = 0  #contador\n",
    "    frec_total = Array[] #zeros(Array, length(x)) #arreglo de ceros de tamaño núm dicc\n",
    "    frec_nodo = zeros(Int64, l+1) #arreglo de nodos de tamaño núm nodos para get frec\n",
    "\n",
    "    for i in 1:length(info) #corro por los nodos\n",
    "\n",
    "        for j in 1:l+1 #corro por los nodos\n",
    "\n",
    "            frec_nodo[j] = get(info[i], f, 0) #entrada j de freq nodo la cambio por la entrada j del dicc i\n",
    "            f += 1\n",
    "        end\n",
    "        push!(frec_total, frec_nodo)\n",
    "        \n",
    "        f = 0\n",
    "        frec_nodo = zeros(Int64, l+1)\n",
    "        \n",
    "    end\n",
    "    \n",
    "    return frec_total\n",
    "    \n",
    "end"
   ]
  },
  {
   "cell_type": "code",
   "execution_count": 110,
   "metadata": {},
   "outputs": [
    {
     "name": "stdout",
     "output_type": "stream",
     "text": [
      "l = 17\n"
     ]
    },
    {
     "data": {
      "text/plain": [
       "17-element Array{Array,1}:\n",
       " [5, 0, 0, 0, 0, 0, 0, 0, 0, 0, 0, 0, 0, 0, 0, 0, 0, 0]\n",
       " [5, 0, 0, 0, 0, 0, 0, 0, 0, 0, 0, 0, 0, 0, 0, 0, 0, 0]\n",
       " [5, 0, 0, 0, 0, 0, 0, 0, 0, 0, 0, 0, 0, 0, 0, 0, 0, 0]\n",
       " [5, 0, 0, 0, 0, 0, 0, 0, 0, 0, 0, 0, 0, 0, 0, 0, 0, 0]\n",
       " [5, 0, 0, 0, 0, 0, 0, 0, 0, 0, 0, 0, 0, 0, 0, 0, 0, 0]\n",
       " [5, 0, 0, 0, 0, 0, 0, 0, 0, 0, 0, 0, 0, 0, 0, 0, 0, 0]\n",
       " [5, 0, 0, 0, 0, 0, 0, 0, 0, 0, 0, 0, 0, 0, 0, 0, 0, 0]\n",
       " [5, 0, 0, 0, 0, 0, 0, 0, 0, 0, 0, 0, 0, 0, 0, 0, 0, 0]\n",
       " [5, 0, 0, 0, 0, 0, 0, 0, 0, 0, 0, 0, 0, 0, 0, 0, 0, 0]\n",
       " [5, 0, 0, 0, 0, 0, 0, 0, 0, 0, 0, 0, 0, 0, 0, 0, 0, 0]\n",
       " [5, 0, 0, 0, 0, 0, 0, 0, 0, 0, 0, 0, 0, 0, 0, 0, 0, 0]\n",
       " [5, 0, 0, 0, 0, 0, 0, 0, 0, 0, 0, 0, 0, 0, 0, 0, 0, 0]\n",
       " [5, 0, 0, 0, 0, 0, 0, 0, 0, 0, 0, 0, 0, 0, 0, 0, 0, 0]\n",
       " [5, 0, 0, 0, 0, 0, 0, 0, 0, 0, 0, 0, 0, 0, 0, 0, 0, 0]\n",
       " [5, 0, 0, 0, 0, 0, 0, 0, 0, 0, 0, 0, 0, 0, 0, 0, 0, 0]\n",
       " [5, 0, 0, 0, 0, 0, 0, 0, 0, 0, 0, 0, 0, 0, 0, 0, 0, 0]\n",
       " [5, 0, 0, 0, 0, 0, 0, 0, 0, 0, 0, 0, 0, 0, 0, 0, 0, 0]"
      ]
     },
     "execution_count": 110,
     "metadata": {},
     "output_type": "execute_result"
    }
   ],
   "source": [
    "distrib_all_endpoints(caminata_M)"
   ]
  },
  {
   "cell_type": "code",
   "execution_count": 147,
   "metadata": {},
   "outputs": [
    {
     "data": {
      "text/plain": [
       "1×17 Array{Int64,2}:\n",
       " 1  2  2  4  2  1  1  7  3  1  4  2  1  2  0  1  3"
      ]
     },
     "execution_count": 147,
     "metadata": {},
     "output_type": "execute_result"
    }
   ],
   "source": [
    "out_degree_multiplex[15] = 0\n",
    "out_degree_multiplex"
   ]
  },
  {
   "cell_type": "code",
   "execution_count": 161,
   "metadata": {
    "scrolled": true
   },
   "outputs": [
    {
     "data": {
      "text/plain": [
       "1-element Array{Int64,1}:\n",
       " 15"
      ]
     },
     "execution_count": 161,
     "metadata": {},
     "output_type": "execute_result"
    }
   ],
   "source": [
    "which_endpoints(out_degree_multiplex)"
   ]
  },
  {
   "cell_type": "code",
   "execution_count": null,
   "metadata": {},
   "outputs": [],
   "source": []
  },
  {
   "cell_type": "code",
   "execution_count": null,
   "metadata": {},
   "outputs": [],
   "source": [
    "#función que cambie los endpoints a nombres de aeropuertos"
   ]
  },
  {
   "cell_type": "code",
   "execution_count": 281,
   "metadata": {
    "scrolled": true
   },
   "outputs": [
    {
     "data": {
      "text/plain": [
       "plot_endpoints"
      ]
     },
     "execution_count": 281,
     "metadata": {},
     "output_type": "execute_result"
    }
   ],
   "source": [
    "\"\"\" NOOOO\n",
    "    plot_endpoints(W::Array{Any, 1}, airline_code::String)\n",
    "\n",
    "Función que grafica la información de los endpoints por nodo inicial\n",
    "\"\"\"\n",
    "function plot_endpoints(W::Array{Any, 1}, airline_code::String) #No necesario y mal\n",
    "    \n",
    "    pyplot()\n",
    "    \n",
    "    info = endpoints(W)\n",
    "    \n",
    "    mat_completa = distrib_av_visits(W)\n",
    "    mat = mat_completa[:, (2:end)] #desde la segunda columna para no tomar en cuenta los end-points\n",
    "    \n",
    "    xs = [nombres_multiplex]\n",
    "    ys = [nombres_multiplex] #[string(\"v_0 \", i) for i = 1:length(W)]\n",
    "    z = mat\n",
    "    \n",
    "    heatmap(xs, ys, z, \n",
    "        title = string(\"Frecuencia de visitas para \", airline_code),\n",
    "        aspect_ratio = 1, \n",
    "        clims = (0, maximum(mat)), #MÁXIMO DEL MULTIPLEX GLOBAL/AEROLÍNEA MÁS GRANDE ¿?\n",
    "        xticks = :all,\n",
    "        yticks = :all,\n",
    "        xtickfont = font(7, \"Courier\"),\n",
    "        ytickfont = font(7, \"Courier\"),\n",
    "        xlabel = \"Visitas promedio\",\n",
    "        ylabel = \"Aeropuerto inicial\",\n",
    "        xrotation = 50)\n",
    "end"
   ]
  },
  {
   "cell_type": "code",
   "execution_count": 282,
   "metadata": {},
   "outputs": [
    {
     "name": "stdout",
     "output_type": "stream",
     "text": [
      "xs = [\"AER\", \"ASF\", \"CEK\", \"DME\", \"EGO\", \"GYD\", \"KGD\", \"KZN\", \"LED\", \"MRV\", \"NBC\", \"NJC\", \"NUX\", \"OVB\", \"SVX\", \"TGK\", \"UUA\"]\n",
      "ys = [1, 2, 3, 4, 5]\n",
      "z = [0, 0, 0, 0, 0]\n",
      "xs = [\"AER\", \"ASF\", \"CEK\", \"DME\", \"EGO\", \"GYD\", \"KGD\", \"KZN\", \"LED\", \"MRV\", \"NBC\", \"NJC\", \"NUX\", \"OVB\", \"SVX\", \"TGK\", \"UUA\"]\n",
      "ys = [1, 2, 3, 4, 5]\n",
      "z = [0, 0, 0, 0, 0]\n",
      "xs = [\"AER\", \"ASF\", \"CEK\", \"DME\", \"EGO\", \"GYD\", \"KGD\", \"KZN\", \"LED\", \"MRV\", \"NBC\", \"NJC\", \"NUX\", \"OVB\", \"SVX\", \"TGK\", \"UUA\"]\n",
      "ys = [1, 2, 3, 4, 5]\n",
      "z = [0, 0, 0, 0, 0]\n",
      "xs = [\"AER\", \"ASF\", \"CEK\", \"DME\", \"EGO\", \"GYD\", \"KGD\", \"KZN\", \"LED\", \"MRV\", \"NBC\", \"NJC\", \"NUX\", \"OVB\", \"SVX\", \"TGK\", \"UUA\"]\n",
      "ys = [1, 2, 3, 4, 5]\n",
      "z = [0, 0, 0, 0, 0]\n",
      "xs = [\"AER\", \"ASF\", \"CEK\", \"DME\", \"EGO\", \"GYD\", \"KGD\", \"KZN\", \"LED\", \"MRV\", \"NBC\", \"NJC\", \"NUX\", \"OVB\", \"SVX\", \"TGK\", \"UUA\"]\n",
      "ys = [1, 2, 3, 4, 5]\n",
      "z = [0, 0, 0, 0, 0]\n",
      "xs = [\"AER\", \"ASF\", \"CEK\", \"DME\", \"EGO\", \"GYD\", \"KGD\", \"KZN\", \"LED\", \"MRV\", \"NBC\", \"NJC\", \"NUX\", \"OVB\", \"SVX\", \"TGK\", \"UUA\"]\n",
      "ys = [1, 2, 3, 4, 5]\n",
      "z = [0, 0, 0, 0, 0]\n",
      "xs = [\"AER\", \"ASF\", \"CEK\", \"DME\", \"EGO\", \"GYD\", \"KGD\", \"KZN\", \"LED\", \"MRV\", \"NBC\", \"NJC\", \"NUX\", \"OVB\", \"SVX\", \"TGK\", \"UUA\"]\n",
      "ys = [1, 2, 3, 4, 5]\n",
      "z = [0, 0, 0, 0, 0]\n",
      "xs = [\"AER\", \"ASF\", \"CEK\", \"DME\", \"EGO\", \"GYD\", \"KGD\", \"KZN\", \"LED\", \"MRV\", \"NBC\", \"NJC\", \"NUX\", \"OVB\", \"SVX\", \"TGK\", \"UUA\"]\n",
      "ys = [1, 2, 3, 4, 5]\n",
      "z = [0, 0, 0, 0, 0]\n",
      "xs = [\"AER\", \"ASF\", \"CEK\", \"DME\", \"EGO\", \"GYD\", \"KGD\", \"KZN\", \"LED\", \"MRV\", \"NBC\", \"NJC\", \"NUX\", \"OVB\", \"SVX\", \"TGK\", \"UUA\"]\n",
      "ys = [1, 2, 3, 4, 5]\n",
      "z = [0, 0, 0, 0, 0]\n",
      "xs = [\"AER\", \"ASF\", \"CEK\", \"DME\", \"EGO\", \"GYD\", \"KGD\", \"KZN\", \"LED\", \"MRV\", \"NBC\", \"NJC\", \"NUX\", \"OVB\", \"SVX\", \"TGK\", \"UUA\"]\n",
      "ys = [1, 2, 3, 4, 5]\n",
      "z = [0, 0, 0, 0, 0]\n",
      "xs = [\"AER\", \"ASF\", \"CEK\", \"DME\", \"EGO\", \"GYD\", \"KGD\", \"KZN\", \"LED\", \"MRV\", \"NBC\", \"NJC\", \"NUX\", \"OVB\", \"SVX\", \"TGK\", \"UUA\"]\n",
      "ys = [1, 2, 3, 4, 5]\n",
      "z = [0, 0, 0, 0, 0]\n",
      "xs = [\"AER\", \"ASF\", \"CEK\", \"DME\", \"EGO\", \"GYD\", \"KGD\", \"KZN\", \"LED\", \"MRV\", \"NBC\", \"NJC\", \"NUX\", \"OVB\", \"SVX\", \"TGK\", \"UUA\"]\n",
      "ys = [1, 2, 3, 4, 5]\n",
      "z = [0, 0, 0, 0, 0]\n",
      "xs = [\"AER\", \"ASF\", \"CEK\", \"DME\", \"EGO\", \"GYD\", \"KGD\", \"KZN\", \"LED\", \"MRV\", \"NBC\", \"NJC\", \"NUX\", \"OVB\", \"SVX\", \"TGK\", \"UUA\"]\n",
      "ys = [1, 2, 3, 4, 5]\n",
      "z = [0, 0, 0, 0, 0]\n",
      "xs = [\"AER\", \"ASF\", \"CEK\", \"DME\", \"EGO\", \"GYD\", \"KGD\", \"KZN\", \"LED\", \"MRV\", \"NBC\", \"NJC\", \"NUX\", \"OVB\", \"SVX\", \"TGK\", \"UUA\"]\n",
      "ys = [1, 2, 3, 4, 5]\n",
      "z = [0, 0, 0, 0, 0]\n",
      "xs = [\"AER\", \"ASF\", \"CEK\", \"DME\", \"EGO\", \"GYD\", \"KGD\", \"KZN\", \"LED\", \"MRV\", \"NBC\", \"NJC\", \"NUX\", \"OVB\", \"SVX\", \"TGK\", \"UUA\"]\n",
      "ys = [1, 2, 3, 4, 5]\n",
      "z = [0, 0, 0, 0, 0]\n",
      "xs = [\"AER\", \"ASF\", \"CEK\", \"DME\", \"EGO\", \"GYD\", \"KGD\", \"KZN\", \"LED\", \"MRV\", \"NBC\", \"NJC\", \"NUX\", \"OVB\", \"SVX\", \"TGK\", \"UUA\"]\n",
      "ys = [1, 2, 3, 4, 5]\n",
      "z = [0, 0, 0, 0, 0]\n",
      "xs = [\"AER\", \"ASF\", \"CEK\", \"DME\", \"EGO\", \"GYD\", \"KGD\", \"KZN\", \"LED\", \"MRV\", \"NBC\", \"NJC\", \"NUX\", \"OVB\", \"SVX\", \"TGK\", \"UUA\"]\n",
      "ys = [1, 2, 3, 4, 5]\n",
      "z = [0, 0, 0, 0, 0]\n"
     ]
    },
    {
     "data": {
      "image/png": "[encoded data removed]"
     },
     "execution_count": 282,
     "metadata": {},
     "output_type": "execute_result"
    }
   ],
   "source": [
    "plot_endpoints(caminata_M, \"2B\")"
   ]
  },
  {
   "cell_type": "code",
   "execution_count": 48,
   "metadata": {},
   "outputs": [
    {
     "data": {
      "text/plain": [
       "av_vertex_endpoints"
      ]
     },
     "execution_count": 48,
     "metadata": {},
     "output_type": "execute_result"
    }
   ],
   "source": [
    "\"\"\"\n",
    "    av_vertex_endpoints(W::Array{Any, 1})\n",
    "\n",
    "Función que calcula el promedio de endpoints por nodo\n",
    "\"\"\"\n",
    "function av_vertex_endpoints(W::Array{Any, 1}) \n",
    "    \n",
    "    x = endpoints(W)\n",
    "    atractores_prom = Array{Float64}(undef, 0) #Arreglo vacío que contenga a los atractores\n",
    "    v = length(W) #tamaño de la matriz, número de nodos\n",
    "\n",
    "    for i in 1:v        \n",
    "        av = mean(x[i])\n",
    "        push!(atractores_prom, av)\n",
    "    end\n",
    "    \n",
    "    atractores_prom\n",
    "end"
   ]
  },
  {
   "cell_type": "code",
   "execution_count": 163,
   "metadata": {},
   "outputs": [
    {
     "data": {
      "text/plain": [
       "17-element Array{Float64,1}:\n",
       " 0.0\n",
       " 0.0\n",
       " 0.0\n",
       " 0.0\n",
       " 0.0\n",
       " 0.0\n",
       " 0.0\n",
       " 0.0\n",
       " 0.0\n",
       " 0.0\n",
       " 0.0\n",
       " 0.0\n",
       " 0.0\n",
       " 0.0\n",
       " 0.0\n",
       " 0.0\n",
       " 0.0"
      ]
     },
     "execution_count": 163,
     "metadata": {},
     "output_type": "execute_result"
    }
   ],
   "source": [
    "av_vertex_endpoints(caminata_M)"
   ]
  },
  {
   "cell_type": "markdown",
   "metadata": {},
   "source": [
    "### Distribución de frecuencia de end-points"
   ]
  },
  {
   "cell_type": "code",
   "execution_count": 49,
   "metadata": {},
   "outputs": [
    {
     "data": {
      "text/plain": [
       "freq_endpoints"
      ]
     },
     "execution_count": 49,
     "metadata": {},
     "output_type": "execute_result"
    }
   ],
   "source": [
    "\"\"\"\n",
    "    freq_endpoints(W::Array{Any, 1})\n",
    "\n",
    "Función que da un diccionario con frecuencias\n",
    "\"\"\"\n",
    "function freq_endpoints(W::Array{Any, 1})\n",
    "    freqs = []\n",
    "    x = endpoints(W)\n",
    "    v = length(W)\n",
    "    \n",
    "    for i in 1:v\n",
    "        frec = countmap(x[i])\n",
    "        push!(freqs, frec)\n",
    "    end\n",
    "    freqs\n",
    "end"
   ]
  },
  {
   "cell_type": "code",
   "execution_count": 160,
   "metadata": {},
   "outputs": [
    {
     "data": {
      "text/plain": [
       "17-element Array{Any,1}:\n",
       " Dict(0=>5)\n",
       " Dict(0=>5)\n",
       " Dict(0=>5)\n",
       " Dict(0=>5)\n",
       " Dict(0=>5)\n",
       " Dict(0=>5)\n",
       " Dict(0=>5)\n",
       " Dict(0=>5)\n",
       " Dict(0=>5)\n",
       " Dict(0=>5)\n",
       " Dict(0=>5)\n",
       " Dict(0=>5)\n",
       " Dict(0=>5)\n",
       " Dict(0=>5)\n",
       " Dict(0=>5)\n",
       " Dict(0=>5)\n",
       " Dict(0=>5)"
      ]
     },
     "execution_count": 160,
     "metadata": {},
     "output_type": "execute_result"
    }
   ],
   "source": [
    "freq_endpoints(caminata_M)"
   ]
  },
  {
   "cell_type": "code",
   "execution_count": 50,
   "metadata": {},
   "outputs": [
    {
     "data": {
      "text/plain": [
       "distrib_endpoints"
      ]
     },
     "execution_count": 50,
     "metadata": {},
     "output_type": "execute_result"
    }
   ],
   "source": [
    "\"\"\"\n",
    "    distrib_endpoints(W::Array{Any, 1})\n",
    "\n",
    "Función que saca la distribución de los endpoints para toda la capa\n",
    "\"\"\"\n",
    "function distrib_endpoints(W::Array{Any, 1})\n",
    "    \n",
    "    x = freq_endpoints(W)\n",
    "    frec_total = zeros(Int64, length(W))\n",
    "    frec_nodo = zeros(Int64, length(W))\n",
    "\n",
    "    for i in 1:length(W)\n",
    "        for j in 1:length(W)\n",
    "            frec_nodo[j] = get(x[i], j, 0)\n",
    "        end\n",
    "        frec_total += frec_nodo\n",
    "    end\n",
    "    \n",
    "    return frec_total\n",
    "end"
   ]
  },
  {
   "cell_type": "code",
   "execution_count": 161,
   "metadata": {},
   "outputs": [
    {
     "data": {
      "text/plain": [
       "17-element Array{Int64,1}:\n",
       " 0\n",
       " 0\n",
       " 0\n",
       " 0\n",
       " 0\n",
       " 0\n",
       " 0\n",
       " 0\n",
       " 0\n",
       " 0\n",
       " 0\n",
       " 0\n",
       " 0\n",
       " 0\n",
       " 0\n",
       " 0\n",
       " 0"
      ]
     },
     "execution_count": 161,
     "metadata": {},
     "output_type": "execute_result"
    }
   ],
   "source": [
    "distrib_endpoints(caminata_M)"
   ]
  },
  {
   "cell_type": "markdown",
   "metadata": {},
   "source": [
    "### Gráficas de end-points"
   ]
  },
  {
   "cell_type": "code",
   "execution_count": 87,
   "metadata": {},
   "outputs": [
    {
     "data": {
      "text/plain": [
       "plot_vertex_endpoints"
      ]
     },
     "execution_count": 87,
     "metadata": {},
     "output_type": "execute_result"
    }
   ],
   "source": [
    "\"\"\"\n",
    "    plot_vertex_endpoints(W::Array{Any, 1}, airline_code::String)\n",
    "\n",
    "Función que grafica la información de los endpoints por nodo inicial\n",
    "\"\"\"\n",
    "function plot_vertex_endpoints(W::Array{Any, 1}, airline_code::String) #MAL\n",
    "    \n",
    "    info = distrib_endpoints(W) #endpoints por nodo inicial\n",
    "    \n",
    "    heatmap(xs, ys, z, \n",
    "        title = string(\"Frecuencia de visitas para \", airline_code),\n",
    "        aspect_ratio = 1, \n",
    "        clims = (0, maximum(mat)), #MÁXIMO DEL MULTIPLEX GLOBAL/AEROLÍNEA MÁS GRANDE ¿?\n",
    "        xticks = :all,\n",
    "        yticks = :all,\n",
    "        xtickfont = font(7, \"Courier\"),\n",
    "        ytickfont = font(7, \"Courier\"),\n",
    "        xlabel = \"Visitas promedio\",\n",
    "        ylabel = \"Aeropuerto inicial\",\n",
    "        xrotation = 50)\n",
    "    \n",
    "    scatter(info, \n",
    "        color = \"#0f87bf\",\n",
    "        alpha = 0.4, \n",
    "        title = string(\"End-points por nodo inicial \", airline_code), \n",
    "        xlabel = \"Aeropuerto inicial\", \n",
    "        ylabel = \"End-points\", \n",
    "        xticks = (1:1:length(W), nombres_multiplex),\n",
    "        legendtitle = airline_code,\n",
    "        label = \"Promedio\",\n",
    "        xrotation = 50)\n",
    "end"
   ]
  },
  {
   "cell_type": "code",
   "execution_count": 134,
   "metadata": {},
   "outputs": [
    {
     "name": "stdout",
     "output_type": "stream",
     "text": [
      "  0.000410 seconds (1.52 k allocations: 161.016 KiB)\n"
     ]
    },
    {
     "data": {
      "text/plain": [
       "17-element Array{Int64,1}:\n",
       " 0\n",
       " 0\n",
       " 0\n",
       " 0\n",
       " 0\n",
       " 0\n",
       " 0\n",
       " 0\n",
       " 0\n",
       " 0\n",
       " 0\n",
       " 0\n",
       " 0\n",
       " 0\n",
       " 0\n",
       " 0\n",
       " 0"
      ]
     },
     "execution_count": 134,
     "metadata": {},
     "output_type": "execute_result"
    }
   ],
   "source": [
    "distrib_endpts_M = @time distrib_endpoints(caminata_M)"
   ]
  },
  {
   "cell_type": "code",
   "execution_count": null,
   "metadata": {},
   "outputs": [],
   "source": []
  },
  {
   "cell_type": "code",
   "execution_count": 88,
   "metadata": {},
   "outputs": [
    {
     "data": {
      "text/plain": [
       "plot_layer_endpoints"
      ]
     },
     "execution_count": 88,
     "metadata": {},
     "output_type": "execute_result"
    }
   ],
   "source": [
    "\"\"\"\n",
    "    plot_layer_endpoints(W::Array{Any, 1})\n",
    "\n",
    "Función que grafica la información de los endpoints en toda una capa(aerolínea)\n",
    "\"\"\"\n",
    "function plot_layer_endpoints(W::Array{Any, 1})\n",
    "    \n",
    "end"
   ]
  },
  {
   "cell_type": "markdown",
   "metadata": {},
   "source": [
    "### Distribución Betweenness"
   ]
  },
  {
   "cell_type": "code",
   "execution_count": null,
   "metadata": {},
   "outputs": [],
   "source": [
    "\"\"\"\n",
    "    plot_betweenness(W::Array{Any, 1}, airline_code::String)\n",
    "\n",
    "Función que grafica (scatter plot) de la distribución de betweenness de los nodos.\n",
    "\"\"\"\n",
    "function plot_betweenness()\n",
    "    \n",
    "    \n",
    "end\n",
    "\n",
    "\n",
    "function plot_vertex_coverage(W::Array{Any, 1}, airline_code::String)\n",
    "    \n",
    "    info = vertex_coverage(W)\n",
    "    \n",
    "    scatter(info, \n",
    "        color = \"#0f87bf\",\n",
    "        alpha = 0.4, \n",
    "        title = string(\"Cobertura por nodo inicial \", airline_code), \n",
    "        xlabel = \"Aeropuerto inicial\", \n",
    "        ylabel = \"Longitud\", \n",
    "        xticks = (1:1:length(W), nombres_multiplex),\n",
    "        legendtitle = airline_code,\n",
    "        label = \"Promedio\",\n",
    "        xrotation = 50)\n",
    "    \n",
    "end"
   ]
  },
  {
   "cell_type": "markdown",
   "metadata": {},
   "source": [
    "### Grafo"
   ]
  },
  {
   "cell_type": "code",
   "execution_count": 151,
   "metadata": {},
   "outputs": [
    {
     "data": {
      "text/plain": [
       "my_graph"
      ]
     },
     "execution_count": 151,
     "metadata": {},
     "output_type": "execute_result"
    }
   ],
   "source": [
    "\"\"\"\n",
    "    my_graph(M::Array{Int64,2}, airline_code::String)\n",
    "\n",
    "Función que hace el grafo de la red aérea dirigida.\n",
    "\"\"\"\n",
    "function my_graph(M::Array{Int64,2}, airline_code::String)\n",
    "    \n",
    "    grafo = DiGraph(M)\n",
    "    \n",
    "end"
   ]
  },
  {
   "cell_type": "code",
   "execution_count": 152,
   "metadata": {},
   "outputs": [
    {
     "data": {
      "text/plain": [
       "{17, 42} directed simple Int64 graph"
      ]
     },
     "execution_count": 152,
     "metadata": {},
     "output_type": "execute_result"
    }
   ],
   "source": [
    "jh= my_graph(multiplex, \"2B\")"
   ]
  },
  {
   "cell_type": "markdown",
   "metadata": {},
   "source": [
    "### Plot Grafo"
   ]
  },
  {
   "cell_type": "code",
   "execution_count": 143,
   "metadata": {},
   "outputs": [
    {
     "data": {
      "text/plain": [
       "plot_net"
      ]
     },
     "execution_count": 143,
     "metadata": {},
     "output_type": "execute_result"
    }
   ],
   "source": [
    "\"\"\"\n",
    "    plot_net(M::Array{Int64,2}, airline_code::String)\n",
    "\n",
    "Función que hace el grafo de la red aérea dirigida.\n",
    "\"\"\"\n",
    "function plot_net(M::Array{Int64,2}, airline_code::String)\n",
    "    \n",
    "    grafo = DiGraph(M)\n",
    "    red = gplot(grafo)\n",
    "    \n",
    "    return red\n",
    "    \n",
    "end"
   ]
  },
  {
   "cell_type": "code",
   "execution_count": 145,
   "metadata": {},
   "outputs": [
    {
     "data": {
      "image/svg+xml": [
       "<?xml version=\"1.0\" encoding=\"UTF-8\"?>\n",
       "<svg xmlns=\"http://www.w3.org/2000/svg\"\n",
       "     xmlns:xlink=\"http://www.w3.org/1999/xlink\"\n",
       "     version=\"1.2\"\n",
       "     width=\"141.42mm\" height=\"100mm\" viewBox=\"0 0 141.42 100\"\n",
       "     stroke=\"none\"\n",
       "     fill=\"#000000\"\n",
       "     stroke-width=\"0.3\"\n",
       "     font-size=\"3.88\"\n",
       ">\n",
       "<defs>\n",
       "  <marker id=\"arrow\" markerWidth=\"15\" markerHeight=\"7\" refX=\"5\" refY=\"3.5\" orient=\"auto\" markerUnits=\"strokeWidth\">\n",
       "    <path d=\"M0,0 L15,3.5 L0,7 z\" stroke=\"context-stroke\" fill=\"context-stroke\"/>\n",
       "  </marker>\n",
       "</defs>\n",
       "<g stroke-width=\"0.73\" fill=\"#000000\" fill-opacity=\"0.000\" stroke=\"#D3D3D3\" id=\"img-0de26c6f-1\">\n",
       "  <g transform=\"translate(56.09,64.37)\">\n",
       "    <path fill=\"none\" d=\"M-3.28,7.41 L 3.28 -7.41\" class=\"primitive\"/>\n",
       "  </g>\n",
       "  <g transform=\"translate(80.06,49.91)\">\n",
       "    <path fill=\"none\" d=\"M16.23,-3.83 L -16.23 3.83\" class=\"primitive\"/>\n",
       "  </g>\n",
       "  <g transform=\"translate(114.66,42.31)\">\n",
       "    <path fill=\"none\" d=\"M-11.54,2.29 L 11.54 -2.29\" class=\"primitive\"/>\n",
       "  </g>\n",
       "  <g transform=\"translate(67.65,63.96)\">\n",
       "    <path fill=\"none\" d=\"M5.51,7.2 L -5.51 -7.2\" class=\"primitive\"/>\n",
       "  </g>\n",
       "  <g transform=\"translate(82.64,70.69)\">\n",
       "    <path fill=\"none\" d=\"M-4.58,1.58 L 4.58 -1.58\" class=\"primitive\"/>\n",
       "  </g>\n",
       "  <g transform=\"translate(51.76,40.99)\">\n",
       "    <path fill=\"none\" d=\"M-7.21,-11.25 L 7.21 11.25\" class=\"primitive\"/>\n",
       "  </g>\n",
       "  <g transform=\"translate(42.97,33.7)\">\n",
       "    <path fill=\"none\" d=\"M0.06,-3.74 L -0.06 3.74\" class=\"primitive\"/>\n",
       "  </g>\n",
       "  <g transform=\"translate(34.31,17.89)\">\n",
       "    <path fill=\"none\" d=\"M6.82,7.44 L -6.82 -7.44\" class=\"primitive\"/>\n",
       "  </g>\n",
       "  <g transform=\"translate(52.58,23)\">\n",
       "    <path fill=\"none\" d=\"M-6.53,3.05 L 6.53 -3.05\" class=\"primitive\"/>\n",
       "  </g>\n",
       "  <g transform=\"translate(21.43,83.82)\">\n",
       "    <path fill=\"none\" d=\"M7.3,-5.94 L -7.3 5.94\" class=\"primitive\"/>\n",
       "  </g>\n",
       "  <g transform=\"translate(45.76,65.26)\">\n",
       "    <path fill=\"none\" d=\"M-12.19,8.9 L 12.19 -8.9\" class=\"primitive\"/>\n",
       "  </g>\n",
       "  <g transform=\"translate(27.98,38.55)\">\n",
       "    <path fill=\"none\" d=\"M-11.35,-1.08 L 11.35 1.08\" class=\"primitive\"/>\n",
       "  </g>\n",
       "  <g transform=\"translate(21.43,83.82)\">\n",
       "    <path fill=\"none\" d=\"M-7.3,5.94 L 7.3 -5.94\" class=\"primitive\"/>\n",
       "  </g>\n",
       "  <g transform=\"translate(56.09,64.37)\">\n",
       "    <path fill=\"none\" d=\"M3.28,-7.41 L -3.28 7.41\" class=\"primitive\"/>\n",
       "  </g>\n",
       "  <g transform=\"translate(80.06,49.91)\">\n",
       "    <path fill=\"none\" d=\"M-16.23,3.83 L 16.23 -3.83\" class=\"primitive\"/>\n",
       "  </g>\n",
       "  <g transform=\"translate(67.65,63.96)\">\n",
       "    <path fill=\"none\" d=\"M-5.51,-7.2 L 5.51 7.2\" class=\"primitive\"/>\n",
       "  </g>\n",
       "  <g transform=\"translate(51.76,40.99)\">\n",
       "    <path fill=\"none\" d=\"M7.21,11.25 L -7.21 -11.25\" class=\"primitive\"/>\n",
       "  </g>\n",
       "  <g transform=\"translate(45.76,65.26)\">\n",
       "    <path fill=\"none\" d=\"M12.19,-8.9 L -12.19 8.9\" class=\"primitive\"/>\n",
       "  </g>\n",
       "  <g transform=\"translate(58.97,44.96)\">\n",
       "    <path fill=\"none\" d=\"M1.09,7.07 L -1.09 -7.07\" class=\"primitive\"/>\n",
       "  </g>\n",
       "  <g transform=\"translate(69.73,51.38)\">\n",
       "    <path fill=\"none\" d=\"M-6.08,2.06 L 6.08 -2.06\" class=\"primitive\"/>\n",
       "  </g>\n",
       "  <g transform=\"translate(58.97,44.96)\">\n",
       "    <path fill=\"none\" d=\"M-1.09,-7.07 L 1.09 7.07\" class=\"primitive\"/>\n",
       "  </g>\n",
       "  <g transform=\"translate(50.18,37.67)\">\n",
       "    <path fill=\"none\" d=\"M4.04,-1.27 L -4.04 1.27\" class=\"primitive\"/>\n",
       "  </g>\n",
       "  <g transform=\"translate(59.79,26.96)\">\n",
       "    <path fill=\"none\" d=\"M-1.62,5.93 L 1.62 -5.93\" class=\"primitive\"/>\n",
       "  </g>\n",
       "  <g transform=\"translate(114.66,42.31)\">\n",
       "    <path fill=\"none\" d=\"M11.54,-2.29 L -11.54 2.29\" class=\"primitive\"/>\n",
       "  </g>\n",
       "  <g transform=\"translate(42.97,33.7)\">\n",
       "    <path fill=\"none\" d=\"M-0.06,3.74 L 0.06 -3.74\" class=\"primitive\"/>\n",
       "  </g>\n",
       "  <g transform=\"translate(27.98,38.55)\">\n",
       "    <path fill=\"none\" d=\"M11.35,1.08 L -11.35 -1.08\" class=\"primitive\"/>\n",
       "  </g>\n",
       "  <g transform=\"translate(50.18,37.67)\">\n",
       "    <path fill=\"none\" d=\"M-4.04,1.27 L 4.04 -1.27\" class=\"primitive\"/>\n",
       "  </g>\n",
       "  <g transform=\"translate(60.95,44.1)\">\n",
       "    <path fill=\"none\" d=\"M-14.68,-3.35 L 14.68 3.35\" class=\"primitive\"/>\n",
       "  </g>\n",
       "  <g transform=\"translate(80.57,36.89)\">\n",
       "    <path fill=\"none\" d=\"M1.2,-8.82 L -1.2 8.82\" class=\"primitive\"/>\n",
       "  </g>\n",
       "  <g transform=\"translate(72.1,22.05)\">\n",
       "    <path fill=\"none\" d=\"M6.81,2.38 L -6.81 -2.38\" class=\"primitive\"/>\n",
       "  </g>\n",
       "  <g transform=\"translate(93.67,52.41)\">\n",
       "    <path fill=\"none\" d=\"M11.33,3.23 L -11.33 -3.23\" class=\"primitive\"/>\n",
       "  </g>\n",
       "  <g transform=\"translate(82.64,70.69)\">\n",
       "    <path fill=\"none\" d=\"M4.58,-1.58 L -4.58 1.58\" class=\"primitive\"/>\n",
       "  </g>\n",
       "  <g transform=\"translate(84.73,58.11)\">\n",
       "    <path fill=\"none\" d=\"M4.35,7.54 L -4.35 -7.54\" class=\"primitive\"/>\n",
       "  </g>\n",
       "  <g transform=\"translate(69.73,51.38)\">\n",
       "    <path fill=\"none\" d=\"M6.08,-2.06 L -6.08 2.06\" class=\"primitive\"/>\n",
       "  </g>\n",
       "  <g transform=\"translate(60.95,44.1)\">\n",
       "    <path fill=\"none\" d=\"M14.68,3.35 L -14.68 -3.35\" class=\"primitive\"/>\n",
       "  </g>\n",
       "  <g transform=\"translate(80.57,36.89)\">\n",
       "    <path fill=\"none\" d=\"M-1.2,8.82 L 1.2 -8.82\" class=\"primitive\"/>\n",
       "  </g>\n",
       "  <g transform=\"translate(93.67,52.41)\">\n",
       "    <path fill=\"none\" d=\"M-11.33,-3.23 L 11.33 3.23\" class=\"primitive\"/>\n",
       "  </g>\n",
       "  <g transform=\"translate(84.73,58.11)\">\n",
       "    <path fill=\"none\" d=\"M-4.35,-7.54 L 4.35 7.54\" class=\"primitive\"/>\n",
       "  </g>\n",
       "  <g transform=\"translate(34.31,17.89)\">\n",
       "    <path fill=\"none\" d=\"M-6.82,-7.44 L 6.82 7.44\" class=\"primitive\"/>\n",
       "  </g>\n",
       "  <g transform=\"translate(52.58,23)\">\n",
       "    <path fill=\"none\" d=\"M6.53,-3.05 L -6.53 3.05\" class=\"primitive\"/>\n",
       "  </g>\n",
       "  <g transform=\"translate(59.79,26.96)\">\n",
       "    <path fill=\"none\" d=\"M1.62,-5.93 L -1.62 5.93\" class=\"primitive\"/>\n",
       "  </g>\n",
       "  <g transform=\"translate(72.1,22.05)\">\n",
       "    <path fill=\"none\" d=\"M-6.81,-2.38 L 6.81 2.38\" class=\"primitive\"/>\n",
       "  </g>\n",
       "</g>\n",
       "<g stroke-width=\"0.73\" stroke=\"#D3D3D3\" id=\"img-0de26c6f-2\">\n",
       "  <g transform=\"translate(58.27,59.44)\">\n",
       "    <path fill=\"none\" d=\"M-2.47,0.82 L 1.1 -2.49 1.37 1.67\" class=\"primitive\"/>\n",
       "  </g>\n",
       "  <g transform=\"translate(67.33,52.91)\">\n",
       "    <path fill=\"none\" d=\"M2.39,0.94 L -3.5 0.83 1.11 -1.76\" class=\"primitive\"/>\n",
       "  </g>\n",
       "  <g transform=\"translate(122.64,40.72)\">\n",
       "    <path fill=\"none\" d=\"M-2.32,-1.02 L 3.55 -0.71 -1.23 1.72\" class=\"primitive\"/>\n",
       "  </g>\n",
       "  <g transform=\"translate(63.89,59.06)\">\n",
       "    <path fill=\"none\" d=\"M-0.89,1.83 L -1.76 -2.3 2.65 0.47\" class=\"primitive\"/>\n",
       "  </g>\n",
       "  <g transform=\"translate(83.91,70.25)\">\n",
       "    <path fill=\"none\" d=\"M-2.54,-0.71 L 3.32 -1.15 -0.77 1.85\" class=\"primitive\"/>\n",
       "  </g>\n",
       "  <g transform=\"translate(57.44,49.86)\">\n",
       "    <path fill=\"none\" d=\"M1.07,-1.78 L 1.52 2.38 -2.6 -0.6\" class=\"primitive\"/>\n",
       "  </g>\n",
       "  <g transform=\"translate(42.96,34.83)\">\n",
       "    <path fill=\"none\" d=\"M2.04,-1.29 L -0.04 2.61 -1.99 -1.32\" class=\"primitive\"/>\n",
       "  </g>\n",
       "  <g transform=\"translate(29.49,12.64)\">\n",
       "    <path fill=\"none\" d=\"M-0.69,1.87 L -2.01 -2.19 2.7 0.32\" class=\"primitive\"/>\n",
       "  </g>\n",
       "  <g transform=\"translate(56.03,21.38)\">\n",
       "    <path fill=\"none\" d=\"M-2.65,-0.47 L 3.08 -1.44 -0.43 1.91\" class=\"primitive\"/>\n",
       "  </g>\n",
       "  <g transform=\"translate(16.55,87.79)\">\n",
       "    <path fill=\"none\" d=\"M2.73,-0.05 L -2.42 1.97 -0.31 -1.92\" class=\"primitive\"/>\n",
       "  </g>\n",
       "  <g transform=\"translate(55.38,58.23)\">\n",
       "    <path fill=\"none\" d=\"M-2.73,-0.05 L 2.57 -1.87 0.16 1.93\" class=\"primitive\"/>\n",
       "  </g>\n",
       "  <g transform=\"translate(35.67,39.28)\">\n",
       "    <path fill=\"none\" d=\"M-1.56,-1.59 L 3.66 0.35 -2.1 1.24\" class=\"primitive\"/>\n",
       "  </g>\n",
       "  <g transform=\"translate(26.31,79.85)\">\n",
       "    <path fill=\"none\" d=\"M-2.73,0.05 L 2.42 -1.97 0.31 1.92\" class=\"primitive\"/>\n",
       "  </g>\n",
       "  <g transform=\"translate(53.91,69.29)\">\n",
       "    <path fill=\"none\" d=\"M2.47,-0.82 L -1.1 2.49 -1.37 -1.67\" class=\"primitive\"/>\n",
       "  </g>\n",
       "  <g transform=\"translate(92.79,46.91)\">\n",
       "    <path fill=\"none\" d=\"M-2.39,-0.94 L 3.5 -0.83 -1.11 1.76\" class=\"primitive\"/>\n",
       "  </g>\n",
       "  <g transform=\"translate(71.4,68.86)\">\n",
       "    <path fill=\"none\" d=\"M0.89,-1.83 L 1.76 2.3 -2.65 -0.47\" class=\"primitive\"/>\n",
       "  </g>\n",
       "  <g transform=\"translate(46.07,32.12)\">\n",
       "    <path fill=\"none\" d=\"M-1.07,1.78 L -1.52 -2.38 2.6 0.6\" class=\"primitive\"/>\n",
       "  </g>\n",
       "  <g transform=\"translate(36.13,72.28)\">\n",
       "    <path fill=\"none\" d=\"M2.73,0.05 L -2.57 1.87 -0.16 -1.93\" class=\"primitive\"/>\n",
       "  </g>\n",
       "  <g transform=\"translate(58.28,40.48)\">\n",
       "    <path fill=\"none\" d=\"M-1.8,1.45 L -0.4 -2.59 2.2 1.14\" class=\"primitive\"/>\n",
       "  </g>\n",
       "  <g transform=\"translate(72.48,50.45)\">\n",
       "    <path fill=\"none\" d=\"M-2.54,-0.72 L 3.33 -1.13 -0.79 1.85\" class=\"primitive\"/>\n",
       "  </g>\n",
       "  <g transform=\"translate(59.65,49.43)\">\n",
       "    <path fill=\"none\" d=\"M1.8,-1.45 L 0.4 2.59 -2.2 -1.14\" class=\"primitive\"/>\n",
       "  </g>\n",
       "  <g transform=\"translate(49.51,37.88)\">\n",
       "    <path fill=\"none\" d=\"M2.5,0.77 L -3.37 1.06 0.87 -1.83\" class=\"primitive\"/>\n",
       "  </g>\n",
       "  <g transform=\"translate(60.71,23.6)\">\n",
       "    <path fill=\"none\" d=\"M-2.33,1.01 L 0.7 -2.56 1.63 1.55\" class=\"primitive\"/>\n",
       "  </g>\n",
       "  <g transform=\"translate(106.68,43.89)\">\n",
       "    <path fill=\"none\" d=\"M2.32,1.02 L -3.55 0.71 1.23 -1.72\" class=\"primitive\"/>\n",
       "  </g>\n",
       "  <g transform=\"translate(42.99,32.58)\">\n",
       "    <path fill=\"none\" d=\"M-2.04,1.29 L 0.04 -2.61 1.99 1.32\" class=\"primitive\"/>\n",
       "  </g>\n",
       "  <g transform=\"translate(20.29,37.82)\">\n",
       "    <path fill=\"none\" d=\"M1.56,1.59 L -3.66 -0.35 2.1 -1.24\" class=\"primitive\"/>\n",
       "  </g>\n",
       "  <g transform=\"translate(50.85,37.46)\">\n",
       "    <path fill=\"none\" d=\"M-2.5,-0.77 L 3.37 -1.06 -0.87 1.83\" class=\"primitive\"/>\n",
       "  </g>\n",
       "  <g transform=\"translate(72.12,46.65)\">\n",
       "    <path fill=\"none\" d=\"M-1.14,-1.76 L 3.51 0.8 -2.38 0.95\" class=\"primitive\"/>\n",
       "  </g>\n",
       "  <g transform=\"translate(79.73,43.11)\">\n",
       "    <path fill=\"none\" d=\"M2.18,-1.16 L -0.35 2.6 -1.83 -1.44\" class=\"primitive\"/>\n",
       "  </g>\n",
       "  <g transform=\"translate(68.6,20.83)\">\n",
       "    <path fill=\"none\" d=\"M0.76,1.86 L -3.31 -1.16 2.55 -0.7\" class=\"primitive\"/>\n",
       "  </g>\n",
       "  <g transform=\"translate(85.77,50.15)\">\n",
       "    <path fill=\"none\" d=\"M0.96,1.81 L -3.42 -0.98 2.47 -0.83\" class=\"primitive\"/>\n",
       "  </g>\n",
       "  <g transform=\"translate(81.38,71.12)\">\n",
       "    <path fill=\"none\" d=\"M2.54,0.71 L -3.32 1.15 0.77 -1.85\" class=\"primitive\"/>\n",
       "  </g>\n",
       "  <g transform=\"translate(81.77,52.98)\">\n",
       "    <path fill=\"none\" d=\"M-1.17,1.75 L -1.39 -2.42 2.56 0.67\" class=\"primitive\"/>\n",
       "  </g>\n",
       "  <g transform=\"translate(66.99,52.32)\">\n",
       "    <path fill=\"none\" d=\"M2.54,0.72 L -3.33 1.13 0.79 -1.85\" class=\"primitive\"/>\n",
       "  </g>\n",
       "  <g transform=\"translate(49.79,41.55)\">\n",
       "    <path fill=\"none\" d=\"M1.14,1.76 L -3.51 -0.8 2.38 -0.95\" class=\"primitive\"/>\n",
       "  </g>\n",
       "  <g transform=\"translate(81.42,30.66)\">\n",
       "    <path fill=\"none\" d=\"M-2.18,1.16 L 0.35 -2.6 1.83 1.44\" class=\"primitive\"/>\n",
       "  </g>\n",
       "  <g transform=\"translate(101.57,54.66)\">\n",
       "    <path fill=\"none\" d=\"M-0.96,-1.81 L 3.42 0.98 -2.47 0.83\" class=\"primitive\"/>\n",
       "  </g>\n",
       "  <g transform=\"translate(87.69,63.23)\">\n",
       "    <path fill=\"none\" d=\"M1.17,-1.75 L 1.39 2.42 -2.56 -0.67\" class=\"primitive\"/>\n",
       "  </g>\n",
       "  <g transform=\"translate(39.12,23.13)\">\n",
       "    <path fill=\"none\" d=\"M0.69,-1.87 L 2.01 2.19 -2.7 -0.32\" class=\"primitive\"/>\n",
       "  </g>\n",
       "  <g transform=\"translate(49.13,24.61)\">\n",
       "    <path fill=\"none\" d=\"M2.65,0.47 L -3.08 1.44 0.43 -1.91\" class=\"primitive\"/>\n",
       "  </g>\n",
       "  <g transform=\"translate(58.87,30.33)\">\n",
       "    <path fill=\"none\" d=\"M2.33,-1.01 L -0.7 2.56 -1.63 -1.55\" class=\"primitive\"/>\n",
       "  </g>\n",
       "  <g transform=\"translate(75.6,23.27)\">\n",
       "    <path fill=\"none\" d=\"M-0.76,-1.86 L 3.31 1.16 -2.55 0.7\" class=\"primitive\"/>\n",
       "  </g>\n",
       "</g>\n",
       "<g font-size=\"4\" stroke=\"#000000\" stroke-opacity=\"0.000\" fill=\"#000000\" id=\"img-0de26c6f-3\">\n",
       "</g>\n",
       "<g stroke-width=\"0\" stroke=\"#000000\" stroke-opacity=\"0.000\" fill=\"#40E0D0\" id=\"img-0de26c6f-4\">\n",
       "  <g transform=\"translate(51.74,74.19)\">\n",
       "    <circle cx=\"0\" cy=\"0\" r=\"3.43\" class=\"primitive\"/>\n",
       "  </g>\n",
       "  <g transform=\"translate(99.68,45.28)\">\n",
       "    <circle cx=\"0\" cy=\"0\" r=\"3.43\" class=\"primitive\"/>\n",
       "  </g>\n",
       "  <g transform=\"translate(74.86,73.38)\">\n",
       "    <circle cx=\"0\" cy=\"0\" r=\"3.43\" class=\"primitive\"/>\n",
       "  </g>\n",
       "  <g transform=\"translate(43.08,27.44)\">\n",
       "    <circle cx=\"0\" cy=\"0\" r=\"3.43\" class=\"primitive\"/>\n",
       "  </g>\n",
       "  <g transform=\"translate(31.08,75.97)\">\n",
       "    <circle cx=\"0\" cy=\"0\" r=\"3.43\" class=\"primitive\"/>\n",
       "  </g>\n",
       "  <g transform=\"translate(13.09,37.13)\">\n",
       "    <circle cx=\"0\" cy=\"0\" r=\"3.43\" class=\"primitive\"/>\n",
       "  </g>\n",
       "  <g transform=\"translate(11.79,91.67)\">\n",
       "    <circle cx=\"0\" cy=\"0\" r=\"3.43\" class=\"primitive\"/>\n",
       "  </g>\n",
       "  <g transform=\"translate(60.44,54.54)\">\n",
       "    <circle cx=\"0\" cy=\"0\" r=\"3.43\" class=\"primitive\"/>\n",
       "  </g>\n",
       "  <g transform=\"translate(57.49,35.38)\">\n",
       "    <circle cx=\"0\" cy=\"0\" r=\"3.43\" class=\"primitive\"/>\n",
       "  </g>\n",
       "  <g transform=\"translate(129.64,39.33)\">\n",
       "    <circle cx=\"0\" cy=\"0\" r=\"3.43\" class=\"primitive\"/>\n",
       "  </g>\n",
       "  <g transform=\"translate(42.87,39.97)\">\n",
       "    <circle cx=\"0\" cy=\"0\" r=\"3.43\" class=\"primitive\"/>\n",
       "  </g>\n",
       "  <g transform=\"translate(82.12,25.55)\">\n",
       "    <circle cx=\"0\" cy=\"0\" r=\"3.43\" class=\"primitive\"/>\n",
       "  </g>\n",
       "  <g transform=\"translate(108.31,56.59)\">\n",
       "    <circle cx=\"0\" cy=\"0\" r=\"3.43\" class=\"primitive\"/>\n",
       "  </g>\n",
       "  <g transform=\"translate(90.43,67.99)\">\n",
       "    <circle cx=\"0\" cy=\"0\" r=\"3.43\" class=\"primitive\"/>\n",
       "  </g>\n",
       "  <g transform=\"translate(79.03,48.23)\">\n",
       "    <circle cx=\"0\" cy=\"0\" r=\"3.43\" class=\"primitive\"/>\n",
       "  </g>\n",
       "  <g transform=\"translate(25.54,8.33)\">\n",
       "    <circle cx=\"0\" cy=\"0\" r=\"3.43\" class=\"primitive\"/>\n",
       "  </g>\n",
       "  <g transform=\"translate(62.09,18.55)\">\n",
       "    <circle cx=\"0\" cy=\"0\" r=\"3.43\" class=\"primitive\"/>\n",
       "  </g>\n",
       "</g>\n",
       "<g font-size=\"4\" stroke=\"#000000\" stroke-opacity=\"0.000\" fill=\"#000000\" id=\"img-0de26c6f-5\">\n",
       "</g>\n",
       "</svg>\n"
      ],
      "text/html": [
       "<?xml version=\"1.0\" encoding=\"UTF-8\"?>\n",
       "<svg xmlns=\"http://www.w3.org/2000/svg\"\n",
       "     xmlns:xlink=\"http://www.w3.org/1999/xlink\"\n",
       "     version=\"1.2\"\n",
       "     width=\"141.42mm\" height=\"100mm\" viewBox=\"0 0 141.42 100\"\n",
       "     stroke=\"none\"\n",
       "     fill=\"#000000\"\n",
       "     stroke-width=\"0.3\"\n",
       "     font-size=\"3.88\"\n",
       "\n",
       "     id=\"img-6a6214a1\">\n",
       "<defs>\n",
       "  <marker id=\"arrow\" markerWidth=\"15\" markerHeight=\"7\" refX=\"5\" refY=\"3.5\" orient=\"auto\" markerUnits=\"strokeWidth\">\n",
       "    <path d=\"M0,0 L15,3.5 L0,7 z\" stroke=\"context-stroke\" fill=\"context-stroke\"/>\n",
       "  </marker>\n",
       "</defs>\n",
       "<g stroke-width=\"0.73\" fill=\"#000000\" fill-opacity=\"0.000\" stroke=\"#D3D3D3\" id=\"img-6a6214a1-1\">\n",
       "  <g transform=\"translate(56.09,64.37)\">\n",
       "    <path fill=\"none\" d=\"M-3.28,7.41 L 3.28 -7.41\" class=\"primitive\"/>\n",
       "  </g>\n",
       "  <g transform=\"translate(80.06,49.91)\">\n",
       "    <path fill=\"none\" d=\"M16.23,-3.83 L -16.23 3.83\" class=\"primitive\"/>\n",
       "  </g>\n",
       "  <g transform=\"translate(114.66,42.31)\">\n",
       "    <path fill=\"none\" d=\"M-11.54,2.29 L 11.54 -2.29\" class=\"primitive\"/>\n",
       "  </g>\n",
       "  <g transform=\"translate(67.65,63.96)\">\n",
       "    <path fill=\"none\" d=\"M5.51,7.2 L -5.51 -7.2\" class=\"primitive\"/>\n",
       "  </g>\n",
       "  <g transform=\"translate(82.64,70.69)\">\n",
       "    <path fill=\"none\" d=\"M-4.58,1.58 L 4.58 -1.58\" class=\"primitive\"/>\n",
       "  </g>\n",
       "  <g transform=\"translate(51.76,40.99)\">\n",
       "    <path fill=\"none\" d=\"M-7.21,-11.25 L 7.21 11.25\" class=\"primitive\"/>\n",
       "  </g>\n",
       "  <g transform=\"translate(42.97,33.7)\">\n",
       "    <path fill=\"none\" d=\"M0.06,-3.74 L -0.06 3.74\" class=\"primitive\"/>\n",
       "  </g>\n",
       "  <g transform=\"translate(34.31,17.89)\">\n",
       "    <path fill=\"none\" d=\"M6.82,7.44 L -6.82 -7.44\" class=\"primitive\"/>\n",
       "  </g>\n",
       "  <g transform=\"translate(52.58,23)\">\n",
       "    <path fill=\"none\" d=\"M-6.53,3.05 L 6.53 -3.05\" class=\"primitive\"/>\n",
       "  </g>\n",
       "  <g transform=\"translate(21.43,83.82)\">\n",
       "    <path fill=\"none\" d=\"M7.3,-5.94 L -7.3 5.94\" class=\"primitive\"/>\n",
       "  </g>\n",
       "  <g transform=\"translate(45.76,65.26)\">\n",
       "    <path fill=\"none\" d=\"M-12.19,8.9 L 12.19 -8.9\" class=\"primitive\"/>\n",
       "  </g>\n",
       "  <g transform=\"translate(27.98,38.55)\">\n",
       "    <path fill=\"none\" d=\"M-11.35,-1.08 L 11.35 1.08\" class=\"primitive\"/>\n",
       "  </g>\n",
       "  <g transform=\"translate(21.43,83.82)\">\n",
       "    <path fill=\"none\" d=\"M-7.3,5.94 L 7.3 -5.94\" class=\"primitive\"/>\n",
       "  </g>\n",
       "  <g transform=\"translate(56.09,64.37)\">\n",
       "    <path fill=\"none\" d=\"M3.28,-7.41 L -3.28 7.41\" class=\"primitive\"/>\n",
       "  </g>\n",
       "  <g transform=\"translate(80.06,49.91)\">\n",
       "    <path fill=\"none\" d=\"M-16.23,3.83 L 16.23 -3.83\" class=\"primitive\"/>\n",
       "  </g>\n",
       "  <g transform=\"translate(67.65,63.96)\">\n",
       "    <path fill=\"none\" d=\"M-5.51,-7.2 L 5.51 7.2\" class=\"primitive\"/>\n",
       "  </g>\n",
       "  <g transform=\"translate(51.76,40.99)\">\n",
       "    <path fill=\"none\" d=\"M7.21,11.25 L -7.21 -11.25\" class=\"primitive\"/>\n",
       "  </g>\n",
       "  <g transform=\"translate(45.76,65.26)\">\n",
       "    <path fill=\"none\" d=\"M12.19,-8.9 L -12.19 8.9\" class=\"primitive\"/>\n",
       "  </g>\n",
       "  <g transform=\"translate(58.97,44.96)\">\n",
       "    <path fill=\"none\" d=\"M1.09,7.07 L -1.09 -7.07\" class=\"primitive\"/>\n",
       "  </g>\n",
       "  <g transform=\"translate(69.73,51.38)\">\n",
       "    <path fill=\"none\" d=\"M-6.08,2.06 L 6.08 -2.06\" class=\"primitive\"/>\n",
       "  </g>\n",
       "  <g transform=\"translate(58.97,44.96)\">\n",
       "    <path fill=\"none\" d=\"M-1.09,-7.07 L 1.09 7.07\" class=\"primitive\"/>\n",
       "  </g>\n",
       "  <g transform=\"translate(50.18,37.67)\">\n",
       "    <path fill=\"none\" d=\"M4.04,-1.27 L -4.04 1.27\" class=\"primitive\"/>\n",
       "  </g>\n",
       "  <g transform=\"translate(59.79,26.96)\">\n",
       "    <path fill=\"none\" d=\"M-1.62,5.93 L 1.62 -5.93\" class=\"primitive\"/>\n",
       "  </g>\n",
       "  <g transform=\"translate(114.66,42.31)\">\n",
       "    <path fill=\"none\" d=\"M11.54,-2.29 L -11.54 2.29\" class=\"primitive\"/>\n",
       "  </g>\n",
       "  <g transform=\"translate(42.97,33.7)\">\n",
       "    <path fill=\"none\" d=\"M-0.06,3.74 L 0.06 -3.74\" class=\"primitive\"/>\n",
       "  </g>\n",
       "  <g transform=\"translate(27.98,38.55)\">\n",
       "    <path fill=\"none\" d=\"M11.35,1.08 L -11.35 -1.08\" class=\"primitive\"/>\n",
       "  </g>\n",
       "  <g transform=\"translate(50.18,37.67)\">\n",
       "    <path fill=\"none\" d=\"M-4.04,1.27 L 4.04 -1.27\" class=\"primitive\"/>\n",
       "  </g>\n",
       "  <g transform=\"translate(60.95,44.1)\">\n",
       "    <path fill=\"none\" d=\"M-14.68,-3.35 L 14.68 3.35\" class=\"primitive\"/>\n",
       "  </g>\n",
       "  <g transform=\"translate(80.57,36.89)\">\n",
       "    <path fill=\"none\" d=\"M1.2,-8.82 L -1.2 8.82\" class=\"primitive\"/>\n",
       "  </g>\n",
       "  <g transform=\"translate(72.1,22.05)\">\n",
       "    <path fill=\"none\" d=\"M6.81,2.38 L -6.81 -2.38\" class=\"primitive\"/>\n",
       "  </g>\n",
       "  <g transform=\"translate(93.67,52.41)\">\n",
       "    <path fill=\"none\" d=\"M11.33,3.23 L -11.33 -3.23\" class=\"primitive\"/>\n",
       "  </g>\n",
       "  <g transform=\"translate(82.64,70.69)\">\n",
       "    <path fill=\"none\" d=\"M4.58,-1.58 L -4.58 1.58\" class=\"primitive\"/>\n",
       "  </g>\n",
       "  <g transform=\"translate(84.73,58.11)\">\n",
       "    <path fill=\"none\" d=\"M4.35,7.54 L -4.35 -7.54\" class=\"primitive\"/>\n",
       "  </g>\n",
       "  <g transform=\"translate(69.73,51.38)\">\n",
       "    <path fill=\"none\" d=\"M6.08,-2.06 L -6.08 2.06\" class=\"primitive\"/>\n",
       "  </g>\n",
       "  <g transform=\"translate(60.95,44.1)\">\n",
       "    <path fill=\"none\" d=\"M14.68,3.35 L -14.68 -3.35\" class=\"primitive\"/>\n",
       "  </g>\n",
       "  <g transform=\"translate(80.57,36.89)\">\n",
       "    <path fill=\"none\" d=\"M-1.2,8.82 L 1.2 -8.82\" class=\"primitive\"/>\n",
       "  </g>\n",
       "  <g transform=\"translate(93.67,52.41)\">\n",
       "    <path fill=\"none\" d=\"M-11.33,-3.23 L 11.33 3.23\" class=\"primitive\"/>\n",
       "  </g>\n",
       "  <g transform=\"translate(84.73,58.11)\">\n",
       "    <path fill=\"none\" d=\"M-4.35,-7.54 L 4.35 7.54\" class=\"primitive\"/>\n",
       "  </g>\n",
       "  <g transform=\"translate(34.31,17.89)\">\n",
       "    <path fill=\"none\" d=\"M-6.82,-7.44 L 6.82 7.44\" class=\"primitive\"/>\n",
       "  </g>\n",
       "  <g transform=\"translate(52.58,23)\">\n",
       "    <path fill=\"none\" d=\"M6.53,-3.05 L -6.53 3.05\" class=\"primitive\"/>\n",
       "  </g>\n",
       "  <g transform=\"translate(59.79,26.96)\">\n",
       "    <path fill=\"none\" d=\"M1.62,-5.93 L -1.62 5.93\" class=\"primitive\"/>\n",
       "  </g>\n",
       "  <g transform=\"translate(72.1,22.05)\">\n",
       "    <path fill=\"none\" d=\"M-6.81,-2.38 L 6.81 2.38\" class=\"primitive\"/>\n",
       "  </g>\n",
       "</g>\n",
       "<g stroke-width=\"0.73\" stroke=\"#D3D3D3\" id=\"img-6a6214a1-2\">\n",
       "  <g transform=\"translate(58.27,59.44)\">\n",
       "    <path fill=\"none\" d=\"M-2.47,0.82 L 1.1 -2.49 1.37 1.67\" class=\"primitive\"/>\n",
       "  </g>\n",
       "  <g transform=\"translate(67.33,52.91)\">\n",
       "    <path fill=\"none\" d=\"M2.39,0.94 L -3.5 0.83 1.11 -1.76\" class=\"primitive\"/>\n",
       "  </g>\n",
       "  <g transform=\"translate(122.64,40.72)\">\n",
       "    <path fill=\"none\" d=\"M-2.32,-1.02 L 3.55 -0.71 -1.23 1.72\" class=\"primitive\"/>\n",
       "  </g>\n",
       "  <g transform=\"translate(63.89,59.06)\">\n",
       "    <path fill=\"none\" d=\"M-0.89,1.83 L -1.76 -2.3 2.65 0.47\" class=\"primitive\"/>\n",
       "  </g>\n",
       "  <g transform=\"translate(83.91,70.25)\">\n",
       "    <path fill=\"none\" d=\"M-2.54,-0.71 L 3.32 -1.15 -0.77 1.85\" class=\"primitive\"/>\n",
       "  </g>\n",
       "  <g transform=\"translate(57.44,49.86)\">\n",
       "    <path fill=\"none\" d=\"M1.07,-1.78 L 1.52 2.38 -2.6 -0.6\" class=\"primitive\"/>\n",
       "  </g>\n",
       "  <g transform=\"translate(42.96,34.83)\">\n",
       "    <path fill=\"none\" d=\"M2.04,-1.29 L -0.04 2.61 -1.99 -1.32\" class=\"primitive\"/>\n",
       "  </g>\n",
       "  <g transform=\"translate(29.49,12.64)\">\n",
       "    <path fill=\"none\" d=\"M-0.69,1.87 L -2.01 -2.19 2.7 0.32\" class=\"primitive\"/>\n",
       "  </g>\n",
       "  <g transform=\"translate(56.03,21.38)\">\n",
       "    <path fill=\"none\" d=\"M-2.65,-0.47 L 3.08 -1.44 -0.43 1.91\" class=\"primitive\"/>\n",
       "  </g>\n",
       "  <g transform=\"translate(16.55,87.79)\">\n",
       "    <path fill=\"none\" d=\"M2.73,-0.05 L -2.42 1.97 -0.31 -1.92\" class=\"primitive\"/>\n",
       "  </g>\n",
       "  <g transform=\"translate(55.38,58.23)\">\n",
       "    <path fill=\"none\" d=\"M-2.73,-0.05 L 2.57 -1.87 0.16 1.93\" class=\"primitive\"/>\n",
       "  </g>\n",
       "  <g transform=\"translate(35.67,39.28)\">\n",
       "    <path fill=\"none\" d=\"M-1.56,-1.59 L 3.66 0.35 -2.1 1.24\" class=\"primitive\"/>\n",
       "  </g>\n",
       "  <g transform=\"translate(26.31,79.85)\">\n",
       "    <path fill=\"none\" d=\"M-2.73,0.05 L 2.42 -1.97 0.31 1.92\" class=\"primitive\"/>\n",
       "  </g>\n",
       "  <g transform=\"translate(53.91,69.29)\">\n",
       "    <path fill=\"none\" d=\"M2.47,-0.82 L -1.1 2.49 -1.37 -1.67\" class=\"primitive\"/>\n",
       "  </g>\n",
       "  <g transform=\"translate(92.79,46.91)\">\n",
       "    <path fill=\"none\" d=\"M-2.39,-0.94 L 3.5 -0.83 -1.11 1.76\" class=\"primitive\"/>\n",
       "  </g>\n",
       "  <g transform=\"translate(71.4,68.86)\">\n",
       "    <path fill=\"none\" d=\"M0.89,-1.83 L 1.76 2.3 -2.65 -0.47\" class=\"primitive\"/>\n",
       "  </g>\n",
       "  <g transform=\"translate(46.07,32.12)\">\n",
       "    <path fill=\"none\" d=\"M-1.07,1.78 L -1.52 -2.38 2.6 0.6\" class=\"primitive\"/>\n",
       "  </g>\n",
       "  <g transform=\"translate(36.13,72.28)\">\n",
       "    <path fill=\"none\" d=\"M2.73,0.05 L -2.57 1.87 -0.16 -1.93\" class=\"primitive\"/>\n",
       "  </g>\n",
       "  <g transform=\"translate(58.28,40.48)\">\n",
       "    <path fill=\"none\" d=\"M-1.8,1.45 L -0.4 -2.59 2.2 1.14\" class=\"primitive\"/>\n",
       "  </g>\n",
       "  <g transform=\"translate(72.48,50.45)\">\n",
       "    <path fill=\"none\" d=\"M-2.54,-0.72 L 3.33 -1.13 -0.79 1.85\" class=\"primitive\"/>\n",
       "  </g>\n",
       "  <g transform=\"translate(59.65,49.43)\">\n",
       "    <path fill=\"none\" d=\"M1.8,-1.45 L 0.4 2.59 -2.2 -1.14\" class=\"primitive\"/>\n",
       "  </g>\n",
       "  <g transform=\"translate(49.51,37.88)\">\n",
       "    <path fill=\"none\" d=\"M2.5,0.77 L -3.37 1.06 0.87 -1.83\" class=\"primitive\"/>\n",
       "  </g>\n",
       "  <g transform=\"translate(60.71,23.6)\">\n",
       "    <path fill=\"none\" d=\"M-2.33,1.01 L 0.7 -2.56 1.63 1.55\" class=\"primitive\"/>\n",
       "  </g>\n",
       "  <g transform=\"translate(106.68,43.89)\">\n",
       "    <path fill=\"none\" d=\"M2.32,1.02 L -3.55 0.71 1.23 -1.72\" class=\"primitive\"/>\n",
       "  </g>\n",
       "  <g transform=\"translate(42.99,32.58)\">\n",
       "    <path fill=\"none\" d=\"M-2.04,1.29 L 0.04 -2.61 1.99 1.32\" class=\"primitive\"/>\n",
       "  </g>\n",
       "  <g transform=\"translate(20.29,37.82)\">\n",
       "    <path fill=\"none\" d=\"M1.56,1.59 L -3.66 -0.35 2.1 -1.24\" class=\"primitive\"/>\n",
       "  </g>\n",
       "  <g transform=\"translate(50.85,37.46)\">\n",
       "    <path fill=\"none\" d=\"M-2.5,-0.77 L 3.37 -1.06 -0.87 1.83\" class=\"primitive\"/>\n",
       "  </g>\n",
       "  <g transform=\"translate(72.12,46.65)\">\n",
       "    <path fill=\"none\" d=\"M-1.14,-1.76 L 3.51 0.8 -2.38 0.95\" class=\"primitive\"/>\n",
       "  </g>\n",
       "  <g transform=\"translate(79.73,43.11)\">\n",
       "    <path fill=\"none\" d=\"M2.18,-1.16 L -0.35 2.6 -1.83 -1.44\" class=\"primitive\"/>\n",
       "  </g>\n",
       "  <g transform=\"translate(68.6,20.83)\">\n",
       "    <path fill=\"none\" d=\"M0.76,1.86 L -3.31 -1.16 2.55 -0.7\" class=\"primitive\"/>\n",
       "  </g>\n",
       "  <g transform=\"translate(85.77,50.15)\">\n",
       "    <path fill=\"none\" d=\"M0.96,1.81 L -3.42 -0.98 2.47 -0.83\" class=\"primitive\"/>\n",
       "  </g>\n",
       "  <g transform=\"translate(81.38,71.12)\">\n",
       "    <path fill=\"none\" d=\"M2.54,0.71 L -3.32 1.15 0.77 -1.85\" class=\"primitive\"/>\n",
       "  </g>\n",
       "  <g transform=\"translate(81.77,52.98)\">\n",
       "    <path fill=\"none\" d=\"M-1.17,1.75 L -1.39 -2.42 2.56 0.67\" class=\"primitive\"/>\n",
       "  </g>\n",
       "  <g transform=\"translate(66.99,52.32)\">\n",
       "    <path fill=\"none\" d=\"M2.54,0.72 L -3.33 1.13 0.79 -1.85\" class=\"primitive\"/>\n",
       "  </g>\n",
       "  <g transform=\"translate(49.79,41.55)\">\n",
       "    <path fill=\"none\" d=\"M1.14,1.76 L -3.51 -0.8 2.38 -0.95\" class=\"primitive\"/>\n",
       "  </g>\n",
       "  <g transform=\"translate(81.42,30.66)\">\n",
       "    <path fill=\"none\" d=\"M-2.18,1.16 L 0.35 -2.6 1.83 1.44\" class=\"primitive\"/>\n",
       "  </g>\n",
       "  <g transform=\"translate(101.57,54.66)\">\n",
       "    <path fill=\"none\" d=\"M-0.96,-1.81 L 3.42 0.98 -2.47 0.83\" class=\"primitive\"/>\n",
       "  </g>\n",
       "  <g transform=\"translate(87.69,63.23)\">\n",
       "    <path fill=\"none\" d=\"M1.17,-1.75 L 1.39 2.42 -2.56 -0.67\" class=\"primitive\"/>\n",
       "  </g>\n",
       "  <g transform=\"translate(39.12,23.13)\">\n",
       "    <path fill=\"none\" d=\"M0.69,-1.87 L 2.01 2.19 -2.7 -0.32\" class=\"primitive\"/>\n",
       "  </g>\n",
       "  <g transform=\"translate(49.13,24.61)\">\n",
       "    <path fill=\"none\" d=\"M2.65,0.47 L -3.08 1.44 0.43 -1.91\" class=\"primitive\"/>\n",
       "  </g>\n",
       "  <g transform=\"translate(58.87,30.33)\">\n",
       "    <path fill=\"none\" d=\"M2.33,-1.01 L -0.7 2.56 -1.63 -1.55\" class=\"primitive\"/>\n",
       "  </g>\n",
       "  <g transform=\"translate(75.6,23.27)\">\n",
       "    <path fill=\"none\" d=\"M-0.76,-1.86 L 3.31 1.16 -2.55 0.7\" class=\"primitive\"/>\n",
       "  </g>\n",
       "</g>\n",
       "<g font-size=\"4\" stroke=\"#000000\" stroke-opacity=\"0.000\" fill=\"#000000\" id=\"img-6a6214a1-3\">\n",
       "</g>\n",
       "<g stroke-width=\"0\" stroke=\"#000000\" stroke-opacity=\"0.000\" fill=\"#40E0D0\" id=\"img-6a6214a1-4\">\n",
       "  <g transform=\"translate(51.74,74.19)\">\n",
       "    <circle cx=\"0\" cy=\"0\" r=\"3.43\" class=\"primitive\"/>\n",
       "  </g>\n",
       "  <g transform=\"translate(99.68,45.28)\">\n",
       "    <circle cx=\"0\" cy=\"0\" r=\"3.43\" class=\"primitive\"/>\n",
       "  </g>\n",
       "  <g transform=\"translate(74.86,73.38)\">\n",
       "    <circle cx=\"0\" cy=\"0\" r=\"3.43\" class=\"primitive\"/>\n",
       "  </g>\n",
       "  <g transform=\"translate(43.08,27.44)\">\n",
       "    <circle cx=\"0\" cy=\"0\" r=\"3.43\" class=\"primitive\"/>\n",
       "  </g>\n",
       "  <g transform=\"translate(31.08,75.97)\">\n",
       "    <circle cx=\"0\" cy=\"0\" r=\"3.43\" class=\"primitive\"/>\n",
       "  </g>\n",
       "  <g transform=\"translate(13.09,37.13)\">\n",
       "    <circle cx=\"0\" cy=\"0\" r=\"3.43\" class=\"primitive\"/>\n",
       "  </g>\n",
       "  <g transform=\"translate(11.79,91.67)\">\n",
       "    <circle cx=\"0\" cy=\"0\" r=\"3.43\" class=\"primitive\"/>\n",
       "  </g>\n",
       "  <g transform=\"translate(60.44,54.54)\">\n",
       "    <circle cx=\"0\" cy=\"0\" r=\"3.43\" class=\"primitive\"/>\n",
       "  </g>\n",
       "  <g transform=\"translate(57.49,35.38)\">\n",
       "    <circle cx=\"0\" cy=\"0\" r=\"3.43\" class=\"primitive\"/>\n",
       "  </g>\n",
       "  <g transform=\"translate(129.64,39.33)\">\n",
       "    <circle cx=\"0\" cy=\"0\" r=\"3.43\" class=\"primitive\"/>\n",
       "  </g>\n",
       "  <g transform=\"translate(42.87,39.97)\">\n",
       "    <circle cx=\"0\" cy=\"0\" r=\"3.43\" class=\"primitive\"/>\n",
       "  </g>\n",
       "  <g transform=\"translate(82.12,25.55)\">\n",
       "    <circle cx=\"0\" cy=\"0\" r=\"3.43\" class=\"primitive\"/>\n",
       "  </g>\n",
       "  <g transform=\"translate(108.31,56.59)\">\n",
       "    <circle cx=\"0\" cy=\"0\" r=\"3.43\" class=\"primitive\"/>\n",
       "  </g>\n",
       "  <g transform=\"translate(90.43,67.99)\">\n",
       "    <circle cx=\"0\" cy=\"0\" r=\"3.43\" class=\"primitive\"/>\n",
       "  </g>\n",
       "  <g transform=\"translate(79.03,48.23)\">\n",
       "    <circle cx=\"0\" cy=\"0\" r=\"3.43\" class=\"primitive\"/>\n",
       "  </g>\n",
       "  <g transform=\"translate(25.54,8.33)\">\n",
       "    <circle cx=\"0\" cy=\"0\" r=\"3.43\" class=\"primitive\"/>\n",
       "  </g>\n",
       "  <g transform=\"translate(62.09,18.55)\">\n",
       "    <circle cx=\"0\" cy=\"0\" r=\"3.43\" class=\"primitive\"/>\n",
       "  </g>\n",
       "</g>\n",
       "<g font-size=\"4\" stroke=\"#000000\" stroke-opacity=\"0.000\" fill=\"#000000\" id=\"img-6a6214a1-5\">\n",
       "</g>\n",
       "<script> <![CDATA[\n",
       "(function(N){var k=/[\\.\\/]/,L=/\\s*,\\s*/,C=function(a,d){return a-d},a,v,y={n:{}},M=function(){for(var a=0,d=this.length;a<d;a++)if(\"undefined\"!=typeof this[a])return this[a]},A=function(){for(var a=this.length;--a;)if(\"undefined\"!=typeof this[a])return this[a]},w=function(k,d){k=String(k);var f=v,n=Array.prototype.slice.call(arguments,2),u=w.listeners(k),p=0,b,q=[],e={},l=[],r=a;l.firstDefined=M;l.lastDefined=A;a=k;for(var s=v=0,x=u.length;s<x;s++)\"zIndex\"in u[s]&&(q.push(u[s].zIndex),0>u[s].zIndex&&\n",
       "(e[u[s].zIndex]=u[s]));for(q.sort(C);0>q[p];)if(b=e[q[p++] ],l.push(b.apply(d,n)),v)return v=f,l;for(s=0;s<x;s++)if(b=u[s],\"zIndex\"in b)if(b.zIndex==q[p]){l.push(b.apply(d,n));if(v)break;do if(p++,(b=e[q[p] ])&&l.push(b.apply(d,n)),v)break;while(b)}else e[b.zIndex]=b;else if(l.push(b.apply(d,n)),v)break;v=f;a=r;return l};w._events=y;w.listeners=function(a){a=a.split(k);var d=y,f,n,u,p,b,q,e,l=[d],r=[];u=0;for(p=a.length;u<p;u++){e=[];b=0;for(q=l.length;b<q;b++)for(d=l[b].n,f=[d[a[u] ],d[\"*\"] ],n=2;n--;)if(d=\n",
       "f[n])e.push(d),r=r.concat(d.f||[]);l=e}return r};w.on=function(a,d){a=String(a);if(\"function\"!=typeof d)return function(){};for(var f=a.split(L),n=0,u=f.length;n<u;n++)(function(a){a=a.split(k);for(var b=y,f,e=0,l=a.length;e<l;e++)b=b.n,b=b.hasOwnProperty(a[e])&&b[a[e] ]||(b[a[e] ]={n:{}});b.f=b.f||[];e=0;for(l=b.f.length;e<l;e++)if(b.f[e]==d){f=!0;break}!f&&b.f.push(d)})(f[n]);return function(a){+a==+a&&(d.zIndex=+a)}};w.f=function(a){var d=[].slice.call(arguments,1);return function(){w.apply(null,\n",
       "[a,null].concat(d).concat([].slice.call(arguments,0)))}};w.stop=function(){v=1};w.nt=function(k){return k?(new RegExp(\"(?:\\\\.|\\\\/|^)\"+k+\"(?:\\\\.|\\\\/|$)\")).test(a):a};w.nts=function(){return a.split(k)};w.off=w.unbind=function(a,d){if(a){var f=a.split(L);if(1<f.length)for(var n=0,u=f.length;n<u;n++)w.off(f[n],d);else{for(var f=a.split(k),p,b,q,e,l=[y],n=0,u=f.length;n<u;n++)for(e=0;e<l.length;e+=q.length-2){q=[e,1];p=l[e].n;if(\"*\"!=f[n])p[f[n] ]&&q.push(p[f[n] ]);else for(b in p)p.hasOwnProperty(b)&&\n",
       "q.push(p[b]);l.splice.apply(l,q)}n=0;for(u=l.length;n<u;n++)for(p=l[n];p.n;){if(d){if(p.f){e=0;for(f=p.f.length;e<f;e++)if(p.f[e]==d){p.f.splice(e,1);break}!p.f.length&&delete p.f}for(b in p.n)if(p.n.hasOwnProperty(b)&&p.n[b].f){q=p.n[b].f;e=0;for(f=q.length;e<f;e++)if(q[e]==d){q.splice(e,1);break}!q.length&&delete p.n[b].f}}else for(b in delete p.f,p.n)p.n.hasOwnProperty(b)&&p.n[b].f&&delete p.n[b].f;p=p.n}}}else w._events=y={n:{}}};w.once=function(a,d){var f=function(){w.unbind(a,f);return d.apply(this,\n",
       "arguments)};return w.on(a,f)};w.version=\"0.4.2\";w.toString=function(){return\"You are running Eve 0.4.2\"};\"undefined\"!=typeof module&&module.exports?module.exports=w:\"function\"===typeof define&&define.amd?define(\"eve\",[],function(){return w}):N.eve=w})(this);\n",
       "(function(N,k){\"function\"===typeof define&&define.amd?define(\"Snap.svg\",[\"eve\"],function(L){return k(N,L)}):k(N,N.eve)})(this,function(N,k){var L=function(a){var k={},y=N.requestAnimationFrame||N.webkitRequestAnimationFrame||N.mozRequestAnimationFrame||N.oRequestAnimationFrame||N.msRequestAnimationFrame||function(a){setTimeout(a,16)},M=Array.isArray||function(a){return a instanceof Array||\"[object Array]\"==Object.prototype.toString.call(a)},A=0,w=\"M\"+(+new Date).toString(36),z=function(a){if(null==\n",
       "a)return this.s;var b=this.s-a;this.b+=this.dur*b;this.B+=this.dur*b;this.s=a},d=function(a){if(null==a)return this.spd;this.spd=a},f=function(a){if(null==a)return this.dur;this.s=this.s*a/this.dur;this.dur=a},n=function(){delete k[this.id];this.update();a(\"mina.stop.\"+this.id,this)},u=function(){this.pdif||(delete k[this.id],this.update(),this.pdif=this.get()-this.b)},p=function(){this.pdif&&(this.b=this.get()-this.pdif,delete this.pdif,k[this.id]=this)},b=function(){var a;if(M(this.start)){a=[];\n",
       "for(var b=0,e=this.start.length;b<e;b++)a[b]=+this.start[b]+(this.end[b]-this.start[b])*this.easing(this.s)}else a=+this.start+(this.end-this.start)*this.easing(this.s);this.set(a)},q=function(){var l=0,b;for(b in k)if(k.hasOwnProperty(b)){var e=k[b],f=e.get();l++;e.s=(f-e.b)/(e.dur/e.spd);1<=e.s&&(delete k[b],e.s=1,l--,function(b){setTimeout(function(){a(\"mina.finish.\"+b.id,b)})}(e));e.update()}l&&y(q)},e=function(a,r,s,x,G,h,J){a={id:w+(A++).toString(36),start:a,end:r,b:s,s:0,dur:x-s,spd:1,get:G,\n",
       "set:h,easing:J||e.linear,status:z,speed:d,duration:f,stop:n,pause:u,resume:p,update:b};k[a.id]=a;r=0;for(var K in k)if(k.hasOwnProperty(K)&&(r++,2==r))break;1==r&&y(q);return a};e.time=Date.now||function(){return+new Date};e.getById=function(a){return k[a]||null};e.linear=function(a){return a};e.easeout=function(a){return Math.pow(a,1.7)};e.easein=function(a){return Math.pow(a,0.48)};e.easeinout=function(a){if(1==a)return 1;if(0==a)return 0;var b=0.48-a/1.04,e=Math.sqrt(0.1734+b*b);a=e-b;a=Math.pow(Math.abs(a),\n",
       "1/3)*(0>a?-1:1);b=-e-b;b=Math.pow(Math.abs(b),1/3)*(0>b?-1:1);a=a+b+0.5;return 3*(1-a)*a*a+a*a*a};e.backin=function(a){return 1==a?1:a*a*(2.70158*a-1.70158)};e.backout=function(a){if(0==a)return 0;a-=1;return a*a*(2.70158*a+1.70158)+1};e.elastic=function(a){return a==!!a?a:Math.pow(2,-10*a)*Math.sin(2*(a-0.075)*Math.PI/0.3)+1};e.bounce=function(a){a<1/2.75?a*=7.5625*a:a<2/2.75?(a-=1.5/2.75,a=7.5625*a*a+0.75):a<2.5/2.75?(a-=2.25/2.75,a=7.5625*a*a+0.9375):(a-=2.625/2.75,a=7.5625*a*a+0.984375);return a};\n",
       "return N.mina=e}(\"undefined\"==typeof k?function(){}:k),C=function(){function a(c,t){if(c){if(c.tagName)return x(c);if(y(c,\"array\")&&a.set)return a.set.apply(a,c);if(c instanceof e)return c;if(null==t)return c=G.doc.querySelector(c),x(c)}return new s(null==c?\"100%\":c,null==t?\"100%\":t)}function v(c,a){if(a){\"#text\"==c&&(c=G.doc.createTextNode(a.text||\"\"));\"string\"==typeof c&&(c=v(c));if(\"string\"==typeof a)return\"xlink:\"==a.substring(0,6)?c.getAttributeNS(m,a.substring(6)):\"xml:\"==a.substring(0,4)?c.getAttributeNS(la,\n",
       "a.substring(4)):c.getAttribute(a);for(var da in a)if(a[h](da)){var b=J(a[da]);b?\"xlink:\"==da.substring(0,6)?c.setAttributeNS(m,da.substring(6),b):\"xml:\"==da.substring(0,4)?c.setAttributeNS(la,da.substring(4),b):c.setAttribute(da,b):c.removeAttribute(da)}}else c=G.doc.createElementNS(la,c);return c}function y(c,a){a=J.prototype.toLowerCase.call(a);return\"finite\"==a?isFinite(c):\"array\"==a&&(c instanceof Array||Array.isArray&&Array.isArray(c))?!0:\"null\"==a&&null===c||a==typeof c&&null!==c||\"object\"==\n",
       "a&&c===Object(c)||$.call(c).slice(8,-1).toLowerCase()==a}function M(c){if(\"function\"==typeof c||Object(c)!==c)return c;var a=new c.constructor,b;for(b in c)c[h](b)&&(a[b]=M(c[b]));return a}function A(c,a,b){function m(){var e=Array.prototype.slice.call(arguments,0),f=e.join(\"\\u2400\"),d=m.cache=m.cache||{},l=m.count=m.count||[];if(d[h](f)){a:for(var e=l,l=f,B=0,H=e.length;B<H;B++)if(e[B]===l){e.push(e.splice(B,1)[0]);break a}return b?b(d[f]):d[f]}1E3<=l.length&&delete d[l.shift()];l.push(f);d[f]=c.apply(a,\n",
       "e);return b?b(d[f]):d[f]}return m}function w(c,a,b,m,e,f){return null==e?(c-=b,a-=m,c||a?(180*I.atan2(-a,-c)/C+540)%360:0):w(c,a,e,f)-w(b,m,e,f)}function z(c){return c%360*C/180}function d(c){var a=[];c=c.replace(/(?:^|\\s)(\\w+)\\(([^)]+)\\)/g,function(c,b,m){m=m.split(/\\s*,\\s*|\\s+/);\"rotate\"==b&&1==m.length&&m.push(0,0);\"scale\"==b&&(2<m.length?m=m.slice(0,2):2==m.length&&m.push(0,0),1==m.length&&m.push(m[0],0,0));\"skewX\"==b?a.push([\"m\",1,0,I.tan(z(m[0])),1,0,0]):\"skewY\"==b?a.push([\"m\",1,I.tan(z(m[0])),\n",
       "0,1,0,0]):a.push([b.charAt(0)].concat(m));return c});return a}function f(c,t){var b=O(c),m=new a.Matrix;if(b)for(var e=0,f=b.length;e<f;e++){var h=b[e],d=h.length,B=J(h[0]).toLowerCase(),H=h[0]!=B,l=H?m.invert():0,E;\"t\"==B&&2==d?m.translate(h[1],0):\"t\"==B&&3==d?H?(d=l.x(0,0),B=l.y(0,0),H=l.x(h[1],h[2]),l=l.y(h[1],h[2]),m.translate(H-d,l-B)):m.translate(h[1],h[2]):\"r\"==B?2==d?(E=E||t,m.rotate(h[1],E.x+E.width/2,E.y+E.height/2)):4==d&&(H?(H=l.x(h[2],h[3]),l=l.y(h[2],h[3]),m.rotate(h[1],H,l)):m.rotate(h[1],\n",
       "h[2],h[3])):\"s\"==B?2==d||3==d?(E=E||t,m.scale(h[1],h[d-1],E.x+E.width/2,E.y+E.height/2)):4==d?H?(H=l.x(h[2],h[3]),l=l.y(h[2],h[3]),m.scale(h[1],h[1],H,l)):m.scale(h[1],h[1],h[2],h[3]):5==d&&(H?(H=l.x(h[3],h[4]),l=l.y(h[3],h[4]),m.scale(h[1],h[2],H,l)):m.scale(h[1],h[2],h[3],h[4])):\"m\"==B&&7==d&&m.add(h[1],h[2],h[3],h[4],h[5],h[6])}return m}function n(c,t){if(null==t){var m=!0;t=\"linearGradient\"==c.type||\"radialGradient\"==c.type?c.node.getAttribute(\"gradientTransform\"):\"pattern\"==c.type?c.node.getAttribute(\"patternTransform\"):\n",
       "c.node.getAttribute(\"transform\");if(!t)return new a.Matrix;t=d(t)}else t=a._.rgTransform.test(t)?J(t).replace(/\\.{3}|\\u2026/g,c._.transform||aa):d(t),y(t,\"array\")&&(t=a.path?a.path.toString.call(t):J(t)),c._.transform=t;var b=f(t,c.getBBox(1));if(m)return b;c.matrix=b}function u(c){c=c.node.ownerSVGElement&&x(c.node.ownerSVGElement)||c.node.parentNode&&x(c.node.parentNode)||a.select(\"svg\")||a(0,0);var t=c.select(\"defs\"),t=null==t?!1:t.node;t||(t=r(\"defs\",c.node).node);return t}function p(c){return c.node.ownerSVGElement&&\n",
       "x(c.node.ownerSVGElement)||a.select(\"svg\")}function b(c,a,m){function b(c){if(null==c)return aa;if(c==+c)return c;v(B,{width:c});try{return B.getBBox().width}catch(a){return 0}}function h(c){if(null==c)return aa;if(c==+c)return c;v(B,{height:c});try{return B.getBBox().height}catch(a){return 0}}function e(b,B){null==a?d[b]=B(c.attr(b)||0):b==a&&(d=B(null==m?c.attr(b)||0:m))}var f=p(c).node,d={},B=f.querySelector(\".svg---mgr\");B||(B=v(\"rect\"),v(B,{x:-9E9,y:-9E9,width:10,height:10,\"class\":\"svg---mgr\",\n",
       "fill:\"none\"}),f.appendChild(B));switch(c.type){case \"rect\":e(\"rx\",b),e(\"ry\",h);case \"image\":e(\"width\",b),e(\"height\",h);case \"text\":e(\"x\",b);e(\"y\",h);break;case \"circle\":e(\"cx\",b);e(\"cy\",h);e(\"r\",b);break;case \"ellipse\":e(\"cx\",b);e(\"cy\",h);e(\"rx\",b);e(\"ry\",h);break;case \"line\":e(\"x1\",b);e(\"x2\",b);e(\"y1\",h);e(\"y2\",h);break;case \"marker\":e(\"refX\",b);e(\"markerWidth\",b);e(\"refY\",h);e(\"markerHeight\",h);break;case \"radialGradient\":e(\"fx\",b);e(\"fy\",h);break;case \"tspan\":e(\"dx\",b);e(\"dy\",h);break;default:e(a,\n",
       "b)}f.removeChild(B);return d}function q(c){y(c,\"array\")||(c=Array.prototype.slice.call(arguments,0));for(var a=0,b=0,m=this.node;this[a];)delete this[a++];for(a=0;a<c.length;a++)\"set\"==c[a].type?c[a].forEach(function(c){m.appendChild(c.node)}):m.appendChild(c[a].node);for(var h=m.childNodes,a=0;a<h.length;a++)this[b++]=x(h[a]);return this}function e(c){if(c.snap in E)return E[c.snap];var a=this.id=V(),b;try{b=c.ownerSVGElement}catch(m){}this.node=c;b&&(this.paper=new s(b));this.type=c.tagName;this.anims=\n",
       "{};this._={transform:[]};c.snap=a;E[a]=this;\"g\"==this.type&&(this.add=q);if(this.type in{g:1,mask:1,pattern:1})for(var e in s.prototype)s.prototype[h](e)&&(this[e]=s.prototype[e])}function l(c){this.node=c}function r(c,a){var b=v(c);a.appendChild(b);return x(b)}function s(c,a){var b,m,f,d=s.prototype;if(c&&\"svg\"==c.tagName){if(c.snap in E)return E[c.snap];var l=c.ownerDocument;b=new e(c);m=c.getElementsByTagName(\"desc\")[0];f=c.getElementsByTagName(\"defs\")[0];m||(m=v(\"desc\"),m.appendChild(l.createTextNode(\"Created with Snap\")),\n",
       "b.node.appendChild(m));f||(f=v(\"defs\"),b.node.appendChild(f));b.defs=f;for(var ca in d)d[h](ca)&&(b[ca]=d[ca]);b.paper=b.root=b}else b=r(\"svg\",G.doc.body),v(b.node,{height:a,version:1.1,width:c,xmlns:la});return b}function x(c){return!c||c instanceof e||c instanceof l?c:c.tagName&&\"svg\"==c.tagName.toLowerCase()?new s(c):c.tagName&&\"object\"==c.tagName.toLowerCase()&&\"image/svg+xml\"==c.type?new s(c.contentDocument.getElementsByTagName(\"svg\")[0]):new e(c)}a.version=\"0.3.0\";a.toString=function(){return\"Snap v\"+\n",
       "this.version};a._={};var G={win:N,doc:N.document};a._.glob=G;var h=\"hasOwnProperty\",J=String,K=parseFloat,U=parseInt,I=Math,P=I.max,Q=I.min,Y=I.abs,C=I.PI,aa=\"\",$=Object.prototype.toString,F=/^\\s*((#[a-f\\d]{6})|(#[a-f\\d]{3})|rgba?\\(\\s*([\\d\\.]+%?\\s*,\\s*[\\d\\.]+%?\\s*,\\s*[\\d\\.]+%?(?:\\s*,\\s*[\\d\\.]+%?)?)\\s*\\)|hsba?\\(\\s*([\\d\\.]+(?:deg|\\xb0|%)?\\s*,\\s*[\\d\\.]+%?\\s*,\\s*[\\d\\.]+(?:%?\\s*,\\s*[\\d\\.]+)?%?)\\s*\\)|hsla?\\(\\s*([\\d\\.]+(?:deg|\\xb0|%)?\\s*,\\s*[\\d\\.]+%?\\s*,\\s*[\\d\\.]+(?:%?\\s*,\\s*[\\d\\.]+)?%?)\\s*\\))\\s*$/i;a._.separator=\n",
       "RegExp(\"[,\\t\\n\\x0B\\f\\r \\u00a0\\u1680\\u180e\\u2000\\u2001\\u2002\\u2003\\u2004\\u2005\\u2006\\u2007\\u2008\\u2009\\u200a\\u202f\\u205f\\u3000\\u2028\\u2029]+\");var S=RegExp(\"[\\t\\n\\x0B\\f\\r \\u00a0\\u1680\\u180e\\u2000\\u2001\\u2002\\u2003\\u2004\\u2005\\u2006\\u2007\\u2008\\u2009\\u200a\\u202f\\u205f\\u3000\\u2028\\u2029]*,[\\t\\n\\x0B\\f\\r \\u00a0\\u1680\\u180e\\u2000\\u2001\\u2002\\u2003\\u2004\\u2005\\u2006\\u2007\\u2008\\u2009\\u200a\\u202f\\u205f\\u3000\\u2028\\u2029]*\"),X={hs:1,rg:1},W=RegExp(\"([a-z])[\\t\\n\\x0B\\f\\r \\u00a0\\u1680\\u180e\\u2000\\u2001\\u2002\\u2003\\u2004\\u2005\\u2006\\u2007\\u2008\\u2009\\u200a\\u202f\\u205f\\u3000\\u2028\\u2029,]*((-?\\\\d*\\\\.?\\\\d*(?:e[\\\\-+]?\\\\d+)?[\\t\\n\\x0B\\f\\r \\u00a0\\u1680\\u180e\\u2000\\u2001\\u2002\\u2003\\u2004\\u2005\\u2006\\u2007\\u2008\\u2009\\u200a\\u202f\\u205f\\u3000\\u2028\\u2029]*,?[\\t\\n\\x0B\\f\\r \\u00a0\\u1680\\u180e\\u2000\\u2001\\u2002\\u2003\\u2004\\u2005\\u2006\\u2007\\u2008\\u2009\\u200a\\u202f\\u205f\\u3000\\u2028\\u2029]*)+)\",\n",
       "\"ig\"),ma=RegExp(\"([rstm])[\\t\\n\\x0B\\f\\r \\u00a0\\u1680\\u180e\\u2000\\u2001\\u2002\\u2003\\u2004\\u2005\\u2006\\u2007\\u2008\\u2009\\u200a\\u202f\\u205f\\u3000\\u2028\\u2029,]*((-?\\\\d*\\\\.?\\\\d*(?:e[\\\\-+]?\\\\d+)?[\\t\\n\\x0B\\f\\r \\u00a0\\u1680\\u180e\\u2000\\u2001\\u2002\\u2003\\u2004\\u2005\\u2006\\u2007\\u2008\\u2009\\u200a\\u202f\\u205f\\u3000\\u2028\\u2029]*,?[\\t\\n\\x0B\\f\\r \\u00a0\\u1680\\u180e\\u2000\\u2001\\u2002\\u2003\\u2004\\u2005\\u2006\\u2007\\u2008\\u2009\\u200a\\u202f\\u205f\\u3000\\u2028\\u2029]*)+)\",\"ig\"),Z=RegExp(\"(-?\\\\d*\\\\.?\\\\d*(?:e[\\\\-+]?\\\\d+)?)[\\t\\n\\x0B\\f\\r \\u00a0\\u1680\\u180e\\u2000\\u2001\\u2002\\u2003\\u2004\\u2005\\u2006\\u2007\\u2008\\u2009\\u200a\\u202f\\u205f\\u3000\\u2028\\u2029]*,?[\\t\\n\\x0B\\f\\r \\u00a0\\u1680\\u180e\\u2000\\u2001\\u2002\\u2003\\u2004\\u2005\\u2006\\u2007\\u2008\\u2009\\u200a\\u202f\\u205f\\u3000\\u2028\\u2029]*\",\n",
       "\"ig\"),na=0,ba=\"S\"+(+new Date).toString(36),V=function(){return ba+(na++).toString(36)},m=\"http://www.w3.org/1999/xlink\",la=\"http://www.w3.org/2000/svg\",E={},ca=a.url=function(c){return\"url('#\"+c+\"')\"};a._.$=v;a._.id=V;a.format=function(){var c=/\\{([^\\}]+)\\}/g,a=/(?:(?:^|\\.)(.+?)(?=\\[|\\.|$|\\()|\\[('|\")(.+?)\\2\\])(\\(\\))?/g,b=function(c,b,m){var h=m;b.replace(a,function(c,a,b,m,t){a=a||m;h&&(a in h&&(h=h[a]),\"function\"==typeof h&&t&&(h=h()))});return h=(null==h||h==m?c:h)+\"\"};return function(a,m){return J(a).replace(c,\n",
       "function(c,a){return b(c,a,m)})}}();a._.clone=M;a._.cacher=A;a.rad=z;a.deg=function(c){return 180*c/C%360};a.angle=w;a.is=y;a.snapTo=function(c,a,b){b=y(b,\"finite\")?b:10;if(y(c,\"array\"))for(var m=c.length;m--;){if(Y(c[m]-a)<=b)return c[m]}else{c=+c;m=a%c;if(m<b)return a-m;if(m>c-b)return a-m+c}return a};a.getRGB=A(function(c){if(!c||(c=J(c)).indexOf(\"-\")+1)return{r:-1,g:-1,b:-1,hex:\"none\",error:1,toString:ka};if(\"none\"==c)return{r:-1,g:-1,b:-1,hex:\"none\",toString:ka};!X[h](c.toLowerCase().substring(0,\n",
       "2))&&\"#\"!=c.charAt()&&(c=T(c));if(!c)return{r:-1,g:-1,b:-1,hex:\"none\",error:1,toString:ka};var b,m,e,f,d;if(c=c.match(F)){c[2]&&(e=U(c[2].substring(5),16),m=U(c[2].substring(3,5),16),b=U(c[2].substring(1,3),16));c[3]&&(e=U((d=c[3].charAt(3))+d,16),m=U((d=c[3].charAt(2))+d,16),b=U((d=c[3].charAt(1))+d,16));c[4]&&(d=c[4].split(S),b=K(d[0]),\"%\"==d[0].slice(-1)&&(b*=2.55),m=K(d[1]),\"%\"==d[1].slice(-1)&&(m*=2.55),e=K(d[2]),\"%\"==d[2].slice(-1)&&(e*=2.55),\"rgba\"==c[1].toLowerCase().slice(0,4)&&(f=K(d[3])),\n",
       "d[3]&&\"%\"==d[3].slice(-1)&&(f/=100));if(c[5])return d=c[5].split(S),b=K(d[0]),\"%\"==d[0].slice(-1)&&(b/=100),m=K(d[1]),\"%\"==d[1].slice(-1)&&(m/=100),e=K(d[2]),\"%\"==d[2].slice(-1)&&(e/=100),\"deg\"!=d[0].slice(-3)&&\"\\u00b0\"!=d[0].slice(-1)||(b/=360),\"hsba\"==c[1].toLowerCase().slice(0,4)&&(f=K(d[3])),d[3]&&\"%\"==d[3].slice(-1)&&(f/=100),a.hsb2rgb(b,m,e,f);if(c[6])return d=c[6].split(S),b=K(d[0]),\"%\"==d[0].slice(-1)&&(b/=100),m=K(d[1]),\"%\"==d[1].slice(-1)&&(m/=100),e=K(d[2]),\"%\"==d[2].slice(-1)&&(e/=100),\n",
       "\"deg\"!=d[0].slice(-3)&&\"\\u00b0\"!=d[0].slice(-1)||(b/=360),\"hsla\"==c[1].toLowerCase().slice(0,4)&&(f=K(d[3])),d[3]&&\"%\"==d[3].slice(-1)&&(f/=100),a.hsl2rgb(b,m,e,f);b=Q(I.round(b),255);m=Q(I.round(m),255);e=Q(I.round(e),255);f=Q(P(f,0),1);c={r:b,g:m,b:e,toString:ka};c.hex=\"#\"+(16777216|e|m<<8|b<<16).toString(16).slice(1);c.opacity=y(f,\"finite\")?f:1;return c}return{r:-1,g:-1,b:-1,hex:\"none\",error:1,toString:ka}},a);a.hsb=A(function(c,b,m){return a.hsb2rgb(c,b,m).hex});a.hsl=A(function(c,b,m){return a.hsl2rgb(c,\n",
       "b,m).hex});a.rgb=A(function(c,a,b,m){if(y(m,\"finite\")){var e=I.round;return\"rgba(\"+[e(c),e(a),e(b),+m.toFixed(2)]+\")\"}return\"#\"+(16777216|b|a<<8|c<<16).toString(16).slice(1)});var T=function(c){var a=G.doc.getElementsByTagName(\"head\")[0]||G.doc.getElementsByTagName(\"svg\")[0];T=A(function(c){if(\"red\"==c.toLowerCase())return\"rgb(255, 0, 0)\";a.style.color=\"rgb(255, 0, 0)\";a.style.color=c;c=G.doc.defaultView.getComputedStyle(a,aa).getPropertyValue(\"color\");return\"rgb(255, 0, 0)\"==c?null:c});return T(c)},\n",
       "qa=function(){return\"hsb(\"+[this.h,this.s,this.b]+\")\"},ra=function(){return\"hsl(\"+[this.h,this.s,this.l]+\")\"},ka=function(){return 1==this.opacity||null==this.opacity?this.hex:\"rgba(\"+[this.r,this.g,this.b,this.opacity]+\")\"},D=function(c,b,m){null==b&&y(c,\"object\")&&\"r\"in c&&\"g\"in c&&\"b\"in c&&(m=c.b,b=c.g,c=c.r);null==b&&y(c,string)&&(m=a.getRGB(c),c=m.r,b=m.g,m=m.b);if(1<c||1<b||1<m)c/=255,b/=255,m/=255;return[c,b,m]},oa=function(c,b,m,e){c=I.round(255*c);b=I.round(255*b);m=I.round(255*m);c={r:c,\n",
       "g:b,b:m,opacity:y(e,\"finite\")?e:1,hex:a.rgb(c,b,m),toString:ka};y(e,\"finite\")&&(c.opacity=e);return c};a.color=function(c){var b;y(c,\"object\")&&\"h\"in c&&\"s\"in c&&\"b\"in c?(b=a.hsb2rgb(c),c.r=b.r,c.g=b.g,c.b=b.b,c.opacity=1,c.hex=b.hex):y(c,\"object\")&&\"h\"in c&&\"s\"in c&&\"l\"in c?(b=a.hsl2rgb(c),c.r=b.r,c.g=b.g,c.b=b.b,c.opacity=1,c.hex=b.hex):(y(c,\"string\")&&(c=a.getRGB(c)),y(c,\"object\")&&\"r\"in c&&\"g\"in c&&\"b\"in c&&!(\"error\"in c)?(b=a.rgb2hsl(c),c.h=b.h,c.s=b.s,c.l=b.l,b=a.rgb2hsb(c),c.v=b.b):(c={hex:\"none\"},\n",
       "c.r=c.g=c.b=c.h=c.s=c.v=c.l=-1,c.error=1));c.toString=ka;return c};a.hsb2rgb=function(c,a,b,m){y(c,\"object\")&&\"h\"in c&&\"s\"in c&&\"b\"in c&&(b=c.b,a=c.s,c=c.h,m=c.o);var e,h,d;c=360*c%360/60;d=b*a;a=d*(1-Y(c%2-1));b=e=h=b-d;c=~~c;b+=[d,a,0,0,a,d][c];e+=[a,d,d,a,0,0][c];h+=[0,0,a,d,d,a][c];return oa(b,e,h,m)};a.hsl2rgb=function(c,a,b,m){y(c,\"object\")&&\"h\"in c&&\"s\"in c&&\"l\"in c&&(b=c.l,a=c.s,c=c.h);if(1<c||1<a||1<b)c/=360,a/=100,b/=100;var e,h,d;c=360*c%360/60;d=2*a*(0.5>b?b:1-b);a=d*(1-Y(c%2-1));b=e=\n",
       "h=b-d/2;c=~~c;b+=[d,a,0,0,a,d][c];e+=[a,d,d,a,0,0][c];h+=[0,0,a,d,d,a][c];return oa(b,e,h,m)};a.rgb2hsb=function(c,a,b){b=D(c,a,b);c=b[0];a=b[1];b=b[2];var m,e;m=P(c,a,b);e=m-Q(c,a,b);c=((0==e?0:m==c?(a-b)/e:m==a?(b-c)/e+2:(c-a)/e+4)+360)%6*60/360;return{h:c,s:0==e?0:e/m,b:m,toString:qa}};a.rgb2hsl=function(c,a,b){b=D(c,a,b);c=b[0];a=b[1];b=b[2];var m,e,h;m=P(c,a,b);e=Q(c,a,b);h=m-e;c=((0==h?0:m==c?(a-b)/h:m==a?(b-c)/h+2:(c-a)/h+4)+360)%6*60/360;m=(m+e)/2;return{h:c,s:0==h?0:0.5>m?h/(2*m):h/(2-2*\n",
       "m),l:m,toString:ra}};a.parsePathString=function(c){if(!c)return null;var b=a.path(c);if(b.arr)return a.path.clone(b.arr);var m={a:7,c:6,o:2,h:1,l:2,m:2,r:4,q:4,s:4,t:2,v:1,u:3,z:0},e=[];y(c,\"array\")&&y(c[0],\"array\")&&(e=a.path.clone(c));e.length||J(c).replace(W,function(c,a,b){var h=[];c=a.toLowerCase();b.replace(Z,function(c,a){a&&h.push(+a)});\"m\"==c&&2<h.length&&(e.push([a].concat(h.splice(0,2))),c=\"l\",a=\"m\"==a?\"l\":\"L\");\"o\"==c&&1==h.length&&e.push([a,h[0] ]);if(\"r\"==c)e.push([a].concat(h));else for(;h.length>=\n",
       "m[c]&&(e.push([a].concat(h.splice(0,m[c]))),m[c]););});e.toString=a.path.toString;b.arr=a.path.clone(e);return e};var O=a.parseTransformString=function(c){if(!c)return null;var b=[];y(c,\"array\")&&y(c[0],\"array\")&&(b=a.path.clone(c));b.length||J(c).replace(ma,function(c,a,m){var e=[];a.toLowerCase();m.replace(Z,function(c,a){a&&e.push(+a)});b.push([a].concat(e))});b.toString=a.path.toString;return b};a._.svgTransform2string=d;a._.rgTransform=RegExp(\"^[a-z][\\t\\n\\x0B\\f\\r \\u00a0\\u1680\\u180e\\u2000\\u2001\\u2002\\u2003\\u2004\\u2005\\u2006\\u2007\\u2008\\u2009\\u200a\\u202f\\u205f\\u3000\\u2028\\u2029]*-?\\\\.?\\\\d\",\n",
       "\"i\");a._.transform2matrix=f;a._unit2px=b;a._.getSomeDefs=u;a._.getSomeSVG=p;a.select=function(c){return x(G.doc.querySelector(c))};a.selectAll=function(c){c=G.doc.querySelectorAll(c);for(var b=(a.set||Array)(),m=0;m<c.length;m++)b.push(x(c[m]));return b};setInterval(function(){for(var c in E)if(E[h](c)){var a=E[c],b=a.node;(\"svg\"!=a.type&&!b.ownerSVGElement||\"svg\"==a.type&&(!b.parentNode||\"ownerSVGElement\"in b.parentNode&&!b.ownerSVGElement))&&delete E[c]}},1E4);(function(c){function m(c){function a(c,\n",
       "b){var m=v(c.node,b);(m=(m=m&&m.match(d))&&m[2])&&\"#\"==m.charAt()&&(m=m.substring(1))&&(f[m]=(f[m]||[]).concat(function(a){var m={};m[b]=ca(a);v(c.node,m)}))}function b(c){var a=v(c.node,\"xlink:href\");a&&\"#\"==a.charAt()&&(a=a.substring(1))&&(f[a]=(f[a]||[]).concat(function(a){c.attr(\"xlink:href\",\"#\"+a)}))}var e=c.selectAll(\"*\"),h,d=/^\\s*url\\((\"|'|)(.*)\\1\\)\\s*$/;c=[];for(var f={},l=0,E=e.length;l<E;l++){h=e[l];a(h,\"fill\");a(h,\"stroke\");a(h,\"filter\");a(h,\"mask\");a(h,\"clip-path\");b(h);var t=v(h.node,\n",
       "\"id\");t&&(v(h.node,{id:h.id}),c.push({old:t,id:h.id}))}l=0;for(E=c.length;l<E;l++)if(e=f[c[l].old])for(h=0,t=e.length;h<t;h++)e[h](c[l].id)}function e(c,a,b){return function(m){m=m.slice(c,a);1==m.length&&(m=m[0]);return b?b(m):m}}function d(c){return function(){var a=c?\"<\"+this.type:\"\",b=this.node.attributes,m=this.node.childNodes;if(c)for(var e=0,h=b.length;e<h;e++)a+=\" \"+b[e].name+'=\"'+b[e].value.replace(/\"/g,'\\\\\"')+'\"';if(m.length){c&&(a+=\">\");e=0;for(h=m.length;e<h;e++)3==m[e].nodeType?a+=m[e].nodeValue:\n",
       "1==m[e].nodeType&&(a+=x(m[e]).toString());c&&(a+=\"</\"+this.type+\">\")}else c&&(a+=\"/>\");return a}}c.attr=function(c,a){if(!c)return this;if(y(c,\"string\"))if(1<arguments.length){var b={};b[c]=a;c=b}else return k(\"snap.util.getattr.\"+c,this).firstDefined();for(var m in c)c[h](m)&&k(\"snap.util.attr.\"+m,this,c[m]);return this};c.getBBox=function(c){if(!a.Matrix||!a.path)return this.node.getBBox();var b=this,m=new a.Matrix;if(b.removed)return a._.box();for(;\"use\"==b.type;)if(c||(m=m.add(b.transform().localMatrix.translate(b.attr(\"x\")||\n",
       "0,b.attr(\"y\")||0))),b.original)b=b.original;else var e=b.attr(\"xlink:href\"),b=b.original=b.node.ownerDocument.getElementById(e.substring(e.indexOf(\"#\")+1));var e=b._,h=a.path.get[b.type]||a.path.get.deflt;try{if(c)return e.bboxwt=h?a.path.getBBox(b.realPath=h(b)):a._.box(b.node.getBBox()),a._.box(e.bboxwt);b.realPath=h(b);b.matrix=b.transform().localMatrix;e.bbox=a.path.getBBox(a.path.map(b.realPath,m.add(b.matrix)));return a._.box(e.bbox)}catch(d){return a._.box()}};var f=function(){return this.string};\n",
       "c.transform=function(c){var b=this._;if(null==c){var m=this;c=new a.Matrix(this.node.getCTM());for(var e=n(this),h=[e],d=new a.Matrix,l=e.toTransformString(),b=J(e)==J(this.matrix)?J(b.transform):l;\"svg\"!=m.type&&(m=m.parent());)h.push(n(m));for(m=h.length;m--;)d.add(h[m]);return{string:b,globalMatrix:c,totalMatrix:d,localMatrix:e,diffMatrix:c.clone().add(e.invert()),global:c.toTransformString(),total:d.toTransformString(),local:l,toString:f}}c instanceof a.Matrix?this.matrix=c:n(this,c);this.node&&\n",
       "(\"linearGradient\"==this.type||\"radialGradient\"==this.type?v(this.node,{gradientTransform:this.matrix}):\"pattern\"==this.type?v(this.node,{patternTransform:this.matrix}):v(this.node,{transform:this.matrix}));return this};c.parent=function(){return x(this.node.parentNode)};c.append=c.add=function(c){if(c){if(\"set\"==c.type){var a=this;c.forEach(function(c){a.add(c)});return this}c=x(c);this.node.appendChild(c.node);c.paper=this.paper}return this};c.appendTo=function(c){c&&(c=x(c),c.append(this));return this};\n",
       "c.prepend=function(c){if(c){if(\"set\"==c.type){var a=this,b;c.forEach(function(c){b?b.after(c):a.prepend(c);b=c});return this}c=x(c);var m=c.parent();this.node.insertBefore(c.node,this.node.firstChild);this.add&&this.add();c.paper=this.paper;this.parent()&&this.parent().add();m&&m.add()}return this};c.prependTo=function(c){c=x(c);c.prepend(this);return this};c.before=function(c){if(\"set\"==c.type){var a=this;c.forEach(function(c){var b=c.parent();a.node.parentNode.insertBefore(c.node,a.node);b&&b.add()});\n",
       "this.parent().add();return this}c=x(c);var b=c.parent();this.node.parentNode.insertBefore(c.node,this.node);this.parent()&&this.parent().add();b&&b.add();c.paper=this.paper;return this};c.after=function(c){c=x(c);var a=c.parent();this.node.nextSibling?this.node.parentNode.insertBefore(c.node,this.node.nextSibling):this.node.parentNode.appendChild(c.node);this.parent()&&this.parent().add();a&&a.add();c.paper=this.paper;return this};c.insertBefore=function(c){c=x(c);var a=this.parent();c.node.parentNode.insertBefore(this.node,\n",
       "c.node);this.paper=c.paper;a&&a.add();c.parent()&&c.parent().add();return this};c.insertAfter=function(c){c=x(c);var a=this.parent();c.node.parentNode.insertBefore(this.node,c.node.nextSibling);this.paper=c.paper;a&&a.add();c.parent()&&c.parent().add();return this};c.remove=function(){var c=this.parent();this.node.parentNode&&this.node.parentNode.removeChild(this.node);delete this.paper;this.removed=!0;c&&c.add();return this};c.select=function(c){return x(this.node.querySelector(c))};c.selectAll=\n",
       "function(c){c=this.node.querySelectorAll(c);for(var b=(a.set||Array)(),m=0;m<c.length;m++)b.push(x(c[m]));return b};c.asPX=function(c,a){null==a&&(a=this.attr(c));return+b(this,c,a)};c.use=function(){var c,a=this.node.id;a||(a=this.id,v(this.node,{id:a}));c=\"linearGradient\"==this.type||\"radialGradient\"==this.type||\"pattern\"==this.type?r(this.type,this.node.parentNode):r(\"use\",this.node.parentNode);v(c.node,{\"xlink:href\":\"#\"+a});c.original=this;return c};var l=/\\S+/g;c.addClass=function(c){var a=(c||\n",
       "\"\").match(l)||[];c=this.node;var b=c.className.baseVal,m=b.match(l)||[],e,h,d;if(a.length){for(e=0;d=a[e++];)h=m.indexOf(d),~h||m.push(d);a=m.join(\" \");b!=a&&(c.className.baseVal=a)}return this};c.removeClass=function(c){var a=(c||\"\").match(l)||[];c=this.node;var b=c.className.baseVal,m=b.match(l)||[],e,h;if(m.length){for(e=0;h=a[e++];)h=m.indexOf(h),~h&&m.splice(h,1);a=m.join(\" \");b!=a&&(c.className.baseVal=a)}return this};c.hasClass=function(c){return!!~(this.node.className.baseVal.match(l)||[]).indexOf(c)};\n",
       "c.toggleClass=function(c,a){if(null!=a)return a?this.addClass(c):this.removeClass(c);var b=(c||\"\").match(l)||[],m=this.node,e=m.className.baseVal,h=e.match(l)||[],d,f,E;for(d=0;E=b[d++];)f=h.indexOf(E),~f?h.splice(f,1):h.push(E);b=h.join(\" \");e!=b&&(m.className.baseVal=b);return this};c.clone=function(){var c=x(this.node.cloneNode(!0));v(c.node,\"id\")&&v(c.node,{id:c.id});m(c);c.insertAfter(this);return c};c.toDefs=function(){u(this).appendChild(this.node);return this};c.pattern=c.toPattern=function(c,\n",
       "a,b,m){var e=r(\"pattern\",u(this));null==c&&(c=this.getBBox());y(c,\"object\")&&\"x\"in c&&(a=c.y,b=c.width,m=c.height,c=c.x);v(e.node,{x:c,y:a,width:b,height:m,patternUnits:\"userSpaceOnUse\",id:e.id,viewBox:[c,a,b,m].join(\" \")});e.node.appendChild(this.node);return e};c.marker=function(c,a,b,m,e,h){var d=r(\"marker\",u(this));null==c&&(c=this.getBBox());y(c,\"object\")&&\"x\"in c&&(a=c.y,b=c.width,m=c.height,e=c.refX||c.cx,h=c.refY||c.cy,c=c.x);v(d.node,{viewBox:[c,a,b,m].join(\" \"),markerWidth:b,markerHeight:m,\n",
       "orient:\"auto\",refX:e||0,refY:h||0,id:d.id});d.node.appendChild(this.node);return d};var E=function(c,a,b,m){\"function\"!=typeof b||b.length||(m=b,b=L.linear);this.attr=c;this.dur=a;b&&(this.easing=b);m&&(this.callback=m)};a._.Animation=E;a.animation=function(c,a,b,m){return new E(c,a,b,m)};c.inAnim=function(){var c=[],a;for(a in this.anims)this.anims[h](a)&&function(a){c.push({anim:new E(a._attrs,a.dur,a.easing,a._callback),mina:a,curStatus:a.status(),status:function(c){return a.status(c)},stop:function(){a.stop()}})}(this.anims[a]);\n",
       "return c};a.animate=function(c,a,b,m,e,h){\"function\"!=typeof e||e.length||(h=e,e=L.linear);var d=L.time();c=L(c,a,d,d+m,L.time,b,e);h&&k.once(\"mina.finish.\"+c.id,h);return c};c.stop=function(){for(var c=this.inAnim(),a=0,b=c.length;a<b;a++)c[a].stop();return this};c.animate=function(c,a,b,m){\"function\"!=typeof b||b.length||(m=b,b=L.linear);c instanceof E&&(m=c.callback,b=c.easing,a=b.dur,c=c.attr);var d=[],f=[],l={},t,ca,n,T=this,q;for(q in c)if(c[h](q)){T.equal?(n=T.equal(q,J(c[q])),t=n.from,ca=\n",
       "n.to,n=n.f):(t=+T.attr(q),ca=+c[q]);var la=y(t,\"array\")?t.length:1;l[q]=e(d.length,d.length+la,n);d=d.concat(t);f=f.concat(ca)}t=L.time();var p=L(d,f,t,t+a,L.time,function(c){var a={},b;for(b in l)l[h](b)&&(a[b]=l[b](c));T.attr(a)},b);T.anims[p.id]=p;p._attrs=c;p._callback=m;k(\"snap.animcreated.\"+T.id,p);k.once(\"mina.finish.\"+p.id,function(){delete T.anims[p.id];m&&m.call(T)});k.once(\"mina.stop.\"+p.id,function(){delete T.anims[p.id]});return T};var T={};c.data=function(c,b){var m=T[this.id]=T[this.id]||\n",
       "{};if(0==arguments.length)return k(\"snap.data.get.\"+this.id,this,m,null),m;if(1==arguments.length){if(a.is(c,\"object\")){for(var e in c)c[h](e)&&this.data(e,c[e]);return this}k(\"snap.data.get.\"+this.id,this,m[c],c);return m[c]}m[c]=b;k(\"snap.data.set.\"+this.id,this,b,c);return this};c.removeData=function(c){null==c?T[this.id]={}:T[this.id]&&delete T[this.id][c];return this};c.outerSVG=c.toString=d(1);c.innerSVG=d()})(e.prototype);a.parse=function(c){var a=G.doc.createDocumentFragment(),b=!0,m=G.doc.createElement(\"div\");\n",
       "c=J(c);c.match(/^\\s*<\\s*svg(?:\\s|>)/)||(c=\"<svg>\"+c+\"</svg>\",b=!1);m.innerHTML=c;if(c=m.getElementsByTagName(\"svg\")[0])if(b)a=c;else for(;c.firstChild;)a.appendChild(c.firstChild);m.innerHTML=aa;return new l(a)};l.prototype.select=e.prototype.select;l.prototype.selectAll=e.prototype.selectAll;a.fragment=function(){for(var c=Array.prototype.slice.call(arguments,0),b=G.doc.createDocumentFragment(),m=0,e=c.length;m<e;m++){var h=c[m];h.node&&h.node.nodeType&&b.appendChild(h.node);h.nodeType&&b.appendChild(h);\n",
       "\"string\"==typeof h&&b.appendChild(a.parse(h).node)}return new l(b)};a._.make=r;a._.wrap=x;s.prototype.el=function(c,a){var b=r(c,this.node);a&&b.attr(a);return b};k.on(\"snap.util.getattr\",function(){var c=k.nt(),c=c.substring(c.lastIndexOf(\".\")+1),a=c.replace(/[A-Z]/g,function(c){return\"-\"+c.toLowerCase()});return pa[h](a)?this.node.ownerDocument.defaultView.getComputedStyle(this.node,null).getPropertyValue(a):v(this.node,c)});var pa={\"alignment-baseline\":0,\"baseline-shift\":0,clip:0,\"clip-path\":0,\n",
       "\"clip-rule\":0,color:0,\"color-interpolation\":0,\"color-interpolation-filters\":0,\"color-profile\":0,\"color-rendering\":0,cursor:0,direction:0,display:0,\"dominant-baseline\":0,\"enable-background\":0,fill:0,\"fill-opacity\":0,\"fill-rule\":0,filter:0,\"flood-color\":0,\"flood-opacity\":0,font:0,\"font-family\":0,\"font-size\":0,\"font-size-adjust\":0,\"font-stretch\":0,\"font-style\":0,\"font-variant\":0,\"font-weight\":0,\"glyph-orientation-horizontal\":0,\"glyph-orientation-vertical\":0,\"image-rendering\":0,kerning:0,\"letter-spacing\":0,\n",
       "\"lighting-color\":0,marker:0,\"marker-end\":0,\"marker-mid\":0,\"marker-start\":0,mask:0,opacity:0,overflow:0,\"pointer-events\":0,\"shape-rendering\":0,\"stop-color\":0,\"stop-opacity\":0,stroke:0,\"stroke-dasharray\":0,\"stroke-dashoffset\":0,\"stroke-linecap\":0,\"stroke-linejoin\":0,\"stroke-miterlimit\":0,\"stroke-opacity\":0,\"stroke-width\":0,\"text-anchor\":0,\"text-decoration\":0,\"text-rendering\":0,\"unicode-bidi\":0,visibility:0,\"word-spacing\":0,\"writing-mode\":0};k.on(\"snap.util.attr\",function(c){var a=k.nt(),b={},a=a.substring(a.lastIndexOf(\".\")+\n",
       "1);b[a]=c;var m=a.replace(/-(\\w)/gi,function(c,a){return a.toUpperCase()}),a=a.replace(/[A-Z]/g,function(c){return\"-\"+c.toLowerCase()});pa[h](a)?this.node.style[m]=null==c?aa:c:v(this.node,b)});a.ajax=function(c,a,b,m){var e=new XMLHttpRequest,h=V();if(e){if(y(a,\"function\"))m=b,b=a,a=null;else if(y(a,\"object\")){var d=[],f;for(f in a)a.hasOwnProperty(f)&&d.push(encodeURIComponent(f)+\"=\"+encodeURIComponent(a[f]));a=d.join(\"&\")}e.open(a?\"POST\":\"GET\",c,!0);a&&(e.setRequestHeader(\"X-Requested-With\",\"XMLHttpRequest\"),\n",
       "e.setRequestHeader(\"Content-type\",\"application/x-www-form-urlencoded\"));b&&(k.once(\"snap.ajax.\"+h+\".0\",b),k.once(\"snap.ajax.\"+h+\".200\",b),k.once(\"snap.ajax.\"+h+\".304\",b));e.onreadystatechange=function(){4==e.readyState&&k(\"snap.ajax.\"+h+\".\"+e.status,m,e)};if(4==e.readyState)return e;e.send(a);return e}};a.load=function(c,b,m){a.ajax(c,function(c){c=a.parse(c.responseText);m?b.call(m,c):b(c)})};a.getElementByPoint=function(c,a){var b,m,e=G.doc.elementFromPoint(c,a);if(G.win.opera&&\"svg\"==e.tagName){b=\n",
       "e;m=b.getBoundingClientRect();b=b.ownerDocument;var h=b.body,d=b.documentElement;b=m.top+(g.win.pageYOffset||d.scrollTop||h.scrollTop)-(d.clientTop||h.clientTop||0);m=m.left+(g.win.pageXOffset||d.scrollLeft||h.scrollLeft)-(d.clientLeft||h.clientLeft||0);h=e.createSVGRect();h.x=c-m;h.y=a-b;h.width=h.height=1;b=e.getIntersectionList(h,null);b.length&&(e=b[b.length-1])}return e?x(e):null};a.plugin=function(c){c(a,e,s,G,l)};return G.win.Snap=a}();C.plugin(function(a,k,y,M,A){function w(a,d,f,b,q,e){null==\n",
       "d&&\"[object SVGMatrix]\"==z.call(a)?(this.a=a.a,this.b=a.b,this.c=a.c,this.d=a.d,this.e=a.e,this.f=a.f):null!=a?(this.a=+a,this.b=+d,this.c=+f,this.d=+b,this.e=+q,this.f=+e):(this.a=1,this.c=this.b=0,this.d=1,this.f=this.e=0)}var z=Object.prototype.toString,d=String,f=Math;(function(n){function k(a){return a[0]*a[0]+a[1]*a[1]}function p(a){var d=f.sqrt(k(a));a[0]&&(a[0]/=d);a[1]&&(a[1]/=d)}n.add=function(a,d,e,f,n,p){var k=[[],[],[] ],u=[[this.a,this.c,this.e],[this.b,this.d,this.f],[0,0,1] ];d=[[a,\n",
       "e,n],[d,f,p],[0,0,1] ];a&&a instanceof w&&(d=[[a.a,a.c,a.e],[a.b,a.d,a.f],[0,0,1] ]);for(a=0;3>a;a++)for(e=0;3>e;e++){for(f=n=0;3>f;f++)n+=u[a][f]*d[f][e];k[a][e]=n}this.a=k[0][0];this.b=k[1][0];this.c=k[0][1];this.d=k[1][1];this.e=k[0][2];this.f=k[1][2];return this};n.invert=function(){var a=this.a*this.d-this.b*this.c;return new w(this.d/a,-this.b/a,-this.c/a,this.a/a,(this.c*this.f-this.d*this.e)/a,(this.b*this.e-this.a*this.f)/a)};n.clone=function(){return new w(this.a,this.b,this.c,this.d,this.e,\n",
       "this.f)};n.translate=function(a,d){return this.add(1,0,0,1,a,d)};n.scale=function(a,d,e,f){null==d&&(d=a);(e||f)&&this.add(1,0,0,1,e,f);this.add(a,0,0,d,0,0);(e||f)&&this.add(1,0,0,1,-e,-f);return this};n.rotate=function(b,d,e){b=a.rad(b);d=d||0;e=e||0;var l=+f.cos(b).toFixed(9);b=+f.sin(b).toFixed(9);this.add(l,b,-b,l,d,e);return this.add(1,0,0,1,-d,-e)};n.x=function(a,d){return a*this.a+d*this.c+this.e};n.y=function(a,d){return a*this.b+d*this.d+this.f};n.get=function(a){return+this[d.fromCharCode(97+\n",
       "a)].toFixed(4)};n.toString=function(){return\"matrix(\"+[this.get(0),this.get(1),this.get(2),this.get(3),this.get(4),this.get(5)].join()+\")\"};n.offset=function(){return[this.e.toFixed(4),this.f.toFixed(4)]};n.determinant=function(){return this.a*this.d-this.b*this.c};n.split=function(){var b={};b.dx=this.e;b.dy=this.f;var d=[[this.a,this.c],[this.b,this.d] ];b.scalex=f.sqrt(k(d[0]));p(d[0]);b.shear=d[0][0]*d[1][0]+d[0][1]*d[1][1];d[1]=[d[1][0]-d[0][0]*b.shear,d[1][1]-d[0][1]*b.shear];b.scaley=f.sqrt(k(d[1]));\n",
       "p(d[1]);b.shear/=b.scaley;0>this.determinant()&&(b.scalex=-b.scalex);var e=-d[0][1],d=d[1][1];0>d?(b.rotate=a.deg(f.acos(d)),0>e&&(b.rotate=360-b.rotate)):b.rotate=a.deg(f.asin(e));b.isSimple=!+b.shear.toFixed(9)&&(b.scalex.toFixed(9)==b.scaley.toFixed(9)||!b.rotate);b.isSuperSimple=!+b.shear.toFixed(9)&&b.scalex.toFixed(9)==b.scaley.toFixed(9)&&!b.rotate;b.noRotation=!+b.shear.toFixed(9)&&!b.rotate;return b};n.toTransformString=function(a){a=a||this.split();if(+a.shear.toFixed(9))return\"m\"+[this.get(0),\n",
       "this.get(1),this.get(2),this.get(3),this.get(4),this.get(5)];a.scalex=+a.scalex.toFixed(4);a.scaley=+a.scaley.toFixed(4);a.rotate=+a.rotate.toFixed(4);return(a.dx||a.dy?\"t\"+[+a.dx.toFixed(4),+a.dy.toFixed(4)]:\"\")+(1!=a.scalex||1!=a.scaley?\"s\"+[a.scalex,a.scaley,0,0]:\"\")+(a.rotate?\"r\"+[+a.rotate.toFixed(4),0,0]:\"\")}})(w.prototype);a.Matrix=w;a.matrix=function(a,d,f,b,k,e){return new w(a,d,f,b,k,e)}});C.plugin(function(a,v,y,M,A){function w(h){return function(d){k.stop();d instanceof A&&1==d.node.childNodes.length&&\n",
       "(\"radialGradient\"==d.node.firstChild.tagName||\"linearGradient\"==d.node.firstChild.tagName||\"pattern\"==d.node.firstChild.tagName)&&(d=d.node.firstChild,b(this).appendChild(d),d=u(d));if(d instanceof v)if(\"radialGradient\"==d.type||\"linearGradient\"==d.type||\"pattern\"==d.type){d.node.id||e(d.node,{id:d.id});var f=l(d.node.id)}else f=d.attr(h);else f=a.color(d),f.error?(f=a(b(this).ownerSVGElement).gradient(d))?(f.node.id||e(f.node,{id:f.id}),f=l(f.node.id)):f=d:f=r(f);d={};d[h]=f;e(this.node,d);this.node.style[h]=\n",
       "x}}function z(a){k.stop();a==+a&&(a+=\"px\");this.node.style.fontSize=a}function d(a){var b=[];a=a.childNodes;for(var e=0,f=a.length;e<f;e++){var l=a[e];3==l.nodeType&&b.push(l.nodeValue);\"tspan\"==l.tagName&&(1==l.childNodes.length&&3==l.firstChild.nodeType?b.push(l.firstChild.nodeValue):b.push(d(l)))}return b}function f(){k.stop();return this.node.style.fontSize}var n=a._.make,u=a._.wrap,p=a.is,b=a._.getSomeDefs,q=/^url\\(#?([^)]+)\\)$/,e=a._.$,l=a.url,r=String,s=a._.separator,x=\"\";k.on(\"snap.util.attr.mask\",\n",
       "function(a){if(a instanceof v||a instanceof A){k.stop();a instanceof A&&1==a.node.childNodes.length&&(a=a.node.firstChild,b(this).appendChild(a),a=u(a));if(\"mask\"==a.type)var d=a;else d=n(\"mask\",b(this)),d.node.appendChild(a.node);!d.node.id&&e(d.node,{id:d.id});e(this.node,{mask:l(d.id)})}});(function(a){k.on(\"snap.util.attr.clip\",a);k.on(\"snap.util.attr.clip-path\",a);k.on(\"snap.util.attr.clipPath\",a)})(function(a){if(a instanceof v||a instanceof A){k.stop();if(\"clipPath\"==a.type)var d=a;else d=\n",
       "n(\"clipPath\",b(this)),d.node.appendChild(a.node),!d.node.id&&e(d.node,{id:d.id});e(this.node,{\"clip-path\":l(d.id)})}});k.on(\"snap.util.attr.fill\",w(\"fill\"));k.on(\"snap.util.attr.stroke\",w(\"stroke\"));var G=/^([lr])(?:\\(([^)]*)\\))?(.*)$/i;k.on(\"snap.util.grad.parse\",function(a){a=r(a);var b=a.match(G);if(!b)return null;a=b[1];var e=b[2],b=b[3],e=e.split(/\\s*,\\s*/).map(function(a){return+a==a?+a:a});1==e.length&&0==e[0]&&(e=[]);b=b.split(\"-\");b=b.map(function(a){a=a.split(\":\");var b={color:a[0]};a[1]&&\n",
       "(b.offset=parseFloat(a[1]));return b});return{type:a,params:e,stops:b}});k.on(\"snap.util.attr.d\",function(b){k.stop();p(b,\"array\")&&p(b[0],\"array\")&&(b=a.path.toString.call(b));b=r(b);b.match(/[ruo]/i)&&(b=a.path.toAbsolute(b));e(this.node,{d:b})})(-1);k.on(\"snap.util.attr.#text\",function(a){k.stop();a=r(a);for(a=M.doc.createTextNode(a);this.node.firstChild;)this.node.removeChild(this.node.firstChild);this.node.appendChild(a)})(-1);k.on(\"snap.util.attr.path\",function(a){k.stop();this.attr({d:a})})(-1);\n",
       "k.on(\"snap.util.attr.class\",function(a){k.stop();this.node.className.baseVal=a})(-1);k.on(\"snap.util.attr.viewBox\",function(a){a=p(a,\"object\")&&\"x\"in a?[a.x,a.y,a.width,a.height].join(\" \"):p(a,\"array\")?a.join(\" \"):a;e(this.node,{viewBox:a});k.stop()})(-1);k.on(\"snap.util.attr.transform\",function(a){this.transform(a);k.stop()})(-1);k.on(\"snap.util.attr.r\",function(a){\"rect\"==this.type&&(k.stop(),e(this.node,{rx:a,ry:a}))})(-1);k.on(\"snap.util.attr.textpath\",function(a){k.stop();if(\"text\"==this.type){var d,\n",
       "f;if(!a&&this.textPath){for(a=this.textPath;a.node.firstChild;)this.node.appendChild(a.node.firstChild);a.remove();delete this.textPath}else if(p(a,\"string\")?(d=b(this),a=u(d.parentNode).path(a),d.appendChild(a.node),d=a.id,a.attr({id:d})):(a=u(a),a instanceof v&&(d=a.attr(\"id\"),d||(d=a.id,a.attr({id:d})))),d)if(a=this.textPath,f=this.node,a)a.attr({\"xlink:href\":\"#\"+d});else{for(a=e(\"textPath\",{\"xlink:href\":\"#\"+d});f.firstChild;)a.appendChild(f.firstChild);f.appendChild(a);this.textPath=u(a)}}})(-1);\n",
       "k.on(\"snap.util.attr.text\",function(a){if(\"text\"==this.type){for(var b=this.node,d=function(a){var b=e(\"tspan\");if(p(a,\"array\"))for(var f=0;f<a.length;f++)b.appendChild(d(a[f]));else b.appendChild(M.doc.createTextNode(a));b.normalize&&b.normalize();return b};b.firstChild;)b.removeChild(b.firstChild);for(a=d(a);a.firstChild;)b.appendChild(a.firstChild)}k.stop()})(-1);k.on(\"snap.util.attr.fontSize\",z)(-1);k.on(\"snap.util.attr.font-size\",z)(-1);k.on(\"snap.util.getattr.transform\",function(){k.stop();\n",
       "return this.transform()})(-1);k.on(\"snap.util.getattr.textpath\",function(){k.stop();return this.textPath})(-1);(function(){function b(d){return function(){k.stop();var b=M.doc.defaultView.getComputedStyle(this.node,null).getPropertyValue(\"marker-\"+d);return\"none\"==b?b:a(M.doc.getElementById(b.match(q)[1]))}}function d(a){return function(b){k.stop();var d=\"marker\"+a.charAt(0).toUpperCase()+a.substring(1);if(\"\"==b||!b)this.node.style[d]=\"none\";else if(\"marker\"==b.type){var f=b.node.id;f||e(b.node,{id:b.id});\n",
       "this.node.style[d]=l(f)}}}k.on(\"snap.util.getattr.marker-end\",b(\"end\"))(-1);k.on(\"snap.util.getattr.markerEnd\",b(\"end\"))(-1);k.on(\"snap.util.getattr.marker-start\",b(\"start\"))(-1);k.on(\"snap.util.getattr.markerStart\",b(\"start\"))(-1);k.on(\"snap.util.getattr.marker-mid\",b(\"mid\"))(-1);k.on(\"snap.util.getattr.markerMid\",b(\"mid\"))(-1);k.on(\"snap.util.attr.marker-end\",d(\"end\"))(-1);k.on(\"snap.util.attr.markerEnd\",d(\"end\"))(-1);k.on(\"snap.util.attr.marker-start\",d(\"start\"))(-1);k.on(\"snap.util.attr.markerStart\",\n",
       "d(\"start\"))(-1);k.on(\"snap.util.attr.marker-mid\",d(\"mid\"))(-1);k.on(\"snap.util.attr.markerMid\",d(\"mid\"))(-1)})();k.on(\"snap.util.getattr.r\",function(){if(\"rect\"==this.type&&e(this.node,\"rx\")==e(this.node,\"ry\"))return k.stop(),e(this.node,\"rx\")})(-1);k.on(\"snap.util.getattr.text\",function(){if(\"text\"==this.type||\"tspan\"==this.type){k.stop();var a=d(this.node);return 1==a.length?a[0]:a}})(-1);k.on(\"snap.util.getattr.#text\",function(){return this.node.textContent})(-1);k.on(\"snap.util.getattr.viewBox\",\n",
       "function(){k.stop();var b=e(this.node,\"viewBox\");if(b)return b=b.split(s),a._.box(+b[0],+b[1],+b[2],+b[3])})(-1);k.on(\"snap.util.getattr.points\",function(){var a=e(this.node,\"points\");k.stop();if(a)return a.split(s)})(-1);k.on(\"snap.util.getattr.path\",function(){var a=e(this.node,\"d\");k.stop();return a})(-1);k.on(\"snap.util.getattr.class\",function(){return this.node.className.baseVal})(-1);k.on(\"snap.util.getattr.fontSize\",f)(-1);k.on(\"snap.util.getattr.font-size\",f)(-1)});C.plugin(function(a,v,y,\n",
       "M,A){function w(a){return a}function z(a){return function(b){return+b.toFixed(3)+a}}var d={\"+\":function(a,b){return a+b},\"-\":function(a,b){return a-b},\"/\":function(a,b){return a/b},\"*\":function(a,b){return a*b}},f=String,n=/[a-z]+$/i,u=/^\\s*([+\\-\\/*])\\s*=\\s*([\\d.eE+\\-]+)\\s*([^\\d\\s]+)?\\s*$/;k.on(\"snap.util.attr\",function(a){if(a=f(a).match(u)){var b=k.nt(),b=b.substring(b.lastIndexOf(\".\")+1),q=this.attr(b),e={};k.stop();var l=a[3]||\"\",r=q.match(n),s=d[a[1] ];r&&r==l?a=s(parseFloat(q),+a[2]):(q=this.asPX(b),\n",
       "a=s(this.asPX(b),this.asPX(b,a[2]+l)));isNaN(q)||isNaN(a)||(e[b]=a,this.attr(e))}})(-10);k.on(\"snap.util.equal\",function(a,b){var q=f(this.attr(a)||\"\"),e=f(b).match(u);if(e){k.stop();var l=e[3]||\"\",r=q.match(n),s=d[e[1] ];if(r&&r==l)return{from:parseFloat(q),to:s(parseFloat(q),+e[2]),f:z(r)};q=this.asPX(a);return{from:q,to:s(q,this.asPX(a,e[2]+l)),f:w}}})(-10)});C.plugin(function(a,v,y,M,A){var w=y.prototype,z=a.is;w.rect=function(a,d,k,p,b,q){var e;null==q&&(q=b);z(a,\"object\")&&\"[object Object]\"==\n",
       "a?e=a:null!=a&&(e={x:a,y:d,width:k,height:p},null!=b&&(e.rx=b,e.ry=q));return this.el(\"rect\",e)};w.circle=function(a,d,k){var p;z(a,\"object\")&&\"[object Object]\"==a?p=a:null!=a&&(p={cx:a,cy:d,r:k});return this.el(\"circle\",p)};var d=function(){function a(){this.parentNode.removeChild(this)}return function(d,k){var p=M.doc.createElement(\"img\"),b=M.doc.body;p.style.cssText=\"position:absolute;left:-9999em;top:-9999em\";p.onload=function(){k.call(p);p.onload=p.onerror=null;b.removeChild(p)};p.onerror=a;\n",
       "b.appendChild(p);p.src=d}}();w.image=function(f,n,k,p,b){var q=this.el(\"image\");if(z(f,\"object\")&&\"src\"in f)q.attr(f);else if(null!=f){var e={\"xlink:href\":f,preserveAspectRatio:\"none\"};null!=n&&null!=k&&(e.x=n,e.y=k);null!=p&&null!=b?(e.width=p,e.height=b):d(f,function(){a._.$(q.node,{width:this.offsetWidth,height:this.offsetHeight})});a._.$(q.node,e)}return q};w.ellipse=function(a,d,k,p){var b;z(a,\"object\")&&\"[object Object]\"==a?b=a:null!=a&&(b={cx:a,cy:d,rx:k,ry:p});return this.el(\"ellipse\",b)};\n",
       "w.path=function(a){var d;z(a,\"object\")&&!z(a,\"array\")?d=a:a&&(d={d:a});return this.el(\"path\",d)};w.group=w.g=function(a){var d=this.el(\"g\");1==arguments.length&&a&&!a.type?d.attr(a):arguments.length&&d.add(Array.prototype.slice.call(arguments,0));return d};w.svg=function(a,d,k,p,b,q,e,l){var r={};z(a,\"object\")&&null==d?r=a:(null!=a&&(r.x=a),null!=d&&(r.y=d),null!=k&&(r.width=k),null!=p&&(r.height=p),null!=b&&null!=q&&null!=e&&null!=l&&(r.viewBox=[b,q,e,l]));return this.el(\"svg\",r)};w.mask=function(a){var d=\n",
       "this.el(\"mask\");1==arguments.length&&a&&!a.type?d.attr(a):arguments.length&&d.add(Array.prototype.slice.call(arguments,0));return d};w.ptrn=function(a,d,k,p,b,q,e,l){if(z(a,\"object\"))var r=a;else arguments.length?(r={},null!=a&&(r.x=a),null!=d&&(r.y=d),null!=k&&(r.width=k),null!=p&&(r.height=p),null!=b&&null!=q&&null!=e&&null!=l&&(r.viewBox=[b,q,e,l])):r={patternUnits:\"userSpaceOnUse\"};return this.el(\"pattern\",r)};w.use=function(a){return null!=a?(make(\"use\",this.node),a instanceof v&&(a.attr(\"id\")||\n",
       "a.attr({id:ID()}),a=a.attr(\"id\")),this.el(\"use\",{\"xlink:href\":a})):v.prototype.use.call(this)};w.text=function(a,d,k){var p={};z(a,\"object\")?p=a:null!=a&&(p={x:a,y:d,text:k||\"\"});return this.el(\"text\",p)};w.line=function(a,d,k,p){var b={};z(a,\"object\")?b=a:null!=a&&(b={x1:a,x2:k,y1:d,y2:p});return this.el(\"line\",b)};w.polyline=function(a){1<arguments.length&&(a=Array.prototype.slice.call(arguments,0));var d={};z(a,\"object\")&&!z(a,\"array\")?d=a:null!=a&&(d={points:a});return this.el(\"polyline\",d)};\n",
       "w.polygon=function(a){1<arguments.length&&(a=Array.prototype.slice.call(arguments,0));var d={};z(a,\"object\")&&!z(a,\"array\")?d=a:null!=a&&(d={points:a});return this.el(\"polygon\",d)};(function(){function d(){return this.selectAll(\"stop\")}function n(b,d){var f=e(\"stop\"),k={offset:+d+\"%\"};b=a.color(b);k[\"stop-color\"]=b.hex;1>b.opacity&&(k[\"stop-opacity\"]=b.opacity);e(f,k);this.node.appendChild(f);return this}function u(){if(\"linearGradient\"==this.type){var b=e(this.node,\"x1\")||0,d=e(this.node,\"x2\")||\n",
       "1,f=e(this.node,\"y1\")||0,k=e(this.node,\"y2\")||0;return a._.box(b,f,math.abs(d-b),math.abs(k-f))}b=this.node.r||0;return a._.box((this.node.cx||0.5)-b,(this.node.cy||0.5)-b,2*b,2*b)}function p(a,d){function f(a,b){for(var d=(b-u)/(a-w),e=w;e<a;e++)h[e].offset=+(+u+d*(e-w)).toFixed(2);w=a;u=b}var n=k(\"snap.util.grad.parse\",null,d).firstDefined(),p;if(!n)return null;n.params.unshift(a);p=\"l\"==n.type.toLowerCase()?b.apply(0,n.params):q.apply(0,n.params);n.type!=n.type.toLowerCase()&&e(p.node,{gradientUnits:\"userSpaceOnUse\"});\n",
       "var h=n.stops,n=h.length,u=0,w=0;n--;for(var v=0;v<n;v++)\"offset\"in h[v]&&f(v,h[v].offset);h[n].offset=h[n].offset||100;f(n,h[n].offset);for(v=0;v<=n;v++){var y=h[v];p.addStop(y.color,y.offset)}return p}function b(b,k,p,q,w){b=a._.make(\"linearGradient\",b);b.stops=d;b.addStop=n;b.getBBox=u;null!=k&&e(b.node,{x1:k,y1:p,x2:q,y2:w});return b}function q(b,k,p,q,w,h){b=a._.make(\"radialGradient\",b);b.stops=d;b.addStop=n;b.getBBox=u;null!=k&&e(b.node,{cx:k,cy:p,r:q});null!=w&&null!=h&&e(b.node,{fx:w,fy:h});\n",
       "return b}var e=a._.$;w.gradient=function(a){return p(this.defs,a)};w.gradientLinear=function(a,d,e,f){return b(this.defs,a,d,e,f)};w.gradientRadial=function(a,b,d,e,f){return q(this.defs,a,b,d,e,f)};w.toString=function(){var b=this.node.ownerDocument,d=b.createDocumentFragment(),b=b.createElement(\"div\"),e=this.node.cloneNode(!0);d.appendChild(b);b.appendChild(e);a._.$(e,{xmlns:\"http://www.w3.org/2000/svg\"});b=b.innerHTML;d.removeChild(d.firstChild);return b};w.clear=function(){for(var a=this.node.firstChild,\n",
       "b;a;)b=a.nextSibling,\"defs\"!=a.tagName?a.parentNode.removeChild(a):w.clear.call({node:a}),a=b}})()});C.plugin(function(a,k,y,M){function A(a){var b=A.ps=A.ps||{};b[a]?b[a].sleep=100:b[a]={sleep:100};setTimeout(function(){for(var d in b)b[L](d)&&d!=a&&(b[d].sleep--,!b[d].sleep&&delete b[d])});return b[a]}function w(a,b,d,e){null==a&&(a=b=d=e=0);null==b&&(b=a.y,d=a.width,e=a.height,a=a.x);return{x:a,y:b,width:d,w:d,height:e,h:e,x2:a+d,y2:b+e,cx:a+d/2,cy:b+e/2,r1:F.min(d,e)/2,r2:F.max(d,e)/2,r0:F.sqrt(d*\n",
       "d+e*e)/2,path:s(a,b,d,e),vb:[a,b,d,e].join(\" \")}}function z(){return this.join(\",\").replace(N,\"$1\")}function d(a){a=C(a);a.toString=z;return a}function f(a,b,d,h,f,k,l,n,p){if(null==p)return e(a,b,d,h,f,k,l,n);if(0>p||e(a,b,d,h,f,k,l,n)<p)p=void 0;else{var q=0.5,O=1-q,s;for(s=e(a,b,d,h,f,k,l,n,O);0.01<Z(s-p);)q/=2,O+=(s<p?1:-1)*q,s=e(a,b,d,h,f,k,l,n,O);p=O}return u(a,b,d,h,f,k,l,n,p)}function n(b,d){function e(a){return+(+a).toFixed(3)}return a._.cacher(function(a,h,l){a instanceof k&&(a=a.attr(\"d\"));\n",
       "a=I(a);for(var n,p,D,q,O=\"\",s={},c=0,t=0,r=a.length;t<r;t++){D=a[t];if(\"M\"==D[0])n=+D[1],p=+D[2];else{q=f(n,p,D[1],D[2],D[3],D[4],D[5],D[6]);if(c+q>h){if(d&&!s.start){n=f(n,p,D[1],D[2],D[3],D[4],D[5],D[6],h-c);O+=[\"C\"+e(n.start.x),e(n.start.y),e(n.m.x),e(n.m.y),e(n.x),e(n.y)];if(l)return O;s.start=O;O=[\"M\"+e(n.x),e(n.y)+\"C\"+e(n.n.x),e(n.n.y),e(n.end.x),e(n.end.y),e(D[5]),e(D[6])].join();c+=q;n=+D[5];p=+D[6];continue}if(!b&&!d)return n=f(n,p,D[1],D[2],D[3],D[4],D[5],D[6],h-c)}c+=q;n=+D[5];p=+D[6]}O+=\n",
       "D.shift()+D}s.end=O;return n=b?c:d?s:u(n,p,D[0],D[1],D[2],D[3],D[4],D[5],1)},null,a._.clone)}function u(a,b,d,e,h,f,k,l,n){var p=1-n,q=ma(p,3),s=ma(p,2),c=n*n,t=c*n,r=q*a+3*s*n*d+3*p*n*n*h+t*k,q=q*b+3*s*n*e+3*p*n*n*f+t*l,s=a+2*n*(d-a)+c*(h-2*d+a),t=b+2*n*(e-b)+c*(f-2*e+b),x=d+2*n*(h-d)+c*(k-2*h+d),c=e+2*n*(f-e)+c*(l-2*f+e);a=p*a+n*d;b=p*b+n*e;h=p*h+n*k;f=p*f+n*l;l=90-180*F.atan2(s-x,t-c)/S;return{x:r,y:q,m:{x:s,y:t},n:{x:x,y:c},start:{x:a,y:b},end:{x:h,y:f},alpha:l}}function p(b,d,e,h,f,n,k,l){a.is(b,\n",
       "\"array\")||(b=[b,d,e,h,f,n,k,l]);b=U.apply(null,b);return w(b.min.x,b.min.y,b.max.x-b.min.x,b.max.y-b.min.y)}function b(a,b,d){return b>=a.x&&b<=a.x+a.width&&d>=a.y&&d<=a.y+a.height}function q(a,d){a=w(a);d=w(d);return b(d,a.x,a.y)||b(d,a.x2,a.y)||b(d,a.x,a.y2)||b(d,a.x2,a.y2)||b(a,d.x,d.y)||b(a,d.x2,d.y)||b(a,d.x,d.y2)||b(a,d.x2,d.y2)||(a.x<d.x2&&a.x>d.x||d.x<a.x2&&d.x>a.x)&&(a.y<d.y2&&a.y>d.y||d.y<a.y2&&d.y>a.y)}function e(a,b,d,e,h,f,n,k,l){null==l&&(l=1);l=(1<l?1:0>l?0:l)/2;for(var p=[-0.1252,\n",
       "0.1252,-0.3678,0.3678,-0.5873,0.5873,-0.7699,0.7699,-0.9041,0.9041,-0.9816,0.9816],q=[0.2491,0.2491,0.2335,0.2335,0.2032,0.2032,0.1601,0.1601,0.1069,0.1069,0.0472,0.0472],s=0,c=0;12>c;c++)var t=l*p[c]+l,r=t*(t*(-3*a+9*d-9*h+3*n)+6*a-12*d+6*h)-3*a+3*d,t=t*(t*(-3*b+9*e-9*f+3*k)+6*b-12*e+6*f)-3*b+3*e,s=s+q[c]*F.sqrt(r*r+t*t);return l*s}function l(a,b,d){a=I(a);b=I(b);for(var h,f,l,n,k,s,r,O,x,c,t=d?0:[],w=0,v=a.length;w<v;w++)if(x=a[w],\"M\"==x[0])h=k=x[1],f=s=x[2];else{\"C\"==x[0]?(x=[h,f].concat(x.slice(1)),\n",
       "h=x[6],f=x[7]):(x=[h,f,h,f,k,s,k,s],h=k,f=s);for(var G=0,y=b.length;G<y;G++)if(c=b[G],\"M\"==c[0])l=r=c[1],n=O=c[2];else{\"C\"==c[0]?(c=[l,n].concat(c.slice(1)),l=c[6],n=c[7]):(c=[l,n,l,n,r,O,r,O],l=r,n=O);var z;var K=x,B=c;z=d;var H=p(K),J=p(B);if(q(H,J)){for(var H=e.apply(0,K),J=e.apply(0,B),H=~~(H/8),J=~~(J/8),U=[],A=[],F={},M=z?0:[],P=0;P<H+1;P++){var C=u.apply(0,K.concat(P/H));U.push({x:C.x,y:C.y,t:P/H})}for(P=0;P<J+1;P++)C=u.apply(0,B.concat(P/J)),A.push({x:C.x,y:C.y,t:P/J});for(P=0;P<H;P++)for(K=\n",
       "0;K<J;K++){var Q=U[P],L=U[P+1],B=A[K],C=A[K+1],N=0.001>Z(L.x-Q.x)?\"y\":\"x\",S=0.001>Z(C.x-B.x)?\"y\":\"x\",R;R=Q.x;var Y=Q.y,V=L.x,ea=L.y,fa=B.x,ga=B.y,ha=C.x,ia=C.y;if(W(R,V)<X(fa,ha)||X(R,V)>W(fa,ha)||W(Y,ea)<X(ga,ia)||X(Y,ea)>W(ga,ia))R=void 0;else{var $=(R*ea-Y*V)*(fa-ha)-(R-V)*(fa*ia-ga*ha),aa=(R*ea-Y*V)*(ga-ia)-(Y-ea)*(fa*ia-ga*ha),ja=(R-V)*(ga-ia)-(Y-ea)*(fa-ha);if(ja){var $=$/ja,aa=aa/ja,ja=+$.toFixed(2),ba=+aa.toFixed(2);R=ja<+X(R,V).toFixed(2)||ja>+W(R,V).toFixed(2)||ja<+X(fa,ha).toFixed(2)||\n",
       "ja>+W(fa,ha).toFixed(2)||ba<+X(Y,ea).toFixed(2)||ba>+W(Y,ea).toFixed(2)||ba<+X(ga,ia).toFixed(2)||ba>+W(ga,ia).toFixed(2)?void 0:{x:$,y:aa}}else R=void 0}R&&F[R.x.toFixed(4)]!=R.y.toFixed(4)&&(F[R.x.toFixed(4)]=R.y.toFixed(4),Q=Q.t+Z((R[N]-Q[N])/(L[N]-Q[N]))*(L.t-Q.t),B=B.t+Z((R[S]-B[S])/(C[S]-B[S]))*(C.t-B.t),0<=Q&&1>=Q&&0<=B&&1>=B&&(z?M++:M.push({x:R.x,y:R.y,t1:Q,t2:B})))}z=M}else z=z?0:[];if(d)t+=z;else{H=0;for(J=z.length;H<J;H++)z[H].segment1=w,z[H].segment2=G,z[H].bez1=x,z[H].bez2=c;t=t.concat(z)}}}return t}\n",
       "function r(a){var b=A(a);if(b.bbox)return C(b.bbox);if(!a)return w();a=I(a);for(var d=0,e=0,h=[],f=[],l,n=0,k=a.length;n<k;n++)l=a[n],\"M\"==l[0]?(d=l[1],e=l[2],h.push(d),f.push(e)):(d=U(d,e,l[1],l[2],l[3],l[4],l[5],l[6]),h=h.concat(d.min.x,d.max.x),f=f.concat(d.min.y,d.max.y),d=l[5],e=l[6]);a=X.apply(0,h);l=X.apply(0,f);h=W.apply(0,h);f=W.apply(0,f);f=w(a,l,h-a,f-l);b.bbox=C(f);return f}function s(a,b,d,e,h){if(h)return[[\"M\",+a+ +h,b],[\"l\",d-2*h,0],[\"a\",h,h,0,0,1,h,h],[\"l\",0,e-2*h],[\"a\",h,h,0,0,1,\n",
       "-h,h],[\"l\",2*h-d,0],[\"a\",h,h,0,0,1,-h,-h],[\"l\",0,2*h-e],[\"a\",h,h,0,0,1,h,-h],[\"z\"] ];a=[[\"M\",a,b],[\"l\",d,0],[\"l\",0,e],[\"l\",-d,0],[\"z\"] ];a.toString=z;return a}function x(a,b,d,e,h){null==h&&null==e&&(e=d);a=+a;b=+b;d=+d;e=+e;if(null!=h){var f=Math.PI/180,l=a+d*Math.cos(-e*f);a+=d*Math.cos(-h*f);var n=b+d*Math.sin(-e*f);b+=d*Math.sin(-h*f);d=[[\"M\",l,n],[\"A\",d,d,0,+(180<h-e),0,a,b] ]}else d=[[\"M\",a,b],[\"m\",0,-e],[\"a\",d,e,0,1,1,0,2*e],[\"a\",d,e,0,1,1,0,-2*e],[\"z\"] ];d.toString=z;return d}function G(b){var e=\n",
       "A(b);if(e.abs)return d(e.abs);Q(b,\"array\")&&Q(b&&b[0],\"array\")||(b=a.parsePathString(b));if(!b||!b.length)return[[\"M\",0,0] ];var h=[],f=0,l=0,n=0,k=0,p=0;\"M\"==b[0][0]&&(f=+b[0][1],l=+b[0][2],n=f,k=l,p++,h[0]=[\"M\",f,l]);for(var q=3==b.length&&\"M\"==b[0][0]&&\"R\"==b[1][0].toUpperCase()&&\"Z\"==b[2][0].toUpperCase(),s,r,w=p,c=b.length;w<c;w++){h.push(s=[]);r=b[w];p=r[0];if(p!=p.toUpperCase())switch(s[0]=p.toUpperCase(),s[0]){case \"A\":s[1]=r[1];s[2]=r[2];s[3]=r[3];s[4]=r[4];s[5]=r[5];s[6]=+r[6]+f;s[7]=+r[7]+\n",
       "l;break;case \"V\":s[1]=+r[1]+l;break;case \"H\":s[1]=+r[1]+f;break;case \"R\":for(var t=[f,l].concat(r.slice(1)),u=2,v=t.length;u<v;u++)t[u]=+t[u]+f,t[++u]=+t[u]+l;h.pop();h=h.concat(P(t,q));break;case \"O\":h.pop();t=x(f,l,r[1],r[2]);t.push(t[0]);h=h.concat(t);break;case \"U\":h.pop();h=h.concat(x(f,l,r[1],r[2],r[3]));s=[\"U\"].concat(h[h.length-1].slice(-2));break;case \"M\":n=+r[1]+f,k=+r[2]+l;default:for(u=1,v=r.length;u<v;u++)s[u]=+r[u]+(u%2?f:l)}else if(\"R\"==p)t=[f,l].concat(r.slice(1)),h.pop(),h=h.concat(P(t,\n",
       "q)),s=[\"R\"].concat(r.slice(-2));else if(\"O\"==p)h.pop(),t=x(f,l,r[1],r[2]),t.push(t[0]),h=h.concat(t);else if(\"U\"==p)h.pop(),h=h.concat(x(f,l,r[1],r[2],r[3])),s=[\"U\"].concat(h[h.length-1].slice(-2));else for(t=0,u=r.length;t<u;t++)s[t]=r[t];p=p.toUpperCase();if(\"O\"!=p)switch(s[0]){case \"Z\":f=+n;l=+k;break;case \"H\":f=s[1];break;case \"V\":l=s[1];break;case \"M\":n=s[s.length-2],k=s[s.length-1];default:f=s[s.length-2],l=s[s.length-1]}}h.toString=z;e.abs=d(h);return h}function h(a,b,d,e){return[a,b,d,e,d,\n",
       "e]}function J(a,b,d,e,h,f){var l=1/3,n=2/3;return[l*a+n*d,l*b+n*e,l*h+n*d,l*f+n*e,h,f]}function K(b,d,e,h,f,l,n,k,p,s){var r=120*S/180,q=S/180*(+f||0),c=[],t,x=a._.cacher(function(a,b,c){var d=a*F.cos(c)-b*F.sin(c);a=a*F.sin(c)+b*F.cos(c);return{x:d,y:a}});if(s)v=s[0],t=s[1],l=s[2],u=s[3];else{t=x(b,d,-q);b=t.x;d=t.y;t=x(k,p,-q);k=t.x;p=t.y;F.cos(S/180*f);F.sin(S/180*f);t=(b-k)/2;v=(d-p)/2;u=t*t/(e*e)+v*v/(h*h);1<u&&(u=F.sqrt(u),e*=u,h*=u);var u=e*e,w=h*h,u=(l==n?-1:1)*F.sqrt(Z((u*w-u*v*v-w*t*t)/\n",
       "(u*v*v+w*t*t)));l=u*e*v/h+(b+k)/2;var u=u*-h*t/e+(d+p)/2,v=F.asin(((d-u)/h).toFixed(9));t=F.asin(((p-u)/h).toFixed(9));v=b<l?S-v:v;t=k<l?S-t:t;0>v&&(v=2*S+v);0>t&&(t=2*S+t);n&&v>t&&(v-=2*S);!n&&t>v&&(t-=2*S)}if(Z(t-v)>r){var c=t,w=k,G=p;t=v+r*(n&&t>v?1:-1);k=l+e*F.cos(t);p=u+h*F.sin(t);c=K(k,p,e,h,f,0,n,w,G,[t,c,l,u])}l=t-v;f=F.cos(v);r=F.sin(v);n=F.cos(t);t=F.sin(t);l=F.tan(l/4);e=4/3*e*l;l*=4/3*h;h=[b,d];b=[b+e*r,d-l*f];d=[k+e*t,p-l*n];k=[k,p];b[0]=2*h[0]-b[0];b[1]=2*h[1]-b[1];if(s)return[b,d,k].concat(c);\n",
       "c=[b,d,k].concat(c).join().split(\",\");s=[];k=0;for(p=c.length;k<p;k++)s[k]=k%2?x(c[k-1],c[k],q).y:x(c[k],c[k+1],q).x;return s}function U(a,b,d,e,h,f,l,k){for(var n=[],p=[[],[] ],s,r,c,t,q=0;2>q;++q)0==q?(r=6*a-12*d+6*h,s=-3*a+9*d-9*h+3*l,c=3*d-3*a):(r=6*b-12*e+6*f,s=-3*b+9*e-9*f+3*k,c=3*e-3*b),1E-12>Z(s)?1E-12>Z(r)||(s=-c/r,0<s&&1>s&&n.push(s)):(t=r*r-4*c*s,c=F.sqrt(t),0>t||(t=(-r+c)/(2*s),0<t&&1>t&&n.push(t),s=(-r-c)/(2*s),0<s&&1>s&&n.push(s)));for(r=q=n.length;q--;)s=n[q],c=1-s,p[0][q]=c*c*c*a+3*\n",
       "c*c*s*d+3*c*s*s*h+s*s*s*l,p[1][q]=c*c*c*b+3*c*c*s*e+3*c*s*s*f+s*s*s*k;p[0][r]=a;p[1][r]=b;p[0][r+1]=l;p[1][r+1]=k;p[0].length=p[1].length=r+2;return{min:{x:X.apply(0,p[0]),y:X.apply(0,p[1])},max:{x:W.apply(0,p[0]),y:W.apply(0,p[1])}}}function I(a,b){var e=!b&&A(a);if(!b&&e.curve)return d(e.curve);var f=G(a),l=b&&G(b),n={x:0,y:0,bx:0,by:0,X:0,Y:0,qx:null,qy:null},k={x:0,y:0,bx:0,by:0,X:0,Y:0,qx:null,qy:null},p=function(a,b,c){if(!a)return[\"C\",b.x,b.y,b.x,b.y,b.x,b.y];a[0]in{T:1,Q:1}||(b.qx=b.qy=null);\n",
       "switch(a[0]){case \"M\":b.X=a[1];b.Y=a[2];break;case \"A\":a=[\"C\"].concat(K.apply(0,[b.x,b.y].concat(a.slice(1))));break;case \"S\":\"C\"==c||\"S\"==c?(c=2*b.x-b.bx,b=2*b.y-b.by):(c=b.x,b=b.y);a=[\"C\",c,b].concat(a.slice(1));break;case \"T\":\"Q\"==c||\"T\"==c?(b.qx=2*b.x-b.qx,b.qy=2*b.y-b.qy):(b.qx=b.x,b.qy=b.y);a=[\"C\"].concat(J(b.x,b.y,b.qx,b.qy,a[1],a[2]));break;case \"Q\":b.qx=a[1];b.qy=a[2];a=[\"C\"].concat(J(b.x,b.y,a[1],a[2],a[3],a[4]));break;case \"L\":a=[\"C\"].concat(h(b.x,b.y,a[1],a[2]));break;case \"H\":a=[\"C\"].concat(h(b.x,\n",
       "b.y,a[1],b.y));break;case \"V\":a=[\"C\"].concat(h(b.x,b.y,b.x,a[1]));break;case \"Z\":a=[\"C\"].concat(h(b.x,b.y,b.X,b.Y))}return a},s=function(a,b){if(7<a[b].length){a[b].shift();for(var c=a[b];c.length;)q[b]=\"A\",l&&(u[b]=\"A\"),a.splice(b++,0,[\"C\"].concat(c.splice(0,6)));a.splice(b,1);v=W(f.length,l&&l.length||0)}},r=function(a,b,c,d,e){a&&b&&\"M\"==a[e][0]&&\"M\"!=b[e][0]&&(b.splice(e,0,[\"M\",d.x,d.y]),c.bx=0,c.by=0,c.x=a[e][1],c.y=a[e][2],v=W(f.length,l&&l.length||0))},q=[],u=[],c=\"\",t=\"\",x=0,v=W(f.length,\n",
       "l&&l.length||0);for(;x<v;x++){f[x]&&(c=f[x][0]);\"C\"!=c&&(q[x]=c,x&&(t=q[x-1]));f[x]=p(f[x],n,t);\"A\"!=q[x]&&\"C\"==c&&(q[x]=\"C\");s(f,x);l&&(l[x]&&(c=l[x][0]),\"C\"!=c&&(u[x]=c,x&&(t=u[x-1])),l[x]=p(l[x],k,t),\"A\"!=u[x]&&\"C\"==c&&(u[x]=\"C\"),s(l,x));r(f,l,n,k,x);r(l,f,k,n,x);var w=f[x],z=l&&l[x],y=w.length,U=l&&z.length;n.x=w[y-2];n.y=w[y-1];n.bx=$(w[y-4])||n.x;n.by=$(w[y-3])||n.y;k.bx=l&&($(z[U-4])||k.x);k.by=l&&($(z[U-3])||k.y);k.x=l&&z[U-2];k.y=l&&z[U-1]}l||(e.curve=d(f));return l?[f,l]:f}function P(a,\n",
       "b){for(var d=[],e=0,h=a.length;h-2*!b>e;e+=2){var f=[{x:+a[e-2],y:+a[e-1]},{x:+a[e],y:+a[e+1]},{x:+a[e+2],y:+a[e+3]},{x:+a[e+4],y:+a[e+5]}];b?e?h-4==e?f[3]={x:+a[0],y:+a[1]}:h-2==e&&(f[2]={x:+a[0],y:+a[1]},f[3]={x:+a[2],y:+a[3]}):f[0]={x:+a[h-2],y:+a[h-1]}:h-4==e?f[3]=f[2]:e||(f[0]={x:+a[e],y:+a[e+1]});d.push([\"C\",(-f[0].x+6*f[1].x+f[2].x)/6,(-f[0].y+6*f[1].y+f[2].y)/6,(f[1].x+6*f[2].x-f[3].x)/6,(f[1].y+6*f[2].y-f[3].y)/6,f[2].x,f[2].y])}return d}y=k.prototype;var Q=a.is,C=a._.clone,L=\"hasOwnProperty\",\n",
       "N=/,?([a-z]),?/gi,$=parseFloat,F=Math,S=F.PI,X=F.min,W=F.max,ma=F.pow,Z=F.abs;M=n(1);var na=n(),ba=n(0,1),V=a._unit2px;a.path=A;a.path.getTotalLength=M;a.path.getPointAtLength=na;a.path.getSubpath=function(a,b,d){if(1E-6>this.getTotalLength(a)-d)return ba(a,b).end;a=ba(a,d,1);return b?ba(a,b).end:a};y.getTotalLength=function(){if(this.node.getTotalLength)return this.node.getTotalLength()};y.getPointAtLength=function(a){return na(this.attr(\"d\"),a)};y.getSubpath=function(b,d){return a.path.getSubpath(this.attr(\"d\"),\n",
       "b,d)};a._.box=w;a.path.findDotsAtSegment=u;a.path.bezierBBox=p;a.path.isPointInsideBBox=b;a.path.isBBoxIntersect=q;a.path.intersection=function(a,b){return l(a,b)};a.path.intersectionNumber=function(a,b){return l(a,b,1)};a.path.isPointInside=function(a,d,e){var h=r(a);return b(h,d,e)&&1==l(a,[[\"M\",d,e],[\"H\",h.x2+10] ],1)%2};a.path.getBBox=r;a.path.get={path:function(a){return a.attr(\"path\")},circle:function(a){a=V(a);return x(a.cx,a.cy,a.r)},ellipse:function(a){a=V(a);return x(a.cx||0,a.cy||0,a.rx,\n",
       "a.ry)},rect:function(a){a=V(a);return s(a.x||0,a.y||0,a.width,a.height,a.rx,a.ry)},image:function(a){a=V(a);return s(a.x||0,a.y||0,a.width,a.height)},line:function(a){return\"M\"+[a.attr(\"x1\")||0,a.attr(\"y1\")||0,a.attr(\"x2\"),a.attr(\"y2\")]},polyline:function(a){return\"M\"+a.attr(\"points\")},polygon:function(a){return\"M\"+a.attr(\"points\")+\"z\"},deflt:function(a){a=a.node.getBBox();return s(a.x,a.y,a.width,a.height)}};a.path.toRelative=function(b){var e=A(b),h=String.prototype.toLowerCase;if(e.rel)return d(e.rel);\n",
       "a.is(b,\"array\")&&a.is(b&&b[0],\"array\")||(b=a.parsePathString(b));var f=[],l=0,n=0,k=0,p=0,s=0;\"M\"==b[0][0]&&(l=b[0][1],n=b[0][2],k=l,p=n,s++,f.push([\"M\",l,n]));for(var r=b.length;s<r;s++){var q=f[s]=[],x=b[s];if(x[0]!=h.call(x[0]))switch(q[0]=h.call(x[0]),q[0]){case \"a\":q[1]=x[1];q[2]=x[2];q[3]=x[3];q[4]=x[4];q[5]=x[5];q[6]=+(x[6]-l).toFixed(3);q[7]=+(x[7]-n).toFixed(3);break;case \"v\":q[1]=+(x[1]-n).toFixed(3);break;case \"m\":k=x[1],p=x[2];default:for(var c=1,t=x.length;c<t;c++)q[c]=+(x[c]-(c%2?l:\n",
       "n)).toFixed(3)}else for(f[s]=[],\"m\"==x[0]&&(k=x[1]+l,p=x[2]+n),q=0,c=x.length;q<c;q++)f[s][q]=x[q];x=f[s].length;switch(f[s][0]){case \"z\":l=k;n=p;break;case \"h\":l+=+f[s][x-1];break;case \"v\":n+=+f[s][x-1];break;default:l+=+f[s][x-2],n+=+f[s][x-1]}}f.toString=z;e.rel=d(f);return f};a.path.toAbsolute=G;a.path.toCubic=I;a.path.map=function(a,b){if(!b)return a;var d,e,h,f,l,n,k;a=I(a);h=0;for(l=a.length;h<l;h++)for(k=a[h],f=1,n=k.length;f<n;f+=2)d=b.x(k[f],k[f+1]),e=b.y(k[f],k[f+1]),k[f]=d,k[f+1]=e;return a};\n",
       "a.path.toString=z;a.path.clone=d});C.plugin(function(a,v,y,C){var A=Math.max,w=Math.min,z=function(a){this.items=[];this.bindings={};this.length=0;this.type=\"set\";if(a)for(var f=0,n=a.length;f<n;f++)a[f]&&(this[this.items.length]=this.items[this.items.length]=a[f],this.length++)};v=z.prototype;v.push=function(){for(var a,f,n=0,k=arguments.length;n<k;n++)if(a=arguments[n])f=this.items.length,this[f]=this.items[f]=a,this.length++;return this};v.pop=function(){this.length&&delete this[this.length--];\n",
       "return this.items.pop()};v.forEach=function(a,f){for(var n=0,k=this.items.length;n<k&&!1!==a.call(f,this.items[n],n);n++);return this};v.animate=function(d,f,n,u){\"function\"!=typeof n||n.length||(u=n,n=L.linear);d instanceof a._.Animation&&(u=d.callback,n=d.easing,f=n.dur,d=d.attr);var p=arguments;if(a.is(d,\"array\")&&a.is(p[p.length-1],\"array\"))var b=!0;var q,e=function(){q?this.b=q:q=this.b},l=0,r=u&&function(){l++==this.length&&u.call(this)};return this.forEach(function(a,l){k.once(\"snap.animcreated.\"+\n",
       "a.id,e);b?p[l]&&a.animate.apply(a,p[l]):a.animate(d,f,n,r)})};v.remove=function(){for(;this.length;)this.pop().remove();return this};v.bind=function(a,f,k){var u={};if(\"function\"==typeof f)this.bindings[a]=f;else{var p=k||a;this.bindings[a]=function(a){u[p]=a;f.attr(u)}}return this};v.attr=function(a){var f={},k;for(k in a)if(this.bindings[k])this.bindings[k](a[k]);else f[k]=a[k];a=0;for(k=this.items.length;a<k;a++)this.items[a].attr(f);return this};v.clear=function(){for(;this.length;)this.pop()};\n",
       "v.splice=function(a,f,k){a=0>a?A(this.length+a,0):a;f=A(0,w(this.length-a,f));var u=[],p=[],b=[],q;for(q=2;q<arguments.length;q++)b.push(arguments[q]);for(q=0;q<f;q++)p.push(this[a+q]);for(;q<this.length-a;q++)u.push(this[a+q]);var e=b.length;for(q=0;q<e+u.length;q++)this.items[a+q]=this[a+q]=q<e?b[q]:u[q-e];for(q=this.items.length=this.length-=f-e;this[q];)delete this[q++];return new z(p)};v.exclude=function(a){for(var f=0,k=this.length;f<k;f++)if(this[f]==a)return this.splice(f,1),!0;return!1};\n",
       "v.insertAfter=function(a){for(var f=this.items.length;f--;)this.items[f].insertAfter(a);return this};v.getBBox=function(){for(var a=[],f=[],k=[],u=[],p=this.items.length;p--;)if(!this.items[p].removed){var b=this.items[p].getBBox();a.push(b.x);f.push(b.y);k.push(b.x+b.width);u.push(b.y+b.height)}a=w.apply(0,a);f=w.apply(0,f);k=A.apply(0,k);u=A.apply(0,u);return{x:a,y:f,x2:k,y2:u,width:k-a,height:u-f,cx:a+(k-a)/2,cy:f+(u-f)/2}};v.clone=function(a){a=new z;for(var f=0,k=this.items.length;f<k;f++)a.push(this.items[f].clone());\n",
       "return a};v.toString=function(){return\"Snap\\u2018s set\"};v.type=\"set\";a.set=function(){var a=new z;arguments.length&&a.push.apply(a,Array.prototype.slice.call(arguments,0));return a}});C.plugin(function(a,v,y,C){function A(a){var b=a[0];switch(b.toLowerCase()){case \"t\":return[b,0,0];case \"m\":return[b,1,0,0,1,0,0];case \"r\":return 4==a.length?[b,0,a[2],a[3] ]:[b,0];case \"s\":return 5==a.length?[b,1,1,a[3],a[4] ]:3==a.length?[b,1,1]:[b,1]}}function w(b,d,f){d=q(d).replace(/\\.{3}|\\u2026/g,b);b=a.parseTransformString(b)||\n",
       "[];d=a.parseTransformString(d)||[];for(var k=Math.max(b.length,d.length),p=[],v=[],h=0,w,z,y,I;h<k;h++){y=b[h]||A(d[h]);I=d[h]||A(y);if(y[0]!=I[0]||\"r\"==y[0].toLowerCase()&&(y[2]!=I[2]||y[3]!=I[3])||\"s\"==y[0].toLowerCase()&&(y[3]!=I[3]||y[4]!=I[4])){b=a._.transform2matrix(b,f());d=a._.transform2matrix(d,f());p=[[\"m\",b.a,b.b,b.c,b.d,b.e,b.f] ];v=[[\"m\",d.a,d.b,d.c,d.d,d.e,d.f] ];break}p[h]=[];v[h]=[];w=0;for(z=Math.max(y.length,I.length);w<z;w++)w in y&&(p[h][w]=y[w]),w in I&&(v[h][w]=I[w])}return{from:u(p),\n",
       "to:u(v),f:n(p)}}function z(a){return a}function d(a){return function(b){return+b.toFixed(3)+a}}function f(b){return a.rgb(b[0],b[1],b[2])}function n(a){var b=0,d,f,k,n,h,p,q=[];d=0;for(f=a.length;d<f;d++){h=\"[\";p=['\"'+a[d][0]+'\"'];k=1;for(n=a[d].length;k<n;k++)p[k]=\"val[\"+b++ +\"]\";h+=p+\"]\";q[d]=h}return Function(\"val\",\"return Snap.path.toString.call([\"+q+\"])\")}function u(a){for(var b=[],d=0,f=a.length;d<f;d++)for(var k=1,n=a[d].length;k<n;k++)b.push(a[d][k]);return b}var p={},b=/[a-z]+$/i,q=String;\n",
       "p.stroke=p.fill=\"colour\";v.prototype.equal=function(a,b){return k(\"snap.util.equal\",this,a,b).firstDefined()};k.on(\"snap.util.equal\",function(e,k){var r,s;r=q(this.attr(e)||\"\");var x=this;if(r==+r&&k==+k)return{from:+r,to:+k,f:z};if(\"colour\"==p[e])return r=a.color(r),s=a.color(k),{from:[r.r,r.g,r.b,r.opacity],to:[s.r,s.g,s.b,s.opacity],f:f};if(\"transform\"==e||\"gradientTransform\"==e||\"patternTransform\"==e)return k instanceof a.Matrix&&(k=k.toTransformString()),a._.rgTransform.test(k)||(k=a._.svgTransform2string(k)),\n",
       "w(r,k,function(){return x.getBBox(1)});if(\"d\"==e||\"path\"==e)return r=a.path.toCubic(r,k),{from:u(r[0]),to:u(r[1]),f:n(r[0])};if(\"points\"==e)return r=q(r).split(a._.separator),s=q(k).split(a._.separator),{from:r,to:s,f:function(a){return a}};aUnit=r.match(b);s=q(k).match(b);return aUnit&&aUnit==s?{from:parseFloat(r),to:parseFloat(k),f:d(aUnit)}:{from:this.asPX(e),to:this.asPX(e,k),f:z}})});C.plugin(function(a,v,y,C){var A=v.prototype,w=\"createTouch\"in C.doc;v=\"click dblclick mousedown mousemove mouseout mouseover mouseup touchstart touchmove touchend touchcancel\".split(\" \");\n",
       "var z={mousedown:\"touchstart\",mousemove:\"touchmove\",mouseup:\"touchend\"},d=function(a,b){var d=\"y\"==a?\"scrollTop\":\"scrollLeft\",e=b&&b.node?b.node.ownerDocument:C.doc;return e[d in e.documentElement?\"documentElement\":\"body\"][d]},f=function(){this.returnValue=!1},n=function(){return this.originalEvent.preventDefault()},u=function(){this.cancelBubble=!0},p=function(){return this.originalEvent.stopPropagation()},b=function(){if(C.doc.addEventListener)return function(a,b,e,f){var k=w&&z[b]?z[b]:b,l=function(k){var l=\n",
       "d(\"y\",f),q=d(\"x\",f);if(w&&z.hasOwnProperty(b))for(var r=0,u=k.targetTouches&&k.targetTouches.length;r<u;r++)if(k.targetTouches[r].target==a||a.contains(k.targetTouches[r].target)){u=k;k=k.targetTouches[r];k.originalEvent=u;k.preventDefault=n;k.stopPropagation=p;break}return e.call(f,k,k.clientX+q,k.clientY+l)};b!==k&&a.addEventListener(b,l,!1);a.addEventListener(k,l,!1);return function(){b!==k&&a.removeEventListener(b,l,!1);a.removeEventListener(k,l,!1);return!0}};if(C.doc.attachEvent)return function(a,\n",
       "b,e,h){var k=function(a){a=a||h.node.ownerDocument.window.event;var b=d(\"y\",h),k=d(\"x\",h),k=a.clientX+k,b=a.clientY+b;a.preventDefault=a.preventDefault||f;a.stopPropagation=a.stopPropagation||u;return e.call(h,a,k,b)};a.attachEvent(\"on\"+b,k);return function(){a.detachEvent(\"on\"+b,k);return!0}}}(),q=[],e=function(a){for(var b=a.clientX,e=a.clientY,f=d(\"y\"),l=d(\"x\"),n,p=q.length;p--;){n=q[p];if(w)for(var r=a.touches&&a.touches.length,u;r--;){if(u=a.touches[r],u.identifier==n.el._drag.id||n.el.node.contains(u.target)){b=\n",
       "u.clientX;e=u.clientY;(a.originalEvent?a.originalEvent:a).preventDefault();break}}else a.preventDefault();b+=l;e+=f;k(\"snap.drag.move.\"+n.el.id,n.move_scope||n.el,b-n.el._drag.x,e-n.el._drag.y,b,e,a)}},l=function(b){a.unmousemove(e).unmouseup(l);for(var d=q.length,f;d--;)f=q[d],f.el._drag={},k(\"snap.drag.end.\"+f.el.id,f.end_scope||f.start_scope||f.move_scope||f.el,b);q=[]};for(y=v.length;y--;)(function(d){a[d]=A[d]=function(e,f){a.is(e,\"function\")&&(this.events=this.events||[],this.events.push({name:d,\n",
       "f:e,unbind:b(this.node||document,d,e,f||this)}));return this};a[\"un\"+d]=A[\"un\"+d]=function(a){for(var b=this.events||[],e=b.length;e--;)if(b[e].name==d&&(b[e].f==a||!a)){b[e].unbind();b.splice(e,1);!b.length&&delete this.events;break}return this}})(v[y]);A.hover=function(a,b,d,e){return this.mouseover(a,d).mouseout(b,e||d)};A.unhover=function(a,b){return this.unmouseover(a).unmouseout(b)};var r=[];A.drag=function(b,d,f,h,n,p){function u(r,v,w){(r.originalEvent||r).preventDefault();this._drag.x=v;\n",
       "this._drag.y=w;this._drag.id=r.identifier;!q.length&&a.mousemove(e).mouseup(l);q.push({el:this,move_scope:h,start_scope:n,end_scope:p});d&&k.on(\"snap.drag.start.\"+this.id,d);b&&k.on(\"snap.drag.move.\"+this.id,b);f&&k.on(\"snap.drag.end.\"+this.id,f);k(\"snap.drag.start.\"+this.id,n||h||this,v,w,r)}if(!arguments.length){var v;return this.drag(function(a,b){this.attr({transform:v+(v?\"T\":\"t\")+[a,b]})},function(){v=this.transform().local})}this._drag={};r.push({el:this,start:u});this.mousedown(u);return this};\n",
       "A.undrag=function(){for(var b=r.length;b--;)r[b].el==this&&(this.unmousedown(r[b].start),r.splice(b,1),k.unbind(\"snap.drag.*.\"+this.id));!r.length&&a.unmousemove(e).unmouseup(l);return this}});C.plugin(function(a,v,y,C){y=y.prototype;var A=/^\\s*url\\((.+)\\)/,w=String,z=a._.$;a.filter={};y.filter=function(d){var f=this;\"svg\"!=f.type&&(f=f.paper);d=a.parse(w(d));var k=a._.id(),u=z(\"filter\");z(u,{id:k,filterUnits:\"userSpaceOnUse\"});u.appendChild(d.node);f.defs.appendChild(u);return new v(u)};k.on(\"snap.util.getattr.filter\",\n",
       "function(){k.stop();var d=z(this.node,\"filter\");if(d)return(d=w(d).match(A))&&a.select(d[1])});k.on(\"snap.util.attr.filter\",function(d){if(d instanceof v&&\"filter\"==d.type){k.stop();var f=d.node.id;f||(z(d.node,{id:d.id}),f=d.id);z(this.node,{filter:a.url(f)})}d&&\"none\"!=d||(k.stop(),this.node.removeAttribute(\"filter\"))});a.filter.blur=function(d,f){null==d&&(d=2);return a.format('<feGaussianBlur stdDeviation=\"{def}\"/>',{def:null==f?d:[d,f]})};a.filter.blur.toString=function(){return this()};a.filter.shadow=\n",
       "function(d,f,k,u,p){\"string\"==typeof k&&(p=u=k,k=4);\"string\"!=typeof u&&(p=u,u=\"#000\");null==k&&(k=4);null==p&&(p=1);null==d&&(d=0,f=2);null==f&&(f=d);u=a.color(u||\"#000\");return a.format('<feGaussianBlur in=\"SourceAlpha\" stdDeviation=\"{blur}\"/><feOffset dx=\"{dx}\" dy=\"{dy}\" result=\"offsetblur\"/><feFlood flood-color=\"{color}\"/><feComposite in2=\"offsetblur\" operator=\"in\"/><feComponentTransfer><feFuncA type=\"linear\" slope=\"{opacity}\"/></feComponentTransfer><feMerge><feMergeNode/><feMergeNode in=\"SourceGraphic\"/></feMerge>',\n",
       "{color:u,dx:d,dy:f,blur:k,opacity:p})};a.filter.shadow.toString=function(){return this()};a.filter.grayscale=function(d){null==d&&(d=1);return a.format('<feColorMatrix type=\"matrix\" values=\"{a} {b} {c} 0 0 {d} {e} {f} 0 0 {g} {b} {h} 0 0 0 0 0 1 0\"/>',{a:0.2126+0.7874*(1-d),b:0.7152-0.7152*(1-d),c:0.0722-0.0722*(1-d),d:0.2126-0.2126*(1-d),e:0.7152+0.2848*(1-d),f:0.0722-0.0722*(1-d),g:0.2126-0.2126*(1-d),h:0.0722+0.9278*(1-d)})};a.filter.grayscale.toString=function(){return this()};a.filter.sepia=\n",
       "function(d){null==d&&(d=1);return a.format('<feColorMatrix type=\"matrix\" values=\"{a} {b} {c} 0 0 {d} {e} {f} 0 0 {g} {h} {i} 0 0 0 0 0 1 0\"/>',{a:0.393+0.607*(1-d),b:0.769-0.769*(1-d),c:0.189-0.189*(1-d),d:0.349-0.349*(1-d),e:0.686+0.314*(1-d),f:0.168-0.168*(1-d),g:0.272-0.272*(1-d),h:0.534-0.534*(1-d),i:0.131+0.869*(1-d)})};a.filter.sepia.toString=function(){return this()};a.filter.saturate=function(d){null==d&&(d=1);return a.format('<feColorMatrix type=\"saturate\" values=\"{amount}\"/>',{amount:1-\n",
       "d})};a.filter.saturate.toString=function(){return this()};a.filter.hueRotate=function(d){return a.format('<feColorMatrix type=\"hueRotate\" values=\"{angle}\"/>',{angle:d||0})};a.filter.hueRotate.toString=function(){return this()};a.filter.invert=function(d){null==d&&(d=1);return a.format('<feComponentTransfer><feFuncR type=\"table\" tableValues=\"{amount} {amount2}\"/><feFuncG type=\"table\" tableValues=\"{amount} {amount2}\"/><feFuncB type=\"table\" tableValues=\"{amount} {amount2}\"/></feComponentTransfer>',{amount:d,\n",
       "amount2:1-d})};a.filter.invert.toString=function(){return this()};a.filter.brightness=function(d){null==d&&(d=1);return a.format('<feComponentTransfer><feFuncR type=\"linear\" slope=\"{amount}\"/><feFuncG type=\"linear\" slope=\"{amount}\"/><feFuncB type=\"linear\" slope=\"{amount}\"/></feComponentTransfer>',{amount:d})};a.filter.brightness.toString=function(){return this()};a.filter.contrast=function(d){null==d&&(d=1);return a.format('<feComponentTransfer><feFuncR type=\"linear\" slope=\"{amount}\" intercept=\"{amount2}\"/><feFuncG type=\"linear\" slope=\"{amount}\" intercept=\"{amount2}\"/><feFuncB type=\"linear\" slope=\"{amount}\" intercept=\"{amount2}\"/></feComponentTransfer>',\n",
       "{amount:d,amount2:0.5-d/2})};a.filter.contrast.toString=function(){return this()}});return C});\n",
       "\n",
       "]]> </script>\n",
       "</svg>\n"
      ],
      "text/plain": [
       "Compose.Context(BBox{l,t,r,b,w,h = 0.0w,0.0h, 1.0w,1.0h, 1.0w,1.0h}, Compose.UnitBox{Float64,Float64,Float64,Float64}(-1.2, -1.2, 2.4, 2.4, 0.0mm, 0.0mm, 0.0mm, 0.0mm), nothing, nothing, nothing, List([Compose.Context(BBox{l,t,r,b,w,h = 0.0w,0.0h, 1.0w,1.0h, 1.0w,1.0h}, nothing, nothing, nothing, nothing, List([]), List([Compose.Form{Compose.LinePrimitive}(Compose.LinePrimitive[LinePrimitive{Tuple{Measure,Measure}}(Tuple{Measures.Measure,Measures.Measure}[(-0.303788cx, 0.522718cy), (-0.192456cx, 0.166851cy)]), LinePrimitive{Tuple{Measure,Measure}}(Tuple{Measures.Measure,Measures.Measure}[(0.434156cx, -0.0940816cy), (-0.116836cx, 0.089789cy)]), LinePrimitive{Tuple{Measure,Measure}}(Tuple{Measures.Measure,Measures.Measure}[(0.550048cx, -0.129667cy), (0.941624cx, -0.239617cy)]), LinePrimitive{Tuple{Measure,Measure}}(Tuple{Measures.Measure,Measures.Measure}[(0.0415055cx, 0.507803cy), (-0.145491cx, 0.162307cy)]), LinePrimitive{Tuple{Measure,Measure}}(Tuple{Measures.Measure,Measures.Measure}[(0.124827cx, 0.53447cy), (0.280194cx, 0.45842cy)]), LinePrimitive{Tuple{Measure,Measure}}(Tuple{Measures.Measure,Measures.Measure}[(-0.443969cx, -0.486161cy), (-0.199373cx, 0.0537519cy)]), LinePrimitive{Tuple{Measure,Measure}}(Tuple{Measures.Measure,Measures.Measure}[(-0.469677cx, -0.480761cy), (-0.471709cx, -0.301439cy)]), LinePrimitive{Tuple{Measure,Measure}}(Tuple{Measures.Measure,Measures.Measure}[(-0.501998cx, -0.592253cy), (-0.733606cx, -0.949138cy)]), LinePrimitive{Tuple{Measure,Measure}}(Tuple{Measures.Measure,Measures.Measure}[(-0.418413cx, -0.574835cy), (-0.196891cx, -0.721315cy)]), LinePrimitive{Tuple{Measure,Measure}}(Tuple{Measures.Measure,Measures.Measure}[(-0.712327cx, 0.669058cy), (-0.960221cx, 0.954238cy)])  …  LinePrimitive{Tuple{Measure,Measure}}(Tuple{Measures.Measure,Measures.Measure}[(0.311758cx, 0.375618cy), (0.164109cx, 0.01357cy)]), LinePrimitive{Tuple{Measure,Measure}}(Tuple{Measures.Measure,Measures.Measure}[(0.0865556cx, -0.0163243cy), (-0.119695cx, 0.0827323cy)]), LinePrimitive{Tuple{Measure,Measure}}(Tuple{Measures.Measure,Measures.Measure}[(0.0835149cx, -0.0612146cy), (-0.414699cx, -0.222169cy)]), LinePrimitive{Tuple{Measure,Measure}}(Tuple{Measures.Measure,Measures.Measure}[(0.147016cx, -0.10293cy), (0.187747cx, -0.526491cy)]), LinePrimitive{Tuple{Measure,Measure}}(Tuple{Measures.Measure,Measures.Measure}[(0.197434cx, -0.0198672cy), (0.581833cx, 0.135388cy)]), LinePrimitive{Tuple{Measure,Measure}}(Tuple{Measures.Measure,Measures.Measure}[(0.164109cx, 0.01357cy), (0.311758cx, 0.375618cy)]), LinePrimitive{Tuple{Measure,Measure}}(Tuple{Measures.Measure,Measures.Measure}[(-0.733606cx, -0.949138cy), (-0.501998cx, -0.592253cy)]), LinePrimitive{Tuple{Measure,Measure}}(Tuple{Measures.Measure,Measures.Measure}[(-0.196891cx, -0.721315cy), (-0.418413cx, -0.574835cy)]), LinePrimitive{Tuple{Measure,Measure}}(Tuple{Measures.Measure,Measures.Measure}[(-0.157813cx, -0.695225cy), (-0.212809cx, -0.410479cy)]), LinePrimitive{Tuple{Measure,Measure}}(Tuple{Measures.Measure,Measures.Measure}[(-0.0919529cx, -0.727901cy), (0.139189cx, -0.613704cy)])], Symbol(\"\"))]), List([Compose.Property{Compose.LineWidthPrimitive}(Compose.LineWidthPrimitive[LineWidthPrimitive(0.727607mm)]), Compose.Property{Compose.FillPrimitive}(Compose.FillPrimitive[FillPrimitive(RGBA{Float64}(0.0,0.0,0.0,0.0))]), Compose.Property{Compose.StrokePrimitive}(Compose.StrokePrimitive[StrokePrimitive(RGBA{Float64}(0.827451,0.827451,0.827451,1.0))])]), 0, false, false, false, false, nothing, nothing, 0.0, Symbol(\"\")), Compose.Context(BBox{l,t,r,b,w,h = 0.0w,0.0h, 1.0w,1.0h, 1.0w,1.0h}, nothing, nothing, nothing, nothing, List([]), List([Compose.Form{Compose.LinePrimitive}(Compose.LinePrimitive[LinePrimitive{Tuple{Measure,Measure}}(Tuple{Measures.Measure,Measures.Measure}[(-0.253155cx, 0.246322cy), (-0.192456cx, 0.166851cy), (-0.187871cx, 0.266746cy)]), LinePrimitive{Tuple{Measure,Measure}}(Tuple{Measures.Measure,Measures.Measure}[(-0.0168726cx, 0.0924865cy), (-0.116836cx, 0.089789cy), (-0.0385257cx, 0.0276cy)]), LinePrimitive{Tuple{Measure,Measure}}(Tuple{Measures.Measure,Measures.Measure}[(0.841907cx, -0.247142cy), (0.941624cx, -0.239617cy), (0.860399cx, -0.181285cy)]), LinePrimitive{Tuple{Measure,Measure}}(Tuple{Measures.Measure,Measures.Measure}[(-0.130841cx, 0.261228cy), (-0.145491cx, 0.162307cy), (-0.0706831cx, 0.228668cy)]), LinePrimitive{Tuple{Measure,Measure}}(Tuple{Measures.Measure,Measures.Measure}[(0.180757cx, 0.469013cy), (0.280194cx, 0.45842cy), (0.21083cx, 0.530452cy)]), LinePrimitive{Tuple{Measure,Measure}}(Tuple{Measures.Measure,Measures.Measure}[(-0.206996cx, -0.0459571cy), (-0.199373cx, 0.0537519cy), (-0.269304cx, -0.0177297cy)]), LinePrimitive{Tuple{Measure,Measure}}(Tuple{Measures.Measure,Measures.Measure}[(-0.436444cx, -0.395015cy), (-0.471709cx, -0.301439cy), (-0.504844cx, -0.39579cy)]), LinePrimitive{Tuple{Measure,Measure}}(Tuple{Measures.Measure,Measures.Measure}[(-0.711141cx, -0.851694cy), (-0.733606cx, -0.949138cy), (-0.653761cx, -0.888932cy)]), LinePrimitive{Tuple{Measure,Measure}}(Tuple{Measures.Measure,Measures.Measure}[(-0.294138cx, -0.698014cy), (-0.196891cx, -0.721315cy), (-0.256409cx, -0.640956cy)]), LinePrimitive{Tuple{Measure,Measure}}(Tuple{Measures.Measure,Measures.Measure}[(-0.87276cx, 0.905756cy), (-0.960221cx, 0.954238cy), (-0.924386cx, 0.86088cy)])  …  LinePrimitive{Tuple{Measure,Measure}}(Tuple{Measures.Measure,Measures.Measure}[(0.167924cx, 0.113497cy), (0.164109cx, 0.01357cy), (0.231264cx, 0.0876665cy)]), LinePrimitive{Tuple{Measure,Measure}}(Tuple{Measures.Measure,Measures.Measure}[(-0.0201815cx, 0.0728807cy), (-0.119695cx, 0.0827323cy), (-0.0497957cx, 0.0112194cy)]), LinePrimitive{Tuple{Measure,Measure}}(Tuple{Measures.Measure,Measures.Measure}[(-0.335794cx, -0.160735cy), (-0.414699cx, -0.222169cy), (-0.314765cx, -0.225827cy)]), LinePrimitive{Tuple{Measure,Measure}}(Tuple{Measures.Measure,Measures.Measure}[(0.144707cx, -0.436227cy), (0.187747cx, -0.526491cy), (0.212797cx, -0.42968cy)]), LinePrimitive{Tuple{Measure,Measure}}(Tuple{Measures.Measure,Measures.Measure}[(0.507511cx, 0.0684836cy), (0.581833cx, 0.135388cy), (0.481893cx, 0.13191cy)]), LinePrimitive{Tuple{Measure,Measure}}(Tuple{Measures.Measure,Measures.Measure}[(0.307943cx, 0.275691cy), (0.311758cx, 0.375618cy), (0.244603cx, 0.301521cy)]), LinePrimitive{Tuple{Measure,Measure}}(Tuple{Measures.Measure,Measures.Measure}[(-0.524463cx, -0.689697cy), (-0.501998cx, -0.592253cy), (-0.581843cx, -0.652459cy)]), LinePrimitive{Tuple{Measure,Measure}}(Tuple{Measures.Measure,Measures.Measure}[(-0.321166cx, -0.598136cy), (-0.418413cx, -0.574835cy), (-0.358895cx, -0.655194cy)]), LinePrimitive{Tuple{Measure,Measure}}(Tuple{Measures.Measure,Measures.Measure}[(-0.161408cx, -0.496257cy), (-0.212809cx, -0.410479cy), (-0.22857cx, -0.509229cy)]), LinePrimitive{Tuple{Measure,Measure}}(Tuple{Measures.Measure,Measures.Measure}[(0.0700907cx, -0.685991cy), (0.139189cx, -0.613704cy), (0.0397914cx, -0.624664cy)])], Symbol(\"\"))]), List([Compose.Property{Compose.LineWidthPrimitive}(Compose.LineWidthPrimitive[LineWidthPrimitive(0.727607mm)]), Compose.Property{Compose.StrokePrimitive}(Compose.StrokePrimitive[StrokePrimitive(RGBA{Float64}(0.827451,0.827451,0.827451,1.0))])]), 0, false, false, false, false, nothing, nothing, 0.0, Symbol(\"\")), Compose.Context(BBox{l,t,r,b,w,h = 0.0w,0.0h, 1.0w,1.0h, 1.0w,1.0h}, nothing, nothing, nothing, nothing, List([]), List([]), List([Compose.Property{Compose.FontSizePrimitive}(Compose.FontSizePrimitive[FontSizePrimitive(4.0mm)]), Compose.Property{Compose.StrokePrimitive}(Compose.StrokePrimitive[StrokePrimitive(RGBA{Float64}(0.0,0.0,0.0,0.0))]), Compose.Property{Compose.FillPrimitive}(Compose.FillPrimitive[FillPrimitive(RGBA{Float64}(0.0,0.0,0.0,1.0))])]), 0, false, false, false, false, nothing, nothing, 0.0, Symbol(\"\")), Compose.Context(BBox{l,t,r,b,w,h = 0.0w,0.0h, 1.0w,1.0h, 1.0w,1.0h}, nothing, nothing, nothing, nothing, List([]), List([Compose.Form{Compose.CirclePrimitive{Tuple{Measures.Measure,Measures.Measure},Measures.Measure}}(Compose.CirclePrimitive{Tuple{Measures.Measure,Measures.Measure},Measures.Measure}[CirclePrimitive{Tuple{Measure,Measure},Measure}((-0.321892cx, 0.580586cy), 0.0242536w), CirclePrimitive{Tuple{Measure,Measure},Measure}((0.491672cx, -0.113275cy), 0.0242536w), CirclePrimitive{Tuple{Measure,Measure},Measure}((0.0703668cx, 0.561127cy), 0.0242536w), CirclePrimitive{Tuple{Measure,Measure},Measure}((-0.46899cx, -0.541391cy), 0.0242536w), CirclePrimitive{Tuple{Measure,Measure},Measure}((-0.672548cx, 0.623297cy), 0.0242536w), CirclePrimitive{Tuple{Measure,Measure},Measure}((-0.977864cx, -0.308792cy), 0.0242536w), CirclePrimitive{Tuple{Measure,Measure},Measure}((-1.0cx, 1.0cy), 0.0242536w), CirclePrimitive{Tuple{Measure,Measure},Measure}((-0.174352cx, 0.108983cy), 0.0242536w), CirclePrimitive{Tuple{Measure,Measure},Measure}((-0.224307cx, -0.350945cy), 0.0242536w), CirclePrimitive{Tuple{Measure,Measure},Measure}((1.0cx, -0.256008cy), 0.0242536w), CirclePrimitive{Tuple{Measure,Measure},Measure}((-0.472396cx, -0.240809cy), 0.0242536w), CirclePrimitive{Tuple{Measure,Measure},Measure}((0.19355cx, -0.586847cy), 0.0242536w), CirclePrimitive{Tuple{Measure,Measure},Measure}((0.638054cx, 0.158095cy), 0.0242536w), CirclePrimitive{Tuple{Measure,Measure},Measure}((0.334654cx, 0.431762cy), 0.0242536w), CirclePrimitive{Tuple{Measure,Measure},Measure}((0.141213cx, -0.0425746cy), 0.0242536w), CirclePrimitive{Tuple{Measure,Measure},Measure}((-0.766614cx, -1.0cy), 0.0242536w), CirclePrimitive{Tuple{Measure,Measure},Measure}((-0.146314cx, -0.754759cy), 0.0242536w)], Symbol(\"\"))]), List([Compose.Property{Compose.LineWidthPrimitive}(Compose.LineWidthPrimitive[LineWidthPrimitive(0.0mm)]), Compose.Property{Compose.StrokePrimitive}(Compose.StrokePrimitive[StrokePrimitive(RGBA{Float64}(0.0,0.0,0.0,0.0))]), Compose.Property{Compose.FillPrimitive}(Compose.FillPrimitive[FillPrimitive(RGBA{Float64}(0.25098,0.878431,0.815686,1.0))])]), 0, false, false, false, false, nothing, nothing, 0.0, Symbol(\"\")), Compose.Context(BBox{l,t,r,b,w,h = 0.0w,0.0h, 1.0w,1.0h, 1.0w,1.0h}, nothing, nothing, nothing, nothing, List([]), List([]), List([Compose.Property{Compose.FontSizePrimitive}(Compose.FontSizePrimitive[FontSizePrimitive(4.0mm)]), Compose.Property{Compose.StrokePrimitive}(Compose.StrokePrimitive[StrokePrimitive(RGBA{Float64}(0.0,0.0,0.0,0.0))]), Compose.Property{Compose.FillPrimitive}(Compose.FillPrimitive[FillPrimitive(RGBA{Float64}(0.0,0.0,0.0,1.0))])]), 0, false, false, false, false, nothing, nothing, 0.0, Symbol(\"\"))]), List([]), List([]), 0, false, false, false, false, nothing, nothing, 0.0, Symbol(\"\"))"
      ]
     },
     "execution_count": 145,
     "metadata": {},
     "output_type": "execute_result"
    }
   ],
   "source": [
    "ih= plot_net(multiplex, \"2B\")"
   ]
  },
  {
   "cell_type": "code",
   "execution_count": 162,
   "metadata": {},
   "outputs": [
    {
     "data": {
      "text/plain": [
       "my_betweenness_centrality"
      ]
     },
     "execution_count": 162,
     "metadata": {},
     "output_type": "execute_result"
    }
   ],
   "source": [
    "\"\"\"\n",
    "    my_betweenness_centrality(M::Array{Int64,2}, airline_code::String)\n",
    "\n",
    "Función que hace el grafo de la red aérea dirigida.\n",
    "\"\"\"\n",
    "function my_betweenness_centrality(M::Array{Int64,2}, airline_code::String)\n",
    "    \n",
    "    grafo = DiGraph(M)\n",
    "    res = betweenness_centrality(grafo)\n",
    "    \n",
    "    return res\n",
    "    \n",
    "end"
   ]
  },
  {
   "cell_type": "code",
   "execution_count": 153,
   "metadata": {},
   "outputs": [
    {
     "data": {
      "text/plain": [
       "17-element Array{Float64,1}:\n",
       " 0.0                 \n",
       " 0.125               \n",
       " 0.033333333333333326\n",
       " 0.2                 \n",
       " 0.125               \n",
       " 0.0                 \n",
       " 0.0                 \n",
       " 0.6305555555555554  \n",
       " 0.075               \n",
       " 0.0                 \n",
       " 0.16388888888888886 \n",
       " 0.025               \n",
       " 0.0                 \n",
       " 0.016666666666666666\n",
       " 0.3166666666666667  \n",
       " 0.0                 \n",
       " 0.030555555555555555"
      ]
     },
     "execution_count": 153,
     "metadata": {},
     "output_type": "execute_result"
    }
   ],
   "source": [
    "ggg= betweenness_centrality(jh)"
   ]
  },
  {
   "cell_type": "code",
   "execution_count": 154,
   "metadata": {},
   "outputs": [
    {
     "data": {
      "text/plain": [
       "17-element Array{Float64,1}:\n",
       " 0.0                 \n",
       " 0.0                 \n",
       " 0.0                 \n",
       " 0.0                 \n",
       " 0.0                 \n",
       " 0.0                 \n",
       " 0.016666666666666666\n",
       " 0.025               \n",
       " 0.030555555555555555\n",
       " 0.033333333333333326\n",
       " 0.075               \n",
       " 0.125               \n",
       " 0.125               \n",
       " 0.16388888888888886 \n",
       " 0.2                 \n",
       " 0.3166666666666667  \n",
       " 0.6305555555555554  "
      ]
     },
     "execution_count": 154,
     "metadata": {},
     "output_type": "execute_result"
    }
   ],
   "source": [
    "sort(ggg)"
   ]
  },
  {
   "cell_type": "code",
   "execution_count": 136,
   "metadata": {},
   "outputs": [
    {
     "name": "stdout",
     "output_type": "stream",
     "text": [
      "search: \u001b[0m\u001b[1mb\u001b[22m\u001b[0m\u001b[1me\u001b[22m\u001b[0m\u001b[1mt\u001b[22m\u001b[0m\u001b[1mw\u001b[22m\u001b[0m\u001b[1me\u001b[22m\u001b[0m\u001b[1me\u001b[22m\u001b[0m\u001b[1mn\u001b[22m\u001b[0m\u001b[1mn\u001b[22m\u001b[0m\u001b[1me\u001b[22m\u001b[0m\u001b[1ms\u001b[22m\u001b[0m\u001b[1ms\u001b[22m\u001b[0m\u001b[1m_\u001b[22m\u001b[0m\u001b[1mc\u001b[22m\u001b[0m\u001b[1me\u001b[22m\u001b[0m\u001b[1mn\u001b[22m\u001b[0m\u001b[1mt\u001b[22m\u001b[0m\u001b[1mr\u001b[22m\u001b[0m\u001b[1ma\u001b[22m\u001b[0m\u001b[1ml\u001b[22m\u001b[0m\u001b[1mi\u001b[22m\u001b[0m\u001b[1mt\u001b[22m\u001b[0m\u001b[1my\u001b[22m\n",
      "\n"
     ]
    },
    {
     "data": {
      "text/latex": [
       "\\begin{verbatim}\n",
       "betweenness_centrality(g[, vs])\n",
       "betweenness_centrality(g, k)\n",
       "\\end{verbatim}\n",
       "Calculate the \\href{https://en.wikipedia.org/wiki/Centrality#Betweenness_centrality}{betweenness centrality} of a graph \\texttt{g} across all vertices, a specified subset of vertices \\texttt{vs}, or a random subset of \\texttt{k} vertices. Return a vector representing the centrality calculated for each node in \\texttt{g}.\n",
       "\n",
       "\\subsubsection{Optional Arguments}\n",
       "\\begin{itemize}\n",
       "\\item \\texttt{normalize=true}: If true, normalize the betweenness values by the\n",
       "\n",
       "\\end{itemize}\n",
       "total number of possible distinct paths between all pairs in the graphs. For an undirected graph, this number is $\\frac{(|V|-1)(|V|-2)}{2}$ and for a directed graph, ${(|V|-1)(|V|-2)}$.\n",
       "\n",
       "\\begin{itemize}\n",
       "\\item \\texttt{endpoints=false}: If true, include endpoints in the shortest path count.\n",
       "\n",
       "\\end{itemize}\n",
       "Betweenness centrality is defined as: $bc(v) = \\frac{1}{\\mathcal{N}} \\sum_{s \\neq t \\neq v} \\frac{\\sigma_{st}(v)}{\\sigma_{st}}$.\n",
       "\n",
       "\\subsubsection{References}\n",
       "\\begin{itemize}\n",
       "\\item Brandes 2001 \\& Brandes 2008\n",
       "\n",
       "\\end{itemize}\n",
       "\\section{Examples}\n",
       "\\begin{verbatim}\n",
       "julia> using LightGraphs\n",
       "\n",
       "julia> betweenness_centrality(StarGraph(3))\n",
       "3-element Array{Float64,1}:\n",
       " 1.0\n",
       " 0.0\n",
       " 0.0\n",
       "\n",
       "julia> betweenness_centrality(PathGraph(4))\n",
       "4-element Array{Float64,1}:\n",
       " 0.0\n",
       " 0.6666666666666666\n",
       " 0.6666666666666666\n",
       " 0.0\n",
       "\\end{verbatim}\n"
      ],
      "text/markdown": [
       "```\n",
       "betweenness_centrality(g[, vs])\n",
       "betweenness_centrality(g, k)\n",
       "```\n",
       "\n",
       "Calculate the [betweenness centrality](https://en.wikipedia.org/wiki/Centrality#Betweenness_centrality) of a graph `g` across all vertices, a specified subset of vertices `vs`, or a random subset of `k` vertices. Return a vector representing the centrality calculated for each node in `g`.\n",
       "\n",
       "### Optional Arguments\n",
       "\n",
       "  * `normalize=true`: If true, normalize the betweenness values by the\n",
       "\n",
       "total number of possible distinct paths between all pairs in the graphs. For an undirected graph, this number is $\\frac{(|V|-1)(|V|-2)}{2}$ and for a directed graph, ${(|V|-1)(|V|-2)}$.\n",
       "\n",
       "  * `endpoints=false`: If true, include endpoints in the shortest path count.\n",
       "\n",
       "Betweenness centrality is defined as: $bc(v) = \\frac{1}{\\mathcal{N}} \\sum_{s \\neq t \\neq v} \\frac{\\sigma_{st}(v)}{\\sigma_{st}}$.\n",
       "\n",
       "### References\n",
       "\n",
       "  * Brandes 2001 & Brandes 2008\n",
       "\n",
       "# Examples\n",
       "\n",
       "```jldoctest\n",
       "julia> using LightGraphs\n",
       "\n",
       "julia> betweenness_centrality(StarGraph(3))\n",
       "3-element Array{Float64,1}:\n",
       " 1.0\n",
       " 0.0\n",
       " 0.0\n",
       "\n",
       "julia> betweenness_centrality(PathGraph(4))\n",
       "4-element Array{Float64,1}:\n",
       " 0.0\n",
       " 0.6666666666666666\n",
       " 0.6666666666666666\n",
       " 0.0\n",
       "```\n"
      ],
      "text/plain": [
       "\u001b[36m  betweenness_centrality(g[, vs])\u001b[39m\n",
       "\u001b[36m  betweenness_centrality(g, k)\u001b[39m\n",
       "\n",
       "  Calculate the betweenness centrality\n",
       "  (https://en.wikipedia.org/wiki/Centrality#Betweenness_centrality) of a graph\n",
       "  \u001b[36mg\u001b[39m across all vertices, a specified subset of vertices \u001b[36mvs\u001b[39m, or a random subset\n",
       "  of \u001b[36mk\u001b[39m vertices. Return a vector representing the centrality calculated for\n",
       "  each node in \u001b[36mg\u001b[39m.\n",
       "\n",
       "\u001b[1m  Optional Arguments\u001b[22m\n",
       "\u001b[1m  ––––––––––––––––––––\u001b[22m\n",
       "\n",
       "    •    \u001b[36mnormalize=true\u001b[39m: If true, normalize the betweenness values by the\n",
       "\n",
       "  total number of possible distinct paths between all pairs in the graphs. For\n",
       "  an undirected graph, this number is \u001b[35m\\frac{(|V|-1)(|V|-2)}{2}\u001b[39m and for a\n",
       "  directed graph, \u001b[35m{(|V|-1)(|V|-2)}\u001b[39m.\n",
       "\n",
       "    •    \u001b[36mendpoints=false\u001b[39m: If true, include endpoints in the shortest path\n",
       "        count.\n",
       "\n",
       "  Betweenness centrality is defined as: \u001b[35mbc(v) = \\frac{1}{\\mathcal{N}} \\sum_{s\n",
       "  \\neq t \\neq v} \\frac{\\sigma_{st}(v)}{\\sigma_{st}}\u001b[39m.\n",
       "\n",
       "\u001b[1m  References\u001b[22m\n",
       "\u001b[1m  ––––––––––––\u001b[22m\n",
       "\n",
       "    •    Brandes 2001 & Brandes 2008\n",
       "\n",
       "\u001b[1m  Examples\u001b[22m\n",
       "\u001b[1m  ≡≡≡≡≡≡≡≡≡≡\u001b[22m\n",
       "\n",
       "\u001b[36m  julia> using LightGraphs\u001b[39m\n",
       "\u001b[36m  \u001b[39m\n",
       "\u001b[36m  julia> betweenness_centrality(StarGraph(3))\u001b[39m\n",
       "\u001b[36m  3-element Array{Float64,1}:\u001b[39m\n",
       "\u001b[36m   1.0\u001b[39m\n",
       "\u001b[36m   0.0\u001b[39m\n",
       "\u001b[36m   0.0\u001b[39m\n",
       "\u001b[36m  \u001b[39m\n",
       "\u001b[36m  julia> betweenness_centrality(PathGraph(4))\u001b[39m\n",
       "\u001b[36m  4-element Array{Float64,1}:\u001b[39m\n",
       "\u001b[36m   0.0\u001b[39m\n",
       "\u001b[36m   0.6666666666666666\u001b[39m\n",
       "\u001b[36m   0.6666666666666666\u001b[39m\n",
       "\u001b[36m   0.0\u001b[39m"
      ]
     },
     "execution_count": 136,
     "metadata": {},
     "output_type": "execute_result"
    }
   ],
   "source": [
    "\"\"\"\n",
    "    plot_betweenness(M::Array{Int64,2}, airline_code::String)\n",
    "\n",
    "Función que hace el grafo de la red aérea dirigida.\n",
    "\"\"\"\n",
    "function plot_betweenness(M::Array{Int64,2}, airline_code::String)\n",
    "    \n",
    "    aerolinea_matriz = string(airline_code, \"_matriz_du.csv\")\n",
    "    nombres_multiplex = airport_names(\"/Users/yuriko/Documents/UNAM/Tesis_Lic/data/aerolineas_matrices/$aerolinea_matriz\")\n",
    "    \n",
    "    grafo = DiGraph(M)\n",
    "    between = betweenness_centrality(grafo)\n",
    "    orden = sort(between)\n",
    "    \n",
    "    xs = [nombres_multiplex]\n",
    "    \n",
    "    return red\n",
    "    \n",
    "end"
   ]
  },
  {
   "cell_type": "code",
   "execution_count": 296,
   "metadata": {},
   "outputs": [
    {
     "data": {
      "text/plain": [
       "34-element Array{Float64,1}:\n",
       " 0.4376352813852815   \n",
       " 0.053936688311688304 \n",
       " 0.14365680615680618  \n",
       " 0.011909271284271283 \n",
       " 0.0006313131313131313\n",
       " 0.02998737373737374  \n",
       " 0.029987373737373736 \n",
       " 0.0                  \n",
       " 0.055926827801827804 \n",
       " 0.0008477633477633478\n",
       " 0.0006313131313131313\n",
       " 0.0                  \n",
       " 0.0                  \n",
       " ⋮                    \n",
       " 0.0                  \n",
       " 0.017613636363636363 \n",
       " 0.0022095959595959595\n",
       " 0.0038404882154882154\n",
       " 0.0                  \n",
       " 0.02233345358345358  \n",
       " 0.0017947330447330447\n",
       " 0.0029220779220779218\n",
       " 0.014411976911976907 \n",
       " 0.13827561327561325  \n",
       " 0.14524711399711396  \n",
       " 0.30407497594997596  "
      ]
     },
     "execution_count": 296,
     "metadata": {},
     "output_type": "execute_result"
    }
   ],
   "source": [
    "betweenness_centrality(g)"
   ]
  },
  {
   "cell_type": "markdown",
   "metadata": {},
   "source": [
    "## Datos\n",
    "\n",
    "\n",
    "### Aerolínea 2B"
   ]
  },
  {
   "cell_type": "code",
   "execution_count": 127,
   "metadata": {},
   "outputs": [
    {
     "data": {
      "text/plain": [
       "\"2B\""
      ]
     },
     "execution_count": 127,
     "metadata": {},
     "output_type": "execute_result"
    }
   ],
   "source": [
    "lista_aerolineas = readdlm(\"/Users/yuriko/Documents/UNAM/Tesis_Lic/data/aerolineas_matrices/lista_aerolineas.csv\", ',', String)\n",
    "airline_code = lista_aerolineas[2]"
   ]
  },
  {
   "cell_type": "code",
   "execution_count": 128,
   "metadata": {},
   "outputs": [
    {
     "data": {
      "text/plain": [
       "String"
      ]
     },
     "execution_count": 128,
     "metadata": {},
     "output_type": "execute_result"
    }
   ],
   "source": [
    "typeof(airline_code)"
   ]
  },
  {
   "cell_type": "code",
   "execution_count": 52,
   "metadata": {},
   "outputs": [
    {
     "data": {
      "text/plain": [
       "17×17 Array{Int64,2}:\n",
       " 0  0  0  0  0  0  0  1  0  0  0  0  0  0  0  0  0\n",
       " 0  0  0  0  0  0  0  1  0  1  0  0  0  0  0  0  0\n",
       " 0  0  0  0  0  0  0  1  0  0  0  0  0  1  0  0  0\n",
       " 0  0  0  0  0  0  0  1  0  0  1  0  0  0  0  1  1\n",
       " 0  0  0  0  0  0  1  1  0  0  0  0  0  0  0  0  0\n",
       " 0  0  0  0  0  0  0  0  0  0  1  0  0  0  0  0  0\n",
       " 0  0  0  0  1  0  0  0  0  0  0  0  0  0  0  0  0\n",
       " 1  1  1  1  1  0  0  0  1  0  0  0  0  0  1  0  0\n",
       " 0  0  0  0  0  0  0  1  0  0  1  0  0  0  0  0  1\n",
       " 0  1  0  0  0  0  0  0  0  0  0  0  0  0  0  0  0\n",
       " 0  0  0  1  0  1  0  0  1  0  0  0  0  0  1  0  0\n",
       " 0  0  0  0  0  0  0  0  0  0  0  0  0  0  1  0  1\n",
       " 0  0  0  0  0  0  0  0  0  0  0  0  0  0  1  0  0\n",
       " 0  0  1  0  0  0  0  0  0  0  0  0  0  0  1  0  0\n",
       " 0  0  0  0  0  0  0  1  0  0  1  1  1  1  0  0  0\n",
       " 0  0  0  1  0  0  0  0  0  0  0  0  0  0  0  0  0\n",
       " 0  0  0  1  0  0  0  0  1  0  0  1  0  0  0  0  0"
      ]
     },
     "execution_count": 52,
     "metadata": {},
     "output_type": "execute_result"
    }
   ],
   "source": [
    "aerolinea_matriz = string(airline_code, \"_matriz_du.csv\")\n",
    "multiplex = import_matrix(\"data/aerolineas_matrices/$aerolinea_matriz\")"
   ]
  },
  {
   "cell_type": "code",
   "execution_count": 134,
   "metadata": {
    "scrolled": true
   },
   "outputs": [
    {
     "data": {
      "text/plain": [
       "17-element Array{String,1}:\n",
       " \"AER\"\n",
       " \"ASF\"\n",
       " \"CEK\"\n",
       " \"DME\"\n",
       " \"EGO\"\n",
       " \"GYD\"\n",
       " \"KGD\"\n",
       " \"KZN\"\n",
       " \"LED\"\n",
       " \"MRV\"\n",
       " \"NBC\"\n",
       " \"NJC\"\n",
       " \"NUX\"\n",
       " \"OVB\"\n",
       " \"SVX\"\n",
       " \"TGK\"\n",
       " \"UUA\""
      ]
     },
     "execution_count": 134,
     "metadata": {},
     "output_type": "execute_result"
    }
   ],
   "source": [
    "data_names_multiplex = airport_names(\"data/aerolineas_matrices/$aerolinea_matriz\")"
   ]
  },
  {
   "cell_type": "markdown",
   "metadata": {},
   "source": [
    "## Distribuciones de grado\n",
    "\n",
    "### Multiplex Global\n",
    "\n",
    "#### Grado de entrada"
   ]
  },
  {
   "cell_type": "code",
   "execution_count": 54,
   "metadata": {},
   "outputs": [
    {
     "data": {
      "text/plain": [
       "17×1 Array{Int64,2}:\n",
       " 1\n",
       " 2\n",
       " 2\n",
       " 4\n",
       " 2\n",
       " 1\n",
       " 1\n",
       " 7\n",
       " 3\n",
       " 1\n",
       " 4\n",
       " 2\n",
       " 1\n",
       " 2\n",
       " 5\n",
       " 1\n",
       " 3"
      ]
     },
     "execution_count": 54,
     "metadata": {},
     "output_type": "execute_result"
    }
   ],
   "source": [
    "in_degree_multiplex = in_degree(multiplex)"
   ]
  },
  {
   "cell_type": "code",
   "execution_count": 55,
   "metadata": {},
   "outputs": [
    {
     "data": {
      "text/plain": [
       "7-element Array{Int64,1}:\n",
       " 6\n",
       " 5\n",
       " 2\n",
       " 2\n",
       " 1\n",
       " 0\n",
       " 1"
      ]
     },
     "execution_count": 55,
     "metadata": {},
     "output_type": "execute_result"
    }
   ],
   "source": [
    "distrib_in_multiplex = distrib_in_degree(multiplex)"
   ]
  },
  {
   "cell_type": "code",
   "execution_count": 94,
   "metadata": {},
   "outputs": [
    {
     "name": "stderr",
     "output_type": "stream",
     "text": [
      "┌ Info: Recompiling stale cache file /Users/yuriko/.julia/compiled/v1.1/PyPlot/oatAj.ji for PyPlot [d330b81b-6aea-500a-939a-2ce795aea3ee]\n",
      "└ @ Base loading.jl:1184\n"
     ]
    },
    {
     "data": {
      "image/png": "[encoded data removed]"
     },
     "execution_count": 94,
     "metadata": {},
     "output_type": "execute_result"
    }
   ],
   "source": [
    "in_M = plot_distrib(multiplex, \"in\", \"Multiplex Distribución Entrada\", \"black\")"
   ]
  },
  {
   "cell_type": "markdown",
   "metadata": {},
   "source": [
    "#### Grado de salida"
   ]
  },
  {
   "cell_type": "code",
   "execution_count": 56,
   "metadata": {},
   "outputs": [
    {
     "data": {
      "text/plain": [
       "1×17 Array{Int64,2}:\n",
       " 1  2  2  4  2  1  1  7  3  1  4  2  1  2  5  1  3"
      ]
     },
     "execution_count": 56,
     "metadata": {},
     "output_type": "execute_result"
    }
   ],
   "source": [
    "out_degree_multiplex = out_degree(multiplex)"
   ]
  },
  {
   "cell_type": "code",
   "execution_count": 57,
   "metadata": {},
   "outputs": [
    {
     "data": {
      "text/plain": [
       "7-element Array{Int64,1}:\n",
       " 6\n",
       " 5\n",
       " 2\n",
       " 2\n",
       " 1\n",
       " 0\n",
       " 1"
      ]
     },
     "execution_count": 57,
     "metadata": {},
     "output_type": "execute_result"
    }
   ],
   "source": [
    "distrib_out_multiplex = distrib_out_degree(multiplex)"
   ]
  },
  {
   "cell_type": "code",
   "execution_count": 97,
   "metadata": {},
   "outputs": [
    {
     "data": {
      "image/png": "[encoded data removed]"
     },
     "execution_count": 97,
     "metadata": {},
     "output_type": "execute_result"
    }
   ],
   "source": [
    "out_M = plot_distrib(multiplex, \"out\", \"Multiplex Distribución Salida\", \"black\")"
   ]
  },
  {
   "cell_type": "markdown",
   "metadata": {},
   "source": [
    "## Vecinos\n",
    "\n",
    "### Multiplex global"
   ]
  },
  {
   "cell_type": "code",
   "execution_count": 58,
   "metadata": {},
   "outputs": [
    {
     "name": "stdout",
     "output_type": "stream",
     "text": [
      "  0.106856 seconds (205.86 k allocations: 9.880 MiB)\n"
     ]
    },
    {
     "data": {
      "text/plain": [
       "17-element Array{Any,1}:\n",
       " [8]                   \n",
       " [8, 10]               \n",
       " [8, 14]               \n",
       " [8, 11, 16, 17]       \n",
       " [7, 8]                \n",
       " [11]                  \n",
       " [5]                   \n",
       " [1, 2, 3, 4, 5, 9, 15]\n",
       " [8, 11, 17]           \n",
       " [2]                   \n",
       " [4, 6, 9, 15]         \n",
       " [15, 17]              \n",
       " [15]                  \n",
       " [3, 15]               \n",
       " [8, 11, 12, 13, 14]   \n",
       " [4]                   \n",
       " [4, 9, 12]            "
      ]
     },
     "execution_count": 58,
     "metadata": {},
     "output_type": "execute_result"
    }
   ],
   "source": [
    "vecinos_M = @time neighbours(multiplex)"
   ]
  },
  {
   "cell_type": "markdown",
   "metadata": {},
   "source": [
    "## Caminatas aleatorias\n",
    "\n",
    "### Multiplex"
   ]
  },
  {
   "cell_type": "code",
   "execution_count": 59,
   "metadata": {},
   "outputs": [
    {
     "name": "stdout",
     "output_type": "stream",
     "text": [
      "  0.206265 seconds (422.50 k allocations: 21.646 MiB, 4.24% gc time)\n"
     ]
    },
    {
     "data": {
      "text/plain": [
       "17-element Array{Any,1}:\n",
       " [1 8 … 8 1; 1 8 … 4 8; … ; 1 8 … 4 8; 1 8 … 14 3]           \n",
       " [2 10 … 15 12; 2 10 … 4 8; … ; 2 10 … 4 8; 2 10 … 9 17]     \n",
       " [3 14 … 15 12; 3 14 … 4 8; … ; 3 14 … 4 8; 3 14 … 14 3]     \n",
       " [4 11 … 15 12; 4 11 … 4 8; … ; 4 11 … 4 8; 4 11 … 14 3]     \n",
       " [5 8 … 8 1; 5 8 … 4 8; … ; 5 8 … 4 8; 5 8 … 14 3]           \n",
       " [6 11 … 15 12; 6 11 … 4 8; … ; 6 11 … 4 8; 6 11 … 14 3]     \n",
       " [7 5 … 8 1; 7 5 … 8 9; … ; 7 5 … 14 3; 7 5 … 14 3]          \n",
       " [8 9 … 8 1; 8 9 … 8 9; … ; 8 4 … 14 3; 8 5 … 14 3]          \n",
       " [9 17 … 15 12; 9 8 … 4 8; … ; 9 11 … 4 8; 9 8 … 14 3]       \n",
       " [10 2 … 8 1; 10 2 … 8 9; … ; 10 2 … 14 3; 10 2 … 14 3]      \n",
       " [11 6 … 8 1; 11 6 … 4 8; … ; 11 6 … 14 3; 11 6 … 14 3]      \n",
       " [12 17 … 15 12; 12 17 … 4 8; … ; 12 17 … 14 3; 12 17 … 14 3]\n",
       " [13 15 … 8 1; 13 15 … 4 8; … ; 13 15 … 14 3; 13 15 … 14 3]  \n",
       " [14 15 … 8 1; 14 15 … 4 8; … ; 14 15 … 14 3; 14 15 … 14 3]  \n",
       " [15 11 … 15 12; 15 13 … 4 8; … ; 15 11 … 4 8; 15 13 … 14 3] \n",
       " [16 4 … 8 1; 16 4 … 8 9; … ; 16 4 … 14 3; 16 4 … 14 3]      \n",
       " [17 12 … 15 12; 17 4 … 8 9; … ; 17 9 … 14 3; 17 4 … 14 3]   "
      ]
     },
     "execution_count": 59,
     "metadata": {},
     "output_type": "execute_result"
    }
   ],
   "source": [
    "caminata_M = @time random_walk(multiplex, 25, 5) #nuevo"
   ]
  },
  {
   "cell_type": "markdown",
   "metadata": {},
   "source": [
    "## Longitud de todas las iteraciones de caminatas "
   ]
  },
  {
   "cell_type": "code",
   "execution_count": 60,
   "metadata": {},
   "outputs": [
    {
     "name": "stdout",
     "output_type": "stream",
     "text": [
      "  0.101993 seconds (201.68 k allocations: 9.671 MiB)\n"
     ]
    },
    {
     "data": {
      "text/plain": [
       "17-element Array{Array,1}:\n",
       " [26, 26, 26, 26, 26]\n",
       " [26, 26, 26, 26, 26]\n",
       " [26, 26, 26, 26, 26]\n",
       " [26, 26, 26, 26, 26]\n",
       " [26, 26, 26, 26, 26]\n",
       " [26, 26, 26, 26, 26]\n",
       " [26, 26, 26, 26, 26]\n",
       " [26, 26, 26, 26, 26]\n",
       " [26, 26, 26, 26, 26]\n",
       " [26, 26, 26, 26, 26]\n",
       " [26, 26, 26, 26, 26]\n",
       " [26, 26, 26, 26, 26]\n",
       " [26, 26, 26, 26, 26]\n",
       " [26, 26, 26, 26, 26]\n",
       " [26, 26, 26, 26, 26]\n",
       " [26, 26, 26, 26, 26]\n",
       " [26, 26, 26, 26, 26]"
      ]
     },
     "execution_count": 60,
     "metadata": {},
     "output_type": "execute_result"
    }
   ],
   "source": [
    "li_M = @time walk_length(caminata_M)"
   ]
  },
  {
   "cell_type": "markdown",
   "metadata": {},
   "source": [
    "## Longitud promedio de las iteraciones de caminatas de cada nodo inicial"
   ]
  },
  {
   "cell_type": "code",
   "execution_count": 61,
   "metadata": {
    "scrolled": false
   },
   "outputs": [
    {
     "name": "stdout",
     "output_type": "stream",
     "text": [
      "  0.091184 seconds (196.51 k allocations: 10.076 MiB)\n"
     ]
    },
    {
     "data": {
      "text/plain": [
       "17-element Array{Float64,1}:\n",
       " 26.0\n",
       " 26.0\n",
       " 26.0\n",
       " 26.0\n",
       " 26.0\n",
       " 26.0\n",
       " 26.0\n",
       " 26.0\n",
       " 26.0\n",
       " 26.0\n",
       " 26.0\n",
       " 26.0\n",
       " 26.0\n",
       " 26.0\n",
       " 26.0\n",
       " 26.0\n",
       " 26.0"
      ]
     },
     "execution_count": 61,
     "metadata": {},
     "output_type": "execute_result"
    }
   ],
   "source": [
    "lpn_M = @time walk_av_length(caminata_M)"
   ]
  },
  {
   "cell_type": "code",
   "execution_count": 102,
   "metadata": {},
   "outputs": [
    {
     "data": {
      "image/png": "[encoded data removed]"
     },
     "execution_count": 102,
     "metadata": {},
     "output_type": "execute_result"
    }
   ],
   "source": [
    "plot_av_length_vertex(caminata_M, \"2B\")"
   ]
  },
  {
   "cell_type": "markdown",
   "metadata": {},
   "source": [
    "## Longitud promedio de caminatas por capa"
   ]
  },
  {
   "cell_type": "code",
   "execution_count": 62,
   "metadata": {},
   "outputs": [
    {
     "name": "stdout",
     "output_type": "stream",
     "text": [
      "  0.047857 seconds (103.48 k allocations: 5.260 MiB)\n"
     ]
    },
    {
     "data": {
      "text/plain": [
       "26.0"
      ]
     },
     "execution_count": 62,
     "metadata": {},
     "output_type": "execute_result"
    }
   ],
   "source": [
    "wl_M = @time walk_layer_length(caminata_M)"
   ]
  },
  {
   "cell_type": "markdown",
   "metadata": {},
   "source": [
    "## Nodos visitados específicamente"
   ]
  },
  {
   "cell_type": "code",
   "execution_count": 63,
   "metadata": {},
   "outputs": [
    {
     "name": "stdout",
     "output_type": "stream",
     "text": [
      "  0.091006 seconds (131.57 k allocations: 6.807 MiB)\n"
     ]
    },
    {
     "data": {
      "text/plain": [
       "17-element Array{Any,1}:\n",
       " Any[[1, 8, 4, 17, 12, 15, 11, 9, 2, 5, 7], [1, 8, 4, 17, 11, 9, 15, 3, 14], [1, 8, 2, 10, 5, 7, 15, 12, 17, 9, 11, 4], [1, 8, 2, 10, 15, 14, 13, 3, 9, 17, 4], [1, 8, 9, 17, 12, 15, 4, 2, 16, 3, 14]]     \n",
       " Any[[2, 10, 8, 3, 9, 4, 17, 14, 15, 12], [2, 10, 8, 1, 4, 15, 3, 14], [2, 10, 8, 5, 7, 1, 15, 12, 17, 9, 11, 4], [2, 10, 8, 15, 14, 13, 3, 9, 17, 4], [2, 10, 8, 9, 17, 4, 1, 3, 14, 15]]                  \n",
       " Any[[3, 14, 15, 8, 9, 2, 4, 17, 12], [3, 14, 8, 1, 4, 15], [3, 14, 15, 12, 17, 9, 11, 4, 8, 16, 5], [3, 14, 8, 15, 13, 9, 17, 4], [3, 14, 15, 13, 12, 17, 9, 8, 2, 4, 16]]                                 \n",
       " Any[[4, 11, 9, 8, 15, 3, 14, 2, 17, 12], [4, 11, 9, 8, 1, 15, 3, 14], [4, 11, 9, 8, 5, 2, 7, 1, 15, 12, 17], [4, 11, 9, 8, 16, 2, 6, 17], [4, 11, 9, 17, 12, 15, 8, 2, 16, 3, 14]]                         \n",
       " Any[[5, 8, 4, 17, 12, 15, 11, 9, 2, 7, 1], [5, 8, 4, 17, 11, 9, 1, 15, 3, 14], [5, 8, 2, 10, 7, 1, 15, 12, 17, 9, 11, 4], [5, 8, 2, 10, 15, 14, 13, 3, 9, 17, 4], [5, 8, 9, 17, 12, 15, 4, 2, 16, 3, 14]]  \n",
       " Any[[6, 11, 9, 8, 15, 3, 14, 2, 4, 17, 12], [6, 11, 9, 4, 8, 1, 15, 3, 14], [6, 11, 9, 8, 5, 2, 7, 1, 15, 12, 17, 4], [6, 11, 9, 8, 4, 16, 2, 17], [6, 11, 9, 17, 12, 15, 8, 4, 2, 16, 3, 14]]             \n",
       " Any[[7, 5, 8, 1, 4, 17, 9, 2], [7, 5, 8, 3, 14, 15, 2, 9], [7, 5, 8, 3, 14, 4, 16], [7, 5, 8, 4, 11, 9, 15, 3, 14, 13], [7, 5, 8, 15, 4, 17, 9, 2, 16, 3, 14]]                                             \n",
       " Any[[8, 9, 11, 15, 14, 3, 2, 5, 7, 1], [8, 9, 17, 5, 7, 3, 14, 15, 2], [8, 15, 3, 9, 17, 4, 11, 16, 5, 14], [8, 4, 16, 2, 10, 3, 15, 14, 13], [8, 5, 7, 15, 4, 17, 9, 2, 16, 3, 14]]                       \n",
       " Any[[9, 17, 8, 15, 3, 14, 2, 4, 12], [9, 8, 4, 17, 11, 1, 15, 3, 14], [9, 17, 12, 4, 11, 15, 8, 16, 3, 5, 14], [9, 11, 8, 4, 16, 2, 6, 17], [9, 8, 17, 12, 15, 4, 2, 16, 3, 14]]                           \n",
       " Any[[10, 2, 8, 5, 7, 1, 4, 17, 9], [10, 2, 8, 5, 7, 3, 14, 15, 9], [10, 2, 8, 3, 9, 17, 4, 11, 16, 5, 14], [10, 2, 8, 9, 17, 4, 12, 1, 3, 15, 14, 13], [10, 2, 8, 15, 11, 9, 4, 16, 3, 14]]                \n",
       " Any[[11, 6, 15, 14, 3, 8, 2, 5, 7, 1], [11, 6, 15, 4, 9, 17, 12, 8, 3, 14], [11, 6, 15, 12, 17, 14, 3, 8, 4, 16, 5], [11, 6, 15, 9, 17, 12, 8, 1, 3, 14, 13], [11, 6, 15, 9, 4, 8, 2, 16, 3, 14]]          \n",
       " Any[[12, 17, 9, 8, 15, 3, 14, 2, 4], [12, 17, 4, 11, 9, 8, 1, 15, 3, 14], [12, 17, 4, 11, 15, 9, 8, 16, 3, 5, 14], [12, 17, 4, 15, 11, 9, 8, 3, 14, 13], [12, 17, 9, 15, 8, 4, 2, 16, 3, 14]]              \n",
       " Any[[13, 15, 12, 17, 4, 11, 9, 8, 2, 5, 7, 1], [13, 15, 14, 11, 6, 4, 9, 17, 12, 8, 3], [13, 15, 8, 3, 9, 17, 4, 11, 16, 5, 14], [13, 15, 12, 17, 11, 4, 9, 8, 3, 14], [13, 15, 8, 11, 9, 4, 2, 16, 3, 14]]\n",
       " Any[[14, 15, 12, 17, 4, 11, 9, 8, 2, 5, 7, 1], [14, 15, 11, 6, 4, 9, 17, 12, 8, 3], [14, 15, 8, 3, 9, 17, 4, 11, 16, 5], [14, 15, 12, 17, 11, 4, 9, 8, 3, 13], [14, 15, 8, 11, 9, 4, 2, 16, 3]]            \n",
       " Any[[15, 11, 9, 8, 3, 14, 2, 4, 17, 12], [15, 13, 8, 12, 14, 11, 3, 4], [15, 8, 2, 10, 5, 7, 1, 12, 17, 9, 11, 4], [15, 11, 9, 8, 4, 16, 2, 6, 17], [15, 13, 12, 17, 4, 9, 8, 2, 16, 3, 14]]               \n",
       " Any[[16, 4, 8, 5, 7, 1, 17, 9, 2], [16, 4, 8, 5, 7, 3, 14, 15, 2, 9], [16, 4, 8, 9, 17, 11, 3, 5, 14], [16, 4, 8, 2, 10, 3, 15, 14, 13], [16, 4, 11, 9, 8, 2, 3, 14]]                                      \n",
       " Any[[17, 12, 15, 13, 8, 3, 14, 9, 2, 4], [17, 4, 16, 8, 5, 7, 3, 14, 15, 2, 9], [17, 12, 15, 14, 9, 11, 4, 8, 16, 3, 5], [17, 9, 8, 4, 12, 1, 3, 15, 14, 13], [17, 4, 16, 11, 9, 8, 2, 3, 14]]             "
      ]
     },
     "execution_count": 63,
     "metadata": {},
     "output_type": "execute_result"
    }
   ],
   "source": [
    "#No lo corro ahora para que no se tarde tanto\n",
    "nv_M = @time visited_vertices(caminata_M)"
   ]
  },
  {
   "cell_type": "code",
   "execution_count": 64,
   "metadata": {},
   "outputs": [
    {
     "name": "stdout",
     "output_type": "stream",
     "text": [
      "  1.993079 seconds (14.11 M allocations: 528.907 MiB, 29.13% gc time)\n"
     ]
    },
    {
     "data": {
      "text/plain": [
       "5×26 Array{Union{Nothing, String},2}:\n",
       " \"ASF\"  \"MRV\"  \"ASF\"  \"MRV\"  \"ASF\"  …  \"OVB\"  \"CEK\"  \"OVB\"  \"SVX\"  \"NJC\"\n",
       " \"ASF\"  \"MRV\"  \"ASF\"  \"MRV\"  \"ASF\"     \"OVB\"  \"CEK\"  \"KZN\"  \"DME\"  \"KZN\"\n",
       " \"ASF\"  \"MRV\"  \"ASF\"  \"MRV\"  \"ASF\"     \"NJC\"  \"UUA\"  \"LED\"  \"NBC\"  \"DME\"\n",
       " \"ASF\"  \"MRV\"  \"ASF\"  \"MRV\"  \"ASF\"     \"KZN\"  \"LED\"  \"UUA\"  \"DME\"  \"KZN\"\n",
       " \"ASF\"  \"MRV\"  \"ASF\"  \"MRV\"  \"ASF\"     \"KZN\"  \"ASF\"  \"KZN\"  \"LED\"  \"UUA\""
      ]
     },
     "execution_count": 64,
     "metadata": {},
     "output_type": "execute_result"
    }
   ],
   "source": [
    "@time walk_names(caminata_M, \"2B\", 2)"
   ]
  },
  {
   "cell_type": "code",
   "execution_count": 65,
   "metadata": {},
   "outputs": [
    {
     "name": "stdout",
     "output_type": "stream",
     "text": [
      "  1.505426 seconds (12.91 M allocations: 468.412 MiB, 56.04% gc time)\n"
     ]
    },
    {
     "data": {
      "text/plain": [
       "5×26 Array{Union{Nothing, String},2}:\n",
       " \"AER\"  \"KZN\"  \"DME\"  \"UUA\"  \"NJC\"  …  \"EGO\"  \"KGD\"  \"EGO\"  \"KZN\"  \"AER\"\n",
       " \"AER\"  \"KZN\"  \"DME\"  \"UUA\"  \"DME\"     \"OVB\"  \"CEK\"  \"KZN\"  \"DME\"  \"KZN\"\n",
       " \"AER\"  \"KZN\"  \"ASF\"  \"MRV\"  \"ASF\"     \"NJC\"  \"UUA\"  \"LED\"  \"NBC\"  \"DME\"\n",
       " \"AER\"  \"KZN\"  \"ASF\"  \"MRV\"  \"ASF\"     \"KZN\"  \"LED\"  \"UUA\"  \"DME\"  \"KZN\"\n",
       " \"AER\"  \"KZN\"  \"LED\"  \"UUA\"  \"NJC\"     \"CEK\"  \"OVB\"  \"CEK\"  \"OVB\"  \"CEK\""
      ]
     },
     "execution_count": 65,
     "metadata": {},
     "output_type": "execute_result"
    }
   ],
   "source": [
    "for i in 1:length(caminata_M)\n",
    "    cam = @time walk_names(caminata_M, \"2B\", i)\n",
    "    return cam\n",
    "end"
   ]
  },
  {
   "cell_type": "markdown",
   "metadata": {},
   "source": [
    "## Frecuencia de visitas"
   ]
  },
  {
   "cell_type": "code",
   "execution_count": 66,
   "metadata": {},
   "outputs": [
    {
     "name": "stdout",
     "output_type": "stream",
     "text": [
      "  1.136361 seconds (3.37 M allocations: 177.305 MiB, 6.38% gc time)\n"
     ]
    },
    {
     "data": {
      "text/plain": [
       "85-element Array{Any,1}:\n",
       " Dict(2=>1,11=>2,7=>2,9=>2,17=>4,8=>4,4=>3,5=>3,15=>1,12=>2…) \n",
       " Dict(4=>4,9=>1,14=>4,3=>5,17=>1,11=>1,8=>7,15=>1,1=>2)       \n",
       " Dict(2=>3,11=>1,7=>3,9=>1,10=>2,17=>1,8=>5,4=>1,5=>5,15=>1…) \n",
       " Dict(2=>2,9=>1,10=>1,17=>1,8=>4,4=>1,3=>4,13=>1,14=>6,15=>4…)\n",
       " Dict(2=>1,16=>1,9=>2,17=>2,8=>6,4=>3,3=>4,14=>3,15=>2,12=>1…)\n",
       " Dict(4=>1,9=>2,10=>4,14=>2,2=>6,3=>3,17=>1,8=>5,15=>1,12=>1…)\n",
       " Dict(4=>2,14=>4,10=>3,2=>4,3=>5,8=>6,15=>1,1=>1)             \n",
       " Dict(2=>4,11=>1,7=>3,9=>1,10=>3,17=>1,8=>4,4=>1,5=>5,15=>1…) \n",
       " Dict(4=>1,9=>1,10=>2,13=>1,2=>3,3=>4,14=>6,17=>1,8=>3,15=>4…)\n",
       " Dict(4=>1,9=>3,10=>2,14=>3,2=>4,3=>3,17=>3,8=>5,15=>1,1=>1…) \n",
       " Dict(4=>1,9=>2,14=>6,2=>1,3=>7,17=>1,8=>5,15=>2,12=>1)       \n",
       " Dict(4=>2,14=>7,3=>9,8=>6,15=>1,1=>1)                        \n",
       " Dict(16=>1,11=>2,9=>2,17=>1,8=>4,4=>3,3=>6,5=>1,14=>4,15=>1…)\n",
       " ⋮                                                            \n",
       " Dict(4=>5,9=>5,2=>1,16=>1,17=>1,11=>6,8=>5,15=>1,6=>1)       \n",
       " Dict(2=>1,16=>1,9=>1,17=>4,8=>3,4=>3,3=>4,13=>1,14=>3,15=>2…)\n",
       " Dict(7=>3,4=>3,9=>1,2=>1,16=>2,17=>1,5=>6,8=>7,1=>2)         \n",
       " Dict(7=>3,4=>2,9=>1,14=>3,2=>1,3=>3,16=>2,5=>5,8=>5,15=>1…)  \n",
       " Dict(4=>6,9=>3,14=>1,3=>3,16=>3,17=>1,11=>3,5=>1,8=>5)       \n",
       " Dict(4=>2,13=>1,10=>4,14=>3,2=>5,3=>3,16=>2,8=>3,15=>3)      \n",
       " Dict(4=>5,9=>3,14=>3,2=>1,3=>4,16=>3,11=>3,8=>4)             \n",
       " Dict(4=>1,9=>2,13=>1,14=>3,2=>1,3=>4,17=>2,8=>6,15=>4,12=>2…)\n",
       " Dict(2=>1,16=>1,7=>3,9=>1,17=>1,8=>5,4=>2,3=>3,5=>5,14=>3…)  \n",
       " Dict(16=>1,11=>2,9=>2,17=>2,8=>4,4=>3,3=>3,5=>1,14=>2,15=>3…)\n",
       " Dict(4=>1,9=>3,13=>1,14=>3,3=>3,17=>5,8=>4,15=>3,12=>2,1=>1…)\n",
       " Dict(4=>5,9=>3,14=>3,2=>1,3=>4,16=>2,17=>1,11=>3,8=>4)       "
      ]
     },
     "execution_count": 66,
     "metadata": {},
     "output_type": "execute_result"
    }
   ],
   "source": [
    "freq_visit_M = @time freq_vertices_visits(caminata_M)"
   ]
  },
  {
   "cell_type": "code",
   "execution_count": 67,
   "metadata": {},
   "outputs": [
    {
     "name": "stdout",
     "output_type": "stream",
     "text": [
      "  0.032089 seconds (24.74 k allocations: 7.354 MiB)\n"
     ]
    },
    {
     "data": {
      "text/plain": [
       "85-element Array{Array,1}:\n",
       " [0, 2, 1, 0, 3, 3, 0, 2, 4, 2, 0, 2, 2, 0, 0, 1, 0, 4]\n",
       " [0, 2, 0, 5, 4, 0, 0, 0, 7, 1, 0, 1, 0, 0, 4, 1, 0, 1]\n",
       " [0, 2, 3, 0, 1, 5, 0, 3, 5, 1, 2, 1, 1, 0, 0, 1, 0, 1]\n",
       " [0, 1, 2, 4, 1, 0, 0, 0, 4, 1, 1, 0, 0, 1, 6, 4, 0, 1]\n",
       " [0, 1, 1, 4, 3, 0, 0, 0, 6, 2, 0, 0, 1, 0, 3, 2, 1, 2]\n",
       " [0, 0, 6, 3, 1, 0, 0, 0, 5, 2, 4, 0, 1, 0, 2, 1, 0, 1]\n",
       " [0, 1, 4, 5, 2, 0, 0, 0, 6, 0, 3, 0, 0, 0, 4, 1, 0, 0]\n",
       " [0, 1, 4, 0, 1, 5, 0, 3, 4, 1, 3, 1, 1, 0, 0, 1, 0, 1]\n",
       " [0, 0, 3, 4, 1, 0, 0, 0, 3, 1, 2, 0, 0, 1, 6, 4, 0, 1]\n",
       " [0, 1, 4, 3, 1, 0, 0, 0, 5, 3, 2, 0, 0, 0, 3, 1, 0, 3]\n",
       " [0, 0, 1, 7, 1, 0, 0, 0, 5, 2, 0, 0, 1, 0, 6, 2, 0, 1]\n",
       " [0, 1, 0, 9, 2, 0, 0, 0, 6, 0, 0, 0, 0, 0, 7, 1, 0, 0]\n",
       " [0, 0, 0, 6, 3, 1, 0, 0, 4, 2, 0, 2, 1, 0, 4, 1, 1, 1]\n",
       " ⋮                                                     \n",
       " [0, 0, 1, 0, 5, 0, 1, 0, 5, 5, 0, 6, 0, 0, 0, 1, 1, 1]\n",
       " [0, 0, 1, 4, 3, 0, 0, 0, 3, 1, 0, 0, 3, 1, 3, 2, 1, 4]\n",
       " [0, 2, 1, 0, 3, 6, 0, 3, 7, 1, 0, 0, 0, 0, 0, 0, 2, 1]\n",
       " [0, 0, 1, 3, 2, 5, 0, 3, 5, 1, 0, 0, 0, 0, 3, 1, 2, 0]\n",
       " [0, 0, 0, 3, 6, 1, 0, 0, 5, 3, 0, 3, 0, 0, 1, 0, 3, 1]\n",
       " [0, 0, 5, 3, 2, 0, 0, 0, 3, 0, 4, 0, 0, 1, 3, 3, 2, 0]\n",
       " [0, 0, 1, 4, 5, 0, 0, 0, 4, 3, 0, 3, 0, 0, 3, 0, 3, 0]\n",
       " [0, 0, 1, 4, 1, 0, 0, 0, 6, 2, 0, 0, 2, 1, 3, 4, 0, 2]\n",
       " [0, 0, 1, 3, 2, 5, 0, 3, 5, 1, 0, 0, 0, 0, 3, 1, 1, 1]\n",
       " [0, 0, 0, 3, 3, 1, 0, 0, 4, 2, 0, 2, 3, 0, 2, 3, 1, 2]\n",
       " [0, 1, 0, 3, 1, 0, 0, 0, 4, 3, 0, 0, 2, 1, 3, 3, 0, 5]\n",
       " [0, 0, 1, 4, 5, 0, 0, 0, 4, 3, 0, 3, 0, 0, 3, 0, 2, 1]"
      ]
     },
     "execution_count": 67,
     "metadata": {},
     "output_type": "execute_result"
    }
   ],
   "source": [
    "distrib_visit_M = @time distrib_vertices_visits(caminata_M)"
   ]
  },
  {
   "cell_type": "code",
   "execution_count": 68,
   "metadata": {},
   "outputs": [
    {
     "ename": "UndefVarError",
     "evalue": "UndefVarError: plot_visit_freq not defined",
     "output_type": "error",
     "traceback": [
      "UndefVarError: plot_visit_freq not defined",
      "",
      "Stacktrace:",
      " [1] top-level scope at In[68]:1"
     ]
    }
   ],
   "source": [
    "plot_visit_freq(caminata_M);"
   ]
  },
  {
   "cell_type": "code",
   "execution_count": 69,
   "metadata": {},
   "outputs": [
    {
     "data": {
      "text/plain": [
       "5-element Array{Any,1}:\n",
       " Dict(2=>1,11=>2,7=>2,9=>2,17=>4,8=>4,4=>3,5=>3,15=>1,12=>2…) \n",
       " Dict(4=>4,9=>1,14=>4,3=>5,17=>1,11=>1,8=>7,15=>1,1=>2)       \n",
       " Dict(2=>3,11=>1,7=>3,9=>1,10=>2,17=>1,8=>5,4=>1,5=>5,15=>1…) \n",
       " Dict(2=>2,9=>1,10=>1,17=>1,8=>4,4=>1,3=>4,13=>1,14=>6,15=>4…)\n",
       " Dict(2=>1,16=>1,9=>2,17=>2,8=>6,4=>3,3=>4,14=>3,15=>2,12=>1…)"
      ]
     },
     "execution_count": 69,
     "metadata": {},
     "output_type": "execute_result"
    }
   ],
   "source": [
    "freq_vertex_visits(caminata_M, 1)"
   ]
  },
  {
   "cell_type": "code",
   "execution_count": 70,
   "metadata": {},
   "outputs": [
    {
     "data": {
      "text/plain": [
       "5-element Array{Any,1}:\n",
       " [0, 2, 1, 0, 3, 3, 0, 2, 4, 2, 0, 2, 2, 0, 0, 1, 0, 4]\n",
       " [0, 2, 0, 5, 4, 0, 0, 0, 7, 1, 0, 1, 0, 0, 4, 1, 0, 1]\n",
       " [0, 2, 3, 0, 1, 5, 0, 3, 5, 1, 2, 1, 1, 0, 0, 1, 0, 1]\n",
       " [0, 1, 2, 4, 1, 0, 0, 0, 4, 1, 1, 0, 0, 1, 6, 4, 0, 1]\n",
       " [0, 1, 1, 4, 3, 0, 0, 0, 6, 2, 0, 0, 1, 0, 3, 2, 1, 2]"
      ]
     },
     "execution_count": 70,
     "metadata": {},
     "output_type": "execute_result"
    }
   ],
   "source": [
    "distrib_vertex_visits(caminata_M, 1)"
   ]
  },
  {
   "cell_type": "code",
   "execution_count": 71,
   "metadata": {},
   "outputs": [
    {
     "data": {
      "image/png": "[encoded data removed]"
     },
     "execution_count": 71,
     "metadata": {},
     "output_type": "execute_result"
    }
   ],
   "source": [
    "plot_visit_freq_vertex(caminata_M, 1)"
   ]
  },
  {
   "cell_type": "code",
   "execution_count": 72,
   "metadata": {},
   "outputs": [
    {
     "name": "stdout",
     "output_type": "stream",
     "text": [
      "  0.249985 seconds (506.42 k allocations: 25.682 MiB, 40.22% gc time)\n"
     ]
    },
    {
     "data": {
      "text/plain": [
       "17×18 Array{Float64,2}:\n",
       " 0.0  1.6  1.4  2.6  2.4  1.6  0.0  1.0  …  0.8  0.8  0.2  2.6  1.8  0.2  1.8\n",
       " 0.0  0.6  4.2  3.0  1.2  1.0  0.0  0.6     0.2  0.4  0.2  3.0  1.6  0.0  1.2\n",
       " 0.0  0.2  0.4  7.0  1.8  0.2  0.0  0.0     0.4  0.8  0.4  6.0  2.0  0.4  1.0\n",
       " 0.0  0.4  0.8  2.6  3.6  1.2  0.2  0.6     2.6  0.6  0.0  2.0  1.4  0.4  1.0\n",
       " 0.0  0.6  1.4  2.6  2.4  2.6  0.0  1.0     0.8  0.8  0.2  2.6  1.8  0.2  1.8\n",
       " 0.0  0.4  0.8  2.6  2.6  1.2  1.2  0.6  …  2.6  0.6  0.0  2.0  1.4  0.4  1.0\n",
       " 0.0  0.4  0.6  3.4  1.6  5.0  0.0  4.0     0.6  0.0  0.2  2.6  1.2  0.4  0.4\n",
       " 0.0  0.2  1.6  3.6  1.8  2.4  0.0  1.2     1.0  0.0  0.2  3.0  1.8  0.6  0.6\n",
       " 0.0  0.2  0.6  3.2  3.4  0.2  0.2  0.0     2.0  0.8  0.0  2.2  1.4  0.6  1.8\n",
       " 0.0  0.6  2.0  2.8  1.8  2.4  0.0  1.2     1.2  0.4  0.2  2.0  1.0  0.4  1.2\n",
       " 0.0  0.4  0.4  3.8  1.6  0.8  1.2  0.4  …  3.6  1.4  0.2  3.2  2.6  0.4  1.4\n",
       " 0.0  0.2  0.4  3.8  2.8  0.2  0.0  0.0     1.6  2.2  0.2  2.8  2.4  0.4  2.4\n",
       " 0.0  0.2  0.4  2.8  2.8  0.8  0.2  0.4     3.0  1.4  1.2  2.0  2.8  0.4  1.8\n",
       " 0.0  0.2  0.4  2.8  2.8  0.8  0.2  0.4     3.0  1.4  0.2  3.0  2.8  0.4  1.8\n",
       " 0.0  0.2  1.2  2.6  2.2  1.0  0.2  0.6     1.8  1.2  0.6  2.2  3.2  0.4  1.4\n",
       " 0.0  0.4  1.6  2.6  3.6  2.4  0.0  1.2  …  1.2  0.0  0.2  2.0  0.8  2.4  0.4\n",
       " 0.0  0.2  0.6  3.4  2.4  1.2  0.0  0.6     1.0  1.4  0.4  2.8  2.2  0.8  2.2"
      ]
     },
     "execution_count": 72,
     "metadata": {},
     "output_type": "execute_result"
    }
   ],
   "source": [
    "distrib_prom_M = @time distrib_av_visits(caminata_M)"
   ]
  },
  {
   "cell_type": "code",
   "execution_count": 73,
   "metadata": {},
   "outputs": [
    {
     "data": {
      "image/png": "[encoded data removed]"
     },
     "execution_count": 73,
     "metadata": {},
     "output_type": "execute_result"
    }
   ],
   "source": [
    "plot_freq_av_visits(caminata_M, \"2B\")"
   ]
  },
  {
   "cell_type": "markdown",
   "metadata": {},
   "source": [
    "## Cobertura (nodos distintos)"
   ]
  },
  {
   "cell_type": "code",
   "execution_count": 74,
   "metadata": {},
   "outputs": [
    {
     "name": "stdout",
     "output_type": "stream",
     "text": [
      "  0.054129 seconds (33.50 k allocations: 1.683 MiB)\n"
     ]
    },
    {
     "data": {
      "text/plain": [
       "17-element Array{Any,1}:\n",
       " [11, 9, 12, 11, 11] \n",
       " [10, 8, 12, 10, 10] \n",
       " [9, 6, 11, 8, 11]   \n",
       " [10, 8, 11, 8, 11]  \n",
       " [11, 10, 12, 11, 11]\n",
       " [11, 9, 12, 8, 12]  \n",
       " [8, 8, 7, 10, 11]   \n",
       " [10, 9, 10, 9, 11]  \n",
       " [9, 9, 11, 8, 10]   \n",
       " [9, 9, 11, 12, 10]  \n",
       " [10, 10, 11, 11, 10]\n",
       " [9, 10, 11, 10, 10] \n",
       " [12, 11, 11, 10, 10]\n",
       " [12, 10, 10, 10, 9] \n",
       " [10, 8, 12, 9, 11]  \n",
       " [9, 10, 9, 9, 8]    \n",
       " [10, 11, 11, 10, 9] "
      ]
     },
     "execution_count": 74,
     "metadata": {},
     "output_type": "execute_result"
    }
   ],
   "source": [
    "cobi_M = @time coverage(caminata_M)"
   ]
  },
  {
   "cell_type": "markdown",
   "metadata": {},
   "source": [
    "## Cobertura promedio de las caminatas de cada aeropuerto inicial"
   ]
  },
  {
   "cell_type": "code",
   "execution_count": 75,
   "metadata": {},
   "outputs": [
    {
     "name": "stdout",
     "output_type": "stream",
     "text": [
      "  0.014752 seconds (20.02 k allocations: 1.133 MiB)\n"
     ]
    },
    {
     "data": {
      "text/plain": [
       "17-element Array{Float64,1}:\n",
       " 10.8\n",
       " 10.0\n",
       "  9.0\n",
       "  9.6\n",
       " 11.0\n",
       " 10.4\n",
       "  8.8\n",
       "  9.8\n",
       "  9.4\n",
       " 10.2\n",
       " 10.4\n",
       " 10.0\n",
       " 10.8\n",
       " 10.2\n",
       " 10.0\n",
       "  9.0\n",
       " 10.2"
      ]
     },
     "execution_count": 75,
     "metadata": {},
     "output_type": "execute_result"
    }
   ],
   "source": [
    "cobs_M = @time vertex_coverage(caminata_M)"
   ]
  },
  {
   "cell_type": "code",
   "execution_count": 76,
   "metadata": {},
   "outputs": [
    {
     "data": {
      "image/png": "[encoded data removed]"
     },
     "execution_count": 76,
     "metadata": {},
     "output_type": "execute_result"
    }
   ],
   "source": [
    "plot_vertex_coverage(caminata_M, \"2B\")"
   ]
  },
  {
   "cell_type": "markdown",
   "metadata": {},
   "source": [
    "## Cobertura promedio"
   ]
  },
  {
   "cell_type": "code",
   "execution_count": 77,
   "metadata": {},
   "outputs": [
    {
     "name": "stdout",
     "output_type": "stream",
     "text": [
      "  0.006116 seconds (2.19 k allocations: 188.180 KiB)\n"
     ]
    },
    {
     "data": {
      "text/plain": [
       "9.976470588235294"
      ]
     },
     "execution_count": 77,
     "metadata": {},
     "output_type": "execute_result"
    }
   ],
   "source": [
    "cobp_M = @time layer_coverage(caminata_M)"
   ]
  },
  {
   "cell_type": "markdown",
   "metadata": {},
   "source": [
    "## Longitudes máximas de caminatas"
   ]
  },
  {
   "cell_type": "code",
   "execution_count": 78,
   "metadata": {},
   "outputs": [
    {
     "name": "stdout",
     "output_type": "stream",
     "text": [
      "  0.041272 seconds (50.65 k allocations: 2.749 MiB)\n"
     ]
    },
    {
     "data": {
      "text/plain": [
       "17-element Array{Int64,1}:\n",
       " 12\n",
       " 12\n",
       " 11\n",
       " 11\n",
       " 12\n",
       " 12\n",
       " 11\n",
       " 11\n",
       " 11\n",
       " 12\n",
       " 11\n",
       " 11\n",
       " 12\n",
       " 12\n",
       " 12\n",
       " 10\n",
       " 11"
      ]
     },
     "execution_count": 78,
     "metadata": {},
     "output_type": "execute_result"
    }
   ],
   "source": [
    "lmax_M = @time max_length(caminata_M)"
   ]
  },
  {
   "cell_type": "code",
   "execution_count": 79,
   "metadata": {},
   "outputs": [
    {
     "name": "stdout",
     "output_type": "stream",
     "text": [
      "  0.004638 seconds (2.24 k allocations: 190.332 KiB)\n"
     ]
    },
    {
     "data": {
      "text/plain": [
       "12"
      ]
     },
     "execution_count": 79,
     "metadata": {},
     "output_type": "execute_result"
    }
   ],
   "source": [
    "lMax_M = @time Max_length(caminata_M)"
   ]
  },
  {
   "cell_type": "code",
   "execution_count": 80,
   "metadata": {},
   "outputs": [
    {
     "name": "stdout",
     "output_type": "stream",
     "text": [
      "  0.008147 seconds (2.18 k allocations: 187.961 KiB)\n"
     ]
    },
    {
     "data": {
      "text/plain": [
       "11.411764705882353"
      ]
     },
     "execution_count": 80,
     "metadata": {},
     "output_type": "execute_result"
    }
   ],
   "source": [
    "lavmax_M = @time av_max_length(caminata_M)"
   ]
  },
  {
   "cell_type": "markdown",
   "metadata": {},
   "source": [
    "## Longitudes mínimas de caminatas"
   ]
  },
  {
   "cell_type": "code",
   "execution_count": 81,
   "metadata": {},
   "outputs": [
    {
     "name": "stdout",
     "output_type": "stream",
     "text": [
      "  0.037918 seconds (55.80 k allocations: 3.013 MiB)\n"
     ]
    },
    {
     "data": {
      "text/plain": [
       "17-element Array{Int64,1}:\n",
       "  9\n",
       "  8\n",
       "  6\n",
       "  8\n",
       " 10\n",
       "  8\n",
       "  7\n",
       "  9\n",
       "  8\n",
       "  9\n",
       " 10\n",
       "  9\n",
       " 10\n",
       "  9\n",
       "  8\n",
       "  8\n",
       "  9"
      ]
     },
     "execution_count": 81,
     "metadata": {},
     "output_type": "execute_result"
    }
   ],
   "source": [
    "lmin_M = @time min_length(caminata_M)"
   ]
  },
  {
   "cell_type": "code",
   "execution_count": 82,
   "metadata": {},
   "outputs": [
    {
     "name": "stdout",
     "output_type": "stream",
     "text": [
      "  0.004724 seconds (2.24 k allocations: 190.364 KiB)\n"
     ]
    },
    {
     "data": {
      "text/plain": [
       "6"
      ]
     },
     "execution_count": 82,
     "metadata": {},
     "output_type": "execute_result"
    }
   ],
   "source": [
    "lMin_M = @time Min_length(caminata_M)"
   ]
  },
  {
   "cell_type": "code",
   "execution_count": 83,
   "metadata": {},
   "outputs": [
    {
     "name": "stdout",
     "output_type": "stream",
     "text": [
      "  0.005597 seconds (2.18 k allocations: 187.914 KiB)\n"
     ]
    },
    {
     "data": {
      "text/plain": [
       "8.529411764705882"
      ]
     },
     "execution_count": 83,
     "metadata": {},
     "output_type": "execute_result"
    }
   ],
   "source": [
    "lavmin_M = @time av_min_length(caminata_M)"
   ]
  },
  {
   "cell_type": "markdown",
   "metadata": {},
   "source": [
    "## Endpoints"
   ]
  },
  {
   "cell_type": "code",
   "execution_count": 84,
   "metadata": {},
   "outputs": [
    {
     "name": "stdout",
     "output_type": "stream",
     "text": [
      "  0.029329 seconds (22.83 k allocations: 1.219 MiB)\n"
     ]
    },
    {
     "data": {
      "text/plain": [
       "17-element Array{Array,1}:\n",
       " [0, 0, 0, 0, 0]\n",
       " [0, 0, 0, 0, 0]\n",
       " [0, 0, 0, 0, 0]\n",
       " [0, 0, 0, 0, 0]\n",
       " [0, 0, 0, 0, 0]\n",
       " [0, 0, 0, 0, 0]\n",
       " [0, 0, 0, 0, 0]\n",
       " [0, 0, 0, 0, 0]\n",
       " [0, 0, 0, 0, 0]\n",
       " [0, 0, 0, 0, 0]\n",
       " [0, 0, 0, 0, 0]\n",
       " [0, 0, 0, 0, 0]\n",
       " [0, 0, 0, 0, 0]\n",
       " [0, 0, 0, 0, 0]\n",
       " [0, 0, 0, 0, 0]\n",
       " [0, 0, 0, 0, 0]\n",
       " [0, 0, 0, 0, 0]"
      ]
     },
     "execution_count": 84,
     "metadata": {},
     "output_type": "execute_result"
    }
   ],
   "source": [
    "endpts_M = @time endpoints(caminata_M)"
   ]
  },
  {
   "cell_type": "code",
   "execution_count": 85,
   "metadata": {},
   "outputs": [
    {
     "name": "stdout",
     "output_type": "stream",
     "text": [
      "  0.013555 seconds (17.49 k allocations: 1020.651 KiB)\n"
     ]
    },
    {
     "data": {
      "text/plain": [
       "17-element Array{Float64,1}:\n",
       " 0.0\n",
       " 0.0\n",
       " 0.0\n",
       " 0.0\n",
       " 0.0\n",
       " 0.0\n",
       " 0.0\n",
       " 0.0\n",
       " 0.0\n",
       " 0.0\n",
       " 0.0\n",
       " 0.0\n",
       " 0.0\n",
       " 0.0\n",
       " 0.0\n",
       " 0.0\n",
       " 0.0"
      ]
     },
     "execution_count": 85,
     "metadata": {},
     "output_type": "execute_result"
    }
   ],
   "source": [
    "av_endpts_M = @time av_vertex_endpoints(caminata_M)"
   ]
  },
  {
   "cell_type": "code",
   "execution_count": 86,
   "metadata": {},
   "outputs": [
    {
     "name": "stdout",
     "output_type": "stream",
     "text": [
      "  0.252684 seconds (722.81 k allocations: 35.841 MiB, 8.82% gc time)\n"
     ]
    },
    {
     "data": {
      "text/plain": [
       "17-element Array{Int64,1}:\n",
       " 0\n",
       " 0\n",
       " 0\n",
       " 0\n",
       " 0\n",
       " 0\n",
       " 0\n",
       " 0\n",
       " 0\n",
       " 0\n",
       " 0\n",
       " 0\n",
       " 0\n",
       " 0\n",
       " 0\n",
       " 0\n",
       " 0"
      ]
     },
     "execution_count": 86,
     "metadata": {},
     "output_type": "execute_result"
    }
   ],
   "source": [
    "distrib_endpts_M = @time distrib_endpoints(caminata_M)"
   ]
  },
  {
   "cell_type": "code",
   "execution_count": 88,
   "metadata": {},
   "outputs": [
    {
     "name": "stdout",
     "output_type": "stream",
     "text": [
      "  0.121154 seconds (193.36 k allocations: 9.262 MiB, 9.28% gc time)\n"
     ]
    },
    {
     "data": {
      "text/plain": [
       "0-element Array{Int64,1}"
      ]
     },
     "execution_count": 88,
     "metadata": {},
     "output_type": "execute_result"
    }
   ],
   "source": [
    "which_endpoints_M = @time which_endpoints(multiplex)"
   ]
  },
  {
   "cell_type": "code",
   "execution_count": 91,
   "metadata": {},
   "outputs": [
    {
     "name": "stdout",
     "output_type": "stream",
     "text": [
      "  0.016605 seconds (15.65 k allocations: 888.783 KiB)\n"
     ]
    },
    {
     "data": {
      "text/plain": [
       "17-element Array{Any,1}:\n",
       " Dict(0=>5)\n",
       " Dict(0=>5)\n",
       " Dict(0=>5)\n",
       " Dict(0=>5)\n",
       " Dict(0=>5)\n",
       " Dict(0=>5)\n",
       " Dict(0=>5)\n",
       " Dict(0=>5)\n",
       " Dict(0=>5)\n",
       " Dict(0=>5)\n",
       " Dict(0=>5)\n",
       " Dict(0=>5)\n",
       " Dict(0=>5)\n",
       " Dict(0=>5)\n",
       " Dict(0=>5)\n",
       " Dict(0=>5)\n",
       " Dict(0=>5)"
      ]
     },
     "execution_count": 91,
     "metadata": {},
     "output_type": "execute_result"
    }
   ],
   "source": [
    "freq_all_endpoints_M = @time freq_all_endpoints(caminata_M)"
   ]
  },
  {
   "cell_type": "code",
   "execution_count": 141,
   "metadata": {},
   "outputs": [],
   "source": [
    "#Falta función plot con nombres"
   ]
  }
 ],
 "metadata": {
  "@webio": {
   "lastCommId": null,
   "lastKernelId": null
  },
  "kernelspec": {
   "display_name": "Julia 1.1.0",
   "language": "julia",
   "name": "julia-1.1"
  },
  "language_info": {
   "file_extension": ".jl",
   "mimetype": "application/julia",
   "name": "julia",
   "version": "1.1.0"
  }
 },
 "nbformat": 4,
 "nbformat_minor": 2
}
