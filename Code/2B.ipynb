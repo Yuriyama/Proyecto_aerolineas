{
 "cells": [
  {
   "cell_type": "markdown",
   "metadata": {},
   "source": [
    "# Random Walks en Multiplex de Aerolíneas\n",
    "\n",
    "## Directorio"
   ]
  },
  {
   "cell_type": "code",
   "execution_count": 1,
   "metadata": {},
   "outputs": [],
   "source": [
    "#Establecer directorio\n",
    "cd(\"$(homedir())/Documents/UNAM/Tesis_Lic\")"
   ]
  },
  {
   "cell_type": "markdown",
   "metadata": {},
   "source": [
    "## Paquetes\n",
    "\n",
    "Se importan todos los paquetes que se necesitarán para las funciones y visualizaciones del proyecto."
   ]
  },
  {
   "cell_type": "code",
   "execution_count": 2,
   "metadata": {},
   "outputs": [],
   "source": [
    "using StatsBase\n",
    "\n",
    "#using NamedArrays\n",
    "#using CSV\n",
    "#using LightGraphs\n",
    "#using DataFrames"
   ]
  },
  {
   "cell_type": "code",
   "execution_count": 3,
   "metadata": {},
   "outputs": [],
   "source": [
    "using DelimitedFiles"
   ]
  },
  {
   "cell_type": "code",
   "execution_count": 4,
   "metadata": {},
   "outputs": [],
   "source": [
    "using RandomNumbers.Xorshifts"
   ]
  },
  {
   "cell_type": "code",
   "execution_count": 5,
   "metadata": {},
   "outputs": [],
   "source": [
    "using Plots"
   ]
  },
  {
   "cell_type": "code",
   "execution_count": 6,
   "metadata": {},
   "outputs": [
    {
     "ename": "UndefVarError",
     "evalue": "UndefVarError: data_names not defined",
     "output_type": "error",
     "traceback": [
      "UndefVarError: data_names not defined",
      "",
      "Stacktrace:",
      " [1] top-level scope at In[6]:1"
     ]
    }
   ],
   "source": [
    "listita = data_names(\"data/aerolineas_matrices/\")"
   ]
  },
  {
   "cell_type": "code",
   "execution_count": 7,
   "metadata": {},
   "outputs": [],
   "source": [
    "#listita = [\"abc\", \"def\", \"ghi\", \"jkl\", \"mno\", \"pqr\", \"stu\", \"vwx\", \"yz\"]"
   ]
  },
  {
   "cell_type": "code",
   "execution_count": 8,
   "metadata": {},
   "outputs": [],
   "source": [
    "#for i in 1:9\n",
    "#    nomb = string(\"hola\",\"_yu_\",listita[i])\n",
    "#    println(nomb)\n",
    "#end"
   ]
  },
  {
   "cell_type": "code",
   "execution_count": 9,
   "metadata": {},
   "outputs": [],
   "source": [
    "#readdir(\"data/\")"
   ]
  },
  {
   "cell_type": "code",
   "execution_count": 10,
   "metadata": {},
   "outputs": [],
   "source": [
    "#aerolin = readdlm(\"data/lista_aerolineas.csv\", ',')"
   ]
  },
  {
   "cell_type": "markdown",
   "metadata": {},
   "source": [
    "## Funciones\n",
    "\n",
    "### Importar datos"
   ]
  },
  {
   "cell_type": "code",
   "execution_count": 11,
   "metadata": {},
   "outputs": [
    {
     "data": {
      "text/plain": [
       "import_matrix"
      ]
     },
     "execution_count": 11,
     "metadata": {},
     "output_type": "execute_result"
    }
   ],
   "source": [
    "\"\"\"\n",
    "    import_matrix(file::string)\n",
    "\n",
    "Función que importa el archivo de la matriz de adyacencia de R.\n",
    "\"\"\"\n",
    "function import_matrix(arch::AbstractString)\n",
    "    archivo_R = readdlm(arch, ',') \n",
    "    archivo_R = archivo_R[2:end, :]\n",
    "    matriz = archivo_R[:, 2:end]\n",
    "    nombre = convert(Array{Int64,2}, matriz)\n",
    "    return nombre\n",
    "end"
   ]
  },
  {
   "cell_type": "markdown",
   "metadata": {},
   "source": [
    "### Nombres de datos"
   ]
  },
  {
   "cell_type": "code",
   "execution_count": 12,
   "metadata": {},
   "outputs": [
    {
     "data": {
      "text/plain": [
       "airport_names"
      ]
     },
     "execution_count": 12,
     "metadata": {},
     "output_type": "execute_result"
    }
   ],
   "source": [
    "\"\"\"\n",
    "    airport_names(M)\n",
    "\n",
    "Función que obtiene un arreglo con los nombres de aeropuertos de la matriz\n",
    "\"\"\"\n",
    "function airport_names(arch::AbstractString)\n",
    "    archivo_R = readdlm(arch, ',')\n",
    "    columna = archivo_R[1, :]\n",
    "    nombres = columna[2:end]\n",
    "    return nombres\n",
    "end"
   ]
  },
  {
   "cell_type": "markdown",
   "metadata": {},
   "source": [
    "### Grado"
   ]
  },
  {
   "cell_type": "code",
   "execution_count": 13,
   "metadata": {},
   "outputs": [
    {
     "data": {
      "text/plain": [
       "n_in_degree"
      ]
     },
     "execution_count": 13,
     "metadata": {},
     "output_type": "execute_result"
    }
   ],
   "source": [
    "\"\"\"\n",
    "\n",
    "    n_in_degree(M::Array{Int64,2}, n::Int64)\n",
    "\n",
    "Función que obtiene el grado de entrada de un cierto nodo n de la red representada por la matriz de adyacencia M.\n",
    "\n",
    "Parámetros:\n",
    "M matriz de adyacencia que acepta un arreglo de tipo Array{Int64,2}\n",
    "n nodo a evaluar de tipo Int64\n",
    "\n",
    "Resultado:\n",
    "Grado de entrada del nodo n representado por un valor numérico de tipo Int64\n",
    "\n",
    "Implementación\n",
    "\n",
    "#### Ejemplos\n",
    "\"\"\"\n",
    "function n_in_degree(M::Array{Int64,2}, n::Int64)\n",
    "    grado_entrada = sum(M[n, :])\n",
    "end"
   ]
  },
  {
   "cell_type": "code",
   "execution_count": 14,
   "metadata": {},
   "outputs": [
    {
     "data": {
      "text/plain": [
       "in_degree"
      ]
     },
     "execution_count": 14,
     "metadata": {},
     "output_type": "execute_result"
    }
   ],
   "source": [
    "\"\"\"\n",
    "in_degree(M)\n",
    "\n",
    "Función que obtiene el grado de entrada de una red representada por la matriz de adyacencia M.\n",
    "\n",
    "Parámetros:\n",
    "* M matriz de adyacencia que acepta un arreglo de tipo Array{Int64,2}\n",
    "\n",
    "Resultado:\n",
    "Devuelve un arreglo de tipo Array{Int64,2} que contiene los grados de entrada de todos los nodos n de la red.\n",
    "\n",
    "## Implementación\n",
    "\n",
    "### Ejemplos\n",
    "\"\"\"\n",
    "function in_degree(M::Array)\n",
    "    grados_entrada = sum(M, dims = 2)\n",
    "end"
   ]
  },
  {
   "cell_type": "code",
   "execution_count": 15,
   "metadata": {},
   "outputs": [
    {
     "data": {
      "text/plain": [
       "n_out_degree (generic function with 1 method)"
      ]
     },
     "execution_count": 15,
     "metadata": {},
     "output_type": "execute_result"
    }
   ],
   "source": [
    "\"\"\"\n",
    "    n_out_degree(M, n)\n",
    "\n",
    "Función que obtiene el grado de salida de un cierto nodo n de la red representada por la matriz de adyacencia M.\n",
    "\n",
    "Parámetros:\n",
    "* M matriz de adyacencia que acepta un arreglo de tipo Array{Int64,2}\n",
    "* n nodo a evaluar de tipo Int64\n",
    "\n",
    "Resultado:\n",
    "Grado de salida del nodo n representado por un valor numérico de tipo Int64\n",
    "\n",
    "## Implementación\n",
    "\n",
    "### Ejemplos\n",
    "\"\"\"\n",
    "\n",
    "function n_out_degree(M::Array{Int64,2}, n::Int64)\n",
    "    grado_salida = sum(M[:, n])\n",
    "end"
   ]
  },
  {
   "cell_type": "code",
   "execution_count": 16,
   "metadata": {},
   "outputs": [
    {
     "data": {
      "text/plain": [
       "out_degree"
      ]
     },
     "execution_count": 16,
     "metadata": {},
     "output_type": "execute_result"
    }
   ],
   "source": [
    "\"\"\"\n",
    "    out_degree(M)\n",
    "\n",
    "Función que obtiene el grado de salida de una red representada por la matriz de adyacencia M.\n",
    "\n",
    "Parámetros:\n",
    "* M matriz de adyacencia que acepta un arreglo de tipo Array{Int64,2}\n",
    "\n",
    "Resultado:\n",
    "Devuelve un arreglo de tipo Array{Int64,2} que contiene los grados de salida de todos los nodos n de la red.\n",
    "\n",
    "## Implementación\n",
    "\n",
    "### Ejemplos\n",
    "\"\"\"\n",
    "function out_degree(M::Array)\n",
    "    grados_salida = sum(M, dims = 1)\n",
    "end"
   ]
  },
  {
   "cell_type": "markdown",
   "metadata": {},
   "source": [
    "### Distribución de grado"
   ]
  },
  {
   "cell_type": "code",
   "execution_count": 17,
   "metadata": {},
   "outputs": [
    {
     "data": {
      "text/plain": [
       "distrib_in_degree"
      ]
     },
     "execution_count": 17,
     "metadata": {},
     "output_type": "execute_result"
    }
   ],
   "source": [
    "\"\"\"\n",
    "Función de distribución de grado de entrada\n",
    "\"\"\"\n",
    "function distrib_in_degree(M::Array)\n",
    "    x = in_degree(M)\n",
    "    degree_count = counts(x)\n",
    "    return degree_count\n",
    "end"
   ]
  },
  {
   "cell_type": "code",
   "execution_count": 18,
   "metadata": {},
   "outputs": [
    {
     "data": {
      "text/plain": [
       "distrib_out_degree"
      ]
     },
     "execution_count": 18,
     "metadata": {},
     "output_type": "execute_result"
    }
   ],
   "source": [
    "\"\"\"\n",
    "Función de distribución de grado de salida\n",
    "\"\"\"\n",
    "function distrib_out_degree(M::Array)\n",
    "    x = out_degree(M)\n",
    "    degree_count = counts(x)\n",
    "    return degree_count\n",
    "end"
   ]
  },
  {
   "cell_type": "code",
   "execution_count": 19,
   "metadata": {},
   "outputs": [
    {
     "data": {
      "text/plain": [
       "plot_distrib (generic function with 1 method)"
      ]
     },
     "execution_count": 19,
     "metadata": {},
     "output_type": "execute_result"
    }
   ],
   "source": [
    "function plot_distrib(M::Array, tipo::String, titulo::String, color::String)\n",
    "    \n",
    "    pyplot()\n",
    "    \n",
    "    if tipo == \"in\"\n",
    "        distribucion = distrib_in_degree(M::Array)\n",
    "    elseif tipo == \"out\"\n",
    "        distribucion = distrib_out_degree(M::Array)\n",
    "    end\n",
    "    distribucion\n",
    "    #@show distribucion\n",
    "    graph = bar(distribucion, fillcolor = color, markersize = 3, linealpha = 0.5, \n",
    "    title = titulo, \n",
    "    xlabel = \"Grado\", \n",
    "    ylabel = \"Frecuencia\",\n",
    "    xlims = (-10,300), #obtener límites\n",
    "    ylims = (-10,1000)) #obtener límites\n",
    "end"
   ]
  },
  {
   "cell_type": "markdown",
   "metadata": {},
   "source": [
    "### Vecinos"
   ]
  },
  {
   "cell_type": "code",
   "execution_count": 20,
   "metadata": {},
   "outputs": [
    {
     "data": {
      "text/plain": [
       "neighbors"
      ]
     },
     "execution_count": 20,
     "metadata": {},
     "output_type": "execute_result"
    }
   ],
   "source": [
    "\"\"\"\n",
    "    neighbors(M::Array{Int64,2})\n",
    "\n",
    "Función que obtiene un conjunto de arreglos con los vecinos de cada nodo.\n",
    "\"\"\"\n",
    "function neighbors(M::Array{Int64,2})\n",
    "    \n",
    "    nodos = size(M, 1) #aeropuertos\n",
    "    vecindades = []\n",
    "    \n",
    "    for i in 1:nodos\n",
    "        vecinos = findall(x -> x != 0, M[i, :])\n",
    "        push!(vecindades, vecinos)\n",
    "    end\n",
    "    vecindades\n",
    "end"
   ]
  },
  {
   "cell_type": "markdown",
   "metadata": {},
   "source": [
    "### Random walks"
   ]
  },
  {
   "cell_type": "code",
   "execution_count": 21,
   "metadata": {},
   "outputs": [
    {
     "data": {
      "text/plain": [
       "r_walks"
      ]
     },
     "execution_count": 21,
     "metadata": {},
     "output_type": "execute_result"
    }
   ],
   "source": [
    "\"\"\"\n",
    "\n",
    "    r_walks(M::Array{Int64,2}, f::Int64, steps::Int64, iter::Int64)\n",
    "\n",
    "La función r_walks tiene como parámetros:\n",
    "M, matriz de adyacencia de tipo Array{Int64,2}\n",
    "f, nodo inicial de tipo Int64\n",
    "steps, número de pasos de tipo Int64\n",
    "iter, número de iteraciones de tipo Int64.\n",
    "La función crea un caminante aleatorio sobre la matriz, el cual tiene igual probabilidad de avanzar \n",
    "hacia cualquiera de sus vecinos.\n",
    "Regresa un arreglo que contiene todas las trayectorias que tomó el caminante aleatorio.\n",
    "\"\"\"\n",
    "function r_walks(M::Array{Int64,2}, f::Int64, steps::Int64, iter::Int64)\n",
    "    \n",
    "    paths = zeros(Int64, (iter, steps + 1))\n",
    "    s = f\n",
    "    seed = 1\n",
    "    vecindades = neighbors(M)\n",
    "\n",
    "    for i in 1:iter\n",
    "        paths[i, 1] = f\n",
    "        \n",
    "        for p in 1:steps \n",
    "            vecindad = vecindades[s]\n",
    "            \n",
    "            if vecindad == []\n",
    "                break\n",
    "            else\n",
    "                a = sample(Xoroshiro128Plus(seed), vecindad) \n",
    "                paths[i, p + 1] = a\n",
    "                s = a\n",
    "                seed += 1\n",
    "            end\n",
    "            \n",
    "        end\n",
    "        s = f\n",
    "        \n",
    "    end\n",
    "    \n",
    "    return paths \n",
    "end"
   ]
  },
  {
   "cell_type": "code",
   "execution_count": 22,
   "metadata": {},
   "outputs": [
    {
     "data": {
      "text/plain": [
       "random_walk"
      ]
     },
     "execution_count": 22,
     "metadata": {},
     "output_type": "execute_result"
    }
   ],
   "source": [
    "\"\"\"\n",
    "\n",
    "    random_walk(M::Array{Int64,2}, steps::Int64, iter::Int64)\n",
    "\n",
    "\n",
    "La función random_walk tiene como parámetros:\n",
    "M, matriz de adyacencia de tipo Array{Int64,2}\n",
    "steps, número de pasos de tipo Int64\n",
    "iter, número de iteraciones de tipo Int64.\n",
    "La función crea un caminante aleatorio sobre la matriz con igual probabilidad de avanzar \n",
    "hacia cualquiera de sus vecinos. Esta función recorre todos los nodos de la red como\n",
    "nodos iniciales y sobre ellos itera para obtener el número de caminos que se le pidió.\n",
    "Regresa un arreglo que contiene arreglos asociados a todas las trayectorias que tomó el \n",
    "caminante aleatorio para cada nodo inicial de la red.\n",
    "\"\"\"\n",
    "function random_walk(M::Array{Int64,2}, steps::Int64, iter::Int64) \n",
    "    random_walks = []\n",
    "    nodos = size(M, 1)\n",
    "    for f in 1:nodos #aeropuertos\n",
    "        paths = r_walks(M, f, steps, iter)\n",
    "        push!(random_walks, paths)\n",
    "    end\n",
    "    random_walks\n",
    "end"
   ]
  },
  {
   "cell_type": "markdown",
   "metadata": {},
   "source": [
    "### Longitud de caminatas"
   ]
  },
  {
   "cell_type": "code",
   "execution_count": 23,
   "metadata": {},
   "outputs": [
    {
     "data": {
      "text/plain": [
       "walk_length"
      ]
     },
     "execution_count": 23,
     "metadata": {},
     "output_type": "execute_result"
    }
   ],
   "source": [
    "\"\"\"\n",
    "    walk_length(W)\n",
    "La función walk_length tiene como parámetros:\n",
    "RW, arreglo de arreglos de tipo Array{Any,1} que corresponde al arreglo de caminatas aleatorias.\n",
    "La función regresa un arreglo de arreglos que contiene las longitudes de todas las trayectorias que tomó el \n",
    "caminante aleatorio para cada nodo inicial de la red.\n",
    "\"\"\"\n",
    "function walk_length(W)\n",
    "    \n",
    "    longitudes = Array[]\n",
    "    \n",
    "    v = length(W) #tamaño de la matriz, número de nodos\n",
    "    s = size(W[1], 1) #Es el número de iteraciones\n",
    "    longitud = zeros(Int64, s)\n",
    "    \n",
    "    for i in 1:v\n",
    "        \n",
    "        for j in 1:s\n",
    "               \n",
    "            longitud[j] = findlast(x -> x != 0, W[i][j, :])\n",
    "            \n",
    "        end\n",
    "         push!(longitudes, longitud)\n",
    "        \n",
    "        longitud = zeros(Int64, s)\n",
    "    end\n",
    "    return longitudes\n",
    "        \n",
    "end"
   ]
  },
  {
   "cell_type": "code",
   "execution_count": 24,
   "metadata": {},
   "outputs": [
    {
     "data": {
      "text/plain": [
       "walk_av_length"
      ]
     },
     "execution_count": 24,
     "metadata": {},
     "output_type": "execute_result"
    }
   ],
   "source": [
    "\"\"\"\n",
    "    walk_av_length(W)\n",
    "La función walk_av_length tiene como parámetro W, que es un arreglo de arreglos (que se puede obtener de la \n",
    "función walk_length). \n",
    "Regresa un arreglo con entradas correspondientes al promedio de las longitudes de \n",
    "las caminatas aleatorias para cada nodo de inicio antes de caer en un nodo con grado de salida 0.\n",
    "\"\"\"\n",
    "function walk_av_length(W) #Llamar a función\n",
    "    \n",
    "    proms = []\n",
    "    wlength = walk_length(W)\n",
    "    \n",
    "    for i in 1:length(wlength)\n",
    "        av = mean(wlength[i])\n",
    "        push!(proms, av)\n",
    "    end\n",
    "    proms\n",
    "end"
   ]
  },
  {
   "cell_type": "code",
   "execution_count": 25,
   "metadata": {},
   "outputs": [
    {
     "data": {
      "text/plain": [
       "plot_walk_av_length"
      ]
     },
     "execution_count": 25,
     "metadata": {},
     "output_type": "execute_result"
    }
   ],
   "source": [
    "\"\"\"\n",
    "    plot_walk_av_length(W)\n",
    "Función que grafica (scatter plot) del promedio por nodo inicial de caminatas\n",
    "\"\"\"\n",
    "function plot_walk_av_length(W)\n",
    "pyplot()\n",
    "    wal = walk_av_length(W)\n",
    "    \n",
    "    scatter(wal, \n",
    "        color = \"#0f87bf\",\n",
    "        alpha = 0.8, \n",
    "        title =\"Multiplex\", \n",
    "        xlabel =\"Nodo inicial\", \n",
    "        ylabel =\"Promedio long.\")\n",
    "end"
   ]
  },
  {
   "cell_type": "code",
   "execution_count": 26,
   "metadata": {},
   "outputs": [
    {
     "data": {
      "text/plain": [
       "walk_layer_length"
      ]
     },
     "execution_count": 26,
     "metadata": {},
     "output_type": "execute_result"
    }
   ],
   "source": [
    "\"\"\"\n",
    "    walk_layer_length(W)\n",
    "Función que saca el promedio de longitud de caminata en la capa\n",
    "\"\"\"\n",
    "function walk_layer_length(W)\n",
    "    \n",
    "    x = walk_av_length(W)\n",
    "    av = mean(x)\n",
    "    \n",
    "    return av\n",
    "end"
   ]
  },
  {
   "cell_type": "markdown",
   "metadata": {},
   "source": [
    "### Nodos/aeropuertos visitados"
   ]
  },
  {
   "cell_type": "code",
   "execution_count": 27,
   "metadata": {},
   "outputs": [
    {
     "data": {
      "text/plain": [
       "visited_vertices"
      ]
     },
     "execution_count": 27,
     "metadata": {},
     "output_type": "execute_result"
    }
   ],
   "source": [
    "\"\"\"\n",
    "    visited_vertices(W)\n",
    "La función caminos tiene como parámetro W que es un arreglo de arreglos.\n",
    "Regresa los nodos diferentes a los que llega el caminante.\n",
    "\"\"\"\n",
    "function visited_vertices(W)\n",
    "    \n",
    "    cobert = []\n",
    "    v = length(W) #tamaño de la matriz, número de nodos\n",
    "    s = size(W[1], 1) #lo puedo sacar, para todos es el mismo. Es el número de iteraciones\n",
    "    t = size(W[1], 2) #número de pasos, no necesario\n",
    "    #visit = zeros(Int64, s) #Arreglo de ceros de tamaño número de iteraciones\n",
    "    visit = []\n",
    "    \n",
    "    for i in 1:v        \n",
    "        for j in 1:s\n",
    "            u = unique(W[i][j, :])\n",
    "            push!(visit, u)\n",
    "        end\n",
    "        \n",
    "        push!(cobert, visit)\n",
    "        visit = []\n",
    "    end\n",
    "    \n",
    "    return cobert\n",
    "end"
   ]
  },
  {
   "cell_type": "markdown",
   "metadata": {},
   "source": [
    "### Frecuencia de visitas"
   ]
  },
  {
   "cell_type": "code",
   "execution_count": 28,
   "metadata": {},
   "outputs": [
    {
     "data": {
      "text/plain": [
       "freq_vertices_visits"
      ]
     },
     "execution_count": 28,
     "metadata": {},
     "output_type": "execute_result"
    }
   ],
   "source": [
    "\"\"\"\n",
    "    freq_vertices_visits(W::Array)\n",
    "\n",
    "Función que hace un diccionario con frecuencias de visitas\n",
    "\"\"\"\n",
    "function freq_vertices_visits(W::Array)\n",
    "    \n",
    "    dicc = [] #arreglo vacío\n",
    "    \n",
    "    nodos = length(W) #tamaño de caminatas\n",
    "    iter = size(W[1], 1) #núm de iteraciones\n",
    "    diccionario = 0\n",
    "    \n",
    "    #for i = n\n",
    "    for i in 1:nodos #corro por todos los nodos\n",
    "        for j in 1:iter #corro por las iteraciones\n",
    "            diccionario = countmap(W[i][j, :]) #hago diccionario de freqs de cada caminata\n",
    "            push!(dicc, diccionario) #guardo el diccionario en un arreglo vacío\n",
    "        end\n",
    "        \n",
    "        diccionario = 0\n",
    "    end\n",
    "    return dicc\n",
    "end"
   ]
  },
  {
   "cell_type": "code",
   "execution_count": 29,
   "metadata": {},
   "outputs": [
    {
     "data": {
      "text/plain": [
       "distrib_vertices_visits"
      ]
     },
     "execution_count": 29,
     "metadata": {},
     "output_type": "execute_result"
    }
   ],
   "source": [
    "\"\"\"\n",
    "    distrib_vertices_visits(W)\n",
    "\n",
    "Función que crea un arreglo de arreglos con la distribución de frecuencia de visitas\n",
    "\"\"\"\n",
    "function distrib_vertices_visits(W)\n",
    "    \n",
    "    x = freq_vertices_visits(W) #diccionario de frecuencias\n",
    "    l = length(W)\n",
    "    f = 0\n",
    "    frec_total = [] #zeros(Array, length(x)) #arreglo de ceros de tamaño núm dicc\n",
    "    frec_nodo = zeros(Int64, l+1) #arreglo de nodos de tamaño núm nodos para get frec\n",
    "\n",
    "    for i in 1:length(x) #corro por los nodos\n",
    "\n",
    "        for j in 1:l+1 #corro por los nodos\n",
    "\n",
    "            frec_nodo[j] = get(x[i], f, 0) #entrada j de freq nodo la cambio por la entrada j del dicc i\n",
    "            f += 1\n",
    "        end\n",
    "        push!(frec_total, frec_nodo)\n",
    "        \n",
    "        f = 0\n",
    "        frec_nodo = zeros(Int64, l+1)\n",
    "        \n",
    "    end\n",
    "    \n",
    "    return frec_total\n",
    "end"
   ]
  },
  {
   "cell_type": "code",
   "execution_count": 30,
   "metadata": {},
   "outputs": [
    {
     "data": {
      "text/plain": [
       "plot_visit_freq"
      ]
     },
     "execution_count": 30,
     "metadata": {},
     "output_type": "execute_result"
    }
   ],
   "source": [
    "\"\"\"\n",
    "    plot_visit_freq(W)\n",
    "\n",
    "Función que hace un heatmap de nodos en los que cae, cada renglón corresponde a una caminata\n",
    "\"\"\"\n",
    "function plot_visit_freq(W)\n",
    "    \n",
    "    pyplot()\n",
    "    x = distrib_vertices_visits(W)\n",
    "    h = transpose(hcat(x...))\n",
    "\n",
    "    xs = [string(\"n\", i) for i = 0:1:length(W)]\n",
    "    ys = [string(\"rw\", i) for i = 1:length(x)]\n",
    "    z = h\n",
    "    heatmap(xs, ys, z, aspect_ratio=1)\n",
    "end"
   ]
  },
  {
   "cell_type": "code",
   "execution_count": 31,
   "metadata": {},
   "outputs": [],
   "source": [
    "#plot_visit_freq(rw)"
   ]
  },
  {
   "cell_type": "code",
   "execution_count": 32,
   "metadata": {},
   "outputs": [
    {
     "data": {
      "text/plain": [
       "freq_vertex_visits"
      ]
     },
     "execution_count": 32,
     "metadata": {},
     "output_type": "execute_result"
    }
   ],
   "source": [
    "\"\"\"\n",
    "    freq_vertex_visits(W::Array, n)\n",
    "\n",
    "Función que hace un diccionario con frecuencias para un nodo inicial\n",
    "\"\"\"\n",
    "function freq_vertex_visits(W::Array, n) #puede ser más eficiente llamando la función anterior sin nodo\n",
    "    \n",
    "    dicc = [] #arreglo vacío\n",
    "    \n",
    "    nodos = length(W) #tamaño de caminatas\n",
    "    iter = size(W[1], 1) #núm de iteraciones\n",
    "    diccionario = 0\n",
    "    \n",
    "    for j in 1:iter #corro por las iteraciones\n",
    "          \n",
    "        diccionario = countmap(W[n][j, :]) #hago diccionario de freqs de cada caminata\n",
    "          \n",
    "        push!(dicc, diccionario) #guardo el diccionario en un arreglo vacío\n",
    "          \n",
    "    end\n",
    "    \n",
    "    return dicc\n",
    "end"
   ]
  },
  {
   "cell_type": "code",
   "execution_count": 33,
   "metadata": {},
   "outputs": [
    {
     "data": {
      "text/plain": [
       "distrib_vertex_visits"
      ]
     },
     "execution_count": 33,
     "metadata": {},
     "output_type": "execute_result"
    }
   ],
   "source": [
    "\"\"\"\n",
    "    distrib_vertex_visits(W, n)\n",
    "\n",
    "Función que crea un arreglo de arreglos con la distribución de frecuencias de visitas de un nodo inicial\n",
    "\"\"\"\n",
    "function distrib_vertex_visits(W, n)\n",
    "    \n",
    "    x = freq_vertex_visits(W, n) #diccionario de frecuencias\n",
    "    nodos = length(W)\n",
    "    f = 0\n",
    "    frec_total = [] #zeros(Array, length(x)) #arreglo de ceros de tamaño núm dicc\n",
    "    frec_nodo = zeros(Int64, nodos+1) #arreglo de nodos de tamaño núm nodos para get frec\n",
    "\n",
    "    for i in 1:length(x) #corro por los nodos\n",
    "\n",
    "        for j in 1:nodos+1 #corro por los nodos\n",
    "\n",
    "            frec_nodo[j] = get(x[i], f, 0) #entrada j de freq nodo la cambio por la entrada j del dicc i\n",
    "            \n",
    "            f += 1\n",
    "        end\n",
    "        push!(frec_total, frec_nodo)\n",
    "        \n",
    "        f = 0\n",
    "        frec_nodo = zeros(Int64, nodos+1)\n",
    "        \n",
    "    end\n",
    "    \n",
    "    return frec_total\n",
    "end"
   ]
  },
  {
   "cell_type": "code",
   "execution_count": 34,
   "metadata": {},
   "outputs": [
    {
     "data": {
      "text/plain": [
       "plot_visit_freq_vertex"
      ]
     },
     "execution_count": 34,
     "metadata": {},
     "output_type": "execute_result"
    }
   ],
   "source": [
    "\"\"\"\n",
    "    plot_visit_freq_vertex(W, n)\n",
    "\n",
    "Función que hace un heatmap de los nodos en los que cae, cada renglón corresponde a una caminata \n",
    "con cierto nodo inicial n.\n",
    "\"\"\"\n",
    "function plot_visit_freq_vertex(W, n)\n",
    "    \n",
    "    pyplot()\n",
    "    x = distrib_vertex_visits(W, n)\n",
    "    h = transpose(hcat(x...))\n",
    "    pasos = size(W[1],2)-1\n",
    "\n",
    "    xs = [string(\"n\", i) for i = 0:1:length(W)]\n",
    "    ys = [string(\"rw\", i) for i = 1:length(x)]\n",
    "    z = h\n",
    "    heatmap(xs, ys, z, aspect_ratio = 1, clims = (0, pasos))\n",
    "end"
   ]
  },
  {
   "cell_type": "code",
   "execution_count": 35,
   "metadata": {},
   "outputs": [
    {
     "data": {
      "text/plain": [
       "distrib_av_visits"
      ]
     },
     "execution_count": 35,
     "metadata": {},
     "output_type": "execute_result"
    }
   ],
   "source": [
    "\"\"\"\n",
    "    distrib_av_visits(W::Array)\n",
    "\n",
    "Función que hace una distribución de visitas por nodo inicial y muestra todos los nodos iniciales\n",
    "\"\"\"\n",
    "function distrib_av_visits(W::Array) \n",
    "    \n",
    "    nodos = length(W) #número de nodos\n",
    "    iteracion = size(W[1],1)\n",
    "    dicc = zeros(Float64, nodos, nodos+1) #matriz de ceros (nodos x nodos+1)\n",
    "    \n",
    "    for i in 1:nodos\n",
    "        conteos = counts(W[i], 0:nodos)/iteracion #hago diccionario de freqs de cada caminata\n",
    "        @show conteos\n",
    "        dicc[i, :] = conteos \n",
    "    end\n",
    "\n",
    "    dicc\n",
    "end"
   ]
  },
  {
   "cell_type": "code",
   "execution_count": 36,
   "metadata": {},
   "outputs": [
    {
     "data": {
      "text/plain": [
       "plot_freq_av_visits"
      ]
     },
     "execution_count": 36,
     "metadata": {},
     "output_type": "execute_result"
    }
   ],
   "source": [
    "\"\"\"\n",
    "    plot_freq_av_visits(W::Array)\n",
    "\n",
    "Función que crea un diccionario con frecuencias por nodo inicial y muestra todos\n",
    "\"\"\"\n",
    "function plot_freq_av_visits(W::Array)\n",
    "    \n",
    "    pyplot()\n",
    "    x = distrib_av_visits(W)\n",
    "    \n",
    "    xs = [string(\"n\", i) for i = 0:1:length(W)]\n",
    "    ys = [string(\"rw\", i) for i = 1:length(W)]\n",
    "    z = x\n",
    "    heatmap(xs, ys, z, aspect_ratio = 1, clims = (0, maximum(x)))\n",
    "end"
   ]
  },
  {
   "cell_type": "code",
   "execution_count": null,
   "metadata": {},
   "outputs": [],
   "source": []
  },
  {
   "cell_type": "markdown",
   "metadata": {},
   "source": [
    "### Cobertura"
   ]
  },
  {
   "cell_type": "code",
   "execution_count": 37,
   "metadata": {},
   "outputs": [
    {
     "data": {
      "text/plain": [
       "coverage"
      ]
     },
     "execution_count": 37,
     "metadata": {},
     "output_type": "execute_result"
    }
   ],
   "source": [
    "\"\"\"\n",
    "    coverage(W)\n",
    "La función cobertura tiene como parámetro W que es un arreglo de arreglos.\n",
    "Regresa el número de nodos diferentes a los que llega el caminante.\n",
    "\"\"\"\n",
    "function coverage(W) \n",
    "    \n",
    "    cobert = []\n",
    "    \n",
    "    v = length(W) #tamaño de la matriz, número de nodos\n",
    "    x = visited_vertices(W)\n",
    "    s = size(x[1], 1) #lo puedo sacar, para todos es el mismo. Es el número de iteraciones\n",
    "    longz = zeros(Int64, s) #Arreglo de ceros de tamaño número de iteraciones\n",
    "    \n",
    "    for i in 1:v        \n",
    "        for j in 1:s\n",
    "            l = length(x[i][j])\n",
    "            longz[j] = l\n",
    "        end\n",
    "        push!(cobert, longz)\n",
    "        longz = zeros(Int64, s)\n",
    "    end\n",
    "    return cobert\n",
    "end"
   ]
  },
  {
   "cell_type": "code",
   "execution_count": 38,
   "metadata": {},
   "outputs": [
    {
     "data": {
      "text/plain": [
       "vertex_coverage"
      ]
     },
     "execution_count": 38,
     "metadata": {},
     "output_type": "execute_result"
    }
   ],
   "source": [
    "\"\"\"\n",
    "    vertex_coverage(W)\n",
    "Da el promedio de cobertura la caminata por nodo inicial. \n",
    "\"\"\"\n",
    "function vertex_coverage(W) #Esta es la importante\n",
    "    \n",
    "    longitud = []\n",
    "    x = coverage(W)\n",
    "    \n",
    "    for i in 1:length(x)\n",
    "        l = mean(x[i])\n",
    "        push!(longitud, l)\n",
    "    end\n",
    "    longitud\n",
    "end"
   ]
  },
  {
   "cell_type": "code",
   "execution_count": 39,
   "metadata": {},
   "outputs": [
    {
     "data": {
      "text/plain": [
       "layer_coverage"
      ]
     },
     "execution_count": 39,
     "metadata": {},
     "output_type": "execute_result"
    }
   ],
   "source": [
    "\"\"\"\n",
    "    layer_coverage(W)\n",
    "\n",
    "Da el promedio de la longitud de las caminatas para todos los nodos, como un número.\n",
    "\"\"\"\n",
    "function layer_coverage(W)\n",
    "    x = vertex_coverage(W)\n",
    "    promedio = mean(x)\n",
    "    return promedio\n",
    "end"
   ]
  },
  {
   "cell_type": "markdown",
   "metadata": {},
   "source": [
    "### Máximos y mínimos de longitud"
   ]
  },
  {
   "cell_type": "code",
   "execution_count": 40,
   "metadata": {},
   "outputs": [
    {
     "data": {
      "text/plain": [
       "max_length"
      ]
     },
     "execution_count": 40,
     "metadata": {},
     "output_type": "execute_result"
    }
   ],
   "source": [
    "\"\"\"\n",
    "    max_length(W)\n",
    "Da la longitud máxima de cada iteración de cada nodo inicial.\n",
    "\"\"\"\n",
    "function max_length(W)\n",
    "    max = []\n",
    "    x = coverage(W)\n",
    "    for i in 1:length(x)\n",
    "        m = maximum(x[i])\n",
    "        push!(max, m)\n",
    "    end\n",
    "    max\n",
    "end"
   ]
  },
  {
   "cell_type": "code",
   "execution_count": 41,
   "metadata": {},
   "outputs": [
    {
     "data": {
      "text/plain": [
       "Max_length"
      ]
     },
     "execution_count": 41,
     "metadata": {},
     "output_type": "execute_result"
    }
   ],
   "source": [
    "\"\"\"\n",
    "    Max_length(W)\n",
    "Da la longitud máxima total.\n",
    "\"\"\"\n",
    "function Max_length(W)\n",
    "    x = max_length(W)\n",
    "    m = maximum(x)\n",
    "    return m\n",
    "end"
   ]
  },
  {
   "cell_type": "code",
   "execution_count": 42,
   "metadata": {},
   "outputs": [
    {
     "data": {
      "text/plain": [
       "av_max_length"
      ]
     },
     "execution_count": 42,
     "metadata": {},
     "output_type": "execute_result"
    }
   ],
   "source": [
    "\"\"\"\n",
    "    av_max_length(W)\n",
    "Regresa el promedio de la longitud máxima de cada nodo inicial.\n",
    "\"\"\"\n",
    "function av_max_length(W)\n",
    "    x = max_length(W)\n",
    "    prom = mean(x)\n",
    "    return prom\n",
    "end"
   ]
  },
  {
   "cell_type": "code",
   "execution_count": 43,
   "metadata": {},
   "outputs": [
    {
     "data": {
      "text/plain": [
       "min_length"
      ]
     },
     "execution_count": 43,
     "metadata": {},
     "output_type": "execute_result"
    }
   ],
   "source": [
    "\"\"\"\n",
    "    min_length(W)\n",
    "Da la longitud mínima de cada iteración de cada nodo inicial.\n",
    "\"\"\"\n",
    "function min_length(W)\n",
    "    min = []\n",
    "    x = coverage(W)\n",
    "    for i in 1:length(x)\n",
    "        m = minimum(x[i])\n",
    "        push!(min, m)\n",
    "    end\n",
    "    min\n",
    "end"
   ]
  },
  {
   "cell_type": "code",
   "execution_count": 44,
   "metadata": {},
   "outputs": [
    {
     "data": {
      "text/plain": [
       "Min_length"
      ]
     },
     "execution_count": 44,
     "metadata": {},
     "output_type": "execute_result"
    }
   ],
   "source": [
    "\"\"\"\n",
    "    Min_length(W)\n",
    "Da la longitud mínima total.\n",
    "\"\"\"\n",
    "function Min_length(W)\n",
    "    x = min_length(W)\n",
    "    m = minimum(x)\n",
    "    return m\n",
    "end"
   ]
  },
  {
   "cell_type": "code",
   "execution_count": 45,
   "metadata": {},
   "outputs": [
    {
     "data": {
      "text/plain": [
       "av_min_length"
      ]
     },
     "execution_count": 45,
     "metadata": {},
     "output_type": "execute_result"
    }
   ],
   "source": [
    "\"\"\"\n",
    "    av_min_length(W)\n",
    "Regresa el promedio de la longitud mínima de cada nodo inicial.\n",
    "\"\"\"\n",
    "function av_min_length(W)\n",
    "    x = min_length(W)\n",
    "    prom = mean(x)\n",
    "    return prom\n",
    "end"
   ]
  },
  {
   "cell_type": "markdown",
   "metadata": {},
   "source": [
    "### Endpoints"
   ]
  },
  {
   "cell_type": "code",
   "execution_count": 46,
   "metadata": {},
   "outputs": [
    {
     "data": {
      "text/plain": [
       "endpoints"
      ]
     },
     "execution_count": 46,
     "metadata": {},
     "output_type": "execute_result"
    }
   ],
   "source": [
    "\"\"\"\n",
    "    endpoints(W)\n",
    "\n",
    "Regresa un arreglo de arreglos que contiene los nodos en los que cae cada caminata y ya no puede salir.\n",
    "\"\"\"\n",
    "function endpoints(W) \n",
    "    x = visited_vertices(W)\n",
    "    atractores = [] #Arreglo vacío que contenga a los atractores\n",
    "    v = length(W) #tamaño de la matriz, número de nodos\n",
    "    s = size(W[1], 1) #lo puedo sacar, para todos es el mismo. Es el número de iteraciones\n",
    "    t = size(W[1], 2) #número de pasos +1\n",
    "    atract = zeros(Int64, s) #Arreglo de ceros de tamaño número de iteraciones\n",
    "    \n",
    "    for i in 1:v        \n",
    "        for j in 1:s\n",
    "            if x[i][j, :][end][end] == 0\n",
    "                at = x[i][j, :][end][end - 1]\n",
    "                atract[j] = at\n",
    "            else\n",
    "                atract[j] = 0\n",
    "            end\n",
    "        end\n",
    "        push!(atractores, atract)\n",
    "        atract = zeros(Int64, s)\n",
    "    end\n",
    "    return atractores\n",
    "end"
   ]
  },
  {
   "cell_type": "code",
   "execution_count": 47,
   "metadata": {},
   "outputs": [
    {
     "data": {
      "text/plain": [
       "av_vertex_endpoints"
      ]
     },
     "execution_count": 47,
     "metadata": {},
     "output_type": "execute_result"
    }
   ],
   "source": [
    "\"\"\"\n",
    "    av_vertex_endpoints(W)\n",
    "Función que calcula el promedio de endpoints por nodo\n",
    "\"\"\"\n",
    "function av_vertex_endpoints(W) \n",
    "    \n",
    "    x = endpoints(W)\n",
    "    atractores_prom = [] #Arreglo vacío que contenga a los atractores\n",
    "    v = length(W) #tamaño de la matriz, número de nodos\n",
    "\n",
    "    for i in 1:v        \n",
    "        av = mean(x[i])\n",
    "        push!(atractores_prom, av)\n",
    "    end\n",
    "    atractores_prom\n",
    "end"
   ]
  },
  {
   "cell_type": "markdown",
   "metadata": {},
   "source": [
    "### Distribución de frecuencia de endpoints"
   ]
  },
  {
   "cell_type": "code",
   "execution_count": 48,
   "metadata": {},
   "outputs": [
    {
     "data": {
      "text/plain": [
       "freq_endpoints"
      ]
     },
     "execution_count": 48,
     "metadata": {},
     "output_type": "execute_result"
    }
   ],
   "source": [
    "\"\"\"\n",
    "    freq_endpoints(W)\n",
    "Función que da un diccionario con frecuencias\n",
    "\"\"\"\n",
    "function freq_endpoints(W)\n",
    "    freqs = []\n",
    "    x = endpoints(W)\n",
    "    v = length(W)\n",
    "    \n",
    "    for i in 1:v\n",
    "        frec = countmap(x[i])\n",
    "        push!(freqs, frec)\n",
    "    end\n",
    "    freqs\n",
    "end"
   ]
  },
  {
   "cell_type": "code",
   "execution_count": 49,
   "metadata": {},
   "outputs": [
    {
     "data": {
      "text/plain": [
       "distrib_endpoints"
      ]
     },
     "execution_count": 49,
     "metadata": {},
     "output_type": "execute_result"
    }
   ],
   "source": [
    "\"\"\"\n",
    "    distrib_endpoints(W)\n",
    "Función que saca la distribución de los atractores para toda la capa\n",
    "\"\"\"\n",
    "function distrib_endpoints(W)\n",
    "    x = freq_endpoints(W)\n",
    "    frec_total = zeros(Int64, length(W))\n",
    "    frec_nodo = zeros(Int64, length(W))\n",
    "\n",
    "    for i in 1:length(W)\n",
    "        for j in 1:length(W)\n",
    "            frec_nodo[j] = get(x[i], j, 0)\n",
    "        end\n",
    "        frec_total += frec_nodo\n",
    "    end\n",
    "    \n",
    "    return frec_total\n",
    "end"
   ]
  },
  {
   "cell_type": "markdown",
   "metadata": {},
   "source": [
    "## Datos\n",
    "\n",
    "\n",
    "### Multiplex Global"
   ]
  },
  {
   "cell_type": "code",
   "execution_count": 50,
   "metadata": {},
   "outputs": [
    {
     "data": {
      "text/plain": [
       "\"2B\""
      ]
     },
     "execution_count": 50,
     "metadata": {},
     "output_type": "execute_result"
    }
   ],
   "source": [
    "lista_aerolineas = readdlm(\"/Users/yuriko/Documents/UNAM/Tesis_Lic/data/aerolineas_matrices/lista_aerolineas.csv\", ',')\n",
    "airline_code = lista_aerolineas[2]"
   ]
  },
  {
   "cell_type": "code",
   "execution_count": 51,
   "metadata": {},
   "outputs": [
    {
     "data": {
      "text/plain": [
       "17×17 Array{Int64,2}:\n",
       " 0  0  0  0  0  0  0  1  0  0  0  0  0  0  0  0  0\n",
       " 0  0  0  0  0  0  0  1  0  1  0  0  0  0  0  0  0\n",
       " 0  0  0  0  0  0  0  1  0  0  0  0  0  1  0  0  0\n",
       " 0  0  0  0  0  0  0  1  0  0  1  0  0  0  0  1  1\n",
       " 0  0  0  0  0  0  1  1  0  0  0  0  0  0  0  0  0\n",
       " 0  0  0  0  0  0  0  0  0  0  1  0  0  0  0  0  0\n",
       " 0  0  0  0  1  0  0  0  0  0  0  0  0  0  0  0  0\n",
       " 1  1  1  1  1  0  0  0  1  0  0  0  0  0  1  0  0\n",
       " 0  0  0  0  0  0  0  1  0  0  1  0  0  0  0  0  1\n",
       " 0  1  0  0  0  0  0  0  0  0  0  0  0  0  0  0  0\n",
       " 0  0  0  1  0  1  0  0  1  0  0  0  0  0  1  0  0\n",
       " 0  0  0  0  0  0  0  0  0  0  0  0  0  0  1  0  1\n",
       " 0  0  0  0  0  0  0  0  0  0  0  0  0  0  1  0  0\n",
       " 0  0  1  0  0  0  0  0  0  0  0  0  0  0  1  0  0\n",
       " 0  0  0  0  0  0  0  1  0  0  1  1  1  1  0  0  0\n",
       " 0  0  0  1  0  0  0  0  0  0  0  0  0  0  0  0  0\n",
       " 0  0  0  1  0  0  0  0  1  0  0  1  0  0  0  0  0"
      ]
     },
     "execution_count": 51,
     "metadata": {},
     "output_type": "execute_result"
    }
   ],
   "source": [
    "aerolinea_matriz = string(airline_code, \"_matriz_du.csv\")\n",
    "multiplex = import_matrix(\"data/aerolineas_matrices/$aerolinea_matriz\")"
   ]
  },
  {
   "cell_type": "code",
   "execution_count": 52,
   "metadata": {},
   "outputs": [
    {
     "data": {
      "text/plain": [
       "17-element Array{Any,1}:\n",
       " \"AER\"\n",
       " \"ASF\"\n",
       " \"CEK\"\n",
       " \"DME\"\n",
       " \"EGO\"\n",
       " \"GYD\"\n",
       " \"KGD\"\n",
       " \"KZN\"\n",
       " \"LED\"\n",
       " \"MRV\"\n",
       " \"NBC\"\n",
       " \"NJC\"\n",
       " \"NUX\"\n",
       " \"OVB\"\n",
       " \"SVX\"\n",
       " \"TGK\"\n",
       " \"UUA\""
      ]
     },
     "execution_count": 52,
     "metadata": {},
     "output_type": "execute_result"
    }
   ],
   "source": [
    "nombres_multiplex = airport_names(\"data/aerolineas_matrices/$aerolinea_matriz\")"
   ]
  },
  {
   "cell_type": "markdown",
   "metadata": {},
   "source": [
    "## Distribuciones de grado\n",
    "\n",
    "### Multiplex Global\n",
    "\n",
    "#### Grado de entrada"
   ]
  },
  {
   "cell_type": "code",
   "execution_count": 53,
   "metadata": {},
   "outputs": [
    {
     "data": {
      "text/plain": [
       "17×1 Array{Int64,2}:\n",
       " 1\n",
       " 2\n",
       " 2\n",
       " 4\n",
       " 2\n",
       " 1\n",
       " 1\n",
       " 7\n",
       " 3\n",
       " 1\n",
       " 4\n",
       " 2\n",
       " 1\n",
       " 2\n",
       " 5\n",
       " 1\n",
       " 3"
      ]
     },
     "execution_count": 53,
     "metadata": {},
     "output_type": "execute_result"
    }
   ],
   "source": [
    "in_degree_multiplex = in_degree(multiplex)"
   ]
  },
  {
   "cell_type": "code",
   "execution_count": 54,
   "metadata": {},
   "outputs": [
    {
     "data": {
      "text/plain": [
       "7-element Array{Int64,1}:\n",
       " 6\n",
       " 5\n",
       " 2\n",
       " 2\n",
       " 1\n",
       " 0\n",
       " 1"
      ]
     },
     "execution_count": 54,
     "metadata": {},
     "output_type": "execute_result"
    }
   ],
   "source": [
    "distrib_in_multiplex = distrib_in_degree(multiplex)"
   ]
  },
  {
   "cell_type": "code",
   "execution_count": 55,
   "metadata": {},
   "outputs": [
    {
     "data": {
      "image/png": "[encoded data removed]"
     },
     "execution_count": 55,
     "metadata": {},
     "output_type": "execute_result"
    }
   ],
   "source": [
    "in_M = plot_distrib(multiplex, \"in\", \"Multiplex Distribución Entrada\", \"black\")"
   ]
  },
  {
   "cell_type": "markdown",
   "metadata": {},
   "source": [
    "#### Grado de salida"
   ]
  },
  {
   "cell_type": "code",
   "execution_count": 56,
   "metadata": {},
   "outputs": [
    {
     "data": {
      "text/plain": [
       "1×17 Array{Int64,2}:\n",
       " 1  2  2  4  2  1  1  7  3  1  4  2  1  2  5  1  3"
      ]
     },
     "execution_count": 56,
     "metadata": {},
     "output_type": "execute_result"
    }
   ],
   "source": [
    "out_degree_multiplex = out_degree(multiplex)"
   ]
  },
  {
   "cell_type": "code",
   "execution_count": 57,
   "metadata": {},
   "outputs": [
    {
     "data": {
      "text/plain": [
       "7-element Array{Int64,1}:\n",
       " 6\n",
       " 5\n",
       " 2\n",
       " 2\n",
       " 1\n",
       " 0\n",
       " 1"
      ]
     },
     "execution_count": 57,
     "metadata": {},
     "output_type": "execute_result"
    }
   ],
   "source": [
    "distrib_out_multiplex = distrib_out_degree(multiplex)"
   ]
  },
  {
   "cell_type": "code",
   "execution_count": 58,
   "metadata": {},
   "outputs": [
    {
     "data": {
      "image/png": "[encoded data removed]"
     },
     "execution_count": 58,
     "metadata": {},
     "output_type": "execute_result"
    }
   ],
   "source": [
    "out_M = plot_distrib(multiplex, \"out\", \"Multiplex Distribución Salida\", \"black\")"
   ]
  },
  {
   "cell_type": "markdown",
   "metadata": {},
   "source": [
    "## Vecinos\n",
    "\n",
    "### Multiplex global"
   ]
  },
  {
   "cell_type": "code",
   "execution_count": 59,
   "metadata": {},
   "outputs": [
    {
     "name": "stdout",
     "output_type": "stream",
     "text": [
      "  0.125462 seconds (205.19 k allocations: 9.850 MiB)\n"
     ]
    },
    {
     "data": {
      "text/plain": [
       "17-element Array{Any,1}:\n",
       " [8]                   \n",
       " [8, 10]               \n",
       " [8, 14]               \n",
       " [8, 11, 16, 17]       \n",
       " [7, 8]                \n",
       " [11]                  \n",
       " [5]                   \n",
       " [1, 2, 3, 4, 5, 9, 15]\n",
       " [8, 11, 17]           \n",
       " [2]                   \n",
       " [4, 6, 9, 15]         \n",
       " [15, 17]              \n",
       " [15]                  \n",
       " [3, 15]               \n",
       " [8, 11, 12, 13, 14]   \n",
       " [4]                   \n",
       " [4, 9, 12]            "
      ]
     },
     "execution_count": 59,
     "metadata": {},
     "output_type": "execute_result"
    }
   ],
   "source": [
    "vecinos_M = @time neighbors(multiplex)"
   ]
  },
  {
   "cell_type": "markdown",
   "metadata": {},
   "source": [
    "## Caminatas aleatorias\n",
    "\n",
    "### Multiplex"
   ]
  },
  {
   "cell_type": "code",
   "execution_count": 60,
   "metadata": {},
   "outputs": [
    {
     "name": "stdout",
     "output_type": "stream",
     "text": [
      "  0.205079 seconds (418.20 k allocations: 21.407 MiB, 5.89% gc time)\n"
     ]
    },
    {
     "data": {
      "text/plain": [
       "17-element Array{Any,1}:\n",
       " [1 8 … 8 1; 1 8 … 4 8; … ; 1 8 … 4 8; 1 8 … 14 3]           \n",
       " [2 10 … 15 12; 2 10 … 4 8; … ; 2 10 … 4 8; 2 10 … 9 17]     \n",
       " [3 14 … 15 12; 3 14 … 4 8; … ; 3 14 … 4 8; 3 14 … 14 3]     \n",
       " [4 11 … 15 12; 4 11 … 4 8; … ; 4 11 … 4 8; 4 11 … 14 3]     \n",
       " [5 8 … 8 1; 5 8 … 4 8; … ; 5 8 … 4 8; 5 8 … 14 3]           \n",
       " [6 11 … 15 12; 6 11 … 4 8; … ; 6 11 … 4 8; 6 11 … 14 3]     \n",
       " [7 5 … 8 1; 7 5 … 8 9; … ; 7 5 … 14 3; 7 5 … 14 3]          \n",
       " [8 9 … 8 1; 8 9 … 8 9; … ; 8 4 … 14 3; 8 5 … 14 3]          \n",
       " [9 17 … 15 12; 9 8 … 4 8; … ; 9 11 … 4 8; 9 8 … 14 3]       \n",
       " [10 2 … 8 1; 10 2 … 8 9; … ; 10 2 … 14 3; 10 2 … 14 3]      \n",
       " [11 6 … 8 1; 11 6 … 4 8; … ; 11 6 … 14 3; 11 6 … 14 3]      \n",
       " [12 17 … 15 12; 12 17 … 4 8; … ; 12 17 … 14 3; 12 17 … 14 3]\n",
       " [13 15 … 8 1; 13 15 … 4 8; … ; 13 15 … 14 3; 13 15 … 14 3]  \n",
       " [14 15 … 8 1; 14 15 … 4 8; … ; 14 15 … 14 3; 14 15 … 14 3]  \n",
       " [15 11 … 15 12; 15 13 … 4 8; … ; 15 11 … 4 8; 15 13 … 14 3] \n",
       " [16 4 … 8 1; 16 4 … 8 9; … ; 16 4 … 14 3; 16 4 … 14 3]      \n",
       " [17 12 … 15 12; 17 4 … 8 9; … ; 17 9 … 14 3; 17 4 … 14 3]   "
      ]
     },
     "execution_count": 60,
     "metadata": {},
     "output_type": "execute_result"
    }
   ],
   "source": [
    "caminata_M = @time random_walk(multiplex, 25, 5) #nuevo"
   ]
  },
  {
   "cell_type": "markdown",
   "metadata": {},
   "source": [
    "## Longitud de todas las iteraciones de caminatas "
   ]
  },
  {
   "cell_type": "code",
   "execution_count": 61,
   "metadata": {},
   "outputs": [
    {
     "name": "stdout",
     "output_type": "stream",
     "text": [
      "  0.130778 seconds (248.88 k allocations: 12.128 MiB, 10.16% gc time)\n"
     ]
    },
    {
     "data": {
      "text/plain": [
       "17-element Array{Array,1}:\n",
       " [26, 26, 26, 26, 26]\n",
       " [26, 26, 26, 26, 26]\n",
       " [26, 26, 26, 26, 26]\n",
       " [26, 26, 26, 26, 26]\n",
       " [26, 26, 26, 26, 26]\n",
       " [26, 26, 26, 26, 26]\n",
       " [26, 26, 26, 26, 26]\n",
       " [26, 26, 26, 26, 26]\n",
       " [26, 26, 26, 26, 26]\n",
       " [26, 26, 26, 26, 26]\n",
       " [26, 26, 26, 26, 26]\n",
       " [26, 26, 26, 26, 26]\n",
       " [26, 26, 26, 26, 26]\n",
       " [26, 26, 26, 26, 26]\n",
       " [26, 26, 26, 26, 26]\n",
       " [26, 26, 26, 26, 26]\n",
       " [26, 26, 26, 26, 26]"
      ]
     },
     "execution_count": 61,
     "metadata": {},
     "output_type": "execute_result"
    }
   ],
   "source": [
    "li_M = @time walk_length(caminata_M)"
   ]
  },
  {
   "cell_type": "markdown",
   "metadata": {},
   "source": [
    "## Longitud promedio de las iteraciones de caminatas de cada nodo inicial"
   ]
  },
  {
   "cell_type": "code",
   "execution_count": 62,
   "metadata": {
    "scrolled": false
   },
   "outputs": [
    {
     "name": "stdout",
     "output_type": "stream",
     "text": [
      "  0.113942 seconds (163.23 k allocations: 8.203 MiB, 15.73% gc time)\n"
     ]
    },
    {
     "data": {
      "text/plain": [
       "17-element Array{Any,1}:\n",
       " 26.0\n",
       " 26.0\n",
       " 26.0\n",
       " 26.0\n",
       " 26.0\n",
       " 26.0\n",
       " 26.0\n",
       " 26.0\n",
       " 26.0\n",
       " 26.0\n",
       " 26.0\n",
       " 26.0\n",
       " 26.0\n",
       " 26.0\n",
       " 26.0\n",
       " 26.0\n",
       " 26.0"
      ]
     },
     "execution_count": 62,
     "metadata": {},
     "output_type": "execute_result"
    }
   ],
   "source": [
    "lpn_M = @time walk_av_length(caminata_M)"
   ]
  },
  {
   "cell_type": "code",
   "execution_count": 63,
   "metadata": {},
   "outputs": [
    {
     "data": {
      "image/png": "[encoded data removed]"
     },
     "execution_count": 63,
     "metadata": {},
     "output_type": "execute_result"
    }
   ],
   "source": [
    "pyplot()\n",
    "d_lpn_M = scatter(lpn_M, color=\"#0f87bf\",alpha=0.8, \n",
    "    title=\"Multiplex\", \n",
    "    xlabel=\"Nodo inicial\", \n",
    "    ylabel=\"Promedio long.\")"
   ]
  },
  {
   "cell_type": "markdown",
   "metadata": {},
   "source": [
    "## Longitud promedio de caminatas por capa"
   ]
  },
  {
   "cell_type": "code",
   "execution_count": 64,
   "metadata": {},
   "outputs": [
    {
     "name": "stdout",
     "output_type": "stream",
     "text": [
      "  0.093665 seconds (82.55 k allocations: 4.410 MiB)\n"
     ]
    },
    {
     "data": {
      "text/plain": [
       "26.0"
      ]
     },
     "execution_count": 64,
     "metadata": {},
     "output_type": "execute_result"
    }
   ],
   "source": [
    "wl_M = @time walk_layer_length(caminata_M)"
   ]
  },
  {
   "cell_type": "markdown",
   "metadata": {},
   "source": [
    "## Nodos visitados específicamente"
   ]
  },
  {
   "cell_type": "code",
   "execution_count": 65,
   "metadata": {},
   "outputs": [
    {
     "name": "stdout",
     "output_type": "stream",
     "text": [
      "  0.103719 seconds (50.92 k allocations: 2.545 MiB)\n"
     ]
    },
    {
     "data": {
      "text/plain": [
       "17-element Array{Any,1}:\n",
       " Any[[1, 8, 4, 17, 12, 15, 11, 9, 2, 5, 7], [1, 8, 4, 17, 11, 9, 15, 3, 14], [1, 8, 2, 10, 5, 7, 15, 12, 17, 9, 11, 4], [1, 8, 2, 10, 15, 14, 13, 3, 9, 17, 4], [1, 8, 9, 17, 12, 15, 4, 2, 16, 3, 14]]     \n",
       " Any[[2, 10, 8, 3, 9, 4, 17, 14, 15, 12], [2, 10, 8, 1, 4, 15, 3, 14], [2, 10, 8, 5, 7, 1, 15, 12, 17, 9, 11, 4], [2, 10, 8, 15, 14, 13, 3, 9, 17, 4], [2, 10, 8, 9, 17, 4, 1, 3, 14, 15]]                  \n",
       " Any[[3, 14, 15, 8, 9, 2, 4, 17, 12], [3, 14, 8, 1, 4, 15], [3, 14, 15, 12, 17, 9, 11, 4, 8, 16, 5], [3, 14, 8, 15, 13, 9, 17, 4], [3, 14, 15, 13, 12, 17, 9, 8, 2, 4, 16]]                                 \n",
       " Any[[4, 11, 9, 8, 15, 3, 14, 2, 17, 12], [4, 11, 9, 8, 1, 15, 3, 14], [4, 11, 9, 8, 5, 2, 7, 1, 15, 12, 17], [4, 11, 9, 8, 16, 2, 6, 17], [4, 11, 9, 17, 12, 15, 8, 2, 16, 3, 14]]                         \n",
       " Any[[5, 8, 4, 17, 12, 15, 11, 9, 2, 7, 1], [5, 8, 4, 17, 11, 9, 1, 15, 3, 14], [5, 8, 2, 10, 7, 1, 15, 12, 17, 9, 11, 4], [5, 8, 2, 10, 15, 14, 13, 3, 9, 17, 4], [5, 8, 9, 17, 12, 15, 4, 2, 16, 3, 14]]  \n",
       " Any[[6, 11, 9, 8, 15, 3, 14, 2, 4, 17, 12], [6, 11, 9, 4, 8, 1, 15, 3, 14], [6, 11, 9, 8, 5, 2, 7, 1, 15, 12, 17, 4], [6, 11, 9, 8, 4, 16, 2, 17], [6, 11, 9, 17, 12, 15, 8, 4, 2, 16, 3, 14]]             \n",
       " Any[[7, 5, 8, 1, 4, 17, 9, 2], [7, 5, 8, 3, 14, 15, 2, 9], [7, 5, 8, 3, 14, 4, 16], [7, 5, 8, 4, 11, 9, 15, 3, 14, 13], [7, 5, 8, 15, 4, 17, 9, 2, 16, 3, 14]]                                             \n",
       " Any[[8, 9, 11, 15, 14, 3, 2, 5, 7, 1], [8, 9, 17, 5, 7, 3, 14, 15, 2], [8, 15, 3, 9, 17, 4, 11, 16, 5, 14], [8, 4, 16, 2, 10, 3, 15, 14, 13], [8, 5, 7, 15, 4, 17, 9, 2, 16, 3, 14]]                       \n",
       " Any[[9, 17, 8, 15, 3, 14, 2, 4, 12], [9, 8, 4, 17, 11, 1, 15, 3, 14], [9, 17, 12, 4, 11, 15, 8, 16, 3, 5, 14], [9, 11, 8, 4, 16, 2, 6, 17], [9, 8, 17, 12, 15, 4, 2, 16, 3, 14]]                           \n",
       " Any[[10, 2, 8, 5, 7, 1, 4, 17, 9], [10, 2, 8, 5, 7, 3, 14, 15, 9], [10, 2, 8, 3, 9, 17, 4, 11, 16, 5, 14], [10, 2, 8, 9, 17, 4, 12, 1, 3, 15, 14, 13], [10, 2, 8, 15, 11, 9, 4, 16, 3, 14]]                \n",
       " Any[[11, 6, 15, 14, 3, 8, 2, 5, 7, 1], [11, 6, 15, 4, 9, 17, 12, 8, 3, 14], [11, 6, 15, 12, 17, 14, 3, 8, 4, 16, 5], [11, 6, 15, 9, 17, 12, 8, 1, 3, 14, 13], [11, 6, 15, 9, 4, 8, 2, 16, 3, 14]]          \n",
       " Any[[12, 17, 9, 8, 15, 3, 14, 2, 4], [12, 17, 4, 11, 9, 8, 1, 15, 3, 14], [12, 17, 4, 11, 15, 9, 8, 16, 3, 5, 14], [12, 17, 4, 15, 11, 9, 8, 3, 14, 13], [12, 17, 9, 15, 8, 4, 2, 16, 3, 14]]              \n",
       " Any[[13, 15, 12, 17, 4, 11, 9, 8, 2, 5, 7, 1], [13, 15, 14, 11, 6, 4, 9, 17, 12, 8, 3], [13, 15, 8, 3, 9, 17, 4, 11, 16, 5, 14], [13, 15, 12, 17, 11, 4, 9, 8, 3, 14], [13, 15, 8, 11, 9, 4, 2, 16, 3, 14]]\n",
       " Any[[14, 15, 12, 17, 4, 11, 9, 8, 2, 5, 7, 1], [14, 15, 11, 6, 4, 9, 17, 12, 8, 3], [14, 15, 8, 3, 9, 17, 4, 11, 16, 5], [14, 15, 12, 17, 11, 4, 9, 8, 3, 13], [14, 15, 8, 11, 9, 4, 2, 16, 3]]            \n",
       " Any[[15, 11, 9, 8, 3, 14, 2, 4, 17, 12], [15, 13, 8, 12, 14, 11, 3, 4], [15, 8, 2, 10, 5, 7, 1, 12, 17, 9, 11, 4], [15, 11, 9, 8, 4, 16, 2, 6, 17], [15, 13, 12, 17, 4, 9, 8, 2, 16, 3, 14]]               \n",
       " Any[[16, 4, 8, 5, 7, 1, 17, 9, 2], [16, 4, 8, 5, 7, 3, 14, 15, 2, 9], [16, 4, 8, 9, 17, 11, 3, 5, 14], [16, 4, 8, 2, 10, 3, 15, 14, 13], [16, 4, 11, 9, 8, 2, 3, 14]]                                      \n",
       " Any[[17, 12, 15, 13, 8, 3, 14, 9, 2, 4], [17, 4, 16, 8, 5, 7, 3, 14, 15, 2, 9], [17, 12, 15, 14, 9, 11, 4, 8, 16, 3, 5], [17, 9, 8, 4, 12, 1, 3, 15, 14, 13], [17, 4, 16, 11, 9, 8, 2, 3, 14]]             "
      ]
     },
     "execution_count": 65,
     "metadata": {},
     "output_type": "execute_result"
    }
   ],
   "source": [
    "#No lo corro ahora para que no se tarde tanto\n",
    "nv_M = @time visited_vertices(caminata_M)"
   ]
  },
  {
   "cell_type": "code",
   "execution_count": 66,
   "metadata": {},
   "outputs": [],
   "source": [
    "#Falta función de aeropuertos específicos"
   ]
  },
  {
   "cell_type": "markdown",
   "metadata": {},
   "source": [
    "## Frecuencia de visitas"
   ]
  },
  {
   "cell_type": "code",
   "execution_count": 67,
   "metadata": {},
   "outputs": [
    {
     "name": "stdout",
     "output_type": "stream",
     "text": [
      "  1.355883 seconds (3.11 M allocations: 164.954 MiB, 16.49% gc time)\n"
     ]
    },
    {
     "data": {
      "text/plain": [
       "85-element Array{Any,1}:\n",
       " Dict(2=>1,11=>2,7=>2,9=>2,17=>4,8=>4,4=>3,5=>3,15=>1,12=>2…) \n",
       " Dict(4=>4,9=>1,14=>4,3=>5,17=>1,11=>1,8=>7,15=>1,1=>2)       \n",
       " Dict(2=>3,11=>1,7=>3,9=>1,10=>2,17=>1,8=>5,4=>1,5=>5,15=>1…) \n",
       " Dict(2=>2,9=>1,10=>1,17=>1,8=>4,4=>1,3=>4,13=>1,14=>6,15=>4…)\n",
       " Dict(2=>1,16=>1,9=>2,17=>2,8=>6,4=>3,3=>4,14=>3,15=>2,12=>1…)\n",
       " Dict(4=>1,9=>2,10=>4,14=>2,2=>6,3=>3,17=>1,8=>5,15=>1,12=>1…)\n",
       " Dict(4=>2,14=>4,10=>3,2=>4,3=>5,8=>6,15=>1,1=>1)             \n",
       " Dict(2=>4,11=>1,7=>3,9=>1,10=>3,17=>1,8=>4,4=>1,5=>5,15=>1…) \n",
       " Dict(4=>1,9=>1,10=>2,13=>1,2=>3,3=>4,14=>6,17=>1,8=>3,15=>4…)\n",
       " Dict(4=>1,9=>3,10=>2,14=>3,2=>4,3=>3,17=>3,8=>5,15=>1,1=>1…) \n",
       " Dict(4=>1,9=>2,14=>6,2=>1,3=>7,17=>1,8=>5,15=>2,12=>1)       \n",
       " Dict(4=>2,14=>7,3=>9,8=>6,15=>1,1=>1)                        \n",
       " Dict(16=>1,11=>2,9=>2,17=>1,8=>4,4=>3,3=>6,5=>1,14=>4,15=>1…)\n",
       " ⋮                                                            \n",
       " Dict(4=>5,9=>5,2=>1,16=>1,17=>1,11=>6,8=>5,15=>1,6=>1)       \n",
       " Dict(2=>1,16=>1,9=>1,17=>4,8=>3,4=>3,3=>4,13=>1,14=>3,15=>2…)\n",
       " Dict(7=>3,4=>3,9=>1,2=>1,16=>2,17=>1,5=>6,8=>7,1=>2)         \n",
       " Dict(7=>3,4=>2,9=>1,14=>3,2=>1,3=>3,16=>2,5=>5,8=>5,15=>1…)  \n",
       " Dict(4=>6,9=>3,14=>1,3=>3,16=>3,17=>1,11=>3,5=>1,8=>5)       \n",
       " Dict(4=>2,13=>1,10=>4,14=>3,2=>5,3=>3,16=>2,8=>3,15=>3)      \n",
       " Dict(4=>5,9=>3,14=>3,2=>1,3=>4,16=>3,11=>3,8=>4)             \n",
       " Dict(4=>1,9=>2,13=>1,14=>3,2=>1,3=>4,17=>2,8=>6,15=>4,12=>2…)\n",
       " Dict(2=>1,16=>1,7=>3,9=>1,17=>1,8=>5,4=>2,3=>3,5=>5,14=>3…)  \n",
       " Dict(16=>1,11=>2,9=>2,17=>2,8=>4,4=>3,3=>3,5=>1,14=>2,15=>3…)\n",
       " Dict(4=>1,9=>3,13=>1,14=>3,3=>3,17=>5,8=>4,15=>3,12=>2,1=>1…)\n",
       " Dict(4=>5,9=>3,14=>3,2=>1,3=>4,16=>2,17=>1,11=>3,8=>4)       "
      ]
     },
     "execution_count": 67,
     "metadata": {},
     "output_type": "execute_result"
    }
   ],
   "source": [
    "freq_visit_M = @time freq_vertices_visits(caminata_M)"
   ]
  },
  {
   "cell_type": "code",
   "execution_count": 68,
   "metadata": {},
   "outputs": [
    {
     "name": "stdout",
     "output_type": "stream",
     "text": [
      "  0.034752 seconds (23.67 k allocations: 7.299 MiB)\n"
     ]
    },
    {
     "data": {
      "text/plain": [
       "85-element Array{Any,1}:\n",
       " [0, 2, 1, 0, 3, 3, 0, 2, 4, 2, 0, 2, 2, 0, 0, 1, 0, 4]\n",
       " [0, 2, 0, 5, 4, 0, 0, 0, 7, 1, 0, 1, 0, 0, 4, 1, 0, 1]\n",
       " [0, 2, 3, 0, 1, 5, 0, 3, 5, 1, 2, 1, 1, 0, 0, 1, 0, 1]\n",
       " [0, 1, 2, 4, 1, 0, 0, 0, 4, 1, 1, 0, 0, 1, 6, 4, 0, 1]\n",
       " [0, 1, 1, 4, 3, 0, 0, 0, 6, 2, 0, 0, 1, 0, 3, 2, 1, 2]\n",
       " [0, 0, 6, 3, 1, 0, 0, 0, 5, 2, 4, 0, 1, 0, 2, 1, 0, 1]\n",
       " [0, 1, 4, 5, 2, 0, 0, 0, 6, 0, 3, 0, 0, 0, 4, 1, 0, 0]\n",
       " [0, 1, 4, 0, 1, 5, 0, 3, 4, 1, 3, 1, 1, 0, 0, 1, 0, 1]\n",
       " [0, 0, 3, 4, 1, 0, 0, 0, 3, 1, 2, 0, 0, 1, 6, 4, 0, 1]\n",
       " [0, 1, 4, 3, 1, 0, 0, 0, 5, 3, 2, 0, 0, 0, 3, 1, 0, 3]\n",
       " [0, 0, 1, 7, 1, 0, 0, 0, 5, 2, 0, 0, 1, 0, 6, 2, 0, 1]\n",
       " [0, 1, 0, 9, 2, 0, 0, 0, 6, 0, 0, 0, 0, 0, 7, 1, 0, 0]\n",
       " [0, 0, 0, 6, 3, 1, 0, 0, 4, 2, 0, 2, 1, 0, 4, 1, 1, 1]\n",
       " ⋮                                                     \n",
       " [0, 0, 1, 0, 5, 0, 1, 0, 5, 5, 0, 6, 0, 0, 0, 1, 1, 1]\n",
       " [0, 0, 1, 4, 3, 0, 0, 0, 3, 1, 0, 0, 3, 1, 3, 2, 1, 4]\n",
       " [0, 2, 1, 0, 3, 6, 0, 3, 7, 1, 0, 0, 0, 0, 0, 0, 2, 1]\n",
       " [0, 0, 1, 3, 2, 5, 0, 3, 5, 1, 0, 0, 0, 0, 3, 1, 2, 0]\n",
       " [0, 0, 0, 3, 6, 1, 0, 0, 5, 3, 0, 3, 0, 0, 1, 0, 3, 1]\n",
       " [0, 0, 5, 3, 2, 0, 0, 0, 3, 0, 4, 0, 0, 1, 3, 3, 2, 0]\n",
       " [0, 0, 1, 4, 5, 0, 0, 0, 4, 3, 0, 3, 0, 0, 3, 0, 3, 0]\n",
       " [0, 0, 1, 4, 1, 0, 0, 0, 6, 2, 0, 0, 2, 1, 3, 4, 0, 2]\n",
       " [0, 0, 1, 3, 2, 5, 0, 3, 5, 1, 0, 0, 0, 0, 3, 1, 1, 1]\n",
       " [0, 0, 0, 3, 3, 1, 0, 0, 4, 2, 0, 2, 3, 0, 2, 3, 1, 2]\n",
       " [0, 1, 0, 3, 1, 0, 0, 0, 4, 3, 0, 0, 2, 1, 3, 3, 0, 5]\n",
       " [0, 0, 1, 4, 5, 0, 0, 0, 4, 3, 0, 3, 0, 0, 3, 0, 2, 1]"
      ]
     },
     "execution_count": 68,
     "metadata": {},
     "output_type": "execute_result"
    }
   ],
   "source": [
    "distrib_visit_M = @time distrib_vertices_visits(caminata_M)"
   ]
  },
  {
   "cell_type": "code",
   "execution_count": 69,
   "metadata": {},
   "outputs": [
    {
     "data": {
      "image/png": "[encoded data removed]"
     },
     "execution_count": 69,
     "metadata": {},
     "output_type": "execute_result"
    }
   ],
   "source": [
    "plot_visit_freq(caminata_M)"
   ]
  },
  {
   "cell_type": "code",
   "execution_count": 70,
   "metadata": {},
   "outputs": [
    {
     "data": {
      "text/plain": [
       "5-element Array{Any,1}:\n",
       " Dict(2=>1,11=>2,7=>2,9=>2,17=>4,8=>4,4=>3,5=>3,15=>1,12=>2…) \n",
       " Dict(4=>4,9=>1,14=>4,3=>5,17=>1,11=>1,8=>7,15=>1,1=>2)       \n",
       " Dict(2=>3,11=>1,7=>3,9=>1,10=>2,17=>1,8=>5,4=>1,5=>5,15=>1…) \n",
       " Dict(2=>2,9=>1,10=>1,17=>1,8=>4,4=>1,3=>4,13=>1,14=>6,15=>4…)\n",
       " Dict(2=>1,16=>1,9=>2,17=>2,8=>6,4=>3,3=>4,14=>3,15=>2,12=>1…)"
      ]
     },
     "execution_count": 70,
     "metadata": {},
     "output_type": "execute_result"
    }
   ],
   "source": [
    "freq_vertex_visits(caminata_M, 1)"
   ]
  },
  {
   "cell_type": "code",
   "execution_count": 71,
   "metadata": {},
   "outputs": [
    {
     "data": {
      "text/plain": [
       "5-element Array{Any,1}:\n",
       " [0, 2, 1, 0, 3, 3, 0, 2, 4, 2, 0, 2, 2, 0, 0, 1, 0, 4]\n",
       " [0, 2, 0, 5, 4, 0, 0, 0, 7, 1, 0, 1, 0, 0, 4, 1, 0, 1]\n",
       " [0, 2, 3, 0, 1, 5, 0, 3, 5, 1, 2, 1, 1, 0, 0, 1, 0, 1]\n",
       " [0, 1, 2, 4, 1, 0, 0, 0, 4, 1, 1, 0, 0, 1, 6, 4, 0, 1]\n",
       " [0, 1, 1, 4, 3, 0, 0, 0, 6, 2, 0, 0, 1, 0, 3, 2, 1, 2]"
      ]
     },
     "execution_count": 71,
     "metadata": {},
     "output_type": "execute_result"
    }
   ],
   "source": [
    "distrib_vertex_visits(caminata_M, 1)"
   ]
  },
  {
   "cell_type": "code",
   "execution_count": 72,
   "metadata": {},
   "outputs": [
    {
     "data": {
      "image/png": "[encoded data removed]"
     },
     "execution_count": 72,
     "metadata": {},
     "output_type": "execute_result"
    }
   ],
   "source": [
    "plot_visit_freq_vertex(caminata_M, 1)"
   ]
  },
  {
   "cell_type": "code",
   "execution_count": 73,
   "metadata": {},
   "outputs": [
    {
     "name": "stdout",
     "output_type": "stream",
     "text": [
      "conteos = [0.0, 1.6, 1.4, 2.6, 2.4, 1.6, 0.0, 1.0, 5.2, 1.4, 0.6, 0.8, 0.8, 0.2, 2.6, 1.8, 0.2, 1.8]\n",
      "conteos = [0.0, 0.6, 4.2, 3.0, 1.2, 1.0, 0.0, 0.6, 4.6, 1.4, 2.8, 0.2, 0.4, 0.2, 3.0, 1.6, 0.0, 1.2]\n",
      "conteos = [0.0, 0.2, 0.4, 7.0, 1.8, 0.2, 0.0, 0.0, 4.2, 1.2, 0.0, 0.4, 0.8, 0.4, 6.0, 2.0, 0.4, 1.0]\n",
      "conteos = [0.0, 0.4, 0.8, 2.6, 3.6, 1.2, 0.2, 0.6, 5.8, 2.8, 0.0, 2.6, 0.6, 0.0, 2.0, 1.4, 0.4, 1.0]\n",
      "conteos = [0.0, 0.6, 1.4, 2.6, 2.4, 2.6, 0.0, 1.0, 5.2, 1.4, 0.6, 0.8, 0.8, 0.2, 2.6, 1.8, 0.2, 1.8]\n",
      "conteos = [0.0, 0.4, 0.8, 2.6, 2.6, 1.2, 1.2, 0.6, 5.8, 2.8, 0.0, 2.6, 0.6, 0.0, 2.0, 1.4, 0.4, 1.0]\n",
      "conteos = [0.0, 0.4, 0.6, 3.4, 1.6, 5.0, 0.0, 4.0, 4.8, 0.8, 0.0, 0.6, 0.0, 0.2, 2.6, 1.2, 0.4, 0.4]\n",
      "conteos = [0.0, 0.2, 1.6, 3.6, 1.8, 2.4, 0.0, 1.2, 5.6, 1.6, 0.8, 1.0, 0.0, 0.2, 3.0, 1.8, 0.6, 0.6]\n",
      "conteos = [0.0, 0.2, 0.6, 3.2, 3.4, 0.2, 0.2, 0.0, 5.8, 3.6, 0.0, 2.0, 0.8, 0.0, 2.2, 1.4, 0.6, 1.8]\n",
      "conteos = [0.0, 0.6, 2.0, 2.8, 1.8, 2.4, 0.0, 1.2, 5.8, 2.0, 1.0, 1.2, 0.4, 0.2, 2.0, 1.0, 0.4, 1.2]\n",
      "conteos = [0.0, 0.4, 0.4, 3.8, 1.6, 0.8, 1.2, 0.4, 3.4, 1.2, 0.0, 3.6, 1.4, 0.2, 3.2, 2.6, 0.4, 1.4]\n",
      "conteos = [0.0, 0.2, 0.4, 3.8, 2.8, 0.2, 0.0, 0.0, 4.8, 1.8, 0.0, 1.6, 2.2, 0.2, 2.8, 2.4, 0.4, 2.4]\n",
      "conteos = [0.0, 0.2, 0.4, 2.8, 2.8, 0.8, 0.2, 0.4, 3.8, 2.0, 0.0, 3.0, 1.4, 1.2, 2.0, 2.8, 0.4, 1.8]\n",
      "conteos = [0.0, 0.2, 0.4, 2.8, 2.8, 0.8, 0.2, 0.4, 3.8, 2.0, 0.0, 3.0, 1.4, 0.2, 3.0, 2.8, 0.4, 1.8]\n",
      "conteos = [0.0, 0.2, 1.2, 2.6, 2.2, 1.0, 0.2, 0.6, 4.8, 2.0, 0.4, 1.8, 1.2, 0.6, 2.2, 3.2, 0.4, 1.4]\n",
      "conteos = [0.0, 0.4, 1.6, 2.6, 3.6, 2.4, 0.0, 1.2, 4.8, 1.6, 0.8, 1.2, 0.0, 0.2, 2.0, 0.8, 2.4, 0.4]\n",
      "conteos = [0.0, 0.2, 0.6, 3.4, 2.4, 1.2, 0.0, 0.6, 4.6, 2.2, 0.0, 1.0, 1.4, 0.4, 2.8, 2.2, 0.8, 2.2]\n",
      "  0.346289 seconds (747.51 k allocations: 37.490 MiB, 2.95% gc time)\n"
     ]
    },
    {
     "data": {
      "text/plain": [
       "17×18 Array{Float64,2}:\n",
       " 0.0  1.6  1.4  2.6  2.4  1.6  0.0  1.0  …  0.8  0.8  0.2  2.6  1.8  0.2  1.8\n",
       " 0.0  0.6  4.2  3.0  1.2  1.0  0.0  0.6     0.2  0.4  0.2  3.0  1.6  0.0  1.2\n",
       " 0.0  0.2  0.4  7.0  1.8  0.2  0.0  0.0     0.4  0.8  0.4  6.0  2.0  0.4  1.0\n",
       " 0.0  0.4  0.8  2.6  3.6  1.2  0.2  0.6     2.6  0.6  0.0  2.0  1.4  0.4  1.0\n",
       " 0.0  0.6  1.4  2.6  2.4  2.6  0.0  1.0     0.8  0.8  0.2  2.6  1.8  0.2  1.8\n",
       " 0.0  0.4  0.8  2.6  2.6  1.2  1.2  0.6  …  2.6  0.6  0.0  2.0  1.4  0.4  1.0\n",
       " 0.0  0.4  0.6  3.4  1.6  5.0  0.0  4.0     0.6  0.0  0.2  2.6  1.2  0.4  0.4\n",
       " 0.0  0.2  1.6  3.6  1.8  2.4  0.0  1.2     1.0  0.0  0.2  3.0  1.8  0.6  0.6\n",
       " 0.0  0.2  0.6  3.2  3.4  0.2  0.2  0.0     2.0  0.8  0.0  2.2  1.4  0.6  1.8\n",
       " 0.0  0.6  2.0  2.8  1.8  2.4  0.0  1.2     1.2  0.4  0.2  2.0  1.0  0.4  1.2\n",
       " 0.0  0.4  0.4  3.8  1.6  0.8  1.2  0.4  …  3.6  1.4  0.2  3.2  2.6  0.4  1.4\n",
       " 0.0  0.2  0.4  3.8  2.8  0.2  0.0  0.0     1.6  2.2  0.2  2.8  2.4  0.4  2.4\n",
       " 0.0  0.2  0.4  2.8  2.8  0.8  0.2  0.4     3.0  1.4  1.2  2.0  2.8  0.4  1.8\n",
       " 0.0  0.2  0.4  2.8  2.8  0.8  0.2  0.4     3.0  1.4  0.2  3.0  2.8  0.4  1.8\n",
       " 0.0  0.2  1.2  2.6  2.2  1.0  0.2  0.6     1.8  1.2  0.6  2.2  3.2  0.4  1.4\n",
       " 0.0  0.4  1.6  2.6  3.6  2.4  0.0  1.2  …  1.2  0.0  0.2  2.0  0.8  2.4  0.4\n",
       " 0.0  0.2  0.6  3.4  2.4  1.2  0.0  0.6     1.0  1.4  0.4  2.8  2.2  0.8  2.2"
      ]
     },
     "execution_count": 73,
     "metadata": {},
     "output_type": "execute_result"
    }
   ],
   "source": [
    "distrib_prom_M = @time distrib_av_visits(caminata_M)"
   ]
  },
  {
   "cell_type": "code",
   "execution_count": 74,
   "metadata": {},
   "outputs": [
    {
     "name": "stdout",
     "output_type": "stream",
     "text": [
      "conteos = [0.0, 1.6, 1.4, 2.6, 2.4, 1.6, 0.0, 1.0, 5.2, 1.4, 0.6, 0.8, 0.8, 0.2, 2.6, 1.8, 0.2, 1.8]\n",
      "conteos = [0.0, 0.6, 4.2, 3.0, 1.2, 1.0, 0.0, 0.6, 4.6, 1.4, 2.8, 0.2, 0.4, 0.2, 3.0, 1.6, 0.0, 1.2]\n",
      "conteos = [0.0, 0.2, 0.4, 7.0, 1.8, 0.2, 0.0, 0.0, 4.2, 1.2, 0.0, 0.4, 0.8, 0.4, 6.0, 2.0, 0.4, 1.0]\n",
      "conteos = [0.0, 0.4, 0.8, 2.6, 3.6, 1.2, 0.2, 0.6, 5.8, 2.8, 0.0, 2.6, 0.6, 0.0, 2.0, 1.4, 0.4, 1.0]\n",
      "conteos = [0.0, 0.6, 1.4, 2.6, 2.4, 2.6, 0.0, 1.0, 5.2, 1.4, 0.6, 0.8, 0.8, 0.2, 2.6, 1.8, 0.2, 1.8]\n",
      "conteos = [0.0, 0.4, 0.8, 2.6, 2.6, 1.2, 1.2, 0.6, 5.8, 2.8, 0.0, 2.6, 0.6, 0.0, 2.0, 1.4, 0.4, 1.0]\n",
      "conteos = [0.0, 0.4, 0.6, 3.4, 1.6, 5.0, 0.0, 4.0, 4.8, 0.8, 0.0, 0.6, 0.0, 0.2, 2.6, 1.2, 0.4, 0.4]\n",
      "conteos = [0.0, 0.2, 1.6, 3.6, 1.8, 2.4, 0.0, 1.2, 5.6, 1.6, 0.8, 1.0, 0.0, 0.2, 3.0, 1.8, 0.6, 0.6]\n",
      "conteos = [0.0, 0.2, 0.6, 3.2, 3.4, 0.2, 0.2, 0.0, 5.8, 3.6, 0.0, 2.0, 0.8, 0.0, 2.2, 1.4, 0.6, 1.8]\n",
      "conteos = [0.0, 0.6, 2.0, 2.8, 1.8, 2.4, 0.0, 1.2, 5.8, 2.0, 1.0, 1.2, 0.4, 0.2, 2.0, 1.0, 0.4, 1.2]\n",
      "conteos = [0.0, 0.4, 0.4, 3.8, 1.6, 0.8, 1.2, 0.4, 3.4, 1.2, 0.0, 3.6, 1.4, 0.2, 3.2, 2.6, 0.4, 1.4]\n",
      "conteos = [0.0, 0.2, 0.4, 3.8, 2.8, 0.2, 0.0, 0.0, 4.8, 1.8, 0.0, 1.6, 2.2, 0.2, 2.8, 2.4, 0.4, 2.4]\n",
      "conteos = [0.0, 0.2, 0.4, 2.8, 2.8, 0.8, 0.2, 0.4, 3.8, 2.0, 0.0, 3.0, 1.4, 1.2, 2.0, 2.8, 0.4, 1.8]\n",
      "conteos = [0.0, 0.2, 0.4, 2.8, 2.8, 0.8, 0.2, 0.4, 3.8, 2.0, 0.0, 3.0, 1.4, 0.2, 3.0, 2.8, 0.4, 1.8]\n",
      "conteos = [0.0, 0.2, 1.2, 2.6, 2.2, 1.0, 0.2, 0.6, 4.8, 2.0, 0.4, 1.8, 1.2, 0.6, 2.2, 3.2, 0.4, 1.4]\n",
      "conteos = [0.0, 0.4, 1.6, 2.6, 3.6, 2.4, 0.0, 1.2, 4.8, 1.6, 0.8, 1.2, 0.0, 0.2, 2.0, 0.8, 2.4, 0.4]\n",
      "conteos = [0.0, 0.2, 0.6, 3.4, 2.4, 1.2, 0.0, 0.6, 4.6, 2.2, 0.0, 1.0, 1.4, 0.4, 2.8, 2.2, 0.8, 2.2]\n"
     ]
    },
    {
     "data": {
      "image/png": "[encoded data removed]"
     },
     "execution_count": 74,
     "metadata": {},
     "output_type": "execute_result"
    }
   ],
   "source": [
    "plot_freq_av_visits(caminata_M)"
   ]
  },
  {
   "cell_type": "markdown",
   "metadata": {},
   "source": [
    "## Cobertura (nodos distintos)"
   ]
  },
  {
   "cell_type": "code",
   "execution_count": 75,
   "metadata": {},
   "outputs": [
    {
     "name": "stdout",
     "output_type": "stream",
     "text": [
      "  0.044444 seconds (20.66 k allocations: 1.097 MiB)\n"
     ]
    },
    {
     "data": {
      "text/plain": [
       "17-element Array{Any,1}:\n",
       " [11, 9, 12, 11, 11] \n",
       " [10, 8, 12, 10, 10] \n",
       " [9, 6, 11, 8, 11]   \n",
       " [10, 8, 11, 8, 11]  \n",
       " [11, 10, 12, 11, 11]\n",
       " [11, 9, 12, 8, 12]  \n",
       " [8, 8, 7, 10, 11]   \n",
       " [10, 9, 10, 9, 11]  \n",
       " [9, 9, 11, 8, 10]   \n",
       " [9, 9, 11, 12, 10]  \n",
       " [10, 10, 11, 11, 10]\n",
       " [9, 10, 11, 10, 10] \n",
       " [12, 11, 11, 10, 10]\n",
       " [12, 10, 10, 10, 9] \n",
       " [10, 8, 12, 9, 11]  \n",
       " [9, 10, 9, 9, 8]    \n",
       " [10, 11, 11, 10, 9] "
      ]
     },
     "execution_count": 75,
     "metadata": {},
     "output_type": "execute_result"
    }
   ],
   "source": [
    "cobi_M = @time coverage(caminata_M)"
   ]
  },
  {
   "cell_type": "markdown",
   "metadata": {},
   "source": [
    "## Cobertura promedio de las caminatas de cada aeropuerto inicial"
   ]
  },
  {
   "cell_type": "code",
   "execution_count": 76,
   "metadata": {},
   "outputs": [
    {
     "name": "stdout",
     "output_type": "stream",
     "text": [
      "  0.025021 seconds (18.07 k allocations: 1016.092 KiB)\n"
     ]
    },
    {
     "data": {
      "text/plain": [
       "17-element Array{Any,1}:\n",
       " 10.8\n",
       " 10.0\n",
       "  9.0\n",
       "  9.6\n",
       " 11.0\n",
       " 10.4\n",
       "  8.8\n",
       "  9.8\n",
       "  9.4\n",
       " 10.2\n",
       " 10.4\n",
       " 10.0\n",
       " 10.8\n",
       " 10.2\n",
       " 10.0\n",
       "  9.0\n",
       " 10.2"
      ]
     },
     "execution_count": 76,
     "metadata": {},
     "output_type": "execute_result"
    }
   ],
   "source": [
    "cobs_M = @time vertex_coverage(caminata_M)"
   ]
  },
  {
   "cell_type": "code",
   "execution_count": 77,
   "metadata": {},
   "outputs": [
    {
     "data": {
      "image/png": "[encoded data removed]"
     },
     "execution_count": 77,
     "metadata": {},
     "output_type": "execute_result"
    }
   ],
   "source": [
    "d_cobs_M = scatter(cobs_M, color=\"#0f87bf\",alpha=0.4, \n",
    "    title=\"Long. caminatas por nodo(M)\", \n",
    "    xlabel=\"Aeropuertos iniciales\", \n",
    "    ylabel=\"Long. prom.\")"
   ]
  },
  {
   "cell_type": "markdown",
   "metadata": {},
   "source": [
    "## Cobertura promedio"
   ]
  },
  {
   "cell_type": "code",
   "execution_count": 78,
   "metadata": {},
   "outputs": [
    {
     "name": "stdout",
     "output_type": "stream",
     "text": [
      "  0.007973 seconds (2.23 k allocations: 188.630 KiB)\n"
     ]
    },
    {
     "data": {
      "text/plain": [
       "9.976470588235294"
      ]
     },
     "execution_count": 78,
     "metadata": {},
     "output_type": "execute_result"
    }
   ],
   "source": [
    "cobp_M = @time layer_coverage(caminata_M)"
   ]
  },
  {
   "cell_type": "markdown",
   "metadata": {},
   "source": [
    "## Longitudes máximas de caminatas"
   ]
  },
  {
   "cell_type": "code",
   "execution_count": 79,
   "metadata": {},
   "outputs": [
    {
     "name": "stdout",
     "output_type": "stream",
     "text": [
      "  0.064768 seconds (47.47 k allocations: 2.542 MiB)\n"
     ]
    },
    {
     "data": {
      "text/plain": [
       "17-element Array{Any,1}:\n",
       " 12\n",
       " 12\n",
       " 11\n",
       " 11\n",
       " 12\n",
       " 12\n",
       " 11\n",
       " 11\n",
       " 11\n",
       " 12\n",
       " 11\n",
       " 11\n",
       " 12\n",
       " 12\n",
       " 12\n",
       " 10\n",
       " 11"
      ]
     },
     "execution_count": 79,
     "metadata": {},
     "output_type": "execute_result"
    }
   ],
   "source": [
    "lmax_M = @time max_length(caminata_M)"
   ]
  },
  {
   "cell_type": "code",
   "execution_count": 80,
   "metadata": {},
   "outputs": [
    {
     "name": "stdout",
     "output_type": "stream",
     "text": [
      "  0.065413 seconds (34.30 k allocations: 1.891 MiB)\n"
     ]
    },
    {
     "data": {
      "text/plain": [
       "12"
      ]
     },
     "execution_count": 80,
     "metadata": {},
     "output_type": "execute_result"
    }
   ],
   "source": [
    "lMax_M = @time Max_length(caminata_M)"
   ]
  },
  {
   "cell_type": "code",
   "execution_count": 81,
   "metadata": {},
   "outputs": [
    {
     "name": "stdout",
     "output_type": "stream",
     "text": [
      "  0.011828 seconds (2.19 k allocations: 189.005 KiB)\n"
     ]
    },
    {
     "data": {
      "text/plain": [
       "11.411764705882353"
      ]
     },
     "execution_count": 81,
     "metadata": {},
     "output_type": "execute_result"
    }
   ],
   "source": [
    "lavmax_M = @time av_max_length(caminata_M)"
   ]
  },
  {
   "cell_type": "markdown",
   "metadata": {},
   "source": [
    "## Longitudes mínimas de caminatas"
   ]
  },
  {
   "cell_type": "code",
   "execution_count": 82,
   "metadata": {},
   "outputs": [
    {
     "name": "stdout",
     "output_type": "stream",
     "text": [
      "  0.028803 seconds (15.33 k allocations: 864.748 KiB)\n"
     ]
    },
    {
     "data": {
      "text/plain": [
       "17-element Array{Any,1}:\n",
       "  9\n",
       "  8\n",
       "  6\n",
       "  8\n",
       " 10\n",
       "  8\n",
       "  7\n",
       "  9\n",
       "  8\n",
       "  9\n",
       " 10\n",
       "  9\n",
       " 10\n",
       "  9\n",
       "  8\n",
       "  8\n",
       "  9"
      ]
     },
     "execution_count": 82,
     "metadata": {},
     "output_type": "execute_result"
    }
   ],
   "source": [
    "lmin_M = @time min_length(caminata_M)"
   ]
  },
  {
   "cell_type": "code",
   "execution_count": 83,
   "metadata": {},
   "outputs": [
    {
     "name": "stdout",
     "output_type": "stream",
     "text": [
      "  0.040412 seconds (32.89 k allocations: 1.813 MiB)\n"
     ]
    },
    {
     "data": {
      "text/plain": [
       "6"
      ]
     },
     "execution_count": 83,
     "metadata": {},
     "output_type": "execute_result"
    }
   ],
   "source": [
    "lMin_M = @time Min_length(caminata_M)"
   ]
  },
  {
   "cell_type": "code",
   "execution_count": 84,
   "metadata": {},
   "outputs": [
    {
     "name": "stdout",
     "output_type": "stream",
     "text": [
      "  0.004824 seconds (2.17 k allocations: 187.755 KiB)\n"
     ]
    },
    {
     "data": {
      "text/plain": [
       "8.529411764705882"
      ]
     },
     "execution_count": 84,
     "metadata": {},
     "output_type": "execute_result"
    }
   ],
   "source": [
    "lavmin_M = @time av_min_length(caminata_M)"
   ]
  },
  {
   "cell_type": "markdown",
   "metadata": {},
   "source": [
    "## Endpoints"
   ]
  },
  {
   "cell_type": "code",
   "execution_count": 85,
   "metadata": {},
   "outputs": [
    {
     "name": "stdout",
     "output_type": "stream",
     "text": [
      "  0.086446 seconds (90.08 k allocations: 4.625 MiB)\n"
     ]
    },
    {
     "data": {
      "text/plain": [
       "17-element Array{Any,1}:\n",
       " [0, 0, 0, 0, 0]\n",
       " [0, 0, 0, 0, 0]\n",
       " [0, 0, 0, 0, 0]\n",
       " [0, 0, 0, 0, 0]\n",
       " [0, 0, 0, 0, 0]\n",
       " [0, 0, 0, 0, 0]\n",
       " [0, 0, 0, 0, 0]\n",
       " [0, 0, 0, 0, 0]\n",
       " [0, 0, 0, 0, 0]\n",
       " [0, 0, 0, 0, 0]\n",
       " [0, 0, 0, 0, 0]\n",
       " [0, 0, 0, 0, 0]\n",
       " [0, 0, 0, 0, 0]\n",
       " [0, 0, 0, 0, 0]\n",
       " [0, 0, 0, 0, 0]\n",
       " [0, 0, 0, 0, 0]\n",
       " [0, 0, 0, 0, 0]"
      ]
     },
     "execution_count": 85,
     "metadata": {},
     "output_type": "execute_result"
    }
   ],
   "source": [
    "endpts_M = @time endpoints(caminata_M)"
   ]
  },
  {
   "cell_type": "code",
   "execution_count": 86,
   "metadata": {},
   "outputs": [
    {
     "name": "stdout",
     "output_type": "stream",
     "text": [
      "  0.022240 seconds (15.56 k allocations: 876.866 KiB)\n"
     ]
    },
    {
     "data": {
      "text/plain": [
       "17-element Array{Any,1}:\n",
       " 0.0\n",
       " 0.0\n",
       " 0.0\n",
       " 0.0\n",
       " 0.0\n",
       " 0.0\n",
       " 0.0\n",
       " 0.0\n",
       " 0.0\n",
       " 0.0\n",
       " 0.0\n",
       " 0.0\n",
       " 0.0\n",
       " 0.0\n",
       " 0.0\n",
       " 0.0\n",
       " 0.0"
      ]
     },
     "execution_count": 86,
     "metadata": {},
     "output_type": "execute_result"
    }
   ],
   "source": [
    "av_endpts_M = @time av_vertex_endpoints(caminata_M)"
   ]
  },
  {
   "cell_type": "code",
   "execution_count": null,
   "metadata": {},
   "outputs": [],
   "source": []
  },
  {
   "cell_type": "code",
   "execution_count": 87,
   "metadata": {},
   "outputs": [
    {
     "name": "stdout",
     "output_type": "stream",
     "text": [
      "  0.163786 seconds (272.28 k allocations: 13.456 MiB, 7.43% gc time)\n"
     ]
    },
    {
     "data": {
      "text/plain": [
       "17-element Array{Int64,1}:\n",
       " 0\n",
       " 0\n",
       " 0\n",
       " 0\n",
       " 0\n",
       " 0\n",
       " 0\n",
       " 0\n",
       " 0\n",
       " 0\n",
       " 0\n",
       " 0\n",
       " 0\n",
       " 0\n",
       " 0\n",
       " 0\n",
       " 0"
      ]
     },
     "execution_count": 87,
     "metadata": {},
     "output_type": "execute_result"
    }
   ],
   "source": [
    "distrib_endpts_M = @time distrib_endpoints(caminata_M)"
   ]
  }
 ],
 "metadata": {
  "@webio": {
   "lastCommId": null,
   "lastKernelId": null
  },
  "kernelspec": {
   "display_name": "Julia 1.1.0",
   "language": "julia",
   "name": "julia-1.1"
  },
  "language_info": {
   "file_extension": ".jl",
   "mimetype": "application/julia",
   "name": "julia",
   "version": "1.1.0"
  }
 },
 "nbformat": 4,
 "nbformat_minor": 2
}
