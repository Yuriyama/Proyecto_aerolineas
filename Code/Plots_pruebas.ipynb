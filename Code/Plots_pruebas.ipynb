{
 "cells": [
  {
   "cell_type": "code",
   "execution_count": 1,
   "metadata": {},
   "outputs": [],
   "source": [
    "#Establecer directorio\n",
    "cd(\"$(homedir())/Documents/UNAM/Tesis_Lic\")"
   ]
  },
  {
   "cell_type": "code",
   "execution_count": 2,
   "metadata": {},
   "outputs": [],
   "source": [
    "using StatsBase"
   ]
  },
  {
   "cell_type": "code",
   "execution_count": 3,
   "metadata": {},
   "outputs": [],
   "source": [
    "using DelimitedFiles"
   ]
  },
  {
   "cell_type": "code",
   "execution_count": 4,
   "metadata": {},
   "outputs": [],
   "source": [
    "using RandomNumbers.Xorshifts"
   ]
  },
  {
   "cell_type": "code",
   "execution_count": 5,
   "metadata": {},
   "outputs": [],
   "source": [
    "using LightGraphs"
   ]
  },
  {
   "cell_type": "code",
   "execution_count": 6,
   "metadata": {},
   "outputs": [],
   "source": [
    "using Plots"
   ]
  },
  {
   "cell_type": "code",
   "execution_count": 7,
   "metadata": {},
   "outputs": [
    {
     "data": {
      "text/plain": [
       "import_matrix"
      ]
     },
     "execution_count": 7,
     "metadata": {},
     "output_type": "execute_result"
    }
   ],
   "source": [
    "\"\"\"\n",
    "    import_matrix(arch::AbstractString)\n",
    "\n",
    "Función que importa el archivo de la matriz de adyacencia de R.\n",
    "\"\"\"\n",
    "function import_matrix(arch::AbstractString)\n",
    "    archivo_R = readdlm(arch, ',') \n",
    "    archivo_R = archivo_R[2:end, :]\n",
    "    matriz = archivo_R[:, 2:end]\n",
    "    nombre = convert(Array{Int64,2}, matriz)\n",
    "    return nombre\n",
    "end"
   ]
  },
  {
   "cell_type": "code",
   "execution_count": 8,
   "metadata": {},
   "outputs": [
    {
     "data": {
      "text/plain": [
       "airport_names"
      ]
     },
     "execution_count": 8,
     "metadata": {},
     "output_type": "execute_result"
    }
   ],
   "source": [
    "\"\"\"\n",
    "    airport_names(arch::AbstractString)\n",
    "\n",
    "Función que obtiene un arreglo con los nombres de aeropuertos de la matriz\n",
    "\"\"\"\n",
    "function airport_names(arch::AbstractString)\n",
    "    archivo_R = readdlm(arch, ',', String)\n",
    "    columna = archivo_R[1, :]\n",
    "    nombres = columna[2:end]\n",
    "    return nombres\n",
    "end"
   ]
  },
  {
   "cell_type": "code",
   "execution_count": 9,
   "metadata": {},
   "outputs": [
    {
     "data": {
      "text/plain": [
       "neighbours"
      ]
     },
     "execution_count": 9,
     "metadata": {},
     "output_type": "execute_result"
    }
   ],
   "source": [
    "\"\"\"\n",
    "    neighbours(M::Array{Int64,2})\n",
    "\n",
    "Función que obtiene un conjunto de arreglos con los vecinos de cada nodo.\n",
    "\"\"\"\n",
    "function neighbours(M::Array{Int64,2})\n",
    "    \n",
    "    nodos = size(M, 1) #aeropuertos\n",
    "    vecindades = []\n",
    "    \n",
    "    for i in 1:nodos\n",
    "        vecinos = findall(x -> x != 0, M[i, :])\n",
    "        push!(vecindades, vecinos)\n",
    "    end\n",
    "    vecindades\n",
    "end"
   ]
  },
  {
   "cell_type": "code",
   "execution_count": 10,
   "metadata": {},
   "outputs": [
    {
     "data": {
      "text/plain": [
       "r_walks"
      ]
     },
     "execution_count": 10,
     "metadata": {},
     "output_type": "execute_result"
    }
   ],
   "source": [
    "\"\"\"\n",
    "\n",
    "    r_walks(M::Array{Int64,2}, f::Int64, steps::Int64, iter::Int64)\n",
    "\n",
    "La función r_walks tiene como parámetros:\n",
    "M, matriz de adyacencia de tipo Array{Int64,2}\n",
    "f, nodo inicial de tipo Int64\n",
    "steps, número de pasos de tipo Int64\n",
    "iter, número de iteraciones de tipo Int64.\n",
    "La función crea un caminante aleatorio sobre la matriz, el cual tiene igual probabilidad de avanzar \n",
    "hacia cualquiera de sus vecinos.\n",
    "Regresa un arreglo que contiene todas las trayectorias que tomó el caminante aleatorio.\n",
    "\"\"\"\n",
    "function r_walks(M::Array{Int64,2}, f::Int64, steps::Int64, iter::Int64)\n",
    "    \n",
    "    paths = zeros(Int64, (iter, steps + 1))\n",
    "    s = f\n",
    "    seed = 1\n",
    "    vecindades = neighbours(M)\n",
    "\n",
    "    for i in 1:iter\n",
    "        paths[i, 1] = f\n",
    "        \n",
    "        for p in 1:steps \n",
    "            vecindad = vecindades[s]\n",
    "            \n",
    "            if vecindad == []\n",
    "                break\n",
    "            else\n",
    "                a = sample(Xoroshiro128Plus(seed), vecindad) \n",
    "                paths[i, p + 1] = a\n",
    "                s = a\n",
    "                seed += 1\n",
    "            end\n",
    "            \n",
    "        end\n",
    "        s = f\n",
    "        \n",
    "    end\n",
    "    \n",
    "    return paths \n",
    "end"
   ]
  },
  {
   "cell_type": "code",
   "execution_count": 11,
   "metadata": {},
   "outputs": [
    {
     "data": {
      "text/plain": [
       "random_walk"
      ]
     },
     "execution_count": 11,
     "metadata": {},
     "output_type": "execute_result"
    }
   ],
   "source": [
    "\"\"\"\n",
    "\n",
    "    random_walk(M::Array{Int64,2}, steps::Int64, iter::Int64)\n",
    "\n",
    "La función random_walk tiene como parámetros:\n",
    "M, matriz de adyacencia de tipo Array{Int64,2}\n",
    "steps, número de pasos de tipo Int64\n",
    "iter, número de iteraciones de tipo Int64.\n",
    "La función crea un caminante aleatorio sobre la matriz con igual probabilidad de avanzar \n",
    "hacia cualquiera de sus vecinos. Esta función recorre todos los nodos de la red como\n",
    "nodos iniciales y sobre ellos itera para obtener el número de caminos que se le pidió.\n",
    "Regresa un arreglo que contiene arreglos asociados a todas las trayectorias que tomó el \n",
    "caminante aleatorio para cada nodo inicial de la red.\n",
    "\"\"\"\n",
    "function random_walk(M::Array{Int64,2}, steps::Int64, iter::Int64) \n",
    "    \n",
    "    random_walks = []\n",
    "    nodos = size(M, 1)\n",
    "    \n",
    "    for f in 1:nodos #aeropuertos\n",
    "        paths = r_walks(M, f, steps, iter)\n",
    "        push!(random_walks, paths)\n",
    "    end\n",
    "    \n",
    "    random_walks\n",
    "end"
   ]
  },
  {
   "cell_type": "code",
   "execution_count": 12,
   "metadata": {},
   "outputs": [
    {
     "data": {
      "text/plain": [
       "visited_vertices"
      ]
     },
     "execution_count": 12,
     "metadata": {},
     "output_type": "execute_result"
    }
   ],
   "source": [
    "\"\"\"\n",
    "    visited_vertices(W::Array{Any,1})\n",
    "\n",
    "La función caminos tiene como parámetro W que es un arreglo de arreglos.\n",
    "Regresa los nodos diferentes a los que llega el caminante.\n",
    "\"\"\"\n",
    "function visited_vertices(W::Array{Any,1})\n",
    "    \n",
    "    cobert = []\n",
    "    v = length(W) #tamaño de la matriz, número de nodos\n",
    "    s = size(W[1], 1) #lo puedo sacar, para todos es el mismo. Es el número de iteraciones\n",
    "    t = size(W[1], 2) #número de pasos, no necesario\n",
    "    #visit = zeros(Int64, s) #Arreglo de ceros de tamaño número de iteraciones\n",
    "    visit = []\n",
    "    \n",
    "    for i in 1:v        \n",
    "        for j in 1:s\n",
    "            u = unique(W[i][j, :])\n",
    "            push!(visit, u)\n",
    "        end\n",
    "        \n",
    "        push!(cobert, visit)\n",
    "        visit = []\n",
    "    end\n",
    "    \n",
    "    return cobert\n",
    "end"
   ]
  },
  {
   "cell_type": "code",
   "execution_count": 13,
   "metadata": {},
   "outputs": [
    {
     "data": {
      "text/plain": [
       "walk_global"
      ]
     },
     "execution_count": 13,
     "metadata": {},
     "output_type": "execute_result"
    }
   ],
   "source": [
    "\"\"\"\n",
    "    walk_global(W::Array{Any,1}, airline_code::String, v::Int64)\n",
    "\n",
    "Función que cambia las caminatas del número de nodo asociado a la aerolínea a número de nodo GLOBAL de aeropuertos.\n",
    "Parámetros:\n",
    "W = caminatas aleatorias (arreglo de matrices)\n",
    "airline_code = código de la aerolínea\n",
    "v = nodo inicial\n",
    "\"\"\"\n",
    "function walk_global(W::Array{Any,1}, airline_code::String, v::Int64)\n",
    "    \n",
    "    #Primero se lee el archivo con las caminatas\n",
    "    #path = string(\"/Users/yuriko/Downloads/codejulia/data/\",airline_code,\"/\",airline_code,\"_\",v,\"_random_walk.csv\")\n",
    "    #W = readdlm(\"/Users/yuriko/Downloads/codejulia/data/2B/caminatas/2B_1_random_walk.csv\", ',', Int64) \n",
    "    \n",
    "    #Ahora se usa la función para obtener los nodos diferentes\n",
    "    nodos_diferentes = visited_vertices(W)\n",
    "    #vv2b[1][1,:] #Nodos únicos visitados en la iteración 1 con nodo inicial 1 #Leo los visited vertices del archivo\n",
    "    m = size(W[1], 1) #renglones\n",
    "    n = size(W[1], 2) #columnas\n",
    "    l = length(W) #número de nodos iniciales\n",
    "    \n",
    "    #Se lee el diccionario\n",
    "    archivo_dicc = readdlm(\"/Users/yuriko/Documents/UNAM/Tesis_Lic/data/diccionarios/dictionary_final.csv\", ',') \n",
    "    \n",
    "    aerol_col = string(airline_code, \"_num\") #Nombre de la columna\n",
    "    coord_aerol = findall(x -> x == aerol_col, archivo_dicc) #Busco las coordenadas de la columna\n",
    "    col_aerol = coord_aerol[1][2] #Segunda coordenada de la posición (columna)\n",
    "    columna_aerol = archivo_dicc[:, col_aerol] #Obtengo la columna con el nombre del aeropuerto al que corresponde\n",
    "    \n",
    "    for k = v #1:l #nodo inicial v\n",
    "        arreglo_visitas = nodos_diferentes[k]\n",
    "        caminatas_nodo = W[k]\n",
    "        walk_empty = zeros(Int64, m, n)#Arreglo vacío para nuevos números\n",
    "        \n",
    "        for i in 1:m #voy por las iteraciones\n",
    "            nodos_dif = arreglo_visitas[i, :] #array/caminata única de los nodos que buscará\n",
    "            \n",
    "            for j in 1:length(nodos_dif[])\n",
    "                nodo_original = nodos_dif[][j]\n",
    "                #Busco la posición original del aeropuerto que se asignará\n",
    "                posicion_original = findall(x -> x == nodo_original, archivo_dicc[:, col_aerol])\n",
    "                #Se busca el nombre del aeropuerto\n",
    "                numero_asignado = archivo_dicc[posicion_original, 3]\n",
    "                #Busco el primer nodo diferente en la iteración i\n",
    "                coords_ys = findall(x -> x == nodo_original, caminatas_nodo[i, :]) #Encuentra uno de los nodos dif en la iteración\n",
    "                \n",
    "                for q in 1:length(coords_ys) #Se itera sobre las posiciones en las caminatas\n",
    "                    pos_actual = coords_ys[q]\n",
    "                    #nodo_original = findall(x -> x == pos_actual, columna_aerol) #buscar el nodo en la aerolínea\n",
    "                    #aerop_nombre = nodo_original[1]+1\n",
    "                    #aeropuerto_asignado = archivo_dicc[nodos_dif[i],2]#nodo_original, 2] #buscando qué nombre se colocará\n",
    "                    walk_empty[i, pos_actual] = numero_asignado[] #asigno valor de diccionario al arreglo vacío i, pos_actual\n",
    "                end\n",
    "            end\n",
    "\n",
    "        end\n",
    "\n",
    "        return walk_empty\n",
    "        \n",
    "    end\n",
    "    \n",
    "end"
   ]
  },
  {
   "cell_type": "code",
   "execution_count": 14,
   "metadata": {},
   "outputs": [
    {
     "data": {
      "text/plain": [
       "walk_names"
      ]
     },
     "execution_count": 14,
     "metadata": {},
     "output_type": "execute_result"
    }
   ],
   "source": [
    "\"\"\"\n",
    "    walk_names(W::Array{Any,1}, airline_code::String, v::Int64)\n",
    "\n",
    "Función que cambia las caminatas del número de nodo asociado a la aerolínea a nombres de aeropuertos.\n",
    "Parámetros:\n",
    "W = caminatas aleatorias (arreglo de matrices)\n",
    "airline_code = código de la aerolínea\n",
    "v = nodo inicial\n",
    "\"\"\"\n",
    "function walk_names(W::Array{Any,1}, airline_code::String, v::Int64) \n",
    "    \n",
    "    #Primero se lee el archivo con las caminatas\n",
    "    #path = string(\"/Users/yuriko/Downloads/codejulia/data/\",airline_code,\"/\",airline_code,\"_\",v,\"_random_walk.csv\")\n",
    "    #W = readdlm(\"/Users/yuriko/Downloads/codejulia/data/2B/caminatas/2B_1_random_walk.csv\", ',', Int64) \n",
    "    \n",
    "    #Ahora se usa la función para obtener los nodos diferentes\n",
    "    nodos_diferentes = visited_vertices(W)\n",
    "    #vv2b[1][1,:] #Nodos únicos visitados en la iteración 1 con nodo inicial 1 #Leo los visited vertices del archivo\n",
    "    m = size(W[1], 1) #renglones\n",
    "    n = size(W[1], 2) #columnas\n",
    "    l = length(W) #número de nodos iniciales\n",
    "    \n",
    "    #Se lee el diccionario\n",
    "    archivo_dicc = readdlm(\"/Users/yuriko/Documents/UNAM/Tesis_Lic/data/diccionarios/dictionary_final.csv\", ',') \n",
    "    \n",
    "    aerol_col = string(airline_code, \"_num\") #Nombre de la columna\n",
    "    coord_aerol = findall(x -> x == aerol_col, archivo_dicc) #Busco las coordenadas de la columna\n",
    "    col_aerol = coord_aerol[1][2] #Segunda coordenada de la posición (columna)\n",
    "    columna_aerol = archivo_dicc[:, col_aerol] #Obtengo la columna con el nombre del aeropuerto al que corresponde\n",
    "    \n",
    "    for k = v #1:l #nodo inicial v\n",
    "        arreglo_visitas = nodos_diferentes[k]\n",
    "        caminatas_nodo = W[k]\n",
    "        walk_nothing = Array{Union{Nothing, String}}(nothing, m, n) #archivo vacío de una matriz para un nodo inicial\n",
    "        \n",
    "        for i in 1:m #voy por las iteraciones\n",
    "            nodos_dif = arreglo_visitas[i, :] #array/caminata única de los nodos que buscará\n",
    "            \n",
    "            for j in 1:length(nodos_dif[])\n",
    "                nodo_original = nodos_dif[][j]\n",
    "                #Busco la posición original del aeropuerto que se asignará\n",
    "                posicion_original = findall(x -> x == nodo_original, archivo_dicc[:, col_aerol])\n",
    "                #Se busca el nombre del aeropuerto\n",
    "                nombre_asignado = archivo_dicc[posicion_original, 2]\n",
    "                #Busco el primer nodo diferente en la iteración i\n",
    "                coords_ys = findall(x -> x == nodo_original, caminatas_nodo[i, :]) #Encuentra uno de los nodos dif en la iteración\n",
    "                \n",
    "                for q in 1:length(coords_ys) #Se itera sobre las posiciones en las caminatas\n",
    "                    pos_actual = coords_ys[q]\n",
    "                    #nodo_original = findall(x -> x == pos_actual, columna_aerol) #buscar el nodo en la aerolínea\n",
    "                    #aerop_nombre = nodo_original[1]+1\n",
    "                    #aeropuerto_asignado = archivo_dicc[nodos_dif[i],2]#nodo_original, 2] #buscando qué nombre se colocará\n",
    "                    walk_nothing[i, pos_actual] = nombre_asignado[] #asigno valor de diccionario al arreglo vacío i, pos_actual\n",
    "                end\n",
    "            end\n",
    "\n",
    "        end\n",
    "\n",
    "        return walk_nothing\n",
    "        \n",
    "    end\n",
    "    \n",
    "end"
   ]
  },
  {
   "cell_type": "code",
   "execution_count": 15,
   "metadata": {},
   "outputs": [
    {
     "data": {
      "text/plain": [
       "walk_length"
      ]
     },
     "execution_count": 15,
     "metadata": {},
     "output_type": "execute_result"
    }
   ],
   "source": [
    "\"\"\"\n",
    "    walk_length(W::Array{Any,1})\n",
    "\n",
    "La función walk_length tiene como parámetros:\n",
    "RW, arreglo de arreglos de tipo Array{Any,1} que corresponde al arreglo de caminatas aleatorias.\n",
    "La función regresa un arreglo de arreglos que contiene las longitudes de todas las trayectorias que tomó el \n",
    "caminante aleatorio para cada nodo inicial de la red.\n",
    "\"\"\"\n",
    "function walk_length(W::Array{Any,1})\n",
    "    \n",
    "    longitudes = Array[]\n",
    "    \n",
    "    v = length(W) #tamaño de la matriz, número de nodos\n",
    "    s = size(W[1], 1) #Es el número de iteraciones\n",
    "    longitud = zeros(Int64, s)\n",
    "    \n",
    "    for i in 1:v\n",
    "        \n",
    "        for j in 1:s\n",
    "               \n",
    "            longitud[j] = findlast(x -> x != 0, W[i][j, :])\n",
    "            \n",
    "        end\n",
    "         push!(longitudes, longitud)\n",
    "        \n",
    "        longitud = zeros(Int64, s)\n",
    "    end\n",
    "    return longitudes\n",
    "        \n",
    "end"
   ]
  },
  {
   "cell_type": "code",
   "execution_count": 16,
   "metadata": {},
   "outputs": [
    {
     "data": {
      "text/plain": [
       "walk_av_length"
      ]
     },
     "execution_count": 16,
     "metadata": {},
     "output_type": "execute_result"
    }
   ],
   "source": [
    "\"\"\"\n",
    "    walk_av_length(W::Array{Any,1})\n",
    "\n",
    "La función walk_av_length tiene como parámetro W, que es un arreglo de arreglos (que se puede obtener de la \n",
    "función walk_length). \n",
    "Regresa un arreglo con entradas correspondientes al promedio de las longitudes de \n",
    "las caminatas aleatorias para cada nodo de inicio antes de caer en un nodo con grado de salida 0.\n",
    "\"\"\"\n",
    "function walk_av_length(W::Array{Any,1}) #Llamar a función\n",
    "    \n",
    "    proms = Array{Float64}(undef, 0)\n",
    "    wlength = walk_length(W)\n",
    "    \n",
    "    for i in 1:length(wlength)\n",
    "        av = mean(wlength[i])\n",
    "        push!(proms, av)\n",
    "    end\n",
    "    proms\n",
    "end"
   ]
  },
  {
   "cell_type": "code",
   "execution_count": 82,
   "metadata": {},
   "outputs": [
    {
     "data": {
      "text/plain": [
       "plot_av_length_vertex"
      ]
     },
     "execution_count": 82,
     "metadata": {},
     "output_type": "execute_result"
    }
   ],
   "source": [
    "\"\"\"\n",
    "    plot_av_length_vertex(W::Array{Float64, 1}, airline_code::String)\n",
    "\n",
    "Función que grafica (scatter plot) del promedio por nodo inicial de caminatas\n",
    "\"\"\"\n",
    "function plot_av_length_vertex(W::Array{Any,1}, airline_code::String)\n",
    "\n",
    "    pyplot()\n",
    "\n",
    "    info = walk_av_length(W)\n",
    "    aerolinea_matriz = string(airline_code, \"_matriz_du.csv\")\n",
    "    nombres_multiplex = airport_names(\"/Users/yuriko/Documents/UNAM/Tesis_Lic/data/aerolineas_matrices/$aerolinea_matriz\")\n",
    "\n",
    "    scatter(info,\n",
    "        color = \"#0f87bf\",\n",
    "        alpha = 0.8,\n",
    "        title = string(\"Longitud promedio por nodo de \",airline_code),\n",
    "        xticks = (1:1:length(W), nombres_multiplex), #data_names_multiplex),\n",
    "        xlabel = \"Aeropuerto inicial\",\n",
    "        ylabel = \"Longitud\",\n",
    "        legendtitle = airline_code,\n",
    "        label = \"Promedio\",\n",
    "        xrotation = 50,\n",
    "        ylims = (0, 500))\n",
    "end"
   ]
  },
  {
   "cell_type": "code",
   "execution_count": 18,
   "metadata": {},
   "outputs": [
    {
     "data": {
      "text/plain": [
       "distrib_av_visits"
      ]
     },
     "execution_count": 18,
     "metadata": {},
     "output_type": "execute_result"
    }
   ],
   "source": [
    "\"\"\"\n",
    "    distrib_av_visits(W::Array{Any, 1})\n",
    "\n",
    "Función que hace una distribución de visitas por nodo inicial y muestra todos los nodos iniciales\n",
    "\"\"\"\n",
    "function distrib_av_visits(W::Array{Any, 1}) \n",
    "    \n",
    "    nodos = length(W) #número de nodos\n",
    "    iteracion = size(W[1],1)\n",
    "    dicc = zeros(Float64, nodos, nodos+1) #matriz de ceros (nodos x nodos+1)\n",
    "    \n",
    "    for i in 1:nodos #(1 a 17)\n",
    "        prom_conteos = counts(W[i], 0:nodos)/iteracion #hago diccionario con prom de freqs de cada nodo inicial\n",
    "        \n",
    "        dicc[i, :] = prom_conteos \n",
    "    end\n",
    "\n",
    "    dicc\n",
    "end"
   ]
  },
  {
   "cell_type": "code",
   "execution_count": 51,
   "metadata": {},
   "outputs": [
    {
     "data": {
      "text/plain": [
       "plot_freq_av_visits"
      ]
     },
     "execution_count": 51,
     "metadata": {},
     "output_type": "execute_result"
    }
   ],
   "source": [
    "\"\"\"\n",
    "    plot_freq_av_visits(W::Array{Any, 1})\n",
    "\n",
    "Función que crea un diccionario con frecuencias por nodo inicial y muestra todos\n",
    "\"\"\"\n",
    "function plot_freq_av_visits(W::Array{Any, 1}, airline_code::String)\n",
    "\n",
    "    pyplot()\n",
    "\n",
    "    mat_completa = distrib_av_visits(W)\n",
    "    mat = mat_completa[:, (2:end)] #desde la segunda columna para no tomar en cuenta los end-points\n",
    "\n",
    "    aerolinea_matriz = string(airline_code, \"_matriz_du.csv\")\n",
    "    nombres_multiplex = airport_names(\"/Users/yuriko/Documents/UNAM/Tesis_Lic/data/aerolineas_matrices/$aerolinea_matriz\")\n",
    "\n",
    "    xs = [nombres_multiplex]\n",
    "    ys = [nombres_multiplex] #[string(\"v_0 \", i) for i = 1:length(W)]\n",
    "    z = mat\n",
    "\n",
    "    heatmap(xs, ys, z,\n",
    "        title = string(\"Frecuencia de visitas para \", airline_code),\n",
    "        aspect_ratio = 1,\n",
    "        clims = (0, maximum(mat)), #MÁXIMO DEL MULTIPLEX GLOBAL/AEROLÍNEA MÁS GRANDE ¿?\n",
    "        xticks = :all,\n",
    "        yticks = :all,\n",
    "        xtickfont = font(7), #\"Arial\"),\n",
    "        ytickfont = font(7), #\"Courier\"),\n",
    "        ylabel = \"Visitas promedio\",\n",
    "        xlabel = \"Aeropuerto inicial\",\n",
    "        xrotation = 50)\n",
    "end"
   ]
  },
  {
   "cell_type": "code",
   "execution_count": 20,
   "metadata": {},
   "outputs": [
    {
     "data": {
      "text/plain": [
       "coverage"
      ]
     },
     "execution_count": 20,
     "metadata": {},
     "output_type": "execute_result"
    }
   ],
   "source": [
    "\"\"\"\n",
    "    coverage(W::Array{Any,1})\n",
    "\n",
    "La función cobertura tiene como parámetro W que es un arreglo de arreglos.\n",
    "Regresa el número de nodos diferentes a los que llega el caminante.\n",
    "\"\"\"\n",
    "function coverage(W::Array{Any,1}) \n",
    "    \n",
    "    cobert = []\n",
    "    \n",
    "    v = length(W) #tamaño de la matriz, número de nodos\n",
    "    x = visited_vertices(W)\n",
    "    s = size(x[1], 1) #lo puedo sacar, para todos es el mismo. Es el número de iteraciones\n",
    "    longz = zeros(Int64, s) #Arreglo de ceros de tamaño número de iteraciones\n",
    "    \n",
    "    for i in 1:v        \n",
    "        for j in 1:s\n",
    "            l = length(x[i][j])\n",
    "            longz[j] = l\n",
    "        end\n",
    "        \n",
    "        push!(cobert, longz)\n",
    "        longz = zeros(Int64, s)\n",
    "    end\n",
    "    \n",
    "    return cobert\n",
    "end"
   ]
  },
  {
   "cell_type": "code",
   "execution_count": 21,
   "metadata": {},
   "outputs": [
    {
     "data": {
      "text/plain": [
       "vertex_coverage"
      ]
     },
     "execution_count": 21,
     "metadata": {},
     "output_type": "execute_result"
    }
   ],
   "source": [
    "\"\"\"\n",
    "    vertex_coverage(W::Array{Any,1})\n",
    "\n",
    "Da el promedio de cobertura la caminata por nodo inicial. \n",
    "\"\"\"\n",
    "function vertex_coverage(W::Array{Any,1}) #Esta es la importante\n",
    "    \n",
    "    longitud = Array{Float64}(undef, 0)\n",
    "    x = coverage(W)\n",
    "    \n",
    "    for i in 1:length(x)\n",
    "        l = mean(x[i])\n",
    "        push!(longitud, l)\n",
    "    end\n",
    "    \n",
    "    longitud\n",
    "end"
   ]
  },
  {
   "cell_type": "code",
   "execution_count": 80,
   "metadata": {},
   "outputs": [
    {
     "data": {
      "text/plain": [
       "plot_vertex_coverage"
      ]
     },
     "execution_count": 80,
     "metadata": {},
     "output_type": "execute_result"
    }
   ],
   "source": [
    "\"\"\"\n",
    "    plot_vertex_coverage(W::Array{Any, 1}, airline_code::String)\n",
    "\n",
    "Función que grafica (scatter plot) del promedio por nodo inicial de caminatas\n",
    "\"\"\"\n",
    "function plot_vertex_coverage(W::Array{Any, 1}, airline_code::String)\n",
    "\n",
    "    info = vertex_coverage(W)\n",
    "\n",
    "    aerolinea_matriz = string(airline_code, \"_matriz_du.csv\")\n",
    "    nombres_multiplex = airport_names(\"/Users/yuriko/Documents/UNAM/Tesis_Lic/data/aerolineas_matrices/$aerolinea_matriz\")\n",
    "\n",
    "\n",
    "    scatter(info,\n",
    "        color = \"#0f87bf\",\n",
    "        alpha = 0.4,\n",
    "        title = string(\"Cobertura por nodo inicial \", airline_code),\n",
    "        xlabel = \"Aeropuerto inicial\",\n",
    "        ylabel = \"Longitud\",\n",
    "        xticks = (1:1:length(W), nombres_multiplex),\n",
    "        yticks =:all,\n",
    "        legendtitle = airline_code,\n",
    "        label = \"Promedio\",\n",
    "        xrotation = 50,\n",
    "        #xlims = (-10,300)) #obtener límites\n",
    "        ylims = (0, 50))\n",
    "\n",
    "end\n"
   ]
  },
  {
   "cell_type": "code",
   "execution_count": 40,
   "metadata": {},
   "outputs": [
    {
     "data": {
      "text/plain": [
       "3190×570 Array{Any,2}:\n",
       "     \"\"  \"global_airports\"  …  \"ZK_num\"  \"ZL_num\"   \"ZM_num\"\n",
       "    1    \"AER\"                 \"NA\"      \"NA\"       \"NA\"    \n",
       "    2    \"ASF\"                 \"NA\"      \"NA\"       \"NA\"    \n",
       "    3    \"CEK\"                 \"NA\"      \"NA\"       \"NA\"    \n",
       "    4    \"DME\"                 \"NA\"      \"NA\"      1        \n",
       "    5    \"EGO\"              …  \"NA\"      \"NA\"       \"NA\"    \n",
       "    6    \"GYD\"                 \"NA\"      \"NA\"       \"NA\"    \n",
       "    7    \"KGD\"                 \"NA\"      \"NA\"       \"NA\"    \n",
       "    8    \"KZN\"                 \"NA\"      \"NA\"       \"NA\"    \n",
       "    9    \"LED\"                 \"NA\"      \"NA\"       \"NA\"    \n",
       "   10    \"MRV\"              …  \"NA\"      \"NA\"       \"NA\"    \n",
       "   11    \"NBC\"                 \"NA\"      \"NA\"       \"NA\"    \n",
       "   12    \"NJC\"                 \"NA\"      \"NA\"       \"NA\"    \n",
       "    ⋮                       ⋱                               \n",
       " 3178    \"LPS\"                 \"NA\"      \"NA\"       \"NA\"    \n",
       " 3179    \"ORX\"                 \"NA\"      \"NA\"       \"NA\"    \n",
       " 3180    \"BVS\"              …  \"NA\"      \"NA\"       \"NA\"    \n",
       " 3181    \"MTE\"                 \"NA\"      \"NA\"       \"NA\"    \n",
       " 3182    \"DLZ\"                 \"NA\"      \"NA\"       \"NA\"    \n",
       " 3183    \"UII\"                 \"NA\"      \"NA\"       \"NA\"    \n",
       " 3184    \"ZBF\"                 \"NA\"      \"NA\"       \"NA\"    \n",
       " 3185    \"CMP\"              …  \"NA\"      \"NA\"       \"NA\"    \n",
       " 3186    \"BSS\"                 \"NA\"      \"NA\"       \"NA\"    \n",
       " 3187    \"AEX\"                 \"NA\"      \"NA\"       \"NA\"    \n",
       " 3188    \"GCK\"                 \"NA\"      \"NA\"       \"NA\"    \n",
       " 3189    \"MGM\"                 \"NA\"      \"NA\"       \"NA\"    "
      ]
     },
     "execution_count": 40,
     "metadata": {},
     "output_type": "execute_result"
    }
   ],
   "source": [
    "archivo_dicc = readdlm(\"/Users/yuriko/Documents/UNAM/Tesis_Lic/data/diccionarios/dictionary_final.csv\", ',')"
   ]
  },
  {
   "cell_type": "code",
   "execution_count": 43,
   "metadata": {},
   "outputs": [
    {
     "data": {
      "text/plain": [
       "3190-element Array{Any,1}:\n",
       "     \"global_num\"\n",
       "    1            \n",
       "    2            \n",
       "    3            \n",
       "    4            \n",
       "    5            \n",
       "    6            \n",
       "    7            \n",
       "    8            \n",
       "    9            \n",
       "   10            \n",
       "   11            \n",
       "   12            \n",
       "    ⋮            \n",
       " 3178            \n",
       " 3179            \n",
       " 3180            \n",
       " 3181            \n",
       " 3182            \n",
       " 3183            \n",
       " 3184            \n",
       " 3185            \n",
       " 3186            \n",
       " 3187            \n",
       " 3188            \n",
       " 3189            "
      ]
     },
     "execution_count": 43,
     "metadata": {},
     "output_type": "execute_result"
    }
   ],
   "source": [
    "archivo_dicc[:,3]"
   ]
  },
  {
   "cell_type": "code",
   "execution_count": 23,
   "metadata": {},
   "outputs": [
    {
     "data": {
      "text/plain": [
       "\"2B\""
      ]
     },
     "execution_count": 23,
     "metadata": {},
     "output_type": "execute_result"
    }
   ],
   "source": [
    "lista_aerolineas = readdlm(\"/Users/yuriko/Documents/UNAM/Tesis_Lic/data/aerolineas_matrices/lista_aerolineas.csv\", ',', String)\n",
    "airline_code = lista_aerolineas[2]"
   ]
  },
  {
   "cell_type": "code",
   "execution_count": 85,
   "metadata": {},
   "outputs": [
    {
     "data": {
      "text/plain": [
       "568×2 Array{String,2}:\n",
       " \"\"    \"Airline\"\n",
       " \"2B\"  \"2B\"     \n",
       " \"2G\"  \"2G\"     \n",
       " \"2I\"  \"2I\"     \n",
       " \"2J\"  \"2J\"     \n",
       " \"2K\"  \"2K\"     \n",
       " \"2L\"  \"2L\"     \n",
       " \"2N\"  \"2N\"     \n",
       " \"2O\"  \"2O\"     \n",
       " \"2P\"  \"2P\"     \n",
       " \"2Z\"  \"2Z\"     \n",
       " \"3E\"  \"3E\"     \n",
       " \"3F\"  \"3F\"     \n",
       " ⋮              \n",
       " \"Z3\"  \"Z3\"     \n",
       " \"Z4\"  \"Z4\"     \n",
       " \"Z8\"  \"Z8\"     \n",
       " \"Z9\"  \"Z9\"     \n",
       " \"ZB\"  \"ZB\"     \n",
       " \"ZD\"  \"ZD\"     \n",
       " \"ZE\"  \"ZE\"     \n",
       " \"ZH\"  \"ZH\"     \n",
       " \"ZI\"  \"ZI\"     \n",
       " \"ZK\"  \"ZK\"     \n",
       " \"ZL\"  \"ZL\"     \n",
       " \"ZM\"  \"ZM\"     "
      ]
     },
     "execution_count": 85,
     "metadata": {},
     "output_type": "execute_result"
    }
   ],
   "source": [
    "lista_aerolineas"
   ]
  },
  {
   "cell_type": "code",
   "execution_count": 24,
   "metadata": {},
   "outputs": [
    {
     "data": {
      "text/plain": [
       "17×17 Array{Int64,2}:\n",
       " 0  0  0  0  0  0  0  1  0  0  0  0  0  0  0  0  0\n",
       " 0  0  0  0  0  0  0  1  0  1  0  0  0  0  0  0  0\n",
       " 0  0  0  0  0  0  0  1  0  0  0  0  0  1  0  0  0\n",
       " 0  0  0  0  0  0  0  1  0  0  1  0  0  0  0  1  1\n",
       " 0  0  0  0  0  0  1  1  0  0  0  0  0  0  0  0  0\n",
       " 0  0  0  0  0  0  0  0  0  0  1  0  0  0  0  0  0\n",
       " 0  0  0  0  1  0  0  0  0  0  0  0  0  0  0  0  0\n",
       " 1  1  1  1  1  0  0  0  1  0  0  0  0  0  1  0  0\n",
       " 0  0  0  0  0  0  0  1  0  0  1  0  0  0  0  0  1\n",
       " 0  1  0  0  0  0  0  0  0  0  0  0  0  0  0  0  0\n",
       " 0  0  0  1  0  1  0  0  1  0  0  0  0  0  1  0  0\n",
       " 0  0  0  0  0  0  0  0  0  0  0  0  0  0  1  0  1\n",
       " 0  0  0  0  0  0  0  0  0  0  0  0  0  0  1  0  0\n",
       " 0  0  1  0  0  0  0  0  0  0  0  0  0  0  1  0  0\n",
       " 0  0  0  0  0  0  0  1  0  0  1  1  1  1  0  0  0\n",
       " 0  0  0  1  0  0  0  0  0  0  0  0  0  0  0  0  0\n",
       " 0  0  0  1  0  0  0  0  1  0  0  1  0  0  0  0  0"
      ]
     },
     "execution_count": 24,
     "metadata": {},
     "output_type": "execute_result"
    }
   ],
   "source": [
    "aerolinea_matriz = string(airline_code, \"_matriz_du.csv\")\n",
    "multiplex = import_matrix(\"data/aerolineas_matrices/$aerolinea_matriz\")"
   ]
  },
  {
   "cell_type": "code",
   "execution_count": 25,
   "metadata": {},
   "outputs": [
    {
     "data": {
      "text/plain": [
       "17-element Array{String,1}:\n",
       " \"AER\"\n",
       " \"ASF\"\n",
       " \"CEK\"\n",
       " \"DME\"\n",
       " \"EGO\"\n",
       " \"GYD\"\n",
       " \"KGD\"\n",
       " \"KZN\"\n",
       " \"LED\"\n",
       " \"MRV\"\n",
       " \"NBC\"\n",
       " \"NJC\"\n",
       " \"NUX\"\n",
       " \"OVB\"\n",
       " \"SVX\"\n",
       " \"TGK\"\n",
       " \"UUA\""
      ]
     },
     "execution_count": 25,
     "metadata": {},
     "output_type": "execute_result"
    }
   ],
   "source": [
    "data_names_multiplex = airport_names(\"data/aerolineas_matrices/$aerolinea_matriz\")"
   ]
  },
  {
   "cell_type": "code",
   "execution_count": 26,
   "metadata": {},
   "outputs": [
    {
     "name": "stdout",
     "output_type": "stream",
     "text": [
      "  0.100243 seconds (205.44 k allocations: 9.861 MiB)\n"
     ]
    },
    {
     "data": {
      "text/plain": [
       "17-element Array{Any,1}:\n",
       " [8]                   \n",
       " [8, 10]               \n",
       " [8, 14]               \n",
       " [8, 11, 16, 17]       \n",
       " [7, 8]                \n",
       " [11]                  \n",
       " [5]                   \n",
       " [1, 2, 3, 4, 5, 9, 15]\n",
       " [8, 11, 17]           \n",
       " [2]                   \n",
       " [4, 6, 9, 15]         \n",
       " [15, 17]              \n",
       " [15]                  \n",
       " [3, 15]               \n",
       " [8, 11, 12, 13, 14]   \n",
       " [4]                   \n",
       " [4, 9, 12]            "
      ]
     },
     "execution_count": 26,
     "metadata": {},
     "output_type": "execute_result"
    }
   ],
   "source": [
    "vecinos_M = @time neighbours(multiplex)"
   ]
  },
  {
   "cell_type": "code",
   "execution_count": 27,
   "metadata": {
    "scrolled": true
   },
   "outputs": [
    {
     "name": "stdout",
     "output_type": "stream",
     "text": [
      "  0.186624 seconds (441.51 k allocations: 22.674 MiB, 4.78% gc time)\n"
     ]
    },
    {
     "data": {
      "text/plain": [
       "17-element Array{Any,1}:\n",
       " [1 8 … 4 8; 1 8 … 4 8; … ; 1 8 … 12 15; 1 8 … 9 11]        \n",
       " [2 10 … 4 8; 2 10 … 4 8; … ; 2 10 … 12 15; 2 10 … 9 11]    \n",
       " [3 14 … 4 8; 3 14 … 4 8; … ; 3 14 … 12 15; 3 14 … 9 11]    \n",
       " [4 11 … 4 8; 4 11 … 4 8; … ; 4 17 … 12 15; 4 17 … 9 11]    \n",
       " [5 8 … 4 8; 5 8 … 4 8; … ; 5 8 … 12 15; 5 8 … 9 11]        \n",
       " [6 11 … 4 8; 6 11 … 4 8; … ; 6 11 … 12 15; 6 11 … 9 11]    \n",
       " [7 5 … 4 8; 7 5 … 4 8; … ; 7 5 … 9 17; 7 5 … 9 11]         \n",
       " [8 9 … 4 8; 8 15 … 4 8; … ; 8 4 … 9 17; 8 1 … 9 11]        \n",
       " [9 17 … 4 8; 9 17 … 4 8; … ; 9 17 … 12 15; 9 11 … 9 11]    \n",
       " [10 2 … 4 8; 10 2 … 4 8; … ; 10 2 … 9 17; 10 2 … 9 11]     \n",
       " [11 6 … 4 8; 11 6 … 4 8; … ; 11 15 … 12 15; 11 15 … 9 11]  \n",
       " [12 17 … 4 8; 12 17 … 4 8; … ; 12 17 … 12 15; 12 17 … 9 11]\n",
       " [13 15 … 4 8; 13 15 … 4 8; … ; 13 15 … 12 15; 13 15 … 9 11]\n",
       " [14 15 … 4 8; 14 15 … 4 8; … ; 14 15 … 12 15; 14 15 … 9 11]\n",
       " [15 11 … 4 8; 15 8 … 4 8; … ; 15 11 … 12 15; 15 11 … 9 11] \n",
       " [16 4 … 4 8; 16 4 … 4 8; … ; 16 4 … 9 17; 16 4 … 9 11]     \n",
       " [17 12 … 4 8; 17 12 … 4 8; … ; 17 12 … 12 15; 17 9 … 9 11] "
      ]
     },
     "execution_count": 27,
     "metadata": {},
     "output_type": "execute_result"
    }
   ],
   "source": [
    "caminata_M = @time random_walk(multiplex, 50, 10) #nuevo"
   ]
  },
  {
   "cell_type": "code",
   "execution_count": 39,
   "metadata": {},
   "outputs": [
    {
     "data": {
      "text/plain": [
       "10×51 Array{Int64,2}:\n",
       " 1  8   4  17  12  17   4  17  12  15  …  14   3  14   3  14   3   8   4   8\n",
       " 1  8   2  10   2  10   2   8   5   7     11   4  11   9   8   9  17   4   8\n",
       " 1  8   9  17  12  15   8  15   8   4     11   4  16   4   8   1   8   2   8\n",
       " 1  8   9  11   6  11  15  11   6  11      8  15  13  15  12  17   4  17  12\n",
       " 1  8   3   8   5   7   5   7   5   8      8  15  13  15  12  17  12  15  13\n",
       " 1  8  15  14  15  13  15  13  15   8  …   7   5   7   5   8   2  10   2  10\n",
       " 1  8   3   8   2  10   2  10   2  10      7   5   8   1   8   3  14   3  14\n",
       " 1  8   4  11   9   8   3  14   3  14     15  11  15  13  15  14  15  11   9\n",
       " 1  8   2  10   2  10   2  10   2   8      3   8   4   8  15  13  15  12  15\n",
       " 1  8   5   8  15  14  15  14  15  13     15  12  17   9   8   4   8   9  11"
      ]
     },
     "execution_count": 39,
     "metadata": {},
     "output_type": "execute_result"
    }
   ],
   "source": [
    "caminata_M[1]"
   ]
  },
  {
   "cell_type": "code",
   "execution_count": 28,
   "metadata": {},
   "outputs": [
    {
     "name": "stdout",
     "output_type": "stream",
     "text": [
      "  0.098353 seconds (201.93 k allocations: 9.796 MiB)\n"
     ]
    },
    {
     "data": {
      "text/plain": [
       "17-element Array{Array,1}:\n",
       " [51, 51, 51, 51, 51, 51, 51, 51, 51, 51]\n",
       " [51, 51, 51, 51, 51, 51, 51, 51, 51, 51]\n",
       " [51, 51, 51, 51, 51, 51, 51, 51, 51, 51]\n",
       " [51, 51, 51, 51, 51, 51, 51, 51, 51, 51]\n",
       " [51, 51, 51, 51, 51, 51, 51, 51, 51, 51]\n",
       " [51, 51, 51, 51, 51, 51, 51, 51, 51, 51]\n",
       " [51, 51, 51, 51, 51, 51, 51, 51, 51, 51]\n",
       " [51, 51, 51, 51, 51, 51, 51, 51, 51, 51]\n",
       " [51, 51, 51, 51, 51, 51, 51, 51, 51, 51]\n",
       " [51, 51, 51, 51, 51, 51, 51, 51, 51, 51]\n",
       " [51, 51, 51, 51, 51, 51, 51, 51, 51, 51]\n",
       " [51, 51, 51, 51, 51, 51, 51, 51, 51, 51]\n",
       " [51, 51, 51, 51, 51, 51, 51, 51, 51, 51]\n",
       " [51, 51, 51, 51, 51, 51, 51, 51, 51, 51]\n",
       " [51, 51, 51, 51, 51, 51, 51, 51, 51, 51]\n",
       " [51, 51, 51, 51, 51, 51, 51, 51, 51, 51]\n",
       " [51, 51, 51, 51, 51, 51, 51, 51, 51, 51]"
      ]
     },
     "execution_count": 28,
     "metadata": {},
     "output_type": "execute_result"
    }
   ],
   "source": [
    "li_M = @time walk_length(caminata_M)"
   ]
  },
  {
   "cell_type": "code",
   "execution_count": 29,
   "metadata": {},
   "outputs": [
    {
     "name": "stdout",
     "output_type": "stream",
     "text": [
      "  0.083531 seconds (196.68 k allocations: 10.132 MiB)\n"
     ]
    },
    {
     "data": {
      "text/plain": [
       "17-element Array{Float64,1}:\n",
       " 51.0\n",
       " 51.0\n",
       " 51.0\n",
       " 51.0\n",
       " 51.0\n",
       " 51.0\n",
       " 51.0\n",
       " 51.0\n",
       " 51.0\n",
       " 51.0\n",
       " 51.0\n",
       " 51.0\n",
       " 51.0\n",
       " 51.0\n",
       " 51.0\n",
       " 51.0\n",
       " 51.0"
      ]
     },
     "execution_count": 29,
     "metadata": {},
     "output_type": "execute_result"
    }
   ],
   "source": [
    "lpn_M = @time walk_av_length(caminata_M)"
   ]
  },
  {
   "cell_type": "code",
   "execution_count": 83,
   "metadata": {},
   "outputs": [
    {
     "data": {
      "image/png": "[encoded data removed]"
     },
     "execution_count": 83,
     "metadata": {},
     "output_type": "execute_result"
    }
   ],
   "source": [
    "plot_av_length_vertex(caminata_M, \"2B\")"
   ]
  },
  {
   "cell_type": "code",
   "execution_count": 31,
   "metadata": {},
   "outputs": [
    {
     "name": "stdout",
     "output_type": "stream",
     "text": [
      "  0.045186 seconds (52.29 k allocations: 2.789 MiB)\n"
     ]
    },
    {
     "data": {
      "text/plain": [
       "17-element Array{Any,1}:\n",
       " Any[[1, 8, 4, 17, 12, 15, 11, 9, 2, 5, 7, 3, 14], [1, 8, 2, 10, 5, 7, 15, 12, 17, 9, 11, 4, 16, 6], [1, 8, 9, 17, 12, 15, 4, 2, 16, 3, 14, 5, 7, 11], [1, 8, 9, 11, 6, 15, 4, 17, 12, 16, 3, 14, 13], [1, 8, 3, 5, 7, 15, 11, 9, 4, 6, 14, 13, 12, 17, 16], [1, 8, 15, 14, 13, 9, 11, 17, 4, 16, 3, 12, 5, 7, 2, 10], [1, 8, 3, 2, 10, 15, 14, 11, 6, 4, 9, 13, 12, 17, 16, 5, 7], [1, 8, 4, 11, 9, 3, 14, 15, 13, 12, 17, 16], [1, 8, 2, 10, 4, 16, 15, 13, 14, 11, 9, 17, 12, 3], [1, 8, 5, 15, 14, 13, 12, 17, 3, 11, 6, 4, 9]]          \n",
       " Any[[2, 10, 8, 3, 9, 4, 17, 14, 15, 12, 11, 1], [2, 10, 8, 5, 7, 1, 15, 12, 17, 9, 11, 4, 16, 6], [2, 10, 8, 9, 17, 4, 1, 3, 14, 15, 16, 11, 12, 13, 5, 7], [2, 10, 8, 3, 9, 14, 15, 11, 13, 4, 17, 12], [2, 8, 3, 5, 7, 15, 11, 9, 4, 6, 14, 13, 12, 17, 16], [2, 8, 15, 14, 13, 9, 11, 17, 4, 16, 1, 3, 12, 5, 7, 10], [2, 8, 3, 10, 15, 14, 11, 6, 4, 9, 13, 12, 17, 16, 1, 5, 7], [2, 8, 4, 11, 9, 3, 14, 15, 13, 12, 17, 16], [2, 10, 8, 4, 16, 1, 15, 13, 14, 11, 9, 17, 12, 3], [2, 10, 8, 5, 7, 9, 11, 3, 14, 15, 6, 13, 12, 4, 17]]\n",
       " Any[[3, 14, 15, 8, 9, 2, 4, 17, 12, 11, 1], [3, 14, 15, 12, 17, 9, 11, 4, 8, 16, 5, 13], [3, 14, 15, 13, 12, 17, 9, 8, 2, 4, 16, 5, 7, 1, 11], [3, 14, 15, 13, 8, 9, 11, 4, 17, 12], [3, 8, 5, 7, 15, 11, 9, 4, 6, 14, 13, 12, 17, 16], [3, 8, 15, 14, 13, 9, 11, 17, 4, 16, 1, 12, 5, 7, 2, 10], [3, 8, 2, 10, 15, 14, 11, 6, 4, 9, 13, 12, 17, 16, 1, 5, 7], [3, 8, 4, 11, 9, 14, 15, 13, 12, 17, 16], [3, 14, 15, 13, 8, 5, 7, 9, 17, 12, 4, 16, 1, 2, 10], [3, 14, 15, 13, 12, 17, 11, 6, 4, 9, 8]]                                     \n",
       " Any[[4, 11, 9, 8, 15, 3, 14, 2, 17, 12, 1], [4, 11, 9, 8, 5, 2, 7, 1, 15, 12, 17, 16, 6], [4, 11, 9, 17, 12, 15, 8, 2, 16, 3, 14, 5, 7, 1], [4, 11, 15, 13, 8, 3, 9, 14, 17, 12], [4, 16, 8, 5, 7, 15, 11, 9, 6, 14, 13, 3, 12, 17], [4, 16, 8, 2, 15, 13, 9, 11, 17, 1, 3, 14, 12, 5, 7, 10], [4, 16, 8, 2, 10, 15, 14, 11, 6, 9, 13, 12, 17, 1, 5, 7, 3], [4, 16, 11, 9, 8, 3, 14, 15, 13, 12, 17], [4, 17, 9, 8, 3, 14, 15, 13, 5, 7, 12, 16, 1, 2, 10], [4, 17, 9, 8, 15, 14, 13, 12, 3, 11, 6]]                                        \n",
       " Any[[5, 8, 4, 17, 12, 15, 11, 9, 2, 7, 1, 3, 14], [5, 8, 2, 10, 7, 1, 15, 12, 17, 9, 11, 4, 16, 6], [5, 8, 9, 17, 12, 15, 4, 2, 16, 3, 14, 7, 1, 11], [5, 8, 9, 11, 6, 15, 4, 17, 12, 16, 3, 14, 13], [5, 7, 8, 15, 11, 9, 4, 6, 14, 13, 3, 12, 17, 16], [5, 7, 8, 3, 14, 15, 9, 2, 10, 1, 4, 13], [5, 7, 8, 1, 4, 11, 15, 12, 17, 9, 3, 16, 14], [5, 7, 8, 9, 3, 14, 15, 13, 12, 17, 4, 11, 16], [5, 8, 2, 10, 4, 16, 1, 15, 13, 14, 11, 9, 17, 12, 3], [5, 8, 15, 14, 13, 12, 17, 3, 11, 6, 4, 9]]                                        \n",
       " Any[[6, 11, 9, 8, 15, 3, 14, 2, 4, 17, 12, 1], [6, 11, 9, 8, 5, 2, 7, 1, 15, 12, 17, 4, 16], [6, 11, 9, 17, 12, 15, 8, 4, 2, 16, 3, 14, 5, 7, 1], [6, 11, 15, 13, 8, 3, 9, 14, 4, 17, 12], [6, 11, 15, 13, 12, 17, 9, 8, 3, 5, 7, 2, 10, 4, 1, 14], [6, 11, 15, 14, 13, 8, 9, 17, 4, 16, 1, 3, 12, 5, 7, 2, 10], [6, 11, 15, 9, 4, 8, 12, 17, 3, 5, 7, 16, 1, 14], [6, 11, 4, 9, 8, 3, 14, 15, 13, 12, 17, 16], [6, 11, 4, 9, 8, 15, 13, 5, 7, 17, 12, 16, 1, 2, 10, 3], [6, 11, 4, 9, 17, 16, 8, 15, 12, 14, 3, 13]]                       \n",
       " Any[[7, 5, 8, 1, 4, 17, 9, 2, 11, 15, 3, 14], [7, 5, 8, 3, 14, 4, 16, 15, 13, 9, 17], [7, 5, 8, 15, 4, 17, 9, 2, 16, 3, 14, 1, 11], [7, 5, 8, 4, 11, 9, 1, 16, 15, 14, 3, 13, 12, 17], [7, 5, 8, 1, 3, 14, 2, 10, 4, 9, 11], [7, 5, 8, 1, 3, 15, 11, 4, 9, 2, 16, 14, 13, 10], [7, 5, 8, 4, 16, 9, 17, 1, 11, 3, 15, 14], [7, 5, 8, 15, 2, 10, 1, 3, 14, 13, 12, 11, 9, 4], [7, 5, 8, 9, 11, 4, 3, 6, 15, 14, 17], [7, 5, 8, 1, 3, 14, 2, 4, 16, 11, 9]]                                                                                    \n",
       " Any[[8, 9, 11, 15, 14, 3, 2, 5, 7, 1, 4, 17], [8, 15, 3, 9, 17, 4, 11, 16, 5, 14, 13], [8, 5, 7, 15, 4, 17, 9, 2, 16, 3, 14, 1, 11], [8, 5, 4, 11, 9, 1, 16, 15, 14, 3, 13, 12, 17], [8, 9, 11, 4, 17, 3, 5, 7, 2, 10, 1, 14], [8, 9, 1, 3, 5, 7, 15, 11, 4, 2, 16, 14, 13, 10], [8, 1, 4, 16, 9, 17, 5, 11, 3, 7, 15, 14], [8, 2, 5, 7, 15, 10, 1, 3, 14, 13, 12, 11, 9, 4], [8, 4, 15, 13, 17, 12, 11, 9, 3, 6, 14], [8, 1, 3, 5, 14, 2, 4, 16, 11, 9, 7]]                                                                                \n",
       " Any[[9, 17, 8, 15, 3, 14, 2, 4, 12, 11, 1], [9, 17, 12, 4, 11, 15, 8, 16, 3, 5, 14, 13], [9, 8, 17, 12, 15, 4, 2, 16, 3, 14, 5, 7, 1, 11], [9, 11, 15, 13, 8, 3, 14, 4, 17, 12], [9, 11, 15, 13, 12, 17, 8, 3, 5, 7, 2, 10, 4, 1, 14], [9, 17, 4, 8, 2, 15, 13, 11, 16, 1, 3, 14, 12, 5, 7, 10], [9, 8, 3, 2, 10, 15, 14, 11, 6, 4, 13, 12, 17, 16, 1, 5, 7], [9, 8, 4, 11, 3, 14, 15, 13, 12, 17, 16], [9, 17, 8, 3, 14, 15, 13, 5, 7, 12, 4, 16, 1, 2, 10], [9, 11, 4, 17, 16, 8, 15, 12, 14, 3, 6, 13]]                                  \n",
       " Any[[10, 2, 8, 5, 7, 1, 4, 17, 9, 11, 15, 3, 14], [10, 2, 8, 3, 9, 17, 4, 11, 16, 5, 14, 15, 13], [10, 2, 8, 15, 11, 9, 4, 16, 3, 14, 5, 7, 1], [10, 2, 8, 4, 16, 1, 11, 9, 15, 14, 3, 13, 12, 17], [10, 2, 8, 3, 5, 7, 4, 9, 1, 14, 11], [10, 2, 8, 5, 7, 15, 11, 4, 9, 1, 16, 3, 14, 13], [10, 2, 8, 3, 9, 17, 4, 5, 1, 11, 7, 15, 16, 14], [10, 2, 8, 5, 7, 15, 1, 3, 14, 13, 12, 11, 9, 4], [10, 2, 8, 15, 13, 4, 17, 12, 11, 9, 3, 6, 14], [10, 2, 8, 3, 5, 1, 14, 4, 16, 11, 9, 7]]                                                   \n",
       " Any[[11, 6, 15, 14, 3, 8, 2, 5, 7, 1, 4, 17, 9], [11, 6, 15, 12, 17, 14, 3, 8, 4, 16, 5, 13, 9], [11, 6, 15, 9, 4, 8, 2, 16, 3, 14, 5, 7, 1], [11, 6, 4, 9, 8, 1, 16, 15, 14, 3, 13, 12, 17], [11, 9, 4, 17, 8, 3, 5, 7, 2, 10, 1, 14], [11, 9, 8, 1, 3, 5, 7, 15, 4, 2, 16, 14, 13, 10], [11, 9, 8, 4, 16, 17, 5, 1, 3, 7, 15, 14], [11, 9, 8, 5, 7, 15, 2, 10, 1, 3, 14, 13, 12, 4], [11, 15, 12, 17, 9, 8, 13, 5, 7, 4, 16, 1, 2, 10, 3], [11, 15, 14, 13, 12, 9, 8, 17, 3, 6, 4]]                                                       \n",
       " Any[[12, 17, 9, 8, 15, 3, 14, 2, 4, 11, 1], [12, 17, 4, 11, 15, 9, 8, 16, 3, 5, 14, 13], [12, 17, 9, 15, 8, 4, 2, 16, 3, 14, 5, 7, 1, 11], [12, 17, 15, 14, 3, 8, 4, 16, 1, 11, 9, 13], [12, 15, 11, 9, 17, 8, 3, 5, 7, 2, 10, 4, 1, 14], [12, 15, 11, 9, 8, 5, 7, 4, 2, 1, 16, 3, 14, 13, 10], [12, 15, 14, 3, 8, 9, 17, 4, 5, 1, 11, 7, 16], [12, 15, 14, 13, 17, 4, 16, 8, 5, 7, 2, 10, 3, 11, 9], [12, 17, 9, 8, 3, 14, 15, 13, 5, 7, 4, 16, 1, 2, 10], [12, 17, 9, 8, 15, 14, 13, 3, 11, 6, 4]]                                        \n",
       " Any[[13, 15, 12, 17, 4, 11, 9, 8, 2, 5, 7, 1, 3, 14], [13, 15, 8, 3, 9, 17, 4, 11, 16, 5, 14], [13, 15, 8, 11, 9, 4, 2, 16, 3, 14, 5, 7, 1], [13, 15, 12, 14, 3, 8, 4, 16, 1, 11, 9, 17], [13, 15, 12, 11, 9, 17, 8, 3, 5, 7, 2, 10, 4, 1, 14], [13, 15, 12, 11, 9, 8, 5, 7, 4, 2, 1, 16, 3, 14, 10], [13, 15, 14, 3, 8, 9, 17, 4, 5, 1, 11, 7, 16], [13, 15, 14, 12, 17, 4, 16, 8, 5, 7, 2, 10, 3, 11, 9], [13, 15, 12, 17, 9, 8, 11, 5, 7, 4, 16, 1, 2, 10, 3], [13, 15, 14, 12, 11, 9, 8, 17, 3, 6, 4]]                                  \n",
       " Any[[14, 15, 12, 17, 4, 11, 9, 8, 2, 5, 7, 1, 3], [14, 15, 8, 3, 9, 17, 4, 11, 16, 5, 13], [14, 15, 8, 11, 9, 4, 2, 16, 3, 5, 7, 1], [14, 15, 12, 3, 8, 4, 16, 1, 11, 9, 13, 17], [14, 3, 8, 5, 7, 2, 10, 4, 9, 1, 11], [14, 3, 8, 5, 7, 15, 11, 4, 9, 2, 1, 16, 13, 10], [14, 3, 8, 9, 17, 4, 5, 1, 11, 7, 15, 16], [14, 3, 8, 5, 7, 15, 2, 10, 1, 13, 12, 11, 9, 4], [14, 15, 12, 17, 9, 8, 11, 13, 5, 7, 4, 16, 1, 2, 10, 3], [14, 15, 13, 12, 11, 9, 8, 17, 3, 6, 4]]                                                                   \n",
       " Any[[15, 11, 9, 8, 3, 14, 2, 4, 17, 12, 1], [15, 8, 2, 10, 5, 7, 1, 12, 17, 9, 11, 4, 16, 6], [15, 13, 12, 17, 4, 9, 8, 2, 16, 3, 14, 5, 7, 1, 11], [15, 14, 13, 8, 3, 9, 11, 4, 17, 12], [15, 14, 13, 12, 17, 9, 8, 3, 5, 7, 2, 10, 4, 1, 11], [15, 8, 14, 13, 9, 11, 17, 4, 16, 1, 3, 12, 5, 7, 2, 10], [15, 14, 11, 9, 4, 8, 12, 17, 3, 5, 7, 16, 1], [15, 13, 11, 9, 8, 3, 14, 12, 17, 4, 16], [15, 11, 4, 9, 8, 13, 5, 7, 17, 12, 16, 1, 2, 10, 3], [15, 11, 4, 9, 17, 16, 8, 12, 14, 3, 6, 13]]                                       \n",
       " Any[[16, 4, 8, 5, 7, 1, 17, 9, 2, 11, 15, 3, 14], [16, 4, 8, 9, 17, 11, 3, 5, 14, 15, 13], [16, 4, 11, 9, 8, 2, 3, 14, 5, 7, 1], [16, 4, 17, 9, 8, 15, 1, 11, 14, 3, 13, 12], [16, 4, 17, 11, 9, 8, 3, 5, 7, 2, 10, 1, 14], [16, 4, 17, 9, 8, 5, 7, 15, 11, 2, 1, 3, 14, 13, 10], [16, 4, 17, 9, 8, 3, 5, 1, 11, 7, 15, 14], [16, 4, 8, 5, 7, 15, 2, 10, 1, 3, 14, 13, 12, 11, 9], [16, 4, 8, 15, 13, 17, 12, 11, 9, 3, 6, 14], [16, 4, 8, 3, 5, 1, 14, 2, 11, 9, 7]]                                                                       \n",
       " Any[[17, 12, 15, 13, 8, 3, 14, 9, 2, 4, 11, 1], [17, 12, 15, 14, 9, 11, 4, 8, 16, 3, 5, 13], [17, 4, 16, 11, 9, 8, 2, 3, 14, 5, 7, 1], [17, 9, 8, 15, 1, 4, 16, 11, 14, 3, 13, 12], [17, 9, 11, 4, 8, 3, 5, 7, 2, 10, 1, 14], [17, 12, 9, 4, 8, 5, 7, 15, 11, 2, 1, 16, 3, 14, 13, 10], [17, 4, 9, 8, 3, 5, 1, 11, 7, 15, 16, 14], [17, 4, 8, 5, 7, 15, 2, 10, 1, 3, 14, 13, 12, 11, 9], [17, 12, 15, 13, 14, 3, 8, 5, 7, 9, 4, 16, 1, 2, 10], [17, 9, 11, 6, 15, 13, 12, 8, 3, 14, 4]]                                                     "
      ]
     },
     "execution_count": 31,
     "metadata": {},
     "output_type": "execute_result"
    }
   ],
   "source": [
    "nv_M = @time visited_vertices(caminata_M)"
   ]
  },
  {
   "cell_type": "code",
   "execution_count": 44,
   "metadata": {},
   "outputs": [
    {
     "name": "stdout",
     "output_type": "stream",
     "text": [
      "  1.597480 seconds (13.47 M allocations: 483.622 MiB, 42.04% gc time)\n"
     ]
    },
    {
     "data": {
      "text/plain": [
       "10×51 Array{Int64,2}:\n",
       " 1  8   4  17  12  17   4  17  12  15  …  14   3  14   3  14   3   8   4   8\n",
       " 1  8   2  10   2  10   2   8   5   7     11   4  11   9   8   9  17   4   8\n",
       " 1  8   9  17  12  15   8  15   8   4     11   4  16   4   8   1   8   2   8\n",
       " 1  8   9  11   6  11  15  11   6  11      8  15  13  15  12  17   4  17  12\n",
       " 1  8   3   8   5   7   5   7   5   8      8  15  13  15  12  17  12  15  13\n",
       " 1  8  15  14  15  13  15  13  15   8  …   7   5   7   5   8   2  10   2  10\n",
       " 1  8   3   8   2  10   2  10   2  10      7   5   8   1   8   3  14   3  14\n",
       " 1  8   4  11   9   8   3  14   3  14     15  11  15  13  15  14  15  11   9\n",
       " 1  8   2  10   2  10   2  10   2   8      3   8   4   8  15  13  15  12  15\n",
       " 1  8   5   8  15  14  15  14  15  13     15  12  17   9   8   4   8   9  11"
      ]
     },
     "execution_count": 44,
     "metadata": {},
     "output_type": "execute_result"
    }
   ],
   "source": [
    "@time walk_global(caminata_M, \"2B\", 1)"
   ]
  },
  {
   "cell_type": "code",
   "execution_count": 45,
   "metadata": {},
   "outputs": [
    {
     "name": "stdout",
     "output_type": "stream",
     "text": [
      "  2.092491 seconds (13.47 M allocations: 483.638 MiB, 67.79% gc time)\n"
     ]
    },
    {
     "data": {
      "text/plain": [
       "10×51 Array{Union{Nothing, String},2}:\n",
       " \"AER\"  \"KZN\"  \"DME\"  \"UUA\"  \"NJC\"  …  \"OVB\"  \"CEK\"  \"KZN\"  \"DME\"  \"KZN\"\n",
       " \"AER\"  \"KZN\"  \"ASF\"  \"MRV\"  \"ASF\"     \"KZN\"  \"LED\"  \"UUA\"  \"DME\"  \"KZN\"\n",
       " \"AER\"  \"KZN\"  \"LED\"  \"UUA\"  \"NJC\"     \"KZN\"  \"AER\"  \"KZN\"  \"ASF\"  \"KZN\"\n",
       " \"AER\"  \"KZN\"  \"LED\"  \"NBC\"  \"GYD\"     \"NJC\"  \"UUA\"  \"DME\"  \"UUA\"  \"NJC\"\n",
       " \"AER\"  \"KZN\"  \"CEK\"  \"KZN\"  \"EGO\"     \"NJC\"  \"UUA\"  \"NJC\"  \"SVX\"  \"NUX\"\n",
       " \"AER\"  \"KZN\"  \"SVX\"  \"OVB\"  \"SVX\"  …  \"KZN\"  \"ASF\"  \"MRV\"  \"ASF\"  \"MRV\"\n",
       " \"AER\"  \"KZN\"  \"CEK\"  \"KZN\"  \"ASF\"     \"KZN\"  \"CEK\"  \"OVB\"  \"CEK\"  \"OVB\"\n",
       " \"AER\"  \"KZN\"  \"DME\"  \"NBC\"  \"LED\"     \"SVX\"  \"OVB\"  \"SVX\"  \"NBC\"  \"LED\"\n",
       " \"AER\"  \"KZN\"  \"ASF\"  \"MRV\"  \"ASF\"     \"SVX\"  \"NUX\"  \"SVX\"  \"NJC\"  \"SVX\"\n",
       " \"AER\"  \"KZN\"  \"EGO\"  \"KZN\"  \"SVX\"     \"KZN\"  \"DME\"  \"KZN\"  \"LED\"  \"NBC\""
      ]
     },
     "execution_count": 45,
     "metadata": {},
     "output_type": "execute_result"
    }
   ],
   "source": [
    "@time walk_names(caminata_M, \"2B\", 1)"
   ]
  },
  {
   "cell_type": "code",
   "execution_count": 34,
   "metadata": {},
   "outputs": [
    {
     "name": "stdout",
     "output_type": "stream",
     "text": [
      "  0.187578 seconds (540.47 k allocations: 27.372 MiB, 4.65% gc time)\n"
     ]
    },
    {
     "data": {
      "text/plain": [
       "17×18 Array{Float64,2}:\n",
       " 0.0  1.9  2.4  3.5  4.8  2.2  0.7  1.4  …  4.7  2.3  1.6  3.7  5.9  0.9  2.6\n",
       " 0.0  0.9  4.3  3.8  3.8  2.2  0.5  1.6     3.9  2.2  1.8  3.9  5.9  0.7  2.4\n",
       " 0.0  0.8  1.4  7.2  3.6  1.9  0.4  1.1     3.1  2.4  2.1  6.9  6.7  0.8  2.3\n",
       " 0.0  0.9  1.7  4.3  5.2  2.4  0.5  1.4     4.0  2.3  1.8  4.6  6.3  1.2  2.5\n",
       " 0.0  1.2  2.0  3.3  4.5  4.4  0.6  2.3     4.3  2.3  1.5  3.4  5.7  0.8  2.4\n",
       " 0.0  1.1  1.6  4.3  4.3  3.2  1.3  1.9  …  4.7  2.2  1.4  3.9  5.2  0.8  2.4\n",
       " 0.0  2.0  1.7  5.9  4.2  5.7  0.2  4.2     2.9  0.4  0.4  4.6  2.5  0.8  0.8\n",
       " 0.0  2.0  1.8  5.9  4.7  3.9  0.2  2.1     3.4  0.5  0.5  4.7  3.1  0.8  1.2\n",
       " 0.0  1.0  2.0  5.4  4.1  2.3  0.3  1.4     3.3  2.2  1.5  5.0  5.5  0.8  2.8\n",
       " 0.0  1.7  3.8  5.5  4.2  3.8  0.2  2.1     3.2  0.5  0.5  4.2  2.7  0.7  1.1\n",
       " 0.0  1.7  1.9  4.8  4.0  3.7  0.6  2.1  …  4.3  1.4  1.1  4.2  4.8  0.8  1.2\n",
       " 0.0  1.2  2.0  5.4  4.0  3.1  0.2  1.7     2.6  2.7  1.1  5.0  5.2  0.9  2.3\n",
       " 0.0  1.3  2.0  4.7  4.2  3.4  0.2  1.9     3.3  1.6  2.3  4.1  5.5  0.9  1.7\n",
       " 0.0  1.5  1.9  5.6  3.9  3.7  0.2  2.1     3.0  1.5  1.1  5.4  4.8  0.7  1.5\n",
       " 0.0  1.1  1.8  4.3  4.2  3.1  0.3  1.9     4.0  2.4  1.6  4.2  6.2  0.8  2.6\n",
       " 0.0  1.8  1.7  5.4  5.8  3.8  0.2  2.1  …  3.3  0.5  0.5  4.2  2.7  2.0  1.7\n",
       " 0.0  1.5  1.9  4.7  4.3  3.4  0.3  1.9     3.0  1.8  1.2  4.0  4.8  0.8  2.7"
      ]
     },
     "execution_count": 34,
     "metadata": {},
     "output_type": "execute_result"
    }
   ],
   "source": [
    "distrib_prom_M = @time distrib_av_visits(caminata_M)"
   ]
  },
  {
   "cell_type": "code",
   "execution_count": 52,
   "metadata": {},
   "outputs": [
    {
     "data": {
      "image/png": "[encoded data removed]"
     },
     "execution_count": 52,
     "metadata": {},
     "output_type": "execute_result"
    }
   ],
   "source": [
    "plot_freq_av_visits(caminata_M, \"2B\")"
   ]
  },
  {
   "cell_type": "code",
   "execution_count": 36,
   "metadata": {},
   "outputs": [
    {
     "name": "stdout",
     "output_type": "stream",
     "text": [
      "  0.032565 seconds (22.11 k allocations: 1.345 MiB)\n"
     ]
    },
    {
     "data": {
      "text/plain": [
       "17-element Array{Any,1}:\n",
       " [13, 14, 14, 13, 15, 16, 17, 12, 14, 13]\n",
       " [12, 14, 16, 12, 15, 16, 17, 12, 14, 15]\n",
       " [11, 12, 15, 10, 14, 16, 17, 11, 15, 11]\n",
       " [11, 13, 14, 10, 14, 16, 17, 11, 15, 11]\n",
       " [13, 14, 14, 13, 14, 12, 13, 13, 15, 12]\n",
       " [12, 13, 15, 11, 16, 17, 14, 12, 16, 12]\n",
       " [12, 11, 13, 14, 11, 14, 12, 14, 11, 11]\n",
       " [12, 11, 13, 13, 12, 14, 12, 14, 11, 11]\n",
       " [11, 12, 14, 10, 15, 16, 17, 11, 15, 12]\n",
       " [13, 13, 13, 14, 11, 14, 14, 14, 13, 12]\n",
       " [13, 13, 13, 13, 12, 14, 12, 14, 15, 11]\n",
       " [11, 12, 14, 12, 14, 15, 13, 15, 15, 11]\n",
       " [14, 11, 13, 12, 15, 15, 13, 15, 15, 11]\n",
       " [13, 11, 12, 12, 11, 14, 12, 14, 16, 11]\n",
       " [11, 14, 15, 10, 15, 16, 13, 11, 15, 12]\n",
       " [13, 11, 11, 12, 13, 15, 12, 15, 12, 11]\n",
       " [12, 12, 12, 12, 12, 16, 12, 15, 15, 11]"
      ]
     },
     "execution_count": 36,
     "metadata": {},
     "output_type": "execute_result"
    }
   ],
   "source": [
    "cobi_M = @time coverage(caminata_M)"
   ]
  },
  {
   "cell_type": "code",
   "execution_count": 37,
   "metadata": {},
   "outputs": [
    {
     "name": "stdout",
     "output_type": "stream",
     "text": [
      "  0.015758 seconds (21.48 k allocations: 1.381 MiB)\n"
     ]
    },
    {
     "data": {
      "text/plain": [
       "17-element Array{Float64,1}:\n",
       " 14.1\n",
       " 14.3\n",
       " 13.2\n",
       " 13.2\n",
       " 13.3\n",
       " 13.8\n",
       " 12.3\n",
       " 12.3\n",
       " 13.3\n",
       " 13.1\n",
       " 13.0\n",
       " 13.2\n",
       " 13.4\n",
       " 12.6\n",
       " 13.2\n",
       " 12.5\n",
       " 12.9"
      ]
     },
     "execution_count": 37,
     "metadata": {},
     "output_type": "execute_result"
    }
   ],
   "source": [
    "cobs_M = @time vertex_coverage(caminata_M)"
   ]
  },
  {
   "cell_type": "code",
   "execution_count": 81,
   "metadata": {},
   "outputs": [
    {
     "data": {
      "image/png": "[encoded data removed]"
     },
     "execution_count": 81,
     "metadata": {},
     "output_type": "execute_result"
    }
   ],
   "source": [
    "plot_vertex_coverage(caminata_M, \"2B\")"
   ]
  },
  {
   "cell_type": "code",
   "execution_count": null,
   "metadata": {},
   "outputs": [],
   "source": []
  }
 ],
 "metadata": {
  "kernelspec": {
   "display_name": "Julia 1.1.0",
   "language": "julia",
   "name": "julia-1.1"
  },
  "language_info": {
   "file_extension": ".jl",
   "mimetype": "application/julia",
   "name": "julia",
   "version": "1.1.0"
  }
 },
 "nbformat": 4,
 "nbformat_minor": 2
}
