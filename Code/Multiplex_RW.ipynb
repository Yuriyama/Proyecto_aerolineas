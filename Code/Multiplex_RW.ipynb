{
 "cells": [
  {
   "cell_type": "markdown",
   "metadata": {},
   "source": [
    "# Random Walks en Multiplex de Aerolíneas"
   ]
  },
  {
   "cell_type": "code",
   "execution_count": 1,
   "metadata": {},
   "outputs": [],
   "source": [
    "using StatsBase\n",
    "using DelimitedFiles\n",
    "using NamedArrays\n",
    "using CSV\n",
    "using LightGraphs\n",
    "using Plots\n",
    "using DataFrames"
   ]
  },
  {
   "cell_type": "code",
   "execution_count": 2,
   "metadata": {},
   "outputs": [],
   "source": [
    "cd(\"$(homedir())/Documents/UNAM/Tesis_Lic\")"
   ]
  },
  {
   "cell_type": "code",
   "execution_count": 7,
   "metadata": {},
   "outputs": [
    {
     "data": {
      "text/plain": [
       "n_in_degree (generic function with 1 method)"
      ]
     },
     "execution_count": 7,
     "metadata": {},
     "output_type": "execute_result"
    }
   ],
   "source": [
    "\"\"\"\n",
    "n_in_degree(M, n)\n",
    "\n",
    "Función que obtiene el grado de entrada de un cierto nodo n de la red representada por la matriz de adyacencia M.\n",
    "\n",
    "Parámetros:\n",
    "* M matriz de adyacencia que acepta un arreglo de tipo Array{Int64,2}\n",
    "* n nodo a evaluar de tipo Int64\n",
    "\n",
    "Resultado:\n",
    "Grado de entrada del nodo n representado por un valor numérico de tipo Int64\n",
    "\n",
    "## Implementación\n",
    "\n",
    "### Ejemplos\n",
    "\"\"\"\n",
    "\n",
    "function n_in_degree(M::Array{Int64,2}, n::Int64)\n",
    "    grado_entrada = sum(M[n, :])\n",
    "end"
   ]
  },
  {
   "cell_type": "code",
   "execution_count": 8,
   "metadata": {},
   "outputs": [
    {
     "data": {
      "text/plain": [
       "in_degree (generic function with 1 method)"
      ]
     },
     "execution_count": 8,
     "metadata": {},
     "output_type": "execute_result"
    }
   ],
   "source": [
    "\"\"\"\n",
    "in_degree(M)\n",
    "\n",
    "Función que obtiene el grado de entrada de una red representada por la matriz de adyacencia M.\n",
    "\n",
    "Parámetros:\n",
    "* M matriz de adyacencia que acepta un arreglo de tipo Array{Int64,2}\n",
    "\n",
    "Resultado:\n",
    "Devuelve un arreglo de tipo Array{Int64,2} que contiene los grados de entrada de todos los nodos n de la red.\n",
    "\n",
    "## Implementación\n",
    "\n",
    "### Ejemplos\n",
    "\"\"\"\n",
    "\n",
    "function in_degree(M::Array)\n",
    "    grados_entrada = sum(M, dims = 2)\n",
    "end"
   ]
  },
  {
   "cell_type": "code",
   "execution_count": 9,
   "metadata": {},
   "outputs": [
    {
     "data": {
      "text/plain": [
       "n_out_degree (generic function with 1 method)"
      ]
     },
     "execution_count": 9,
     "metadata": {},
     "output_type": "execute_result"
    }
   ],
   "source": [
    "\"\"\"\n",
    "n_out_degree(M, n)\n",
    "\n",
    "Función que obtiene el grado de salida de un cierto nodo n de la red representada por la matriz de adyacencia M.\n",
    "\n",
    "Parámetros:\n",
    "* M matriz de adyacencia que acepta un arreglo de tipo Array{Int64,2}\n",
    "* n nodo a evaluar de tipo Int64\n",
    "\n",
    "Resultado:\n",
    "Grado de salida del nodo n representado por un valor numérico de tipo Int64\n",
    "\n",
    "## Implementación\n",
    "\n",
    "### Ejemplos\n",
    "\"\"\"\n",
    "\n",
    "function n_out_degree(M::Array{Int64,2}, n::Int64)\n",
    "    grado_salida = sum(M[:, n])\n",
    "end"
   ]
  },
  {
   "cell_type": "code",
   "execution_count": 10,
   "metadata": {},
   "outputs": [
    {
     "data": {
      "text/plain": [
       "out_degree (generic function with 1 method)"
      ]
     },
     "execution_count": 10,
     "metadata": {},
     "output_type": "execute_result"
    }
   ],
   "source": [
    "\"\"\"\n",
    "out_degree(M)\n",
    "\n",
    "Función que obtiene el grado de salida de una red representada por la matriz de adyacencia M.\n",
    "\n",
    "Parámetros:\n",
    "* M matriz de adyacencia que acepta un arreglo de tipo Array{Int64,2}\n",
    "\n",
    "Resultado:\n",
    "Devuelve un arreglo de tipo Array{Int64,2} que contiene los grados de salida de todos los nodos n de la red.\n",
    "\n",
    "## Implementación\n",
    "\n",
    "### Ejemplos\n",
    "\"\"\"\n",
    "\n",
    "function out_degree(M::Array)\n",
    "    grados_salida = sum(M, dims = 1)\n",
    "end"
   ]
  },
  {
   "cell_type": "code",
   "execution_count": 28,
   "metadata": {},
   "outputs": [
    {
     "data": {
      "text/plain": [
       "r_walks (generic function with 1 method)"
      ]
     },
     "execution_count": 28,
     "metadata": {},
     "output_type": "execute_result"
    }
   ],
   "source": [
    "\"\"\"\n",
    "La función r_walks tiene como parámetros:\n",
    "M, matriz de adyacencia de tipo Array{Int64,2}\n",
    "f, nodo inicial de tipo Int64\n",
    "steps, número de pasos de tipo Int64\n",
    "iter, número de iteraciones de tipo Int64.\n",
    "La función crea un caminante aleatorio sobre la matriz, el cual tiene igual probabilidad de avanzar \n",
    "hacia cualquiera de sus vecinos.\n",
    "Regresa un arreglo que contiene todas las trayectorias que tomó el caminante aleatorio.\n",
    "\"\"\"\n",
    "\n",
    "function r_walks(M::Array{Int64,2}, f::Int64, steps::Int64, iter::Int64)\n",
    "    nodos = size(M, 1) #aeropuertos  \n",
    "    paths = zeros(Int64, (iter, steps + 1))\n",
    "    s = f\n",
    "\n",
    "    for i in 1:iter\n",
    "        paths[i, 1] = f\n",
    "        for p in 1:steps \n",
    "            row = M[s, :] #Renglón correspondiente al nodo s\n",
    "            vecinos = findall(x -> x != 0, row)\n",
    "            if vecinos == []\n",
    "                break\n",
    "            else\n",
    "                a = sample(vecinos)\n",
    "                paths[i, p + 1] = a\n",
    "            s = a\n",
    "            end\n",
    "        end\n",
    "        s = f\n",
    "    end\n",
    "    return paths \n",
    "end"
   ]
  },
  {
   "cell_type": "code",
   "execution_count": 11,
   "metadata": {},
   "outputs": [
    {
     "data": {
      "text/plain": [
       "random_walk (generic function with 1 method)"
      ]
     },
     "execution_count": 11,
     "metadata": {},
     "output_type": "execute_result"
    }
   ],
   "source": [
    "\"\"\"\n",
    "La función random_walk tiene como parámetros:\n",
    "M, matriz de adyacencia de tipo Array{Int64,2}\n",
    "steps, número de pasos de tipo Int64\n",
    "iter, número de iteraciones de tipo Int64.\n",
    "La función crea un caminante aleatorio sobre la matriz con igual probabilidad de avanzar \n",
    "hacia cualquiera de sus vecinos. Esta función recorre todos los nodos de la red como\n",
    "nodos iniciales y sobre ellos itera para obtener el número de caminos que se le pidió.\n",
    "Regresa un arreglo que contiene arreglos asociados a todas las trayectorias que tomó el \n",
    "caminante aleatorio para cada nodo inicial de la red.\n",
    "\"\"\"\n",
    "\n",
    "function random_walk(M::Array{Int64,2}, steps::Int64, iter::Int64) #Debo agregarle el nodo inicial al inicio del path\n",
    "    random_walks = []\n",
    "    nodos = size(M, 1)\n",
    "    for f in 1:nodos #aeropuertos\n",
    "        paths = r_walks(M, f, steps, iter)\n",
    "        push!(random_walks, paths)\n",
    "    end\n",
    "    random_walks\n",
    "end"
   ]
  },
  {
   "cell_type": "code",
   "execution_count": 12,
   "metadata": {},
   "outputs": [
    {
     "data": {
      "text/plain": [
       "walk_length (generic function with 1 method)"
      ]
     },
     "execution_count": 12,
     "metadata": {},
     "output_type": "execute_result"
    }
   ],
   "source": [
    "function walk_length(W)\n",
    "    \n",
    "    longitudes = Array[]\n",
    "    c = 0\n",
    "    v = length(W) #tamaño de la matriz, número de nodos\n",
    "    s = size(W[1], 1) #lo puedo sacar, para todos es el mismo. Es el número de iteraciones\n",
    "    t = size(W[1], 2) #número de pasos\n",
    "    longz = zeros(Int64, s) #Arreglo de ceros de tamaño número de iteraciones\n",
    "    \n",
    "    for i in 1:v\n",
    "        #@show i\n",
    "        for j in 1:s\n",
    "            #@show j\n",
    "            for k in 1:t\n",
    "                #@show k\n",
    "                \n",
    "                if W[i][j, :][k] != 0 #W[i][j, :] #renglón a analizar\n",
    "                    c += 1 \n",
    "                else\n",
    "                    break\n",
    "                    \n",
    "                    #@show c\n",
    "                    \n",
    "                    #@show long #ant[i][j] = W[i][j, :][k - 1]\n",
    "                    \n",
    "                end\n",
    "                \n",
    "            end\n",
    "            longz[j] = c - 1\n",
    "            #@show longz[j]\n",
    "            c = 0\n",
    "            \n",
    "        end\n",
    "        push!(longitudes, longz)\n",
    "        #@show longitudes\n",
    "        longz = zeros(Int64, s) #Arreglo de ceros de tamaño número de iteraciones\n",
    "    end\n",
    "    return longitudes\n",
    "end"
   ]
  },
  {
   "cell_type": "code",
   "execution_count": 13,
   "metadata": {},
   "outputs": [
    {
     "data": {
      "text/plain": [
       "walk_av_length (generic function with 1 method)"
      ]
     },
     "execution_count": 13,
     "metadata": {},
     "output_type": "execute_result"
    }
   ],
   "source": [
    "\"\"\"\n",
    "La función walk_av_length tiene como parámetro W, que es un arreglo de arreglos (que se puede obtener de la \n",
    "función walk_length). \n",
    "Regresa un arreglo con entradas correspondientes al promedio de las longitudes de \n",
    "las caminatas aleatorias para cada nodo de inicio antes de caer en un nodo con grado de salida 0.\n",
    "\"\"\"\n",
    "\n",
    "function walk_av_length(W) #Llamar a función\n",
    "    \n",
    "    proms = []\n",
    "    wlength = walk_length(W)\n",
    "    \n",
    "    for i in 1:length(wlength)\n",
    "        av = mean(wlength[i])\n",
    "        push!(proms, av)\n",
    "    end\n",
    "    proms\n",
    "end"
   ]
  },
  {
   "cell_type": "code",
   "execution_count": 14,
   "metadata": {},
   "outputs": [
    {
     "data": {
      "text/plain": [
       "n_cobertura (generic function with 1 method)"
      ]
     },
     "execution_count": 14,
     "metadata": {},
     "output_type": "execute_result"
    }
   ],
   "source": [
    "\"\"\"\n",
    "La función n_cobertura tiene como parámetro W que es un arreglo de arreglos.\n",
    "Regresa los nodos diferentes a los que llega el caminante.\n",
    "\"\"\"\n",
    "\n",
    "function n_cobertura(W)\n",
    "    \n",
    "    cobert = []\n",
    "    v = length(W) #tamaño de la matriz, número de nodos\n",
    "    s = size(W[1], 1) #lo puedo sacar, para todos es el mismo. Es el número de iteraciones\n",
    "    t = size(W[1], 2) #número de pasos\n",
    "    #visit = zeros(Int64, s) #Arreglo de ceros de tamaño número de iteraciones\n",
    "    visit = []\n",
    "    \n",
    "    for i in 1:v        \n",
    "        for j in 1:s\n",
    "            u = unique(W[i][j, :])\n",
    "            push!(visit, u)\n",
    "        end\n",
    "        push!(cobert, visit)\n",
    "        visit = []\n",
    "    end\n",
    "    return cobert\n",
    "end"
   ]
  },
  {
   "cell_type": "code",
   "execution_count": 15,
   "metadata": {},
   "outputs": [
    {
     "data": {
      "text/plain": [
       "cobertura (generic function with 1 method)"
      ]
     },
     "execution_count": 15,
     "metadata": {},
     "output_type": "execute_result"
    }
   ],
   "source": [
    "\"\"\"\n",
    "La función cobertura tiene como parámetro W que es un arreglo de arreglos.\n",
    "Regresa el número de nodos diferentes a los que llega el caminante.\n",
    "\"\"\"\n",
    "\n",
    "#Tal vez falta llamar dentro de la función a la función n_cobertura\n",
    "\n",
    "function cobertura(W) \n",
    "    \n",
    "    cobert = []\n",
    "    \n",
    "    v = length(W) #tamaño de la matriz, número de nodos\n",
    "    x = n_cobertura(W)\n",
    "    s = size(x[1], 1) #lo puedo sacar, para todos es el mismo. Es el número de iteraciones\n",
    "    longz = zeros(Int64, s) #Arreglo de ceros de tamaño número de iteraciones\n",
    "    \n",
    "    for i in 1:v        \n",
    "        for j in 1:s\n",
    "            l = length(x[i][j])\n",
    "            longz[j] = l\n",
    "        end\n",
    "        push!(cobert, longz)\n",
    "        longz = zeros(Int64, s)\n",
    "    end\n",
    "    return cobert\n",
    "end"
   ]
  },
  {
   "cell_type": "code",
   "execution_count": 16,
   "metadata": {},
   "outputs": [
    {
     "data": {
      "text/plain": [
       "n_length_av (generic function with 1 method)"
      ]
     },
     "execution_count": 16,
     "metadata": {},
     "output_type": "execute_result"
    }
   ],
   "source": [
    "\"\"\"\n",
    "\n",
    "\"\"\"\n",
    "\n",
    "#Tal vez falta llamar dentro de la función a la función n_cobertura y cobertura\n",
    "\n",
    "function n_length_av(W) #Esta es la importante\n",
    "    \n",
    "    longitud = []\n",
    "    x = cobertura(W)\n",
    "    \n",
    "    for i in 1:length(x)\n",
    "        l = mean(x[i])\n",
    "        push!(longitud, l)\n",
    "    end\n",
    "    longitud\n",
    "end"
   ]
  },
  {
   "cell_type": "code",
   "execution_count": 17,
   "metadata": {},
   "outputs": [
    {
     "data": {
      "text/plain": [
       "length_av (generic function with 1 method)"
      ]
     },
     "execution_count": 17,
     "metadata": {},
     "output_type": "execute_result"
    }
   ],
   "source": [
    "\"\"\"\n",
    "\n",
    "\"\"\"\n",
    "\n",
    "#Tal vez falta llamar dentro de la función a la función n_cobertura y cobertura y n_length_av\n",
    "\n",
    "function length_av(W)\n",
    "    x = n_length_av(W)\n",
    "    promedio = mean(x)\n",
    "    return promedio\n",
    "\n",
    "end"
   ]
  },
  {
   "cell_type": "code",
   "execution_count": 18,
   "metadata": {},
   "outputs": [
    {
     "data": {
      "text/plain": [
       "max_length (generic function with 1 method)"
      ]
     },
     "execution_count": 18,
     "metadata": {},
     "output_type": "execute_result"
    }
   ],
   "source": [
    "\"\"\"\n",
    "\n",
    "\"\"\"\n",
    "\n",
    "\n",
    "function max_length(W)\n",
    "    max = []\n",
    "    x = cobertura(W)\n",
    "    for i in 1:length(x)\n",
    "        m = maximum(x[i])\n",
    "        push!(max, m)\n",
    "    end\n",
    "    max\n",
    "end"
   ]
  },
  {
   "cell_type": "code",
   "execution_count": 19,
   "metadata": {},
   "outputs": [
    {
     "data": {
      "text/plain": [
       "Max_length (generic function with 1 method)"
      ]
     },
     "execution_count": 19,
     "metadata": {},
     "output_type": "execute_result"
    }
   ],
   "source": [
    "\"\"\"\n",
    "\n",
    "\"\"\"\n",
    "\n",
    "#Tal vez falta llamar dentro de la función a la función n_cobertura y cobertura\n",
    "\n",
    "function Max_length(W)\n",
    "    x = max_length(W)\n",
    "    m = maximum(x)\n",
    "    return m\n",
    "end"
   ]
  },
  {
   "cell_type": "code",
   "execution_count": 20,
   "metadata": {},
   "outputs": [
    {
     "data": {
      "text/plain": [
       "av_max_length (generic function with 1 method)"
      ]
     },
     "execution_count": 20,
     "metadata": {},
     "output_type": "execute_result"
    }
   ],
   "source": [
    "\"\"\"\n",
    "\n",
    "\"\"\"\n",
    "\n",
    "#Tal vez falta llamar dentro de la función a la función n_cobertura y cobertura\n",
    "\n",
    "function av_max_length(W)\n",
    "    x = max_length(W)\n",
    "    prom = mean(x)\n",
    "    return prom\n",
    "end"
   ]
  },
  {
   "cell_type": "code",
   "execution_count": 21,
   "metadata": {},
   "outputs": [
    {
     "data": {
      "text/plain": [
       "min_length (generic function with 1 method)"
      ]
     },
     "execution_count": 21,
     "metadata": {},
     "output_type": "execute_result"
    }
   ],
   "source": [
    "\"\"\"\n",
    "\n",
    "\"\"\"\n",
    "\n",
    "#Tal vez falta llamar dentro de la función a la función n_cobertura y cobertura\n",
    "\n",
    "function min_length(W)\n",
    "    min = []\n",
    "    x = cobertura(W)\n",
    "    for i in 1:length(x)\n",
    "        m = minimum(x[i])\n",
    "        push!(min, m)\n",
    "    end\n",
    "    min\n",
    "end"
   ]
  },
  {
   "cell_type": "code",
   "execution_count": 22,
   "metadata": {},
   "outputs": [
    {
     "data": {
      "text/plain": [
       "Min_length (generic function with 1 method)"
      ]
     },
     "execution_count": 22,
     "metadata": {},
     "output_type": "execute_result"
    }
   ],
   "source": [
    "\"\"\"\n",
    "\n",
    "\"\"\"\n",
    "\n",
    "#Tal vez falta llamar dentro de la función a la función n_cobertura y cobertura\n",
    "\n",
    "function Min_length(W)\n",
    "    x = min_length(W)\n",
    "    m = minimum(x)\n",
    "    return m\n",
    "end"
   ]
  },
  {
   "cell_type": "code",
   "execution_count": 23,
   "metadata": {},
   "outputs": [
    {
     "data": {
      "text/plain": [
       "av_min_length (generic function with 1 method)"
      ]
     },
     "execution_count": 23,
     "metadata": {},
     "output_type": "execute_result"
    }
   ],
   "source": [
    "\"\"\"\n",
    "\n",
    "\"\"\"\n",
    "\n",
    "#Tal vez falta llamar dentro de la función a la función n_cobertura y cobertura\n",
    "\n",
    "function av_min_length(W)\n",
    "    x = min_length(W)\n",
    "    prom = mean(x)\n",
    "    return prom\n",
    "end"
   ]
  },
  {
   "cell_type": "code",
   "execution_count": null,
   "metadata": {},
   "outputs": [],
   "source": [
    "function atractor(W) #Debo llamar a walks\n",
    "   atractores = []\n",
    "    v = length(W) #tamaño de la matriz, número de nodos\n",
    "    s = size(W[1], 1) #lo puedo sacar, para todos es el mismo. Es el número de iteraciones\n",
    "    t = size(W[1], 2) #número de pasos\n",
    "    #visit = zeros(Int64, s) #Arreglo de ceros de tamaño número de iteraciones\n",
    "    visit = []\n",
    "    \n",
    "    for i in 1:v        \n",
    "        for j in 1:s\n",
    "            if \n",
    "            a = W[i][j, :])\n",
    "            push!(visit, u)\n",
    "        end\n",
    "        push!(cobert, visit)\n",
    "        visit = []\n",
    "    end\n",
    "    return cobert\n",
    "end"
   ]
  },
  {
   "cell_type": "markdown",
   "metadata": {},
   "source": [
    "## Datos"
   ]
  },
  {
   "cell_type": "code",
   "execution_count": 3,
   "metadata": {},
   "outputs": [
    {
     "data": {
      "text/plain": [
       "3190×3190 Array{Any,2}:\n",
       " \"\"      \"AER\"   \"ASF\"   \"CEK\"   \"DME\"  …   \"BSS\"   \"AEX\"   \"GCK\"   \"MGM\"\n",
       " \"AER\"  0       0       0       1          0       0       0       0     \n",
       " \"ASF\"  0       0       0       1          0       0       0       0     \n",
       " \"CEK\"  0       0       0       1          0       0       0       0     \n",
       " \"DME\"  1       1       1       0          0       0       0       0     \n",
       " \"EGO\"  0       0       0       1       …  0       0       0       0     \n",
       " \"GYD\"  0       0       0       1          0       0       0       0     \n",
       " \"KGD\"  0       0       0       1          0       0       0       0     \n",
       " \"KZN\"  1       1       1       1          0       0       0       0     \n",
       " \"LED\"  1       1       1       1          0       0       0       0     \n",
       " \"MRV\"  0       1       0       1       …  0       0       0       0     \n",
       " \"NBC\"  0       0       0       1          0       0       0       0     \n",
       " \"NJC\"  0       0       0       1          0       0       0       0     \n",
       " ⋮                                      ⋱                                \n",
       " \"LPS\"  0       0       0       0          0       0       0       0     \n",
       " \"ORX\"  0       0       0       0          0       0       0       0     \n",
       " \"BVS\"  0       0       0       0       …  0       0       0       0     \n",
       " \"MTE\"  0       0       0       0          0       0       0       0     \n",
       " \"DLZ\"  0       0       0       0          0       0       0       0     \n",
       " \"UII\"  0       0       0       0          0       0       0       0     \n",
       " \"ZBF\"  0       0       0       0          0       0       0       0     \n",
       " \"CMP\"  0       0       0       0       …  0       0       0       0     \n",
       " \"BSS\"  0       0       0       0          0       0       0       0     \n",
       " \"AEX\"  0       0       0       0          0       0       0       0     \n",
       " \"GCK\"  0       0       0       0          0       0       0       0     \n",
       " \"MGM\"  0       0       0       0          0       0       0       0     "
      ]
     },
     "execution_count": 3,
     "metadata": {},
     "output_type": "execute_result"
    }
   ],
   "source": [
    "m17 = readdlm(\"data/multi_17_du.csv\", ',')"
   ]
  },
  {
   "cell_type": "code",
   "execution_count": 4,
   "metadata": {},
   "outputs": [],
   "source": [
    "multi17 = m17[2:end, :];\n",
    "multi17 = multi17[:, 2:end];"
   ]
  },
  {
   "cell_type": "code",
   "execution_count": 5,
   "metadata": {
    "scrolled": true
   },
   "outputs": [
    {
     "data": {
      "text/plain": [
       "3190-element Array{Any,1}:\n",
       " \"\"   \n",
       " \"AER\"\n",
       " \"ASF\"\n",
       " \"CEK\"\n",
       " \"DME\"\n",
       " \"EGO\"\n",
       " \"GYD\"\n",
       " \"KGD\"\n",
       " \"KZN\"\n",
       " \"LED\"\n",
       " \"MRV\"\n",
       " \"NBC\"\n",
       " \"NJC\"\n",
       " ⋮    \n",
       " \"LPS\"\n",
       " \"ORX\"\n",
       " \"BVS\"\n",
       " \"MTE\"\n",
       " \"DLZ\"\n",
       " \"UII\"\n",
       " \"ZBF\"\n",
       " \"CMP\"\n",
       " \"BSS\"\n",
       " \"AEX\"\n",
       " \"GCK\"\n",
       " \"MGM\""
      ]
     },
     "execution_count": 5,
     "metadata": {},
     "output_type": "execute_result"
    }
   ],
   "source": [
    "nombres_aeropuertos = m17[1,:]"
   ]
  },
  {
   "cell_type": "code",
   "execution_count": 26,
   "metadata": {},
   "outputs": [
    {
     "data": {
      "text/plain": [
       "3189×3189 Array{Int64,2}:\n",
       " 0  0  0  1  0  0  0  1  1  0  0  0  0  …  0  0  0  0  0  0  0  0  0  0  0  0\n",
       " 0  0  0  1  0  0  0  1  1  1  0  0  0     0  0  0  0  0  0  0  0  0  0  0  0\n",
       " 0  0  0  1  0  0  0  1  1  0  0  0  0     0  0  0  0  0  0  0  0  0  0  0  0\n",
       " 1  1  1  0  1  1  1  1  1  1  1  1  1     0  0  0  0  0  0  0  0  0  0  0  0\n",
       " 0  0  0  1  0  0  1  1  1  0  0  0  0     0  0  0  0  0  0  0  0  0  0  0  0\n",
       " 0  0  0  1  0  0  0  0  1  1  1  0  0  …  0  0  0  0  0  0  0  0  0  0  0  0\n",
       " 0  0  0  1  1  0  0  0  1  0  0  0  0     0  0  0  0  0  0  0  0  0  0  0  0\n",
       " 1  1  1  1  1  0  0  0  1  0  0  0  0     0  0  0  0  0  0  0  0  0  0  0  0\n",
       " 1  1  1  1  1  1  1  1  0  1  1  0  0     0  0  0  0  0  0  0  0  0  0  0  0\n",
       " 0  1  0  1  0  1  0  0  1  0  0  0  0     0  0  0  0  0  0  0  0  0  0  0  0\n",
       " 0  0  0  1  0  1  0  0  1  0  0  0  0  …  0  0  0  0  0  0  0  0  0  0  0  0\n",
       " 0  0  0  1  0  0  0  0  0  0  0  0  0     0  0  0  0  0  0  0  0  0  0  0  0\n",
       " 0  0  0  1  0  0  0  0  0  0  0  0  0     0  0  0  0  0  0  0  0  0  0  0  0\n",
       " ⋮              ⋮              ⋮        ⋱           ⋮              ⋮         \n",
       " 0  0  0  0  0  0  0  0  0  0  0  0  0     0  0  0  0  0  0  0  0  0  0  0  0\n",
       " 0  0  0  0  0  0  0  0  0  0  0  0  0     0  0  0  0  0  0  0  0  0  0  0  0\n",
       " 0  0  0  0  0  0  0  0  0  0  0  0  0     0  0  0  0  0  0  0  0  0  0  0  0\n",
       " 0  0  0  0  0  0  0  0  0  0  0  0  0  …  0  0  0  0  0  0  0  0  0  0  0  0\n",
       " 0  0  0  0  0  0  0  0  0  0  0  0  0     0  0  0  0  0  0  0  0  0  0  0  0\n",
       " 0  0  0  0  0  0  0  0  0  0  0  0  0     0  0  0  0  0  0  0  0  0  0  0  0\n",
       " 0  0  0  0  0  0  0  0  0  0  0  0  0     0  0  0  0  0  0  0  0  0  0  0  0\n",
       " 0  0  0  0  0  0  0  0  0  0  0  0  0     0  0  0  0  0  0  0  0  0  0  0  0\n",
       " 0  0  0  0  0  0  0  0  0  0  0  0  0  …  0  0  0  0  0  0  0  0  0  0  0  0\n",
       " 0  0  0  0  0  0  0  0  0  0  0  0  0     0  0  0  0  0  0  0  0  0  0  0  0\n",
       " 0  0  0  0  0  0  0  0  0  0  0  0  0     0  0  0  0  0  0  0  0  0  0  0  0\n",
       " 0  0  0  0  0  0  0  0  0  0  0  0  0     0  0  0  0  0  0  0  0  0  0  0  0"
      ]
     },
     "execution_count": 26,
     "metadata": {},
     "output_type": "execute_result"
    }
   ],
   "source": [
    "multiplex = convert(Array{Int64,2}, multi17)"
   ]
  },
  {
   "cell_type": "code",
   "execution_count": 29,
   "metadata": {},
   "outputs": [
    {
     "name": "stdout",
     "output_type": "stream",
     "text": [
      " 73.894156 seconds (19.17 M allocations: 38.698 GiB, 5.20% gc time)\n"
     ]
    },
    {
     "data": {
      "text/plain": [
       "3189-element Array{Any,1}:\n",
       " [1 671 … 1193 1129; 1 1531 … 188 52; … ; 1 837 … 161 1925; 1 4 … 1869 2332] \n",
       " [2 8 … 451 1024; 2 1829 … 1032 135; … ; 2 4 … 60 1761; 2 232 … 0 0]         \n",
       " [3 90 … 1710 1600; 3 4 … 1656 1930; … ; 3 478 … 307 1548; 3 90 … 1979 1980] \n",
       " [4 730 … 1870 2386; 4 11 … 1794 886; … ; 4 764 … 938 124; 4 53 … 1078 71]   \n",
       " [5 753 … 1158 1175; 5 8 … 580 307; … ; 5 759 … 1015 170; 5 8 … 1391 1081]   \n",
       " [6 2282 … 55 1233; 6 451 … 715 217; … ; 6 727 … 1868 358; 6 1561 … 260 336] \n",
       " [7 594 … 398 2930; 7 5 … 726 682; … ; 7 9 … 405 398; 7 1527 … 1385 429]     \n",
       " [8 423 … 164 1009; 8 594 … 684 1851; … ; 8 9 … 2385 2829; 8 15 … 357 361]   \n",
       " [9 473 … 0 0; 9 2231 … 661 449; … ; 9 220 … 252 1085; 9 724 … 594 429]      \n",
       " [10 232 … 715 1546; 10 6 … 438 1226; … ; 10 6 … 428 231; 10 594 … 358 759]  \n",
       " [11 4 … 220 1218; 11 724 … 289 264; … ; 11 727 … 1149 1150; 11 727 … 1752 4]\n",
       " [12 4 … 1015 2035; 12 594 … 163 560; … ; 12 349 … 338 1110; 12 4 … 305 1012]\n",
       " [13 2275 … 1024 168; 13 671 … 1448 164; … ; 13 351 … 684 7; 13 4 … 458 1988]\n",
       " ⋮                                                                           \n",
       " [3178 0 … 0 0; 3178 0 … 0 0; … ; 3178 0 … 0 0; 3178 0 … 0 0]                \n",
       " [3179 0 … 0 0; 3179 0 … 0 0; … ; 3179 0 … 0 0; 3179 0 … 0 0]                \n",
       " [3180 0 … 0 0; 3180 0 … 0 0; … ; 3180 0 … 0 0; 3180 0 … 0 0]                \n",
       " [3181 0 … 0 0; 3181 0 … 0 0; … ; 3181 0 … 0 0; 3181 0 … 0 0]                \n",
       " [3182 0 … 0 0; 3182 0 … 0 0; … ; 3182 0 … 0 0; 3182 0 … 0 0]                \n",
       " [3183 0 … 0 0; 3183 0 … 0 0; … ; 3183 0 … 0 0; 3183 0 … 0 0]                \n",
       " [3184 0 … 0 0; 3184 0 … 0 0; … ; 3184 0 … 0 0; 3184 0 … 0 0]                \n",
       " [3185 0 … 0 0; 3185 0 … 0 0; … ; 3185 0 … 0 0; 3185 0 … 0 0]                \n",
       " [3186 0 … 0 0; 3186 0 … 0 0; … ; 3186 0 … 0 0; 3186 0 … 0 0]                \n",
       " [3187 0 … 0 0; 3187 0 … 0 0; … ; 3187 0 … 0 0; 3187 0 … 0 0]                \n",
       " [3188 0 … 0 0; 3188 0 … 0 0; … ; 3188 0 … 0 0; 3188 0 … 0 0]                \n",
       " [3189 0 … 0 0; 3189 0 … 0 0; … ; 3189 0 … 0 0; 3189 0 … 0 0]                "
      ]
     },
     "execution_count": 29,
     "metadata": {},
     "output_type": "execute_result"
    }
   ],
   "source": [
    "caminata_M = @time random_walk(multiplex, 100, 5)"
   ]
  },
  {
   "cell_type": "code",
   "execution_count": 48,
   "metadata": {},
   "outputs": [
    {
     "name": "stdout",
     "output_type": "stream",
     "text": [
      "  1.840936 seconds (5.50 M allocations: 1.365 GiB, 6.08% gc time)\n"
     ]
    }
   ],
   "source": [
    "@time walk_length(caminata_M);"
   ]
  },
  {
   "cell_type": "code",
   "execution_count": 31,
   "metadata": {},
   "outputs": [
    {
     "name": "stdout",
     "output_type": "stream",
     "text": [
      "  1.863774 seconds (5.68 M allocations: 1.374 GiB, 6.06% gc time)\n"
     ]
    },
    {
     "data": {
      "text/plain": [
       "3189-element Array{Any,1}:\n",
       " 100.0\n",
       "  96.6\n",
       " 100.0\n",
       " 100.0\n",
       " 100.0\n",
       " 100.0\n",
       " 100.0\n",
       " 100.0\n",
       "  85.8\n",
       " 100.0\n",
       " 100.0\n",
       " 100.0\n",
       " 100.0\n",
       "   ⋮  \n",
       "   0.0\n",
       "   0.0\n",
       "   0.0\n",
       "   0.0\n",
       "   0.0\n",
       "   0.0\n",
       "   0.0\n",
       "   0.0\n",
       "   0.0\n",
       "   0.0\n",
       "   0.0\n",
       "   0.0"
      ]
     },
     "execution_count": 31,
     "metadata": {},
     "output_type": "execute_result"
    }
   ],
   "source": [
    "@time walk_av_length(caminata_M)"
   ]
  },
  {
   "cell_type": "code",
   "execution_count": 47,
   "metadata": {},
   "outputs": [
    {
     "name": "stdout",
     "output_type": "stream",
     "text": [
      "  0.130367 seconds (353.52 k allocations: 104.501 MiB, 19.28% gc time)\n"
     ]
    },
    {
     "data": {
      "text/plain": [
       "74.47895892129192"
      ]
     },
     "execution_count": 47,
     "metadata": {},
     "output_type": "execute_result"
    }
   ],
   "source": [
    "@time length_av(caminata_M)"
   ]
  },
  {
   "cell_type": "code",
   "execution_count": 51,
   "metadata": {},
   "outputs": [
    {
     "name": "stdout",
     "output_type": "stream",
     "text": [
      "  0.132426 seconds (321.61 k allocations: 103.256 MiB, 21.81% gc time)\n"
     ]
    },
    {
     "data": {
      "text/plain": [
       "3189-element Array{Any,1}:\n",
       " Any[[1, 671, 358, 2334, 162, 2336, 1093, 1656, 362, 636  …  3103, 3128, 338, 1170, 1115, 1200, 894, 1184, 1201, 1193], [1, 1531, 4, 57, 2017, 1988, 481, 661, 220, 1587  …  456, 189, 495, 193, 1016, 44, 31, 716, 467, 188], [1, 1531, 473, 183, 1567, 467, 1342, 441, 1358, 223  …  304, 352, 670, 2276, 20, 594, 725, 729, 2744, 724], [1, 837, 423, 454, 434, 55, 1864, 469, 130, 470  …  1523, 634, 1974, 1015, 627, 2864, 1347, 1650, 1640, 1925], [1, 4, 10, 724, 9, 130, 40, 131, 1488, 2225  …  327, 1687, 259, 1632, 326, 316, 2323, 2331, 1869, 2332]]       \n",
       " Any[[2, 8, 1752, 727, 4, 1839, 178, 1430, 1432, 1603  …  264, 1613, 650, 630, 467, 1216, 1049, 1351, 451, 1024], [2, 1829, 1819, 1532, 1832, 723, 14, 26, 9, 423  …  491, 486, 999, 439, 684, 1527, 1091, 435, 135, 1032], [2, 4, 346, 352, 493, 727, 305, 878, 313, 289  …  1130, 886, 1150, 620, 1195, 31, 46, 220, 491, 191], [2, 4, 244, 15, 2797, 762, 349, 2870, 189, 432  …  999, 90, 998, 495, 476, 1048, 227, 1049, 471, 1761], [2, 232, 183, 370, 220, 154, 719, 199, 899, 1101  …  359, 1875, 2611, 420, 2238, 1447, 2097, 2089, 3177, 0]]                   \n",
       " Any[[3, 90, 2552, 9, 486, 457, 1997, 231, 1851, 1988  …  1202, 93, 86, 98, 1710, 2639, 1698, 1707, 1695, 1600], [3, 4, 2282, 2740, 1728, 1665, 304, 313, 275, 326  …  330, 166, 357, 359, 2034, 730, 1900, 1536, 1656, 1930], [3, 724, 764, 671, 358, 362, 1908, 633, 631, 634  …  1024, 1184, 1106, 248, 369, 396, 715, 1209, 1961, 2042], [3, 478, 351, 347, 724, 759, 682, 683, 10, 358  …  448, 1841, 996, 1221, 453, 307, 290, 807, 260, 1548], [3, 90, 1015, 123, 305, 311, 167, 269, 326, 330  …  163, 2336, 1542, 162, 1093, 1095, 1094, 358, 1979, 1980]]      \n",
       " Any[[4, 730, 726, 1343, 1014, 420, 441, 223, 459, 135  …  318, 316, 271, 304, 340, 431, 467, 163, 1870, 2386], [4, 11, 6, 467, 454, 825, 1568, 457, 453, 828  …  885, 218, 204, 208, 1101, 1150, 1184, 1186, 886, 1794], [4, 2269, 1728, 14, 671, 358, 2713, 357, 1523, 362  …  1299, 1258, 1321, 1270, 469, 338, 123, 333, 395, 1454], [4, 764, 19, 2276, 1726, 277, 275, 326, 1748, 287  …  1115, 1200, 1185, 1181, 1160, 1206, 337, 1190, 124, 938], [4, 53, 487, 451, 661, 223, 222, 490, 727, 997  …  1166, 220, 1025, 1046, 431, 493, 60, 67, 1078, 71]]          \n",
       " Any[[5, 753, 724, 14, 13, 4, 2704, 1008, 393, 195  …  914, 250, 257, 908, 1184, 1205, 1144, 1202, 1158, 1175], [5, 8, 723, 2372, 1532, 1826, 1829, 671, 486, 479  …  43, 178, 361, 278, 456, 262, 168, 1720, 580, 307], [5, 9, 2408, 1527, 453, 1022, 90, 630, 358, 493  …  1166, 1149, 1656, 259, 319, 275, 260, 1339, 168, 634], [5, 759, 1527, 241, 9, 4, 340, 470, 222, 228  …  807, 578, 1616, 175, 2368, 2405, 772, 176, 1015, 170], [5, 8, 3, 90, 630, 418, 1016, 124, 120, 369  …  433, 3012, 71, 224, 457, 1584, 57, 1081, 481, 1391]]                         \n",
       " Any[[6, 2282, 2274, 90, 836, 730, 726, 1015, 493, 71  …  1843, 371, 154, 492, 2017, 470, 1365, 1357, 2395, 1233], [6, 451, 580, 898, 195, 124, 939, 199, 196, 44  …  434, 338, 399, 1185, 886, 894, 1121, 715, 1798, 217], [6, 1530, 418, 730, 8, 723, 164, 2703, 1449, 1619  …  339, 714, 2909, 109, 58, 223, 1218, 1214, 221, 130], [6, 727, 135, 451, 1528, 432, 485, 594, 423, 53  …  1979, 1022, 1343, 1872, 453, 1533, 997, 857, 1868, 358], [6, 1561, 1560, 1554, 727, 857, 90, 349, 4, 1533  …  947, 817, 1158, 2480, 259, 168, 289, 301, 260, 336]]            \n",
       " Any[[7, 594, 496, 2424, 221, 1345, 71, 1836, 1366, 1852  …  1954, 404, 388, 394, 384, 3082, 410, 380, 398, 2930], [7, 5, 4, 828, 232, 825, 447, 464, 2008, 1989  …  167, 1687, 327, 874, 299, 287, 169, 1008, 726, 682], [7, 1527, 467, 726, 60, 463, 470, 1184, 1132, 1105  …  691, 367, 366, 610, 612, 615, 156, 147, 144, 152], [7, 9, 1, 724, 723, 1527, 478, 428, 1141, 1219  …  2065, 337, 1178, 1792, 1472, 1175, 1101, 395, 405, 398], [7, 1527, 723, 2372, 1532, 453, 2016, 471, 460, 224  …  1414, 2460, 304, 467, 1085, 1084, 1391, 1384, 1385, 429]]        \n",
       " Any[[8, 423, 437, 1215, 2022, 1048, 457, 53, 4, 2865  …  441, 420, 1523, 1014, 1881, 2784, 359, 451, 164, 1009], [8, 594, 11, 724, 753, 728, 14, 671, 439, 52  …  449, 231, 493, 471, 53, 448, 453, 478, 684, 1851], [8, 730, 2613, 1523, 359, 1011, 358, 451, 232, 2597  …  2004, 2722, 221, 1053, 135, 385, 60, 1765, 1762, 446], [8, 9, 496, 1533, 223, 473, 1090, 1585, 1583, 1215  …  451, 627, 2824, 2827, 1759, 163, 2385, 2825, 2823, 2829], [8, 15, 348, 349, 762, 2870, 2275, 347, 352, 1822  …  441, 2231, 241, 1527, 164, 634, 361, 357, 364, 360]]         \n",
       " Any[[9, 473, 1635, 663, 496, 468, 478, 26, 352, 493  …  1795, 218, 404, 388, 391, 338, 1004, 49, 3172, 0], [9, 2231, 1527, 2408, 478, 684, 193, 494, 451, 2005  …  663, 1085, 37, 492, 1016, 634, 1015, 53, 661, 449], [9, 1756, 591, 594, 305, 1144, 703, 123, 1177, 337  …  43, 1656, 1341, 37, 39, 163, 439, 448, 495, 2549], [9, 220, 1041, 1054, 189, 222, 1519, 488, 448, 1089  …  1245, 1166, 199, 936, 940, 914, 589, 257, 393, 252], [9, 724, 723, 319, 262, 169, 172, 1443, 1426, 1781  …  58, 1234, 727, 358, 135, 428, 1842, 1221, 594, 429]]               \n",
       " Any[[10, 232, 223, 1216, 58, 491, 1052, 471, 727, 835  …  2528, 604, 31, 34, 32, 2995, 195, 1189, 715, 1546], [10, 6, 441, 495, 1219, 2769, 231, 1584, 1082, 1085  …  1229, 220, 1015, 395, 386, 385, 453, 183, 438, 1226], [10, 90, 352, 1570, 1031, 71, 471, 1234, 494, 432  …  1250, 698, 2466, 694, 699, 2344, 2347, 2343, 2342, 2464], [10, 6, 1527, 997, 2742, 759, 753, 4, 340, 1878  …  451, 2772, 441, 223, 1233, 221, 1345, 1833, 428, 231], [10, 594, 2742, 997, 469, 1024, 369, 240, 1212, 135  …  825, 470, 58, 50, 1052, 467, 471, 862, 1560, 759]]       \n",
       " Any[[11, 4, 53, 1076, 441, 1016, 1120, 208, 204, 369  …  999, 446, 445, 57, 2024, 1989, 1215, 458, 470, 1218], [11, 724, 726, 467, 9, 241, 1527, 1007, 418, 634  …  1734, 262, 331, 686, 327, 288, 167, 270, 292, 289], [11, 727, 71, 487, 183, 440, 1525, 468, 999, 135  …  2945, 2973, 2947, 2954, 2967, 2970, 2956, 2966, 2969, 2965], [11, 727, 862, 1604, 223, 1049, 1226, 1996, 1989, 1235  …  2550, 15, 729, 761, 4, 1819, 1532, 304, 1149, 1150], [11, 727, 1568, 443, 441, 1343, 1015, 420, 1567, 1214  …  467, 911, 1129, 1799, 1130, 1149, 53, 4, 347, 1752]]\n",
       " Any[[12, 4, 671, 1531, 453, 1366, 1852, 71, 188, 494  …  824, 1873, 339, 220, 1570, 352, 423, 1872, 1015, 2035], [12, 594, 2033, 730, 724, 725, 3, 1752, 727, 493  …  93, 574, 305, 1338, 2310, 701, 566, 358, 1870, 560], [12, 15, 451, 50, 996, 1533, 130, 663, 439, 232  …  1226, 449, 1571, 721, 199, 1101, 1133, 1145, 205, 934], [12, 349, 728, 1, 671, 189, 495, 471, 470, 441  …  1343, 130, 1085, 1233, 1223, 434, 2002, 223, 338, 1110], [12, 4, 671, 9, 747, 178, 658, 633, 639, 630  …  262, 2223, 326, 300, 804, 322, 295, 263, 1339, 1012]]               \n",
       " Any[[13, 2275, 15, 10, 2, 4, 8, 725, 3, 1752  …  1786, 337, 897, 1130, 218, 369, 389, 1186, 1185, 1024], [13, 671, 242, 8, 5, 753, 1531, 220, 1008, 1009  …  1015, 262, 271, 300, 268, 1613, 168, 1354, 1448, 164], [13, 15, 724, 1, 727, 833, 663, 423, 471, 1015  …  58, 857, 130, 369, 338, 358, 2035, 1343, 232, 489], [13, 351, 724, 4, 425, 466, 441, 487, 431, 448  …  1236, 183, 9, 1839, 223, 51, 449, 453, 684, 7], [13, 4, 2274, 682, 997, 189, 1023, 650, 630, 178  …  220, 727, 471, 487, 432, 1764, 488, 1998, 458, 1988]]                                \n",
       " ⋮                                                                                                                                                                                                                                                                                                                                                                                                                                                                                                                                                                       \n",
       " Any[[3178, 0], [3178, 0], [3178, 0], [3178, 0], [3178, 0]]                                                                                                                                                                                                                                                                                                                                                                                                                                                                                                              \n",
       " Any[[3179, 0], [3179, 0], [3179, 0], [3179, 0], [3179, 0]]                                                                                                                                                                                                                                                                                                                                                                                                                                                                                                              \n",
       " Any[[3180, 0], [3180, 0], [3180, 0], [3180, 0], [3180, 0]]                                                                                                                                                                                                                                                                                                                                                                                                                                                                                                              \n",
       " Any[[3181, 0], [3181, 0], [3181, 0], [3181, 0], [3181, 0]]                                                                                                                                                                                                                                                                                                                                                                                                                                                                                                              \n",
       " Any[[3182, 0], [3182, 0], [3182, 0], [3182, 0], [3182, 0]]                                                                                                                                                                                                                                                                                                                                                                                                                                                                                                              \n",
       " Any[[3183, 0], [3183, 0], [3183, 0], [3183, 0], [3183, 0]]                                                                                                                                                                                                                                                                                                                                                                                                                                                                                                              \n",
       " Any[[3184, 0], [3184, 0], [3184, 0], [3184, 0], [3184, 0]]                                                                                                                                                                                                                                                                                                                                                                                                                                                                                                              \n",
       " Any[[3185, 0], [3185, 0], [3185, 0], [3185, 0], [3185, 0]]                                                                                                                                                                                                                                                                                                                                                                                                                                                                                                              \n",
       " Any[[3186, 0], [3186, 0], [3186, 0], [3186, 0], [3186, 0]]                                                                                                                                                                                                                                                                                                                                                                                                                                                                                                              \n",
       " Any[[3187, 0], [3187, 0], [3187, 0], [3187, 0], [3187, 0]]                                                                                                                                                                                                                                                                                                                                                                                                                                                                                                              \n",
       " Any[[3188, 0], [3188, 0], [3188, 0], [3188, 0], [3188, 0]]                                                                                                                                                                                                                                                                                                                                                                                                                                                                                                              \n",
       " Any[[3189, 0], [3189, 0], [3189, 0], [3189, 0], [3189, 0]]                                                                                                                                                                                                                                                                                                                                                                                                                                                                                                              "
      ]
     },
     "execution_count": 51,
     "metadata": {},
     "output_type": "execute_result"
    }
   ],
   "source": [
    "@time n_cobertura(caminata_M)"
   ]
  },
  {
   "cell_type": "code",
   "execution_count": 36,
   "metadata": {},
   "outputs": [
    {
     "name": "stdout",
     "output_type": "stream",
     "text": [
      "  0.160455 seconds (343.94 k allocations: 104.292 MiB, 32.85% gc time)\n"
     ]
    },
    {
     "data": {
      "text/plain": [
       "3189-element Array{Any,1}:\n",
       " [79, 77, 74, 77, 86]\n",
       " [75, 83, 80, 87, 70]\n",
       " [86, 83, 74, 85, 81]\n",
       " [85, 76, 88, 88, 78]\n",
       " [84, 84, 83, 83, 78]\n",
       " [83, 73, 83, 85, 81]\n",
       " [82, 79, 78, 85, 81]\n",
       " [83, 79, 83, 82, 87]\n",
       " [29, 84, 85, 79, 82]\n",
       " [77, 87, 78, 80, 80]\n",
       " [87, 83, 66, 89, 80]\n",
       " [79, 82, 80, 79, 86]\n",
       " [83, 86, 83, 87, 85]\n",
       " ⋮                   \n",
       " [2, 2, 2, 2, 2]     \n",
       " [2, 2, 2, 2, 2]     \n",
       " [2, 2, 2, 2, 2]     \n",
       " [2, 2, 2, 2, 2]     \n",
       " [2, 2, 2, 2, 2]     \n",
       " [2, 2, 2, 2, 2]     \n",
       " [2, 2, 2, 2, 2]     \n",
       " [2, 2, 2, 2, 2]     \n",
       " [2, 2, 2, 2, 2]     \n",
       " [2, 2, 2, 2, 2]     \n",
       " [2, 2, 2, 2, 2]     \n",
       " [2, 2, 2, 2, 2]     "
      ]
     },
     "execution_count": 36,
     "metadata": {},
     "output_type": "execute_result"
    }
   ],
   "source": [
    "@time cobertura(caminata_M)"
   ]
  },
  {
   "cell_type": "code",
   "execution_count": 65,
   "metadata": {},
   "outputs": [
    {
     "name": "stdout",
     "output_type": "stream",
     "text": [
      "  0.000001 seconds (3 allocations: 144 bytes)\n",
      "  0.286188 seconds (347.15 k allocations: 104.404 MiB, 63.52% gc time)\n"
     ]
    },
    {
     "data": {
      "text/plain": [
       "3189-element Array{Any,1}:\n",
       " 78.6\n",
       " 79.0\n",
       " 81.8\n",
       " 83.0\n",
       " 82.4\n",
       " 81.0\n",
       " 81.0\n",
       " 82.8\n",
       " 71.8\n",
       " 80.4\n",
       " 81.0\n",
       " 81.2\n",
       " 84.8\n",
       "  ⋮  \n",
       "  2.0\n",
       "  2.0\n",
       "  2.0\n",
       "  2.0\n",
       "  2.0\n",
       "  2.0\n",
       "  2.0\n",
       "  2.0\n",
       "  2.0\n",
       "  2.0\n",
       "  2.0\n",
       "  2.0"
      ]
     },
     "execution_count": 65,
     "metadata": {},
     "output_type": "execute_result"
    }
   ],
   "source": [
    "@time caminata_M\n",
    "@time n_length_av(caminata_M)"
   ]
  },
  {
   "cell_type": "code",
   "execution_count": 49,
   "metadata": {},
   "outputs": [
    {
     "name": "stdout",
     "output_type": "stream",
     "text": [
      "  0.128620 seconds (343.96 k allocations: 104.355 MiB, 16.06% gc time)\n"
     ]
    }
   ],
   "source": [
    "@time max_length(caminata_M);"
   ]
  },
  {
   "cell_type": "code",
   "execution_count": 42,
   "metadata": {},
   "outputs": [
    {
     "name": "stdout",
     "output_type": "stream",
     "text": [
      "  0.178791 seconds (377.12 k allocations: 106.120 MiB, 15.99% gc time)\n"
     ]
    },
    {
     "data": {
      "text/plain": [
       "96"
      ]
     },
     "execution_count": 42,
     "metadata": {},
     "output_type": "execute_result"
    }
   ],
   "source": [
    "@time Max_length(caminata_M)"
   ]
  },
  {
   "cell_type": "code",
   "execution_count": 43,
   "metadata": {},
   "outputs": [
    {
     "name": "stdout",
     "output_type": "stream",
     "text": [
      "  0.135874 seconds (348.09 k allocations: 104.457 MiB, 16.29% gc time)\n"
     ]
    },
    {
     "data": {
      "text/plain": [
       "83.74788334901223"
      ]
     },
     "execution_count": 43,
     "metadata": {},
     "output_type": "execute_result"
    }
   ],
   "source": [
    "@time av_max_length(caminata_M)"
   ]
  },
  {
   "cell_type": "code",
   "execution_count": 50,
   "metadata": {},
   "outputs": [
    {
     "name": "stdout",
     "output_type": "stream",
     "text": [
      "  0.285365 seconds (343.96 k allocations: 104.355 MiB, 62.80% gc time)\n"
     ]
    }
   ],
   "source": [
    "@time min_length(caminata_M);"
   ]
  },
  {
   "cell_type": "code",
   "execution_count": 45,
   "metadata": {},
   "outputs": [
    {
     "name": "stdout",
     "output_type": "stream",
     "text": [
      "  0.172192 seconds (377.21 k allocations: 106.129 MiB, 16.34% gc time)\n"
     ]
    },
    {
     "data": {
      "text/plain": [
       "2"
      ]
     },
     "execution_count": 45,
     "metadata": {},
     "output_type": "execute_result"
    }
   ],
   "source": [
    "@time Min_length(caminata_M)"
   ]
  },
  {
   "cell_type": "code",
   "execution_count": 46,
   "metadata": {},
   "outputs": [
    {
     "name": "stdout",
     "output_type": "stream",
     "text": [
      "  0.293863 seconds (348.06 k allocations: 104.456 MiB, 60.72% gc time)\n"
     ]
    },
    {
     "data": {
      "text/plain": [
       "59.80620884289746"
      ]
     },
     "execution_count": 46,
     "metadata": {},
     "output_type": "execute_result"
    }
   ],
   "source": [
    "@time av_min_length(caminata_M)"
   ]
  },
  {
   "cell_type": "code",
   "execution_count": null,
   "metadata": {},
   "outputs": [],
   "source": [
    "@time atractor(caminata_M)"
   ]
  },
  {
   "cell_type": "code",
   "execution_count": null,
   "metadata": {},
   "outputs": [],
   "source": []
  }
 ],
 "metadata": {
  "kernelspec": {
   "display_name": "Julia 1.1.0",
   "language": "julia",
   "name": "julia-1.1"
  },
  "language_info": {
   "file_extension": ".jl",
   "mimetype": "application/julia",
   "name": "julia",
   "version": "1.1.0"
  }
 },
 "nbformat": 4,
 "nbformat_minor": 2
}
