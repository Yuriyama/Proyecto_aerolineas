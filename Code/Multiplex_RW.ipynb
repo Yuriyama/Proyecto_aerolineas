{
 "cells": [
  {
   "cell_type": "markdown",
   "metadata": {},
   "source": [
    "# Random Walks en Multiplex de Aerolíneas\n",
    "\n",
    "## Directorio"
   ]
  },
  {
   "cell_type": "code",
   "execution_count": 1,
   "metadata": {},
   "outputs": [],
   "source": [
    "#Establecer directorio\n",
    "cd(\"$(homedir())/Documents/UNAM/Tesis_Lic\")"
   ]
  },
  {
   "cell_type": "markdown",
   "metadata": {},
   "source": [
    "## Paquetes\n",
    "\n",
    "Se importan todos los paquetes que se necesitarán para las funciones y visualizaciones del proyecto."
   ]
  },
  {
   "cell_type": "code",
   "execution_count": 2,
   "metadata": {},
   "outputs": [],
   "source": [
    "using StatsBase\n",
    "\n",
    "#using NamedArrays\n",
    "#using CSV\n",
    "#using LightGraphs\n",
    "#using DataFrames"
   ]
  },
  {
   "cell_type": "code",
   "execution_count": 3,
   "metadata": {},
   "outputs": [],
   "source": [
    "using DelimitedFiles"
   ]
  },
  {
   "cell_type": "code",
   "execution_count": 4,
   "metadata": {},
   "outputs": [],
   "source": [
    "using RandomNumbers.Xorshifts"
   ]
  },
  {
   "cell_type": "code",
   "execution_count": 5,
   "metadata": {},
   "outputs": [],
   "source": [
    "using Plots"
   ]
  },
  {
   "cell_type": "markdown",
   "metadata": {},
   "source": [
    "## Funciones\n",
    "\n",
    "### Importar datos"
   ]
  },
  {
   "cell_type": "code",
   "execution_count": 6,
   "metadata": {},
   "outputs": [
    {
     "data": {
      "text/plain": [
       "importar_matriz"
      ]
     },
     "execution_count": 6,
     "metadata": {},
     "output_type": "execute_result"
    }
   ],
   "source": [
    "\"\"\"\n",
    "    importar_matriz(file::string)\n",
    "\n",
    "Función que importa el archivo de la matriz de adyacencia de R.\n",
    "\"\"\"\n",
    "function importar_matriz(arch::AbstractString)\n",
    "    archivo_R = readdlm(arch, ',') \n",
    "    archivo_R = archivo_R[2:end, :]\n",
    "    matriz = archivo_R[:, 2:end]\n",
    "    nombre = convert(Array{Int64,2}, matriz)\n",
    "    return nombre\n",
    "end"
   ]
  },
  {
   "cell_type": "markdown",
   "metadata": {},
   "source": [
    "### Nombres de datos"
   ]
  },
  {
   "cell_type": "code",
   "execution_count": 7,
   "metadata": {},
   "outputs": [
    {
     "data": {
      "text/plain": [
       "data_names"
      ]
     },
     "execution_count": 7,
     "metadata": {},
     "output_type": "execute_result"
    }
   ],
   "source": [
    "\"\"\"\n",
    "    data_names(M)\n",
    "\n",
    "Función que obtiene un arreglo con los nombres de aeropuertos de la matriz\n",
    "\"\"\"\n",
    "function data_names(arch::AbstractString)\n",
    "    archivo_R = readdlm(arch, ',')\n",
    "    columna = archivo_R[1, :]\n",
    "    nombres = columna[2:end]\n",
    "    return nombres\n",
    "end"
   ]
  },
  {
   "cell_type": "markdown",
   "metadata": {},
   "source": [
    "### Grado"
   ]
  },
  {
   "cell_type": "code",
   "execution_count": 8,
   "metadata": {},
   "outputs": [
    {
     "data": {
      "text/plain": [
       "n_in_degree"
      ]
     },
     "execution_count": 8,
     "metadata": {},
     "output_type": "execute_result"
    }
   ],
   "source": [
    "\"\"\"\n",
    "\n",
    "    n_in_degree(M::Array{Int64,2}, n::Int64)\n",
    "\n",
    "Función que obtiene el grado de entrada de un cierto nodo n de la red representada por la matriz de adyacencia M.\n",
    "\n",
    "Parámetros:\n",
    "M matriz de adyacencia que acepta un arreglo de tipo Array{Int64,2}\n",
    "n nodo a evaluar de tipo Int64\n",
    "\n",
    "Resultado:\n",
    "Grado de entrada del nodo n representado por un valor numérico de tipo Int64\n",
    "\n",
    "Implementación\n",
    "\n",
    "#### Ejemplos\n",
    "\"\"\"\n",
    "function n_in_degree(M::Array{Int64,2}, n::Int64)\n",
    "    grado_entrada = sum(M[n, :])\n",
    "end"
   ]
  },
  {
   "cell_type": "code",
   "execution_count": 9,
   "metadata": {},
   "outputs": [
    {
     "data": {
      "text/plain": [
       "in_degree"
      ]
     },
     "execution_count": 9,
     "metadata": {},
     "output_type": "execute_result"
    }
   ],
   "source": [
    "\"\"\"\n",
    "in_degree(M)\n",
    "\n",
    "Función que obtiene el grado de entrada de una red representada por la matriz de adyacencia M.\n",
    "\n",
    "Parámetros:\n",
    "* M matriz de adyacencia que acepta un arreglo de tipo Array{Int64,2}\n",
    "\n",
    "Resultado:\n",
    "Devuelve un arreglo de tipo Array{Int64,2} que contiene los grados de entrada de todos los nodos n de la red.\n",
    "\n",
    "## Implementación\n",
    "\n",
    "### Ejemplos\n",
    "\"\"\"\n",
    "function in_degree(M::Array)\n",
    "    grados_entrada = sum(M, dims = 2)\n",
    "end"
   ]
  },
  {
   "cell_type": "code",
   "execution_count": 10,
   "metadata": {},
   "outputs": [
    {
     "data": {
      "text/plain": [
       "n_out_degree (generic function with 1 method)"
      ]
     },
     "execution_count": 10,
     "metadata": {},
     "output_type": "execute_result"
    }
   ],
   "source": [
    "\"\"\"\n",
    "    n_out_degree(M, n)\n",
    "\n",
    "Función que obtiene el grado de salida de un cierto nodo n de la red representada por la matriz de adyacencia M.\n",
    "\n",
    "Parámetros:\n",
    "* M matriz de adyacencia que acepta un arreglo de tipo Array{Int64,2}\n",
    "* n nodo a evaluar de tipo Int64\n",
    "\n",
    "Resultado:\n",
    "Grado de salida del nodo n representado por un valor numérico de tipo Int64\n",
    "\n",
    "## Implementación\n",
    "\n",
    "### Ejemplos\n",
    "\"\"\"\n",
    "\n",
    "function n_out_degree(M::Array{Int64,2}, n::Int64)\n",
    "    grado_salida = sum(M[:, n])\n",
    "end"
   ]
  },
  {
   "cell_type": "code",
   "execution_count": 11,
   "metadata": {},
   "outputs": [
    {
     "data": {
      "text/plain": [
       "out_degree"
      ]
     },
     "execution_count": 11,
     "metadata": {},
     "output_type": "execute_result"
    }
   ],
   "source": [
    "\"\"\"\n",
    "    out_degree(M)\n",
    "\n",
    "Función que obtiene el grado de salida de una red representada por la matriz de adyacencia M.\n",
    "\n",
    "Parámetros:\n",
    "* M matriz de adyacencia que acepta un arreglo de tipo Array{Int64,2}\n",
    "\n",
    "Resultado:\n",
    "Devuelve un arreglo de tipo Array{Int64,2} que contiene los grados de salida de todos los nodos n de la red.\n",
    "\n",
    "## Implementación\n",
    "\n",
    "### Ejemplos\n",
    "\"\"\"\n",
    "function out_degree(M::Array)\n",
    "    grados_salida = sum(M, dims = 1)\n",
    "end"
   ]
  },
  {
   "cell_type": "markdown",
   "metadata": {},
   "source": [
    "### Distribución de grado"
   ]
  },
  {
   "cell_type": "code",
   "execution_count": 12,
   "metadata": {},
   "outputs": [
    {
     "data": {
      "text/plain": [
       "distrib_in_degree"
      ]
     },
     "execution_count": 12,
     "metadata": {},
     "output_type": "execute_result"
    }
   ],
   "source": [
    "\"\"\"\n",
    "Función de distribución de grado de entrada\n",
    "\"\"\"\n",
    "function distrib_in_degree(M::Array)\n",
    "    x = in_degree(M)\n",
    "    degree_count = counts(x)\n",
    "    return degree_count\n",
    "end"
   ]
  },
  {
   "cell_type": "code",
   "execution_count": 13,
   "metadata": {},
   "outputs": [
    {
     "data": {
      "text/plain": [
       "distrib_out_degree"
      ]
     },
     "execution_count": 13,
     "metadata": {},
     "output_type": "execute_result"
    }
   ],
   "source": [
    "\"\"\"\n",
    "Función de distribución de grado de salida\n",
    "\"\"\"\n",
    "function distrib_out_degree(M::Array)\n",
    "    x = out_degree(M)\n",
    "    degree_count = counts(x)\n",
    "    return degree_count\n",
    "end"
   ]
  },
  {
   "cell_type": "code",
   "execution_count": 14,
   "metadata": {},
   "outputs": [
    {
     "data": {
      "text/plain": [
       "plot_distrib (generic function with 1 method)"
      ]
     },
     "execution_count": 14,
     "metadata": {},
     "output_type": "execute_result"
    }
   ],
   "source": [
    "function plot_distrib(M::Array, tipo::String, titulo::String, color::String)\n",
    "    \n",
    "    pyplot()\n",
    "    \n",
    "    if tipo == \"in\"\n",
    "        distribucion = distrib_in_degree(M::Array)\n",
    "    elseif tipo == \"out\"\n",
    "        distribucion = distrib_out_degree(M::Array)\n",
    "    end\n",
    "    distribucion\n",
    "    #@show distribucion\n",
    "    graph = bar(distribucion, fillcolor = color, markersize = 3, linealpha = 0.5, \n",
    "    title = titulo, \n",
    "    xlabel = \"Grado\", \n",
    "    ylabel = \"Frecuencia\",\n",
    "    xlims = (-10,300), #obtener límites\n",
    "    ylims = (-10,1000)) #obtener límites\n",
    "end"
   ]
  },
  {
   "cell_type": "code",
   "execution_count": 15,
   "metadata": {},
   "outputs": [
    {
     "data": {
      "text/plain": [
       "plot_distrib (generic function with 1 method)"
      ]
     },
     "execution_count": 15,
     "metadata": {},
     "output_type": "execute_result"
    }
   ],
   "source": [
    "function plot_distrib(M::Array, tipo::String, titulo::String, color::String)\n",
    "    \n",
    "    pyplot()\n",
    "    \n",
    "    if tipo == \"in\"\n",
    "        distribucion = distrib_in_degree(M::Array)\n",
    "    elseif tipo == \"out\"\n",
    "        distribucion = distrib_out_degree(M::Array)\n",
    "    end\n",
    "    distribucion\n",
    "    #@show distribucion\n",
    "    graph = bar(distribucion, fillcolor = color, markersize = 3, linealpha = 0.5, \n",
    "    title = titulo, \n",
    "    xlabel = \"Grado\", \n",
    "    ylabel = \"Frecuencia\",\n",
    "    xlims = (-10,300), #obtener límites\n",
    "    ylims = (-10,1000)) #obtener límites\n",
    "end"
   ]
  },
  {
   "cell_type": "markdown",
   "metadata": {},
   "source": [
    "### Vecinos"
   ]
  },
  {
   "cell_type": "code",
   "execution_count": 16,
   "metadata": {},
   "outputs": [
    {
     "data": {
      "text/plain": [
       "vecinos"
      ]
     },
     "execution_count": 16,
     "metadata": {},
     "output_type": "execute_result"
    }
   ],
   "source": [
    "\"\"\"\n",
    "    vecinos(M::Array{Int64,2})\n",
    "\n",
    "Función que obtiene un conjunto de arreglos con los vecinos de cada nodo.\n",
    "\"\"\"\n",
    "function vecinos(M::Array{Int64,2})\n",
    "    \n",
    "    nodos = size(M, 1) #aeropuertos\n",
    "    vecindades = []\n",
    "    \n",
    "    for i in 1:nodos\n",
    "        vecinos = findall(x -> x != 0, M[i, :])\n",
    "        push!(vecindades, vecinos)\n",
    "    end\n",
    "    vecindades\n",
    "end"
   ]
  },
  {
   "cell_type": "markdown",
   "metadata": {},
   "source": [
    "### Random walks"
   ]
  },
  {
   "cell_type": "code",
   "execution_count": 17,
   "metadata": {},
   "outputs": [
    {
     "data": {
      "text/plain": [
       "r_walks"
      ]
     },
     "execution_count": 17,
     "metadata": {},
     "output_type": "execute_result"
    }
   ],
   "source": [
    "\"\"\"\n",
    "\n",
    "    r_walks(M::Array{Int64,2}, f::Int64, steps::Int64, iter::Int64)\n",
    "\n",
    "La función r_walks tiene como parámetros:\n",
    "M, matriz de adyacencia de tipo Array{Int64,2}\n",
    "f, nodo inicial de tipo Int64\n",
    "steps, número de pasos de tipo Int64\n",
    "iter, número de iteraciones de tipo Int64.\n",
    "La función crea un caminante aleatorio sobre la matriz, el cual tiene igual probabilidad de avanzar \n",
    "hacia cualquiera de sus vecinos.\n",
    "Regresa un arreglo que contiene todas las trayectorias que tomó el caminante aleatorio.\n",
    "\"\"\"\n",
    "function r_walks(M::Array{Int64,2}, f::Int64, steps::Int64, iter::Int64)\n",
    "    \n",
    "    paths = zeros(Int64, (iter, steps + 1))\n",
    "    s = f\n",
    "    seed = 1\n",
    "    vecindades = vecinos(M)\n",
    "\n",
    "    for i in 1:iter\n",
    "        paths[i, 1] = f\n",
    "        \n",
    "        for p in 1:steps \n",
    "            vecindad = vecindades[s]\n",
    "            \n",
    "            if vecindad == []\n",
    "                break\n",
    "            else\n",
    "                a = sample(Xoroshiro128Plus(seed), vecindad) \n",
    "                paths[i, p + 1] = a\n",
    "                s = a\n",
    "                seed += 1\n",
    "            end\n",
    "            \n",
    "        end\n",
    "        s = f\n",
    "        \n",
    "    end\n",
    "    \n",
    "    return paths \n",
    "end"
   ]
  },
  {
   "cell_type": "code",
   "execution_count": 18,
   "metadata": {},
   "outputs": [
    {
     "data": {
      "text/plain": [
       "random_walk"
      ]
     },
     "execution_count": 18,
     "metadata": {},
     "output_type": "execute_result"
    }
   ],
   "source": [
    "\"\"\"\n",
    "\n",
    "    random_walk(M::Array{Int64,2}, steps::Int64, iter::Int64)\n",
    "\n",
    "\n",
    "La función random_walk tiene como parámetros:\n",
    "M, matriz de adyacencia de tipo Array{Int64,2}\n",
    "steps, número de pasos de tipo Int64\n",
    "iter, número de iteraciones de tipo Int64.\n",
    "La función crea un caminante aleatorio sobre la matriz con igual probabilidad de avanzar \n",
    "hacia cualquiera de sus vecinos. Esta función recorre todos los nodos de la red como\n",
    "nodos iniciales y sobre ellos itera para obtener el número de caminos que se le pidió.\n",
    "Regresa un arreglo que contiene arreglos asociados a todas las trayectorias que tomó el \n",
    "caminante aleatorio para cada nodo inicial de la red.\n",
    "\"\"\"\n",
    "function random_walk(M::Array{Int64,2}, steps::Int64, iter::Int64) \n",
    "    random_walks = []\n",
    "    nodos = size(M, 1)\n",
    "    for f in 1:nodos #aeropuertos\n",
    "        paths = r_walks(M, f, steps, iter)\n",
    "        push!(random_walks, paths)\n",
    "    end\n",
    "    random_walks\n",
    "end"
   ]
  },
  {
   "cell_type": "markdown",
   "metadata": {},
   "source": [
    "### Longitud de caminatas"
   ]
  },
  {
   "cell_type": "code",
   "execution_count": 93,
   "metadata": {},
   "outputs": [
    {
     "data": {
      "text/plain": [
       "walk_length"
      ]
     },
     "execution_count": 93,
     "metadata": {},
     "output_type": "execute_result"
    }
   ],
   "source": [
    "\"\"\"\n",
    "    walk_length(W)\n",
    "La función walk_length tiene como parámetros:\n",
    "RW, arreglo de arreglos de tipo Array{Any,1} que corresponde al arreglo de caminatas aleatorias.\n",
    "La función regresa un arreglo de arreglos que contiene las longitudes de todas las trayectorias que tomó el \n",
    "caminante aleatorio para cada nodo inicial de la red.\n",
    "\"\"\"\n",
    "function walk_length(W)\n",
    "    \n",
    "    longitudes = Array[]\n",
    "    \n",
    "    v = length(W) #tamaño de la matriz, número de nodos\n",
    "    s = size(W[1], 1) #Es el número de iteraciones\n",
    "    longitud = zeros(Int64, s)\n",
    "    \n",
    "    for i in 1:v\n",
    "        \n",
    "        for j in 1:s\n",
    "               \n",
    "            longitud[j] = findlast(x -> x != 0, W[i][j, :])\n",
    "            \n",
    "        end\n",
    "         push!(longitudes, longitud)\n",
    "        \n",
    "        longitud = zeros(Int64, s)\n",
    "    end\n",
    "    return longitudes\n",
    "        \n",
    "end"
   ]
  },
  {
   "cell_type": "code",
   "execution_count": 20,
   "metadata": {},
   "outputs": [
    {
     "data": {
      "text/plain": [
       "walk_av_length (generic function with 1 method)"
      ]
     },
     "execution_count": 20,
     "metadata": {},
     "output_type": "execute_result"
    }
   ],
   "source": [
    "\"\"\"\n",
    "    walk_av_length(W)\n",
    "La función walk_av_length tiene como parámetro W, que es un arreglo de arreglos (que se puede obtener de la \n",
    "función walk_length). \n",
    "Regresa un arreglo con entradas correspondientes al promedio de las longitudes de \n",
    "las caminatas aleatorias para cada nodo de inicio antes de caer en un nodo con grado de salida 0.\n",
    "\"\"\"\n",
    "\n",
    "function walk_av_length(W) #Llamar a función\n",
    "    \n",
    "    proms = []\n",
    "    wlength = walk_length(W)\n",
    "    \n",
    "    for i in 1:length(wlength)\n",
    "        av = mean(wlength[i])\n",
    "        push!(proms, av)\n",
    "    end\n",
    "    proms\n",
    "end"
   ]
  },
  {
   "cell_type": "code",
   "execution_count": 21,
   "metadata": {},
   "outputs": [
    {
     "data": {
      "text/plain": [
       "walk_layer_length"
      ]
     },
     "execution_count": 21,
     "metadata": {},
     "output_type": "execute_result"
    }
   ],
   "source": [
    "\"\"\"\n",
    "    walk_layer_length(W)\n",
    "Función que saca el promedio de longitud de caminata en la capa\n",
    "\"\"\"\n",
    "function walk_layer_length(W)\n",
    "    \n",
    "    x = walk_av_length(W)\n",
    "    av = mean(x)\n",
    "    \n",
    "    return av\n",
    "end"
   ]
  },
  {
   "cell_type": "markdown",
   "metadata": {},
   "source": [
    "### Nodos/aeropuertos visitados"
   ]
  },
  {
   "cell_type": "code",
   "execution_count": 22,
   "metadata": {},
   "outputs": [
    {
     "data": {
      "text/plain": [
       "nodos_visitados"
      ]
     },
     "execution_count": 22,
     "metadata": {},
     "output_type": "execute_result"
    }
   ],
   "source": [
    "\"\"\"\n",
    "    nodos_visitados(W)\n",
    "La función caminos tiene como parámetro W que es un arreglo de arreglos.\n",
    "Regresa los nodos diferentes a los que llega el caminante.\n",
    "\"\"\"\n",
    "function nodos_visitados(W)\n",
    "    \n",
    "    cobert = []\n",
    "    v = length(W) #tamaño de la matriz, número de nodos\n",
    "    s = size(W[1], 1) #lo puedo sacar, para todos es el mismo. Es el número de iteraciones\n",
    "    t = size(W[1], 2) #número de pasos, no necesario\n",
    "    #visit = zeros(Int64, s) #Arreglo de ceros de tamaño número de iteraciones\n",
    "    visit = []\n",
    "    \n",
    "    for i in 1:v        \n",
    "        for j in 1:s\n",
    "            u = unique(W[i][j, :])\n",
    "            push!(visit, u)\n",
    "        end\n",
    "        \n",
    "        push!(cobert, visit)\n",
    "        visit = []\n",
    "    end\n",
    "    \n",
    "    return cobert\n",
    "end"
   ]
  },
  {
   "cell_type": "markdown",
   "metadata": {},
   "source": [
    "### Frecuencia de visitas"
   ]
  },
  {
   "cell_type": "code",
   "execution_count": 23,
   "metadata": {},
   "outputs": [
    {
     "data": {
      "text/plain": [
       "freq_visitas_nodos"
      ]
     },
     "execution_count": 23,
     "metadata": {},
     "output_type": "execute_result"
    }
   ],
   "source": [
    "\"\"\"\n",
    "    freq_visitas_nodos(W::Array)\n",
    "\n",
    "Función que hace un diccionario con frecuencias de visitas\n",
    "\"\"\"\n",
    "function freq_visitas_nodos(W::Array)\n",
    "    \n",
    "    dicc = [] #arreglo vacío\n",
    "    \n",
    "    nodos = length(W) #tamaño de caminatas\n",
    "    iter = size(W[1], 1) #núm de iteraciones\n",
    "    diccionario = 0\n",
    "    \n",
    "    #for i = n\n",
    "    for i in 1:nodos #corro por todos los nodos\n",
    "        for j in 1:iter #corro por las iteraciones\n",
    "            diccionario = countmap(W[i][j, :]) #hago diccionario de freqs de cada caminata\n",
    "            push!(dicc, diccionario) #guardo el diccionario en un arreglo vacío\n",
    "        end\n",
    "        \n",
    "        diccionario = 0\n",
    "    end\n",
    "    return dicc\n",
    "end"
   ]
  },
  {
   "cell_type": "code",
   "execution_count": 107,
   "metadata": {},
   "outputs": [
    {
     "data": {
      "text/plain": [
       "5×11 Array{Int64,2}:\n",
       " 1  2  1  2  1  2  1  2  3  0  0\n",
       " 1  2  3  0  0  0  0  0  0  0  0\n",
       " 1  2  3  0  0  0  0  0  0  0  0\n",
       " 1  2  3  0  0  0  0  0  0  0  0\n",
       " 1  2  1  2  1  2  1  2  1  2  3"
      ]
     },
     "execution_count": 107,
     "metadata": {},
     "output_type": "execute_result"
    }
   ],
   "source": [
    "rw[1]"
   ]
  },
  {
   "cell_type": "code",
   "execution_count": 105,
   "metadata": {},
   "outputs": [
    {
     "data": {
      "text/plain": [
       "15-element Array{Any,1}:\n",
       " Dict(0=>2,2=>4,3=>1,1=>4)\n",
       " Dict(0=>8,2=>1,3=>1,1=>1)\n",
       " Dict(0=>8,2=>1,3=>1,1=>1)\n",
       " Dict(0=>8,2=>1,3=>1,1=>1)\n",
       " Dict(2=>5,3=>1,1=>5)     \n",
       " Dict(0=>9,2=>1,3=>1)     \n",
       " Dict(0=>3,2=>4,3=>1,1=>3)\n",
       " Dict(0=>1,2=>5,3=>1,1=>4)\n",
       " Dict(0=>3,2=>4,3=>1,1=>3)\n",
       " Dict(0=>1,2=>5,3=>1,1=>4)\n",
       " Dict(0=>10,3=>1)         \n",
       " Dict(0=>10,3=>1)         \n",
       " Dict(0=>10,3=>1)         \n",
       " Dict(0=>10,3=>1)         \n",
       " Dict(0=>10,3=>1)         "
      ]
     },
     "execution_count": 105,
     "metadata": {},
     "output_type": "execute_result"
    }
   ],
   "source": [
    "freq_visitas_nodos(rw)"
   ]
  },
  {
   "cell_type": "code",
   "execution_count": 24,
   "metadata": {},
   "outputs": [
    {
     "data": {
      "text/plain": [
       "distrib_visitas_nodos"
      ]
     },
     "execution_count": 24,
     "metadata": {},
     "output_type": "execute_result"
    }
   ],
   "source": [
    "\"\"\"\n",
    "    distrib_visitas_nodos(W)\n",
    "\n",
    "Función que crea un arreglo de arreglos con la distribución de frecuencia de visitas\n",
    "\"\"\"\n",
    "function distrib_visitas_nodos(W)\n",
    "    \n",
    "    x = freq_visitas_nodos(W) #diccionario de frecuencias\n",
    "    l = length(W)\n",
    "    f = 0\n",
    "    frec_total = [] #zeros(Array, length(x)) #arreglo de ceros de tamaño núm dicc\n",
    "    frec_nodo = zeros(Int64, l+1) #arreglo de nodos de tamaño núm nodos para get frec\n",
    "\n",
    "    for i in 1:length(x) #corro por los nodos\n",
    "\n",
    "        for j in 1:l+1 #corro por los nodos\n",
    "\n",
    "            frec_nodo[j] = get(x[i], f, 0) #entrada j de freq nodo la cambio por la entrada j del dicc i\n",
    "            f += 1\n",
    "        end\n",
    "        push!(frec_total, frec_nodo)\n",
    "        \n",
    "        f = 0\n",
    "        frec_nodo = zeros(Int64, l+1)\n",
    "        \n",
    "    end\n",
    "    \n",
    "    return frec_total\n",
    "end"
   ]
  },
  {
   "cell_type": "code",
   "execution_count": 108,
   "metadata": {},
   "outputs": [
    {
     "data": {
      "text/plain": [
       "15-element Array{Any,1}:\n",
       " [2, 4, 4, 1] \n",
       " [8, 1, 1, 1] \n",
       " [8, 1, 1, 1] \n",
       " [8, 1, 1, 1] \n",
       " [0, 5, 5, 1] \n",
       " [9, 0, 1, 1] \n",
       " [3, 3, 4, 1] \n",
       " [1, 4, 5, 1] \n",
       " [3, 3, 4, 1] \n",
       " [1, 4, 5, 1] \n",
       " [10, 0, 0, 1]\n",
       " [10, 0, 0, 1]\n",
       " [10, 0, 0, 1]\n",
       " [10, 0, 0, 1]\n",
       " [10, 0, 0, 1]"
      ]
     },
     "execution_count": 108,
     "metadata": {},
     "output_type": "execute_result"
    }
   ],
   "source": [
    "distrib_visitas_nodos(rw)"
   ]
  },
  {
   "cell_type": "code",
   "execution_count": 25,
   "metadata": {},
   "outputs": [
    {
     "data": {
      "text/plain": [
       "plot_visit_freq"
      ]
     },
     "execution_count": 25,
     "metadata": {},
     "output_type": "execute_result"
    }
   ],
   "source": [
    "\"\"\"\n",
    "    plot_visit_freq(W)\n",
    "\n",
    "Función que hace un heatmap de nodos en los que cae, cada renglón corresponde a una caminata\n",
    "\"\"\"\n",
    "function plot_visit_freq(W)\n",
    "    \n",
    "    pyplot()\n",
    "    x = distrib_visitas_nodos(W)\n",
    "    h = transpose(hcat(x...))\n",
    "\n",
    "    xs = [string(\"n\", i) for i = 0:1:length(W)]\n",
    "    ys = [string(\"rw\", i) for i = 1:length(x)]\n",
    "    z = h\n",
    "    heatmap(xs, ys, z, aspect_ratio=1)\n",
    "end"
   ]
  },
  {
   "cell_type": "code",
   "execution_count": 109,
   "metadata": {},
   "outputs": [
    {
     "data": {
      "image/png": "[encoded data removed]"
     },
     "execution_count": 109,
     "metadata": {},
     "output_type": "execute_result"
    }
   ],
   "source": [
    "plot_visit_freq(rw)"
   ]
  },
  {
   "cell_type": "code",
   "execution_count": 26,
   "metadata": {},
   "outputs": [
    {
     "data": {
      "text/plain": [
       "freq_visitas_nodo"
      ]
     },
     "execution_count": 26,
     "metadata": {},
     "output_type": "execute_result"
    }
   ],
   "source": [
    "\"\"\"\n",
    "    freq_visitas_nodo(W::Array, n)\n",
    "\n",
    "Función que hace un diccionario con frecuencias para un nodo inicial\n",
    "\"\"\"\n",
    "function freq_visitas_nodo(W::Array, n) #puede ser más eficiente llamando la función anterior sin nodo\n",
    "    \n",
    "    dicc = [] #arreglo vacío\n",
    "    \n",
    "    nodos = length(W) #tamaño de caminatas\n",
    "    iter = size(W[1], 1) #núm de iteraciones\n",
    "    diccionario = 0\n",
    "    \n",
    "    for j in 1:iter #corro por las iteraciones\n",
    "          \n",
    "        diccionario = countmap(W[n][j, :]) #hago diccionario de freqs de cada caminata\n",
    "          \n",
    "        push!(dicc, diccionario) #guardo el diccionario en un arreglo vacío\n",
    "          \n",
    "    end\n",
    "    \n",
    "    return dicc\n",
    "end"
   ]
  },
  {
   "cell_type": "code",
   "execution_count": 110,
   "metadata": {},
   "outputs": [
    {
     "data": {
      "text/plain": [
       "5-element Array{Any,1}:\n",
       " Dict(0=>2,2=>4,3=>1,1=>4)\n",
       " Dict(0=>8,2=>1,3=>1,1=>1)\n",
       " Dict(0=>8,2=>1,3=>1,1=>1)\n",
       " Dict(0=>8,2=>1,3=>1,1=>1)\n",
       " Dict(2=>5,3=>1,1=>5)     "
      ]
     },
     "execution_count": 110,
     "metadata": {},
     "output_type": "execute_result"
    }
   ],
   "source": [
    "freq_visitas_nodo(rw,1)"
   ]
  },
  {
   "cell_type": "code",
   "execution_count": 27,
   "metadata": {},
   "outputs": [
    {
     "data": {
      "text/plain": [
       "distrib_visitas_nodo"
      ]
     },
     "execution_count": 27,
     "metadata": {},
     "output_type": "execute_result"
    }
   ],
   "source": [
    "\"\"\"\n",
    "    distrib_visitas_nodo(W, n)\n",
    "\n",
    "Función que crea un arreglo de arreglos con la distribución de frecuencias de visitas de un nodo inicial\n",
    "\"\"\"\n",
    "function distrib_visitas_nodo(W, n)\n",
    "    \n",
    "    x = freq_visitas_nodo(W, n) #diccionario de frecuencias\n",
    "    l = length(W)\n",
    "    f = 0\n",
    "    frec_total = [] #zeros(Array, length(x)) #arreglo de ceros de tamaño núm dicc\n",
    "    frec_nodo = zeros(Int64, l+1) #arreglo de nodos de tamaño núm nodos para get frec\n",
    "\n",
    "    for i in 1:length(x) #corro por los nodos\n",
    "\n",
    "        for j in 1:l+1 #corro por los nodos\n",
    "\n",
    "            frec_nodo[j] = get(x[i], f, 0) #entrada j de freq nodo la cambio por la entrada j del dicc i\n",
    "            \n",
    "            \n",
    "            f += 1\n",
    "        end\n",
    "        push!(frec_total, frec_nodo)\n",
    "        \n",
    "        f = 0\n",
    "        frec_nodo = zeros(Int64, l+1)\n",
    "        \n",
    "    end\n",
    "    \n",
    "    return frec_total\n",
    "end"
   ]
  },
  {
   "cell_type": "code",
   "execution_count": 111,
   "metadata": {},
   "outputs": [
    {
     "data": {
      "text/plain": [
       "5-element Array{Any,1}:\n",
       " [2, 4, 4, 1]\n",
       " [8, 1, 1, 1]\n",
       " [8, 1, 1, 1]\n",
       " [8, 1, 1, 1]\n",
       " [0, 5, 5, 1]"
      ]
     },
     "execution_count": 111,
     "metadata": {},
     "output_type": "execute_result"
    }
   ],
   "source": [
    "distrib_visitas_nodo(rw,1)"
   ]
  },
  {
   "cell_type": "code",
   "execution_count": 113,
   "metadata": {},
   "outputs": [
    {
     "data": {
      "text/plain": [
       "plot_visit_freq_nodo"
      ]
     },
     "execution_count": 113,
     "metadata": {},
     "output_type": "execute_result"
    }
   ],
   "source": [
    "\"\"\"\n",
    "    plot_visit_freq_nodo(W, n)\n",
    "\n",
    "Función que hace un heatmap de los nodos en los que cae, cada renglón corresponde a una caminata con cierto nodo inicial\n",
    "\"\"\"\n",
    "function plot_visit_freq_nodo(W, n)\n",
    "    \n",
    "    pyplot()\n",
    "    x = distrib_visitas_nodo(W, n)\n",
    "    h = transpose(hcat(x...))\n",
    "    pasos = size(W[1],2)-1\n",
    "\n",
    "    xs = [string(\"n\", i) for i = 0:1:length(W)]\n",
    "    ys = [string(\"rw\", i) for i = 1:length(x)]\n",
    "    z = h\n",
    "    heatmap(xs, ys, z, aspect_ratio = 1, clims = (0, pasos))\n",
    "end"
   ]
  },
  {
   "cell_type": "code",
   "execution_count": 114,
   "metadata": {},
   "outputs": [
    {
     "data": {
      "image/png": "[encoded data removed]"
     },
     "execution_count": 114,
     "metadata": {},
     "output_type": "execute_result"
    }
   ],
   "source": [
    "plot_visit_freq_nodo(rw,1)"
   ]
  },
  {
   "cell_type": "code",
   "execution_count": 129,
   "metadata": {},
   "outputs": [
    {
     "data": {
      "text/plain": [
       "distrib_nodos_prom"
      ]
     },
     "execution_count": 129,
     "metadata": {},
     "output_type": "execute_result"
    }
   ],
   "source": [
    "\"\"\"\n",
    "    distrib_nodos_prom(W::Array)\n",
    "\n",
    "Función que hace una distribución por nodo inicial y muestra todos los nodos iniciales\n",
    "\"\"\"\n",
    "function distrib_nodos_prom(W::Array)\n",
    "    \n",
    "    nodos = length(W) #número de nodos\n",
    "    dicc = zeros(Float64, nodos, nodos+1) #matriz de ceros (nodos x nodos+1)\n",
    "    nombres = 1:1:nodos\n",
    "    \n",
    "    for i in 1:nodos #corro por todos los nodos nombres #\n",
    "        conteos = counts(W[i]) #hago diccionario de freqs de cada caminata\n",
    "        dicc[i, :] = conteos \n",
    "    end\n",
    "\n",
    "    dicc\n",
    "end"
   ]
  },
  {
   "cell_type": "code",
   "execution_count": 127,
   "metadata": {},
   "outputs": [
    {
     "data": {
      "text/plain": [
       "3×4 Array{Float64,2}:\n",
       " 26.0  12.0  12.0  5.0\n",
       " 17.0  14.0  19.0  5.0\n",
       " 50.0   0.0   0.0  5.0"
      ]
     },
     "execution_count": 127,
     "metadata": {},
     "output_type": "execute_result"
    }
   ],
   "source": [
    "distrib_nodos_prom(rw)"
   ]
  },
  {
   "cell_type": "code",
   "execution_count": 103,
   "metadata": {},
   "outputs": [
    {
     "data": {
      "text/plain": [
       "3-element Array{Any,1}:\n",
       " [1 2 … 0 0; 1 2 … 0 0; … ; 1 2 … 0 0; 1 2 … 2 3]\n",
       " [2 3 … 0 0; 2 1 … 0 0; … ; 2 1 … 0 0; 2 1 … 3 0]\n",
       " [3 0 … 0 0; 3 0 … 0 0; … ; 3 0 … 0 0; 3 0 … 0 0]"
      ]
     },
     "execution_count": 103,
     "metadata": {},
     "output_type": "execute_result"
    }
   ],
   "source": [
    "mat = [0 1 0\n",
    "       1 0 1\n",
    "       0 0 0]\n",
    "rw = random_walk(mat, 10, 5)"
   ]
  },
  {
   "cell_type": "code",
   "execution_count": null,
   "metadata": {},
   "outputs": [],
   "source": []
  },
  {
   "cell_type": "code",
   "execution_count": null,
   "metadata": {},
   "outputs": [],
   "source": []
  },
  {
   "cell_type": "code",
   "execution_count": 30,
   "metadata": {},
   "outputs": [
    {
     "data": {
      "text/plain": [
       "plot_freq_nodos_prom"
      ]
     },
     "execution_count": 30,
     "metadata": {},
     "output_type": "execute_result"
    }
   ],
   "source": [
    "\"\"\"\n",
    "    plot_freq_nodos_prom(W::Array)\n",
    "\n",
    "Función que crea un diccionario con frecuencias por nodo inicial y muestra todos\n",
    "\"\"\"\n",
    "function plot_freq_nodos_prom(W::Array)\n",
    "    \n",
    "    pyplot()\n",
    "    x = distrib_nodos_prom(W)\n",
    "    \n",
    "    xs = [string(\"n\", i) for i = 0:1:length(W)]\n",
    "    ys = [string(\"rw\", i) for i = 1:length(W)]\n",
    "    z = x\n",
    "    heatmap(xs, ys, z, aspect_ratio = 1, clims = (0, maximum(x)))\n",
    "end"
   ]
  },
  {
   "cell_type": "markdown",
   "metadata": {},
   "source": [
    "### Cobertura"
   ]
  },
  {
   "cell_type": "code",
   "execution_count": 31,
   "metadata": {},
   "outputs": [
    {
     "data": {
      "text/plain": [
       "cobertura"
      ]
     },
     "execution_count": 31,
     "metadata": {},
     "output_type": "execute_result"
    }
   ],
   "source": [
    "\"\"\"\n",
    "La función cobertura tiene como parámetro W que es un arreglo de arreglos.\n",
    "Regresa el número de nodos diferentes a los que llega el caminante.\n",
    "\"\"\"\n",
    "function cobertura(W) \n",
    "    \n",
    "    cobert = []\n",
    "    \n",
    "    v = length(W) #tamaño de la matriz, número de nodos\n",
    "    x = nodos_visitados(W)\n",
    "    s = size(x[1], 1) #lo puedo sacar, para todos es el mismo. Es el número de iteraciones\n",
    "    longz = zeros(Int64, s) #Arreglo de ceros de tamaño número de iteraciones\n",
    "    \n",
    "    for i in 1:v        \n",
    "        for j in 1:s\n",
    "            l = length(x[i][j])\n",
    "            longz[j] = l\n",
    "        end\n",
    "        push!(cobert, longz)\n",
    "        longz = zeros(Int64, s)\n",
    "    end\n",
    "    return cobert\n",
    "end"
   ]
  },
  {
   "cell_type": "code",
   "execution_count": 32,
   "metadata": {},
   "outputs": [
    {
     "data": {
      "text/plain": [
       "n_cobertura_av"
      ]
     },
     "execution_count": 32,
     "metadata": {},
     "output_type": "execute_result"
    }
   ],
   "source": [
    "\"\"\"\n",
    "    n_cobertura_av(W)\n",
    "Da el promedio de cobertura la caminata por nodo inicial. \n",
    "\"\"\"\n",
    "function n_cobertura_av(W) #Esta es la importante\n",
    "    \n",
    "    longitud = []\n",
    "    x = cobertura(W)\n",
    "    \n",
    "    for i in 1:length(x)\n",
    "        l = mean(x[i])\n",
    "        push!(longitud, l)\n",
    "    end\n",
    "    longitud\n",
    "end\n",
    "\n"
   ]
  },
  {
   "cell_type": "code",
   "execution_count": 33,
   "metadata": {},
   "outputs": [
    {
     "data": {
      "text/plain": [
       "cobertura_av"
      ]
     },
     "execution_count": 33,
     "metadata": {},
     "output_type": "execute_result"
    }
   ],
   "source": [
    "\"\"\"\n",
    "    cobertura_av(W)\n",
    "\n",
    "Da el promedio de la longitud de las caminatas para todos los nodos, como un número.\n",
    "\"\"\"\n",
    "function cobertura_av(W)\n",
    "    x = n_cobertura_av(W)\n",
    "    promedio = mean(x)\n",
    "    return promedio\n",
    "end"
   ]
  },
  {
   "cell_type": "markdown",
   "metadata": {},
   "source": [
    "### Máximos y mínimos de longitud"
   ]
  },
  {
   "cell_type": "code",
   "execution_count": 34,
   "metadata": {},
   "outputs": [
    {
     "data": {
      "text/plain": [
       "max_length"
      ]
     },
     "execution_count": 34,
     "metadata": {},
     "output_type": "execute_result"
    }
   ],
   "source": [
    "\"\"\"\n",
    "    max_length(W)\n",
    "Da la longitud máxima de cada iteración de cada nodo inicial.\n",
    "\"\"\"\n",
    "function max_length(W)\n",
    "    max = []\n",
    "    x = cobertura(W)\n",
    "    for i in 1:length(x)\n",
    "        m = maximum(x[i])\n",
    "        push!(max, m)\n",
    "    end\n",
    "    max\n",
    "end"
   ]
  },
  {
   "cell_type": "code",
   "execution_count": 35,
   "metadata": {},
   "outputs": [
    {
     "data": {
      "text/plain": [
       "Max_length"
      ]
     },
     "execution_count": 35,
     "metadata": {},
     "output_type": "execute_result"
    }
   ],
   "source": [
    "\"\"\"\n",
    "    Max_length(W)\n",
    "Da la longitud máxima total.\n",
    "\"\"\"\n",
    "function Max_length(W)\n",
    "    x = max_length(W)\n",
    "    m = maximum(x)\n",
    "    return m\n",
    "end"
   ]
  },
  {
   "cell_type": "code",
   "execution_count": 36,
   "metadata": {},
   "outputs": [
    {
     "data": {
      "text/plain": [
       "av_max_length"
      ]
     },
     "execution_count": 36,
     "metadata": {},
     "output_type": "execute_result"
    }
   ],
   "source": [
    "\"\"\"\n",
    "    av_max_length(W)\n",
    "Regresa el promedio de la longitud máxima de cada nodo inicial.\n",
    "\"\"\"\n",
    "function av_max_length(W)\n",
    "    x = max_length(W)\n",
    "    prom = mean(x)\n",
    "    return prom\n",
    "end"
   ]
  },
  {
   "cell_type": "code",
   "execution_count": 37,
   "metadata": {},
   "outputs": [
    {
     "data": {
      "text/plain": [
       "min_length"
      ]
     },
     "execution_count": 37,
     "metadata": {},
     "output_type": "execute_result"
    }
   ],
   "source": [
    "\"\"\"\n",
    "    min_length(W)\n",
    "Da la longitud mínima de cada iteración de cada nodo inicial.\n",
    "\"\"\"\n",
    "function min_length(W)\n",
    "    min = []\n",
    "    x = cobertura(W)\n",
    "    for i in 1:length(x)\n",
    "        m = minimum(x[i])\n",
    "        push!(min, m)\n",
    "    end\n",
    "    min\n",
    "end"
   ]
  },
  {
   "cell_type": "code",
   "execution_count": 38,
   "metadata": {},
   "outputs": [
    {
     "data": {
      "text/plain": [
       "Min_length"
      ]
     },
     "execution_count": 38,
     "metadata": {},
     "output_type": "execute_result"
    }
   ],
   "source": [
    "\"\"\"\n",
    "    Min_length(W)\n",
    "Da la longitud mínima total.\n",
    "\"\"\"\n",
    "function Min_length(W)\n",
    "    x = min_length(W)\n",
    "    m = minimum(x)\n",
    "    return m\n",
    "end"
   ]
  },
  {
   "cell_type": "code",
   "execution_count": 39,
   "metadata": {},
   "outputs": [
    {
     "data": {
      "text/plain": [
       "av_min_length"
      ]
     },
     "execution_count": 39,
     "metadata": {},
     "output_type": "execute_result"
    }
   ],
   "source": [
    "\"\"\"\n",
    "    av_min_length(W)\n",
    "Regresa el promedio de la longitud mínima de cada nodo inicial.\n",
    "\"\"\"\n",
    "function av_min_length(W)\n",
    "    x = min_length(W)\n",
    "    prom = mean(x)\n",
    "    return prom\n",
    "end"
   ]
  },
  {
   "cell_type": "markdown",
   "metadata": {},
   "source": [
    "### Endpoints"
   ]
  },
  {
   "cell_type": "code",
   "execution_count": 40,
   "metadata": {},
   "outputs": [
    {
     "data": {
      "text/plain": [
       "endpoints"
      ]
     },
     "execution_count": 40,
     "metadata": {},
     "output_type": "execute_result"
    }
   ],
   "source": [
    "\"\"\"\n",
    "    endpoints(W)\n",
    "\n",
    "Regresa un arreglo de arreglos que contiene los nodos en los que cae cada caminata y ya no puede salir.\n",
    "\"\"\"\n",
    "function endpoints(W) \n",
    "    x = nodos_visitados(W)\n",
    "    atractores = [] #Arreglo vacío que contenga a los atractores\n",
    "    v = length(W) #tamaño de la matriz, número de nodos\n",
    "    s = size(W[1], 1) #lo puedo sacar, para todos es el mismo. Es el número de iteraciones\n",
    "    t = size(W[1], 2) #número de pasos +1\n",
    "    atract = zeros(Int64, s) #Arreglo de ceros de tamaño número de iteraciones\n",
    "    \n",
    "    for i in 1:v        \n",
    "        for j in 1:s\n",
    "            if x[i][j, :][end][end] == 0\n",
    "                at = x[i][j, :][end][end - 1]\n",
    "                atract[j] = at\n",
    "            else\n",
    "                atract[j] = 0\n",
    "            end\n",
    "        end\n",
    "        push!(atractores, atract)\n",
    "        atract = zeros(Int64, s)\n",
    "    end\n",
    "    return atractores\n",
    "end"
   ]
  },
  {
   "cell_type": "code",
   "execution_count": 41,
   "metadata": {},
   "outputs": [
    {
     "data": {
      "text/plain": [
       "av_n_endpoints"
      ]
     },
     "execution_count": 41,
     "metadata": {},
     "output_type": "execute_result"
    }
   ],
   "source": [
    "\"\"\"\n",
    "    av_n_endpoints(W)\n",
    "Función que calcula el promedio de endpoints por nodo\n",
    "\"\"\"\n",
    "function av_n_endpoints(W) \n",
    "    \n",
    "    x = endpoints(W)\n",
    "    atractores_prom = [] #Arreglo vacío que contenga a los atractores\n",
    "    v = length(W) #tamaño de la matriz, número de nodos\n",
    "\n",
    "    for i in 1:v        \n",
    "        av = mean(x[i])\n",
    "        push!(atractores_prom, av)\n",
    "    end\n",
    "    atractores_prom\n",
    "end"
   ]
  },
  {
   "cell_type": "markdown",
   "metadata": {},
   "source": [
    "### Distribución de frecuencia de endpoints"
   ]
  },
  {
   "cell_type": "code",
   "execution_count": 42,
   "metadata": {},
   "outputs": [
    {
     "data": {
      "text/plain": [
       "freq_endpoints"
      ]
     },
     "execution_count": 42,
     "metadata": {},
     "output_type": "execute_result"
    }
   ],
   "source": [
    "\"\"\"\n",
    "    freq_endpoints(W)\n",
    "Función que da un diccionario con frecuencias\n",
    "\"\"\"\n",
    "function freq_endpoints(W)\n",
    "    freqs = []\n",
    "    x = endpoints(W)\n",
    "    v = length(W)\n",
    "    \n",
    "    for i in 1:v\n",
    "        frec = countmap(x[i])\n",
    "        push!(freqs, frec)\n",
    "    end\n",
    "    freqs\n",
    "end"
   ]
  },
  {
   "cell_type": "code",
   "execution_count": 43,
   "metadata": {},
   "outputs": [
    {
     "data": {
      "text/plain": [
       "distrib_endpoints"
      ]
     },
     "execution_count": 43,
     "metadata": {},
     "output_type": "execute_result"
    }
   ],
   "source": [
    "\"\"\"\n",
    "    distrib_endpoints(W)\n",
    "Función que saca la distribución de los atractores para toda la capa\n",
    "\"\"\"\n",
    "function distrib_endpoints(W)\n",
    "    x = freq_endpoints(W)\n",
    "    frec_total = zeros(Int64, length(W))\n",
    "    frec_nodo = zeros(Int64, length(W))\n",
    "\n",
    "    for i in 1:length(W)\n",
    "        for j in 1:length(W)\n",
    "            frec_nodo[j] = get(x[i], j, 0)\n",
    "        end\n",
    "        frec_total += frec_nodo\n",
    "    end\n",
    "    \n",
    "    return frec_total\n",
    "end"
   ]
  },
  {
   "cell_type": "markdown",
   "metadata": {},
   "source": [
    "## Datos\n",
    "\n",
    "\n",
    "### Multiplex Global"
   ]
  },
  {
   "cell_type": "code",
   "execution_count": 44,
   "metadata": {},
   "outputs": [
    {
     "data": {
      "text/plain": [
       "3189×3189 Array{Int64,2}:\n",
       " 0  0  0  1  0  0  0  1  1  0  0  0  0  …  0  0  0  0  0  0  0  0  0  0  0  0\n",
       " 0  0  0  1  0  0  0  1  1  1  0  0  0     0  0  0  0  0  0  0  0  0  0  0  0\n",
       " 0  0  0  1  0  0  0  1  1  0  0  0  0     0  0  0  0  0  0  0  0  0  0  0  0\n",
       " 1  1  1  0  1  1  1  1  1  1  1  1  1     0  0  0  0  0  0  0  0  0  0  0  0\n",
       " 0  0  0  1  0  0  1  1  1  0  0  0  0     0  0  0  0  0  0  0  0  0  0  0  0\n",
       " 0  0  0  1  0  0  0  0  1  1  1  0  0  …  0  0  0  0  0  0  0  0  0  0  0  0\n",
       " 0  0  0  1  1  0  0  0  1  0  0  0  0     0  0  0  0  0  0  0  0  0  0  0  0\n",
       " 1  1  1  1  1  0  0  0  1  0  0  0  0     0  0  0  0  0  0  0  0  0  0  0  0\n",
       " 1  1  1  1  1  1  1  1  0  1  1  0  0     0  0  0  0  0  0  0  0  0  0  0  0\n",
       " 0  1  0  1  0  1  0  0  1  0  0  0  0     0  0  0  0  0  0  0  0  0  0  0  0\n",
       " 0  0  0  1  0  1  0  0  1  0  0  0  0  …  0  0  0  0  0  0  0  0  0  0  0  0\n",
       " 0  0  0  1  0  0  0  0  0  0  0  0  0     0  0  0  0  0  0  0  0  0  0  0  0\n",
       " 0  0  0  1  0  0  0  0  0  0  0  0  0     0  0  0  0  0  0  0  0  0  0  0  0\n",
       " ⋮              ⋮              ⋮        ⋱           ⋮              ⋮         \n",
       " 0  0  0  0  0  0  0  0  0  0  0  0  0     0  0  0  0  0  0  0  0  0  0  0  0\n",
       " 0  0  0  0  0  0  0  0  0  0  0  0  0     0  0  0  0  0  0  0  0  0  0  0  0\n",
       " 0  0  0  0  0  0  0  0  0  0  0  0  0     0  0  0  0  0  0  0  0  0  0  0  0\n",
       " 0  0  0  0  0  0  0  0  0  0  0  0  0  …  0  0  0  0  0  0  0  0  0  0  0  0\n",
       " 0  0  0  0  0  0  0  0  0  0  0  0  0     0  0  0  0  0  0  0  0  0  0  0  0\n",
       " 0  0  0  0  0  0  0  0  0  0  0  0  0     0  0  0  0  0  0  0  0  0  0  0  0\n",
       " 0  0  0  0  0  0  0  0  0  0  0  0  0     0  0  0  0  0  0  0  0  0  0  0  0\n",
       " 0  0  0  0  0  0  0  0  0  0  0  0  0     0  0  0  0  0  0  0  0  0  0  0  0\n",
       " 0  0  0  0  0  0  0  0  0  0  0  0  0  …  0  0  0  0  0  0  0  0  0  0  0  0\n",
       " 0  0  0  0  0  0  0  0  0  0  0  0  0     0  0  0  0  0  0  0  0  0  0  0  0\n",
       " 0  0  0  0  0  0  0  0  0  0  0  0  0     0  0  0  0  0  0  0  0  0  0  0  0\n",
       " 0  0  0  0  0  0  0  0  0  0  0  0  0     0  0  0  0  0  0  0  0  0  0  0  0"
      ]
     },
     "execution_count": 44,
     "metadata": {},
     "output_type": "execute_result"
    }
   ],
   "source": [
    "multiplex = importar_matriz(\"data/multi_17_du.csv\")"
   ]
  },
  {
   "cell_type": "code",
   "execution_count": 45,
   "metadata": {},
   "outputs": [
    {
     "data": {
      "text/plain": [
       "3189-element Array{Any,1}:\n",
       " \"AER\"\n",
       " \"ASF\"\n",
       " \"CEK\"\n",
       " \"DME\"\n",
       " \"EGO\"\n",
       " \"GYD\"\n",
       " \"KGD\"\n",
       " \"KZN\"\n",
       " \"LED\"\n",
       " \"MRV\"\n",
       " \"NBC\"\n",
       " \"NJC\"\n",
       " \"NUX\"\n",
       " ⋮    \n",
       " \"LPS\"\n",
       " \"ORX\"\n",
       " \"BVS\"\n",
       " \"MTE\"\n",
       " \"DLZ\"\n",
       " \"UII\"\n",
       " \"ZBF\"\n",
       " \"CMP\"\n",
       " \"BSS\"\n",
       " \"AEX\"\n",
       " \"GCK\"\n",
       " \"MGM\""
      ]
     },
     "execution_count": 45,
     "metadata": {},
     "output_type": "execute_result"
    }
   ],
   "source": [
    "nombres_multiplex = data_names(\"data/multi_17_du.csv\")"
   ]
  },
  {
   "cell_type": "markdown",
   "metadata": {},
   "source": [
    "## Distribuciones de grado\n",
    "\n",
    "### Multiplex Global\n",
    "\n",
    "#### Grado de entrada"
   ]
  },
  {
   "cell_type": "code",
   "execution_count": 46,
   "metadata": {},
   "outputs": [
    {
     "data": {
      "text/plain": [
       "3189×1 Array{Int64,2}:\n",
       "  17\n",
       "   7\n",
       "  14\n",
       " 187\n",
       "   9\n",
       "  39\n",
       "  10\n",
       "  21\n",
       " 110\n",
       "  16\n",
       "   7\n",
       "   9\n",
       "  10\n",
       "   ⋮\n",
       "   0\n",
       "   0\n",
       "   0\n",
       "   0\n",
       "   0\n",
       "   0\n",
       "   0\n",
       "   0\n",
       "   0\n",
       "   0\n",
       "   0\n",
       "   0"
      ]
     },
     "execution_count": 46,
     "metadata": {},
     "output_type": "execute_result"
    }
   ],
   "source": [
    "in_degree_multiplex = in_degree(multiplex)"
   ]
  },
  {
   "cell_type": "code",
   "execution_count": 47,
   "metadata": {},
   "outputs": [
    {
     "data": {
      "text/plain": [
       "238-element Array{Int64,1}:\n",
       "  23\n",
       " 894\n",
       " 588\n",
       " 324\n",
       " 227\n",
       " 138\n",
       "  92\n",
       "  87\n",
       "  74\n",
       "  62\n",
       "  37\n",
       "  29\n",
       "  40\n",
       "   ⋮\n",
       "   0\n",
       "   1\n",
       "   0\n",
       "   0\n",
       "   0\n",
       "   0\n",
       "   0\n",
       "   0\n",
       "   0\n",
       "   0\n",
       "   0\n",
       "   1"
      ]
     },
     "execution_count": 47,
     "metadata": {},
     "output_type": "execute_result"
    }
   ],
   "source": [
    "distrib_in_multiplex = distrib_in_degree(multiplex)"
   ]
  },
  {
   "cell_type": "code",
   "execution_count": 48,
   "metadata": {},
   "outputs": [
    {
     "data": {
      "image/png": "[encoded data removed]"
     },
     "execution_count": 48,
     "metadata": {},
     "output_type": "execute_result"
    }
   ],
   "source": [
    "in_M = plot_distrib(multiplex, \"in\", \"Multiplex Distribución Entrada\", \"black\")"
   ]
  },
  {
   "cell_type": "markdown",
   "metadata": {},
   "source": [
    "#### Grado de salida"
   ]
  },
  {
   "cell_type": "code",
   "execution_count": 49,
   "metadata": {},
   "outputs": [
    {
     "data": {
      "text/plain": [
       "1×3189 Array{Int64,2}:\n",
       " 18  7  14  186  9  39  10  21  112  …  1  3  1  1  1  1  1  1  1  1  1  1"
      ]
     },
     "execution_count": 49,
     "metadata": {},
     "output_type": "execute_result"
    }
   ],
   "source": [
    "out_degree_multiplex = out_degree(multiplex)"
   ]
  },
  {
   "cell_type": "code",
   "execution_count": 50,
   "metadata": {},
   "outputs": [
    {
     "data": {
      "text/plain": [
       "234-element Array{Int64,1}:\n",
       "  10\n",
       " 908\n",
       " 579\n",
       " 333\n",
       " 216\n",
       " 141\n",
       "  99\n",
       "  85\n",
       "  71\n",
       "  68\n",
       "  36\n",
       "  33\n",
       "  37\n",
       "   ⋮\n",
       "   0\n",
       "   0\n",
       "   0\n",
       "   1\n",
       "   0\n",
       "   0\n",
       "   0\n",
       "   0\n",
       "   1\n",
       "   0\n",
       "   0\n",
       "   1"
      ]
     },
     "execution_count": 50,
     "metadata": {},
     "output_type": "execute_result"
    }
   ],
   "source": [
    "distrib_out_multiplex = distrib_out_degree(multiplex)"
   ]
  },
  {
   "cell_type": "code",
   "execution_count": 51,
   "metadata": {},
   "outputs": [
    {
     "data": {
      "image/png": "[encoded data removed]"
     },
     "execution_count": 51,
     "metadata": {},
     "output_type": "execute_result"
    }
   ],
   "source": [
    "out_M = plot_distrib(multiplex, \"out\", \"Multiplex Distribución Salida\", \"black\")"
   ]
  },
  {
   "cell_type": "markdown",
   "metadata": {},
   "source": [
    "## Vecinos\n",
    "\n",
    "### Multiplex global"
   ]
  },
  {
   "cell_type": "code",
   "execution_count": 52,
   "metadata": {},
   "outputs": [
    {
     "name": "stdout",
     "output_type": "stream",
     "text": [
      "  0.268042 seconds (233.35 k allocations: 89.285 MiB, 9.03% gc time)\n"
     ]
    },
    {
     "data": {
      "text/plain": [
       "3189-element Array{Any,1}:\n",
       " [4, 8, 9, 15, 352, 594, 670, 671, 682, 724, 727, 728, 837, 998, 1527, 1531, 2274]                        \n",
       " [4, 8, 9, 10, 232, 594, 1829]                                                                            \n",
       " [4, 8, 9, 14, 90, 244, 478, 594, 682, 724, 725, 728, 1527, 1752]                                         \n",
       " [1, 2, 3, 5, 6, 7, 8, 9, 10, 11  …  2741, 2742, 2743, 2744, 2797, 2845, 2846, 2847, 2865, 3089]          \n",
       " [4, 7, 8, 9, 671, 725, 753, 759, 2408]                                                                   \n",
       " [4, 9, 10, 11, 14, 15, 232, 304, 319, 340  …  1015, 1527, 1530, 1531, 1532, 1561, 1829, 1960, 2274, 2282]\n",
       " [4, 5, 9, 193, 594, 684, 997, 1527, 1531, 1756]                                                          \n",
       " [1, 2, 3, 4, 5, 9, 15, 90, 242, 246  …  423, 594, 723, 724, 725, 727, 728, 730, 1527, 1752]              \n",
       " [1, 2, 3, 4, 5, 6, 7, 8, 10, 11  …  2231, 2274, 2282, 2550, 2552, 2734, 2738, 2742, 2846, 2865]          \n",
       " [2, 4, 6, 9, 15, 90, 232, 340, 352, 358, 594, 682, 683, 724, 1527, 1829]                                 \n",
       " [4, 6, 9, 15, 594, 724, 727]                                                                             \n",
       " [4, 14, 15, 17, 349, 594, 728, 2274, 2797]                                                               \n",
       " [4, 14, 15, 349, 351, 352, 594, 671, 2274, 2275]                                                         \n",
       " ⋮                                                                                                        \n",
       " Int64[]                                                                                                  \n",
       " Int64[]                                                                                                  \n",
       " Int64[]                                                                                                  \n",
       " Int64[]                                                                                                  \n",
       " Int64[]                                                                                                  \n",
       " Int64[]                                                                                                  \n",
       " Int64[]                                                                                                  \n",
       " Int64[]                                                                                                  \n",
       " Int64[]                                                                                                  \n",
       " Int64[]                                                                                                  \n",
       " Int64[]                                                                                                  \n",
       " Int64[]                                                                                                  "
      ]
     },
     "execution_count": 52,
     "metadata": {},
     "output_type": "execute_result"
    }
   ],
   "source": [
    "vecinos_M = @time vecinos(multiplex)"
   ]
  },
  {
   "cell_type": "markdown",
   "metadata": {},
   "source": [
    "## Caminatas aleatorias\n",
    "\n",
    "### Multiplex"
   ]
  },
  {
   "cell_type": "code",
   "execution_count": 53,
   "metadata": {},
   "outputs": [
    {
     "name": "stdout",
     "output_type": "stream",
     "text": [
      "924.434701 seconds (1.41 G allocations: 304.569 GiB, 9.55% gc time)\n"
     ]
    },
    {
     "data": {
      "text/plain": [
       "3189-element Array{Any,1}:\n",
       " [1 15 … 0 0; 1 1527 … 0 0; … ; 1 1531 … 1150 371; 1 594 … 1023 1877] \n",
       " [2 594 … 0 0; 2 9 … 0 0; … ; 2 8 … 1201 404; 2 232 … 0 0]            \n",
       " [3 244 … 0 0; 3 594 … 0 0; … ; 3 1527 … 1202 1149; 3 594 … 1153 1128]\n",
       " [4 1226 … 0 0; 4 670 … 0 0; … ; 4 2740 … 457 486; 4 3 … 0 0]         \n",
       " [5 2408 … 0 0; 5 725 … 0 0; … ; 5 2408 … 2660 2657; 5 7 … 0 0]       \n",
       " [6 2282 … 0 0; 6 441 … 0 0; … ; 6 11 … 0 0; 6 494 … 457 486]         \n",
       " [7 5 … 0 0; 7 9 … 0 0; … ; 7 1531 … 0 0; 7 594 … 0 0]                \n",
       " [8 9 … 0 0; 8 728 … 0 0; … ; 8 594 … 0 0; 8 5 … 1391 1371]           \n",
       " [9 2 … 0 0; 9 188 … 0 0; … ; 9 2738 … 43 1656; 9 1823 … 0 0]         \n",
       " [10 4 … 0 0; 10 594 … 0 0; … ; 10 90 … 0 0; 10 683 … 223 418]        \n",
       " [11 724 … 0 0; 11 15 … 0 0; … ; 11 6 … 1150 371; 11 6 … 1023 1877]   \n",
       " [12 2797 … 0 0; 12 17 … 0 0; … ; 12 17 … 0 0; 12 15 … 457 486]       \n",
       " [13 14 … 0 0; 13 15 … 0 0; … ; 13 2275 … 0 0; 13 4 … 2000 449]       \n",
       " ⋮                                                                    \n",
       " [3178 0 … 0 0; 3178 0 … 0 0; … ; 3178 0 … 0 0; 3178 0 … 0 0]         \n",
       " [3179 0 … 0 0; 3179 0 … 0 0; … ; 3179 0 … 0 0; 3179 0 … 0 0]         \n",
       " [3180 0 … 0 0; 3180 0 … 0 0; … ; 3180 0 … 0 0; 3180 0 … 0 0]         \n",
       " [3181 0 … 0 0; 3181 0 … 0 0; … ; 3181 0 … 0 0; 3181 0 … 0 0]         \n",
       " [3182 0 … 0 0; 3182 0 … 0 0; … ; 3182 0 … 0 0; 3182 0 … 0 0]         \n",
       " [3183 0 … 0 0; 3183 0 … 0 0; … ; 3183 0 … 0 0; 3183 0 … 0 0]         \n",
       " [3184 0 … 0 0; 3184 0 … 0 0; … ; 3184 0 … 0 0; 3184 0 … 0 0]         \n",
       " [3185 0 … 0 0; 3185 0 … 0 0; … ; 3185 0 … 0 0; 3185 0 … 0 0]         \n",
       " [3186 0 … 0 0; 3186 0 … 0 0; … ; 3186 0 … 0 0; 3186 0 … 0 0]         \n",
       " [3187 0 … 0 0; 3187 0 … 0 0; … ; 3187 0 … 0 0; 3187 0 … 0 0]         \n",
       " [3188 0 … 0 0; 3188 0 … 0 0; … ; 3188 0 … 0 0; 3188 0 … 0 0]         \n",
       " [3189 0 … 0 0; 3189 0 … 0 0; … ; 3189 0 … 0 0; 3189 0 … 0 0]         "
      ]
     },
     "execution_count": 53,
     "metadata": {},
     "output_type": "execute_result"
    }
   ],
   "source": [
    "caminata_M = @time random_walk(multiplex, 2500, 100) #nuevo"
   ]
  },
  {
   "cell_type": "markdown",
   "metadata": {},
   "source": [
    "## Longitud de todas las iteraciones de caminatas "
   ]
  },
  {
   "cell_type": "code",
   "execution_count": 94,
   "metadata": {},
   "outputs": [
    {
     "name": "stdout",
     "output_type": "stream",
     "text": [
      " 16.242225 seconds (1.95 M allocations: 6.004 GiB, 15.74% gc time)\n"
     ]
    },
    {
     "data": {
      "text/plain": [
       "3189-element Array{Array,1}:\n",
       " [1986, 1643, 216, 393, 685, 487, 487, 1234, 1361, 154  …  738, 57, 2501, 2501, 1742, 1623, 2501, 1863, 2501, 2501]  \n",
       " [246, 434, 106, 739, 465, 1643, 216, 1077, 487, 487  …  1029, 2501, 1422, 2501, 2501, 2501, 2501, 1657, 2501, 1825] \n",
       " [165, 82, 434, 106, 739, 229, 1879, 359, 934, 487  …  882, 1048, 879, 2501, 1844, 2055, 704, 329, 2501, 2501]       \n",
       " [1986, 1643, 216, 393, 685, 487, 158, 330, 1234, 1361  …  576, 2501, 183, 2501, 847, 2501, 92, 1331, 2501, 738]     \n",
       " [1986, 1643, 1292, 487, 487, 1234, 1361, 2501, 2501, 1344  …  2501, 28, 799, 1021, 2501, 1422, 2501, 84, 2501, 691] \n",
       " [1986, 1643, 216, 1077, 487, 487, 1234, 1361, 2501, 2501  …  139, 75, 606, 2501, 75, 2501, 955, 2501, 1422, 2501]   \n",
       " [1986, 1643, 55, 162, 393, 685, 487, 487, 1234, 1361  …  1604, 2501, 1422, 2501, 738, 2501, 2501, 1798, 224, 731]   \n",
       " [1986, 1643, 216, 1077, 487, 487, 1234, 1361, 2501, 2501  …  2501, 389, 2501, 139, 680, 2501, 183, 2501, 847, 2501] \n",
       " [246, 1741, 1643, 359, 934, 487, 487, 1234, 1361, 38  …  2446, 2501, 2501, 1604, 2501, 1422, 2501, 89, 2501, 686]   \n",
       " [1986, 1643, 216, 1077, 487, 487, 1234, 1361, 2501, 2501  …  2501, 2501, 1029, 52, 2501, 325, 1047, 2501, 84, 2501] \n",
       " [1986, 1643, 216, 1077, 487, 487, 1234, 1361, 2501, 2501  …  2501, 2501, 2452, 1623, 35, 2501, 1791, 39, 2501, 2501]\n",
       " [126, 121, 1741, 1643, 1292, 487, 487, 108, 1127, 1361  …  2501, 1274, 576, 2501, 183, 2501, 847, 2501, 1422, 2501] \n",
       " [246, 1741, 1643, 216, 1077, 487, 487, 1234, 1361, 2501  …  576, 17, 2501, 2501, 1013, 2501, 1422, 2501, 738, 2501] \n",
       " ⋮                                                                                                                   \n",
       " [1, 1, 1, 1, 1, 1, 1, 1, 1, 1  …  1, 1, 1, 1, 1, 1, 1, 1, 1, 1]                                                     \n",
       " [1, 1, 1, 1, 1, 1, 1, 1, 1, 1  …  1, 1, 1, 1, 1, 1, 1, 1, 1, 1]                                                     \n",
       " [1, 1, 1, 1, 1, 1, 1, 1, 1, 1  …  1, 1, 1, 1, 1, 1, 1, 1, 1, 1]                                                     \n",
       " [1, 1, 1, 1, 1, 1, 1, 1, 1, 1  …  1, 1, 1, 1, 1, 1, 1, 1, 1, 1]                                                     \n",
       " [1, 1, 1, 1, 1, 1, 1, 1, 1, 1  …  1, 1, 1, 1, 1, 1, 1, 1, 1, 1]                                                     \n",
       " [1, 1, 1, 1, 1, 1, 1, 1, 1, 1  …  1, 1, 1, 1, 1, 1, 1, 1, 1, 1]                                                     \n",
       " [1, 1, 1, 1, 1, 1, 1, 1, 1, 1  …  1, 1, 1, 1, 1, 1, 1, 1, 1, 1]                                                     \n",
       " [1, 1, 1, 1, 1, 1, 1, 1, 1, 1  …  1, 1, 1, 1, 1, 1, 1, 1, 1, 1]                                                     \n",
       " [1, 1, 1, 1, 1, 1, 1, 1, 1, 1  …  1, 1, 1, 1, 1, 1, 1, 1, 1, 1]                                                     \n",
       " [1, 1, 1, 1, 1, 1, 1, 1, 1, 1  …  1, 1, 1, 1, 1, 1, 1, 1, 1, 1]                                                     \n",
       " [1, 1, 1, 1, 1, 1, 1, 1, 1, 1  …  1, 1, 1, 1, 1, 1, 1, 1, 1, 1]                                                     \n",
       " [1, 1, 1, 1, 1, 1, 1, 1, 1, 1  …  1, 1, 1, 1, 1, 1, 1, 1, 1, 1]                                                     "
      ]
     },
     "execution_count": 94,
     "metadata": {},
     "output_type": "execute_result"
    }
   ],
   "source": [
    "li_M = @time walk_length(caminata_M)"
   ]
  },
  {
   "cell_type": "markdown",
   "metadata": {},
   "source": [
    "## Longitud promedio de las iteraciones de caminatas de cada nodo inicial"
   ]
  },
  {
   "cell_type": "code",
   "execution_count": 96,
   "metadata": {
    "scrolled": false
   },
   "outputs": [
    {
     "name": "stdout",
     "output_type": "stream",
     "text": [
      " 16.347859 seconds (1.84 M allocations: 5.999 GiB, 16.57% gc time)\n"
     ]
    },
    {
     "data": {
      "text/plain": [
       "3189-element Array{Any,1}:\n",
       " 1488.35\n",
       " 1437.97\n",
       " 1195.51\n",
       " 1310.54\n",
       " 1335.9 \n",
       " 1303.17\n",
       " 1388.04\n",
       " 1263.96\n",
       " 1335.9 \n",
       " 1329.0 \n",
       " 1488.35\n",
       " 1303.17\n",
       " 1335.54\n",
       "    ⋮   \n",
       "    1.0 \n",
       "    1.0 \n",
       "    1.0 \n",
       "    1.0 \n",
       "    1.0 \n",
       "    1.0 \n",
       "    1.0 \n",
       "    1.0 \n",
       "    1.0 \n",
       "    1.0 \n",
       "    1.0 \n",
       "    1.0 "
      ]
     },
     "execution_count": 96,
     "metadata": {},
     "output_type": "execute_result"
    }
   ],
   "source": [
    "lpn_M = @time walk_av_length(caminata_M)"
   ]
  },
  {
   "cell_type": "code",
   "execution_count": 97,
   "metadata": {},
   "outputs": [
    {
     "data": {
      "image/png": "[encoded data removed]"
     },
     "execution_count": 97,
     "metadata": {},
     "output_type": "execute_result"
    }
   ],
   "source": [
    "pyplot()\n",
    "d_lpn_M = scatter(lpn_M, color=\"#0f87bf\",alpha=0.8, \n",
    "    title=\"Multiplex\", \n",
    "    xlabel=\"Nodo inicial\", \n",
    "    ylabel=\"Promedio long.\")"
   ]
  },
  {
   "cell_type": "markdown",
   "metadata": {},
   "source": [
    "## Longitud promedio de caminatas por capa"
   ]
  },
  {
   "cell_type": "code",
   "execution_count": 95,
   "metadata": {},
   "outputs": [
    {
     "name": "stdout",
     "output_type": "stream",
     "text": [
      " 16.225222 seconds (1.86 M allocations: 6.000 GiB, 16.84% gc time)\n"
     ]
    },
    {
     "data": {
      "text/plain": [
       "1330.1215992474151"
      ]
     },
     "execution_count": 95,
     "metadata": {},
     "output_type": "execute_result"
    }
   ],
   "source": [
    "wl_M = @time walk_layer_length(caminata_M)"
   ]
  },
  {
   "cell_type": "markdown",
   "metadata": {},
   "source": [
    "## Nodos visitados específicamente"
   ]
  },
  {
   "cell_type": "code",
   "execution_count": 58,
   "metadata": {},
   "outputs": [],
   "source": [
    "#No lo corro ahora para que no se tarde tanto\n",
    "#nv_M = @time nodos_visitados(caminata_M)"
   ]
  },
  {
   "cell_type": "code",
   "execution_count": 59,
   "metadata": {},
   "outputs": [],
   "source": [
    "#Falta función de aeropuertos específicos"
   ]
  },
  {
   "cell_type": "markdown",
   "metadata": {},
   "source": [
    "## Frecuencia de visitas"
   ]
  },
  {
   "cell_type": "code",
   "execution_count": 60,
   "metadata": {},
   "outputs": [
    {
     "name": "stdout",
     "output_type": "stream",
     "text": [
      "298.267421 seconds (12.17 M allocations: 62.746 GiB, 49.02% gc time)\n"
     ]
    },
    {
     "data": {
      "text/plain": [
       "318900-element Array{Any,1}:\n",
       " Dict(306=>1,1090=>2,1333=>1,1671=>3,1662=>1,176=>6,892=>3,285=>1,1481=>1,318=>3…)\n",
       " Dict(74=>1,3064=>5,176=>6,1481=>1,318=>2,3108=>1,2061=>1,354=>5,671=>2,1144=>1…) \n",
       " Dict(461=>1,124=>1,643=>1,2=>1,638=>1,1097=>1,1135=>1,370=>1,1324=>1,1872=>1…)   \n",
       " Dict(633=>2,1993=>1,158=>4,1862=>1,1557=>1,478=>2,1895=>1,384=>1,57=>2,31=>2…)   \n",
       " Dict(633=>2,306=>1,1807=>1,1993=>2,491=>1,134=>1,158=>3,215=>2,2383=>1,2854=>1…) \n",
       " Dict(633=>2,1760=>1,1090=>1,491=>1,478=>1,300=>2,1000=>1,1103=>1,289=>1,74=>2…)  \n",
       " Dict(633=>1,1760=>1,2677=>2,1564=>1,215=>1,582=>1,1557=>1,1869=>1,300=>2,173=>4…)\n",
       " Dict(1760=>1,74=>1,1662=>1,905=>1,176=>3,318=>3,1337=>1,2284=>1,354=>1,671=>2…)  \n",
       " Dict(1316=>1,2564=>5,2376=>1,74=>1,1265=>1,892=>3,1481=>2,318=>2,2061=>1,354=>1…)\n",
       " Dict(1564=>1,1763=>1,2854=>1,464=>1,193=>1,58=>3,478=>1,428=>1,1049=>1,2896=>1…) \n",
       " Dict(1671=>1,1131=>2,74=>2,1662=>2,176=>3,1481=>3,318=>5,354=>1,1845=>1,563=>1…) \n",
       " Dict(1760=>2,1090=>1,74=>1,176=>2,1469=>1,892=>1,285=>2,1881=>2,318=>1,2061=>3…) \n",
       " Dict(1131=>1,74=>1,176=>1,892=>1,318=>1,2061=>1,354=>1,563=>2,1451=>1,2202=>4…)  \n",
       " ⋮                                                                                \n",
       " Dict(0=>2500,3189=>1)                                                            \n",
       " Dict(0=>2500,3189=>1)                                                            \n",
       " Dict(0=>2500,3189=>1)                                                            \n",
       " Dict(0=>2500,3189=>1)                                                            \n",
       " Dict(0=>2500,3189=>1)                                                            \n",
       " Dict(0=>2500,3189=>1)                                                            \n",
       " Dict(0=>2500,3189=>1)                                                            \n",
       " Dict(0=>2500,3189=>1)                                                            \n",
       " Dict(0=>2500,3189=>1)                                                            \n",
       " Dict(0=>2500,3189=>1)                                                            \n",
       " Dict(0=>2500,3189=>1)                                                            \n",
       " Dict(0=>2500,3189=>1)                                                            "
      ]
     },
     "execution_count": 60,
     "metadata": {},
     "output_type": "execute_result"
    }
   ],
   "source": [
    "freq_visit_M = @time freq_visitas_nodos(caminata_M)"
   ]
  },
  {
   "cell_type": "code",
   "execution_count": 61,
   "metadata": {},
   "outputs": [],
   "source": [
    "#distrib_visit_M = @time distrib_visitas_nodos(caminata_M)"
   ]
  },
  {
   "cell_type": "code",
   "execution_count": 62,
   "metadata": {},
   "outputs": [],
   "source": [
    "#plot_visit_freq(caminata_M)"
   ]
  },
  {
   "cell_type": "code",
   "execution_count": 63,
   "metadata": {},
   "outputs": [],
   "source": [
    "#freq_visitas_nodo(W::Array, n)"
   ]
  },
  {
   "cell_type": "code",
   "execution_count": 64,
   "metadata": {},
   "outputs": [],
   "source": [
    "#distrib_visitas_nodos(caminata_M, n)"
   ]
  },
  {
   "cell_type": "code",
   "execution_count": 65,
   "metadata": {},
   "outputs": [],
   "source": [
    "#plot_visit_freq_nodo(caminata_M, n)"
   ]
  },
  {
   "cell_type": "code",
   "execution_count": 130,
   "metadata": {},
   "outputs": [
    {
     "ename": "DimensionMismatch",
     "evalue": "DimensionMismatch(\"tried to assign 3168-element array to 1×3190 destination\")",
     "output_type": "error",
     "traceback": [
      "DimensionMismatch(\"tried to assign 3168-element array to 1×3190 destination\")",
      "",
      "Stacktrace:",
      " [1] throw_setindex_mismatch(::Array{Int64,1}, ::Tuple{Int64,Int64}) at ./indices.jl:169",
      " [2] setindex_shape_check at ./indices.jl:221 [inlined]",
      " [3] macro expansion at ./multidimensional.jl:694 [inlined]",
      " [4] _unsafe_setindex!(::IndexLinear, ::Array{Float64,2}, ::Array{Int64,1}, ::Int64, ::Base.Slice{Base.OneTo{Int64}}) at ./multidimensional.jl:689",
      " [5] _setindex! at ./multidimensional.jl:684 [inlined]",
      " [6] setindex!(::Array{Float64,2}, ::Array{Int64,1}, ::Int64, ::Function) at ./abstractarray.jl:1020",
      " [7] distrib_nodos_prom(::Array{Any,1}) at ./In[129]:14",
      " [8] top-level scope at util.jl:156",
      " [9] top-level scope at In[130]:1"
     ]
    }
   ],
   "source": [
    "distrib_prom_M = @time distrib_nodos_prom(caminata_M)"
   ]
  },
  {
   "cell_type": "code",
   "execution_count": 67,
   "metadata": {},
   "outputs": [
    {
     "ename": "DimensionMismatch",
     "evalue": "DimensionMismatch(\"tried to assign 3168-element array to 1×3190 destination\")",
     "output_type": "error",
     "traceback": [
      "DimensionMismatch(\"tried to assign 3168-element array to 1×3190 destination\")",
      "",
      "Stacktrace:",
      " [1] throw_setindex_mismatch(::Array{Int64,1}, ::Tuple{Int64,Int64}) at ./indices.jl:169",
      " [2] setindex_shape_check at ./indices.jl:221 [inlined]",
      " [3] macro expansion at ./multidimensional.jl:694 [inlined]",
      " [4] _unsafe_setindex!(::IndexLinear, ::Array{Float64,2}, ::Array{Int64,1}, ::Int64, ::Base.Slice{Base.OneTo{Int64}}) at ./multidimensional.jl:689",
      " [5] _setindex! at ./multidimensional.jl:684 [inlined]",
      " [6] setindex!(::Array{Float64,2}, ::Array{Int64,1}, ::Int64, ::Function) at ./abstractarray.jl:1020",
      " [7] distrib_nodos_prom(::Array{Any,1}) at ./In[29]:14",
      " [8] plot_freq_nodos_prom(::Array{Any,1}) at ./In[30]:9",
      " [9] top-level scope at In[67]:1"
     ]
    }
   ],
   "source": [
    "plot_freq_nodos_prom(caminata_M)"
   ]
  },
  {
   "cell_type": "markdown",
   "metadata": {},
   "source": [
    "## Cobertura (nodos distintos)"
   ]
  },
  {
   "cell_type": "code",
   "execution_count": 68,
   "metadata": {},
   "outputs": [
    {
     "name": "stdout",
     "output_type": "stream",
     "text": [
      "455.853552 seconds (9.18 M allocations: 18.105 GiB, 67.64% gc time)\n"
     ]
    },
    {
     "data": {
      "text/plain": [
       "3189-element Array{Any,1}:\n",
       " [795, 712, 169, 262, 393, 310, 299, 611, 660, 123  …  420, 54, 878, 902, 715, 703, 893, 741, 874, 907] \n",
       " [191, 276, 87, 415, 313, 717, 158, 550, 309, 310  …  508, 864, 680, 877, 99, 902, 877, 709, 891, 755]  \n",
       " [117, 68, 277, 87, 412, 180, 764, 235, 500, 308  …  452, 553, 466, 876, 732, 753, 406, 227, 914, 901]  \n",
       " [788, 723, 162, 260, 402, 311, 132, 222, 586, 660  …  346, 908, 149, 862, 438, 861, 72, 655, 876, 422] \n",
       " [792, 712, 575, 308, 304, 601, 668, 840, 892, 599  …  923, 26, 421, 532, 864, 680, 904, 74, 35, 402]   \n",
       " [793, 712, 161, 548, 325, 298, 603, 657, 848, 883  …  106, 67, 362, 907, 63, 882, 478, 855, 647, 881]  \n",
       " [796, 713, 35, 131, 262, 404, 325, 303, 603, 658  …  673, 852, 690, 894, 422, 885, 899, 705, 159, 434] \n",
       " [795, 720, 160, 544, 309, 283, 608, 659, 842, 878  …  866, 253, 945, 111, 393, 922, 151, 871, 450, 858]\n",
       " [187, 748, 729, 234, 479, 310, 316, 594, 656, 32  …  901, 895, 905, 672, 864, 672, 886, 76, 880, 403]  \n",
       " [787, 717, 161, 544, 299, 283, 586, 659, 842, 882  …  922, 878, 518, 49, 852, 204, 548, 879, 77, 878]  \n",
       " [806, 714, 168, 544, 309, 303, 615, 662, 842, 883  …  35, 877, 879, 700, 24, 904, 733, 36, 852, 895]   \n",
       " [88, 100, 744, 717, 584, 310, 312, 88, 576, 669  …  884, 612, 347, 912, 150, 864, 459, 870, 691, 887]  \n",
       " [188, 748, 714, 163, 544, 310, 312, 612, 661, 835  …  347, 14, 902, 867, 512, 869, 690, 883, 423, 884] \n",
       " ⋮                                                                                                      \n",
       " [2, 2, 2, 2, 2, 2, 2, 2, 2, 2  …  2, 2, 2, 2, 2, 2, 2, 2, 2, 2]                                        \n",
       " [2, 2, 2, 2, 2, 2, 2, 2, 2, 2  …  2, 2, 2, 2, 2, 2, 2, 2, 2, 2]                                        \n",
       " [2, 2, 2, 2, 2, 2, 2, 2, 2, 2  …  2, 2, 2, 2, 2, 2, 2, 2, 2, 2]                                        \n",
       " [2, 2, 2, 2, 2, 2, 2, 2, 2, 2  …  2, 2, 2, 2, 2, 2, 2, 2, 2, 2]                                        \n",
       " [2, 2, 2, 2, 2, 2, 2, 2, 2, 2  …  2, 2, 2, 2, 2, 2, 2, 2, 2, 2]                                        \n",
       " [2, 2, 2, 2, 2, 2, 2, 2, 2, 2  …  2, 2, 2, 2, 2, 2, 2, 2, 2, 2]                                        \n",
       " [2, 2, 2, 2, 2, 2, 2, 2, 2, 2  …  2, 2, 2, 2, 2, 2, 2, 2, 2, 2]                                        \n",
       " [2, 2, 2, 2, 2, 2, 2, 2, 2, 2  …  2, 2, 2, 2, 2, 2, 2, 2, 2, 2]                                        \n",
       " [2, 2, 2, 2, 2, 2, 2, 2, 2, 2  …  2, 2, 2, 2, 2, 2, 2, 2, 2, 2]                                        \n",
       " [2, 2, 2, 2, 2, 2, 2, 2, 2, 2  …  2, 2, 2, 2, 2, 2, 2, 2, 2, 2]                                        \n",
       " [2, 2, 2, 2, 2, 2, 2, 2, 2, 2  …  2, 2, 2, 2, 2, 2, 2, 2, 2, 2]                                        \n",
       " [2, 2, 2, 2, 2, 2, 2, 2, 2, 2  …  2, 2, 2, 2, 2, 2, 2, 2, 2, 2]                                        "
      ]
     },
     "execution_count": 68,
     "metadata": {},
     "output_type": "execute_result"
    }
   ],
   "source": [
    "cobi_M = @time cobertura(caminata_M)"
   ]
  },
  {
   "cell_type": "markdown",
   "metadata": {},
   "source": [
    "## Cobertura promedio de las caminatas de cada aeropuerto inicial"
   ]
  },
  {
   "cell_type": "code",
   "execution_count": 69,
   "metadata": {},
   "outputs": [
    {
     "name": "stdout",
     "output_type": "stream",
     "text": [
      "154.949943 seconds (9.14 M allocations: 18.104 GiB, 46.05% gc time)\n"
     ]
    },
    {
     "data": {
      "text/plain": [
       "3189-element Array{Any,1}:\n",
       " 598.98\n",
       " 559.26\n",
       " 501.15\n",
       " 537.81\n",
       " 536.31\n",
       " 538.84\n",
       " 563.75\n",
       " 520.1 \n",
       " 541.55\n",
       " 546.04\n",
       " 579.76\n",
       " 543.56\n",
       " 544.85\n",
       "   ⋮   \n",
       "   2.0 \n",
       "   2.0 \n",
       "   2.0 \n",
       "   2.0 \n",
       "   2.0 \n",
       "   2.0 \n",
       "   2.0 \n",
       "   2.0 \n",
       "   2.0 \n",
       "   2.0 \n",
       "   2.0 \n",
       "   2.0 "
      ]
     },
     "execution_count": 69,
     "metadata": {},
     "output_type": "execute_result"
    }
   ],
   "source": [
    "cobs_M = @time n_cobertura_av(caminata_M)"
   ]
  },
  {
   "cell_type": "code",
   "execution_count": 70,
   "metadata": {},
   "outputs": [
    {
     "data": {
      "image/png": "[encoded data removed]"
     },
     "execution_count": 70,
     "metadata": {},
     "output_type": "execute_result"
    }
   ],
   "source": [
    "d_cobs_M = scatter(cobs_M, color=\"#0f87bf\",alpha=0.4, \n",
    "    title=\"Long. caminatas por nodo(M)\", \n",
    "    xlabel=\"Aeropuertos iniciales\", \n",
    "    ylabel=\"Long. prom.\")"
   ]
  },
  {
   "cell_type": "markdown",
   "metadata": {},
   "source": [
    "## Cobertura promedio"
   ]
  },
  {
   "cell_type": "code",
   "execution_count": 71,
   "metadata": {},
   "outputs": [
    {
     "name": "stdout",
     "output_type": "stream",
     "text": [
      "119.843426 seconds (9.13 M allocations: 18.103 GiB, 37.09% gc time)\n"
     ]
    },
    {
     "data": {
      "text/plain": [
       "524.4462025713391"
      ]
     },
     "execution_count": 71,
     "metadata": {},
     "output_type": "execute_result"
    }
   ],
   "source": [
    "cobp_M = @time cobertura_av(caminata_M)"
   ]
  },
  {
   "cell_type": "markdown",
   "metadata": {},
   "source": [
    "## Longitudes máximas de caminatas"
   ]
  },
  {
   "cell_type": "code",
   "execution_count": 72,
   "metadata": {},
   "outputs": [
    {
     "name": "stdout",
     "output_type": "stream",
     "text": [
      "138.752128 seconds (9.17 M allocations: 18.105 GiB, 34.22% gc time)\n"
     ]
    },
    {
     "data": {
      "text/plain": [
       "3189-element Array{Any,1}:\n",
       " 907\n",
       " 902\n",
       " 914\n",
       " 908\n",
       " 948\n",
       " 945\n",
       " 919\n",
       " 945\n",
       " 905\n",
       " 922\n",
       " 904\n",
       " 912\n",
       " 907\n",
       "   ⋮\n",
       "   2\n",
       "   2\n",
       "   2\n",
       "   2\n",
       "   2\n",
       "   2\n",
       "   2\n",
       "   2\n",
       "   2\n",
       "   2\n",
       "   2\n",
       "   2"
      ]
     },
     "execution_count": 72,
     "metadata": {},
     "output_type": "execute_result"
    }
   ],
   "source": [
    "lmax_M = @time max_length(caminata_M)"
   ]
  },
  {
   "cell_type": "code",
   "execution_count": 73,
   "metadata": {},
   "outputs": [
    {
     "name": "stdout",
     "output_type": "stream",
     "text": [
      "114.593507 seconds (9.16 M allocations: 18.105 GiB, 33.73% gc time)\n"
     ]
    },
    {
     "data": {
      "text/plain": [
       "954"
      ]
     },
     "execution_count": 73,
     "metadata": {},
     "output_type": "execute_result"
    }
   ],
   "source": [
    "lMax_M = @time Max_length(caminata_M)"
   ]
  },
  {
   "cell_type": "code",
   "execution_count": 74,
   "metadata": {},
   "outputs": [
    {
     "name": "stdout",
     "output_type": "stream",
     "text": [
      "192.329432 seconds (9.13 M allocations: 18.103 GiB, 50.20% gc time)\n"
     ]
    },
    {
     "data": {
      "text/plain": [
       "896.2119786767012"
      ]
     },
     "execution_count": 74,
     "metadata": {},
     "output_type": "execute_result"
    }
   ],
   "source": [
    "lavmax_M = @time av_max_length(caminata_M)"
   ]
  },
  {
   "cell_type": "markdown",
   "metadata": {},
   "source": [
    "## Longitudes mínimas de caminatas"
   ]
  },
  {
   "cell_type": "code",
   "execution_count": 75,
   "metadata": {},
   "outputs": [
    {
     "name": "stdout",
     "output_type": "stream",
     "text": [
      "130.356651 seconds (9.13 M allocations: 18.103 GiB, 35.60% gc time)\n"
     ]
    },
    {
     "data": {
      "text/plain": [
       "3189-element Array{Any,1}:\n",
       " 28\n",
       " 30\n",
       " 50\n",
       " 58\n",
       " 26\n",
       " 21\n",
       " 18\n",
       " 26\n",
       " 32\n",
       " 27\n",
       " 24\n",
       " 24\n",
       " 14\n",
       "  ⋮\n",
       "  2\n",
       "  2\n",
       "  2\n",
       "  2\n",
       "  2\n",
       "  2\n",
       "  2\n",
       "  2\n",
       "  2\n",
       "  2\n",
       "  2\n",
       "  2"
      ]
     },
     "execution_count": 75,
     "metadata": {},
     "output_type": "execute_result"
    }
   ],
   "source": [
    "lmin_M = @time min_length(caminata_M)"
   ]
  },
  {
   "cell_type": "code",
   "execution_count": 76,
   "metadata": {},
   "outputs": [
    {
     "name": "stdout",
     "output_type": "stream",
     "text": [
      "144.405829 seconds (9.15 M allocations: 18.104 GiB, 36.08% gc time)\n"
     ]
    },
    {
     "data": {
      "text/plain": [
       "2"
      ]
     },
     "execution_count": 76,
     "metadata": {},
     "output_type": "execute_result"
    }
   ],
   "source": [
    "lMin_M = @time Min_length(caminata_M)"
   ]
  },
  {
   "cell_type": "code",
   "execution_count": 77,
   "metadata": {},
   "outputs": [
    {
     "name": "stdout",
     "output_type": "stream",
     "text": [
      "120.042650 seconds (9.12 M allocations: 18.103 GiB, 34.82% gc time)\n"
     ]
    },
    {
     "data": {
      "text/plain": [
       "17.851364063969896"
      ]
     },
     "execution_count": 77,
     "metadata": {},
     "output_type": "execute_result"
    }
   ],
   "source": [
    "lavmin_M = @time av_min_length(caminata_M)"
   ]
  },
  {
   "cell_type": "markdown",
   "metadata": {},
   "source": [
    "## Endpoints"
   ]
  },
  {
   "cell_type": "code",
   "execution_count": 78,
   "metadata": {},
   "outputs": [
    {
     "name": "stdout",
     "output_type": "stream",
     "text": [
      "127.067321 seconds (10.84 M allocations: 18.173 GiB, 31.34% gc time)\n"
     ]
    },
    {
     "data": {
      "text/plain": [
       "3189-element Array{Any,1}:\n",
       " [3189, 3182, 3173, 3173, 3184, 3173, 3173, 3173, 3169, 3175  …  3173, 3172, 0, 0, 3174, 3188, 0, 3187, 0, 0]               \n",
       " [3179, 3182, 3184, 3182, 3189, 3182, 3173, 3184, 3173, 3173  …  3173, 0, 3187, 0, 0, 0, 0, 3188, 0, 3182]                  \n",
       " [3173, 3179, 3182, 3184, 3182, 3175, 3182, 3171, 3184, 3173  …  3187, 3175, 3188, 0, 3173, 3177, 3182, 3173, 0, 0]         \n",
       " [3189, 3182, 3173, 3173, 3184, 3173, 3179, 3173, 3173, 3169  …  3173, 0, 3173, 0, 3173, 0, 3173, 3187, 0, 3173]            \n",
       " [3189, 3182, 3184, 3173, 3173, 3173, 3169, 0, 0, 3184  …  0, 3173, 3183, 3173, 0, 3187, 0, 3189, 0, 3173]                  \n",
       " [3189, 3182, 3173, 3184, 3173, 3173, 3173, 3169, 0, 0  …  3177, 3186, 3173, 0, 3175, 0, 3173, 0, 3187, 0]                  \n",
       " [3189, 3182, 3171, 3173, 3173, 3184, 3173, 3173, 3173, 3169  …  3173, 0, 3187, 0, 3173, 0, 0, 3174, 3189, 3176]            \n",
       " [3189, 3182, 3173, 3184, 3173, 3173, 3173, 3169, 0, 0  …  0, 3173, 0, 3177, 3173, 0, 3173, 0, 3173, 0]                     \n",
       " [3179, 3189, 3182, 3171, 3184, 3173, 3173, 3173, 3169, 3177  …  3189, 0, 0, 3173, 0, 3187, 0, 3173, 0, 3173]               \n",
       " [3189, 3182, 3173, 3184, 3173, 3173, 3173, 3169, 0, 0  …  0, 0, 3173, 3183, 0, 3173, 3187, 0, 3189, 0]                     \n",
       " [3189, 3182, 3173, 3184, 3173, 3173, 3173, 3169, 0, 0  …  0, 0, 3174, 3188, 3184, 0, 3182, 3187, 0, 0]                     \n",
       " [3189, 3179, 3189, 3182, 3184, 3173, 3173, 3189, 3173, 3169  …  0, 3189, 3173, 0, 3173, 0, 3173, 0, 3187, 0]               \n",
       " [3179, 3189, 3182, 3173, 3184, 3173, 3173, 3173, 3169, 0  …  3173, 3184, 0, 0, 3173, 0, 3187, 0, 3173, 0]                  \n",
       " ⋮                                                                                                                          \n",
       " [3178, 3178, 3178, 3178, 3178, 3178, 3178, 3178, 3178, 3178  …  3178, 3178, 3178, 3178, 3178, 3178, 3178, 3178, 3178, 3178]\n",
       " [3179, 3179, 3179, 3179, 3179, 3179, 3179, 3179, 3179, 3179  …  3179, 3179, 3179, 3179, 3179, 3179, 3179, 3179, 3179, 3179]\n",
       " [3180, 3180, 3180, 3180, 3180, 3180, 3180, 3180, 3180, 3180  …  3180, 3180, 3180, 3180, 3180, 3180, 3180, 3180, 3180, 3180]\n",
       " [3181, 3181, 3181, 3181, 3181, 3181, 3181, 3181, 3181, 3181  …  3181, 3181, 3181, 3181, 3181, 3181, 3181, 3181, 3181, 3181]\n",
       " [3182, 3182, 3182, 3182, 3182, 3182, 3182, 3182, 3182, 3182  …  3182, 3182, 3182, 3182, 3182, 3182, 3182, 3182, 3182, 3182]\n",
       " [3183, 3183, 3183, 3183, 3183, 3183, 3183, 3183, 3183, 3183  …  3183, 3183, 3183, 3183, 3183, 3183, 3183, 3183, 3183, 3183]\n",
       " [3184, 3184, 3184, 3184, 3184, 3184, 3184, 3184, 3184, 3184  …  3184, 3184, 3184, 3184, 3184, 3184, 3184, 3184, 3184, 3184]\n",
       " [3185, 3185, 3185, 3185, 3185, 3185, 3185, 3185, 3185, 3185  …  3185, 3185, 3185, 3185, 3185, 3185, 3185, 3185, 3185, 3185]\n",
       " [3186, 3186, 3186, 3186, 3186, 3186, 3186, 3186, 3186, 3186  …  3186, 3186, 3186, 3186, 3186, 3186, 3186, 3186, 3186, 3186]\n",
       " [3187, 3187, 3187, 3187, 3187, 3187, 3187, 3187, 3187, 3187  …  3187, 3187, 3187, 3187, 3187, 3187, 3187, 3187, 3187, 3187]\n",
       " [3188, 3188, 3188, 3188, 3188, 3188, 3188, 3188, 3188, 3188  …  3188, 3188, 3188, 3188, 3188, 3188, 3188, 3188, 3188, 3188]\n",
       " [3189, 3189, 3189, 3189, 3189, 3189, 3189, 3189, 3189, 3189  …  3189, 3189, 3189, 3189, 3189, 3189, 3189, 3189, 3189, 3189]"
      ]
     },
     "execution_count": 78,
     "metadata": {},
     "output_type": "execute_result"
    }
   ],
   "source": [
    "endpts_M = @time endpoints(caminata_M)"
   ]
  },
  {
   "cell_type": "code",
   "execution_count": 79,
   "metadata": {},
   "outputs": [
    {
     "name": "stdout",
     "output_type": "stream",
     "text": [
      "150.081311 seconds (10.77 M allocations: 18.169 GiB, 38.83% gc time)\n"
     ]
    },
    {
     "data": {
      "text/plain": [
       "3189-element Array{Any,1}:\n",
       " 2257.33\n",
       " 2257.06\n",
       " 2512.22\n",
       " 2448.13\n",
       " 2448.19\n",
       " 2415.92\n",
       " 2352.49\n",
       " 2479.15\n",
       " 2416.44\n",
       " 2416.84\n",
       " 2320.86\n",
       " 2479.92\n",
       " 2416.18\n",
       "    ⋮   \n",
       " 3178.0 \n",
       " 3179.0 \n",
       " 3180.0 \n",
       " 3181.0 \n",
       " 3182.0 \n",
       " 3183.0 \n",
       " 3184.0 \n",
       " 3185.0 \n",
       " 3186.0 \n",
       " 3187.0 \n",
       " 3188.0 \n",
       " 3189.0 "
      ]
     },
     "execution_count": 79,
     "metadata": {},
     "output_type": "execute_result"
    }
   ],
   "source": [
    "av_endpts_M = @time av_n_endpoints(caminata_M)"
   ]
  },
  {
   "cell_type": "code",
   "execution_count": null,
   "metadata": {},
   "outputs": [],
   "source": []
  },
  {
   "cell_type": "code",
   "execution_count": 80,
   "metadata": {},
   "outputs": [
    {
     "name": "stdout",
     "output_type": "stream",
     "text": [
      "137.601022 seconds (28.15 M allocations: 18.809 GiB, 32.05% gc time)\n"
     ]
    },
    {
     "data": {
      "text/plain": [
       "3189-element Array{Int64,1}:\n",
       "     0\n",
       "     0\n",
       "     0\n",
       "     0\n",
       "     0\n",
       "     0\n",
       "     0\n",
       "     0\n",
       "     0\n",
       "     0\n",
       "     0\n",
       "     0\n",
       "     0\n",
       "     ⋮\n",
       "   600\n",
       " 18870\n",
       "  8103\n",
       "  2822\n",
       " 14826\n",
       "  1799\n",
       " 31555\n",
       "  4833\n",
       " 16785\n",
       " 13384\n",
       "  6693\n",
       " 13188"
      ]
     },
     "execution_count": 80,
     "metadata": {},
     "output_type": "execute_result"
    }
   ],
   "source": [
    "distrib_endpts_M = @time distrib_endpoints(caminata_M)"
   ]
  }
 ],
 "metadata": {
  "@webio": {
   "lastCommId": null,
   "lastKernelId": null
  },
  "kernelspec": {
   "display_name": "Julia 1.1.0",
   "language": "julia",
   "name": "julia-1.1"
  },
  "language_info": {
   "file_extension": ".jl",
   "mimetype": "application/julia",
   "name": "julia",
   "version": "1.1.0"
  }
 },
 "nbformat": 4,
 "nbformat_minor": 2
}
