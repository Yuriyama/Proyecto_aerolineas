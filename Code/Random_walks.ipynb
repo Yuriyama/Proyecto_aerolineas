{
 "cells": [
  {
   "cell_type": "markdown",
   "metadata": {},
   "source": [
    "# Random Walks en Redes Multicapa de Aerolíneas"
   ]
  },
  {
   "cell_type": "code",
   "execution_count": null,
   "metadata": {},
   "outputs": [],
   "source": [
    "using StatsBase"
   ]
  },
  {
   "cell_type": "code",
   "execution_count": null,
   "metadata": {},
   "outputs": [],
   "source": [
    "using DelimitedFiles"
   ]
  },
  {
   "cell_type": "code",
   "execution_count": null,
   "metadata": {},
   "outputs": [],
   "source": [
    "using NamedArrays"
   ]
  },
  {
   "cell_type": "code",
   "execution_count": null,
   "metadata": {},
   "outputs": [],
   "source": [
    "using CSV"
   ]
  },
  {
   "cell_type": "code",
   "execution_count": null,
   "metadata": {},
   "outputs": [],
   "source": [
    "cd(\"$(homedir())/Documents/UNAM/Tesis_Lic\")"
   ]
  },
  {
   "cell_type": "code",
   "execution_count": null,
   "metadata": {},
   "outputs": [],
   "source": [
    "pwd()"
   ]
  },
  {
   "cell_type": "code",
   "execution_count": null,
   "metadata": {},
   "outputs": [],
   "source": [
    "a = [0  1  0\n",
    "     1  0  1\n",
    "     0  1  0]\n",
    "\n",
    "b = [0  1  0\n",
    "     0  0  1\n",
    "     1  1  0]\n",
    "\n",
    "c = [0  1  0\n",
    "     1  0  1\n",
    "     1  1  0];"
   ]
  },
  {
   "cell_type": "code",
   "execution_count": null,
   "metadata": {},
   "outputs": [],
   "source": [
    "\"\"\"\n",
    "La función r_walks tiene como parámetros:\n",
    "M, matriz de adyacencia de tipo Array{Int64,2}\n",
    "f, nodo inicial de tipo Int64\n",
    "steps, número de pasos de tipo Int64\n",
    "iter, número de iteraciones de tipo Int64.\n",
    "La función crea un caminante aleatorio sobre la matriz, el cual tiene igual probabilidad de avanzar \n",
    "hacia cualquiera de sus vecinos.\n",
    "Regresa un arreglo que contiene todas las trayectorias que tomó el caminante aleatorio.\n",
    "\"\"\"\n",
    "\n",
    "function r_walks(M::Array{Int64,2}, f::Int64, steps::Int64, iter::Int64)\n",
    "    nodos = size(M, 1) #aeropuertos\n",
    "    paths = zeros(Int64, (iter, steps)) \n",
    "    s = f\n",
    "    for i in 1:iter  \n",
    "        for p in 1:steps \n",
    "            row = M[s, :] #Renglón correspondiente al nodo s\n",
    "            vecinos = findall(x -> x != 0, row)\n",
    "            if vecinos == []\n",
    "                break\n",
    "            else\n",
    "                a = sample(vecinos)\n",
    "                paths[i, p] = a\n",
    "            s = a\n",
    "            end\n",
    "        end\n",
    "        s = f\n",
    "    end\n",
    "    return paths \n",
    "end"
   ]
  },
  {
   "cell_type": "code",
   "execution_count": null,
   "metadata": {},
   "outputs": [],
   "source": []
  },
  {
   "cell_type": "markdown",
   "metadata": {},
   "source": [
    "Llamaré a mi función que hace muchas iteraciones dentro de otra función que recorra todos mis nodos."
   ]
  },
  {
   "cell_type": "code",
   "execution_count": null,
   "metadata": {},
   "outputs": [],
   "source": [
    "\"\"\"\n",
    "La función random_walk tiene como parámetros:\n",
    "M, matriz de adyacencia de tipo Array{Int64,2}\n",
    "steps, número de pasos de tipo Int64\n",
    "iter, número de iteraciones de tipo Int64.\n",
    "La función crea un caminante aleatorio sobre la matriz con igual probabilidad de avanzar \n",
    "hacia cualquiera de sus vecinos. Esta función recorre todos los nodos de la red como\n",
    "nodos iniciales y sobre ellos itera para obtener el número de caminos que se le pidió.\n",
    "Regresa un arreglo que contiene arreglos asociados a todas las trayectorias que tomó el \n",
    "caminante aleatorio para cada nodo inicial de la red.\n",
    "\"\"\"\n",
    "\n",
    "function random_walk(M::Array{Int64,2}, steps::Int64, iter::Int64)\n",
    "    random_walks = []\n",
    "    nodos = size(M, 1)\n",
    "    for f in 1:nodos #aeropuertos\n",
    "        paths = random_walk_modif(M, f, steps, iter)\n",
    "        push!(random_walks, paths)\n",
    "    end\n",
    "    random_walks\n",
    "end"
   ]
  },
  {
   "cell_type": "code",
   "execution_count": null,
   "metadata": {},
   "outputs": [],
   "source": [
    "uhu = random_walk_f(c, 3, 2)"
   ]
  },
  {
   "cell_type": "code",
   "execution_count": null,
   "metadata": {},
   "outputs": [],
   "source": [
    "uhu[1]"
   ]
  },
  {
   "cell_type": "code",
   "execution_count": null,
   "metadata": {
    "scrolled": true
   },
   "outputs": [],
   "source": [
    "#Ejemplo grande\n",
    "eg = random_walk_f(c, 1000, 1000)"
   ]
  },
  {
   "cell_type": "code",
   "execution_count": null,
   "metadata": {},
   "outputs": [],
   "source": [
    "eg[3]"
   ]
  },
  {
   "cell_type": "code",
   "execution_count": null,
   "metadata": {
    "scrolled": true
   },
   "outputs": [],
   "source": [
    "CSV.read(\"data/matriz_multi_uw.csv\"; header = true, datacol = 2, types=Dict(\"col1\"=>String))"
   ]
  },
  {
   "cell_type": "code",
   "execution_count": null,
   "metadata": {},
   "outputs": [],
   "source": [
    "CSV.validate(\"data/matriz_multi_uw.csv\"; header = true)"
   ]
  },
  {
   "cell_type": "code",
   "execution_count": null,
   "metadata": {},
   "outputs": [],
   "source": [
    "multi_f = readdlm(\"data/matriz_multi_uw.csv\", ',')"
   ]
  },
  {
   "cell_type": "code",
   "execution_count": null,
   "metadata": {},
   "outputs": [],
   "source": [
    "multi_f1 = multi_f[2:end, :]"
   ]
  },
  {
   "cell_type": "code",
   "execution_count": null,
   "metadata": {},
   "outputs": [],
   "source": [
    "multi_f2 = multi_f1[:, 2:end]"
   ]
  },
  {
   "cell_type": "code",
   "execution_count": null,
   "metadata": {},
   "outputs": [],
   "source": [
    "mmulti = convert(Array{Int64,2}, multi_f2)"
   ]
  },
  {
   "cell_type": "code",
   "execution_count": null,
   "metadata": {},
   "outputs": [],
   "source": [
    "#Por lo pronto probamos con este\n",
    "\n",
    "random_walk_f(mmulti, 150, 1000)"
   ]
  },
  {
   "cell_type": "code",
   "execution_count": null,
   "metadata": {},
   "outputs": [],
   "source": []
  },
  {
   "cell_type": "code",
   "execution_count": null,
   "metadata": {},
   "outputs": [],
   "source": []
  },
  {
   "cell_type": "code",
   "execution_count": null,
   "metadata": {},
   "outputs": [],
   "source": []
  },
  {
   "cell_type": "code",
   "execution_count": null,
   "metadata": {},
   "outputs": [],
   "source": []
  },
  {
   "cell_type": "code",
   "execution_count": null,
   "metadata": {},
   "outputs": [],
   "source": []
  },
  {
   "cell_type": "code",
   "execution_count": null,
   "metadata": {},
   "outputs": [],
   "source": []
  },
  {
   "cell_type": "code",
   "execution_count": null,
   "metadata": {},
   "outputs": [],
   "source": []
  },
  {
   "cell_type": "code",
   "execution_count": null,
   "metadata": {},
   "outputs": [],
   "source": []
  },
  {
   "cell_type": "code",
   "execution_count": null,
   "metadata": {},
   "outputs": [],
   "source": []
  },
  {
   "cell_type": "code",
   "execution_count": null,
   "metadata": {},
   "outputs": [],
   "source": []
  },
  {
   "cell_type": "code",
   "execution_count": null,
   "metadata": {},
   "outputs": [],
   "source": [
    "mmulti[7, :][594]"
   ]
  },
  {
   "cell_type": "code",
   "execution_count": null,
   "metadata": {},
   "outputs": [],
   "source": [
    "#Checamos si encuentra los vecinos correctamente\n",
    "findall(x -> x != 0, mmulti[1899, :])"
   ]
  },
  {
   "cell_type": "code",
   "execution_count": null,
   "metadata": {},
   "outputs": [],
   "source": [
    "findall(x -> x != 0, mmulti[1000, :]) == []"
   ]
  },
  {
   "cell_type": "code",
   "execution_count": null,
   "metadata": {},
   "outputs": [],
   "source": [
    "size(mmulti, 1)"
   ]
  },
  {
   "cell_type": "code",
   "execution_count": null,
   "metadata": {},
   "outputs": [],
   "source": [
    "#Por lo pronto probamos con este\n",
    "\n",
    "\n",
    "random_walk_f(mmulti, 10, 2)"
   ]
  },
  {
   "cell_type": "code",
   "execution_count": null,
   "metadata": {},
   "outputs": [],
   "source": [
    "#Matriz fea\n",
    "d = [0  1  0\n",
    "     1  0  1\n",
    "     0  0  0]  "
   ]
  },
  {
   "cell_type": "code",
   "execution_count": null,
   "metadata": {},
   "outputs": [],
   "source": []
  },
  {
   "cell_type": "code",
   "execution_count": null,
   "metadata": {},
   "outputs": [],
   "source": [
    "d"
   ]
  },
  {
   "cell_type": "code",
   "execution_count": null,
   "metadata": {},
   "outputs": [],
   "source": [
    "random_walk_modif(d, 2, 5, 4)"
   ]
  },
  {
   "cell_type": "code",
   "execution_count": null,
   "metadata": {},
   "outputs": [],
   "source": [
    "    rw = []\n",
    "    #nodos = size(M, 1)\n",
    "    for f in 1:size(mmulti, 1) #aeropuertos\n",
    "        p = random_walk_modif(mmulti, f, 3, 3)\n",
    "        push!(rw, p)\n",
    "    end\n",
    "    rw"
   ]
  },
  {
   "cell_type": "code",
   "execution_count": null,
   "metadata": {},
   "outputs": [],
   "source": [
    "rw[2000]"
   ]
  },
  {
   "cell_type": "code",
   "execution_count": null,
   "metadata": {},
   "outputs": [],
   "source": [
    "random_walk_f(mmulti, 5, 2)"
   ]
  },
  {
   "cell_type": "code",
   "execution_count": null,
   "metadata": {},
   "outputs": [],
   "source": []
  },
  {
   "cell_type": "code",
   "execution_count": null,
   "metadata": {},
   "outputs": [],
   "source": []
  },
  {
   "cell_type": "code",
   "execution_count": null,
   "metadata": {},
   "outputs": [],
   "source": []
  },
  {
   "cell_type": "code",
   "execution_count": null,
   "metadata": {},
   "outputs": [],
   "source": []
  },
  {
   "cell_type": "code",
   "execution_count": null,
   "metadata": {},
   "outputs": [],
   "source": []
  },
  {
   "cell_type": "code",
   "execution_count": null,
   "metadata": {},
   "outputs": [],
   "source": [
    "readdlm(\"data/matriz_multi_uw.csv\", ',', header = true)"
   ]
  },
  {
   "cell_type": "code",
   "execution_count": null,
   "metadata": {},
   "outputs": [],
   "source": [
    "?readdlm;"
   ]
  },
  {
   "cell_type": "code",
   "execution_count": null,
   "metadata": {},
   "outputs": [],
   "source": []
  },
  {
   "cell_type": "code",
   "execution_count": null,
   "metadata": {},
   "outputs": [],
   "source": [
    "homedir()"
   ]
  },
  {
   "cell_type": "code",
   "execution_count": null,
   "metadata": {},
   "outputs": [],
   "source": []
  },
  {
   "cell_type": "code",
   "execution_count": null,
   "metadata": {},
   "outputs": [],
   "source": [
    "pwd()"
   ]
  },
  {
   "cell_type": "code",
   "execution_count": null,
   "metadata": {},
   "outputs": [],
   "source": [
    "?NamedArrays.setnames!"
   ]
  },
  {
   "cell_type": "code",
   "execution_count": null,
   "metadata": {},
   "outputs": [],
   "source": [
    "c"
   ]
  },
  {
   "cell_type": "code",
   "execution_count": null,
   "metadata": {},
   "outputs": [],
   "source": [
    "colu = [\"a\", \"b\", \"c\"]\n",
    "reng = [\"hola\", \"hi\", \"hey\"]"
   ]
  },
  {
   "cell_type": "code",
   "execution_count": null,
   "metadata": {},
   "outputs": [],
   "source": [
    "xx = NamedArray(c, [\"hola\", \"hi\", \"hey\"])"
   ]
  },
  {
   "cell_type": "code",
   "execution_count": null,
   "metadata": {},
   "outputs": [],
   "source": [
    "setnames!(a::NamedArray, names::Vector, dim::Int)\n",
    "\n",
    "# NamedArray{T,N}(a::Array{T,N}, names::NTuple{N,Vector}, dimnames::NTuple{N})\n",
    "x = NamedArray(Int[1 3; 2 4], ( [\"A\",\"B\"], [\"C\",\"D\"] ), (\"ROWS\",\"COLS\"))\n",
    "\n",
    "n = NamedArray(rand(2,4))\n",
    "setnames!(n, [\"one\", \"two\"], 1)         # give the names \"one\" and \"two\" to the rows (dimension 1)"
   ]
  },
  {
   "cell_type": "code",
   "execution_count": null,
   "metadata": {},
   "outputs": [],
   "source": []
  },
  {
   "cell_type": "code",
   "execution_count": null,
   "metadata": {},
   "outputs": [],
   "source": []
  },
  {
   "cell_type": "code",
   "execution_count": null,
   "metadata": {},
   "outputs": [],
   "source": []
  },
  {
   "cell_type": "code",
   "execution_count": null,
   "metadata": {},
   "outputs": [],
   "source": []
  },
  {
   "cell_type": "code",
   "execution_count": null,
   "metadata": {},
   "outputs": [],
   "source": []
  },
  {
   "cell_type": "code",
   "execution_count": null,
   "metadata": {},
   "outputs": [],
   "source": []
  },
  {
   "cell_type": "code",
   "execution_count": null,
   "metadata": {},
   "outputs": [],
   "source": []
  },
  {
   "cell_type": "code",
   "execution_count": null,
   "metadata": {},
   "outputs": [],
   "source": [
    "function random_walkM3(M, steps, iter)\n",
    "    nodos = size(M, 1) #aeropuertos\n",
    "    @show nodos\n",
    "    paths = zeros(Int64, (nodos*iter, steps)) \n",
    "    @show paths\n",
    "    for s in 1:nodos #Toma como nodo de inicio todos los aeropuertos \n",
    "        @show s\n",
    "        m = s\n",
    "        @show m\n",
    "        for i = 1:iter\n",
    "            @show i\n",
    "            for p in 1:steps \n",
    "                @show p\n",
    "                row = M[m, :] #Renglón correspondiente al nodo s\n",
    "                vecinos = findall(x -> x != 0, row)\n",
    "                @show vecinos\n",
    "                a = sample(vecinos)\n",
    "                @show a\n",
    "                paths[i, p] = a\n",
    "                @show paths\n",
    "                m = a\n",
    "                @show m\n",
    "            end\n",
    "            m = s\n",
    "            @show m\n",
    "        end\n",
    "    end\n",
    "    paths\n",
    "end"
   ]
  },
  {
   "cell_type": "code",
   "execution_count": null,
   "metadata": {},
   "outputs": [],
   "source": []
  },
  {
   "cell_type": "code",
   "execution_count": null,
   "metadata": {},
   "outputs": [],
   "source": []
  },
  {
   "cell_type": "code",
   "execution_count": null,
   "metadata": {},
   "outputs": [],
   "source": []
  },
  {
   "cell_type": "code",
   "execution_count": null,
   "metadata": {},
   "outputs": [],
   "source": []
  },
  {
   "cell_type": "code",
   "execution_count": null,
   "metadata": {},
   "outputs": [],
   "source": []
  },
  {
   "cell_type": "code",
   "execution_count": null,
   "metadata": {},
   "outputs": [],
   "source": [
    "function random_walk(M, steps)\n",
    "    nodos = size(M, 1)\n",
    "    paths = zeros(steps)\n",
    "    for s in 1:nodos\n",
    "        row = M[s, :]\n",
    "        n_vecinos = sum(row)\n",
    "        proba = 1/n_vecinos\n",
    "        proba1 = 1/(n_vecinos - 1)\n",
    "        p = rand()\n",
    "        for i in 1:n_vecinos\n",
    "            if proba< p <\n",
    "        if 0 proba1 < x < proba\n",
    "            \n",
    "            elseif proba < x < 2*proba\n",
    "                \n",
    "            else 0.9 < x\n",
    "                \n",
    "        end\n",
    "    end\n",
    "    paths\n",
    "end"
   ]
  },
  {
   "cell_type": "code",
   "execution_count": null,
   "metadata": {},
   "outputs": [],
   "source": []
  },
  {
   "cell_type": "code",
   "execution_count": null,
   "metadata": {},
   "outputs": [],
   "source": [
    "# Matriz de adyacencia del multiplex\n",
    "\n",
    "function multiplex(lista)\n",
    "    matriz = Array{Int, 2}() # Creo una matriz vacía para el multiplex\n",
    "    for i in 1:length(lista)\n",
    "        for j in 1:length(lista)\n",
    "            if lista[i][j] == 0\n",
    "                matriz[j] = 0\n",
    "            else\n",
    "                matriz[j] = 1\n",
    "            end\n",
    "        end\n",
    "    end\n",
    "    matriz\n",
    "end"
   ]
  },
  {
   "cell_type": "code",
   "execution_count": null,
   "metadata": {},
   "outputs": [],
   "source": [
    "function random_walk1d(n)\n",
    "    paths = zeros(n+1)\n",
    "    lugar = 0\n",
    "    for s in 1:n\n",
    "        if rand() <= 1/2\n",
    "            lugar -= 1\n",
    "            @show lugar\n",
    "            paths[s+1] = lugar\n",
    "        else\n",
    "            lugar += 1\n",
    "            @show lugar\n",
    "            paths[s+1] = lugar\n",
    "        end\n",
    "    end\n",
    "    paths\n",
    "end"
   ]
  },
  {
   "cell_type": "code",
   "execution_count": null,
   "metadata": {},
   "outputs": [],
   "source": [
    "function random_walk1d(n) #Función de caminante aleatorio en 1 dim.\n",
    "    paths = zeros(n+1)\n",
    "    lugar = 0\n",
    "    for s in 1:n\n",
    "        if rand() <= 1/2\n",
    "            lugar -= 1\n",
    "            @show lugar\n",
    "            paths[s+1] = lugar\n",
    "        else\n",
    "            lugar += 1\n",
    "            @show lugar\n",
    "            paths[s+1] = lugar\n",
    "        end\n",
    "    end\n",
    "    paths\n",
    "end"
   ]
  },
  {
   "cell_type": "code",
   "execution_count": null,
   "metadata": {},
   "outputs": [],
   "source": [
    "function random_walkM(M, steps) #, iter)\n",
    "    nodos = size(M, 1) #aeropuertos\n",
    "    path = zeros(steps) \n",
    "    for i = 1 #for s in 1:nodos #Toma como nodo de inicio todos los aeropuertos  \n",
    "        @show i\n",
    "        for p in 1:steps \n",
    "            @show p\n",
    "            row = M[i, :] #Renglón correspondiente al nodo s\n",
    "            vecinos = findall(x -> x != 0, row)\n",
    "            @show vecinos\n",
    "            a = sample(vecinos)\n",
    "            @show a\n",
    "            path[p] = a\n",
    "            i = a\n",
    "        end\n",
    "    end\n",
    "    path\n",
    "end"
   ]
  },
  {
   "cell_type": "code",
   "execution_count": null,
   "metadata": {},
   "outputs": [],
   "source": [
    "function random_walkM2(M, steps, iter)\n",
    "    nodos = size(M, 1) #aeropuertos\n",
    "    paths = zeros(Int64, (iter, steps)) \n",
    "    for s = 1 #nodo inicial\n",
    "        @show s\n",
    "        for i in 1:iter #Toma como nodo de inicio todos los aeropuertos  \n",
    "            @show i\n",
    "            for p in 1:steps \n",
    "                #@show p\n",
    "                row = M[s, :] #Renglón correspondiente al nodo s\n",
    "                vecinos = findall(x -> x != 0, row)\n",
    "                @show vecinos\n",
    "                a = sample(vecinos)\n",
    "                @show a\n",
    "                paths[i, p] = a\n",
    "                s = a\n",
    "            end\n",
    "            s = 1\n",
    "            @show paths\n",
    "        end\n",
    "    end\n",
    "    return paths\n",
    "end"
   ]
  },
  {
   "cell_type": "code",
   "execution_count": null,
   "metadata": {},
   "outputs": [],
   "source": [
    "#Función \n",
    "function random_walk2(M, f, steps, iter)\n",
    "    nodos = size(M, 1) #aeropuertos\n",
    "    paths = zeros(Int64, (iter, steps)) \n",
    "    s = f\n",
    "    for i in 1:iter #Toma como nodo de inicio todos los aeropuertos  \n",
    "        for p in 1:steps \n",
    "            row = M[s, :] #Renglón correspondiente al nodo s\n",
    "            vecinos = findall(x -> x != 0, row)\n",
    "            a = sample(vecinos)\n",
    "            paths[i, p] = a\n",
    "            s = a\n",
    "        end\n",
    "        s = f\n",
    "    end\n",
    "    return paths \n",
    "end"
   ]
  },
  {
   "cell_type": "code",
   "execution_count": null,
   "metadata": {},
   "outputs": [],
   "source": [
    "#Eg. función\n",
    "#b = random_walk2(c, 1, 50, 100)\n",
    "k = random_walk2(c, 1, 10, 10)"
   ]
  }
 ],
 "metadata": {
  "kernelspec": {
   "display_name": "Julia 1.1.0",
   "language": "julia",
   "name": "julia-1.1"
  },
  "language_info": {
   "file_extension": ".jl",
   "mimetype": "application/julia",
   "name": "julia",
   "version": "1.1.0"
  }
 },
 "nbformat": 4,
 "nbformat_minor": 2
}
