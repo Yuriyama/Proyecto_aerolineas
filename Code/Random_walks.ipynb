{
 "cells": [
  {
   "cell_type": "markdown",
   "metadata": {},
   "source": [
    "# Random Walks en Redes Multicapa de Aerolíneas"
   ]
  },
  {
   "cell_type": "code",
   "execution_count": 1,
   "metadata": {},
   "outputs": [],
   "source": [
    "using StatsBase"
   ]
  },
  {
   "cell_type": "code",
   "execution_count": 2,
   "metadata": {},
   "outputs": [],
   "source": [
    "using DelimitedFiles"
   ]
  },
  {
   "cell_type": "code",
   "execution_count": 3,
   "metadata": {},
   "outputs": [],
   "source": [
    "using NamedArrays"
   ]
  },
  {
   "cell_type": "code",
   "execution_count": 4,
   "metadata": {},
   "outputs": [],
   "source": [
    "using CSV"
   ]
  },
  {
   "cell_type": "code",
   "execution_count": 5,
   "metadata": {},
   "outputs": [],
   "source": [
    "using LightGraphs"
   ]
  },
  {
   "cell_type": "code",
   "execution_count": 6,
   "metadata": {},
   "outputs": [],
   "source": [
    "cd(\"$(homedir())/Documents/UNAM/Tesis_Lic\")"
   ]
  },
  {
   "cell_type": "code",
   "execution_count": 7,
   "metadata": {},
   "outputs": [
    {
     "data": {
      "text/plain": [
       "\"/Users/Yuriko/Documents/UNAM/Tesis_Lic\""
      ]
     },
     "execution_count": 7,
     "metadata": {},
     "output_type": "execute_result"
    }
   ],
   "source": [
    "pwd()"
   ]
  },
  {
   "cell_type": "code",
   "execution_count": null,
   "metadata": {},
   "outputs": [],
   "source": [
    "a = [0  1  0\n",
    "     1  0  1\n",
    "     0  1  0]\n",
    "\n",
    "b = [0  1  0\n",
    "     0  0  1\n",
    "     1  1  0]\n",
    "\n",
    "c = [0  1  0\n",
    "     1  0  1\n",
    "     1  1  0]\n",
    "\n",
    "d = [0  1  0\n",
    "     1  0  1\n",
    "     0  0  0];"
   ]
  },
  {
   "cell_type": "code",
   "execution_count": 8,
   "metadata": {},
   "outputs": [
    {
     "data": {
      "text/plain": [
       "3190×3190 Array{Any,2}:\n",
       " \"\"      \"AER\"   \"ASF\"   \"CEK\"   \"DME\"  …   \"BSS\"   \"AEX\"   \"GCK\"   \"MGM\"\n",
       " \"AER\"  0       0       0       1          0       0       0       0     \n",
       " \"ASF\"  0       0       0       1          0       0       0       0     \n",
       " \"CEK\"  0       0       0       1          0       0       0       0     \n",
       " \"DME\"  1       1       1       0          0       0       0       0     \n",
       " \"EGO\"  0       0       0       1       …  0       0       0       0     \n",
       " \"GYD\"  0       0       0       1          0       0       0       0     \n",
       " \"KGD\"  0       0       0       1          0       0       0       0     \n",
       " \"KZN\"  1       1       1       1          0       0       0       0     \n",
       " \"LED\"  1       1       1       1          0       0       0       0     \n",
       " \"MRV\"  0       1       0       1       …  0       0       0       0     \n",
       " \"NBC\"  0       0       0       1          0       0       0       0     \n",
       " \"NJC\"  0       0       0       1          0       0       0       0     \n",
       " ⋮                                      ⋱                                \n",
       " \"LPS\"  0       0       0       0          0       0       0       0     \n",
       " \"ORX\"  0       0       0       0          0       0       0       0     \n",
       " \"BVS\"  0       0       0       0       …  0       0       0       0     \n",
       " \"MTE\"  0       0       0       0          0       0       0       0     \n",
       " \"DLZ\"  0       0       0       0          0       0       0       0     \n",
       " \"UII\"  0       0       0       0          0       0       0       0     \n",
       " \"ZBF\"  0       0       0       0          0       0       0       0     \n",
       " \"CMP\"  0       0       0       0       …  0       0       0       0     \n",
       " \"BSS\"  0       0       0       0          0       0       0       0     \n",
       " \"AEX\"  0       0       0       0          0       0       0       0     \n",
       " \"GCK\"  0       0       0       0          0       0       0       0     \n",
       " \"MGM\"  0       0       0       0          0       0       0       0     "
      ]
     },
     "execution_count": 8,
     "metadata": {},
     "output_type": "execute_result"
    }
   ],
   "source": [
    "multiplex17 = readdlm(\"data/matriz_multiplex_du.csv\", ',')"
   ]
  },
  {
   "cell_type": "code",
   "execution_count": 9,
   "metadata": {},
   "outputs": [],
   "source": [
    "multiplex17 = multiplex17[2:end, :];"
   ]
  },
  {
   "cell_type": "code",
   "execution_count": 10,
   "metadata": {},
   "outputs": [],
   "source": [
    "multiplex17 = multiplex17[:, 2:end];"
   ]
  },
  {
   "cell_type": "code",
   "execution_count": 11,
   "metadata": {},
   "outputs": [
    {
     "data": {
      "text/plain": [
       "3189×3189 Array{Int64,2}:\n",
       " 0  0  0  1  0  0  0  1  1  0  0  0  0  …  0  0  0  0  0  0  0  0  0  0  0  0\n",
       " 0  0  0  1  0  0  0  1  1  1  0  0  0     0  0  0  0  0  0  0  0  0  0  0  0\n",
       " 0  0  0  1  0  0  0  1  1  0  0  0  0     0  0  0  0  0  0  0  0  0  0  0  0\n",
       " 1  1  1  0  1  1  1  1  1  1  1  1  1     0  0  0  0  0  0  0  0  0  0  0  0\n",
       " 0  0  0  1  0  0  1  1  1  0  0  0  0     0  0  0  0  0  0  0  0  0  0  0  0\n",
       " 0  0  0  1  0  0  0  0  1  1  1  0  0  …  0  0  0  0  0  0  0  0  0  0  0  0\n",
       " 0  0  0  1  1  0  0  0  1  0  0  0  0     0  0  0  0  0  0  0  0  0  0  0  0\n",
       " 1  1  1  1  1  0  0  0  1  0  0  0  0     0  0  0  0  0  0  0  0  0  0  0  0\n",
       " 1  1  1  1  1  1  1  1  0  1  1  0  0     0  0  0  0  0  0  0  0  0  0  0  0\n",
       " 0  1  0  1  0  1  0  0  1  0  0  0  0     0  0  0  0  0  0  0  0  0  0  0  0\n",
       " 0  0  0  1  0  1  0  0  1  0  0  0  0  …  0  0  0  0  0  0  0  0  0  0  0  0\n",
       " 0  0  0  1  0  0  0  0  0  0  0  0  0     0  0  0  0  0  0  0  0  0  0  0  0\n",
       " 0  0  0  1  0  0  0  0  0  0  0  0  0     0  0  0  0  0  0  0  0  0  0  0  0\n",
       " ⋮              ⋮              ⋮        ⋱           ⋮              ⋮         \n",
       " 0  0  0  0  0  0  0  0  0  0  0  0  0     0  0  0  0  0  0  0  0  0  0  0  0\n",
       " 0  0  0  0  0  0  0  0  0  0  0  0  0     0  0  0  0  0  0  0  0  0  0  0  0\n",
       " 0  0  0  0  0  0  0  0  0  0  0  0  0     0  0  0  0  0  0  0  0  0  0  0  0\n",
       " 0  0  0  0  0  0  0  0  0  0  0  0  0  …  0  0  0  0  0  0  0  0  0  0  0  0\n",
       " 0  0  0  0  0  0  0  0  0  0  0  0  0     0  0  0  0  0  0  0  0  0  0  0  0\n",
       " 0  0  0  0  0  0  0  0  0  0  0  0  0     0  0  0  0  0  0  0  0  0  0  0  0\n",
       " 0  0  0  0  0  0  0  0  0  0  0  0  0     0  0  0  0  0  0  0  0  0  0  0  0\n",
       " 0  0  0  0  0  0  0  0  0  0  0  0  0     0  0  0  0  0  0  0  0  0  0  0  0\n",
       " 0  0  0  0  0  0  0  0  0  0  0  0  0  …  0  0  0  0  0  0  0  0  0  0  0  0\n",
       " 0  0  0  0  0  0  0  0  0  0  0  0  0     0  0  0  0  0  0  0  0  0  0  0  0\n",
       " 0  0  0  0  0  0  0  0  0  0  0  0  0     0  0  0  0  0  0  0  0  0  0  0  0\n",
       " 0  0  0  0  0  0  0  0  0  0  0  0  0     0  0  0  0  0  0  0  0  0  0  0  0"
      ]
     },
     "execution_count": 11,
     "metadata": {},
     "output_type": "execute_result"
    }
   ],
   "source": [
    "multiplex = convert(Array{Int64,2}, multiplex17)"
   ]
  },
  {
   "cell_type": "code",
   "execution_count": 17,
   "metadata": {},
   "outputs": [
    {
     "data": {
      "text/plain": [
       "3189×1 Array{Int64,2}:\n",
       "  17\n",
       "   7\n",
       "  14\n",
       " 187\n",
       "   9\n",
       "  39\n",
       "  10\n",
       "  21\n",
       " 110\n",
       "  16\n",
       "   7\n",
       "   9\n",
       "  10\n",
       "   ⋮\n",
       "   0\n",
       "   0\n",
       "   0\n",
       "   0\n",
       "   0\n",
       "   0\n",
       "   0\n",
       "   0\n",
       "   0\n",
       "   0\n",
       "   0\n",
       "   0"
      ]
     },
     "execution_count": 17,
     "metadata": {},
     "output_type": "execute_result"
    }
   ],
   "source": [
    "in_degree(multiplex)"
   ]
  },
  {
   "cell_type": "code",
   "execution_count": 18,
   "metadata": {},
   "outputs": [
    {
     "data": {
      "text/plain": [
       "1×3189 Array{Int64,2}:\n",
       " 18  7  14  186  9  39  10  21  112  …  1  3  1  1  1  1  1  1  1  1  1  1"
      ]
     },
     "execution_count": 18,
     "metadata": {},
     "output_type": "execute_result"
    }
   ],
   "source": [
    "out_degree(multiplex)"
   ]
  },
  {
   "cell_type": "markdown",
   "metadata": {},
   "source": [
    "### Función r_walks\n",
    "\n",
    "Caminatas aleatorias para un sólo nodo inicial."
   ]
  },
  {
   "cell_type": "code",
   "execution_count": 19,
   "metadata": {},
   "outputs": [
    {
     "data": {
      "text/plain": [
       "r_walks (generic function with 1 method)"
      ]
     },
     "execution_count": 19,
     "metadata": {},
     "output_type": "execute_result"
    }
   ],
   "source": [
    "\"\"\"\n",
    "La función r_walks tiene como parámetros:\n",
    "M, matriz de adyacencia de tipo Array{Int64,2}\n",
    "f, nodo inicial de tipo Int64\n",
    "steps, número de pasos de tipo Int64\n",
    "iter, número de iteraciones de tipo Int64.\n",
    "La función crea un caminante aleatorio sobre la matriz, el cual tiene igual probabilidad de avanzar \n",
    "hacia cualquiera de sus vecinos.\n",
    "Regresa un arreglo que contiene todas las trayectorias que tomó el caminante aleatorio.\n",
    "\"\"\"\n",
    "\n",
    "function r_walks(M::Array{Int64,2}, f::Int64, steps::Int64, iter::Int64)\n",
    "    nodos = size(M, 1) #aeropuertos\n",
    "    paths = zeros(Int64, (iter, steps)) \n",
    "    s = f\n",
    "    for i in 1:iter  \n",
    "        for p in 1:steps \n",
    "            row = M[s, :] #Renglón correspondiente al nodo s\n",
    "            vecinos = findall(x -> x != 0, row)\n",
    "            if vecinos == []\n",
    "                break\n",
    "            else\n",
    "                a = sample(vecinos)\n",
    "                paths[i, p] = a\n",
    "            s = a\n",
    "            end\n",
    "        end\n",
    "        s = f\n",
    "    end\n",
    "    return paths \n",
    "end"
   ]
  },
  {
   "cell_type": "markdown",
   "metadata": {},
   "source": [
    "#### Pruebas r_walks"
   ]
  },
  {
   "cell_type": "markdown",
   "metadata": {},
   "source": [
    "r_walks(mmulti, 1, 10, 10)"
   ]
  },
  {
   "cell_type": "code",
   "execution_count": 28,
   "metadata": {},
   "outputs": [
    {
     "name": "stdout",
     "output_type": "stream",
     "text": [
      "  0.000598 seconds (132 allocations: 257.063 KiB)\n"
     ]
    },
    {
     "data": {
      "text/plain": [
       "1×10 Array{Int64,2}:\n",
       " 3  717  753  588  745  95  588  1217  739  629"
      ]
     },
     "execution_count": 28,
     "metadata": {},
     "output_type": "execute_result"
    }
   ],
   "source": [
    "@time r_walks(mmulti, 1, 10, 1)"
   ]
  },
  {
   "cell_type": "code",
   "execution_count": 29,
   "metadata": {},
   "outputs": [
    {
     "name": "stdout",
     "output_type": "stream",
     "text": [
      "  0.000291 seconds (49 allocations: 101.016 KiB)\n"
     ]
    },
    {
     "data": {
      "text/plain": [
       "1×100 Array{Int64,2}:\n",
       " 647  336  1771  0  0  0  0  0  0  0  …  0  0  0  0  0  0  0  0  0  0  0  0"
      ]
     },
     "execution_count": 29,
     "metadata": {},
     "output_type": "execute_result"
    }
   ],
   "source": [
    "@time r_walks(mmulti, 1, 100, 1)"
   ]
  },
  {
   "cell_type": "code",
   "execution_count": 30,
   "metadata": {},
   "outputs": [
    {
     "name": "stdout",
     "output_type": "stream",
     "text": [
      "  0.000582 seconds (147 allocations: 304.063 KiB)\n"
     ]
    },
    {
     "data": {
      "text/plain": [
       "1×100 Array{Int64,2}:\n",
       " 721  123  764  706  301  670  146  67  …  0  0  0  0  0  0  0  0  0  0  0  0"
      ]
     },
     "execution_count": 30,
     "metadata": {},
     "output_type": "execute_result"
    }
   ],
   "source": [
    "@time r_walks(mmulti, 1, 100, 1)"
   ]
  },
  {
   "cell_type": "code",
   "execution_count": 13,
   "metadata": {
    "scrolled": true
   },
   "outputs": [
    {
     "name": "stdout",
     "output_type": "stream",
     "text": [
      "  0.003977 seconds (936 allocations: 1.957 MiB)\n"
     ]
    },
    {
     "data": {
      "text/plain": [
       "10×10 Array{Int64,2}:\n",
       "   8   726  749   458   689   538  588   173   690   643\n",
       " 721   348  426    39   429   331  321  1491     0     0\n",
       " 718   759  470    57   739   744  734   594   624   630\n",
       " 647   765  287   875   465  2173    0     0     0     0\n",
       "   3   112   49   782  1975     0    0     0     0     0\n",
       " 450   685  450   287   254   642  407   914  2455     0\n",
       " 718   590  723   313   316   317  311   317   315   545\n",
       " 721  2836    0     0     0     0    0     0     0     0\n",
       " 744  1306  622   739   686   734  729   309   430  1187\n",
       "   8   726  747  2241     0     0    0     0     0     0"
      ]
     },
     "execution_count": 13,
     "metadata": {},
     "output_type": "execute_result"
    }
   ],
   "source": [
    "@time r_walks(mmulti, 1, 10, 10)"
   ]
  },
  {
   "cell_type": "code",
   "execution_count": 14,
   "metadata": {},
   "outputs": [
    {
     "name": "stdout",
     "output_type": "stream",
     "text": [
      "  0.005065 seconds (1.05 k allocations: 2.337 MiB)\n"
     ]
    },
    {
     "data": {
      "text/plain": [
       "10×100 Array{Int64,2}:\n",
       "   3   618   398  1115   123     5  …  0  0  0  0  0  0  0  0  0  0  0  0\n",
       " 718   531  2011     0     0     0     0  0  0  0  0  0  0  0  0  0  0  0\n",
       " 647   486   301    59    60  1093     0  0  0  0  0  0  0  0  0  0  0  0\n",
       " 529  2778     0     0     0     0     0  0  0  0  0  0  0  0  0  0  0  0\n",
       " 718   766   644     3   726   747     0  0  0  0  0  0  0  0  0  0  0  0\n",
       "   8   626    62   978  1591     0  …  0  0  0  0  0  0  0  0  0  0  0  0\n",
       "   8   618   759     8   716   718     0  0  0  0  0  0  0  0  0  0  0  0\n",
       " 450   531  2240     0     0     0     0  0  0  0  0  0  0  0  0  0  0  0\n",
       "   8   757   737   515   514   398     0  0  0  0  0  0  0  0  0  0  0  0\n",
       " 647   718   759   491    50   475     0  0  0  0  0  0  0  0  0  0  0  0"
      ]
     },
     "execution_count": 14,
     "metadata": {},
     "output_type": "execute_result"
    }
   ],
   "source": [
    "#Aumento el número de pasos\n",
    "@time r_walks(mmulti, 1, 100, 10)"
   ]
  },
  {
   "cell_type": "code",
   "execution_count": 27,
   "metadata": {},
   "outputs": [
    {
     "name": "stdout",
     "output_type": "stream",
     "text": [
      "  0.006047 seconds (1.44 k allocations: 3.053 MiB)\n"
     ]
    },
    {
     "data": {
      "text/plain": [
       "10×500 Array{Int64,2}:\n",
       " 721   974   609   164   520   522  …  0  0  0  0  0  0  0  0  0  0  0  0\n",
       " 529  2265     0     0     0     0     0  0  0  0  0  0  0  0  0  0  0  0\n",
       "   8   618   759   530   715   450     0  0  0  0  0  0  0  0  0  0  0  0\n",
       " 647  1217   723   730   123   118     0  0  0  0  0  0  0  0  0  0  0  0\n",
       " 744   515   764    39    94   426     0  0  0  0  0  0  0  0  0  0  0  0\n",
       " 529  1301   744   739  1299  1298  …  0  0  0  0  0  0  0  0  0  0  0  0\n",
       " 647   118  1771     0     0     0     0  0  0  0  0  0  0  0  0  0  0  0\n",
       " 718   528  1012   123   430   755     0  0  0  0  0  0  0  0  0  0  0  0\n",
       " 529  1304   727   765   486   633     0  0  0  0  0  0  0  0  0  0  0  0\n",
       " 529   190    48  1327    49   600     0  0  0  0  0  0  0  0  0  0  0  0"
      ]
     },
     "execution_count": 27,
     "metadata": {},
     "output_type": "execute_result"
    }
   ],
   "source": [
    "#Aumento el número de pasos\n",
    "@time r_walks(mmulti, 1, 500, 10)"
   ]
  },
  {
   "cell_type": "code",
   "execution_count": 15,
   "metadata": {},
   "outputs": [
    {
     "name": "stdout",
     "output_type": "stream",
     "text": [
      "  0.005895 seconds (1.19 k allocations: 2.596 MiB)\n"
     ]
    },
    {
     "data": {
      "text/plain": [
       "10×1000 Array{Int64,2}:\n",
       "   3   734  729  2244    0     0     0  …  0  0  0  0  0  0  0  0  0  0  0  0\n",
       " 529  2963    0     0    0     0     0     0  0  0  0  0  0  0  0  0  0  0  0\n",
       " 744   515    5  1030  304  1085  2665     0  0  0  0  0  0  0  0  0  0  0  0\n",
       " 647   739  486   633  724   723   748     0  0  0  0  0  0  0  0  0  0  0  0\n",
       " 744     5  306  1730    0     0     0     0  0  0  0  0  0  0  0  0  0  0  0\n",
       " 450   766  644     3  764   471   254  …  0  0  0  0  0  0  0  0  0  0  0  0\n",
       " 647   314    3   757  452  1046  1218     0  0  0  0  0  0  0  0  0  0  0  0\n",
       " 721   525  337   524  525   337   854     0  0  0  0  0  0  0  0  0  0  0  0\n",
       "   8   726  724    56  301    80  2015     0  0  0  0  0  0  0  0  0  0  0  0\n",
       " 529   762  123   759  529  1198  1308     0  0  0  0  0  0  0  0  0  0  0  0"
      ]
     },
     "execution_count": 15,
     "metadata": {},
     "output_type": "execute_result"
    }
   ],
   "source": [
    "#Aumento el número de pasos\n",
    "@time r_walks(mmulti, 1, 1000, 10)"
   ]
  },
  {
   "cell_type": "code",
   "execution_count": 17,
   "metadata": {},
   "outputs": [
    {
     "name": "stdout",
     "output_type": "stream",
     "text": [
      "  0.010220 seconds (1.76 k allocations: 3.748 MiB)\n"
     ]
    },
    {
     "data": {
      "text/plain": [
       "10×1000 Array{Int64,2}:\n",
       " 104  1048   80   199   105  147  1114  …  0  0  0  0  0  0  0  0  0  0  0  0\n",
       " 504   246  101   102   106   87   248     0  0  0  0  0  0  0  0  0  0  0  0\n",
       " 104    92  476   478   770  476   478     0  0  0  0  0  0  0  0  0  0  0  0\n",
       "  92    86  105  1457     0    0     0     0  0  0  0  0  0  0  0  0  0  0  0\n",
       " 104   100  247    78   823   86  1047     0  0  0  0  0  0  0  0  0  0  0  0\n",
       "  86   637  260   793    80  699   586  …  0  0  0  0  0  0  0  0  0  0  0  0\n",
       "  86   274   87   929   106  268   504     0  0  0  0  0  0  0  0  0  0  0  0\n",
       " 104  1646    0     0     0    0     0     0  0  0  0  0  0  0  0  0  0  0  0\n",
       "  86   795   99   103  2313    0     0     0  0  0  0  0  0  0  0  0  0  0  0\n",
       "  92   821   88    78   269   98   793     0  0  0  0  0  0  0  0  0  0  0  0"
      ]
     },
     "execution_count": 17,
     "metadata": {},
     "output_type": "execute_result"
    }
   ],
   "source": [
    "#Cambio el nodo inicial\n",
    "@time r_walks(mmulti, 986, 1000, 10)"
   ]
  },
  {
   "cell_type": "code",
   "execution_count": 18,
   "metadata": {},
   "outputs": [
    {
     "name": "stdout",
     "output_type": "stream",
     "text": [
      "  0.041242 seconds (9.38 k allocations: 19.772 MiB)\n"
     ]
    },
    {
     "data": {
      "text/plain": [
       "100×10 Array{Int64,2}:\n",
       " 721   458   604  2123     0     0     0     0     0     0\n",
       " 450   730   433   315   651   624   727   729   306    61\n",
       " 744  1306   622   619   480   633   452   594  1250     3\n",
       " 718   190  2255     0     0     0     0     0     0     0\n",
       " 529  1297   685   687   590   377    64    65   996  1983\n",
       " 647    57   747    58   470   118  1066  1761     0     0\n",
       " 721   377   628   590   688   588   627   854   434    35\n",
       " 721   633   450   759   744  1984     0     0     0     0\n",
       " 744   545   647     3   624   486   715   450   685   723\n",
       "   8   726  1433     0     0     0     0     0     0     0\n",
       " 529  1002  1008  2553     0     0     0     0     0     0\n",
       " 718   730   696  1308   123   453  1357    61   123  1218\n",
       " 718   735   223   739    95   594   313   689   315   312\n",
       "   ⋮                             ⋮                        \n",
       "   3   764  1025   454   308   218  1134   902   222   377\n",
       " 647  2245     0     0     0     0     0     0     0     0\n",
       " 647   720   724   453     9  1966     0     0     0     0\n",
       " 721   734   744   766   491   382   593    65  1093    60\n",
       " 529   758   588   348  1797     0     0     0     0     0\n",
       " 718   762   763   621  1966     0     0     0     0     0\n",
       " 721   670   146  1120   146   673  1249   673  1029  2579\n",
       " 718   735   644   452   301   982    14   381    14    12\n",
       "   8   716   450   304   752  2260     0     0     0     0\n",
       " 718    57   737    58   545  1367   989  1388  2382     0\n",
       " 721   981   857   379   982    14    12   375  2397     0\n",
       "   8   618  1390     0     0     0     0     0     0     0"
      ]
     },
     "execution_count": 18,
     "metadata": {},
     "output_type": "execute_result"
    }
   ],
   "source": [
    "#Pocos pasos, más iteraciones\n",
    "@time r_walks(mmulti, 1, 10, 100)"
   ]
  },
  {
   "cell_type": "code",
   "execution_count": 19,
   "metadata": {},
   "outputs": [
    {
     "name": "stdout",
     "output_type": "stream",
     "text": [
      "  0.594046 seconds (93.92 k allocations: 196.486 MiB, 37.11% gc time)\n"
     ]
    },
    {
     "data": {
      "text/plain": [
       "1000×10 Array{Int64,2}:\n",
       " 450     6   589  1077  2635     0     0     0     0    0\n",
       "   3   118  1365   321   132   523   415   545   753  759\n",
       " 744  1306   622   739   528   633   747  1938     0    0\n",
       " 647   545  2222     0     0     0     0     0     0    0\n",
       " 721   982    14    11   857   982   981   857   379  982\n",
       " 718   730  1307   685  2218     0     0     0     0    0\n",
       "   3   545     7   594  1190   734   729    54   313  721\n",
       " 450   287   690   118   443   340   362  2568     0    0\n",
       " 718   304   452    11   982    14   854  2390     0    0\n",
       " 744   715   737   531   725   223  1218   311  1747    0\n",
       " 744   625   190   430   313   993   452  1011   123  739\n",
       "   8   745   529  2247     0     0     0     0     0    0\n",
       " 744   317   377    54    11   336    38   342  1784    0\n",
       "   ⋮                             ⋮                       \n",
       "   3   689   630   594   587   340   448  2191     0    0\n",
       "   8   716   753   729   304   254   381   532   375  532\n",
       "   8   757   450   722   531    95   626   545   311  686\n",
       "   8   626   514   620   514   470   451   301  1123   59\n",
       " 529   750   513   377   471  1250   301   251    96  426\n",
       " 721   620   340  1771     0     0     0     0     0    0\n",
       " 721  2165     0     0     0     0     0     0     0    0\n",
       " 721   336    39    48   118   114  1776     0     0    0\n",
       "   3     9  1966     0     0     0     0     0     0    0\n",
       "   3   415  1829     0     0     0     0     0     0    0\n",
       "   3   745   740   628  1314  2977     0     0     0    0\n",
       "   3   120   600   118   691   333  1340   429   426  114"
      ]
     },
     "execution_count": 19,
     "metadata": {},
     "output_type": "execute_result"
    }
   ],
   "source": [
    "#Pocos pasos, más iteraciones\n",
    "@time r_walks(mmulti, 1, 10, 1000)"
   ]
  },
  {
   "cell_type": "code",
   "execution_count": 20,
   "metadata": {},
   "outputs": [
    {
     "name": "stdout",
     "output_type": "stream",
     "text": [
      "  1.082542 seconds (184.57 k allocations: 387.482 MiB)\n"
     ]
    },
    {
     "data": {
      "text/plain": [
       "2000×10 Array{Int64,2}:\n",
       " 647   112  1689     0     0     0     0     0     0     0\n",
       "   8   758   734   719   515    53  1217     5  1030   545\n",
       "   8   745  1966     0     0     0     0     0     0     0\n",
       " 529   739   759   485   729    57   747  1938     0     0\n",
       " 647   756   531   123   739   287   545   190   630   590\n",
       "   3   853   118   596    50   472  1240  2883     0     0\n",
       " 647   651   730    53    55   315    94  1042  2590     0\n",
       " 718    95   190   427  1338  1334    36  1430     0     0\n",
       "   8   758   531    55   747    58   377   745   531  2240\n",
       "   8   618   450   730   763   450   729   312   627   696\n",
       " 744   766   644   452     5   482  1106   124  1590     0\n",
       " 450    95   650   450   722   490   630   760   765   732\n",
       " 718   590   633   529   627   452     5   529  1012   123\n",
       "   ⋮                             ⋮                        \n",
       "   8   726  1966     0     0     0     0     0     0     0\n",
       " 721   485   752   484   481   744  1984     0     0     0\n",
       " 744   515  1014   744   687   686  1164  1146   735   531\n",
       " 450   306    61  2132     0     0     0     0     0     0\n",
       "   8   618  1252   720   450   685   525   337   122   120\n",
       "   8   758     3   173   690   541  1111  1100   570  1074\n",
       " 744   696   625   721   123   458   377   415   359  1084\n",
       " 718   765   304   430   304   743   370   351  1808     0\n",
       " 647   317  1749     0     0     0     0     0     0     0\n",
       " 647   430    62  1177  1248  1355  1486     0     0     0\n",
       " 529  1297   685    56   627   854   379   854   377   311\n",
       " 721   982   981   857   982    14   381   532    11   375"
      ]
     },
     "execution_count": 20,
     "metadata": {},
     "output_type": "execute_result"
    }
   ],
   "source": [
    "#Pocos pasos, más iteraciones\n",
    "@time r_walks(mmulti, 1, 10, 2000)"
   ]
  },
  {
   "cell_type": "code",
   "execution_count": 24,
   "metadata": {},
   "outputs": [
    {
     "name": "stdout",
     "output_type": "stream",
     "text": [
      "  0.237406 seconds (62.33 k allocations: 131.999 MiB, 3.96% gc time)\n"
     ]
    },
    {
     "data": {
      "text/plain": [
       "500×40 Array{Int64,2}:\n",
       "   3   602  1079   582    77    99   244  …    0    0   0    0    0     0  0\n",
       "   3  1097   588  1499     0     0     0       0    0   0    0    0     0  0\n",
       " 744   752   223   764   297   452  2963       0    0   0    0    0     0  0\n",
       " 529   646   123    30  1543     0     0       0    0   0    0    0     0  0\n",
       " 721   731   749   359  1843     0     0       0    0   0    0    0     0  0\n",
       "   8   757   729  1297   727   739   759  …    0    0   0    0    0     0  0\n",
       " 718   752   123   297   743   764  1301       0    0   0    0    0     0  0\n",
       "   3   545   317   758    58   545   723       0    0   0    0    0     0  0\n",
       " 744   515   484   377   437   312   529       0    0   0    0    0     0  0\n",
       " 529   625   765   490  2245     0     0       0    0   0    0    0     0  0\n",
       " 647   727   739   588    92   544    82  …    0    0   0    0    0     0  0\n",
       "   8   716   753   759   627   687   765       0    0   0    0    0     0  0\n",
       " 744     5   482   689   313   749   531       0    0   0    0    0     0  0\n",
       "   ⋮                             ⋮        ⋱             ⋮                   \n",
       "   3   503   301   336   691  1330  1771       0    0   0    0    0     0  0\n",
       " 647   513   629  1197  1303   764   469     503  743  95  452  317  2543  0\n",
       "   8   745   618   718  1389     0     0  …    0    0   0    0    0     0  0\n",
       " 529   633   718   623  2159     0     0       0    0   0    0    0     0  0\n",
       " 718   766   530   739   759   624   312       0    0   0    0    0     0  0\n",
       "   3   112   428  1334  1336    40  1771       0    0   0    0    0     0  0\n",
       "   8   745   723   123   337   131  3010       0    0   0    0    0     0  0\n",
       " 744   752   646   737    56  1434     0  …    0    0   0    0    0     0  0\n",
       " 721   624  1014   627   715   718   514       0    0   0    0    0     0  0\n",
       "   3  1030     5   306  1739     0     0       0    0   0    0    0     0  0\n",
       " 718  2240     0     0     0     0     0       0    0   0    0    0     0  0\n",
       "   8   726   747   514   689   629  2162       0    0   0    0    0     0  0"
      ]
     },
     "execution_count": 24,
     "metadata": {},
     "output_type": "execute_result"
    }
   ],
   "source": [
    "#Más pasos\n",
    "@time r_walks(mmulti, 1, 40, 500)"
   ]
  },
  {
   "cell_type": "code",
   "execution_count": 21,
   "metadata": {},
   "outputs": [
    {
     "name": "stdout",
     "output_type": "stream",
     "text": [
      "  0.638309 seconds (68.73 k allocations: 145.453 MiB, 42.77% gc time)\n"
     ]
    },
    {
     "data": {
      "text/plain": [
       "500×100 Array{Int64,2}:\n",
       "   3     8   626  1194  2840     0  …  0  0  0  0  0  0  0  0  0  0  0  0\n",
       "   3  1291   315   304  1738     0     0  0  0  0  0  0  0  0  0  0  0  0\n",
       " 529   450   729   633   730    95     0  0  0  0  0  0  0  0  0  0  0  0\n",
       " 450   190   377   545  1218   529     0  0  0  0  0  0  0  0  0  0  0  0\n",
       " 529  2265     0     0     0     0     0  0  0  0  0  0  0  0  0  0  0  0\n",
       " 718   190    39   339    51   339  …  0  0  0  0  0  0  0  0  0  0  0  0\n",
       "   3   723  1217   529   515   482     0  0  0  0  0  0  0  0  0  0  0  0\n",
       " 744   766   706   301   407    74     0  0  0  0  0  0  0  0  0  0  0  0\n",
       " 721   501   314   759   486   513     0  0  0  0  0  0  0  0  0  0  0  0\n",
       "   3   311   627  2222     0     0     0  0  0  0  0  0  0  0  0  0  0  0\n",
       "   8   745  2864     0     0     0  …  0  0  0  0  0  0  0  0  0  0  0  0\n",
       "   8   758   726   618   753   730     0  0  0  0  0  0  0  0  0  0  0  0\n",
       "   3   312  1187   314   384  1893     0  0  0  0  0  0  0  0  0  0  0  0\n",
       "   ⋮                             ⋮  ⋱        ⋮              ⋮            \n",
       "   8   716   753    57  2258     0     0  0  0  0  0  0  0  0  0  0  0  0\n",
       "   8   745   621   759   513   689     0  0  0  0  0  0  0  0  0  0  0  0\n",
       " 647   752   646   745   726   724  …  0  0  0  0  0  0  0  0  0  0  0  0\n",
       " 529    95  1302   766   482   746     0  0  0  0  0  0  0  0  0  0  0  0\n",
       "   8   757   450    95  1302   759     0  0  0  0  0  0  0  0  0  0  0  0\n",
       " 744     5   592   123   627   471     0  0  0  0  0  0  0  0  0  0  0  0\n",
       "   8   758   491   337  1329  1330     0  0  0  0  0  0  0  0  0  0  0  0\n",
       "   8   726   739   531  1077  2635  …  0  0  0  0  0  0  0  0  0  0  0  0\n",
       " 450   531  2262     0     0     0     0  0  0  0  0  0  0  0  0  0  0  0\n",
       " 529   764   723   743   594  1164     0  0  0  0  0  0  0  0  0  0  0  0\n",
       " 744   715   744   687   587   538     0  0  0  0  0  0  0  0  0  0  0  0\n",
       " 529  1011   123   529  1966     0     0  0  0  0  0  0  0  0  0  0  0  0"
      ]
     },
     "execution_count": 21,
     "metadata": {},
     "output_type": "execute_result"
    }
   ],
   "source": [
    "#Más pasos\n",
    "@time r_walks(mmulti, 1, 100, 500)"
   ]
  },
  {
   "cell_type": "code",
   "execution_count": 25,
   "metadata": {},
   "outputs": [
    {
     "name": "stdout",
     "output_type": "stream",
     "text": [
      "  0.508268 seconds (129.85 k allocations: 276.035 MiB, 4.57% gc time)\n"
     ]
    },
    {
     "data": {
      "text/plain": [
       "1000×50 Array{Int64,2}:\n",
       " 721  2836     0     0     0     0  …  0  0  0  0  0  0  0  0  0  0  0  0\n",
       "   8   757   737   513   626   377     0  0  0  0  0  0  0  0  0  0  0  0\n",
       "   8   618   718   762   123   223     0  0  0  0  0  0  0  0  0  0  0  0\n",
       " 647   737   531   719   515   720     0  0  0  0  0  0  0  0  0  0  0  0\n",
       " 718   123  1557     0     0     0     0  0  0  0  0  0  0  0  0  0  0  0\n",
       "   8   626   538  1305   452   731  …  0  0  0  0  0  0  0  0  0  0  0  0\n",
       " 529   933   580  1530     0     0     0  0  0  0  0  0  0  0  0  0  0  0\n",
       " 721   749   314   316   312    95     0  0  0  0  0  0  0  0  0  0  0  0\n",
       "   3   340   458   426  1931     0     0  0  0  0  0  0  0  0  0  0  0  0\n",
       " 721   759   731   747   725   223     0  0  0  0  0  0  0  0  0  0  0  0\n",
       " 744   625   685  1015   624   314  …  0  0  0  0  0  0  0  0  0  0  0  0\n",
       " 718   486   630   452  1305   589     0  0  0  0  0  0  0  0  0  0  0  0\n",
       " 647  1252   720   450   685   471     0  0  0  0  0  0  0  0  0  0  0  0\n",
       "   ⋮                             ⋮  ⋱        ⋮              ⋮            \n",
       " 450   766  1014    95   866  1353     0  0  0  0  0  0  0  0  0  0  0  0\n",
       " 744     5    62   195   194    61     0  0  0  0  0  0  0  0  0  0  0  0\n",
       " 721   759   470   628   624  1015  …  0  0  0  0  0  0  0  0  0  0  0  0\n",
       " 721  2836     0     0     0     0     0  0  0  0  0  0  0  0  0  0  0  0\n",
       " 744   317  1751     0     0     0     0  0  0  0  0  0  0  0  0  0  0  0\n",
       "   3   621   753   739   588   129     0  0  0  0  0  0  0  0  0  0  0  0\n",
       " 450    95   624     3   315   624     0  0  0  0  0  0  0  0  0  0  0  0\n",
       " 450   729   312   310   529   739  …  0  0  0  0  0  0  0  0  0  0  0  0\n",
       " 647   723     9   720   724     6     0  0  0  0  0  0  0  0  0  0  0  0\n",
       "   3   199   398   731   724   433     0  0  0  0  0  0  0  0  0  0  0  0\n",
       " 721    34  1414     0     0     0     0  0  0  0  0  0  0  0  0  0  0  0\n",
       " 450   190    94    93   274   785     0  0  0  0  0  0  0  0  0  0  0  0"
      ]
     },
     "execution_count": 25,
     "metadata": {},
     "output_type": "execute_result"
    }
   ],
   "source": [
    "#50 pasos y más iteraciones\n",
    "@time r_walks(mmulti, 1, 50, 1000)"
   ]
  },
  {
   "cell_type": "code",
   "execution_count": 26,
   "metadata": {},
   "outputs": [
    {
     "name": "stdout",
     "output_type": "stream",
     "text": [
      "  5.125360 seconds (1.32 M allocations: 2.736 GiB, 4.58% gc time)\n"
     ]
    },
    {
     "data": {
      "text/plain": [
       "10000×50 Array{Int64,2}:\n",
       " 647   633   630   450   685  1164  …  0  0  0  0  0  0  0  0  0  0  0  0\n",
       "   8   626  1015  2218     0     0     0  0  0  0  0  0  0  0  0  0  0  0\n",
       "   8   726  1433     0     0     0     0  0  0  0  0  0  0  0  0  0  0  0\n",
       "   8   757   729  1046  1301   718     0  0  0  0  0  0  0  0  0  0  0  0\n",
       " 718   993   624   530   633   482     0  0  0  0  0  0  0  0  0  0  0  0\n",
       "   8   757   450   730   453   696  …  0  0  0  0  0  0  0  0  0  0  0  0\n",
       " 744   739   531   515   304  1218     0  0  0  0  0  0  0  0  0  0  0  0\n",
       "   3   645   450   685   450   190     0  0  0  0  0  0  0  0  0  0  0  0\n",
       " 450   531   633   531   686   515     0  0  0  0  0  0  0  0  0  0  0  0\n",
       " 647   625   528   190   640    72     0  0  0  0  0  0  0  0  0  0  0  0\n",
       " 744   515     5   123   348   470  …  0  0  0  0  0  0  0  0  0  0  0  0\n",
       " 529   735   223   454  1969     0     0  0  0  0  0  0  0  0  0  0  0  0\n",
       "   8   618   753    95   624   449     0  0  0  0  0  0  0  0  0  0  0  0\n",
       "   ⋮                             ⋮  ⋱        ⋮              ⋮            \n",
       "   3   627   755  1078  2637     0     0  0  0  0  0  0  0  0  0  0  0  0\n",
       "   8   618   398  1146   628   759     0  0  0  0  0  0  0  0  0  0  0  0\n",
       "   3  1044   301    60    59   566  …  0  0  0  0  0  0  0  0  0  0  0  0\n",
       " 744   624   449   721   312   384     0  0  0  0  0  0  0  0  0  0  0  0\n",
       " 718   623  2159     0     0     0     0  0  0  0  0  0  0  0  0  0  0  0\n",
       "   3  1291   621  2011     0     0     0  0  0  0  0  0  0  0  0  0  0  0\n",
       " 647   724   515     5    95   764     0  0  0  0  0  0  0  0  0  0  0  0\n",
       "   8   726  1252   757   718   765  …  0  0  0  0  0  0  0  0  0  0  0  0\n",
       "   8   618   718   528   715   587     0  0  0  0  0  0  0  0  0  0  0  0\n",
       " 744   687   686     7   594   618     0  0  0  0  0  0  0  0  0  0  0  0\n",
       "   3  1973     0     0     0     0     0  0  0  0  0  0  0  0  0  0  0  0\n",
       "   3   337   426   421   428   458     0  0  0  0  0  0  0  0  0  0  0  0"
      ]
     },
     "execution_count": 26,
     "metadata": {},
     "output_type": "execute_result"
    }
   ],
   "source": [
    "#50 pasos y más iteraciones\n",
    "@time r_walks(mmulti, 1, 50, 10000)"
   ]
  },
  {
   "cell_type": "markdown",
   "metadata": {},
   "source": [
    "### Función random_walk\n",
    "\n",
    "Llamaré a mi función que hace muchas iteraciones dentro de otra función que recorra todos mis nodos."
   ]
  },
  {
   "cell_type": "code",
   "execution_count": 20,
   "metadata": {},
   "outputs": [
    {
     "data": {
      "text/plain": [
       "random_walk (generic function with 1 method)"
      ]
     },
     "execution_count": 20,
     "metadata": {},
     "output_type": "execute_result"
    }
   ],
   "source": [
    "\"\"\"\n",
    "La función random_walk tiene como parámetros:\n",
    "M, matriz de adyacencia de tipo Array{Int64,2}\n",
    "steps, número de pasos de tipo Int64\n",
    "iter, número de iteraciones de tipo Int64.\n",
    "La función crea un caminante aleatorio sobre la matriz con igual probabilidad de avanzar \n",
    "hacia cualquiera de sus vecinos. Esta función recorre todos los nodos de la red como\n",
    "nodos iniciales y sobre ellos itera para obtener el número de caminos que se le pidió.\n",
    "Regresa un arreglo que contiene arreglos asociados a todas las trayectorias que tomó el \n",
    "caminante aleatorio para cada nodo inicial de la red.\n",
    "\"\"\"\n",
    "\n",
    "function random_walk(M::Array{Int64,2}, steps::Int64, iter::Int64)\n",
    "    random_walks = []\n",
    "    nodos = size(M, 1)\n",
    "    for f in 1:nodos #aeropuertos\n",
    "        paths = r_walks(M, f, steps, iter)\n",
    "        push!(random_walks, paths)\n",
    "    end\n",
    "    random_walks\n",
    "end"
   ]
  },
  {
   "cell_type": "markdown",
   "metadata": {},
   "source": [
    "### Pruebas random_walk en el multiplex"
   ]
  },
  {
   "cell_type": "code",
   "execution_count": 21,
   "metadata": {},
   "outputs": [
    {
     "name": "stdout",
     "output_type": "stream",
     "text": [
      "177.652581 seconds (19.17 M allocations: 38.668 GiB, 3.55% gc time)\n"
     ]
    },
    {
     "data": {
      "text/plain": [
       "3189-element Array{Any,1}:\n",
       " [724 20 … 262 310; 9 2282 … 555 1093; … ; 671 242 … 93 574; 670 2276 … 0 0]          \n",
       " [10 358 … 90 362; 4 764 … 730 1011; … ; 594 729 … 1631 1578; 9 1 … 189 1226]         \n",
       " [4 15 … 1130 2878; 14 729 … 304 1726; … ; 478 467 … 136 134; 725 232 … 0 0]          \n",
       " [2 10 … 0 0; 2737 594 … 1085 1378; … ; 9 189 … 220 886; 2846 9 … 260 180]            \n",
       " [4 730 … 1015 262; 8 90 … 4 2408; … ; 725 1532 … 190 1592; 7 193 … 469 51]           \n",
       " [2274 724 … 218 2532; 2274 682 … 1429 178; … ; 11 15 … 953 961; 727 189 … 469 109]   \n",
       " [5 7 … 135 1233; 5 671 … 1527 997; … ; 1531 1343 … 1852 71; 193 468 … 1785 894]      \n",
       " [730 2613 … 289 287; 730 163 … 949 950; … ; 351 349 … 370 1004; 5 2408 … 1301 1295]  \n",
       " [15 1531 … 594 496; 684 441 … 261 262; … ; 2742 4 … 2224 299; 998 9 … 467 453]       \n",
       " [352 14 … 177 1339; 232 1993 … 488 497; … ; 594 2033 … 872 512; 15 9 … 444 451]      \n",
       " [4 662 … 1205 1150; 6 4 … 1631 701; … ; 6 727 … 1194 393; 15 761 … 1414 656]         \n",
       " [4 339 … 4 1528; 2274 2797 … 2018 488; … ; 4 10 … 1331 1260; 2274 232 … 1616 287]    \n",
       " [4 2231 … 467 1093; 14 453 … 2933 574; … ; 2275 349 … 1008 431; 351 3089 … 2549 1234]\n",
       " ⋮                                                                                    \n",
       " [0 0 … 0 0; 0 0 … 0 0; … ; 0 0 … 0 0; 0 0 … 0 0]                                     \n",
       " [0 0 … 0 0; 0 0 … 0 0; … ; 0 0 … 0 0; 0 0 … 0 0]                                     \n",
       " [0 0 … 0 0; 0 0 … 0 0; … ; 0 0 … 0 0; 0 0 … 0 0]                                     \n",
       " [0 0 … 0 0; 0 0 … 0 0; … ; 0 0 … 0 0; 0 0 … 0 0]                                     \n",
       " [0 0 … 0 0; 0 0 … 0 0; … ; 0 0 … 0 0; 0 0 … 0 0]                                     \n",
       " [0 0 … 0 0; 0 0 … 0 0; … ; 0 0 … 0 0; 0 0 … 0 0]                                     \n",
       " [0 0 … 0 0; 0 0 … 0 0; … ; 0 0 … 0 0; 0 0 … 0 0]                                     \n",
       " [0 0 … 0 0; 0 0 … 0 0; … ; 0 0 … 0 0; 0 0 … 0 0]                                     \n",
       " [0 0 … 0 0; 0 0 … 0 0; … ; 0 0 … 0 0; 0 0 … 0 0]                                     \n",
       " [0 0 … 0 0; 0 0 … 0 0; … ; 0 0 … 0 0; 0 0 … 0 0]                                     \n",
       " [0 0 … 0 0; 0 0 … 0 0; … ; 0 0 … 0 0; 0 0 … 0 0]                                     \n",
       " [0 0 … 0 0; 0 0 … 0 0; … ; 0 0 … 0 0; 0 0 … 0 0]                                     "
      ]
     },
     "execution_count": 21,
     "metadata": {},
     "output_type": "execute_result"
    }
   ],
   "source": [
    "#5 iteraciones de un caminante aleatorio de 100 pasos sobre todos los nodos del multiplex \n",
    "@time random_walk(multiplex, 100, 5)"
   ]
  },
  {
   "cell_type": "code",
   "execution_count": 22,
   "metadata": {},
   "outputs": [
    {
     "name": "stdout",
     "output_type": "stream",
     "text": [
      " 14.410612 seconds (3.78 M allocations: 7.838 GiB, 4.64% gc time)\n"
     ]
    },
    {
     "data": {
      "text/plain": [
       "3189-element Array{Any,1}:\n",
       " [998 684 … 50 1988; 670 3084 … 2505 2500]\n",
       " [8 423 … 491 225; 9 2274 … 272 326]      \n",
       " [478 428 … 489 444; 244 9 … 58 1015]     \n",
       " [1012 2647 … 406 551; 2865 4 … 433 661]  \n",
       " [9 493 … 190 999; 8 90 … 1011 1014]      \n",
       " [232 671 … 1727 2031; 494 441 … 22 14]   \n",
       " [9 593 … 1121 199; 684 193 … 1475 1478]  \n",
       " [90 1023 … 2522 701; 728 14 … 315 1334]  \n",
       " [727 351 … 180 168; 183 424 … 602 598]   \n",
       " [683 682 … 2231 9; 4 242 … 2688 310]     \n",
       " [15 727 … 156 148; 9 997 … 259 316]      \n",
       " [15 358 … 305 284; 15 752 … 371 698]     \n",
       " [2274 682 … 1568 57; 2275 347 … 1357 132]\n",
       " ⋮                                        \n",
       " [0 0 … 0 0; 0 0 … 0 0]                   \n",
       " [0 0 … 0 0; 0 0 … 0 0]                   \n",
       " [0 0 … 0 0; 0 0 … 0 0]                   \n",
       " [0 0 … 0 0; 0 0 … 0 0]                   \n",
       " [0 0 … 0 0; 0 0 … 0 0]                   \n",
       " [0 0 … 0 0; 0 0 … 0 0]                   \n",
       " [0 0 … 0 0; 0 0 … 0 0]                   \n",
       " [0 0 … 0 0; 0 0 … 0 0]                   \n",
       " [0 0 … 0 0; 0 0 … 0 0]                   \n",
       " [0 0 … 0 0; 0 0 … 0 0]                   \n",
       " [0 0 … 0 0; 0 0 … 0 0]                   \n",
       " [0 0 … 0 0; 0 0 … 0 0]                   "
      ]
     },
     "execution_count": 22,
     "metadata": {},
     "output_type": "execute_result"
    }
   ],
   "source": [
    "#5 iteraciones de un caminante aleatorio de 100 pasos sobre todos los nodos del multiplex \n",
    "prueba1 = @time random_walk(multiplex, 50, 2)"
   ]
  },
  {
   "cell_type": "code",
   "execution_count": 23,
   "metadata": {},
   "outputs": [
    {
     "data": {
      "text/plain": [
       "2×50 Array{Int64,2}:\n",
       " 998   684  340  1184  963   911  1170  …   458  1993   458    53    50  1988\n",
       " 670  3084  670   246    9  1861  1862     2503  2504  2503  2500  2505  2500"
      ]
     },
     "execution_count": 23,
     "metadata": {},
     "output_type": "execute_result"
    }
   ],
   "source": [
    "#2 Caminatas de 50 pasos para nodo inicial 1\n",
    "prueba1[1]"
   ]
  },
  {
   "cell_type": "code",
   "execution_count": 29,
   "metadata": {
    "scrolled": true
   },
   "outputs": [
    {
     "data": {
      "text/plain": [
       "2×50 Array{Int64,2}:\n",
       " 3144  3160   310  2332  310  3163  …  449  220  448  479  470  451  1184\n",
       " 3144  3160  3144  3160  310  1144       0    0    0    0    0    0     0"
      ]
     },
     "execution_count": 29,
     "metadata": {},
     "output_type": "execute_result"
    }
   ],
   "source": [
    "#2 Caminatas de 50 pasos para nodo inicial 3160\n",
    "prueba1[3160]"
   ]
  },
  {
   "cell_type": "code",
   "execution_count": 30,
   "metadata": {},
   "outputs": [
    {
     "data": {
      "text/plain": [
       "3189"
      ]
     },
     "execution_count": 30,
     "metadata": {},
     "output_type": "execute_result"
    }
   ],
   "source": [
    "length(prueba1)"
   ]
  },
  {
   "cell_type": "code",
   "execution_count": 32,
   "metadata": {},
   "outputs": [
    {
     "data": {
      "text/plain": [
       "(3189,)"
      ]
     },
     "execution_count": 32,
     "metadata": {},
     "output_type": "execute_result"
    }
   ],
   "source": [
    "size(prueba1)"
   ]
  },
  {
   "cell_type": "code",
   "execution_count": 31,
   "metadata": {},
   "outputs": [
    {
     "data": {
      "text/plain": [
       "100"
      ]
     },
     "execution_count": 31,
     "metadata": {},
     "output_type": "execute_result"
    }
   ],
   "source": [
    "length(prueba1[2])"
   ]
  },
  {
   "cell_type": "code",
   "execution_count": 39,
   "metadata": {},
   "outputs": [
    {
     "data": {
      "text/plain": [
       "(2, 50)"
      ]
     },
     "execution_count": 39,
     "metadata": {},
     "output_type": "execute_result"
    }
   ],
   "source": [
    "s = size(prueba1[3160])"
   ]
  },
  {
   "cell_type": "code",
   "execution_count": 40,
   "metadata": {},
   "outputs": [
    {
     "data": {
      "text/plain": [
       "2"
      ]
     },
     "execution_count": 40,
     "metadata": {},
     "output_type": "execute_result"
    }
   ],
   "source": [
    "s[1]"
   ]
  },
  {
   "cell_type": "code",
   "execution_count": 45,
   "metadata": {
    "scrolled": true
   },
   "outputs": [
    {
     "data": {
      "text/plain": [
       "100"
      ]
     },
     "execution_count": 45,
     "metadata": {},
     "output_type": "execute_result"
    }
   ],
   "source": [
    "length(prueba1[3160])"
   ]
  },
  {
   "cell_type": "code",
   "execution_count": 57,
   "metadata": {},
   "outputs": [
    {
     "data": {
      "text/plain": [
       "50-element Array{Int64,1}:\n",
       " 3144\n",
       " 3160\n",
       " 3144\n",
       " 3160\n",
       "  310\n",
       " 1144\n",
       "  304\n",
       "  279\n",
       "  289\n",
       "  180\n",
       "  292\n",
       "  278\n",
       " 1668\n",
       "    ⋮\n",
       "  467\n",
       " 1196\n",
       " 1130\n",
       " 3189\n",
       "    0\n",
       "    0\n",
       "    0\n",
       "    0\n",
       "    0\n",
       "    0\n",
       "    0\n",
       "    0"
      ]
     },
     "execution_count": 57,
     "metadata": {},
     "output_type": "execute_result"
    }
   ],
   "source": [
    "#Tomo el renglón 2 del arreglo de 2 iteraciones de 50 pasos del nodo inicial 3160\n",
    "prueba1[3160][2, :]"
   ]
  },
  {
   "cell_type": "code",
   "execution_count": 58,
   "metadata": {},
   "outputs": [
    {
     "data": {
      "text/plain": [
       "310"
      ]
     },
     "execution_count": 58,
     "metadata": {},
     "output_type": "execute_result"
    }
   ],
   "source": [
    "prueba1[3160][2, :][5]"
   ]
  },
  {
   "cell_type": "markdown",
   "metadata": {},
   "source": [
    "### Función que cuenta longitud de la caminata antes de llegar a un cero"
   ]
  },
  {
   "cell_type": "code",
   "execution_count": 120,
   "metadata": {},
   "outputs": [
    {
     "data": {
      "text/plain": [
       "walk_length (generic function with 1 method)"
      ]
     },
     "execution_count": 120,
     "metadata": {},
     "output_type": "execute_result"
    }
   ],
   "source": [
    "\"\"\"\n",
    "La función walk_length tiene como parámetro W, que es un arreglo de arreglos (que se puede obtener de la \n",
    "función random_walk). Regresa un arreglo de arreglos, en donde cada entrada corresponde a la longitud de \n",
    "la caminata aleatoria antes de caer en un nodo con grado de salida 0.\n",
    "\"\"\"\n",
    "\n",
    "function walk_length(W)\n",
    "    \n",
    "    longitudes = Array[]\n",
    "    c = 0\n",
    "    v = length(W) #tamaño de la matriz, número de nodos\n",
    "    s = size(W[1], 1) #lo puedo sacar, para todos es el mismo. Es el número de iteraciones\n",
    "    t = size(W[1], 2) #número de pasos\n",
    "    long = zeros(Int64, s) #Arreglo de ceros de tamaño número de iteraciones\n",
    "    \n",
    "    for i in 1:v\n",
    "        #@show i\n",
    "        for j in 1:s\n",
    "            #@show j\n",
    "            #long = zeros(Int64, s) #Arreglo de ceros de tamaño número de iteraciones\n",
    "            for k in 1:t\n",
    "                #@show k\n",
    "                \n",
    "                if W[i][j, :][k] != 0 #W[i][j, :] #renglón a analizar\n",
    "                    c += 1 \n",
    "                    #@show c\n",
    "                else\n",
    "                    #@show c\n",
    "                    long[j] = c \n",
    "                    #@show long #ant[i][j] = W[i][j, :][k - 1]\n",
    "                    c = 0\n",
    "                    break\n",
    "                end\n",
    "                #@show long\n",
    "            end\n",
    "            \n",
    "            \n",
    "        end\n",
    "        push!(longitudes, long)\n",
    "        #@show longitudes\n",
    "        long = zeros(Int64, s) #Arreglo de ceros de tamaño número de iteraciones\n",
    "    end\n",
    "    return longitudes\n",
    "end"
   ]
  },
  {
   "cell_type": "code",
   "execution_count": 59,
   "metadata": {},
   "outputs": [],
   "source": [
    "d = [0  1  0\n",
    "     1  0  1\n",
    "     0  0  0];"
   ]
  },
  {
   "cell_type": "code",
   "execution_count": 83,
   "metadata": {},
   "outputs": [
    {
     "name": "stdout",
     "output_type": "stream",
     "text": [
      "  0.000015 seconds (141 allocations: 8.391 KiB)\n"
     ]
    },
    {
     "data": {
      "text/plain": [
       "3-element Array{Any,1}:\n",
       " [2 1 … 0 0; 2 1 … 0 0]\n",
       " [3 0 … 0 0; 3 0 … 0 0]\n",
       " [0 0 … 0 0; 0 0 … 0 0]"
      ]
     },
     "execution_count": 83,
     "metadata": {},
     "output_type": "execute_result"
    }
   ],
   "source": [
    "#2 iteraciones de un caminante aleatorio de 10 pasos sobre todos los nodos del multiplex \n",
    "pruebad = @time random_walk(d, 10, 2)"
   ]
  },
  {
   "cell_type": "code",
   "execution_count": 84,
   "metadata": {},
   "outputs": [
    {
     "data": {
      "text/plain": [
       "2×10 Array{Int64,2}:\n",
       " 2  1  2  3  0  0  0  0  0  0\n",
       " 2  1  2  1  2  3  0  0  0  0"
      ]
     },
     "execution_count": 84,
     "metadata": {},
     "output_type": "execute_result"
    }
   ],
   "source": [
    "pruebad[1]"
   ]
  },
  {
   "cell_type": "code",
   "execution_count": 121,
   "metadata": {
    "scrolled": true
   },
   "outputs": [
    {
     "name": "stdout",
     "output_type": "stream",
     "text": [
      "  0.071048 seconds (24.50 k allocations: 1.233 MiB)\n"
     ]
    },
    {
     "data": {
      "text/plain": [
       "3-element Array{Array,1}:\n",
       " [4, 6]\n",
       " [1, 1]\n",
       " [0, 0]"
      ]
     },
     "execution_count": 121,
     "metadata": {},
     "output_type": "execute_result"
    }
   ],
   "source": [
    "prueba_length1 = @time walk_length(pruebad)"
   ]
  },
  {
   "cell_type": "markdown",
   "metadata": {},
   "source": [
    "### Función que obtiene el promedio de la longitud de la caminata antes de llegar a un cero"
   ]
  },
  {
   "cell_type": "code",
   "execution_count": 128,
   "metadata": {},
   "outputs": [
    {
     "data": {
      "text/plain": [
       "walk_av_length (generic function with 1 method)"
      ]
     },
     "execution_count": 128,
     "metadata": {},
     "output_type": "execute_result"
    }
   ],
   "source": [
    "\"\"\"\n",
    "La función walk_av_length tiene como parámetro W, que es un arreglo de arreglos (que se puede obtener de la \n",
    "función walk_length). \n",
    "Regresa un arreglo con entradas correspondientes al promedio de las longitudes de \n",
    "las caminatas aleatorias para cada nodo de inicio antes de caer en un nodo con grado de salida 0.\n",
    "\"\"\"\n",
    "\n",
    "function walk_av_length(W)\n",
    "   proms = []\n",
    "    for i in 1:length(W)\n",
    "        av = mean(W[i])\n",
    "        push!(proms, av)\n",
    "    end\n",
    "    proms\n",
    "end"
   ]
  },
  {
   "cell_type": "code",
   "execution_count": 129,
   "metadata": {},
   "outputs": [
    {
     "data": {
      "text/plain": [
       "3-element Array{Any,1}:\n",
       " 5.0\n",
       " 1.0\n",
       " 0.0"
      ]
     },
     "execution_count": 129,
     "metadata": {},
     "output_type": "execute_result"
    }
   ],
   "source": [
    "walk_av_length(prueba_length1)"
   ]
  },
  {
   "cell_type": "markdown",
   "metadata": {},
   "source": [
    "### Función que da los nodos diferentes antes de llegar a un cero"
   ]
  },
  {
   "cell_type": "code",
   "execution_count": 153,
   "metadata": {},
   "outputs": [
    {
     "data": {
      "text/plain": [
       "n_cobertura (generic function with 1 method)"
      ]
     },
     "execution_count": 153,
     "metadata": {},
     "output_type": "execute_result"
    }
   ],
   "source": [
    "\"\"\"\n",
    "La función n_cobertura tiene como parámetro W que es un arreglo de arreglos.\n",
    "Regresa los nodos diferentes a los que llega el caminante.\n",
    "\"\"\"\n",
    "\n",
    "function n_cobertura(W)\n",
    "    \n",
    "    cobert = []\n",
    "    v = length(W) #tamaño de la matriz, número de nodos\n",
    "    s = size(W[1], 1) #lo puedo sacar, para todos es el mismo. Es el número de iteraciones\n",
    "    t = size(W[1], 2) #número de pasos\n",
    "    #visit = zeros(Int64, s) #Arreglo de ceros de tamaño número de iteraciones\n",
    "    visit = []\n",
    "    \n",
    "    for i in 1:v        \n",
    "        for j in 1:s\n",
    "            u = unique(W[i][j, :])\n",
    "            push!(visit, u)\n",
    "        end\n",
    "        push!(cobert, visit)\n",
    "        visit = []\n",
    "    end\n",
    "    return cobert\n",
    "end"
   ]
  },
  {
   "cell_type": "code",
   "execution_count": 152,
   "metadata": {
    "scrolled": true
   },
   "outputs": [
    {
     "data": {
      "text/plain": [
       "2×10 Array{Int64,2}:\n",
       " 2  1  2  3  0  0  0  0  0  0\n",
       " 2  1  2  1  2  3  0  0  0  0"
      ]
     },
     "execution_count": 152,
     "metadata": {},
     "output_type": "execute_result"
    }
   ],
   "source": [
    "pruebad[1]"
   ]
  },
  {
   "cell_type": "code",
   "execution_count": 150,
   "metadata": {},
   "outputs": [
    {
     "data": {
      "text/plain": [
       "1-element Array{Int64,1}:\n",
       " 0"
      ]
     },
     "execution_count": 150,
     "metadata": {},
     "output_type": "execute_result"
    }
   ],
   "source": [
    "unique(pruebad[3][2, :])"
   ]
  },
  {
   "cell_type": "code",
   "execution_count": 155,
   "metadata": {
    "scrolled": true
   },
   "outputs": [
    {
     "data": {
      "text/plain": [
       "3-element Array{Any,1}:\n",
       " Any[[2, 1, 3, 0], [2, 1, 3, 0]]\n",
       " Any[[3, 0], [3, 0]]            \n",
       " Any[[0], [0]]                  "
      ]
     },
     "execution_count": 155,
     "metadata": {},
     "output_type": "execute_result"
    }
   ],
   "source": [
    "cob = n_cobertura(pruebad)"
   ]
  },
  {
   "cell_type": "code",
   "execution_count": 157,
   "metadata": {},
   "outputs": [
    {
     "data": {
      "text/plain": [
       "4-element Array{Int64,1}:\n",
       " 2\n",
       " 1\n",
       " 3\n",
       " 0"
      ]
     },
     "execution_count": 157,
     "metadata": {},
     "output_type": "execute_result"
    }
   ],
   "source": [
    "cob[1][1]"
   ]
  },
  {
   "cell_type": "markdown",
   "metadata": {},
   "source": [
    "### Función que da el número de nodos diferentes, cobertura"
   ]
  },
  {
   "cell_type": "code",
   "execution_count": 158,
   "metadata": {},
   "outputs": [
    {
     "data": {
      "text/plain": [
       "cobertura (generic function with 1 method)"
      ]
     },
     "execution_count": 158,
     "metadata": {},
     "output_type": "execute_result"
    }
   ],
   "source": [
    "\"\"\"\n",
    "La función cobertura tiene como parámetro W que es un arreglo de arreglos.\n",
    "Regresa el número de nodos diferentes a los que llega el caminante.\n",
    "\"\"\"\n",
    "\n",
    "function cobertura(W)\n",
    "    \n",
    "    cobert = []\n",
    "    \n",
    "    v = length(W) #tamaño de la matriz, número de nodos\n",
    "    s = size(W[1], 1) #lo puedo sacar, para todos es el mismo. Es el número de iteraciones\n",
    "    long = zeros(Int64, s) #Arreglo de ceros de tamaño número de iteraciones\n",
    "    \n",
    "    for i in 1:v        \n",
    "        for j in 1:s\n",
    "            l = length(W[i][j])\n",
    "            long[j] = l\n",
    "        end\n",
    "        push!(cobert, long)\n",
    "        long = zeros(Int64, s)\n",
    "    end\n",
    "    return cobert\n",
    "end"
   ]
  },
  {
   "cell_type": "code",
   "execution_count": 159,
   "metadata": {},
   "outputs": [
    {
     "data": {
      "text/plain": [
       "3-element Array{Any,1}:\n",
       " [4, 4]\n",
       " [2, 2]\n",
       " [1, 1]"
      ]
     },
     "execution_count": 159,
     "metadata": {},
     "output_type": "execute_result"
    }
   ],
   "source": [
    "cobertura(cob)"
   ]
  },
  {
   "cell_type": "markdown",
   "metadata": {},
   "source": [
    "#### Pruebas random_walk"
   ]
  },
  {
   "cell_type": "code",
   "execution_count": 34,
   "metadata": {},
   "outputs": [
    {
     "name": "stdout",
     "output_type": "stream",
     "text": [
      "  0.409549 seconds (107.86 k allocations: 214.736 MiB, 4.67% gc time)\n"
     ]
    },
    {
     "data": {
      "text/plain": [
       "3045-element Array{Any,1}:\n",
       " [3 470 … 0 0]        \n",
       " [651 471 … 0 0]      \n",
       " [608 1854 … 0 0]     \n",
       " [744 1984 … 0 0]     \n",
       " [306 747 … 0 0]      \n",
       " [2 2244 … 0 0]       \n",
       " [594 1164 … 458 1067]\n",
       " [716 718 … 0 0]      \n",
       " [1966 0 … 0 0]       \n",
       " [290 445 … 0 0]      \n",
       " [278 1678 … 0 0]     \n",
       " [375 520 … 163 1535] \n",
       " [380 682 … 0 0]      \n",
       " ⋮                    \n",
       " [0 0 … 0 0]          \n",
       " [0 0 … 0 0]          \n",
       " [0 0 … 0 0]          \n",
       " [0 0 … 0 0]          \n",
       " [0 0 … 0 0]          \n",
       " [0 0 … 0 0]          \n",
       " [0 0 … 0 0]          \n",
       " [0 0 … 0 0]          \n",
       " [0 0 … 0 0]          \n",
       " [0 0 … 0 0]          \n",
       " [0 0 … 0 0]          \n",
       " [0 0 … 0 0]          "
      ]
     },
     "execution_count": 34,
     "metadata": {},
     "output_type": "execute_result"
    }
   ],
   "source": [
    "@time random_walk(mmulti, 10, 1)"
   ]
  },
  {
   "cell_type": "code",
   "execution_count": 35,
   "metadata": {},
   "outputs": [
    {
     "name": "stdout",
     "output_type": "stream",
     "text": [
      "  3.925528 seconds (896.49 k allocations: 2.105 GiB, 4.50% gc time)\n"
     ]
    },
    {
     "data": {
      "text/plain": [
       "3045-element Array{Any,1}:\n",
       " [647 627 … 0 0; 721 287 … 0 0; … ; 744 624 … 0 0; 744 696 … 337 984]              \n",
       " [311 627 … 0 0; 651 624 … 0 0; … ; 311 312 … 0 0; 763 685 … 3 8]                  \n",
       " [1252 757 … 469 337; 651 718 … 0 0; … ; 458 338 … 0 0; 9 1252 … 525 382]          \n",
       " [744 545 … 514 301; 761 724 … 0 0; … ; 627 470 … 531 732; 685 34 … 0 0]           \n",
       " [529 1301 … 0 0; 1030 690 … 0 0; … ; 62 220 … 0 0; 123 430 … 0 0]                 \n",
       " [529 696 … 830 470; 1291 627 … 398 1217; … ; 761 588 … 337 1067; 449 743 … 0 0]   \n",
       " [594 1250 … 1305 732; 594 537 … 470 723; … ; 594 618 … 689 732; 594 630 … 933 721]\n",
       " [626 452 … 332 398; 757 531 … 0 0; … ; 757 531 … 0 0; 716 753 … 130 133]          \n",
       " [1218 304 … 286 1697; 588 1105 … 608 414; … ; 753 729 … 452 633; 1252 720 … 0 0]  \n",
       " [2536 0 … 0 0; 523 545 … 666 379; … ; 445 340 … 0 0; 445 1259 … 114 138]          \n",
       " [981 982 … 857 982; 857 982 … 854 2390; … ; 1958 0 … 0 0; 1957 0 … 0 0]           \n",
       " [375 854 … 379 988; 375 2397 … 0 0; … ; 375 2395 … 0 0; 375 856 … 0 0]            \n",
       " [375 279 … 0 0; 667 520 … 0 0; … ; 431 13 … 0 0; 375 532 … 379 854]               \n",
       " ⋮                                                                                 \n",
       " [0 0 … 0 0; 0 0 … 0 0; … ; 0 0 … 0 0; 0 0 … 0 0]                                  \n",
       " [0 0 … 0 0; 0 0 … 0 0; … ; 0 0 … 0 0; 0 0 … 0 0]                                  \n",
       " [0 0 … 0 0; 0 0 … 0 0; … ; 0 0 … 0 0; 0 0 … 0 0]                                  \n",
       " [0 0 … 0 0; 0 0 … 0 0; … ; 0 0 … 0 0; 0 0 … 0 0]                                  \n",
       " [0 0 … 0 0; 0 0 … 0 0; … ; 0 0 … 0 0; 0 0 … 0 0]                                  \n",
       " [0 0 … 0 0; 0 0 … 0 0; … ; 0 0 … 0 0; 0 0 … 0 0]                                  \n",
       " [0 0 … 0 0; 0 0 … 0 0; … ; 0 0 … 0 0; 0 0 … 0 0]                                  \n",
       " [0 0 … 0 0; 0 0 … 0 0; … ; 0 0 … 0 0; 0 0 … 0 0]                                  \n",
       " [0 0 … 0 0; 0 0 … 0 0; … ; 0 0 … 0 0; 0 0 … 0 0]                                  \n",
       " [0 0 … 0 0; 0 0 … 0 0; … ; 0 0 … 0 0; 0 0 … 0 0]                                  \n",
       " [0 0 … 0 0; 0 0 … 0 0; … ; 0 0 … 0 0; 0 0 … 0 0]                                  \n",
       " [0 0 … 0 0; 0 0 … 0 0; … ; 0 0 … 0 0; 0 0 … 0 0]                                  "
      ]
     },
     "execution_count": 35,
     "metadata": {},
     "output_type": "execute_result"
    }
   ],
   "source": [
    "#10 pasos, 10 iteraciones\n",
    "@time random_walk(mmulti, 10, 10)"
   ]
  },
  {
   "cell_type": "code",
   "execution_count": 37,
   "metadata": {},
   "outputs": [
    {
     "name": "stdout",
     "output_type": "stream",
     "text": [
      "  0.514614 seconds (121.39 k allocations: 285.316 MiB, 4.44% gc time)\n"
     ]
    },
    {
     "data": {
      "text/plain": [
       "3045-element Array{Any,1}:\n",
       " [744 696 … 0 0] \n",
       " [123 7 … 0 0]   \n",
       " [450 287 … 0 0] \n",
       " [529 720 … 0 0] \n",
       " [1030 588 … 0 0]\n",
       " [484 625 … 0 0] \n",
       " [594 3 … 0 0]   \n",
       " [618 1218 … 0 0]\n",
       " [753 735 … 0 0] \n",
       " [141 1505 … 0 0]\n",
       " [982 857 … 0 0] \n",
       " [375 381 … 0 0] \n",
       " [431 13 … 0 0]  \n",
       " ⋮               \n",
       " [0 0 … 0 0]     \n",
       " [0 0 … 0 0]     \n",
       " [0 0 … 0 0]     \n",
       " [0 0 … 0 0]     \n",
       " [0 0 … 0 0]     \n",
       " [0 0 … 0 0]     \n",
       " [0 0 … 0 0]     \n",
       " [0 0 … 0 0]     \n",
       " [0 0 … 0 0]     \n",
       " [0 0 … 0 0]     \n",
       " [0 0 … 0 0]     \n",
       " [0 0 … 0 0]     "
      ]
     },
     "execution_count": 37,
     "metadata": {},
     "output_type": "execute_result"
    }
   ],
   "source": [
    "#50 pasos, 1 iteración\n",
    "@time random_walk(mmulti, 50, 1)"
   ]
  },
  {
   "cell_type": "code",
   "execution_count": 38,
   "metadata": {},
   "outputs": [
    {
     "name": "stdout",
     "output_type": "stream",
     "text": [
      "  5.352576 seconds (1.22 M allocations: 2.859 GiB, 4.58% gc time)\n"
     ]
    },
    {
     "data": {
      "text/plain": [
       "3045-element Array{Any,1}:\n",
       " [3 523 … 0 0; 718 6 … 0 0; … ; 8 626 … 0 0; 8 745 … 0 0]           \n",
       " [5 3 … 0 0; 647 529 … 0 0; … ; 6 723 … 0 0; 484 625 … 0 0]         \n",
       " [164 668 … 0 0; 452 626 … 0 0; … ; 340 692 … 0 0; 529 2247 … 0 0]  \n",
       " [627 297 … 0 0; 685 759 … 0 0; … ; 529 624 … 0 0; 618 304 … 0 0]   \n",
       " [482 129 … 0 0; 1030 545 … 0 0; … ; 529 4 … 0 0; 62 1529 … 0 0]    \n",
       " [727 95 … 0 0; 488 491 … 0 0; … ; 3 757 … 0 0; 529 630 … 0 0]      \n",
       " [594 734 … 0 0; 594 624 … 0 0; … ; 594 590 … 0 0; 594 625 … 0 0]   \n",
       " [726 761 … 0 0; 745 1218 … 0 0; … ; 726 1252 … 0 0; 726 1252 … 0 0]\n",
       " [592 752 … 0 0; 718 730 … 0 0; … ; 8 758 … 0 0; 450 729 … 0 0]     \n",
       " [2950 0 … 0 0; 291 1722 … 0 0; … ; 2951 0 … 0 0; 1852 0 … 0 0]     \n",
       " [532 14 … 0 0; 1957 0 … 0 0; … ; 1956 0 … 0 0; 375 379 … 0 0]      \n",
       " [375 857 … 0 0; 375 278 … 0 0; … ; 375 854 … 0 0; 375 381 … 0 0]   \n",
       " [380 376 … 0 0; 667 520 … 0 0; … ; 380 13 … 0 0; 431 13 … 0 0]     \n",
       " ⋮                                                                  \n",
       " [0 0 … 0 0; 0 0 … 0 0; … ; 0 0 … 0 0; 0 0 … 0 0]                   \n",
       " [0 0 … 0 0; 0 0 … 0 0; … ; 0 0 … 0 0; 0 0 … 0 0]                   \n",
       " [0 0 … 0 0; 0 0 … 0 0; … ; 0 0 … 0 0; 0 0 … 0 0]                   \n",
       " [0 0 … 0 0; 0 0 … 0 0; … ; 0 0 … 0 0; 0 0 … 0 0]                   \n",
       " [0 0 … 0 0; 0 0 … 0 0; … ; 0 0 … 0 0; 0 0 … 0 0]                   \n",
       " [0 0 … 0 0; 0 0 … 0 0; … ; 0 0 … 0 0; 0 0 … 0 0]                   \n",
       " [0 0 … 0 0; 0 0 … 0 0; … ; 0 0 … 0 0; 0 0 … 0 0]                   \n",
       " [0 0 … 0 0; 0 0 … 0 0; … ; 0 0 … 0 0; 0 0 … 0 0]                   \n",
       " [0 0 … 0 0; 0 0 … 0 0; … ; 0 0 … 0 0; 0 0 … 0 0]                   \n",
       " [0 0 … 0 0; 0 0 … 0 0; … ; 0 0 … 0 0; 0 0 … 0 0]                   \n",
       " [0 0 … 0 0; 0 0 … 0 0; … ; 0 0 … 0 0; 0 0 … 0 0]                   \n",
       " [0 0 … 0 0; 0 0 … 0 0; … ; 0 0 … 0 0; 0 0 … 0 0]                   "
      ]
     },
     "execution_count": 38,
     "metadata": {},
     "output_type": "execute_result"
    }
   ],
   "source": [
    "#50 pasos, 10 iteraciones\n",
    "@time random_walk(mmulti, 50, 10)"
   ]
  },
  {
   "cell_type": "code",
   "execution_count": 39,
   "metadata": {},
   "outputs": [
    {
     "name": "stdout",
     "output_type": "stream",
     "text": [
      " 26.853834 seconds (6.09 M allocations: 14.285 GiB, 5.74% gc time)\n"
     ]
    },
    {
     "data": {
      "text/plain": [
       "3045-element Array{Any,1}:\n",
       " [718 765 … 0 0; 529 297 … 0 0; … ; 721 375 … 0 0; 718 95 … 0 0]     \n",
       " [720 1968 … 0 0; 651 482 … 0 0; … ; 720 686 … 0 0; 718 304 … 0 0]   \n",
       " [471 173 … 0 0; 450 6 … 0 0; … ; 623 2159 … 0 0; 608 1825 … 0 0]    \n",
       " [3 430 … 0 0; 5 3 … 0 0; … ; 618 2011 … 0 0; 592 5 … 0 0]           \n",
       " [95 627 … 0 0; 1030 287 … 0 0; … ; 95 190 … 0 0; 529 618 … 0 0]     \n",
       " [471 62 … 0 0; 753 759 … 0 0; … ; 4 744 … 0 0; 1 721 … 0 0]         \n",
       " [594 590 … 0 0; 594 618 … 0 0; … ; 594 627 … 0 0; 594 313 … 0 0]    \n",
       " [716 718 … 0 0; 726 531 … 0 0; … ; 726 718 … 0 0; 626 449 … 0 0]    \n",
       " [1291 301 … 0 0; 450 304 … 0 0; … ; 588 54 … 0 0; 1390 0 … 0 0]     \n",
       " [1393 0 … 0 0; 141 1504 … 0 0; … ; 1103 2686 … 0 0; 1103 2539 … 0 0]\n",
       " [857 379 … 0 0; 279 1679 … 0 0; … ; 534 431 … 0 0; 279 2948 … 0 0]  \n",
       " [375 381 … 0 0; 375 436 … 0 0; … ; 375 855 … 0 0; 375 532 … 0 0]    \n",
       " [375 520 … 0 0; 854 2390 … 0 0; … ; 854 2390 … 0 0; 380 376 … 0 0]  \n",
       " ⋮                                                                   \n",
       " [0 0 … 0 0; 0 0 … 0 0; … ; 0 0 … 0 0; 0 0 … 0 0]                    \n",
       " [0 0 … 0 0; 0 0 … 0 0; … ; 0 0 … 0 0; 0 0 … 0 0]                    \n",
       " [0 0 … 0 0; 0 0 … 0 0; … ; 0 0 … 0 0; 0 0 … 0 0]                    \n",
       " [0 0 … 0 0; 0 0 … 0 0; … ; 0 0 … 0 0; 0 0 … 0 0]                    \n",
       " [0 0 … 0 0; 0 0 … 0 0; … ; 0 0 … 0 0; 0 0 … 0 0]                    \n",
       " [0 0 … 0 0; 0 0 … 0 0; … ; 0 0 … 0 0; 0 0 … 0 0]                    \n",
       " [0 0 … 0 0; 0 0 … 0 0; … ; 0 0 … 0 0; 0 0 … 0 0]                    \n",
       " [0 0 … 0 0; 0 0 … 0 0; … ; 0 0 … 0 0; 0 0 … 0 0]                    \n",
       " [0 0 … 0 0; 0 0 … 0 0; … ; 0 0 … 0 0; 0 0 … 0 0]                    \n",
       " [0 0 … 0 0; 0 0 … 0 0; … ; 0 0 … 0 0; 0 0 … 0 0]                    \n",
       " [0 0 … 0 0; 0 0 … 0 0; … ; 0 0 … 0 0; 0 0 … 0 0]                    \n",
       " [0 0 … 0 0; 0 0 … 0 0; … ; 0 0 … 0 0; 0 0 … 0 0]                    "
      ]
     },
     "execution_count": 39,
     "metadata": {},
     "output_type": "execute_result"
    }
   ],
   "source": [
    "#50 pasos, 50 iteraciones\n",
    "@time random_walk(mmulti, 50, 50)"
   ]
  },
  {
   "cell_type": "code",
   "execution_count": 40,
   "metadata": {},
   "outputs": [
    {
     "name": "stdout",
     "output_type": "stream",
     "text": [
      " 54.101575 seconds (12.20 M allocations: 28.617 GiB, 6.12% gc time)\n"
     ]
    },
    {
     "data": {
      "text/plain": [
       "3045-element Array{Any,1}:\n",
       " [744 625 … 0 0; 529 480 … 0 0; … ; 744 317 … 0 0; 721 625 … 0 0]  \n",
       " [6 723 … 0 0; 123 592 … 0 0; … ; 482 630 … 0 0; 2244 0 … 0 0]     \n",
       " [623 2159 … 0 0; 608 363 … 0 0; … ; 1252 757 … 0 0; 651 528 … 0 0]\n",
       " [450 287 … 0 0; 3 337 … 0 0; … ; 762 763 … 0 0; 762 720 … 0 0]    \n",
       " [123 95 … 0 0; 592 129 … 0 0; … ; 592 630 … 0 0; 304 254 … 0 0]   \n",
       " [764 39 … 0 0; 651 724 … 0 0; … ; 753 739 … 0 0; 311 384 … 0 0]   \n",
       " [594 633 … 0 0; 594 1105 … 0 0; … ; 594 1250 … 0 0; 594 633 … 0 0]\n",
       " [745 739 … 0 0; 716 718 … 0 0; … ; 757 718 … 0 0; 757 753 … 0 0]  \n",
       " [720 686 … 0 0; 1392 0 … 0 0; … ; 720 737 … 0 0; 592 2218 … 0 0]  \n",
       " [2951 0 … 0 0; 1367 989 … 0 0; … ; 523 64 … 0 0; 415 1927 … 0 0]  \n",
       " [278 1265 … 0 0; 981 857 … 0 0; … ; 336 782 … 0 0; 857 982 … 0 0] \n",
       " [375 458 … 0 0; 375 11 … 0 0; … ; 375 278 … 0 0; 375 2397 … 0 0]  \n",
       " [854 377 … 0 0; 854 336 … 0 0; … ; 666 375 … 0 0; 667 436 … 0 0]  \n",
       " ⋮                                                                 \n",
       " [0 0 … 0 0; 0 0 … 0 0; … ; 0 0 … 0 0; 0 0 … 0 0]                  \n",
       " [0 0 … 0 0; 0 0 … 0 0; … ; 0 0 … 0 0; 0 0 … 0 0]                  \n",
       " [0 0 … 0 0; 0 0 … 0 0; … ; 0 0 … 0 0; 0 0 … 0 0]                  \n",
       " [0 0 … 0 0; 0 0 … 0 0; … ; 0 0 … 0 0; 0 0 … 0 0]                  \n",
       " [0 0 … 0 0; 0 0 … 0 0; … ; 0 0 … 0 0; 0 0 … 0 0]                  \n",
       " [0 0 … 0 0; 0 0 … 0 0; … ; 0 0 … 0 0; 0 0 … 0 0]                  \n",
       " [0 0 … 0 0; 0 0 … 0 0; … ; 0 0 … 0 0; 0 0 … 0 0]                  \n",
       " [0 0 … 0 0; 0 0 … 0 0; … ; 0 0 … 0 0; 0 0 … 0 0]                  \n",
       " [0 0 … 0 0; 0 0 … 0 0; … ; 0 0 … 0 0; 0 0 … 0 0]                  \n",
       " [0 0 … 0 0; 0 0 … 0 0; … ; 0 0 … 0 0; 0 0 … 0 0]                  \n",
       " [0 0 … 0 0; 0 0 … 0 0; … ; 0 0 … 0 0; 0 0 … 0 0]                  \n",
       " [0 0 … 0 0; 0 0 … 0 0; … ; 0 0 … 0 0; 0 0 … 0 0]                  "
      ]
     },
     "execution_count": 40,
     "metadata": {},
     "output_type": "execute_result"
    }
   ],
   "source": [
    "#50 pasos, 50 iteraciones\n",
    "@time random_walk(mmulti, 50, 100)"
   ]
  },
  {
   "cell_type": "markdown",
   "metadata": {},
   "source": [
    "### Redes artificiales\n",
    "\n",
    "#### Ciclo"
   ]
  },
  {
   "cell_type": "code",
   "execution_count": 41,
   "metadata": {},
   "outputs": [
    {
     "data": {
      "text/plain": [
       "5×5 Array{Int64,2}:\n",
       " 0  1  0  0  1\n",
       " 1  0  1  0  0\n",
       " 0  1  0  1  0\n",
       " 0  0  1  0  1\n",
       " 1  0  0  1  0"
      ]
     },
     "execution_count": 41,
     "metadata": {},
     "output_type": "execute_result"
    }
   ],
   "source": [
    "c1 = [0  1  0  0  1\n",
    "      1  0  1  0  0\n",
    "      0  1  0  1  0\n",
    "      0  0  1  0  1\n",
    "      1  0  0  1  0]"
   ]
  },
  {
   "cell_type": "code",
   "execution_count": 50,
   "metadata": {},
   "outputs": [
    {
     "name": "stdout",
     "output_type": "stream",
     "text": [
      "  0.001428 seconds (40.01 k allocations: 2.328 MiB)\n"
     ]
    },
    {
     "data": {
      "text/plain": [
       "5-element Array{Any,1}:\n",
       " [5 4 … 5 4; 2 3 … 4 3; … ; 5 1 … 4 3; 2 1 … 3 4]\n",
       " [3 2 … 5 1; 1 5 … 1 5; … ; 1 5 … 1 2; 3 2 … 2 3]\n",
       " [2 1 … 4 5; 4 3 … 4 3; … ; 4 5 … 2 1; 4 5 … 1 5]\n",
       " [3 4 … 4 5; 3 4 … 4 3; … ; 5 4 … 5 4; 5 4 … 3 4]\n",
       " [1 5 … 5 1; 4 3 … 4 3; … ; 1 5 … 3 4; 1 2 … 1 5]"
      ]
     },
     "execution_count": 50,
     "metadata": {},
     "output_type": "execute_result"
    }
   ],
   "source": [
    "rc1 = @time random_walk(c1, 100, 10)"
   ]
  },
  {
   "cell_type": "code",
   "execution_count": 51,
   "metadata": {},
   "outputs": [
    {
     "data": {
      "text/plain": [
       "10×100 Array{Int64,2}:\n",
       " 5  4  3  4  5  1  5  1  2  1  2  3  2  …  1  2  3  4  5  4  5  1  2  1  5  4\n",
       " 2  3  2  3  4  3  4  3  2  3  4  3  4     1  2  1  5  4  3  4  5  4  3  4  3\n",
       " 5  1  2  1  5  4  5  1  5  1  5  4  3     5  4  5  4  3  2  1  5  4  3  2  1\n",
       " 5  1  5  1  5  1  5  4  5  1  2  3  2     2  1  5  1  5  1  5  1  2  3  4  3\n",
       " 5  1  2  1  2  3  2  1  2  1  2  1  5     1  5  1  2  3  2  1  2  3  2  3  2\n",
       " 2  3  4  5  1  2  1  2  3  2  3  2  3  …  5  1  5  1  2  3  2  3  2  3  4  5\n",
       " 2  3  4  5  4  5  4  5  1  2  3  4  3     1  5  1  5  1  5  1  2  3  4  3  4\n",
       " 5  4  5  1  2  1  2  3  2  3  2  1  2     1  5  1  2  3  2  1  5  1  2  3  2\n",
       " 5  1  2  1  2  1  5  1  2  3  4  3  2     5  1  5  1  2  3  2  1  2  3  4  3\n",
       " 2  1  2  1  5  1  2  3  4  5  1  2  1     4  5  1  2  3  4  5  1  5  4  3  4"
      ]
     },
     "execution_count": 51,
     "metadata": {},
     "output_type": "execute_result"
    }
   ],
   "source": [
    "#10 iteraciones de 100 pasos con nodo inicial 1 \n",
    "rc1[1]"
   ]
  },
  {
   "cell_type": "code",
   "execution_count": 52,
   "metadata": {},
   "outputs": [
    {
     "data": {
      "text/plain": [
       "10×100 Array{Int64,2}:\n",
       " 3  2  1  5  4  5  4  3  4  3  2  1  5  …  4  3  4  3  2  3  4  3  2  1  5  1\n",
       " 1  5  4  5  1  5  1  5  4  3  4  3  2     4  3  2  1  5  1  5  4  3  2  1  5\n",
       " 1  2  1  5  1  5  4  5  1  2  3  4  5     3  2  3  4  3  2  1  2  1  2  1  2\n",
       " 3  2  3  4  5  4  3  4  3  2  3  2  1     4  3  2  1  5  1  2  1  2  3  2  3\n",
       " 3  4  3  2  1  5  1  5  1  2  1  2  3     5  1  5  1  5  1  5  4  3  2  3  2\n",
       " 3  4  3  2  1  2  1  2  3  2  1  2  3  …  1  2  3  2  1  5  4  3  4  3  2  1\n",
       " 3  4  3  4  3  2  3  2  1  2  1  5  1     2  3  2  3  2  1  5  1  2  1  5  4\n",
       " 3  4  5  1  2  1  2  1  5  1  5  4  3     2  1  2  3  4  3  2  1  5  1  5  4\n",
       " 1  5  1  2  3  2  1  5  1  2  1  5  4     4  3  4  5  4  3  4  3  4  5  1  2\n",
       " 3  2  3  4  3  4  3  4  5  4  5  1  2     5  4  5  1  5  1  2  1  2  1  2  3"
      ]
     },
     "execution_count": 52,
     "metadata": {},
     "output_type": "execute_result"
    }
   ],
   "source": [
    "#10 iteraciones de 100 pasos con nodo inicial 2\n",
    "rc1[2]"
   ]
  },
  {
   "cell_type": "markdown",
   "metadata": {},
   "source": [
    "#### 2 ciclos"
   ]
  },
  {
   "cell_type": "code",
   "execution_count": 42,
   "metadata": {},
   "outputs": [
    {
     "data": {
      "text/plain": [
       "6×6 Array{Int64,2}:\n",
       " 0  1  1  0  0  0\n",
       " 1  0  1  0  0  0\n",
       " 1  1  0  0  0  0\n",
       " 0  0  0  0  1  1\n",
       " 0  0  0  1  0  1\n",
       " 0  0  0  0  1  1"
      ]
     },
     "execution_count": 42,
     "metadata": {},
     "output_type": "execute_result"
    }
   ],
   "source": [
    "c2 = [0  1  1  0  0  0  \n",
    "      1  0  1  0  0  0\n",
    "      1  1  0  0  0  0\n",
    "      0  0  0  0  1  1\n",
    "      0  0  0  1  0  1\n",
    "      0  0  0  0  1  1]"
   ]
  },
  {
   "cell_type": "code",
   "execution_count": 53,
   "metadata": {},
   "outputs": [
    {
     "name": "stdout",
     "output_type": "stream",
     "text": [
      "  0.002250 seconds (48.01 k allocations: 2.793 MiB)\n"
     ]
    },
    {
     "data": {
      "text/plain": [
       "6-element Array{Any,1}:\n",
       " [2 1 … 3 2; 2 3 … 2 1; … ; 3 1 … 1 3; 2 3 … 2 3]\n",
       " [1 3 … 1 3; 1 2 … 2 3; … ; 3 2 … 3 2; 1 3 … 3 1]\n",
       " [1 2 … 1 3; 1 2 … 2 3; … ; 1 2 … 2 3; 1 3 … 1 2]\n",
       " [6 5 … 6 5; 6 5 … 5 6; … ; 5 6 … 6 6; 6 6 … 6 5]\n",
       " [6 5 … 5 6; 6 6 … 5 6; … ; 4 5 … 6 6; 4 6 … 6 6]\n",
       " [5 4 … 5 4; 6 6 … 6 6; … ; 5 4 … 5 6; 5 4 … 5 4]"
      ]
     },
     "execution_count": 53,
     "metadata": {},
     "output_type": "execute_result"
    }
   ],
   "source": [
    "rc2 = @time random_walk(c2, 100, 10)"
   ]
  },
  {
   "cell_type": "code",
   "execution_count": 54,
   "metadata": {
    "scrolled": true
   },
   "outputs": [
    {
     "data": {
      "text/plain": [
       "10×100 Array{Int64,2}:\n",
       " 2  1  2  1  3  2  3  2  3  1  2  3  1  …  1  2  1  3  2  1  2  1  3  2  3  2\n",
       " 2  3  2  3  2  3  1  2  1  3  1  2  3     2  1  2  3  1  2  3  2  1  3  2  1\n",
       " 2  1  3  1  3  1  3  1  3  1  3  2  1     1  3  1  3  1  2  1  2  3  2  3  2\n",
       " 2  1  2  1  3  2  3  1  3  1  2  1  2     2  3  2  1  3  1  3  1  2  3  2  1\n",
       " 2  3  2  1  2  1  2  1  2  3  2  1  2     1  2  1  3  2  1  3  1  2  1  2  1\n",
       " 2  1  2  3  1  3  2  1  2  1  3  1  2  …  3  2  3  1  2  3  1  3  2  1  2  1\n",
       " 3  2  1  3  1  3  2  3  1  3  1  2  1     1  3  2  3  2  1  3  2  1  3  1  2\n",
       " 2  1  3  2  3  1  2  1  2  3  1  3  2     3  2  3  2  3  2  1  3  1  3  1  2\n",
       " 3  1  2  1  3  1  2  1  3  1  3  2  1     1  2  1  2  3  2  1  3  2  3  1  3\n",
       " 2  3  1  2  1  2  3  2  3  2  1  3  1     1  2  1  2  3  1  2  3  1  3  2  3"
      ]
     },
     "execution_count": 54,
     "metadata": {},
     "output_type": "execute_result"
    }
   ],
   "source": [
    "#10 iteraciones de 100 pasos con nodo inicial 1 de una red de 2 ciclos\n",
    "rc2[1]"
   ]
  },
  {
   "cell_type": "code",
   "execution_count": 98,
   "metadata": {},
   "outputs": [
    {
     "data": {
      "text/plain": [
       "10×100 Array{Int64,2}:\n",
       " 4  6  4  5  4  6  4  6  4  5  4  5  4  …  4  6  4  6  4  5  4  5  4  5  4  6\n",
       " 4  5  4  5  4  5  4  6  4  6  4  5  4     4  5  4  6  4  6  4  6  4  6  4  5\n",
       " 4  6  4  5  4  6  4  5  4  5  4  5  4     4  6  4  5  4  5  4  6  4  6  4  6\n",
       " 4  5  4  5  4  6  4  6  4  6  4  5  4     4  6  4  5  4  5  4  6  4  6  4  5\n",
       " 4  5  4  6  4  5  4  5  4  6  4  5  4     4  6  4  6  4  6  4  6  4  6  4  6\n",
       " 4  6  4  5  4  5  4  5  4  6  4  5  4  …  4  6  4  5  4  6  4  5  4  6  4  5\n",
       " 4  6  4  6  4  5  4  6  4  6  4  5  4     4  6  4  6  4  6  4  6  4  6  4  5\n",
       " 4  5  4  5  4  5  4  6  4  5  4  6  4     4  5  4  6  4  5  4  6  4  5  4  5\n",
       " 4  6  4  6  4  5  4  6  4  5  4  5  4     4  6  4  6  4  6  4  5  4  5  4  5\n",
       " 4  5  4  6  4  6  4  6  4  6  4  5  4     4  5  4  5  4  5  4  5  4  6  4  6"
      ]
     },
     "execution_count": 98,
     "metadata": {},
     "output_type": "execute_result"
    }
   ],
   "source": [
    "rc2[5]"
   ]
  },
  {
   "cell_type": "markdown",
   "metadata": {},
   "source": [
    "#### Eg2"
   ]
  },
  {
   "cell_type": "code",
   "execution_count": 43,
   "metadata": {},
   "outputs": [
    {
     "data": {
      "text/plain": [
       "3×3 Array{Int64,2}:\n",
       " 0  1  0\n",
       " 1  0  1\n",
       " 0  1  0"
      ]
     },
     "execution_count": 43,
     "metadata": {},
     "output_type": "execute_result"
    }
   ],
   "source": [
    "t1 = [0  1  0  \n",
    "      1  0  1 \n",
    "      0  1  0]"
   ]
  },
  {
   "cell_type": "code",
   "execution_count": 55,
   "metadata": {},
   "outputs": [
    {
     "name": "stdout",
     "output_type": "stream",
     "text": [
      "  0.001711 seconds (24.01 k allocations: 1.351 MiB)\n"
     ]
    },
    {
     "data": {
      "text/plain": [
       "3-element Array{Any,1}:\n",
       " [2 3 … 2 3; 2 3 … 2 1; … ; 2 3 … 2 3; 2 1 … 2 1]\n",
       " [1 2 … 1 2; 3 2 … 1 2; … ; 1 2 … 3 2; 3 2 … 1 2]\n",
       " [2 3 … 2 3; 2 1 … 2 1; … ; 2 3 … 2 1; 2 1 … 2 3]"
      ]
     },
     "execution_count": 55,
     "metadata": {},
     "output_type": "execute_result"
    }
   ],
   "source": [
    "rt1 = @time random_walk(t1, 100, 10)"
   ]
  },
  {
   "cell_type": "code",
   "execution_count": 56,
   "metadata": {},
   "outputs": [
    {
     "data": {
      "text/plain": [
       "10×100 Array{Int64,2}:\n",
       " 2  3  2  3  2  3  2  1  2  3  2  3  2  …  2  3  2  1  2  3  2  1  2  3  2  3\n",
       " 2  3  2  3  2  1  2  3  2  1  2  1  2     2  3  2  1  2  1  2  1  2  3  2  1\n",
       " 2  1  2  3  2  3  2  3  2  1  2  1  2     2  3  2  1  2  1  2  1  2  3  2  3\n",
       " 2  3  2  3  2  3  2  3  2  3  2  1  2     2  3  2  3  2  1  2  1  2  1  2  3\n",
       " 2  1  2  3  2  3  2  3  2  3  2  1  2     2  3  2  1  2  3  2  3  2  1  2  3\n",
       " 2  1  2  3  2  1  2  3  2  3  2  3  2  …  2  3  2  3  2  3  2  1  2  1  2  1\n",
       " 2  3  2  3  2  3  2  3  2  3  2  1  2     2  3  2  3  2  1  2  3  2  3  2  1\n",
       " 2  1  2  1  2  3  2  3  2  3  2  1  2     2  3  2  1  2  3  2  1  2  3  2  1\n",
       " 2  3  2  1  2  3  2  1  2  3  2  3  2     2  1  2  1  2  1  2  1  2  3  2  3\n",
       " 2  1  2  3  2  3  2  1  2  1  2  1  2     2  1  2  1  2  1  2  1  2  3  2  1"
      ]
     },
     "execution_count": 56,
     "metadata": {},
     "output_type": "execute_result"
    }
   ],
   "source": [
    "#10 iteraciones de 100 pasos\n",
    "rt1[1]"
   ]
  },
  {
   "cell_type": "code",
   "execution_count": 44,
   "metadata": {},
   "outputs": [
    {
     "data": {
      "text/plain": [
       "6×6 Array{Int64,2}:\n",
       " 0  1  0  0  0  0\n",
       " 1  0  1  0  0  0\n",
       " 0  1  0  0  0  0\n",
       " 0  0  0  0  1  1\n",
       " 0  0  0  1  0  0\n",
       " 0  0  0  1  0  0"
      ]
     },
     "execution_count": 44,
     "metadata": {},
     "output_type": "execute_result"
    }
   ],
   "source": [
    "t2 = [0  1  0  0  0  0  \n",
    "      1  0  1  0  0  0\n",
    "      0  1  0  0  0  0\n",
    "      0  0  0  0  1  1\n",
    "      0  0  0  1  0  0\n",
    "      0  0  0  1  0  0]"
   ]
  },
  {
   "cell_type": "code",
   "execution_count": 58,
   "metadata": {},
   "outputs": [
    {
     "name": "stdout",
     "output_type": "stream",
     "text": [
      "  0.003299 seconds (48.01 k allocations: 2.793 MiB)\n"
     ]
    },
    {
     "data": {
      "text/plain": [
       "6-element Array{Any,1}:\n",
       " [2 1 … 2 1; 2 3 … 2 1; … ; 2 3 … 2 1; 2 3 … 2 1]\n",
       " [1 2 … 3 2; 1 2 … 3 2; … ; 1 2 … 3 2; 3 2 … 3 2]\n",
       " [2 3 … 2 3; 2 1 … 2 3; … ; 2 1 … 2 3; 2 3 … 2 1]\n",
       " [5 4 … 5 4; 6 4 … 5 4; … ; 5 4 … 5 4; 6 4 … 6 4]\n",
       " [4 6 … 4 5; 4 6 … 4 6; … ; 4 5 … 4 6; 4 5 … 4 6]\n",
       " [4 5 … 4 5; 4 5 … 4 5; … ; 4 6 … 4 5; 4 6 … 4 5]"
      ]
     },
     "execution_count": 58,
     "metadata": {},
     "output_type": "execute_result"
    }
   ],
   "source": [
    "rt2 = @time random_walk(t2, 100, 10)"
   ]
  },
  {
   "cell_type": "code",
   "execution_count": 59,
   "metadata": {
    "scrolled": true
   },
   "outputs": [
    {
     "data": {
      "text/plain": [
       "10×100 Array{Int64,2}:\n",
       " 1  2  3  2  3  2  1  2  3  2  1  2  3  …  1  2  1  2  3  2  3  2  3  2  3  2\n",
       " 1  2  3  2  1  2  1  2  3  2  1  2  3     3  2  3  2  1  2  1  2  3  2  3  2\n",
       " 1  2  1  2  3  2  1  2  3  2  1  2  1     3  2  1  2  1  2  1  2  1  2  1  2\n",
       " 1  2  1  2  3  2  1  2  3  2  3  2  3     3  2  3  2  3  2  1  2  3  2  3  2\n",
       " 1  2  1  2  1  2  1  2  1  2  1  2  1     3  2  3  2  3  2  3  2  1  2  3  2\n",
       " 1  2  3  2  3  2  3  2  1  2  1  2  3  …  3  2  3  2  1  2  1  2  3  2  3  2\n",
       " 1  2  3  2  3  2  1  2  1  2  3  2  3     1  2  1  2  3  2  3  2  3  2  1  2\n",
       " 3  2  3  2  3  2  1  2  1  2  1  2  1     3  2  1  2  3  2  1  2  1  2  1  2\n",
       " 1  2  1  2  3  2  3  2  3  2  3  2  1     3  2  3  2  3  2  3  2  1  2  3  2\n",
       " 3  2  1  2  3  2  1  2  3  2  3  2  1     1  2  3  2  1  2  3  2  1  2  3  2"
      ]
     },
     "execution_count": 59,
     "metadata": {},
     "output_type": "execute_result"
    }
   ],
   "source": [
    "#Nodo inicial 2\n",
    "rt2[2]"
   ]
  },
  {
   "cell_type": "code",
   "execution_count": 99,
   "metadata": {},
   "outputs": [
    {
     "data": {
      "text/plain": [
       "10×100 Array{Int64,2}:\n",
       " 4  5  4  5  4  6  4  5  4  6  4  6  4  …  4  5  4  5  4  5  4  5  4  5  4  5\n",
       " 4  5  4  6  4  5  4  6  4  5  4  6  4     4  5  4  6  4  5  4  5  4  5  4  5\n",
       " 4  5  4  6  4  6  4  6  4  6  4  5  4     4  5  4  5  4  6  4  6  4  5  4  6\n",
       " 4  5  4  6  4  5  4  5  4  6  4  5  4     4  5  4  5  4  5  4  5  4  5  4  5\n",
       " 4  5  4  5  4  6  4  5  4  6  4  5  4     4  6  4  5  4  5  4  5  4  6  4  5\n",
       " 4  6  4  5  4  6  4  6  4  5  4  5  4  …  4  5  4  6  4  6  4  5  4  5  4  5\n",
       " 4  5  4  5  4  5  4  5  4  6  4  5  4     4  6  4  5  4  5  4  5  4  5  4  5\n",
       " 4  5  4  6  4  6  4  6  4  5  4  6  4     4  6  4  6  4  6  4  6  4  5  4  5\n",
       " 4  6  4  6  4  5  4  6  4  5  4  6  4     4  5  4  5  4  6  4  6  4  6  4  5\n",
       " 4  6  4  5  4  5  4  5  4  5  4  6  4     4  6  4  6  4  6  4  5  4  5  4  5"
      ]
     },
     "execution_count": 99,
     "metadata": {},
     "output_type": "execute_result"
    }
   ],
   "source": [
    "rt2[6]"
   ]
  },
  {
   "cell_type": "markdown",
   "metadata": {},
   "source": [
    "### Lineal"
   ]
  },
  {
   "cell_type": "code",
   "execution_count": 45,
   "metadata": {},
   "outputs": [
    {
     "data": {
      "text/plain": [
       "4×4 Array{Int64,2}:\n",
       " 0  1  0  0\n",
       " 1  0  1  0\n",
       " 0  1  0  1\n",
       " 0  0  1  0"
      ]
     },
     "execution_count": 45,
     "metadata": {},
     "output_type": "execute_result"
    }
   ],
   "source": [
    "l1 = [0  1  0  0  \n",
    "      1  0  1  0\n",
    "      0  1  0  1\n",
    "      0  0  1  0]"
   ]
  },
  {
   "cell_type": "code",
   "execution_count": 60,
   "metadata": {},
   "outputs": [
    {
     "name": "stdout",
     "output_type": "stream",
     "text": [
      "  0.006833 seconds (32.01 k allocations: 1.801 MiB, 83.16% gc time)\n"
     ]
    },
    {
     "data": {
      "text/plain": [
       "4-element Array{Any,1}:\n",
       " [2 1 … 4 3; 2 3 … 4 3; … ; 2 3 … 4 3; 2 1 … 4 3]\n",
       " [3 2 … 3 2; 3 4 … 3 4; … ; 1 2 … 3 2; 3 2 … 3 4]\n",
       " [4 3 … 4 3; 4 3 … 2 3; … ; 2 1 … 2 1; 2 1 … 2 3]\n",
       " [3 2 … 3 2; 3 4 … 1 2; … ; 3 2 … 3 2; 3 2 … 3 2]"
      ]
     },
     "execution_count": 60,
     "metadata": {},
     "output_type": "execute_result"
    }
   ],
   "source": [
    "rl1 = @time random_walk(l1, 100, 10)"
   ]
  },
  {
   "cell_type": "code",
   "execution_count": 61,
   "metadata": {},
   "outputs": [
    {
     "data": {
      "text/plain": [
       "10×100 Array{Int64,2}:\n",
       " 2  1  2  1  2  1  2  1  2  3  2  3  2  …  2  3  4  3  4  3  4  3  2  3  4  3\n",
       " 2  3  4  3  2  1  2  3  2  1  2  3  2     2  3  4  3  2  1  2  3  4  3  4  3\n",
       " 2  1  2  1  2  3  2  3  2  1  2  1  2     2  3  4  3  2  1  2  3  2  3  2  3\n",
       " 2  1  2  3  4  3  2  3  4  3  4  3  4     4  3  4  3  2  1  2  1  2  1  2  1\n",
       " 2  1  2  3  2  1  2  1  2  3  4  3  2     2  3  4  3  4  3  4  3  4  3  2  1\n",
       " 2  3  2  1  2  3  2  3  2  3  2  1  2  …  2  1  2  3  4  3  4  3  4  3  4  3\n",
       " 2  1  2  1  2  3  2  1  2  1  2  1  2     2  3  2  1  2  1  2  1  2  1  2  3\n",
       " 2  3  2  1  2  1  2  1  2  3  4  3  2     2  1  2  1  2  1  2  3  2  1  2  3\n",
       " 2  3  2  1  2  1  2  1  2  3  4  3  2     4  3  4  3  2  1  2  3  4  3  4  3\n",
       " 2  1  2  3  2  3  2  3  2  1  2  3  4     4  3  4  3  4  3  2  3  2  3  4  3"
      ]
     },
     "execution_count": 61,
     "metadata": {},
     "output_type": "execute_result"
    }
   ],
   "source": [
    "rl1[1]"
   ]
  },
  {
   "cell_type": "code",
   "execution_count": 62,
   "metadata": {},
   "outputs": [
    {
     "data": {
      "text/plain": [
       "10×100 Array{Int64,2}:\n",
       " 3  2  1  2  3  2  1  2  3  2  1  2  3  …  3  4  3  4  3  2  1  2  3  4  3  2\n",
       " 3  4  3  2  1  2  3  4  3  2  1  2  1     1  2  1  2  1  2  1  2  3  2  1  2\n",
       " 3  4  3  4  3  2  3  2  1  2  3  2  1     3  4  3  2  3  4  3  2  3  4  3  4\n",
       " 3  4  3  2  3  4  3  2  3  2  3  4  3     1  2  1  2  3  2  3  2  3  2  3  2\n",
       " 3  4  3  2  3  2  3  4  3  4  3  2  3     3  4  3  2  1  2  3  2  3  4  3  2\n",
       " 3  4  3  2  1  2  3  2  1  2  3  4  3  …  3  2  1  2  3  2  3  4  3  2  3  4\n",
       " 3  2  1  2  3  4  3  4  3  4  3  4  3     1  2  1  2  1  2  1  2  1  2  3  2\n",
       " 3  4  3  2  1  2  1  2  1  2  1  2  3     1  2  1  2  1  2  3  4  3  4  3  4\n",
       " 3  2  3  2  3  4  3  4  3  4  3  4  3     1  2  3  2  1  2  3  2  3  4  3  2\n",
       " 3  2  1  2  1  2  3  4  3  2  1  2  3     1  2  3  2  3  2  3  4  3  2  3  2"
      ]
     },
     "execution_count": 62,
     "metadata": {},
     "output_type": "execute_result"
    }
   ],
   "source": [
    "rl1[4]"
   ]
  },
  {
   "cell_type": "markdown",
   "metadata": {},
   "source": [
    "### 2 Lineal"
   ]
  },
  {
   "cell_type": "code",
   "execution_count": 46,
   "metadata": {},
   "outputs": [
    {
     "data": {
      "text/plain": [
       "6×6 Array{Int64,2}:\n",
       " 0  1  0  0  0  0\n",
       " 1  0  1  0  0  0\n",
       " 0  1  0  0  0  0\n",
       " 0  0  0  0  1  0\n",
       " 0  0  0  1  0  1\n",
       " 0  0  0  0  1  0"
      ]
     },
     "execution_count": 46,
     "metadata": {},
     "output_type": "execute_result"
    }
   ],
   "source": [
    "l2 = [0  1  0  0  0  0  \n",
    "      1  0  1  0  0  0\n",
    "      0  1  0  0  0  0\n",
    "      0  0  0  0  1  0\n",
    "      0  0  0  1  0  1\n",
    "      0  0  0  0  1  0]"
   ]
  },
  {
   "cell_type": "code",
   "execution_count": 63,
   "metadata": {},
   "outputs": [
    {
     "name": "stdout",
     "output_type": "stream",
     "text": [
      "  0.003672 seconds (48.01 k allocations: 2.793 MiB)\n"
     ]
    },
    {
     "data": {
      "text/plain": [
       "6-element Array{Any,1}:\n",
       " [2 1 … 2 1; 2 1 … 2 3; … ; 2 1 … 2 1; 2 1 … 2 1]\n",
       " [3 2 … 1 2; 3 2 … 1 2; … ; 1 2 … 3 2; 1 2 … 3 2]\n",
       " [2 3 … 2 3; 2 1 … 2 1; … ; 2 3 … 2 1; 2 1 … 2 1]\n",
       " [5 4 … 5 6; 5 6 … 5 4; … ; 5 6 … 5 6; 5 6 … 5 6]\n",
       " [4 5 … 6 5; 4 5 … 6 5; … ; 4 5 … 6 5; 4 5 … 4 5]\n",
       " [5 6 … 5 4; 5 6 … 5 4; … ; 5 4 … 5 4; 5 4 … 5 6]"
      ]
     },
     "execution_count": 63,
     "metadata": {},
     "output_type": "execute_result"
    }
   ],
   "source": [
    "rl2 = @time random_walk(l2, 100, 10)"
   ]
  },
  {
   "cell_type": "code",
   "execution_count": 64,
   "metadata": {},
   "outputs": [
    {
     "data": {
      "text/plain": [
       "10×100 Array{Int64,2}:\n",
       " 2  3  2  3  2  1  2  1  2  1  2  3  2  …  2  3  2  1  2  3  2  3  2  3  2  3\n",
       " 2  1  2  3  2  3  2  1  2  1  2  3  2     2  1  2  1  2  1  2  3  2  3  2  1\n",
       " 2  1  2  1  2  1  2  1  2  1  2  1  2     2  1  2  3  2  1  2  3  2  3  2  1\n",
       " 2  3  2  3  2  3  2  1  2  1  2  3  2     2  1  2  3  2  3  2  1  2  3  2  3\n",
       " 2  3  2  1  2  1  2  1  2  3  2  3  2     2  1  2  1  2  3  2  3  2  1  2  1\n",
       " 2  1  2  3  2  1  2  1  2  3  2  3  2  …  2  1  2  1  2  1  2  3  2  3  2  3\n",
       " 2  3  2  1  2  3  2  3  2  3  2  1  2     2  3  2  3  2  3  2  3  2  3  2  1\n",
       " 2  1  2  3  2  3  2  1  2  3  2  1  2     2  1  2  1  2  3  2  1  2  3  2  1\n",
       " 2  3  2  1  2  1  2  1  2  3  2  1  2     2  1  2  1  2  1  2  3  2  3  2  1\n",
       " 2  1  2  3  2  3  2  1  2  1  2  3  2     2  1  2  1  2  3  2  3  2  3  2  1"
      ]
     },
     "execution_count": 64,
     "metadata": {},
     "output_type": "execute_result"
    }
   ],
   "source": [
    "rl2[3]"
   ]
  },
  {
   "cell_type": "code",
   "execution_count": 65,
   "metadata": {},
   "outputs": [
    {
     "data": {
      "text/plain": [
       "10×100 Array{Int64,2}:\n",
       " 4  5  4  5  4  5  6  5  4  5  4  5  4  …  6  5  6  5  4  5  6  5  4  5  6  5\n",
       " 4  5  4  5  4  5  4  5  4  5  6  5  4     6  5  4  5  6  5  6  5  6  5  6  5\n",
       " 6  5  4  5  4  5  6  5  6  5  6  5  4     6  5  4  5  6  5  6  5  6  5  6  5\n",
       " 6  5  6  5  4  5  6  5  6  5  6  5  4     4  5  6  5  6  5  4  5  4  5  6  5\n",
       " 6  5  4  5  6  5  4  5  4  5  4  5  6     6  5  4  5  4  5  4  5  4  5  6  5\n",
       " 6  5  6  5  6  5  4  5  4  5  6  5  6  …  6  5  6  5  6  5  6  5  6  5  6  5\n",
       " 6  5  6  5  4  5  6  5  4  5  6  5  6     4  5  4  5  4  5  6  5  4  5  6  5\n",
       " 6  5  4  5  6  5  6  5  6  5  6  5  4     6  5  4  5  6  5  4  5  6  5  4  5\n",
       " 4  5  4  5  4  5  6  5  6  5  6  5  6     6  5  4  5  4  5  6  5  6  5  6  5\n",
       " 4  5  6  5  6  5  6  5  4  5  6  5  4     4  5  4  5  4  5  4  5  6  5  4  5"
      ]
     },
     "execution_count": 65,
     "metadata": {},
     "output_type": "execute_result"
    }
   ],
   "source": [
    "rl2[5]"
   ]
  },
  {
   "cell_type": "markdown",
   "metadata": {},
   "source": [
    "### Clica"
   ]
  },
  {
   "cell_type": "code",
   "execution_count": 47,
   "metadata": {},
   "outputs": [
    {
     "data": {
      "text/plain": [
       "4×4 Array{Int64,2}:\n",
       " 0  1  1  1\n",
       " 1  0  1  1\n",
       " 1  1  0  1\n",
       " 1  1  1  0"
      ]
     },
     "execution_count": 47,
     "metadata": {},
     "output_type": "execute_result"
    }
   ],
   "source": [
    "g1 = [0  1  1  1  \n",
    "      1  0  1  1\n",
    "      1  1  0  1\n",
    "      1  1  1  0]"
   ]
  },
  {
   "cell_type": "code",
   "execution_count": 66,
   "metadata": {},
   "outputs": [
    {
     "name": "stdout",
     "output_type": "stream",
     "text": [
      "  0.001263 seconds (32.01 k allocations: 1.801 MiB)\n"
     ]
    },
    {
     "data": {
      "text/plain": [
       "4-element Array{Any,1}:\n",
       " [4 1 … 2 3; 3 2 … 3 1; … ; 3 2 … 3 2; 3 4 … 4 1]\n",
       " [4 2 … 4 2; 1 2 … 3 2; … ; 3 4 … 1 4; 4 3 … 3 4]\n",
       " [2 3 … 2 4; 4 1 … 2 3; … ; 1 4 … 4 3; 2 1 … 1 4]\n",
       " [3 4 … 2 4; 3 2 … 3 2; … ; 2 1 … 2 3; 3 2 … 3 2]"
      ]
     },
     "execution_count": 66,
     "metadata": {},
     "output_type": "execute_result"
    }
   ],
   "source": [
    "rg1 = @time random_walk(g1, 100, 10)"
   ]
  },
  {
   "cell_type": "code",
   "execution_count": 67,
   "metadata": {},
   "outputs": [
    {
     "data": {
      "text/plain": [
       "10×100 Array{Int64,2}:\n",
       " 4  1  4  3  1  4  2  3  4  1  3  2  3  …  1  2  1  3  1  3  1  2  3  4  2  3\n",
       " 3  2  4  2  4  1  2  4  1  2  3  2  1     1  3  1  4  2  4  3  4  3  1  3  1\n",
       " 4  1  3  2  3  4  3  2  3  1  4  3  4     4  3  1  3  2  4  3  1  3  2  4  1\n",
       " 2  3  4  1  2  3  2  3  2  4  2  4  2     3  2  4  1  2  3  2  3  4  2  1  3\n",
       " 3  4  3  4  1  4  2  1  3  4  1  3  2     4  3  4  3  4  2  1  3  1  3  2  4\n",
       " 4  2  3  2  1  3  2  4  3  1  3  4  3  …  2  1  4  1  3  1  2  4  2  1  3  1\n",
       " 4  3  4  2  1  2  3  1  3  2  3  4  1     4  1  2  3  2  1  3  1  4  3  2  4\n",
       " 3  2  1  3  4  3  2  4  1  2  3  4  1     2  4  2  3  4  1  4  3  4  2  4  1\n",
       " 3  2  1  2  3  2  1  4  1  3  1  3  2     4  1  4  3  1  2  3  4  1  2  3  2\n",
       " 3  4  3  1  3  1  4  2  3  2  1  3  1     2  1  4  3  4  2  4  2  4  3  4  1"
      ]
     },
     "execution_count": 67,
     "metadata": {},
     "output_type": "execute_result"
    }
   ],
   "source": [
    "rg1[1]"
   ]
  },
  {
   "cell_type": "markdown",
   "metadata": {},
   "source": [
    "### 2 Clicas"
   ]
  },
  {
   "cell_type": "code",
   "execution_count": 48,
   "metadata": {},
   "outputs": [
    {
     "data": {
      "text/plain": [
       "8×8 Array{Int64,2}:\n",
       " 0  1  1  1  0  0  0  0\n",
       " 1  0  1  1  0  0  0  0\n",
       " 1  1  0  1  0  0  0  0\n",
       " 1  1  1  0  0  0  0  0\n",
       " 0  0  0  0  0  1  1  1\n",
       " 0  0  0  0  1  0  1  1\n",
       " 0  0  0  0  1  1  0  1\n",
       " 0  0  0  0  1  1  1  0"
      ]
     },
     "execution_count": 48,
     "metadata": {},
     "output_type": "execute_result"
    }
   ],
   "source": [
    "g2 = [0  1  1  1  0  0  0  0  \n",
    "      1  0  1  1  0  0  0  0\n",
    "      1  1  0  1  0  0  0  0\n",
    "      1  1  1  0  0  0  0  0\n",
    "      0  0  0  0  0  1  1  1\n",
    "      0  0  0  0  1  0  1  1\n",
    "      0  0  0  0  1  1  0  1\n",
    "      0  0  0  0  1  1  1  0]"
   ]
  },
  {
   "cell_type": "code",
   "execution_count": 68,
   "metadata": {},
   "outputs": [
    {
     "name": "stdout",
     "output_type": "stream",
     "text": [
      "  0.002704 seconds (64.02 k allocations: 3.847 MiB)\n"
     ]
    },
    {
     "data": {
      "text/plain": [
       "8-element Array{Any,1}:\n",
       " [2 4 … 3 2; 4 1 … 4 2; … ; 4 2 … 2 4; 4 1 … 3 1]\n",
       " [3 1 … 2 1; 3 2 … 3 2; … ; 3 1 … 1 4; 4 1 … 3 2]\n",
       " [4 1 … 3 2; 1 3 … 2 3; … ; 4 1 … 2 3; 2 1 … 3 2]\n",
       " [1 4 … 3 4; 2 4 … 2 1; … ; 3 2 … 3 2; 2 1 … 2 4]\n",
       " [7 6 … 5 7; 8 5 … 7 8; … ; 8 6 … 7 6; 7 8 … 5 7]\n",
       " [7 6 … 8 5; 5 8 … 6 7; … ; 8 7 … 7 5; 7 8 … 7 8]\n",
       " [5 7 … 5 8; 8 5 … 5 7; … ; 8 5 … 5 6; 6 8 … 8 7]\n",
       " [7 8 … 5 7; 5 7 … 8 6; … ; 7 8 … 7 6; 7 6 … 7 5]"
      ]
     },
     "execution_count": 68,
     "metadata": {},
     "output_type": "execute_result"
    }
   ],
   "source": [
    "rg2 = @time random_walk(g2, 100, 10)"
   ]
  },
  {
   "cell_type": "code",
   "execution_count": 69,
   "metadata": {},
   "outputs": [
    {
     "data": {
      "text/plain": [
       "10×100 Array{Int64,2}:\n",
       " 5  7  6  8  5  6  7  5  7  5  7  6  7  …  8  7  5  8  5  6  8  6  7  6  5  8\n",
       " 8  5  7  5  6  5  6  7  8  6  5  6  7     6  7  5  8  6  7  6  8  7  6  5  7\n",
       " 6  5  8  6  7  8  6  5  6  8  7  5  6     6  5  8  7  8  6  7  6  5  8  5  7\n",
       " 5  6  5  6  8  6  8  7  8  7  6  8  5     5  8  5  8  6  5  7  8  5  6  8  7\n",
       " 8  6  8  5  7  6  8  5  6  5  6  8  5     6  7  6  7  6  5  7  8  5  8  5  8\n",
       " 6  8  7  8  6  8  6  5  8  5  6  7  8  …  7  8  5  7  6  5  7  5  6  7  8  5\n",
       " 8  7  5  6  5  7  8  5  8  7  8  5  6     6  7  6  5  6  8  7  5  6  5  6  5\n",
       " 6  5  8  6  5  6  8  7  6  8  5  7  5     5  6  5  7  8  6  7  8  7  8  7  8\n",
       " 8  5  6  5  8  7  5  8  5  6  7  8  6     7  6  7  8  5  6  5  7  8  6  5  6\n",
       " 6  8  5  8  5  6  7  8  5  8  5  7  5     8  7  5  7  5  7  5  6  8  7  8  7"
      ]
     },
     "execution_count": 69,
     "metadata": {},
     "output_type": "execute_result"
    }
   ],
   "source": [
    "rg2[7]"
   ]
  },
  {
   "cell_type": "markdown",
   "metadata": {},
   "source": [
    "### Grafo dirigido"
   ]
  },
  {
   "cell_type": "code",
   "execution_count": 70,
   "metadata": {},
   "outputs": [
    {
     "data": {
      "text/plain": [
       "4×4 Array{Int64,2}:\n",
       " 0  1  1  1\n",
       " 0  0  1  1\n",
       " 0  1  0  0\n",
       " 0  0  0  0"
      ]
     },
     "execution_count": 70,
     "metadata": {},
     "output_type": "execute_result"
    }
   ],
   "source": [
    "gd = [0  1  1  1  \n",
    "      0  0  1  1\n",
    "      0  1  0  0\n",
    "      0  0  0  0]"
   ]
  },
  {
   "cell_type": "code",
   "execution_count": 71,
   "metadata": {},
   "outputs": [
    {
     "name": "stdout",
     "output_type": "stream",
     "text": [
      "  0.000056 seconds (1.35 k allocations: 107.688 KiB)\n"
     ]
    },
    {
     "data": {
      "text/plain": [
       "4-element Array{Any,1}:\n",
       " [3 2 … 0 0; 4 0 … 0 0; … ; 4 0 … 0 0; 4 0 … 0 0]\n",
       " [3 2 … 0 0; 4 0 … 0 0; … ; 4 0 … 0 0; 4 0 … 0 0]\n",
       " [2 4 … 0 0; 2 3 … 0 0; … ; 2 3 … 0 0; 2 3 … 0 0]\n",
       " [0 0 … 0 0; 0 0 … 0 0; … ; 0 0 … 0 0; 0 0 … 0 0]"
      ]
     },
     "execution_count": 71,
     "metadata": {},
     "output_type": "execute_result"
    }
   ],
   "source": [
    "rgd = @time random_walk(gd, 100, 10)"
   ]
  },
  {
   "cell_type": "code",
   "execution_count": 72,
   "metadata": {},
   "outputs": [
    {
     "data": {
      "text/plain": [
       "10×100 Array{Int64,2}:\n",
       " 3  2  4  0  0  0  0  0  0  0  0  0  0  …  0  0  0  0  0  0  0  0  0  0  0  0\n",
       " 4  0  0  0  0  0  0  0  0  0  0  0  0     0  0  0  0  0  0  0  0  0  0  0  0\n",
       " 2  3  2  4  0  0  0  0  0  0  0  0  0     0  0  0  0  0  0  0  0  0  0  0  0\n",
       " 2  3  2  3  2  3  2  3  2  3  2  4  0     0  0  0  0  0  0  0  0  0  0  0  0\n",
       " 2  4  0  0  0  0  0  0  0  0  0  0  0     0  0  0  0  0  0  0  0  0  0  0  0\n",
       " 3  2  4  0  0  0  0  0  0  0  0  0  0  …  0  0  0  0  0  0  0  0  0  0  0  0\n",
       " 2  3  2  3  2  4  0  0  0  0  0  0  0     0  0  0  0  0  0  0  0  0  0  0  0\n",
       " 3  2  3  2  4  0  0  0  0  0  0  0  0     0  0  0  0  0  0  0  0  0  0  0  0\n",
       " 4  0  0  0  0  0  0  0  0  0  0  0  0     0  0  0  0  0  0  0  0  0  0  0  0\n",
       " 4  0  0  0  0  0  0  0  0  0  0  0  0     0  0  0  0  0  0  0  0  0  0  0  0"
      ]
     },
     "execution_count": 72,
     "metadata": {},
     "output_type": "execute_result"
    }
   ],
   "source": [
    "rgd[1]"
   ]
  },
  {
   "cell_type": "code",
   "execution_count": 74,
   "metadata": {},
   "outputs": [
    {
     "data": {
      "text/plain": [
       "10×100 Array{Int64,2}:\n",
       " 3  2  3  2  4  0  0  0  0  0  0  0  0  …  0  0  0  0  0  0  0  0  0  0  0  0\n",
       " 4  0  0  0  0  0  0  0  0  0  0  0  0     0  0  0  0  0  0  0  0  0  0  0  0\n",
       " 3  2  3  2  3  2  3  2  3  2  3  2  3     0  0  0  0  0  0  0  0  0  0  0  0\n",
       " 3  2  4  0  0  0  0  0  0  0  0  0  0     0  0  0  0  0  0  0  0  0  0  0  0\n",
       " 3  2  4  0  0  0  0  0  0  0  0  0  0     0  0  0  0  0  0  0  0  0  0  0  0\n",
       " 4  0  0  0  0  0  0  0  0  0  0  0  0  …  0  0  0  0  0  0  0  0  0  0  0  0\n",
       " 3  2  3  2  3  2  3  2  4  0  0  0  0     0  0  0  0  0  0  0  0  0  0  0  0\n",
       " 3  2  3  2  3  2  3  2  3  2  3  2  4     0  0  0  0  0  0  0  0  0  0  0  0\n",
       " 4  0  0  0  0  0  0  0  0  0  0  0  0     0  0  0  0  0  0  0  0  0  0  0  0\n",
       " 4  0  0  0  0  0  0  0  0  0  0  0  0     0  0  0  0  0  0  0  0  0  0  0  0"
      ]
     },
     "execution_count": 74,
     "metadata": {},
     "output_type": "execute_result"
    }
   ],
   "source": [
    "rgd[2]"
   ]
  },
  {
   "cell_type": "code",
   "execution_count": 75,
   "metadata": {},
   "outputs": [
    {
     "data": {
      "text/plain": [
       "10×100 Array{Int64,2}:\n",
       " 2  4  0  0  0  0  0  0  0  0  0  0  0  …  0  0  0  0  0  0  0  0  0  0  0  0\n",
       " 2  3  2  3  2  3  2  3  2  3  2  4  0     0  0  0  0  0  0  0  0  0  0  0  0\n",
       " 2  4  0  0  0  0  0  0  0  0  0  0  0     0  0  0  0  0  0  0  0  0  0  0  0\n",
       " 2  4  0  0  0  0  0  0  0  0  0  0  0     0  0  0  0  0  0  0  0  0  0  0  0\n",
       " 2  3  2  3  2  4  0  0  0  0  0  0  0     0  0  0  0  0  0  0  0  0  0  0  0\n",
       " 2  4  0  0  0  0  0  0  0  0  0  0  0  …  0  0  0  0  0  0  0  0  0  0  0  0\n",
       " 2  4  0  0  0  0  0  0  0  0  0  0  0     0  0  0  0  0  0  0  0  0  0  0  0\n",
       " 2  3  2  3  2  3  2  3  2  4  0  0  0     0  0  0  0  0  0  0  0  0  0  0  0\n",
       " 2  3  2  3  2  4  0  0  0  0  0  0  0     0  0  0  0  0  0  0  0  0  0  0  0\n",
       " 2  3  2  4  0  0  0  0  0  0  0  0  0     0  0  0  0  0  0  0  0  0  0  0  0"
      ]
     },
     "execution_count": 75,
     "metadata": {},
     "output_type": "execute_result"
    }
   ],
   "source": [
    "rgd[3]"
   ]
  },
  {
   "cell_type": "code",
   "execution_count": 76,
   "metadata": {},
   "outputs": [
    {
     "data": {
      "text/plain": [
       "10×100 Array{Int64,2}:\n",
       " 0  0  0  0  0  0  0  0  0  0  0  0  0  …  0  0  0  0  0  0  0  0  0  0  0  0\n",
       " 0  0  0  0  0  0  0  0  0  0  0  0  0     0  0  0  0  0  0  0  0  0  0  0  0\n",
       " 0  0  0  0  0  0  0  0  0  0  0  0  0     0  0  0  0  0  0  0  0  0  0  0  0\n",
       " 0  0  0  0  0  0  0  0  0  0  0  0  0     0  0  0  0  0  0  0  0  0  0  0  0\n",
       " 0  0  0  0  0  0  0  0  0  0  0  0  0     0  0  0  0  0  0  0  0  0  0  0  0\n",
       " 0  0  0  0  0  0  0  0  0  0  0  0  0  …  0  0  0  0  0  0  0  0  0  0  0  0\n",
       " 0  0  0  0  0  0  0  0  0  0  0  0  0     0  0  0  0  0  0  0  0  0  0  0  0\n",
       " 0  0  0  0  0  0  0  0  0  0  0  0  0     0  0  0  0  0  0  0  0  0  0  0  0\n",
       " 0  0  0  0  0  0  0  0  0  0  0  0  0     0  0  0  0  0  0  0  0  0  0  0  0\n",
       " 0  0  0  0  0  0  0  0  0  0  0  0  0     0  0  0  0  0  0  0  0  0  0  0  0"
      ]
     },
     "execution_count": 76,
     "metadata": {},
     "output_type": "execute_result"
    }
   ],
   "source": [
    "rgd[4]"
   ]
  },
  {
   "cell_type": "code",
   "execution_count": 95,
   "metadata": {},
   "outputs": [
    {
     "data": {
      "text/plain": [
       "4×1 Array{Int64,2}:\n",
       " 3\n",
       " 2\n",
       " 1\n",
       " 0"
      ]
     },
     "execution_count": 95,
     "metadata": {},
     "output_type": "execute_result"
    }
   ],
   "source": [
    "in_degree(gd)"
   ]
  },
  {
   "cell_type": "code",
   "execution_count": 12,
   "metadata": {},
   "outputs": [
    {
     "data": {
      "text/plain": [
       "n_in_degree (generic function with 1 method)"
      ]
     },
     "execution_count": 12,
     "metadata": {},
     "output_type": "execute_result"
    }
   ],
   "source": [
    "\"\"\"\n",
    "n_in_degree(M, n)\n",
    "\n",
    "Función que obtiene el grado de entrada de un cierto nodo n de la red representada por la matriz de adyacencia M.\n",
    "\n",
    "Parámetros:\n",
    "* M matriz de adyacencia que acepta un arreglo de tipo Array{Int64,2}\n",
    "* n nodo a evaluar de tipo Int64\n",
    "\n",
    "Resultado:\n",
    "Grado de entrada del nodo n representado por un valor numérico de tipo Int64\n",
    "\n",
    "## Implementación\n",
    "\n",
    "### Ejemplos\n",
    "\"\"\"\n",
    "\n",
    "function n_in_degree(M::Array{Int64,2}, n::Int64)\n",
    "    grado_entrada = sum(M[n, :])\n",
    "end"
   ]
  },
  {
   "cell_type": "code",
   "execution_count": 13,
   "metadata": {},
   "outputs": [
    {
     "data": {
      "text/plain": [
       "in_degree (generic function with 1 method)"
      ]
     },
     "execution_count": 13,
     "metadata": {},
     "output_type": "execute_result"
    }
   ],
   "source": [
    "\"\"\"\n",
    "in_degree(M)\n",
    "\n",
    "Función que obtiene el grado de entrada de una red representada por la matriz de adyacencia M.\n",
    "\n",
    "Parámetros:\n",
    "* M matriz de adyacencia que acepta un arreglo de tipo Array{Int64,2}\n",
    "\n",
    "Resultado:\n",
    "Devuelve un arreglo de tipo Array{Int64,2} que contiene los grados de entrada de todos los nodos n de la red.\n",
    "\n",
    "## Implementación\n",
    "\n",
    "### Ejemplos\n",
    "\"\"\"\n",
    "\n",
    "function in_degree(M::Array)\n",
    "    grados_entrada = sum(M, dims = 2)\n",
    "end"
   ]
  },
  {
   "cell_type": "code",
   "execution_count": 14,
   "metadata": {},
   "outputs": [
    {
     "data": {
      "text/plain": [
       "n_out_degree (generic function with 1 method)"
      ]
     },
     "execution_count": 14,
     "metadata": {},
     "output_type": "execute_result"
    }
   ],
   "source": [
    "\"\"\"\n",
    "n_out_degree(M, n)\n",
    "\n",
    "Función que obtiene el grado de salida de un cierto nodo n de la red representada por la matriz de adyacencia M.\n",
    "\n",
    "Parámetros:\n",
    "* M matriz de adyacencia que acepta un arreglo de tipo Array{Int64,2}\n",
    "* n nodo a evaluar de tipo Int64\n",
    "\n",
    "Resultado:\n",
    "Grado de salida del nodo n representado por un valor numérico de tipo Int64\n",
    "\n",
    "## Implementación\n",
    "\n",
    "### Ejemplos\n",
    "\"\"\"\n",
    "\n",
    "function n_out_degree(M::Array{Int64,2}, n::Int64)\n",
    "    grado_salida = sum(M[:, n])\n",
    "end"
   ]
  },
  {
   "cell_type": "code",
   "execution_count": 16,
   "metadata": {},
   "outputs": [
    {
     "data": {
      "text/plain": [
       "out_degree (generic function with 1 method)"
      ]
     },
     "execution_count": 16,
     "metadata": {},
     "output_type": "execute_result"
    }
   ],
   "source": [
    "\"\"\"\n",
    "out_degree(M)\n",
    "\n",
    "Función que obtiene el grado de salida de una red representada por la matriz de adyacencia M.\n",
    "\n",
    "Parámetros:\n",
    "* M matriz de adyacencia que acepta un arreglo de tipo Array{Int64,2}\n",
    "\n",
    "Resultado:\n",
    "Devuelve un arreglo de tipo Array{Int64,2} que contiene los grados de salida de todos los nodos n de la red.\n",
    "\n",
    "## Implementación\n",
    "\n",
    "### Ejemplos\n",
    "\"\"\"\n",
    "\n",
    "function out_degree(M::Array)\n",
    "    grados_salida = sum(M, dims = 1)\n",
    "end"
   ]
  },
  {
   "cell_type": "code",
   "execution_count": null,
   "metadata": {},
   "outputs": [],
   "source": []
  },
  {
   "cell_type": "code",
   "execution_count": null,
   "metadata": {},
   "outputs": [],
   "source": []
  },
  {
   "cell_type": "code",
   "execution_count": null,
   "metadata": {},
   "outputs": [],
   "source": [
    "uhu = random_walk_f(c, 3, 2)"
   ]
  },
  {
   "cell_type": "code",
   "execution_count": null,
   "metadata": {},
   "outputs": [],
   "source": [
    "uhu[1]"
   ]
  },
  {
   "cell_type": "code",
   "execution_count": null,
   "metadata": {
    "scrolled": true
   },
   "outputs": [],
   "source": [
    "#Ejemplo grande\n",
    "eg = random_walk_f(c, 1000, 1000)"
   ]
  },
  {
   "cell_type": "code",
   "execution_count": null,
   "metadata": {},
   "outputs": [],
   "source": [
    "eg[3]"
   ]
  },
  {
   "cell_type": "code",
   "execution_count": null,
   "metadata": {
    "scrolled": true
   },
   "outputs": [],
   "source": [
    "CSV.read(\"data/matriz_multi_uw.csv\"; header = true, datacol = 2, types=Dict(\"col1\"=>String))"
   ]
  },
  {
   "cell_type": "code",
   "execution_count": null,
   "metadata": {},
   "outputs": [],
   "source": [
    "CSV.validate(\"data/matriz_multi_uw.csv\"; header = true)"
   ]
  },
  {
   "cell_type": "code",
   "execution_count": null,
   "metadata": {},
   "outputs": [],
   "source": [
    "#Por lo pronto probamos con este\n",
    "\n",
    "random_walk_f(mmulti, 150, 1000)"
   ]
  },
  {
   "cell_type": "code",
   "execution_count": null,
   "metadata": {},
   "outputs": [],
   "source": [
    "mmulti[7, :][594]"
   ]
  },
  {
   "cell_type": "code",
   "execution_count": null,
   "metadata": {},
   "outputs": [],
   "source": [
    "#Checamos si encuentra los vecinos correctamente\n",
    "findall(x -> x != 0, mmulti[1899, :])"
   ]
  },
  {
   "cell_type": "code",
   "execution_count": null,
   "metadata": {},
   "outputs": [],
   "source": [
    "findall(x -> x != 0, mmulti[1000, :]) == []"
   ]
  },
  {
   "cell_type": "code",
   "execution_count": null,
   "metadata": {},
   "outputs": [],
   "source": [
    "size(mmulti, 1)"
   ]
  },
  {
   "cell_type": "code",
   "execution_count": null,
   "metadata": {},
   "outputs": [],
   "source": [
    "#Por lo pronto probamos con este\n",
    "\n",
    "\n",
    "random_walk_f(mmulti, 10, 2)"
   ]
  },
  {
   "cell_type": "code",
   "execution_count": null,
   "metadata": {},
   "outputs": [],
   "source": [
    "#Matriz fea\n",
    "d = [0  1  0\n",
    "     1  0  1\n",
    "     0  0  0]  "
   ]
  },
  {
   "cell_type": "code",
   "execution_count": null,
   "metadata": {},
   "outputs": [],
   "source": [
    "d"
   ]
  },
  {
   "cell_type": "code",
   "execution_count": null,
   "metadata": {},
   "outputs": [],
   "source": [
    "random_walk_modif(d, 2, 5, 4)"
   ]
  },
  {
   "cell_type": "code",
   "execution_count": null,
   "metadata": {},
   "outputs": [],
   "source": [
    "    rw = []\n",
    "    #nodos = size(M, 1)\n",
    "    for f in 1:size(mmulti, 1) #aeropuertos\n",
    "        p = random_walk_modif(mmulti, f, 3, 3)\n",
    "        push!(rw, p)\n",
    "    end\n",
    "    rw"
   ]
  },
  {
   "cell_type": "code",
   "execution_count": null,
   "metadata": {},
   "outputs": [],
   "source": [
    "rw[2000]"
   ]
  },
  {
   "cell_type": "code",
   "execution_count": null,
   "metadata": {},
   "outputs": [],
   "source": [
    "random_walk_f(mmulti, 5, 2)"
   ]
  },
  {
   "cell_type": "code",
   "execution_count": null,
   "metadata": {},
   "outputs": [],
   "source": [
    "readdlm(\"data/matriz_multi_uw.csv\", ',', header = true)"
   ]
  },
  {
   "cell_type": "code",
   "execution_count": null,
   "metadata": {},
   "outputs": [],
   "source": [
    "?readdlm;"
   ]
  },
  {
   "cell_type": "code",
   "execution_count": null,
   "metadata": {},
   "outputs": [],
   "source": [
    "homedir()"
   ]
  },
  {
   "cell_type": "code",
   "execution_count": null,
   "metadata": {},
   "outputs": [],
   "source": [
    "pwd()"
   ]
  },
  {
   "cell_type": "code",
   "execution_count": null,
   "metadata": {},
   "outputs": [],
   "source": [
    "?NamedArrays.setnames!"
   ]
  },
  {
   "cell_type": "code",
   "execution_count": null,
   "metadata": {},
   "outputs": [],
   "source": [
    "colu = [\"a\", \"b\", \"c\"]\n",
    "reng = [\"hola\", \"hi\", \"hey\"]"
   ]
  },
  {
   "cell_type": "code",
   "execution_count": null,
   "metadata": {},
   "outputs": [],
   "source": [
    "xx = NamedArray(c, [\"hola\", \"hi\", \"hey\"])"
   ]
  },
  {
   "cell_type": "code",
   "execution_count": null,
   "metadata": {},
   "outputs": [],
   "source": [
    "setnames!(a::NamedArray, names::Vector, dim::Int)\n",
    "\n",
    "# NamedArray{T,N}(a::Array{T,N}, names::NTuple{N,Vector}, dimnames::NTuple{N})\n",
    "x = NamedArray(Int[1 3; 2 4], ( [\"A\",\"B\"], [\"C\",\"D\"] ), (\"ROWS\",\"COLS\"))\n",
    "\n",
    "n = NamedArray(rand(2,4))\n",
    "setnames!(n, [\"one\", \"two\"], 1)         # give the names \"one\" and \"two\" to the rows (dimension 1)"
   ]
  },
  {
   "cell_type": "code",
   "execution_count": null,
   "metadata": {},
   "outputs": [],
   "source": [
    "function random_walkM3(M, steps, iter)\n",
    "    nodos = size(M, 1) #aeropuertos\n",
    "    @show nodos\n",
    "    paths = zeros(Int64, (nodos*iter, steps)) \n",
    "    @show paths\n",
    "    for s in 1:nodos #Toma como nodo de inicio todos los aeropuertos \n",
    "        @show s\n",
    "        m = s\n",
    "        @show m\n",
    "        for i = 1:iter\n",
    "            @show i\n",
    "            for p in 1:steps \n",
    "                @show p\n",
    "                row = M[m, :] #Renglón correspondiente al nodo s\n",
    "                vecinos = findall(x -> x != 0, row)\n",
    "                @show vecinos\n",
    "                a = sample(vecinos)\n",
    "                @show a\n",
    "                paths[i, p] = a\n",
    "                @show paths\n",
    "                m = a\n",
    "                @show m\n",
    "            end\n",
    "            m = s\n",
    "            @show m\n",
    "        end\n",
    "    end\n",
    "    paths\n",
    "end"
   ]
  },
  {
   "cell_type": "code",
   "execution_count": null,
   "metadata": {},
   "outputs": [],
   "source": [
    "function random_walk(M, steps)\n",
    "    nodos = size(M, 1)\n",
    "    paths = zeros(steps)\n",
    "    for s in 1:nodos\n",
    "        row = M[s, :]\n",
    "        n_vecinos = sum(row)\n",
    "        proba = 1/n_vecinos\n",
    "        proba1 = 1/(n_vecinos - 1)\n",
    "        p = rand()\n",
    "        for i in 1:n_vecinos\n",
    "            if proba< p <\n",
    "        if 0 proba1 < x < proba\n",
    "            \n",
    "            elseif proba < x < 2*proba\n",
    "                \n",
    "            else 0.9 < x\n",
    "                \n",
    "        end\n",
    "    end\n",
    "    paths\n",
    "end"
   ]
  },
  {
   "cell_type": "code",
   "execution_count": null,
   "metadata": {},
   "outputs": [],
   "source": [
    "# Matriz de adyacencia del multiplex\n",
    "\n",
    "function multiplex(lista)\n",
    "    matriz = Array{Int, 2}() # Creo una matriz vacía para el multiplex\n",
    "    for i in 1:length(lista)\n",
    "        for j in 1:length(lista)\n",
    "            if lista[i][j] == 0\n",
    "                matriz[j] = 0\n",
    "            else\n",
    "                matriz[j] = 1\n",
    "            end\n",
    "        end\n",
    "    end\n",
    "    matriz\n",
    "end"
   ]
  },
  {
   "cell_type": "code",
   "execution_count": null,
   "metadata": {},
   "outputs": [],
   "source": [
    "function random_walk1d(n)\n",
    "    paths = zeros(n+1)\n",
    "    lugar = 0\n",
    "    for s in 1:n\n",
    "        if rand() <= 1/2\n",
    "            lugar -= 1\n",
    "            @show lugar\n",
    "            paths[s+1] = lugar\n",
    "        else\n",
    "            lugar += 1\n",
    "            @show lugar\n",
    "            paths[s+1] = lugar\n",
    "        end\n",
    "    end\n",
    "    paths\n",
    "end"
   ]
  },
  {
   "cell_type": "code",
   "execution_count": null,
   "metadata": {},
   "outputs": [],
   "source": [
    "function random_walk1d(n) #Función de caminante aleatorio en 1 dim.\n",
    "    paths = zeros(n+1)\n",
    "    lugar = 0\n",
    "    for s in 1:n\n",
    "        if rand() <= 1/2\n",
    "            lugar -= 1\n",
    "            @show lugar\n",
    "            paths[s+1] = lugar\n",
    "        else\n",
    "            lugar += 1\n",
    "            @show lugar\n",
    "            paths[s+1] = lugar\n",
    "        end\n",
    "    end\n",
    "    paths\n",
    "end"
   ]
  },
  {
   "cell_type": "code",
   "execution_count": null,
   "metadata": {},
   "outputs": [],
   "source": [
    "function random_walkM(M, steps) #, iter)\n",
    "    nodos = size(M, 1) #aeropuertos\n",
    "    path = zeros(steps) \n",
    "    for i = 1 #for s in 1:nodos #Toma como nodo de inicio todos los aeropuertos  \n",
    "        @show i\n",
    "        for p in 1:steps \n",
    "            @show p\n",
    "            row = M[i, :] #Renglón correspondiente al nodo s\n",
    "            vecinos = findall(x -> x != 0, row)\n",
    "            @show vecinos\n",
    "            a = sample(vecinos)\n",
    "            @show a\n",
    "            path[p] = a\n",
    "            i = a\n",
    "        end\n",
    "    end\n",
    "    path\n",
    "end"
   ]
  },
  {
   "cell_type": "code",
   "execution_count": null,
   "metadata": {},
   "outputs": [],
   "source": [
    "function random_walkM2(M, steps, iter)\n",
    "    nodos = size(M, 1) #aeropuertos\n",
    "    paths = zeros(Int64, (iter, steps)) \n",
    "    for s = 1 #nodo inicial\n",
    "        @show s\n",
    "        for i in 1:iter #Toma como nodo de inicio todos los aeropuertos  \n",
    "            @show i\n",
    "            for p in 1:steps \n",
    "                #@show p\n",
    "                row = M[s, :] #Renglón correspondiente al nodo s\n",
    "                vecinos = findall(x -> x != 0, row)\n",
    "                @show vecinos\n",
    "                a = sample(vecinos)\n",
    "                @show a\n",
    "                paths[i, p] = a\n",
    "                s = a\n",
    "            end\n",
    "            s = 1\n",
    "            @show paths\n",
    "        end\n",
    "    end\n",
    "    return paths\n",
    "end"
   ]
  },
  {
   "cell_type": "code",
   "execution_count": null,
   "metadata": {},
   "outputs": [],
   "source": [
    "#Función \n",
    "function random_walk2(M, f, steps, iter)\n",
    "    nodos = size(M, 1) #aeropuertos\n",
    "    paths = zeros(Int64, (iter, steps)) \n",
    "    s = f\n",
    "    for i in 1:iter #Toma como nodo de inicio todos los aeropuertos  \n",
    "        for p in 1:steps \n",
    "            row = M[s, :] #Renglón correspondiente al nodo s\n",
    "            vecinos = findall(x -> x != 0, row)\n",
    "            a = sample(vecinos)\n",
    "            paths[i, p] = a\n",
    "            s = a\n",
    "        end\n",
    "        s = f\n",
    "    end\n",
    "    return paths \n",
    "end"
   ]
  },
  {
   "cell_type": "code",
   "execution_count": null,
   "metadata": {},
   "outputs": [],
   "source": [
    "#Eg. función\n",
    "#b = random_walk2(c, 1, 50, 100)\n",
    "k = random_walk2(c, 1, 10, 10)"
   ]
  }
 ],
 "metadata": {
  "kernelspec": {
   "display_name": "Julia 1.1.0",
   "language": "julia",
   "name": "julia-1.1"
  },
  "language_info": {
   "file_extension": ".jl",
   "mimetype": "application/julia",
   "name": "julia",
   "version": "1.1.0"
  }
 },
 "nbformat": 4,
 "nbformat_minor": 2
}
