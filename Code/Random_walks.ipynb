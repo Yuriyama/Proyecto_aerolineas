{
 "cells": [
  {
   "cell_type": "markdown",
   "metadata": {},
   "source": [
    "# Random Walks en Redes Multicapa de Aerolíneas"
   ]
  },
  {
   "cell_type": "raw",
   "metadata": {},
   "source": [
    "Primero creamos la matriz de adyacencia asociada al multiplex."
   ]
  },
  {
   "cell_type": "code",
   "execution_count": 1,
   "metadata": {},
   "outputs": [
    {
     "data": {
      "text/plain": [
       "3×3 Array{Int64,2}:\n",
       " 0  1  0\n",
       " 1  0  1\n",
       " 1  1  0"
      ]
     },
     "execution_count": 1,
     "metadata": {},
     "output_type": "execute_result"
    }
   ],
   "source": [
    "a = [0  1  0\n",
    "     1  0  1\n",
    "     0  1  0]\n",
    "\n",
    "b = [0  1  0\n",
    "     0  0  1\n",
    "     1  1  0]\n",
    "\n",
    "c = [0  1  0\n",
    "     1  0  1\n",
    "     1  1  0]"
   ]
  },
  {
   "cell_type": "code",
   "execution_count": 20,
   "metadata": {},
   "outputs": [
    {
     "data": {
      "text/plain": [
       "Array{Int64,2}"
      ]
     },
     "execution_count": 20,
     "metadata": {},
     "output_type": "execute_result"
    }
   ],
   "source": []
  },
  {
   "cell_type": "code",
   "execution_count": 13,
   "metadata": {},
   "outputs": [
    {
     "data": {
      "text/plain": [
       "3"
      ]
     },
     "execution_count": 13,
     "metadata": {},
     "output_type": "execute_result"
    }
   ],
   "source": []
  },
  {
   "cell_type": "code",
   "execution_count": 11,
   "metadata": {},
   "outputs": [
    {
     "name": "stdout",
     "output_type": "stream",
     "text": [
      "search: \u001b[0m\u001b[1mD\u001b[22m\u001b[0m\u001b[1mi\u001b[22m\u001b[0m\u001b[1mm\u001b[22ms \u001b[0m\u001b[1mD\u001b[22m\u001b[0m\u001b[1mi\u001b[22m\u001b[0m\u001b[1mm\u001b[22mensionMismatch n\u001b[0m\u001b[1md\u001b[22m\u001b[0m\u001b[1mi\u001b[22m\u001b[0m\u001b[1mm\u001b[22ms select\u001b[0m\u001b[1md\u001b[22m\u001b[0m\u001b[1mi\u001b[22m\u001b[0m\u001b[1mm\u001b[22m permute\u001b[0m\u001b[1md\u001b[22m\u001b[0m\u001b[1mi\u001b[22m\u001b[0m\u001b[1mm\u001b[22ms permute\u001b[0m\u001b[1md\u001b[22m\u001b[0m\u001b[1mi\u001b[22m\u001b[0m\u001b[1mm\u001b[22ms! \u001b[0m\u001b[1md\u001b[22m\u001b[0m\u001b[1mi\u001b[22mvre\u001b[0m\u001b[1mm\u001b[22m\n",
      "\n",
      "Couldn't find \u001b[36mdim\u001b[39m\n",
      "Perhaps you meant div, im, Dims, ndims, diff, edit, fdio, dump, do, big or cis\n"
     ]
    },
    {
     "data": {
      "text/latex": [
       "No documentation found.\n",
       "\n",
       "Binding \\texttt{dim} does not exist.\n",
       "\n"
      ],
      "text/markdown": [
       "No documentation found.\n",
       "\n",
       "Binding `dim` does not exist.\n"
      ],
      "text/plain": [
       "  No documentation found.\n",
       "\n",
       "  Binding \u001b[36mdim\u001b[39m does not exist."
      ]
     },
     "execution_count": 11,
     "metadata": {},
     "output_type": "execute_result"
    }
   ],
   "source": [
    "?dim"
   ]
  },
  {
   "cell_type": "code",
   "execution_count": 13,
   "metadata": {},
   "outputs": [
    {
     "data": {
      "text/plain": [
       "3×3 Array{Int64,2}:\n",
       " 0  0  0\n",
       " 0  0  0\n",
       " 0  0  0"
      ]
     },
     "execution_count": 13,
     "metadata": {},
     "output_type": "execute_result"
    }
   ],
   "source": [
    "zeros(Int, size(c))"
   ]
  },
  {
   "cell_type": "code",
   "execution_count": 27,
   "metadata": {},
   "outputs": [
    {
     "data": {
      "text/plain": [
       "multiplex (generic function with 4 methods)"
      ]
     },
     "execution_count": 27,
     "metadata": {},
     "output_type": "execute_result"
    }
   ],
   "source": [
    "# Matriz de adyacencia del multiplex\n",
    "\n",
    "function multiplex(lista)\n",
    "    matriz = Array{Int, 2}() # Creo una matriz vacía para el multiplex\n",
    "    for i in 1:length(lista)\n",
    "        for j in 1:length(lista)\n",
    "            if lista[i][j] == 0\n",
    "                matriz[j] = 0\n",
    "            else\n",
    "                matriz[j] = 1\n",
    "            end\n",
    "        end\n",
    "    end\n",
    "    matriz\n",
    "end"
   ]
  },
  {
   "cell_type": "code",
   "execution_count": null,
   "metadata": {},
   "outputs": [],
   "source": []
  },
  {
   "cell_type": "code",
   "execution_count": 61,
   "metadata": {},
   "outputs": [
    {
     "data": {
      "text/plain": [
       "rw1d (generic function with 1 method)"
      ]
     },
     "execution_count": 61,
     "metadata": {},
     "output_type": "execute_result"
    }
   ],
   "source": [
    "function rw1d(n)\n",
    "    path = zeros(n)\n",
    "    for i in 1:n\n",
    "        if rand()<= 1/2\n",
    "            path[i] += 1\n",
    "        else\n",
    "            path[i] -= 1\n",
    "        end\n",
    "    end  \n",
    "    path   \n",
    "end"
   ]
  },
  {
   "cell_type": "code",
   "execution_count": 63,
   "metadata": {},
   "outputs": [
    {
     "data": {
      "text/plain": [
       "6-element Array{Float64,1}:\n",
       "  1.0\n",
       " -1.0\n",
       "  1.0\n",
       "  1.0\n",
       " -1.0\n",
       "  1.0"
      ]
     },
     "execution_count": 63,
     "metadata": {},
     "output_type": "execute_result"
    }
   ],
   "source": [
    "rw1d(6)"
   ]
  },
  {
   "cell_type": "code",
   "execution_count": 70,
   "metadata": {},
   "outputs": [
    {
     "data": {
      "text/plain": [
       "random_walk1d (generic function with 1 method)"
      ]
     },
     "execution_count": 70,
     "metadata": {},
     "output_type": "execute_result"
    }
   ],
   "source": [
    "function random_walk1d(n)\n",
    "    paths = zeros(n+1)\n",
    "    lugar = 0\n",
    "    for s in 1:n\n",
    "        if rand() <= 1/2\n",
    "            lugar -= 1\n",
    "            @show lugar\n",
    "            paths[s+1] = lugar\n",
    "        else\n",
    "            lugar += 1\n",
    "            @show lugar\n",
    "            paths[s+1] = lugar\n",
    "        end\n",
    "    end\n",
    "    paths\n",
    "end"
   ]
  },
  {
   "cell_type": "code",
   "execution_count": 71,
   "metadata": {
    "scrolled": true
   },
   "outputs": [
    {
     "name": "stdout",
     "output_type": "stream",
     "text": [
      "lugar = -1\n",
      "lugar = -2\n",
      "lugar = -1\n",
      "lugar = 0\n",
      "lugar = 1\n"
     ]
    },
    {
     "data": {
      "text/plain": [
       "6-element Array{Float64,1}:\n",
       "  0.0\n",
       " -1.0\n",
       " -2.0\n",
       " -1.0\n",
       "  0.0\n",
       "  1.0"
      ]
     },
     "execution_count": 71,
     "metadata": {},
     "output_type": "execute_result"
    }
   ],
   "source": [
    "random_walk1d(5)"
   ]
  },
  {
   "cell_type": "code",
   "execution_count": null,
   "metadata": {},
   "outputs": [],
   "source": []
  },
  {
   "cell_type": "code",
   "execution_count": 60,
   "metadata": {},
   "outputs": [
    {
     "data": {
      "text/plain": [
       "6-element Array{Float64,1}:\n",
       "  1.0\n",
       " -1.0\n",
       "  1.0\n",
       "  1.0\n",
       " -1.0\n",
       " -1.0"
      ]
     },
     "execution_count": 60,
     "metadata": {},
     "output_type": "execute_result"
    }
   ],
   "source": []
  },
  {
   "cell_type": "code",
   "execution_count": null,
   "metadata": {},
   "outputs": [],
   "source": [
    "function random_walk1d(n)\n",
    "    paths = zeros(n+1)\n",
    "    lugar = 0\n",
    "    for s in 1:n\n",
    "        if rand() <= 1/2\n",
    "            lugar -= 1\n",
    "            @show lugar\n",
    "            paths[s+1] = lugar\n",
    "        else\n",
    "            lugar += 1\n",
    "            @show lugar\n",
    "            paths[s+1] = lugar\n",
    "        end\n",
    "    end\n",
    "    paths\n",
    "end"
   ]
  },
  {
   "cell_type": "code",
   "execution_count": 42,
   "metadata": {},
   "outputs": [
    {
     "ename": "LoadError",
     "evalue": "syntax: invalid identifier name \"+=\"",
     "output_type": "error",
     "traceback": [
      "syntax: invalid identifier name \"+=\"",
      ""
     ]
    }
   ],
   "source": [
    "function random_walk(M)\n",
    "    nodos = size(M, 1)\n",
    "    paths = zeros(nodos)\n",
    "    for s in 1:nodos\n",
    "        vecinos = M[s, :]\n",
    "        proba = 1/vecinos\n",
    "        if 0 < x < proba\n",
    "            \n",
    "            elseif proba < x < 2*proba\n",
    "                \n",
    "            else 0.9 < x\n",
    "                \n",
    "        end\n",
    "    end\n",
    "    paths\n",
    "end"
   ]
  },
  {
   "cell_type": "code",
   "execution_count": 125,
   "metadata": {},
   "outputs": [
    {
     "data": {
      "text/plain": [
       "0.8660422658252163"
      ]
     },
     "execution_count": 125,
     "metadata": {},
     "output_type": "execute_result"
    }
   ],
   "source": [
    "x = rand() \n",
    "x"
   ]
  },
  {
   "cell_type": "code",
   "execution_count": 102,
   "metadata": {},
   "outputs": [
    {
     "data": {
      "text/plain": [
       "(0.7, 0.9)"
      ]
     },
     "execution_count": 102,
     "metadata": {},
     "output_type": "execute_result"
    }
   ],
   "source": [
    "v = (0.7,0.9)"
   ]
  },
  {
   "cell_type": "code",
   "execution_count": 126,
   "metadata": {
    "scrolled": true
   },
   "outputs": [
    {
     "name": "stdout",
     "output_type": "stream",
     "text": [
      "true\n"
     ]
    }
   ],
   "source": [
    "x\n",
    "if x < 0.7\n",
    "    println(\"false\")\n",
    "    elseif 0.7 < x < 0.9\n",
    "        println(\"true\")\n",
    "    else 0.9 < x\n",
    "        println(\"false\")\n",
    "end"
   ]
  },
  {
   "cell_type": "code",
   "execution_count": 107,
   "metadata": {},
   "outputs": [
    {
     "data": {
      "text/plain": [
       "0.8377880244908789"
      ]
     },
     "execution_count": 107,
     "metadata": {},
     "output_type": "execute_result"
    }
   ],
   "source": [
    "x"
   ]
  },
  {
   "cell_type": "code",
   "execution_count": 104,
   "metadata": {},
   "outputs": [
    {
     "name": "stdout",
     "output_type": "stream",
     "text": [
      "search: \u001b[0m\u001b[1mi\u001b[22mnclude_\u001b[0m\u001b[1ms\u001b[22mtring @\u001b[0m\u001b[1mi\u001b[22mnt128_\u001b[0m\u001b[1ms\u001b[22mtr \u001b[0m\u001b[1mi\u001b[22m\u001b[0m\u001b[1ms\u001b[22ma \u001b[0m\u001b[1mi\u001b[22m\u001b[0m\u001b[1ms\u001b[22mqrt \u001b[0m\u001b[1mi\u001b[22m\u001b[0m\u001b[1ms\u001b[22mone \u001b[0m\u001b[1mi\u001b[22m\u001b[0m\u001b[1ms\u001b[22modd \u001b[0m\u001b[1mi\u001b[22m\u001b[0m\u001b[1ms\u001b[22mnan \u001b[0m\u001b[1mi\u001b[22m\u001b[0m\u001b[1ms\u001b[22minf \u001b[0m\u001b[1mi\u001b[22m\u001b[0m\u001b[1ms\u001b[22mdir\n",
      "\n",
      "Couldn't find \u001b[36mis\u001b[39m\n",
      "Perhaps you meant isa, cis, im, in, if, Dims, In, inv, IO, big, div, min or pi\n"
     ]
    },
    {
     "data": {
      "text/latex": [
       "No documentation found.\n",
       "\n",
       "Binding \\texttt{is} does not exist.\n",
       "\n"
      ],
      "text/markdown": [
       "No documentation found.\n",
       "\n",
       "Binding `is` does not exist.\n"
      ],
      "text/plain": [
       "  No documentation found.\n",
       "\n",
       "  Binding \u001b[36mis\u001b[39m does not exist."
      ]
     },
     "execution_count": 104,
     "metadata": {},
     "output_type": "execute_result"
    }
   ],
   "source": [
    "?is"
   ]
  },
  {
   "cell_type": "code",
   "execution_count": null,
   "metadata": {},
   "outputs": [],
   "source": []
  },
  {
   "cell_type": "code",
   "execution_count": null,
   "metadata": {},
   "outputs": [],
   "source": []
  },
  {
   "cell_type": "code",
   "execution_count": 25,
   "metadata": {},
   "outputs": [
    {
     "data": {
      "text/plain": [
       "3×3 Array{Int64,2}:\n",
       " 0  1  0\n",
       " 1  0  1\n",
       " 0  1  0"
      ]
     },
     "execution_count": 25,
     "metadata": {},
     "output_type": "execute_result"
    }
   ],
   "source": [
    "multiplex(a, b, c)"
   ]
  },
  {
   "cell_type": "code",
   "execution_count": null,
   "metadata": {},
   "outputs": [],
   "source": []
  },
  {
   "cell_type": "code",
   "execution_count": null,
   "metadata": {},
   "outputs": [],
   "source": []
  },
  {
   "cell_type": "code",
   "execution_count": null,
   "metadata": {},
   "outputs": [],
   "source": []
  },
  {
   "cell_type": "code",
   "execution_count": null,
   "metadata": {},
   "outputs": [],
   "source": [
    "# Buscamos vecinos\n",
    "\n",
    "n0 = 1 # nodo inicial\n",
    "vecinos = A[n_0, :]\n",
    "p = 1/length(vecinos) # probabilidad\n"
   ]
  }
 ],
 "metadata": {
  "kernelspec": {
   "display_name": "Julia 1.1.0",
   "language": "julia",
   "name": "julia-1.1"
  },
  "language_info": {
   "file_extension": ".jl",
   "mimetype": "application/julia",
   "name": "julia",
   "version": "1.1.0"
  }
 },
 "nbformat": 4,
 "nbformat_minor": 2
}
