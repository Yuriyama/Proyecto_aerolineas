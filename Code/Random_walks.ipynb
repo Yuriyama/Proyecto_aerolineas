{
 "cells": [
  {
   "cell_type": "markdown",
   "metadata": {},
   "source": [
    "# Random Walks en Redes Multicapa de Aerolíneas"
   ]
  },
  {
   "cell_type": "code",
   "execution_count": null,
   "metadata": {},
   "outputs": [],
   "source": [
    "using Pkg"
   ]
  },
  {
   "cell_type": "code",
   "execution_count": null,
   "metadata": {},
   "outputs": [],
   "source": [
    "Pkg.add(\"Plots\")"
   ]
  },
  {
   "cell_type": "code",
   "execution_count": 1,
   "metadata": {},
   "outputs": [
    {
     "name": "stderr",
     "output_type": "stream",
     "text": [
      "┌ Info: Recompiling stale cache file /Users/yuriko/.julia/compiled/v1.1/StatsBase/EZjIG.ji for StatsBase [2913bbd2-ae8a-5f71-8c99-4fb6c76f3a91]\n",
      "└ @ Base loading.jl:1184\n"
     ]
    }
   ],
   "source": [
    "using StatsBase"
   ]
  },
  {
   "cell_type": "code",
   "execution_count": 2,
   "metadata": {},
   "outputs": [],
   "source": [
    "using DelimitedFiles"
   ]
  },
  {
   "cell_type": "code",
   "execution_count": 3,
   "metadata": {},
   "outputs": [
    {
     "name": "stderr",
     "output_type": "stream",
     "text": [
      "┌ Info: Recompiling stale cache file /Users/yuriko/.julia/compiled/v1.1/NamedArrays/wPYCq.ji for NamedArrays [86f7a689-2022-50b4-a561-43c23ac3c673]\n",
      "└ @ Base loading.jl:1184\n"
     ]
    }
   ],
   "source": [
    "using NamedArrays"
   ]
  },
  {
   "cell_type": "code",
   "execution_count": 4,
   "metadata": {},
   "outputs": [
    {
     "name": "stderr",
     "output_type": "stream",
     "text": [
      "┌ Info: Recompiling stale cache file /Users/yuriko/.julia/compiled/v1.1/CSV/HHBkp.ji for CSV [336ed68f-0bac-5ca0-87d4-7b16caf5d00b]\n",
      "└ @ Base loading.jl:1184\n"
     ]
    }
   ],
   "source": [
    "using CSV"
   ]
  },
  {
   "cell_type": "code",
   "execution_count": 5,
   "metadata": {},
   "outputs": [
    {
     "name": "stderr",
     "output_type": "stream",
     "text": [
      "┌ Info: Recompiling stale cache file /Users/yuriko/.julia/compiled/v1.1/LightGraphs/Xm08G.ji for LightGraphs [093fc24a-ae57-5d10-9952-331d41423f4d]\n",
      "└ @ Base loading.jl:1184\n"
     ]
    }
   ],
   "source": [
    "using LightGraphs"
   ]
  },
  {
   "cell_type": "code",
   "execution_count": 6,
   "metadata": {},
   "outputs": [
    {
     "name": "stderr",
     "output_type": "stream",
     "text": [
      "┌ Info: Recompiling stale cache file /Users/yuriko/.julia/compiled/v1.1/Plots/ld3vC.ji for Plots [91a5bcdd-55d7-5caf-9e0b-520d859cae80]\n",
      "└ @ Base loading.jl:1184\n"
     ]
    }
   ],
   "source": [
    "using Plots"
   ]
  },
  {
   "cell_type": "code",
   "execution_count": 7,
   "metadata": {},
   "outputs": [],
   "source": [
    "cd(\"$(homedir())/Documents/UNAM/Tesis_Lic\")"
   ]
  },
  {
   "cell_type": "code",
   "execution_count": 8,
   "metadata": {},
   "outputs": [
    {
     "data": {
      "text/plain": [
       "\"/Users/Yuriko/Documents/UNAM/Tesis_Lic\""
      ]
     },
     "execution_count": 8,
     "metadata": {},
     "output_type": "execute_result"
    }
   ],
   "source": [
    "pwd()"
   ]
  },
  {
   "cell_type": "code",
   "execution_count": 9,
   "metadata": {},
   "outputs": [],
   "source": [
    "a = [0  1  0\n",
    "     1  0  1\n",
    "     0  1  0]\n",
    "\n",
    "b = [0  1  0\n",
    "     0  0  1\n",
    "     1  1  0]\n",
    "\n",
    "c = [0  1  0\n",
    "     1  0  1\n",
    "     1  1  0]\n",
    "\n",
    "d = [0  1  0\n",
    "     1  0  1\n",
    "     0  0  0];"
   ]
  },
  {
   "cell_type": "code",
   "execution_count": 10,
   "metadata": {},
   "outputs": [
    {
     "data": {
      "text/plain": [
       "3190×3190 Array{Any,2}:\n",
       " \"\"      \"AER\"   \"ASF\"   \"CEK\"   \"DME\"  …   \"BSS\"   \"AEX\"   \"GCK\"   \"MGM\"\n",
       " \"AER\"  0       0       0       1          0       0       0       0     \n",
       " \"ASF\"  0       0       0       1          0       0       0       0     \n",
       " \"CEK\"  0       0       0       1          0       0       0       0     \n",
       " \"DME\"  1       1       1       0          0       0       0       0     \n",
       " \"EGO\"  0       0       0       1       …  0       0       0       0     \n",
       " \"GYD\"  0       0       0       1          0       0       0       0     \n",
       " \"KGD\"  0       0       0       1          0       0       0       0     \n",
       " \"KZN\"  1       1       1       1          0       0       0       0     \n",
       " \"LED\"  1       1       1       1          0       0       0       0     \n",
       " \"MRV\"  0       1       0       1       …  0       0       0       0     \n",
       " \"NBC\"  0       0       0       1          0       0       0       0     \n",
       " \"NJC\"  0       0       0       1          0       0       0       0     \n",
       " ⋮                                      ⋱                                \n",
       " \"LPS\"  0       0       0       0          0       0       0       0     \n",
       " \"ORX\"  0       0       0       0          0       0       0       0     \n",
       " \"BVS\"  0       0       0       0       …  0       0       0       0     \n",
       " \"MTE\"  0       0       0       0          0       0       0       0     \n",
       " \"DLZ\"  0       0       0       0          0       0       0       0     \n",
       " \"UII\"  0       0       0       0          0       0       0       0     \n",
       " \"ZBF\"  0       0       0       0          0       0       0       0     \n",
       " \"CMP\"  0       0       0       0       …  0       0       0       0     \n",
       " \"BSS\"  0       0       0       0          0       0       0       0     \n",
       " \"AEX\"  0       0       0       0          0       0       0       0     \n",
       " \"GCK\"  0       0       0       0          0       0       0       0     \n",
       " \"MGM\"  0       0       0       0          0       0       0       0     "
      ]
     },
     "execution_count": 10,
     "metadata": {},
     "output_type": "execute_result"
    }
   ],
   "source": [
    "multiplex17 = readdlm(\"data/matriz_multiplex_du.csv\", ',')"
   ]
  },
  {
   "cell_type": "code",
   "execution_count": 11,
   "metadata": {},
   "outputs": [],
   "source": [
    "multiplex17 = multiplex17[2:end, :];"
   ]
  },
  {
   "cell_type": "code",
   "execution_count": 12,
   "metadata": {},
   "outputs": [],
   "source": [
    "multiplex17 = multiplex17[:, 2:end];"
   ]
  },
  {
   "cell_type": "code",
   "execution_count": 13,
   "metadata": {},
   "outputs": [
    {
     "data": {
      "text/plain": [
       "3189×3189 Array{Int64,2}:\n",
       " 0  0  0  1  0  0  0  1  1  0  0  0  0  …  0  0  0  0  0  0  0  0  0  0  0  0\n",
       " 0  0  0  1  0  0  0  1  1  1  0  0  0     0  0  0  0  0  0  0  0  0  0  0  0\n",
       " 0  0  0  1  0  0  0  1  1  0  0  0  0     0  0  0  0  0  0  0  0  0  0  0  0\n",
       " 1  1  1  0  1  1  1  1  1  1  1  1  1     0  0  0  0  0  0  0  0  0  0  0  0\n",
       " 0  0  0  1  0  0  1  1  1  0  0  0  0     0  0  0  0  0  0  0  0  0  0  0  0\n",
       " 0  0  0  1  0  0  0  0  1  1  1  0  0  …  0  0  0  0  0  0  0  0  0  0  0  0\n",
       " 0  0  0  1  1  0  0  0  1  0  0  0  0     0  0  0  0  0  0  0  0  0  0  0  0\n",
       " 1  1  1  1  1  0  0  0  1  0  0  0  0     0  0  0  0  0  0  0  0  0  0  0  0\n",
       " 1  1  1  1  1  1  1  1  0  1  1  0  0     0  0  0  0  0  0  0  0  0  0  0  0\n",
       " 0  1  0  1  0  1  0  0  1  0  0  0  0     0  0  0  0  0  0  0  0  0  0  0  0\n",
       " 0  0  0  1  0  1  0  0  1  0  0  0  0  …  0  0  0  0  0  0  0  0  0  0  0  0\n",
       " 0  0  0  1  0  0  0  0  0  0  0  0  0     0  0  0  0  0  0  0  0  0  0  0  0\n",
       " 0  0  0  1  0  0  0  0  0  0  0  0  0     0  0  0  0  0  0  0  0  0  0  0  0\n",
       " ⋮              ⋮              ⋮        ⋱           ⋮              ⋮         \n",
       " 0  0  0  0  0  0  0  0  0  0  0  0  0     0  0  0  0  0  0  0  0  0  0  0  0\n",
       " 0  0  0  0  0  0  0  0  0  0  0  0  0     0  0  0  0  0  0  0  0  0  0  0  0\n",
       " 0  0  0  0  0  0  0  0  0  0  0  0  0     0  0  0  0  0  0  0  0  0  0  0  0\n",
       " 0  0  0  0  0  0  0  0  0  0  0  0  0  …  0  0  0  0  0  0  0  0  0  0  0  0\n",
       " 0  0  0  0  0  0  0  0  0  0  0  0  0     0  0  0  0  0  0  0  0  0  0  0  0\n",
       " 0  0  0  0  0  0  0  0  0  0  0  0  0     0  0  0  0  0  0  0  0  0  0  0  0\n",
       " 0  0  0  0  0  0  0  0  0  0  0  0  0     0  0  0  0  0  0  0  0  0  0  0  0\n",
       " 0  0  0  0  0  0  0  0  0  0  0  0  0     0  0  0  0  0  0  0  0  0  0  0  0\n",
       " 0  0  0  0  0  0  0  0  0  0  0  0  0  …  0  0  0  0  0  0  0  0  0  0  0  0\n",
       " 0  0  0  0  0  0  0  0  0  0  0  0  0     0  0  0  0  0  0  0  0  0  0  0  0\n",
       " 0  0  0  0  0  0  0  0  0  0  0  0  0     0  0  0  0  0  0  0  0  0  0  0  0\n",
       " 0  0  0  0  0  0  0  0  0  0  0  0  0     0  0  0  0  0  0  0  0  0  0  0  0"
      ]
     },
     "execution_count": 13,
     "metadata": {},
     "output_type": "execute_result"
    }
   ],
   "source": [
    "multiplex = convert(Array{Int64,2}, multiplex17)"
   ]
  },
  {
   "cell_type": "code",
   "execution_count": 14,
   "metadata": {},
   "outputs": [
    {
     "data": {
      "text/plain": [
       "n_in_degree (generic function with 1 method)"
      ]
     },
     "execution_count": 14,
     "metadata": {},
     "output_type": "execute_result"
    }
   ],
   "source": [
    "\"\"\"\n",
    "n_in_degree(M, n)\n",
    "\n",
    "Función que obtiene el grado de entrada de un cierto nodo n de la red representada por la matriz de adyacencia M.\n",
    "\n",
    "Parámetros:\n",
    "* M matriz de adyacencia que acepta un arreglo de tipo Array{Int64,2}\n",
    "* n nodo a evaluar de tipo Int64\n",
    "\n",
    "Resultado:\n",
    "Grado de entrada del nodo n representado por un valor numérico de tipo Int64\n",
    "\n",
    "## Implementación\n",
    "\n",
    "### Ejemplos\n",
    "\"\"\"\n",
    "\n",
    "function n_in_degree(M::Array{Int64,2}, n::Int64)\n",
    "    grado_entrada = sum(M[n, :])\n",
    "end"
   ]
  },
  {
   "cell_type": "code",
   "execution_count": 15,
   "metadata": {},
   "outputs": [
    {
     "data": {
      "text/plain": [
       "in_degree (generic function with 1 method)"
      ]
     },
     "execution_count": 15,
     "metadata": {},
     "output_type": "execute_result"
    }
   ],
   "source": [
    "\"\"\"\n",
    "in_degree(M)\n",
    "\n",
    "Función que obtiene el grado de entrada de una red representada por la matriz de adyacencia M.\n",
    "\n",
    "Parámetros:\n",
    "* M matriz de adyacencia que acepta un arreglo de tipo Array{Int64,2}\n",
    "\n",
    "Resultado:\n",
    "Devuelve un arreglo de tipo Array{Int64,2} que contiene los grados de entrada de todos los nodos n de la red.\n",
    "\n",
    "## Implementación\n",
    "\n",
    "### Ejemplos\n",
    "\"\"\"\n",
    "\n",
    "function in_degree(M::Array)\n",
    "    grados_entrada = sum(M, dims = 2)\n",
    "end"
   ]
  },
  {
   "cell_type": "code",
   "execution_count": 16,
   "metadata": {},
   "outputs": [
    {
     "data": {
      "text/plain": [
       "n_out_degree (generic function with 1 method)"
      ]
     },
     "execution_count": 16,
     "metadata": {},
     "output_type": "execute_result"
    }
   ],
   "source": [
    "\"\"\"\n",
    "n_out_degree(M, n)\n",
    "\n",
    "Función que obtiene el grado de salida de un cierto nodo n de la red representada por la matriz de adyacencia M.\n",
    "\n",
    "Parámetros:\n",
    "* M matriz de adyacencia que acepta un arreglo de tipo Array{Int64,2}\n",
    "* n nodo a evaluar de tipo Int64\n",
    "\n",
    "Resultado:\n",
    "Grado de salida del nodo n representado por un valor numérico de tipo Int64\n",
    "\n",
    "## Implementación\n",
    "\n",
    "### Ejemplos\n",
    "\"\"\"\n",
    "\n",
    "function n_out_degree(M::Array{Int64,2}, n::Int64)\n",
    "    grado_salida = sum(M[:, n])\n",
    "end"
   ]
  },
  {
   "cell_type": "code",
   "execution_count": 17,
   "metadata": {},
   "outputs": [
    {
     "data": {
      "text/plain": [
       "out_degree (generic function with 1 method)"
      ]
     },
     "execution_count": 17,
     "metadata": {},
     "output_type": "execute_result"
    }
   ],
   "source": [
    "\"\"\"\n",
    "out_degree(M)\n",
    "\n",
    "Función que obtiene el grado de salida de una red representada por la matriz de adyacencia M.\n",
    "\n",
    "Parámetros:\n",
    "* M matriz de adyacencia que acepta un arreglo de tipo Array{Int64,2}\n",
    "\n",
    "Resultado:\n",
    "Devuelve un arreglo de tipo Array{Int64,2} que contiene los grados de salida de todos los nodos n de la red.\n",
    "\n",
    "## Implementación\n",
    "\n",
    "### Ejemplos\n",
    "\"\"\"\n",
    "\n",
    "function out_degree(M::Array)\n",
    "    grados_salida = sum(M, dims = 1)\n",
    "end"
   ]
  },
  {
   "cell_type": "code",
   "execution_count": 18,
   "metadata": {
    "scrolled": true
   },
   "outputs": [
    {
     "data": {
      "text/plain": [
       "3189×1 Array{Int64,2}:\n",
       "  17\n",
       "   7\n",
       "  14\n",
       " 187\n",
       "   9\n",
       "  39\n",
       "  10\n",
       "  21\n",
       " 110\n",
       "  16\n",
       "   7\n",
       "   9\n",
       "  10\n",
       "   ⋮\n",
       "   0\n",
       "   0\n",
       "   0\n",
       "   0\n",
       "   0\n",
       "   0\n",
       "   0\n",
       "   0\n",
       "   0\n",
       "   0\n",
       "   0\n",
       "   0"
      ]
     },
     "execution_count": 18,
     "metadata": {},
     "output_type": "execute_result"
    }
   ],
   "source": [
    "in_degree(multiplex)"
   ]
  },
  {
   "cell_type": "code",
   "execution_count": 19,
   "metadata": {},
   "outputs": [
    {
     "data": {
      "text/plain": [
       "1×3189 Array{Int64,2}:\n",
       " 18  7  14  186  9  39  10  21  112  …  1  3  1  1  1  1  1  1  1  1  1  1"
      ]
     },
     "execution_count": 19,
     "metadata": {},
     "output_type": "execute_result"
    }
   ],
   "source": [
    "out_degree(multiplex)"
   ]
  },
  {
   "cell_type": "markdown",
   "metadata": {},
   "source": [
    "### Función r_walks\n",
    "\n",
    "Caminatas aleatorias para un sólo nodo inicial."
   ]
  },
  {
   "cell_type": "code",
   "execution_count": 20,
   "metadata": {},
   "outputs": [
    {
     "data": {
      "text/plain": [
       "r_walks (generic function with 1 method)"
      ]
     },
     "execution_count": 20,
     "metadata": {},
     "output_type": "execute_result"
    }
   ],
   "source": [
    "\"\"\"\n",
    "La función r_walks tiene como parámetros:\n",
    "M, matriz de adyacencia de tipo Array{Int64,2}\n",
    "f, nodo inicial de tipo Int64\n",
    "steps, número de pasos de tipo Int64\n",
    "iter, número de iteraciones de tipo Int64.\n",
    "La función crea un caminante aleatorio sobre la matriz, el cual tiene igual probabilidad de avanzar \n",
    "hacia cualquiera de sus vecinos.\n",
    "Regresa un arreglo que contiene todas las trayectorias que tomó el caminante aleatorio.\n",
    "\"\"\"\n",
    "\n",
    "function r_walks(M::Array{Int64,2}, f::Int64, steps::Int64, iter::Int64)\n",
    "    nodos = size(M, 1) #aeropuertos\n",
    "    paths = zeros(Int64, (iter, steps)) \n",
    "    s = f\n",
    "    for i in 1:iter  \n",
    "        for p in 1:steps \n",
    "            row = M[s, :] #Renglón correspondiente al nodo s\n",
    "            vecinos = findall(x -> x != 0, row)\n",
    "            if vecinos == []\n",
    "                break\n",
    "            else\n",
    "                a = sample(vecinos)\n",
    "                paths[i, p] = a\n",
    "            s = a\n",
    "            end\n",
    "        end\n",
    "        s = f\n",
    "    end\n",
    "    return paths \n",
    "end"
   ]
  },
  {
   "cell_type": "markdown",
   "metadata": {},
   "source": [
    "#### Pruebas r_walks"
   ]
  },
  {
   "cell_type": "markdown",
   "metadata": {},
   "source": [
    "r_walks(mmulti, 1, 10, 10)"
   ]
  },
  {
   "cell_type": "code",
   "execution_count": null,
   "metadata": {},
   "outputs": [],
   "source": [
    "@time r_walks(mmulti, 1, 10, 1)"
   ]
  },
  {
   "cell_type": "code",
   "execution_count": null,
   "metadata": {},
   "outputs": [],
   "source": [
    "@time r_walks(mmulti, 1, 100, 1)"
   ]
  },
  {
   "cell_type": "code",
   "execution_count": null,
   "metadata": {},
   "outputs": [],
   "source": [
    "@time r_walks(mmulti, 1, 100, 1)"
   ]
  },
  {
   "cell_type": "code",
   "execution_count": null,
   "metadata": {
    "scrolled": true
   },
   "outputs": [],
   "source": [
    "@time r_walks(mmulti, 1, 10, 10)"
   ]
  },
  {
   "cell_type": "code",
   "execution_count": null,
   "metadata": {},
   "outputs": [],
   "source": [
    "#Aumento el número de pasos\n",
    "@time r_walks(mmulti, 1, 100, 10)"
   ]
  },
  {
   "cell_type": "code",
   "execution_count": null,
   "metadata": {},
   "outputs": [],
   "source": [
    "#Aumento el número de pasos\n",
    "@time r_walks(mmulti, 1, 500, 10)"
   ]
  },
  {
   "cell_type": "code",
   "execution_count": null,
   "metadata": {},
   "outputs": [],
   "source": [
    "#Aumento el número de pasos\n",
    "@time r_walks(mmulti, 1, 1000, 10)"
   ]
  },
  {
   "cell_type": "code",
   "execution_count": null,
   "metadata": {},
   "outputs": [],
   "source": [
    "#Cambio el nodo inicial\n",
    "@time r_walks(mmulti, 986, 1000, 10)"
   ]
  },
  {
   "cell_type": "code",
   "execution_count": null,
   "metadata": {},
   "outputs": [],
   "source": [
    "#Pocos pasos, más iteraciones\n",
    "@time r_walks(mmulti, 1, 10, 100)"
   ]
  },
  {
   "cell_type": "code",
   "execution_count": null,
   "metadata": {},
   "outputs": [],
   "source": [
    "#Pocos pasos, más iteraciones\n",
    "@time r_walks(mmulti, 1, 10, 1000)"
   ]
  },
  {
   "cell_type": "code",
   "execution_count": null,
   "metadata": {},
   "outputs": [],
   "source": [
    "#Pocos pasos, más iteraciones\n",
    "@time r_walks(mmulti, 1, 10, 2000)"
   ]
  },
  {
   "cell_type": "code",
   "execution_count": null,
   "metadata": {},
   "outputs": [],
   "source": [
    "#Más pasos\n",
    "@time r_walks(mmulti, 1, 40, 500)"
   ]
  },
  {
   "cell_type": "code",
   "execution_count": null,
   "metadata": {},
   "outputs": [],
   "source": [
    "#Más pasos\n",
    "@time r_walks(mmulti, 1, 100, 500)"
   ]
  },
  {
   "cell_type": "code",
   "execution_count": null,
   "metadata": {},
   "outputs": [],
   "source": [
    "#50 pasos y más iteraciones\n",
    "@time r_walks(mmulti, 1, 50, 1000)"
   ]
  },
  {
   "cell_type": "code",
   "execution_count": null,
   "metadata": {},
   "outputs": [],
   "source": [
    "#50 pasos y más iteraciones\n",
    "@time r_walks(mmulti, 1, 50, 10000)"
   ]
  },
  {
   "cell_type": "markdown",
   "metadata": {},
   "source": [
    "### Función random_walk\n",
    "\n",
    "Llamaré a mi función que hace muchas iteraciones dentro de otra función que recorra todos mis nodos."
   ]
  },
  {
   "cell_type": "code",
   "execution_count": 21,
   "metadata": {},
   "outputs": [
    {
     "data": {
      "text/plain": [
       "random_walk (generic function with 1 method)"
      ]
     },
     "execution_count": 21,
     "metadata": {},
     "output_type": "execute_result"
    }
   ],
   "source": [
    "\"\"\"\n",
    "La función random_walk tiene como parámetros:\n",
    "M, matriz de adyacencia de tipo Array{Int64,2}\n",
    "steps, número de pasos de tipo Int64\n",
    "iter, número de iteraciones de tipo Int64.\n",
    "La función crea un caminante aleatorio sobre la matriz con igual probabilidad de avanzar \n",
    "hacia cualquiera de sus vecinos. Esta función recorre todos los nodos de la red como\n",
    "nodos iniciales y sobre ellos itera para obtener el número de caminos que se le pidió.\n",
    "Regresa un arreglo que contiene arreglos asociados a todas las trayectorias que tomó el \n",
    "caminante aleatorio para cada nodo inicial de la red.\n",
    "\"\"\"\n",
    "\n",
    "function random_walk(M::Array{Int64,2}, steps::Int64, iter::Int64)\n",
    "    random_walks = []\n",
    "    nodos = size(M, 1)\n",
    "    for f in 1:nodos #aeropuertos\n",
    "        paths = r_walks(M, f, steps, iter)\n",
    "        push!(random_walks, paths)\n",
    "    end\n",
    "    random_walks\n",
    "end"
   ]
  },
  {
   "cell_type": "markdown",
   "metadata": {},
   "source": [
    "### Pruebas random_walk en el multiplex"
   ]
  },
  {
   "cell_type": "code",
   "execution_count": null,
   "metadata": {},
   "outputs": [],
   "source": [
    "#5 iteraciones de un caminante aleatorio de 100 pasos sobre todos los nodos del multiplex \n",
    "@time random_walk(multiplex, 100, 5)"
   ]
  },
  {
   "cell_type": "code",
   "execution_count": 29,
   "metadata": {},
   "outputs": [
    {
     "name": "stdout",
     "output_type": "stream",
     "text": [
      " 29.164833 seconds (7.55 M allocations: 15.527 GiB, 5.90% gc time)\n"
     ]
    },
    {
     "data": {
      "text/plain": [
       "3189-element Array{Any,1}:\n",
       " [594 223 … 93 327; 594 489 … 1983 458]     \n",
       " [4 473 … 105 1316; 10 232 … 638 644]       \n",
       " [4 164 … 1685 1860; 728 15 … 448 223]      \n",
       " [22 672 … 473 1075; 469 1331 … 1049 193]   \n",
       " [7 1527 … 31 254; 753 352 … 949 333]       \n",
       " [2274 232 … 1197 1130; 494 1960 … 1854 663]\n",
       " [594 7 … 136 1008; 1756 7 … 1358 441]      \n",
       " [728 2797 … 1870 2636; 2 8 … 1468 599]     \n",
       " [478 2549 … 231 471; 351 8 … 700 697]      \n",
       " [340 2632 … 168 172; 683 682 … 2004 53]    \n",
       " [9 1227 … 304 180; 4 1532 … 1003 714]      \n",
       " [2274 12 … 268 323; 349 9 … 307 322]       \n",
       " [2274 1527 … 1874 232; 2275 14 … 1570 471] \n",
       " ⋮                                          \n",
       " [0 0 … 0 0; 0 0 … 0 0]                     \n",
       " [0 0 … 0 0; 0 0 … 0 0]                     \n",
       " [0 0 … 0 0; 0 0 … 0 0]                     \n",
       " [0 0 … 0 0; 0 0 … 0 0]                     \n",
       " [0 0 … 0 0; 0 0 … 0 0]                     \n",
       " [0 0 … 0 0; 0 0 … 0 0]                     \n",
       " [0 0 … 0 0; 0 0 … 0 0]                     \n",
       " [0 0 … 0 0; 0 0 … 0 0]                     \n",
       " [0 0 … 0 0; 0 0 … 0 0]                     \n",
       " [0 0 … 0 0; 0 0 … 0 0]                     \n",
       " [0 0 … 0 0; 0 0 … 0 0]                     \n",
       " [0 0 … 0 0; 0 0 … 0 0]                     "
      ]
     },
     "execution_count": 29,
     "metadata": {},
     "output_type": "execute_result"
    }
   ],
   "source": [
    "#2 iteraciones de un caminante aleatorio de 50 pasos sobre todos los nodos del multiplex \n",
    "prueba = @time random_walk(multiplex, 100, 2)"
   ]
  },
  {
   "cell_type": "code",
   "execution_count": 30,
   "metadata": {},
   "outputs": [
    {
     "data": {
      "text/plain": [
       "2×100 Array{Int64,2}:\n",
       " 594  223  1839  1957  594   304  418  …  564   93  587   93  100    93  327\n",
       " 594  489   490   489  189  1027   60     208  395  338  467  479  1983  458"
      ]
     },
     "execution_count": 30,
     "metadata": {},
     "output_type": "execute_result"
    }
   ],
   "source": [
    "#2 Caminatas de 100 pasos para nodo inicial 1\n",
    "prueba[1]"
   ]
  },
  {
   "cell_type": "code",
   "execution_count": 34,
   "metadata": {
    "scrolled": true
   },
   "outputs": [
    {
     "data": {
      "text/plain": [
       "2×100 Array{Int64,2}:\n",
       " 3144  310  2543   310  3143  1725  …  1342  453  187   57   594  684   57\n",
       "  310  178   456  1531  1532   727     1085   40   43  441  1378  429  470"
      ]
     },
     "execution_count": 34,
     "metadata": {},
     "output_type": "execute_result"
    }
   ],
   "source": [
    "#2 Caminatas de 100 pasos para nodo inicial 3160\n",
    "prueba[3160]"
   ]
  },
  {
   "cell_type": "code",
   "execution_count": 35,
   "metadata": {},
   "outputs": [
    {
     "data": {
      "text/plain": [
       "3189"
      ]
     },
     "execution_count": 35,
     "metadata": {},
     "output_type": "execute_result"
    }
   ],
   "source": [
    "length(prueba)"
   ]
  },
  {
   "cell_type": "code",
   "execution_count": 36,
   "metadata": {},
   "outputs": [
    {
     "data": {
      "text/plain": [
       "(3189,)"
      ]
     },
     "execution_count": 36,
     "metadata": {},
     "output_type": "execute_result"
    }
   ],
   "source": [
    "size(prueba)"
   ]
  },
  {
   "cell_type": "code",
   "execution_count": 37,
   "metadata": {},
   "outputs": [
    {
     "data": {
      "text/plain": [
       "200"
      ]
     },
     "execution_count": 37,
     "metadata": {},
     "output_type": "execute_result"
    }
   ],
   "source": [
    "length(prueba[2])"
   ]
  },
  {
   "cell_type": "code",
   "execution_count": 38,
   "metadata": {},
   "outputs": [
    {
     "data": {
      "text/plain": [
       "(2, 100)"
      ]
     },
     "execution_count": 38,
     "metadata": {},
     "output_type": "execute_result"
    }
   ],
   "source": [
    "s = size(prueba[3160])"
   ]
  },
  {
   "cell_type": "code",
   "execution_count": 39,
   "metadata": {},
   "outputs": [
    {
     "data": {
      "text/plain": [
       "2"
      ]
     },
     "execution_count": 39,
     "metadata": {},
     "output_type": "execute_result"
    }
   ],
   "source": [
    "s[1]"
   ]
  },
  {
   "cell_type": "code",
   "execution_count": 40,
   "metadata": {
    "scrolled": true
   },
   "outputs": [
    {
     "data": {
      "text/plain": [
       "200"
      ]
     },
     "execution_count": 40,
     "metadata": {},
     "output_type": "execute_result"
    }
   ],
   "source": [
    "length(prueba[3160])"
   ]
  },
  {
   "cell_type": "code",
   "execution_count": null,
   "metadata": {},
   "outputs": [],
   "source": [
    "#Tomo el renglón 2 del arreglo de 2 iteraciones de 50 pasos del nodo inicial 3160\n",
    "prueba1[3160][2, :]"
   ]
  },
  {
   "cell_type": "code",
   "execution_count": null,
   "metadata": {},
   "outputs": [],
   "source": [
    "prueba1[3160][2, :][5]"
   ]
  },
  {
   "cell_type": "markdown",
   "metadata": {},
   "source": [
    "### Función que cuenta longitud de cada iteración de la caminata antes de llegar a un cero"
   ]
  },
  {
   "cell_type": "code",
   "execution_count": 41,
   "metadata": {},
   "outputs": [
    {
     "data": {
      "text/plain": [
       "walk_length (generic function with 1 method)"
      ]
     },
     "execution_count": 41,
     "metadata": {},
     "output_type": "execute_result"
    }
   ],
   "source": [
    "\"\"\"\n",
    "La función walk_length tiene como parámetro W, que es un arreglo de arreglos (que se puede obtener de la \n",
    "función random_walk). Regresa un arreglo de arreglos, en donde cada entrada corresponde a la longitud de \n",
    "la caminata aleatoria antes de caer en un nodo con grado de salida 0.\n",
    "\"\"\"\n",
    "\n",
    "function walk_length(W)\n",
    "    \n",
    "    longitudes = Array[]\n",
    "    c = 0\n",
    "    v = length(W) #tamaño de la matriz, número de nodos\n",
    "    s = size(W[1], 1) #lo puedo sacar, para todos es el mismo. Es el número de iteraciones\n",
    "    t = size(W[1], 2) #número de pasos\n",
    "    long = zeros(Int64, s) #Arreglo de ceros de tamaño número de iteraciones\n",
    "    \n",
    "    for i in 1:v\n",
    "        #@show i\n",
    "        for j in 1:s\n",
    "            #@show j\n",
    "            #long = zeros(Int64, s) #Arreglo de ceros de tamaño número de iteraciones\n",
    "            for k in 1:t\n",
    "                #@show k\n",
    "                \n",
    "                if W[i][j, :][k] != 0 #W[i][j, :] #renglón a analizar\n",
    "                    c += 1 \n",
    "                    #@show c\n",
    "                else\n",
    "                    #@show c\n",
    "                    long[j] = c \n",
    "                    #@show long #ant[i][j] = W[i][j, :][k - 1]\n",
    "                    c = 0\n",
    "                    break\n",
    "                end\n",
    "                #@show long\n",
    "            end\n",
    "            \n",
    "            \n",
    "        end\n",
    "        push!(longitudes, long)\n",
    "        #@show longitudes\n",
    "        long = zeros(Int64, s) #Arreglo de ceros de tamaño número de iteraciones\n",
    "    end\n",
    "    return longitudes\n",
    "end"
   ]
  },
  {
   "cell_type": "code",
   "execution_count": 42,
   "metadata": {},
   "outputs": [
    {
     "data": {
      "text/plain": [
       "3×3 Array{Int64,2}:\n",
       " 0  1  0\n",
       " 1  0  1\n",
       " 0  0  0"
      ]
     },
     "execution_count": 42,
     "metadata": {},
     "output_type": "execute_result"
    }
   ],
   "source": [
    "d = [0  1  0\n",
    "     1  0  1\n",
    "     0  0  0]"
   ]
  },
  {
   "cell_type": "code",
   "execution_count": 43,
   "metadata": {},
   "outputs": [
    {
     "name": "stdout",
     "output_type": "stream",
     "text": [
      "  0.000015 seconds (109 allocations: 6.578 KiB)\n"
     ]
    },
    {
     "data": {
      "text/plain": [
       "3-element Array{Any,1}:\n",
       " [2 3 … 0 0; 2 1 … 0 0]\n",
       " [3 0 … 0 0; 3 0 … 0 0]\n",
       " [0 0 … 0 0; 0 0 … 0 0]"
      ]
     },
     "execution_count": 43,
     "metadata": {},
     "output_type": "execute_result"
    }
   ],
   "source": [
    "#2 iteraciones de un caminante aleatorio de 10 pasos sobre todos los nodos del multiplex \n",
    "pruebad = @time random_walk(d, 10, 2)"
   ]
  },
  {
   "cell_type": "code",
   "execution_count": 44,
   "metadata": {
    "scrolled": true
   },
   "outputs": [
    {
     "data": {
      "text/plain": [
       "2×10 Array{Int64,2}:\n",
       " 2  3  0  0  0  0  0  0  0  0\n",
       " 2  1  2  3  0  0  0  0  0  0"
      ]
     },
     "execution_count": 44,
     "metadata": {},
     "output_type": "execute_result"
    }
   ],
   "source": [
    "pruebad[1]"
   ]
  },
  {
   "cell_type": "code",
   "execution_count": 45,
   "metadata": {},
   "outputs": [
    {
     "data": {
      "text/plain": [
       "2×10 Array{Int64,2}:\n",
       " 3  0  0  0  0  0  0  0  0  0\n",
       " 3  0  0  0  0  0  0  0  0  0"
      ]
     },
     "execution_count": 45,
     "metadata": {},
     "output_type": "execute_result"
    }
   ],
   "source": [
    "pruebad[2]"
   ]
  },
  {
   "cell_type": "code",
   "execution_count": 46,
   "metadata": {},
   "outputs": [
    {
     "data": {
      "text/plain": [
       "2×10 Array{Int64,2}:\n",
       " 0  0  0  0  0  0  0  0  0  0\n",
       " 0  0  0  0  0  0  0  0  0  0"
      ]
     },
     "execution_count": 46,
     "metadata": {},
     "output_type": "execute_result"
    }
   ],
   "source": [
    "pruebad[3]"
   ]
  },
  {
   "cell_type": "code",
   "execution_count": 47,
   "metadata": {
    "scrolled": true
   },
   "outputs": [
    {
     "name": "stdout",
     "output_type": "stream",
     "text": [
      "  0.068246 seconds (71.69 k allocations: 3.711 MiB)\n"
     ]
    },
    {
     "data": {
      "text/plain": [
       "3-element Array{Array,1}:\n",
       " [2, 4]\n",
       " [1, 1]\n",
       " [0, 0]"
      ]
     },
     "execution_count": 47,
     "metadata": {},
     "output_type": "execute_result"
    }
   ],
   "source": [
    "prueba_lengthd = @time walk_length(pruebad)"
   ]
  },
  {
   "cell_type": "markdown",
   "metadata": {},
   "source": [
    "### Función que obtiene el promedio de la longitud de la caminata por nodo antes de llegar a un cero"
   ]
  },
  {
   "cell_type": "code",
   "execution_count": 48,
   "metadata": {},
   "outputs": [
    {
     "data": {
      "text/plain": [
       "walk_av_length (generic function with 1 method)"
      ]
     },
     "execution_count": 48,
     "metadata": {},
     "output_type": "execute_result"
    }
   ],
   "source": [
    "\"\"\"\n",
    "La función walk_av_length tiene como parámetro W, que es un arreglo de arreglos (que se puede obtener de la \n",
    "función walk_length). \n",
    "Regresa un arreglo con entradas correspondientes al promedio de las longitudes de \n",
    "las caminatas aleatorias para cada nodo de inicio antes de caer en un nodo con grado de salida 0.\n",
    "\"\"\"\n",
    "\n",
    "function walk_av_length(W)\n",
    "   proms = []\n",
    "    for i in 1:length(W)\n",
    "        av = mean(W[i])\n",
    "        push!(proms, av)\n",
    "    end\n",
    "    proms\n",
    "end"
   ]
  },
  {
   "cell_type": "code",
   "execution_count": 49,
   "metadata": {},
   "outputs": [
    {
     "data": {
      "text/plain": [
       "3-element Array{Any,1}:\n",
       " 3.0\n",
       " 1.0\n",
       " 0.0"
      ]
     },
     "execution_count": 49,
     "metadata": {},
     "output_type": "execute_result"
    }
   ],
   "source": [
    "walk_av_length(prueba_lengthd)"
   ]
  },
  {
   "cell_type": "markdown",
   "metadata": {},
   "source": [
    "### Función que da los nodos diferentes en cada iteración de cada caminata antes de llegar a un cero"
   ]
  },
  {
   "cell_type": "code",
   "execution_count": 50,
   "metadata": {},
   "outputs": [
    {
     "data": {
      "text/plain": [
       "n_cobertura (generic function with 1 method)"
      ]
     },
     "execution_count": 50,
     "metadata": {},
     "output_type": "execute_result"
    }
   ],
   "source": [
    "\"\"\"\n",
    "La función n_cobertura tiene como parámetro W que es un arreglo de arreglos.\n",
    "Regresa los nodos diferentes a los que llega el caminante.\n",
    "\"\"\"\n",
    "\n",
    "function n_cobertura(W)\n",
    "    \n",
    "    cobert = []\n",
    "    v = length(W) #tamaño de la matriz, número de nodos\n",
    "    s = size(W[1], 1) #lo puedo sacar, para todos es el mismo. Es el número de iteraciones\n",
    "    t = size(W[1], 2) #número de pasos\n",
    "    #visit = zeros(Int64, s) #Arreglo de ceros de tamaño número de iteraciones\n",
    "    visit = []\n",
    "    \n",
    "    for i in 1:v        \n",
    "        for j in 1:s\n",
    "            u = unique(W[i][j, :])\n",
    "            push!(visit, u)\n",
    "        end\n",
    "        push!(cobert, visit)\n",
    "        visit = []\n",
    "    end\n",
    "    return cobert\n",
    "end"
   ]
  },
  {
   "cell_type": "code",
   "execution_count": 61,
   "metadata": {
    "scrolled": true
   },
   "outputs": [
    {
     "data": {
      "text/plain": [
       "3-element Array{Any,1}:\n",
       " Any[[2, 3, 0], [2, 1, 3, 0]]\n",
       " Any[[3, 0], [3, 0]]         \n",
       " Any[[0], [0]]               "
      ]
     },
     "execution_count": 61,
     "metadata": {},
     "output_type": "execute_result"
    }
   ],
   "source": [
    "cob = n_cobertura(pruebad)"
   ]
  },
  {
   "cell_type": "code",
   "execution_count": 53,
   "metadata": {},
   "outputs": [
    {
     "data": {
      "text/plain": [
       "3-element Array{Int64,1}:\n",
       " 2\n",
       " 3\n",
       " 0"
      ]
     },
     "execution_count": 53,
     "metadata": {},
     "output_type": "execute_result"
    }
   ],
   "source": [
    "cob[1][1]"
   ]
  },
  {
   "cell_type": "markdown",
   "metadata": {},
   "source": [
    "### Función que da el número de nodos diferentes, cobertura dado n_cobertura"
   ]
  },
  {
   "cell_type": "code",
   "execution_count": 54,
   "metadata": {},
   "outputs": [
    {
     "data": {
      "text/plain": [
       "cobertura (generic function with 1 method)"
      ]
     },
     "execution_count": 54,
     "metadata": {},
     "output_type": "execute_result"
    }
   ],
   "source": [
    "\"\"\"\n",
    "La función cobertura tiene como parámetro W que es un arreglo de arreglos.\n",
    "Regresa el número de nodos diferentes a los que llega el caminante.\n",
    "\"\"\"\n",
    "\n",
    "#Tal vez falta llamar dentro de la función a la función n_cobertura\n",
    "\n",
    "function cobertura(W)\n",
    "    \n",
    "    cobert = []\n",
    "    \n",
    "    v = length(W) #tamaño de la matriz, número de nodos\n",
    "    s = size(W[1], 1) #lo puedo sacar, para todos es el mismo. Es el número de iteraciones\n",
    "    long = zeros(Int64, s) #Arreglo de ceros de tamaño número de iteraciones\n",
    "    \n",
    "    for i in 1:v        \n",
    "        for j in 1:s\n",
    "            l = length(W[i][j])\n",
    "            long[j] = l\n",
    "        end\n",
    "        push!(cobert, long)\n",
    "        long = zeros(Int64, s)\n",
    "    end\n",
    "    return cobert\n",
    "end"
   ]
  },
  {
   "cell_type": "code",
   "execution_count": 55,
   "metadata": {},
   "outputs": [
    {
     "data": {
      "text/plain": [
       "3-element Array{Any,1}:\n",
       " [1, 1]\n",
       " [1, 1]\n",
       " [1, 1]"
      ]
     },
     "execution_count": 55,
     "metadata": {},
     "output_type": "execute_result"
    }
   ],
   "source": [
    "cobertura(pruebad)"
   ]
  },
  {
   "cell_type": "code",
   "execution_count": 62,
   "metadata": {
    "scrolled": true
   },
   "outputs": [
    {
     "data": {
      "text/plain": [
       "3-element Array{Any,1}:\n",
       " [3, 4]\n",
       " [2, 2]\n",
       " [1, 1]"
      ]
     },
     "execution_count": 62,
     "metadata": {},
     "output_type": "execute_result"
    }
   ],
   "source": [
    "cobertd = cobertura(cob)"
   ]
  },
  {
   "cell_type": "markdown",
   "metadata": {},
   "source": [
    "### Función que saca el promedio de las longitudes de (las iteraciones de) cada nodo"
   ]
  },
  {
   "cell_type": "code",
   "execution_count": 64,
   "metadata": {},
   "outputs": [
    {
     "data": {
      "text/plain": [
       "n_length_av (generic function with 1 method)"
      ]
     },
     "execution_count": 64,
     "metadata": {},
     "output_type": "execute_result"
    }
   ],
   "source": [
    "\"\"\"\n",
    "\n",
    "\"\"\"\n",
    "\n",
    "#Tal vez falta llamar dentro de la función a la función n_cobertura y cobertura\n",
    "\n",
    "function n_length_av(W)\n",
    "    \n",
    "    longitud = []\n",
    "\n",
    "    for i in 1:length(W)\n",
    "        l = mean(W[i])\n",
    "        push!(longitud, l)\n",
    "    end\n",
    "    longitud\n",
    "end"
   ]
  },
  {
   "cell_type": "code",
   "execution_count": 67,
   "metadata": {
    "scrolled": true
   },
   "outputs": [
    {
     "data": {
      "text/plain": [
       "3-element Array{Any,1}:\n",
       " 3.5\n",
       " 2.0\n",
       " 1.0"
      ]
     },
     "execution_count": 67,
     "metadata": {},
     "output_type": "execute_result"
    }
   ],
   "source": [
    "n_cobertd = n_length_av(cobertd)"
   ]
  },
  {
   "cell_type": "markdown",
   "metadata": {},
   "source": [
    "### Función que obtiene el promedio de las longitudes promedio"
   ]
  },
  {
   "cell_type": "code",
   "execution_count": 71,
   "metadata": {},
   "outputs": [
    {
     "data": {
      "text/plain": [
       "length_av (generic function with 1 method)"
      ]
     },
     "execution_count": 71,
     "metadata": {},
     "output_type": "execute_result"
    }
   ],
   "source": [
    "\"\"\"\n",
    "\n",
    "\"\"\"\n",
    "\n",
    "#Tal vez falta llamar dentro de la función a la función n_cobertura y cobertura y n_length_av\n",
    "\n",
    "function length_av(W)\n",
    "\n",
    "        mean(W)\n",
    "\n",
    "end"
   ]
  },
  {
   "cell_type": "code",
   "execution_count": 72,
   "metadata": {},
   "outputs": [
    {
     "data": {
      "text/plain": [
       "2.1666666666666665"
      ]
     },
     "execution_count": 72,
     "metadata": {},
     "output_type": "execute_result"
    }
   ],
   "source": [
    "length_av(n_cobertd)"
   ]
  },
  {
   "cell_type": "markdown",
   "metadata": {},
   "source": [
    "### Función que obtiene el máximo y mínimo de las longitudes"
   ]
  },
  {
   "cell_type": "code",
   "execution_count": null,
   "metadata": {},
   "outputs": [],
   "source": [
    "\"\"\"\n",
    "\n",
    "\"\"\"\n",
    "\n",
    "#Tal vez falta llamar dentro de la función a la función n_cobertura y cobertura\n",
    "\n",
    "function n_length_av(W)\n",
    "\n",
    "    for i in 1:length(W)\n",
    "        l = mean(W[i])\n",
    "        push!(longitud, l)\n",
    "    end\n",
    "    longitud\n",
    "end"
   ]
  },
  {
   "cell_type": "code",
   "execution_count": null,
   "metadata": {},
   "outputs": [],
   "source": []
  },
  {
   "cell_type": "markdown",
   "metadata": {},
   "source": [
    "#### Pruebas random_walk"
   ]
  },
  {
   "cell_type": "code",
   "execution_count": null,
   "metadata": {},
   "outputs": [],
   "source": [
    "@time random_walk(mmulti, 10, 1)"
   ]
  },
  {
   "cell_type": "code",
   "execution_count": null,
   "metadata": {},
   "outputs": [],
   "source": [
    "#10 pasos, 10 iteraciones\n",
    "@time random_walk(mmulti, 10, 10)"
   ]
  },
  {
   "cell_type": "code",
   "execution_count": null,
   "metadata": {},
   "outputs": [],
   "source": [
    "#50 pasos, 1 iteración\n",
    "@time random_walk(mmulti, 50, 1)"
   ]
  },
  {
   "cell_type": "code",
   "execution_count": null,
   "metadata": {},
   "outputs": [],
   "source": [
    "#50 pasos, 10 iteraciones\n",
    "@time random_walk(mmulti, 50, 10)"
   ]
  },
  {
   "cell_type": "code",
   "execution_count": null,
   "metadata": {},
   "outputs": [],
   "source": [
    "#50 pasos, 50 iteraciones\n",
    "@time random_walk(mmulti, 50, 50)"
   ]
  },
  {
   "cell_type": "code",
   "execution_count": null,
   "metadata": {},
   "outputs": [],
   "source": [
    "#50 pasos, 50 iteraciones\n",
    "@time random_walk(mmulti, 50, 100)"
   ]
  },
  {
   "cell_type": "markdown",
   "metadata": {},
   "source": [
    "### Redes artificiales\n",
    "\n",
    "#### Ciclo"
   ]
  },
  {
   "cell_type": "code",
   "execution_count": null,
   "metadata": {},
   "outputs": [],
   "source": [
    "c1 = [0  1  0  0  1\n",
    "      1  0  1  0  0\n",
    "      0  1  0  1  0\n",
    "      0  0  1  0  1\n",
    "      1  0  0  1  0]"
   ]
  },
  {
   "cell_type": "code",
   "execution_count": null,
   "metadata": {},
   "outputs": [],
   "source": [
    "rc1 = @time random_walk(c1, 100, 10)"
   ]
  },
  {
   "cell_type": "code",
   "execution_count": null,
   "metadata": {},
   "outputs": [],
   "source": [
    "#10 iteraciones de 100 pasos con nodo inicial 1 \n",
    "rc1[1]"
   ]
  },
  {
   "cell_type": "code",
   "execution_count": null,
   "metadata": {},
   "outputs": [],
   "source": [
    "#10 iteraciones de 100 pasos con nodo inicial 2\n",
    "rc1[2]"
   ]
  },
  {
   "cell_type": "markdown",
   "metadata": {},
   "source": [
    "#### 2 ciclos"
   ]
  },
  {
   "cell_type": "code",
   "execution_count": null,
   "metadata": {},
   "outputs": [],
   "source": [
    "c2 = [0  1  1  0  0  0  \n",
    "      1  0  1  0  0  0\n",
    "      1  1  0  0  0  0\n",
    "      0  0  0  0  1  1\n",
    "      0  0  0  1  0  1\n",
    "      0  0  0  0  1  1]"
   ]
  },
  {
   "cell_type": "code",
   "execution_count": null,
   "metadata": {},
   "outputs": [],
   "source": [
    "rc2 = @time random_walk(c2, 100, 10)"
   ]
  },
  {
   "cell_type": "code",
   "execution_count": null,
   "metadata": {
    "scrolled": true
   },
   "outputs": [],
   "source": [
    "#10 iteraciones de 100 pasos con nodo inicial 1 de una red de 2 ciclos\n",
    "rc2[1]"
   ]
  },
  {
   "cell_type": "code",
   "execution_count": null,
   "metadata": {},
   "outputs": [],
   "source": [
    "rc2[5]"
   ]
  },
  {
   "cell_type": "markdown",
   "metadata": {},
   "source": [
    "#### Eg2"
   ]
  },
  {
   "cell_type": "code",
   "execution_count": null,
   "metadata": {},
   "outputs": [],
   "source": [
    "t1 = [0  1  0  \n",
    "      1  0  1 \n",
    "      0  1  0]"
   ]
  },
  {
   "cell_type": "code",
   "execution_count": null,
   "metadata": {},
   "outputs": [],
   "source": [
    "rt1 = @time random_walk(t1, 100, 10)"
   ]
  },
  {
   "cell_type": "code",
   "execution_count": null,
   "metadata": {},
   "outputs": [],
   "source": [
    "#10 iteraciones de 100 pasos\n",
    "rt1[1]"
   ]
  },
  {
   "cell_type": "code",
   "execution_count": null,
   "metadata": {},
   "outputs": [],
   "source": [
    "t2 = [0  1  0  0  0  0  \n",
    "      1  0  1  0  0  0\n",
    "      0  1  0  0  0  0\n",
    "      0  0  0  0  1  1\n",
    "      0  0  0  1  0  0\n",
    "      0  0  0  1  0  0]"
   ]
  },
  {
   "cell_type": "code",
   "execution_count": null,
   "metadata": {},
   "outputs": [],
   "source": [
    "rt2 = @time random_walk(t2, 100, 10)"
   ]
  },
  {
   "cell_type": "code",
   "execution_count": null,
   "metadata": {
    "scrolled": true
   },
   "outputs": [],
   "source": [
    "#Nodo inicial 2\n",
    "rt2[2]"
   ]
  },
  {
   "cell_type": "code",
   "execution_count": null,
   "metadata": {},
   "outputs": [],
   "source": [
    "rt2[6]"
   ]
  },
  {
   "cell_type": "markdown",
   "metadata": {},
   "source": [
    "### Lineal"
   ]
  },
  {
   "cell_type": "code",
   "execution_count": null,
   "metadata": {},
   "outputs": [],
   "source": [
    "l1 = [0  1  0  0  \n",
    "      1  0  1  0\n",
    "      0  1  0  1\n",
    "      0  0  1  0]"
   ]
  },
  {
   "cell_type": "code",
   "execution_count": null,
   "metadata": {},
   "outputs": [],
   "source": [
    "rl1 = @time random_walk(l1, 100, 10)"
   ]
  },
  {
   "cell_type": "code",
   "execution_count": null,
   "metadata": {},
   "outputs": [],
   "source": [
    "rl1[1]"
   ]
  },
  {
   "cell_type": "code",
   "execution_count": null,
   "metadata": {},
   "outputs": [],
   "source": [
    "rl1[4]"
   ]
  },
  {
   "cell_type": "markdown",
   "metadata": {},
   "source": [
    "### 2 Lineal"
   ]
  },
  {
   "cell_type": "code",
   "execution_count": null,
   "metadata": {},
   "outputs": [],
   "source": [
    "l2 = [0  1  0  0  0  0  \n",
    "      1  0  1  0  0  0\n",
    "      0  1  0  0  0  0\n",
    "      0  0  0  0  1  0\n",
    "      0  0  0  1  0  1\n",
    "      0  0  0  0  1  0]"
   ]
  },
  {
   "cell_type": "code",
   "execution_count": null,
   "metadata": {},
   "outputs": [],
   "source": [
    "rl2 = @time random_walk(l2, 100, 10)"
   ]
  },
  {
   "cell_type": "code",
   "execution_count": null,
   "metadata": {},
   "outputs": [],
   "source": [
    "rl2[3]"
   ]
  },
  {
   "cell_type": "code",
   "execution_count": null,
   "metadata": {},
   "outputs": [],
   "source": [
    "rl2[5]"
   ]
  },
  {
   "cell_type": "markdown",
   "metadata": {},
   "source": [
    "### Clica"
   ]
  },
  {
   "cell_type": "code",
   "execution_count": null,
   "metadata": {},
   "outputs": [],
   "source": [
    "g1 = [0  1  1  1  \n",
    "      1  0  1  1\n",
    "      1  1  0  1\n",
    "      1  1  1  0]"
   ]
  },
  {
   "cell_type": "code",
   "execution_count": null,
   "metadata": {},
   "outputs": [],
   "source": [
    "rg1 = @time random_walk(g1, 100, 10)"
   ]
  },
  {
   "cell_type": "code",
   "execution_count": null,
   "metadata": {},
   "outputs": [],
   "source": [
    "rg1[1]"
   ]
  },
  {
   "cell_type": "markdown",
   "metadata": {},
   "source": [
    "### 2 Clicas"
   ]
  },
  {
   "cell_type": "code",
   "execution_count": null,
   "metadata": {},
   "outputs": [],
   "source": [
    "g2 = [0  1  1  1  0  0  0  0  \n",
    "      1  0  1  1  0  0  0  0\n",
    "      1  1  0  1  0  0  0  0\n",
    "      1  1  1  0  0  0  0  0\n",
    "      0  0  0  0  0  1  1  1\n",
    "      0  0  0  0  1  0  1  1\n",
    "      0  0  0  0  1  1  0  1\n",
    "      0  0  0  0  1  1  1  0]"
   ]
  },
  {
   "cell_type": "code",
   "execution_count": null,
   "metadata": {},
   "outputs": [],
   "source": [
    "rg2 = @time random_walk(g2, 100, 10)"
   ]
  },
  {
   "cell_type": "code",
   "execution_count": null,
   "metadata": {},
   "outputs": [],
   "source": [
    "rg2[7]"
   ]
  },
  {
   "cell_type": "markdown",
   "metadata": {},
   "source": [
    "### Grafo dirigido"
   ]
  },
  {
   "cell_type": "code",
   "execution_count": null,
   "metadata": {},
   "outputs": [],
   "source": [
    "gd = [0  1  1  1  \n",
    "      0  0  1  1\n",
    "      0  1  0  0\n",
    "      0  0  0  0]"
   ]
  },
  {
   "cell_type": "code",
   "execution_count": null,
   "metadata": {},
   "outputs": [],
   "source": [
    "rgd = @time random_walk(gd, 100, 10)"
   ]
  },
  {
   "cell_type": "code",
   "execution_count": null,
   "metadata": {},
   "outputs": [],
   "source": [
    "rgd[1]"
   ]
  },
  {
   "cell_type": "code",
   "execution_count": null,
   "metadata": {},
   "outputs": [],
   "source": [
    "rgd[2]"
   ]
  },
  {
   "cell_type": "code",
   "execution_count": null,
   "metadata": {},
   "outputs": [],
   "source": [
    "rgd[3]"
   ]
  },
  {
   "cell_type": "code",
   "execution_count": null,
   "metadata": {},
   "outputs": [],
   "source": [
    "rgd[4]"
   ]
  },
  {
   "cell_type": "code",
   "execution_count": null,
   "metadata": {},
   "outputs": [],
   "source": [
    "in_degree(gd)"
   ]
  },
  {
   "cell_type": "code",
   "execution_count": null,
   "metadata": {},
   "outputs": [],
   "source": []
  },
  {
   "cell_type": "code",
   "execution_count": null,
   "metadata": {},
   "outputs": [],
   "source": []
  },
  {
   "cell_type": "code",
   "execution_count": null,
   "metadata": {},
   "outputs": [],
   "source": [
    "uhu = random_walk_f(c, 3, 2)"
   ]
  },
  {
   "cell_type": "code",
   "execution_count": null,
   "metadata": {},
   "outputs": [],
   "source": [
    "uhu[1]"
   ]
  },
  {
   "cell_type": "code",
   "execution_count": null,
   "metadata": {
    "scrolled": true
   },
   "outputs": [],
   "source": [
    "#Ejemplo grande\n",
    "eg = random_walk_f(c, 1000, 1000)"
   ]
  },
  {
   "cell_type": "code",
   "execution_count": null,
   "metadata": {},
   "outputs": [],
   "source": [
    "eg[3]"
   ]
  },
  {
   "cell_type": "code",
   "execution_count": null,
   "metadata": {
    "scrolled": true
   },
   "outputs": [],
   "source": [
    "CSV.read(\"data/matriz_multi_uw.csv\"; header = true, datacol = 2, types=Dict(\"col1\"=>String))"
   ]
  },
  {
   "cell_type": "code",
   "execution_count": null,
   "metadata": {},
   "outputs": [],
   "source": [
    "CSV.validate(\"data/matriz_multi_uw.csv\"; header = true)"
   ]
  },
  {
   "cell_type": "code",
   "execution_count": null,
   "metadata": {},
   "outputs": [],
   "source": [
    "#Por lo pronto probamos con este\n",
    "\n",
    "random_walk_f(mmulti, 150, 1000)"
   ]
  },
  {
   "cell_type": "code",
   "execution_count": null,
   "metadata": {},
   "outputs": [],
   "source": [
    "mmulti[7, :][594]"
   ]
  },
  {
   "cell_type": "code",
   "execution_count": null,
   "metadata": {},
   "outputs": [],
   "source": [
    "#Checamos si encuentra los vecinos correctamente\n",
    "findall(x -> x != 0, mmulti[1899, :])"
   ]
  },
  {
   "cell_type": "code",
   "execution_count": null,
   "metadata": {},
   "outputs": [],
   "source": [
    "findall(x -> x != 0, mmulti[1000, :]) == []"
   ]
  },
  {
   "cell_type": "code",
   "execution_count": null,
   "metadata": {},
   "outputs": [],
   "source": [
    "size(mmulti, 1)"
   ]
  },
  {
   "cell_type": "code",
   "execution_count": null,
   "metadata": {},
   "outputs": [],
   "source": [
    "#Por lo pronto probamos con este\n",
    "\n",
    "\n",
    "random_walk_f(mmulti, 10, 2)"
   ]
  },
  {
   "cell_type": "code",
   "execution_count": null,
   "metadata": {},
   "outputs": [],
   "source": [
    "#Matriz fea\n",
    "d = [0  1  0\n",
    "     1  0  1\n",
    "     0  0  0]  "
   ]
  },
  {
   "cell_type": "code",
   "execution_count": null,
   "metadata": {},
   "outputs": [],
   "source": [
    "d"
   ]
  },
  {
   "cell_type": "code",
   "execution_count": null,
   "metadata": {},
   "outputs": [],
   "source": [
    "random_walk_modif(d, 2, 5, 4)"
   ]
  },
  {
   "cell_type": "code",
   "execution_count": null,
   "metadata": {},
   "outputs": [],
   "source": [
    "    rw = []\n",
    "    #nodos = size(M, 1)\n",
    "    for f in 1:size(mmulti, 1) #aeropuertos\n",
    "        p = random_walk_modif(mmulti, f, 3, 3)\n",
    "        push!(rw, p)\n",
    "    end\n",
    "    rw"
   ]
  },
  {
   "cell_type": "code",
   "execution_count": null,
   "metadata": {},
   "outputs": [],
   "source": [
    "rw[2000]"
   ]
  },
  {
   "cell_type": "code",
   "execution_count": null,
   "metadata": {},
   "outputs": [],
   "source": [
    "random_walk_f(mmulti, 5, 2)"
   ]
  },
  {
   "cell_type": "code",
   "execution_count": null,
   "metadata": {},
   "outputs": [],
   "source": [
    "readdlm(\"data/matriz_multi_uw.csv\", ',', header = true)"
   ]
  },
  {
   "cell_type": "code",
   "execution_count": null,
   "metadata": {},
   "outputs": [],
   "source": [
    "?readdlm;"
   ]
  },
  {
   "cell_type": "code",
   "execution_count": null,
   "metadata": {},
   "outputs": [],
   "source": [
    "?NamedArrays.setnames!"
   ]
  },
  {
   "cell_type": "code",
   "execution_count": null,
   "metadata": {},
   "outputs": [],
   "source": [
    "colu = [\"a\", \"b\", \"c\"]\n",
    "reng = [\"hola\", \"hi\", \"hey\"]"
   ]
  },
  {
   "cell_type": "code",
   "execution_count": null,
   "metadata": {},
   "outputs": [],
   "source": [
    "xx = NamedArray(c, [\"hola\", \"hi\", \"hey\"])"
   ]
  },
  {
   "cell_type": "code",
   "execution_count": null,
   "metadata": {},
   "outputs": [],
   "source": [
    "setnames!(a::NamedArray, names::Vector, dim::Int)\n",
    "\n",
    "# NamedArray{T,N}(a::Array{T,N}, names::NTuple{N,Vector}, dimnames::NTuple{N})\n",
    "x = NamedArray(Int[1 3; 2 4], ( [\"A\",\"B\"], [\"C\",\"D\"] ), (\"ROWS\",\"COLS\"))\n",
    "\n",
    "n = NamedArray(rand(2,4))\n",
    "setnames!(n, [\"one\", \"two\"], 1)         # give the names \"one\" and \"two\" to the rows (dimension 1)"
   ]
  },
  {
   "cell_type": "code",
   "execution_count": null,
   "metadata": {},
   "outputs": [],
   "source": [
    "function random_walkM3(M, steps, iter)\n",
    "    nodos = size(M, 1) #aeropuertos\n",
    "    @show nodos\n",
    "    paths = zeros(Int64, (nodos*iter, steps)) \n",
    "    @show paths\n",
    "    for s in 1:nodos #Toma como nodo de inicio todos los aeropuertos \n",
    "        @show s\n",
    "        m = s\n",
    "        @show m\n",
    "        for i = 1:iter\n",
    "            @show i\n",
    "            for p in 1:steps \n",
    "                @show p\n",
    "                row = M[m, :] #Renglón correspondiente al nodo s\n",
    "                vecinos = findall(x -> x != 0, row)\n",
    "                @show vecinos\n",
    "                a = sample(vecinos)\n",
    "                @show a\n",
    "                paths[i, p] = a\n",
    "                @show paths\n",
    "                m = a\n",
    "                @show m\n",
    "            end\n",
    "            m = s\n",
    "            @show m\n",
    "        end\n",
    "    end\n",
    "    paths\n",
    "end"
   ]
  },
  {
   "cell_type": "code",
   "execution_count": null,
   "metadata": {},
   "outputs": [],
   "source": [
    "function random_walk(M, steps)\n",
    "    nodos = size(M, 1)\n",
    "    paths = zeros(steps)\n",
    "    for s in 1:nodos\n",
    "        row = M[s, :]\n",
    "        n_vecinos = sum(row)\n",
    "        proba = 1/n_vecinos\n",
    "        proba1 = 1/(n_vecinos - 1)\n",
    "        p = rand()\n",
    "        for i in 1:n_vecinos\n",
    "            if proba< p <\n",
    "        if 0 proba1 < x < proba\n",
    "            \n",
    "            elseif proba < x < 2*proba\n",
    "                \n",
    "            else 0.9 < x\n",
    "                \n",
    "        end\n",
    "    end\n",
    "    paths\n",
    "end"
   ]
  },
  {
   "cell_type": "code",
   "execution_count": null,
   "metadata": {},
   "outputs": [],
   "source": [
    "# Matriz de adyacencia del multiplex\n",
    "\n",
    "function multiplex(lista)\n",
    "    matriz = Array{Int, 2}() # Creo una matriz vacía para el multiplex\n",
    "    for i in 1:length(lista)\n",
    "        for j in 1:length(lista)\n",
    "            if lista[i][j] == 0\n",
    "                matriz[j] = 0\n",
    "            else\n",
    "                matriz[j] = 1\n",
    "            end\n",
    "        end\n",
    "    end\n",
    "    matriz\n",
    "end"
   ]
  },
  {
   "cell_type": "code",
   "execution_count": null,
   "metadata": {},
   "outputs": [],
   "source": [
    "function random_walk1d(n)\n",
    "    paths = zeros(n+1)\n",
    "    lugar = 0\n",
    "    for s in 1:n\n",
    "        if rand() <= 1/2\n",
    "            lugar -= 1\n",
    "            @show lugar\n",
    "            paths[s+1] = lugar\n",
    "        else\n",
    "            lugar += 1\n",
    "            @show lugar\n",
    "            paths[s+1] = lugar\n",
    "        end\n",
    "    end\n",
    "    paths\n",
    "end"
   ]
  },
  {
   "cell_type": "code",
   "execution_count": null,
   "metadata": {},
   "outputs": [],
   "source": [
    "function random_walk1d(n) #Función de caminante aleatorio en 1 dim.\n",
    "    paths = zeros(n+1)\n",
    "    lugar = 0\n",
    "    for s in 1:n\n",
    "        if rand() <= 1/2\n",
    "            lugar -= 1\n",
    "            @show lugar\n",
    "            paths[s+1] = lugar\n",
    "        else\n",
    "            lugar += 1\n",
    "            @show lugar\n",
    "            paths[s+1] = lugar\n",
    "        end\n",
    "    end\n",
    "    paths\n",
    "end"
   ]
  },
  {
   "cell_type": "code",
   "execution_count": null,
   "metadata": {},
   "outputs": [],
   "source": [
    "function random_walkM(M, steps) #, iter)\n",
    "    nodos = size(M, 1) #aeropuertos\n",
    "    path = zeros(steps) \n",
    "    for i = 1 #for s in 1:nodos #Toma como nodo de inicio todos los aeropuertos  \n",
    "        @show i\n",
    "        for p in 1:steps \n",
    "            @show p\n",
    "            row = M[i, :] #Renglón correspondiente al nodo s\n",
    "            vecinos = findall(x -> x != 0, row)\n",
    "            @show vecinos\n",
    "            a = sample(vecinos)\n",
    "            @show a\n",
    "            path[p] = a\n",
    "            i = a\n",
    "        end\n",
    "    end\n",
    "    path\n",
    "end"
   ]
  },
  {
   "cell_type": "code",
   "execution_count": null,
   "metadata": {},
   "outputs": [],
   "source": [
    "function random_walkM2(M, steps, iter)\n",
    "    nodos = size(M, 1) #aeropuertos\n",
    "    paths = zeros(Int64, (iter, steps)) \n",
    "    for s = 1 #nodo inicial\n",
    "        @show s\n",
    "        for i in 1:iter #Toma como nodo de inicio todos los aeropuertos  \n",
    "            @show i\n",
    "            for p in 1:steps \n",
    "                #@show p\n",
    "                row = M[s, :] #Renglón correspondiente al nodo s\n",
    "                vecinos = findall(x -> x != 0, row)\n",
    "                @show vecinos\n",
    "                a = sample(vecinos)\n",
    "                @show a\n",
    "                paths[i, p] = a\n",
    "                s = a\n",
    "            end\n",
    "            s = 1\n",
    "            @show paths\n",
    "        end\n",
    "    end\n",
    "    return paths\n",
    "end"
   ]
  },
  {
   "cell_type": "code",
   "execution_count": null,
   "metadata": {},
   "outputs": [],
   "source": [
    "#Función \n",
    "function random_walk2(M, f, steps, iter)\n",
    "    nodos = size(M, 1) #aeropuertos\n",
    "    paths = zeros(Int64, (iter, steps)) \n",
    "    s = f\n",
    "    for i in 1:iter #Toma como nodo de inicio todos los aeropuertos  \n",
    "        for p in 1:steps \n",
    "            row = M[s, :] #Renglón correspondiente al nodo s\n",
    "            vecinos = findall(x -> x != 0, row)\n",
    "            a = sample(vecinos)\n",
    "            paths[i, p] = a\n",
    "            s = a\n",
    "        end\n",
    "        s = f\n",
    "    end\n",
    "    return paths \n",
    "end"
   ]
  },
  {
   "cell_type": "code",
   "execution_count": null,
   "metadata": {},
   "outputs": [],
   "source": [
    "#Eg. función\n",
    "#b = random_walk2(c, 1, 50, 100)\n",
    "k = random_walk2(c, 1, 10, 10)"
   ]
  }
 ],
 "metadata": {
  "kernelspec": {
   "display_name": "Julia 1.1.0",
   "language": "julia",
   "name": "julia-1.1"
  },
  "language_info": {
   "file_extension": ".jl",
   "mimetype": "application/julia",
   "name": "julia",
   "version": "1.1.0"
  }
 },
 "nbformat": 4,
 "nbformat_minor": 2
}
